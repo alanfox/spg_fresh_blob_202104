{
 "cells": [
  {
   "cell_type": "markdown",
   "id": "wooden-bearing",
   "metadata": {
    "papermill": {
     "duration": 0.019717,
     "end_time": "2021-05-02T07:28:21.366483",
     "exception": false,
     "start_time": "2021-05-02T07:28:21.346766",
     "status": "completed"
    },
    "tags": []
   },
   "source": [
    "# Parcels Experiment:<br><br>Expanding the polyline code to release particles at density based on local velocity normal to section.\n",
    "\n",
    "_(Based on an experiment originally designed by Christina Schmidt.)_\n",
    "\n",
    "_(Runs on GEOMAR Jupyter Server at https://schulung3.geomar.de/user/workshop007/lab)_"
   ]
  },
  {
   "cell_type": "markdown",
   "id": "grave-dealing",
   "metadata": {
    "papermill": {
     "duration": 0.018379,
     "end_time": "2021-05-02T07:28:21.403411",
     "exception": false,
     "start_time": "2021-05-02T07:28:21.385032",
     "status": "completed"
    },
    "tags": []
   },
   "source": [
    "## To do\n",
    "\n",
    "- Check/ask how OceanParcels deals with partial cells, if it does.\n",
    "    - It doesn't. Does it matter?"
   ]
  },
  {
   "cell_type": "markdown",
   "id": "attractive-secondary",
   "metadata": {
    "papermill": {
     "duration": 0.020729,
     "end_time": "2021-05-02T07:28:21.442807",
     "exception": false,
     "start_time": "2021-05-02T07:28:21.422078",
     "status": "completed"
    },
    "tags": []
   },
   "source": [
    "## Technical preamble"
   ]
  },
  {
   "cell_type": "code",
   "execution_count": 1,
   "id": "abroad-bulletin",
   "metadata": {
    "execution": {
     "iopub.execute_input": "2021-05-02T07:28:21.492926Z",
     "iopub.status.busy": "2021-05-02T07:28:21.492574Z",
     "iopub.status.idle": "2021-05-02T07:28:24.217385Z",
     "shell.execute_reply": "2021-05-02T07:28:24.217947Z"
    },
    "papermill": {
     "duration": 2.756487,
     "end_time": "2021-05-02T07:28:24.218160",
     "exception": false,
     "start_time": "2021-05-02T07:28:21.461673",
     "status": "completed"
    },
    "tags": []
   },
   "outputs": [
    {
     "name": "stderr",
     "output_type": "stream",
     "text": [
      "INFO: Compiled ParcelsRandom ==> /tmp/parcels-62665/libparcels_random_1a8c6854-7a70-45c9-ba4f-151ad1a9e24a.so\n"
     ]
    }
   ],
   "source": [
    "%matplotlib inline\n",
    "\n",
    "from parcels import (\n",
    "    AdvectionRK4_3D,\n",
    "    ErrorCode,\n",
    "    FieldSet,\n",
    "    JITParticle,\n",
    "    ParticleSet,\n",
    "    Variable\n",
    ")\n",
    "\n",
    "# from operator import attrgetter\n",
    "from datetime import datetime, timedelta\n",
    "import numpy as np\n",
    "from pathlib import Path\n",
    "import matplotlib.pyplot as plt\n",
    "import cmocean as co\n",
    "import pandas as pd\n",
    "import xarray as xr\n",
    "# import dask as dask\n"
   ]
  },
  {
   "cell_type": "markdown",
   "id": "manufactured-savage",
   "metadata": {
    "papermill": {
     "duration": 0.018177,
     "end_time": "2021-05-02T07:28:24.256182",
     "exception": false,
     "start_time": "2021-05-02T07:28:24.238005",
     "status": "completed"
    },
    "tags": []
   },
   "source": [
    "## Experiment settings (user input)"
   ]
  },
  {
   "cell_type": "markdown",
   "id": "included-arlington",
   "metadata": {
    "papermill": {
     "duration": 0.01882,
     "end_time": "2021-05-02T07:28:24.293708",
     "exception": false,
     "start_time": "2021-05-02T07:28:24.274888",
     "status": "completed"
    },
    "tags": []
   },
   "source": [
    "### Parameters\n",
    "These can be set in papermill"
   ]
  },
  {
   "cell_type": "code",
   "execution_count": 2,
   "id": "preliminary-syndrome",
   "metadata": {
    "execution": {
     "iopub.execute_input": "2021-05-02T07:28:24.336035Z",
     "iopub.status.busy": "2021-05-02T07:28:24.335604Z",
     "iopub.status.idle": "2021-05-02T07:28:24.336616Z",
     "shell.execute_reply": "2021-05-02T07:28:24.336335Z"
    },
    "papermill": {
     "duration": 0.02429,
     "end_time": "2021-05-02T07:28:24.336691",
     "exception": false,
     "start_time": "2021-05-02T07:28:24.312401",
     "status": "completed"
    },
    "tags": [
     "parameters"
    ]
   },
   "outputs": [],
   "source": [
    "# OSNAP multiline details\n",
    "sectionPathname = '../data/external/'\n",
    "sectionFilename = 'osnap_pos_wp.txt'\n",
    "sectionname = 'osnap'\n",
    "# location of input data\n",
    "path_name = '/data/iAtlantic/ocean-only/VIKING20X.L46-KKG36107B/nemo/output/'\n",
    "experiment_name = 'VIKING20X.L46-KKG36107B' \n",
    "data_resolution = '1m'\n",
    "w_name_extension = '_repaire_depthw_time'\n",
    "\n",
    "# location of mask data\n",
    "mask_path_name = '/data/iAtlantic/ocean-only/VIKING20X.L46-KKG36107B/nemo/suppl/'\n",
    "mesh_mask_filename = '1_mesh_mask.nc_notime_depthw'\n",
    "# location of output data\n",
    "outpath_name = '../data/raw/'\n",
    "\n",
    "year_prefix = 201  # this does from 2000 onwards\n",
    "\n",
    "# set line segment to use\n",
    "start_vertex = 4\n",
    "end_vertex = 12\n",
    "\n",
    "# experiment duration etc\n",
    "runtime_in_days = 10\n",
    "dt_in_minutes = -10\n",
    "# repeatdt = timedelta(days=3)\n",
    "\n",
    "# number of particles to track\n",
    "create_number_particles = 200000  # many will not be ocean points\n",
    "use_number_particles = 200000\n",
    "\n",
    "min_release_depth = 0\n",
    "max_release_depth = 1_000  \n",
    "\n",
    "# max current speed for particle selection\n",
    "max_current = 1.0\n",
    "\n",
    "# set base release date and time\n",
    "t_0_str = '2010-01-16T12:00:00'\n",
    "t_start_str = '2016-01-16T12:00:00'\n",
    "\n",
    "# particle positions are stored every x hours \n",
    "outputdt_in_hours = 120\n",
    "\n",
    "# select subdomain (to decrease needed resources) comment out to use whole domain\n",
    "# sd_i1, sd_i2 = 0, 2404  # western/eastern limit (indices not coordinates)\n",
    "# sd_j1, sd_j2 = 1200, 2499  # southern/northern limit (indices not coordinates)\n",
    "# sd_z1, sd_z2 = 0, 46\n",
    "\n",
    "# how to initialize the random number generator\n",
    "# --> is set in next cell\n",
    "# RNG_seed = 123\n",
    "\n",
    "use_dask_chunks = True"
   ]
  },
  {
   "cell_type": "code",
   "execution_count": 3,
   "id": "psychological-pillow",
   "metadata": {
    "execution": {
     "iopub.execute_input": "2021-05-02T07:28:24.376364Z",
     "iopub.status.busy": "2021-05-02T07:28:24.375292Z",
     "iopub.status.idle": "2021-05-02T07:28:24.376720Z",
     "shell.execute_reply": "2021-05-02T07:28:24.376953Z"
    },
    "papermill": {
     "duration": 0.022043,
     "end_time": "2021-05-02T07:28:24.377039",
     "exception": false,
     "start_time": "2021-05-02T07:28:24.354996",
     "status": "completed"
    },
    "tags": [
     "injected-parameters"
    ]
   },
   "outputs": [],
   "source": [
    "# Parameters\n",
    "path_name = \"/gxfs_work1/geomar/smomw355/model_data/ocean-only/VIKING20X.L46-KKG36107B/nemo/output/\"\n",
    "data_resolution = \"5d\"\n",
    "w_name_extension = \"\"\n",
    "mask_path_name = \"/gxfs_work1/geomar/smomw355/model_data/ocean-only/VIKING20X.L46-KKG36107B/nemo/suppl/\"\n",
    "mesh_mask_filename = \"1_mesh_mask.nc\"\n",
    "year_prefix = \"\"\n",
    "runtime_in_days = 3650\n",
    "create_number_particles = 4000000\n",
    "use_number_particles = 4000000\n",
    "max_release_depth = 1000\n",
    "max_current = 2.0\n",
    "t_0_str = \"1980-01-03T12:00:00\"\n",
    "t_start_str = \"2019-05-28T12:00:00\"\n",
    "use_dask_chunks = False\n"
   ]
  },
  {
   "cell_type": "markdown",
   "id": "defensive-honduras",
   "metadata": {
    "papermill": {
     "duration": 0.018233,
     "end_time": "2021-05-02T07:28:24.413350",
     "exception": false,
     "start_time": "2021-05-02T07:28:24.395117",
     "status": "completed"
    },
    "tags": []
   },
   "source": [
    "### Derived variables"
   ]
  },
  {
   "cell_type": "code",
   "execution_count": 4,
   "id": "marked-dancing",
   "metadata": {
    "execution": {
     "iopub.execute_input": "2021-05-02T07:28:24.456514Z",
     "iopub.status.busy": "2021-05-02T07:28:24.455415Z",
     "iopub.status.idle": "2021-05-02T07:28:24.458134Z",
     "shell.execute_reply": "2021-05-02T07:28:24.456836Z"
    },
    "papermill": {
     "duration": 0.026758,
     "end_time": "2021-05-02T07:28:24.458208",
     "exception": false,
     "start_time": "2021-05-02T07:28:24.431450",
     "status": "completed"
    },
    "tags": []
   },
   "outputs": [
    {
     "data": {
      "text/plain": [
       "datetime.datetime(1980, 1, 3, 12, 0)"
      ]
     },
     "metadata": {},
     "output_type": "display_data"
    },
    {
     "data": {
      "text/plain": [
       "datetime.datetime(2019, 5, 28, 12, 0)"
      ]
     },
     "metadata": {},
     "output_type": "display_data"
    }
   ],
   "source": [
    "# times\n",
    "t_0 = datetime.fromisoformat(t_0_str)  # using monthly mean fields. Check dates.\n",
    "t_start = datetime.fromisoformat(t_start_str)\n",
    "# RNG seed based on release day (days since 1980-01-03)\n",
    "RNG_seed = int((t_start - t_0).total_seconds() / (60*60*24))\n",
    "\n",
    "# names of files to load \n",
    "fname_U = f'1_{experiment_name}_{data_resolution}_{year_prefix}*_grid_U.nc'  \n",
    "fname_V = f'1_{experiment_name}_{data_resolution}_{year_prefix}*_grid_V.nc'\n",
    "fname_T = f'1_{experiment_name}_{data_resolution}_{year_prefix}*_grid_T.nc'\n",
    "fname_W = f'1_{experiment_name}_{data_resolution}_{year_prefix}*_grid_W.nc{w_name_extension}'\n",
    "\n",
    "sectionPath = Path(sectionPathname)\n",
    "\n",
    "data_path = Path(path_name)\n",
    "\n",
    "mask_path = Path(mask_path_name)\n",
    "\n",
    "outpath = Path(outpath_name)\n",
    "\n",
    "display(t_0)\n",
    "display(t_start)"
   ]
  },
  {
   "cell_type": "code",
   "execution_count": 5,
   "id": "conservative-minneapolis",
   "metadata": {
    "execution": {
     "iopub.execute_input": "2021-05-02T07:28:24.499529Z",
     "iopub.status.busy": "2021-05-02T07:28:24.498493Z",
     "iopub.status.idle": "2021-05-02T07:28:24.499875Z",
     "shell.execute_reply": "2021-05-02T07:28:24.500108Z"
    },
    "papermill": {
     "duration": 0.02309,
     "end_time": "2021-05-02T07:28:24.500192",
     "exception": false,
     "start_time": "2021-05-02T07:28:24.477102",
     "status": "completed"
    },
    "tags": []
   },
   "outputs": [],
   "source": [
    "if dt_in_minutes > 0:\n",
    "    direction = '_forwards_'\n",
    "else:\n",
    "    direction = '_backward_'\n",
    "\n",
    "year_str = str(t_start.year)\n",
    "month_str = str(t_start.month).zfill(2)\n",
    "day_str = str(t_start.day).zfill(2)\n",
    "days = str(runtime_in_days)\n",
    "seed = str(RNG_seed)\n",
    "npart= str(use_number_particles)\n",
    "\n"
   ]
  },
  {
   "cell_type": "code",
   "execution_count": 6,
   "id": "employed-supervision",
   "metadata": {
    "execution": {
     "iopub.execute_input": "2021-05-02T07:28:24.540756Z",
     "iopub.status.busy": "2021-05-02T07:28:24.539679Z",
     "iopub.status.idle": "2021-05-02T07:28:24.541306Z",
     "shell.execute_reply": "2021-05-02T07:28:24.541062Z"
    },
    "papermill": {
     "duration": 0.022617,
     "end_time": "2021-05-02T07:28:24.541380",
     "exception": false,
     "start_time": "2021-05-02T07:28:24.518763",
     "status": "completed"
    },
    "tags": []
   },
   "outputs": [],
   "source": [
    "degree2km = 1.852*60.0\n"
   ]
  },
  {
   "cell_type": "markdown",
   "id": "communist-brighton",
   "metadata": {
    "papermill": {
     "duration": 0.017824,
     "end_time": "2021-05-02T07:28:24.577676",
     "exception": false,
     "start_time": "2021-05-02T07:28:24.559852",
     "status": "completed"
    },
    "tags": []
   },
   "source": [
    "## Construct input / output paths etc."
   ]
  },
  {
   "cell_type": "code",
   "execution_count": 7,
   "id": "coral-officer",
   "metadata": {
    "execution": {
     "iopub.execute_input": "2021-05-02T07:28:24.616847Z",
     "iopub.status.busy": "2021-05-02T07:28:24.615866Z",
     "iopub.status.idle": "2021-05-02T07:28:24.617188Z",
     "shell.execute_reply": "2021-05-02T07:28:24.617458Z"
    },
    "papermill": {
     "duration": 0.021608,
     "end_time": "2021-05-02T07:28:24.617541",
     "exception": false,
     "start_time": "2021-05-02T07:28:24.595933",
     "status": "completed"
    },
    "tags": []
   },
   "outputs": [],
   "source": [
    "mesh_mask = mask_path / mesh_mask_filename\n"
   ]
  },
  {
   "cell_type": "markdown",
   "id": "ordered-character",
   "metadata": {
    "papermill": {
     "duration": 0.018194,
     "end_time": "2021-05-02T07:28:24.653557",
     "exception": false,
     "start_time": "2021-05-02T07:28:24.635363",
     "status": "completed"
    },
    "tags": []
   },
   "source": [
    "## Load input datasets"
   ]
  },
  {
   "cell_type": "code",
   "execution_count": 8,
   "id": "indirect-regulation",
   "metadata": {
    "execution": {
     "iopub.execute_input": "2021-05-02T07:28:24.699388Z",
     "iopub.status.busy": "2021-05-02T07:28:24.698318Z",
     "iopub.status.idle": "2021-05-02T07:28:24.699944Z",
     "shell.execute_reply": "2021-05-02T07:28:24.699699Z"
    },
    "papermill": {
     "duration": 0.028596,
     "end_time": "2021-05-02T07:28:24.700015",
     "exception": false,
     "start_time": "2021-05-02T07:28:24.671419",
     "status": "completed"
    },
    "tags": []
   },
   "outputs": [],
   "source": [
    "def fieldset_defintions(\n",
    "    list_of_filenames_U, list_of_filenames_V,\n",
    "    list_of_filenames_W, list_of_filenames_T,\n",
    "    mesh_mask\n",
    "):\n",
    "    ds_mask = xr.open_dataset(mesh_mask)\n",
    "    \n",
    "    filenames = {'U': {'lon': (mesh_mask),\n",
    "                       'lat': (mesh_mask),\n",
    "                       'depth': list_of_filenames_W[0],\n",
    "                       'data': list_of_filenames_U},\n",
    "                 'V': {'lon': (mesh_mask),\n",
    "                       'lat': (mesh_mask),\n",
    "                       'depth': list_of_filenames_W[0],\n",
    "                       'data': list_of_filenames_V},\n",
    "                 'W': {'lon': (mesh_mask),\n",
    "                       'lat': (mesh_mask),\n",
    "                       'depth': list_of_filenames_W[0],\n",
    "                       'data': list_of_filenames_W},\n",
    "                 'T': {'lon': (mesh_mask),\n",
    "                       'lat': (mesh_mask),\n",
    "                       'depth': list_of_filenames_W[0],\n",
    "                       'data': list_of_filenames_T},\n",
    "                 'S': {'lon': (mesh_mask),\n",
    "                       'lat': (mesh_mask),\n",
    "                       'depth': list_of_filenames_W[0],\n",
    "                       'data': list_of_filenames_T},\n",
    "                 'MXL': {'lon': (mesh_mask),\n",
    "                       'lat': (mesh_mask),\n",
    "                       'data': list_of_filenames_T}\n",
    "                }\n",
    "    \n",
    "    variables = {'U': 'vozocrtx',\n",
    "                 'V': 'vomecrty',\n",
    "                 'W': 'vovecrtz',\n",
    "                 'T': 'votemper',\n",
    "                 'S': 'vosaline',\n",
    "                 'MXL':'somxl010'\n",
    "                }\n",
    "        \n",
    "    dimensions = {'U': {'lon': 'glamf', 'lat': 'gphif', 'depth': 'depthw',\n",
    "                        'time': 'time_counter'},  # needs to be on f-nodes\n",
    "                  'V': {'lon': 'glamf', 'lat': 'gphif', 'depth': 'depthw',\n",
    "                        'time': 'time_counter'},  # needs to be on f-nodes\n",
    "                  'W': {'lon': 'glamf', 'lat': 'gphif', 'depth': 'depthw',\n",
    "                        'time': 'time_counter'},  # needs to be on f-nodes\n",
    "                  'T': {'lon': 'glamf', 'lat': 'gphif', 'depth': 'depthw',\n",
    "                        'time': 'time_counter'},  # needs to be on t-nodes\n",
    "                  'S': {'lon': 'glamf', 'lat': 'gphif', 'depth': 'depthw',\n",
    "                        'time': 'time_counter'},  # needs to be on t-nodes\n",
    "                  'MXL': {'lon': 'glamf', 'lat': 'gphif',\n",
    "                        'time': 'time_counter'},  # needs to be on t-nodes\n",
    "                 }\n",
    "    \n",
    "    # exclude the two grid cells at the edges of the nest as they contain 0\n",
    "    # and everything south of 20N\n",
    "    indices = {'lon': range(2, ds_mask.x.size-2), 'lat': range(1132, ds_mask.y.size-2)}\n",
    "    \n",
    "#     indices = {\n",
    "#         'U': {'depth': range(sd_z1, sd_z2), 'lon': range(sd_i1, sd_i2), 'lat': range(sd_j1, sd_j2)},\n",
    "#         'V': {'depth': range(sd_z1, sd_z2), 'lon': range(sd_i1, sd_i2), 'lat': range(sd_j1, sd_j2)},\n",
    "#         'W': {'depth': range(sd_z1, sd_z2), 'lon': range(sd_i1, sd_i2), 'lat':range(sd_j1, sd_j2)},\n",
    "#         'T': {'depth': range(sd_z1, sd_z2), 'lon': range(sd_i1, sd_i2), 'lat':range(sd_j1, sd_j2)},\n",
    "#         'S': {'depth': range(sd_z1, sd_z2), 'lon': range(sd_i1, sd_i2), 'lat':range(sd_j1, sd_j2)}\n",
    "#     }    \n",
    "    \n",
    "    if use_dask_chunks:\n",
    "        field_chunksizes = {'U': {'lon':('x', 1024), 'lat':('y',128), 'depth': ('depthw', 64),\n",
    "                            'time': ('time_counter',3)},  # needs to be on f-nodes\n",
    "                      'V': {'lon':('x', 1024), 'lat':('y',128), 'depth': ('depthw', 64),\n",
    "                            'time': ('time_counter',3)},  # needs to be on f-nodes\n",
    "                      'W': {'lon':('x', 1024), 'lat':('y',128), 'depth': ('depthw', 64),\n",
    "                            'time': ('time_counter',3)},  # needs to be on f-nodes\n",
    "                      'T': {'lon':('x', 1024), 'lat':('y',128), 'depth': ('depthw', 64),\n",
    "                            'time': ('time_counter',3)},  # needs to be on t-nodes\n",
    "                      'S': {'lon':('x', 1024), 'lat':('y',128), 'depth': ('depthw', 64),\n",
    "                            'time': ('time_counter',3)},  # needs to be on t-nodes\n",
    "                      'MXL': {'lon':('x', 1024), 'lat':('y',128),\n",
    "                            'time': ('time_counter',3)},  # needs to be on t-nodes\n",
    "                     }\n",
    "    else:\n",
    "        field_chunksizes = None\n",
    "\n",
    "    return FieldSet.from_nemo(\n",
    "        filenames, variables, dimensions, \n",
    "        indices=indices,\n",
    "        chunksize=field_chunksizes,  # = None for no chunking\n",
    "        mesh='spherical',\n",
    "        tracer_interp_method='cgrid_tracer'\n",
    "#         ,time_periodic=time_loop_period\n",
    "#         ,allow_time_extrapolation=True\n",
    "    )"
   ]
  },
  {
   "cell_type": "code",
   "execution_count": 9,
   "id": "overall-hostel",
   "metadata": {
    "execution": {
     "iopub.execute_input": "2021-05-02T07:28:24.740890Z",
     "iopub.status.busy": "2021-05-02T07:28:24.739899Z",
     "iopub.status.idle": "2021-05-02T07:28:24.741230Z",
     "shell.execute_reply": "2021-05-02T07:28:24.741471Z"
    },
    "papermill": {
     "duration": 0.023297,
     "end_time": "2021-05-02T07:28:24.741553",
     "exception": false,
     "start_time": "2021-05-02T07:28:24.718256",
     "status": "completed"
    },
    "tags": []
   },
   "outputs": [],
   "source": [
    "def create_fieldset(\n",
    "    data_path=data_path, experiment_name=experiment_name,\n",
    "    fname_U=fname_U, fname_V=fname_V, fname_W=fname_W, fname_T=fname_T,\n",
    "    mesh_mask = mesh_mask\n",
    "):\n",
    "    \n",
    "    files_U = list(sorted((data_path).glob(fname_U)))\n",
    "    files_V = list(sorted((data_path).glob(fname_V)))\n",
    "    files_W = list(sorted((data_path).glob(fname_W)))\n",
    "    files_T = list(sorted((data_path).glob(fname_T)))\n",
    "    \n",
    "    print(files_U)\n",
    "    \n",
    "    fieldset = fieldset_defintions(\n",
    "        files_U, files_V,\n",
    "        files_W, files_T, mesh_mask)\n",
    "\n",
    "    return fieldset"
   ]
  },
  {
   "cell_type": "code",
   "execution_count": 10,
   "id": "induced-handling",
   "metadata": {
    "execution": {
     "iopub.execute_input": "2021-05-02T07:28:24.787999Z",
     "iopub.status.busy": "2021-05-02T07:28:24.787691Z",
     "iopub.status.idle": "2021-05-02T07:34:18.356137Z",
     "shell.execute_reply": "2021-05-02T07:34:18.356739Z"
    },
    "papermill": {
     "duration": 353.597264,
     "end_time": "2021-05-02T07:34:18.356863",
     "exception": false,
     "start_time": "2021-05-02T07:28:24.759599",
     "status": "completed"
    },
    "tags": []
   },
   "outputs": [
    {
     "name": "stdout",
     "output_type": "stream",
     "text": [
      "[PosixPath('/gxfs_work1/geomar/smomw355/model_data/ocean-only/VIKING20X.L46-KKG36107B/nemo/output/1_VIKING20X.L46-KKG36107B_5d_19800101_19801231_grid_U.nc'), PosixPath('/gxfs_work1/geomar/smomw355/model_data/ocean-only/VIKING20X.L46-KKG36107B/nemo/output/1_VIKING20X.L46-KKG36107B_5d_19810101_19811231_grid_U.nc'), PosixPath('/gxfs_work1/geomar/smomw355/model_data/ocean-only/VIKING20X.L46-KKG36107B/nemo/output/1_VIKING20X.L46-KKG36107B_5d_19820101_19821231_grid_U.nc'), PosixPath('/gxfs_work1/geomar/smomw355/model_data/ocean-only/VIKING20X.L46-KKG36107B/nemo/output/1_VIKING20X.L46-KKG36107B_5d_19830101_19831231_grid_U.nc'), PosixPath('/gxfs_work1/geomar/smomw355/model_data/ocean-only/VIKING20X.L46-KKG36107B/nemo/output/1_VIKING20X.L46-KKG36107B_5d_19840101_19841231_grid_U.nc'), PosixPath('/gxfs_work1/geomar/smomw355/model_data/ocean-only/VIKING20X.L46-KKG36107B/nemo/output/1_VIKING20X.L46-KKG36107B_5d_19850101_19851231_grid_U.nc'), PosixPath('/gxfs_work1/geomar/smomw355/model_data/ocean-only/VIKING20X.L46-KKG36107B/nemo/output/1_VIKING20X.L46-KKG36107B_5d_19860101_19861231_grid_U.nc'), PosixPath('/gxfs_work1/geomar/smomw355/model_data/ocean-only/VIKING20X.L46-KKG36107B/nemo/output/1_VIKING20X.L46-KKG36107B_5d_19870101_19871231_grid_U.nc'), PosixPath('/gxfs_work1/geomar/smomw355/model_data/ocean-only/VIKING20X.L46-KKG36107B/nemo/output/1_VIKING20X.L46-KKG36107B_5d_19880101_19881231_grid_U.nc'), PosixPath('/gxfs_work1/geomar/smomw355/model_data/ocean-only/VIKING20X.L46-KKG36107B/nemo/output/1_VIKING20X.L46-KKG36107B_5d_19890101_19891231_grid_U.nc'), PosixPath('/gxfs_work1/geomar/smomw355/model_data/ocean-only/VIKING20X.L46-KKG36107B/nemo/output/1_VIKING20X.L46-KKG36107B_5d_19900101_19901231_grid_U.nc'), PosixPath('/gxfs_work1/geomar/smomw355/model_data/ocean-only/VIKING20X.L46-KKG36107B/nemo/output/1_VIKING20X.L46-KKG36107B_5d_19910101_19911231_grid_U.nc'), PosixPath('/gxfs_work1/geomar/smomw355/model_data/ocean-only/VIKING20X.L46-KKG36107B/nemo/output/1_VIKING20X.L46-KKG36107B_5d_19920101_19921231_grid_U.nc'), PosixPath('/gxfs_work1/geomar/smomw355/model_data/ocean-only/VIKING20X.L46-KKG36107B/nemo/output/1_VIKING20X.L46-KKG36107B_5d_19930101_19931231_grid_U.nc'), PosixPath('/gxfs_work1/geomar/smomw355/model_data/ocean-only/VIKING20X.L46-KKG36107B/nemo/output/1_VIKING20X.L46-KKG36107B_5d_19940101_19941231_grid_U.nc'), PosixPath('/gxfs_work1/geomar/smomw355/model_data/ocean-only/VIKING20X.L46-KKG36107B/nemo/output/1_VIKING20X.L46-KKG36107B_5d_19950101_19951231_grid_U.nc'), PosixPath('/gxfs_work1/geomar/smomw355/model_data/ocean-only/VIKING20X.L46-KKG36107B/nemo/output/1_VIKING20X.L46-KKG36107B_5d_19960101_19961231_grid_U.nc'), PosixPath('/gxfs_work1/geomar/smomw355/model_data/ocean-only/VIKING20X.L46-KKG36107B/nemo/output/1_VIKING20X.L46-KKG36107B_5d_19970101_19971231_grid_U.nc'), PosixPath('/gxfs_work1/geomar/smomw355/model_data/ocean-only/VIKING20X.L46-KKG36107B/nemo/output/1_VIKING20X.L46-KKG36107B_5d_19980101_19981231_grid_U.nc'), PosixPath('/gxfs_work1/geomar/smomw355/model_data/ocean-only/VIKING20X.L46-KKG36107B/nemo/output/1_VIKING20X.L46-KKG36107B_5d_19990101_19991231_grid_U.nc'), PosixPath('/gxfs_work1/geomar/smomw355/model_data/ocean-only/VIKING20X.L46-KKG36107B/nemo/output/1_VIKING20X.L46-KKG36107B_5d_20000101_20001231_grid_U.nc'), PosixPath('/gxfs_work1/geomar/smomw355/model_data/ocean-only/VIKING20X.L46-KKG36107B/nemo/output/1_VIKING20X.L46-KKG36107B_5d_20010101_20011231_grid_U.nc'), PosixPath('/gxfs_work1/geomar/smomw355/model_data/ocean-only/VIKING20X.L46-KKG36107B/nemo/output/1_VIKING20X.L46-KKG36107B_5d_20020101_20021231_grid_U.nc'), PosixPath('/gxfs_work1/geomar/smomw355/model_data/ocean-only/VIKING20X.L46-KKG36107B/nemo/output/1_VIKING20X.L46-KKG36107B_5d_20030101_20031231_grid_U.nc'), PosixPath('/gxfs_work1/geomar/smomw355/model_data/ocean-only/VIKING20X.L46-KKG36107B/nemo/output/1_VIKING20X.L46-KKG36107B_5d_20040101_20041231_grid_U.nc'), PosixPath('/gxfs_work1/geomar/smomw355/model_data/ocean-only/VIKING20X.L46-KKG36107B/nemo/output/1_VIKING20X.L46-KKG36107B_5d_20050101_20051231_grid_U.nc'), PosixPath('/gxfs_work1/geomar/smomw355/model_data/ocean-only/VIKING20X.L46-KKG36107B/nemo/output/1_VIKING20X.L46-KKG36107B_5d_20060101_20061231_grid_U.nc'), PosixPath('/gxfs_work1/geomar/smomw355/model_data/ocean-only/VIKING20X.L46-KKG36107B/nemo/output/1_VIKING20X.L46-KKG36107B_5d_20070101_20071231_grid_U.nc'), PosixPath('/gxfs_work1/geomar/smomw355/model_data/ocean-only/VIKING20X.L46-KKG36107B/nemo/output/1_VIKING20X.L46-KKG36107B_5d_20080101_20081231_grid_U.nc'), PosixPath('/gxfs_work1/geomar/smomw355/model_data/ocean-only/VIKING20X.L46-KKG36107B/nemo/output/1_VIKING20X.L46-KKG36107B_5d_20090101_20091231_grid_U.nc'), PosixPath('/gxfs_work1/geomar/smomw355/model_data/ocean-only/VIKING20X.L46-KKG36107B/nemo/output/1_VIKING20X.L46-KKG36107B_5d_20100101_20101231_grid_U.nc'), PosixPath('/gxfs_work1/geomar/smomw355/model_data/ocean-only/VIKING20X.L46-KKG36107B/nemo/output/1_VIKING20X.L46-KKG36107B_5d_20110101_20111231_grid_U.nc'), PosixPath('/gxfs_work1/geomar/smomw355/model_data/ocean-only/VIKING20X.L46-KKG36107B/nemo/output/1_VIKING20X.L46-KKG36107B_5d_20120101_20121231_grid_U.nc'), PosixPath('/gxfs_work1/geomar/smomw355/model_data/ocean-only/VIKING20X.L46-KKG36107B/nemo/output/1_VIKING20X.L46-KKG36107B_5d_20130101_20131231_grid_U.nc'), PosixPath('/gxfs_work1/geomar/smomw355/model_data/ocean-only/VIKING20X.L46-KKG36107B/nemo/output/1_VIKING20X.L46-KKG36107B_5d_20140101_20141231_grid_U.nc'), PosixPath('/gxfs_work1/geomar/smomw355/model_data/ocean-only/VIKING20X.L46-KKG36107B/nemo/output/1_VIKING20X.L46-KKG36107B_5d_20150101_20151231_grid_U.nc'), PosixPath('/gxfs_work1/geomar/smomw355/model_data/ocean-only/VIKING20X.L46-KKG36107B/nemo/output/1_VIKING20X.L46-KKG36107B_5d_20160101_20161231_grid_U.nc'), PosixPath('/gxfs_work1/geomar/smomw355/model_data/ocean-only/VIKING20X.L46-KKG36107B/nemo/output/1_VIKING20X.L46-KKG36107B_5d_20170101_20171231_grid_U.nc'), PosixPath('/gxfs_work1/geomar/smomw355/model_data/ocean-only/VIKING20X.L46-KKG36107B/nemo/output/1_VIKING20X.L46-KKG36107B_5d_20180101_20181231_grid_U.nc'), PosixPath('/gxfs_work1/geomar/smomw355/model_data/ocean-only/VIKING20X.L46-KKG36107B/nemo/output/1_VIKING20X.L46-KKG36107B_5d_20190101_20191231_grid_U.nc')]\n"
     ]
    },
    {
     "name": "stderr",
     "output_type": "stream",
     "text": [
      "WARNING: Casting depth data to np.float32\n"
     ]
    }
   ],
   "source": [
    "fieldset = create_fieldset()"
   ]
  },
  {
   "cell_type": "markdown",
   "id": "blocked-louis",
   "metadata": {
    "papermill": {
     "duration": 0.020031,
     "end_time": "2021-05-02T07:34:18.397559",
     "exception": false,
     "start_time": "2021-05-02T07:34:18.377528",
     "status": "completed"
    },
    "tags": []
   },
   "source": [
    "## Create Virtual Particles"
   ]
  },
  {
   "cell_type": "markdown",
   "id": "following-geometry",
   "metadata": {
    "papermill": {
     "duration": 0.019939,
     "end_time": "2021-05-02T07:34:18.437347",
     "exception": false,
     "start_time": "2021-05-02T07:34:18.417408",
     "status": "completed"
    },
    "tags": []
   },
   "source": [
    "#### add a couple of simple plotting routines"
   ]
  },
  {
   "cell_type": "code",
   "execution_count": 11,
   "id": "above-ratio",
   "metadata": {
    "execution": {
     "iopub.execute_input": "2021-05-02T07:34:18.483782Z",
     "iopub.status.busy": "2021-05-02T07:34:18.483335Z",
     "iopub.status.idle": "2021-05-02T07:34:18.484373Z",
     "shell.execute_reply": "2021-05-02T07:34:18.484087Z"
    },
    "papermill": {
     "duration": 0.0273,
     "end_time": "2021-05-02T07:34:18.484451",
     "exception": false,
     "start_time": "2021-05-02T07:34:18.457151",
     "status": "completed"
    },
    "tags": []
   },
   "outputs": [],
   "source": [
    "def plot_section_sdist():\n",
    "    plt.figure(figsize=(10,5))\n",
    "\n",
    "    u = np.array([p.uvel for p in pset]) * degree2km * 1000.0 * np.cos(np.radians(pset.lat))\n",
    "    v = np.array([p.vvel for p in pset]) * degree2km * 1000.0\n",
    "    section_index = np.searchsorted(lonlat.lon,pset.lon)-1\n",
    "    u_normal = v * lonlatdiff.costheta[section_index].data - u * lonlatdiff.sintheta[section_index].data\n",
    "    y = (pset.lat - lonlat.lat[section_index]) * degree2km\n",
    "    x = (pset.lon - lonlat.lon[section_index]) * degree2km*np.cos(np.radians(lonlat2mean.lat[section_index+1].data))\n",
    "    dist = np.sqrt(x**2 + y**2) + lonlatdiff.length_west[section_index].data\n",
    "    \n",
    "    \n",
    "    plt.scatter(\n",
    "        dist,\n",
    "        [p.depth for p in pset],\n",
    "        1,\n",
    "        u_normal,\n",
    "        cmap=co.cm.balance,vmin=-0.3,vmax=0.3\n",
    "    )\n",
    "    plt.ylim(1200,0)\n",
    "    plt.colorbar(label = r'normal velocity [$\\mathrm{m\\ s}^{-1}$]')\n",
    "    plt.xlabel('distance [km]')\n",
    "    plt.ylabel('depth [m]')\n",
    "    return\n"
   ]
  },
  {
   "cell_type": "code",
   "execution_count": 12,
   "id": "charming-possible",
   "metadata": {
    "execution": {
     "iopub.execute_input": "2021-05-02T07:34:18.530072Z",
     "iopub.status.busy": "2021-05-02T07:34:18.528901Z",
     "iopub.status.idle": "2021-05-02T07:34:18.530672Z",
     "shell.execute_reply": "2021-05-02T07:34:18.530387Z"
    },
    "papermill": {
     "duration": 0.025957,
     "end_time": "2021-05-02T07:34:18.530749",
     "exception": false,
     "start_time": "2021-05-02T07:34:18.504792",
     "status": "completed"
    },
    "tags": []
   },
   "outputs": [],
   "source": [
    "def plot_section_lon():\n",
    "    plt.figure(figsize=(10,5))\n",
    "\n",
    "    u = np.array([p.uvel for p in pset]) * degree2km * 1000.0 * np.cos(np.radians(pset.lat))\n",
    "    v = np.array([p.vvel for p in pset]) * degree2km * 1000.0\n",
    "    section_index = np.searchsorted(lonlat.lon,pset.lon)-1\n",
    "    u_normal = v * lonlatdiff.costheta[section_index].data - u * lonlatdiff.sintheta[section_index].data\n",
    "    \n",
    "    plt.scatter(\n",
    "        [p.lon for p in pset],\n",
    "        [p.depth for p in pset],\n",
    "        1,\n",
    "        u_normal,\n",
    "        cmap=co.cm.balance,vmin=-0.3,vmax=0.3\n",
    "    )\n",
    "    plt.ylim(1200,0)\n",
    "    plt.colorbar(label = r'normal velocity [$\\mathrm{m\\ s}^{-1}$]');\n",
    "    plt.xlabel('longitude [$\\degree$E]')\n",
    "    plt.ylabel('depth [m]')\n",
    "    return\n"
   ]
  },
  {
   "cell_type": "code",
   "execution_count": 13,
   "id": "upset-grain",
   "metadata": {
    "execution": {
     "iopub.execute_input": "2021-05-02T07:34:18.575303Z",
     "iopub.status.busy": "2021-05-02T07:34:18.574124Z",
     "iopub.status.idle": "2021-05-02T07:34:18.575894Z",
     "shell.execute_reply": "2021-05-02T07:34:18.575619Z"
    },
    "papermill": {
     "duration": 0.025338,
     "end_time": "2021-05-02T07:34:18.575969",
     "exception": false,
     "start_time": "2021-05-02T07:34:18.550631",
     "status": "completed"
    },
    "tags": []
   },
   "outputs": [],
   "source": [
    "class SampleParticle(JITParticle):\n",
    "    \"\"\"Add variables to the standard particle class.\n",
    "    \n",
    "    Particles will sample temperature and track the age of the particle.\n",
    "    Particles also have a flag `alive` that is 1 if the particle is alive and 0 otherwise.\n",
    "    Furthermore, we have a `speed_param` that scales the velocity with which particles can\n",
    "    swim towards the surface.\n",
    "\n",
    "    Note that we don't initialize temp from the actual data.\n",
    "    This speeds up particle creation, but might render initial data point less useful.\n",
    "    \"\"\"\n",
    "    mxl = Variable('mxl', dtype=np.float32, initial=-100)\n",
    "    temp = Variable('temp', dtype=np.float32, initial=-100)\n",
    "    salt = Variable('salt', dtype=np.float32, initial=-100)\n",
    "    uvel = Variable('uvel', dtype=np.float32, initial=0)\n",
    "    vvel = Variable('vvel', dtype=np.float32, initial=0)\n",
    "#    wvel = Variable('wvel', dtype=np.float32, initial=0)\n",
    "#     alive = Variable('alive', dtype=np.int32, initial=1)\n",
    "#     speed_param = Variable('speed_param', dtype=np.float32, initial=1)\n",
    "#     age = Variable('age', dtype=np.int32, initial=0, to_write=True)"
   ]
  },
  {
   "cell_type": "markdown",
   "id": "criminal-snapshot",
   "metadata": {
    "papermill": {
     "duration": 0.019886,
     "end_time": "2021-05-02T07:34:18.615915",
     "exception": false,
     "start_time": "2021-05-02T07:34:18.596029",
     "status": "completed"
    },
    "tags": []
   },
   "source": [
    "## Create a set of particles with random initial positions\n",
    "\n",
    "We seed the RNG to be reproducible (and to be able to quickly create a second equivalent experiment with differently chosen compatible initial positions), and create arrays of random starting times, lats, lons, depths, and speed parameters (see kernel definitions below for details).\n",
    "\n",
    "Initially create points on 'rectangle'. Land points are removed later in a OceanParcels 'run' with runtime and timedelta zero."
   ]
  },
  {
   "cell_type": "markdown",
   "id": "dedicated-string",
   "metadata": {
    "papermill": {
     "duration": 0.020103,
     "end_time": "2021-05-02T07:34:18.656150",
     "exception": false,
     "start_time": "2021-05-02T07:34:18.636047",
     "status": "completed"
    },
    "tags": []
   },
   "source": [
    "### First set up the piecewise section"
   ]
  },
  {
   "cell_type": "code",
   "execution_count": 14,
   "id": "american-chick",
   "metadata": {
    "execution": {
     "iopub.execute_input": "2021-05-02T07:34:18.699235Z",
     "iopub.status.busy": "2021-05-02T07:34:18.698916Z",
     "iopub.status.idle": "2021-05-02T07:34:18.718736Z",
     "shell.execute_reply": "2021-05-02T07:34:18.719227Z"
    },
    "papermill": {
     "duration": 0.043356,
     "end_time": "2021-05-02T07:34:18.719342",
     "exception": false,
     "start_time": "2021-05-02T07:34:18.675986",
     "status": "completed"
    },
    "tags": []
   },
   "outputs": [],
   "source": [
    "lonlat = xr.Dataset(pd.read_csv(sectionPath / sectionFilename,delim_whitespace=True))"
   ]
  },
  {
   "cell_type": "code",
   "execution_count": 15,
   "id": "spread-consolidation",
   "metadata": {
    "execution": {
     "iopub.execute_input": "2021-05-02T07:34:18.782413Z",
     "iopub.status.busy": "2021-05-02T07:34:18.782043Z",
     "iopub.status.idle": "2021-05-02T07:34:19.080479Z",
     "shell.execute_reply": "2021-05-02T07:34:19.080947Z"
    },
    "papermill": {
     "duration": 0.34114,
     "end_time": "2021-05-02T07:34:19.081058",
     "exception": false,
     "start_time": "2021-05-02T07:34:18.739918",
     "status": "completed"
    },
    "tags": []
   },
   "outputs": [
    {
     "name": "stdout",
     "output_type": "stream",
     "text": [
      "3594.572878394652\n"
     ]
    },
    {
     "data": {
      "image/png": "[encoded data removed]",
      "text/plain": [
       "<Figure size 432x288 with 1 Axes>"
      ]
     },
     "metadata": {
      "needs_background": "light"
     },
     "output_type": "display_data"
    }
   ],
   "source": [
    "lonlat.lon.attrs['long_name']='Longitude'\n",
    "lonlat.lat.attrs['long_name']='Latitude'\n",
    "lonlat.lon.attrs['standard_name']='longitude'\n",
    "lonlat.lat.attrs['standard_name']='latitude'\n",
    "lonlat.lon.attrs['units']='degrees_east'\n",
    "lonlat.lat.attrs['units']='degrees_north'\n",
    "\n",
    "lonlatdiff = lonlat.diff('dim_0')\n",
    "lonlat2mean= lonlat.rolling({'dim_0':2}).mean()\n",
    "\n",
    "lonlat.plot.scatter(x='lon',y='lat')\n",
    "lonlat2mean.plot.scatter(x='lon',y='lat')\n",
    "\n",
    "lonlatdiff = lonlatdiff.assign({'y':lonlatdiff['lat']*degree2km})\n",
    "lonlatdiff = lonlatdiff.assign({'x':lonlatdiff['lon']*degree2km*np.cos(np.radians(lonlat2mean.lat.data[1:]))})\n",
    "lonlatdiff=lonlatdiff.assign({'length':np.sqrt(lonlatdiff['x']**2+lonlatdiff['y']**2)})\n",
    "lonlatdiff=lonlatdiff.assign({'length_west':lonlatdiff.length.sum() - np.cumsum(lonlatdiff.length[::-1])[::-1]})\n",
    "lonlatdiff=lonlatdiff.assign({'costheta':lonlatdiff['x']/lonlatdiff['length']})\n",
    "lonlatdiff=lonlatdiff.assign({'sintheta':lonlatdiff['y']/lonlatdiff['length']})\n",
    "\n",
    "total_length = lonlatdiff.length.sum().data\n",
    "print(total_length)"
   ]
  },
  {
   "cell_type": "code",
   "execution_count": 16,
   "id": "eastern-italy",
   "metadata": {
    "execution": {
     "iopub.execute_input": "2021-05-02T07:34:19.128047Z",
     "iopub.status.busy": "2021-05-02T07:34:19.126864Z",
     "iopub.status.idle": "2021-05-02T07:34:19.129167Z",
     "shell.execute_reply": "2021-05-02T07:34:19.128354Z"
    },
    "papermill": {
     "duration": 0.026674,
     "end_time": "2021-05-02T07:34:19.129247",
     "exception": false,
     "start_time": "2021-05-02T07:34:19.102573",
     "status": "completed"
    },
    "tags": []
   },
   "outputs": [
    {
     "data": {
      "text/plain": [
       "12"
      ]
     },
     "execution_count": 16,
     "metadata": {},
     "output_type": "execute_result"
    }
   ],
   "source": [
    "lonlatdiff.length.shape[0]"
   ]
  },
  {
   "cell_type": "markdown",
   "id": "equivalent-religion",
   "metadata": {
    "papermill": {
     "duration": 0.020948,
     "end_time": "2021-05-02T07:34:19.171424",
     "exception": false,
     "start_time": "2021-05-02T07:34:19.150476",
     "status": "completed"
    },
    "tags": []
   },
   "source": [
    "### Seed particles uniform random along OSNAP section"
   ]
  },
  {
   "cell_type": "code",
   "execution_count": 17,
   "id": "elect-comedy",
   "metadata": {
    "execution": {
     "iopub.execute_input": "2021-05-02T07:34:19.236496Z",
     "iopub.status.busy": "2021-05-02T07:34:19.236104Z",
     "iopub.status.idle": "2021-05-02T07:34:19.319772Z",
     "shell.execute_reply": "2021-05-02T07:34:19.320347Z"
    },
    "papermill": {
     "duration": 0.128202,
     "end_time": "2021-05-02T07:34:19.320479",
     "exception": false,
     "start_time": "2021-05-02T07:34:19.192277",
     "status": "completed"
    },
    "tags": []
   },
   "outputs": [],
   "source": [
    "np.random.seed(RNG_seed)\n",
    "\n",
    "# define time of release for each particle relative to t0\n",
    "# can start each particle at a different time if required\n",
    "# here all start at time t_start.\n",
    "times = []\n",
    "lons = []\n",
    "lats = []\n",
    "depths = []\n",
    "\n",
    "# for subsect in range(lonlatdiff.length.shape[0]):\n",
    "for subsect in range(start_vertex,end_vertex):\n",
    "    \n",
    "    number_particles = int(create_number_particles*lonlatdiff.length[subsect]/total_length)\n",
    "    time = np.zeros(number_particles)\n",
    "    time += (t_start - t_0).total_seconds()\n",
    "\n",
    "    # start along a line from west to east\n",
    "\n",
    "    west_lat = lonlat.lat[subsect].data\n",
    "    west_lon = lonlat.lon[subsect].data\n",
    "    east_lat = lonlat.lat[subsect+1].data\n",
    "    east_lon = lonlat.lon[subsect+1].data\n",
    "    \n",
    "    lon = np.random.uniform(\n",
    "        low=west_lon, high = east_lon,\n",
    "        size=time.shape\n",
    "    )\n",
    "    lat = west_lat + ((lon - west_lon) * (east_lat - west_lat)/ (east_lon - west_lon))\n",
    "\n",
    "    # at depths from surface to max_release_depth\n",
    "\n",
    "    depth = np.random.uniform(\n",
    "        low=min_release_depth, high=max_release_depth,\n",
    "        size=time.shape\n",
    "    )\n",
    "    times.append(time)\n",
    "    lons.append(lon)\n",
    "    lats.append(lat)\n",
    "    depths.append(depth)\n",
    "\n",
    "    \n",
    "    \n",
    "time = np.concatenate(times)\n",
    "lon = np.concatenate(lons)\n",
    "lat = np.concatenate(lats)\n",
    "depth = np.concatenate(depths)\n"
   ]
  },
  {
   "cell_type": "markdown",
   "id": "identical-demand",
   "metadata": {
    "papermill": {
     "duration": 0.021032,
     "end_time": "2021-05-02T07:34:19.364526",
     "exception": false,
     "start_time": "2021-05-02T07:34:19.343494",
     "status": "completed"
    },
    "tags": []
   },
   "source": [
    "###  Build particle set"
   ]
  },
  {
   "cell_type": "code",
   "execution_count": 18,
   "id": "sticky-middle",
   "metadata": {
    "execution": {
     "iopub.execute_input": "2021-05-02T07:34:19.429497Z",
     "iopub.status.busy": "2021-05-02T07:34:19.429112Z",
     "iopub.status.idle": "2021-05-02T07:34:20.325635Z",
     "shell.execute_reply": "2021-05-02T07:34:20.326214Z"
    },
    "papermill": {
     "duration": 0.940948,
     "end_time": "2021-05-02T07:34:20.326336",
     "exception": false,
     "start_time": "2021-05-02T07:34:19.385388",
     "status": "completed"
    },
    "tags": []
   },
   "outputs": [
    {
     "name": "stdout",
     "output_type": "stream",
     "text": [
      "CPU times: user 723 ms, sys: 186 ms, total: 909 ms\n",
      "Wall time: 913 ms\n"
     ]
    }
   ],
   "source": [
    "%%time\n",
    "\n",
    "pset = ParticleSet(\n",
    "    fieldset=fieldset,\n",
    "    pclass=SampleParticle,\n",
    "    lat=lat,\n",
    "    lon=lon,\n",
    "#     speed_param=speed_param,\n",
    "    depth=depth,\n",
    "    time=time\n",
    "#    repeatdt = repeatdt\n",
    ")\n"
   ]
  },
  {
   "cell_type": "code",
   "execution_count": 19,
   "id": "sonic-nylon",
   "metadata": {
    "execution": {
     "iopub.execute_input": "2021-05-02T07:34:20.376855Z",
     "iopub.status.busy": "2021-05-02T07:34:20.376431Z",
     "iopub.status.idle": "2021-05-02T07:34:20.377890Z",
     "shell.execute_reply": "2021-05-02T07:34:20.377156Z"
    },
    "papermill": {
     "duration": 0.026677,
     "end_time": "2021-05-02T07:34:20.377969",
     "exception": false,
     "start_time": "2021-05-02T07:34:20.351292",
     "status": "completed"
    },
    "tags": []
   },
   "outputs": [
    {
     "name": "stdout",
     "output_type": "stream",
     "text": [
      "Created 2643886 particles.\n"
     ]
    }
   ],
   "source": [
    "print(f\"Created {len(pset)} particles.\")\n",
    "# display(pset[:5])\n",
    "# display(pset[-5:])"
   ]
  },
  {
   "cell_type": "markdown",
   "id": "attached-fleece",
   "metadata": {
    "papermill": {
     "duration": 0.021488,
     "end_time": "2021-05-02T07:34:20.421117",
     "exception": false,
     "start_time": "2021-05-02T07:34:20.399629",
     "status": "completed"
    },
    "tags": []
   },
   "source": [
    "## Compose custom kernel\n",
    "\n",
    "We'll create three additional kernels:\n",
    "- One Kernel adds velocity sampling\n",
    "- One Kernel adds temperature sampling\n",
    "- One kernel adds salinity sampling\n",
    "\n",
    "Then, we combine the builtin `AdvectionRK4_3D` kernel with these additional kernels."
   ]
  },
  {
   "cell_type": "code",
   "execution_count": 20,
   "id": "indonesian-guyana",
   "metadata": {
    "execution": {
     "iopub.execute_input": "2021-05-02T07:34:20.467938Z",
     "iopub.status.busy": "2021-05-02T07:34:20.466765Z",
     "iopub.status.idle": "2021-05-02T07:34:20.468530Z",
     "shell.execute_reply": "2021-05-02T07:34:20.468243Z"
    },
    "papermill": {
     "duration": 0.026212,
     "end_time": "2021-05-02T07:34:20.468606",
     "exception": false,
     "start_time": "2021-05-02T07:34:20.442394",
     "status": "completed"
    },
    "tags": []
   },
   "outputs": [],
   "source": [
    "def velocity_sampling(particle, fieldset, time):\n",
    "    '''Sample velocity.'''\n",
    "    \n",
    "    (particle.uvel,particle.vvel) = fieldset.UV[time, particle.depth, particle.lat, particle.lon]\n",
    "    "
   ]
  },
  {
   "cell_type": "code",
   "execution_count": 21,
   "id": "younger-drink",
   "metadata": {
    "execution": {
     "iopub.execute_input": "2021-05-02T07:34:20.515739Z",
     "iopub.status.busy": "2021-05-02T07:34:20.514576Z",
     "iopub.status.idle": "2021-05-02T07:34:20.516314Z",
     "shell.execute_reply": "2021-05-02T07:34:20.516042Z"
    },
    "papermill": {
     "duration": 0.026041,
     "end_time": "2021-05-02T07:34:20.516396",
     "exception": false,
     "start_time": "2021-05-02T07:34:20.490355",
     "status": "completed"
    },
    "tags": []
   },
   "outputs": [],
   "source": [
    "def temperature_sampling(particle, fieldset, time):\n",
    "    '''Sample temperature.'''\n",
    "    \n",
    "    particle.temp = fieldset.T[time, particle.depth, particle.lat, particle.lon]"
   ]
  },
  {
   "cell_type": "code",
   "execution_count": 22,
   "id": "unlimited-tractor",
   "metadata": {
    "execution": {
     "iopub.execute_input": "2021-05-02T07:34:20.563385Z",
     "iopub.status.busy": "2021-05-02T07:34:20.562210Z",
     "iopub.status.idle": "2021-05-02T07:34:20.563970Z",
     "shell.execute_reply": "2021-05-02T07:34:20.563693Z"
    },
    "papermill": {
     "duration": 0.026106,
     "end_time": "2021-05-02T07:34:20.564044",
     "exception": false,
     "start_time": "2021-05-02T07:34:20.537938",
     "status": "completed"
    },
    "tags": []
   },
   "outputs": [],
   "source": [
    "def salinity_sampling(particle, fieldset, time):\n",
    "    '''Sample salinity.'''\n",
    "    \n",
    "    particle.salt = fieldset.S[time, particle.depth, particle.lat, particle.lon]"
   ]
  },
  {
   "cell_type": "code",
   "execution_count": 23,
   "id": "opponent-trinity",
   "metadata": {
    "execution": {
     "iopub.execute_input": "2021-05-02T07:34:20.611461Z",
     "iopub.status.busy": "2021-05-02T07:34:20.610313Z",
     "iopub.status.idle": "2021-05-02T07:34:20.612040Z",
     "shell.execute_reply": "2021-05-02T07:34:20.611767Z"
    },
    "papermill": {
     "duration": 0.026265,
     "end_time": "2021-05-02T07:34:20.612114",
     "exception": false,
     "start_time": "2021-05-02T07:34:20.585849",
     "status": "completed"
    },
    "tags": []
   },
   "outputs": [],
   "source": [
    "def mxl_sampling(particle, fieldset, time):\n",
    "    '''Sample mixed layer depth.'''\n",
    "    \n",
    "    particle.mxl = fieldset.MXL[time, particle.depth, particle.lat, particle.lon]"
   ]
  },
  {
   "cell_type": "code",
   "execution_count": 24,
   "id": "powered-barrel",
   "metadata": {
    "execution": {
     "iopub.execute_input": "2021-05-02T07:34:20.699548Z",
     "iopub.status.busy": "2021-05-02T07:34:20.699185Z",
     "iopub.status.idle": "2021-05-02T07:34:20.975470Z",
     "shell.execute_reply": "2021-05-02T07:34:20.975996Z"
    },
    "papermill": {
     "duration": 0.341888,
     "end_time": "2021-05-02T07:34:20.976115",
     "exception": false,
     "start_time": "2021-05-02T07:34:20.634227",
     "status": "completed"
    },
    "tags": []
   },
   "outputs": [],
   "source": [
    "custom_kernel = (\n",
    "    pset.Kernel(AdvectionRK4_3D)\n",
    "#     + pset.Kernel(temperature_sensitivity)\n",
    "     + pset.Kernel(temperature_sampling)\n",
    "     + pset.Kernel(salinity_sampling)\n",
    "     + pset.Kernel(velocity_sampling)\n",
    "     + pset.Kernel(mxl_sampling)\n",
    ")"
   ]
  },
  {
   "cell_type": "markdown",
   "id": "empty-indie",
   "metadata": {
    "papermill": {
     "duration": 0.021844,
     "end_time": "2021-05-02T07:34:21.020324",
     "exception": false,
     "start_time": "2021-05-02T07:34:20.998480",
     "status": "completed"
    },
    "tags": []
   },
   "source": [
    "## Be able to handle errors during integration\n",
    "\n",
    "We have restricted our domain so in principle, particles could reach undefined positions.\n",
    "In that case, we want to just delete the particle (without forgetting its history)."
   ]
  },
  {
   "cell_type": "code",
   "execution_count": 25,
   "id": "pediatric-subscriber",
   "metadata": {
    "execution": {
     "iopub.execute_input": "2021-05-02T07:34:21.068495Z",
     "iopub.status.busy": "2021-05-02T07:34:21.068048Z",
     "iopub.status.idle": "2021-05-02T07:34:21.069086Z",
     "shell.execute_reply": "2021-05-02T07:34:21.068804Z"
    },
    "papermill": {
     "duration": 0.026657,
     "end_time": "2021-05-02T07:34:21.069163",
     "exception": false,
     "start_time": "2021-05-02T07:34:21.042506",
     "status": "completed"
    },
    "tags": []
   },
   "outputs": [],
   "source": [
    "def DeleteParticle(particle, fieldset, time):\n",
    "    particle.delete()\n",
    "\n",
    "\n",
    "recovery_cases = {\n",
    "    ErrorCode.ErrorOutOfBounds: DeleteParticle,\n",
    "    ErrorCode.Error: DeleteParticle,\n",
    "    ErrorCode.ErrorInterpolation: DeleteParticle\n",
    "}"
   ]
  },
  {
   "cell_type": "markdown",
   "id": "eligible-champagne",
   "metadata": {
    "papermill": {
     "duration": 0.021962,
     "end_time": "2021-05-02T07:34:21.113159",
     "exception": false,
     "start_time": "2021-05-02T07:34:21.091197",
     "status": "completed"
    },
    "tags": []
   },
   "source": [
    "## Run with runtime=0 to initialise fields"
   ]
  },
  {
   "cell_type": "code",
   "execution_count": 26,
   "id": "sought-luther",
   "metadata": {
    "execution": {
     "iopub.execute_input": "2021-05-02T07:34:21.166367Z",
     "iopub.status.busy": "2021-05-02T07:34:21.166013Z",
     "iopub.status.idle": "2021-05-02T07:38:18.691979Z",
     "shell.execute_reply": "2021-05-02T07:38:18.692248Z"
    },
    "papermill": {
     "duration": 237.557206,
     "end_time": "2021-05-02T07:38:18.692353",
     "exception": false,
     "start_time": "2021-05-02T07:34:21.135147",
     "status": "completed"
    },
    "tags": []
   },
   "outputs": [
    {
     "name": "stderr",
     "output_type": "stream",
     "text": [
      "INFO: Compiled SampleParticleAdvectionRK4_3Dtemperature_samplingsalinity_samplingvelocity_samplingmxl_sampling ==> /tmp/parcels-62665/fcc34086f8062bce99ccd9063444ff76_0.so\n"
     ]
    },
    {
     "name": "stderr",
     "output_type": "stream",
     "text": [
      "WARNING: dt or runtime are zero, or endtime is equal to Particle.time. The kernels will be executed once, without incrementing time\n"
     ]
    },
    {
     "name": "stdout",
     "output_type": "stream",
     "text": [
      "CPU times: user 3min 36s, sys: 8.27 s, total: 3min 44s\n",
      "Wall time: 3min 57s\n"
     ]
    }
   ],
   "source": [
    "%%time\n",
    "\n",
    "# with dask.config.set(**{'array.slicing.split_large_chunks': False}):\n",
    "pset.execute(\n",
    "    custom_kernel,\n",
    "     runtime=0,    \n",
    "#      dt=timedelta(minutes=0),      \n",
    "#      output_file=outputfile,\n",
    "     recovery=recovery_cases\n",
    ")"
   ]
  },
  {
   "cell_type": "code",
   "execution_count": 27,
   "id": "thousand-india",
   "metadata": {
    "execution": {
     "iopub.execute_input": "2021-05-02T07:38:18.752432Z",
     "iopub.status.busy": "2021-05-02T07:38:18.752103Z",
     "iopub.status.idle": "2021-05-02T07:39:01.775515Z",
     "shell.execute_reply": "2021-05-02T07:39:01.775788Z"
    },
    "papermill": {
     "duration": 43.060909,
     "end_time": "2021-05-02T07:39:01.775892",
     "exception": false,
     "start_time": "2021-05-02T07:38:18.714983",
     "status": "completed"
    },
    "tags": []
   },
   "outputs": [
    {
     "data": {
      "image/png": "[encoded data removed]",
      "text/plain": [
       "<Figure size 720x360 with 2 Axes>"
      ]
     },
     "metadata": {
      "needs_background": "light"
     },
     "output_type": "display_data"
    }
   ],
   "source": [
    "plot_section_sdist()"
   ]
  },
  {
   "cell_type": "markdown",
   "id": "indian-philippines",
   "metadata": {
    "papermill": {
     "duration": 0.025465,
     "end_time": "2021-05-02T07:39:01.827026",
     "exception": false,
     "start_time": "2021-05-02T07:39:01.801561",
     "status": "completed"
    },
    "tags": []
   },
   "source": [
    "## Trim unwanted points from ParticleSet\n",
    "\n",
    "Use initialised fields to remove land points. We test `temp == 0.0` (the mask value over land).\n"
   ]
  },
  {
   "cell_type": "code",
   "execution_count": 28,
   "id": "isolated-brunei",
   "metadata": {
    "execution": {
     "iopub.execute_input": "2021-05-02T07:39:01.894684Z",
     "iopub.status.busy": "2021-05-02T07:39:01.894339Z",
     "iopub.status.idle": "2021-05-02T07:39:07.347305Z",
     "shell.execute_reply": "2021-05-02T07:39:07.347777Z"
    },
    "papermill": {
     "duration": 5.495604,
     "end_time": "2021-05-02T07:39:07.347915",
     "exception": false,
     "start_time": "2021-05-02T07:39:01.852311",
     "status": "completed"
    },
    "tags": []
   },
   "outputs": [
    {
     "name": "stdout",
     "output_type": "stream",
     "text": [
      "2100015\n"
     ]
    }
   ],
   "source": [
    "t = np.array([p.temp for p in pset])\n",
    "# u = np.array([p.uvel for p in pset])\n",
    "# v = np.array([p.vvel for p in pset])\n",
    "pset.remove_indices(np.argwhere(t == 0).flatten())\n",
    "# pset.remove(np.argwhere(x * y * z == 0).flatten())\n",
    "print(len(pset))"
   ]
  },
  {
   "cell_type": "code",
   "execution_count": 29,
   "id": "southwest-image",
   "metadata": {
    "execution": {
     "iopub.execute_input": "2021-05-02T07:39:07.417432Z",
     "iopub.status.busy": "2021-05-02T07:39:07.417102Z",
     "iopub.status.idle": "2021-05-02T07:39:41.775727Z",
     "shell.execute_reply": "2021-05-02T07:39:41.776000Z"
    },
    "papermill": {
     "duration": 34.398961,
     "end_time": "2021-05-02T07:39:41.776103",
     "exception": false,
     "start_time": "2021-05-02T07:39:07.377142",
     "status": "completed"
    },
    "tags": []
   },
   "outputs": [
    {
     "data": {
      "image/png": "[encoded data removed]",
      "text/plain": [
       "<Figure size 720x360 with 2 Axes>"
      ]
     },
     "metadata": {
      "needs_background": "light"
     },
     "output_type": "display_data"
    }
   ],
   "source": [
    "plot_section_sdist()"
   ]
  },
  {
   "cell_type": "markdown",
   "id": "noticed-credits",
   "metadata": {
    "papermill": {
     "duration": 0.03193,
     "end_time": "2021-05-02T07:39:41.837494",
     "exception": false,
     "start_time": "2021-05-02T07:39:41.805564",
     "status": "completed"
    },
    "tags": []
   },
   "source": [
    "### Test velocity normal to section"
   ]
  },
  {
   "cell_type": "markdown",
   "id": "bacterial-donor",
   "metadata": {
    "papermill": {
     "duration": 0.029001,
     "end_time": "2021-05-02T07:39:41.895479",
     "exception": false,
     "start_time": "2021-05-02T07:39:41.866478",
     "status": "completed"
    },
    "tags": []
   },
   "source": [
    "#### Velocity conversions from degrees lat/lon per second to m/s"
   ]
  },
  {
   "cell_type": "code",
   "execution_count": 30,
   "id": "mechanical-diploma",
   "metadata": {
    "execution": {
     "iopub.execute_input": "2021-05-02T07:39:41.968434Z",
     "iopub.status.busy": "2021-05-02T07:39:41.968102Z",
     "iopub.status.idle": "2021-05-02T07:39:50.227503Z",
     "shell.execute_reply": "2021-05-02T07:39:50.228069Z"
    },
    "papermill": {
     "duration": 8.30337,
     "end_time": "2021-05-02T07:39:50.228186",
     "exception": false,
     "start_time": "2021-05-02T07:39:41.924816",
     "status": "completed"
    },
    "tags": []
   },
   "outputs": [],
   "source": [
    "u = np.array([p.uvel for p in pset])\n",
    "v = np.array([p.vvel for p in pset])\n"
   ]
  },
  {
   "cell_type": "code",
   "execution_count": 31,
   "id": "north-parker",
   "metadata": {
    "execution": {
     "iopub.execute_input": "2021-05-02T07:39:50.312283Z",
     "iopub.status.busy": "2021-05-02T07:39:50.311951Z",
     "iopub.status.idle": "2021-05-02T07:39:50.326380Z",
     "shell.execute_reply": "2021-05-02T07:39:50.326862Z"
    },
    "papermill": {
     "duration": 0.066399,
     "end_time": "2021-05-02T07:39:50.326969",
     "exception": false,
     "start_time": "2021-05-02T07:39:50.260570",
     "status": "completed"
    },
    "tags": []
   },
   "outputs": [],
   "source": [
    "u=u * degree2km * 1000.0 * np.cos(np.radians(pset.lat))\n",
    "v=v * degree2km * 1000.0"
   ]
  },
  {
   "cell_type": "markdown",
   "id": "committed-score",
   "metadata": {
    "papermill": {
     "duration": 0.029204,
     "end_time": "2021-05-02T07:39:50.386433",
     "exception": false,
     "start_time": "2021-05-02T07:39:50.357229",
     "status": "completed"
    },
    "tags": []
   },
   "source": [
    "#### normal velocities"
   ]
  },
  {
   "cell_type": "code",
   "execution_count": 32,
   "id": "invalid-asthma",
   "metadata": {
    "execution": {
     "iopub.execute_input": "2021-05-02T07:39:50.466286Z",
     "iopub.status.busy": "2021-05-02T07:39:50.465951Z",
     "iopub.status.idle": "2021-05-02T07:39:50.493459Z",
     "shell.execute_reply": "2021-05-02T07:39:50.493991Z"
    },
    "papermill": {
     "duration": 0.078276,
     "end_time": "2021-05-02T07:39:50.494109",
     "exception": false,
     "start_time": "2021-05-02T07:39:50.415833",
     "status": "completed"
    },
    "tags": []
   },
   "outputs": [],
   "source": [
    "section_index = np.searchsorted(lonlat.lon,pset.lon)-1\n",
    "u_normal = v * lonlatdiff.costheta[section_index].data - u * lonlatdiff.sintheta[section_index].data"
   ]
  },
  {
   "cell_type": "code",
   "execution_count": 33,
   "id": "incorrect-theme",
   "metadata": {
    "execution": {
     "iopub.execute_input": "2021-05-02T07:39:50.562250Z",
     "iopub.status.busy": "2021-05-02T07:39:50.561089Z",
     "iopub.status.idle": "2021-05-02T07:39:50.563323Z",
     "shell.execute_reply": "2021-05-02T07:39:50.562561Z"
    },
    "papermill": {
     "duration": 0.039186,
     "end_time": "2021-05-02T07:39:50.563409",
     "exception": false,
     "start_time": "2021-05-02T07:39:50.524223",
     "status": "completed"
    },
    "tags": []
   },
   "outputs": [
    {
     "data": {
      "text/plain": [
       "0.7679907859039623"
      ]
     },
     "execution_count": 33,
     "metadata": {},
     "output_type": "execute_result"
    }
   ],
   "source": [
    "abs(u_normal).max()"
   ]
  },
  {
   "cell_type": "markdown",
   "id": "grateful-wrist",
   "metadata": {
    "papermill": {
     "duration": 0.029232,
     "end_time": "2021-05-02T07:39:50.622091",
     "exception": false,
     "start_time": "2021-05-02T07:39:50.592859",
     "status": "completed"
    },
    "tags": []
   },
   "source": [
    "#### remove particles randomly with probability proportional to normal speed"
   ]
  },
  {
   "cell_type": "code",
   "execution_count": 34,
   "id": "considered-weapon",
   "metadata": {
    "execution": {
     "iopub.execute_input": "2021-05-02T07:39:50.704296Z",
     "iopub.status.busy": "2021-05-02T07:39:50.703960Z",
     "iopub.status.idle": "2021-05-02T07:39:50.857537Z",
     "shell.execute_reply": "2021-05-02T07:39:50.857997Z"
    },
    "papermill": {
     "duration": 0.206302,
     "end_time": "2021-05-02T07:39:50.858107",
     "exception": false,
     "start_time": "2021-05-02T07:39:50.651805",
     "status": "completed"
    },
    "tags": []
   },
   "outputs": [
    {
     "name": "stdout",
     "output_type": "stream",
     "text": [
      "51121\n"
     ]
    }
   ],
   "source": [
    "u_random = np.random.rand(len(u_normal))*max_current\n",
    "pset.remove_indices(np.argwhere(abs(u_normal) < u_random).flatten())\n",
    "\n",
    "print(len(pset))"
   ]
  },
  {
   "cell_type": "code",
   "execution_count": 35,
   "id": "inner-windows",
   "metadata": {
    "execution": {
     "iopub.execute_input": "2021-05-02T07:39:50.932266Z",
     "iopub.status.busy": "2021-05-02T07:39:50.931942Z",
     "iopub.status.idle": "2021-05-02T07:39:52.011428Z",
     "shell.execute_reply": "2021-05-02T07:39:52.011883Z"
    },
    "papermill": {
     "duration": 1.123746,
     "end_time": "2021-05-02T07:39:52.011995",
     "exception": false,
     "start_time": "2021-05-02T07:39:50.888249",
     "status": "completed"
    },
    "tags": []
   },
   "outputs": [
    {
     "data": {
      "image/png": "[encoded data removed]",
      "text/plain": [
       "<Figure size 720x360 with 2 Axes>"
      ]
     },
     "metadata": {
      "needs_background": "light"
     },
     "output_type": "display_data"
    }
   ],
   "source": [
    "plot_section_sdist()"
   ]
  },
  {
   "cell_type": "markdown",
   "id": "terminal-component",
   "metadata": {
    "papermill": {
     "duration": 0.033898,
     "end_time": "2021-05-02T07:39:52.080589",
     "exception": false,
     "start_time": "2021-05-02T07:39:52.046691",
     "status": "completed"
    },
    "tags": []
   },
   "source": [
    "## Prepare output\n",
    "\n",
    "We define an output file and specify the desired output frequency."
   ]
  },
  {
   "cell_type": "code",
   "execution_count": 36,
   "id": "curious-connecticut",
   "metadata": {
    "execution": {
     "iopub.execute_input": "2021-05-02T07:39:52.151320Z",
     "iopub.status.busy": "2021-05-02T07:39:52.150993Z",
     "iopub.status.idle": "2021-05-02T07:39:52.159161Z",
     "shell.execute_reply": "2021-05-02T07:39:52.158894Z"
    },
    "papermill": {
     "duration": 0.044948,
     "end_time": "2021-05-02T07:39:52.159238",
     "exception": false,
     "start_time": "2021-05-02T07:39:52.114290",
     "status": "completed"
    },
    "tags": []
   },
   "outputs": [
    {
     "name": "stdout",
     "output_type": "stream",
     "text": [
      "../data/raw/tracks_randomvel_mxl_osnap_backward_20190528_N51121_D3650_Rnd14390.nc\n"
     ]
    }
   ],
   "source": [
    "# output_filename = 'Parcels_IFFForwards_1m_June2016_2000.nc'\n",
    "npart = str(len(pset))\n",
    "output_filename = 'tracks_randomvel_mxl_'+sectionname+direction+year_str+month_str+day_str+'_N'+npart+'_D'+days+'_Rnd'+ seed+'.nc'\n",
    "outfile = outpath / output_filename\n",
    "\n",
    "print(outfile)\n",
    "outputfile = pset.ParticleFile(\n",
    "    name=outfile,\n",
    "    outputdt=timedelta(hours=outputdt_in_hours)\n",
    ")"
   ]
  },
  {
   "cell_type": "markdown",
   "id": "prompt-metro",
   "metadata": {
    "papermill": {
     "duration": 0.033584,
     "end_time": "2021-05-02T07:39:52.226826",
     "exception": false,
     "start_time": "2021-05-02T07:39:52.193242",
     "status": "completed"
    },
    "tags": []
   },
   "source": [
    "## Execute the experiment\n",
    "\n",
    "We'll evolve particles, log their positions and variables to the output buffer and finally export the output to a  the file."
   ]
  },
  {
   "cell_type": "markdown",
   "id": "induced-float",
   "metadata": {
    "papermill": {
     "duration": 0.033628,
     "end_time": "2021-05-02T07:39:52.294164",
     "exception": false,
     "start_time": "2021-05-02T07:39:52.260536",
     "status": "completed"
    },
    "tags": []
   },
   "source": [
    "### Run the experiment"
   ]
  },
  {
   "cell_type": "code",
   "execution_count": 37,
   "id": "graphic-circulation",
   "metadata": {
    "execution": {
     "iopub.execute_input": "2021-05-02T07:39:52.368465Z",
     "iopub.status.busy": "2021-05-02T07:39:52.366819Z",
     "iopub.status.idle": "2021-05-03T03:00:05.234811Z",
     "shell.execute_reply": "2021-05-03T03:00:05.233726Z"
    },
    "papermill": {
     "duration": 69612.906977,
     "end_time": "2021-05-03T03:00:05.234893",
     "exception": false,
     "start_time": "2021-05-02T07:39:52.327916",
     "status": "completed"
    },
    "tags": []
   },
   "outputs": [
    {
     "name": "stderr",
     "output_type": "stream",
     "text": [
      "INFO: Temporary output files are stored in ../data/raw/out-GUMTJATR.\n"
     ]
    },
    {
     "name": "stderr",
     "output_type": "stream",
     "text": [
      "INFO: You can use \"parcels_convert_npydir_to_netcdf ../data/raw/out-GUMTJATR\" to convert these to a NetCDF file during the run.\n"
     ]
    },
    {
     "name": "stderr",
     "output_type": "stream",
     "text": [
      "\r",
      "N/A% (0 of 315360000.0) |                | Elapsed Time: 0:00:00 ETA:  --:--:--"
     ]
    },
    {
     "name": "stderr",
     "output_type": "stream",
     "text": [
      "\r",
      "  0% (864000.0 of 315360000.0) |         | Elapsed Time: 0:01:47 ETA:  10:54:53"
     ]
    },
    {
     "name": "stderr",
     "output_type": "stream",
     "text": [
      "\r",
      "  0% (1296000.0 of 315360000.0) |        | Elapsed Time: 0:03:36 ETA:  21:53:49"
     ]
    },
    {
     "name": "stderr",
     "output_type": "stream",
     "text": [
      "\r",
      "  0% (1728000.0 of 315360000.0) |        | Elapsed Time: 0:05:24 ETA:  21:42:31"
     ]
    },
    {
     "name": "stderr",
     "output_type": "stream",
     "text": [
      "\r",
      "  0% (2160000.0 of 315360000.0) |        | Elapsed Time: 0:07:11 ETA:  21:38:54"
     ]
    },
    {
     "name": "stderr",
     "output_type": "stream",
     "text": [
      "\r",
      "  0% (2592000.0 of 315360000.0) |        | Elapsed Time: 0:08:58 ETA:  21:33:44"
     ]
    },
    {
     "name": "stderr",
     "output_type": "stream",
     "text": [
      "\r",
      "  0% (3024000.0 of 315360000.0) |        | Elapsed Time: 0:10:44 ETA:  21:10:13"
     ]
    },
    {
     "name": "stderr",
     "output_type": "stream",
     "text": [
      "\r",
      "  1% (3456000.0 of 315360000.0) |        | Elapsed Time: 0:12:31 ETA:  21:33:04"
     ]
    },
    {
     "name": "stderr",
     "output_type": "stream",
     "text": [
      "\r",
      "  1% (3888000.0 of 315360000.0) |        | Elapsed Time: 0:14:18 ETA:  21:24:07"
     ]
    },
    {
     "name": "stderr",
     "output_type": "stream",
     "text": [
      "\r",
      "  1% (4320000.0 of 315360000.0) |        | Elapsed Time: 0:16:06 ETA:  21:36:36"
     ]
    },
    {
     "name": "stderr",
     "output_type": "stream",
     "text": [
      "\r",
      "  1% (4752000.0 of 315360000.0) |        | Elapsed Time: 0:17:54 ETA:  21:30:39"
     ]
    },
    {
     "name": "stderr",
     "output_type": "stream",
     "text": [
      "\r",
      "  1% (5184000.0 of 315360000.0) |        | Elapsed Time: 0:19:39 ETA:  21:00:24"
     ]
    },
    {
     "name": "stderr",
     "output_type": "stream",
     "text": [
      "\r",
      "  1% (5616000.0 of 315360000.0) |        | Elapsed Time: 0:21:27 ETA:  21:27:14"
     ]
    },
    {
     "name": "stderr",
     "output_type": "stream",
     "text": [
      "\r",
      "  1% (6048000.0 of 315360000.0) |        | Elapsed Time: 0:23:12 ETA:  20:53:38"
     ]
    },
    {
     "name": "stderr",
     "output_type": "stream",
     "text": [
      "\r",
      "  2% (6480000.0 of 315360000.0) |        | Elapsed Time: 0:24:59 ETA:  21:16:19"
     ]
    },
    {
     "name": "stderr",
     "output_type": "stream",
     "text": [
      "\r",
      "  2% (6912000.0 of 315360000.0) |        | Elapsed Time: 0:26:45 ETA:  20:59:03"
     ]
    },
    {
     "name": "stderr",
     "output_type": "stream",
     "text": [
      "\r",
      "  2% (7344000.0 of 315360000.0) |        | Elapsed Time: 0:28:32 ETA:  21:15:55"
     ]
    },
    {
     "name": "stderr",
     "output_type": "stream",
     "text": [
      "\r",
      "  2% (7776000.0 of 315360000.0) |        | Elapsed Time: 0:30:21 ETA:  21:29:48"
     ]
    },
    {
     "name": "stderr",
     "output_type": "stream",
     "text": [
      "\r",
      "  2% (8208000.0 of 315360000.0) |        | Elapsed Time: 0:32:09 ETA:  21:20:36"
     ]
    },
    {
     "name": "stderr",
     "output_type": "stream",
     "text": [
      "\r",
      "  2% (8640000.0 of 315360000.0) |        | Elapsed Time: 0:33:57 ETA:  21:18:19"
     ]
    },
    {
     "name": "stderr",
     "output_type": "stream",
     "text": [
      "\r",
      "  2% (9072000.0 of 315360000.0) |        | Elapsed Time: 0:35:45 ETA:  21:20:55"
     ]
    },
    {
     "name": "stderr",
     "output_type": "stream",
     "text": [
      "\r",
      "  3% (9504000.0 of 315360000.0) |        | Elapsed Time: 0:37:34 ETA:  21:22:56"
     ]
    },
    {
     "name": "stderr",
     "output_type": "stream",
     "text": [
      "\r",
      "  3% (9936000.0 of 315360000.0) |        | Elapsed Time: 0:39:23 ETA:  21:26:38"
     ]
    },
    {
     "name": "stderr",
     "output_type": "stream",
     "text": [
      "\r",
      "  3% (10368000.0 of 315360000.0) |       | Elapsed Time: 0:41:12 ETA:  21:14:32"
     ]
    },
    {
     "name": "stderr",
     "output_type": "stream",
     "text": [
      "\r",
      "  3% (10800000.0 of 315360000.0) |       | Elapsed Time: 0:43:00 ETA:  21:12:57"
     ]
    },
    {
     "name": "stderr",
     "output_type": "stream",
     "text": [
      "\r",
      "  3% (11232000.0 of 315360000.0) |       | Elapsed Time: 0:44:48 ETA:  21:05:13"
     ]
    },
    {
     "name": "stderr",
     "output_type": "stream",
     "text": [
      "\r",
      "  3% (11664000.0 of 315360000.0) |       | Elapsed Time: 0:46:36 ETA:  21:04:18"
     ]
    },
    {
     "name": "stderr",
     "output_type": "stream",
     "text": [
      "\r",
      "  3% (12096000.0 of 315360000.0) |       | Elapsed Time: 0:48:24 ETA:  21:06:04"
     ]
    },
    {
     "name": "stderr",
     "output_type": "stream",
     "text": [
      "\r",
      "  3% (12528000.0 of 315360000.0) |       | Elapsed Time: 0:50:13 ETA:  21:19:06"
     ]
    },
    {
     "name": "stderr",
     "output_type": "stream",
     "text": [
      "\r",
      "  4% (12960000.0 of 315360000.0) |       | Elapsed Time: 0:52:02 ETA:  21:11:39"
     ]
    },
    {
     "name": "stderr",
     "output_type": "stream",
     "text": [
      "\r",
      "  4% (13392000.0 of 315360000.0) |       | Elapsed Time: 0:53:52 ETA:  21:14:00"
     ]
    },
    {
     "name": "stderr",
     "output_type": "stream",
     "text": [
      "\r",
      "  4% (13824000.0 of 315360000.0) |       | Elapsed Time: 0:55:41 ETA:  21:16:05"
     ]
    },
    {
     "name": "stderr",
     "output_type": "stream",
     "text": [
      "\r",
      "  4% (14256000.0 of 315360000.0) |       | Elapsed Time: 0:57:32 ETA:  21:21:00"
     ]
    },
    {
     "name": "stderr",
     "output_type": "stream",
     "text": [
      "\r",
      "  4% (14688000.0 of 315360000.0) |       | Elapsed Time: 0:59:21 ETA:  21:10:08"
     ]
    },
    {
     "name": "stderr",
     "output_type": "stream",
     "text": [
      "\r",
      "  4% (15120000.0 of 315360000.0) |       | Elapsed Time: 1:01:10 ETA:  21:03:28"
     ]
    },
    {
     "name": "stderr",
     "output_type": "stream",
     "text": [
      "\r",
      "  4% (15552000.0 of 315360000.0) |       | Elapsed Time: 1:03:00 ETA:  21:10:42"
     ]
    },
    {
     "name": "stderr",
     "output_type": "stream",
     "text": [
      "\r",
      "  5% (15984000.0 of 315360000.0) |       | Elapsed Time: 1:04:50 ETA:  21:05:04"
     ]
    },
    {
     "name": "stderr",
     "output_type": "stream",
     "text": [
      "\r",
      "  5% (16416000.0 of 315360000.0) |       | Elapsed Time: 1:06:39 ETA:  21:00:56"
     ]
    },
    {
     "name": "stderr",
     "output_type": "stream",
     "text": [
      "\r",
      "  5% (16848000.0 of 315360000.0) |       | Elapsed Time: 1:08:28 ETA:  21:00:15"
     ]
    },
    {
     "name": "stderr",
     "output_type": "stream",
     "text": [
      "\r",
      "  5% (17280000.0 of 315360000.0) |       | Elapsed Time: 1:10:18 ETA:  21:01:32"
     ]
    },
    {
     "name": "stderr",
     "output_type": "stream",
     "text": [
      "\r",
      "  5% (17712000.0 of 315360000.0) |       | Elapsed Time: 1:12:08 ETA:  20:58:45"
     ]
    },
    {
     "name": "stderr",
     "output_type": "stream",
     "text": [
      "\r",
      "  5% (18144000.0 of 315360000.0) |       | Elapsed Time: 1:13:57 ETA:  20:51:57"
     ]
    },
    {
     "name": "stderr",
     "output_type": "stream",
     "text": [
      "\r",
      "  5% (18576000.0 of 315360000.0) |       | Elapsed Time: 1:15:45 ETA:  20:40:08"
     ]
    },
    {
     "name": "stderr",
     "output_type": "stream",
     "text": [
      "\r",
      "  6% (19008000.0 of 315360000.0) |       | Elapsed Time: 1:17:35 ETA:  20:51:33"
     ]
    },
    {
     "name": "stderr",
     "output_type": "stream",
     "text": [
      "\r",
      "  6% (19440000.0 of 315360000.0) |       | Elapsed Time: 1:19:23 ETA:  20:36:55"
     ]
    },
    {
     "name": "stderr",
     "output_type": "stream",
     "text": [
      "\r",
      "  6% (19872000.0 of 315360000.0) |       | Elapsed Time: 1:21:11 ETA:  20:36:00"
     ]
    },
    {
     "name": "stderr",
     "output_type": "stream",
     "text": [
      "\r",
      "  6% (20304000.0 of 315360000.0) |       | Elapsed Time: 1:22:59 ETA:  20:27:44"
     ]
    },
    {
     "name": "stderr",
     "output_type": "stream",
     "text": [
      "\r",
      "  6% (20736000.0 of 315360000.0) |       | Elapsed Time: 1:24:48 ETA:  20:31:01"
     ]
    },
    {
     "name": "stderr",
     "output_type": "stream",
     "text": [
      "\r",
      "  6% (21168000.0 of 315360000.0) |       | Elapsed Time: 1:26:36 ETA:  20:25:58"
     ]
    },
    {
     "name": "stderr",
     "output_type": "stream",
     "text": [
      "\r",
      "  6% (21600000.0 of 315360000.0) |       | Elapsed Time: 1:28:24 ETA:  20:27:57"
     ]
    },
    {
     "name": "stderr",
     "output_type": "stream",
     "text": [
      "\r",
      "  6% (22032000.0 of 315360000.0) |       | Elapsed Time: 1:30:12 ETA:  20:26:44"
     ]
    },
    {
     "name": "stderr",
     "output_type": "stream",
     "text": [
      "\r",
      "  7% (22464000.0 of 315360000.0) |       | Elapsed Time: 1:31:59 ETA:  20:11:11"
     ]
    },
    {
     "name": "stderr",
     "output_type": "stream",
     "text": [
      "\r",
      "  7% (22896000.0 of 315360000.0) |       | Elapsed Time: 1:33:48 ETA:  20:21:36"
     ]
    },
    {
     "name": "stderr",
     "output_type": "stream",
     "text": [
      "\r",
      "  7% (23328000.0 of 315360000.0) |       | Elapsed Time: 1:35:35 ETA:  20:13:28"
     ]
    },
    {
     "name": "stderr",
     "output_type": "stream",
     "text": [
      "\r",
      "  7% (23760000.0 of 315360000.0) |       | Elapsed Time: 1:37:23 ETA:  20:13:43"
     ]
    },
    {
     "name": "stderr",
     "output_type": "stream",
     "text": [
      "\r",
      "  7% (24192000.0 of 315360000.0) |       | Elapsed Time: 1:39:11 ETA:  20:11:26"
     ]
    },
    {
     "name": "stderr",
     "output_type": "stream",
     "text": [
      "\r",
      "  7% (24624000.0 of 315360000.0) |       | Elapsed Time: 1:41:00 ETA:  20:22:08"
     ]
    },
    {
     "name": "stderr",
     "output_type": "stream",
     "text": [
      "\r",
      "  7% (25056000.0 of 315360000.0) |       | Elapsed Time: 1:42:48 ETA:  20:13:00"
     ]
    },
    {
     "name": "stderr",
     "output_type": "stream",
     "text": [
      "\r",
      "  8% (25488000.0 of 315360000.0) |       | Elapsed Time: 1:44:36 ETA:  19:58:56"
     ]
    },
    {
     "name": "stderr",
     "output_type": "stream",
     "text": [
      "\r",
      "  8% (25920000.0 of 315360000.0) |       | Elapsed Time: 1:46:23 ETA:  19:59:50"
     ]
    },
    {
     "name": "stderr",
     "output_type": "stream",
     "text": [
      "\r",
      "  8% (26352000.0 of 315360000.0) |       | Elapsed Time: 1:48:12 ETA:  20:11:11"
     ]
    },
    {
     "name": "stderr",
     "output_type": "stream",
     "text": [
      "\r",
      "  8% (26784000.0 of 315360000.0) |       | Elapsed Time: 1:49:59 ETA:  19:55:32"
     ]
    },
    {
     "name": "stderr",
     "output_type": "stream",
     "text": [
      "\r",
      "  8% (27216000.0 of 315360000.0) |       | Elapsed Time: 1:51:48 ETA:  20:08:00"
     ]
    },
    {
     "name": "stderr",
     "output_type": "stream",
     "text": [
      "\r",
      "  8% (27648000.0 of 315360000.0) |       | Elapsed Time: 1:53:35 ETA:  19:48:41"
     ]
    },
    {
     "name": "stderr",
     "output_type": "stream",
     "text": [
      "\r",
      "  8% (28080000.0 of 315360000.0) |       | Elapsed Time: 1:55:22 ETA:  19:48:23"
     ]
    },
    {
     "name": "stderr",
     "output_type": "stream",
     "text": [
      "\r",
      "  9% (28512000.0 of 315360000.0) |       | Elapsed Time: 1:57:09 ETA:  19:43:38"
     ]
    },
    {
     "name": "stderr",
     "output_type": "stream",
     "text": [
      "\r",
      "  9% (28944000.0 of 315360000.0) |       | Elapsed Time: 1:58:56 ETA:  19:43:45"
     ]
    },
    {
     "name": "stderr",
     "output_type": "stream",
     "text": [
      "\r",
      "  9% (29376000.0 of 315360000.0) |       | Elapsed Time: 2:00:43 ETA:  19:36:51"
     ]
    },
    {
     "name": "stderr",
     "output_type": "stream",
     "text": [
      "\r",
      "  9% (29808000.0 of 315360000.0) |       | Elapsed Time: 2:02:30 ETA:  19:35:25"
     ]
    },
    {
     "name": "stderr",
     "output_type": "stream",
     "text": [
      "\r",
      "  9% (30240000.0 of 315360000.0) |       | Elapsed Time: 2:04:16 ETA:  19:34:59"
     ]
    },
    {
     "name": "stderr",
     "output_type": "stream",
     "text": [
      "\r",
      "  9% (30672000.0 of 315360000.0) |       | Elapsed Time: 2:06:04 ETA:  19:38:27"
     ]
    },
    {
     "name": "stderr",
     "output_type": "stream",
     "text": [
      "\r",
      "  9% (31104000.0 of 315360000.0) |       | Elapsed Time: 2:07:50 ETA:  19:24:57"
     ]
    },
    {
     "name": "stderr",
     "output_type": "stream",
     "text": [
      "\r",
      " 10% (31536000.0 of 315360000.0) |       | Elapsed Time: 2:09:37 ETA:  19:31:41"
     ]
    },
    {
     "name": "stderr",
     "output_type": "stream",
     "text": [
      "\r",
      " 10% (31968000.0 of 315360000.0) |       | Elapsed Time: 2:11:24 ETA:  19:28:46"
     ]
    },
    {
     "name": "stderr",
     "output_type": "stream",
     "text": [
      "\r",
      " 10% (32400000.0 of 315360000.0) |       | Elapsed Time: 2:13:11 ETA:  19:29:35"
     ]
    },
    {
     "name": "stderr",
     "output_type": "stream",
     "text": [
      "\r",
      " 10% (32832000.0 of 315360000.0) |       | Elapsed Time: 2:14:57 ETA:  19:19:43"
     ]
    },
    {
     "name": "stderr",
     "output_type": "stream",
     "text": [
      "\r",
      " 10% (33264000.0 of 315360000.0) |       | Elapsed Time: 2:16:44 ETA:  19:22:51"
     ]
    },
    {
     "name": "stderr",
     "output_type": "stream",
     "text": [
      "\r",
      " 10% (33696000.0 of 315360000.0) |       | Elapsed Time: 2:18:31 ETA:  19:19:16"
     ]
    },
    {
     "name": "stderr",
     "output_type": "stream",
     "text": [
      "\r",
      " 10% (34128000.0 of 315360000.0) |       | Elapsed Time: 2:20:18 ETA:  19:26:03"
     ]
    },
    {
     "name": "stderr",
     "output_type": "stream",
     "text": [
      "\r",
      " 10% (34560000.0 of 315360000.0) |       | Elapsed Time: 2:22:05 ETA:  19:10:59"
     ]
    },
    {
     "name": "stderr",
     "output_type": "stream",
     "text": [
      "\r",
      " 11% (34992000.0 of 315360000.0) |       | Elapsed Time: 2:23:50 ETA:  19:04:32"
     ]
    },
    {
     "name": "stderr",
     "output_type": "stream",
     "text": [
      "\r",
      " 11% (35424000.0 of 315360000.0) |       | Elapsed Time: 2:25:39 ETA:  19:32:41"
     ]
    },
    {
     "name": "stderr",
     "output_type": "stream",
     "text": [
      "\r",
      " 11% (35856000.0 of 315360000.0) |       | Elapsed Time: 2:27:25 ETA:  19:04:35"
     ]
    },
    {
     "name": "stderr",
     "output_type": "stream",
     "text": [
      "\r",
      " 11% (36288000.0 of 315360000.0) |       | Elapsed Time: 2:29:11 ETA:  19:03:22"
     ]
    },
    {
     "name": "stderr",
     "output_type": "stream",
     "text": [
      "\r",
      " 11% (36720000.0 of 315360000.0) |       | Elapsed Time: 2:30:58 ETA:  19:07:57"
     ]
    },
    {
     "name": "stderr",
     "output_type": "stream",
     "text": [
      "\r",
      " 11% (37152000.0 of 315360000.0) |       | Elapsed Time: 2:32:45 ETA:  19:07:20"
     ]
    },
    {
     "name": "stderr",
     "output_type": "stream",
     "text": [
      "\r",
      " 11% (37584000.0 of 315360000.0) |       | Elapsed Time: 2:34:32 ETA:  19:06:01"
     ]
    },
    {
     "name": "stderr",
     "output_type": "stream",
     "text": [
      "\r",
      " 12% (38016000.0 of 315360000.0) |       | Elapsed Time: 2:36:18 ETA:  18:55:52"
     ]
    },
    {
     "name": "stderr",
     "output_type": "stream",
     "text": [
      "\r",
      " 12% (38448000.0 of 315360000.0) |       | Elapsed Time: 2:38:04 ETA:  18:50:35"
     ]
    },
    {
     "name": "stderr",
     "output_type": "stream",
     "text": [
      "\r",
      " 12% (38880000.0 of 315360000.0) |       | Elapsed Time: 2:39:51 ETA:  18:59:57"
     ]
    },
    {
     "name": "stderr",
     "output_type": "stream",
     "text": [
      "\r",
      " 12% (39312000.0 of 315360000.0) |       | Elapsed Time: 2:41:37 ETA:  18:54:29"
     ]
    },
    {
     "name": "stderr",
     "output_type": "stream",
     "text": [
      "\r",
      " 12% (39744000.0 of 315360000.0) |       | Elapsed Time: 2:43:23 ETA:  18:44:33"
     ]
    },
    {
     "name": "stderr",
     "output_type": "stream",
     "text": [
      "\r",
      " 12% (40176000.0 of 315360000.0) |       | Elapsed Time: 2:45:09 ETA:  18:43:06"
     ]
    },
    {
     "name": "stderr",
     "output_type": "stream",
     "text": [
      "\r",
      " 12% (40608000.0 of 315360000.0) |       | Elapsed Time: 2:46:54 ETA:  18:38:30"
     ]
    },
    {
     "name": "stderr",
     "output_type": "stream",
     "text": [
      "\r",
      " 13% (41040000.0 of 315360000.0) |       | Elapsed Time: 2:48:40 ETA:  18:38:47"
     ]
    },
    {
     "name": "stderr",
     "output_type": "stream",
     "text": [
      "\r",
      " 13% (41472000.0 of 315360000.0) |       | Elapsed Time: 2:50:26 ETA:  18:39:52"
     ]
    },
    {
     "name": "stderr",
     "output_type": "stream",
     "text": [
      "\r",
      " 13% (41904000.0 of 315360000.0) |       | Elapsed Time: 2:52:12 ETA:  18:36:56"
     ]
    },
    {
     "name": "stderr",
     "output_type": "stream",
     "text": [
      "\r",
      " 13% (42336000.0 of 315360000.0) |       | Elapsed Time: 2:53:57 ETA:  18:29:25"
     ]
    },
    {
     "name": "stderr",
     "output_type": "stream",
     "text": [
      "\r",
      " 13% (42768000.0 of 315360000.0) |       | Elapsed Time: 2:55:43 ETA:  18:33:22"
     ]
    },
    {
     "name": "stderr",
     "output_type": "stream",
     "text": [
      "\r",
      " 13% (43200000.0 of 315360000.0) |       | Elapsed Time: 2:57:29 ETA:  18:27:53"
     ]
    },
    {
     "name": "stderr",
     "output_type": "stream",
     "text": [
      "\r",
      " 13% (43632000.0 of 315360000.0) |       | Elapsed Time: 2:59:14 ETA:  18:27:18"
     ]
    },
    {
     "name": "stderr",
     "output_type": "stream",
     "text": [
      "\r",
      " 13% (44064000.0 of 315360000.0) |       | Elapsed Time: 3:01:00 ETA:  18:22:41"
     ]
    },
    {
     "name": "stderr",
     "output_type": "stream",
     "text": [
      "\r",
      " 14% (44496000.0 of 315360000.0) |       | Elapsed Time: 3:02:45 ETA:  18:25:36"
     ]
    },
    {
     "name": "stderr",
     "output_type": "stream",
     "text": [
      "\r",
      " 14% (44928000.0 of 315360000.0) |       | Elapsed Time: 3:04:31 ETA:  18:22:53"
     ]
    },
    {
     "name": "stderr",
     "output_type": "stream",
     "text": [
      "\r",
      " 14% (45360000.0 of 315360000.0) |#      | Elapsed Time: 3:06:18 ETA:  18:30:59"
     ]
    },
    {
     "name": "stderr",
     "output_type": "stream",
     "text": [
      "\r",
      " 14% (45792000.0 of 315360000.0) |#      | Elapsed Time: 3:08:04 ETA:  18:20:43"
     ]
    },
    {
     "name": "stderr",
     "output_type": "stream",
     "text": [
      "\r",
      " 14% (46224000.0 of 315360000.0) |#      | Elapsed Time: 3:09:49 ETA:  18:16:42"
     ]
    },
    {
     "name": "stderr",
     "output_type": "stream",
     "text": [
      "\r",
      " 14% (46656000.0 of 315360000.0) |#      | Elapsed Time: 3:11:34 ETA:  18:11:04"
     ]
    },
    {
     "name": "stderr",
     "output_type": "stream",
     "text": [
      "\r",
      " 14% (47088000.0 of 315360000.0) |#      | Elapsed Time: 3:13:21 ETA:  18:20:39"
     ]
    },
    {
     "name": "stderr",
     "output_type": "stream",
     "text": [
      "\r",
      " 15% (47520000.0 of 315360000.0) |#      | Elapsed Time: 3:15:07 ETA:  18:13:37"
     ]
    },
    {
     "name": "stderr",
     "output_type": "stream",
     "text": [
      "\r",
      " 15% (47952000.0 of 315360000.0) |#      | Elapsed Time: 3:16:52 ETA:  18:04:24"
     ]
    },
    {
     "name": "stderr",
     "output_type": "stream",
     "text": [
      "\r",
      " 15% (48384000.0 of 315360000.0) |#      | Elapsed Time: 3:18:36 ETA:  17:58:33"
     ]
    },
    {
     "name": "stderr",
     "output_type": "stream",
     "text": [
      "\r",
      " 15% (48816000.0 of 315360000.0) |#      | Elapsed Time: 3:20:22 ETA:  18:03:39"
     ]
    },
    {
     "name": "stderr",
     "output_type": "stream",
     "text": [
      "\r",
      " 15% (49248000.0 of 315360000.0) |#      | Elapsed Time: 3:22:08 ETA:  18:09:27"
     ]
    },
    {
     "name": "stderr",
     "output_type": "stream",
     "text": [
      "\r",
      " 15% (49680000.0 of 315360000.0) |#      | Elapsed Time: 3:23:54 ETA:  18:02:40"
     ]
    },
    {
     "name": "stderr",
     "output_type": "stream",
     "text": [
      "\r",
      " 15% (50112000.0 of 315360000.0) |#      | Elapsed Time: 3:25:39 ETA:  17:57:54"
     ]
    },
    {
     "name": "stderr",
     "output_type": "stream",
     "text": [
      "\r",
      " 16% (50544000.0 of 315360000.0) |#      | Elapsed Time: 3:27:24 ETA:  17:57:31"
     ]
    },
    {
     "name": "stderr",
     "output_type": "stream",
     "text": [
      "\r",
      " 16% (50976000.0 of 315360000.0) |#      | Elapsed Time: 3:29:09 ETA:  17:45:24"
     ]
    },
    {
     "name": "stderr",
     "output_type": "stream",
     "text": [
      "\r",
      " 16% (51408000.0 of 315360000.0) |#      | Elapsed Time: 3:30:54 ETA:  17:47:35"
     ]
    },
    {
     "name": "stderr",
     "output_type": "stream",
     "text": [
      "\r",
      " 16% (51840000.0 of 315360000.0) |#      | Elapsed Time: 3:32:39 ETA:  17:46:16"
     ]
    },
    {
     "name": "stderr",
     "output_type": "stream",
     "text": [
      "\r",
      " 16% (52272000.0 of 315360000.0) |#      | Elapsed Time: 3:34:23 ETA:  17:39:53"
     ]
    },
    {
     "name": "stderr",
     "output_type": "stream",
     "text": [
      "\r",
      " 16% (52704000.0 of 315360000.0) |#      | Elapsed Time: 3:36:07 ETA:  17:38:02"
     ]
    },
    {
     "name": "stderr",
     "output_type": "stream",
     "text": [
      "\r",
      " 16% (53136000.0 of 315360000.0) |#      | Elapsed Time: 3:37:52 ETA:  17:37:06"
     ]
    },
    {
     "name": "stderr",
     "output_type": "stream",
     "text": [
      "\r",
      " 16% (53568000.0 of 315360000.0) |#      | Elapsed Time: 3:39:36 ETA:  17:35:17"
     ]
    },
    {
     "name": "stderr",
     "output_type": "stream",
     "text": [
      "\r",
      " 17% (54000000.0 of 315360000.0) |#      | Elapsed Time: 3:41:21 ETA:  17:37:27"
     ]
    },
    {
     "name": "stderr",
     "output_type": "stream",
     "text": [
      "\r",
      " 17% (54432000.0 of 315360000.0) |#      | Elapsed Time: 3:43:05 ETA:  17:28:36"
     ]
    },
    {
     "name": "stderr",
     "output_type": "stream",
     "text": [
      "\r",
      " 17% (54864000.0 of 315360000.0) |#      | Elapsed Time: 3:44:50 ETA:  17:31:30"
     ]
    },
    {
     "name": "stderr",
     "output_type": "stream",
     "text": [
      "\r",
      " 17% (55296000.0 of 315360000.0) |#      | Elapsed Time: 3:46:34 ETA:  17:22:57"
     ]
    },
    {
     "name": "stderr",
     "output_type": "stream",
     "text": [
      "\r",
      " 17% (55728000.0 of 315360000.0) |#      | Elapsed Time: 3:48:18 ETA:  17:25:38"
     ]
    },
    {
     "name": "stderr",
     "output_type": "stream",
     "text": [
      "\r",
      " 17% (56160000.0 of 315360000.0) |#      | Elapsed Time: 3:50:02 ETA:  17:20:00"
     ]
    },
    {
     "name": "stderr",
     "output_type": "stream",
     "text": [
      "\r",
      " 17% (56592000.0 of 315360000.0) |#      | Elapsed Time: 3:51:46 ETA:  17:17:37"
     ]
    },
    {
     "name": "stderr",
     "output_type": "stream",
     "text": [
      "\r",
      " 18% (57024000.0 of 315360000.0) |#      | Elapsed Time: 3:53:31 ETA:  17:19:25"
     ]
    },
    {
     "name": "stderr",
     "output_type": "stream",
     "text": [
      "\r",
      " 18% (57456000.0 of 315360000.0) |#      | Elapsed Time: 3:55:18 ETA:  17:44:48"
     ]
    },
    {
     "name": "stderr",
     "output_type": "stream",
     "text": [
      "\r",
      " 18% (57888000.0 of 315360000.0) |#      | Elapsed Time: 3:57:02 ETA:  17:18:14"
     ]
    },
    {
     "name": "stderr",
     "output_type": "stream",
     "text": [
      "\r",
      " 18% (58320000.0 of 315360000.0) |#      | Elapsed Time: 3:58:47 ETA:  17:18:40"
     ]
    },
    {
     "name": "stderr",
     "output_type": "stream",
     "text": [
      "\r",
      " 18% (58752000.0 of 315360000.0) |#      | Elapsed Time: 4:00:31 ETA:  17:14:26"
     ]
    },
    {
     "name": "stderr",
     "output_type": "stream",
     "text": [
      "\r",
      " 18% (59184000.0 of 315360000.0) |#      | Elapsed Time: 4:02:16 ETA:  17:12:45"
     ]
    },
    {
     "name": "stderr",
     "output_type": "stream",
     "text": [
      "\r",
      " 18% (59616000.0 of 315360000.0) |#      | Elapsed Time: 4:04:00 ETA:  17:06:09"
     ]
    },
    {
     "name": "stderr",
     "output_type": "stream",
     "text": [
      "\r",
      " 19% (60048000.0 of 315360000.0) |#      | Elapsed Time: 4:05:44 ETA:  17:02:40"
     ]
    },
    {
     "name": "stderr",
     "output_type": "stream",
     "text": [
      "\r",
      " 19% (60480000.0 of 315360000.0) |#      | Elapsed Time: 4:07:28 ETA:  17:08:18"
     ]
    },
    {
     "name": "stderr",
     "output_type": "stream",
     "text": [
      "\r",
      " 19% (60912000.0 of 315360000.0) |#      | Elapsed Time: 4:09:13 ETA:  17:06:08"
     ]
    },
    {
     "name": "stderr",
     "output_type": "stream",
     "text": [
      "\r",
      " 19% (61344000.0 of 315360000.0) |#      | Elapsed Time: 4:10:57 ETA:  17:00:38"
     ]
    },
    {
     "name": "stderr",
     "output_type": "stream",
     "text": [
      "\r",
      " 19% (61776000.0 of 315360000.0) |#      | Elapsed Time: 4:12:41 ETA:  16:57:41"
     ]
    },
    {
     "name": "stderr",
     "output_type": "stream",
     "text": [
      "\r",
      " 19% (62208000.0 of 315360000.0) |#      | Elapsed Time: 4:14:25 ETA:  16:52:37"
     ]
    },
    {
     "name": "stderr",
     "output_type": "stream",
     "text": [
      "\r",
      " 19% (62640000.0 of 315360000.0) |#      | Elapsed Time: 4:16:09 ETA:  16:53:36"
     ]
    },
    {
     "name": "stderr",
     "output_type": "stream",
     "text": [
      "\r",
      " 20% (63072000.0 of 315360000.0) |#      | Elapsed Time: 4:17:53 ETA:  16:51:20"
     ]
    },
    {
     "name": "stderr",
     "output_type": "stream",
     "text": [
      "\r",
      " 20% (63504000.0 of 315360000.0) |#      | Elapsed Time: 4:19:36 ETA:  16:45:47"
     ]
    },
    {
     "name": "stderr",
     "output_type": "stream",
     "text": [
      "\r",
      " 20% (63936000.0 of 315360000.0) |#      | Elapsed Time: 4:21:20 ETA:  16:43:44"
     ]
    },
    {
     "name": "stderr",
     "output_type": "stream",
     "text": [
      "\r",
      " 20% (64368000.0 of 315360000.0) |#      | Elapsed Time: 4:23:04 ETA:  16:47:26"
     ]
    },
    {
     "name": "stderr",
     "output_type": "stream",
     "text": [
      "\r",
      " 20% (64800000.0 of 315360000.0) |#      | Elapsed Time: 4:24:47 ETA:  16:37:25"
     ]
    },
    {
     "name": "stderr",
     "output_type": "stream",
     "text": [
      "\r",
      " 20% (65232000.0 of 315360000.0) |#      | Elapsed Time: 4:26:30 ETA:  16:39:55"
     ]
    },
    {
     "name": "stderr",
     "output_type": "stream",
     "text": [
      "\r",
      " 20% (65664000.0 of 315360000.0) |#      | Elapsed Time: 4:28:14 ETA:  16:38:36"
     ]
    },
    {
     "name": "stderr",
     "output_type": "stream",
     "text": [
      "\r",
      " 20% (66096000.0 of 315360000.0) |#      | Elapsed Time: 4:29:58 ETA:  16:38:51"
     ]
    },
    {
     "name": "stderr",
     "output_type": "stream",
     "text": [
      "\r",
      " 21% (66528000.0 of 315360000.0) |#      | Elapsed Time: 4:31:41 ETA:  16:32:44"
     ]
    },
    {
     "name": "stderr",
     "output_type": "stream",
     "text": [
      "\r",
      " 21% (66960000.0 of 315360000.0) |#      | Elapsed Time: 4:33:25 ETA:  16:36:35"
     ]
    },
    {
     "name": "stderr",
     "output_type": "stream",
     "text": [
      "\r",
      " 21% (67392000.0 of 315360000.0) |#      | Elapsed Time: 4:35:09 ETA:  16:27:30"
     ]
    },
    {
     "name": "stderr",
     "output_type": "stream",
     "text": [
      "\r",
      " 21% (67824000.0 of 315360000.0) |#      | Elapsed Time: 4:36:53 ETA:  16:35:29"
     ]
    },
    {
     "name": "stderr",
     "output_type": "stream",
     "text": [
      "\r",
      " 21% (68256000.0 of 315360000.0) |#      | Elapsed Time: 4:38:36 ETA:  16:23:50"
     ]
    },
    {
     "name": "stderr",
     "output_type": "stream",
     "text": [
      "\r",
      " 21% (68688000.0 of 315360000.0) |#      | Elapsed Time: 4:40:19 ETA:  16:22:33"
     ]
    },
    {
     "name": "stderr",
     "output_type": "stream",
     "text": [
      "\r",
      " 21% (69120000.0 of 315360000.0) |#      | Elapsed Time: 4:42:02 ETA:  16:20:48"
     ]
    },
    {
     "name": "stderr",
     "output_type": "stream",
     "text": [
      "\r",
      " 22% (69552000.0 of 315360000.0) |#      | Elapsed Time: 4:43:46 ETA:  16:17:45"
     ]
    },
    {
     "name": "stderr",
     "output_type": "stream",
     "text": [
      "\r",
      " 22% (69984000.0 of 315360000.0) |#      | Elapsed Time: 4:45:28 ETA:  16:14:01"
     ]
    },
    {
     "name": "stderr",
     "output_type": "stream",
     "text": [
      "\r",
      " 22% (70416000.0 of 315360000.0) |#      | Elapsed Time: 4:47:11 ETA:  16:10:50"
     ]
    },
    {
     "name": "stderr",
     "output_type": "stream",
     "text": [
      "\r",
      " 22% (70848000.0 of 315360000.0) |#      | Elapsed Time: 4:48:54 ETA:  16:09:31"
     ]
    },
    {
     "name": "stderr",
     "output_type": "stream",
     "text": [
      "\r",
      " 22% (71280000.0 of 315360000.0) |#      | Elapsed Time: 4:50:37 ETA:  16:12:40"
     ]
    },
    {
     "name": "stderr",
     "output_type": "stream",
     "text": [
      "\r",
      " 22% (71712000.0 of 315360000.0) |#      | Elapsed Time: 4:52:20 ETA:  16:08:27"
     ]
    },
    {
     "name": "stderr",
     "output_type": "stream",
     "text": [
      "\r",
      " 22% (72144000.0 of 315360000.0) |#      | Elapsed Time: 4:54:03 ETA:  16:04:27"
     ]
    },
    {
     "name": "stderr",
     "output_type": "stream",
     "text": [
      "\r",
      " 23% (72576000.0 of 315360000.0) |#      | Elapsed Time: 4:55:46 ETA:  16:07:31"
     ]
    },
    {
     "name": "stderr",
     "output_type": "stream",
     "text": [
      "\r",
      " 23% (73008000.0 of 315360000.0) |#      | Elapsed Time: 4:57:29 ETA:  15:59:06"
     ]
    },
    {
     "name": "stderr",
     "output_type": "stream",
     "text": [
      "\r",
      " 23% (73440000.0 of 315360000.0) |#      | Elapsed Time: 4:59:12 ETA:  15:57:56"
     ]
    },
    {
     "name": "stderr",
     "output_type": "stream",
     "text": [
      "\r",
      " 23% (73872000.0 of 315360000.0) |#      | Elapsed Time: 5:00:54 ETA:  15:57:22"
     ]
    },
    {
     "name": "stderr",
     "output_type": "stream",
     "text": [
      "\r",
      " 23% (74304000.0 of 315360000.0) |#      | Elapsed Time: 5:02:37 ETA:  15:54:47"
     ]
    },
    {
     "name": "stderr",
     "output_type": "stream",
     "text": [
      "\r",
      " 23% (74736000.0 of 315360000.0) |#      | Elapsed Time: 5:04:20 ETA:  15:55:50"
     ]
    },
    {
     "name": "stderr",
     "output_type": "stream",
     "text": [
      "\r",
      " 23% (75168000.0 of 315360000.0) |#      | Elapsed Time: 5:06:03 ETA:  15:54:47"
     ]
    },
    {
     "name": "stderr",
     "output_type": "stream",
     "text": [
      "\r",
      " 23% (75600000.0 of 315360000.0) |#      | Elapsed Time: 5:07:45 ETA:  15:46:58"
     ]
    },
    {
     "name": "stderr",
     "output_type": "stream",
     "text": [
      "\r",
      " 24% (76032000.0 of 315360000.0) |#      | Elapsed Time: 5:09:28 ETA:  15:43:44"
     ]
    },
    {
     "name": "stderr",
     "output_type": "stream",
     "text": [
      "\r",
      " 24% (76464000.0 of 315360000.0) |#      | Elapsed Time: 5:11:10 ETA:  15:46:37"
     ]
    },
    {
     "name": "stderr",
     "output_type": "stream",
     "text": [
      "\r",
      " 24% (76896000.0 of 315360000.0) |#      | Elapsed Time: 5:12:53 ETA:  15:46:12"
     ]
    },
    {
     "name": "stderr",
     "output_type": "stream",
     "text": [
      "\r",
      " 24% (77328000.0 of 315360000.0) |#      | Elapsed Time: 5:14:36 ETA:  15:42:21"
     ]
    },
    {
     "name": "stderr",
     "output_type": "stream",
     "text": [
      "\r",
      " 24% (77760000.0 of 315360000.0) |#      | Elapsed Time: 5:16:18 ETA:  15:39:11"
     ]
    },
    {
     "name": "stderr",
     "output_type": "stream",
     "text": [
      "\r",
      " 24% (78192000.0 of 315360000.0) |#      | Elapsed Time: 5:18:01 ETA:  15:43:38"
     ]
    },
    {
     "name": "stderr",
     "output_type": "stream",
     "text": [
      "\r",
      " 24% (78624000.0 of 315360000.0) |#      | Elapsed Time: 5:19:44 ETA:  15:34:22"
     ]
    },
    {
     "name": "stderr",
     "output_type": "stream",
     "text": [
      "\r",
      " 25% (79056000.0 of 315360000.0) |#      | Elapsed Time: 5:21:26 ETA:  15:30:15"
     ]
    },
    {
     "name": "stderr",
     "output_type": "stream",
     "text": [
      "\r",
      " 25% (79488000.0 of 315360000.0) |#      | Elapsed Time: 5:23:07 ETA:  15:25:28"
     ]
    },
    {
     "name": "stderr",
     "output_type": "stream",
     "text": [
      "\r",
      " 25% (79920000.0 of 315360000.0) |#      | Elapsed Time: 5:24:50 ETA:  15:29:43"
     ]
    },
    {
     "name": "stderr",
     "output_type": "stream",
     "text": [
      "\r",
      " 25% (80352000.0 of 315360000.0) |#      | Elapsed Time: 5:26:32 ETA:  15:25:20"
     ]
    },
    {
     "name": "stderr",
     "output_type": "stream",
     "text": [
      "\r",
      " 25% (80784000.0 of 315360000.0) |#      | Elapsed Time: 5:28:14 ETA:  15:25:49"
     ]
    },
    {
     "name": "stderr",
     "output_type": "stream",
     "text": [
      "\r",
      " 25% (81216000.0 of 315360000.0) |#      | Elapsed Time: 5:29:56 ETA:  15:21:23"
     ]
    },
    {
     "name": "stderr",
     "output_type": "stream",
     "text": [
      "\r",
      " 25% (81648000.0 of 315360000.0) |#      | Elapsed Time: 5:31:38 ETA:  15:17:41"
     ]
    },
    {
     "name": "stderr",
     "output_type": "stream",
     "text": [
      "\r",
      " 26% (82080000.0 of 315360000.0) |#      | Elapsed Time: 5:33:20 ETA:  15:18:34"
     ]
    },
    {
     "name": "stderr",
     "output_type": "stream",
     "text": [
      "\r",
      " 26% (82512000.0 of 315360000.0) |#      | Elapsed Time: 5:35:01 ETA:  15:11:54"
     ]
    },
    {
     "name": "stderr",
     "output_type": "stream",
     "text": [
      "\r",
      " 26% (82944000.0 of 315360000.0) |#      | Elapsed Time: 5:36:43 ETA:  15:10:13"
     ]
    },
    {
     "name": "stderr",
     "output_type": "stream",
     "text": [
      "\r",
      " 26% (83376000.0 of 315360000.0) |#      | Elapsed Time: 5:38:25 ETA:  15:11:27"
     ]
    },
    {
     "name": "stderr",
     "output_type": "stream",
     "text": [
      "\r",
      " 26% (83808000.0 of 315360000.0) |#      | Elapsed Time: 5:40:06 ETA:  15:08:07"
     ]
    },
    {
     "name": "stderr",
     "output_type": "stream",
     "text": [
      "\r",
      " 26% (84240000.0 of 315360000.0) |#      | Elapsed Time: 5:41:48 ETA:  15:06:37"
     ]
    },
    {
     "name": "stderr",
     "output_type": "stream",
     "text": [
      "\r",
      " 26% (84672000.0 of 315360000.0) |#      | Elapsed Time: 5:43:30 ETA:  15:02:53"
     ]
    },
    {
     "name": "stderr",
     "output_type": "stream",
     "text": [
      "\r",
      " 26% (85104000.0 of 315360000.0) |#      | Elapsed Time: 5:45:11 ETA:  14:59:59"
     ]
    },
    {
     "name": "stderr",
     "output_type": "stream",
     "text": [
      "\r",
      " 27% (85536000.0 of 315360000.0) |#      | Elapsed Time: 5:46:52 ETA:  14:59:08"
     ]
    },
    {
     "name": "stderr",
     "output_type": "stream",
     "text": [
      "\r",
      " 27% (85968000.0 of 315360000.0) |#      | Elapsed Time: 5:48:33 ETA:  14:54:00"
     ]
    },
    {
     "name": "stderr",
     "output_type": "stream",
     "text": [
      "\r",
      " 27% (86400000.0 of 315360000.0) |#      | Elapsed Time: 5:50:14 ETA:  14:53:24"
     ]
    },
    {
     "name": "stderr",
     "output_type": "stream",
     "text": [
      "\r",
      " 27% (86832000.0 of 315360000.0) |#      | Elapsed Time: 5:51:55 ETA:  14:50:20"
     ]
    },
    {
     "name": "stderr",
     "output_type": "stream",
     "text": [
      "\r",
      " 27% (87264000.0 of 315360000.0) |#      | Elapsed Time: 5:53:36 ETA:  14:48:16"
     ]
    },
    {
     "name": "stderr",
     "output_type": "stream",
     "text": [
      "\r",
      " 27% (87696000.0 of 315360000.0) |#      | Elapsed Time: 5:55:17 ETA:  14:46:26"
     ]
    },
    {
     "name": "stderr",
     "output_type": "stream",
     "text": [
      "\r",
      " 27% (88128000.0 of 315360000.0) |#      | Elapsed Time: 5:56:58 ETA:  14:44:45"
     ]
    },
    {
     "name": "stderr",
     "output_type": "stream",
     "text": [
      "\r",
      " 28% (88560000.0 of 315360000.0) |#      | Elapsed Time: 5:58:38 ETA:  14:36:06"
     ]
    },
    {
     "name": "stderr",
     "output_type": "stream",
     "text": [
      "\r",
      " 28% (88992000.0 of 315360000.0) |#      | Elapsed Time: 6:00:19 ETA:  14:40:51"
     ]
    },
    {
     "name": "stderr",
     "output_type": "stream",
     "text": [
      "\r",
      " 28% (89424000.0 of 315360000.0) |#      | Elapsed Time: 6:02:00 ETA:  14:36:57"
     ]
    },
    {
     "name": "stderr",
     "output_type": "stream",
     "text": [
      "\r",
      " 28% (89856000.0 of 315360000.0) |#      | Elapsed Time: 6:03:40 ETA:  14:33:53"
     ]
    },
    {
     "name": "stderr",
     "output_type": "stream",
     "text": [
      "\r",
      " 28% (90288000.0 of 315360000.0) |##     | Elapsed Time: 6:05:20 ETA:  14:27:32"
     ]
    },
    {
     "name": "stderr",
     "output_type": "stream",
     "text": [
      "\r",
      " 28% (90720000.0 of 315360000.0) |##     | Elapsed Time: 6:07:00 ETA:  14:26:01"
     ]
    },
    {
     "name": "stderr",
     "output_type": "stream",
     "text": [
      "\r",
      " 28% (91152000.0 of 315360000.0) |##     | Elapsed Time: 6:08:40 ETA:  14:24:56"
     ]
    },
    {
     "name": "stderr",
     "output_type": "stream",
     "text": [
      "\r",
      " 29% (91584000.0 of 315360000.0) |##     | Elapsed Time: 6:10:20 ETA:  14:18:27"
     ]
    },
    {
     "name": "stderr",
     "output_type": "stream",
     "text": [
      "\r",
      " 29% (92016000.0 of 315360000.0) |##     | Elapsed Time: 6:11:59 ETA:  14:20:58"
     ]
    },
    {
     "name": "stderr",
     "output_type": "stream",
     "text": [
      "\r",
      " 29% (92448000.0 of 315360000.0) |##     | Elapsed Time: 6:13:39 ETA:  14:17:28"
     ]
    },
    {
     "name": "stderr",
     "output_type": "stream",
     "text": [
      "\r",
      " 29% (92880000.0 of 315360000.0) |##     | Elapsed Time: 6:15:19 ETA:  14:19:25"
     ]
    },
    {
     "name": "stderr",
     "output_type": "stream",
     "text": [
      "\r",
      " 29% (93312000.0 of 315360000.0) |##     | Elapsed Time: 6:16:59 ETA:  14:13:12"
     ]
    },
    {
     "name": "stderr",
     "output_type": "stream",
     "text": [
      "\r",
      " 29% (93744000.0 of 315360000.0) |##     | Elapsed Time: 6:18:39 ETA:  14:20:01"
     ]
    },
    {
     "name": "stderr",
     "output_type": "stream",
     "text": [
      "\r",
      " 29% (94176000.0 of 315360000.0) |##     | Elapsed Time: 6:20:19 ETA:  14:10:24"
     ]
    },
    {
     "name": "stderr",
     "output_type": "stream",
     "text": [
      "\r",
      " 30% (94608000.0 of 315360000.0) |##     | Elapsed Time: 6:21:59 ETA:  14:12:14"
     ]
    },
    {
     "name": "stderr",
     "output_type": "stream",
     "text": [
      "\r",
      " 30% (95040000.0 of 315360000.0) |##     | Elapsed Time: 6:23:40 ETA:  14:12:51"
     ]
    },
    {
     "name": "stderr",
     "output_type": "stream",
     "text": [
      "\r",
      " 30% (95472000.0 of 315360000.0) |##     | Elapsed Time: 6:25:19 ETA:  14:05:42"
     ]
    },
    {
     "name": "stderr",
     "output_type": "stream",
     "text": [
      "\r",
      " 30% (95904000.0 of 315360000.0) |##     | Elapsed Time: 6:26:59 ETA:  14:05:57"
     ]
    },
    {
     "name": "stderr",
     "output_type": "stream",
     "text": [
      "\r",
      " 30% (96336000.0 of 315360000.0) |##     | Elapsed Time: 6:28:38 ETA:  13:53:14"
     ]
    },
    {
     "name": "stderr",
     "output_type": "stream",
     "text": [
      "\r",
      " 30% (96768000.0 of 315360000.0) |##     | Elapsed Time: 6:30:17 ETA:  13:55:43"
     ]
    },
    {
     "name": "stderr",
     "output_type": "stream",
     "text": [
      "\r",
      " 30% (97200000.0 of 315360000.0) |##     | Elapsed Time: 6:31:57 ETA:  14:01:35"
     ]
    },
    {
     "name": "stderr",
     "output_type": "stream",
     "text": [
      "\r",
      " 30% (97632000.0 of 315360000.0) |##     | Elapsed Time: 6:33:36 ETA:  13:54:59"
     ]
    },
    {
     "name": "stderr",
     "output_type": "stream",
     "text": [
      "\r",
      " 31% (98064000.0 of 315360000.0) |##     | Elapsed Time: 6:35:16 ETA:  13:53:07"
     ]
    },
    {
     "name": "stderr",
     "output_type": "stream",
     "text": [
      "\r",
      " 31% (98496000.0 of 315360000.0) |##     | Elapsed Time: 6:36:55 ETA:  13:50:36"
     ]
    },
    {
     "name": "stderr",
     "output_type": "stream",
     "text": [
      "\r",
      " 31% (98928000.0 of 315360000.0) |##     | Elapsed Time: 6:38:33 ETA:  13:40:48"
     ]
    },
    {
     "name": "stderr",
     "output_type": "stream",
     "text": [
      "\r",
      " 31% (99360000.0 of 315360000.0) |##     | Elapsed Time: 6:40:12 ETA:  13:42:01"
     ]
    },
    {
     "name": "stderr",
     "output_type": "stream",
     "text": [
      "\r",
      " 31% (99792000.0 of 315360000.0) |##     | Elapsed Time: 6:41:51 ETA:  13:46:22"
     ]
    },
    {
     "name": "stderr",
     "output_type": "stream",
     "text": [
      "\r",
      " 31% (100224000.0 of 315360000.0) |#     | Elapsed Time: 6:43:30 ETA:  13:43:33"
     ]
    },
    {
     "name": "stderr",
     "output_type": "stream",
     "text": [
      "\r",
      " 31% (100656000.0 of 315360000.0) |#     | Elapsed Time: 6:45:09 ETA:  13:34:32"
     ]
    },
    {
     "name": "stderr",
     "output_type": "stream",
     "text": [
      "\r",
      " 32% (101088000.0 of 315360000.0) |#     | Elapsed Time: 6:46:47 ETA:  13:30:04"
     ]
    },
    {
     "name": "stderr",
     "output_type": "stream",
     "text": [
      "\r",
      " 32% (101520000.0 of 315360000.0) |#     | Elapsed Time: 6:48:25 ETA:  13:28:53"
     ]
    },
    {
     "name": "stderr",
     "output_type": "stream",
     "text": [
      "\r",
      " 32% (101952000.0 of 315360000.0) |#     | Elapsed Time: 6:50:04 ETA:  13:32:50"
     ]
    },
    {
     "name": "stderr",
     "output_type": "stream",
     "text": [
      "\r",
      " 32% (102384000.0 of 315360000.0) |#     | Elapsed Time: 6:51:20 ETA:  10:24:45"
     ]
    },
    {
     "name": "stderr",
     "output_type": "stream",
     "text": [
      "\r",
      " 32% (102427200.0 of 315360000.0) || Elapsed Time: 6:51:53 ETA:  1 day, 22:24:23"
     ]
    },
    {
     "name": "stderr",
     "output_type": "stream",
     "text": [
      "\r",
      " 32% (102816000.0 of 315360000.0) |#     | Elapsed Time: 6:53:02 ETA:  10:26:45"
     ]
    },
    {
     "name": "stderr",
     "output_type": "stream",
     "text": [
      "\r",
      " 32% (102902400.0 of 315360000.0) || Elapsed Time: 6:53:44 ETA:  1 day, 4:12:01"
     ]
    },
    {
     "name": "stderr",
     "output_type": "stream",
     "text": [
      "\r",
      " 32% (103248000.0 of 315360000.0) |#     | Elapsed Time: 6:54:45 ETA:  10:27:39"
     ]
    },
    {
     "name": "stderr",
     "output_type": "stream",
     "text": [
      "\r",
      " 32% (103334400.0 of 315360000.0) || Elapsed Time: 6:55:26 ETA:  1 day, 4:04:12"
     ]
    },
    {
     "name": "stderr",
     "output_type": "stream",
     "text": [
      "\r",
      " 32% (103680000.0 of 315360000.0) |#     | Elapsed Time: 6:56:27 ETA:  10:25:33"
     ]
    },
    {
     "name": "stderr",
     "output_type": "stream",
     "text": [
      "\r",
      " 32% (103766400.0 of 315360000.0) || Elapsed Time: 6:57:08 ETA:  1 day, 3:50:39"
     ]
    },
    {
     "name": "stderr",
     "output_type": "stream",
     "text": [
      "\r",
      " 33% (104112000.0 of 315360000.0) |#     | Elapsed Time: 6:58:09 ETA:  10:22:44"
     ]
    },
    {
     "name": "stderr",
     "output_type": "stream",
     "text": [
      "\r",
      " 33% (104198400.0 of 315360000.0) || Elapsed Time: 6:58:50 ETA:  1 day, 3:41:58"
     ]
    },
    {
     "name": "stderr",
     "output_type": "stream",
     "text": [
      "\r",
      " 33% (104544000.0 of 315360000.0) |#     | Elapsed Time: 6:59:52 ETA:  10:27:38"
     ]
    },
    {
     "name": "stderr",
     "output_type": "stream",
     "text": [
      "\r",
      " 33% (104630400.0 of 315360000.0) || Elapsed Time: 7:00:33 ETA:  1 day, 3:30:09"
     ]
    },
    {
     "name": "stderr",
     "output_type": "stream",
     "text": [
      "\r",
      " 33% (104976000.0 of 315360000.0) |#     | Elapsed Time: 7:01:34 ETA:  10:19:56"
     ]
    },
    {
     "name": "stderr",
     "output_type": "stream",
     "text": [
      "\r",
      " 33% (105062400.0 of 315360000.0) || Elapsed Time: 7:02:14 ETA:  1 day, 3:26:51"
     ]
    },
    {
     "name": "stderr",
     "output_type": "stream",
     "text": [
      "\r",
      " 33% (105408000.0 of 315360000.0) |##    | Elapsed Time: 7:03:15 ETA:  10:19:39"
     ]
    },
    {
     "name": "stderr",
     "output_type": "stream",
     "text": [
      "\r",
      " 33% (105494400.0 of 315360000.0) || Elapsed Time: 7:03:57 ETA:  1 day, 3:47:08"
     ]
    },
    {
     "name": "stderr",
     "output_type": "stream",
     "text": [
      "\r",
      " 33% (105840000.0 of 315360000.0) |##    | Elapsed Time: 7:04:58 ETA:  10:20:23"
     ]
    },
    {
     "name": "stderr",
     "output_type": "stream",
     "text": [
      "\r",
      " 33% (105926400.0 of 315360000.0) || Elapsed Time: 7:05:39 ETA:  1 day, 3:46:35"
     ]
    },
    {
     "name": "stderr",
     "output_type": "stream",
     "text": [
      "\r",
      " 33% (106272000.0 of 315360000.0) |##    | Elapsed Time: 7:06:40 ETA:  10:16:18"
     ]
    },
    {
     "name": "stderr",
     "output_type": "stream",
     "text": [
      "\r",
      " 33% (106358400.0 of 315360000.0) || Elapsed Time: 7:07:22 ETA:  1 day, 3:39:59"
     ]
    },
    {
     "name": "stderr",
     "output_type": "stream",
     "text": [
      "\r",
      " 33% (106704000.0 of 315360000.0) |##    | Elapsed Time: 7:08:22 ETA:  10:12:47"
     ]
    },
    {
     "name": "stderr",
     "output_type": "stream",
     "text": [
      "\r",
      " 33% (106790400.0 of 315360000.0) || Elapsed Time: 7:09:04 ETA:  1 day, 3:39:44"
     ]
    },
    {
     "name": "stderr",
     "output_type": "stream",
     "text": [
      "\r",
      " 33% (107136000.0 of 315360000.0) |##    | Elapsed Time: 7:10:04 ETA:  10:10:12"
     ]
    },
    {
     "name": "stderr",
     "output_type": "stream",
     "text": [
      "\r",
      " 34% (107222400.0 of 315360000.0) || Elapsed Time: 7:10:45 ETA:  1 day, 3:14:43"
     ]
    },
    {
     "name": "stderr",
     "output_type": "stream",
     "text": [
      "\r",
      " 34% (107568000.0 of 315360000.0) |##    | Elapsed Time: 7:11:46 ETA:  10:08:15"
     ]
    },
    {
     "name": "stderr",
     "output_type": "stream",
     "text": [
      "\r",
      " 34% (107654400.0 of 315360000.0) || Elapsed Time: 7:12:27 ETA:  1 day, 3:12:30"
     ]
    },
    {
     "name": "stderr",
     "output_type": "stream",
     "text": [
      "\r",
      " 34% (108000000.0 of 315360000.0) |##    | Elapsed Time: 7:13:27 ETA:  10:07:58"
     ]
    },
    {
     "name": "stderr",
     "output_type": "stream",
     "text": [
      "\r",
      " 34% (108086400.0 of 315360000.0) || Elapsed Time: 7:14:09 ETA:  1 day, 3:52:18"
     ]
    },
    {
     "name": "stderr",
     "output_type": "stream",
     "text": [
      "\r",
      " 34% (108432000.0 of 315360000.0) |##    | Elapsed Time: 7:15:10 ETA:  10:05:37"
     ]
    },
    {
     "name": "stderr",
     "output_type": "stream",
     "text": [
      "\r",
      " 34% (108518400.0 of 315360000.0) || Elapsed Time: 7:15:51 ETA:  1 day, 3:36:33"
     ]
    },
    {
     "name": "stderr",
     "output_type": "stream",
     "text": [
      "\r",
      " 34% (108864000.0 of 315360000.0) |##    | Elapsed Time: 7:16:53 ETA:  10:08:40"
     ]
    },
    {
     "name": "stderr",
     "output_type": "stream",
     "text": [
      "\r",
      " 34% (108950400.0 of 315360000.0) || Elapsed Time: 7:17:34 ETA:  1 day, 3:31:11"
     ]
    },
    {
     "name": "stderr",
     "output_type": "stream",
     "text": [
      "\r",
      " 34% (109296000.0 of 315360000.0) |##    | Elapsed Time: 7:18:35 ETA:  10:05:51"
     ]
    },
    {
     "name": "stderr",
     "output_type": "stream",
     "text": [
      "\r",
      " 34% (109382400.0 of 315360000.0) || Elapsed Time: 7:19:16 ETA:  1 day, 3:18:40"
     ]
    },
    {
     "name": "stderr",
     "output_type": "stream",
     "text": [
      "\r",
      " 34% (109728000.0 of 315360000.0) |##    | Elapsed Time: 7:20:17 ETA:  10:02:03"
     ]
    },
    {
     "name": "stderr",
     "output_type": "stream",
     "text": [
      "\r",
      " 34% (109814400.0 of 315360000.0) || Elapsed Time: 7:20:59 ETA:  1 day, 3:36:02"
     ]
    },
    {
     "name": "stderr",
     "output_type": "stream",
     "text": [
      "\r",
      " 34% (110160000.0 of 315360000.0) |##    | Elapsed Time: 7:21:59 ETA:   9:59:11"
     ]
    },
    {
     "name": "stderr",
     "output_type": "stream",
     "text": [
      "\r",
      " 34% (110246400.0 of 315360000.0) || Elapsed Time: 7:22:41 ETA:  1 day, 3:11:28"
     ]
    },
    {
     "name": "stderr",
     "output_type": "stream",
     "text": [
      "\r",
      " 35% (110592000.0 of 315360000.0) |##    | Elapsed Time: 7:23:41 ETA:   9:58:20"
     ]
    },
    {
     "name": "stderr",
     "output_type": "stream",
     "text": [
      "\r",
      " 35% (110678400.0 of 315360000.0) || Elapsed Time: 7:24:23 ETA:  1 day, 3:28:56"
     ]
    },
    {
     "name": "stderr",
     "output_type": "stream",
     "text": [
      "\r",
      " 35% (111024000.0 of 315360000.0) |##    | Elapsed Time: 7:25:23 ETA:   9:55:36"
     ]
    },
    {
     "name": "stderr",
     "output_type": "stream",
     "text": [
      "\r",
      " 35% (111110400.0 of 315360000.0) || Elapsed Time: 7:26:04 ETA:  1 day, 2:58:00"
     ]
    },
    {
     "name": "stderr",
     "output_type": "stream",
     "text": [
      "\r",
      " 35% (111456000.0 of 315360000.0) |##    | Elapsed Time: 7:27:05 ETA:   9:52:48"
     ]
    },
    {
     "name": "stderr",
     "output_type": "stream",
     "text": [
      "\r",
      " 35% (111542400.0 of 315360000.0) || Elapsed Time: 7:27:46 ETA:  1 day, 2:48:09"
     ]
    },
    {
     "name": "stderr",
     "output_type": "stream",
     "text": [
      "\r",
      " 35% (111888000.0 of 315360000.0) |##    | Elapsed Time: 7:28:46 ETA:   9:50:07"
     ]
    },
    {
     "name": "stderr",
     "output_type": "stream",
     "text": [
      "\r",
      " 35% (111974400.0 of 315360000.0) || Elapsed Time: 7:29:27 ETA:  1 day, 2:54:55"
     ]
    },
    {
     "name": "stderr",
     "output_type": "stream",
     "text": [
      "\r",
      " 35% (112320000.0 of 315360000.0) |##    | Elapsed Time: 7:30:27 ETA:   9:50:22"
     ]
    },
    {
     "name": "stderr",
     "output_type": "stream",
     "text": [
      "\r",
      " 35% (112406400.0 of 315360000.0) || Elapsed Time: 7:31:09 ETA:  1 day, 3:03:23"
     ]
    },
    {
     "name": "stderr",
     "output_type": "stream",
     "text": [
      "\r",
      " 35% (112752000.0 of 315360000.0) |##    | Elapsed Time: 7:32:09 ETA:   9:49:06"
     ]
    },
    {
     "name": "stderr",
     "output_type": "stream",
     "text": [
      "\r",
      " 35% (112838400.0 of 315360000.0) || Elapsed Time: 7:32:51 ETA:  1 day, 3:04:16"
     ]
    },
    {
     "name": "stderr",
     "output_type": "stream",
     "text": [
      "\r",
      " 35% (113184000.0 of 315360000.0) |##    | Elapsed Time: 7:33:51 ETA:   9:48:49"
     ]
    },
    {
     "name": "stderr",
     "output_type": "stream",
     "text": [
      "\r",
      " 35% (113270400.0 of 315360000.0) || Elapsed Time: 7:34:32 ETA:  1 day, 2:37:09"
     ]
    },
    {
     "name": "stderr",
     "output_type": "stream",
     "text": [
      "\r",
      " 36% (113616000.0 of 315360000.0) |##    | Elapsed Time: 7:35:32 ETA:   9:45:07"
     ]
    },
    {
     "name": "stderr",
     "output_type": "stream",
     "text": [
      "\r",
      " 36% (113702400.0 of 315360000.0) || Elapsed Time: 7:36:14 ETA:  1 day, 2:54:51"
     ]
    },
    {
     "name": "stderr",
     "output_type": "stream",
     "text": [
      "\r",
      " 36% (114048000.0 of 315360000.0) |##    | Elapsed Time: 7:37:13 ETA:   9:41:23"
     ]
    },
    {
     "name": "stderr",
     "output_type": "stream",
     "text": [
      "\r",
      " 36% (114134400.0 of 315360000.0) || Elapsed Time: 7:37:55 ETA:  1 day, 2:36:18"
     ]
    },
    {
     "name": "stderr",
     "output_type": "stream",
     "text": [
      "\r",
      " 36% (114480000.0 of 315360000.0) |##    | Elapsed Time: 7:38:55 ETA:   9:42:10"
     ]
    },
    {
     "name": "stderr",
     "output_type": "stream",
     "text": [
      "\r",
      " 36% (114566400.0 of 315360000.0) || Elapsed Time: 7:39:36 ETA:  1 day, 2:25:50"
     ]
    },
    {
     "name": "stderr",
     "output_type": "stream",
     "text": [
      "\r",
      " 36% (114912000.0 of 315360000.0) |##    | Elapsed Time: 7:40:35 ETA:   9:39:06"
     ]
    },
    {
     "name": "stderr",
     "output_type": "stream",
     "text": [
      "\r",
      " 36% (114998400.0 of 315360000.0) || Elapsed Time: 7:41:17 ETA:  1 day, 2:35:12"
     ]
    },
    {
     "name": "stderr",
     "output_type": "stream",
     "text": [
      "\r",
      " 36% (115344000.0 of 315360000.0) |##    | Elapsed Time: 7:42:17 ETA:   9:38:36"
     ]
    },
    {
     "name": "stderr",
     "output_type": "stream",
     "text": [
      "\r",
      " 36% (115430400.0 of 315360000.0) || Elapsed Time: 7:42:58 ETA:  1 day, 2:28:02"
     ]
    },
    {
     "name": "stderr",
     "output_type": "stream",
     "text": [
      "\r",
      " 36% (115776000.0 of 315360000.0) |##    | Elapsed Time: 7:43:58 ETA:   9:35:22"
     ]
    },
    {
     "name": "stderr",
     "output_type": "stream",
     "text": [
      "\r",
      " 36% (115862400.0 of 315360000.0) || Elapsed Time: 7:44:38 ETA:  1 day, 2:08:18"
     ]
    },
    {
     "name": "stderr",
     "output_type": "stream",
     "text": [
      "\r",
      " 36% (116208000.0 of 315360000.0) |##    | Elapsed Time: 7:45:38 ETA:   9:35:45"
     ]
    },
    {
     "name": "stderr",
     "output_type": "stream",
     "text": [
      "\r",
      " 36% (116294400.0 of 315360000.0) || Elapsed Time: 7:46:20 ETA:  1 day, 2:41:15"
     ]
    },
    {
     "name": "stderr",
     "output_type": "stream",
     "text": [
      "\r",
      " 36% (116640000.0 of 315360000.0) |##    | Elapsed Time: 7:47:20 ETA:   9:33:34"
     ]
    },
    {
     "name": "stderr",
     "output_type": "stream",
     "text": [
      "\r",
      " 37% (116726400.0 of 315360000.0) || Elapsed Time: 7:48:01 ETA:  1 day, 2:10:41"
     ]
    },
    {
     "name": "stderr",
     "output_type": "stream",
     "text": [
      "\r",
      " 37% (117072000.0 of 315360000.0) |##    | Elapsed Time: 7:49:01 ETA:   9:32:07"
     ]
    },
    {
     "name": "stderr",
     "output_type": "stream",
     "text": [
      "\r",
      " 37% (117158400.0 of 315360000.0) || Elapsed Time: 7:49:43 ETA:  1 day, 2:37:11"
     ]
    },
    {
     "name": "stderr",
     "output_type": "stream",
     "text": [
      "\r",
      " 37% (117504000.0 of 315360000.0) |##    | Elapsed Time: 7:50:42 ETA:   9:29:22"
     ]
    },
    {
     "name": "stderr",
     "output_type": "stream",
     "text": [
      "\r",
      " 37% (117590400.0 of 315360000.0) || Elapsed Time: 7:51:23 ETA:  1 day, 1:55:45"
     ]
    },
    {
     "name": "stderr",
     "output_type": "stream",
     "text": [
      "\r",
      " 37% (117936000.0 of 315360000.0) |##    | Elapsed Time: 7:52:23 ETA:   9:28:18"
     ]
    },
    {
     "name": "stderr",
     "output_type": "stream",
     "text": [
      "\r",
      " 37% (118022400.0 of 315360000.0) || Elapsed Time: 7:53:04 ETA:  1 day, 2:13:45"
     ]
    },
    {
     "name": "stderr",
     "output_type": "stream",
     "text": [
      "\r",
      " 37% (118368000.0 of 315360000.0) |##    | Elapsed Time: 7:54:04 ETA:   9:27:29"
     ]
    },
    {
     "name": "stderr",
     "output_type": "stream",
     "text": [
      "\r",
      " 37% (118454400.0 of 315360000.0) || Elapsed Time: 7:54:45 ETA:  1 day, 1:49:52"
     ]
    },
    {
     "name": "stderr",
     "output_type": "stream",
     "text": [
      "\r",
      " 37% (118800000.0 of 315360000.0) |##    | Elapsed Time: 7:55:44 ETA:   9:22:16"
     ]
    },
    {
     "name": "stderr",
     "output_type": "stream",
     "text": [
      "\r",
      " 37% (118886400.0 of 315360000.0) || Elapsed Time: 7:56:25 ETA:  1 day, 2:05:17"
     ]
    },
    {
     "name": "stderr",
     "output_type": "stream",
     "text": [
      "\r",
      " 37% (119232000.0 of 315360000.0) |##    | Elapsed Time: 7:57:25 ETA:   9:22:54"
     ]
    },
    {
     "name": "stderr",
     "output_type": "stream",
     "text": [
      "\r",
      " 37% (119318400.0 of 315360000.0) || Elapsed Time: 7:58:06 ETA:  1 day, 1:55:43"
     ]
    },
    {
     "name": "stderr",
     "output_type": "stream",
     "text": [
      "\r",
      " 37% (119664000.0 of 315360000.0) |##    | Elapsed Time: 7:59:05 ETA:   9:18:46"
     ]
    },
    {
     "name": "stderr",
     "output_type": "stream",
     "text": [
      "\r",
      " 37% (119750400.0 of 315360000.0) || Elapsed Time: 7:59:46 ETA:  1 day, 1:37:06"
     ]
    },
    {
     "name": "stderr",
     "output_type": "stream",
     "text": [
      "\r",
      " 38% (120096000.0 of 315360000.0) |##    | Elapsed Time: 8:00:45 ETA:   9:19:08"
     ]
    },
    {
     "name": "stderr",
     "output_type": "stream",
     "text": [
      "\r",
      " 38% (120182400.0 of 315360000.0) || Elapsed Time: 8:01:26 ETA:  1 day, 1:34:27"
     ]
    },
    {
     "name": "stderr",
     "output_type": "stream",
     "text": [
      "\r",
      " 38% (120528000.0 of 315360000.0) |##    | Elapsed Time: 8:02:26 ETA:   9:20:14"
     ]
    },
    {
     "name": "stderr",
     "output_type": "stream",
     "text": [
      "\r",
      " 38% (120614400.0 of 315360000.0) || Elapsed Time: 8:03:07 ETA:  1 day, 1:53:41"
     ]
    },
    {
     "name": "stderr",
     "output_type": "stream",
     "text": [
      "\r",
      " 38% (120960000.0 of 315360000.0) |##    | Elapsed Time: 8:04:06 ETA:   9:14:47"
     ]
    },
    {
     "name": "stderr",
     "output_type": "stream",
     "text": [
      "\r",
      " 38% (121046400.0 of 315360000.0) || Elapsed Time: 8:04:47 ETA:  1 day, 1:51:00"
     ]
    },
    {
     "name": "stderr",
     "output_type": "stream",
     "text": [
      "\r",
      " 38% (121392000.0 of 315360000.0) |##    | Elapsed Time: 8:05:46 ETA:   9:12:08"
     ]
    },
    {
     "name": "stderr",
     "output_type": "stream",
     "text": [
      "\r",
      " 38% (121478400.0 of 315360000.0) || Elapsed Time: 8:06:28 ETA:  1 day, 1:43:41"
     ]
    },
    {
     "name": "stderr",
     "output_type": "stream",
     "text": [
      "\r",
      " 38% (121824000.0 of 315360000.0) |##    | Elapsed Time: 8:07:27 ETA:   9:09:23"
     ]
    },
    {
     "name": "stderr",
     "output_type": "stream",
     "text": [
      "\r",
      " 38% (121910400.0 of 315360000.0) || Elapsed Time: 8:08:08 ETA:  1 day, 1:48:59"
     ]
    },
    {
     "name": "stderr",
     "output_type": "stream",
     "text": [
      "\r",
      " 38% (122256000.0 of 315360000.0) |##    | Elapsed Time: 8:09:07 ETA:   9:10:44"
     ]
    },
    {
     "name": "stderr",
     "output_type": "stream",
     "text": [
      "\r",
      " 38% (122342400.0 of 315360000.0) || Elapsed Time: 8:09:49 ETA:  1 day, 1:48:45"
     ]
    },
    {
     "name": "stderr",
     "output_type": "stream",
     "text": [
      "\r",
      " 38% (122688000.0 of 315360000.0) |##    | Elapsed Time: 8:10:48 ETA:   9:06:46"
     ]
    },
    {
     "name": "stderr",
     "output_type": "stream",
     "text": [
      "\r",
      " 38% (122774400.0 of 315360000.0) || Elapsed Time: 8:11:30 ETA:  1 day, 1:55:53"
     ]
    },
    {
     "name": "stderr",
     "output_type": "stream",
     "text": [
      "\r",
      " 39% (123120000.0 of 315360000.0) |##    | Elapsed Time: 8:12:29 ETA:   9:08:46"
     ]
    },
    {
     "name": "stderr",
     "output_type": "stream",
     "text": [
      "\r",
      " 39% (123206400.0 of 315360000.0) || Elapsed Time: 8:13:11 ETA:  1 day, 1:47:14"
     ]
    },
    {
     "name": "stderr",
     "output_type": "stream",
     "text": [
      "\r",
      " 39% (123552000.0 of 315360000.0) |##    | Elapsed Time: 8:14:09 ETA:   9:04:30"
     ]
    },
    {
     "name": "stderr",
     "output_type": "stream",
     "text": [
      "\r",
      " 39% (123638400.0 of 315360000.0) || Elapsed Time: 8:14:51 ETA:  1 day, 1:47:01"
     ]
    },
    {
     "name": "stderr",
     "output_type": "stream",
     "text": [
      "\r",
      " 39% (123984000.0 of 315360000.0) |##    | Elapsed Time: 8:15:50 ETA:   9:02:18"
     ]
    },
    {
     "name": "stderr",
     "output_type": "stream",
     "text": [
      "\r",
      " 39% (124070400.0 of 315360000.0) || Elapsed Time: 8:16:31 ETA:  1 day, 1:19:55"
     ]
    },
    {
     "name": "stderr",
     "output_type": "stream",
     "text": [
      "\r",
      " 39% (124416000.0 of 315360000.0) |##    | Elapsed Time: 8:17:30 ETA:   8:59:54"
     ]
    },
    {
     "name": "stderr",
     "output_type": "stream",
     "text": [
      "\r",
      " 39% (124502400.0 of 315360000.0) || Elapsed Time: 8:18:11 ETA:  1 day, 0:58:37"
     ]
    },
    {
     "name": "stderr",
     "output_type": "stream",
     "text": [
      "\r",
      " 39% (124848000.0 of 315360000.0) |##    | Elapsed Time: 8:19:09 ETA:   8:57:53"
     ]
    },
    {
     "name": "stderr",
     "output_type": "stream",
     "text": [
      "\r",
      " 39% (124934400.0 of 315360000.0) || Elapsed Time: 8:19:50 ETA:  1 day, 1:16:07"
     ]
    },
    {
     "name": "stderr",
     "output_type": "stream",
     "text": [
      "\r",
      " 39% (125280000.0 of 315360000.0) |##    | Elapsed Time: 8:20:49 ETA:   8:55:47"
     ]
    },
    {
     "name": "stderr",
     "output_type": "stream",
     "text": [
      "\r",
      " 39% (125366400.0 of 315360000.0) || Elapsed Time: 8:21:30 ETA:  1 day, 1:09:37"
     ]
    },
    {
     "name": "stderr",
     "output_type": "stream",
     "text": [
      "\r",
      " 39% (125712000.0 of 315360000.0) |##    | Elapsed Time: 8:22:29 ETA:   8:55:14"
     ]
    },
    {
     "name": "stderr",
     "output_type": "stream",
     "text": [
      "\r",
      " 39% (125798400.0 of 315360000.0) || Elapsed Time: 8:23:09 ETA:  1 day, 0:45:53"
     ]
    },
    {
     "name": "stderr",
     "output_type": "stream",
     "text": [
      "\r",
      " 40% (126144000.0 of 315360000.0) |##    | Elapsed Time: 8:24:08 ETA:   8:54:15"
     ]
    },
    {
     "name": "stderr",
     "output_type": "stream",
     "text": [
      "\r",
      " 40% (126230400.0 of 315360000.0) || Elapsed Time: 8:24:48 ETA:  1 day, 0:45:07"
     ]
    },
    {
     "name": "stderr",
     "output_type": "stream",
     "text": [
      "\r",
      " 40% (126576000.0 of 315360000.0) |##    | Elapsed Time: 8:25:47 ETA:   8:52:29"
     ]
    },
    {
     "name": "stderr",
     "output_type": "stream",
     "text": [
      "\r",
      " 40% (126662400.0 of 315360000.0) || Elapsed Time: 8:26:28 ETA:  1 day, 0:41:42"
     ]
    },
    {
     "name": "stderr",
     "output_type": "stream",
     "text": [
      "\r",
      " 40% (127008000.0 of 315360000.0) |##    | Elapsed Time: 8:27:26 ETA:   8:50:10"
     ]
    },
    {
     "name": "stderr",
     "output_type": "stream",
     "text": [
      "\r",
      " 40% (127094400.0 of 315360000.0) || Elapsed Time: 8:28:07 ETA:  1 day, 0:42:02"
     ]
    },
    {
     "name": "stderr",
     "output_type": "stream",
     "text": [
      "\r",
      " 40% (127440000.0 of 315360000.0) |##    | Elapsed Time: 8:29:05 ETA:   8:48:42"
     ]
    },
    {
     "name": "stderr",
     "output_type": "stream",
     "text": [
      "\r",
      " 40% (127526400.0 of 315360000.0) || Elapsed Time: 8:29:46 ETA:  1 day, 0:29:10"
     ]
    },
    {
     "name": "stderr",
     "output_type": "stream",
     "text": [
      "\r",
      " 40% (127872000.0 of 315360000.0) |##    | Elapsed Time: 8:30:44 ETA:   8:46:52"
     ]
    },
    {
     "name": "stderr",
     "output_type": "stream",
     "text": [
      "\r",
      " 40% (127958400.0 of 315360000.0) || Elapsed Time: 8:31:24 ETA:  1 day, 0:17:09"
     ]
    },
    {
     "name": "stderr",
     "output_type": "stream",
     "text": [
      "\r",
      " 40% (128304000.0 of 315360000.0) |##    | Elapsed Time: 8:32:22 ETA:   8:45:26"
     ]
    },
    {
     "name": "stderr",
     "output_type": "stream",
     "text": [
      "\r",
      " 40% (128390400.0 of 315360000.0) || Elapsed Time: 8:33:03 ETA:  1 day, 0:37:01"
     ]
    },
    {
     "name": "stderr",
     "output_type": "stream",
     "text": [
      "\r",
      " 40% (128736000.0 of 315360000.0) |##    | Elapsed Time: 8:34:02 ETA:   8:45:37"
     ]
    },
    {
     "name": "stderr",
     "output_type": "stream",
     "text": [
      "\r",
      " 40% (128822400.0 of 315360000.0) || Elapsed Time: 8:34:42 ETA:  1 day, 0:09:32"
     ]
    },
    {
     "name": "stderr",
     "output_type": "stream",
     "text": [
      "\r",
      " 40% (129168000.0 of 315360000.0) |##    | Elapsed Time: 8:35:40 ETA:   8:42:56"
     ]
    },
    {
     "name": "stderr",
     "output_type": "stream",
     "text": [
      "\r",
      " 40% (129254400.0 of 315360000.0) |##    | Elapsed Time: 8:36:20 ETA:  23:58:08"
     ]
    },
    {
     "name": "stderr",
     "output_type": "stream",
     "text": [
      "\r",
      " 41% (129600000.0 of 315360000.0) |##    | Elapsed Time: 8:37:18 ETA:   8:39:11"
     ]
    },
    {
     "name": "stderr",
     "output_type": "stream",
     "text": [
      "\r",
      " 41% (129686400.0 of 315360000.0) || Elapsed Time: 8:37:59 ETA:  1 day, 0:14:59"
     ]
    },
    {
     "name": "stderr",
     "output_type": "stream",
     "text": [
      "\r",
      " 41% (130032000.0 of 315360000.0) |##    | Elapsed Time: 8:38:57 ETA:   8:39:31"
     ]
    },
    {
     "name": "stderr",
     "output_type": "stream",
     "text": [
      "\r",
      " 41% (130118400.0 of 315360000.0) || Elapsed Time: 8:39:38 ETA:  1 day, 0:25:16"
     ]
    },
    {
     "name": "stderr",
     "output_type": "stream",
     "text": [
      "\r",
      " 41% (130464000.0 of 315360000.0) |##    | Elapsed Time: 8:40:36 ETA:   8:37:12"
     ]
    },
    {
     "name": "stderr",
     "output_type": "stream",
     "text": [
      "\r",
      " 41% (130550400.0 of 315360000.0) || Elapsed Time: 8:41:17 ETA:  1 day, 0:05:30"
     ]
    },
    {
     "name": "stderr",
     "output_type": "stream",
     "text": [
      "\r",
      " 41% (130896000.0 of 315360000.0) |##    | Elapsed Time: 8:42:15 ETA:   8:36:36"
     ]
    },
    {
     "name": "stderr",
     "output_type": "stream",
     "text": [
      "\r",
      " 41% (130982400.0 of 315360000.0) || Elapsed Time: 8:42:56 ETA:  1 day, 0:09:45"
     ]
    },
    {
     "name": "stderr",
     "output_type": "stream",
     "text": [
      "\r",
      " 41% (131328000.0 of 315360000.0) |##    | Elapsed Time: 8:43:54 ETA:   8:38:02"
     ]
    },
    {
     "name": "stderr",
     "output_type": "stream",
     "text": [
      "\r",
      " 41% (131414400.0 of 315360000.0) || Elapsed Time: 8:44:35 ETA:  1 day, 0:20:47"
     ]
    },
    {
     "name": "stderr",
     "output_type": "stream",
     "text": [
      "\r",
      " 41% (131760000.0 of 315360000.0) |##    | Elapsed Time: 8:45:33 ETA:   8:32:07"
     ]
    },
    {
     "name": "stderr",
     "output_type": "stream",
     "text": [
      "\r",
      " 41% (131846400.0 of 315360000.0) |##    | Elapsed Time: 8:46:13 ETA:  23:56:39"
     ]
    },
    {
     "name": "stderr",
     "output_type": "stream",
     "text": [
      "\r",
      " 41% (132192000.0 of 315360000.0) |##    | Elapsed Time: 8:47:12 ETA:   8:33:21"
     ]
    },
    {
     "name": "stderr",
     "output_type": "stream",
     "text": [
      "\r",
      " 41% (132278400.0 of 315360000.0) |##    | Elapsed Time: 8:47:52 ETA:  23:55:05"
     ]
    },
    {
     "name": "stderr",
     "output_type": "stream",
     "text": [
      "\r",
      " 42% (132624000.0 of 315360000.0) |##    | Elapsed Time: 8:48:50 ETA:   8:32:23"
     ]
    },
    {
     "name": "stderr",
     "output_type": "stream",
     "text": [
      "\r",
      " 42% (132710400.0 of 315360000.0) |##    | Elapsed Time: 8:49:31 ETA:  23:34:35"
     ]
    },
    {
     "name": "stderr",
     "output_type": "stream",
     "text": [
      "\r",
      " 42% (133056000.0 of 315360000.0) |##    | Elapsed Time: 8:50:28 ETA:   8:27:46"
     ]
    },
    {
     "name": "stderr",
     "output_type": "stream",
     "text": [
      "\r",
      " 42% (133142400.0 of 315360000.0) || Elapsed Time: 8:51:09 ETA:  1 day, 0:01:16"
     ]
    },
    {
     "name": "stderr",
     "output_type": "stream",
     "text": [
      "\r",
      " 42% (133488000.0 of 315360000.0) |##    | Elapsed Time: 8:52:07 ETA:   8:24:24"
     ]
    },
    {
     "name": "stderr",
     "output_type": "stream",
     "text": [
      "\r",
      " 42% (133574400.0 of 315360000.0) |##    | Elapsed Time: 8:52:47 ETA:  23:37:15"
     ]
    },
    {
     "name": "stderr",
     "output_type": "stream",
     "text": [
      "\r",
      " 42% (133920000.0 of 315360000.0) |##    | Elapsed Time: 8:53:45 ETA:   8:25:45"
     ]
    },
    {
     "name": "stderr",
     "output_type": "stream",
     "text": [
      "\r",
      " 42% (134006400.0 of 315360000.0) |##    | Elapsed Time: 8:54:26 ETA:  23:37:56"
     ]
    },
    {
     "name": "stderr",
     "output_type": "stream",
     "text": [
      "\r",
      " 42% (134352000.0 of 315360000.0) |##    | Elapsed Time: 8:55:23 ETA:   8:22:33"
     ]
    },
    {
     "name": "stderr",
     "output_type": "stream",
     "text": [
      "\r",
      " 42% (134438400.0 of 315360000.0) |##    | Elapsed Time: 8:56:04 ETA:  23:52:48"
     ]
    },
    {
     "name": "stderr",
     "output_type": "stream",
     "text": [
      "\r",
      " 42% (134784000.0 of 315360000.0) |##    | Elapsed Time: 8:57:02 ETA:   8:24:21"
     ]
    },
    {
     "name": "stderr",
     "output_type": "stream",
     "text": [
      "\r",
      " 42% (134870400.0 of 315360000.0) |##    | Elapsed Time: 8:57:43 ETA:  23:34:13"
     ]
    },
    {
     "name": "stderr",
     "output_type": "stream",
     "text": [
      "\r",
      " 42% (135216000.0 of 315360000.0) |##    | Elapsed Time: 8:58:40 ETA:   8:20:44"
     ]
    },
    {
     "name": "stderr",
     "output_type": "stream",
     "text": [
      "\r",
      " 42% (135302400.0 of 315360000.0) |##    | Elapsed Time: 8:59:21 ETA:  23:25:41"
     ]
    },
    {
     "name": "stderr",
     "output_type": "stream",
     "text": [
      "\r",
      " 43% (135648000.0 of 315360000.0) |##    | Elapsed Time: 9:00:18 ETA:   8:17:45"
     ]
    },
    {
     "name": "stderr",
     "output_type": "stream",
     "text": [
      "\r",
      " 43% (135734400.0 of 315360000.0) |##    | Elapsed Time: 9:00:59 ETA:  23:28:48"
     ]
    },
    {
     "name": "stderr",
     "output_type": "stream",
     "text": [
      "\r",
      " 43% (136080000.0 of 315360000.0) |##    | Elapsed Time: 9:01:56 ETA:   8:14:52"
     ]
    },
    {
     "name": "stderr",
     "output_type": "stream",
     "text": [
      "\r",
      " 43% (136166400.0 of 315360000.0) |##    | Elapsed Time: 9:02:36 ETA:  23:10:55"
     ]
    },
    {
     "name": "stderr",
     "output_type": "stream",
     "text": [
      "\r",
      " 43% (136512000.0 of 315360000.0) |##    | Elapsed Time: 9:03:34 ETA:   8:14:54"
     ]
    },
    {
     "name": "stderr",
     "output_type": "stream",
     "text": [
      "\r",
      " 43% (136598400.0 of 315360000.0) |##    | Elapsed Time: 9:04:15 ETA:  23:46:52"
     ]
    },
    {
     "name": "stderr",
     "output_type": "stream",
     "text": [
      "\r",
      " 43% (136944000.0 of 315360000.0) |##    | Elapsed Time: 9:05:12 ETA:   8:11:48"
     ]
    },
    {
     "name": "stderr",
     "output_type": "stream",
     "text": [
      "\r",
      " 43% (137030400.0 of 315360000.0) |##    | Elapsed Time: 9:05:54 ETA:  23:38:00"
     ]
    },
    {
     "name": "stderr",
     "output_type": "stream",
     "text": [
      "\r",
      " 43% (137376000.0 of 315360000.0) |##    | Elapsed Time: 9:06:51 ETA:   8:10:54"
     ]
    },
    {
     "name": "stderr",
     "output_type": "stream",
     "text": [
      "\r",
      " 43% (137462400.0 of 315360000.0) |##    | Elapsed Time: 9:07:32 ETA:  23:24:44"
     ]
    },
    {
     "name": "stderr",
     "output_type": "stream",
     "text": [
      "\r",
      " 43% (137808000.0 of 315360000.0) |##    | Elapsed Time: 9:08:29 ETA:   8:07:45"
     ]
    },
    {
     "name": "stderr",
     "output_type": "stream",
     "text": [
      "\r",
      " 43% (137894400.0 of 315360000.0) |##    | Elapsed Time: 9:09:09 ETA:  22:53:57"
     ]
    },
    {
     "name": "stderr",
     "output_type": "stream",
     "text": [
      "\r",
      " 43% (138240000.0 of 315360000.0) |##    | Elapsed Time: 9:10:06 ETA:   8:10:33"
     ]
    },
    {
     "name": "stderr",
     "output_type": "stream",
     "text": [
      "\r",
      " 43% (138326400.0 of 315360000.0) |##    | Elapsed Time: 9:10:47 ETA:  22:59:27"
     ]
    },
    {
     "name": "stderr",
     "output_type": "stream",
     "text": [
      "\r",
      " 43% (138672000.0 of 315360000.0) |##    | Elapsed Time: 9:11:44 ETA:   8:09:06"
     ]
    },
    {
     "name": "stderr",
     "output_type": "stream",
     "text": [
      "\r",
      " 44% (138758400.0 of 315360000.0) |##    | Elapsed Time: 9:12:24 ETA:  22:45:05"
     ]
    },
    {
     "name": "stderr",
     "output_type": "stream",
     "text": [
      "\r",
      " 44% (139104000.0 of 315360000.0) |##    | Elapsed Time: 9:13:22 ETA:   8:11:49"
     ]
    },
    {
     "name": "stderr",
     "output_type": "stream",
     "text": [
      "\r",
      " 44% (139190400.0 of 315360000.0) |##    | Elapsed Time: 9:14:02 ETA:  22:57:51"
     ]
    },
    {
     "name": "stderr",
     "output_type": "stream",
     "text": [
      "\r",
      " 44% (139536000.0 of 315360000.0) |##    | Elapsed Time: 9:15:00 ETA:   8:04:07"
     ]
    },
    {
     "name": "stderr",
     "output_type": "stream",
     "text": [
      "\r",
      " 44% (139622400.0 of 315360000.0) |##    | Elapsed Time: 9:15:40 ETA:  22:50:14"
     ]
    },
    {
     "name": "stderr",
     "output_type": "stream",
     "text": [
      "\r",
      " 44% (139968000.0 of 315360000.0) |##    | Elapsed Time: 9:16:37 ETA:   8:03:13"
     ]
    },
    {
     "name": "stderr",
     "output_type": "stream",
     "text": [
      "\r",
      " 44% (140054400.0 of 315360000.0) |##    | Elapsed Time: 9:17:18 ETA:  22:47:44"
     ]
    },
    {
     "name": "stderr",
     "output_type": "stream",
     "text": [
      "\r",
      " 44% (140400000.0 of 315360000.0) |##    | Elapsed Time: 9:18:15 ETA:   8:00:40"
     ]
    },
    {
     "name": "stderr",
     "output_type": "stream",
     "text": [
      "\r",
      " 44% (140486400.0 of 315360000.0) |##    | Elapsed Time: 9:18:55 ETA:  22:42:44"
     ]
    },
    {
     "name": "stderr",
     "output_type": "stream",
     "text": [
      "\r",
      " 44% (140832000.0 of 315360000.0) |##    | Elapsed Time: 9:19:52 ETA:   7:59:45"
     ]
    },
    {
     "name": "stderr",
     "output_type": "stream",
     "text": [
      "\r",
      " 44% (140918400.0 of 315360000.0) |##    | Elapsed Time: 9:20:33 ETA:  22:57:12"
     ]
    },
    {
     "name": "stderr",
     "output_type": "stream",
     "text": [
      "\r",
      " 44% (141264000.0 of 315360000.0) |##    | Elapsed Time: 9:21:30 ETA:   8:00:59"
     ]
    },
    {
     "name": "stderr",
     "output_type": "stream",
     "text": [
      "\r",
      " 44% (141350400.0 of 315360000.0) |##    | Elapsed Time: 9:22:11 ETA:  22:51:02"
     ]
    },
    {
     "name": "stderr",
     "output_type": "stream",
     "text": [
      "\r",
      " 44% (141696000.0 of 315360000.0) |##    | Elapsed Time: 9:23:08 ETA:   7:56:14"
     ]
    },
    {
     "name": "stderr",
     "output_type": "stream",
     "text": [
      "\r",
      " 44% (141782400.0 of 315360000.0) |##    | Elapsed Time: 9:23:48 ETA:  22:29:53"
     ]
    },
    {
     "name": "stderr",
     "output_type": "stream",
     "text": [
      "\r",
      " 45% (142128000.0 of 315360000.0) |##    | Elapsed Time: 9:24:45 ETA:   7:53:58"
     ]
    },
    {
     "name": "stderr",
     "output_type": "stream",
     "text": [
      "\r",
      " 45% (142214400.0 of 315360000.0) |##    | Elapsed Time: 9:25:26 ETA:  22:55:08"
     ]
    },
    {
     "name": "stderr",
     "output_type": "stream",
     "text": [
      "\r",
      " 45% (142560000.0 of 315360000.0) |##    | Elapsed Time: 9:26:23 ETA:   7:51:26"
     ]
    },
    {
     "name": "stderr",
     "output_type": "stream",
     "text": [
      "\r",
      " 45% (142646400.0 of 315360000.0) |##    | Elapsed Time: 9:27:03 ETA:  22:08:58"
     ]
    },
    {
     "name": "stderr",
     "output_type": "stream",
     "text": [
      "\r",
      " 45% (142992000.0 of 315360000.0) |##    | Elapsed Time: 9:28:00 ETA:   7:53:44"
     ]
    },
    {
     "name": "stderr",
     "output_type": "stream",
     "text": [
      "\r",
      " 45% (143078400.0 of 315360000.0) |##    | Elapsed Time: 9:28:40 ETA:  22:23:48"
     ]
    },
    {
     "name": "stderr",
     "output_type": "stream",
     "text": [
      "\r",
      " 45% (143424000.0 of 315360000.0) |##    | Elapsed Time: 9:29:37 ETA:   7:50:27"
     ]
    },
    {
     "name": "stderr",
     "output_type": "stream",
     "text": [
      "\r",
      " 45% (143510400.0 of 315360000.0) |##    | Elapsed Time: 9:30:17 ETA:  22:05:38"
     ]
    },
    {
     "name": "stderr",
     "output_type": "stream",
     "text": [
      "\r",
      " 45% (143856000.0 of 315360000.0) |##    | Elapsed Time: 9:31:13 ETA:   7:46:55"
     ]
    },
    {
     "name": "stderr",
     "output_type": "stream",
     "text": [
      "\r",
      " 45% (143942400.0 of 315360000.0) |##    | Elapsed Time: 9:31:54 ETA:  22:19:07"
     ]
    },
    {
     "name": "stderr",
     "output_type": "stream",
     "text": [
      "\r",
      " 45% (144288000.0 of 315360000.0) |##    | Elapsed Time: 9:32:50 ETA:   7:47:08"
     ]
    },
    {
     "name": "stderr",
     "output_type": "stream",
     "text": [
      "\r",
      " 45% (144374400.0 of 315360000.0) |##    | Elapsed Time: 9:33:31 ETA:  22:12:09"
     ]
    },
    {
     "name": "stderr",
     "output_type": "stream",
     "text": [
      "\r",
      " 45% (144720000.0 of 315360000.0) |##    | Elapsed Time: 9:34:27 ETA:   7:45:09"
     ]
    },
    {
     "name": "stderr",
     "output_type": "stream",
     "text": [
      "\r",
      " 45% (144806400.0 of 315360000.0) |##    | Elapsed Time: 9:35:07 ETA:  21:54:16"
     ]
    },
    {
     "name": "stderr",
     "output_type": "stream",
     "text": [
      "\r",
      " 46% (145152000.0 of 315360000.0) |##    | Elapsed Time: 9:36:04 ETA:   7:44:14"
     ]
    },
    {
     "name": "stderr",
     "output_type": "stream",
     "text": [
      "\r",
      " 46% (145238400.0 of 315360000.0) |##    | Elapsed Time: 9:36:45 ETA:  22:27:09"
     ]
    },
    {
     "name": "stderr",
     "output_type": "stream",
     "text": [
      "\r",
      " 46% (145584000.0 of 315360000.0) |##    | Elapsed Time: 9:37:41 ETA:   7:41:19"
     ]
    },
    {
     "name": "stderr",
     "output_type": "stream",
     "text": [
      "\r",
      " 46% (145670400.0 of 315360000.0) |##    | Elapsed Time: 9:38:21 ETA:  21:59:45"
     ]
    },
    {
     "name": "stderr",
     "output_type": "stream",
     "text": [
      "\r",
      " 46% (146016000.0 of 315360000.0) |##    | Elapsed Time: 9:39:18 ETA:   7:41:39"
     ]
    },
    {
     "name": "stderr",
     "output_type": "stream",
     "text": [
      "\r",
      " 46% (146102400.0 of 315360000.0) |##    | Elapsed Time: 9:39:58 ETA:  21:46:53"
     ]
    },
    {
     "name": "stderr",
     "output_type": "stream",
     "text": [
      "\r",
      " 46% (146448000.0 of 315360000.0) |##    | Elapsed Time: 9:40:54 ETA:   7:39:46"
     ]
    },
    {
     "name": "stderr",
     "output_type": "stream",
     "text": [
      "\r",
      " 46% (146534400.0 of 315360000.0) |##    | Elapsed Time: 9:41:34 ETA:  21:43:49"
     ]
    },
    {
     "name": "stderr",
     "output_type": "stream",
     "text": [
      "\r",
      " 46% (146880000.0 of 315360000.0) |##    | Elapsed Time: 9:42:31 ETA:   7:39:07"
     ]
    },
    {
     "name": "stderr",
     "output_type": "stream",
     "text": [
      "\r",
      " 46% (146966400.0 of 315360000.0) |##    | Elapsed Time: 9:43:11 ETA:  21:43:36"
     ]
    },
    {
     "name": "stderr",
     "output_type": "stream",
     "text": [
      "\r",
      " 46% (147312000.0 of 315360000.0) |##    | Elapsed Time: 9:44:07 ETA:   7:35:16"
     ]
    },
    {
     "name": "stderr",
     "output_type": "stream",
     "text": [
      "\r",
      " 46% (147398400.0 of 315360000.0) |##    | Elapsed Time: 9:44:47 ETA:  21:34:45"
     ]
    },
    {
     "name": "stderr",
     "output_type": "stream",
     "text": [
      "\r",
      " 46% (147744000.0 of 315360000.0) |##    | Elapsed Time: 9:45:44 ETA:   7:35:08"
     ]
    },
    {
     "name": "stderr",
     "output_type": "stream",
     "text": [
      "\r",
      " 46% (147830400.0 of 315360000.0) |##    | Elapsed Time: 9:46:24 ETA:  21:49:54"
     ]
    },
    {
     "name": "stderr",
     "output_type": "stream",
     "text": [
      "\r",
      " 46% (148176000.0 of 315360000.0) |##    | Elapsed Time: 9:47:20 ETA:   7:30:22"
     ]
    },
    {
     "name": "stderr",
     "output_type": "stream",
     "text": [
      "\r",
      " 47% (148262400.0 of 315360000.0) |##    | Elapsed Time: 9:48:00 ETA:  21:41:28"
     ]
    },
    {
     "name": "stderr",
     "output_type": "stream",
     "text": [
      "\r",
      " 47% (148608000.0 of 315360000.0) |##    | Elapsed Time: 9:48:56 ETA:   7:29:34"
     ]
    },
    {
     "name": "stderr",
     "output_type": "stream",
     "text": [
      "\r",
      " 47% (148694400.0 of 315360000.0) |##    | Elapsed Time: 9:49:36 ETA:  21:30:02"
     ]
    },
    {
     "name": "stderr",
     "output_type": "stream",
     "text": [
      "\r",
      " 47% (149040000.0 of 315360000.0) |##    | Elapsed Time: 9:50:32 ETA:   7:28:59"
     ]
    },
    {
     "name": "stderr",
     "output_type": "stream",
     "text": [
      "\r",
      " 47% (149126400.0 of 315360000.0) |##    | Elapsed Time: 9:51:13 ETA:  21:36:47"
     ]
    },
    {
     "name": "stderr",
     "output_type": "stream",
     "text": [
      "\r",
      " 47% (149472000.0 of 315360000.0) |##    | Elapsed Time: 9:52:09 ETA:   7:26:59"
     ]
    },
    {
     "name": "stderr",
     "output_type": "stream",
     "text": [
      "\r",
      " 47% (149558400.0 of 315360000.0) |##    | Elapsed Time: 9:52:49 ETA:  21:31:30"
     ]
    },
    {
     "name": "stderr",
     "output_type": "stream",
     "text": [
      "\r",
      " 47% (149904000.0 of 315360000.0) |##    | Elapsed Time: 9:53:45 ETA:   7:26:19"
     ]
    },
    {
     "name": "stderr",
     "output_type": "stream",
     "text": [
      "\r",
      " 47% (149990400.0 of 315360000.0) |##    | Elapsed Time: 9:54:25 ETA:  21:20:16"
     ]
    },
    {
     "name": "stderr",
     "output_type": "stream",
     "text": [
      "\r",
      " 47% (150336000.0 of 315360000.0) |##    | Elapsed Time: 9:55:21 ETA:   7:27:43"
     ]
    },
    {
     "name": "stderr",
     "output_type": "stream",
     "text": [
      "\r",
      " 47% (150422400.0 of 315360000.0) |##    | Elapsed Time: 9:56:02 ETA:  21:25:39"
     ]
    },
    {
     "name": "stderr",
     "output_type": "stream",
     "text": [
      "\r",
      " 47% (150768000.0 of 315360000.0) |##    | Elapsed Time: 9:56:58 ETA:   7:29:07"
     ]
    },
    {
     "name": "stderr",
     "output_type": "stream",
     "text": [
      "\r",
      " 47% (150854400.0 of 315360000.0) |##    | Elapsed Time: 9:57:39 ETA:  21:18:12"
     ]
    },
    {
     "name": "stderr",
     "output_type": "stream",
     "text": [
      "\r",
      " 47% (151200000.0 of 315360000.0) |##    | Elapsed Time: 9:58:34 ETA:   7:21:40"
     ]
    },
    {
     "name": "stderr",
     "output_type": "stream",
     "text": [
      "\r",
      " 47% (151286400.0 of 315360000.0) |##    | Elapsed Time: 9:59:14 ETA:  21:03:55"
     ]
    },
    {
     "name": "stderr",
     "output_type": "stream",
     "text": [
      "\r",
      " 48% (151632000.0 of 315360000.0) |##   | Elapsed Time: 10:00:10 ETA:   7:21:26"
     ]
    },
    {
     "name": "stderr",
     "output_type": "stream",
     "text": [
      "\r",
      " 48% (151718400.0 of 315360000.0) |##   | Elapsed Time: 10:00:51 ETA:  21:15:16"
     ]
    },
    {
     "name": "stderr",
     "output_type": "stream",
     "text": [
      "\r",
      " 48% (152064000.0 of 315360000.0) |##   | Elapsed Time: 10:01:46 ETA:   7:17:32"
     ]
    },
    {
     "name": "stderr",
     "output_type": "stream",
     "text": [
      "\r",
      " 48% (152150400.0 of 315360000.0) |##   | Elapsed Time: 10:02:27 ETA:  21:21:52"
     ]
    },
    {
     "name": "stderr",
     "output_type": "stream",
     "text": [
      "\r",
      " 48% (152496000.0 of 315360000.0) |##   | Elapsed Time: 10:03:23 ETA:   7:17:13"
     ]
    },
    {
     "name": "stderr",
     "output_type": "stream",
     "text": [
      "\r",
      " 48% (152582400.0 of 315360000.0) |##   | Elapsed Time: 10:04:03 ETA:  21:02:28"
     ]
    },
    {
     "name": "stderr",
     "output_type": "stream",
     "text": [
      "\r",
      " 48% (152928000.0 of 315360000.0) |##   | Elapsed Time: 10:04:58 ETA:   7:13:24"
     ]
    },
    {
     "name": "stderr",
     "output_type": "stream",
     "text": [
      "\r",
      " 48% (153014400.0 of 315360000.0) |##   | Elapsed Time: 10:05:38 ETA:  21:00:55"
     ]
    },
    {
     "name": "stderr",
     "output_type": "stream",
     "text": [
      "\r",
      " 48% (153360000.0 of 315360000.0) |##   | Elapsed Time: 10:06:34 ETA:   7:12:27"
     ]
    },
    {
     "name": "stderr",
     "output_type": "stream",
     "text": [
      "\r",
      " 48% (153446400.0 of 315360000.0) |##   | Elapsed Time: 10:07:14 ETA:  20:45:20"
     ]
    },
    {
     "name": "stderr",
     "output_type": "stream",
     "text": [
      "\r",
      " 48% (153792000.0 of 315360000.0) |##   | Elapsed Time: 10:08:09 ETA:   7:13:47"
     ]
    },
    {
     "name": "stderr",
     "output_type": "stream",
     "text": [
      "\r",
      " 48% (153878400.0 of 315360000.0) |##   | Elapsed Time: 10:08:49 ETA:  20:37:31"
     ]
    },
    {
     "name": "stderr",
     "output_type": "stream",
     "text": [
      "\r",
      " 48% (154224000.0 of 315360000.0) |##   | Elapsed Time: 10:09:44 ETA:   7:10:12"
     ]
    },
    {
     "name": "stderr",
     "output_type": "stream",
     "text": [
      "\r",
      " 48% (154310400.0 of 315360000.0) |##   | Elapsed Time: 10:10:24 ETA:  20:43:46"
     ]
    },
    {
     "name": "stderr",
     "output_type": "stream",
     "text": [
      "\r",
      " 49% (154656000.0 of 315360000.0) |##   | Elapsed Time: 10:11:20 ETA:   7:08:46"
     ]
    },
    {
     "name": "stderr",
     "output_type": "stream",
     "text": [
      "\r",
      " 49% (154742400.0 of 315360000.0) |##   | Elapsed Time: 10:12:01 ETA:  21:12:09"
     ]
    },
    {
     "name": "stderr",
     "output_type": "stream",
     "text": [
      "\r",
      " 49% (155088000.0 of 315360000.0) |##   | Elapsed Time: 10:12:56 ETA:   7:09:32"
     ]
    },
    {
     "name": "stderr",
     "output_type": "stream",
     "text": [
      "\r",
      " 49% (155174400.0 of 315360000.0) |##   | Elapsed Time: 10:13:36 ETA:  20:33:57"
     ]
    },
    {
     "name": "stderr",
     "output_type": "stream",
     "text": [
      "\r",
      " 49% (155520000.0 of 315360000.0) |##   | Elapsed Time: 10:14:32 ETA:   7:09:10"
     ]
    },
    {
     "name": "stderr",
     "output_type": "stream",
     "text": [
      "\r",
      " 49% (155606400.0 of 315360000.0) |##   | Elapsed Time: 10:15:12 ETA:  20:35:16"
     ]
    },
    {
     "name": "stderr",
     "output_type": "stream",
     "text": [
      "\r",
      " 49% (155952000.0 of 315360000.0) |##   | Elapsed Time: 10:16:08 ETA:   7:07:40"
     ]
    },
    {
     "name": "stderr",
     "output_type": "stream",
     "text": [
      "\r",
      " 49% (156038400.0 of 315360000.0) |##   | Elapsed Time: 10:16:48 ETA:  20:27:45"
     ]
    },
    {
     "name": "stderr",
     "output_type": "stream",
     "text": [
      "\r",
      " 49% (156384000.0 of 315360000.0) |##   | Elapsed Time: 10:17:43 ETA:   7:02:24"
     ]
    },
    {
     "name": "stderr",
     "output_type": "stream",
     "text": [
      "\r",
      " 49% (156470400.0 of 315360000.0) |##   | Elapsed Time: 10:18:23 ETA:  20:30:01"
     ]
    },
    {
     "name": "stderr",
     "output_type": "stream",
     "text": [
      "\r",
      " 49% (156816000.0 of 315360000.0) |##   | Elapsed Time: 10:19:18 ETA:   7:01:18"
     ]
    },
    {
     "name": "stderr",
     "output_type": "stream",
     "text": [
      "\r",
      " 49% (156902400.0 of 315360000.0) |##   | Elapsed Time: 10:19:58 ETA:  20:15:53"
     ]
    },
    {
     "name": "stderr",
     "output_type": "stream",
     "text": [
      "\r",
      " 49% (157248000.0 of 315360000.0) |##   | Elapsed Time: 10:20:53 ETA:   7:01:17"
     ]
    },
    {
     "name": "stderr",
     "output_type": "stream",
     "text": [
      "\r",
      " 49% (157334400.0 of 315360000.0) |##   | Elapsed Time: 10:21:33 ETA:  20:19:50"
     ]
    },
    {
     "name": "stderr",
     "output_type": "stream",
     "text": [
      "\r",
      " 50% (157680000.0 of 315360000.0) |##   | Elapsed Time: 10:22:28 ETA:   6:58:34"
     ]
    },
    {
     "name": "stderr",
     "output_type": "stream",
     "text": [
      "\r",
      " 50% (157766400.0 of 315360000.0) |##   | Elapsed Time: 10:23:08 ETA:  20:20:23"
     ]
    },
    {
     "name": "stderr",
     "output_type": "stream",
     "text": [
      "\r",
      " 50% (158112000.0 of 315360000.0) |##   | Elapsed Time: 10:24:04 ETA:   7:01:31"
     ]
    },
    {
     "name": "stderr",
     "output_type": "stream",
     "text": [
      "\r",
      " 50% (158198400.0 of 315360000.0) |##   | Elapsed Time: 10:24:44 ETA:  20:21:55"
     ]
    },
    {
     "name": "stderr",
     "output_type": "stream",
     "text": [
      "\r",
      " 50% (158544000.0 of 315360000.0) |##   | Elapsed Time: 10:25:39 ETA:   6:54:42"
     ]
    },
    {
     "name": "stderr",
     "output_type": "stream",
     "text": [
      "\r",
      " 50% (158630400.0 of 315360000.0) |##   | Elapsed Time: 10:26:19 ETA:  20:00:02"
     ]
    },
    {
     "name": "stderr",
     "output_type": "stream",
     "text": [
      "\r",
      " 50% (158976000.0 of 315360000.0) |##   | Elapsed Time: 10:27:14 ETA:   6:55:39"
     ]
    },
    {
     "name": "stderr",
     "output_type": "stream",
     "text": [
      "\r",
      " 50% (159062400.0 of 315360000.0) |##   | Elapsed Time: 10:27:54 ETA:  20:06:11"
     ]
    },
    {
     "name": "stderr",
     "output_type": "stream",
     "text": [
      "\r",
      " 50% (159408000.0 of 315360000.0) |##   | Elapsed Time: 10:28:49 ETA:   6:52:19"
     ]
    },
    {
     "name": "stderr",
     "output_type": "stream",
     "text": [
      "\r",
      " 50% (159494400.0 of 315360000.0) |##   | Elapsed Time: 10:29:28 ETA:  19:53:50"
     ]
    },
    {
     "name": "stderr",
     "output_type": "stream",
     "text": [
      "\r",
      " 50% (159840000.0 of 315360000.0) |##   | Elapsed Time: 10:30:23 ETA:   6:51:02"
     ]
    },
    {
     "name": "stderr",
     "output_type": "stream",
     "text": [
      "\r",
      " 50% (159926400.0 of 315360000.0) |##   | Elapsed Time: 10:31:03 ETA:  19:56:43"
     ]
    },
    {
     "name": "stderr",
     "output_type": "stream",
     "text": [
      "\r",
      " 50% (160272000.0 of 315360000.0) |##   | Elapsed Time: 10:31:58 ETA:   6:50:19"
     ]
    },
    {
     "name": "stderr",
     "output_type": "stream",
     "text": [
      "\r",
      " 50% (160358400.0 of 315360000.0) |##   | Elapsed Time: 10:32:38 ETA:  19:47:55"
     ]
    },
    {
     "name": "stderr",
     "output_type": "stream",
     "text": [
      "\r",
      " 50% (160704000.0 of 315360000.0) |##   | Elapsed Time: 10:33:33 ETA:   6:50:04"
     ]
    },
    {
     "name": "stderr",
     "output_type": "stream",
     "text": [
      "\r",
      " 50% (160790400.0 of 315360000.0) |##   | Elapsed Time: 10:34:13 ETA:  20:04:19"
     ]
    },
    {
     "name": "stderr",
     "output_type": "stream",
     "text": [
      "\r",
      " 51% (161136000.0 of 315360000.0) |##   | Elapsed Time: 10:35:08 ETA:   6:51:20"
     ]
    },
    {
     "name": "stderr",
     "output_type": "stream",
     "text": [
      "\r",
      " 51% (161222400.0 of 315360000.0) |##   | Elapsed Time: 10:35:48 ETA:  19:42:54"
     ]
    },
    {
     "name": "stderr",
     "output_type": "stream",
     "text": [
      "\r",
      " 51% (161568000.0 of 315360000.0) |##   | Elapsed Time: 10:36:43 ETA:   6:47:21"
     ]
    },
    {
     "name": "stderr",
     "output_type": "stream",
     "text": [
      "\r",
      " 51% (161654400.0 of 315360000.0) |##   | Elapsed Time: 10:37:23 ETA:  19:34:08"
     ]
    },
    {
     "name": "stderr",
     "output_type": "stream",
     "text": [
      "\r",
      " 51% (162000000.0 of 315360000.0) |##   | Elapsed Time: 10:38:17 ETA:   6:45:21"
     ]
    },
    {
     "name": "stderr",
     "output_type": "stream",
     "text": [
      "\r",
      " 51% (162086400.0 of 315360000.0) |##   | Elapsed Time: 10:38:57 ETA:  19:45:31"
     ]
    },
    {
     "name": "stderr",
     "output_type": "stream",
     "text": [
      "\r",
      " 51% (162432000.0 of 315360000.0) |##   | Elapsed Time: 10:39:53 ETA:   6:46:10"
     ]
    },
    {
     "name": "stderr",
     "output_type": "stream",
     "text": [
      "\r",
      " 51% (162518400.0 of 315360000.0) |##   | Elapsed Time: 10:40:33 ETA:  19:39:57"
     ]
    },
    {
     "name": "stderr",
     "output_type": "stream",
     "text": [
      "\r",
      " 51% (162864000.0 of 315360000.0) |##   | Elapsed Time: 10:41:28 ETA:   6:44:27"
     ]
    },
    {
     "name": "stderr",
     "output_type": "stream",
     "text": [
      "\r",
      " 51% (162950400.0 of 315360000.0) |##   | Elapsed Time: 10:42:08 ETA:  19:37:24"
     ]
    },
    {
     "name": "stderr",
     "output_type": "stream",
     "text": [
      "\r",
      " 51% (163296000.0 of 315360000.0) |##   | Elapsed Time: 10:43:02 ETA:   6:42:15"
     ]
    },
    {
     "name": "stderr",
     "output_type": "stream",
     "text": [
      "\r",
      " 51% (163382400.0 of 315360000.0) |##   | Elapsed Time: 10:43:43 ETA:  19:40:02"
     ]
    },
    {
     "name": "stderr",
     "output_type": "stream",
     "text": [
      "\r",
      " 51% (163728000.0 of 315360000.0) |##   | Elapsed Time: 10:44:38 ETA:   6:42:27"
     ]
    },
    {
     "name": "stderr",
     "output_type": "stream",
     "text": [
      "\r",
      " 51% (163814400.0 of 315360000.0) |##   | Elapsed Time: 10:45:18 ETA:  19:37:05"
     ]
    },
    {
     "name": "stderr",
     "output_type": "stream",
     "text": [
      "\r",
      " 52% (164160000.0 of 315360000.0) |##   | Elapsed Time: 10:46:13 ETA:   6:38:46"
     ]
    },
    {
     "name": "stderr",
     "output_type": "stream",
     "text": [
      "\r",
      " 52% (164246400.0 of 315360000.0) |##   | Elapsed Time: 10:46:52 ETA:  19:11:31"
     ]
    },
    {
     "name": "stderr",
     "output_type": "stream",
     "text": [
      "\r",
      " 52% (164592000.0 of 315360000.0) |##   | Elapsed Time: 10:47:47 ETA:   6:38:17"
     ]
    },
    {
     "name": "stderr",
     "output_type": "stream",
     "text": [
      "\r",
      " 52% (164678400.0 of 315360000.0) |##   | Elapsed Time: 10:48:27 ETA:  19:23:44"
     ]
    },
    {
     "name": "stderr",
     "output_type": "stream",
     "text": [
      "\r",
      " 52% (165024000.0 of 315360000.0) |##   | Elapsed Time: 10:49:22 ETA:   6:36:06"
     ]
    },
    {
     "name": "stderr",
     "output_type": "stream",
     "text": [
      "\r",
      " 52% (165110400.0 of 315360000.0) |##   | Elapsed Time: 10:50:01 ETA:  19:12:13"
     ]
    },
    {
     "name": "stderr",
     "output_type": "stream",
     "text": [
      "\r",
      " 52% (165456000.0 of 315360000.0) |##   | Elapsed Time: 10:50:56 ETA:   6:35:01"
     ]
    },
    {
     "name": "stderr",
     "output_type": "stream",
     "text": [
      "\r",
      " 52% (165542400.0 of 315360000.0) |##   | Elapsed Time: 10:51:36 ETA:  19:23:35"
     ]
    },
    {
     "name": "stderr",
     "output_type": "stream",
     "text": [
      "\r",
      " 52% (165888000.0 of 315360000.0) |##   | Elapsed Time: 10:52:31 ETA:   6:34:49"
     ]
    },
    {
     "name": "stderr",
     "output_type": "stream",
     "text": [
      "\r",
      " 52% (165974400.0 of 315360000.0) |##   | Elapsed Time: 10:53:11 ETA:  19:22:54"
     ]
    },
    {
     "name": "stderr",
     "output_type": "stream",
     "text": [
      "\r",
      " 52% (166320000.0 of 315360000.0) |##   | Elapsed Time: 10:54:06 ETA:   6:31:40"
     ]
    },
    {
     "name": "stderr",
     "output_type": "stream",
     "text": [
      "\r",
      " 52% (166406400.0 of 315360000.0) |##   | Elapsed Time: 10:54:46 ETA:  19:11:45"
     ]
    },
    {
     "name": "stderr",
     "output_type": "stream",
     "text": [
      "\r",
      " 52% (166752000.0 of 315360000.0) |##   | Elapsed Time: 10:55:41 ETA:   6:31:21"
     ]
    },
    {
     "name": "stderr",
     "output_type": "stream",
     "text": [
      "\r",
      " 52% (166838400.0 of 315360000.0) |##   | Elapsed Time: 10:56:20 ETA:  19:00:33"
     ]
    },
    {
     "name": "stderr",
     "output_type": "stream",
     "text": [
      "\r",
      " 53% (167184000.0 of 315360000.0) |##   | Elapsed Time: 10:57:15 ETA:   6:30:09"
     ]
    },
    {
     "name": "stderr",
     "output_type": "stream",
     "text": [
      "\r",
      " 53% (167270400.0 of 315360000.0) |##   | Elapsed Time: 10:57:55 ETA:  19:01:04"
     ]
    },
    {
     "name": "stderr",
     "output_type": "stream",
     "text": [
      "\r",
      " 53% (167616000.0 of 315360000.0) |##   | Elapsed Time: 10:58:50 ETA:   6:28:47"
     ]
    },
    {
     "name": "stderr",
     "output_type": "stream",
     "text": [
      "\r",
      " 53% (167702400.0 of 315360000.0) |##   | Elapsed Time: 10:59:29 ETA:  18:44:31"
     ]
    },
    {
     "name": "stderr",
     "output_type": "stream",
     "text": [
      "\r",
      " 53% (168048000.0 of 315360000.0) |##   | Elapsed Time: 11:00:23 ETA:   6:26:49"
     ]
    },
    {
     "name": "stderr",
     "output_type": "stream",
     "text": [
      "\r",
      " 53% (168134400.0 of 315360000.0) |##   | Elapsed Time: 11:01:03 ETA:  18:52:42"
     ]
    },
    {
     "name": "stderr",
     "output_type": "stream",
     "text": [
      "\r",
      " 53% (168480000.0 of 315360000.0) |##   | Elapsed Time: 11:01:58 ETA:   6:25:51"
     ]
    },
    {
     "name": "stderr",
     "output_type": "stream",
     "text": [
      "\r",
      " 53% (168566400.0 of 315360000.0) |##   | Elapsed Time: 11:02:37 ETA:  18:34:41"
     ]
    },
    {
     "name": "stderr",
     "output_type": "stream",
     "text": [
      "\r",
      " 53% (168912000.0 of 315360000.0) |##   | Elapsed Time: 11:03:31 ETA:   6:23:16"
     ]
    },
    {
     "name": "stderr",
     "output_type": "stream",
     "text": [
      "\r",
      " 53% (168998400.0 of 315360000.0) |##   | Elapsed Time: 11:04:11 ETA:  18:46:44"
     ]
    },
    {
     "name": "stderr",
     "output_type": "stream",
     "text": [
      "\r",
      " 53% (169344000.0 of 315360000.0) |##   | Elapsed Time: 11:05:06 ETA:   6:25:53"
     ]
    },
    {
     "name": "stderr",
     "output_type": "stream",
     "text": [
      "\r",
      " 53% (169430400.0 of 315360000.0) |##   | Elapsed Time: 11:05:46 ETA:  18:28:14"
     ]
    },
    {
     "name": "stderr",
     "output_type": "stream",
     "text": [
      "\r",
      " 53% (169776000.0 of 315360000.0) |##   | Elapsed Time: 11:06:40 ETA:   6:20:28"
     ]
    },
    {
     "name": "stderr",
     "output_type": "stream",
     "text": [
      "\r",
      " 53% (169862400.0 of 315360000.0) |##   | Elapsed Time: 11:07:21 ETA:  19:06:23"
     ]
    },
    {
     "name": "stderr",
     "output_type": "stream",
     "text": [
      "\r",
      " 53% (170208000.0 of 315360000.0) |##   | Elapsed Time: 11:08:15 ETA:   6:19:34"
     ]
    },
    {
     "name": "stderr",
     "output_type": "stream",
     "text": [
      "\r",
      " 54% (170294400.0 of 315360000.0) |##   | Elapsed Time: 11:08:54 ETA:  18:17:51"
     ]
    },
    {
     "name": "stderr",
     "output_type": "stream",
     "text": [
      "\r",
      " 54% (170640000.0 of 315360000.0) |##   | Elapsed Time: 11:09:48 ETA:   6:18:37"
     ]
    },
    {
     "name": "stderr",
     "output_type": "stream",
     "text": [
      "\r",
      " 54% (170726400.0 of 315360000.0) |##   | Elapsed Time: 11:10:29 ETA:  18:41:31"
     ]
    },
    {
     "name": "stderr",
     "output_type": "stream",
     "text": [
      "\r",
      " 54% (171072000.0 of 315360000.0) |##   | Elapsed Time: 11:11:23 ETA:   6:18:49"
     ]
    },
    {
     "name": "stderr",
     "output_type": "stream",
     "text": [
      "\r",
      " 54% (171158400.0 of 315360000.0) |##   | Elapsed Time: 11:12:03 ETA:  18:22:32"
     ]
    },
    {
     "name": "stderr",
     "output_type": "stream",
     "text": [
      "\r",
      " 54% (171504000.0 of 315360000.0) |##   | Elapsed Time: 11:12:57 ETA:   6:16:52"
     ]
    },
    {
     "name": "stderr",
     "output_type": "stream",
     "text": [
      "\r",
      " 54% (171590400.0 of 315360000.0) |##   | Elapsed Time: 11:13:37 ETA:  18:20:36"
     ]
    },
    {
     "name": "stderr",
     "output_type": "stream",
     "text": [
      "\r",
      " 54% (171936000.0 of 315360000.0) |##   | Elapsed Time: 11:14:31 ETA:   6:13:15"
     ]
    },
    {
     "name": "stderr",
     "output_type": "stream",
     "text": [
      "\r",
      " 54% (172022400.0 of 315360000.0) |##   | Elapsed Time: 11:15:10 ETA:  18:22:06"
     ]
    },
    {
     "name": "stderr",
     "output_type": "stream",
     "text": [
      "\r",
      " 54% (172368000.0 of 315360000.0) |##   | Elapsed Time: 11:16:05 ETA:   6:13:23"
     ]
    },
    {
     "name": "stderr",
     "output_type": "stream",
     "text": [
      "\r",
      " 54% (172454400.0 of 315360000.0) |##   | Elapsed Time: 11:16:44 ETA:  18:05:39"
     ]
    },
    {
     "name": "stderr",
     "output_type": "stream",
     "text": [
      "\r",
      " 54% (172800000.0 of 315360000.0) |##   | Elapsed Time: 11:17:38 ETA:   6:10:41"
     ]
    },
    {
     "name": "stderr",
     "output_type": "stream",
     "text": [
      "\r",
      " 54% (172886400.0 of 315360000.0) |##   | Elapsed Time: 11:18:18 ETA:  18:13:39"
     ]
    },
    {
     "name": "stderr",
     "output_type": "stream",
     "text": [
      "\r",
      " 54% (173232000.0 of 315360000.0) |##   | Elapsed Time: 11:19:12 ETA:   6:09:26"
     ]
    },
    {
     "name": "stderr",
     "output_type": "stream",
     "text": [
      "\r",
      " 54% (173318400.0 of 315360000.0) |##   | Elapsed Time: 11:19:51 ETA:  18:10:56"
     ]
    },
    {
     "name": "stderr",
     "output_type": "stream",
     "text": [
      "\r",
      " 55% (173664000.0 of 315360000.0) |##   | Elapsed Time: 11:20:45 ETA:   6:07:18"
     ]
    },
    {
     "name": "stderr",
     "output_type": "stream",
     "text": [
      "\r",
      " 55% (173750400.0 of 315360000.0) |##   | Elapsed Time: 11:21:25 ETA:  18:08:29"
     ]
    },
    {
     "name": "stderr",
     "output_type": "stream",
     "text": [
      "\r",
      " 55% (174096000.0 of 315360000.0) |##   | Elapsed Time: 11:22:19 ETA:   6:06:05"
     ]
    },
    {
     "name": "stderr",
     "output_type": "stream",
     "text": [
      "\r",
      " 55% (174182400.0 of 315360000.0) |##   | Elapsed Time: 11:22:58 ETA:  17:44:10"
     ]
    },
    {
     "name": "stderr",
     "output_type": "stream",
     "text": [
      "\r",
      " 55% (174528000.0 of 315360000.0) |##   | Elapsed Time: 11:23:52 ETA:   6:05:21"
     ]
    },
    {
     "name": "stderr",
     "output_type": "stream",
     "text": [
      "\r",
      " 55% (174614400.0 of 315360000.0) |##   | Elapsed Time: 11:24:31 ETA:  17:52:42"
     ]
    },
    {
     "name": "stderr",
     "output_type": "stream",
     "text": [
      "\r",
      " 55% (174960000.0 of 315360000.0) |##   | Elapsed Time: 11:25:26 ETA:   6:09:04"
     ]
    },
    {
     "name": "stderr",
     "output_type": "stream",
     "text": [
      "\r",
      " 55% (175046400.0 of 315360000.0) |##   | Elapsed Time: 11:26:05 ETA:  17:47:27"
     ]
    },
    {
     "name": "stderr",
     "output_type": "stream",
     "text": [
      "\r",
      " 55% (175392000.0 of 315360000.0) |##   | Elapsed Time: 11:26:59 ETA:   6:05:48"
     ]
    },
    {
     "name": "stderr",
     "output_type": "stream",
     "text": [
      "\r",
      " 55% (175478400.0 of 315360000.0) |##   | Elapsed Time: 11:27:39 ETA:  17:50:13"
     ]
    },
    {
     "name": "stderr",
     "output_type": "stream",
     "text": [
      "\r",
      " 55% (175824000.0 of 315360000.0) |##   | Elapsed Time: 11:28:33 ETA:   6:02:25"
     ]
    },
    {
     "name": "stderr",
     "output_type": "stream",
     "text": [
      "\r",
      " 55% (175910400.0 of 315360000.0) |##   | Elapsed Time: 11:29:12 ETA:  17:40:19"
     ]
    },
    {
     "name": "stderr",
     "output_type": "stream",
     "text": [
      "\r",
      " 55% (176256000.0 of 315360000.0) |##   | Elapsed Time: 11:30:06 ETA:   6:00:06"
     ]
    },
    {
     "name": "stderr",
     "output_type": "stream",
     "text": [
      "\r",
      " 55% (176342400.0 of 315360000.0) |##   | Elapsed Time: 11:30:46 ETA:  17:44:37"
     ]
    },
    {
     "name": "stderr",
     "output_type": "stream",
     "text": [
      "\r",
      " 56% (176688000.0 of 315360000.0) |##   | Elapsed Time: 11:31:39 ETA:   5:59:08"
     ]
    },
    {
     "name": "stderr",
     "output_type": "stream",
     "text": [
      "\r",
      " 56% (176774400.0 of 315360000.0) |##   | Elapsed Time: 11:32:19 ETA:  17:32:28"
     ]
    },
    {
     "name": "stderr",
     "output_type": "stream",
     "text": [
      "\r",
      " 56% (177120000.0 of 315360000.0) |##   | Elapsed Time: 11:33:13 ETA:   6:00:14"
     ]
    },
    {
     "name": "stderr",
     "output_type": "stream",
     "text": [
      "\r",
      " 56% (177206400.0 of 315360000.0) |##   | Elapsed Time: 11:33:52 ETA:  17:25:35"
     ]
    },
    {
     "name": "stderr",
     "output_type": "stream",
     "text": [
      "\r",
      " 56% (177552000.0 of 315360000.0) |##   | Elapsed Time: 11:34:46 ETA:   5:57:51"
     ]
    },
    {
     "name": "stderr",
     "output_type": "stream",
     "text": [
      "\r",
      " 56% (177638400.0 of 315360000.0) |##   | Elapsed Time: 11:35:25 ETA:  17:20:29"
     ]
    },
    {
     "name": "stderr",
     "output_type": "stream",
     "text": [
      "\r",
      " 56% (177984000.0 of 315360000.0) |##   | Elapsed Time: 11:36:19 ETA:   5:58:55"
     ]
    },
    {
     "name": "stderr",
     "output_type": "stream",
     "text": [
      "\r",
      " 56% (178070400.0 of 315360000.0) |##   | Elapsed Time: 11:36:58 ETA:  17:22:42"
     ]
    },
    {
     "name": "stderr",
     "output_type": "stream",
     "text": [
      "\r",
      " 56% (178416000.0 of 315360000.0) |##   | Elapsed Time: 11:37:52 ETA:   5:55:02"
     ]
    },
    {
     "name": "stderr",
     "output_type": "stream",
     "text": [
      "\r",
      " 56% (178502400.0 of 315360000.0) |##   | Elapsed Time: 11:38:32 ETA:  17:21:22"
     ]
    },
    {
     "name": "stderr",
     "output_type": "stream",
     "text": [
      "\r",
      " 56% (178848000.0 of 315360000.0) |##   | Elapsed Time: 11:39:25 ETA:   5:50:51"
     ]
    },
    {
     "name": "stderr",
     "output_type": "stream",
     "text": [
      "\r",
      " 56% (178934400.0 of 315360000.0) |##   | Elapsed Time: 11:40:04 ETA:  17:08:47"
     ]
    },
    {
     "name": "stderr",
     "output_type": "stream",
     "text": [
      "\r",
      " 56% (179280000.0 of 315360000.0) |##   | Elapsed Time: 11:40:58 ETA:   5:51:59"
     ]
    },
    {
     "name": "stderr",
     "output_type": "stream",
     "text": [
      "\r",
      " 56% (179366400.0 of 315360000.0) |##   | Elapsed Time: 11:41:37 ETA:  17:17:19"
     ]
    },
    {
     "name": "stderr",
     "output_type": "stream",
     "text": [
      "\r",
      " 56% (179712000.0 of 315360000.0) |##   | Elapsed Time: 11:42:31 ETA:   5:49:16"
     ]
    },
    {
     "name": "stderr",
     "output_type": "stream",
     "text": [
      "\r",
      " 57% (179798400.0 of 315360000.0) |##   | Elapsed Time: 11:43:10 ETA:  17:04:47"
     ]
    },
    {
     "name": "stderr",
     "output_type": "stream",
     "text": [
      "\r",
      " 57% (180144000.0 of 315360000.0) |##   | Elapsed Time: 11:44:03 ETA:   5:47:11"
     ]
    },
    {
     "name": "stderr",
     "output_type": "stream",
     "text": [
      "\r",
      " 57% (180230400.0 of 315360000.0) |##   | Elapsed Time: 11:44:42 ETA:  17:00:37"
     ]
    },
    {
     "name": "stderr",
     "output_type": "stream",
     "text": [
      "\r",
      " 57% (180576000.0 of 315360000.0) |##   | Elapsed Time: 11:45:35 ETA:   5:45:25"
     ]
    },
    {
     "name": "stderr",
     "output_type": "stream",
     "text": [
      "\r",
      " 57% (180662400.0 of 315360000.0) |##   | Elapsed Time: 11:46:15 ETA:  16:59:26"
     ]
    },
    {
     "name": "stderr",
     "output_type": "stream",
     "text": [
      "\r",
      " 57% (181008000.0 of 315360000.0) |##   | Elapsed Time: 11:47:08 ETA:   5:45:23"
     ]
    },
    {
     "name": "stderr",
     "output_type": "stream",
     "text": [
      "\r",
      " 57% (181094400.0 of 315360000.0) |##   | Elapsed Time: 11:47:47 ETA:  16:49:09"
     ]
    },
    {
     "name": "stderr",
     "output_type": "stream",
     "text": [
      "\r",
      " 57% (181440000.0 of 315360000.0) |##   | Elapsed Time: 11:48:40 ETA:   5:45:04"
     ]
    },
    {
     "name": "stderr",
     "output_type": "stream",
     "text": [
      "\r",
      " 57% (181526400.0 of 315360000.0) |##   | Elapsed Time: 11:49:20 ETA:  17:01:37"
     ]
    },
    {
     "name": "stderr",
     "output_type": "stream",
     "text": [
      "\r",
      " 57% (181872000.0 of 315360000.0) |##   | Elapsed Time: 11:50:14 ETA:   5:45:31"
     ]
    },
    {
     "name": "stderr",
     "output_type": "stream",
     "text": [
      "\r",
      " 57% (181958400.0 of 315360000.0) |##   | Elapsed Time: 11:50:53 ETA:  16:56:46"
     ]
    },
    {
     "name": "stderr",
     "output_type": "stream",
     "text": [
      "\r",
      " 57% (182304000.0 of 315360000.0) |##   | Elapsed Time: 11:51:46 ETA:   5:41:25"
     ]
    },
    {
     "name": "stderr",
     "output_type": "stream",
     "text": [
      "\r",
      " 57% (182390400.0 of 315360000.0) |##   | Elapsed Time: 11:52:26 ETA:  16:55:03"
     ]
    },
    {
     "name": "stderr",
     "output_type": "stream",
     "text": [
      "\r",
      " 57% (182736000.0 of 315360000.0) |##   | Elapsed Time: 11:53:19 ETA:   5:38:50"
     ]
    },
    {
     "name": "stderr",
     "output_type": "stream",
     "text": [
      "\r",
      " 57% (182822400.0 of 315360000.0) |##   | Elapsed Time: 11:53:59 ETA:  17:03:45"
     ]
    },
    {
     "name": "stderr",
     "output_type": "stream",
     "text": [
      "\r",
      " 58% (183168000.0 of 315360000.0) |##   | Elapsed Time: 11:54:52 ETA:   5:36:49"
     ]
    },
    {
     "name": "stderr",
     "output_type": "stream",
     "text": [
      "\r",
      " 58% (183254400.0 of 315360000.0) |##   | Elapsed Time: 11:55:31 ETA:  16:41:41"
     ]
    },
    {
     "name": "stderr",
     "output_type": "stream",
     "text": [
      "\r",
      " 58% (183600000.0 of 315360000.0) |##   | Elapsed Time: 11:56:24 ETA:   5:36:59"
     ]
    },
    {
     "name": "stderr",
     "output_type": "stream",
     "text": [
      "\r",
      " 58% (183686400.0 of 315360000.0) |##   | Elapsed Time: 11:57:03 ETA:  16:34:20"
     ]
    },
    {
     "name": "stderr",
     "output_type": "stream",
     "text": [
      "\r",
      " 58% (184032000.0 of 315360000.0) |##   | Elapsed Time: 11:57:56 ETA:   5:34:59"
     ]
    },
    {
     "name": "stderr",
     "output_type": "stream",
     "text": [
      "\r",
      " 58% (184118400.0 of 315360000.0) |##   | Elapsed Time: 11:58:36 ETA:  16:43:02"
     ]
    },
    {
     "name": "stderr",
     "output_type": "stream",
     "text": [
      "\r",
      " 58% (184464000.0 of 315360000.0) |##   | Elapsed Time: 11:59:29 ETA:   5:33:58"
     ]
    },
    {
     "name": "stderr",
     "output_type": "stream",
     "text": [
      "\r",
      " 58% (184550400.0 of 315360000.0) |##   | Elapsed Time: 12:00:08 ETA:  16:43:03"
     ]
    },
    {
     "name": "stderr",
     "output_type": "stream",
     "text": [
      "\r",
      " 58% (184896000.0 of 315360000.0) |##   | Elapsed Time: 12:01:01 ETA:   5:32:36"
     ]
    },
    {
     "name": "stderr",
     "output_type": "stream",
     "text": [
      "\r",
      " 58% (184982400.0 of 315360000.0) |##   | Elapsed Time: 12:01:41 ETA:  16:34:02"
     ]
    },
    {
     "name": "stderr",
     "output_type": "stream",
     "text": [
      "\r",
      " 58% (185328000.0 of 315360000.0) |##   | Elapsed Time: 12:02:34 ETA:   5:33:42"
     ]
    },
    {
     "name": "stderr",
     "output_type": "stream",
     "text": [
      "\r",
      " 58% (185414400.0 of 315360000.0) |##   | Elapsed Time: 12:03:13 ETA:  16:18:57"
     ]
    },
    {
     "name": "stderr",
     "output_type": "stream",
     "text": [
      "\r",
      " 58% (185760000.0 of 315360000.0) |##   | Elapsed Time: 12:04:06 ETA:   5:29:48"
     ]
    },
    {
     "name": "stderr",
     "output_type": "stream",
     "text": [
      "\r",
      " 58% (185846400.0 of 315360000.0) |##   | Elapsed Time: 12:04:45 ETA:  16:11:49"
     ]
    },
    {
     "name": "stderr",
     "output_type": "stream",
     "text": [
      "\r",
      " 59% (186192000.0 of 315360000.0) |##   | Elapsed Time: 12:05:37 ETA:   5:28:10"
     ]
    },
    {
     "name": "stderr",
     "output_type": "stream",
     "text": [
      "\r",
      " 59% (186278400.0 of 315360000.0) |##   | Elapsed Time: 12:06:16 ETA:  16:09:08"
     ]
    },
    {
     "name": "stderr",
     "output_type": "stream",
     "text": [
      "\r",
      " 59% (186624000.0 of 315360000.0) |##   | Elapsed Time: 12:07:09 ETA:   5:27:02"
     ]
    },
    {
     "name": "stderr",
     "output_type": "stream",
     "text": [
      "\r",
      " 59% (186710400.0 of 315360000.0) |##   | Elapsed Time: 12:07:48 ETA:  16:13:01"
     ]
    },
    {
     "name": "stderr",
     "output_type": "stream",
     "text": [
      "\r",
      " 59% (187056000.0 of 315360000.0) |##   | Elapsed Time: 12:08:41 ETA:   5:24:37"
     ]
    },
    {
     "name": "stderr",
     "output_type": "stream",
     "text": [
      "\r",
      " 59% (187142400.0 of 315360000.0) |##   | Elapsed Time: 12:09:20 ETA:  16:06:58"
     ]
    },
    {
     "name": "stderr",
     "output_type": "stream",
     "text": [
      "\r",
      " 59% (187488000.0 of 315360000.0) |##   | Elapsed Time: 12:10:12 ETA:   5:24:12"
     ]
    },
    {
     "name": "stderr",
     "output_type": "stream",
     "text": [
      "\r",
      " 59% (187574400.0 of 315360000.0) |##   | Elapsed Time: 12:10:52 ETA:  16:07:52"
     ]
    },
    {
     "name": "stderr",
     "output_type": "stream",
     "text": [
      "\r",
      " 59% (187920000.0 of 315360000.0) |##   | Elapsed Time: 12:11:44 ETA:   5:22:18"
     ]
    },
    {
     "name": "stderr",
     "output_type": "stream",
     "text": [
      "\r",
      " 59% (188006400.0 of 315360000.0) |##   | Elapsed Time: 12:12:23 ETA:  15:57:12"
     ]
    },
    {
     "name": "stderr",
     "output_type": "stream",
     "text": [
      "\r",
      " 59% (188352000.0 of 315360000.0) |##   | Elapsed Time: 12:13:16 ETA:   5:22:05"
     ]
    },
    {
     "name": "stderr",
     "output_type": "stream",
     "text": [
      "\r",
      " 59% (188438400.0 of 315360000.0) |##   | Elapsed Time: 12:13:55 ETA:  16:08:58"
     ]
    },
    {
     "name": "stderr",
     "output_type": "stream",
     "text": [
      "\r",
      " 59% (188784000.0 of 315360000.0) |##   | Elapsed Time: 12:14:48 ETA:   5:20:03"
     ]
    },
    {
     "name": "stderr",
     "output_type": "stream",
     "text": [
      "\r",
      " 59% (188870400.0 of 315360000.0) |##   | Elapsed Time: 12:15:27 ETA:  15:56:08"
     ]
    },
    {
     "name": "stderr",
     "output_type": "stream",
     "text": [
      "\r",
      " 60% (189216000.0 of 315360000.0) |###  | Elapsed Time: 12:16:20 ETA:   5:20:54"
     ]
    },
    {
     "name": "stderr",
     "output_type": "stream",
     "text": [
      "\r",
      " 60% (189302400.0 of 315360000.0) |###  | Elapsed Time: 12:16:59 ETA:  15:52:28"
     ]
    },
    {
     "name": "stderr",
     "output_type": "stream",
     "text": [
      "\r",
      " 60% (189648000.0 of 315360000.0) |###  | Elapsed Time: 12:17:51 ETA:   5:18:29"
     ]
    },
    {
     "name": "stderr",
     "output_type": "stream",
     "text": [
      "\r",
      " 60% (189734400.0 of 315360000.0) |###  | Elapsed Time: 12:18:31 ETA:  16:05:15"
     ]
    },
    {
     "name": "stderr",
     "output_type": "stream",
     "text": [
      "\r",
      " 60% (190080000.0 of 315360000.0) |###  | Elapsed Time: 12:19:23 ETA:   5:15:38"
     ]
    },
    {
     "name": "stderr",
     "output_type": "stream",
     "text": [
      "\r",
      " 60% (190166400.0 of 315360000.0) |###  | Elapsed Time: 12:20:03 ETA:  15:52:03"
     ]
    },
    {
     "name": "stderr",
     "output_type": "stream",
     "text": [
      "\r",
      " 60% (190512000.0 of 315360000.0) |###  | Elapsed Time: 12:20:55 ETA:   5:16:11"
     ]
    },
    {
     "name": "stderr",
     "output_type": "stream",
     "text": [
      "\r",
      " 60% (190598400.0 of 315360000.0) |###  | Elapsed Time: 12:21:35 ETA:  15:46:44"
     ]
    },
    {
     "name": "stderr",
     "output_type": "stream",
     "text": [
      "\r",
      " 60% (190944000.0 of 315360000.0) |###  | Elapsed Time: 12:22:27 ETA:   5:13:21"
     ]
    },
    {
     "name": "stderr",
     "output_type": "stream",
     "text": [
      "\r",
      " 60% (191030400.0 of 315360000.0) |###  | Elapsed Time: 12:23:06 ETA:  15:28:32"
     ]
    },
    {
     "name": "stderr",
     "output_type": "stream",
     "text": [
      "\r",
      " 60% (191376000.0 of 315360000.0) |###  | Elapsed Time: 12:23:58 ETA:   5:14:58"
     ]
    },
    {
     "name": "stderr",
     "output_type": "stream",
     "text": [
      "\r",
      " 60% (191462400.0 of 315360000.0) |###  | Elapsed Time: 12:24:37 ETA:  15:25:31"
     ]
    },
    {
     "name": "stderr",
     "output_type": "stream",
     "text": [
      "\r",
      " 60% (191808000.0 of 315360000.0) |###  | Elapsed Time: 12:25:29 ETA:   5:12:11"
     ]
    },
    {
     "name": "stderr",
     "output_type": "stream",
     "text": [
      "\r",
      " 60% (191894400.0 of 315360000.0) |###  | Elapsed Time: 12:26:09 ETA:  15:33:41"
     ]
    },
    {
     "name": "stderr",
     "output_type": "stream",
     "text": [
      "\r",
      " 60% (192240000.0 of 315360000.0) |###  | Elapsed Time: 12:27:01 ETA:   5:10:19"
     ]
    },
    {
     "name": "stderr",
     "output_type": "stream",
     "text": [
      "\r",
      " 60% (192326400.0 of 315360000.0) |###  | Elapsed Time: 12:27:40 ETA:  15:38:33"
     ]
    },
    {
     "name": "stderr",
     "output_type": "stream",
     "text": [
      "\r",
      " 61% (192672000.0 of 315360000.0) |###  | Elapsed Time: 12:28:33 ETA:   5:09:39"
     ]
    },
    {
     "name": "stderr",
     "output_type": "stream",
     "text": [
      "\r",
      " 61% (192758400.0 of 315360000.0) |###  | Elapsed Time: 12:29:12 ETA:  15:39:16"
     ]
    },
    {
     "name": "stderr",
     "output_type": "stream",
     "text": [
      "\r",
      " 61% (193104000.0 of 315360000.0) |###  | Elapsed Time: 12:30:04 ETA:   5:07:03"
     ]
    },
    {
     "name": "stderr",
     "output_type": "stream",
     "text": [
      "\r",
      " 61% (193190400.0 of 315360000.0) |###  | Elapsed Time: 12:30:44 ETA:  15:30:43"
     ]
    },
    {
     "name": "stderr",
     "output_type": "stream",
     "text": [
      "\r",
      " 61% (193536000.0 of 315360000.0) |###  | Elapsed Time: 12:31:36 ETA:   5:06:15"
     ]
    },
    {
     "name": "stderr",
     "output_type": "stream",
     "text": [
      "\r",
      " 61% (193622400.0 of 315360000.0) |###  | Elapsed Time: 12:32:15 ETA:  15:22:50"
     ]
    },
    {
     "name": "stderr",
     "output_type": "stream",
     "text": [
      "\r",
      " 61% (193968000.0 of 315360000.0) |###  | Elapsed Time: 12:33:07 ETA:   5:04:14"
     ]
    },
    {
     "name": "stderr",
     "output_type": "stream",
     "text": [
      "\r",
      " 61% (194054400.0 of 315360000.0) |###  | Elapsed Time: 12:33:47 ETA:  15:22:22"
     ]
    },
    {
     "name": "stderr",
     "output_type": "stream",
     "text": [
      "\r",
      " 61% (194400000.0 of 315360000.0) |###  | Elapsed Time: 12:34:39 ETA:   5:05:04"
     ]
    },
    {
     "name": "stderr",
     "output_type": "stream",
     "text": [
      "\r",
      " 61% (194486400.0 of 315360000.0) |###  | Elapsed Time: 12:35:18 ETA:  15:06:16"
     ]
    },
    {
     "name": "stderr",
     "output_type": "stream",
     "text": [
      "\r",
      " 61% (194832000.0 of 315360000.0) |###  | Elapsed Time: 12:36:10 ETA:   5:01:55"
     ]
    },
    {
     "name": "stderr",
     "output_type": "stream",
     "text": [
      "\r",
      " 61% (194918400.0 of 315360000.0) |###  | Elapsed Time: 12:36:49 ETA:  15:12:43"
     ]
    },
    {
     "name": "stderr",
     "output_type": "stream",
     "text": [
      "\r",
      " 61% (195264000.0 of 315360000.0) |###  | Elapsed Time: 12:37:41 ETA:   5:01:02"
     ]
    },
    {
     "name": "stderr",
     "output_type": "stream",
     "text": [
      "\r",
      " 61% (195350400.0 of 315360000.0) |###  | Elapsed Time: 12:38:20 ETA:  15:01:46"
     ]
    },
    {
     "name": "stderr",
     "output_type": "stream",
     "text": [
      "\r",
      " 62% (195696000.0 of 315360000.0) |###  | Elapsed Time: 12:39:12 ETA:   5:00:27"
     ]
    },
    {
     "name": "stderr",
     "output_type": "stream",
     "text": [
      "\r",
      " 62% (195782400.0 of 315360000.0) |###  | Elapsed Time: 12:39:51 ETA:  14:53:04"
     ]
    },
    {
     "name": "stderr",
     "output_type": "stream",
     "text": [
      "\r",
      " 62% (196128000.0 of 315360000.0) |###  | Elapsed Time: 12:40:43 ETA:   4:59:31"
     ]
    },
    {
     "name": "stderr",
     "output_type": "stream",
     "text": [
      "\r",
      " 62% (196214400.0 of 315360000.0) |###  | Elapsed Time: 12:41:21 ETA:  14:25:18"
     ]
    },
    {
     "name": "stderr",
     "output_type": "stream",
     "text": [
      "\r",
      " 62% (196560000.0 of 315360000.0) |###  | Elapsed Time: 12:42:13 ETA:   4:59:27"
     ]
    },
    {
     "name": "stderr",
     "output_type": "stream",
     "text": [
      "\r",
      " 62% (196646400.0 of 315360000.0) |###  | Elapsed Time: 12:42:52 ETA:  15:00:48"
     ]
    },
    {
     "name": "stderr",
     "output_type": "stream",
     "text": [
      "\r",
      " 62% (196992000.0 of 315360000.0) |###  | Elapsed Time: 12:43:45 ETA:   4:58:54"
     ]
    },
    {
     "name": "stderr",
     "output_type": "stream",
     "text": [
      "\r",
      " 62% (197078400.0 of 315360000.0) |###  | Elapsed Time: 12:44:23 ETA:  14:43:19"
     ]
    },
    {
     "name": "stderr",
     "output_type": "stream",
     "text": [
      "\r",
      " 62% (197424000.0 of 315360000.0) |###  | Elapsed Time: 12:45:16 ETA:   4:57:29"
     ]
    },
    {
     "name": "stderr",
     "output_type": "stream",
     "text": [
      "\r",
      " 62% (197510400.0 of 315360000.0) |###  | Elapsed Time: 12:45:55 ETA:  14:59:10"
     ]
    },
    {
     "name": "stderr",
     "output_type": "stream",
     "text": [
      "\r",
      " 62% (197856000.0 of 315360000.0) |###  | Elapsed Time: 12:46:48 ETA:   4:57:50"
     ]
    },
    {
     "name": "stderr",
     "output_type": "stream",
     "text": [
      "\r",
      " 62% (197942400.0 of 315360000.0) |###  | Elapsed Time: 12:47:27 ETA:  14:43:31"
     ]
    },
    {
     "name": "stderr",
     "output_type": "stream",
     "text": [
      "\r",
      " 62% (198288000.0 of 315360000.0) |###  | Elapsed Time: 12:48:19 ETA:   4:56:59"
     ]
    },
    {
     "name": "stderr",
     "output_type": "stream",
     "text": [
      "\r",
      " 62% (198374400.0 of 315360000.0) |###  | Elapsed Time: 12:48:59 ETA:  14:44:58"
     ]
    },
    {
     "name": "stderr",
     "output_type": "stream",
     "text": [
      "\r",
      " 63% (198720000.0 of 315360000.0) |###  | Elapsed Time: 12:49:51 ETA:   4:53:24"
     ]
    },
    {
     "name": "stderr",
     "output_type": "stream",
     "text": [
      "\r",
      " 63% (198806400.0 of 315360000.0) |###  | Elapsed Time: 12:50:30 ETA:  14:43:08"
     ]
    },
    {
     "name": "stderr",
     "output_type": "stream",
     "text": [
      "\r",
      " 63% (199152000.0 of 315360000.0) |###  | Elapsed Time: 12:51:22 ETA:   4:53:36"
     ]
    },
    {
     "name": "stderr",
     "output_type": "stream",
     "text": [
      "\r",
      " 63% (199238400.0 of 315360000.0) |###  | Elapsed Time: 12:52:02 ETA:  14:45:03"
     ]
    },
    {
     "name": "stderr",
     "output_type": "stream",
     "text": [
      "\r",
      " 63% (199584000.0 of 315360000.0) |###  | Elapsed Time: 12:52:54 ETA:   4:50:37"
     ]
    },
    {
     "name": "stderr",
     "output_type": "stream",
     "text": [
      "\r",
      " 63% (199670400.0 of 315360000.0) |###  | Elapsed Time: 12:53:33 ETA:  14:33:48"
     ]
    },
    {
     "name": "stderr",
     "output_type": "stream",
     "text": [
      "\r",
      " 63% (200016000.0 of 315360000.0) |###  | Elapsed Time: 12:54:25 ETA:   4:48:56"
     ]
    },
    {
     "name": "stderr",
     "output_type": "stream",
     "text": [
      "\r",
      " 63% (200102400.0 of 315360000.0) |###  | Elapsed Time: 12:55:04 ETA:  14:25:12"
     ]
    },
    {
     "name": "stderr",
     "output_type": "stream",
     "text": [
      "\r",
      " 63% (200448000.0 of 315360000.0) |###  | Elapsed Time: 12:55:57 ETA:   4:52:18"
     ]
    },
    {
     "name": "stderr",
     "output_type": "stream",
     "text": [
      "\r",
      " 63% (200534400.0 of 315360000.0) |###  | Elapsed Time: 12:56:36 ETA:  14:36:32"
     ]
    },
    {
     "name": "stderr",
     "output_type": "stream",
     "text": [
      "\r",
      " 63% (200880000.0 of 315360000.0) |###  | Elapsed Time: 12:57:28 ETA:   4:45:32"
     ]
    },
    {
     "name": "stderr",
     "output_type": "stream",
     "text": [
      "\r",
      " 63% (200966400.0 of 315360000.0) |###  | Elapsed Time: 12:58:07 ETA:  14:23:43"
     ]
    },
    {
     "name": "stderr",
     "output_type": "stream",
     "text": [
      "\r",
      " 63% (201312000.0 of 315360000.0) |###  | Elapsed Time: 12:58:59 ETA:   4:44:30"
     ]
    },
    {
     "name": "stderr",
     "output_type": "stream",
     "text": [
      "\r",
      " 63% (201398400.0 of 315360000.0) |###  | Elapsed Time: 12:59:38 ETA:  14:24:56"
     ]
    },
    {
     "name": "stderr",
     "output_type": "stream",
     "text": [
      "\r",
      " 63% (201744000.0 of 315360000.0) |###  | Elapsed Time: 13:00:31 ETA:   4:46:36"
     ]
    },
    {
     "name": "stderr",
     "output_type": "stream",
     "text": [
      "\r",
      " 64% (201830400.0 of 315360000.0) |###  | Elapsed Time: 13:01:09 ETA:  14:11:38"
     ]
    },
    {
     "name": "stderr",
     "output_type": "stream",
     "text": [
      "\r",
      " 64% (202176000.0 of 315360000.0) |###  | Elapsed Time: 13:02:01 ETA:   4:43:09"
     ]
    },
    {
     "name": "stderr",
     "output_type": "stream",
     "text": [
      "\r",
      " 64% (202262400.0 of 315360000.0) |###  | Elapsed Time: 13:02:39 ETA:  13:53:12"
     ]
    },
    {
     "name": "stderr",
     "output_type": "stream",
     "text": [
      "\r",
      " 64% (202608000.0 of 315360000.0) |###  | Elapsed Time: 13:03:31 ETA:   4:39:22"
     ]
    },
    {
     "name": "stderr",
     "output_type": "stream",
     "text": [
      "\r",
      " 64% (202694400.0 of 315360000.0) |###  | Elapsed Time: 13:04:10 ETA:  14:00:59"
     ]
    },
    {
     "name": "stderr",
     "output_type": "stream",
     "text": [
      "\r",
      " 64% (203040000.0 of 315360000.0) |###  | Elapsed Time: 13:05:01 ETA:   4:39:07"
     ]
    },
    {
     "name": "stderr",
     "output_type": "stream",
     "text": [
      "\r",
      " 64% (203126400.0 of 315360000.0) |###  | Elapsed Time: 13:05:40 ETA:  14:03:44"
     ]
    },
    {
     "name": "stderr",
     "output_type": "stream",
     "text": [
      "\r",
      " 64% (203472000.0 of 315360000.0) |###  | Elapsed Time: 13:06:32 ETA:   4:39:14"
     ]
    },
    {
     "name": "stderr",
     "output_type": "stream",
     "text": [
      "\r",
      " 64% (203558400.0 of 315360000.0) |###  | Elapsed Time: 13:07:11 ETA:  13:56:17"
     ]
    },
    {
     "name": "stderr",
     "output_type": "stream",
     "text": [
      "\r",
      " 64% (203904000.0 of 315360000.0) |###  | Elapsed Time: 13:08:03 ETA:   4:39:28"
     ]
    },
    {
     "name": "stderr",
     "output_type": "stream",
     "text": [
      "\r",
      " 64% (203990400.0 of 315360000.0) |###  | Elapsed Time: 13:08:42 ETA:  13:56:16"
     ]
    },
    {
     "name": "stderr",
     "output_type": "stream",
     "text": [
      "\r",
      " 64% (204336000.0 of 315360000.0) |###  | Elapsed Time: 13:09:33 ETA:   4:36:58"
     ]
    },
    {
     "name": "stderr",
     "output_type": "stream",
     "text": [
      "\r",
      " 64% (204422400.0 of 315360000.0) |###  | Elapsed Time: 13:10:12 ETA:  13:57:13"
     ]
    },
    {
     "name": "stderr",
     "output_type": "stream",
     "text": [
      "\r",
      " 64% (204768000.0 of 315360000.0) |###  | Elapsed Time: 13:11:04 ETA:   4:36:30"
     ]
    },
    {
     "name": "stderr",
     "output_type": "stream",
     "text": [
      "\r",
      " 64% (204854400.0 of 315360000.0) |###  | Elapsed Time: 13:11:43 ETA:  13:57:02"
     ]
    },
    {
     "name": "stderr",
     "output_type": "stream",
     "text": [
      "\r",
      " 65% (205200000.0 of 315360000.0) |###  | Elapsed Time: 13:12:35 ETA:   4:33:33"
     ]
    },
    {
     "name": "stderr",
     "output_type": "stream",
     "text": [
      "\r",
      " 65% (205286400.0 of 315360000.0) |###  | Elapsed Time: 13:13:15 ETA:  14:05:17"
     ]
    },
    {
     "name": "stderr",
     "output_type": "stream",
     "text": [
      "\r",
      " 65% (205632000.0 of 315360000.0) |###  | Elapsed Time: 13:14:06 ETA:   4:32:27"
     ]
    },
    {
     "name": "stderr",
     "output_type": "stream",
     "text": [
      "\r",
      " 65% (205718400.0 of 315360000.0) |###  | Elapsed Time: 13:14:45 ETA:  13:47:36"
     ]
    },
    {
     "name": "stderr",
     "output_type": "stream",
     "text": [
      "\r",
      " 65% (206064000.0 of 315360000.0) |###  | Elapsed Time: 13:15:37 ETA:   4:31:19"
     ]
    },
    {
     "name": "stderr",
     "output_type": "stream",
     "text": [
      "\r",
      " 65% (206150400.0 of 315360000.0) |###  | Elapsed Time: 13:16:16 ETA:  13:45:57"
     ]
    },
    {
     "name": "stderr",
     "output_type": "stream",
     "text": [
      "\r",
      " 65% (206496000.0 of 315360000.0) |###  | Elapsed Time: 13:17:08 ETA:   4:30:39"
     ]
    },
    {
     "name": "stderr",
     "output_type": "stream",
     "text": [
      "\r",
      " 65% (206582400.0 of 315360000.0) |###  | Elapsed Time: 13:17:47 ETA:  13:49:11"
     ]
    },
    {
     "name": "stderr",
     "output_type": "stream",
     "text": [
      "\r",
      " 65% (206928000.0 of 315360000.0) |###  | Elapsed Time: 13:18:39 ETA:   4:31:11"
     ]
    },
    {
     "name": "stderr",
     "output_type": "stream",
     "text": [
      "\r",
      " 65% (207014400.0 of 315360000.0) |###  | Elapsed Time: 13:19:19 ETA:  13:46:08"
     ]
    },
    {
     "name": "stderr",
     "output_type": "stream",
     "text": [
      "\r",
      " 65% (207360000.0 of 315360000.0) |###  | Elapsed Time: 13:20:10 ETA:   4:29:07"
     ]
    },
    {
     "name": "stderr",
     "output_type": "stream",
     "text": [
      "\r",
      " 65% (207446400.0 of 315360000.0) |###  | Elapsed Time: 13:20:50 ETA:  13:40:52"
     ]
    },
    {
     "name": "stderr",
     "output_type": "stream",
     "text": [
      "\r",
      " 65% (207792000.0 of 315360000.0) |###  | Elapsed Time: 13:21:41 ETA:   4:26:07"
     ]
    },
    {
     "name": "stderr",
     "output_type": "stream",
     "text": [
      "\r",
      " 65% (207878400.0 of 315360000.0) |###  | Elapsed Time: 13:22:20 ETA:  13:38:30"
     ]
    },
    {
     "name": "stderr",
     "output_type": "stream",
     "text": [
      "\r",
      " 66% (208224000.0 of 315360000.0) |###  | Elapsed Time: 13:23:12 ETA:   4:25:11"
     ]
    },
    {
     "name": "stderr",
     "output_type": "stream",
     "text": [
      "\r",
      " 66% (208310400.0 of 315360000.0) |###  | Elapsed Time: 13:23:51 ETA:  13:27:18"
     ]
    },
    {
     "name": "stderr",
     "output_type": "stream",
     "text": [
      "\r",
      " 66% (208656000.0 of 315360000.0) |###  | Elapsed Time: 13:24:43 ETA:   4:28:36"
     ]
    },
    {
     "name": "stderr",
     "output_type": "stream",
     "text": [
      "\r",
      " 66% (208742400.0 of 315360000.0) |###  | Elapsed Time: 13:25:22 ETA:  13:29:31"
     ]
    },
    {
     "name": "stderr",
     "output_type": "stream",
     "text": [
      "\r",
      " 66% (209088000.0 of 315360000.0) |###  | Elapsed Time: 13:26:14 ETA:   4:24:58"
     ]
    },
    {
     "name": "stderr",
     "output_type": "stream",
     "text": [
      "\r",
      " 66% (209174400.0 of 315360000.0) |###  | Elapsed Time: 13:26:53 ETA:  13:22:16"
     ]
    },
    {
     "name": "stderr",
     "output_type": "stream",
     "text": [
      "\r",
      " 66% (209520000.0 of 315360000.0) |###  | Elapsed Time: 13:27:44 ETA:   4:21:20"
     ]
    },
    {
     "name": "stderr",
     "output_type": "stream",
     "text": [
      "\r",
      " 66% (209606400.0 of 315360000.0) |###  | Elapsed Time: 13:28:25 ETA:  13:38:27"
     ]
    },
    {
     "name": "stderr",
     "output_type": "stream",
     "text": [
      "\r",
      " 66% (209952000.0 of 315360000.0) |###  | Elapsed Time: 13:29:16 ETA:   4:19:37"
     ]
    },
    {
     "name": "stderr",
     "output_type": "stream",
     "text": [
      "\r",
      " 66% (210038400.0 of 315360000.0) |###  | Elapsed Time: 13:29:55 ETA:  13:16:00"
     ]
    },
    {
     "name": "stderr",
     "output_type": "stream",
     "text": [
      "\r",
      " 66% (210384000.0 of 315360000.0) |###  | Elapsed Time: 13:30:46 ETA:   4:19:36"
     ]
    },
    {
     "name": "stderr",
     "output_type": "stream",
     "text": [
      "\r",
      " 66% (210470400.0 of 315360000.0) |###  | Elapsed Time: 13:31:25 ETA:  13:05:15"
     ]
    },
    {
     "name": "stderr",
     "output_type": "stream",
     "text": [
      "\r",
      " 66% (210816000.0 of 315360000.0) |###  | Elapsed Time: 13:32:16 ETA:   4:19:04"
     ]
    },
    {
     "name": "stderr",
     "output_type": "stream",
     "text": [
      "\r",
      " 66% (210902400.0 of 315360000.0) |###  | Elapsed Time: 13:32:56 ETA:  13:21:59"
     ]
    },
    {
     "name": "stderr",
     "output_type": "stream",
     "text": [
      "\r",
      " 66% (211248000.0 of 315360000.0) |###  | Elapsed Time: 13:33:47 ETA:   4:16:36"
     ]
    },
    {
     "name": "stderr",
     "output_type": "stream",
     "text": [
      "\r",
      " 67% (211334400.0 of 315360000.0) |###  | Elapsed Time: 13:34:26 ETA:  12:59:37"
     ]
    },
    {
     "name": "stderr",
     "output_type": "stream",
     "text": [
      "\r",
      " 67% (211680000.0 of 315360000.0) |###  | Elapsed Time: 13:35:17 ETA:   4:16:18"
     ]
    },
    {
     "name": "stderr",
     "output_type": "stream",
     "text": [
      "\r",
      " 67% (211766400.0 of 315360000.0) |###  | Elapsed Time: 13:35:56 ETA:  13:00:27"
     ]
    },
    {
     "name": "stderr",
     "output_type": "stream",
     "text": [
      "\r",
      " 67% (212112000.0 of 315360000.0) |###  | Elapsed Time: 13:36:48 ETA:   4:14:38"
     ]
    },
    {
     "name": "stderr",
     "output_type": "stream",
     "text": [
      "\r",
      " 67% (212198400.0 of 315360000.0) |###  | Elapsed Time: 13:37:26 ETA:  12:48:35"
     ]
    },
    {
     "name": "stderr",
     "output_type": "stream",
     "text": [
      "\r",
      " 67% (212544000.0 of 315360000.0) |###  | Elapsed Time: 13:38:17 ETA:   4:11:48"
     ]
    },
    {
     "name": "stderr",
     "output_type": "stream",
     "text": [
      "\r",
      " 67% (212630400.0 of 315360000.0) |###  | Elapsed Time: 13:38:56 ETA:  12:58:20"
     ]
    },
    {
     "name": "stderr",
     "output_type": "stream",
     "text": [
      "\r",
      " 67% (212976000.0 of 315360000.0) |###  | Elapsed Time: 13:39:47 ETA:   4:11:59"
     ]
    },
    {
     "name": "stderr",
     "output_type": "stream",
     "text": [
      "\r",
      " 67% (213062400.0 of 315360000.0) |###  | Elapsed Time: 13:40:26 ETA:  12:36:43"
     ]
    },
    {
     "name": "stderr",
     "output_type": "stream",
     "text": [
      "\r",
      " 67% (213408000.0 of 315360000.0) |###  | Elapsed Time: 13:41:17 ETA:   4:11:00"
     ]
    },
    {
     "name": "stderr",
     "output_type": "stream",
     "text": [
      "\r",
      " 67% (213494400.0 of 315360000.0) |###  | Elapsed Time: 13:41:56 ETA:  12:48:10"
     ]
    },
    {
     "name": "stderr",
     "output_type": "stream",
     "text": [
      "\r",
      " 67% (213840000.0 of 315360000.0) |###  | Elapsed Time: 13:42:47 ETA:   4:08:52"
     ]
    },
    {
     "name": "stderr",
     "output_type": "stream",
     "text": [
      "\r",
      " 67% (213926400.0 of 315360000.0) |###  | Elapsed Time: 13:43:25 ETA:  12:38:26"
     ]
    },
    {
     "name": "stderr",
     "output_type": "stream",
     "text": [
      "\r",
      " 67% (214272000.0 of 315360000.0) |###  | Elapsed Time: 13:44:17 ETA:   4:09:46"
     ]
    },
    {
     "name": "stderr",
     "output_type": "stream",
     "text": [
      "\r",
      " 67% (214358400.0 of 315360000.0) |###  | Elapsed Time: 13:44:55 ETA:  12:31:35"
     ]
    },
    {
     "name": "stderr",
     "output_type": "stream",
     "text": [
      "\r",
      " 68% (214704000.0 of 315360000.0) |###  | Elapsed Time: 13:45:46 ETA:   4:05:30"
     ]
    },
    {
     "name": "stderr",
     "output_type": "stream",
     "text": [
      "\r",
      " 68% (214790400.0 of 315360000.0) |###  | Elapsed Time: 13:46:24 ETA:  12:31:01"
     ]
    },
    {
     "name": "stderr",
     "output_type": "stream",
     "text": [
      "\r",
      " 68% (215136000.0 of 315360000.0) |###  | Elapsed Time: 13:47:15 ETA:   4:06:27"
     ]
    },
    {
     "name": "stderr",
     "output_type": "stream",
     "text": [
      "\r",
      " 68% (215222400.0 of 315360000.0) |###  | Elapsed Time: 13:47:55 ETA:  12:43:40"
     ]
    },
    {
     "name": "stderr",
     "output_type": "stream",
     "text": [
      "\r",
      " 68% (215568000.0 of 315360000.0) |###  | Elapsed Time: 13:48:46 ETA:   4:04:13"
     ]
    },
    {
     "name": "stderr",
     "output_type": "stream",
     "text": [
      "\r",
      " 68% (215654400.0 of 315360000.0) |###  | Elapsed Time: 13:49:25 ETA:  12:25:35"
     ]
    },
    {
     "name": "stderr",
     "output_type": "stream",
     "text": [
      "\r",
      " 68% (216000000.0 of 315360000.0) |###  | Elapsed Time: 13:50:15 ETA:   4:02:35"
     ]
    },
    {
     "name": "stderr",
     "output_type": "stream",
     "text": [
      "\r",
      " 68% (216086400.0 of 315360000.0) |###  | Elapsed Time: 13:50:54 ETA:  12:17:27"
     ]
    },
    {
     "name": "stderr",
     "output_type": "stream",
     "text": [
      "\r",
      " 68% (216432000.0 of 315360000.0) |###  | Elapsed Time: 13:51:44 ETA:   4:00:35"
     ]
    },
    {
     "name": "stderr",
     "output_type": "stream",
     "text": [
      "\r",
      " 68% (216518400.0 of 315360000.0) |###  | Elapsed Time: 13:52:24 ETA:  12:35:25"
     ]
    },
    {
     "name": "stderr",
     "output_type": "stream",
     "text": [
      "\r",
      " 68% (216864000.0 of 315360000.0) |###  | Elapsed Time: 13:53:14 ETA:   4:00:34"
     ]
    },
    {
     "name": "stderr",
     "output_type": "stream",
     "text": [
      "\r",
      " 68% (216950400.0 of 315360000.0) |###  | Elapsed Time: 13:53:54 ETA:  12:31:10"
     ]
    },
    {
     "name": "stderr",
     "output_type": "stream",
     "text": [
      "\r",
      " 68% (217296000.0 of 315360000.0) |###  | Elapsed Time: 13:54:45 ETA:   3:59:18"
     ]
    },
    {
     "name": "stderr",
     "output_type": "stream",
     "text": [
      "\r",
      " 68% (217382400.0 of 315360000.0) |###  | Elapsed Time: 13:55:22 ETA:  11:54:24"
     ]
    },
    {
     "name": "stderr",
     "output_type": "stream",
     "text": [
      "\r",
      " 69% (217728000.0 of 315360000.0) |###  | Elapsed Time: 13:56:13 ETA:   3:57:34"
     ]
    },
    {
     "name": "stderr",
     "output_type": "stream",
     "text": [
      "\r",
      " 69% (217814400.0 of 315360000.0) |###  | Elapsed Time: 13:56:52 ETA:  12:17:22"
     ]
    },
    {
     "name": "stderr",
     "output_type": "stream",
     "text": [
      "\r",
      " 69% (218160000.0 of 315360000.0) |###  | Elapsed Time: 13:57:43 ETA:   3:58:49"
     ]
    },
    {
     "name": "stderr",
     "output_type": "stream",
     "text": [
      "\r",
      " 69% (218246400.0 of 315360000.0) |###  | Elapsed Time: 13:58:22 ETA:  12:05:41"
     ]
    },
    {
     "name": "stderr",
     "output_type": "stream",
     "text": [
      "\r",
      " 69% (218592000.0 of 315360000.0) |###  | Elapsed Time: 13:59:12 ETA:   3:57:04"
     ]
    },
    {
     "name": "stderr",
     "output_type": "stream",
     "text": [
      "\r",
      " 69% (218678400.0 of 315360000.0) |###  | Elapsed Time: 13:59:52 ETA:  12:19:49"
     ]
    },
    {
     "name": "stderr",
     "output_type": "stream",
     "text": [
      "\r",
      " 69% (219024000.0 of 315360000.0) |###  | Elapsed Time: 14:00:43 ETA:   3:55:09"
     ]
    },
    {
     "name": "stderr",
     "output_type": "stream",
     "text": [
      "\r",
      " 69% (219110400.0 of 315360000.0) |###  | Elapsed Time: 14:01:22 ETA:  12:01:17"
     ]
    },
    {
     "name": "stderr",
     "output_type": "stream",
     "text": [
      "\r",
      " 69% (219456000.0 of 315360000.0) |###  | Elapsed Time: 14:02:12 ETA:   3:52:40"
     ]
    },
    {
     "name": "stderr",
     "output_type": "stream",
     "text": [
      "\r",
      " 69% (219542400.0 of 315360000.0) |###  | Elapsed Time: 14:02:51 ETA:  11:56:25"
     ]
    },
    {
     "name": "stderr",
     "output_type": "stream",
     "text": [
      "\r",
      " 69% (219888000.0 of 315360000.0) |###  | Elapsed Time: 14:03:41 ETA:   3:51:48"
     ]
    },
    {
     "name": "stderr",
     "output_type": "stream",
     "text": [
      "\r",
      " 69% (219974400.0 of 315360000.0) |###  | Elapsed Time: 14:04:20 ETA:  11:59:24"
     ]
    },
    {
     "name": "stderr",
     "output_type": "stream",
     "text": [
      "\r",
      " 69% (220320000.0 of 315360000.0) |###  | Elapsed Time: 14:05:11 ETA:   3:52:03"
     ]
    },
    {
     "name": "stderr",
     "output_type": "stream",
     "text": [
      "\r",
      " 69% (220406400.0 of 315360000.0) |###  | Elapsed Time: 14:05:49 ETA:  11:45:04"
     ]
    },
    {
     "name": "stderr",
     "output_type": "stream",
     "text": [
      "\r",
      " 70% (220752000.0 of 315360000.0) |###  | Elapsed Time: 14:06:40 ETA:   3:52:04"
     ]
    },
    {
     "name": "stderr",
     "output_type": "stream",
     "text": [
      "\r",
      " 70% (220838400.0 of 315360000.0) |###  | Elapsed Time: 14:07:19 ETA:  11:54:33"
     ]
    },
    {
     "name": "stderr",
     "output_type": "stream",
     "text": [
      "\r",
      " 70% (221184000.0 of 315360000.0) |###  | Elapsed Time: 14:08:09 ETA:   3:46:56"
     ]
    },
    {
     "name": "stderr",
     "output_type": "stream",
     "text": [
      "\r",
      " 70% (221270400.0 of 315360000.0) |###  | Elapsed Time: 14:08:49 ETA:  11:54:33"
     ]
    },
    {
     "name": "stderr",
     "output_type": "stream",
     "text": [
      "\r",
      " 70% (221616000.0 of 315360000.0) |###  | Elapsed Time: 14:09:39 ETA:   3:46:18"
     ]
    },
    {
     "name": "stderr",
     "output_type": "stream",
     "text": [
      "\r",
      " 70% (221702400.0 of 315360000.0) |###  | Elapsed Time: 14:10:17 ETA:  11:38:53"
     ]
    },
    {
     "name": "stderr",
     "output_type": "stream",
     "text": [
      "\r",
      " 70% (222048000.0 of 315360000.0) |###  | Elapsed Time: 14:11:08 ETA:   3:48:00"
     ]
    },
    {
     "name": "stderr",
     "output_type": "stream",
     "text": [
      "\r",
      " 70% (222134400.0 of 315360000.0) |###  | Elapsed Time: 14:11:47 ETA:  11:41:34"
     ]
    },
    {
     "name": "stderr",
     "output_type": "stream",
     "text": [
      "\r",
      " 70% (222480000.0 of 315360000.0) |###  | Elapsed Time: 14:12:37 ETA:   3:45:18"
     ]
    },
    {
     "name": "stderr",
     "output_type": "stream",
     "text": [
      "\r",
      " 70% (222566400.0 of 315360000.0) |###  | Elapsed Time: 14:13:16 ETA:  11:33:33"
     ]
    },
    {
     "name": "stderr",
     "output_type": "stream",
     "text": [
      "\r",
      " 70% (222912000.0 of 315360000.0) |###  | Elapsed Time: 14:14:06 ETA:   3:44:07"
     ]
    },
    {
     "name": "stderr",
     "output_type": "stream",
     "text": [
      "\r",
      " 70% (222998400.0 of 315360000.0) |###  | Elapsed Time: 14:14:45 ETA:  11:26:55"
     ]
    },
    {
     "name": "stderr",
     "output_type": "stream",
     "text": [
      "\r",
      " 70% (223344000.0 of 315360000.0) |###  | Elapsed Time: 14:15:35 ETA:   3:41:45"
     ]
    },
    {
     "name": "stderr",
     "output_type": "stream",
     "text": [
      "\r",
      " 70% (223430400.0 of 315360000.0) |###  | Elapsed Time: 14:16:14 ETA:  11:27:43"
     ]
    },
    {
     "name": "stderr",
     "output_type": "stream",
     "text": [
      "\r",
      " 70% (223776000.0 of 315360000.0) |###  | Elapsed Time: 14:17:04 ETA:   3:42:17"
     ]
    },
    {
     "name": "stderr",
     "output_type": "stream",
     "text": [
      "\r",
      " 70% (223862400.0 of 315360000.0) |###  | Elapsed Time: 14:17:42 ETA:  11:17:25"
     ]
    },
    {
     "name": "stderr",
     "output_type": "stream",
     "text": [
      "\r",
      " 71% (224208000.0 of 315360000.0) |###  | Elapsed Time: 14:18:33 ETA:   3:40:26"
     ]
    },
    {
     "name": "stderr",
     "output_type": "stream",
     "text": [
      "\r",
      " 71% (224294400.0 of 315360000.0) |###  | Elapsed Time: 14:19:12 ETA:  11:31:18"
     ]
    },
    {
     "name": "stderr",
     "output_type": "stream",
     "text": [
      "\r",
      " 71% (224640000.0 of 315360000.0) |###  | Elapsed Time: 14:20:02 ETA:   3:38:27"
     ]
    },
    {
     "name": "stderr",
     "output_type": "stream",
     "text": [
      "\r",
      " 71% (224726400.0 of 315360000.0) |###  | Elapsed Time: 14:20:41 ETA:  11:28:04"
     ]
    },
    {
     "name": "stderr",
     "output_type": "stream",
     "text": [
      "\r",
      " 71% (225072000.0 of 315360000.0) |###  | Elapsed Time: 14:21:32 ETA:   3:39:26"
     ]
    },
    {
     "name": "stderr",
     "output_type": "stream",
     "text": [
      "\r",
      " 71% (225158400.0 of 315360000.0) |###  | Elapsed Time: 14:22:10 ETA:  11:14:59"
     ]
    },
    {
     "name": "stderr",
     "output_type": "stream",
     "text": [
      "\r",
      " 71% (225504000.0 of 315360000.0) |###  | Elapsed Time: 14:23:00 ETA:   3:35:33"
     ]
    },
    {
     "name": "stderr",
     "output_type": "stream",
     "text": [
      "\r",
      " 71% (225590400.0 of 315360000.0) |###  | Elapsed Time: 14:23:39 ETA:  11:08:51"
     ]
    },
    {
     "name": "stderr",
     "output_type": "stream",
     "text": [
      "\r",
      " 71% (225936000.0 of 315360000.0) |###  | Elapsed Time: 14:24:29 ETA:   3:35:39"
     ]
    },
    {
     "name": "stderr",
     "output_type": "stream",
     "text": [
      "\r",
      " 71% (226022400.0 of 315360000.0) |###  | Elapsed Time: 14:25:08 ETA:  11:08:57"
     ]
    },
    {
     "name": "stderr",
     "output_type": "stream",
     "text": [
      "\r",
      " 71% (226368000.0 of 315360000.0) |###  | Elapsed Time: 14:25:57 ETA:   3:32:50"
     ]
    },
    {
     "name": "stderr",
     "output_type": "stream",
     "text": [
      "\r",
      " 71% (226454400.0 of 315360000.0) |###  | Elapsed Time: 14:26:35 ETA:  10:57:18"
     ]
    },
    {
     "name": "stderr",
     "output_type": "stream",
     "text": [
      "\r",
      " 71% (226800000.0 of 315360000.0) |###  | Elapsed Time: 14:27:25 ETA:   3:32:53"
     ]
    },
    {
     "name": "stderr",
     "output_type": "stream",
     "text": [
      "\r",
      " 71% (226886400.0 of 315360000.0) |###  | Elapsed Time: 14:28:04 ETA:  11:05:05"
     ]
    },
    {
     "name": "stderr",
     "output_type": "stream",
     "text": [
      "\r",
      " 72% (227232000.0 of 315360000.0) |###  | Elapsed Time: 14:28:54 ETA:   3:31:16"
     ]
    },
    {
     "name": "stderr",
     "output_type": "stream",
     "text": [
      "\r",
      " 72% (227318400.0 of 315360000.0) |###  | Elapsed Time: 14:29:32 ETA:  10:49:59"
     ]
    },
    {
     "name": "stderr",
     "output_type": "stream",
     "text": [
      "\r",
      " 72% (227664000.0 of 315360000.0) |###  | Elapsed Time: 14:30:22 ETA:   3:30:59"
     ]
    },
    {
     "name": "stderr",
     "output_type": "stream",
     "text": [
      "\r",
      " 72% (227750400.0 of 315360000.0) |###  | Elapsed Time: 14:31:01 ETA:  10:51:02"
     ]
    },
    {
     "name": "stderr",
     "output_type": "stream",
     "text": [
      "\r",
      " 72% (228096000.0 of 315360000.0) |###  | Elapsed Time: 14:31:50 ETA:   3:28:22"
     ]
    },
    {
     "name": "stderr",
     "output_type": "stream",
     "text": [
      "\r",
      " 72% (228182400.0 of 315360000.0) |###  | Elapsed Time: 14:32:29 ETA:  10:43:57"
     ]
    },
    {
     "name": "stderr",
     "output_type": "stream",
     "text": [
      "\r",
      " 72% (228528000.0 of 315360000.0) |###  | Elapsed Time: 14:33:19 ETA:   3:29:23"
     ]
    },
    {
     "name": "stderr",
     "output_type": "stream",
     "text": [
      "\r",
      " 72% (228657600.0 of 315360000.0) |###  | Elapsed Time: 14:34:03 ETA:   8:11:57"
     ]
    },
    {
     "name": "stderr",
     "output_type": "stream",
     "text": [
      "\r",
      " 72% (228960000.0 of 315360000.0) |###  | Elapsed Time: 14:34:47 ETA:   3:30:07"
     ]
    },
    {
     "name": "stderr",
     "output_type": "stream",
     "text": [
      "\r",
      " 72% (229132800.0 of 315360000.0) |###  | Elapsed Time: 14:35:37 ETA:   7:00:28"
     ]
    },
    {
     "name": "stderr",
     "output_type": "stream",
     "text": [
      "\r",
      " 72% (229392000.0 of 315360000.0) |###  | Elapsed Time: 14:36:16 ETA:   3:31:44"
     ]
    },
    {
     "name": "stderr",
     "output_type": "stream",
     "text": [
      "\r",
      " 72% (229564800.0 of 315360000.0) |###  | Elapsed Time: 14:37:05 ETA:   6:50:29"
     ]
    },
    {
     "name": "stderr",
     "output_type": "stream",
     "text": [
      "\r",
      " 72% (229824000.0 of 315360000.0) |###  | Elapsed Time: 14:37:44 ETA:   3:31:26"
     ]
    },
    {
     "name": "stderr",
     "output_type": "stream",
     "text": [
      "\r",
      " 72% (229996800.0 of 315360000.0) |###  | Elapsed Time: 14:38:35 ETA:   7:00:46"
     ]
    },
    {
     "name": "stderr",
     "output_type": "stream",
     "text": [
      "\r",
      " 73% (230256000.0 of 315360000.0) |###  | Elapsed Time: 14:39:13 ETA:   3:30:00"
     ]
    },
    {
     "name": "stderr",
     "output_type": "stream",
     "text": [
      "\r",
      " 73% (230428800.0 of 315360000.0) |###  | Elapsed Time: 14:40:03 ETA:   6:49:05"
     ]
    },
    {
     "name": "stderr",
     "output_type": "stream",
     "text": [
      "\r",
      " 73% (230688000.0 of 315360000.0) |###  | Elapsed Time: 14:40:41 ETA:   3:28:52"
     ]
    },
    {
     "name": "stderr",
     "output_type": "stream",
     "text": [
      "\r",
      " 73% (230860800.0 of 315360000.0) |###  | Elapsed Time: 14:41:32 ETA:   6:50:19"
     ]
    },
    {
     "name": "stderr",
     "output_type": "stream",
     "text": [
      "\r",
      " 73% (231120000.0 of 315360000.0) |###  | Elapsed Time: 14:42:10 ETA:   3:27:40"
     ]
    },
    {
     "name": "stderr",
     "output_type": "stream",
     "text": [
      "\r",
      " 73% (231292800.0 of 315360000.0) |###  | Elapsed Time: 14:43:00 ETA:   6:47:33"
     ]
    },
    {
     "name": "stderr",
     "output_type": "stream",
     "text": [
      "\r",
      " 73% (231552000.0 of 315360000.0) |###  | Elapsed Time: 14:43:39 ETA:   3:25:46"
     ]
    },
    {
     "name": "stderr",
     "output_type": "stream",
     "text": [
      "\r",
      " 73% (231724800.0 of 315360000.0) |###  | Elapsed Time: 14:44:29 ETA:   6:47:03"
     ]
    },
    {
     "name": "stderr",
     "output_type": "stream",
     "text": [
      "\r",
      " 73% (231984000.0 of 315360000.0) |###  | Elapsed Time: 14:45:07 ETA:   3:25:37"
     ]
    },
    {
     "name": "stderr",
     "output_type": "stream",
     "text": [
      "\r",
      " 73% (232156800.0 of 315360000.0) |###  | Elapsed Time: 14:45:58 ETA:   6:44:37"
     ]
    },
    {
     "name": "stderr",
     "output_type": "stream",
     "text": [
      "\r",
      " 73% (232416000.0 of 315360000.0) |###  | Elapsed Time: 14:46:36 ETA:   3:22:49"
     ]
    },
    {
     "name": "stderr",
     "output_type": "stream",
     "text": [
      "\r",
      " 73% (232588800.0 of 315360000.0) |###  | Elapsed Time: 14:47:25 ETA:   6:35:50"
     ]
    },
    {
     "name": "stderr",
     "output_type": "stream",
     "text": [
      "\r",
      " 73% (232848000.0 of 315360000.0) |###  | Elapsed Time: 14:48:03 ETA:   3:21:37"
     ]
    },
    {
     "name": "stderr",
     "output_type": "stream",
     "text": [
      "\r",
      " 73% (233020800.0 of 315360000.0) |###  | Elapsed Time: 14:48:54 ETA:   6:44:32"
     ]
    },
    {
     "name": "stderr",
     "output_type": "stream",
     "text": [
      "\r",
      " 73% (233280000.0 of 315360000.0) |###  | Elapsed Time: 14:49:32 ETA:   3:20:28"
     ]
    },
    {
     "name": "stderr",
     "output_type": "stream",
     "text": [
      "\r",
      " 74% (233452800.0 of 315360000.0) |###  | Elapsed Time: 14:50:22 ETA:   6:31:42"
     ]
    },
    {
     "name": "stderr",
     "output_type": "stream",
     "text": [
      "\r",
      " 74% (233712000.0 of 315360000.0) |###  | Elapsed Time: 14:51:00 ETA:   3:20:59"
     ]
    },
    {
     "name": "stderr",
     "output_type": "stream",
     "text": [
      "\r",
      " 74% (233884800.0 of 315360000.0) |###  | Elapsed Time: 14:51:51 ETA:   6:35:29"
     ]
    },
    {
     "name": "stderr",
     "output_type": "stream",
     "text": [
      "\r",
      " 74% (234144000.0 of 315360000.0) |###  | Elapsed Time: 14:52:29 ETA:   3:19:03"
     ]
    },
    {
     "name": "stderr",
     "output_type": "stream",
     "text": [
      "\r",
      " 74% (234316800.0 of 315360000.0) |###  | Elapsed Time: 14:53:19 ETA:   6:34:02"
     ]
    },
    {
     "name": "stderr",
     "output_type": "stream",
     "text": [
      "\r",
      " 74% (234576000.0 of 315360000.0) |###  | Elapsed Time: 14:53:57 ETA:   3:17:00"
     ]
    },
    {
     "name": "stderr",
     "output_type": "stream",
     "text": [
      "\r",
      " 74% (234748800.0 of 315360000.0) |###  | Elapsed Time: 14:54:48 ETA:   6:32:31"
     ]
    },
    {
     "name": "stderr",
     "output_type": "stream",
     "text": [
      "\r",
      " 74% (235008000.0 of 315360000.0) |###  | Elapsed Time: 14:55:26 ETA:   3:18:24"
     ]
    },
    {
     "name": "stderr",
     "output_type": "stream",
     "text": [
      "\r",
      " 74% (235180800.0 of 315360000.0) |###  | Elapsed Time: 14:56:15 ETA:   6:23:24"
     ]
    },
    {
     "name": "stderr",
     "output_type": "stream",
     "text": [
      "\r",
      " 74% (235440000.0 of 315360000.0) |###  | Elapsed Time: 14:56:54 ETA:   3:18:02"
     ]
    },
    {
     "name": "stderr",
     "output_type": "stream",
     "text": [
      "\r",
      " 74% (235612800.0 of 315360000.0) |###  | Elapsed Time: 14:57:44 ETA:   6:21:15"
     ]
    },
    {
     "name": "stderr",
     "output_type": "stream",
     "text": [
      "\r",
      " 74% (235872000.0 of 315360000.0) |###  | Elapsed Time: 14:58:22 ETA:   3:15:14"
     ]
    },
    {
     "name": "stderr",
     "output_type": "stream",
     "text": [
      "\r",
      " 74% (236044800.0 of 315360000.0) |###  | Elapsed Time: 14:59:11 ETA:   6:20:10"
     ]
    },
    {
     "name": "stderr",
     "output_type": "stream",
     "text": [
      "\r",
      " 74% (236304000.0 of 315360000.0) |###  | Elapsed Time: 14:59:50 ETA:   3:13:37"
     ]
    },
    {
     "name": "stderr",
     "output_type": "stream",
     "text": [
      "\r",
      " 74% (236476800.0 of 315360000.0) |###  | Elapsed Time: 15:00:39 ETA:   6:16:50"
     ]
    },
    {
     "name": "stderr",
     "output_type": "stream",
     "text": [
      "\r",
      " 75% (236736000.0 of 315360000.0) |###  | Elapsed Time: 15:01:17 ETA:   3:12:25"
     ]
    },
    {
     "name": "stderr",
     "output_type": "stream",
     "text": [
      "\r",
      " 75% (236908800.0 of 315360000.0) |###  | Elapsed Time: 15:02:07 ETA:   6:19:52"
     ]
    },
    {
     "name": "stderr",
     "output_type": "stream",
     "text": [
      "\r",
      " 75% (237168000.0 of 315360000.0) |###  | Elapsed Time: 15:02:45 ETA:   3:10:26"
     ]
    },
    {
     "name": "stderr",
     "output_type": "stream",
     "text": [
      "\r",
      " 75% (237340800.0 of 315360000.0) |###  | Elapsed Time: 15:03:35 ETA:   6:14:13"
     ]
    },
    {
     "name": "stderr",
     "output_type": "stream",
     "text": [
      "\r",
      " 75% (237600000.0 of 315360000.0) |###  | Elapsed Time: 15:04:13 ETA:   3:08:57"
     ]
    },
    {
     "name": "stderr",
     "output_type": "stream",
     "text": [
      "\r",
      " 75% (237772800.0 of 315360000.0) |###  | Elapsed Time: 15:05:02 ETA:   6:11:17"
     ]
    },
    {
     "name": "stderr",
     "output_type": "stream",
     "text": [
      "\r",
      " 75% (238032000.0 of 315360000.0) |###  | Elapsed Time: 15:05:40 ETA:   3:09:21"
     ]
    },
    {
     "name": "stderr",
     "output_type": "stream",
     "text": [
      "\r",
      " 75% (238204800.0 of 315360000.0) |###  | Elapsed Time: 15:06:30 ETA:   6:09:22"
     ]
    },
    {
     "name": "stderr",
     "output_type": "stream",
     "text": [
      "\r",
      " 75% (238464000.0 of 315360000.0) |###  | Elapsed Time: 15:07:08 ETA:   3:09:22"
     ]
    },
    {
     "name": "stderr",
     "output_type": "stream",
     "text": [
      "\r",
      " 75% (238636800.0 of 315360000.0) |###  | Elapsed Time: 15:07:58 ETA:   6:06:36"
     ]
    },
    {
     "name": "stderr",
     "output_type": "stream",
     "text": [
      "\r",
      " 75% (238896000.0 of 315360000.0) |###  | Elapsed Time: 15:08:36 ETA:   3:06:00"
     ]
    },
    {
     "name": "stderr",
     "output_type": "stream",
     "text": [
      "\r",
      " 75% (239068800.0 of 315360000.0) |###  | Elapsed Time: 15:09:25 ETA:   6:04:26"
     ]
    },
    {
     "name": "stderr",
     "output_type": "stream",
     "text": [
      "\r",
      " 75% (239328000.0 of 315360000.0) |###  | Elapsed Time: 15:10:03 ETA:   3:05:51"
     ]
    },
    {
     "name": "stderr",
     "output_type": "stream",
     "text": [
      "\r",
      " 75% (239500800.0 of 315360000.0) |###  | Elapsed Time: 15:10:53 ETA:   6:04:03"
     ]
    },
    {
     "name": "stderr",
     "output_type": "stream",
     "text": [
      "\r",
      " 76% (239760000.0 of 315360000.0) |###  | Elapsed Time: 15:11:31 ETA:   3:03:14"
     ]
    },
    {
     "name": "stderr",
     "output_type": "stream",
     "text": [
      "\r",
      " 76% (239932800.0 of 315360000.0) |###  | Elapsed Time: 15:12:20 ETA:   5:58:37"
     ]
    },
    {
     "name": "stderr",
     "output_type": "stream",
     "text": [
      "\r",
      " 76% (240192000.0 of 315360000.0) |###  | Elapsed Time: 15:12:58 ETA:   3:03:20"
     ]
    },
    {
     "name": "stderr",
     "output_type": "stream",
     "text": [
      "\r",
      " 76% (240364800.0 of 315360000.0) |###  | Elapsed Time: 15:13:47 ETA:   5:55:40"
     ]
    },
    {
     "name": "stderr",
     "output_type": "stream",
     "text": [
      "\r",
      " 76% (240624000.0 of 315360000.0) |###  | Elapsed Time: 15:14:25 ETA:   3:01:19"
     ]
    },
    {
     "name": "stderr",
     "output_type": "stream",
     "text": [
      "\r",
      " 76% (240796800.0 of 315360000.0) |###  | Elapsed Time: 15:15:14 ETA:   5:55:56"
     ]
    },
    {
     "name": "stderr",
     "output_type": "stream",
     "text": [
      "\r",
      " 76% (241056000.0 of 315360000.0) |###  | Elapsed Time: 15:15:52 ETA:   3:01:21"
     ]
    },
    {
     "name": "stderr",
     "output_type": "stream",
     "text": [
      "\r",
      " 76% (241228800.0 of 315360000.0) |###  | Elapsed Time: 15:16:42 ETA:   5:53:45"
     ]
    },
    {
     "name": "stderr",
     "output_type": "stream",
     "text": [
      "\r",
      " 76% (241488000.0 of 315360000.0) |###  | Elapsed Time: 15:17:20 ETA:   2:59:29"
     ]
    },
    {
     "name": "stderr",
     "output_type": "stream",
     "text": [
      "\r",
      " 76% (241660800.0 of 315360000.0) |###  | Elapsed Time: 15:18:09 ETA:   5:52:48"
     ]
    },
    {
     "name": "stderr",
     "output_type": "stream",
     "text": [
      "\r",
      " 76% (241920000.0 of 315360000.0) |###  | Elapsed Time: 15:18:47 ETA:   2:58:06"
     ]
    },
    {
     "name": "stderr",
     "output_type": "stream",
     "text": [
      "\r",
      " 76% (242092800.0 of 315360000.0) |###  | Elapsed Time: 15:19:37 ETA:   5:51:14"
     ]
    },
    {
     "name": "stderr",
     "output_type": "stream",
     "text": [
      "\r",
      " 76% (242352000.0 of 315360000.0) |###  | Elapsed Time: 15:20:14 ETA:   2:56:11"
     ]
    },
    {
     "name": "stderr",
     "output_type": "stream",
     "text": [
      "\r",
      " 76% (242524800.0 of 315360000.0) |###  | Elapsed Time: 15:21:04 ETA:   5:51:34"
     ]
    },
    {
     "name": "stderr",
     "output_type": "stream",
     "text": [
      "\r",
      " 76% (242784000.0 of 315360000.0) |###  | Elapsed Time: 15:21:42 ETA:   2:55:51"
     ]
    },
    {
     "name": "stderr",
     "output_type": "stream",
     "text": [
      "\r",
      " 77% (242956800.0 of 315360000.0) |###  | Elapsed Time: 15:22:31 ETA:   5:45:15"
     ]
    },
    {
     "name": "stderr",
     "output_type": "stream",
     "text": [
      "\r",
      " 77% (243216000.0 of 315360000.0) |###  | Elapsed Time: 15:23:09 ETA:   2:54:53"
     ]
    },
    {
     "name": "stderr",
     "output_type": "stream",
     "text": [
      "\r",
      " 77% (243388800.0 of 315360000.0) |###  | Elapsed Time: 15:23:59 ETA:   5:48:13"
     ]
    },
    {
     "name": "stderr",
     "output_type": "stream",
     "text": [
      "\r",
      " 77% (243648000.0 of 315360000.0) |###  | Elapsed Time: 15:24:37 ETA:   2:53:58"
     ]
    },
    {
     "name": "stderr",
     "output_type": "stream",
     "text": [
      "\r",
      " 77% (243820800.0 of 315360000.0) |###  | Elapsed Time: 15:25:26 ETA:   5:41:35"
     ]
    },
    {
     "name": "stderr",
     "output_type": "stream",
     "text": [
      "\r",
      " 77% (244080000.0 of 315360000.0) |###  | Elapsed Time: 15:26:04 ETA:   2:50:38"
     ]
    },
    {
     "name": "stderr",
     "output_type": "stream",
     "text": [
      "\r",
      " 77% (244252800.0 of 315360000.0) |###  | Elapsed Time: 15:26:54 ETA:   5:43:38"
     ]
    },
    {
     "name": "stderr",
     "output_type": "stream",
     "text": [
      "\r",
      " 77% (244512000.0 of 315360000.0) |###  | Elapsed Time: 15:27:31 ETA:   2:50:15"
     ]
    },
    {
     "name": "stderr",
     "output_type": "stream",
     "text": [
      "\r",
      " 77% (244684800.0 of 315360000.0) |###  | Elapsed Time: 15:28:21 ETA:   5:38:33"
     ]
    },
    {
     "name": "stderr",
     "output_type": "stream",
     "text": [
      "\r",
      " 77% (244944000.0 of 315360000.0) |###  | Elapsed Time: 15:28:59 ETA:   2:50:32"
     ]
    },
    {
     "name": "stderr",
     "output_type": "stream",
     "text": [
      "\r",
      " 77% (245116800.0 of 315360000.0) |###  | Elapsed Time: 15:29:48 ETA:   5:35:17"
     ]
    },
    {
     "name": "stderr",
     "output_type": "stream",
     "text": [
      "\r",
      " 77% (245376000.0 of 315360000.0) |###  | Elapsed Time: 15:30:25 ETA:   2:48:08"
     ]
    },
    {
     "name": "stderr",
     "output_type": "stream",
     "text": [
      "\r",
      " 77% (245548800.0 of 315360000.0) |###  | Elapsed Time: 15:31:14 ETA:   5:29:14"
     ]
    },
    {
     "name": "stderr",
     "output_type": "stream",
     "text": [
      "\r",
      " 77% (245808000.0 of 315360000.0) |###  | Elapsed Time: 15:31:52 ETA:   2:47:08"
     ]
    },
    {
     "name": "stderr",
     "output_type": "stream",
     "text": [
      "\r",
      " 78% (245980800.0 of 315360000.0) |###  | Elapsed Time: 15:32:41 ETA:   5:30:25"
     ]
    },
    {
     "name": "stderr",
     "output_type": "stream",
     "text": [
      "\r",
      " 78% (246240000.0 of 315360000.0) |###  | Elapsed Time: 15:33:19 ETA:   2:46:37"
     ]
    },
    {
     "name": "stderr",
     "output_type": "stream",
     "text": [
      "\r",
      " 78% (246412800.0 of 315360000.0) |###  | Elapsed Time: 15:34:08 ETA:   5:26:23"
     ]
    },
    {
     "name": "stderr",
     "output_type": "stream",
     "text": [
      "\r",
      " 78% (246672000.0 of 315360000.0) |###  | Elapsed Time: 15:34:45 ETA:   2:45:05"
     ]
    },
    {
     "name": "stderr",
     "output_type": "stream",
     "text": [
      "\r",
      " 78% (246844800.0 of 315360000.0) |###  | Elapsed Time: 15:35:34 ETA:   5:25:48"
     ]
    },
    {
     "name": "stderr",
     "output_type": "stream",
     "text": [
      "\r",
      " 78% (247104000.0 of 315360000.0) |###  | Elapsed Time: 15:36:12 ETA:   2:43:21"
     ]
    },
    {
     "name": "stderr",
     "output_type": "stream",
     "text": [
      "\r",
      " 78% (247276800.0 of 315360000.0) |###  | Elapsed Time: 15:37:01 ETA:   5:23:00"
     ]
    },
    {
     "name": "stderr",
     "output_type": "stream",
     "text": [
      "\r",
      " 78% (247536000.0 of 315360000.0) |###  | Elapsed Time: 15:37:38 ETA:   2:42:56"
     ]
    },
    {
     "name": "stderr",
     "output_type": "stream",
     "text": [
      "\r",
      " 78% (247708800.0 of 315360000.0) |###  | Elapsed Time: 15:38:28 ETA:   5:22:52"
     ]
    },
    {
     "name": "stderr",
     "output_type": "stream",
     "text": [
      "\r",
      " 78% (247968000.0 of 315360000.0) |###  | Elapsed Time: 15:39:05 ETA:   2:40:57"
     ]
    },
    {
     "name": "stderr",
     "output_type": "stream",
     "text": [
      "\r",
      " 78% (248140800.0 of 315360000.0) |###  | Elapsed Time: 15:39:53 ETA:   5:15:36"
     ]
    },
    {
     "name": "stderr",
     "output_type": "stream",
     "text": [
      "\r",
      " 78% (248400000.0 of 315360000.0) |###  | Elapsed Time: 15:40:31 ETA:   2:40:58"
     ]
    },
    {
     "name": "stderr",
     "output_type": "stream",
     "text": [
      "\r",
      " 78% (248572800.0 of 315360000.0) |###  | Elapsed Time: 15:41:20 ETA:   5:17:00"
     ]
    },
    {
     "name": "stderr",
     "output_type": "stream",
     "text": [
      "\r",
      " 78% (248832000.0 of 315360000.0) |###  | Elapsed Time: 15:41:57 ETA:   2:39:25"
     ]
    },
    {
     "name": "stderr",
     "output_type": "stream",
     "text": [
      "\r",
      " 78% (249004800.0 of 315360000.0) |###  | Elapsed Time: 15:42:46 ETA:   5:14:51"
     ]
    },
    {
     "name": "stderr",
     "output_type": "stream",
     "text": [
      "\r",
      " 79% (249264000.0 of 315360000.0) |###  | Elapsed Time: 15:43:24 ETA:   2:37:50"
     ]
    },
    {
     "name": "stderr",
     "output_type": "stream",
     "text": [
      "\r",
      " 79% (249436800.0 of 315360000.0) |###  | Elapsed Time: 15:44:13 ETA:   5:11:42"
     ]
    },
    {
     "name": "stderr",
     "output_type": "stream",
     "text": [
      "\r",
      " 79% (249696000.0 of 315360000.0) |###  | Elapsed Time: 15:44:50 ETA:   2:36:29"
     ]
    },
    {
     "name": "stderr",
     "output_type": "stream",
     "text": [
      "\r",
      " 79% (249868800.0 of 315360000.0) |###  | Elapsed Time: 15:45:39 ETA:   5:10:25"
     ]
    },
    {
     "name": "stderr",
     "output_type": "stream",
     "text": [
      "\r",
      " 79% (250128000.0 of 315360000.0) |###  | Elapsed Time: 15:46:16 ETA:   2:36:26"
     ]
    },
    {
     "name": "stderr",
     "output_type": "stream",
     "text": [
      "\r",
      " 79% (250300800.0 of 315360000.0) |###  | Elapsed Time: 15:47:06 ETA:   5:10:22"
     ]
    },
    {
     "name": "stderr",
     "output_type": "stream",
     "text": [
      "\r",
      " 79% (250560000.0 of 315360000.0) |###  | Elapsed Time: 15:47:43 ETA:   2:35:39"
     ]
    },
    {
     "name": "stderr",
     "output_type": "stream",
     "text": [
      "\r",
      " 79% (250732800.0 of 315360000.0) |###  | Elapsed Time: 15:48:33 ETA:   5:12:27"
     ]
    },
    {
     "name": "stderr",
     "output_type": "stream",
     "text": [
      "\r",
      " 79% (250992000.0 of 315360000.0) |###  | Elapsed Time: 15:49:10 ETA:   2:33:00"
     ]
    },
    {
     "name": "stderr",
     "output_type": "stream",
     "text": [
      "\r",
      " 79% (251164800.0 of 315360000.0) |###  | Elapsed Time: 15:49:59 ETA:   5:05:14"
     ]
    },
    {
     "name": "stderr",
     "output_type": "stream",
     "text": [
      "\r",
      " 79% (251424000.0 of 315360000.0) |###  | Elapsed Time: 15:50:36 ETA:   2:31:36"
     ]
    },
    {
     "name": "stderr",
     "output_type": "stream",
     "text": [
      "\r",
      " 79% (251596800.0 of 315360000.0) |###  | Elapsed Time: 15:51:25 ETA:   5:03:11"
     ]
    },
    {
     "name": "stderr",
     "output_type": "stream",
     "text": [
      "\r",
      " 79% (251856000.0 of 315360000.0) |###  | Elapsed Time: 15:52:02 ETA:   2:30:20"
     ]
    },
    {
     "name": "stderr",
     "output_type": "stream",
     "text": [
      "\r",
      " 79% (252028800.0 of 315360000.0) |###  | Elapsed Time: 15:52:52 ETA:   5:01:25"
     ]
    },
    {
     "name": "stderr",
     "output_type": "stream",
     "text": [
      "\r",
      " 80% (252288000.0 of 315360000.0) |#### | Elapsed Time: 15:53:29 ETA:   2:30:17"
     ]
    },
    {
     "name": "stderr",
     "output_type": "stream",
     "text": [
      "\r",
      " 80% (252460800.0 of 315360000.0) |#### | Elapsed Time: 15:54:18 ETA:   4:58:03"
     ]
    },
    {
     "name": "stderr",
     "output_type": "stream",
     "text": [
      "\r",
      " 80% (252720000.0 of 315360000.0) |#### | Elapsed Time: 15:54:55 ETA:   2:28:30"
     ]
    },
    {
     "name": "stderr",
     "output_type": "stream",
     "text": [
      "\r",
      " 80% (252892800.0 of 315360000.0) |#### | Elapsed Time: 15:55:44 ETA:   4:57:18"
     ]
    },
    {
     "name": "stderr",
     "output_type": "stream",
     "text": [
      "\r",
      " 80% (253152000.0 of 315360000.0) |#### | Elapsed Time: 15:56:21 ETA:   2:28:13"
     ]
    },
    {
     "name": "stderr",
     "output_type": "stream",
     "text": [
      "\r",
      " 80% (253324800.0 of 315360000.0) |#### | Elapsed Time: 15:57:10 ETA:   4:54:19"
     ]
    },
    {
     "name": "stderr",
     "output_type": "stream",
     "text": [
      "\r",
      " 80% (253584000.0 of 315360000.0) |#### | Elapsed Time: 15:57:47 ETA:   2:26:38"
     ]
    },
    {
     "name": "stderr",
     "output_type": "stream",
     "text": [
      "\r",
      " 80% (253756800.0 of 315360000.0) |#### | Elapsed Time: 15:58:37 ETA:   4:53:33"
     ]
    },
    {
     "name": "stderr",
     "output_type": "stream",
     "text": [
      "\r",
      " 80% (254016000.0 of 315360000.0) |#### | Elapsed Time: 15:59:14 ETA:   2:25:50"
     ]
    },
    {
     "name": "stderr",
     "output_type": "stream",
     "text": [
      "\r",
      " 80% (254188800.0 of 315360000.0) |#### | Elapsed Time: 16:00:03 ETA:   4:51:17"
     ]
    },
    {
     "name": "stderr",
     "output_type": "stream",
     "text": [
      "\r",
      " 80% (254448000.0 of 315360000.0) |#### | Elapsed Time: 16:00:40 ETA:   2:24:00"
     ]
    },
    {
     "name": "stderr",
     "output_type": "stream",
     "text": [
      "\r",
      " 80% (254620800.0 of 315360000.0) |#### | Elapsed Time: 16:01:28 ETA:   4:44:09"
     ]
    },
    {
     "name": "stderr",
     "output_type": "stream",
     "text": [
      "\r",
      " 80% (254880000.0 of 315360000.0) |#### | Elapsed Time: 16:02:05 ETA:   2:23:00"
     ]
    },
    {
     "name": "stderr",
     "output_type": "stream",
     "text": [
      "\r",
      " 80% (255052800.0 of 315360000.0) |#### | Elapsed Time: 16:02:55 ETA:   4:48:14"
     ]
    },
    {
     "name": "stderr",
     "output_type": "stream",
     "text": [
      "\r",
      " 80% (255312000.0 of 315360000.0) |#### | Elapsed Time: 16:03:31 ETA:   2:22:03"
     ]
    },
    {
     "name": "stderr",
     "output_type": "stream",
     "text": [
      "\r",
      " 81% (255484800.0 of 315360000.0) |#### | Elapsed Time: 16:04:20 ETA:   4:42:03"
     ]
    },
    {
     "name": "stderr",
     "output_type": "stream",
     "text": [
      "\r",
      " 81% (255744000.0 of 315360000.0) |#### | Elapsed Time: 16:04:57 ETA:   2:21:34"
     ]
    },
    {
     "name": "stderr",
     "output_type": "stream",
     "text": [
      "\r",
      " 81% (255916800.0 of 315360000.0) |#### | Elapsed Time: 16:05:46 ETA:   4:39:00"
     ]
    },
    {
     "name": "stderr",
     "output_type": "stream",
     "text": [
      "\r",
      " 81% (256176000.0 of 315360000.0) |#### | Elapsed Time: 16:06:23 ETA:   2:20:01"
     ]
    },
    {
     "name": "stderr",
     "output_type": "stream",
     "text": [
      "\r",
      " 81% (256348800.0 of 315360000.0) |#### | Elapsed Time: 16:07:11 ETA:   4:36:54"
     ]
    },
    {
     "name": "stderr",
     "output_type": "stream",
     "text": [
      "\r",
      " 81% (256608000.0 of 315360000.0) |#### | Elapsed Time: 16:07:48 ETA:   2:19:24"
     ]
    },
    {
     "name": "stderr",
     "output_type": "stream",
     "text": [
      "\r",
      " 81% (256780800.0 of 315360000.0) |#### | Elapsed Time: 16:08:37 ETA:   4:37:00"
     ]
    },
    {
     "name": "stderr",
     "output_type": "stream",
     "text": [
      "\r",
      " 81% (257040000.0 of 315360000.0) |#### | Elapsed Time: 16:09:14 ETA:   2:17:57"
     ]
    },
    {
     "name": "stderr",
     "output_type": "stream",
     "text": [
      "\r",
      " 81% (257212800.0 of 315360000.0) |#### | Elapsed Time: 16:10:03 ETA:   4:35:28"
     ]
    },
    {
     "name": "stderr",
     "output_type": "stream",
     "text": [
      "\r",
      " 81% (257472000.0 of 315360000.0) |#### | Elapsed Time: 16:10:40 ETA:   2:16:38"
     ]
    },
    {
     "name": "stderr",
     "output_type": "stream",
     "text": [
      "\r",
      " 81% (257644800.0 of 315360000.0) |#### | Elapsed Time: 16:11:29 ETA:   4:34:29"
     ]
    },
    {
     "name": "stderr",
     "output_type": "stream",
     "text": [
      "\r",
      " 81% (257904000.0 of 315360000.0) |#### | Elapsed Time: 16:12:06 ETA:   2:15:34"
     ]
    },
    {
     "name": "stderr",
     "output_type": "stream",
     "text": [
      "\r",
      " 81% (258076800.0 of 315360000.0) |#### | Elapsed Time: 16:12:55 ETA:   4:30:19"
     ]
    },
    {
     "name": "stderr",
     "output_type": "stream",
     "text": [
      "\r",
      " 81% (258336000.0 of 315360000.0) |#### | Elapsed Time: 16:13:31 ETA:   2:14:23"
     ]
    },
    {
     "name": "stderr",
     "output_type": "stream",
     "text": [
      "\r",
      " 81% (258508800.0 of 315360000.0) |#### | Elapsed Time: 16:14:20 ETA:   4:27:33"
     ]
    },
    {
     "name": "stderr",
     "output_type": "stream",
     "text": [
      "\r",
      " 82% (258768000.0 of 315360000.0) |#### | Elapsed Time: 16:14:57 ETA:   2:14:03"
     ]
    },
    {
     "name": "stderr",
     "output_type": "stream",
     "text": [
      "\r",
      " 82% (258940800.0 of 315360000.0) |#### | Elapsed Time: 16:15:46 ETA:   4:25:30"
     ]
    },
    {
     "name": "stderr",
     "output_type": "stream",
     "text": [
      "\r",
      " 82% (259200000.0 of 315360000.0) |#### | Elapsed Time: 16:16:23 ETA:   2:13:08"
     ]
    },
    {
     "name": "stderr",
     "output_type": "stream",
     "text": [
      "\r",
      " 82% (259372800.0 of 315360000.0) |#### | Elapsed Time: 16:17:12 ETA:   4:26:26"
     ]
    },
    {
     "name": "stderr",
     "output_type": "stream",
     "text": [
      "\r",
      " 82% (259632000.0 of 315360000.0) |#### | Elapsed Time: 16:17:49 ETA:   2:12:28"
     ]
    },
    {
     "name": "stderr",
     "output_type": "stream",
     "text": [
      "\r",
      " 82% (259804800.0 of 315360000.0) |#### | Elapsed Time: 16:18:38 ETA:   4:23:52"
     ]
    },
    {
     "name": "stderr",
     "output_type": "stream",
     "text": [
      "\r",
      " 82% (260064000.0 of 315360000.0) |#### | Elapsed Time: 16:19:15 ETA:   2:10:33"
     ]
    },
    {
     "name": "stderr",
     "output_type": "stream",
     "text": [
      "\r",
      " 82% (260236800.0 of 315360000.0) |#### | Elapsed Time: 16:20:04 ETA:   4:21:53"
     ]
    },
    {
     "name": "stderr",
     "output_type": "stream",
     "text": [
      "\r",
      " 82% (260496000.0 of 315360000.0) |#### | Elapsed Time: 16:20:41 ETA:   2:08:49"
     ]
    },
    {
     "name": "stderr",
     "output_type": "stream",
     "text": [
      "\r",
      " 82% (260668800.0 of 315360000.0) |#### | Elapsed Time: 16:21:30 ETA:   4:22:05"
     ]
    },
    {
     "name": "stderr",
     "output_type": "stream",
     "text": [
      "\r",
      " 82% (260928000.0 of 315360000.0) |#### | Elapsed Time: 16:22:07 ETA:   2:08:27"
     ]
    },
    {
     "name": "stderr",
     "output_type": "stream",
     "text": [
      "\r",
      " 82% (261100800.0 of 315360000.0) |#### | Elapsed Time: 16:22:56 ETA:   4:17:10"
     ]
    },
    {
     "name": "stderr",
     "output_type": "stream",
     "text": [
      "\r",
      " 82% (261360000.0 of 315360000.0) |#### | Elapsed Time: 16:23:33 ETA:   2:07:19"
     ]
    },
    {
     "name": "stderr",
     "output_type": "stream",
     "text": [
      "\r",
      " 82% (261532800.0 of 315360000.0) |#### | Elapsed Time: 16:24:22 ETA:   4:13:17"
     ]
    },
    {
     "name": "stderr",
     "output_type": "stream",
     "text": [
      "\r",
      " 83% (261792000.0 of 315360000.0) |#### | Elapsed Time: 16:24:58 ETA:   2:05:16"
     ]
    },
    {
     "name": "stderr",
     "output_type": "stream",
     "text": [
      "\r",
      " 83% (261964800.0 of 315360000.0) |#### | Elapsed Time: 16:25:47 ETA:   4:11:51"
     ]
    },
    {
     "name": "stderr",
     "output_type": "stream",
     "text": [
      "\r",
      " 83% (262224000.0 of 315360000.0) |#### | Elapsed Time: 16:26:23 ETA:   2:04:21"
     ]
    },
    {
     "name": "stderr",
     "output_type": "stream",
     "text": [
      "\r",
      " 83% (262396800.0 of 315360000.0) |#### | Elapsed Time: 16:27:12 ETA:   4:07:09"
     ]
    },
    {
     "name": "stderr",
     "output_type": "stream",
     "text": [
      "\r",
      " 83% (262656000.0 of 315360000.0) |#### | Elapsed Time: 16:27:48 ETA:   2:04:17"
     ]
    },
    {
     "name": "stderr",
     "output_type": "stream",
     "text": [
      "\r",
      " 83% (262828800.0 of 315360000.0) |#### | Elapsed Time: 16:28:37 ETA:   4:06:59"
     ]
    },
    {
     "name": "stderr",
     "output_type": "stream",
     "text": [
      "\r",
      " 83% (263088000.0 of 315360000.0) |#### | Elapsed Time: 16:29:14 ETA:   2:02:58"
     ]
    },
    {
     "name": "stderr",
     "output_type": "stream",
     "text": [
      "\r",
      " 83% (263260800.0 of 315360000.0) |#### | Elapsed Time: 16:30:03 ETA:   4:06:39"
     ]
    },
    {
     "name": "stderr",
     "output_type": "stream",
     "text": [
      "\r",
      " 83% (263520000.0 of 315360000.0) |#### | Elapsed Time: 16:30:39 ETA:   2:01:19"
     ]
    },
    {
     "name": "stderr",
     "output_type": "stream",
     "text": [
      "\r",
      " 83% (263692800.0 of 315360000.0) |#### | Elapsed Time: 16:31:28 ETA:   4:03:05"
     ]
    },
    {
     "name": "stderr",
     "output_type": "stream",
     "text": [
      "\r",
      " 83% (263952000.0 of 315360000.0) |#### | Elapsed Time: 16:32:05 ETA:   2:01:20"
     ]
    },
    {
     "name": "stderr",
     "output_type": "stream",
     "text": [
      "\r",
      " 83% (264124800.0 of 315360000.0) |#### | Elapsed Time: 16:32:54 ETA:   4:02:15"
     ]
    },
    {
     "name": "stderr",
     "output_type": "stream",
     "text": [
      "\r",
      " 83% (264384000.0 of 315360000.0) |#### | Elapsed Time: 16:33:30 ETA:   1:59:33"
     ]
    },
    {
     "name": "stderr",
     "output_type": "stream",
     "text": [
      "\r",
      " 83% (264556800.0 of 315360000.0) |#### | Elapsed Time: 16:34:19 ETA:   4:00:08"
     ]
    },
    {
     "name": "stderr",
     "output_type": "stream",
     "text": [
      "\r",
      " 83% (264816000.0 of 315360000.0) |#### | Elapsed Time: 16:34:56 ETA:   1:59:07"
     ]
    },
    {
     "name": "stderr",
     "output_type": "stream",
     "text": [
      "\r",
      " 84% (264988800.0 of 315360000.0) |#### | Elapsed Time: 16:35:44 ETA:   3:55:22"
     ]
    },
    {
     "name": "stderr",
     "output_type": "stream",
     "text": [
      "\r",
      " 84% (265248000.0 of 315360000.0) |#### | Elapsed Time: 16:36:21 ETA:   1:57:07"
     ]
    },
    {
     "name": "stderr",
     "output_type": "stream",
     "text": [
      "\r",
      " 84% (265420800.0 of 315360000.0) |#### | Elapsed Time: 16:37:09 ETA:   3:51:12"
     ]
    },
    {
     "name": "stderr",
     "output_type": "stream",
     "text": [
      "\r",
      " 84% (265680000.0 of 315360000.0) |#### | Elapsed Time: 16:37:45 ETA:   1:56:21"
     ]
    },
    {
     "name": "stderr",
     "output_type": "stream",
     "text": [
      "\r",
      " 84% (265852800.0 of 315360000.0) |#### | Elapsed Time: 16:38:34 ETA:   3:52:11"
     ]
    },
    {
     "name": "stderr",
     "output_type": "stream",
     "text": [
      "\r",
      " 84% (266112000.0 of 315360000.0) |#### | Elapsed Time: 16:39:10 ETA:   1:55:02"
     ]
    },
    {
     "name": "stderr",
     "output_type": "stream",
     "text": [
      "\r",
      " 84% (266284800.0 of 315360000.0) |#### | Elapsed Time: 16:39:58 ETA:   3:48:12"
     ]
    },
    {
     "name": "stderr",
     "output_type": "stream",
     "text": [
      "\r",
      " 84% (266544000.0 of 315360000.0) |#### | Elapsed Time: 16:40:35 ETA:   1:54:40"
     ]
    },
    {
     "name": "stderr",
     "output_type": "stream",
     "text": [
      "\r",
      " 84% (266716800.0 of 315360000.0) |#### | Elapsed Time: 16:41:23 ETA:   3:46:32"
     ]
    },
    {
     "name": "stderr",
     "output_type": "stream",
     "text": [
      "\r",
      " 84% (266976000.0 of 315360000.0) |#### | Elapsed Time: 16:42:00 ETA:   1:53:30"
     ]
    },
    {
     "name": "stderr",
     "output_type": "stream",
     "text": [
      "\r",
      " 84% (267148800.0 of 315360000.0) |#### | Elapsed Time: 16:42:48 ETA:   3:45:39"
     ]
    },
    {
     "name": "stderr",
     "output_type": "stream",
     "text": [
      "\r",
      " 84% (267408000.0 of 315360000.0) |#### | Elapsed Time: 16:43:24 ETA:   1:51:56"
     ]
    },
    {
     "name": "stderr",
     "output_type": "stream",
     "text": [
      "\r",
      " 84% (267580800.0 of 315360000.0) |#### | Elapsed Time: 16:44:13 ETA:   3:45:26"
     ]
    },
    {
     "name": "stderr",
     "output_type": "stream",
     "text": [
      "\r",
      " 84% (267840000.0 of 315360000.0) |#### | Elapsed Time: 16:44:49 ETA:   1:50:17"
     ]
    },
    {
     "name": "stderr",
     "output_type": "stream",
     "text": [
      "\r",
      " 84% (268012800.0 of 315360000.0) |#### | Elapsed Time: 16:45:38 ETA:   3:42:58"
     ]
    },
    {
     "name": "stderr",
     "output_type": "stream",
     "text": [
      "\r",
      " 85% (268272000.0 of 315360000.0) |#### | Elapsed Time: 16:46:15 ETA:   1:49:38"
     ]
    },
    {
     "name": "stderr",
     "output_type": "stream",
     "text": [
      "\r",
      " 85% (268444800.0 of 315360000.0) |#### | Elapsed Time: 16:47:03 ETA:   3:40:24"
     ]
    },
    {
     "name": "stderr",
     "output_type": "stream",
     "text": [
      "\r",
      " 85% (268704000.0 of 315360000.0) |#### | Elapsed Time: 16:47:39 ETA:   1:48:19"
     ]
    },
    {
     "name": "stderr",
     "output_type": "stream",
     "text": [
      "\r",
      " 85% (268876800.0 of 315360000.0) |#### | Elapsed Time: 16:48:28 ETA:   3:39:30"
     ]
    },
    {
     "name": "stderr",
     "output_type": "stream",
     "text": [
      "\r",
      " 85% (269136000.0 of 315360000.0) |#### | Elapsed Time: 16:49:05 ETA:   1:47:42"
     ]
    },
    {
     "name": "stderr",
     "output_type": "stream",
     "text": [
      "\r",
      " 85% (269308800.0 of 315360000.0) |#### | Elapsed Time: 16:49:53 ETA:   3:36:20"
     ]
    },
    {
     "name": "stderr",
     "output_type": "stream",
     "text": [
      "\r",
      " 85% (269568000.0 of 315360000.0) |#### | Elapsed Time: 16:50:30 ETA:   1:46:54"
     ]
    },
    {
     "name": "stderr",
     "output_type": "stream",
     "text": [
      "\r",
      " 85% (269740800.0 of 315360000.0) |#### | Elapsed Time: 16:51:18 ETA:   3:33:20"
     ]
    },
    {
     "name": "stderr",
     "output_type": "stream",
     "text": [
      "\r",
      " 85% (270000000.0 of 315360000.0) |#### | Elapsed Time: 16:51:54 ETA:   1:45:23"
     ]
    },
    {
     "name": "stderr",
     "output_type": "stream",
     "text": [
      "\r",
      " 85% (270172800.0 of 315360000.0) |#### | Elapsed Time: 16:52:43 ETA:   3:33:39"
     ]
    },
    {
     "name": "stderr",
     "output_type": "stream",
     "text": [
      "\r",
      " 85% (270432000.0 of 315360000.0) |#### | Elapsed Time: 16:53:19 ETA:   1:44:50"
     ]
    },
    {
     "name": "stderr",
     "output_type": "stream",
     "text": [
      "\r",
      " 85% (270604800.0 of 315360000.0) |#### | Elapsed Time: 16:54:09 ETA:   3:31:59"
     ]
    },
    {
     "name": "stderr",
     "output_type": "stream",
     "text": [
      "\r",
      " 85% (270864000.0 of 315360000.0) |#### | Elapsed Time: 16:54:45 ETA:   1:44:07"
     ]
    },
    {
     "name": "stderr",
     "output_type": "stream",
     "text": [
      "\r",
      " 85% (271036800.0 of 315360000.0) |#### | Elapsed Time: 16:55:34 ETA:   3:30:31"
     ]
    },
    {
     "name": "stderr",
     "output_type": "stream",
     "text": [
      "\r",
      " 86% (271296000.0 of 315360000.0) |#### | Elapsed Time: 16:56:10 ETA:   1:42:14"
     ]
    },
    {
     "name": "stderr",
     "output_type": "stream",
     "text": [
      "\r",
      " 86% (271468800.0 of 315360000.0) |#### | Elapsed Time: 16:56:59 ETA:   3:27:37"
     ]
    },
    {
     "name": "stderr",
     "output_type": "stream",
     "text": [
      "\r",
      " 86% (271728000.0 of 315360000.0) |#### | Elapsed Time: 16:57:36 ETA:   1:41:48"
     ]
    },
    {
     "name": "stderr",
     "output_type": "stream",
     "text": [
      "\r",
      " 86% (271900800.0 of 315360000.0) |#### | Elapsed Time: 16:58:25 ETA:   3:25:57"
     ]
    },
    {
     "name": "stderr",
     "output_type": "stream",
     "text": [
      "\r",
      " 86% (272160000.0 of 315360000.0) |#### | Elapsed Time: 16:59:01 ETA:   1:41:18"
     ]
    },
    {
     "name": "stderr",
     "output_type": "stream",
     "text": [
      "\r",
      " 86% (272332800.0 of 315360000.0) |#### | Elapsed Time: 16:59:50 ETA:   3:22:59"
     ]
    },
    {
     "name": "stderr",
     "output_type": "stream",
     "text": [
      "\r",
      " 86% (272592000.0 of 315360000.0) |#### | Elapsed Time: 17:00:26 ETA:   1:39:03"
     ]
    },
    {
     "name": "stderr",
     "output_type": "stream",
     "text": [
      "\r",
      " 86% (272764800.0 of 315360000.0) |#### | Elapsed Time: 17:01:15 ETA:   3:19:30"
     ]
    },
    {
     "name": "stderr",
     "output_type": "stream",
     "text": [
      "\r",
      " 86% (273024000.0 of 315360000.0) |#### | Elapsed Time: 17:01:51 ETA:   1:38:17"
     ]
    },
    {
     "name": "stderr",
     "output_type": "stream",
     "text": [
      "\r",
      " 86% (273196800.0 of 315360000.0) |#### | Elapsed Time: 17:02:39 ETA:   3:16:24"
     ]
    },
    {
     "name": "stderr",
     "output_type": "stream",
     "text": [
      "\r",
      " 86% (273456000.0 of 315360000.0) |#### | Elapsed Time: 17:03:15 ETA:   1:37:09"
     ]
    },
    {
     "name": "stderr",
     "output_type": "stream",
     "text": [
      "\r",
      " 86% (273628800.0 of 315360000.0) |#### | Elapsed Time: 17:04:04 ETA:   3:17:45"
     ]
    },
    {
     "name": "stderr",
     "output_type": "stream",
     "text": [
      "\r",
      " 86% (273888000.0 of 315360000.0) |#### | Elapsed Time: 17:04:40 ETA:   1:35:48"
     ]
    },
    {
     "name": "stderr",
     "output_type": "stream",
     "text": [
      "\r",
      " 86% (274060800.0 of 315360000.0) |#### | Elapsed Time: 17:05:30 ETA:   3:17:20"
     ]
    },
    {
     "name": "stderr",
     "output_type": "stream",
     "text": [
      "\r",
      " 86% (274320000.0 of 315360000.0) |#### | Elapsed Time: 17:06:06 ETA:   1:34:44"
     ]
    },
    {
     "name": "stderr",
     "output_type": "stream",
     "text": [
      "\r",
      " 87% (274492800.0 of 315360000.0) |#### | Elapsed Time: 17:06:54 ETA:   3:11:23"
     ]
    },
    {
     "name": "stderr",
     "output_type": "stream",
     "text": [
      "\r",
      " 87% (274752000.0 of 315360000.0) |#### | Elapsed Time: 17:07:30 ETA:   1:33:44"
     ]
    },
    {
     "name": "stderr",
     "output_type": "stream",
     "text": [
      "\r",
      " 87% (274924800.0 of 315360000.0) |#### | Elapsed Time: 17:08:19 ETA:   3:11:16"
     ]
    },
    {
     "name": "stderr",
     "output_type": "stream",
     "text": [
      "\r",
      " 87% (275184000.0 of 315360000.0) |#### | Elapsed Time: 17:08:55 ETA:   1:33:09"
     ]
    },
    {
     "name": "stderr",
     "output_type": "stream",
     "text": [
      "\r",
      " 87% (275356800.0 of 315360000.0) |#### | Elapsed Time: 17:09:44 ETA:   3:07:23"
     ]
    },
    {
     "name": "stderr",
     "output_type": "stream",
     "text": [
      "\r",
      " 87% (275616000.0 of 315360000.0) |#### | Elapsed Time: 17:10:20 ETA:   1:32:40"
     ]
    },
    {
     "name": "stderr",
     "output_type": "stream",
     "text": [
      "\r",
      " 87% (275788800.0 of 315360000.0) |#### | Elapsed Time: 17:11:09 ETA:   3:06:00"
     ]
    },
    {
     "name": "stderr",
     "output_type": "stream",
     "text": [
      "\r",
      " 87% (276048000.0 of 315360000.0) |#### | Elapsed Time: 17:11:45 ETA:   1:31:36"
     ]
    },
    {
     "name": "stderr",
     "output_type": "stream",
     "text": [
      "\r",
      " 87% (276220800.0 of 315360000.0) |#### | Elapsed Time: 17:12:34 ETA:   3:03:32"
     ]
    },
    {
     "name": "stderr",
     "output_type": "stream",
     "text": [
      "\r",
      " 87% (276480000.0 of 315360000.0) |#### | Elapsed Time: 17:13:09 ETA:   1:29:25"
     ]
    },
    {
     "name": "stderr",
     "output_type": "stream",
     "text": [
      "\r",
      " 87% (276652800.0 of 315360000.0) |#### | Elapsed Time: 17:13:58 ETA:   3:00:36"
     ]
    },
    {
     "name": "stderr",
     "output_type": "stream",
     "text": [
      "\r",
      " 87% (276912000.0 of 315360000.0) |#### | Elapsed Time: 17:14:34 ETA:   1:29:16"
     ]
    },
    {
     "name": "stderr",
     "output_type": "stream",
     "text": [
      "\r",
      " 87% (277084800.0 of 315360000.0) |#### | Elapsed Time: 17:15:23 ETA:   2:59:16"
     ]
    },
    {
     "name": "stderr",
     "output_type": "stream",
     "text": [
      "\r",
      " 87% (277344000.0 of 315360000.0) |#### | Elapsed Time: 17:15:58 ETA:   1:27:13"
     ]
    },
    {
     "name": "stderr",
     "output_type": "stream",
     "text": [
      "\r",
      " 88% (277516800.0 of 315360000.0) |#### | Elapsed Time: 17:16:46 ETA:   2:55:47"
     ]
    },
    {
     "name": "stderr",
     "output_type": "stream",
     "text": [
      "\r",
      " 88% (277776000.0 of 315360000.0) |#### | Elapsed Time: 17:17:22 ETA:   1:27:14"
     ]
    },
    {
     "name": "stderr",
     "output_type": "stream",
     "text": [
      "\r",
      " 88% (277948800.0 of 315360000.0) |#### | Elapsed Time: 17:18:11 ETA:   2:54:27"
     ]
    },
    {
     "name": "stderr",
     "output_type": "stream",
     "text": [
      "\r",
      " 88% (278208000.0 of 315360000.0) |#### | Elapsed Time: 17:18:47 ETA:   1:26:01"
     ]
    },
    {
     "name": "stderr",
     "output_type": "stream",
     "text": [
      "\r",
      " 88% (278380800.0 of 315360000.0) |#### | Elapsed Time: 17:19:35 ETA:   2:53:29"
     ]
    },
    {
     "name": "stderr",
     "output_type": "stream",
     "text": [
      "\r",
      " 88% (278640000.0 of 315360000.0) |#### | Elapsed Time: 17:20:11 ETA:   1:24:49"
     ]
    },
    {
     "name": "stderr",
     "output_type": "stream",
     "text": [
      "\r",
      " 88% (278812800.0 of 315360000.0) |#### | Elapsed Time: 17:21:00 ETA:   2:49:47"
     ]
    },
    {
     "name": "stderr",
     "output_type": "stream",
     "text": [
      "\r",
      " 88% (279072000.0 of 315360000.0) |#### | Elapsed Time: 17:21:36 ETA:   1:23:53"
     ]
    },
    {
     "name": "stderr",
     "output_type": "stream",
     "text": [
      "\r",
      " 88% (279244800.0 of 315360000.0) |#### | Elapsed Time: 17:22:24 ETA:   2:47:41"
     ]
    },
    {
     "name": "stderr",
     "output_type": "stream",
     "text": [
      "\r",
      " 88% (279504000.0 of 315360000.0) |#### | Elapsed Time: 17:23:00 ETA:   1:22:58"
     ]
    },
    {
     "name": "stderr",
     "output_type": "stream",
     "text": [
      "\r",
      " 88% (279676800.0 of 315360000.0) |#### | Elapsed Time: 17:23:48 ETA:   2:47:08"
     ]
    },
    {
     "name": "stderr",
     "output_type": "stream",
     "text": [
      "\r",
      " 88% (279936000.0 of 315360000.0) |#### | Elapsed Time: 17:24:24 ETA:   1:21:17"
     ]
    },
    {
     "name": "stderr",
     "output_type": "stream",
     "text": [
      "\r",
      " 88% (280108800.0 of 315360000.0) |#### | Elapsed Time: 17:25:12 ETA:   2:45:00"
     ]
    },
    {
     "name": "stderr",
     "output_type": "stream",
     "text": [
      "\r",
      " 88% (280368000.0 of 315360000.0) |#### | Elapsed Time: 17:25:48 ETA:   1:20:36"
     ]
    },
    {
     "name": "stderr",
     "output_type": "stream",
     "text": [
      "\r",
      " 88% (280540800.0 of 315360000.0) |#### | Elapsed Time: 17:26:36 ETA:   2:41:29"
     ]
    },
    {
     "name": "stderr",
     "output_type": "stream",
     "text": [
      "\r",
      " 89% (280800000.0 of 315360000.0) |#### | Elapsed Time: 17:27:12 ETA:   1:19:58"
     ]
    },
    {
     "name": "stderr",
     "output_type": "stream",
     "text": [
      "\r",
      " 89% (280972800.0 of 315360000.0) |#### | Elapsed Time: 17:28:01 ETA:   2:41:29"
     ]
    },
    {
     "name": "stderr",
     "output_type": "stream",
     "text": [
      "\r",
      " 89% (281232000.0 of 315360000.0) |#### | Elapsed Time: 17:28:37 ETA:   1:18:26"
     ]
    },
    {
     "name": "stderr",
     "output_type": "stream",
     "text": [
      "\r",
      " 89% (281404800.0 of 315360000.0) |#### | Elapsed Time: 17:29:25 ETA:   2:38:13"
     ]
    },
    {
     "name": "stderr",
     "output_type": "stream",
     "text": [
      "\r",
      " 89% (281664000.0 of 315360000.0) |#### | Elapsed Time: 17:30:01 ETA:   1:17:19"
     ]
    },
    {
     "name": "stderr",
     "output_type": "stream",
     "text": [
      "\r",
      " 89% (281836800.0 of 315360000.0) |#### | Elapsed Time: 17:30:49 ETA:   2:37:13"
     ]
    },
    {
     "name": "stderr",
     "output_type": "stream",
     "text": [
      "\r",
      " 89% (282096000.0 of 315360000.0) |#### | Elapsed Time: 17:31:25 ETA:   1:16:20"
     ]
    },
    {
     "name": "stderr",
     "output_type": "stream",
     "text": [
      "\r",
      " 89% (282268800.0 of 315360000.0) |#### | Elapsed Time: 17:32:14 ETA:   2:34:54"
     ]
    },
    {
     "name": "stderr",
     "output_type": "stream",
     "text": [
      "\r",
      " 89% (282528000.0 of 315360000.0) |#### | Elapsed Time: 17:32:49 ETA:   1:15:09"
     ]
    },
    {
     "name": "stderr",
     "output_type": "stream",
     "text": [
      "\r",
      " 89% (282700800.0 of 315360000.0) |#### | Elapsed Time: 17:33:38 ETA:   2:33:00"
     ]
    },
    {
     "name": "stderr",
     "output_type": "stream",
     "text": [
      "\r",
      " 89% (282960000.0 of 315360000.0) |#### | Elapsed Time: 17:34:14 ETA:   1:14:33"
     ]
    },
    {
     "name": "stderr",
     "output_type": "stream",
     "text": [
      "\r",
      " 89% (283132800.0 of 315360000.0) |#### | Elapsed Time: 17:35:02 ETA:   2:30:54"
     ]
    },
    {
     "name": "stderr",
     "output_type": "stream",
     "text": [
      "\r",
      " 89% (283392000.0 of 315360000.0) |#### | Elapsed Time: 17:35:38 ETA:   1:12:46"
     ]
    },
    {
     "name": "stderr",
     "output_type": "stream",
     "text": [
      "\r",
      " 89% (283564800.0 of 315360000.0) |#### | Elapsed Time: 17:36:26 ETA:   2:27:08"
     ]
    },
    {
     "name": "stderr",
     "output_type": "stream",
     "text": [
      "\r",
      " 90% (283824000.0 of 315360000.0) |#### | Elapsed Time: 17:37:01 ETA:   1:11:47"
     ]
    },
    {
     "name": "stderr",
     "output_type": "stream",
     "text": [
      "\r",
      " 90% (283996800.0 of 315360000.0) |#### | Elapsed Time: 17:37:49 ETA:   2:26:18"
     ]
    },
    {
     "name": "stderr",
     "output_type": "stream",
     "text": [
      "\r",
      " 90% (284256000.0 of 315360000.0) |#### | Elapsed Time: 17:38:25 ETA:   1:11:20"
     ]
    },
    {
     "name": "stderr",
     "output_type": "stream",
     "text": [
      "\r",
      " 90% (284428800.0 of 315360000.0) |#### | Elapsed Time: 17:39:14 ETA:   2:25:56"
     ]
    },
    {
     "name": "stderr",
     "output_type": "stream",
     "text": [
      "\r",
      " 90% (284688000.0 of 315360000.0) |#### | Elapsed Time: 17:39:50 ETA:   1:10:17"
     ]
    },
    {
     "name": "stderr",
     "output_type": "stream",
     "text": [
      "\r",
      " 90% (284860800.0 of 315360000.0) |#### | Elapsed Time: 17:40:38 ETA:   2:23:51"
     ]
    },
    {
     "name": "stderr",
     "output_type": "stream",
     "text": [
      "\r",
      " 90% (285120000.0 of 315360000.0) |#### | Elapsed Time: 17:41:14 ETA:   1:09:53"
     ]
    },
    {
     "name": "stderr",
     "output_type": "stream",
     "text": [
      "\r",
      " 90% (285292800.0 of 315360000.0) |#### | Elapsed Time: 17:42:03 ETA:   2:19:41"
     ]
    },
    {
     "name": "stderr",
     "output_type": "stream",
     "text": [
      "\r",
      " 90% (285552000.0 of 315360000.0) |#### | Elapsed Time: 17:42:38 ETA:   1:08:52"
     ]
    },
    {
     "name": "stderr",
     "output_type": "stream",
     "text": [
      "\r",
      " 90% (285724800.0 of 315360000.0) |#### | Elapsed Time: 17:43:26 ETA:   2:16:49"
     ]
    },
    {
     "name": "stderr",
     "output_type": "stream",
     "text": [
      "\r",
      " 90% (285984000.0 of 315360000.0) |#### | Elapsed Time: 17:44:02 ETA:   1:07:10"
     ]
    },
    {
     "name": "stderr",
     "output_type": "stream",
     "text": [
      "\r",
      " 90% (286156800.0 of 315360000.0) |#### | Elapsed Time: 17:44:50 ETA:   2:16:32"
     ]
    },
    {
     "name": "stderr",
     "output_type": "stream",
     "text": [
      "\r",
      " 90% (286416000.0 of 315360000.0) |#### | Elapsed Time: 17:45:26 ETA:   1:06:08"
     ]
    },
    {
     "name": "stderr",
     "output_type": "stream",
     "text": [
      "\r",
      " 90% (286588800.0 of 315360000.0) |#### | Elapsed Time: 17:46:15 ETA:   2:15:42"
     ]
    },
    {
     "name": "stderr",
     "output_type": "stream",
     "text": [
      "\r",
      " 90% (286848000.0 of 315360000.0) |#### | Elapsed Time: 17:46:50 ETA:   1:05:23"
     ]
    },
    {
     "name": "stderr",
     "output_type": "stream",
     "text": [
      "\r",
      " 91% (287020800.0 of 315360000.0) |#### | Elapsed Time: 17:47:39 ETA:   2:11:39"
     ]
    },
    {
     "name": "stderr",
     "output_type": "stream",
     "text": [
      "\r",
      " 91% (287280000.0 of 315360000.0) |#### | Elapsed Time: 17:48:14 ETA:   1:03:49"
     ]
    },
    {
     "name": "stderr",
     "output_type": "stream",
     "text": [
      "\r",
      " 91% (287452800.0 of 315360000.0) |#### | Elapsed Time: 17:49:03 ETA:   2:11:56"
     ]
    },
    {
     "name": "stderr",
     "output_type": "stream",
     "text": [
      "\r",
      " 91% (287712000.0 of 315360000.0) |#### | Elapsed Time: 17:49:39 ETA:   1:03:26"
     ]
    },
    {
     "name": "stderr",
     "output_type": "stream",
     "text": [
      "\r",
      " 91% (287884800.0 of 315360000.0) |#### | Elapsed Time: 17:50:27 ETA:   2:07:12"
     ]
    },
    {
     "name": "stderr",
     "output_type": "stream",
     "text": [
      "\r",
      " 91% (288144000.0 of 315360000.0) |#### | Elapsed Time: 17:51:02 ETA:   1:01:53"
     ]
    },
    {
     "name": "stderr",
     "output_type": "stream",
     "text": [
      "\r",
      " 91% (288316800.0 of 315360000.0) |#### | Elapsed Time: 17:51:50 ETA:   2:06:01"
     ]
    },
    {
     "name": "stderr",
     "output_type": "stream",
     "text": [
      "\r",
      " 91% (288576000.0 of 315360000.0) |#### | Elapsed Time: 17:52:26 ETA:   1:01:05"
     ]
    },
    {
     "name": "stderr",
     "output_type": "stream",
     "text": [
      "\r",
      " 91% (288748800.0 of 315360000.0) |#### | Elapsed Time: 17:53:15 ETA:   2:05:03"
     ]
    },
    {
     "name": "stderr",
     "output_type": "stream",
     "text": [
      "\r",
      " 91% (289008000.0 of 315360000.0) |#### | Elapsed Time: 17:53:50 ETA:   0:59:49"
     ]
    },
    {
     "name": "stderr",
     "output_type": "stream",
     "text": [
      "\r",
      " 91% (289180800.0 of 315360000.0) |#### | Elapsed Time: 17:54:38 ETA:   2:02:07"
     ]
    },
    {
     "name": "stderr",
     "output_type": "stream",
     "text": [
      "\r",
      " 91% (289440000.0 of 315360000.0) |#### | Elapsed Time: 17:55:14 ETA:   0:59:01"
     ]
    },
    {
     "name": "stderr",
     "output_type": "stream",
     "text": [
      "\r",
      " 91% (289612800.0 of 315360000.0) |#### | Elapsed Time: 17:56:02 ETA:   1:59:26"
     ]
    },
    {
     "name": "stderr",
     "output_type": "stream",
     "text": [
      "\r",
      " 91% (289872000.0 of 315360000.0) |#### | Elapsed Time: 17:56:37 ETA:   0:57:58"
     ]
    },
    {
     "name": "stderr",
     "output_type": "stream",
     "text": [
      "\r",
      " 91% (290044800.0 of 315360000.0) |#### | Elapsed Time: 17:57:25 ETA:   1:57:55"
     ]
    },
    {
     "name": "stderr",
     "output_type": "stream",
     "text": [
      "\r",
      " 92% (290304000.0 of 315360000.0) |#### | Elapsed Time: 17:58:01 ETA:   0:56:38"
     ]
    },
    {
     "name": "stderr",
     "output_type": "stream",
     "text": [
      "\r",
      " 92% (290476800.0 of 315360000.0) |#### | Elapsed Time: 17:58:49 ETA:   1:55:09"
     ]
    },
    {
     "name": "stderr",
     "output_type": "stream",
     "text": [
      "\r",
      " 92% (290736000.0 of 315360000.0) |#### | Elapsed Time: 17:59:24 ETA:   0:55:48"
     ]
    },
    {
     "name": "stderr",
     "output_type": "stream",
     "text": [
      "\r",
      " 92% (290908800.0 of 315360000.0) |#### | Elapsed Time: 18:00:12 ETA:   1:53:30"
     ]
    },
    {
     "name": "stderr",
     "output_type": "stream",
     "text": [
      "\r",
      " 92% (291168000.0 of 315360000.0) |#### | Elapsed Time: 18:00:47 ETA:   0:54:44"
     ]
    },
    {
     "name": "stderr",
     "output_type": "stream",
     "text": [
      "\r",
      " 92% (291340800.0 of 315360000.0) |#### | Elapsed Time: 18:01:35 ETA:   1:50:09"
     ]
    },
    {
     "name": "stderr",
     "output_type": "stream",
     "text": [
      "\r",
      " 92% (291600000.0 of 315360000.0) |#### | Elapsed Time: 18:02:10 ETA:   0:54:15"
     ]
    },
    {
     "name": "stderr",
     "output_type": "stream",
     "text": [
      "\r",
      " 92% (291772800.0 of 315360000.0) |#### | Elapsed Time: 18:02:58 ETA:   1:49:41"
     ]
    },
    {
     "name": "stderr",
     "output_type": "stream",
     "text": [
      "\r",
      " 92% (292032000.0 of 315360000.0) |#### | Elapsed Time: 18:03:34 ETA:   0:53:01"
     ]
    },
    {
     "name": "stderr",
     "output_type": "stream",
     "text": [
      "\r",
      " 92% (292204800.0 of 315360000.0) |#### | Elapsed Time: 18:04:21 ETA:   1:46:25"
     ]
    },
    {
     "name": "stderr",
     "output_type": "stream",
     "text": [
      "\r",
      " 92% (292464000.0 of 315360000.0) |#### | Elapsed Time: 18:04:57 ETA:   0:51:53"
     ]
    },
    {
     "name": "stderr",
     "output_type": "stream",
     "text": [
      "\r",
      " 92% (292636800.0 of 315360000.0) |#### | Elapsed Time: 18:05:44 ETA:   1:44:18"
     ]
    },
    {
     "name": "stderr",
     "output_type": "stream",
     "text": [
      "\r",
      " 92% (292896000.0 of 315360000.0) |#### | Elapsed Time: 18:06:20 ETA:   0:51:01"
     ]
    },
    {
     "name": "stderr",
     "output_type": "stream",
     "text": [
      "\r",
      " 92% (293068800.0 of 315360000.0) |#### | Elapsed Time: 18:07:07 ETA:   1:41:59"
     ]
    },
    {
     "name": "stderr",
     "output_type": "stream",
     "text": [
      "\r",
      " 93% (293328000.0 of 315360000.0) |#### | Elapsed Time: 18:07:42 ETA:   0:50:02"
     ]
    },
    {
     "name": "stderr",
     "output_type": "stream",
     "text": [
      "\r",
      " 93% (293500800.0 of 315360000.0) |#### | Elapsed Time: 18:08:30 ETA:   1:41:04"
     ]
    },
    {
     "name": "stderr",
     "output_type": "stream",
     "text": [
      "\r",
      " 93% (293760000.0 of 315360000.0) |#### | Elapsed Time: 18:09:05 ETA:   0:48:40"
     ]
    },
    {
     "name": "stderr",
     "output_type": "stream",
     "text": [
      "\r",
      " 93% (293932800.0 of 315360000.0) |#### | Elapsed Time: 18:09:53 ETA:   1:38:29"
     ]
    },
    {
     "name": "stderr",
     "output_type": "stream",
     "text": [
      "\r",
      " 93% (294192000.0 of 315360000.0) |#### | Elapsed Time: 18:10:28 ETA:   0:47:48"
     ]
    },
    {
     "name": "stderr",
     "output_type": "stream",
     "text": [
      "\r",
      " 93% (294364800.0 of 315360000.0) |#### | Elapsed Time: 18:11:16 ETA:   1:36:37"
     ]
    },
    {
     "name": "stderr",
     "output_type": "stream",
     "text": [
      "\r",
      " 93% (294624000.0 of 315360000.0) |#### | Elapsed Time: 18:11:51 ETA:   0:46:46"
     ]
    },
    {
     "name": "stderr",
     "output_type": "stream",
     "text": [
      "\r",
      " 93% (294796800.0 of 315360000.0) |#### | Elapsed Time: 18:12:39 ETA:   1:35:58"
     ]
    },
    {
     "name": "stderr",
     "output_type": "stream",
     "text": [
      "\r",
      " 93% (295056000.0 of 315360000.0) |#### | Elapsed Time: 18:13:14 ETA:   0:45:46"
     ]
    },
    {
     "name": "stderr",
     "output_type": "stream",
     "text": [
      "\r",
      " 93% (295228800.0 of 315360000.0) |#### | Elapsed Time: 18:14:03 ETA:   1:33:48"
     ]
    },
    {
     "name": "stderr",
     "output_type": "stream",
     "text": [
      "\r",
      " 93% (295488000.0 of 315360000.0) |#### | Elapsed Time: 18:14:38 ETA:   0:44:54"
     ]
    },
    {
     "name": "stderr",
     "output_type": "stream",
     "text": [
      "\r",
      " 93% (295660800.0 of 315360000.0) |#### | Elapsed Time: 18:15:26 ETA:   1:32:13"
     ]
    },
    {
     "name": "stderr",
     "output_type": "stream",
     "text": [
      "\r",
      " 93% (295920000.0 of 315360000.0) |#### | Elapsed Time: 18:16:02 ETA:   0:43:52"
     ]
    },
    {
     "name": "stderr",
     "output_type": "stream",
     "text": [
      "\r",
      " 93% (296092800.0 of 315360000.0) |#### | Elapsed Time: 18:16:50 ETA:   1:29:48"
     ]
    },
    {
     "name": "stderr",
     "output_type": "stream",
     "text": [
      "\r",
      " 93% (296352000.0 of 315360000.0) |#### | Elapsed Time: 18:17:25 ETA:   0:42:45"
     ]
    },
    {
     "name": "stderr",
     "output_type": "stream",
     "text": [
      "\r",
      " 94% (296524800.0 of 315360000.0) |#### | Elapsed Time: 18:18:13 ETA:   1:27:10"
     ]
    },
    {
     "name": "stderr",
     "output_type": "stream",
     "text": [
      "\r",
      " 94% (296784000.0 of 315360000.0) |#### | Elapsed Time: 18:18:48 ETA:   0:41:47"
     ]
    },
    {
     "name": "stderr",
     "output_type": "stream",
     "text": [
      "\r",
      " 94% (296956800.0 of 315360000.0) |#### | Elapsed Time: 18:19:35 ETA:   1:23:31"
     ]
    },
    {
     "name": "stderr",
     "output_type": "stream",
     "text": [
      "\r",
      " 94% (297216000.0 of 315360000.0) |#### | Elapsed Time: 18:20:10 ETA:   0:41:08"
     ]
    },
    {
     "name": "stderr",
     "output_type": "stream",
     "text": [
      "\r",
      " 94% (297388800.0 of 315360000.0) |#### | Elapsed Time: 18:20:59 ETA:   1:24:37"
     ]
    },
    {
     "name": "stderr",
     "output_type": "stream",
     "text": [
      "\r",
      " 94% (297648000.0 of 315360000.0) |#### | Elapsed Time: 18:21:34 ETA:   0:40:05"
     ]
    },
    {
     "name": "stderr",
     "output_type": "stream",
     "text": [
      "\r",
      " 94% (297820800.0 of 315360000.0) |#### | Elapsed Time: 18:22:23 ETA:   1:22:10"
     ]
    },
    {
     "name": "stderr",
     "output_type": "stream",
     "text": [
      "\r",
      " 94% (298080000.0 of 315360000.0) |#### | Elapsed Time: 18:22:58 ETA:   0:39:00"
     ]
    },
    {
     "name": "stderr",
     "output_type": "stream",
     "text": [
      "\r",
      " 94% (298252800.0 of 315360000.0) |#### | Elapsed Time: 18:23:46 ETA:   1:19:55"
     ]
    },
    {
     "name": "stderr",
     "output_type": "stream",
     "text": [
      "\r",
      " 94% (298512000.0 of 315360000.0) |#### | Elapsed Time: 18:24:21 ETA:   0:37:56"
     ]
    },
    {
     "name": "stderr",
     "output_type": "stream",
     "text": [
      "\r",
      " 94% (298684800.0 of 315360000.0) |#### | Elapsed Time: 18:25:10 ETA:   1:17:49"
     ]
    },
    {
     "name": "stderr",
     "output_type": "stream",
     "text": [
      "\r",
      " 94% (298944000.0 of 315360000.0) |#### | Elapsed Time: 18:25:45 ETA:   0:37:08"
     ]
    },
    {
     "name": "stderr",
     "output_type": "stream",
     "text": [
      "\r",
      " 94% (299116800.0 of 315360000.0) |#### | Elapsed Time: 18:26:33 ETA:   1:16:05"
     ]
    },
    {
     "name": "stderr",
     "output_type": "stream",
     "text": [
      "\r",
      " 94% (299376000.0 of 315360000.0) |#### | Elapsed Time: 18:27:08 ETA:   0:35:50"
     ]
    },
    {
     "name": "stderr",
     "output_type": "stream",
     "text": [
      "\r",
      " 94% (299548800.0 of 315360000.0) |#### | Elapsed Time: 18:27:56 ETA:   1:12:46"
     ]
    },
    {
     "name": "stderr",
     "output_type": "stream",
     "text": [
      "\r",
      " 95% (299808000.0 of 315360000.0) |#### | Elapsed Time: 18:28:31 ETA:   0:34:51"
     ]
    },
    {
     "name": "stderr",
     "output_type": "stream",
     "text": [
      "\r",
      " 95% (299980800.0 of 315360000.0) |#### | Elapsed Time: 18:29:19 ETA:   1:11:59"
     ]
    },
    {
     "name": "stderr",
     "output_type": "stream",
     "text": [
      "\r",
      " 95% (300240000.0 of 315360000.0) |#### | Elapsed Time: 18:29:54 ETA:   0:34:05"
     ]
    },
    {
     "name": "stderr",
     "output_type": "stream",
     "text": [
      "\r",
      " 95% (300412800.0 of 315360000.0) |#### | Elapsed Time: 18:30:43 ETA:   1:09:21"
     ]
    },
    {
     "name": "stderr",
     "output_type": "stream",
     "text": [
      "\r",
      " 95% (300672000.0 of 315360000.0) |#### | Elapsed Time: 18:31:18 ETA:   0:33:12"
     ]
    },
    {
     "name": "stderr",
     "output_type": "stream",
     "text": [
      "\r",
      " 95% (300844800.0 of 315360000.0) |#### | Elapsed Time: 18:32:06 ETA:   1:07:54"
     ]
    },
    {
     "name": "stderr",
     "output_type": "stream",
     "text": [
      "\r",
      " 95% (301104000.0 of 315360000.0) |#### | Elapsed Time: 18:32:41 ETA:   0:32:04"
     ]
    },
    {
     "name": "stderr",
     "output_type": "stream",
     "text": [
      "\r",
      " 95% (301276800.0 of 315360000.0) |#### | Elapsed Time: 18:33:30 ETA:   1:06:01"
     ]
    },
    {
     "name": "stderr",
     "output_type": "stream",
     "text": [
      "\r",
      " 95% (301536000.0 of 315360000.0) |#### | Elapsed Time: 18:34:05 ETA:   0:31:00"
     ]
    },
    {
     "name": "stderr",
     "output_type": "stream",
     "text": [
      "\r",
      " 95% (301708800.0 of 315360000.0) |#### | Elapsed Time: 18:34:53 ETA:   1:03:56"
     ]
    },
    {
     "name": "stderr",
     "output_type": "stream",
     "text": [
      "\r",
      " 95% (301968000.0 of 315360000.0) |#### | Elapsed Time: 18:35:28 ETA:   0:30:05"
     ]
    },
    {
     "name": "stderr",
     "output_type": "stream",
     "text": [
      "\r",
      " 95% (302140800.0 of 315360000.0) |#### | Elapsed Time: 18:36:17 ETA:   1:02:07"
     ]
    },
    {
     "name": "stderr",
     "output_type": "stream",
     "text": [
      "\r",
      " 95% (302400000.0 of 315360000.0) |#### | Elapsed Time: 18:36:52 ETA:   0:29:00"
     ]
    },
    {
     "name": "stderr",
     "output_type": "stream",
     "text": [
      "\r",
      " 95% (302572800.0 of 315360000.0) |#### | Elapsed Time: 18:37:40 ETA:   0:59:40"
     ]
    },
    {
     "name": "stderr",
     "output_type": "stream",
     "text": [
      "\r",
      " 96% (302832000.0 of 315360000.0) |#### | Elapsed Time: 18:38:15 ETA:   0:28:01"
     ]
    },
    {
     "name": "stderr",
     "output_type": "stream",
     "text": [
      "\r",
      " 96% (303004800.0 of 315360000.0) |#### | Elapsed Time: 18:39:03 ETA:   0:56:53"
     ]
    },
    {
     "name": "stderr",
     "output_type": "stream",
     "text": [
      "\r",
      " 96% (303264000.0 of 315360000.0) |#### | Elapsed Time: 18:39:38 ETA:   0:27:09"
     ]
    },
    {
     "name": "stderr",
     "output_type": "stream",
     "text": [
      "\r",
      " 96% (303436800.0 of 315360000.0) |#### | Elapsed Time: 18:40:25 ETA:   0:54:41"
     ]
    },
    {
     "name": "stderr",
     "output_type": "stream",
     "text": [
      "\r",
      " 96% (303696000.0 of 315360000.0) |#### | Elapsed Time: 18:41:00 ETA:   0:26:06"
     ]
    },
    {
     "name": "stderr",
     "output_type": "stream",
     "text": [
      "\r",
      " 96% (303868800.0 of 315360000.0) |#### | Elapsed Time: 18:41:48 ETA:   0:53:10"
     ]
    },
    {
     "name": "stderr",
     "output_type": "stream",
     "text": [
      "\r",
      " 96% (304128000.0 of 315360000.0) |#### | Elapsed Time: 18:42:23 ETA:   0:25:18"
     ]
    },
    {
     "name": "stderr",
     "output_type": "stream",
     "text": [
      "\r",
      " 96% (304300800.0 of 315360000.0) |#### | Elapsed Time: 18:43:12 ETA:   0:51:54"
     ]
    },
    {
     "name": "stderr",
     "output_type": "stream",
     "text": [
      "\r",
      " 96% (304560000.0 of 315360000.0) |#### | Elapsed Time: 18:43:46 ETA:   0:24:06"
     ]
    },
    {
     "name": "stderr",
     "output_type": "stream",
     "text": [
      "\r",
      " 96% (304732800.0 of 315360000.0) |#### | Elapsed Time: 18:44:34 ETA:   0:49:07"
     ]
    },
    {
     "name": "stderr",
     "output_type": "stream",
     "text": [
      "\r",
      " 96% (304992000.0 of 315360000.0) |#### | Elapsed Time: 18:45:09 ETA:   0:23:09"
     ]
    },
    {
     "name": "stderr",
     "output_type": "stream",
     "text": [
      "\r",
      " 96% (305164800.0 of 315360000.0) |#### | Elapsed Time: 18:45:57 ETA:   0:47:12"
     ]
    },
    {
     "name": "stderr",
     "output_type": "stream",
     "text": [
      "\r",
      " 96% (305424000.0 of 315360000.0) |#### | Elapsed Time: 18:46:32 ETA:   0:22:14"
     ]
    },
    {
     "name": "stderr",
     "output_type": "stream",
     "text": [
      "\r",
      " 96% (305596800.0 of 315360000.0) |#### | Elapsed Time: 18:47:20 ETA:   0:45:23"
     ]
    },
    {
     "name": "stderr",
     "output_type": "stream",
     "text": [
      "\r",
      " 96% (305856000.0 of 315360000.0) |#### | Elapsed Time: 18:47:55 ETA:   0:21:10"
     ]
    },
    {
     "name": "stderr",
     "output_type": "stream",
     "text": [
      "\r",
      " 97% (306028800.0 of 315360000.0) |#### | Elapsed Time: 18:48:43 ETA:   0:43:04"
     ]
    },
    {
     "name": "stderr",
     "output_type": "stream",
     "text": [
      "\r",
      " 97% (306288000.0 of 315360000.0) |#### | Elapsed Time: 18:49:18 ETA:   0:20:28"
     ]
    },
    {
     "name": "stderr",
     "output_type": "stream",
     "text": [
      "\r",
      " 97% (306460800.0 of 315360000.0) |#### | Elapsed Time: 18:50:06 ETA:   0:41:15"
     ]
    },
    {
     "name": "stderr",
     "output_type": "stream",
     "text": [
      "\r",
      " 97% (306720000.0 of 315360000.0) |#### | Elapsed Time: 18:50:40 ETA:   0:19:16"
     ]
    },
    {
     "name": "stderr",
     "output_type": "stream",
     "text": [
      "\r",
      " 97% (306892800.0 of 315360000.0) |#### | Elapsed Time: 18:51:28 ETA:   0:38:41"
     ]
    },
    {
     "name": "stderr",
     "output_type": "stream",
     "text": [
      "\r",
      " 97% (307152000.0 of 315360000.0) |#### | Elapsed Time: 18:52:03 ETA:   0:18:21"
     ]
    },
    {
     "name": "stderr",
     "output_type": "stream",
     "text": [
      "\r",
      " 97% (307324800.0 of 315360000.0) |#### | Elapsed Time: 18:52:50 ETA:   0:36:46"
     ]
    },
    {
     "name": "stderr",
     "output_type": "stream",
     "text": [
      "\r",
      " 97% (307584000.0 of 315360000.0) |#### | Elapsed Time: 18:53:25 ETA:   0:17:26"
     ]
    },
    {
     "name": "stderr",
     "output_type": "stream",
     "text": [
      "\r",
      " 97% (307756800.0 of 315360000.0) |#### | Elapsed Time: 18:54:15 ETA:   0:36:55"
     ]
    },
    {
     "name": "stderr",
     "output_type": "stream",
     "text": [
      "\r",
      " 97% (308016000.0 of 315360000.0) |#### | Elapsed Time: 18:54:50 ETA:   0:16:19"
     ]
    },
    {
     "name": "stderr",
     "output_type": "stream",
     "text": [
      "\r",
      " 97% (308188800.0 of 315360000.0) |#### | Elapsed Time: 18:55:41 ETA:   0:35:28"
     ]
    },
    {
     "name": "stderr",
     "output_type": "stream",
     "text": [
      "\r",
      " 97% (308448000.0 of 315360000.0) |#### | Elapsed Time: 18:56:16 ETA:   0:15:43"
     ]
    },
    {
     "name": "stderr",
     "output_type": "stream",
     "text": [
      "\r",
      " 97% (308620800.0 of 315360000.0) |#### | Elapsed Time: 18:57:08 ETA:   0:33:30"
     ]
    },
    {
     "name": "stderr",
     "output_type": "stream",
     "text": [
      "\r",
      " 97% (308880000.0 of 315360000.0) |#### | Elapsed Time: 18:57:43 ETA:   0:14:45"
     ]
    },
    {
     "name": "stderr",
     "output_type": "stream",
     "text": [
      "\r",
      " 98% (309052800.0 of 315360000.0) |#### | Elapsed Time: 18:58:31 ETA:   0:28:44"
     ]
    },
    {
     "name": "stderr",
     "output_type": "stream",
     "text": [
      "\r",
      " 98% (309312000.0 of 315360000.0) |#### | Elapsed Time: 18:59:05 ETA:   0:13:21"
     ]
    },
    {
     "name": "stderr",
     "output_type": "stream",
     "text": [
      "\r",
      " 98% (309484800.0 of 315360000.0) |#### | Elapsed Time: 18:59:52 ETA:   0:26:39"
     ]
    },
    {
     "name": "stderr",
     "output_type": "stream",
     "text": [
      "\r",
      " 98% (309744000.0 of 315360000.0) |#### | Elapsed Time: 19:00:26 ETA:   0:12:23"
     ]
    },
    {
     "name": "stderr",
     "output_type": "stream",
     "text": [
      "\r",
      " 98% (309916800.0 of 315360000.0) |#### | Elapsed Time: 19:01:13 ETA:   0:24:40"
     ]
    },
    {
     "name": "stderr",
     "output_type": "stream",
     "text": [
      "\r",
      " 98% (310176000.0 of 315360000.0) |#### | Elapsed Time: 19:01:48 ETA:   0:11:24"
     ]
    },
    {
     "name": "stderr",
     "output_type": "stream",
     "text": [
      "\r",
      " 98% (310348800.0 of 315360000.0) |#### | Elapsed Time: 19:02:35 ETA:   0:22:55"
     ]
    },
    {
     "name": "stderr",
     "output_type": "stream",
     "text": [
      "\r",
      " 98% (310608000.0 of 315360000.0) |#### | Elapsed Time: 19:03:09 ETA:   0:10:30"
     ]
    },
    {
     "name": "stderr",
     "output_type": "stream",
     "text": [
      "\r",
      " 98% (310780800.0 of 315360000.0) |#### | Elapsed Time: 19:03:56 ETA:   0:20:44"
     ]
    },
    {
     "name": "stderr",
     "output_type": "stream",
     "text": [
      "\r",
      " 98% (311040000.0 of 315360000.0) |#### | Elapsed Time: 19:04:31 ETA:   0:09:34"
     ]
    },
    {
     "name": "stderr",
     "output_type": "stream",
     "text": [
      "\r",
      " 98% (311212800.0 of 315360000.0) |#### | Elapsed Time: 19:05:19 ETA:   0:19:19"
     ]
    },
    {
     "name": "stderr",
     "output_type": "stream",
     "text": [
      "\r",
      " 98% (311472000.0 of 315360000.0) |#### | Elapsed Time: 19:05:53 ETA:   0:08:33"
     ]
    },
    {
     "name": "stderr",
     "output_type": "stream",
     "text": [
      "\r",
      " 98% (311644800.0 of 315360000.0) |#### | Elapsed Time: 19:06:40 ETA:   0:16:42"
     ]
    },
    {
     "name": "stderr",
     "output_type": "stream",
     "text": [
      "\r",
      " 98% (311904000.0 of 315360000.0) |#### | Elapsed Time: 19:07:14 ETA:   0:07:38"
     ]
    },
    {
     "name": "stderr",
     "output_type": "stream",
     "text": [
      "\r",
      " 98% (312076800.0 of 315360000.0) |#### | Elapsed Time: 19:08:01 ETA:   0:14:46"
     ]
    },
    {
     "name": "stderr",
     "output_type": "stream",
     "text": [
      "\r",
      " 99% (312336000.0 of 315360000.0) |#### | Elapsed Time: 19:08:35 ETA:   0:06:37"
     ]
    },
    {
     "name": "stderr",
     "output_type": "stream",
     "text": [
      "\r",
      " 99% (312508800.0 of 315360000.0) |#### | Elapsed Time: 19:09:22 ETA:   0:12:50"
     ]
    },
    {
     "name": "stderr",
     "output_type": "stream",
     "text": [
      "\r",
      " 99% (312768000.0 of 315360000.0) |#### | Elapsed Time: 19:09:56 ETA:   0:05:41"
     ]
    },
    {
     "name": "stderr",
     "output_type": "stream",
     "text": [
      "\r",
      " 99% (312940800.0 of 315360000.0) |#### | Elapsed Time: 19:10:43 ETA:   0:10:57"
     ]
    },
    {
     "name": "stderr",
     "output_type": "stream",
     "text": [
      "\r",
      " 99% (313200000.0 of 315360000.0) |#### | Elapsed Time: 19:11:17 ETA:   0:04:45"
     ]
    },
    {
     "name": "stderr",
     "output_type": "stream",
     "text": [
      "\r",
      " 99% (313372800.0 of 315360000.0) |#### | Elapsed Time: 19:12:05 ETA:   0:09:06"
     ]
    },
    {
     "name": "stderr",
     "output_type": "stream",
     "text": [
      "\r",
      " 99% (313632000.0 of 315360000.0) |#### | Elapsed Time: 19:12:39 ETA:   0:03:49"
     ]
    },
    {
     "name": "stderr",
     "output_type": "stream",
     "text": [
      "\r",
      " 99% (313804800.0 of 315360000.0) |#### | Elapsed Time: 19:13:26 ETA:   0:06:58"
     ]
    },
    {
     "name": "stderr",
     "output_type": "stream",
     "text": [
      "\r",
      " 99% (314064000.0 of 315360000.0) |#### | Elapsed Time: 19:14:00 ETA:   0:02:50"
     ]
    },
    {
     "name": "stderr",
     "output_type": "stream",
     "text": [
      "\r",
      " 99% (314236800.0 of 315360000.0) |#### | Elapsed Time: 19:14:47 ETA:   0:05:05"
     ]
    },
    {
     "name": "stderr",
     "output_type": "stream",
     "text": [
      "\r",
      " 99% (314496000.0 of 315360000.0) |#### | Elapsed Time: 19:15:21 ETA:   0:01:54"
     ]
    },
    {
     "name": "stderr",
     "output_type": "stream",
     "text": [
      "\r",
      " 99% (314668800.0 of 315360000.0) |#### | Elapsed Time: 19:16:09 ETA:   0:03:10"
     ]
    },
    {
     "name": "stderr",
     "output_type": "stream",
     "text": [
      "\r",
      " 99% (314928000.0 of 315360000.0) |#### | Elapsed Time: 19:16:43 ETA:   0:00:56"
     ]
    },
    {
     "name": "stderr",
     "output_type": "stream",
     "text": [
      "\r",
      " 99% (315100800.0 of 315360000.0) |#### | Elapsed Time: 19:17:30 ETA:   0:01:10"
     ]
    },
    {
     "name": "stderr",
     "output_type": "stream",
     "text": [
      "\r",
      "100% (315360000.0 of 315360000.0) |#####| Elapsed Time: 19:18:04 ETA:  00:00:00"
     ]
    },
    {
     "name": "stderr",
     "output_type": "stream",
     "text": [
      "\r",
      "100% (315360000.0 of 315360000.0) |#####| Elapsed Time: 19:18:04 Time: 19:18:04"
     ]
    },
    {
     "name": "stderr",
     "output_type": "stream",
     "text": [
      "\n"
     ]
    },
    {
     "name": "stdout",
     "output_type": "stream",
     "text": [
      "CPU times: user 17h 5min 51s, sys: 1h 28min 59s, total: 18h 34min 50s\n",
      "Wall time: 19h 20min 12s\n"
     ]
    }
   ],
   "source": [
    "%%time\n",
    "\n",
    "# with dask.config.set(**{'array.slicing.split_large_chunks': False}):\n",
    "pset.execute(\n",
    "    custom_kernel,\n",
    "    runtime=timedelta(days=runtime_in_days),    \n",
    "    dt=timedelta(minutes=dt_in_minutes),      \n",
    "    output_file=outputfile,\n",
    "    recovery=recovery_cases\n",
    ")"
   ]
  },
  {
   "cell_type": "code",
   "execution_count": 38,
   "id": "sealed-sleeping",
   "metadata": {
    "execution": {
     "iopub.execute_input": "2021-05-03T03:00:05.658723Z",
     "iopub.status.busy": "2021-05-03T03:00:05.658296Z",
     "iopub.status.idle": "2021-05-03T03:00:05.659291Z",
     "shell.execute_reply": "2021-05-03T03:00:05.659018Z"
    },
    "papermill": {
     "duration": 0.213198,
     "end_time": "2021-05-03T03:00:05.659375",
     "exception": false,
     "start_time": "2021-05-03T03:00:05.446177",
     "status": "completed"
    },
    "tags": []
   },
   "outputs": [],
   "source": [
    "# outputfile.export()"
   ]
  },
  {
   "cell_type": "code",
   "execution_count": 39,
   "id": "adjusted-syracuse",
   "metadata": {
    "execution": {
     "iopub.execute_input": "2021-05-03T03:00:06.100407Z",
     "iopub.status.busy": "2021-05-03T03:00:06.100062Z",
     "iopub.status.idle": "2021-05-03T03:03:54.524147Z",
     "shell.execute_reply": "2021-05-03T03:03:54.465418Z"
    },
    "papermill": {
     "duration": 228.663048,
     "end_time": "2021-05-03T03:03:54.530532",
     "exception": false,
     "start_time": "2021-05-03T03:00:05.867484",
     "status": "completed"
    },
    "tags": []
   },
   "outputs": [],
   "source": [
    "outputfile.close()"
   ]
  },
  {
   "cell_type": "code",
   "execution_count": 40,
   "id": "comprehensive-plaintiff",
   "metadata": {
    "execution": {
     "iopub.execute_input": "2021-05-03T03:03:55.598113Z",
     "iopub.status.busy": "2021-05-03T03:03:55.597202Z",
     "iopub.status.idle": "2021-05-03T03:03:58.898363Z",
     "shell.execute_reply": "2021-05-03T03:03:58.897529Z"
    },
    "papermill": {
     "duration": 3.568559,
     "end_time": "2021-05-03T03:03:58.898461",
     "exception": false,
     "start_time": "2021-05-03T03:03:55.329902",
     "status": "completed"
    },
    "tags": []
   },
   "outputs": [
    {
     "name": "stdout",
     "output_type": "stream",
     "text": [
      "# packages in environment at /opt/conda:\r\n",
      "#\r\n",
      "# Name                    Version                   Build  Channel\r\n",
      "_libgcc_mutex             0.1                 conda_forge    conda-forge\r\n",
      "_openmp_mutex             4.5                       1_gnu    conda-forge\r\n",
      "alembic                   1.5.5              pyhd8ed1ab_0    conda-forge\r\n",
      "ansiwrap                  0.8.4                      py_0    conda-forge\r\n",
      "anyio                     2.2.0            py38h578d9bd_0    conda-forge\r\n",
      "appdirs                   1.4.4              pyh9f0ad1d_0    conda-forge\r\n",
      "argon2-cffi               20.1.0           py38h497a2fe_2    conda-forge\r\n",
      "asciitree                 0.3.3                      py_2    conda-forge\r\n",
      "async_generator           1.10                       py_0    conda-forge\r\n",
      "attrs                     20.3.0             pyhd3deb0d_0    conda-forge\r\n",
      "babel                     2.9.0              pyhd3deb0d_0    conda-forge\r\n",
      "backcall                  0.2.0              pyh9f0ad1d_0    conda-forge\r\n",
      "backports                 1.0                        py_2    conda-forge\r\n",
      "backports.functools_lru_cache 1.6.1                      py_0    conda-forge\r\n",
      "basemap                   1.2.2            py38h85717e3_3    conda-forge\r\n",
      "binutils_impl_linux-64    2.35.1               h193b22a_2    conda-forge\r\n",
      "binutils_linux-64         2.35                h67ddf6f_30    conda-forge\r\n",
      "black                     20.8b1                     py_1    conda-forge\r\n",
      "bleach                    3.3.0              pyh44b312d_0    conda-forge\r\n",
      "blinker                   1.4                        py_1    conda-forge\r\n",
      "blosc                     1.21.0               h9c3ff4c_0    conda-forge\r\n",
      "bokeh                     2.3.0            py38h578d9bd_0    conda-forge\r\n",
      "boost-cpp                 1.74.0               hc6e9bd1_2    conda-forge\r\n",
      "bottleneck                1.3.2            py38h5c078b8_3    conda-forge\r\n",
      "brotlipy                  0.7.0           py38h497a2fe_1001    conda-forge\r\n",
      "bzip2                     1.0.8                h7f98852_4    conda-forge\r\n",
      "c-ares                    1.17.1               h36c2ea0_0    conda-forge\r\n",
      "ca-certificates           2020.12.5            ha878542_0    conda-forge\r\n",
      "cached-property           1.5.2                hd8ed1ab_1    conda-forge\r\n",
      "cached_property           1.5.2              pyha770c72_1    conda-forge\r\n",
      "cachetools                4.2.1              pyhd8ed1ab_0    conda-forge\r\n",
      "cairo                     1.16.0            h7979940_1007    conda-forge\r\n",
      "cartopy                   0.18.0           py38h9b98833_8    conda-forge\r\n",
      "certifi                   2020.12.5        py38h578d9bd_1    conda-forge\r\n",
      "certipy                   0.1.3                      py_0    conda-forge\r\n",
      "cffi                      1.14.5           py38ha65f79e_0    conda-forge\r\n",
      "cfitsio                   3.470                hb418390_7    conda-forge\r\n",
      "cftime                    1.4.1            py38h5c078b8_0    conda-forge\r\n",
      "cgen                      2020.1                     py_0    conda-forge\r\n",
      "chardet                   4.0.0            py38h578d9bd_1    conda-forge\r\n",
      "click                     7.1.2              pyh9f0ad1d_0    conda-forge\r\n",
      "click-plugins             1.1.1                      py_0    conda-forge\r\n",
      "cligj                     0.7.1              pyhd8ed1ab_0    conda-forge\r\n",
      "cloudpickle               1.6.0                      py_0    conda-forge\r\n",
      "cmocean                   2.0                        py_3    conda-forge\r\n",
      "colorcet                  2.0.6              pyhd8ed1ab_0    conda-forge\r\n",
      "colorspacious             1.1.2              pyh24bf2e0_0    conda-forge\r\n",
      "conda                     4.9.2            py38h578d9bd_0    conda-forge\r\n",
      "conda-package-handling    1.7.2            py38h8df0ef7_0    conda-forge\r\n",
      "configurable-http-proxy   4.2.3           node15_he6ea98c_0    conda-forge\r\n",
      "cryptography              3.4.4            py38h3e25421_0    conda-forge\r\n",
      "curl                      7.71.1               he644dc0_8    conda-forge\r\n",
      "cycler                    0.10.0                     py_2    conda-forge\r\n",
      "cytoolz                   0.11.0           py38h497a2fe_3    conda-forge\r\n",
      "dask                      2021.2.0           pyhd8ed1ab_0    conda-forge\r\n",
      "dask-core                 2021.2.0           pyhd8ed1ab_0    conda-forge\r\n",
      "dataclasses               0.8                pyhc8e2a94_1    conda-forge\r\n",
      "datashader                0.12.0             pyhd3deb0d_0    conda-forge\r\n",
      "datashape                 0.5.4                      py_1    conda-forge\r\n",
      "dbus                      1.13.6               hfdff14a_1    conda-forge\r\n",
      "decorator                 4.4.2                      py_0    conda-forge\r\n",
      "defusedxml                0.6.0                      py_0    conda-forge\r\n",
      "distributed               2021.2.0         py38h578d9bd_0    conda-forge\r\n",
      "entrypoints               0.3             pyhd8ed1ab_1003    conda-forge\r\n",
      "expat                     2.2.10               h9c3ff4c_0    conda-forge\r\n",
      "fasteners                 0.14.1                     py_3    conda-forge\r\n",
      "ffmpeg                    4.3.1                hca11adc_2    conda-forge\r\n",
      "fiona                     1.8.18           py38h58f84aa_1    conda-forge\r\n",
      "fontconfig                2.13.1            hba837de_1004    conda-forge\r\n",
      "freetype                  2.10.4               h0708190_1    conda-forge\r\n",
      "freexl                    1.0.6                h7f98852_0    conda-forge\r\n",
      "fsspec                    0.8.7              pyhd8ed1ab_0    conda-forge\r\n",
      "gcc_impl_linux-64         9.3.0               h70c0ae5_18    conda-forge\r\n",
      "gcc_linux-64              9.3.0               hf25ea35_30    conda-forge\r\n",
      "gdal                      3.2.1            py38hc0b2d6b_3    conda-forge\r\n",
      "geopandas                 0.9.0              pyhd8ed1ab_0    conda-forge\r\n",
      "geos                      3.8.1                he1b5a44_0    conda-forge\r\n",
      "geotiff                   1.6.0                h2b14fbe_4    conda-forge\r\n",
      "geoviews                  1.9.1              pyhd8ed1ab_0    conda-forge\r\n",
      "geoviews-core             1.9.1              pyha770c72_0    conda-forge\r\n",
      "gettext                   0.19.8.1          h0b5b191_1005    conda-forge\r\n",
      "giflib                    5.2.1                h36c2ea0_2    conda-forge\r\n",
      "glib                      2.66.7               h9c3ff4c_1    conda-forge\r\n",
      "glib-tools                2.66.7               h9c3ff4c_1    conda-forge\r\n",
      "gmp                       6.2.1                h58526e2_0    conda-forge\r\n",
      "gnutls                    3.6.13               h85f3911_1    conda-forge\r\n",
      "gst-plugins-base          1.14.5               h0935bb2_2    conda-forge\r\n",
      "gstreamer                 1.18.4               h76c114f_0    conda-forge\r\n",
      "gsw                       3.4.0            py38h5c078b8_1    conda-forge\r\n",
      "h5netcdf                  0.10.0             pyhd8ed1ab_0    conda-forge\r\n",
      "h5py                      3.1.0           nompi_py38hafa665b_100    conda-forge\r\n",
      "hdf4                      4.2.13            h10796ff_1004    conda-forge\r\n",
      "hdf5                      1.10.6          nompi_h6a2412b_1114    conda-forge\r\n",
      "heapdict                  1.0.1                      py_0    conda-forge\r\n",
      "holoviews                 1.14.2             pyhd8ed1ab_0    conda-forge\r\n",
      "hvplot                    0.7.1              pyh44b312d_0    conda-forge\r\n",
      "icu                       68.1                 h58526e2_0    conda-forge\r\n",
      "idna                      2.10               pyh9f0ad1d_0    conda-forge\r\n",
      "importlib-metadata        3.7.0            py38h578d9bd_0    conda-forge\r\n",
      "ipykernel                 5.5.0            py38h81c977d_1    conda-forge\r\n",
      "ipython                   7.21.0           py38h81c977d_0    conda-forge\r\n",
      "ipython_genutils          0.2.0                      py_1    conda-forge\r\n",
      "jedi                      0.18.0           py38h578d9bd_2    conda-forge\r\n",
      "jinja2                    2.11.3             pyh44b312d_0    conda-forge\r\n",
      "joblib                    1.0.1              pyhd8ed1ab_0    conda-forge\r\n",
      "jpeg                      9d                   h36c2ea0_0    conda-forge\r\n",
      "json-c                    0.13.1            hbfbb72e_1002    conda-forge\r\n",
      "json5                     0.9.5              pyh9f0ad1d_0    conda-forge\r\n",
      "jsonschema                3.2.0              pyhd8ed1ab_3    conda-forge\r\n",
      "jupyter-packaging         0.7.12             pyhd8ed1ab_0    conda-forge\r\n",
      "jupyter_client            6.1.11             pyhd8ed1ab_1    conda-forge\r\n",
      "jupyter_core              4.7.1            py38h578d9bd_0    conda-forge\r\n",
      "jupyter_server            1.4.1            py38h578d9bd_0    conda-forge\r\n",
      "jupyter_telemetry         0.1.0              pyhd8ed1ab_1    conda-forge\r\n",
      "jupyterhub                1.3.0            py38h578d9bd_1    conda-forge\r\n",
      "jupyterhub-base           1.3.0            py38h578d9bd_1    conda-forge\r\n",
      "jupyterlab                3.0.9              pyhd8ed1ab_0    conda-forge\r\n",
      "jupyterlab_pygments       0.1.2              pyh9f0ad1d_0    conda-forge\r\n",
      "jupyterlab_server         2.3.0              pyhd8ed1ab_0    conda-forge\r\n",
      "kealib                    1.4.14               hcc255d8_2    conda-forge\r\n",
      "kernel-headers_linux-64   2.6.32              h77966d4_13    conda-forge\r\n",
      "kiwisolver                1.3.1            py38h1fd1430_1    conda-forge\r\n",
      "krb5                      1.17.2               h926e7f8_0    conda-forge\r\n",
      "lame                      3.100             h7f98852_1001    conda-forge\r\n",
      "lcms2                     2.12                 hddcbb42_0    conda-forge\r\n",
      "ld_impl_linux-64          2.35.1               hea4e1c9_2    conda-forge\r\n",
      "libarchive                3.5.1                h3f442fb_1    conda-forge\r\n",
      "libblas                   3.9.0           3_h92ddd45_netlib    conda-forge\r\n",
      "libcblas                  3.9.0           3_h92ddd45_netlib    conda-forge\r\n",
      "libclang                  11.1.0          default_ha53f305_0    conda-forge\r\n",
      "libcurl                   7.71.1               hcdd3856_8    conda-forge\r\n",
      "libdap4                   3.20.6               hd7c4107_1    conda-forge\r\n",
      "libedit                   3.1.20191231         he28a2e2_2    conda-forge\r\n",
      "libev                     4.33                 h516909a_1    conda-forge\r\n",
      "libevent                  2.1.10               hcdb4288_3    conda-forge\r\n",
      "libffi                    3.3                  h58526e2_2    conda-forge\r\n",
      "libgcc-devel_linux-64     9.3.0               h7864c58_18    conda-forge\r\n",
      "libgcc-ng                 9.3.0               h2828fa1_18    conda-forge\r\n",
      "libgdal                   3.2.1                h744752d_3    conda-forge\r\n",
      "libgfortran-ng            9.3.0               hff62375_18    conda-forge\r\n",
      "libgfortran5              9.3.0               hff62375_18    conda-forge\r\n",
      "libglib                   2.66.7               h3e27bee_1    conda-forge\r\n",
      "libgomp                   9.3.0               h2828fa1_18    conda-forge\r\n",
      "libiconv                  1.16                 h516909a_0    conda-forge\r\n",
      "libkml                    1.3.0             h02e6976_1012    conda-forge\r\n",
      "liblapack                 3.9.0           3_h92ddd45_netlib    conda-forge\r\n",
      "libllvm10                 10.0.1               he513fc3_3    conda-forge\r\n",
      "libllvm11                 11.1.0               hf817b99_0    conda-forge\r\n",
      "libnetcdf                 4.7.4           nompi_h56d31a8_107    conda-forge\r\n",
      "libnghttp2                1.43.0               h812cca2_0    conda-forge\r\n",
      "libopenblas               0.3.13          pthreads_h8fe5266_0    conda-forge\r\n",
      "libpng                    1.6.37               h21135ba_2    conda-forge\r\n",
      "libpq                     12.3                 h255efa7_3    conda-forge\r\n",
      "librttopo                 1.1.0                hb271727_4    conda-forge\r\n",
      "libsodium                 1.0.18               h36c2ea0_1    conda-forge\r\n",
      "libsolv                   0.7.17               h780b84a_0    conda-forge\r\n",
      "libspatialindex           1.9.3                h9c3ff4c_3    conda-forge\r\n",
      "libspatialite             5.0.1                h4e7eb2b_1    conda-forge\r\n",
      "libssh2                   1.9.0                hab1572f_5    conda-forge\r\n",
      "libstdcxx-ng              9.3.0               h6de172a_18    conda-forge\r\n",
      "libtiff                   4.2.0                hdc55705_0    conda-forge\r\n",
      "libuuid                   2.32.1            h7f98852_1000    conda-forge\r\n",
      "libuv                     1.41.0               h7f98852_0    conda-forge\r\n",
      "libwebp-base              1.2.0                h7f98852_2    conda-forge\r\n",
      "libxcb                    1.13              h7f98852_1003    conda-forge\r\n",
      "libxkbcommon              1.0.3                he3ba5ed_0    conda-forge\r\n",
      "libxml2                   2.9.10               h72842e0_3    conda-forge\r\n",
      "llvmlite                  0.36.0           py38h4630a5e_0    conda-forge\r\n",
      "locket                    0.2.0                      py_2    conda-forge\r\n",
      "lz4-c                     1.9.3                h9c3ff4c_0    conda-forge\r\n",
      "lzo                       2.10              h516909a_1000    conda-forge\r\n",
      "mako                      1.1.4              pyh44b312d_0    conda-forge\r\n",
      "mamba                     0.7.14           py38h2aa5da1_0    conda-forge\r\n",
      "markdown                  3.3.4              pyhd8ed1ab_0    conda-forge\r\n",
      "markupsafe                1.1.1            py38h497a2fe_3    conda-forge\r\n",
      "matplotlib                3.3.4            py38h578d9bd_0    conda-forge\r\n",
      "matplotlib-base           3.3.4            py38h0efea84_0    conda-forge\r\n",
      "mistune                   0.8.4           py38h497a2fe_1003    conda-forge\r\n",
      "monotonic                 1.5                        py_0    conda-forge\r\n",
      "msgpack-python            1.0.2            py38h1fd1430_1    conda-forge\r\n",
      "multipledispatch          0.6.0                      py_0    conda-forge\r\n",
      "munch                     2.5.0                      py_0    conda-forge\r\n",
      "mypy_extensions           0.4.3            py38h578d9bd_3    conda-forge\r\n",
      "mysql-common              8.0.22               ha770c72_3    conda-forge\r\n",
      "mysql-libs                8.0.22               h935591d_3    conda-forge\r\n",
      "nbclassic                 0.2.6              pyhd8ed1ab_0    conda-forge\r\n",
      "nbclient                  0.5.3              pyhd8ed1ab_0    conda-forge\r\n",
      "nbconvert                 6.0.7            py38h578d9bd_3    conda-forge\r\n",
      "nbformat                  5.1.2              pyhd8ed1ab_1    conda-forge\r\n",
      "ncurses                   6.2                  h58526e2_4    conda-forge\r\n",
      "nest-asyncio              1.4.3              pyhd8ed1ab_0    conda-forge\r\n",
      "netcdf4                   1.5.6           nompi_py38h1cdf482_100    conda-forge\r\n",
      "nettle                    3.6                  he412f7d_0    conda-forge\r\n",
      "nodejs                    15.11.0              h92b4a50_0    conda-forge\r\n",
      "notebook                  6.2.0            py38h578d9bd_0    conda-forge\r\n",
      "nspr                      4.30                 h9c3ff4c_0    conda-forge\r\n",
      "nss                       3.62                 hb5efdd6_0    conda-forge\r\n",
      "numba                     0.53.0           py38h5e62926_0    conda-forge\r\n",
      "numcodecs                 0.7.3            py38h709712a_0    conda-forge\r\n",
      "numpy                     1.20.1           py38h18fd61f_0    conda-forge\r\n",
      "oauthlib                  3.0.1                      py_0    conda-forge\r\n",
      "olefile                   0.46               pyh9f0ad1d_1    conda-forge\r\n",
      "openblas                  0.3.13          pthreads_h4748800_0    conda-forge\r\n",
      "openh264                  2.1.1                h780b84a_0    conda-forge\r\n",
      "openjpeg                  2.4.0                hf7af979_0    conda-forge\r\n",
      "openssl                   1.1.1j               h7f98852_0    conda-forge\r\n",
      "packaging                 20.9               pyh44b312d_0    conda-forge\r\n",
      "pamela                    1.0.0                      py_0    conda-forge\r\n",
      "pandas                    1.2.3            py38h51da96c_0    conda-forge\r\n",
      "pandoc                    2.11.4               h7f98852_0    conda-forge\r\n",
      "pandocfilters             1.4.2                      py_1    conda-forge\r\n",
      "panel                     0.11.0             pyhd8ed1ab_0    conda-forge\r\n",
      "papermill                 2.3.3              pyhd8ed1ab_0    conda-forge\r\n",
      "param                     1.10.1             pyhd3deb0d_0    conda-forge\r\n",
      "parcels                   2.2.2            py38h578d9bd_0    conda-forge\r\n",
      "parso                     0.8.1              pyhd8ed1ab_0    conda-forge\r\n",
      "partd                     1.1.0                      py_0    conda-forge\r\n",
      "pathspec                  0.8.1              pyhd3deb0d_0    conda-forge\r\n",
      "patsy                     0.5.1                      py_0    conda-forge\r\n",
      "pcre                      8.44                 he1b5a44_0    conda-forge\r\n",
      "pexpect                   4.8.0              pyh9f0ad1d_2    conda-forge\r\n",
      "pickleshare               0.7.5                   py_1003    conda-forge\r\n",
      "pillow                    8.1.2            py38ha0e1e83_0    conda-forge\r\n",
      "pip                       21.0.1             pyhd8ed1ab_0    conda-forge\r\n",
      "pixman                    0.40.0               h36c2ea0_0    conda-forge\r\n",
      "poppler                   0.89.0               h2de54a5_5    conda-forge\r\n",
      "poppler-data              0.4.10                        0    conda-forge\r\n",
      "postgresql                12.3                 hc2f5b80_3    conda-forge\r\n",
      "progressbar2              3.53.1             pyh9f0ad1d_0    conda-forge\r\n",
      "proj                      7.2.0                h277dcde_2    conda-forge\r\n",
      "prometheus_client         0.9.0              pyhd3deb0d_0    conda-forge\r\n",
      "prompt-toolkit            3.0.16             pyha770c72_0    conda-forge\r\n",
      "psutil                    5.8.0            py38h497a2fe_1    conda-forge\r\n",
      "pthread-stubs             0.4               h36c2ea0_1001    conda-forge\r\n",
      "ptyprocess                0.7.0              pyhd3deb0d_0    conda-forge\r\n",
      "pycosat                   0.6.3           py38h497a2fe_1006    conda-forge\r\n",
      "pycparser                 2.20               pyh9f0ad1d_2    conda-forge\r\n",
      "pyct                      0.4.6                      py_0    conda-forge\r\n",
      "pyct-core                 0.4.6                      py_0    conda-forge\r\n",
      "pycurl                    7.43.0.6         py38h996a351_1    conda-forge\r\n",
      "pygments                  2.8.0              pyhd8ed1ab_0    conda-forge\r\n",
      "pyjwt                     2.0.1              pyhd8ed1ab_0    conda-forge\r\n",
      "pymbolic                  2020.1             pyh9f0ad1d_0    conda-forge\r\n",
      "pyopenssl                 20.0.1             pyhd8ed1ab_0    conda-forge\r\n",
      "pyparsing                 2.4.7              pyh9f0ad1d_0    conda-forge\r\n",
      "pyproj                    3.0.1            py38h16ecdd7_0    conda-forge\r\n",
      "pyqt                      5.12.3           py38h578d9bd_7    conda-forge\r\n",
      "pyqt-impl                 5.12.3           py38h7400c14_7    conda-forge\r\n",
      "pyqt5-sip                 4.19.18          py38h709712a_7    conda-forge\r\n",
      "pyqtchart                 5.12             py38h7400c14_7    conda-forge\r\n",
      "pyqtwebengine             5.12.1           py38h7400c14_7    conda-forge\r\n",
      "pyrsistent                0.17.3           py38h497a2fe_2    conda-forge\r\n",
      "pyshp                     2.1.3              pyh44b312d_0    conda-forge\r\n",
      "pysocks                   1.7.1            py38h578d9bd_3    conda-forge\r\n",
      "python                    3.8.8           hffdb5ce_0_cpython    conda-forge\r\n",
      "python-blosc              1.10.2           py38h51da96c_0    conda-forge\r\n",
      "python-dateutil           2.8.1                      py_0    conda-forge\r\n",
      "python-editor             1.0.4                      py_0    conda-forge\r\n",
      "python-json-logger        2.0.1              pyh9f0ad1d_0    conda-forge\r\n",
      "python-utils              2.5.5              pyh44b312d_0    conda-forge\r\n",
      "python_abi                3.8                      1_cp38    conda-forge\r\n",
      "pytools                   2021.2             pyhd8ed1ab_0    conda-forge\r\n",
      "pytz                      2021.1             pyhd8ed1ab_0    conda-forge\r\n",
      "pyviz_comms               2.0.1              pyhd3deb0d_0    conda-forge\r\n",
      "pyyaml                    5.4.1            py38h497a2fe_0    conda-forge\r\n",
      "pyzmq                     22.0.3           py38h2035c66_1    conda-forge\r\n",
      "qt                        5.12.9               h9d6b050_2    conda-forge\r\n",
      "readline                  8.0                  he28a2e2_2    conda-forge\r\n",
      "regex                     2020.11.13       py38h497a2fe_1    conda-forge\r\n",
      "reproc                    14.2.1               h36c2ea0_0    conda-forge\r\n",
      "reproc-cpp                14.2.1               h58526e2_0    conda-forge\r\n",
      "requests                  2.25.1             pyhd3deb0d_0    conda-forge\r\n",
      "rtree                     0.9.7            py38h02d302b_1    conda-forge\r\n",
      "ruamel.yaml               0.16.12          py38h497a2fe_2    conda-forge\r\n",
      "ruamel.yaml.clib          0.2.2            py38h497a2fe_2    conda-forge\r\n",
      "ruamel_yaml               0.15.80         py38h497a2fe_1004    conda-forge\r\n",
      "scikit-learn              0.24.1           py38h658cfdd_0    conda-forge\r\n",
      "scipy                     1.6.1            py38hb2138dd_0    conda-forge\r\n",
      "seaborn                   0.11.1               hd8ed1ab_1    conda-forge\r\n",
      "seaborn-base              0.11.1             pyhd8ed1ab_1    conda-forge\r\n",
      "seawater                  3.3.4                      py_1    conda-forge\r\n",
      "send2trash                1.5.0                      py_0    conda-forge\r\n",
      "setuptools                49.6.0           py38h578d9bd_3    conda-forge\r\n",
      "shapely                   1.7.1            py38ha11d057_1    conda-forge\r\n",
      "six                       1.15.0             pyh9f0ad1d_0    conda-forge\r\n",
      "sniffio                   1.2.0            py38h578d9bd_1    conda-forge\r\n",
      "sortedcontainers          2.3.0              pyhd8ed1ab_0    conda-forge\r\n",
      "sparse                    0.11.2                     py_0    conda-forge\r\n",
      "sqlalchemy                1.3.23           py38h497a2fe_0    conda-forge\r\n",
      "sqlite                    3.34.0               h74cdb3f_0    conda-forge\r\n",
      "statsmodels               0.12.2           py38h5c078b8_0    conda-forge\r\n",
      "sysroot_linux-64          2.12                h77966d4_13    conda-forge\r\n",
      "tblib                     1.6.0                      py_0    conda-forge\r\n",
      "tenacity                  7.0.0              pyhd8ed1ab_0    conda-forge\r\n",
      "terminado                 0.9.2            py38h578d9bd_0    conda-forge\r\n",
      "testpath                  0.4.4                      py_0    conda-forge\r\n",
      "textwrap3                 0.9.2                      py_0    conda-forge\r\n",
      "threadpoolctl             2.1.0              pyh5ca1d4c_0    conda-forge\r\n",
      "tiledb                    2.2.5                h91fcb0e_0    conda-forge\r\n",
      "tini                      0.18.0            h14c3975_1001    conda-forge\r\n",
      "tk                        8.6.10               h21135ba_1    conda-forge\r\n",
      "toml                      0.10.2             pyhd8ed1ab_0    conda-forge\r\n",
      "toolz                     0.11.1                     py_0    conda-forge\r\n",
      "tornado                   6.1              py38h497a2fe_1    conda-forge\r\n",
      "tqdm                      4.58.0             pyhd8ed1ab_0    conda-forge\r\n",
      "traitlets                 5.0.5                      py_0    conda-forge\r\n",
      "typed-ast                 1.4.2            py38h497a2fe_0    conda-forge\r\n",
      "typing_extensions         3.7.4.3                    py_0    conda-forge\r\n",
      "tzcode                    2021a                h7f98852_1    conda-forge\r\n",
      "urllib3                   1.26.3             pyhd8ed1ab_0    conda-forge\r\n",
      "wcwidth                   0.2.5              pyh9f0ad1d_2    conda-forge\r\n",
      "webencodings              0.5.1                      py_1    conda-forge\r\n",
      "wheel                     0.36.2             pyhd3deb0d_0    conda-forge\r\n",
      "x264                      1!161.3030           h7f98852_0    conda-forge\r\n",
      "xarray                    0.17.0             pyhd8ed1ab_0    conda-forge\r\n",
      "xerces-c                  3.2.3                h9d8b166_2    conda-forge\r\n",
      "xhistogram                0.1.2              pyhd8ed1ab_0    conda-forge\r\n",
      "xorg-kbproto              1.0.7             h7f98852_1002    conda-forge\r\n",
      "xorg-libice               1.0.10               h7f98852_0    conda-forge\r\n",
      "xorg-libsm                1.2.3             hd9c2040_1000    conda-forge\r\n",
      "xorg-libx11               1.7.0                h7f98852_0    conda-forge\r\n",
      "xorg-libxau               1.0.9                h7f98852_0    conda-forge\r\n",
      "xorg-libxdmcp             1.1.3                h7f98852_0    conda-forge\r\n",
      "xorg-libxext              1.3.4                h7f98852_1    conda-forge\r\n",
      "xorg-libxrender           0.9.10            h7f98852_1003    conda-forge\r\n",
      "xorg-renderproto          0.11.1            h7f98852_1002    conda-forge\r\n",
      "xorg-xextproto            7.3.0             h7f98852_1002    conda-forge\r\n",
      "xorg-xproto               7.0.31            h7f98852_1007    conda-forge\r\n",
      "xz                        5.2.5                h516909a_1    conda-forge\r\n",
      "yaml                      0.2.5                h516909a_0    conda-forge\r\n",
      "zarr                      2.6.1              pyhd8ed1ab_0    conda-forge\r\n",
      "zeromq                    4.3.4                h9c3ff4c_0    conda-forge\r\n",
      "zict                      2.0.0                      py_0    conda-forge\r\n",
      "zipp                      3.4.0                      py_0    conda-forge\r\n",
      "zlib                      1.2.11            h516909a_1010    conda-forge\r\n",
      "zstd                      1.4.9                ha95c52a_0    conda-forge\r\n"
     ]
    },
    {
     "name": "stdout",
     "output_type": "stream",
     "text": [
      "\n",
      "Note: you may need to restart the kernel to use updated packages.\n"
     ]
    }
   ],
   "source": [
    "conda list\n"
   ]
  },
  {
   "cell_type": "code",
   "execution_count": 41,
   "id": "residential-belfast",
   "metadata": {
    "execution": {
     "iopub.execute_input": "2021-05-03T03:03:59.388286Z",
     "iopub.status.busy": "2021-05-03T03:03:59.387904Z",
     "iopub.status.idle": "2021-05-03T03:04:00.279638Z",
     "shell.execute_reply": "2021-05-03T03:04:00.280285Z"
    },
    "papermill": {
     "duration": 1.169572,
     "end_time": "2021-05-03T03:04:00.280406",
     "exception": false,
     "start_time": "2021-05-03T03:03:59.110834",
     "status": "completed"
    },
    "tags": []
   },
   "outputs": [
    {
     "name": "stdout",
     "output_type": "stream",
     "text": [
      "Package                       Version\r\n",
      "----------------------------- --------------------------\r\n",
      "alembic                       1.5.5\r\n",
      "ansiwrap                      0.8.4\r\n",
      "anyio                         2.2.0\r\n",
      "appdirs                       1.4.4\r\n",
      "argon2-cffi                   20.1.0\r\n",
      "asciitree                     0.3.3\r\n",
      "async-generator               1.10\r\n",
      "attrs                         20.3.0\r\n",
      "Babel                         2.9.0\r\n",
      "backcall                      0.2.0\r\n",
      "backports.functools-lru-cache 1.6.1\r\n",
      "basemap                       1.2.1\r\n",
      "black                         20.8b1\r\n",
      "bleach                        3.3.0\r\n",
      "blinker                       1.4\r\n",
      "blosc                         1.10.2\r\n",
      "bokeh                         2.3.0\r\n",
      "Bottleneck                    1.3.2\r\n",
      "brotlipy                      0.7.0\r\n",
      "cached-property               1.5.2\r\n",
      "cachetools                    4.2.1\r\n",
      "Cartopy                       0.18.0\r\n",
      "certifi                       2020.12.5\r\n",
      "certipy                       0.1.3\r\n",
      "cffi                          1.14.5\r\n",
      "cftime                        1.4.1\r\n",
      "cgen                          2020.1\r\n",
      "chardet                       4.0.0\r\n",
      "click                         7.1.2\r\n",
      "click-plugins                 1.1.1\r\n",
      "cligj                         0.7.1\r\n",
      "cloudpickle                   1.6.0\r\n",
      "cmocean                       2.0\r\n",
      "colorcet                      2.0.6\r\n",
      "colorspacious                 1.1.2\r\n",
      "conda                         4.9.2\r\n",
      "conda-package-handling        1.7.2\r\n",
      "cryptography                  3.4.4\r\n",
      "cycler                        0.10.0\r\n",
      "cytoolz                       0.11.0\r\n",
      "dask                          2021.2.0\r\n",
      "datashader                    0.12.0\r\n",
      "datashape                     0.5.4\r\n",
      "decorator                     4.4.2\r\n",
      "defusedxml                    0.6.0\r\n",
      "distributed                   2021.2.0\r\n",
      "entrypoints                   0.3\r\n",
      "fasteners                     0.14.1\r\n",
      "Fiona                         1.8.18\r\n",
      "fsspec                        0.8.7\r\n",
      "GDAL                          3.2.1\r\n",
      "geopandas                     0.9.0\r\n",
      "geoviews                      0.0.0+g33876c88.gitarchive\r\n",
      "gsw                           3.4.0\r\n",
      "h5netcdf                      0.10.0\r\n",
      "h5py                          3.1.0\r\n",
      "HeapDict                      1.0.1\r\n",
      "holoviews                     1.14.2\r\n",
      "hvplot                        0.7.1\r\n",
      "idna                          2.10\r\n",
      "importlib-metadata            3.7.0\r\n",
      "ipykernel                     5.5.0\r\n",
      "ipython                       7.21.0\r\n",
      "ipython-genutils              0.2.0\r\n",
      "jedi                          0.18.0\r\n",
      "Jinja2                        2.11.3\r\n",
      "joblib                        1.0.1\r\n",
      "json5                         0.9.5\r\n",
      "jsonschema                    3.2.0\r\n",
      "jupyter-client                6.1.11\r\n",
      "jupyter-core                  4.7.1\r\n",
      "jupyter-packaging             0.7.12\r\n",
      "jupyter-server                1.4.1\r\n",
      "jupyter-telemetry             0.1.0\r\n",
      "jupyterhub                    1.3.0\r\n",
      "jupyterlab                    3.0.9\r\n",
      "jupyterlab-pygments           0.1.2\r\n",
      "jupyterlab-server             2.3.0\r\n",
      "kiwisolver                    1.3.1\r\n",
      "llvmlite                      0.36.0\r\n",
      "locket                        0.2.0\r\n",
      "Mako                          1.1.4\r\n",
      "mamba                         0.7.14\r\n",
      "Markdown                      3.3.4\r\n",
      "MarkupSafe                    1.1.1\r\n",
      "matplotlib                    3.3.4\r\n",
      "mistune                       0.8.4\r\n",
      "monotonic                     1.5\r\n",
      "msgpack                       1.0.2\r\n",
      "multipledispatch              0.6.0\r\n",
      "munch                         2.5.0\r\n",
      "mypy-extensions               0.4.3\r\n",
      "nbclassic                     0.2.6\r\n",
      "nbclient                      0.5.3\r\n",
      "nbconvert                     6.0.7\r\n",
      "nbformat                      5.1.2\r\n",
      "nest-asyncio                  1.4.3\r\n",
      "netCDF4                       1.5.6\r\n",
      "notebook                      6.2.0\r\n",
      "numba                         0.53.0\r\n",
      "numcodecs                     0.7.3\r\n",
      "numpy                         1.20.1\r\n",
      "oauthlib                      3.0.1\r\n",
      "olefile                       0.46\r\n",
      "packaging                     20.9\r\n",
      "pamela                        1.0.0\r\n",
      "pandas                        1.2.3\r\n",
      "pandocfilters                 1.4.2\r\n",
      "panel                         0.11.0\r\n",
      "papermill                     2.3.3\r\n",
      "param                         1.10.1\r\n",
      "parcels                       2.2.2\r\n",
      "parso                         0.8.1\r\n",
      "partd                         1.1.0\r\n",
      "pathspec                      0.8.1\r\n",
      "patsy                         0.5.1\r\n",
      "pexpect                       4.8.0\r\n",
      "pickleshare                   0.7.5\r\n",
      "Pillow                        8.1.2\r\n",
      "pip                           21.0.1\r\n",
      "progressbar2                  3.53.1\r\n",
      "prometheus-client             0.9.0\r\n",
      "prompt-toolkit                3.0.16\r\n",
      "psutil                        5.8.0\r\n",
      "ptyprocess                    0.7.0\r\n",
      "pycosat                       0.6.3\r\n",
      "pycparser                     2.20\r\n",
      "pyct                          0.4.6\r\n",
      "pycurl                        7.43.0.6\r\n",
      "Pygments                      2.8.0\r\n",
      "PyJWT                         2.0.1\r\n",
      "pymbolic                      2020.1\r\n",
      "pyOpenSSL                     20.0.1\r\n",
      "pyparsing                     2.4.7\r\n",
      "pyproj                        3.0.1\r\n",
      "PyQt5                         5.12.3\r\n",
      "PyQt5-sip                     4.19.18\r\n",
      "PyQtChart                     5.12\r\n",
      "PyQtWebEngine                 5.12.1\r\n",
      "pyrsistent                    0.17.3\r\n",
      "pyshp                         2.1.3\r\n",
      "PySocks                       1.7.1\r\n",
      "python-dateutil               2.8.1\r\n",
      "python-editor                 1.0.4\r\n",
      "python-json-logger            2.0.1\r\n",
      "python-utils                  2.5.5\r\n",
      "pytools                       2021.2\r\n",
      "pytz                          2021.1\r\n",
      "pyviz-comms                   2.0.1\r\n",
      "PyYAML                        5.4.1\r\n",
      "pyzmq                         22.0.3\r\n",
      "regex                         2020.11.13\r\n",
      "requests                      2.25.1\r\n",
      "Rtree                         0.9.7\r\n",
      "ruamel-yaml-conda             0.15.80\r\n",
      "ruamel.yaml                   0.16.12\r\n",
      "ruamel.yaml.clib              0.2.2\r\n",
      "scikit-learn                  0.24.1\r\n",
      "scipy                         1.6.1\r\n",
      "seaborn                       0.11.1\r\n",
      "seawater                      3.3.4\r\n",
      "Send2Trash                    1.5.0\r\n",
      "setuptools                    49.6.0.post20210108\r\n",
      "Shapely                       1.7.1\r\n",
      "six                           1.15.0\r\n",
      "sniffio                       1.2.0\r\n",
      "sortedcontainers              2.3.0\r\n",
      "sparse                        0.11.2\r\n",
      "SQLAlchemy                    1.3.23\r\n",
      "statsmodels                   0.12.2\r\n",
      "tblib                         1.6.0\r\n",
      "tenacity                      7.0.0\r\n",
      "terminado                     0.9.2\r\n",
      "testpath                      0.4.4\r\n",
      "textwrap3                     0.9.2\r\n",
      "threadpoolctl                 2.1.0\r\n",
      "toml                          0.10.2\r\n",
      "toolz                         0.11.1\r\n",
      "tornado                       6.1\r\n",
      "tqdm                          4.58.0\r\n",
      "traitlets                     5.0.5\r\n",
      "typed-ast                     1.4.2\r\n",
      "typing-extensions             3.7.4.3\r\n",
      "urllib3                       1.26.3\r\n",
      "wcwidth                       0.2.5\r\n",
      "webencodings                  0.5.1\r\n",
      "wheel                         0.36.2\r\n",
      "xarray                        0.17.0\r\n",
      "xhistogram                    0.1.2\r\n",
      "zarr                          2.6.1\r\n",
      "zict                          2.0.0\r\n",
      "zipp                          3.4.0\r\n"
     ]
    },
    {
     "name": "stdout",
     "output_type": "stream",
     "text": [
      "Note: you may need to restart the kernel to use updated packages.\n"
     ]
    }
   ],
   "source": [
    "pip list\n"
   ]
  }
 ],
 "metadata": {
  "kernelspec": {
   "display_name": "Python 3",
   "language": "python",
   "name": "python3"
  },
  "language_info": {
   "codemirror_mode": {
    "name": "ipython",
    "version": 3
   },
   "file_extension": ".py",
   "mimetype": "text/x-python",
   "name": "python",
   "nbconvert_exporter": "python",
   "pygments_lexer": "ipython3",
   "version": "3.8.8"
  },
  "papermill": {
   "default_parameters": {},
   "duration": 70545.862938,
   "end_time": "2021-05-03T03:04:06.085616",
   "environment_variables": {},
   "exception": null,
   "input_path": "037_afox_RunParcels_TS_MXL_Multiline_Randomvel_Papermill.ipynb",
   "output_path": "executed/037_afox_RunParcels_TS_MXL_Multiline_Randomvel_Papermill_executed_2019-05-28.ipynb",
   "parameters": {
    "create_number_particles": 4000000,
    "data_resolution": "5d",
    "mask_path_name": "/gxfs_work1/geomar/smomw355/model_data/ocean-only/VIKING20X.L46-KKG36107B/nemo/suppl/",
    "max_current": 2.0,
    "max_release_depth": 1000,
    "mesh_mask_filename": "1_mesh_mask.nc",
    "path_name": "/gxfs_work1/geomar/smomw355/model_data/ocean-only/VIKING20X.L46-KKG36107B/nemo/output/",
    "runtime_in_days": 3650,
    "t_0_str": "1980-01-03T12:00:00",
    "t_start_str": "2019-05-28T12:00:00",
    "use_dask_chunks": false,
    "use_number_particles": 4000000,
    "w_name_extension": "",
    "year_prefix": ""
   },
   "start_time": "2021-05-02T07:28:20.222678",
   "version": "2.3.3"
  }
 },
 "nbformat": 4,
 "nbformat_minor": 5
}