{
 "cells": [
  {
   "cell_type": "markdown",
   "id": "fitted-signature",
   "metadata": {
    "papermill": {
     "duration": 0.022358,
     "end_time": "2021-04-23T11:49:03.962017",
     "exception": false,
     "start_time": "2021-04-23T11:49:03.939659",
     "status": "completed"
    },
    "tags": []
   },
   "source": [
    "# Parcels Experiment:<br><br>Expanding the polyline code to release particles at density based on local velocity normal to section.\n",
    "\n",
    "_(Based on an experiment originally designed by Christina Schmidt.)_\n",
    "\n",
    "_(Runs on GEOMAR Jupyter Server at https://schulung3.geomar.de/user/workshop007/lab)_"
   ]
  },
  {
   "cell_type": "markdown",
   "id": "little-canadian",
   "metadata": {
    "papermill": {
     "duration": 0.017953,
     "end_time": "2021-04-23T11:49:03.998200",
     "exception": false,
     "start_time": "2021-04-23T11:49:03.980247",
     "status": "completed"
    },
    "tags": []
   },
   "source": [
    "## To do\n",
    "\n",
    "- Check/ask how OceanParcels deals with partial cells, if it does.\n",
    "    - It doesn't. Does it matter?"
   ]
  },
  {
   "cell_type": "markdown",
   "id": "outside-voltage",
   "metadata": {
    "papermill": {
     "duration": 0.017945,
     "end_time": "2021-04-23T11:49:04.034100",
     "exception": false,
     "start_time": "2021-04-23T11:49:04.016155",
     "status": "completed"
    },
    "tags": []
   },
   "source": [
    "## Technical preamble"
   ]
  },
  {
   "cell_type": "code",
   "execution_count": 1,
   "id": "involved-traffic",
   "metadata": {
    "execution": {
     "iopub.execute_input": "2021-04-23T11:49:04.083829Z",
     "iopub.status.busy": "2021-04-23T11:49:04.083468Z",
     "iopub.status.idle": "2021-04-23T11:49:07.097908Z",
     "shell.execute_reply": "2021-04-23T11:49:07.098417Z"
    },
    "papermill": {
     "duration": 3.044875,
     "end_time": "2021-04-23T11:49:07.098625",
     "exception": false,
     "start_time": "2021-04-23T11:49:04.053750",
     "status": "completed"
    },
    "tags": []
   },
   "outputs": [
    {
     "name": "stderr",
     "output_type": "stream",
     "text": [
      "INFO: Compiled ParcelsRandom ==> /tmp/parcels-62665/libparcels_random_919b60f8-b032-4e2f-840a-d0b5accb2b38.so\n"
     ]
    }
   ],
   "source": [
    "%matplotlib inline\n",
    "\n",
    "from parcels import (\n",
    "    AdvectionRK4_3D,\n",
    "    ErrorCode,\n",
    "    FieldSet,\n",
    "    JITParticle,\n",
    "    ParticleSet,\n",
    "    Variable\n",
    ")\n",
    "\n",
    "# from operator import attrgetter\n",
    "from datetime import datetime, timedelta\n",
    "import numpy as np\n",
    "from pathlib import Path\n",
    "import matplotlib.pyplot as plt\n",
    "import cmocean as co\n",
    "import pandas as pd\n",
    "import xarray as xr\n",
    "# import dask as dask\n"
   ]
  },
  {
   "cell_type": "markdown",
   "id": "linear-disposition",
   "metadata": {
    "papermill": {
     "duration": 0.018141,
     "end_time": "2021-04-23T11:49:07.139400",
     "exception": false,
     "start_time": "2021-04-23T11:49:07.121259",
     "status": "completed"
    },
    "tags": []
   },
   "source": [
    "## Experiment settings (user input)"
   ]
  },
  {
   "cell_type": "markdown",
   "id": "moral-consequence",
   "metadata": {
    "papermill": {
     "duration": 0.0182,
     "end_time": "2021-04-23T11:49:07.175708",
     "exception": false,
     "start_time": "2021-04-23T11:49:07.157508",
     "status": "completed"
    },
    "tags": []
   },
   "source": [
    "### Parameters\n",
    "These can be set in papermill"
   ]
  },
  {
   "cell_type": "code",
   "execution_count": 2,
   "id": "dried-weekend",
   "metadata": {
    "execution": {
     "iopub.execute_input": "2021-04-23T11:49:07.216988Z",
     "iopub.status.busy": "2021-04-23T11:49:07.215907Z",
     "iopub.status.idle": "2021-04-23T11:49:07.217339Z",
     "shell.execute_reply": "2021-04-23T11:49:07.217582Z"
    },
    "papermill": {
     "duration": 0.02382,
     "end_time": "2021-04-23T11:49:07.217666",
     "exception": false,
     "start_time": "2021-04-23T11:49:07.193846",
     "status": "completed"
    },
    "tags": [
     "parameters"
    ]
   },
   "outputs": [],
   "source": [
    "# OSNAP multiline details\n",
    "sectionPathname = '../data/external/'\n",
    "sectionFilename = 'osnap_pos_wp.txt'\n",
    "sectionname = 'osnap'\n",
    "# location of input data\n",
    "path_name = '/data/iAtlantic/ocean-only/VIKING20X.L46-KKG36107B/nemo/output/'\n",
    "experiment_name = 'VIKING20X.L46-KKG36107B' \n",
    "data_resolution = '1m'\n",
    "w_name_extension = '_repaire_depthw_time'\n",
    "\n",
    "# location of mask data\n",
    "mask_path_name = '/data/iAtlantic/ocean-only/VIKING20X.L46-KKG36107B/nemo/suppl/'\n",
    "mesh_mask_filename = '1_mesh_mask.nc_notime_depthw'\n",
    "# location of output data\n",
    "outpath_name = '../data/raw/'\n",
    "\n",
    "year_prefix = 201  # this does from 2000 onwards\n",
    "\n",
    "# set line segment to use\n",
    "start_vertex = 4\n",
    "end_vertex = 12\n",
    "\n",
    "# experiment duration etc\n",
    "runtime_in_days = 10\n",
    "dt_in_minutes = -10\n",
    "# repeatdt = timedelta(days=3)\n",
    "\n",
    "# number of particles to track\n",
    "create_number_particles = 200000  # many will not be ocean points\n",
    "use_number_particles = 200000\n",
    "\n",
    "min_release_depth = 0\n",
    "max_release_depth = 1_000  \n",
    "\n",
    "# max current speed for particle selection\n",
    "max_current = 1.0\n",
    "\n",
    "# set base release date and time\n",
    "t_0_str = '2010-01-16T12:00:00'\n",
    "t_start_str = '2016-01-16T12:00:00'\n",
    "\n",
    "# particle positions are stored every x hours \n",
    "outputdt_in_hours = 120\n",
    "\n",
    "# select subdomain (to decrease needed resources) comment out to use whole domain\n",
    "# sd_i1, sd_i2 = 0, 2404  # western/eastern limit (indices not coordinates)\n",
    "# sd_j1, sd_j2 = 1200, 2499  # southern/northern limit (indices not coordinates)\n",
    "# sd_z1, sd_z2 = 0, 46\n",
    "\n",
    "# how to initialize the random number generator\n",
    "# --> is set in next cell\n",
    "# RNG_seed = 123\n",
    "\n",
    "use_dask_chunks = True"
   ]
  },
  {
   "cell_type": "code",
   "execution_count": 3,
   "id": "russian-circular",
   "metadata": {
    "execution": {
     "iopub.execute_input": "2021-04-23T11:49:07.257377Z",
     "iopub.status.busy": "2021-04-23T11:49:07.256350Z",
     "iopub.status.idle": "2021-04-23T11:49:07.257740Z",
     "shell.execute_reply": "2021-04-23T11:49:07.257988Z"
    },
    "papermill": {
     "duration": 0.022268,
     "end_time": "2021-04-23T11:49:07.258068",
     "exception": false,
     "start_time": "2021-04-23T11:49:07.235800",
     "status": "completed"
    },
    "tags": [
     "injected-parameters"
    ]
   },
   "outputs": [],
   "source": [
    "# Parameters\n",
    "path_name = \"/gxfs_work1/geomar/smomw355/model_data/ocean-only/VIKING20X.L46-KKG36107B/nemo/output/\"\n",
    "data_resolution = \"5d\"\n",
    "w_name_extension = \"\"\n",
    "mask_path_name = \"/gxfs_work1/geomar/smomw355/model_data/ocean-only/VIKING20X.L46-KKG36107B/nemo/suppl/\"\n",
    "mesh_mask_filename = \"1_mesh_mask.nc\"\n",
    "year_prefix = \"\"\n",
    "runtime_in_days = 3650\n",
    "create_number_particles = 4000000\n",
    "use_number_particles = 4000000\n",
    "max_release_depth = 1000\n",
    "max_current = 2.0\n",
    "t_0_str = \"1980-01-03T12:00:00\"\n",
    "t_start_str = \"2019-09-10T12:00:00\"\n",
    "use_dask_chunks = False\n"
   ]
  },
  {
   "cell_type": "markdown",
   "id": "jewish-azerbaijan",
   "metadata": {
    "papermill": {
     "duration": 0.018034,
     "end_time": "2021-04-23T11:49:07.294056",
     "exception": false,
     "start_time": "2021-04-23T11:49:07.276022",
     "status": "completed"
    },
    "tags": []
   },
   "source": [
    "### Derived variables"
   ]
  },
  {
   "cell_type": "code",
   "execution_count": 4,
   "id": "congressional-cleanup",
   "metadata": {
    "execution": {
     "iopub.execute_input": "2021-04-23T11:49:07.336928Z",
     "iopub.status.busy": "2021-04-23T11:49:07.335849Z",
     "iopub.status.idle": "2021-04-23T11:49:07.338507Z",
     "shell.execute_reply": "2021-04-23T11:49:07.337799Z"
    },
    "papermill": {
     "duration": 0.026324,
     "end_time": "2021-04-23T11:49:07.338576",
     "exception": false,
     "start_time": "2021-04-23T11:49:07.312252",
     "status": "completed"
    },
    "tags": []
   },
   "outputs": [
    {
     "data": {
      "text/plain": [
       "datetime.datetime(1980, 1, 3, 12, 0)"
      ]
     },
     "metadata": {},
     "output_type": "display_data"
    },
    {
     "data": {
      "text/plain": [
       "datetime.datetime(2019, 9, 10, 12, 0)"
      ]
     },
     "metadata": {},
     "output_type": "display_data"
    }
   ],
   "source": [
    "# times\n",
    "t_0 = datetime.fromisoformat(t_0_str)  # using monthly mean fields. Check dates.\n",
    "t_start = datetime.fromisoformat(t_start_str)\n",
    "# RNG seed based on release day (days since 1980-01-03)\n",
    "RNG_seed = int((t_start - t_0).total_seconds() / (60*60*24))\n",
    "\n",
    "# names of files to load \n",
    "fname_U = f'1_{experiment_name}_{data_resolution}_{year_prefix}*_grid_U.nc'  \n",
    "fname_V = f'1_{experiment_name}_{data_resolution}_{year_prefix}*_grid_V.nc'\n",
    "fname_T = f'1_{experiment_name}_{data_resolution}_{year_prefix}*_grid_T.nc'\n",
    "fname_W = f'1_{experiment_name}_{data_resolution}_{year_prefix}*_grid_W.nc{w_name_extension}'\n",
    "\n",
    "sectionPath = Path(sectionPathname)\n",
    "\n",
    "data_path = Path(path_name)\n",
    "\n",
    "mask_path = Path(mask_path_name)\n",
    "\n",
    "outpath = Path(outpath_name)\n",
    "\n",
    "display(t_0)\n",
    "display(t_start)"
   ]
  },
  {
   "cell_type": "code",
   "execution_count": 5,
   "id": "connected-negative",
   "metadata": {
    "execution": {
     "iopub.execute_input": "2021-04-23T11:49:07.379716Z",
     "iopub.status.busy": "2021-04-23T11:49:07.378668Z",
     "iopub.status.idle": "2021-04-23T11:49:07.380082Z",
     "shell.execute_reply": "2021-04-23T11:49:07.380327Z"
    },
    "papermill": {
     "duration": 0.022921,
     "end_time": "2021-04-23T11:49:07.380407",
     "exception": false,
     "start_time": "2021-04-23T11:49:07.357486",
     "status": "completed"
    },
    "tags": []
   },
   "outputs": [],
   "source": [
    "if dt_in_minutes > 0:\n",
    "    direction = '_forwards_'\n",
    "else:\n",
    "    direction = '_backward_'\n",
    "\n",
    "year_str = str(t_start.year)\n",
    "month_str = str(t_start.month).zfill(2)\n",
    "day_str = str(t_start.day).zfill(2)\n",
    "days = str(runtime_in_days)\n",
    "seed = str(RNG_seed)\n",
    "npart= str(use_number_particles)\n",
    "\n"
   ]
  },
  {
   "cell_type": "code",
   "execution_count": 6,
   "id": "limiting-brazil",
   "metadata": {
    "execution": {
     "iopub.execute_input": "2021-04-23T11:49:07.423063Z",
     "iopub.status.busy": "2021-04-23T11:49:07.422053Z",
     "iopub.status.idle": "2021-04-23T11:49:07.423418Z",
     "shell.execute_reply": "2021-04-23T11:49:07.423662Z"
    },
    "papermill": {
     "duration": 0.022491,
     "end_time": "2021-04-23T11:49:07.423748",
     "exception": false,
     "start_time": "2021-04-23T11:49:07.401257",
     "status": "completed"
    },
    "tags": []
   },
   "outputs": [],
   "source": [
    "degree2km = 1.852*60.0\n"
   ]
  },
  {
   "cell_type": "markdown",
   "id": "fifth-growth",
   "metadata": {
    "papermill": {
     "duration": 0.018643,
     "end_time": "2021-04-23T11:49:07.461163",
     "exception": false,
     "start_time": "2021-04-23T11:49:07.442520",
     "status": "completed"
    },
    "tags": []
   },
   "source": [
    "## Construct input / output paths etc."
   ]
  },
  {
   "cell_type": "code",
   "execution_count": 7,
   "id": "peaceful-arrangement",
   "metadata": {
    "execution": {
     "iopub.execute_input": "2021-04-23T11:49:07.501616Z",
     "iopub.status.busy": "2021-04-23T11:49:07.500600Z",
     "iopub.status.idle": "2021-04-23T11:49:07.501972Z",
     "shell.execute_reply": "2021-04-23T11:49:07.502215Z"
    },
    "papermill": {
     "duration": 0.022195,
     "end_time": "2021-04-23T11:49:07.502293",
     "exception": false,
     "start_time": "2021-04-23T11:49:07.480098",
     "status": "completed"
    },
    "tags": []
   },
   "outputs": [],
   "source": [
    "mesh_mask = mask_path / mesh_mask_filename\n"
   ]
  },
  {
   "cell_type": "markdown",
   "id": "binding-edward",
   "metadata": {
    "papermill": {
     "duration": 0.018603,
     "end_time": "2021-04-23T11:49:07.539534",
     "exception": false,
     "start_time": "2021-04-23T11:49:07.520931",
     "status": "completed"
    },
    "tags": []
   },
   "source": [
    "## Load input datasets"
   ]
  },
  {
   "cell_type": "code",
   "execution_count": 8,
   "id": "sticky-competition",
   "metadata": {
    "execution": {
     "iopub.execute_input": "2021-04-23T11:49:07.585722Z",
     "iopub.status.busy": "2021-04-23T11:49:07.584622Z",
     "iopub.status.idle": "2021-04-23T11:49:07.586294Z",
     "shell.execute_reply": "2021-04-23T11:49:07.586041Z"
    },
    "papermill": {
     "duration": 0.028245,
     "end_time": "2021-04-23T11:49:07.586363",
     "exception": false,
     "start_time": "2021-04-23T11:49:07.558118",
     "status": "completed"
    },
    "tags": []
   },
   "outputs": [],
   "source": [
    "def fieldset_defintions(\n",
    "    list_of_filenames_U, list_of_filenames_V,\n",
    "    list_of_filenames_W, list_of_filenames_T,\n",
    "    mesh_mask\n",
    "):\n",
    "    ds_mask = xr.open_dataset(mesh_mask)\n",
    "    \n",
    "    filenames = {'U': {'lon': (mesh_mask),\n",
    "                       'lat': (mesh_mask),\n",
    "                       'depth': list_of_filenames_W[0],\n",
    "                       'data': list_of_filenames_U},\n",
    "                 'V': {'lon': (mesh_mask),\n",
    "                       'lat': (mesh_mask),\n",
    "                       'depth': list_of_filenames_W[0],\n",
    "                       'data': list_of_filenames_V},\n",
    "                 'W': {'lon': (mesh_mask),\n",
    "                       'lat': (mesh_mask),\n",
    "                       'depth': list_of_filenames_W[0],\n",
    "                       'data': list_of_filenames_W},\n",
    "                 'T': {'lon': (mesh_mask),\n",
    "                       'lat': (mesh_mask),\n",
    "                       'depth': list_of_filenames_W[0],\n",
    "                       'data': list_of_filenames_T},\n",
    "                 'S': {'lon': (mesh_mask),\n",
    "                       'lat': (mesh_mask),\n",
    "                       'depth': list_of_filenames_W[0],\n",
    "                       'data': list_of_filenames_T},\n",
    "                 'MXL': {'lon': (mesh_mask),\n",
    "                       'lat': (mesh_mask),\n",
    "                       'data': list_of_filenames_T}\n",
    "                }\n",
    "    \n",
    "    variables = {'U': 'vozocrtx',\n",
    "                 'V': 'vomecrty',\n",
    "                 'W': 'vovecrtz',\n",
    "                 'T': 'votemper',\n",
    "                 'S': 'vosaline',\n",
    "                 'MXL':'somxl010'\n",
    "                }\n",
    "        \n",
    "    dimensions = {'U': {'lon': 'glamf', 'lat': 'gphif', 'depth': 'depthw',\n",
    "                        'time': 'time_counter'},  # needs to be on f-nodes\n",
    "                  'V': {'lon': 'glamf', 'lat': 'gphif', 'depth': 'depthw',\n",
    "                        'time': 'time_counter'},  # needs to be on f-nodes\n",
    "                  'W': {'lon': 'glamf', 'lat': 'gphif', 'depth': 'depthw',\n",
    "                        'time': 'time_counter'},  # needs to be on f-nodes\n",
    "                  'T': {'lon': 'glamf', 'lat': 'gphif', 'depth': 'depthw',\n",
    "                        'time': 'time_counter'},  # needs to be on t-nodes\n",
    "                  'S': {'lon': 'glamf', 'lat': 'gphif', 'depth': 'depthw',\n",
    "                        'time': 'time_counter'},  # needs to be on t-nodes\n",
    "                  'MXL': {'lon': 'glamf', 'lat': 'gphif',\n",
    "                        'time': 'time_counter'},  # needs to be on t-nodes\n",
    "                 }\n",
    "    \n",
    "    # exclude the two grid cells at the edges of the nest as they contain 0\n",
    "    # and everything south of 20N\n",
    "    indices = {'lon': range(2, ds_mask.x.size-2), 'lat': range(1132, ds_mask.y.size-2)}\n",
    "    \n",
    "#     indices = {\n",
    "#         'U': {'depth': range(sd_z1, sd_z2), 'lon': range(sd_i1, sd_i2), 'lat': range(sd_j1, sd_j2)},\n",
    "#         'V': {'depth': range(sd_z1, sd_z2), 'lon': range(sd_i1, sd_i2), 'lat': range(sd_j1, sd_j2)},\n",
    "#         'W': {'depth': range(sd_z1, sd_z2), 'lon': range(sd_i1, sd_i2), 'lat':range(sd_j1, sd_j2)},\n",
    "#         'T': {'depth': range(sd_z1, sd_z2), 'lon': range(sd_i1, sd_i2), 'lat':range(sd_j1, sd_j2)},\n",
    "#         'S': {'depth': range(sd_z1, sd_z2), 'lon': range(sd_i1, sd_i2), 'lat':range(sd_j1, sd_j2)}\n",
    "#     }    \n",
    "    \n",
    "    if use_dask_chunks:\n",
    "        field_chunksizes = {'U': {'lon':('x', 1024), 'lat':('y',128), 'depth': ('depthw', 64),\n",
    "                            'time': ('time_counter',3)},  # needs to be on f-nodes\n",
    "                      'V': {'lon':('x', 1024), 'lat':('y',128), 'depth': ('depthw', 64),\n",
    "                            'time': ('time_counter',3)},  # needs to be on f-nodes\n",
    "                      'W': {'lon':('x', 1024), 'lat':('y',128), 'depth': ('depthw', 64),\n",
    "                            'time': ('time_counter',3)},  # needs to be on f-nodes\n",
    "                      'T': {'lon':('x', 1024), 'lat':('y',128), 'depth': ('depthw', 64),\n",
    "                            'time': ('time_counter',3)},  # needs to be on t-nodes\n",
    "                      'S': {'lon':('x', 1024), 'lat':('y',128), 'depth': ('depthw', 64),\n",
    "                            'time': ('time_counter',3)},  # needs to be on t-nodes\n",
    "                      'MXL': {'lon':('x', 1024), 'lat':('y',128),\n",
    "                            'time': ('time_counter',3)},  # needs to be on t-nodes\n",
    "                     }\n",
    "    else:\n",
    "        field_chunksizes = None\n",
    "\n",
    "    return FieldSet.from_nemo(\n",
    "        filenames, variables, dimensions, \n",
    "        indices=indices,\n",
    "        chunksize=field_chunksizes,  # = None for no chunking\n",
    "        mesh='spherical',\n",
    "        tracer_interp_method='cgrid_tracer'\n",
    "#         ,time_periodic=time_loop_period\n",
    "#         ,allow_time_extrapolation=True\n",
    "    )"
   ]
  },
  {
   "cell_type": "code",
   "execution_count": 9,
   "id": "mighty-crazy",
   "metadata": {
    "execution": {
     "iopub.execute_input": "2021-04-23T11:49:07.627859Z",
     "iopub.status.busy": "2021-04-23T11:49:07.626845Z",
     "iopub.status.idle": "2021-04-23T11:49:07.628212Z",
     "shell.execute_reply": "2021-04-23T11:49:07.628457Z"
    },
    "papermill": {
     "duration": 0.023291,
     "end_time": "2021-04-23T11:49:07.628535",
     "exception": false,
     "start_time": "2021-04-23T11:49:07.605244",
     "status": "completed"
    },
    "tags": []
   },
   "outputs": [],
   "source": [
    "def create_fieldset(\n",
    "    data_path=data_path, experiment_name=experiment_name,\n",
    "    fname_U=fname_U, fname_V=fname_V, fname_W=fname_W, fname_T=fname_T,\n",
    "    mesh_mask = mesh_mask\n",
    "):\n",
    "    \n",
    "    files_U = list(sorted((data_path).glob(fname_U)))\n",
    "    files_V = list(sorted((data_path).glob(fname_V)))\n",
    "    files_W = list(sorted((data_path).glob(fname_W)))\n",
    "    files_T = list(sorted((data_path).glob(fname_T)))\n",
    "    \n",
    "    print(files_U)\n",
    "    \n",
    "    fieldset = fieldset_defintions(\n",
    "        files_U, files_V,\n",
    "        files_W, files_T, mesh_mask)\n",
    "\n",
    "    return fieldset"
   ]
  },
  {
   "cell_type": "code",
   "execution_count": 10,
   "id": "basic-upgrade",
   "metadata": {
    "execution": {
     "iopub.execute_input": "2021-04-23T11:49:07.668313Z",
     "iopub.status.busy": "2021-04-23T11:49:07.667971Z",
     "iopub.status.idle": "2021-04-23T11:53:36.649576Z",
     "shell.execute_reply": "2021-04-23T11:53:36.650126Z"
    },
    "papermill": {
     "duration": 269.002779,
     "end_time": "2021-04-23T11:53:36.650244",
     "exception": false,
     "start_time": "2021-04-23T11:49:07.647465",
     "status": "completed"
    },
    "tags": []
   },
   "outputs": [
    {
     "name": "stdout",
     "output_type": "stream",
     "text": [
      "[PosixPath('/gxfs_work1/geomar/smomw355/model_data/ocean-only/VIKING20X.L46-KKG36107B/nemo/output/1_VIKING20X.L46-KKG36107B_5d_19800101_19801231_grid_U.nc'), PosixPath('/gxfs_work1/geomar/smomw355/model_data/ocean-only/VIKING20X.L46-KKG36107B/nemo/output/1_VIKING20X.L46-KKG36107B_5d_19810101_19811231_grid_U.nc'), PosixPath('/gxfs_work1/geomar/smomw355/model_data/ocean-only/VIKING20X.L46-KKG36107B/nemo/output/1_VIKING20X.L46-KKG36107B_5d_19820101_19821231_grid_U.nc'), PosixPath('/gxfs_work1/geomar/smomw355/model_data/ocean-only/VIKING20X.L46-KKG36107B/nemo/output/1_VIKING20X.L46-KKG36107B_5d_19830101_19831231_grid_U.nc'), PosixPath('/gxfs_work1/geomar/smomw355/model_data/ocean-only/VIKING20X.L46-KKG36107B/nemo/output/1_VIKING20X.L46-KKG36107B_5d_19840101_19841231_grid_U.nc'), PosixPath('/gxfs_work1/geomar/smomw355/model_data/ocean-only/VIKING20X.L46-KKG36107B/nemo/output/1_VIKING20X.L46-KKG36107B_5d_19850101_19851231_grid_U.nc'), PosixPath('/gxfs_work1/geomar/smomw355/model_data/ocean-only/VIKING20X.L46-KKG36107B/nemo/output/1_VIKING20X.L46-KKG36107B_5d_19860101_19861231_grid_U.nc'), PosixPath('/gxfs_work1/geomar/smomw355/model_data/ocean-only/VIKING20X.L46-KKG36107B/nemo/output/1_VIKING20X.L46-KKG36107B_5d_19870101_19871231_grid_U.nc'), PosixPath('/gxfs_work1/geomar/smomw355/model_data/ocean-only/VIKING20X.L46-KKG36107B/nemo/output/1_VIKING20X.L46-KKG36107B_5d_19880101_19881231_grid_U.nc'), PosixPath('/gxfs_work1/geomar/smomw355/model_data/ocean-only/VIKING20X.L46-KKG36107B/nemo/output/1_VIKING20X.L46-KKG36107B_5d_19890101_19891231_grid_U.nc'), PosixPath('/gxfs_work1/geomar/smomw355/model_data/ocean-only/VIKING20X.L46-KKG36107B/nemo/output/1_VIKING20X.L46-KKG36107B_5d_19900101_19901231_grid_U.nc'), PosixPath('/gxfs_work1/geomar/smomw355/model_data/ocean-only/VIKING20X.L46-KKG36107B/nemo/output/1_VIKING20X.L46-KKG36107B_5d_19910101_19911231_grid_U.nc'), PosixPath('/gxfs_work1/geomar/smomw355/model_data/ocean-only/VIKING20X.L46-KKG36107B/nemo/output/1_VIKING20X.L46-KKG36107B_5d_19920101_19921231_grid_U.nc'), PosixPath('/gxfs_work1/geomar/smomw355/model_data/ocean-only/VIKING20X.L46-KKG36107B/nemo/output/1_VIKING20X.L46-KKG36107B_5d_19930101_19931231_grid_U.nc'), PosixPath('/gxfs_work1/geomar/smomw355/model_data/ocean-only/VIKING20X.L46-KKG36107B/nemo/output/1_VIKING20X.L46-KKG36107B_5d_19940101_19941231_grid_U.nc'), PosixPath('/gxfs_work1/geomar/smomw355/model_data/ocean-only/VIKING20X.L46-KKG36107B/nemo/output/1_VIKING20X.L46-KKG36107B_5d_19950101_19951231_grid_U.nc'), PosixPath('/gxfs_work1/geomar/smomw355/model_data/ocean-only/VIKING20X.L46-KKG36107B/nemo/output/1_VIKING20X.L46-KKG36107B_5d_19960101_19961231_grid_U.nc'), PosixPath('/gxfs_work1/geomar/smomw355/model_data/ocean-only/VIKING20X.L46-KKG36107B/nemo/output/1_VIKING20X.L46-KKG36107B_5d_19970101_19971231_grid_U.nc'), PosixPath('/gxfs_work1/geomar/smomw355/model_data/ocean-only/VIKING20X.L46-KKG36107B/nemo/output/1_VIKING20X.L46-KKG36107B_5d_19980101_19981231_grid_U.nc'), PosixPath('/gxfs_work1/geomar/smomw355/model_data/ocean-only/VIKING20X.L46-KKG36107B/nemo/output/1_VIKING20X.L46-KKG36107B_5d_19990101_19991231_grid_U.nc'), PosixPath('/gxfs_work1/geomar/smomw355/model_data/ocean-only/VIKING20X.L46-KKG36107B/nemo/output/1_VIKING20X.L46-KKG36107B_5d_20000101_20001231_grid_U.nc'), PosixPath('/gxfs_work1/geomar/smomw355/model_data/ocean-only/VIKING20X.L46-KKG36107B/nemo/output/1_VIKING20X.L46-KKG36107B_5d_20010101_20011231_grid_U.nc'), PosixPath('/gxfs_work1/geomar/smomw355/model_data/ocean-only/VIKING20X.L46-KKG36107B/nemo/output/1_VIKING20X.L46-KKG36107B_5d_20020101_20021231_grid_U.nc'), PosixPath('/gxfs_work1/geomar/smomw355/model_data/ocean-only/VIKING20X.L46-KKG36107B/nemo/output/1_VIKING20X.L46-KKG36107B_5d_20030101_20031231_grid_U.nc'), PosixPath('/gxfs_work1/geomar/smomw355/model_data/ocean-only/VIKING20X.L46-KKG36107B/nemo/output/1_VIKING20X.L46-KKG36107B_5d_20040101_20041231_grid_U.nc'), PosixPath('/gxfs_work1/geomar/smomw355/model_data/ocean-only/VIKING20X.L46-KKG36107B/nemo/output/1_VIKING20X.L46-KKG36107B_5d_20050101_20051231_grid_U.nc'), PosixPath('/gxfs_work1/geomar/smomw355/model_data/ocean-only/VIKING20X.L46-KKG36107B/nemo/output/1_VIKING20X.L46-KKG36107B_5d_20060101_20061231_grid_U.nc'), PosixPath('/gxfs_work1/geomar/smomw355/model_data/ocean-only/VIKING20X.L46-KKG36107B/nemo/output/1_VIKING20X.L46-KKG36107B_5d_20070101_20071231_grid_U.nc'), PosixPath('/gxfs_work1/geomar/smomw355/model_data/ocean-only/VIKING20X.L46-KKG36107B/nemo/output/1_VIKING20X.L46-KKG36107B_5d_20080101_20081231_grid_U.nc'), PosixPath('/gxfs_work1/geomar/smomw355/model_data/ocean-only/VIKING20X.L46-KKG36107B/nemo/output/1_VIKING20X.L46-KKG36107B_5d_20090101_20091231_grid_U.nc'), PosixPath('/gxfs_work1/geomar/smomw355/model_data/ocean-only/VIKING20X.L46-KKG36107B/nemo/output/1_VIKING20X.L46-KKG36107B_5d_20100101_20101231_grid_U.nc'), PosixPath('/gxfs_work1/geomar/smomw355/model_data/ocean-only/VIKING20X.L46-KKG36107B/nemo/output/1_VIKING20X.L46-KKG36107B_5d_20110101_20111231_grid_U.nc'), PosixPath('/gxfs_work1/geomar/smomw355/model_data/ocean-only/VIKING20X.L46-KKG36107B/nemo/output/1_VIKING20X.L46-KKG36107B_5d_20120101_20121231_grid_U.nc'), PosixPath('/gxfs_work1/geomar/smomw355/model_data/ocean-only/VIKING20X.L46-KKG36107B/nemo/output/1_VIKING20X.L46-KKG36107B_5d_20130101_20131231_grid_U.nc'), PosixPath('/gxfs_work1/geomar/smomw355/model_data/ocean-only/VIKING20X.L46-KKG36107B/nemo/output/1_VIKING20X.L46-KKG36107B_5d_20140101_20141231_grid_U.nc'), PosixPath('/gxfs_work1/geomar/smomw355/model_data/ocean-only/VIKING20X.L46-KKG36107B/nemo/output/1_VIKING20X.L46-KKG36107B_5d_20150101_20151231_grid_U.nc'), PosixPath('/gxfs_work1/geomar/smomw355/model_data/ocean-only/VIKING20X.L46-KKG36107B/nemo/output/1_VIKING20X.L46-KKG36107B_5d_20160101_20161231_grid_U.nc'), PosixPath('/gxfs_work1/geomar/smomw355/model_data/ocean-only/VIKING20X.L46-KKG36107B/nemo/output/1_VIKING20X.L46-KKG36107B_5d_20170101_20171231_grid_U.nc'), PosixPath('/gxfs_work1/geomar/smomw355/model_data/ocean-only/VIKING20X.L46-KKG36107B/nemo/output/1_VIKING20X.L46-KKG36107B_5d_20180101_20181231_grid_U.nc'), PosixPath('/gxfs_work1/geomar/smomw355/model_data/ocean-only/VIKING20X.L46-KKG36107B/nemo/output/1_VIKING20X.L46-KKG36107B_5d_20190101_20191231_grid_U.nc')]\n"
     ]
    },
    {
     "name": "stderr",
     "output_type": "stream",
     "text": [
      "WARNING: Casting depth data to np.float32\n"
     ]
    }
   ],
   "source": [
    "fieldset = create_fieldset()"
   ]
  },
  {
   "cell_type": "markdown",
   "id": "handed-swimming",
   "metadata": {
    "papermill": {
     "duration": 0.019203,
     "end_time": "2021-04-23T11:53:36.689625",
     "exception": false,
     "start_time": "2021-04-23T11:53:36.670422",
     "status": "completed"
    },
    "tags": []
   },
   "source": [
    "## Create Virtual Particles"
   ]
  },
  {
   "cell_type": "markdown",
   "id": "technical-michael",
   "metadata": {
    "papermill": {
     "duration": 0.01932,
     "end_time": "2021-04-23T11:53:36.728483",
     "exception": false,
     "start_time": "2021-04-23T11:53:36.709163",
     "status": "completed"
    },
    "tags": []
   },
   "source": [
    "#### add a couple of simple plotting routines"
   ]
  },
  {
   "cell_type": "code",
   "execution_count": 11,
   "id": "wrapped-activity",
   "metadata": {
    "execution": {
     "iopub.execute_input": "2021-04-23T11:53:36.773623Z",
     "iopub.status.busy": "2021-04-23T11:53:36.772518Z",
     "iopub.status.idle": "2021-04-23T11:53:36.773987Z",
     "shell.execute_reply": "2021-04-23T11:53:36.774236Z"
    },
    "papermill": {
     "duration": 0.026351,
     "end_time": "2021-04-23T11:53:36.774322",
     "exception": false,
     "start_time": "2021-04-23T11:53:36.747971",
     "status": "completed"
    },
    "tags": []
   },
   "outputs": [],
   "source": [
    "def plot_section_sdist():\n",
    "    plt.figure(figsize=(10,5))\n",
    "\n",
    "    u = np.array([p.uvel for p in pset]) * degree2km * 1000.0 * np.cos(np.radians(pset.lat))\n",
    "    v = np.array([p.vvel for p in pset]) * degree2km * 1000.0\n",
    "    section_index = np.searchsorted(lonlat.lon,pset.lon)-1\n",
    "    u_normal = v * lonlatdiff.costheta[section_index].data - u * lonlatdiff.sintheta[section_index].data\n",
    "    y = (pset.lat - lonlat.lat[section_index]) * degree2km\n",
    "    x = (pset.lon - lonlat.lon[section_index]) * degree2km*np.cos(np.radians(lonlat2mean.lat[section_index+1].data))\n",
    "    dist = np.sqrt(x**2 + y**2) + lonlatdiff.length_west[section_index].data\n",
    "    \n",
    "    \n",
    "    plt.scatter(\n",
    "        dist,\n",
    "        [p.depth for p in pset],\n",
    "        1,\n",
    "        u_normal,\n",
    "        cmap=co.cm.balance,vmin=-0.3,vmax=0.3\n",
    "    )\n",
    "    plt.ylim(1200,0)\n",
    "    plt.colorbar(label = r'normal velocity [$\\mathrm{m\\ s}^{-1}$]')\n",
    "    plt.xlabel('distance [km]')\n",
    "    plt.ylabel('depth [m]')\n",
    "    return\n"
   ]
  },
  {
   "cell_type": "code",
   "execution_count": 12,
   "id": "happy-cross",
   "metadata": {
    "execution": {
     "iopub.execute_input": "2021-04-23T11:53:36.818172Z",
     "iopub.status.busy": "2021-04-23T11:53:36.817138Z",
     "iopub.status.idle": "2021-04-23T11:53:36.818527Z",
     "shell.execute_reply": "2021-04-23T11:53:36.818780Z"
    },
    "papermill": {
     "duration": 0.025038,
     "end_time": "2021-04-23T11:53:36.818862",
     "exception": false,
     "start_time": "2021-04-23T11:53:36.793824",
     "status": "completed"
    },
    "tags": []
   },
   "outputs": [],
   "source": [
    "def plot_section_lon():\n",
    "    plt.figure(figsize=(10,5))\n",
    "\n",
    "    u = np.array([p.uvel for p in pset]) * degree2km * 1000.0 * np.cos(np.radians(pset.lat))\n",
    "    v = np.array([p.vvel for p in pset]) * degree2km * 1000.0\n",
    "    section_index = np.searchsorted(lonlat.lon,pset.lon)-1\n",
    "    u_normal = v * lonlatdiff.costheta[section_index].data - u * lonlatdiff.sintheta[section_index].data\n",
    "    \n",
    "    plt.scatter(\n",
    "        [p.lon for p in pset],\n",
    "        [p.depth for p in pset],\n",
    "        1,\n",
    "        u_normal,\n",
    "        cmap=co.cm.balance,vmin=-0.3,vmax=0.3\n",
    "    )\n",
    "    plt.ylim(1200,0)\n",
    "    plt.colorbar(label = r'normal velocity [$\\mathrm{m\\ s}^{-1}$]');\n",
    "    plt.xlabel('longitude [$\\degree$E]')\n",
    "    plt.ylabel('depth [m]')\n",
    "    return\n"
   ]
  },
  {
   "cell_type": "code",
   "execution_count": 13,
   "id": "annual-spirituality",
   "metadata": {
    "execution": {
     "iopub.execute_input": "2021-04-23T11:53:36.861676Z",
     "iopub.status.busy": "2021-04-23T11:53:36.860646Z",
     "iopub.status.idle": "2021-04-23T11:53:36.862038Z",
     "shell.execute_reply": "2021-04-23T11:53:36.862286Z"
    },
    "papermill": {
     "duration": 0.024222,
     "end_time": "2021-04-23T11:53:36.862367",
     "exception": false,
     "start_time": "2021-04-23T11:53:36.838145",
     "status": "completed"
    },
    "tags": []
   },
   "outputs": [],
   "source": [
    "class SampleParticle(JITParticle):\n",
    "    \"\"\"Add variables to the standard particle class.\n",
    "    \n",
    "    Particles will sample temperature and track the age of the particle.\n",
    "    Particles also have a flag `alive` that is 1 if the particle is alive and 0 otherwise.\n",
    "    Furthermore, we have a `speed_param` that scales the velocity with which particles can\n",
    "    swim towards the surface.\n",
    "\n",
    "    Note that we don't initialize temp from the actual data.\n",
    "    This speeds up particle creation, but might render initial data point less useful.\n",
    "    \"\"\"\n",
    "    mxl = Variable('mxl', dtype=np.float32, initial=-100)\n",
    "    temp = Variable('temp', dtype=np.float32, initial=-100)\n",
    "    salt = Variable('salt', dtype=np.float32, initial=-100)\n",
    "    uvel = Variable('uvel', dtype=np.float32, initial=0)\n",
    "    vvel = Variable('vvel', dtype=np.float32, initial=0)\n",
    "#    wvel = Variable('wvel', dtype=np.float32, initial=0)\n",
    "#     alive = Variable('alive', dtype=np.int32, initial=1)\n",
    "#     speed_param = Variable('speed_param', dtype=np.float32, initial=1)\n",
    "#     age = Variable('age', dtype=np.int32, initial=0, to_write=True)"
   ]
  },
  {
   "cell_type": "markdown",
   "id": "saving-onion",
   "metadata": {
    "papermill": {
     "duration": 0.019471,
     "end_time": "2021-04-23T11:53:36.901427",
     "exception": false,
     "start_time": "2021-04-23T11:53:36.881956",
     "status": "completed"
    },
    "tags": []
   },
   "source": [
    "## Create a set of particles with random initial positions\n",
    "\n",
    "We seed the RNG to be reproducible (and to be able to quickly create a second equivalent experiment with differently chosen compatible initial positions), and create arrays of random starting times, lats, lons, depths, and speed parameters (see kernel definitions below for details).\n",
    "\n",
    "Initially create points on 'rectangle'. Land points are removed later in a OceanParcels 'run' with runtime and timedelta zero."
   ]
  },
  {
   "cell_type": "markdown",
   "id": "immediate-highlight",
   "metadata": {
    "papermill": {
     "duration": 0.01941,
     "end_time": "2021-04-23T11:53:36.940427",
     "exception": false,
     "start_time": "2021-04-23T11:53:36.921017",
     "status": "completed"
    },
    "tags": []
   },
   "source": [
    "### First set up the piecewise section"
   ]
  },
  {
   "cell_type": "code",
   "execution_count": 14,
   "id": "purple-robin",
   "metadata": {
    "execution": {
     "iopub.execute_input": "2021-04-23T11:53:36.982077Z",
     "iopub.status.busy": "2021-04-23T11:53:36.981746Z",
     "iopub.status.idle": "2021-04-23T11:53:36.999747Z",
     "shell.execute_reply": "2021-04-23T11:53:37.000317Z"
    },
    "papermill": {
     "duration": 0.040586,
     "end_time": "2021-04-23T11:53:37.000407",
     "exception": false,
     "start_time": "2021-04-23T11:53:36.959821",
     "status": "completed"
    },
    "tags": []
   },
   "outputs": [],
   "source": [
    "lonlat = xr.Dataset(pd.read_csv(sectionPath / sectionFilename,delim_whitespace=True))"
   ]
  },
  {
   "cell_type": "code",
   "execution_count": 15,
   "id": "italian-madagascar",
   "metadata": {
    "execution": {
     "iopub.execute_input": "2021-04-23T11:53:37.062524Z",
     "iopub.status.busy": "2021-04-23T11:53:37.062199Z",
     "iopub.status.idle": "2021-04-23T11:53:37.297849Z",
     "shell.execute_reply": "2021-04-23T11:53:37.298287Z"
    },
    "papermill": {
     "duration": 0.277929,
     "end_time": "2021-04-23T11:53:37.298395",
     "exception": false,
     "start_time": "2021-04-23T11:53:37.020466",
     "status": "completed"
    },
    "tags": []
   },
   "outputs": [
    {
     "name": "stdout",
     "output_type": "stream",
     "text": [
      "3594.572878394652\n"
     ]
    },
    {
     "data": {
      "image/png": "[encoded data removed]",
      "text/plain": [
       "<Figure size 432x288 with 1 Axes>"
      ]
     },
     "metadata": {
      "needs_background": "light"
     },
     "output_type": "display_data"
    }
   ],
   "source": [
    "lonlat.lon.attrs['long_name']='Longitude'\n",
    "lonlat.lat.attrs['long_name']='Latitude'\n",
    "lonlat.lon.attrs['standard_name']='longitude'\n",
    "lonlat.lat.attrs['standard_name']='latitude'\n",
    "lonlat.lon.attrs['units']='degrees_east'\n",
    "lonlat.lat.attrs['units']='degrees_north'\n",
    "\n",
    "lonlatdiff = lonlat.diff('dim_0')\n",
    "lonlat2mean= lonlat.rolling({'dim_0':2}).mean()\n",
    "\n",
    "lonlat.plot.scatter(x='lon',y='lat')\n",
    "lonlat2mean.plot.scatter(x='lon',y='lat')\n",
    "\n",
    "lonlatdiff = lonlatdiff.assign({'y':lonlatdiff['lat']*degree2km})\n",
    "lonlatdiff = lonlatdiff.assign({'x':lonlatdiff['lon']*degree2km*np.cos(np.radians(lonlat2mean.lat.data[1:]))})\n",
    "lonlatdiff=lonlatdiff.assign({'length':np.sqrt(lonlatdiff['x']**2+lonlatdiff['y']**2)})\n",
    "lonlatdiff=lonlatdiff.assign({'length_west':lonlatdiff.length.sum() - np.cumsum(lonlatdiff.length[::-1])[::-1]})\n",
    "lonlatdiff=lonlatdiff.assign({'costheta':lonlatdiff['x']/lonlatdiff['length']})\n",
    "lonlatdiff=lonlatdiff.assign({'sintheta':lonlatdiff['y']/lonlatdiff['length']})\n",
    "\n",
    "total_length = lonlatdiff.length.sum().data\n",
    "print(total_length)"
   ]
  },
  {
   "cell_type": "code",
   "execution_count": 16,
   "id": "starting-steam",
   "metadata": {
    "execution": {
     "iopub.execute_input": "2021-04-23T11:53:37.343848Z",
     "iopub.status.busy": "2021-04-23T11:53:37.342786Z",
     "iopub.status.idle": "2021-04-23T11:53:37.344943Z",
     "shell.execute_reply": "2021-04-23T11:53:37.344662Z"
    },
    "papermill": {
     "duration": 0.025681,
     "end_time": "2021-04-23T11:53:37.345016",
     "exception": false,
     "start_time": "2021-04-23T11:53:37.319335",
     "status": "completed"
    },
    "tags": []
   },
   "outputs": [
    {
     "data": {
      "text/plain": [
       "12"
      ]
     },
     "execution_count": 16,
     "metadata": {},
     "output_type": "execute_result"
    }
   ],
   "source": [
    "lonlatdiff.length.shape[0]"
   ]
  },
  {
   "cell_type": "markdown",
   "id": "forbidden-invitation",
   "metadata": {
    "papermill": {
     "duration": 0.020553,
     "end_time": "2021-04-23T11:53:37.385954",
     "exception": false,
     "start_time": "2021-04-23T11:53:37.365401",
     "status": "completed"
    },
    "tags": []
   },
   "source": [
    "### Seed particles uniform random along OSNAP section"
   ]
  },
  {
   "cell_type": "code",
   "execution_count": 17,
   "id": "through-magnet",
   "metadata": {
    "execution": {
     "iopub.execute_input": "2021-04-23T11:53:37.449738Z",
     "iopub.status.busy": "2021-04-23T11:53:37.449376Z",
     "iopub.status.idle": "2021-04-23T11:53:37.533144Z",
     "shell.execute_reply": "2021-04-23T11:53:37.533639Z"
    },
    "papermill": {
     "duration": 0.127333,
     "end_time": "2021-04-23T11:53:37.533762",
     "exception": false,
     "start_time": "2021-04-23T11:53:37.406429",
     "status": "completed"
    },
    "tags": []
   },
   "outputs": [],
   "source": [
    "np.random.seed(RNG_seed)\n",
    "\n",
    "# define time of release for each particle relative to t0\n",
    "# can start each particle at a different time if required\n",
    "# here all start at time t_start.\n",
    "times = []\n",
    "lons = []\n",
    "lats = []\n",
    "depths = []\n",
    "\n",
    "# for subsect in range(lonlatdiff.length.shape[0]):\n",
    "for subsect in range(start_vertex,end_vertex):\n",
    "    \n",
    "    number_particles = int(create_number_particles*lonlatdiff.length[subsect]/total_length)\n",
    "    time = np.zeros(number_particles)\n",
    "    time += (t_start - t_0).total_seconds()\n",
    "\n",
    "    # start along a line from west to east\n",
    "\n",
    "    west_lat = lonlat.lat[subsect].data\n",
    "    west_lon = lonlat.lon[subsect].data\n",
    "    east_lat = lonlat.lat[subsect+1].data\n",
    "    east_lon = lonlat.lon[subsect+1].data\n",
    "    \n",
    "    lon = np.random.uniform(\n",
    "        low=west_lon, high = east_lon,\n",
    "        size=time.shape\n",
    "    )\n",
    "    lat = west_lat + ((lon - west_lon) * (east_lat - west_lat)/ (east_lon - west_lon))\n",
    "\n",
    "    # at depths from surface to max_release_depth\n",
    "\n",
    "    depth = np.random.uniform(\n",
    "        low=min_release_depth, high=max_release_depth,\n",
    "        size=time.shape\n",
    "    )\n",
    "    times.append(time)\n",
    "    lons.append(lon)\n",
    "    lats.append(lat)\n",
    "    depths.append(depth)\n",
    "\n",
    "    \n",
    "    \n",
    "time = np.concatenate(times)\n",
    "lon = np.concatenate(lons)\n",
    "lat = np.concatenate(lats)\n",
    "depth = np.concatenate(depths)\n"
   ]
  },
  {
   "cell_type": "markdown",
   "id": "resistant-laptop",
   "metadata": {
    "papermill": {
     "duration": 0.020386,
     "end_time": "2021-04-23T11:53:37.575503",
     "exception": false,
     "start_time": "2021-04-23T11:53:37.555117",
     "status": "completed"
    },
    "tags": []
   },
   "source": [
    "###  Build particle set"
   ]
  },
  {
   "cell_type": "code",
   "execution_count": 18,
   "id": "capable-optimum",
   "metadata": {
    "execution": {
     "iopub.execute_input": "2021-04-23T11:53:37.638759Z",
     "iopub.status.busy": "2021-04-23T11:53:37.638389Z",
     "iopub.status.idle": "2021-04-23T11:53:38.506041Z",
     "shell.execute_reply": "2021-04-23T11:53:38.506500Z"
    },
    "papermill": {
     "duration": 0.910713,
     "end_time": "2021-04-23T11:53:38.506618",
     "exception": false,
     "start_time": "2021-04-23T11:53:37.595905",
     "status": "completed"
    },
    "tags": []
   },
   "outputs": [
    {
     "name": "stdout",
     "output_type": "stream",
     "text": [
      "CPU times: user 704 ms, sys: 177 ms, total: 881 ms\n",
      "Wall time: 884 ms\n"
     ]
    }
   ],
   "source": [
    "%%time\n",
    "\n",
    "pset = ParticleSet(\n",
    "    fieldset=fieldset,\n",
    "    pclass=SampleParticle,\n",
    "    lat=lat,\n",
    "    lon=lon,\n",
    "#     speed_param=speed_param,\n",
    "    depth=depth,\n",
    "    time=time\n",
    "#    repeatdt = repeatdt\n",
    ")\n"
   ]
  },
  {
   "cell_type": "code",
   "execution_count": 19,
   "id": "viral-cooking",
   "metadata": {
    "execution": {
     "iopub.execute_input": "2021-04-23T11:53:38.552671Z",
     "iopub.status.busy": "2021-04-23T11:53:38.551536Z",
     "iopub.status.idle": "2021-04-23T11:53:38.553666Z",
     "shell.execute_reply": "2021-04-23T11:53:38.552977Z"
    },
    "papermill": {
     "duration": 0.025521,
     "end_time": "2021-04-23T11:53:38.553751",
     "exception": false,
     "start_time": "2021-04-23T11:53:38.528230",
     "status": "completed"
    },
    "tags": []
   },
   "outputs": [
    {
     "name": "stdout",
     "output_type": "stream",
     "text": [
      "Created 2643886 particles.\n"
     ]
    }
   ],
   "source": [
    "print(f\"Created {len(pset)} particles.\")\n",
    "# display(pset[:5])\n",
    "# display(pset[-5:])"
   ]
  },
  {
   "cell_type": "markdown",
   "id": "heavy-hostel",
   "metadata": {
    "papermill": {
     "duration": 0.020809,
     "end_time": "2021-04-23T11:53:38.595665",
     "exception": false,
     "start_time": "2021-04-23T11:53:38.574856",
     "status": "completed"
    },
    "tags": []
   },
   "source": [
    "## Compose custom kernel\n",
    "\n",
    "We'll create three additional kernels:\n",
    "- One Kernel adds velocity sampling\n",
    "- One Kernel adds temperature sampling\n",
    "- One kernel adds salinity sampling\n",
    "\n",
    "Then, we combine the builtin `AdvectionRK4_3D` kernel with these additional kernels."
   ]
  },
  {
   "cell_type": "code",
   "execution_count": 20,
   "id": "polyphonic-webster",
   "metadata": {
    "execution": {
     "iopub.execute_input": "2021-04-23T11:53:38.640898Z",
     "iopub.status.busy": "2021-04-23T11:53:38.639846Z",
     "iopub.status.idle": "2021-04-23T11:53:38.641253Z",
     "shell.execute_reply": "2021-04-23T11:53:38.641499Z"
    },
    "papermill": {
     "duration": 0.024934,
     "end_time": "2021-04-23T11:53:38.641580",
     "exception": false,
     "start_time": "2021-04-23T11:53:38.616646",
     "status": "completed"
    },
    "tags": []
   },
   "outputs": [],
   "source": [
    "def velocity_sampling(particle, fieldset, time):\n",
    "    '''Sample velocity.'''\n",
    "    \n",
    "    (particle.uvel,particle.vvel) = fieldset.UV[time, particle.depth, particle.lat, particle.lon]\n",
    "    "
   ]
  },
  {
   "cell_type": "code",
   "execution_count": 21,
   "id": "pleased-pulse",
   "metadata": {
    "execution": {
     "iopub.execute_input": "2021-04-23T11:53:38.686879Z",
     "iopub.status.busy": "2021-04-23T11:53:38.685847Z",
     "iopub.status.idle": "2021-04-23T11:53:38.687232Z",
     "shell.execute_reply": "2021-04-23T11:53:38.687475Z"
    },
    "papermill": {
     "duration": 0.024773,
     "end_time": "2021-04-23T11:53:38.687555",
     "exception": false,
     "start_time": "2021-04-23T11:53:38.662782",
     "status": "completed"
    },
    "tags": []
   },
   "outputs": [],
   "source": [
    "def temperature_sampling(particle, fieldset, time):\n",
    "    '''Sample temperature.'''\n",
    "    \n",
    "    particle.temp = fieldset.T[time, particle.depth, particle.lat, particle.lon]"
   ]
  },
  {
   "cell_type": "code",
   "execution_count": 22,
   "id": "nuclear-technical",
   "metadata": {
    "execution": {
     "iopub.execute_input": "2021-04-23T11:53:38.732587Z",
     "iopub.status.busy": "2021-04-23T11:53:38.731570Z",
     "iopub.status.idle": "2021-04-23T11:53:38.732950Z",
     "shell.execute_reply": "2021-04-23T11:53:38.733194Z"
    },
    "papermill": {
     "duration": 0.024693,
     "end_time": "2021-04-23T11:53:38.733273",
     "exception": false,
     "start_time": "2021-04-23T11:53:38.708580",
     "status": "completed"
    },
    "tags": []
   },
   "outputs": [],
   "source": [
    "def salinity_sampling(particle, fieldset, time):\n",
    "    '''Sample salinity.'''\n",
    "    \n",
    "    particle.salt = fieldset.S[time, particle.depth, particle.lat, particle.lon]"
   ]
  },
  {
   "cell_type": "code",
   "execution_count": 23,
   "id": "other-minimum",
   "metadata": {
    "execution": {
     "iopub.execute_input": "2021-04-23T11:53:38.778361Z",
     "iopub.status.busy": "2021-04-23T11:53:38.777348Z",
     "iopub.status.idle": "2021-04-23T11:53:38.778721Z",
     "shell.execute_reply": "2021-04-23T11:53:38.778971Z"
    },
    "papermill": {
     "duration": 0.024672,
     "end_time": "2021-04-23T11:53:38.779050",
     "exception": false,
     "start_time": "2021-04-23T11:53:38.754378",
     "status": "completed"
    },
    "tags": []
   },
   "outputs": [],
   "source": [
    "def mxl_sampling(particle, fieldset, time):\n",
    "    '''Sample mixed layer depth.'''\n",
    "    \n",
    "    particle.mxl = fieldset.MXL[time, particle.depth, particle.lat, particle.lon]"
   ]
  },
  {
   "cell_type": "code",
   "execution_count": 24,
   "id": "finnish-spirit",
   "metadata": {
    "execution": {
     "iopub.execute_input": "2021-04-23T11:53:38.869624Z",
     "iopub.status.busy": "2021-04-23T11:53:38.869299Z",
     "iopub.status.idle": "2021-04-23T11:53:39.075391Z",
     "shell.execute_reply": "2021-04-23T11:53:39.075887Z"
    },
    "papermill": {
     "duration": 0.275644,
     "end_time": "2021-04-23T11:53:39.076004",
     "exception": false,
     "start_time": "2021-04-23T11:53:38.800360",
     "status": "completed"
    },
    "tags": []
   },
   "outputs": [],
   "source": [
    "custom_kernel = (\n",
    "    pset.Kernel(AdvectionRK4_3D)\n",
    "#     + pset.Kernel(temperature_sensitivity)\n",
    "     + pset.Kernel(temperature_sampling)\n",
    "     + pset.Kernel(salinity_sampling)\n",
    "     + pset.Kernel(velocity_sampling)\n",
    "     + pset.Kernel(mxl_sampling)\n",
    ")"
   ]
  },
  {
   "cell_type": "markdown",
   "id": "broadband-privacy",
   "metadata": {
    "papermill": {
     "duration": 0.021574,
     "end_time": "2021-04-23T11:53:39.119379",
     "exception": false,
     "start_time": "2021-04-23T11:53:39.097805",
     "status": "completed"
    },
    "tags": []
   },
   "source": [
    "## Be able to handle errors during integration\n",
    "\n",
    "We have restricted our domain so in principle, particles could reach undefined positions.\n",
    "In that case, we want to just delete the particle (without forgetting its history)."
   ]
  },
  {
   "cell_type": "code",
   "execution_count": 25,
   "id": "bound-defensive",
   "metadata": {
    "execution": {
     "iopub.execute_input": "2021-04-23T11:53:39.166064Z",
     "iopub.status.busy": "2021-04-23T11:53:39.164982Z",
     "iopub.status.idle": "2021-04-23T11:53:39.166408Z",
     "shell.execute_reply": "2021-04-23T11:53:39.166639Z"
    },
    "papermill": {
     "duration": 0.025604,
     "end_time": "2021-04-23T11:53:39.166733",
     "exception": false,
     "start_time": "2021-04-23T11:53:39.141129",
     "status": "completed"
    },
    "tags": []
   },
   "outputs": [],
   "source": [
    "def DeleteParticle(particle, fieldset, time):\n",
    "    particle.delete()\n",
    "\n",
    "\n",
    "recovery_cases = {\n",
    "    ErrorCode.ErrorOutOfBounds: DeleteParticle,\n",
    "    ErrorCode.Error: DeleteParticle,\n",
    "    ErrorCode.ErrorInterpolation: DeleteParticle\n",
    "}"
   ]
  },
  {
   "cell_type": "markdown",
   "id": "natural-soviet",
   "metadata": {
    "papermill": {
     "duration": 0.021442,
     "end_time": "2021-04-23T11:53:39.209631",
     "exception": false,
     "start_time": "2021-04-23T11:53:39.188189",
     "status": "completed"
    },
    "tags": []
   },
   "source": [
    "## Run with runtime=0 to initialise fields"
   ]
  },
  {
   "cell_type": "code",
   "execution_count": 26,
   "id": "virtual-drilling",
   "metadata": {
    "execution": {
     "iopub.execute_input": "2021-04-23T11:53:39.261211Z",
     "iopub.status.busy": "2021-04-23T11:53:39.260888Z",
     "iopub.status.idle": "2021-04-23T11:57:30.976990Z",
     "shell.execute_reply": "2021-04-23T11:57:30.977253Z"
    },
    "papermill": {
     "duration": 231.746208,
     "end_time": "2021-04-23T11:57:30.977357",
     "exception": false,
     "start_time": "2021-04-23T11:53:39.231149",
     "status": "completed"
    },
    "tags": []
   },
   "outputs": [
    {
     "name": "stderr",
     "output_type": "stream",
     "text": [
      "INFO: Compiled SampleParticleAdvectionRK4_3Dtemperature_samplingsalinity_samplingvelocity_samplingmxl_sampling ==> /tmp/parcels-62665/d83460c7ce95c2334f62bd791fb7a500_0.so\n"
     ]
    },
    {
     "name": "stderr",
     "output_type": "stream",
     "text": [
      "WARNING: dt or runtime are zero, or endtime is equal to Particle.time. The kernels will be executed once, without incrementing time\n"
     ]
    },
    {
     "name": "stdout",
     "output_type": "stream",
     "text": [
      "CPU times: user 3min 35s, sys: 8.49 s, total: 3min 43s\n",
      "Wall time: 3min 51s\n"
     ]
    }
   ],
   "source": [
    "%%time\n",
    "\n",
    "# with dask.config.set(**{'array.slicing.split_large_chunks': False}):\n",
    "pset.execute(\n",
    "    custom_kernel,\n",
    "     runtime=0,    \n",
    "#      dt=timedelta(minutes=0),      \n",
    "#      output_file=outputfile,\n",
    "     recovery=recovery_cases\n",
    ")"
   ]
  },
  {
   "cell_type": "code",
   "execution_count": 27,
   "id": "stuffed-google",
   "metadata": {
    "execution": {
     "iopub.execute_input": "2021-04-23T11:57:31.035726Z",
     "iopub.status.busy": "2021-04-23T11:57:31.035408Z",
     "iopub.status.idle": "2021-04-23T11:58:12.942305Z",
     "shell.execute_reply": "2021-04-23T11:58:12.942561Z"
    },
    "papermill": {
     "duration": 41.943093,
     "end_time": "2021-04-23T11:58:12.942664",
     "exception": false,
     "start_time": "2021-04-23T11:57:30.999571",
     "status": "completed"
    },
    "tags": []
   },
   "outputs": [
    {
     "data": {
      "image/png": "[encoded data removed]",
      "text/plain": [
       "<Figure size 720x360 with 2 Axes>"
      ]
     },
     "metadata": {
      "needs_background": "light"
     },
     "output_type": "display_data"
    }
   ],
   "source": [
    "plot_section_sdist()"
   ]
  },
  {
   "cell_type": "markdown",
   "id": "approximate-assumption",
   "metadata": {
    "papermill": {
     "duration": 0.025316,
     "end_time": "2021-04-23T11:58:12.993225",
     "exception": false,
     "start_time": "2021-04-23T11:58:12.967909",
     "status": "completed"
    },
    "tags": []
   },
   "source": [
    "## Trim unwanted points from ParticleSet\n",
    "\n",
    "Use initialised fields to remove land points. We test `temp == 0.0` (the mask value over land).\n"
   ]
  },
  {
   "cell_type": "code",
   "execution_count": 28,
   "id": "institutional-sister",
   "metadata": {
    "execution": {
     "iopub.execute_input": "2021-04-23T11:58:13.057735Z",
     "iopub.status.busy": "2021-04-23T11:58:13.057410Z",
     "iopub.status.idle": "2021-04-23T11:58:18.487729Z",
     "shell.execute_reply": "2021-04-23T11:58:18.488188Z"
    },
    "papermill": {
     "duration": 5.469744,
     "end_time": "2021-04-23T11:58:18.488298",
     "exception": false,
     "start_time": "2021-04-23T11:58:13.018554",
     "status": "completed"
    },
    "tags": []
   },
   "outputs": [
    {
     "name": "stdout",
     "output_type": "stream",
     "text": [
      "2100267\n"
     ]
    }
   ],
   "source": [
    "t = np.array([p.temp for p in pset])\n",
    "# u = np.array([p.uvel for p in pset])\n",
    "# v = np.array([p.vvel for p in pset])\n",
    "pset.remove_indices(np.argwhere(t == 0).flatten())\n",
    "# pset.remove(np.argwhere(x * y * z == 0).flatten())\n",
    "print(len(pset))"
   ]
  },
  {
   "cell_type": "code",
   "execution_count": 29,
   "id": "failing-origin",
   "metadata": {
    "execution": {
     "iopub.execute_input": "2021-04-23T11:58:18.555736Z",
     "iopub.status.busy": "2021-04-23T11:58:18.555410Z",
     "iopub.status.idle": "2021-04-23T11:58:51.895614Z",
     "shell.execute_reply": "2021-04-23T11:58:51.895886Z"
    },
    "papermill": {
     "duration": 33.380006,
     "end_time": "2021-04-23T11:58:51.895990",
     "exception": false,
     "start_time": "2021-04-23T11:58:18.515984",
     "status": "completed"
    },
    "tags": []
   },
   "outputs": [
    {
     "data": {
      "image/png": "[encoded data removed]",
      "text/plain": [
       "<Figure size 720x360 with 2 Axes>"
      ]
     },
     "metadata": {
      "needs_background": "light"
     },
     "output_type": "display_data"
    }
   ],
   "source": [
    "plot_section_sdist()"
   ]
  },
  {
   "cell_type": "markdown",
   "id": "italic-andorra",
   "metadata": {
    "papermill": {
     "duration": 0.028943,
     "end_time": "2021-04-23T11:58:51.955846",
     "exception": false,
     "start_time": "2021-04-23T11:58:51.926903",
     "status": "completed"
    },
    "tags": []
   },
   "source": [
    "### Test velocity normal to section"
   ]
  },
  {
   "cell_type": "markdown",
   "id": "completed-horizon",
   "metadata": {
    "papermill": {
     "duration": 0.028637,
     "end_time": "2021-04-23T11:58:52.013590",
     "exception": false,
     "start_time": "2021-04-23T11:58:51.984953",
     "status": "completed"
    },
    "tags": []
   },
   "source": [
    "#### Velocity conversions from degrees lat/lon per second to m/s"
   ]
  },
  {
   "cell_type": "code",
   "execution_count": 30,
   "id": "incorrect-shape",
   "metadata": {
    "execution": {
     "iopub.execute_input": "2021-04-23T11:58:52.085935Z",
     "iopub.status.busy": "2021-04-23T11:58:52.085586Z",
     "iopub.status.idle": "2021-04-23T11:59:00.186481Z",
     "shell.execute_reply": "2021-04-23T11:59:00.187033Z"
    },
    "papermill": {
     "duration": 8.144625,
     "end_time": "2021-04-23T11:59:00.187166",
     "exception": false,
     "start_time": "2021-04-23T11:58:52.042541",
     "status": "completed"
    },
    "tags": []
   },
   "outputs": [],
   "source": [
    "u = np.array([p.uvel for p in pset])\n",
    "v = np.array([p.vvel for p in pset])\n"
   ]
  },
  {
   "cell_type": "code",
   "execution_count": 31,
   "id": "affected-gauge",
   "metadata": {
    "execution": {
     "iopub.execute_input": "2021-04-23T11:59:00.271606Z",
     "iopub.status.busy": "2021-04-23T11:59:00.271277Z",
     "iopub.status.idle": "2021-04-23T11:59:00.285962Z",
     "shell.execute_reply": "2021-04-23T11:59:00.286445Z"
    },
    "papermill": {
     "duration": 0.066049,
     "end_time": "2021-04-23T11:59:00.286560",
     "exception": false,
     "start_time": "2021-04-23T11:59:00.220511",
     "status": "completed"
    },
    "tags": []
   },
   "outputs": [],
   "source": [
    "u=u * degree2km * 1000.0 * np.cos(np.radians(pset.lat))\n",
    "v=v * degree2km * 1000.0"
   ]
  },
  {
   "cell_type": "markdown",
   "id": "sixth-deposit",
   "metadata": {
    "papermill": {
     "duration": 0.02948,
     "end_time": "2021-04-23T11:59:00.345742",
     "exception": false,
     "start_time": "2021-04-23T11:59:00.316262",
     "status": "completed"
    },
    "tags": []
   },
   "source": [
    "#### normal velocities"
   ]
  },
  {
   "cell_type": "code",
   "execution_count": 32,
   "id": "exciting-crazy",
   "metadata": {
    "execution": {
     "iopub.execute_input": "2021-04-23T11:59:00.426718Z",
     "iopub.status.busy": "2021-04-23T11:59:00.426361Z",
     "iopub.status.idle": "2021-04-23T11:59:00.450573Z",
     "shell.execute_reply": "2021-04-23T11:59:00.451095Z"
    },
    "papermill": {
     "duration": 0.076014,
     "end_time": "2021-04-23T11:59:00.451212",
     "exception": false,
     "start_time": "2021-04-23T11:59:00.375198",
     "status": "completed"
    },
    "tags": []
   },
   "outputs": [],
   "source": [
    "section_index = np.searchsorted(lonlat.lon,pset.lon)-1\n",
    "u_normal = v * lonlatdiff.costheta[section_index].data - u * lonlatdiff.sintheta[section_index].data"
   ]
  },
  {
   "cell_type": "code",
   "execution_count": 33,
   "id": "decimal-elevation",
   "metadata": {
    "execution": {
     "iopub.execute_input": "2021-04-23T11:59:00.522698Z",
     "iopub.status.busy": "2021-04-23T11:59:00.522270Z",
     "iopub.status.idle": "2021-04-23T11:59:00.523858Z",
     "shell.execute_reply": "2021-04-23T11:59:00.523002Z"
    },
    "papermill": {
     "duration": 0.042275,
     "end_time": "2021-04-23T11:59:00.523942",
     "exception": false,
     "start_time": "2021-04-23T11:59:00.481667",
     "status": "completed"
    },
    "tags": []
   },
   "outputs": [
    {
     "data": {
      "text/plain": [
       "0.9555497872512813"
      ]
     },
     "execution_count": 33,
     "metadata": {},
     "output_type": "execute_result"
    }
   ],
   "source": [
    "abs(u_normal).max()"
   ]
  },
  {
   "cell_type": "markdown",
   "id": "adjusted-dylan",
   "metadata": {
    "papermill": {
     "duration": 0.030249,
     "end_time": "2021-04-23T11:59:00.584613",
     "exception": false,
     "start_time": "2021-04-23T11:59:00.554364",
     "status": "completed"
    },
    "tags": []
   },
   "source": [
    "#### remove particles randomly with probability proportional to normal speed"
   ]
  },
  {
   "cell_type": "code",
   "execution_count": 34,
   "id": "civilian-microphone",
   "metadata": {
    "execution": {
     "iopub.execute_input": "2021-04-23T11:59:00.667697Z",
     "iopub.status.busy": "2021-04-23T11:59:00.667351Z",
     "iopub.status.idle": "2021-04-23T11:59:00.829370Z",
     "shell.execute_reply": "2021-04-23T11:59:00.829820Z"
    },
    "papermill": {
     "duration": 0.214943,
     "end_time": "2021-04-23T11:59:00.829934",
     "exception": false,
     "start_time": "2021-04-23T11:59:00.614991",
     "status": "completed"
    },
    "tags": []
   },
   "outputs": [
    {
     "name": "stdout",
     "output_type": "stream",
     "text": [
      "60587\n"
     ]
    }
   ],
   "source": [
    "u_random = np.random.rand(len(u_normal))*max_current\n",
    "pset.remove_indices(np.argwhere(abs(u_normal) < u_random).flatten())\n",
    "\n",
    "print(len(pset))"
   ]
  },
  {
   "cell_type": "code",
   "execution_count": 35,
   "id": "material-stand",
   "metadata": {
    "execution": {
     "iopub.execute_input": "2021-04-23T11:59:00.904984Z",
     "iopub.status.busy": "2021-04-23T11:59:00.904643Z",
     "iopub.status.idle": "2021-04-23T11:59:02.120960Z",
     "shell.execute_reply": "2021-04-23T11:59:02.121461Z"
    },
    "papermill": {
     "duration": 1.261496,
     "end_time": "2021-04-23T11:59:02.121580",
     "exception": false,
     "start_time": "2021-04-23T11:59:00.860084",
     "status": "completed"
    },
    "tags": []
   },
   "outputs": [
    {
     "data": {
      "image/png": "[encoded data removed]",
      "text/plain": [
       "<Figure size 720x360 with 2 Axes>"
      ]
     },
     "metadata": {
      "needs_background": "light"
     },
     "output_type": "display_data"
    }
   ],
   "source": [
    "plot_section_sdist()"
   ]
  },
  {
   "cell_type": "markdown",
   "id": "super-amino",
   "metadata": {
    "papermill": {
     "duration": 0.034007,
     "end_time": "2021-04-23T11:59:02.190564",
     "exception": false,
     "start_time": "2021-04-23T11:59:02.156557",
     "status": "completed"
    },
    "tags": []
   },
   "source": [
    "## Prepare output\n",
    "\n",
    "We define an output file and specify the desired output frequency."
   ]
  },
  {
   "cell_type": "code",
   "execution_count": 36,
   "id": "cordless-lesbian",
   "metadata": {
    "execution": {
     "iopub.execute_input": "2021-04-23T11:59:02.261822Z",
     "iopub.status.busy": "2021-04-23T11:59:02.261481Z",
     "iopub.status.idle": "2021-04-23T11:59:02.274502Z",
     "shell.execute_reply": "2021-04-23T11:59:02.274767Z"
    },
    "papermill": {
     "duration": 0.050326,
     "end_time": "2021-04-23T11:59:02.274870",
     "exception": false,
     "start_time": "2021-04-23T11:59:02.224544",
     "status": "completed"
    },
    "tags": []
   },
   "outputs": [
    {
     "name": "stdout",
     "output_type": "stream",
     "text": [
      "../data/raw/tracks_randomvel_mxl_osnap_backward_20190910_N60587_D3650_Rnd14495.nc\n"
     ]
    }
   ],
   "source": [
    "# output_filename = 'Parcels_IFFForwards_1m_June2016_2000.nc'\n",
    "npart = str(len(pset))\n",
    "output_filename = 'tracks_randomvel_mxl_'+sectionname+direction+year_str+month_str+day_str+'_N'+npart+'_D'+days+'_Rnd'+ seed+'.nc'\n",
    "outfile = outpath / output_filename\n",
    "\n",
    "print(outfile)\n",
    "outputfile = pset.ParticleFile(\n",
    "    name=outfile,\n",
    "    outputdt=timedelta(hours=outputdt_in_hours)\n",
    ")"
   ]
  },
  {
   "cell_type": "markdown",
   "id": "vocal-shark",
   "metadata": {
    "papermill": {
     "duration": 0.033985,
     "end_time": "2021-04-23T11:59:02.343393",
     "exception": false,
     "start_time": "2021-04-23T11:59:02.309408",
     "status": "completed"
    },
    "tags": []
   },
   "source": [
    "## Execute the experiment\n",
    "\n",
    "We'll evolve particles, log their positions and variables to the output buffer and finally export the output to a  the file."
   ]
  },
  {
   "cell_type": "markdown",
   "id": "personal-biotechnology",
   "metadata": {
    "papermill": {
     "duration": 0.033848,
     "end_time": "2021-04-23T11:59:02.411104",
     "exception": false,
     "start_time": "2021-04-23T11:59:02.377256",
     "status": "completed"
    },
    "tags": []
   },
   "source": [
    "### Run the experiment"
   ]
  },
  {
   "cell_type": "code",
   "execution_count": 37,
   "id": "julian-publicity",
   "metadata": {
    "execution": {
     "iopub.execute_input": "2021-04-23T11:59:02.484031Z",
     "iopub.status.busy": "2021-04-23T11:59:02.483698Z",
     "iopub.status.idle": "2021-04-24T08:38:52.984397Z",
     "shell.execute_reply": "2021-04-24T08:38:52.983200Z"
    },
    "papermill": {
     "duration": 74390.539464,
     "end_time": "2021-04-24T08:38:52.984518",
     "exception": false,
     "start_time": "2021-04-23T11:59:02.445054",
     "status": "completed"
    },
    "tags": []
   },
   "outputs": [
    {
     "name": "stderr",
     "output_type": "stream",
     "text": [
      "INFO: Temporary output files are stored in ../data/raw/out-OVHTGZHN.\n"
     ]
    },
    {
     "name": "stderr",
     "output_type": "stream",
     "text": [
      "INFO: You can use \"parcels_convert_npydir_to_netcdf ../data/raw/out-OVHTGZHN\" to convert these to a NetCDF file during the run.\n"
     ]
    },
    {
     "name": "stderr",
     "output_type": "stream",
     "text": [
      "\r",
      "N/A% (0 of 315360000.0) |                | Elapsed Time: 0:00:00 ETA:  --:--:--"
     ]
    },
    {
     "name": "stderr",
     "output_type": "stream",
     "text": [
      "\r",
      "  0% (864000.0 of 315360000.0) |         | Elapsed Time: 0:01:57 ETA:  11:53:46"
     ]
    },
    {
     "name": "stderr",
     "output_type": "stream",
     "text": [
      "\r",
      "  0% (1296000.0 of 315360000.0) |        | Elapsed Time: 0:03:55 ETA:  23:44:10"
     ]
    },
    {
     "name": "stderr",
     "output_type": "stream",
     "text": [
      "\r",
      "  0% (1728000.0 of 315360000.0) |        | Elapsed Time: 0:05:52 ETA:  23:41:53"
     ]
    },
    {
     "name": "stderr",
     "output_type": "stream",
     "text": [
      "\r",
      "  0% (2160000.0 of 315360000.0) |        | Elapsed Time: 0:07:50 ETA:  23:45:47"
     ]
    },
    {
     "name": "stderr",
     "output_type": "stream",
     "text": [
      "\r",
      "  0% (2592000.0 of 315360000.0) |        | Elapsed Time: 0:09:48 ETA:  23:46:54"
     ]
    },
    {
     "name": "stderr",
     "output_type": "stream",
     "text": [
      "\r",
      "  0% (3024000.0 of 315360000.0) |        | Elapsed Time: 0:11:47 ETA:  23:44:58"
     ]
    },
    {
     "name": "stderr",
     "output_type": "stream",
     "text": [
      "\r",
      "  1% (3456000.0 of 315360000.0) |        | Elapsed Time: 0:13:44 ETA:  23:37:02"
     ]
    },
    {
     "name": "stderr",
     "output_type": "stream",
     "text": [
      "\r",
      "  1% (3888000.0 of 315360000.0) |        | Elapsed Time: 0:15:42 ETA:  23:36:01"
     ]
    },
    {
     "name": "stderr",
     "output_type": "stream",
     "text": [
      "\r",
      "  1% (4320000.0 of 315360000.0) |        | Elapsed Time: 0:17:40 ETA:  23:34:30"
     ]
    },
    {
     "name": "stderr",
     "output_type": "stream",
     "text": [
      "\r",
      "  1% (4752000.0 of 315360000.0) |        | Elapsed Time: 0:19:38 ETA:  23:36:09"
     ]
    },
    {
     "name": "stderr",
     "output_type": "stream",
     "text": [
      "\r",
      "  1% (5184000.0 of 315360000.0) |        | Elapsed Time: 0:21:36 ETA:  23:28:50"
     ]
    },
    {
     "name": "stderr",
     "output_type": "stream",
     "text": [
      "\r",
      "  1% (5616000.0 of 315360000.0) |        | Elapsed Time: 0:23:34 ETA:  23:33:18"
     ]
    },
    {
     "name": "stderr",
     "output_type": "stream",
     "text": [
      "\r",
      "  1% (6048000.0 of 315360000.0) |        | Elapsed Time: 0:25:33 ETA:  23:32:14"
     ]
    },
    {
     "name": "stderr",
     "output_type": "stream",
     "text": [
      "\r",
      "  2% (6480000.0 of 315360000.0) |        | Elapsed Time: 0:27:30 ETA:  23:23:17"
     ]
    },
    {
     "name": "stderr",
     "output_type": "stream",
     "text": [
      "\r",
      "  2% (6912000.0 of 315360000.0) |        | Elapsed Time: 0:29:28 ETA:  23:17:44"
     ]
    },
    {
     "name": "stderr",
     "output_type": "stream",
     "text": [
      "\r",
      "  2% (7344000.0 of 315360000.0) |        | Elapsed Time: 0:31:25 ETA:  23:17:14"
     ]
    },
    {
     "name": "stderr",
     "output_type": "stream",
     "text": [
      "\r",
      "  2% (7776000.0 of 315360000.0) |        | Elapsed Time: 0:33:24 ETA:  23:22:01"
     ]
    },
    {
     "name": "stderr",
     "output_type": "stream",
     "text": [
      "\r",
      "  2% (8208000.0 of 315360000.0) |        | Elapsed Time: 0:35:23 ETA:  23:32:11"
     ]
    },
    {
     "name": "stderr",
     "output_type": "stream",
     "text": [
      "\r",
      "  2% (8640000.0 of 315360000.0) |        | Elapsed Time: 0:37:21 ETA:  23:16:27"
     ]
    },
    {
     "name": "stderr",
     "output_type": "stream",
     "text": [
      "\r",
      "  2% (9072000.0 of 315360000.0) |        | Elapsed Time: 0:39:19 ETA:  23:20:51"
     ]
    },
    {
     "name": "stderr",
     "output_type": "stream",
     "text": [
      "\r",
      "  3% (9504000.0 of 315360000.0) |        | Elapsed Time: 0:41:18 ETA:  23:23:30"
     ]
    },
    {
     "name": "stderr",
     "output_type": "stream",
     "text": [
      "\r",
      "  3% (9936000.0 of 315360000.0) |        | Elapsed Time: 0:43:16 ETA:  23:08:51"
     ]
    },
    {
     "name": "stderr",
     "output_type": "stream",
     "text": [
      "\r",
      "  3% (10368000.0 of 315360000.0) |       | Elapsed Time: 0:45:15 ETA:  23:12:23"
     ]
    },
    {
     "name": "stderr",
     "output_type": "stream",
     "text": [
      "\r",
      "  3% (10800000.0 of 315360000.0) |       | Elapsed Time: 0:47:13 ETA:  23:09:57"
     ]
    },
    {
     "name": "stderr",
     "output_type": "stream",
     "text": [
      "\r",
      "  3% (11232000.0 of 315360000.0) |       | Elapsed Time: 0:49:11 ETA:  23:01:23"
     ]
    },
    {
     "name": "stderr",
     "output_type": "stream",
     "text": [
      "\r",
      "  3% (11664000.0 of 315360000.0) |       | Elapsed Time: 0:51:08 ETA:  23:00:07"
     ]
    },
    {
     "name": "stderr",
     "output_type": "stream",
     "text": [
      "\r",
      "  3% (12096000.0 of 315360000.0) |       | Elapsed Time: 0:53:07 ETA:  23:03:08"
     ]
    },
    {
     "name": "stderr",
     "output_type": "stream",
     "text": [
      "\r",
      "  3% (12528000.0 of 315360000.0) |       | Elapsed Time: 0:55:04 ETA:  22:56:12"
     ]
    },
    {
     "name": "stderr",
     "output_type": "stream",
     "text": [
      "\r",
      "  4% (12960000.0 of 315360000.0) |       | Elapsed Time: 0:57:02 ETA:  22:56:07"
     ]
    },
    {
     "name": "stderr",
     "output_type": "stream",
     "text": [
      "\r",
      "  4% (13392000.0 of 315360000.0) |       | Elapsed Time: 0:59:01 ETA:  22:57:03"
     ]
    },
    {
     "name": "stderr",
     "output_type": "stream",
     "text": [
      "\r",
      "  4% (13824000.0 of 315360000.0) |       | Elapsed Time: 1:00:58 ETA:  22:52:24"
     ]
    },
    {
     "name": "stderr",
     "output_type": "stream",
     "text": [
      "\r",
      "  4% (14256000.0 of 315360000.0) |       | Elapsed Time: 1:02:56 ETA:  22:46:55"
     ]
    },
    {
     "name": "stderr",
     "output_type": "stream",
     "text": [
      "\r",
      "  4% (14688000.0 of 315360000.0) |       | Elapsed Time: 1:04:55 ETA:  22:56:23"
     ]
    },
    {
     "name": "stderr",
     "output_type": "stream",
     "text": [
      "\r",
      "  4% (15120000.0 of 315360000.0) |       | Elapsed Time: 1:06:54 ETA:  22:56:17"
     ]
    },
    {
     "name": "stderr",
     "output_type": "stream",
     "text": [
      "\r",
      "  4% (15552000.0 of 315360000.0) |       | Elapsed Time: 1:08:51 ETA:  22:42:47"
     ]
    },
    {
     "name": "stderr",
     "output_type": "stream",
     "text": [
      "\r",
      "  5% (15984000.0 of 315360000.0) |       | Elapsed Time: 1:10:49 ETA:  22:43:03"
     ]
    },
    {
     "name": "stderr",
     "output_type": "stream",
     "text": [
      "\r",
      "  5% (16416000.0 of 315360000.0) |       | Elapsed Time: 1:12:47 ETA:  22:39:25"
     ]
    },
    {
     "name": "stderr",
     "output_type": "stream",
     "text": [
      "\r",
      "  5% (16848000.0 of 315360000.0) |       | Elapsed Time: 1:14:46 ETA:  22:44:00"
     ]
    },
    {
     "name": "stderr",
     "output_type": "stream",
     "text": [
      "\r",
      "  5% (17280000.0 of 315360000.0) |       | Elapsed Time: 1:16:44 ETA:  22:45:01"
     ]
    },
    {
     "name": "stderr",
     "output_type": "stream",
     "text": [
      "\r",
      "  5% (17712000.0 of 315360000.0) |       | Elapsed Time: 1:18:43 ETA:  22:40:50"
     ]
    },
    {
     "name": "stderr",
     "output_type": "stream",
     "text": [
      "\r",
      "  5% (18144000.0 of 315360000.0) |       | Elapsed Time: 1:20:41 ETA:  22:33:39"
     ]
    },
    {
     "name": "stderr",
     "output_type": "stream",
     "text": [
      "\r",
      "  5% (18576000.0 of 315360000.0) |       | Elapsed Time: 1:22:39 ETA:  22:31:47"
     ]
    },
    {
     "name": "stderr",
     "output_type": "stream",
     "text": [
      "\r",
      "  6% (19008000.0 of 315360000.0) |       | Elapsed Time: 1:24:36 ETA:  22:19:35"
     ]
    },
    {
     "name": "stderr",
     "output_type": "stream",
     "text": [
      "\r",
      "  6% (19440000.0 of 315360000.0) |       | Elapsed Time: 1:26:34 ETA:  22:20:11"
     ]
    },
    {
     "name": "stderr",
     "output_type": "stream",
     "text": [
      "\r",
      "  6% (19872000.0 of 315360000.0) |       | Elapsed Time: 1:28:31 ETA:  22:13:54"
     ]
    },
    {
     "name": "stderr",
     "output_type": "stream",
     "text": [
      "\r",
      "  6% (20304000.0 of 315360000.0) |       | Elapsed Time: 1:30:29 ETA:  22:24:03"
     ]
    },
    {
     "name": "stderr",
     "output_type": "stream",
     "text": [
      "\r",
      "  6% (20736000.0 of 315360000.0) |       | Elapsed Time: 1:32:26 ETA:  22:07:33"
     ]
    },
    {
     "name": "stderr",
     "output_type": "stream",
     "text": [
      "\r",
      "  6% (21168000.0 of 315360000.0) |       | Elapsed Time: 1:34:23 ETA:  22:09:20"
     ]
    },
    {
     "name": "stderr",
     "output_type": "stream",
     "text": [
      "\r",
      "  6% (21600000.0 of 315360000.0) |       | Elapsed Time: 1:36:21 ETA:  22:26:03"
     ]
    },
    {
     "name": "stderr",
     "output_type": "stream",
     "text": [
      "\r",
      "  6% (22032000.0 of 315360000.0) |       | Elapsed Time: 1:38:19 ETA:  22:06:58"
     ]
    },
    {
     "name": "stderr",
     "output_type": "stream",
     "text": [
      "\r",
      "  7% (22464000.0 of 315360000.0) |       | Elapsed Time: 1:40:16 ETA:  22:07:53"
     ]
    },
    {
     "name": "stderr",
     "output_type": "stream",
     "text": [
      "\r",
      "  7% (22896000.0 of 315360000.0) |       | Elapsed Time: 1:42:14 ETA:  22:07:17"
     ]
    },
    {
     "name": "stderr",
     "output_type": "stream",
     "text": [
      "\r",
      "  7% (23328000.0 of 315360000.0) |       | Elapsed Time: 1:44:12 ETA:  22:12:23"
     ]
    },
    {
     "name": "stderr",
     "output_type": "stream",
     "text": [
      "\r",
      "  7% (23760000.0 of 315360000.0) |       | Elapsed Time: 1:46:11 ETA:  22:13:41"
     ]
    },
    {
     "name": "stderr",
     "output_type": "stream",
     "text": [
      "\r",
      "  7% (24192000.0 of 315360000.0) |       | Elapsed Time: 1:48:08 ETA:  22:03:09"
     ]
    },
    {
     "name": "stderr",
     "output_type": "stream",
     "text": [
      "\r",
      "  7% (24624000.0 of 315360000.0) |       | Elapsed Time: 1:50:06 ETA:  21:57:09"
     ]
    },
    {
     "name": "stderr",
     "output_type": "stream",
     "text": [
      "\r",
      "  7% (25056000.0 of 315360000.0) |       | Elapsed Time: 1:52:03 ETA:  21:55:19"
     ]
    },
    {
     "name": "stderr",
     "output_type": "stream",
     "text": [
      "\r",
      "  8% (25488000.0 of 315360000.0) |       | Elapsed Time: 1:54:01 ETA:  21:54:39"
     ]
    },
    {
     "name": "stderr",
     "output_type": "stream",
     "text": [
      "\r",
      "  8% (25920000.0 of 315360000.0) |       | Elapsed Time: 1:55:58 ETA:  21:47:37"
     ]
    },
    {
     "name": "stderr",
     "output_type": "stream",
     "text": [
      "\r",
      "  8% (26352000.0 of 315360000.0) |       | Elapsed Time: 1:57:55 ETA:  21:49:20"
     ]
    },
    {
     "name": "stderr",
     "output_type": "stream",
     "text": [
      "\r",
      "  8% (26784000.0 of 315360000.0) |       | Elapsed Time: 1:59:54 ETA:  21:59:26"
     ]
    },
    {
     "name": "stderr",
     "output_type": "stream",
     "text": [
      "\r",
      "  8% (27216000.0 of 315360000.0) |       | Elapsed Time: 2:01:51 ETA:  21:46:02"
     ]
    },
    {
     "name": "stderr",
     "output_type": "stream",
     "text": [
      "\r",
      "  8% (27648000.0 of 315360000.0) |       | Elapsed Time: 2:03:49 ETA:  21:46:47"
     ]
    },
    {
     "name": "stderr",
     "output_type": "stream",
     "text": [
      "\r",
      "  8% (28080000.0 of 315360000.0) |       | Elapsed Time: 2:05:46 ETA:  21:38:50"
     ]
    },
    {
     "name": "stderr",
     "output_type": "stream",
     "text": [
      "\r",
      "  9% (28512000.0 of 315360000.0) |       | Elapsed Time: 2:07:44 ETA:  21:40:30"
     ]
    },
    {
     "name": "stderr",
     "output_type": "stream",
     "text": [
      "\r",
      "  9% (28944000.0 of 315360000.0) |       | Elapsed Time: 2:09:42 ETA:  21:43:22"
     ]
    },
    {
     "name": "stderr",
     "output_type": "stream",
     "text": [
      "\r",
      "  9% (29376000.0 of 315360000.0) |       | Elapsed Time: 2:11:39 ETA:  21:36:50"
     ]
    },
    {
     "name": "stderr",
     "output_type": "stream",
     "text": [
      "\r",
      "  9% (29808000.0 of 315360000.0) |       | Elapsed Time: 2:13:36 ETA:  21:30:28"
     ]
    },
    {
     "name": "stderr",
     "output_type": "stream",
     "text": [
      "\r",
      "  9% (30240000.0 of 315360000.0) |       | Elapsed Time: 2:15:34 ETA:  21:35:58"
     ]
    },
    {
     "name": "stderr",
     "output_type": "stream",
     "text": [
      "\r",
      "  9% (30672000.0 of 315360000.0) |       | Elapsed Time: 2:17:32 ETA:  21:32:48"
     ]
    },
    {
     "name": "stderr",
     "output_type": "stream",
     "text": [
      "\r",
      "  9% (31104000.0 of 315360000.0) |       | Elapsed Time: 2:19:29 ETA:  21:22:53"
     ]
    },
    {
     "name": "stderr",
     "output_type": "stream",
     "text": [
      "\r",
      " 10% (31536000.0 of 315360000.0) |       | Elapsed Time: 2:21:26 ETA:  21:25:38"
     ]
    },
    {
     "name": "stderr",
     "output_type": "stream",
     "text": [
      "\r",
      " 10% (31968000.0 of 315360000.0) |       | Elapsed Time: 2:23:24 ETA:  21:23:15"
     ]
    },
    {
     "name": "stderr",
     "output_type": "stream",
     "text": [
      "\r",
      " 10% (32400000.0 of 315360000.0) |       | Elapsed Time: 2:25:21 ETA:  21:24:52"
     ]
    },
    {
     "name": "stderr",
     "output_type": "stream",
     "text": [
      "\r",
      " 10% (32832000.0 of 315360000.0) |       | Elapsed Time: 2:27:19 ETA:  21:20:15"
     ]
    },
    {
     "name": "stderr",
     "output_type": "stream",
     "text": [
      "\r",
      " 10% (33264000.0 of 315360000.0) |       | Elapsed Time: 2:29:16 ETA:  21:19:40"
     ]
    },
    {
     "name": "stderr",
     "output_type": "stream",
     "text": [
      "\r",
      " 10% (33696000.0 of 315360000.0) |       | Elapsed Time: 2:31:14 ETA:  21:12:10"
     ]
    },
    {
     "name": "stderr",
     "output_type": "stream",
     "text": [
      "\r",
      " 10% (34128000.0 of 315360000.0) |       | Elapsed Time: 2:33:11 ETA:  21:10:48"
     ]
    },
    {
     "name": "stderr",
     "output_type": "stream",
     "text": [
      "\r",
      " 10% (34560000.0 of 315360000.0) |       | Elapsed Time: 2:35:08 ETA:  21:07:58"
     ]
    },
    {
     "name": "stderr",
     "output_type": "stream",
     "text": [
      "\r",
      " 11% (34992000.0 of 315360000.0) |       | Elapsed Time: 2:37:05 ETA:  21:13:32"
     ]
    },
    {
     "name": "stderr",
     "output_type": "stream",
     "text": [
      "\r",
      " 11% (35424000.0 of 315360000.0) |       | Elapsed Time: 2:39:03 ETA:  21:07:57"
     ]
    },
    {
     "name": "stderr",
     "output_type": "stream",
     "text": [
      "\r",
      " 11% (35856000.0 of 315360000.0) |       | Elapsed Time: 2:41:02 ETA:  21:26:04"
     ]
    },
    {
     "name": "stderr",
     "output_type": "stream",
     "text": [
      "\r",
      " 11% (36288000.0 of 315360000.0) |       | Elapsed Time: 2:43:00 ETA:  21:12:12"
     ]
    },
    {
     "name": "stderr",
     "output_type": "stream",
     "text": [
      "\r",
      " 11% (36720000.0 of 315360000.0) |       | Elapsed Time: 2:44:57 ETA:  20:54:16"
     ]
    },
    {
     "name": "stderr",
     "output_type": "stream",
     "text": [
      "\r",
      " 11% (37152000.0 of 315360000.0) |       | Elapsed Time: 2:46:55 ETA:  21:02:46"
     ]
    },
    {
     "name": "stderr",
     "output_type": "stream",
     "text": [
      "\r",
      " 11% (37584000.0 of 315360000.0) |       | Elapsed Time: 2:48:52 ETA:  21:03:29"
     ]
    },
    {
     "name": "stderr",
     "output_type": "stream",
     "text": [
      "\r",
      " 12% (38016000.0 of 315360000.0) |       | Elapsed Time: 2:50:49 ETA:  20:50:08"
     ]
    },
    {
     "name": "stderr",
     "output_type": "stream",
     "text": [
      "\r",
      " 12% (38448000.0 of 315360000.0) |       | Elapsed Time: 2:52:46 ETA:  20:46:51"
     ]
    },
    {
     "name": "stderr",
     "output_type": "stream",
     "text": [
      "\r",
      " 12% (38880000.0 of 315360000.0) |       | Elapsed Time: 2:54:43 ETA:  20:48:12"
     ]
    },
    {
     "name": "stderr",
     "output_type": "stream",
     "text": [
      "\r",
      " 12% (39312000.0 of 315360000.0) |       | Elapsed Time: 2:56:40 ETA:  20:40:50"
     ]
    },
    {
     "name": "stderr",
     "output_type": "stream",
     "text": [
      "\r",
      " 12% (39744000.0 of 315360000.0) |       | Elapsed Time: 2:58:36 ETA:  20:37:03"
     ]
    },
    {
     "name": "stderr",
     "output_type": "stream",
     "text": [
      "\r",
      " 12% (40176000.0 of 315360000.0) |       | Elapsed Time: 3:00:33 ETA:  20:39:57"
     ]
    },
    {
     "name": "stderr",
     "output_type": "stream",
     "text": [
      "\r",
      " 12% (40608000.0 of 315360000.0) |       | Elapsed Time: 3:02:29 ETA:  20:38:08"
     ]
    },
    {
     "name": "stderr",
     "output_type": "stream",
     "text": [
      "\r",
      " 13% (41040000.0 of 315360000.0) |       | Elapsed Time: 3:04:26 ETA:  20:36:21"
     ]
    },
    {
     "name": "stderr",
     "output_type": "stream",
     "text": [
      "\r",
      " 13% (41472000.0 of 315360000.0) |       | Elapsed Time: 3:06:24 ETA:  20:39:31"
     ]
    },
    {
     "name": "stderr",
     "output_type": "stream",
     "text": [
      "\r",
      " 13% (41904000.0 of 315360000.0) |       | Elapsed Time: 3:08:20 ETA:  20:33:01"
     ]
    },
    {
     "name": "stderr",
     "output_type": "stream",
     "text": [
      "\r",
      " 13% (42336000.0 of 315360000.0) |       | Elapsed Time: 3:10:18 ETA:  20:37:27"
     ]
    },
    {
     "name": "stderr",
     "output_type": "stream",
     "text": [
      "\r",
      " 13% (42768000.0 of 315360000.0) |       | Elapsed Time: 3:12:15 ETA:  20:32:17"
     ]
    },
    {
     "name": "stderr",
     "output_type": "stream",
     "text": [
      "\r",
      " 13% (43200000.0 of 315360000.0) |       | Elapsed Time: 3:14:12 ETA:  20:24:58"
     ]
    },
    {
     "name": "stderr",
     "output_type": "stream",
     "text": [
      "\r",
      " 13% (43632000.0 of 315360000.0) |       | Elapsed Time: 3:16:08 ETA:  20:19:42"
     ]
    },
    {
     "name": "stderr",
     "output_type": "stream",
     "text": [
      "\r",
      " 13% (44064000.0 of 315360000.0) |       | Elapsed Time: 3:18:05 ETA:  20:22:56"
     ]
    },
    {
     "name": "stderr",
     "output_type": "stream",
     "text": [
      "\r",
      " 14% (44496000.0 of 315360000.0) |       | Elapsed Time: 3:20:03 ETA:  20:33:09"
     ]
    },
    {
     "name": "stderr",
     "output_type": "stream",
     "text": [
      "\r",
      " 14% (44928000.0 of 315360000.0) |       | Elapsed Time: 3:22:01 ETA:  20:30:46"
     ]
    },
    {
     "name": "stderr",
     "output_type": "stream",
     "text": [
      "\r",
      " 14% (45360000.0 of 315360000.0) |#      | Elapsed Time: 3:23:58 ETA:  20:15:18"
     ]
    },
    {
     "name": "stderr",
     "output_type": "stream",
     "text": [
      "\r",
      " 14% (45792000.0 of 315360000.0) |#      | Elapsed Time: 3:25:55 ETA:  20:17:33"
     ]
    },
    {
     "name": "stderr",
     "output_type": "stream",
     "text": [
      "\r",
      " 14% (46224000.0 of 315360000.0) |#      | Elapsed Time: 3:27:52 ETA:  20:15:32"
     ]
    },
    {
     "name": "stderr",
     "output_type": "stream",
     "text": [
      "\r",
      " 14% (46656000.0 of 315360000.0) |#      | Elapsed Time: 3:29:49 ETA:  20:18:08"
     ]
    },
    {
     "name": "stderr",
     "output_type": "stream",
     "text": [
      "\r",
      " 14% (47088000.0 of 315360000.0) |#      | Elapsed Time: 3:31:46 ETA:  20:04:31"
     ]
    },
    {
     "name": "stderr",
     "output_type": "stream",
     "text": [
      "\r",
      " 15% (47520000.0 of 315360000.0) |#      | Elapsed Time: 3:33:42 ETA:  20:03:09"
     ]
    },
    {
     "name": "stderr",
     "output_type": "stream",
     "text": [
      "\r",
      " 15% (47952000.0 of 315360000.0) |#      | Elapsed Time: 3:35:39 ETA:  20:03:55"
     ]
    },
    {
     "name": "stderr",
     "output_type": "stream",
     "text": [
      "\r",
      " 15% (48384000.0 of 315360000.0) |#      | Elapsed Time: 3:37:35 ETA:  20:00:56"
     ]
    },
    {
     "name": "stderr",
     "output_type": "stream",
     "text": [
      "\r",
      " 15% (48816000.0 of 315360000.0) |#      | Elapsed Time: 3:39:33 ETA:  20:04:40"
     ]
    },
    {
     "name": "stderr",
     "output_type": "stream",
     "text": [
      "\r",
      " 15% (49248000.0 of 315360000.0) |#      | Elapsed Time: 3:41:29 ETA:  19:57:11"
     ]
    },
    {
     "name": "stderr",
     "output_type": "stream",
     "text": [
      "\r",
      " 15% (49680000.0 of 315360000.0) |#      | Elapsed Time: 3:43:26 ETA:  20:00:51"
     ]
    },
    {
     "name": "stderr",
     "output_type": "stream",
     "text": [
      "\r",
      " 15% (50112000.0 of 315360000.0) |#      | Elapsed Time: 3:45:24 ETA:  19:59:18"
     ]
    },
    {
     "name": "stderr",
     "output_type": "stream",
     "text": [
      "\r",
      " 16% (50544000.0 of 315360000.0) |#      | Elapsed Time: 3:47:22 ETA:  20:14:38"
     ]
    },
    {
     "name": "stderr",
     "output_type": "stream",
     "text": [
      "\r",
      " 16% (50976000.0 of 315360000.0) |#      | Elapsed Time: 3:49:20 ETA:  19:59:09"
     ]
    },
    {
     "name": "stderr",
     "output_type": "stream",
     "text": [
      "\r",
      " 16% (51408000.0 of 315360000.0) |#      | Elapsed Time: 3:51:17 ETA:  19:56:13"
     ]
    },
    {
     "name": "stderr",
     "output_type": "stream",
     "text": [
      "\r",
      " 16% (51840000.0 of 315360000.0) |#      | Elapsed Time: 3:53:15 ETA:  19:50:32"
     ]
    },
    {
     "name": "stderr",
     "output_type": "stream",
     "text": [
      "\r",
      " 16% (52272000.0 of 315360000.0) |#      | Elapsed Time: 3:55:12 ETA:  19:52:01"
     ]
    },
    {
     "name": "stderr",
     "output_type": "stream",
     "text": [
      "\r",
      " 16% (52704000.0 of 315360000.0) |#      | Elapsed Time: 3:57:09 ETA:  19:46:34"
     ]
    },
    {
     "name": "stderr",
     "output_type": "stream",
     "text": [
      "\r",
      " 16% (53136000.0 of 315360000.0) |#      | Elapsed Time: 3:59:05 ETA:  19:37:01"
     ]
    },
    {
     "name": "stderr",
     "output_type": "stream",
     "text": [
      "\r",
      " 16% (53568000.0 of 315360000.0) |#      | Elapsed Time: 4:01:02 ETA:  19:35:44"
     ]
    },
    {
     "name": "stderr",
     "output_type": "stream",
     "text": [
      "\r",
      " 17% (54000000.0 of 315360000.0) |#      | Elapsed Time: 4:02:59 ETA:  19:41:01"
     ]
    },
    {
     "name": "stderr",
     "output_type": "stream",
     "text": [
      "\r",
      " 17% (54432000.0 of 315360000.0) |#      | Elapsed Time: 4:04:55 ETA:  19:32:14"
     ]
    },
    {
     "name": "stderr",
     "output_type": "stream",
     "text": [
      "\r",
      " 17% (54864000.0 of 315360000.0) |#      | Elapsed Time: 4:06:52 ETA:  19:31:16"
     ]
    },
    {
     "name": "stderr",
     "output_type": "stream",
     "text": [
      "\r",
      " 17% (55296000.0 of 315360000.0) |#      | Elapsed Time: 4:08:48 ETA:  19:28:03"
     ]
    },
    {
     "name": "stderr",
     "output_type": "stream",
     "text": [
      "\r",
      " 17% (55728000.0 of 315360000.0) |#      | Elapsed Time: 4:10:46 ETA:  19:36:53"
     ]
    },
    {
     "name": "stderr",
     "output_type": "stream",
     "text": [
      "\r",
      " 17% (56160000.0 of 315360000.0) |#      | Elapsed Time: 4:12:42 ETA:  19:24:48"
     ]
    },
    {
     "name": "stderr",
     "output_type": "stream",
     "text": [
      "\r",
      " 17% (56592000.0 of 315360000.0) |#      | Elapsed Time: 4:14:39 ETA:  19:25:52"
     ]
    },
    {
     "name": "stderr",
     "output_type": "stream",
     "text": [
      "\r",
      " 18% (57024000.0 of 315360000.0) |#      | Elapsed Time: 4:16:36 ETA:  19:29:21"
     ]
    },
    {
     "name": "stderr",
     "output_type": "stream",
     "text": [
      "\r",
      " 18% (57456000.0 of 315360000.0) |#      | Elapsed Time: 4:18:32 ETA:  19:13:15"
     ]
    },
    {
     "name": "stderr",
     "output_type": "stream",
     "text": [
      "\r",
      " 18% (57888000.0 of 315360000.0) |#      | Elapsed Time: 4:20:28 ETA:  19:12:15"
     ]
    },
    {
     "name": "stderr",
     "output_type": "stream",
     "text": [
      "\r",
      " 18% (58320000.0 of 315360000.0) |#      | Elapsed Time: 4:22:24 ETA:  19:08:20"
     ]
    },
    {
     "name": "stderr",
     "output_type": "stream",
     "text": [
      "\r",
      " 18% (58752000.0 of 315360000.0) |#      | Elapsed Time: 4:24:20 ETA:  19:09:36"
     ]
    },
    {
     "name": "stderr",
     "output_type": "stream",
     "text": [
      "\r",
      " 18% (59184000.0 of 315360000.0) |#      | Elapsed Time: 4:26:16 ETA:  19:05:18"
     ]
    },
    {
     "name": "stderr",
     "output_type": "stream",
     "text": [
      "\r",
      " 18% (59616000.0 of 315360000.0) |#      | Elapsed Time: 4:28:13 ETA:  19:09:36"
     ]
    },
    {
     "name": "stderr",
     "output_type": "stream",
     "text": [
      "\r",
      " 19% (60048000.0 of 315360000.0) |#      | Elapsed Time: 4:30:08 ETA:  18:55:45"
     ]
    },
    {
     "name": "stderr",
     "output_type": "stream",
     "text": [
      "\r",
      " 19% (60480000.0 of 315360000.0) |#      | Elapsed Time: 4:32:03 ETA:  18:55:39"
     ]
    },
    {
     "name": "stderr",
     "output_type": "stream",
     "text": [
      "\r",
      " 19% (60912000.0 of 315360000.0) |#      | Elapsed Time: 4:33:59 ETA:  18:52:16"
     ]
    },
    {
     "name": "stderr",
     "output_type": "stream",
     "text": [
      "\r",
      " 19% (61344000.0 of 315360000.0) |#      | Elapsed Time: 4:35:55 ETA:  18:56:14"
     ]
    },
    {
     "name": "stderr",
     "output_type": "stream",
     "text": [
      "\r",
      " 19% (61776000.0 of 315360000.0) |#      | Elapsed Time: 4:37:50 ETA:  18:48:23"
     ]
    },
    {
     "name": "stderr",
     "output_type": "stream",
     "text": [
      "\r",
      " 19% (62208000.0 of 315360000.0) |#      | Elapsed Time: 4:39:46 ETA:  18:53:19"
     ]
    },
    {
     "name": "stderr",
     "output_type": "stream",
     "text": [
      "\r",
      " 19% (62640000.0 of 315360000.0) |#      | Elapsed Time: 4:41:41 ETA:  18:44:04"
     ]
    },
    {
     "name": "stderr",
     "output_type": "stream",
     "text": [
      "\r",
      " 20% (63072000.0 of 315360000.0) |#      | Elapsed Time: 4:43:37 ETA:  18:41:22"
     ]
    },
    {
     "name": "stderr",
     "output_type": "stream",
     "text": [
      "\r",
      " 20% (63504000.0 of 315360000.0) |#      | Elapsed Time: 4:45:32 ETA:  18:36:54"
     ]
    },
    {
     "name": "stderr",
     "output_type": "stream",
     "text": [
      "\r",
      " 20% (63936000.0 of 315360000.0) |#      | Elapsed Time: 4:47:27 ETA:  18:40:48"
     ]
    },
    {
     "name": "stderr",
     "output_type": "stream",
     "text": [
      "\r",
      " 20% (64368000.0 of 315360000.0) |#      | Elapsed Time: 4:49:22 ETA:  18:33:22"
     ]
    },
    {
     "name": "stderr",
     "output_type": "stream",
     "text": [
      "\r",
      " 20% (64800000.0 of 315360000.0) |#      | Elapsed Time: 4:51:18 ETA:  18:36:12"
     ]
    },
    {
     "name": "stderr",
     "output_type": "stream",
     "text": [
      "\r",
      " 20% (65232000.0 of 315360000.0) |#      | Elapsed Time: 4:53:12 ETA:  18:25:47"
     ]
    },
    {
     "name": "stderr",
     "output_type": "stream",
     "text": [
      "\r",
      " 20% (65664000.0 of 315360000.0) |#      | Elapsed Time: 4:55:08 ETA:  18:32:40"
     ]
    },
    {
     "name": "stderr",
     "output_type": "stream",
     "text": [
      "\r",
      " 20% (66096000.0 of 315360000.0) |#      | Elapsed Time: 4:57:03 ETA:  18:25:30"
     ]
    },
    {
     "name": "stderr",
     "output_type": "stream",
     "text": [
      "\r",
      " 21% (66528000.0 of 315360000.0) |#      | Elapsed Time: 4:58:57 ETA:  18:21:06"
     ]
    },
    {
     "name": "stderr",
     "output_type": "stream",
     "text": [
      "\r",
      " 21% (66960000.0 of 315360000.0) |#      | Elapsed Time: 5:00:52 ETA:  18:23:41"
     ]
    },
    {
     "name": "stderr",
     "output_type": "stream",
     "text": [
      "\r",
      " 21% (67392000.0 of 315360000.0) |#      | Elapsed Time: 5:02:47 ETA:  18:15:22"
     ]
    },
    {
     "name": "stderr",
     "output_type": "stream",
     "text": [
      "\r",
      " 21% (67824000.0 of 315360000.0) |#      | Elapsed Time: 5:04:42 ETA:  18:18:05"
     ]
    },
    {
     "name": "stderr",
     "output_type": "stream",
     "text": [
      "\r",
      " 21% (68256000.0 of 315360000.0) |#      | Elapsed Time: 5:06:37 ETA:  18:18:52"
     ]
    },
    {
     "name": "stderr",
     "output_type": "stream",
     "text": [
      "\r",
      " 21% (68688000.0 of 315360000.0) |#      | Elapsed Time: 5:08:32 ETA:  18:15:35"
     ]
    },
    {
     "name": "stderr",
     "output_type": "stream",
     "text": [
      "\r",
      " 21% (69120000.0 of 315360000.0) |#      | Elapsed Time: 5:10:27 ETA:  18:10:20"
     ]
    },
    {
     "name": "stderr",
     "output_type": "stream",
     "text": [
      "\r",
      " 22% (69552000.0 of 315360000.0) |#      | Elapsed Time: 5:12:22 ETA:  18:13:52"
     ]
    },
    {
     "name": "stderr",
     "output_type": "stream",
     "text": [
      "\r",
      " 22% (69984000.0 of 315360000.0) |#      | Elapsed Time: 5:14:18 ETA:  18:11:59"
     ]
    },
    {
     "name": "stderr",
     "output_type": "stream",
     "text": [
      "\r",
      " 22% (70416000.0 of 315360000.0) |#      | Elapsed Time: 5:16:12 ETA:  18:00:04"
     ]
    },
    {
     "name": "stderr",
     "output_type": "stream",
     "text": [
      "\r",
      " 22% (70848000.0 of 315360000.0) |#      | Elapsed Time: 5:18:07 ETA:  18:05:01"
     ]
    },
    {
     "name": "stderr",
     "output_type": "stream",
     "text": [
      "\r",
      " 22% (71280000.0 of 315360000.0) |#      | Elapsed Time: 5:20:03 ETA:  18:10:05"
     ]
    },
    {
     "name": "stderr",
     "output_type": "stream",
     "text": [
      "\r",
      " 22% (71712000.0 of 315360000.0) |#      | Elapsed Time: 5:21:57 ETA:  17:55:02"
     ]
    },
    {
     "name": "stderr",
     "output_type": "stream",
     "text": [
      "\r",
      " 22% (72144000.0 of 315360000.0) |#      | Elapsed Time: 5:23:51 ETA:  17:49:04"
     ]
    },
    {
     "name": "stderr",
     "output_type": "stream",
     "text": [
      "\r",
      " 23% (72576000.0 of 315360000.0) |#      | Elapsed Time: 5:25:46 ETA:  17:55:33"
     ]
    },
    {
     "name": "stderr",
     "output_type": "stream",
     "text": [
      "\r",
      " 23% (73008000.0 of 315360000.0) |#      | Elapsed Time: 5:27:41 ETA:  17:52:02"
     ]
    },
    {
     "name": "stderr",
     "output_type": "stream",
     "text": [
      "\r",
      " 23% (73440000.0 of 315360000.0) |#      | Elapsed Time: 5:29:35 ETA:  17:51:37"
     ]
    },
    {
     "name": "stderr",
     "output_type": "stream",
     "text": [
      "\r",
      " 23% (73872000.0 of 315360000.0) |#      | Elapsed Time: 5:31:30 ETA:  17:47:02"
     ]
    },
    {
     "name": "stderr",
     "output_type": "stream",
     "text": [
      "\r",
      " 23% (74304000.0 of 315360000.0) |#      | Elapsed Time: 5:33:23 ETA:  17:34:57"
     ]
    },
    {
     "name": "stderr",
     "output_type": "stream",
     "text": [
      "\r",
      " 23% (74736000.0 of 315360000.0) |#      | Elapsed Time: 5:35:17 ETA:  17:36:02"
     ]
    },
    {
     "name": "stderr",
     "output_type": "stream",
     "text": [
      "\r",
      " 23% (75168000.0 of 315360000.0) |#      | Elapsed Time: 5:37:11 ETA:  17:34:00"
     ]
    },
    {
     "name": "stderr",
     "output_type": "stream",
     "text": [
      "\r",
      " 23% (75600000.0 of 315360000.0) |#      | Elapsed Time: 5:39:06 ETA:  17:42:48"
     ]
    },
    {
     "name": "stderr",
     "output_type": "stream",
     "text": [
      "\r",
      " 24% (76032000.0 of 315360000.0) |#      | Elapsed Time: 5:41:00 ETA:  17:36:20"
     ]
    },
    {
     "name": "stderr",
     "output_type": "stream",
     "text": [
      "\r",
      " 24% (76464000.0 of 315360000.0) |#      | Elapsed Time: 5:42:54 ETA:  17:30:25"
     ]
    },
    {
     "name": "stderr",
     "output_type": "stream",
     "text": [
      "\r",
      " 24% (76896000.0 of 315360000.0) |#      | Elapsed Time: 5:44:48 ETA:  17:26:01"
     ]
    },
    {
     "name": "stderr",
     "output_type": "stream",
     "text": [
      "\r",
      " 24% (77328000.0 of 315360000.0) |#      | Elapsed Time: 5:46:42 ETA:  17:25:21"
     ]
    },
    {
     "name": "stderr",
     "output_type": "stream",
     "text": [
      "\r",
      " 24% (77760000.0 of 315360000.0) |#      | Elapsed Time: 5:48:36 ETA:  17:24:41"
     ]
    },
    {
     "name": "stderr",
     "output_type": "stream",
     "text": [
      "\r",
      " 24% (78192000.0 of 315360000.0) |#      | Elapsed Time: 5:50:30 ETA:  17:21:39"
     ]
    },
    {
     "name": "stderr",
     "output_type": "stream",
     "text": [
      "\r",
      " 24% (78624000.0 of 315360000.0) |#      | Elapsed Time: 5:52:23 ETA:  17:18:24"
     ]
    },
    {
     "name": "stderr",
     "output_type": "stream",
     "text": [
      "\r",
      " 25% (79056000.0 of 315360000.0) |#      | Elapsed Time: 5:54:17 ETA:  17:13:51"
     ]
    },
    {
     "name": "stderr",
     "output_type": "stream",
     "text": [
      "\r",
      " 25% (79488000.0 of 315360000.0) |#      | Elapsed Time: 5:56:10 ETA:  17:07:33"
     ]
    },
    {
     "name": "stderr",
     "output_type": "stream",
     "text": [
      "\r",
      " 25% (79920000.0 of 315360000.0) |#      | Elapsed Time: 5:58:03 ETA:  17:11:46"
     ]
    },
    {
     "name": "stderr",
     "output_type": "stream",
     "text": [
      "\r",
      " 25% (80352000.0 of 315360000.0) |#      | Elapsed Time: 5:59:56 ETA:  17:06:42"
     ]
    },
    {
     "name": "stderr",
     "output_type": "stream",
     "text": [
      "\r",
      " 25% (80784000.0 of 315360000.0) |#      | Elapsed Time: 6:01:49 ETA:  17:00:50"
     ]
    },
    {
     "name": "stderr",
     "output_type": "stream",
     "text": [
      "\r",
      " 25% (81216000.0 of 315360000.0) |#      | Elapsed Time: 6:03:42 ETA:  16:55:03"
     ]
    },
    {
     "name": "stderr",
     "output_type": "stream",
     "text": [
      "\r",
      " 25% (81648000.0 of 315360000.0) |#      | Elapsed Time: 6:05:35 ETA:  16:58:26"
     ]
    },
    {
     "name": "stderr",
     "output_type": "stream",
     "text": [
      "\r",
      " 26% (82080000.0 of 315360000.0) |#      | Elapsed Time: 6:07:27 ETA:  16:52:29"
     ]
    },
    {
     "name": "stderr",
     "output_type": "stream",
     "text": [
      "\r",
      " 26% (82512000.0 of 315360000.0) |#      | Elapsed Time: 6:09:17 ETA:  16:24:21"
     ]
    },
    {
     "name": "stderr",
     "output_type": "stream",
     "text": [
      "\r",
      " 26% (82944000.0 of 315360000.0) |#      | Elapsed Time: 6:11:08 ETA:  16:39:41"
     ]
    },
    {
     "name": "stderr",
     "output_type": "stream",
     "text": [
      "\r",
      " 26% (83376000.0 of 315360000.0) |#      | Elapsed Time: 6:13:00 ETA:  16:38:04"
     ]
    },
    {
     "name": "stderr",
     "output_type": "stream",
     "text": [
      "\r",
      " 26% (83808000.0 of 315360000.0) |#      | Elapsed Time: 6:14:50 ETA:  16:28:14"
     ]
    },
    {
     "name": "stderr",
     "output_type": "stream",
     "text": [
      "\r",
      " 26% (84240000.0 of 315360000.0) |#      | Elapsed Time: 6:16:41 ETA:  16:26:19"
     ]
    },
    {
     "name": "stderr",
     "output_type": "stream",
     "text": [
      "\r",
      " 26% (84672000.0 of 315360000.0) |#      | Elapsed Time: 6:18:30 ETA:  16:14:50"
     ]
    },
    {
     "name": "stderr",
     "output_type": "stream",
     "text": [
      "\r",
      " 26% (85104000.0 of 315360000.0) |#      | Elapsed Time: 6:20:20 ETA:  16:17:13"
     ]
    },
    {
     "name": "stderr",
     "output_type": "stream",
     "text": [
      "\r",
      " 27% (85536000.0 of 315360000.0) |#      | Elapsed Time: 6:22:10 ETA:  16:11:00"
     ]
    },
    {
     "name": "stderr",
     "output_type": "stream",
     "text": [
      "\r",
      " 27% (85968000.0 of 315360000.0) |#      | Elapsed Time: 6:24:01 ETA:  16:20:39"
     ]
    },
    {
     "name": "stderr",
     "output_type": "stream",
     "text": [
      "\r",
      " 27% (86400000.0 of 315360000.0) |#      | Elapsed Time: 6:25:51 ETA:  16:10:51"
     ]
    },
    {
     "name": "stderr",
     "output_type": "stream",
     "text": [
      "\r",
      " 27% (86832000.0 of 315360000.0) |#      | Elapsed Time: 6:27:40 ETA:  16:03:26"
     ]
    },
    {
     "name": "stderr",
     "output_type": "stream",
     "text": [
      "\r",
      " 27% (87264000.0 of 315360000.0) |#      | Elapsed Time: 6:29:29 ETA:  16:00:13"
     ]
    },
    {
     "name": "stderr",
     "output_type": "stream",
     "text": [
      "\r",
      " 27% (87696000.0 of 315360000.0) |#      | Elapsed Time: 6:31:18 ETA:  15:55:54"
     ]
    },
    {
     "name": "stderr",
     "output_type": "stream",
     "text": [
      "\r",
      " 27% (88128000.0 of 315360000.0) |#      | Elapsed Time: 6:33:07 ETA:  15:58:13"
     ]
    },
    {
     "name": "stderr",
     "output_type": "stream",
     "text": [
      "\r",
      " 28% (88560000.0 of 315360000.0) |#      | Elapsed Time: 6:34:57 ETA:  15:59:57"
     ]
    },
    {
     "name": "stderr",
     "output_type": "stream",
     "text": [
      "\r",
      " 28% (88992000.0 of 315360000.0) |#      | Elapsed Time: 6:36:47 ETA:  16:01:02"
     ]
    },
    {
     "name": "stderr",
     "output_type": "stream",
     "text": [
      "\r",
      " 28% (89424000.0 of 315360000.0) |#      | Elapsed Time: 6:38:37 ETA:  15:56:40"
     ]
    },
    {
     "name": "stderr",
     "output_type": "stream",
     "text": [
      "\r",
      " 28% (89856000.0 of 315360000.0) |#      | Elapsed Time: 6:40:26 ETA:  15:49:58"
     ]
    },
    {
     "name": "stderr",
     "output_type": "stream",
     "text": [
      "\r",
      " 28% (90288000.0 of 315360000.0) |##     | Elapsed Time: 6:42:16 ETA:  15:57:22"
     ]
    },
    {
     "name": "stderr",
     "output_type": "stream",
     "text": [
      "\r",
      " 28% (90720000.0 of 315360000.0) |##     | Elapsed Time: 6:44:05 ETA:  15:46:59"
     ]
    },
    {
     "name": "stderr",
     "output_type": "stream",
     "text": [
      "\r",
      " 28% (91152000.0 of 315360000.0) |##     | Elapsed Time: 6:45:54 ETA:  15:43:15"
     ]
    },
    {
     "name": "stderr",
     "output_type": "stream",
     "text": [
      "\r",
      " 29% (91584000.0 of 315360000.0) |##     | Elapsed Time: 6:47:43 ETA:  15:36:28"
     ]
    },
    {
     "name": "stderr",
     "output_type": "stream",
     "text": [
      "\r",
      " 29% (92016000.0 of 315360000.0) |##     | Elapsed Time: 6:49:31 ETA:  15:33:48"
     ]
    },
    {
     "name": "stderr",
     "output_type": "stream",
     "text": [
      "\r",
      " 29% (92448000.0 of 315360000.0) |##     | Elapsed Time: 6:51:20 ETA:  15:33:27"
     ]
    },
    {
     "name": "stderr",
     "output_type": "stream",
     "text": [
      "\r",
      " 29% (92880000.0 of 315360000.0) |##     | Elapsed Time: 6:53:09 ETA:  15:35:54"
     ]
    },
    {
     "name": "stderr",
     "output_type": "stream",
     "text": [
      "\r",
      " 29% (93312000.0 of 315360000.0) |##     | Elapsed Time: 6:54:58 ETA:  15:35:01"
     ]
    },
    {
     "name": "stderr",
     "output_type": "stream",
     "text": [
      "\r",
      " 29% (93744000.0 of 315360000.0) |##     | Elapsed Time: 6:56:48 ETA:  15:37:10"
     ]
    },
    {
     "name": "stderr",
     "output_type": "stream",
     "text": [
      "\r",
      " 29% (94176000.0 of 315360000.0) |##     | Elapsed Time: 6:58:36 ETA:  15:24:55"
     ]
    },
    {
     "name": "stderr",
     "output_type": "stream",
     "text": [
      "\r",
      " 30% (94608000.0 of 315360000.0) |##     | Elapsed Time: 7:00:25 ETA:  15:26:02"
     ]
    },
    {
     "name": "stderr",
     "output_type": "stream",
     "text": [
      "\r",
      " 30% (95040000.0 of 315360000.0) |##     | Elapsed Time: 7:02:13 ETA:  15:20:37"
     ]
    },
    {
     "name": "stderr",
     "output_type": "stream",
     "text": [
      "\r",
      " 30% (95472000.0 of 315360000.0) |##     | Elapsed Time: 7:04:01 ETA:  15:16:35"
     ]
    },
    {
     "name": "stderr",
     "output_type": "stream",
     "text": [
      "\r",
      " 30% (95904000.0 of 315360000.0) |##     | Elapsed Time: 7:05:49 ETA:  15:15:00"
     ]
    },
    {
     "name": "stderr",
     "output_type": "stream",
     "text": [
      "\r",
      " 30% (96336000.0 of 315360000.0) |##     | Elapsed Time: 7:07:37 ETA:  15:15:18"
     ]
    },
    {
     "name": "stderr",
     "output_type": "stream",
     "text": [
      "\r",
      " 30% (96768000.0 of 315360000.0) |##     | Elapsed Time: 7:09:25 ETA:  15:09:44"
     ]
    },
    {
     "name": "stderr",
     "output_type": "stream",
     "text": [
      "\r",
      " 30% (97200000.0 of 315360000.0) |##     | Elapsed Time: 7:11:14 ETA:  15:13:06"
     ]
    },
    {
     "name": "stderr",
     "output_type": "stream",
     "text": [
      "\r",
      " 30% (97632000.0 of 315360000.0) |##     | Elapsed Time: 7:13:02 ETA:  15:04:48"
     ]
    },
    {
     "name": "stderr",
     "output_type": "stream",
     "text": [
      "\r",
      " 31% (98064000.0 of 315360000.0) |##     | Elapsed Time: 7:14:49 ETA:  15:03:03"
     ]
    },
    {
     "name": "stderr",
     "output_type": "stream",
     "text": [
      "\r",
      " 31% (98496000.0 of 315360000.0) |##     | Elapsed Time: 7:16:37 ETA:  15:00:08"
     ]
    },
    {
     "name": "stderr",
     "output_type": "stream",
     "text": [
      "\r",
      " 31% (98928000.0 of 315360000.0) |##     | Elapsed Time: 7:18:25 ETA:  15:05:11"
     ]
    },
    {
     "name": "stderr",
     "output_type": "stream",
     "text": [
      "\r",
      " 31% (99360000.0 of 315360000.0) |##     | Elapsed Time: 7:20:13 ETA:  14:57:48"
     ]
    },
    {
     "name": "stderr",
     "output_type": "stream",
     "text": [
      "\r",
      " 31% (99792000.0 of 315360000.0) |##     | Elapsed Time: 7:22:01 ETA:  14:57:38"
     ]
    },
    {
     "name": "stderr",
     "output_type": "stream",
     "text": [
      "\r",
      " 31% (100224000.0 of 315360000.0) |#     | Elapsed Time: 7:23:48 ETA:  14:52:05"
     ]
    },
    {
     "name": "stderr",
     "output_type": "stream",
     "text": [
      "\r",
      " 31% (100656000.0 of 315360000.0) |#     | Elapsed Time: 7:25:35 ETA:  14:45:13"
     ]
    },
    {
     "name": "stderr",
     "output_type": "stream",
     "text": [
      "\r",
      " 32% (101088000.0 of 315360000.0) |#     | Elapsed Time: 7:27:23 ETA:  14:48:25"
     ]
    },
    {
     "name": "stderr",
     "output_type": "stream",
     "text": [
      "\r",
      " 32% (101520000.0 of 315360000.0) |#     | Elapsed Time: 7:29:10 ETA:  14:45:52"
     ]
    },
    {
     "name": "stderr",
     "output_type": "stream",
     "text": [
      "\r",
      " 32% (101952000.0 of 315360000.0) |#     | Elapsed Time: 7:30:57 ETA:  14:37:45"
     ]
    },
    {
     "name": "stderr",
     "output_type": "stream",
     "text": [
      "\r",
      " 32% (102384000.0 of 315360000.0) |#     | Elapsed Time: 7:32:44 ETA:  14:42:44"
     ]
    },
    {
     "name": "stderr",
     "output_type": "stream",
     "text": [
      "\r",
      " 32% (102816000.0 of 315360000.0) |#     | Elapsed Time: 7:34:31 ETA:  14:34:37"
     ]
    },
    {
     "name": "stderr",
     "output_type": "stream",
     "text": [
      "\r",
      " 32% (103248000.0 of 315360000.0) |#     | Elapsed Time: 7:36:18 ETA:  14:33:42"
     ]
    },
    {
     "name": "stderr",
     "output_type": "stream",
     "text": [
      "\r",
      " 32% (103680000.0 of 315360000.0) |#     | Elapsed Time: 7:38:04 ETA:  14:29:59"
     ]
    },
    {
     "name": "stderr",
     "output_type": "stream",
     "text": [
      "\r",
      " 33% (104112000.0 of 315360000.0) |#     | Elapsed Time: 7:39:51 ETA:  14:28:30"
     ]
    },
    {
     "name": "stderr",
     "output_type": "stream",
     "text": [
      "\r",
      " 33% (104544000.0 of 315360000.0) |#     | Elapsed Time: 7:41:37 ETA:  14:25:25"
     ]
    },
    {
     "name": "stderr",
     "output_type": "stream",
     "text": [
      "\r",
      " 33% (104976000.0 of 315360000.0) |#     | Elapsed Time: 7:43:24 ETA:  14:23:50"
     ]
    },
    {
     "name": "stderr",
     "output_type": "stream",
     "text": [
      "\r",
      " 33% (105408000.0 of 315360000.0) |##    | Elapsed Time: 7:45:09 ETA:  14:16:27"
     ]
    },
    {
     "name": "stderr",
     "output_type": "stream",
     "text": [
      "\r",
      " 33% (105840000.0 of 315360000.0) |##    | Elapsed Time: 7:46:55 ETA:  14:14:05"
     ]
    },
    {
     "name": "stderr",
     "output_type": "stream",
     "text": [
      "\r",
      " 33% (106272000.0 of 315360000.0) |##    | Elapsed Time: 7:48:41 ETA:  14:18:00"
     ]
    },
    {
     "name": "stderr",
     "output_type": "stream",
     "text": [
      "\r",
      " 33% (106704000.0 of 315360000.0) |##    | Elapsed Time: 7:50:27 ETA:  14:13:42"
     ]
    },
    {
     "name": "stderr",
     "output_type": "stream",
     "text": [
      "\r",
      " 33% (107136000.0 of 315360000.0) |##    | Elapsed Time: 7:52:13 ETA:  14:05:42"
     ]
    },
    {
     "name": "stderr",
     "output_type": "stream",
     "text": [
      "\r",
      " 34% (107568000.0 of 315360000.0) |##    | Elapsed Time: 7:53:59 ETA:  14:12:21"
     ]
    },
    {
     "name": "stderr",
     "output_type": "stream",
     "text": [
      "\r",
      " 34% (108000000.0 of 315360000.0) |##    | Elapsed Time: 7:55:44 ETA:  14:00:51"
     ]
    },
    {
     "name": "stderr",
     "output_type": "stream",
     "text": [
      "\r",
      " 34% (108432000.0 of 315360000.0) |##    | Elapsed Time: 7:57:29 ETA:  14:00:22"
     ]
    },
    {
     "name": "stderr",
     "output_type": "stream",
     "text": [
      "\r",
      " 34% (108864000.0 of 315360000.0) |##    | Elapsed Time: 7:59:15 ETA:  14:00:13"
     ]
    },
    {
     "name": "stderr",
     "output_type": "stream",
     "text": [
      "\r",
      " 34% (109296000.0 of 315360000.0) |##    | Elapsed Time: 8:01:01 ETA:  14:03:11"
     ]
    },
    {
     "name": "stderr",
     "output_type": "stream",
     "text": [
      "\r",
      " 34% (109728000.0 of 315360000.0) |##    | Elapsed Time: 8:02:47 ETA:  13:59:28"
     ]
    },
    {
     "name": "stderr",
     "output_type": "stream",
     "text": [
      "\r",
      " 34% (110160000.0 of 315360000.0) |##    | Elapsed Time: 8:04:32 ETA:  13:50:57"
     ]
    },
    {
     "name": "stderr",
     "output_type": "stream",
     "text": [
      "\r",
      " 35% (110592000.0 of 315360000.0) |##    | Elapsed Time: 8:06:17 ETA:  13:52:49"
     ]
    },
    {
     "name": "stderr",
     "output_type": "stream",
     "text": [
      "\r",
      " 35% (111024000.0 of 315360000.0) |##    | Elapsed Time: 8:08:02 ETA:  13:48:57"
     ]
    },
    {
     "name": "stderr",
     "output_type": "stream",
     "text": [
      "\r",
      " 35% (111456000.0 of 315360000.0) |##    | Elapsed Time: 8:09:26 ETA:  11:01:22"
     ]
    },
    {
     "name": "stderr",
     "output_type": "stream",
     "text": [
      "\r",
      " 35% (111499200.0 of 315360000.0) || Elapsed Time: 8:10:00 ETA:  1 day, 19:34:59"
     ]
    },
    {
     "name": "stderr",
     "output_type": "stream",
     "text": [
      "\r",
      " 35% (111888000.0 of 315360000.0) |##    | Elapsed Time: 8:11:16 ETA:  11:03:05"
     ]
    },
    {
     "name": "stderr",
     "output_type": "stream",
     "text": [
      "\r",
      " 35% (111974400.0 of 315360000.0) || Elapsed Time: 8:11:57 ETA:  1 day, 3:05:05"
     ]
    },
    {
     "name": "stderr",
     "output_type": "stream",
     "text": [
      "\r",
      " 35% (112320000.0 of 315360000.0) |##    | Elapsed Time: 8:13:05 ETA:  11:05:42"
     ]
    },
    {
     "name": "stderr",
     "output_type": "stream",
     "text": [
      "\r",
      " 35% (112406400.0 of 315360000.0) || Elapsed Time: 8:13:47 ETA:  1 day, 3:10:33"
     ]
    },
    {
     "name": "stderr",
     "output_type": "stream",
     "text": [
      "\r",
      " 35% (112752000.0 of 315360000.0) |##    | Elapsed Time: 8:14:54 ETA:  10:58:01"
     ]
    },
    {
     "name": "stderr",
     "output_type": "stream",
     "text": [
      "\r",
      " 35% (112838400.0 of 315360000.0) || Elapsed Time: 8:15:35 ETA:  1 day, 2:28:01"
     ]
    },
    {
     "name": "stderr",
     "output_type": "stream",
     "text": [
      "\r",
      " 35% (113184000.0 of 315360000.0) |##    | Elapsed Time: 8:16:42 ETA:  10:57:45"
     ]
    },
    {
     "name": "stderr",
     "output_type": "stream",
     "text": [
      "\r",
      " 35% (113270400.0 of 315360000.0) || Elapsed Time: 8:17:23 ETA:  1 day, 2:46:58"
     ]
    },
    {
     "name": "stderr",
     "output_type": "stream",
     "text": [
      "\r",
      " 36% (113616000.0 of 315360000.0) |##    | Elapsed Time: 8:18:31 ETA:  10:55:18"
     ]
    },
    {
     "name": "stderr",
     "output_type": "stream",
     "text": [
      "\r",
      " 36% (113702400.0 of 315360000.0) || Elapsed Time: 8:19:11 ETA:  1 day, 2:28:42"
     ]
    },
    {
     "name": "stderr",
     "output_type": "stream",
     "text": [
      "\r",
      " 36% (114048000.0 of 315360000.0) |##    | Elapsed Time: 8:20:19 ETA:  10:55:47"
     ]
    },
    {
     "name": "stderr",
     "output_type": "stream",
     "text": [
      "\r",
      " 36% (114134400.0 of 315360000.0) || Elapsed Time: 8:21:00 ETA:  1 day, 2:37:26"
     ]
    },
    {
     "name": "stderr",
     "output_type": "stream",
     "text": [
      "\r",
      " 36% (114480000.0 of 315360000.0) |##    | Elapsed Time: 8:22:08 ETA:  10:52:17"
     ]
    },
    {
     "name": "stderr",
     "output_type": "stream",
     "text": [
      "\r",
      " 36% (114566400.0 of 315360000.0) || Elapsed Time: 8:22:50 ETA:  1 day, 3:21:45"
     ]
    },
    {
     "name": "stderr",
     "output_type": "stream",
     "text": [
      "\r",
      " 36% (114912000.0 of 315360000.0) |##    | Elapsed Time: 8:23:57 ETA:  10:50:30"
     ]
    },
    {
     "name": "stderr",
     "output_type": "stream",
     "text": [
      "\r",
      " 36% (114998400.0 of 315360000.0) || Elapsed Time: 8:24:39 ETA:  1 day, 2:44:56"
     ]
    },
    {
     "name": "stderr",
     "output_type": "stream",
     "text": [
      "\r",
      " 36% (115344000.0 of 315360000.0) |##    | Elapsed Time: 8:25:46 ETA:  10:48:40"
     ]
    },
    {
     "name": "stderr",
     "output_type": "stream",
     "text": [
      "\r",
      " 36% (115430400.0 of 315360000.0) || Elapsed Time: 8:26:27 ETA:  1 day, 2:33:53"
     ]
    },
    {
     "name": "stderr",
     "output_type": "stream",
     "text": [
      "\r",
      " 36% (115776000.0 of 315360000.0) |##    | Elapsed Time: 8:27:35 ETA:  10:48:16"
     ]
    },
    {
     "name": "stderr",
     "output_type": "stream",
     "text": [
      "\r",
      " 36% (115862400.0 of 315360000.0) || Elapsed Time: 8:28:16 ETA:  1 day, 2:38:12"
     ]
    },
    {
     "name": "stderr",
     "output_type": "stream",
     "text": [
      "\r",
      " 36% (116208000.0 of 315360000.0) |##    | Elapsed Time: 8:29:23 ETA:  10:44:53"
     ]
    },
    {
     "name": "stderr",
     "output_type": "stream",
     "text": [
      "\r",
      " 36% (116294400.0 of 315360000.0) || Elapsed Time: 8:30:04 ETA:  1 day, 2:17:49"
     ]
    },
    {
     "name": "stderr",
     "output_type": "stream",
     "text": [
      "\r",
      " 36% (116640000.0 of 315360000.0) |##    | Elapsed Time: 8:31:12 ETA:  10:45:13"
     ]
    },
    {
     "name": "stderr",
     "output_type": "stream",
     "text": [
      "\r",
      " 37% (116726400.0 of 315360000.0) || Elapsed Time: 8:31:53 ETA:  1 day, 2:21:07"
     ]
    },
    {
     "name": "stderr",
     "output_type": "stream",
     "text": [
      "\r",
      " 37% (117072000.0 of 315360000.0) |##    | Elapsed Time: 8:33:00 ETA:  10:38:36"
     ]
    },
    {
     "name": "stderr",
     "output_type": "stream",
     "text": [
      "\r",
      " 37% (117158400.0 of 315360000.0) || Elapsed Time: 8:33:41 ETA:  1 day, 2:23:14"
     ]
    },
    {
     "name": "stderr",
     "output_type": "stream",
     "text": [
      "\r",
      " 37% (117504000.0 of 315360000.0) |##    | Elapsed Time: 8:34:48 ETA:  10:38:57"
     ]
    },
    {
     "name": "stderr",
     "output_type": "stream",
     "text": [
      "\r",
      " 37% (117590400.0 of 315360000.0) || Elapsed Time: 8:35:29 ETA:  1 day, 2:02:41"
     ]
    },
    {
     "name": "stderr",
     "output_type": "stream",
     "text": [
      "\r",
      " 37% (117936000.0 of 315360000.0) |##    | Elapsed Time: 8:36:36 ETA:  10:37:51"
     ]
    },
    {
     "name": "stderr",
     "output_type": "stream",
     "text": [
      "\r",
      " 37% (118022400.0 of 315360000.0) || Elapsed Time: 8:37:17 ETA:  1 day, 2:05:00"
     ]
    },
    {
     "name": "stderr",
     "output_type": "stream",
     "text": [
      "\r",
      " 37% (118368000.0 of 315360000.0) |##    | Elapsed Time: 8:38:24 ETA:  10:36:42"
     ]
    },
    {
     "name": "stderr",
     "output_type": "stream",
     "text": [
      "\r",
      " 37% (118454400.0 of 315360000.0) || Elapsed Time: 8:39:05 ETA:  1 day, 1:57:42"
     ]
    },
    {
     "name": "stderr",
     "output_type": "stream",
     "text": [
      "\r",
      " 37% (118800000.0 of 315360000.0) |##    | Elapsed Time: 8:40:12 ETA:  10:31:01"
     ]
    },
    {
     "name": "stderr",
     "output_type": "stream",
     "text": [
      "\r",
      " 37% (118886400.0 of 315360000.0) || Elapsed Time: 8:40:53 ETA:  1 day, 2:11:32"
     ]
    },
    {
     "name": "stderr",
     "output_type": "stream",
     "text": [
      "\r",
      " 37% (119232000.0 of 315360000.0) |##    | Elapsed Time: 8:42:00 ETA:  10:29:19"
     ]
    },
    {
     "name": "stderr",
     "output_type": "stream",
     "text": [
      "\r",
      " 37% (119318400.0 of 315360000.0) || Elapsed Time: 8:42:41 ETA:  1 day, 1:51:51"
     ]
    },
    {
     "name": "stderr",
     "output_type": "stream",
     "text": [
      "\r",
      " 37% (119664000.0 of 315360000.0) |##    | Elapsed Time: 8:43:48 ETA:  10:33:50"
     ]
    },
    {
     "name": "stderr",
     "output_type": "stream",
     "text": [
      "\r",
      " 37% (119750400.0 of 315360000.0) || Elapsed Time: 8:44:29 ETA:  1 day, 1:48:46"
     ]
    },
    {
     "name": "stderr",
     "output_type": "stream",
     "text": [
      "\r",
      " 38% (120096000.0 of 315360000.0) |##    | Elapsed Time: 8:45:36 ETA:  10:25:53"
     ]
    },
    {
     "name": "stderr",
     "output_type": "stream",
     "text": [
      "\r",
      " 38% (120182400.0 of 315360000.0) || Elapsed Time: 8:46:17 ETA:  1 day, 1:48:51"
     ]
    },
    {
     "name": "stderr",
     "output_type": "stream",
     "text": [
      "\r",
      " 38% (120528000.0 of 315360000.0) |##    | Elapsed Time: 8:47:23 ETA:  10:19:44"
     ]
    },
    {
     "name": "stderr",
     "output_type": "stream",
     "text": [
      "\r",
      " 38% (120614400.0 of 315360000.0) || Elapsed Time: 8:48:04 ETA:  1 day, 1:44:10"
     ]
    },
    {
     "name": "stderr",
     "output_type": "stream",
     "text": [
      "\r",
      " 38% (120960000.0 of 315360000.0) |##    | Elapsed Time: 8:49:10 ETA:  10:20:46"
     ]
    },
    {
     "name": "stderr",
     "output_type": "stream",
     "text": [
      "\r",
      " 38% (121046400.0 of 315360000.0) || Elapsed Time: 8:49:51 ETA:  1 day, 1:47:27"
     ]
    },
    {
     "name": "stderr",
     "output_type": "stream",
     "text": [
      "\r",
      " 38% (121392000.0 of 315360000.0) |##    | Elapsed Time: 8:50:58 ETA:  10:21:06"
     ]
    },
    {
     "name": "stderr",
     "output_type": "stream",
     "text": [
      "\r",
      " 38% (121478400.0 of 315360000.0) || Elapsed Time: 8:51:39 ETA:  1 day, 1:35:17"
     ]
    },
    {
     "name": "stderr",
     "output_type": "stream",
     "text": [
      "\r",
      " 38% (121824000.0 of 315360000.0) |##    | Elapsed Time: 8:52:45 ETA:  10:17:23"
     ]
    },
    {
     "name": "stderr",
     "output_type": "stream",
     "text": [
      "\r",
      " 38% (121910400.0 of 315360000.0) || Elapsed Time: 8:53:26 ETA:  1 day, 1:43:46"
     ]
    },
    {
     "name": "stderr",
     "output_type": "stream",
     "text": [
      "\r",
      " 38% (122256000.0 of 315360000.0) |##    | Elapsed Time: 8:54:32 ETA:  10:17:04"
     ]
    },
    {
     "name": "stderr",
     "output_type": "stream",
     "text": [
      "\r",
      " 38% (122342400.0 of 315360000.0) || Elapsed Time: 8:55:13 ETA:  1 day, 1:24:52"
     ]
    },
    {
     "name": "stderr",
     "output_type": "stream",
     "text": [
      "\r",
      " 38% (122688000.0 of 315360000.0) |##    | Elapsed Time: 8:56:20 ETA:  10:14:56"
     ]
    },
    {
     "name": "stderr",
     "output_type": "stream",
     "text": [
      "\r",
      " 38% (122774400.0 of 315360000.0) || Elapsed Time: 8:57:00 ETA:  1 day, 1:13:18"
     ]
    },
    {
     "name": "stderr",
     "output_type": "stream",
     "text": [
      "\r",
      " 39% (123120000.0 of 315360000.0) |##    | Elapsed Time: 8:58:07 ETA:  10:16:05"
     ]
    },
    {
     "name": "stderr",
     "output_type": "stream",
     "text": [
      "\r",
      " 39% (123206400.0 of 315360000.0) || Elapsed Time: 8:58:48 ETA:  1 day, 1:28:42"
     ]
    },
    {
     "name": "stderr",
     "output_type": "stream",
     "text": [
      "\r",
      " 39% (123552000.0 of 315360000.0) |##    | Elapsed Time: 8:59:54 ETA:  10:12:13"
     ]
    },
    {
     "name": "stderr",
     "output_type": "stream",
     "text": [
      "\r",
      " 39% (123638400.0 of 315360000.0) || Elapsed Time: 9:00:35 ETA:  1 day, 1:10:34"
     ]
    },
    {
     "name": "stderr",
     "output_type": "stream",
     "text": [
      "\r",
      " 39% (123984000.0 of 315360000.0) |##    | Elapsed Time: 9:01:41 ETA:  10:08:49"
     ]
    },
    {
     "name": "stderr",
     "output_type": "stream",
     "text": [
      "\r",
      " 39% (124070400.0 of 315360000.0) || Elapsed Time: 9:02:22 ETA:  1 day, 1:19:09"
     ]
    },
    {
     "name": "stderr",
     "output_type": "stream",
     "text": [
      "\r",
      " 39% (124416000.0 of 315360000.0) |##    | Elapsed Time: 9:03:28 ETA:  10:06:44"
     ]
    },
    {
     "name": "stderr",
     "output_type": "stream",
     "text": [
      "\r",
      " 39% (124502400.0 of 315360000.0) || Elapsed Time: 9:04:09 ETA:  1 day, 1:03:36"
     ]
    },
    {
     "name": "stderr",
     "output_type": "stream",
     "text": [
      "\r",
      " 39% (124848000.0 of 315360000.0) |##    | Elapsed Time: 9:05:15 ETA:  10:09:07"
     ]
    },
    {
     "name": "stderr",
     "output_type": "stream",
     "text": [
      "\r",
      " 39% (124934400.0 of 315360000.0) || Elapsed Time: 9:05:56 ETA:  1 day, 1:04:59"
     ]
    },
    {
     "name": "stderr",
     "output_type": "stream",
     "text": [
      "\r",
      " 39% (125280000.0 of 315360000.0) |##    | Elapsed Time: 9:07:02 ETA:  10:05:43"
     ]
    },
    {
     "name": "stderr",
     "output_type": "stream",
     "text": [
      "\r",
      " 39% (125366400.0 of 315360000.0) || Elapsed Time: 9:07:44 ETA:  1 day, 1:30:38"
     ]
    },
    {
     "name": "stderr",
     "output_type": "stream",
     "text": [
      "\r",
      " 39% (125712000.0 of 315360000.0) |##    | Elapsed Time: 9:08:50 ETA:  10:02:32"
     ]
    },
    {
     "name": "stderr",
     "output_type": "stream",
     "text": [
      "\r",
      " 39% (125798400.0 of 315360000.0) || Elapsed Time: 9:09:32 ETA:  1 day, 1:25:24"
     ]
    },
    {
     "name": "stderr",
     "output_type": "stream",
     "text": [
      "\r",
      " 40% (126144000.0 of 315360000.0) |##    | Elapsed Time: 9:10:38 ETA:  10:02:18"
     ]
    },
    {
     "name": "stderr",
     "output_type": "stream",
     "text": [
      "\r",
      " 40% (126230400.0 of 315360000.0) || Elapsed Time: 9:11:19 ETA:  1 day, 1:08:32"
     ]
    },
    {
     "name": "stderr",
     "output_type": "stream",
     "text": [
      "\r",
      " 40% (126576000.0 of 315360000.0) |##    | Elapsed Time: 9:12:25 ETA:  10:00:10"
     ]
    },
    {
     "name": "stderr",
     "output_type": "stream",
     "text": [
      "\r",
      " 40% (126662400.0 of 315360000.0) || Elapsed Time: 9:13:06 ETA:  1 day, 0:46:31"
     ]
    },
    {
     "name": "stderr",
     "output_type": "stream",
     "text": [
      "\r",
      " 40% (127008000.0 of 315360000.0) |##    | Elapsed Time: 9:14:11 ETA:   9:56:12"
     ]
    },
    {
     "name": "stderr",
     "output_type": "stream",
     "text": [
      "\r",
      " 40% (127094400.0 of 315360000.0) || Elapsed Time: 9:14:52 ETA:  1 day, 0:46:48"
     ]
    },
    {
     "name": "stderr",
     "output_type": "stream",
     "text": [
      "\r",
      " 40% (127440000.0 of 315360000.0) |##    | Elapsed Time: 9:15:58 ETA:   9:53:30"
     ]
    },
    {
     "name": "stderr",
     "output_type": "stream",
     "text": [
      "\r",
      " 40% (127526400.0 of 315360000.0) || Elapsed Time: 9:16:38 ETA:  1 day, 0:30:58"
     ]
    },
    {
     "name": "stderr",
     "output_type": "stream",
     "text": [
      "\r",
      " 40% (127872000.0 of 315360000.0) |##    | Elapsed Time: 9:17:44 ETA:   9:52:10"
     ]
    },
    {
     "name": "stderr",
     "output_type": "stream",
     "text": [
      "\r",
      " 40% (127958400.0 of 315360000.0) || Elapsed Time: 9:18:25 ETA:  1 day, 0:40:49"
     ]
    },
    {
     "name": "stderr",
     "output_type": "stream",
     "text": [
      "\r",
      " 40% (128304000.0 of 315360000.0) |##    | Elapsed Time: 9:19:30 ETA:   9:50:34"
     ]
    },
    {
     "name": "stderr",
     "output_type": "stream",
     "text": [
      "\r",
      " 40% (128390400.0 of 315360000.0) || Elapsed Time: 9:20:11 ETA:  1 day, 0:32:32"
     ]
    },
    {
     "name": "stderr",
     "output_type": "stream",
     "text": [
      "\r",
      " 40% (128736000.0 of 315360000.0) |##    | Elapsed Time: 9:21:16 ETA:   9:46:44"
     ]
    },
    {
     "name": "stderr",
     "output_type": "stream",
     "text": [
      "\r",
      " 40% (128822400.0 of 315360000.0) || Elapsed Time: 9:21:57 ETA:  1 day, 0:22:49"
     ]
    },
    {
     "name": "stderr",
     "output_type": "stream",
     "text": [
      "\r",
      " 40% (129168000.0 of 315360000.0) |##    | Elapsed Time: 9:23:02 ETA:   9:47:36"
     ]
    },
    {
     "name": "stderr",
     "output_type": "stream",
     "text": [
      "\r",
      " 40% (129254400.0 of 315360000.0) || Elapsed Time: 9:23:43 ETA:  1 day, 0:11:18"
     ]
    },
    {
     "name": "stderr",
     "output_type": "stream",
     "text": [
      "\r",
      " 41% (129600000.0 of 315360000.0) |##    | Elapsed Time: 9:24:48 ETA:   9:44:02"
     ]
    },
    {
     "name": "stderr",
     "output_type": "stream",
     "text": [
      "\r",
      " 41% (129686400.0 of 315360000.0) || Elapsed Time: 9:25:29 ETA:  1 day, 0:17:39"
     ]
    },
    {
     "name": "stderr",
     "output_type": "stream",
     "text": [
      "\r",
      " 41% (130032000.0 of 315360000.0) |##    | Elapsed Time: 9:26:34 ETA:   9:44:59"
     ]
    },
    {
     "name": "stderr",
     "output_type": "stream",
     "text": [
      "\r",
      " 41% (130118400.0 of 315360000.0) || Elapsed Time: 9:27:15 ETA:  1 day, 0:12:37"
     ]
    },
    {
     "name": "stderr",
     "output_type": "stream",
     "text": [
      "\r",
      " 41% (130464000.0 of 315360000.0) |##    | Elapsed Time: 9:28:20 ETA:   9:42:26"
     ]
    },
    {
     "name": "stderr",
     "output_type": "stream",
     "text": [
      "\r",
      " 41% (130550400.0 of 315360000.0) || Elapsed Time: 9:29:01 ETA:  1 day, 0:14:27"
     ]
    },
    {
     "name": "stderr",
     "output_type": "stream",
     "text": [
      "\r",
      " 41% (130896000.0 of 315360000.0) |##    | Elapsed Time: 9:30:06 ETA:   9:38:53"
     ]
    },
    {
     "name": "stderr",
     "output_type": "stream",
     "text": [
      "\r",
      " 41% (130982400.0 of 315360000.0) |##    | Elapsed Time: 9:30:46 ETA:  23:49:01"
     ]
    },
    {
     "name": "stderr",
     "output_type": "stream",
     "text": [
      "\r",
      " 41% (131328000.0 of 315360000.0) |##    | Elapsed Time: 9:31:51 ETA:   9:37:06"
     ]
    },
    {
     "name": "stderr",
     "output_type": "stream",
     "text": [
      "\r",
      " 41% (131414400.0 of 315360000.0) |##    | Elapsed Time: 9:32:32 ETA:  23:54:36"
     ]
    },
    {
     "name": "stderr",
     "output_type": "stream",
     "text": [
      "\r",
      " 41% (131760000.0 of 315360000.0) |##    | Elapsed Time: 9:33:37 ETA:   9:41:13"
     ]
    },
    {
     "name": "stderr",
     "output_type": "stream",
     "text": [
      "\r",
      " 41% (131846400.0 of 315360000.0) |##    | Elapsed Time: 9:34:18 ETA:  23:45:34"
     ]
    },
    {
     "name": "stderr",
     "output_type": "stream",
     "text": [
      "\r",
      " 41% (132192000.0 of 315360000.0) |##    | Elapsed Time: 9:35:23 ETA:   9:33:14"
     ]
    },
    {
     "name": "stderr",
     "output_type": "stream",
     "text": [
      "\r",
      " 41% (132278400.0 of 315360000.0) |##    | Elapsed Time: 9:36:03 ETA:  23:38:21"
     ]
    },
    {
     "name": "stderr",
     "output_type": "stream",
     "text": [
      "\r",
      " 42% (132624000.0 of 315360000.0) |##    | Elapsed Time: 9:37:07 ETA:   9:29:09"
     ]
    },
    {
     "name": "stderr",
     "output_type": "stream",
     "text": [
      "\r",
      " 42% (132710400.0 of 315360000.0) |##    | Elapsed Time: 9:37:48 ETA:  23:51:50"
     ]
    },
    {
     "name": "stderr",
     "output_type": "stream",
     "text": [
      "\r",
      " 42% (133056000.0 of 315360000.0) |##    | Elapsed Time: 9:38:53 ETA:   9:27:31"
     ]
    },
    {
     "name": "stderr",
     "output_type": "stream",
     "text": [
      "\r",
      " 42% (133142400.0 of 315360000.0) |##    | Elapsed Time: 9:39:33 ETA:  23:49:58"
     ]
    },
    {
     "name": "stderr",
     "output_type": "stream",
     "text": [
      "\r",
      " 42% (133488000.0 of 315360000.0) |##    | Elapsed Time: 9:40:38 ETA:   9:26:00"
     ]
    },
    {
     "name": "stderr",
     "output_type": "stream",
     "text": [
      "\r",
      " 42% (133574400.0 of 315360000.0) |##    | Elapsed Time: 9:41:18 ETA:  23:30:56"
     ]
    },
    {
     "name": "stderr",
     "output_type": "stream",
     "text": [
      "\r",
      " 42% (133920000.0 of 315360000.0) |##    | Elapsed Time: 9:42:23 ETA:   9:32:40"
     ]
    },
    {
     "name": "stderr",
     "output_type": "stream",
     "text": [
      "\r",
      " 42% (134006400.0 of 315360000.0) |##    | Elapsed Time: 9:43:04 ETA:  23:30:40"
     ]
    },
    {
     "name": "stderr",
     "output_type": "stream",
     "text": [
      "\r",
      " 42% (134352000.0 of 315360000.0) |##    | Elapsed Time: 9:44:09 ETA:   9:26:02"
     ]
    },
    {
     "name": "stderr",
     "output_type": "stream",
     "text": [
      "\r",
      " 42% (134438400.0 of 315360000.0) |##    | Elapsed Time: 9:44:49 ETA:  23:27:32"
     ]
    },
    {
     "name": "stderr",
     "output_type": "stream",
     "text": [
      "\r",
      " 42% (134784000.0 of 315360000.0) |##    | Elapsed Time: 9:45:54 ETA:   9:22:49"
     ]
    },
    {
     "name": "stderr",
     "output_type": "stream",
     "text": [
      "\r",
      " 42% (134870400.0 of 315360000.0) |##    | Elapsed Time: 9:46:34 ETA:  23:23:19"
     ]
    },
    {
     "name": "stderr",
     "output_type": "stream",
     "text": [
      "\r",
      " 42% (135216000.0 of 315360000.0) |##    | Elapsed Time: 9:47:38 ETA:   9:16:15"
     ]
    },
    {
     "name": "stderr",
     "output_type": "stream",
     "text": [
      "\r",
      " 42% (135302400.0 of 315360000.0) |##    | Elapsed Time: 9:48:19 ETA:  23:42:58"
     ]
    },
    {
     "name": "stderr",
     "output_type": "stream",
     "text": [
      "\r",
      " 43% (135648000.0 of 315360000.0) |##    | Elapsed Time: 9:49:23 ETA:   9:15:26"
     ]
    },
    {
     "name": "stderr",
     "output_type": "stream",
     "text": [
      "\r",
      " 43% (135734400.0 of 315360000.0) |##    | Elapsed Time: 9:50:03 ETA:  23:18:28"
     ]
    },
    {
     "name": "stderr",
     "output_type": "stream",
     "text": [
      "\r",
      " 43% (136080000.0 of 315360000.0) |##    | Elapsed Time: 9:51:07 ETA:   9:13:52"
     ]
    },
    {
     "name": "stderr",
     "output_type": "stream",
     "text": [
      "\r",
      " 43% (136166400.0 of 315360000.0) |##    | Elapsed Time: 9:51:48 ETA:  23:27:22"
     ]
    },
    {
     "name": "stderr",
     "output_type": "stream",
     "text": [
      "\r",
      " 43% (136512000.0 of 315360000.0) |##    | Elapsed Time: 9:52:52 ETA:   9:11:55"
     ]
    },
    {
     "name": "stderr",
     "output_type": "stream",
     "text": [
      "\r",
      " 43% (136598400.0 of 315360000.0) |##    | Elapsed Time: 9:53:32 ETA:  23:04:14"
     ]
    },
    {
     "name": "stderr",
     "output_type": "stream",
     "text": [
      "\r",
      " 43% (136944000.0 of 315360000.0) |##    | Elapsed Time: 9:54:36 ETA:   9:08:15"
     ]
    },
    {
     "name": "stderr",
     "output_type": "stream",
     "text": [
      "\r",
      " 43% (137030400.0 of 315360000.0) |##    | Elapsed Time: 9:55:16 ETA:  22:58:58"
     ]
    },
    {
     "name": "stderr",
     "output_type": "stream",
     "text": [
      "\r",
      " 43% (137376000.0 of 315360000.0) |##    | Elapsed Time: 9:56:20 ETA:   9:08:38"
     ]
    },
    {
     "name": "stderr",
     "output_type": "stream",
     "text": [
      "\r",
      " 43% (137462400.0 of 315360000.0) |##    | Elapsed Time: 9:57:00 ETA:  23:01:25"
     ]
    },
    {
     "name": "stderr",
     "output_type": "stream",
     "text": [
      "\r",
      " 43% (137808000.0 of 315360000.0) |##    | Elapsed Time: 9:58:04 ETA:   9:09:24"
     ]
    },
    {
     "name": "stderr",
     "output_type": "stream",
     "text": [
      "\r",
      " 43% (137894400.0 of 315360000.0) |##    | Elapsed Time: 9:58:45 ETA:  23:02:26"
     ]
    },
    {
     "name": "stderr",
     "output_type": "stream",
     "text": [
      "\r",
      " 43% (138240000.0 of 315360000.0) |##    | Elapsed Time: 9:59:49 ETA:   9:05:41"
     ]
    },
    {
     "name": "stderr",
     "output_type": "stream",
     "text": [
      "\r",
      " 43% (138326400.0 of 315360000.0) |##   | Elapsed Time: 10:00:29 ETA:  23:00:35"
     ]
    },
    {
     "name": "stderr",
     "output_type": "stream",
     "text": [
      "\r",
      " 43% (138672000.0 of 315360000.0) |##   | Elapsed Time: 10:01:33 ETA:   9:03:57"
     ]
    },
    {
     "name": "stderr",
     "output_type": "stream",
     "text": [
      "\r",
      " 44% (138758400.0 of 315360000.0) |##   | Elapsed Time: 10:02:14 ETA:  23:15:10"
     ]
    },
    {
     "name": "stderr",
     "output_type": "stream",
     "text": [
      "\r",
      " 44% (139104000.0 of 315360000.0) |##   | Elapsed Time: 10:03:18 ETA:   9:01:20"
     ]
    },
    {
     "name": "stderr",
     "output_type": "stream",
     "text": [
      "\r",
      " 44% (139190400.0 of 315360000.0) |##   | Elapsed Time: 10:03:58 ETA:  23:00:41"
     ]
    },
    {
     "name": "stderr",
     "output_type": "stream",
     "text": [
      "\r",
      " 44% (139536000.0 of 315360000.0) |##   | Elapsed Time: 10:05:02 ETA:   9:00:56"
     ]
    },
    {
     "name": "stderr",
     "output_type": "stream",
     "text": [
      "\r",
      " 44% (139622400.0 of 315360000.0) |##   | Elapsed Time: 10:05:42 ETA:  22:46:18"
     ]
    },
    {
     "name": "stderr",
     "output_type": "stream",
     "text": [
      "\r",
      " 44% (139968000.0 of 315360000.0) |##   | Elapsed Time: 10:06:46 ETA:   9:00:01"
     ]
    },
    {
     "name": "stderr",
     "output_type": "stream",
     "text": [
      "\r",
      " 44% (140054400.0 of 315360000.0) |##   | Elapsed Time: 10:07:26 ETA:  22:45:33"
     ]
    },
    {
     "name": "stderr",
     "output_type": "stream",
     "text": [
      "\r",
      " 44% (140400000.0 of 315360000.0) |##   | Elapsed Time: 10:08:30 ETA:   8:57:21"
     ]
    },
    {
     "name": "stderr",
     "output_type": "stream",
     "text": [
      "\r",
      " 44% (140486400.0 of 315360000.0) |##   | Elapsed Time: 10:09:11 ETA:  22:41:40"
     ]
    },
    {
     "name": "stderr",
     "output_type": "stream",
     "text": [
      "\r",
      " 44% (140832000.0 of 315360000.0) |##   | Elapsed Time: 10:10:14 ETA:   8:57:51"
     ]
    },
    {
     "name": "stderr",
     "output_type": "stream",
     "text": [
      "\r",
      " 44% (140918400.0 of 315360000.0) |##   | Elapsed Time: 10:10:55 ETA:  22:37:12"
     ]
    },
    {
     "name": "stderr",
     "output_type": "stream",
     "text": [
      "\r",
      " 44% (141264000.0 of 315360000.0) |##   | Elapsed Time: 10:11:58 ETA:   8:54:07"
     ]
    },
    {
     "name": "stderr",
     "output_type": "stream",
     "text": [
      "\r",
      " 44% (141350400.0 of 315360000.0) |##   | Elapsed Time: 10:12:38 ETA:  22:14:59"
     ]
    },
    {
     "name": "stderr",
     "output_type": "stream",
     "text": [
      "\r",
      " 44% (141696000.0 of 315360000.0) |##   | Elapsed Time: 10:13:41 ETA:   8:50:09"
     ]
    },
    {
     "name": "stderr",
     "output_type": "stream",
     "text": [
      "\r",
      " 44% (141782400.0 of 315360000.0) |##   | Elapsed Time: 10:14:21 ETA:  22:06:46"
     ]
    },
    {
     "name": "stderr",
     "output_type": "stream",
     "text": [
      "\r",
      " 45% (142128000.0 of 315360000.0) |##   | Elapsed Time: 10:15:24 ETA:   8:48:25"
     ]
    },
    {
     "name": "stderr",
     "output_type": "stream",
     "text": [
      "\r",
      " 45% (142214400.0 of 315360000.0) |##   | Elapsed Time: 10:16:04 ETA:  22:14:07"
     ]
    },
    {
     "name": "stderr",
     "output_type": "stream",
     "text": [
      "\r",
      " 45% (142560000.0 of 315360000.0) |##   | Elapsed Time: 10:17:07 ETA:   8:45:26"
     ]
    },
    {
     "name": "stderr",
     "output_type": "stream",
     "text": [
      "\r",
      " 45% (142646400.0 of 315360000.0) |##   | Elapsed Time: 10:17:47 ETA:  22:13:28"
     ]
    },
    {
     "name": "stderr",
     "output_type": "stream",
     "text": [
      "\r",
      " 45% (142992000.0 of 315360000.0) |##   | Elapsed Time: 10:18:51 ETA:   8:47:28"
     ]
    },
    {
     "name": "stderr",
     "output_type": "stream",
     "text": [
      "\r",
      " 45% (143078400.0 of 315360000.0) |##   | Elapsed Time: 10:19:31 ETA:  22:00:00"
     ]
    },
    {
     "name": "stderr",
     "output_type": "stream",
     "text": [
      "\r",
      " 45% (143424000.0 of 315360000.0) |##   | Elapsed Time: 10:20:34 ETA:   8:43:43"
     ]
    },
    {
     "name": "stderr",
     "output_type": "stream",
     "text": [
      "\r",
      " 45% (143510400.0 of 315360000.0) |##   | Elapsed Time: 10:21:14 ETA:  22:12:28"
     ]
    },
    {
     "name": "stderr",
     "output_type": "stream",
     "text": [
      "\r",
      " 45% (143856000.0 of 315360000.0) |##   | Elapsed Time: 10:22:17 ETA:   8:44:08"
     ]
    },
    {
     "name": "stderr",
     "output_type": "stream",
     "text": [
      "\r",
      " 45% (143942400.0 of 315360000.0) |##   | Elapsed Time: 10:22:57 ETA:  21:54:20"
     ]
    },
    {
     "name": "stderr",
     "output_type": "stream",
     "text": [
      "\r",
      " 45% (144288000.0 of 315360000.0) |##   | Elapsed Time: 10:24:00 ETA:   8:42:15"
     ]
    },
    {
     "name": "stderr",
     "output_type": "stream",
     "text": [
      "\r",
      " 45% (144374400.0 of 315360000.0) |##   | Elapsed Time: 10:24:40 ETA:  21:44:55"
     ]
    },
    {
     "name": "stderr",
     "output_type": "stream",
     "text": [
      "\r",
      " 45% (144720000.0 of 315360000.0) |##   | Elapsed Time: 10:25:43 ETA:   8:39:21"
     ]
    },
    {
     "name": "stderr",
     "output_type": "stream",
     "text": [
      "\r",
      " 45% (144806400.0 of 315360000.0) |##   | Elapsed Time: 10:26:23 ETA:  21:47:23"
     ]
    },
    {
     "name": "stderr",
     "output_type": "stream",
     "text": [
      "\r",
      " 46% (145152000.0 of 315360000.0) |##   | Elapsed Time: 10:27:26 ETA:   8:40:50"
     ]
    },
    {
     "name": "stderr",
     "output_type": "stream",
     "text": [
      "\r",
      " 46% (145238400.0 of 315360000.0) |##   | Elapsed Time: 10:28:06 ETA:  21:55:35"
     ]
    },
    {
     "name": "stderr",
     "output_type": "stream",
     "text": [
      "\r",
      " 46% (145584000.0 of 315360000.0) |##   | Elapsed Time: 10:29:09 ETA:   8:37:33"
     ]
    },
    {
     "name": "stderr",
     "output_type": "stream",
     "text": [
      "\r",
      " 46% (145670400.0 of 315360000.0) |##   | Elapsed Time: 10:29:50 ETA:  22:16:52"
     ]
    },
    {
     "name": "stderr",
     "output_type": "stream",
     "text": [
      "\r",
      " 46% (146016000.0 of 315360000.0) |##   | Elapsed Time: 10:30:53 ETA:   8:33:49"
     ]
    },
    {
     "name": "stderr",
     "output_type": "stream",
     "text": [
      "\r",
      " 46% (146102400.0 of 315360000.0) |##   | Elapsed Time: 10:31:34 ETA:  22:15:06"
     ]
    },
    {
     "name": "stderr",
     "output_type": "stream",
     "text": [
      "\r",
      " 46% (146448000.0 of 315360000.0) |##   | Elapsed Time: 10:32:37 ETA:   8:34:34"
     ]
    },
    {
     "name": "stderr",
     "output_type": "stream",
     "text": [
      "\r",
      " 46% (146534400.0 of 315360000.0) |##   | Elapsed Time: 10:33:18 ETA:  21:57:25"
     ]
    },
    {
     "name": "stderr",
     "output_type": "stream",
     "text": [
      "\r",
      " 46% (146880000.0 of 315360000.0) |##   | Elapsed Time: 10:34:21 ETA:   8:31:25"
     ]
    },
    {
     "name": "stderr",
     "output_type": "stream",
     "text": [
      "\r",
      " 46% (146966400.0 of 315360000.0) |##   | Elapsed Time: 10:35:01 ETA:  21:49:07"
     ]
    },
    {
     "name": "stderr",
     "output_type": "stream",
     "text": [
      "\r",
      " 46% (147312000.0 of 315360000.0) |##   | Elapsed Time: 10:36:04 ETA:   8:27:28"
     ]
    },
    {
     "name": "stderr",
     "output_type": "stream",
     "text": [
      "\r",
      " 46% (147398400.0 of 315360000.0) |##   | Elapsed Time: 10:36:44 ETA:  21:55:22"
     ]
    },
    {
     "name": "stderr",
     "output_type": "stream",
     "text": [
      "\r",
      " 46% (147744000.0 of 315360000.0) |##   | Elapsed Time: 10:37:47 ETA:   8:29:50"
     ]
    },
    {
     "name": "stderr",
     "output_type": "stream",
     "text": [
      "\r",
      " 46% (147830400.0 of 315360000.0) |##   | Elapsed Time: 10:38:27 ETA:  21:24:58"
     ]
    },
    {
     "name": "stderr",
     "output_type": "stream",
     "text": [
      "\r",
      " 46% (148176000.0 of 315360000.0) |##   | Elapsed Time: 10:39:30 ETA:   8:27:10"
     ]
    },
    {
     "name": "stderr",
     "output_type": "stream",
     "text": [
      "\r",
      " 47% (148262400.0 of 315360000.0) |##   | Elapsed Time: 10:40:10 ETA:  21:32:27"
     ]
    },
    {
     "name": "stderr",
     "output_type": "stream",
     "text": [
      "\r",
      " 47% (148608000.0 of 315360000.0) |##   | Elapsed Time: 10:41:13 ETA:   8:25:35"
     ]
    },
    {
     "name": "stderr",
     "output_type": "stream",
     "text": [
      "\r",
      " 47% (148694400.0 of 315360000.0) |##   | Elapsed Time: 10:41:53 ETA:  21:19:21"
     ]
    },
    {
     "name": "stderr",
     "output_type": "stream",
     "text": [
      "\r",
      " 47% (149040000.0 of 315360000.0) |##   | Elapsed Time: 10:42:55 ETA:   8:22:07"
     ]
    },
    {
     "name": "stderr",
     "output_type": "stream",
     "text": [
      "\r",
      " 47% (149126400.0 of 315360000.0) |##   | Elapsed Time: 10:43:35 ETA:  21:19:44"
     ]
    },
    {
     "name": "stderr",
     "output_type": "stream",
     "text": [
      "\r",
      " 47% (149472000.0 of 315360000.0) |##   | Elapsed Time: 10:44:38 ETA:   8:21:52"
     ]
    },
    {
     "name": "stderr",
     "output_type": "stream",
     "text": [
      "\r",
      " 47% (149558400.0 of 315360000.0) |##   | Elapsed Time: 10:45:18 ETA:  21:13:28"
     ]
    },
    {
     "name": "stderr",
     "output_type": "stream",
     "text": [
      "\r",
      " 47% (149904000.0 of 315360000.0) |##   | Elapsed Time: 10:46:21 ETA:   8:22:58"
     ]
    },
    {
     "name": "stderr",
     "output_type": "stream",
     "text": [
      "\r",
      " 47% (149990400.0 of 315360000.0) |##   | Elapsed Time: 10:47:01 ETA:  21:28:23"
     ]
    },
    {
     "name": "stderr",
     "output_type": "stream",
     "text": [
      "\r",
      " 47% (150336000.0 of 315360000.0) |##   | Elapsed Time: 10:48:04 ETA:   8:18:15"
     ]
    },
    {
     "name": "stderr",
     "output_type": "stream",
     "text": [
      "\r",
      " 47% (150422400.0 of 315360000.0) |##   | Elapsed Time: 10:48:44 ETA:  21:30:58"
     ]
    },
    {
     "name": "stderr",
     "output_type": "stream",
     "text": [
      "\r",
      " 47% (150768000.0 of 315360000.0) |##   | Elapsed Time: 10:49:47 ETA:   8:18:46"
     ]
    },
    {
     "name": "stderr",
     "output_type": "stream",
     "text": [
      "\r",
      " 47% (150854400.0 of 315360000.0) |##   | Elapsed Time: 10:50:28 ETA:  21:18:51"
     ]
    },
    {
     "name": "stderr",
     "output_type": "stream",
     "text": [
      "\r",
      " 47% (151200000.0 of 315360000.0) |##   | Elapsed Time: 10:51:30 ETA:   8:15:53"
     ]
    },
    {
     "name": "stderr",
     "output_type": "stream",
     "text": [
      "\r",
      " 47% (151286400.0 of 315360000.0) |##   | Elapsed Time: 10:52:11 ETA:  21:18:16"
     ]
    },
    {
     "name": "stderr",
     "output_type": "stream",
     "text": [
      "\r",
      " 48% (151632000.0 of 315360000.0) |##   | Elapsed Time: 10:53:13 ETA:   8:12:16"
     ]
    },
    {
     "name": "stderr",
     "output_type": "stream",
     "text": [
      "\r",
      " 48% (151718400.0 of 315360000.0) |##   | Elapsed Time: 10:53:53 ETA:  20:54:51"
     ]
    },
    {
     "name": "stderr",
     "output_type": "stream",
     "text": [
      "\r",
      " 48% (152064000.0 of 315360000.0) |##   | Elapsed Time: 10:54:55 ETA:   8:10:11"
     ]
    },
    {
     "name": "stderr",
     "output_type": "stream",
     "text": [
      "\r",
      " 48% (152150400.0 of 315360000.0) |##   | Elapsed Time: 10:55:35 ETA:  21:08:21"
     ]
    },
    {
     "name": "stderr",
     "output_type": "stream",
     "text": [
      "\r",
      " 48% (152496000.0 of 315360000.0) |##   | Elapsed Time: 10:56:37 ETA:   8:07:48"
     ]
    },
    {
     "name": "stderr",
     "output_type": "stream",
     "text": [
      "\r",
      " 48% (152582400.0 of 315360000.0) |##   | Elapsed Time: 10:57:17 ETA:  20:56:17"
     ]
    },
    {
     "name": "stderr",
     "output_type": "stream",
     "text": [
      "\r",
      " 48% (152928000.0 of 315360000.0) |##   | Elapsed Time: 10:58:20 ETA:   8:11:39"
     ]
    },
    {
     "name": "stderr",
     "output_type": "stream",
     "text": [
      "\r",
      " 48% (153014400.0 of 315360000.0) |##   | Elapsed Time: 10:59:00 ETA:  21:02:05"
     ]
    },
    {
     "name": "stderr",
     "output_type": "stream",
     "text": [
      "\r",
      " 48% (153360000.0 of 315360000.0) |##   | Elapsed Time: 11:00:03 ETA:   8:08:09"
     ]
    },
    {
     "name": "stderr",
     "output_type": "stream",
     "text": [
      "\r",
      " 48% (153446400.0 of 315360000.0) |##   | Elapsed Time: 11:00:43 ETA:  20:46:26"
     ]
    },
    {
     "name": "stderr",
     "output_type": "stream",
     "text": [
      "\r",
      " 48% (153792000.0 of 315360000.0) |##   | Elapsed Time: 11:01:45 ETA:   8:05:43"
     ]
    },
    {
     "name": "stderr",
     "output_type": "stream",
     "text": [
      "\r",
      " 48% (153878400.0 of 315360000.0) |##   | Elapsed Time: 11:02:25 ETA:  20:30:29"
     ]
    },
    {
     "name": "stderr",
     "output_type": "stream",
     "text": [
      "\r",
      " 48% (154224000.0 of 315360000.0) |##   | Elapsed Time: 11:03:27 ETA:   8:03:19"
     ]
    },
    {
     "name": "stderr",
     "output_type": "stream",
     "text": [
      "\r",
      " 48% (154310400.0 of 315360000.0) |##   | Elapsed Time: 11:04:07 ETA:  20:35:00"
     ]
    },
    {
     "name": "stderr",
     "output_type": "stream",
     "text": [
      "\r",
      " 49% (154656000.0 of 315360000.0) |##   | Elapsed Time: 11:05:09 ETA:   8:04:04"
     ]
    },
    {
     "name": "stderr",
     "output_type": "stream",
     "text": [
      "\r",
      " 49% (154742400.0 of 315360000.0) |##   | Elapsed Time: 11:05:49 ETA:  20:30:45"
     ]
    },
    {
     "name": "stderr",
     "output_type": "stream",
     "text": [
      "\r",
      " 49% (155088000.0 of 315360000.0) |##   | Elapsed Time: 11:06:51 ETA:   7:59:52"
     ]
    },
    {
     "name": "stderr",
     "output_type": "stream",
     "text": [
      "\r",
      " 49% (155174400.0 of 315360000.0) |##   | Elapsed Time: 11:07:30 ETA:  20:17:27"
     ]
    },
    {
     "name": "stderr",
     "output_type": "stream",
     "text": [
      "\r",
      " 49% (155520000.0 of 315360000.0) |##   | Elapsed Time: 11:08:32 ETA:   7:56:16"
     ]
    },
    {
     "name": "stderr",
     "output_type": "stream",
     "text": [
      "\r",
      " 49% (155606400.0 of 315360000.0) |##   | Elapsed Time: 11:09:11 ETA:  20:07:34"
     ]
    },
    {
     "name": "stderr",
     "output_type": "stream",
     "text": [
      "\r",
      " 49% (155952000.0 of 315360000.0) |##   | Elapsed Time: 11:10:13 ETA:   7:57:00"
     ]
    },
    {
     "name": "stderr",
     "output_type": "stream",
     "text": [
      "\r",
      " 49% (156038400.0 of 315360000.0) |##   | Elapsed Time: 11:10:52 ETA:  20:01:52"
     ]
    },
    {
     "name": "stderr",
     "output_type": "stream",
     "text": [
      "\r",
      " 49% (156384000.0 of 315360000.0) |##   | Elapsed Time: 11:11:54 ETA:   7:55:13"
     ]
    },
    {
     "name": "stderr",
     "output_type": "stream",
     "text": [
      "\r",
      " 49% (156470400.0 of 315360000.0) |##   | Elapsed Time: 11:12:35 ETA:  20:30:42"
     ]
    },
    {
     "name": "stderr",
     "output_type": "stream",
     "text": [
      "\r",
      " 49% (156816000.0 of 315360000.0) |##   | Elapsed Time: 11:13:36 ETA:   7:49:36"
     ]
    },
    {
     "name": "stderr",
     "output_type": "stream",
     "text": [
      "\r",
      " 49% (156902400.0 of 315360000.0) |##   | Elapsed Time: 11:14:16 ETA:  20:13:06"
     ]
    },
    {
     "name": "stderr",
     "output_type": "stream",
     "text": [
      "\r",
      " 49% (157248000.0 of 315360000.0) |##   | Elapsed Time: 11:15:17 ETA:   7:51:51"
     ]
    },
    {
     "name": "stderr",
     "output_type": "stream",
     "text": [
      "\r",
      " 49% (157334400.0 of 315360000.0) |##   | Elapsed Time: 11:15:57 ETA:  20:10:15"
     ]
    },
    {
     "name": "stderr",
     "output_type": "stream",
     "text": [
      "\r",
      " 50% (157680000.0 of 315360000.0) |##   | Elapsed Time: 11:16:59 ETA:   7:46:38"
     ]
    },
    {
     "name": "stderr",
     "output_type": "stream",
     "text": [
      "\r",
      " 50% (157766400.0 of 315360000.0) |##   | Elapsed Time: 11:17:38 ETA:  20:10:02"
     ]
    },
    {
     "name": "stderr",
     "output_type": "stream",
     "text": [
      "\r",
      " 50% (158112000.0 of 315360000.0) |##   | Elapsed Time: 11:18:40 ETA:   7:46:49"
     ]
    },
    {
     "name": "stderr",
     "output_type": "stream",
     "text": [
      "\r",
      " 50% (158198400.0 of 315360000.0) |##   | Elapsed Time: 11:19:20 ETA:  20:05:44"
     ]
    },
    {
     "name": "stderr",
     "output_type": "stream",
     "text": [
      "\r",
      " 50% (158544000.0 of 315360000.0) |##   | Elapsed Time: 11:20:21 ETA:   7:42:25"
     ]
    },
    {
     "name": "stderr",
     "output_type": "stream",
     "text": [
      "\r",
      " 50% (158630400.0 of 315360000.0) |##   | Elapsed Time: 11:21:00 ETA:  19:54:44"
     ]
    },
    {
     "name": "stderr",
     "output_type": "stream",
     "text": [
      "\r",
      " 50% (158976000.0 of 315360000.0) |##   | Elapsed Time: 11:22:02 ETA:   7:45:06"
     ]
    },
    {
     "name": "stderr",
     "output_type": "stream",
     "text": [
      "\r",
      " 50% (159062400.0 of 315360000.0) |##   | Elapsed Time: 11:22:42 ETA:  20:05:23"
     ]
    },
    {
     "name": "stderr",
     "output_type": "stream",
     "text": [
      "\r",
      " 50% (159408000.0 of 315360000.0) |##   | Elapsed Time: 11:23:43 ETA:   7:39:02"
     ]
    },
    {
     "name": "stderr",
     "output_type": "stream",
     "text": [
      "\r",
      " 50% (159494400.0 of 315360000.0) |##   | Elapsed Time: 11:24:23 ETA:  19:54:38"
     ]
    },
    {
     "name": "stderr",
     "output_type": "stream",
     "text": [
      "\r",
      " 50% (159840000.0 of 315360000.0) |##   | Elapsed Time: 11:25:24 ETA:   7:38:27"
     ]
    },
    {
     "name": "stderr",
     "output_type": "stream",
     "text": [
      "\r",
      " 50% (159926400.0 of 315360000.0) |##   | Elapsed Time: 11:26:04 ETA:  19:47:43"
     ]
    },
    {
     "name": "stderr",
     "output_type": "stream",
     "text": [
      "\r",
      " 50% (160272000.0 of 315360000.0) |##   | Elapsed Time: 11:27:05 ETA:   7:37:15"
     ]
    },
    {
     "name": "stderr",
     "output_type": "stream",
     "text": [
      "\r",
      " 50% (160358400.0 of 315360000.0) |##   | Elapsed Time: 11:27:44 ETA:  19:47:23"
     ]
    },
    {
     "name": "stderr",
     "output_type": "stream",
     "text": [
      "\r",
      " 50% (160704000.0 of 315360000.0) |##   | Elapsed Time: 11:28:46 ETA:   7:37:17"
     ]
    },
    {
     "name": "stderr",
     "output_type": "stream",
     "text": [
      "\r",
      " 50% (160790400.0 of 315360000.0) |##   | Elapsed Time: 11:29:25 ETA:  19:36:51"
     ]
    },
    {
     "name": "stderr",
     "output_type": "stream",
     "text": [
      "\r",
      " 51% (161136000.0 of 315360000.0) |##   | Elapsed Time: 11:30:26 ETA:   7:32:03"
     ]
    },
    {
     "name": "stderr",
     "output_type": "stream",
     "text": [
      "\r",
      " 51% (161222400.0 of 315360000.0) |##   | Elapsed Time: 11:31:06 ETA:  19:44:34"
     ]
    },
    {
     "name": "stderr",
     "output_type": "stream",
     "text": [
      "\r",
      " 51% (161568000.0 of 315360000.0) |##   | Elapsed Time: 11:32:07 ETA:   7:35:02"
     ]
    },
    {
     "name": "stderr",
     "output_type": "stream",
     "text": [
      "\r",
      " 51% (161654400.0 of 315360000.0) |##   | Elapsed Time: 11:32:47 ETA:  19:31:11"
     ]
    },
    {
     "name": "stderr",
     "output_type": "stream",
     "text": [
      "\r",
      " 51% (162000000.0 of 315360000.0) |##   | Elapsed Time: 11:33:47 ETA:   7:26:30"
     ]
    },
    {
     "name": "stderr",
     "output_type": "stream",
     "text": [
      "\r",
      " 51% (162086400.0 of 315360000.0) |##   | Elapsed Time: 11:34:27 ETA:  19:33:35"
     ]
    },
    {
     "name": "stderr",
     "output_type": "stream",
     "text": [
      "\r",
      " 51% (162432000.0 of 315360000.0) |##   | Elapsed Time: 11:35:27 ETA:   7:27:13"
     ]
    },
    {
     "name": "stderr",
     "output_type": "stream",
     "text": [
      "\r",
      " 51% (162518400.0 of 315360000.0) |##   | Elapsed Time: 11:36:07 ETA:  19:24:37"
     ]
    },
    {
     "name": "stderr",
     "output_type": "stream",
     "text": [
      "\r",
      " 51% (162864000.0 of 315360000.0) |##   | Elapsed Time: 11:37:07 ETA:   7:25:06"
     ]
    },
    {
     "name": "stderr",
     "output_type": "stream",
     "text": [
      "\r",
      " 51% (162950400.0 of 315360000.0) |##   | Elapsed Time: 11:37:47 ETA:  19:13:27"
     ]
    },
    {
     "name": "stderr",
     "output_type": "stream",
     "text": [
      "\r",
      " 51% (163296000.0 of 315360000.0) |##   | Elapsed Time: 11:38:47 ETA:   7:21:31"
     ]
    },
    {
     "name": "stderr",
     "output_type": "stream",
     "text": [
      "\r",
      " 51% (163382400.0 of 315360000.0) |##   | Elapsed Time: 11:39:26 ETA:  19:15:30"
     ]
    },
    {
     "name": "stderr",
     "output_type": "stream",
     "text": [
      "\r",
      " 51% (163728000.0 of 315360000.0) |##   | Elapsed Time: 11:40:27 ETA:   7:23:50"
     ]
    },
    {
     "name": "stderr",
     "output_type": "stream",
     "text": [
      "\r",
      " 51% (163814400.0 of 315360000.0) |##   | Elapsed Time: 11:41:07 ETA:  19:31:13"
     ]
    },
    {
     "name": "stderr",
     "output_type": "stream",
     "text": [
      "\r",
      " 52% (164160000.0 of 315360000.0) |##   | Elapsed Time: 11:42:07 ETA:   7:20:55"
     ]
    },
    {
     "name": "stderr",
     "output_type": "stream",
     "text": [
      "\r",
      " 52% (164246400.0 of 315360000.0) |##   | Elapsed Time: 11:42:47 ETA:  19:08:26"
     ]
    },
    {
     "name": "stderr",
     "output_type": "stream",
     "text": [
      "\r",
      " 52% (164592000.0 of 315360000.0) |##   | Elapsed Time: 11:43:47 ETA:   7:18:07"
     ]
    },
    {
     "name": "stderr",
     "output_type": "stream",
     "text": [
      "\r",
      " 52% (164678400.0 of 315360000.0) |##   | Elapsed Time: 11:44:27 ETA:  19:19:08"
     ]
    },
    {
     "name": "stderr",
     "output_type": "stream",
     "text": [
      "\r",
      " 52% (165024000.0 of 315360000.0) |##   | Elapsed Time: 11:45:27 ETA:   7:17:31"
     ]
    },
    {
     "name": "stderr",
     "output_type": "stream",
     "text": [
      "\r",
      " 52% (165110400.0 of 315360000.0) |##   | Elapsed Time: 11:46:07 ETA:  19:12:11"
     ]
    },
    {
     "name": "stderr",
     "output_type": "stream",
     "text": [
      "\r",
      " 52% (165456000.0 of 315360000.0) |##   | Elapsed Time: 11:47:07 ETA:   7:12:34"
     ]
    },
    {
     "name": "stderr",
     "output_type": "stream",
     "text": [
      "\r",
      " 52% (165542400.0 of 315360000.0) |##   | Elapsed Time: 11:47:47 ETA:  19:04:47"
     ]
    },
    {
     "name": "stderr",
     "output_type": "stream",
     "text": [
      "\r",
      " 52% (165888000.0 of 315360000.0) |##   | Elapsed Time: 11:48:47 ETA:   7:13:14"
     ]
    },
    {
     "name": "stderr",
     "output_type": "stream",
     "text": [
      "\r",
      " 52% (165974400.0 of 315360000.0) |##   | Elapsed Time: 11:49:26 ETA:  18:58:13"
     ]
    },
    {
     "name": "stderr",
     "output_type": "stream",
     "text": [
      "\r",
      " 52% (166320000.0 of 315360000.0) |##   | Elapsed Time: 11:50:26 ETA:   7:12:30"
     ]
    },
    {
     "name": "stderr",
     "output_type": "stream",
     "text": [
      "\r",
      " 52% (166406400.0 of 315360000.0) |##   | Elapsed Time: 11:51:06 ETA:  18:49:55"
     ]
    },
    {
     "name": "stderr",
     "output_type": "stream",
     "text": [
      "\r",
      " 52% (166752000.0 of 315360000.0) |##   | Elapsed Time: 11:52:06 ETA:   7:09:57"
     ]
    },
    {
     "name": "stderr",
     "output_type": "stream",
     "text": [
      "\r",
      " 52% (166838400.0 of 315360000.0) |##   | Elapsed Time: 11:52:45 ETA:  18:59:21"
     ]
    },
    {
     "name": "stderr",
     "output_type": "stream",
     "text": [
      "\r",
      " 53% (167184000.0 of 315360000.0) |##   | Elapsed Time: 11:53:46 ETA:   7:13:31"
     ]
    },
    {
     "name": "stderr",
     "output_type": "stream",
     "text": [
      "\r",
      " 53% (167270400.0 of 315360000.0) |##   | Elapsed Time: 11:54:26 ETA:  18:51:32"
     ]
    },
    {
     "name": "stderr",
     "output_type": "stream",
     "text": [
      "\r",
      " 53% (167616000.0 of 315360000.0) |##   | Elapsed Time: 11:55:26 ETA:   7:11:08"
     ]
    },
    {
     "name": "stderr",
     "output_type": "stream",
     "text": [
      "\r",
      " 53% (167702400.0 of 315360000.0) |##   | Elapsed Time: 11:56:06 ETA:  18:44:46"
     ]
    },
    {
     "name": "stderr",
     "output_type": "stream",
     "text": [
      "\r",
      " 53% (168048000.0 of 315360000.0) |##   | Elapsed Time: 11:57:06 ETA:   7:08:32"
     ]
    },
    {
     "name": "stderr",
     "output_type": "stream",
     "text": [
      "\r",
      " 53% (168134400.0 of 315360000.0) |##   | Elapsed Time: 11:57:46 ETA:  18:54:45"
     ]
    },
    {
     "name": "stderr",
     "output_type": "stream",
     "text": [
      "\r",
      " 53% (168480000.0 of 315360000.0) |##   | Elapsed Time: 11:58:46 ETA:   7:06:17"
     ]
    },
    {
     "name": "stderr",
     "output_type": "stream",
     "text": [
      "\r",
      " 53% (168566400.0 of 315360000.0) |##   | Elapsed Time: 11:59:26 ETA:  18:45:04"
     ]
    },
    {
     "name": "stderr",
     "output_type": "stream",
     "text": [
      "\r",
      " 53% (168912000.0 of 315360000.0) |##   | Elapsed Time: 12:00:26 ETA:   7:01:22"
     ]
    },
    {
     "name": "stderr",
     "output_type": "stream",
     "text": [
      "\r",
      " 53% (168998400.0 of 315360000.0) |##   | Elapsed Time: 12:01:05 ETA:  18:45:06"
     ]
    },
    {
     "name": "stderr",
     "output_type": "stream",
     "text": [
      "\r",
      " 53% (169344000.0 of 315360000.0) |##   | Elapsed Time: 12:02:05 ETA:   7:02:07"
     ]
    },
    {
     "name": "stderr",
     "output_type": "stream",
     "text": [
      "\r",
      " 53% (169430400.0 of 315360000.0) |##   | Elapsed Time: 12:02:45 ETA:  18:34:09"
     ]
    },
    {
     "name": "stderr",
     "output_type": "stream",
     "text": [
      "\r",
      " 53% (169776000.0 of 315360000.0) |##   | Elapsed Time: 12:03:45 ETA:   7:00:51"
     ]
    },
    {
     "name": "stderr",
     "output_type": "stream",
     "text": [
      "\r",
      " 53% (169862400.0 of 315360000.0) |##   | Elapsed Time: 12:04:24 ETA:  18:25:54"
     ]
    },
    {
     "name": "stderr",
     "output_type": "stream",
     "text": [
      "\r",
      " 53% (170208000.0 of 315360000.0) |##   | Elapsed Time: 12:05:24 ETA:   7:01:02"
     ]
    },
    {
     "name": "stderr",
     "output_type": "stream",
     "text": [
      "\r",
      " 54% (170294400.0 of 315360000.0) |##   | Elapsed Time: 12:06:04 ETA:  18:25:28"
     ]
    },
    {
     "name": "stderr",
     "output_type": "stream",
     "text": [
      "\r",
      " 54% (170640000.0 of 315360000.0) |##   | Elapsed Time: 12:07:04 ETA:   7:00:25"
     ]
    },
    {
     "name": "stderr",
     "output_type": "stream",
     "text": [
      "\r",
      " 54% (170726400.0 of 315360000.0) |##   | Elapsed Time: 12:07:44 ETA:  18:19:00"
     ]
    },
    {
     "name": "stderr",
     "output_type": "stream",
     "text": [
      "\r",
      " 54% (171072000.0 of 315360000.0) |##   | Elapsed Time: 12:08:44 ETA:   7:02:12"
     ]
    },
    {
     "name": "stderr",
     "output_type": "stream",
     "text": [
      "\r",
      " 54% (171158400.0 of 315360000.0) |##   | Elapsed Time: 12:09:24 ETA:  18:26:36"
     ]
    },
    {
     "name": "stderr",
     "output_type": "stream",
     "text": [
      "\r",
      " 54% (171504000.0 of 315360000.0) |##   | Elapsed Time: 12:10:24 ETA:   6:55:36"
     ]
    },
    {
     "name": "stderr",
     "output_type": "stream",
     "text": [
      "\r",
      " 54% (171590400.0 of 315360000.0) |##   | Elapsed Time: 12:11:04 ETA:  18:28:21"
     ]
    },
    {
     "name": "stderr",
     "output_type": "stream",
     "text": [
      "\r",
      " 54% (171936000.0 of 315360000.0) |##   | Elapsed Time: 12:12:04 ETA:   6:55:49"
     ]
    },
    {
     "name": "stderr",
     "output_type": "stream",
     "text": [
      "\r",
      " 54% (172022400.0 of 315360000.0) |##   | Elapsed Time: 12:12:44 ETA:  18:18:33"
     ]
    },
    {
     "name": "stderr",
     "output_type": "stream",
     "text": [
      "\r",
      " 54% (172368000.0 of 315360000.0) |##   | Elapsed Time: 12:13:44 ETA:   6:58:15"
     ]
    },
    {
     "name": "stderr",
     "output_type": "stream",
     "text": [
      "\r",
      " 54% (172454400.0 of 315360000.0) |##   | Elapsed Time: 12:14:25 ETA:  18:37:55"
     ]
    },
    {
     "name": "stderr",
     "output_type": "stream",
     "text": [
      "\r",
      " 54% (172800000.0 of 315360000.0) |##   | Elapsed Time: 12:15:25 ETA:   6:53:25"
     ]
    },
    {
     "name": "stderr",
     "output_type": "stream",
     "text": [
      "\r",
      " 54% (172886400.0 of 315360000.0) |##   | Elapsed Time: 12:16:04 ETA:  17:55:02"
     ]
    },
    {
     "name": "stderr",
     "output_type": "stream",
     "text": [
      "\r",
      " 54% (173232000.0 of 315360000.0) |##   | Elapsed Time: 12:17:04 ETA:   6:47:17"
     ]
    },
    {
     "name": "stderr",
     "output_type": "stream",
     "text": [
      "\r",
      " 54% (173318400.0 of 315360000.0) |##   | Elapsed Time: 12:17:43 ETA:  18:04:25"
     ]
    },
    {
     "name": "stderr",
     "output_type": "stream",
     "text": [
      "\r",
      " 55% (173664000.0 of 315360000.0) |##   | Elapsed Time: 12:18:42 ETA:   6:44:50"
     ]
    },
    {
     "name": "stderr",
     "output_type": "stream",
     "text": [
      "\r",
      " 55% (173750400.0 of 315360000.0) |##   | Elapsed Time: 12:19:22 ETA:  17:51:14"
     ]
    },
    {
     "name": "stderr",
     "output_type": "stream",
     "text": [
      "\r",
      " 55% (174096000.0 of 315360000.0) |##   | Elapsed Time: 12:20:22 ETA:   6:50:29"
     ]
    },
    {
     "name": "stderr",
     "output_type": "stream",
     "text": [
      "\r",
      " 55% (174182400.0 of 315360000.0) |##   | Elapsed Time: 12:21:02 ETA:  17:59:41"
     ]
    },
    {
     "name": "stderr",
     "output_type": "stream",
     "text": [
      "\r",
      " 55% (174528000.0 of 315360000.0) |##   | Elapsed Time: 12:22:01 ETA:   6:46:58"
     ]
    },
    {
     "name": "stderr",
     "output_type": "stream",
     "text": [
      "\r",
      " 55% (174614400.0 of 315360000.0) |##   | Elapsed Time: 12:22:41 ETA:  17:58:08"
     ]
    },
    {
     "name": "stderr",
     "output_type": "stream",
     "text": [
      "\r",
      " 55% (174960000.0 of 315360000.0) |##   | Elapsed Time: 12:23:41 ETA:   6:42:31"
     ]
    },
    {
     "name": "stderr",
     "output_type": "stream",
     "text": [
      "\r",
      " 55% (175046400.0 of 315360000.0) |##   | Elapsed Time: 12:24:20 ETA:  17:53:39"
     ]
    },
    {
     "name": "stderr",
     "output_type": "stream",
     "text": [
      "\r",
      " 55% (175392000.0 of 315360000.0) |##   | Elapsed Time: 12:25:19 ETA:   6:39:25"
     ]
    },
    {
     "name": "stderr",
     "output_type": "stream",
     "text": [
      "\r",
      " 55% (175478400.0 of 315360000.0) |##   | Elapsed Time: 12:25:59 ETA:  17:35:03"
     ]
    },
    {
     "name": "stderr",
     "output_type": "stream",
     "text": [
      "\r",
      " 55% (175824000.0 of 315360000.0) |##   | Elapsed Time: 12:26:58 ETA:   6:40:22"
     ]
    },
    {
     "name": "stderr",
     "output_type": "stream",
     "text": [
      "\r",
      " 55% (175910400.0 of 315360000.0) |##   | Elapsed Time: 12:27:37 ETA:  17:37:09"
     ]
    },
    {
     "name": "stderr",
     "output_type": "stream",
     "text": [
      "\r",
      " 55% (176256000.0 of 315360000.0) |##   | Elapsed Time: 12:28:37 ETA:   6:40:45"
     ]
    },
    {
     "name": "stderr",
     "output_type": "stream",
     "text": [
      "\r",
      " 55% (176342400.0 of 315360000.0) |##   | Elapsed Time: 12:29:16 ETA:  17:35:39"
     ]
    },
    {
     "name": "stderr",
     "output_type": "stream",
     "text": [
      "\r",
      " 56% (176688000.0 of 315360000.0) |##   | Elapsed Time: 12:30:16 ETA:   6:37:05"
     ]
    },
    {
     "name": "stderr",
     "output_type": "stream",
     "text": [
      "\r",
      " 56% (176774400.0 of 315360000.0) |##   | Elapsed Time: 12:30:55 ETA:  17:23:39"
     ]
    },
    {
     "name": "stderr",
     "output_type": "stream",
     "text": [
      "\r",
      " 56% (177120000.0 of 315360000.0) |##   | Elapsed Time: 12:31:54 ETA:   6:34:57"
     ]
    },
    {
     "name": "stderr",
     "output_type": "stream",
     "text": [
      "\r",
      " 56% (177206400.0 of 315360000.0) |##   | Elapsed Time: 12:32:34 ETA:  17:33:21"
     ]
    },
    {
     "name": "stderr",
     "output_type": "stream",
     "text": [
      "\r",
      " 56% (177552000.0 of 315360000.0) |##   | Elapsed Time: 12:33:33 ETA:   6:33:19"
     ]
    },
    {
     "name": "stderr",
     "output_type": "stream",
     "text": [
      "\r",
      " 56% (177638400.0 of 315360000.0) |##   | Elapsed Time: 12:34:12 ETA:  17:32:40"
     ]
    },
    {
     "name": "stderr",
     "output_type": "stream",
     "text": [
      "\r",
      " 56% (177984000.0 of 315360000.0) |##   | Elapsed Time: 12:35:12 ETA:   6:34:36"
     ]
    },
    {
     "name": "stderr",
     "output_type": "stream",
     "text": [
      "\r",
      " 56% (178070400.0 of 315360000.0) |##   | Elapsed Time: 12:35:51 ETA:  17:14:38"
     ]
    },
    {
     "name": "stderr",
     "output_type": "stream",
     "text": [
      "\r",
      " 56% (178416000.0 of 315360000.0) |##   | Elapsed Time: 12:36:50 ETA:   6:30:54"
     ]
    },
    {
     "name": "stderr",
     "output_type": "stream",
     "text": [
      "\r",
      " 56% (178502400.0 of 315360000.0) |##   | Elapsed Time: 12:37:30 ETA:  17:26:24"
     ]
    },
    {
     "name": "stderr",
     "output_type": "stream",
     "text": [
      "\r",
      " 56% (178848000.0 of 315360000.0) |##   | Elapsed Time: 12:38:30 ETA:   6:33:51"
     ]
    },
    {
     "name": "stderr",
     "output_type": "stream",
     "text": [
      "\r",
      " 56% (178934400.0 of 315360000.0) |##   | Elapsed Time: 12:39:09 ETA:  17:23:12"
     ]
    },
    {
     "name": "stderr",
     "output_type": "stream",
     "text": [
      "\r",
      " 56% (179280000.0 of 315360000.0) |##   | Elapsed Time: 12:40:09 ETA:   6:32:13"
     ]
    },
    {
     "name": "stderr",
     "output_type": "stream",
     "text": [
      "\r",
      " 56% (179366400.0 of 315360000.0) |##   | Elapsed Time: 12:40:48 ETA:  17:04:41"
     ]
    },
    {
     "name": "stderr",
     "output_type": "stream",
     "text": [
      "\r",
      " 56% (179712000.0 of 315360000.0) |##   | Elapsed Time: 12:41:47 ETA:   6:26:52"
     ]
    },
    {
     "name": "stderr",
     "output_type": "stream",
     "text": [
      "\r",
      " 57% (179798400.0 of 315360000.0) |##   | Elapsed Time: 12:42:27 ETA:  17:04:46"
     ]
    },
    {
     "name": "stderr",
     "output_type": "stream",
     "text": [
      "\r",
      " 57% (180144000.0 of 315360000.0) |##   | Elapsed Time: 12:43:26 ETA:   6:24:54"
     ]
    },
    {
     "name": "stderr",
     "output_type": "stream",
     "text": [
      "\r",
      " 57% (180230400.0 of 315360000.0) |##   | Elapsed Time: 12:44:05 ETA:  17:02:17"
     ]
    },
    {
     "name": "stderr",
     "output_type": "stream",
     "text": [
      "\r",
      " 57% (180576000.0 of 315360000.0) |##   | Elapsed Time: 12:45:04 ETA:   6:25:42"
     ]
    },
    {
     "name": "stderr",
     "output_type": "stream",
     "text": [
      "\r",
      " 57% (180662400.0 of 315360000.0) |##   | Elapsed Time: 12:45:43 ETA:  16:56:17"
     ]
    },
    {
     "name": "stderr",
     "output_type": "stream",
     "text": [
      "\r",
      " 57% (181008000.0 of 315360000.0) |##   | Elapsed Time: 12:46:42 ETA:   6:21:04"
     ]
    },
    {
     "name": "stderr",
     "output_type": "stream",
     "text": [
      "\r",
      " 57% (181094400.0 of 315360000.0) |##   | Elapsed Time: 12:47:21 ETA:  16:57:49"
     ]
    },
    {
     "name": "stderr",
     "output_type": "stream",
     "text": [
      "\r",
      " 57% (181440000.0 of 315360000.0) |##   | Elapsed Time: 12:48:20 ETA:   6:20:24"
     ]
    },
    {
     "name": "stderr",
     "output_type": "stream",
     "text": [
      "\r",
      " 57% (181526400.0 of 315360000.0) |##   | Elapsed Time: 12:48:59 ETA:  16:42:00"
     ]
    },
    {
     "name": "stderr",
     "output_type": "stream",
     "text": [
      "\r",
      " 57% (181872000.0 of 315360000.0) |##   | Elapsed Time: 12:49:58 ETA:   6:20:51"
     ]
    },
    {
     "name": "stderr",
     "output_type": "stream",
     "text": [
      "\r",
      " 57% (181958400.0 of 315360000.0) |##   | Elapsed Time: 12:50:37 ETA:  16:43:51"
     ]
    },
    {
     "name": "stderr",
     "output_type": "stream",
     "text": [
      "\r",
      " 57% (182304000.0 of 315360000.0) |##   | Elapsed Time: 12:51:36 ETA:   6:18:07"
     ]
    },
    {
     "name": "stderr",
     "output_type": "stream",
     "text": [
      "\r",
      " 57% (182390400.0 of 315360000.0) |##   | Elapsed Time: 12:52:15 ETA:  16:45:09"
     ]
    },
    {
     "name": "stderr",
     "output_type": "stream",
     "text": [
      "\r",
      " 57% (182736000.0 of 315360000.0) |##   | Elapsed Time: 12:53:14 ETA:   6:14:37"
     ]
    },
    {
     "name": "stderr",
     "output_type": "stream",
     "text": [
      "\r",
      " 57% (182822400.0 of 315360000.0) |##   | Elapsed Time: 12:53:53 ETA:  16:42:23"
     ]
    },
    {
     "name": "stderr",
     "output_type": "stream",
     "text": [
      "\r",
      " 58% (183168000.0 of 315360000.0) |##   | Elapsed Time: 12:54:52 ETA:   6:13:40"
     ]
    },
    {
     "name": "stderr",
     "output_type": "stream",
     "text": [
      "\r",
      " 58% (183254400.0 of 315360000.0) |##   | Elapsed Time: 12:55:31 ETA:  16:29:30"
     ]
    },
    {
     "name": "stderr",
     "output_type": "stream",
     "text": [
      "\r",
      " 58% (183600000.0 of 315360000.0) |##   | Elapsed Time: 12:56:29 ETA:   6:11:18"
     ]
    },
    {
     "name": "stderr",
     "output_type": "stream",
     "text": [
      "\r",
      " 58% (183686400.0 of 315360000.0) |##   | Elapsed Time: 12:57:08 ETA:  16:27:20"
     ]
    },
    {
     "name": "stderr",
     "output_type": "stream",
     "text": [
      "\r",
      " 58% (184032000.0 of 315360000.0) |##   | Elapsed Time: 12:58:06 ETA:   6:09:48"
     ]
    },
    {
     "name": "stderr",
     "output_type": "stream",
     "text": [
      "\r",
      " 58% (184118400.0 of 315360000.0) |##   | Elapsed Time: 12:58:45 ETA:  16:31:47"
     ]
    },
    {
     "name": "stderr",
     "output_type": "stream",
     "text": [
      "\r",
      " 58% (184464000.0 of 315360000.0) |##   | Elapsed Time: 12:59:44 ETA:   6:07:25"
     ]
    },
    {
     "name": "stderr",
     "output_type": "stream",
     "text": [
      "\r",
      " 58% (184550400.0 of 315360000.0) |##   | Elapsed Time: 13:00:23 ETA:  16:23:08"
     ]
    },
    {
     "name": "stderr",
     "output_type": "stream",
     "text": [
      "\r",
      " 58% (184896000.0 of 315360000.0) |##   | Elapsed Time: 13:01:21 ETA:   6:04:55"
     ]
    },
    {
     "name": "stderr",
     "output_type": "stream",
     "text": [
      "\r",
      " 58% (184982400.0 of 315360000.0) |##   | Elapsed Time: 13:02:00 ETA:  16:30:34"
     ]
    },
    {
     "name": "stderr",
     "output_type": "stream",
     "text": [
      "\r",
      " 58% (185328000.0 of 315360000.0) |##   | Elapsed Time: 13:02:59 ETA:   6:07:46"
     ]
    },
    {
     "name": "stderr",
     "output_type": "stream",
     "text": [
      "\r",
      " 58% (185414400.0 of 315360000.0) |##   | Elapsed Time: 13:03:38 ETA:  16:20:21"
     ]
    },
    {
     "name": "stderr",
     "output_type": "stream",
     "text": [
      "\r",
      " 58% (185760000.0 of 315360000.0) |##   | Elapsed Time: 13:04:36 ETA:   6:01:36"
     ]
    },
    {
     "name": "stderr",
     "output_type": "stream",
     "text": [
      "\r",
      " 58% (185846400.0 of 315360000.0) |##   | Elapsed Time: 13:05:15 ETA:  16:13:16"
     ]
    },
    {
     "name": "stderr",
     "output_type": "stream",
     "text": [
      "\r",
      " 59% (186192000.0 of 315360000.0) |##   | Elapsed Time: 13:06:13 ETA:   6:01:19"
     ]
    },
    {
     "name": "stderr",
     "output_type": "stream",
     "text": [
      "\r",
      " 59% (186278400.0 of 315360000.0) |##   | Elapsed Time: 13:06:52 ETA:  16:16:30"
     ]
    },
    {
     "name": "stderr",
     "output_type": "stream",
     "text": [
      "\r",
      " 59% (186624000.0 of 315360000.0) |##   | Elapsed Time: 13:07:50 ETA:   6:00:51"
     ]
    },
    {
     "name": "stderr",
     "output_type": "stream",
     "text": [
      "\r",
      " 59% (186710400.0 of 315360000.0) |##   | Elapsed Time: 13:08:29 ETA:  16:08:12"
     ]
    },
    {
     "name": "stderr",
     "output_type": "stream",
     "text": [
      "\r",
      " 59% (187056000.0 of 315360000.0) |##   | Elapsed Time: 13:09:27 ETA:   5:58:54"
     ]
    },
    {
     "name": "stderr",
     "output_type": "stream",
     "text": [
      "\r",
      " 59% (187142400.0 of 315360000.0) |##   | Elapsed Time: 13:10:06 ETA:  16:11:36"
     ]
    },
    {
     "name": "stderr",
     "output_type": "stream",
     "text": [
      "\r",
      " 59% (187488000.0 of 315360000.0) |##   | Elapsed Time: 13:11:04 ETA:   5:57:27"
     ]
    },
    {
     "name": "stderr",
     "output_type": "stream",
     "text": [
      "\r",
      " 59% (187574400.0 of 315360000.0) |##   | Elapsed Time: 13:11:44 ETA:  16:09:52"
     ]
    },
    {
     "name": "stderr",
     "output_type": "stream",
     "text": [
      "\r",
      " 59% (187920000.0 of 315360000.0) |##   | Elapsed Time: 13:12:42 ETA:   5:59:32"
     ]
    },
    {
     "name": "stderr",
     "output_type": "stream",
     "text": [
      "\r",
      " 59% (188006400.0 of 315360000.0) |##   | Elapsed Time: 13:13:21 ETA:  16:07:27"
     ]
    },
    {
     "name": "stderr",
     "output_type": "stream",
     "text": [
      "\r",
      " 59% (188352000.0 of 315360000.0) |##   | Elapsed Time: 13:14:19 ETA:   5:54:19"
     ]
    },
    {
     "name": "stderr",
     "output_type": "stream",
     "text": [
      "\r",
      " 59% (188438400.0 of 315360000.0) |##   | Elapsed Time: 13:14:58 ETA:  15:58:31"
     ]
    },
    {
     "name": "stderr",
     "output_type": "stream",
     "text": [
      "\r",
      " 59% (188784000.0 of 315360000.0) |##   | Elapsed Time: 13:15:57 ETA:   5:56:46"
     ]
    },
    {
     "name": "stderr",
     "output_type": "stream",
     "text": [
      "\r",
      " 59% (188870400.0 of 315360000.0) |##   | Elapsed Time: 13:16:36 ETA:  15:47:48"
     ]
    },
    {
     "name": "stderr",
     "output_type": "stream",
     "text": [
      "\r",
      " 60% (189216000.0 of 315360000.0) |###  | Elapsed Time: 13:17:34 ETA:   5:52:24"
     ]
    },
    {
     "name": "stderr",
     "output_type": "stream",
     "text": [
      "\r",
      " 60% (189302400.0 of 315360000.0) |###  | Elapsed Time: 13:18:13 ETA:  15:59:26"
     ]
    },
    {
     "name": "stderr",
     "output_type": "stream",
     "text": [
      "\r",
      " 60% (189648000.0 of 315360000.0) |###  | Elapsed Time: 13:19:11 ETA:   5:53:21"
     ]
    },
    {
     "name": "stderr",
     "output_type": "stream",
     "text": [
      "\r",
      " 60% (189734400.0 of 315360000.0) |###  | Elapsed Time: 13:19:51 ETA:  15:56:27"
     ]
    },
    {
     "name": "stderr",
     "output_type": "stream",
     "text": [
      "\r",
      " 60% (190080000.0 of 315360000.0) |###  | Elapsed Time: 13:20:49 ETA:   5:50:11"
     ]
    },
    {
     "name": "stderr",
     "output_type": "stream",
     "text": [
      "\r",
      " 60% (190166400.0 of 315360000.0) |###  | Elapsed Time: 13:21:28 ETA:  15:45:35"
     ]
    },
    {
     "name": "stderr",
     "output_type": "stream",
     "text": [
      "\r",
      " 60% (190512000.0 of 315360000.0) |###  | Elapsed Time: 13:22:26 ETA:   5:49:26"
     ]
    },
    {
     "name": "stderr",
     "output_type": "stream",
     "text": [
      "\r",
      " 60% (190598400.0 of 315360000.0) |###  | Elapsed Time: 13:23:06 ETA:  15:54:06"
     ]
    },
    {
     "name": "stderr",
     "output_type": "stream",
     "text": [
      "\r",
      " 60% (190944000.0 of 315360000.0) |###  | Elapsed Time: 13:24:04 ETA:   5:47:16"
     ]
    },
    {
     "name": "stderr",
     "output_type": "stream",
     "text": [
      "\r",
      " 60% (191030400.0 of 315360000.0) |###  | Elapsed Time: 13:24:43 ETA:  15:37:04"
     ]
    },
    {
     "name": "stderr",
     "output_type": "stream",
     "text": [
      "\r",
      " 60% (191376000.0 of 315360000.0) |###  | Elapsed Time: 13:25:40 ETA:   5:45:07"
     ]
    },
    {
     "name": "stderr",
     "output_type": "stream",
     "text": [
      "\r",
      " 60% (191462400.0 of 315360000.0) |###  | Elapsed Time: 13:26:20 ETA:  15:39:11"
     ]
    },
    {
     "name": "stderr",
     "output_type": "stream",
     "text": [
      "\r",
      " 60% (191808000.0 of 315360000.0) |###  | Elapsed Time: 13:27:17 ETA:   5:44:28"
     ]
    },
    {
     "name": "stderr",
     "output_type": "stream",
     "text": [
      "\r",
      " 60% (191894400.0 of 315360000.0) |###  | Elapsed Time: 13:27:57 ETA:  15:30:34"
     ]
    },
    {
     "name": "stderr",
     "output_type": "stream",
     "text": [
      "\r",
      " 60% (192240000.0 of 315360000.0) |###  | Elapsed Time: 13:28:54 ETA:   5:43:34"
     ]
    },
    {
     "name": "stderr",
     "output_type": "stream",
     "text": [
      "\r",
      " 60% (192326400.0 of 315360000.0) |###  | Elapsed Time: 13:29:33 ETA:  15:19:55"
     ]
    },
    {
     "name": "stderr",
     "output_type": "stream",
     "text": [
      "\r",
      " 61% (192672000.0 of 315360000.0) |###  | Elapsed Time: 13:30:31 ETA:   5:40:55"
     ]
    },
    {
     "name": "stderr",
     "output_type": "stream",
     "text": [
      "\r",
      " 61% (192758400.0 of 315360000.0) |###  | Elapsed Time: 13:31:10 ETA:  15:17:01"
     ]
    },
    {
     "name": "stderr",
     "output_type": "stream",
     "text": [
      "\r",
      " 61% (193104000.0 of 315360000.0) |###  | Elapsed Time: 13:32:07 ETA:   5:38:25"
     ]
    },
    {
     "name": "stderr",
     "output_type": "stream",
     "text": [
      "\r",
      " 61% (193190400.0 of 315360000.0) |###  | Elapsed Time: 13:32:46 ETA:  15:11:51"
     ]
    },
    {
     "name": "stderr",
     "output_type": "stream",
     "text": [
      "\r",
      " 61% (193536000.0 of 315360000.0) |###  | Elapsed Time: 13:33:43 ETA:   5:38:44"
     ]
    },
    {
     "name": "stderr",
     "output_type": "stream",
     "text": [
      "\r",
      " 61% (193622400.0 of 315360000.0) |###  | Elapsed Time: 13:34:22 ETA:  15:13:04"
     ]
    },
    {
     "name": "stderr",
     "output_type": "stream",
     "text": [
      "\r",
      " 61% (193968000.0 of 315360000.0) |###  | Elapsed Time: 13:35:20 ETA:   5:38:12"
     ]
    },
    {
     "name": "stderr",
     "output_type": "stream",
     "text": [
      "\r",
      " 61% (194054400.0 of 315360000.0) |###  | Elapsed Time: 13:35:59 ETA:  15:04:53"
     ]
    },
    {
     "name": "stderr",
     "output_type": "stream",
     "text": [
      "\r",
      " 61% (194400000.0 of 315360000.0) |###  | Elapsed Time: 13:36:56 ETA:   5:36:57"
     ]
    },
    {
     "name": "stderr",
     "output_type": "stream",
     "text": [
      "\r",
      " 61% (194486400.0 of 315360000.0) |###  | Elapsed Time: 13:37:35 ETA:  14:56:34"
     ]
    },
    {
     "name": "stderr",
     "output_type": "stream",
     "text": [
      "\r",
      " 61% (194832000.0 of 315360000.0) |###  | Elapsed Time: 13:38:32 ETA:   5:33:09"
     ]
    },
    {
     "name": "stderr",
     "output_type": "stream",
     "text": [
      "\r",
      " 61% (194918400.0 of 315360000.0) |###  | Elapsed Time: 13:39:11 ETA:  15:03:32"
     ]
    },
    {
     "name": "stderr",
     "output_type": "stream",
     "text": [
      "\r",
      " 61% (195264000.0 of 315360000.0) |###  | Elapsed Time: 13:40:09 ETA:   5:34:01"
     ]
    },
    {
     "name": "stderr",
     "output_type": "stream",
     "text": [
      "\r",
      " 61% (195350400.0 of 315360000.0) |###  | Elapsed Time: 13:40:47 ETA:  14:56:05"
     ]
    },
    {
     "name": "stderr",
     "output_type": "stream",
     "text": [
      "\r",
      " 62% (195696000.0 of 315360000.0) |###  | Elapsed Time: 13:41:45 ETA:   5:30:06"
     ]
    },
    {
     "name": "stderr",
     "output_type": "stream",
     "text": [
      "\r",
      " 62% (195782400.0 of 315360000.0) |###  | Elapsed Time: 13:42:23 ETA:  14:54:53"
     ]
    },
    {
     "name": "stderr",
     "output_type": "stream",
     "text": [
      "\r",
      " 62% (196128000.0 of 315360000.0) |###  | Elapsed Time: 13:43:21 ETA:   5:29:04"
     ]
    },
    {
     "name": "stderr",
     "output_type": "stream",
     "text": [
      "\r",
      " 62% (196214400.0 of 315360000.0) |###  | Elapsed Time: 13:43:59 ETA:  14:48:13"
     ]
    },
    {
     "name": "stderr",
     "output_type": "stream",
     "text": [
      "\r",
      " 62% (196560000.0 of 315360000.0) |###  | Elapsed Time: 13:44:56 ETA:   5:27:22"
     ]
    },
    {
     "name": "stderr",
     "output_type": "stream",
     "text": [
      "\r",
      " 62% (196646400.0 of 315360000.0) |###  | Elapsed Time: 13:45:35 ETA:  14:41:59"
     ]
    },
    {
     "name": "stderr",
     "output_type": "stream",
     "text": [
      "\r",
      " 62% (196992000.0 of 315360000.0) |###  | Elapsed Time: 13:46:32 ETA:   5:26:14"
     ]
    },
    {
     "name": "stderr",
     "output_type": "stream",
     "text": [
      "\r",
      " 62% (197078400.0 of 315360000.0) |###  | Elapsed Time: 13:47:11 ETA:  14:37:30"
     ]
    },
    {
     "name": "stderr",
     "output_type": "stream",
     "text": [
      "\r",
      " 62% (197424000.0 of 315360000.0) |###  | Elapsed Time: 13:48:08 ETA:   5:24:35"
     ]
    },
    {
     "name": "stderr",
     "output_type": "stream",
     "text": [
      "\r",
      " 62% (197510400.0 of 315360000.0) |###  | Elapsed Time: 13:48:46 ETA:  14:33:18"
     ]
    },
    {
     "name": "stderr",
     "output_type": "stream",
     "text": [
      "\r",
      " 62% (197856000.0 of 315360000.0) |###  | Elapsed Time: 13:49:43 ETA:   5:21:54"
     ]
    },
    {
     "name": "stderr",
     "output_type": "stream",
     "text": [
      "\r",
      " 62% (197942400.0 of 315360000.0) |###  | Elapsed Time: 13:50:21 ETA:  14:33:05"
     ]
    },
    {
     "name": "stderr",
     "output_type": "stream",
     "text": [
      "\r",
      " 62% (198288000.0 of 315360000.0) |###  | Elapsed Time: 13:51:18 ETA:   5:20:13"
     ]
    },
    {
     "name": "stderr",
     "output_type": "stream",
     "text": [
      "\r",
      " 62% (198374400.0 of 315360000.0) |###  | Elapsed Time: 13:51:57 ETA:  14:31:30"
     ]
    },
    {
     "name": "stderr",
     "output_type": "stream",
     "text": [
      "\r",
      " 63% (198720000.0 of 315360000.0) |###  | Elapsed Time: 13:52:54 ETA:   5:20:46"
     ]
    },
    {
     "name": "stderr",
     "output_type": "stream",
     "text": [
      "\r",
      " 63% (198806400.0 of 315360000.0) |###  | Elapsed Time: 13:53:32 ETA:  14:24:15"
     ]
    },
    {
     "name": "stderr",
     "output_type": "stream",
     "text": [
      "\r",
      " 63% (199152000.0 of 315360000.0) |###  | Elapsed Time: 13:54:29 ETA:   5:19:08"
     ]
    },
    {
     "name": "stderr",
     "output_type": "stream",
     "text": [
      "\r",
      " 63% (199238400.0 of 315360000.0) |###  | Elapsed Time: 13:55:08 ETA:  14:24:12"
     ]
    },
    {
     "name": "stderr",
     "output_type": "stream",
     "text": [
      "\r",
      " 63% (199584000.0 of 315360000.0) |###  | Elapsed Time: 13:56:05 ETA:   5:17:07"
     ]
    },
    {
     "name": "stderr",
     "output_type": "stream",
     "text": [
      "\r",
      " 63% (199670400.0 of 315360000.0) |###  | Elapsed Time: 13:56:43 ETA:  14:24:31"
     ]
    },
    {
     "name": "stderr",
     "output_type": "stream",
     "text": [
      "\r",
      " 63% (200016000.0 of 315360000.0) |###  | Elapsed Time: 13:57:40 ETA:   5:14:11"
     ]
    },
    {
     "name": "stderr",
     "output_type": "stream",
     "text": [
      "\r",
      " 63% (200102400.0 of 315360000.0) |###  | Elapsed Time: 13:58:19 ETA:  14:22:21"
     ]
    },
    {
     "name": "stderr",
     "output_type": "stream",
     "text": [
      "\r",
      " 63% (200448000.0 of 315360000.0) |###  | Elapsed Time: 13:59:15 ETA:   5:15:24"
     ]
    },
    {
     "name": "stderr",
     "output_type": "stream",
     "text": [
      "\r",
      " 63% (200534400.0 of 315360000.0) |###  | Elapsed Time: 13:59:54 ETA:  14:09:52"
     ]
    },
    {
     "name": "stderr",
     "output_type": "stream",
     "text": [
      "\r",
      " 63% (200880000.0 of 315360000.0) |###  | Elapsed Time: 14:00:50 ETA:   5:11:35"
     ]
    },
    {
     "name": "stderr",
     "output_type": "stream",
     "text": [
      "\r",
      " 63% (200966400.0 of 315360000.0) |###  | Elapsed Time: 14:01:28 ETA:  13:59:34"
     ]
    },
    {
     "name": "stderr",
     "output_type": "stream",
     "text": [
      "\r",
      " 63% (201312000.0 of 315360000.0) |###  | Elapsed Time: 14:02:25 ETA:   5:10:15"
     ]
    },
    {
     "name": "stderr",
     "output_type": "stream",
     "text": [
      "\r",
      " 63% (201398400.0 of 315360000.0) |###  | Elapsed Time: 14:03:04 ETA:  14:16:19"
     ]
    },
    {
     "name": "stderr",
     "output_type": "stream",
     "text": [
      "\r",
      " 63% (201744000.0 of 315360000.0) |###  | Elapsed Time: 14:04:00 ETA:   5:09:12"
     ]
    },
    {
     "name": "stderr",
     "output_type": "stream",
     "text": [
      "\r",
      " 64% (201830400.0 of 315360000.0) |###  | Elapsed Time: 14:04:39 ETA:  14:13:09"
     ]
    },
    {
     "name": "stderr",
     "output_type": "stream",
     "text": [
      "\r",
      " 64% (202176000.0 of 315360000.0) |###  | Elapsed Time: 14:05:36 ETA:   5:10:30"
     ]
    },
    {
     "name": "stderr",
     "output_type": "stream",
     "text": [
      "\r",
      " 64% (202262400.0 of 315360000.0) |###  | Elapsed Time: 14:06:15 ETA:  14:06:38"
     ]
    },
    {
     "name": "stderr",
     "output_type": "stream",
     "text": [
      "\r",
      " 64% (202608000.0 of 315360000.0) |###  | Elapsed Time: 14:07:11 ETA:   5:08:11"
     ]
    },
    {
     "name": "stderr",
     "output_type": "stream",
     "text": [
      "\r",
      " 64% (202694400.0 of 315360000.0) |###  | Elapsed Time: 14:07:50 ETA:  14:06:58"
     ]
    },
    {
     "name": "stderr",
     "output_type": "stream",
     "text": [
      "\r",
      " 64% (203040000.0 of 315360000.0) |###  | Elapsed Time: 14:08:47 ETA:   5:06:45"
     ]
    },
    {
     "name": "stderr",
     "output_type": "stream",
     "text": [
      "\r",
      " 64% (203126400.0 of 315360000.0) |###  | Elapsed Time: 14:09:26 ETA:  14:01:59"
     ]
    },
    {
     "name": "stderr",
     "output_type": "stream",
     "text": [
      "\r",
      " 64% (203472000.0 of 315360000.0) |###  | Elapsed Time: 14:10:22 ETA:   5:04:09"
     ]
    },
    {
     "name": "stderr",
     "output_type": "stream",
     "text": [
      "\r",
      " 64% (203558400.0 of 315360000.0) |###  | Elapsed Time: 14:11:01 ETA:  13:51:53"
     ]
    },
    {
     "name": "stderr",
     "output_type": "stream",
     "text": [
      "\r",
      " 64% (203904000.0 of 315360000.0) |###  | Elapsed Time: 14:11:57 ETA:   5:01:50"
     ]
    },
    {
     "name": "stderr",
     "output_type": "stream",
     "text": [
      "\r",
      " 64% (203990400.0 of 315360000.0) |###  | Elapsed Time: 14:12:36 ETA:  13:52:32"
     ]
    },
    {
     "name": "stderr",
     "output_type": "stream",
     "text": [
      "\r",
      " 64% (204336000.0 of 315360000.0) |###  | Elapsed Time: 14:13:32 ETA:   5:01:56"
     ]
    },
    {
     "name": "stderr",
     "output_type": "stream",
     "text": [
      "\r",
      " 64% (204422400.0 of 315360000.0) |###  | Elapsed Time: 14:14:11 ETA:  13:48:29"
     ]
    },
    {
     "name": "stderr",
     "output_type": "stream",
     "text": [
      "\r",
      " 64% (204768000.0 of 315360000.0) |###  | Elapsed Time: 14:15:07 ETA:   4:58:56"
     ]
    },
    {
     "name": "stderr",
     "output_type": "stream",
     "text": [
      "\r",
      " 64% (204854400.0 of 315360000.0) |###  | Elapsed Time: 14:15:45 ETA:  13:39:07"
     ]
    },
    {
     "name": "stderr",
     "output_type": "stream",
     "text": [
      "\r",
      " 65% (205200000.0 of 315360000.0) |###  | Elapsed Time: 14:16:42 ETA:   4:58:43"
     ]
    },
    {
     "name": "stderr",
     "output_type": "stream",
     "text": [
      "\r",
      " 65% (205286400.0 of 315360000.0) |###  | Elapsed Time: 14:17:20 ETA:  13:35:50"
     ]
    },
    {
     "name": "stderr",
     "output_type": "stream",
     "text": [
      "\r",
      " 65% (205632000.0 of 315360000.0) |###  | Elapsed Time: 14:18:16 ETA:   4:56:27"
     ]
    },
    {
     "name": "stderr",
     "output_type": "stream",
     "text": [
      "\r",
      " 65% (205718400.0 of 315360000.0) |###  | Elapsed Time: 14:18:55 ETA:  13:34:03"
     ]
    },
    {
     "name": "stderr",
     "output_type": "stream",
     "text": [
      "\r",
      " 65% (206064000.0 of 315360000.0) |###  | Elapsed Time: 14:19:51 ETA:   4:55:44"
     ]
    },
    {
     "name": "stderr",
     "output_type": "stream",
     "text": [
      "\r",
      " 65% (206150400.0 of 315360000.0) |###  | Elapsed Time: 14:20:29 ETA:  13:33:15"
     ]
    },
    {
     "name": "stderr",
     "output_type": "stream",
     "text": [
      "\r",
      " 65% (206496000.0 of 315360000.0) |###  | Elapsed Time: 14:21:26 ETA:   4:57:04"
     ]
    },
    {
     "name": "stderr",
     "output_type": "stream",
     "text": [
      "\r",
      " 65% (206582400.0 of 315360000.0) |###  | Elapsed Time: 14:22:05 ETA:  13:50:01"
     ]
    },
    {
     "name": "stderr",
     "output_type": "stream",
     "text": [
      "\r",
      " 65% (206928000.0 of 315360000.0) |###  | Elapsed Time: 14:23:01 ETA:   4:53:10"
     ]
    },
    {
     "name": "stderr",
     "output_type": "stream",
     "text": [
      "\r",
      " 65% (207014400.0 of 315360000.0) |###  | Elapsed Time: 14:23:40 ETA:  13:30:55"
     ]
    },
    {
     "name": "stderr",
     "output_type": "stream",
     "text": [
      "\r",
      " 65% (207360000.0 of 315360000.0) |###  | Elapsed Time: 14:24:36 ETA:   4:52:07"
     ]
    },
    {
     "name": "stderr",
     "output_type": "stream",
     "text": [
      "\r",
      " 65% (207446400.0 of 315360000.0) |###  | Elapsed Time: 14:25:15 ETA:  13:33:49"
     ]
    },
    {
     "name": "stderr",
     "output_type": "stream",
     "text": [
      "\r",
      " 65% (207792000.0 of 315360000.0) |###  | Elapsed Time: 14:26:11 ETA:   4:50:17"
     ]
    },
    {
     "name": "stderr",
     "output_type": "stream",
     "text": [
      "\r",
      " 65% (207878400.0 of 315360000.0) |###  | Elapsed Time: 14:26:51 ETA:  13:30:43"
     ]
    },
    {
     "name": "stderr",
     "output_type": "stream",
     "text": [
      "\r",
      " 66% (208224000.0 of 315360000.0) |###  | Elapsed Time: 14:27:47 ETA:   4:51:21"
     ]
    },
    {
     "name": "stderr",
     "output_type": "stream",
     "text": [
      "\r",
      " 66% (208310400.0 of 315360000.0) |###  | Elapsed Time: 14:28:26 ETA:  13:27:46"
     ]
    },
    {
     "name": "stderr",
     "output_type": "stream",
     "text": [
      "\r",
      " 66% (208656000.0 of 315360000.0) |###  | Elapsed Time: 14:29:22 ETA:   4:47:35"
     ]
    },
    {
     "name": "stderr",
     "output_type": "stream",
     "text": [
      "\r",
      " 66% (208742400.0 of 315360000.0) |###  | Elapsed Time: 14:30:01 ETA:  13:23:28"
     ]
    },
    {
     "name": "stderr",
     "output_type": "stream",
     "text": [
      "\r",
      " 66% (209088000.0 of 315360000.0) |###  | Elapsed Time: 14:30:57 ETA:   4:48:17"
     ]
    },
    {
     "name": "stderr",
     "output_type": "stream",
     "text": [
      "\r",
      " 66% (209174400.0 of 315360000.0) |###  | Elapsed Time: 14:31:36 ETA:  13:20:01"
     ]
    },
    {
     "name": "stderr",
     "output_type": "stream",
     "text": [
      "\r",
      " 66% (209520000.0 of 315360000.0) |###  | Elapsed Time: 14:32:33 ETA:   4:47:28"
     ]
    },
    {
     "name": "stderr",
     "output_type": "stream",
     "text": [
      "\r",
      " 66% (209606400.0 of 315360000.0) |###  | Elapsed Time: 14:33:11 ETA:  13:08:04"
     ]
    },
    {
     "name": "stderr",
     "output_type": "stream",
     "text": [
      "\r",
      " 66% (209952000.0 of 315360000.0) |###  | Elapsed Time: 14:34:07 ETA:   4:45:23"
     ]
    },
    {
     "name": "stderr",
     "output_type": "stream",
     "text": [
      "\r",
      " 66% (210038400.0 of 315360000.0) |###  | Elapsed Time: 14:34:46 ETA:  13:10:52"
     ]
    },
    {
     "name": "stderr",
     "output_type": "stream",
     "text": [
      "\r",
      " 66% (210384000.0 of 315360000.0) |###  | Elapsed Time: 14:35:42 ETA:   4:44:20"
     ]
    },
    {
     "name": "stderr",
     "output_type": "stream",
     "text": [
      "\r",
      " 66% (210470400.0 of 315360000.0) |###  | Elapsed Time: 14:36:21 ETA:  13:00:33"
     ]
    },
    {
     "name": "stderr",
     "output_type": "stream",
     "text": [
      "\r",
      " 66% (210816000.0 of 315360000.0) |###  | Elapsed Time: 14:37:17 ETA:   4:43:21"
     ]
    },
    {
     "name": "stderr",
     "output_type": "stream",
     "text": [
      "\r",
      " 66% (210902400.0 of 315360000.0) |###  | Elapsed Time: 14:37:56 ETA:  12:52:03"
     ]
    },
    {
     "name": "stderr",
     "output_type": "stream",
     "text": [
      "\r",
      " 66% (211248000.0 of 315360000.0) |###  | Elapsed Time: 14:38:52 ETA:   4:41:56"
     ]
    },
    {
     "name": "stderr",
     "output_type": "stream",
     "text": [
      "\r",
      " 67% (211334400.0 of 315360000.0) |###  | Elapsed Time: 14:39:30 ETA:  12:51:29"
     ]
    },
    {
     "name": "stderr",
     "output_type": "stream",
     "text": [
      "\r",
      " 67% (211680000.0 of 315360000.0) |###  | Elapsed Time: 14:40:26 ETA:   4:40:25"
     ]
    },
    {
     "name": "stderr",
     "output_type": "stream",
     "text": [
      "\r",
      " 67% (211766400.0 of 315360000.0) |###  | Elapsed Time: 14:41:04 ETA:  12:42:46"
     ]
    },
    {
     "name": "stderr",
     "output_type": "stream",
     "text": [
      "\r",
      " 67% (212112000.0 of 315360000.0) |###  | Elapsed Time: 14:42:01 ETA:   4:40:11"
     ]
    },
    {
     "name": "stderr",
     "output_type": "stream",
     "text": [
      "\r",
      " 67% (212198400.0 of 315360000.0) |###  | Elapsed Time: 14:42:39 ETA:  12:49:23"
     ]
    },
    {
     "name": "stderr",
     "output_type": "stream",
     "text": [
      "\r",
      " 67% (212544000.0 of 315360000.0) |###  | Elapsed Time: 14:43:36 ETA:   4:39:44"
     ]
    },
    {
     "name": "stderr",
     "output_type": "stream",
     "text": [
      "\r",
      " 67% (212630400.0 of 315360000.0) |###  | Elapsed Time: 14:44:14 ETA:  12:37:44"
     ]
    },
    {
     "name": "stderr",
     "output_type": "stream",
     "text": [
      "\r",
      " 67% (212976000.0 of 315360000.0) |###  | Elapsed Time: 14:45:10 ETA:   4:35:48"
     ]
    },
    {
     "name": "stderr",
     "output_type": "stream",
     "text": [
      "\r",
      " 67% (213062400.0 of 315360000.0) |###  | Elapsed Time: 14:45:48 ETA:  12:41:14"
     ]
    },
    {
     "name": "stderr",
     "output_type": "stream",
     "text": [
      "\r",
      " 67% (213408000.0 of 315360000.0) |###  | Elapsed Time: 14:46:44 ETA:   4:33:55"
     ]
    },
    {
     "name": "stderr",
     "output_type": "stream",
     "text": [
      "\r",
      " 67% (213494400.0 of 315360000.0) |###  | Elapsed Time: 14:47:23 ETA:  12:33:52"
     ]
    },
    {
     "name": "stderr",
     "output_type": "stream",
     "text": [
      "\r",
      " 67% (213840000.0 of 315360000.0) |###  | Elapsed Time: 14:48:18 ETA:   4:33:07"
     ]
    },
    {
     "name": "stderr",
     "output_type": "stream",
     "text": [
      "\r",
      " 67% (213926400.0 of 315360000.0) |###  | Elapsed Time: 14:48:57 ETA:  12:27:48"
     ]
    },
    {
     "name": "stderr",
     "output_type": "stream",
     "text": [
      "\r",
      " 67% (214272000.0 of 315360000.0) |###  | Elapsed Time: 14:49:52 ETA:   4:32:36"
     ]
    },
    {
     "name": "stderr",
     "output_type": "stream",
     "text": [
      "\r",
      " 67% (214358400.0 of 315360000.0) |###  | Elapsed Time: 14:50:31 ETA:  12:28:47"
     ]
    },
    {
     "name": "stderr",
     "output_type": "stream",
     "text": [
      "\r",
      " 68% (214704000.0 of 315360000.0) |###  | Elapsed Time: 14:51:27 ETA:   4:32:00"
     ]
    },
    {
     "name": "stderr",
     "output_type": "stream",
     "text": [
      "\r",
      " 68% (214790400.0 of 315360000.0) |###  | Elapsed Time: 14:52:05 ETA:  12:15:21"
     ]
    },
    {
     "name": "stderr",
     "output_type": "stream",
     "text": [
      "\r",
      " 68% (215136000.0 of 315360000.0) |###  | Elapsed Time: 14:53:00 ETA:   4:28:57"
     ]
    },
    {
     "name": "stderr",
     "output_type": "stream",
     "text": [
      "\r",
      " 68% (215222400.0 of 315360000.0) |###  | Elapsed Time: 14:53:39 ETA:  12:18:24"
     ]
    },
    {
     "name": "stderr",
     "output_type": "stream",
     "text": [
      "\r",
      " 68% (215568000.0 of 315360000.0) |###  | Elapsed Time: 14:54:35 ETA:   4:29:35"
     ]
    },
    {
     "name": "stderr",
     "output_type": "stream",
     "text": [
      "\r",
      " 68% (215654400.0 of 315360000.0) |###  | Elapsed Time: 14:55:13 ETA:  12:22:35"
     ]
    },
    {
     "name": "stderr",
     "output_type": "stream",
     "text": [
      "\r",
      " 68% (216000000.0 of 315360000.0) |###  | Elapsed Time: 14:56:09 ETA:   4:26:53"
     ]
    },
    {
     "name": "stderr",
     "output_type": "stream",
     "text": [
      "\r",
      " 68% (216086400.0 of 315360000.0) |###  | Elapsed Time: 14:56:47 ETA:  12:12:04"
     ]
    },
    {
     "name": "stderr",
     "output_type": "stream",
     "text": [
      "\r",
      " 68% (216432000.0 of 315360000.0) |###  | Elapsed Time: 14:57:43 ETA:   4:27:39"
     ]
    },
    {
     "name": "stderr",
     "output_type": "stream",
     "text": [
      "\r",
      " 68% (216518400.0 of 315360000.0) |###  | Elapsed Time: 14:58:22 ETA:  12:11:56"
     ]
    },
    {
     "name": "stderr",
     "output_type": "stream",
     "text": [
      "\r",
      " 68% (216864000.0 of 315360000.0) |###  | Elapsed Time: 14:59:17 ETA:   4:22:58"
     ]
    },
    {
     "name": "stderr",
     "output_type": "stream",
     "text": [
      "\r",
      " 68% (216950400.0 of 315360000.0) |###  | Elapsed Time: 14:59:55 ETA:  12:03:12"
     ]
    },
    {
     "name": "stderr",
     "output_type": "stream",
     "text": [
      "\r",
      " 68% (217296000.0 of 315360000.0) |###  | Elapsed Time: 15:00:51 ETA:   4:22:29"
     ]
    },
    {
     "name": "stderr",
     "output_type": "stream",
     "text": [
      "\r",
      " 68% (217382400.0 of 315360000.0) |###  | Elapsed Time: 15:01:29 ETA:  12:08:47"
     ]
    },
    {
     "name": "stderr",
     "output_type": "stream",
     "text": [
      "\r",
      " 69% (217728000.0 of 315360000.0) |###  | Elapsed Time: 15:02:25 ETA:   4:20:20"
     ]
    },
    {
     "name": "stderr",
     "output_type": "stream",
     "text": [
      "\r",
      " 69% (217814400.0 of 315360000.0) |###  | Elapsed Time: 15:03:03 ETA:  11:57:46"
     ]
    },
    {
     "name": "stderr",
     "output_type": "stream",
     "text": [
      "\r",
      " 69% (218160000.0 of 315360000.0) |###  | Elapsed Time: 15:03:59 ETA:   4:23:35"
     ]
    },
    {
     "name": "stderr",
     "output_type": "stream",
     "text": [
      "\r",
      " 69% (218246400.0 of 315360000.0) |###  | Elapsed Time: 15:04:37 ETA:  11:59:32"
     ]
    },
    {
     "name": "stderr",
     "output_type": "stream",
     "text": [
      "\r",
      " 69% (218592000.0 of 315360000.0) |###  | Elapsed Time: 15:05:33 ETA:   4:18:14"
     ]
    },
    {
     "name": "stderr",
     "output_type": "stream",
     "text": [
      "\r",
      " 69% (218678400.0 of 315360000.0) |###  | Elapsed Time: 15:06:11 ETA:  12:02:30"
     ]
    },
    {
     "name": "stderr",
     "output_type": "stream",
     "text": [
      "\r",
      " 69% (219024000.0 of 315360000.0) |###  | Elapsed Time: 15:07:07 ETA:   4:17:11"
     ]
    },
    {
     "name": "stderr",
     "output_type": "stream",
     "text": [
      "\r",
      " 69% (219110400.0 of 315360000.0) |###  | Elapsed Time: 15:07:45 ETA:  11:56:05"
     ]
    },
    {
     "name": "stderr",
     "output_type": "stream",
     "text": [
      "\r",
      " 69% (219456000.0 of 315360000.0) |###  | Elapsed Time: 15:08:41 ETA:   4:17:20"
     ]
    },
    {
     "name": "stderr",
     "output_type": "stream",
     "text": [
      "\r",
      " 69% (219542400.0 of 315360000.0) |###  | Elapsed Time: 15:09:19 ETA:  11:45:01"
     ]
    },
    {
     "name": "stderr",
     "output_type": "stream",
     "text": [
      "\r",
      " 69% (219888000.0 of 315360000.0) |###  | Elapsed Time: 15:10:14 ETA:   4:13:57"
     ]
    },
    {
     "name": "stderr",
     "output_type": "stream",
     "text": [
      "\r",
      " 69% (219974400.0 of 315360000.0) |###  | Elapsed Time: 15:10:53 ETA:  11:43:52"
     ]
    },
    {
     "name": "stderr",
     "output_type": "stream",
     "text": [
      "\r",
      " 69% (220320000.0 of 315360000.0) |###  | Elapsed Time: 15:11:48 ETA:   4:14:17"
     ]
    },
    {
     "name": "stderr",
     "output_type": "stream",
     "text": [
      "\r",
      " 69% (220406400.0 of 315360000.0) |###  | Elapsed Time: 15:12:26 ETA:  11:43:46"
     ]
    },
    {
     "name": "stderr",
     "output_type": "stream",
     "text": [
      "\r",
      " 70% (220752000.0 of 315360000.0) |###  | Elapsed Time: 15:13:22 ETA:   4:12:35"
     ]
    },
    {
     "name": "stderr",
     "output_type": "stream",
     "text": [
      "\r",
      " 70% (220838400.0 of 315360000.0) |###  | Elapsed Time: 15:14:01 ETA:  11:44:50"
     ]
    },
    {
     "name": "stderr",
     "output_type": "stream",
     "text": [
      "\r",
      " 70% (221184000.0 of 315360000.0) |###  | Elapsed Time: 15:14:56 ETA:   4:10:15"
     ]
    },
    {
     "name": "stderr",
     "output_type": "stream",
     "text": [
      "\r",
      " 70% (221270400.0 of 315360000.0) |###  | Elapsed Time: 15:15:33 ETA:  11:24:55"
     ]
    },
    {
     "name": "stderr",
     "output_type": "stream",
     "text": [
      "\r",
      " 70% (221616000.0 of 315360000.0) |###  | Elapsed Time: 15:16:28 ETA:   4:07:48"
     ]
    },
    {
     "name": "stderr",
     "output_type": "stream",
     "text": [
      "\r",
      " 70% (221702400.0 of 315360000.0) |###  | Elapsed Time: 15:17:06 ETA:  11:18:52"
     ]
    },
    {
     "name": "stderr",
     "output_type": "stream",
     "text": [
      "\r",
      " 70% (222048000.0 of 315360000.0) |###  | Elapsed Time: 15:18:00 ETA:   4:06:08"
     ]
    },
    {
     "name": "stderr",
     "output_type": "stream",
     "text": [
      "\r",
      " 70% (222134400.0 of 315360000.0) |###  | Elapsed Time: 15:18:39 ETA:  11:27:27"
     ]
    },
    {
     "name": "stderr",
     "output_type": "stream",
     "text": [
      "\r",
      " 70% (222480000.0 of 315360000.0) |###  | Elapsed Time: 15:19:34 ETA:   4:06:23"
     ]
    },
    {
     "name": "stderr",
     "output_type": "stream",
     "text": [
      "\r",
      " 70% (222566400.0 of 315360000.0) |###  | Elapsed Time: 15:20:13 ETA:  11:36:37"
     ]
    },
    {
     "name": "stderr",
     "output_type": "stream",
     "text": [
      "\r",
      " 70% (222912000.0 of 315360000.0) |###  | Elapsed Time: 15:21:07 ETA:   4:03:38"
     ]
    },
    {
     "name": "stderr",
     "output_type": "stream",
     "text": [
      "\r",
      " 70% (222998400.0 of 315360000.0) |###  | Elapsed Time: 15:21:46 ETA:  11:23:07"
     ]
    },
    {
     "name": "stderr",
     "output_type": "stream",
     "text": [
      "\r",
      " 70% (223344000.0 of 315360000.0) |###  | Elapsed Time: 15:22:40 ETA:   4:01:42"
     ]
    },
    {
     "name": "stderr",
     "output_type": "stream",
     "text": [
      "\r",
      " 70% (223430400.0 of 315360000.0) |###  | Elapsed Time: 15:23:18 ETA:  11:16:24"
     ]
    },
    {
     "name": "stderr",
     "output_type": "stream",
     "text": [
      "\r",
      " 70% (223776000.0 of 315360000.0) |###  | Elapsed Time: 15:24:13 ETA:   4:00:32"
     ]
    },
    {
     "name": "stderr",
     "output_type": "stream",
     "text": [
      "\r",
      " 70% (223862400.0 of 315360000.0) |###  | Elapsed Time: 15:24:51 ETA:  11:10:15"
     ]
    },
    {
     "name": "stderr",
     "output_type": "stream",
     "text": [
      "\r",
      " 71% (224208000.0 of 315360000.0) |###  | Elapsed Time: 15:25:45 ETA:   3:59:37"
     ]
    },
    {
     "name": "stderr",
     "output_type": "stream",
     "text": [
      "\r",
      " 71% (224294400.0 of 315360000.0) |###  | Elapsed Time: 15:26:23 ETA:  11:11:15"
     ]
    },
    {
     "name": "stderr",
     "output_type": "stream",
     "text": [
      "\r",
      " 71% (224640000.0 of 315360000.0) |###  | Elapsed Time: 15:27:18 ETA:   3:58:40"
     ]
    },
    {
     "name": "stderr",
     "output_type": "stream",
     "text": [
      "\r",
      " 71% (224726400.0 of 315360000.0) |###  | Elapsed Time: 15:27:56 ETA:  11:01:54"
     ]
    },
    {
     "name": "stderr",
     "output_type": "stream",
     "text": [
      "\r",
      " 71% (225072000.0 of 315360000.0) |###  | Elapsed Time: 15:28:50 ETA:   3:56:47"
     ]
    },
    {
     "name": "stderr",
     "output_type": "stream",
     "text": [
      "\r",
      " 71% (225158400.0 of 315360000.0) |###  | Elapsed Time: 15:29:29 ETA:  11:08:39"
     ]
    },
    {
     "name": "stderr",
     "output_type": "stream",
     "text": [
      "\r",
      " 71% (225504000.0 of 315360000.0) |###  | Elapsed Time: 15:30:23 ETA:   3:55:02"
     ]
    },
    {
     "name": "stderr",
     "output_type": "stream",
     "text": [
      "\r",
      " 71% (225590400.0 of 315360000.0) |###  | Elapsed Time: 15:31:01 ETA:  11:05:25"
     ]
    },
    {
     "name": "stderr",
     "output_type": "stream",
     "text": [
      "\r",
      " 71% (225936000.0 of 315360000.0) |###  | Elapsed Time: 15:31:56 ETA:   3:54:33"
     ]
    },
    {
     "name": "stderr",
     "output_type": "stream",
     "text": [
      "\r",
      " 71% (226022400.0 of 315360000.0) |###  | Elapsed Time: 15:32:34 ETA:  10:58:39"
     ]
    },
    {
     "name": "stderr",
     "output_type": "stream",
     "text": [
      "\r",
      " 71% (226368000.0 of 315360000.0) |###  | Elapsed Time: 15:33:28 ETA:   3:53:49"
     ]
    },
    {
     "name": "stderr",
     "output_type": "stream",
     "text": [
      "\r",
      " 71% (226454400.0 of 315360000.0) |###  | Elapsed Time: 15:34:07 ETA:  11:07:36"
     ]
    },
    {
     "name": "stderr",
     "output_type": "stream",
     "text": [
      "\r",
      " 71% (226800000.0 of 315360000.0) |###  | Elapsed Time: 15:35:02 ETA:   3:53:09"
     ]
    },
    {
     "name": "stderr",
     "output_type": "stream",
     "text": [
      "\r",
      " 71% (226886400.0 of 315360000.0) |###  | Elapsed Time: 15:35:40 ETA:  10:50:38"
     ]
    },
    {
     "name": "stderr",
     "output_type": "stream",
     "text": [
      "\r",
      " 72% (227232000.0 of 315360000.0) |###  | Elapsed Time: 15:36:34 ETA:   3:50:03"
     ]
    },
    {
     "name": "stderr",
     "output_type": "stream",
     "text": [
      "\r",
      " 72% (227318400.0 of 315360000.0) |###  | Elapsed Time: 15:37:12 ETA:  10:48:20"
     ]
    },
    {
     "name": "stderr",
     "output_type": "stream",
     "text": [
      "\r",
      " 72% (227664000.0 of 315360000.0) |###  | Elapsed Time: 15:38:06 ETA:   3:48:55"
     ]
    },
    {
     "name": "stderr",
     "output_type": "stream",
     "text": [
      "\r",
      " 72% (227750400.0 of 315360000.0) |###  | Elapsed Time: 15:38:45 ETA:  10:51:12"
     ]
    },
    {
     "name": "stderr",
     "output_type": "stream",
     "text": [
      "\r",
      " 72% (228096000.0 of 315360000.0) |###  | Elapsed Time: 15:39:39 ETA:   3:47:52"
     ]
    },
    {
     "name": "stderr",
     "output_type": "stream",
     "text": [
      "\r",
      " 72% (228182400.0 of 315360000.0) |###  | Elapsed Time: 15:40:17 ETA:  10:43:47"
     ]
    },
    {
     "name": "stderr",
     "output_type": "stream",
     "text": [
      "\r",
      " 72% (228528000.0 of 315360000.0) |###  | Elapsed Time: 15:41:12 ETA:   3:48:41"
     ]
    },
    {
     "name": "stderr",
     "output_type": "stream",
     "text": [
      "\r",
      " 72% (228614400.0 of 315360000.0) |###  | Elapsed Time: 15:41:50 ETA:  10:43:11"
     ]
    },
    {
     "name": "stderr",
     "output_type": "stream",
     "text": [
      "\r",
      " 72% (228960000.0 of 315360000.0) |###  | Elapsed Time: 15:42:45 ETA:   3:45:45"
     ]
    },
    {
     "name": "stderr",
     "output_type": "stream",
     "text": [
      "\r",
      " 72% (229046400.0 of 315360000.0) |###  | Elapsed Time: 15:43:23 ETA:  10:45:17"
     ]
    },
    {
     "name": "stderr",
     "output_type": "stream",
     "text": [
      "\r",
      " 72% (229392000.0 of 315360000.0) |###  | Elapsed Time: 15:44:18 ETA:   3:44:30"
     ]
    },
    {
     "name": "stderr",
     "output_type": "stream",
     "text": [
      "\r",
      " 72% (229478400.0 of 315360000.0) |###  | Elapsed Time: 15:44:56 ETA:  10:29:01"
     ]
    },
    {
     "name": "stderr",
     "output_type": "stream",
     "text": [
      "\r",
      " 72% (229824000.0 of 315360000.0) |###  | Elapsed Time: 15:45:49 ETA:   3:42:14"
     ]
    },
    {
     "name": "stderr",
     "output_type": "stream",
     "text": [
      "\r",
      " 72% (229910400.0 of 315360000.0) |###  | Elapsed Time: 15:46:28 ETA:  10:31:24"
     ]
    },
    {
     "name": "stderr",
     "output_type": "stream",
     "text": [
      "\r",
      " 73% (230256000.0 of 315360000.0) |###  | Elapsed Time: 15:47:22 ETA:   3:42:14"
     ]
    },
    {
     "name": "stderr",
     "output_type": "stream",
     "text": [
      "\r",
      " 73% (230342400.0 of 315360000.0) |###  | Elapsed Time: 15:48:00 ETA:  10:27:34"
     ]
    },
    {
     "name": "stderr",
     "output_type": "stream",
     "text": [
      "\r",
      " 73% (230688000.0 of 315360000.0) |###  | Elapsed Time: 15:48:54 ETA:   3:40:32"
     ]
    },
    {
     "name": "stderr",
     "output_type": "stream",
     "text": [
      "\r",
      " 73% (230774400.0 of 315360000.0) |###  | Elapsed Time: 15:49:32 ETA:  10:25:32"
     ]
    },
    {
     "name": "stderr",
     "output_type": "stream",
     "text": [
      "\r",
      " 73% (231120000.0 of 315360000.0) |###  | Elapsed Time: 15:50:27 ETA:   3:40:36"
     ]
    },
    {
     "name": "stderr",
     "output_type": "stream",
     "text": [
      "\r",
      " 73% (231206400.0 of 315360000.0) |###  | Elapsed Time: 15:51:05 ETA:  10:24:01"
     ]
    },
    {
     "name": "stderr",
     "output_type": "stream",
     "text": [
      "\r",
      " 73% (231552000.0 of 315360000.0) |###  | Elapsed Time: 15:52:00 ETA:   3:39:49"
     ]
    },
    {
     "name": "stderr",
     "output_type": "stream",
     "text": [
      "\r",
      " 73% (231638400.0 of 315360000.0) |###  | Elapsed Time: 15:52:38 ETA:  10:15:49"
     ]
    },
    {
     "name": "stderr",
     "output_type": "stream",
     "text": [
      "\r",
      " 73% (231984000.0 of 315360000.0) |###  | Elapsed Time: 15:53:32 ETA:   3:36:24"
     ]
    },
    {
     "name": "stderr",
     "output_type": "stream",
     "text": [
      "\r",
      " 73% (232070400.0 of 315360000.0) |###  | Elapsed Time: 15:54:09 ETA:  10:09:08"
     ]
    },
    {
     "name": "stderr",
     "output_type": "stream",
     "text": [
      "\r",
      " 73% (232416000.0 of 315360000.0) |###  | Elapsed Time: 15:55:03 ETA:   3:35:53"
     ]
    },
    {
     "name": "stderr",
     "output_type": "stream",
     "text": [
      "\r",
      " 73% (232502400.0 of 315360000.0) |###  | Elapsed Time: 15:55:42 ETA:  10:16:34"
     ]
    },
    {
     "name": "stderr",
     "output_type": "stream",
     "text": [
      "\r",
      " 73% (232848000.0 of 315360000.0) |###  | Elapsed Time: 15:56:36 ETA:   3:34:25"
     ]
    },
    {
     "name": "stderr",
     "output_type": "stream",
     "text": [
      "\r",
      " 73% (232934400.0 of 315360000.0) |###  | Elapsed Time: 15:57:14 ETA:  10:08:13"
     ]
    },
    {
     "name": "stderr",
     "output_type": "stream",
     "text": [
      "\r",
      " 73% (233280000.0 of 315360000.0) |###  | Elapsed Time: 15:58:08 ETA:   3:33:13"
     ]
    },
    {
     "name": "stderr",
     "output_type": "stream",
     "text": [
      "\r",
      " 74% (233366400.0 of 315360000.0) |###  | Elapsed Time: 15:58:46 ETA:  10:07:26"
     ]
    },
    {
     "name": "stderr",
     "output_type": "stream",
     "text": [
      "\r",
      " 74% (233712000.0 of 315360000.0) |###  | Elapsed Time: 15:59:40 ETA:   3:32:48"
     ]
    },
    {
     "name": "stderr",
     "output_type": "stream",
     "text": [
      "\r",
      " 74% (233798400.0 of 315360000.0) |###  | Elapsed Time: 16:00:19 ETA:  10:01:44"
     ]
    },
    {
     "name": "stderr",
     "output_type": "stream",
     "text": [
      "\r",
      " 74% (234144000.0 of 315360000.0) |###  | Elapsed Time: 16:01:13 ETA:   3:30:46"
     ]
    },
    {
     "name": "stderr",
     "output_type": "stream",
     "text": [
      "\r",
      " 74% (234230400.0 of 315360000.0) |###  | Elapsed Time: 16:01:50 ETA:   9:52:52"
     ]
    },
    {
     "name": "stderr",
     "output_type": "stream",
     "text": [
      "\r",
      " 74% (234576000.0 of 315360000.0) |###  | Elapsed Time: 16:02:44 ETA:   3:30:20"
     ]
    },
    {
     "name": "stderr",
     "output_type": "stream",
     "text": [
      "\r",
      " 74% (234662400.0 of 315360000.0) |###  | Elapsed Time: 16:03:22 ETA:   9:48:21"
     ]
    },
    {
     "name": "stderr",
     "output_type": "stream",
     "text": [
      "\r",
      " 74% (235008000.0 of 315360000.0) |###  | Elapsed Time: 16:04:16 ETA:   3:30:19"
     ]
    },
    {
     "name": "stderr",
     "output_type": "stream",
     "text": [
      "\r",
      " 74% (235094400.0 of 315360000.0) |###  | Elapsed Time: 16:04:52 ETA:   9:14:31"
     ]
    },
    {
     "name": "stderr",
     "output_type": "stream",
     "text": [
      "\r",
      " 74% (235440000.0 of 315360000.0) |###  | Elapsed Time: 16:05:46 ETA:   3:27:54"
     ]
    },
    {
     "name": "stderr",
     "output_type": "stream",
     "text": [
      "\r",
      " 74% (235526400.0 of 315360000.0) |###  | Elapsed Time: 16:06:24 ETA:   9:43:31"
     ]
    },
    {
     "name": "stderr",
     "output_type": "stream",
     "text": [
      "\r",
      " 74% (235872000.0 of 315360000.0) |###  | Elapsed Time: 16:07:18 ETA:   3:26:18"
     ]
    },
    {
     "name": "stderr",
     "output_type": "stream",
     "text": [
      "\r",
      " 74% (235958400.0 of 315360000.0) |###  | Elapsed Time: 16:07:56 ETA:   9:44:53"
     ]
    },
    {
     "name": "stderr",
     "output_type": "stream",
     "text": [
      "\r",
      " 74% (236304000.0 of 315360000.0) |###  | Elapsed Time: 16:08:50 ETA:   3:24:57"
     ]
    },
    {
     "name": "stderr",
     "output_type": "stream",
     "text": [
      "\r",
      " 74% (236390400.0 of 315360000.0) |###  | Elapsed Time: 16:09:28 ETA:   9:32:55"
     ]
    },
    {
     "name": "stderr",
     "output_type": "stream",
     "text": [
      "\r",
      " 75% (236736000.0 of 315360000.0) |###  | Elapsed Time: 16:10:22 ETA:   3:25:27"
     ]
    },
    {
     "name": "stderr",
     "output_type": "stream",
     "text": [
      "\r",
      " 75% (236822400.0 of 315360000.0) |###  | Elapsed Time: 16:11:00 ETA:   9:37:04"
     ]
    },
    {
     "name": "stderr",
     "output_type": "stream",
     "text": [
      "\r",
      " 75% (237168000.0 of 315360000.0) |###  | Elapsed Time: 16:11:54 ETA:   3:22:38"
     ]
    },
    {
     "name": "stderr",
     "output_type": "stream",
     "text": [
      "\r",
      " 75% (237254400.0 of 315360000.0) |###  | Elapsed Time: 16:12:32 ETA:   9:39:25"
     ]
    },
    {
     "name": "stderr",
     "output_type": "stream",
     "text": [
      "\r",
      " 75% (237600000.0 of 315360000.0) |###  | Elapsed Time: 16:13:26 ETA:   3:21:02"
     ]
    },
    {
     "name": "stderr",
     "output_type": "stream",
     "text": [
      "\r",
      " 75% (237729600.0 of 315360000.0) |###  | Elapsed Time: 16:14:10 ETA:   7:24:21"
     ]
    },
    {
     "name": "stderr",
     "output_type": "stream",
     "text": [
      "\r",
      " 75% (238032000.0 of 315360000.0) |###  | Elapsed Time: 16:14:58 ETA:   3:23:16"
     ]
    },
    {
     "name": "stderr",
     "output_type": "stream",
     "text": [
      "\r",
      " 75% (238204800.0 of 315360000.0) |###  | Elapsed Time: 16:15:49 ETA:   6:22:49"
     ]
    },
    {
     "name": "stderr",
     "output_type": "stream",
     "text": [
      "\r",
      " 75% (238464000.0 of 315360000.0) |###  | Elapsed Time: 16:16:31 ETA:   3:25:54"
     ]
    },
    {
     "name": "stderr",
     "output_type": "stream",
     "text": [
      "\r",
      " 75% (238636800.0 of 315360000.0) |###  | Elapsed Time: 16:17:21 ETA:   6:14:24"
     ]
    },
    {
     "name": "stderr",
     "output_type": "stream",
     "text": [
      "\r",
      " 75% (238896000.0 of 315360000.0) |###  | Elapsed Time: 16:18:03 ETA:   3:22:54"
     ]
    },
    {
     "name": "stderr",
     "output_type": "stream",
     "text": [
      "\r",
      " 75% (239068800.0 of 315360000.0) |###  | Elapsed Time: 16:18:53 ETA:   6:12:13"
     ]
    },
    {
     "name": "stderr",
     "output_type": "stream",
     "text": [
      "\r",
      " 75% (239328000.0 of 315360000.0) |###  | Elapsed Time: 16:19:35 ETA:   3:22:29"
     ]
    },
    {
     "name": "stderr",
     "output_type": "stream",
     "text": [
      "\r",
      " 75% (239500800.0 of 315360000.0) |###  | Elapsed Time: 16:20:25 ETA:   6:10:42"
     ]
    },
    {
     "name": "stderr",
     "output_type": "stream",
     "text": [
      "\r",
      " 76% (239760000.0 of 315360000.0) |###  | Elapsed Time: 16:21:07 ETA:   3:20:25"
     ]
    },
    {
     "name": "stderr",
     "output_type": "stream",
     "text": [
      "\r",
      " 76% (239932800.0 of 315360000.0) |###  | Elapsed Time: 16:21:57 ETA:   6:07:25"
     ]
    },
    {
     "name": "stderr",
     "output_type": "stream",
     "text": [
      "\r",
      " 76% (240192000.0 of 315360000.0) |###  | Elapsed Time: 16:22:38 ETA:   3:19:27"
     ]
    },
    {
     "name": "stderr",
     "output_type": "stream",
     "text": [
      "\r",
      " 76% (240364800.0 of 315360000.0) |###  | Elapsed Time: 16:23:29 ETA:   6:04:30"
     ]
    },
    {
     "name": "stderr",
     "output_type": "stream",
     "text": [
      "\r",
      " 76% (240624000.0 of 315360000.0) |###  | Elapsed Time: 16:24:10 ETA:   3:16:55"
     ]
    },
    {
     "name": "stderr",
     "output_type": "stream",
     "text": [
      "\r",
      " 76% (240796800.0 of 315360000.0) |###  | Elapsed Time: 16:25:01 ETA:   6:08:32"
     ]
    },
    {
     "name": "stderr",
     "output_type": "stream",
     "text": [
      "\r",
      " 76% (241056000.0 of 315360000.0) |###  | Elapsed Time: 16:25:43 ETA:   3:18:22"
     ]
    },
    {
     "name": "stderr",
     "output_type": "stream",
     "text": [
      "\r",
      " 76% (241228800.0 of 315360000.0) |###  | Elapsed Time: 16:26:33 ETA:   6:03:55"
     ]
    },
    {
     "name": "stderr",
     "output_type": "stream",
     "text": [
      "\r",
      " 76% (241488000.0 of 315360000.0) |###  | Elapsed Time: 16:27:15 ETA:   3:16:01"
     ]
    },
    {
     "name": "stderr",
     "output_type": "stream",
     "text": [
      "\r",
      " 76% (241660800.0 of 315360000.0) |###  | Elapsed Time: 16:28:05 ETA:   5:55:29"
     ]
    },
    {
     "name": "stderr",
     "output_type": "stream",
     "text": [
      "\r",
      " 76% (241920000.0 of 315360000.0) |###  | Elapsed Time: 16:28:46 ETA:   3:14:49"
     ]
    },
    {
     "name": "stderr",
     "output_type": "stream",
     "text": [
      "\r",
      " 76% (242092800.0 of 315360000.0) |###  | Elapsed Time: 16:29:36 ETA:   5:56:21"
     ]
    },
    {
     "name": "stderr",
     "output_type": "stream",
     "text": [
      "\r",
      " 76% (242352000.0 of 315360000.0) |###  | Elapsed Time: 16:30:18 ETA:   3:13:12"
     ]
    },
    {
     "name": "stderr",
     "output_type": "stream",
     "text": [
      "\r",
      " 76% (242524800.0 of 315360000.0) |###  | Elapsed Time: 16:31:08 ETA:   5:53:36"
     ]
    },
    {
     "name": "stderr",
     "output_type": "stream",
     "text": [
      "\r",
      " 76% (242784000.0 of 315360000.0) |###  | Elapsed Time: 16:31:49 ETA:   3:11:30"
     ]
    },
    {
     "name": "stderr",
     "output_type": "stream",
     "text": [
      "\r",
      " 77% (242956800.0 of 315360000.0) |###  | Elapsed Time: 16:32:39 ETA:   5:49:56"
     ]
    },
    {
     "name": "stderr",
     "output_type": "stream",
     "text": [
      "\r",
      " 77% (243216000.0 of 315360000.0) |###  | Elapsed Time: 16:33:20 ETA:   3:09:49"
     ]
    },
    {
     "name": "stderr",
     "output_type": "stream",
     "text": [
      "\r",
      " 77% (243388800.0 of 315360000.0) |###  | Elapsed Time: 16:34:10 ETA:   5:46:16"
     ]
    },
    {
     "name": "stderr",
     "output_type": "stream",
     "text": [
      "\r",
      " 77% (243648000.0 of 315360000.0) |###  | Elapsed Time: 16:34:51 ETA:   3:09:32"
     ]
    },
    {
     "name": "stderr",
     "output_type": "stream",
     "text": [
      "\r",
      " 77% (243820800.0 of 315360000.0) |###  | Elapsed Time: 16:35:41 ETA:   5:43:14"
     ]
    },
    {
     "name": "stderr",
     "output_type": "stream",
     "text": [
      "\r",
      " 77% (244080000.0 of 315360000.0) |###  | Elapsed Time: 16:36:22 ETA:   3:09:11"
     ]
    },
    {
     "name": "stderr",
     "output_type": "stream",
     "text": [
      "\r",
      " 77% (244252800.0 of 315360000.0) |###  | Elapsed Time: 16:37:12 ETA:   5:39:59"
     ]
    },
    {
     "name": "stderr",
     "output_type": "stream",
     "text": [
      "\r",
      " 77% (244512000.0 of 315360000.0) |###  | Elapsed Time: 16:37:53 ETA:   3:06:36"
     ]
    },
    {
     "name": "stderr",
     "output_type": "stream",
     "text": [
      "\r",
      " 77% (244684800.0 of 315360000.0) |###  | Elapsed Time: 16:38:42 ETA:   5:40:08"
     ]
    },
    {
     "name": "stderr",
     "output_type": "stream",
     "text": [
      "\r",
      " 77% (244944000.0 of 315360000.0) |###  | Elapsed Time: 16:39:24 ETA:   3:07:05"
     ]
    },
    {
     "name": "stderr",
     "output_type": "stream",
     "text": [
      "\r",
      " 77% (245116800.0 of 315360000.0) |###  | Elapsed Time: 16:40:14 ETA:   5:37:12"
     ]
    },
    {
     "name": "stderr",
     "output_type": "stream",
     "text": [
      "\r",
      " 77% (245376000.0 of 315360000.0) |###  | Elapsed Time: 16:40:54 ETA:   3:04:11"
     ]
    },
    {
     "name": "stderr",
     "output_type": "stream",
     "text": [
      "\r",
      " 77% (245548800.0 of 315360000.0) |###  | Elapsed Time: 16:41:44 ETA:   5:34:23"
     ]
    },
    {
     "name": "stderr",
     "output_type": "stream",
     "text": [
      "\r",
      " 77% (245808000.0 of 315360000.0) |###  | Elapsed Time: 16:42:25 ETA:   3:03:46"
     ]
    },
    {
     "name": "stderr",
     "output_type": "stream",
     "text": [
      "\r",
      " 78% (245980800.0 of 315360000.0) |###  | Elapsed Time: 16:43:15 ETA:   5:31:38"
     ]
    },
    {
     "name": "stderr",
     "output_type": "stream",
     "text": [
      "\r",
      " 78% (246240000.0 of 315360000.0) |###  | Elapsed Time: 16:43:56 ETA:   3:03:12"
     ]
    },
    {
     "name": "stderr",
     "output_type": "stream",
     "text": [
      "\r",
      " 78% (246412800.0 of 315360000.0) |###  | Elapsed Time: 16:44:46 ETA:   5:31:43"
     ]
    },
    {
     "name": "stderr",
     "output_type": "stream",
     "text": [
      "\r",
      " 78% (246672000.0 of 315360000.0) |###  | Elapsed Time: 16:45:27 ETA:   3:00:05"
     ]
    },
    {
     "name": "stderr",
     "output_type": "stream",
     "text": [
      "\r",
      " 78% (246844800.0 of 315360000.0) |###  | Elapsed Time: 16:46:16 ETA:   5:28:48"
     ]
    },
    {
     "name": "stderr",
     "output_type": "stream",
     "text": [
      "\r",
      " 78% (247104000.0 of 315360000.0) |###  | Elapsed Time: 16:46:57 ETA:   3:00:01"
     ]
    },
    {
     "name": "stderr",
     "output_type": "stream",
     "text": [
      "\r",
      " 78% (247276800.0 of 315360000.0) |###  | Elapsed Time: 16:47:47 ETA:   5:25:10"
     ]
    },
    {
     "name": "stderr",
     "output_type": "stream",
     "text": [
      "\r",
      " 78% (247536000.0 of 315360000.0) |###  | Elapsed Time: 16:48:28 ETA:   2:58:14"
     ]
    },
    {
     "name": "stderr",
     "output_type": "stream",
     "text": [
      "\r",
      " 78% (247708800.0 of 315360000.0) |###  | Elapsed Time: 16:49:17 ETA:   5:24:10"
     ]
    },
    {
     "name": "stderr",
     "output_type": "stream",
     "text": [
      "\r",
      " 78% (247968000.0 of 315360000.0) |###  | Elapsed Time: 16:49:58 ETA:   2:57:40"
     ]
    },
    {
     "name": "stderr",
     "output_type": "stream",
     "text": [
      "\r",
      " 78% (248140800.0 of 315360000.0) |###  | Elapsed Time: 16:50:48 ETA:   5:23:28"
     ]
    },
    {
     "name": "stderr",
     "output_type": "stream",
     "text": [
      "\r",
      " 78% (248400000.0 of 315360000.0) |###  | Elapsed Time: 16:51:29 ETA:   2:56:13"
     ]
    },
    {
     "name": "stderr",
     "output_type": "stream",
     "text": [
      "\r",
      " 78% (248572800.0 of 315360000.0) |###  | Elapsed Time: 16:52:19 ETA:   5:21:02"
     ]
    },
    {
     "name": "stderr",
     "output_type": "stream",
     "text": [
      "\r",
      " 78% (248832000.0 of 315360000.0) |###  | Elapsed Time: 16:53:00 ETA:   2:54:41"
     ]
    },
    {
     "name": "stderr",
     "output_type": "stream",
     "text": [
      "\r",
      " 78% (249004800.0 of 315360000.0) |###  | Elapsed Time: 16:53:50 ETA:   5:19:49"
     ]
    },
    {
     "name": "stderr",
     "output_type": "stream",
     "text": [
      "\r",
      " 79% (249264000.0 of 315360000.0) |###  | Elapsed Time: 16:54:30 ETA:   2:52:10"
     ]
    },
    {
     "name": "stderr",
     "output_type": "stream",
     "text": [
      "\r",
      " 79% (249436800.0 of 315360000.0) |###  | Elapsed Time: 16:55:20 ETA:   5:14:46"
     ]
    },
    {
     "name": "stderr",
     "output_type": "stream",
     "text": [
      "\r",
      " 79% (249696000.0 of 315360000.0) |###  | Elapsed Time: 16:56:01 ETA:   2:51:40"
     ]
    },
    {
     "name": "stderr",
     "output_type": "stream",
     "text": [
      "\r",
      " 79% (249868800.0 of 315360000.0) |###  | Elapsed Time: 16:56:50 ETA:   5:10:13"
     ]
    },
    {
     "name": "stderr",
     "output_type": "stream",
     "text": [
      "\r",
      " 79% (250128000.0 of 315360000.0) |###  | Elapsed Time: 16:57:30 ETA:   2:50:01"
     ]
    },
    {
     "name": "stderr",
     "output_type": "stream",
     "text": [
      "\r",
      " 79% (250300800.0 of 315360000.0) |###  | Elapsed Time: 16:58:20 ETA:   5:11:47"
     ]
    },
    {
     "name": "stderr",
     "output_type": "stream",
     "text": [
      "\r",
      " 79% (250560000.0 of 315360000.0) |###  | Elapsed Time: 16:59:00 ETA:   2:48:17"
     ]
    },
    {
     "name": "stderr",
     "output_type": "stream",
     "text": [
      "\r",
      " 79% (250732800.0 of 315360000.0) |###  | Elapsed Time: 16:59:51 ETA:   5:12:27"
     ]
    },
    {
     "name": "stderr",
     "output_type": "stream",
     "text": [
      "\r",
      " 79% (250992000.0 of 315360000.0) |###  | Elapsed Time: 17:00:31 ETA:   2:46:48"
     ]
    },
    {
     "name": "stderr",
     "output_type": "stream",
     "text": [
      "\r",
      " 79% (251164800.0 of 315360000.0) |###  | Elapsed Time: 17:01:21 ETA:   5:09:01"
     ]
    },
    {
     "name": "stderr",
     "output_type": "stream",
     "text": [
      "\r",
      " 79% (251424000.0 of 315360000.0) |###  | Elapsed Time: 17:02:01 ETA:   2:46:05"
     ]
    },
    {
     "name": "stderr",
     "output_type": "stream",
     "text": [
      "\r",
      " 79% (251596800.0 of 315360000.0) |###  | Elapsed Time: 17:02:52 ETA:   5:10:51"
     ]
    },
    {
     "name": "stderr",
     "output_type": "stream",
     "text": [
      "\r",
      " 79% (251856000.0 of 315360000.0) |###  | Elapsed Time: 17:03:32 ETA:   2:43:51"
     ]
    },
    {
     "name": "stderr",
     "output_type": "stream",
     "text": [
      "\r",
      " 79% (252028800.0 of 315360000.0) |###  | Elapsed Time: 17:04:21 ETA:   5:03:01"
     ]
    },
    {
     "name": "stderr",
     "output_type": "stream",
     "text": [
      "\r",
      " 80% (252288000.0 of 315360000.0) |#### | Elapsed Time: 17:05:02 ETA:   2:43:16"
     ]
    },
    {
     "name": "stderr",
     "output_type": "stream",
     "text": [
      "\r",
      " 80% (252460800.0 of 315360000.0) |#### | Elapsed Time: 17:05:51 ETA:   5:02:19"
     ]
    },
    {
     "name": "stderr",
     "output_type": "stream",
     "text": [
      "\r",
      " 80% (252720000.0 of 315360000.0) |#### | Elapsed Time: 17:06:32 ETA:   2:41:40"
     ]
    },
    {
     "name": "stderr",
     "output_type": "stream",
     "text": [
      "\r",
      " 80% (252892800.0 of 315360000.0) |#### | Elapsed Time: 17:07:21 ETA:   4:57:45"
     ]
    },
    {
     "name": "stderr",
     "output_type": "stream",
     "text": [
      "\r",
      " 80% (253152000.0 of 315360000.0) |#### | Elapsed Time: 17:08:01 ETA:   2:39:59"
     ]
    },
    {
     "name": "stderr",
     "output_type": "stream",
     "text": [
      "\r",
      " 80% (253324800.0 of 315360000.0) |#### | Elapsed Time: 17:08:51 ETA:   4:56:55"
     ]
    },
    {
     "name": "stderr",
     "output_type": "stream",
     "text": [
      "\r",
      " 80% (253584000.0 of 315360000.0) |#### | Elapsed Time: 17:09:31 ETA:   2:39:01"
     ]
    },
    {
     "name": "stderr",
     "output_type": "stream",
     "text": [
      "\r",
      " 80% (253756800.0 of 315360000.0) |#### | Elapsed Time: 17:10:20 ETA:   4:54:06"
     ]
    },
    {
     "name": "stderr",
     "output_type": "stream",
     "text": [
      "\r",
      " 80% (254016000.0 of 315360000.0) |#### | Elapsed Time: 17:11:00 ETA:   2:37:43"
     ]
    },
    {
     "name": "stderr",
     "output_type": "stream",
     "text": [
      "\r",
      " 80% (254188800.0 of 315360000.0) |#### | Elapsed Time: 17:11:50 ETA:   4:54:32"
     ]
    },
    {
     "name": "stderr",
     "output_type": "stream",
     "text": [
      "\r",
      " 80% (254448000.0 of 315360000.0) |#### | Elapsed Time: 17:12:30 ETA:   2:37:30"
     ]
    },
    {
     "name": "stderr",
     "output_type": "stream",
     "text": [
      "\r",
      " 80% (254620800.0 of 315360000.0) |#### | Elapsed Time: 17:13:20 ETA:   4:50:33"
     ]
    },
    {
     "name": "stderr",
     "output_type": "stream",
     "text": [
      "\r",
      " 80% (254880000.0 of 315360000.0) |#### | Elapsed Time: 17:14:00 ETA:   2:35:06"
     ]
    },
    {
     "name": "stderr",
     "output_type": "stream",
     "text": [
      "\r",
      " 80% (255052800.0 of 315360000.0) |#### | Elapsed Time: 17:14:50 ETA:   4:49:21"
     ]
    },
    {
     "name": "stderr",
     "output_type": "stream",
     "text": [
      "\r",
      " 80% (255312000.0 of 315360000.0) |#### | Elapsed Time: 17:15:30 ETA:   2:34:31"
     ]
    },
    {
     "name": "stderr",
     "output_type": "stream",
     "text": [
      "\r",
      " 81% (255484800.0 of 315360000.0) |#### | Elapsed Time: 17:16:19 ETA:   4:46:09"
     ]
    },
    {
     "name": "stderr",
     "output_type": "stream",
     "text": [
      "\r",
      " 81% (255744000.0 of 315360000.0) |#### | Elapsed Time: 17:16:59 ETA:   2:32:27"
     ]
    },
    {
     "name": "stderr",
     "output_type": "stream",
     "text": [
      "\r",
      " 81% (255916800.0 of 315360000.0) |#### | Elapsed Time: 17:17:49 ETA:   4:44:38"
     ]
    },
    {
     "name": "stderr",
     "output_type": "stream",
     "text": [
      "\r",
      " 81% (256176000.0 of 315360000.0) |#### | Elapsed Time: 17:18:28 ETA:   2:31:28"
     ]
    },
    {
     "name": "stderr",
     "output_type": "stream",
     "text": [
      "\r",
      " 81% (256348800.0 of 315360000.0) |#### | Elapsed Time: 17:19:17 ETA:   4:39:26"
     ]
    },
    {
     "name": "stderr",
     "output_type": "stream",
     "text": [
      "\r",
      " 81% (256608000.0 of 315360000.0) |#### | Elapsed Time: 17:19:57 ETA:   2:30:50"
     ]
    },
    {
     "name": "stderr",
     "output_type": "stream",
     "text": [
      "\r",
      " 81% (256780800.0 of 315360000.0) |#### | Elapsed Time: 17:20:47 ETA:   4:41:18"
     ]
    },
    {
     "name": "stderr",
     "output_type": "stream",
     "text": [
      "\r",
      " 81% (257040000.0 of 315360000.0) |#### | Elapsed Time: 17:21:27 ETA:   2:29:47"
     ]
    },
    {
     "name": "stderr",
     "output_type": "stream",
     "text": [
      "\r",
      " 81% (257212800.0 of 315360000.0) |#### | Elapsed Time: 17:22:16 ETA:   4:36:00"
     ]
    },
    {
     "name": "stderr",
     "output_type": "stream",
     "text": [
      "\r",
      " 81% (257472000.0 of 315360000.0) |#### | Elapsed Time: 17:22:56 ETA:   2:28:59"
     ]
    },
    {
     "name": "stderr",
     "output_type": "stream",
     "text": [
      "\r",
      " 81% (257644800.0 of 315360000.0) |#### | Elapsed Time: 17:23:46 ETA:   4:35:50"
     ]
    },
    {
     "name": "stderr",
     "output_type": "stream",
     "text": [
      "\r",
      " 81% (257904000.0 of 315360000.0) |#### | Elapsed Time: 17:24:26 ETA:   2:28:08"
     ]
    },
    {
     "name": "stderr",
     "output_type": "stream",
     "text": [
      "\r",
      " 81% (258076800.0 of 315360000.0) |#### | Elapsed Time: 17:25:16 ETA:   4:33:38"
     ]
    },
    {
     "name": "stderr",
     "output_type": "stream",
     "text": [
      "\r",
      " 81% (258336000.0 of 315360000.0) |#### | Elapsed Time: 17:25:56 ETA:   2:27:28"
     ]
    },
    {
     "name": "stderr",
     "output_type": "stream",
     "text": [
      "\r",
      " 81% (258508800.0 of 315360000.0) |#### | Elapsed Time: 17:26:45 ETA:   4:32:25"
     ]
    },
    {
     "name": "stderr",
     "output_type": "stream",
     "text": [
      "\r",
      " 82% (258768000.0 of 315360000.0) |#### | Elapsed Time: 17:27:25 ETA:   2:25:04"
     ]
    },
    {
     "name": "stderr",
     "output_type": "stream",
     "text": [
      "\r",
      " 82% (258940800.0 of 315360000.0) |#### | Elapsed Time: 17:28:15 ETA:   4:28:25"
     ]
    },
    {
     "name": "stderr",
     "output_type": "stream",
     "text": [
      "\r",
      " 82% (259200000.0 of 315360000.0) |#### | Elapsed Time: 17:28:55 ETA:   2:24:04"
     ]
    },
    {
     "name": "stderr",
     "output_type": "stream",
     "text": [
      "\r",
      " 82% (259372800.0 of 315360000.0) |#### | Elapsed Time: 17:29:44 ETA:   4:28:58"
     ]
    },
    {
     "name": "stderr",
     "output_type": "stream",
     "text": [
      "\r",
      " 82% (259632000.0 of 315360000.0) |#### | Elapsed Time: 17:30:24 ETA:   2:23:24"
     ]
    },
    {
     "name": "stderr",
     "output_type": "stream",
     "text": [
      "\r",
      " 82% (259804800.0 of 315360000.0) |#### | Elapsed Time: 17:31:14 ETA:   4:26:18"
     ]
    },
    {
     "name": "stderr",
     "output_type": "stream",
     "text": [
      "\r",
      " 82% (260064000.0 of 315360000.0) |#### | Elapsed Time: 17:31:54 ETA:   2:23:08"
     ]
    },
    {
     "name": "stderr",
     "output_type": "stream",
     "text": [
      "\r",
      " 82% (260236800.0 of 315360000.0) |#### | Elapsed Time: 17:32:44 ETA:   4:22:53"
     ]
    },
    {
     "name": "stderr",
     "output_type": "stream",
     "text": [
      "\r",
      " 82% (260496000.0 of 315360000.0) |#### | Elapsed Time: 17:33:24 ETA:   2:20:20"
     ]
    },
    {
     "name": "stderr",
     "output_type": "stream",
     "text": [
      "\r",
      " 82% (260668800.0 of 315360000.0) |#### | Elapsed Time: 17:34:13 ETA:   4:21:30"
     ]
    },
    {
     "name": "stderr",
     "output_type": "stream",
     "text": [
      "\r",
      " 82% (260928000.0 of 315360000.0) |#### | Elapsed Time: 17:34:53 ETA:   2:19:39"
     ]
    },
    {
     "name": "stderr",
     "output_type": "stream",
     "text": [
      "\r",
      " 82% (261100800.0 of 315360000.0) |#### | Elapsed Time: 17:35:43 ETA:   4:19:53"
     ]
    },
    {
     "name": "stderr",
     "output_type": "stream",
     "text": [
      "\r",
      " 82% (261360000.0 of 315360000.0) |#### | Elapsed Time: 17:36:23 ETA:   2:19:12"
     ]
    },
    {
     "name": "stderr",
     "output_type": "stream",
     "text": [
      "\r",
      " 82% (261532800.0 of 315360000.0) |#### | Elapsed Time: 17:37:13 ETA:   4:18:40"
     ]
    },
    {
     "name": "stderr",
     "output_type": "stream",
     "text": [
      "\r",
      " 83% (261792000.0 of 315360000.0) |#### | Elapsed Time: 17:37:52 ETA:   2:16:50"
     ]
    },
    {
     "name": "stderr",
     "output_type": "stream",
     "text": [
      "\r",
      " 83% (261964800.0 of 315360000.0) |#### | Elapsed Time: 17:38:42 ETA:   4:18:10"
     ]
    },
    {
     "name": "stderr",
     "output_type": "stream",
     "text": [
      "\r",
      " 83% (262224000.0 of 315360000.0) |#### | Elapsed Time: 17:39:22 ETA:   2:16:21"
     ]
    },
    {
     "name": "stderr",
     "output_type": "stream",
     "text": [
      "\r",
      " 83% (262396800.0 of 315360000.0) |#### | Elapsed Time: 17:40:12 ETA:   4:13:56"
     ]
    },
    {
     "name": "stderr",
     "output_type": "stream",
     "text": [
      "\r",
      " 83% (262656000.0 of 315360000.0) |#### | Elapsed Time: 17:40:52 ETA:   2:15:26"
     ]
    },
    {
     "name": "stderr",
     "output_type": "stream",
     "text": [
      "\r",
      " 83% (262828800.0 of 315360000.0) |#### | Elapsed Time: 17:41:41 ETA:   4:10:27"
     ]
    },
    {
     "name": "stderr",
     "output_type": "stream",
     "text": [
      "\r",
      " 83% (263088000.0 of 315360000.0) |#### | Elapsed Time: 17:42:22 ETA:   2:15:14"
     ]
    },
    {
     "name": "stderr",
     "output_type": "stream",
     "text": [
      "\r",
      " 83% (263260800.0 of 315360000.0) |#### | Elapsed Time: 17:43:11 ETA:   4:06:24"
     ]
    },
    {
     "name": "stderr",
     "output_type": "stream",
     "text": [
      "\r",
      " 83% (263520000.0 of 315360000.0) |#### | Elapsed Time: 17:43:51 ETA:   2:12:56"
     ]
    },
    {
     "name": "stderr",
     "output_type": "stream",
     "text": [
      "\r",
      " 83% (263692800.0 of 315360000.0) |#### | Elapsed Time: 17:44:40 ETA:   4:05:59"
     ]
    },
    {
     "name": "stderr",
     "output_type": "stream",
     "text": [
      "\r",
      " 83% (263952000.0 of 315360000.0) |#### | Elapsed Time: 17:45:20 ETA:   2:11:13"
     ]
    },
    {
     "name": "stderr",
     "output_type": "stream",
     "text": [
      "\r",
      " 83% (264124800.0 of 315360000.0) |#### | Elapsed Time: 17:46:09 ETA:   4:03:48"
     ]
    },
    {
     "name": "stderr",
     "output_type": "stream",
     "text": [
      "\r",
      " 83% (264384000.0 of 315360000.0) |#### | Elapsed Time: 17:46:48 ETA:   2:09:06"
     ]
    },
    {
     "name": "stderr",
     "output_type": "stream",
     "text": [
      "\r",
      " 83% (264556800.0 of 315360000.0) |#### | Elapsed Time: 17:47:38 ETA:   4:02:39"
     ]
    },
    {
     "name": "stderr",
     "output_type": "stream",
     "text": [
      "\r",
      " 83% (264816000.0 of 315360000.0) |#### | Elapsed Time: 17:48:18 ETA:   2:09:08"
     ]
    },
    {
     "name": "stderr",
     "output_type": "stream",
     "text": [
      "\r",
      " 84% (264988800.0 of 315360000.0) |#### | Elapsed Time: 17:49:07 ETA:   3:58:01"
     ]
    },
    {
     "name": "stderr",
     "output_type": "stream",
     "text": [
      "\r",
      " 84% (265248000.0 of 315360000.0) |#### | Elapsed Time: 17:49:46 ETA:   2:08:11"
     ]
    },
    {
     "name": "stderr",
     "output_type": "stream",
     "text": [
      "\r",
      " 84% (265420800.0 of 315360000.0) |#### | Elapsed Time: 17:50:36 ETA:   3:59:08"
     ]
    },
    {
     "name": "stderr",
     "output_type": "stream",
     "text": [
      "\r",
      " 84% (265680000.0 of 315360000.0) |#### | Elapsed Time: 17:51:16 ETA:   2:06:55"
     ]
    },
    {
     "name": "stderr",
     "output_type": "stream",
     "text": [
      "\r",
      " 84% (265852800.0 of 315360000.0) |#### | Elapsed Time: 17:52:05 ETA:   3:54:27"
     ]
    },
    {
     "name": "stderr",
     "output_type": "stream",
     "text": [
      "\r",
      " 84% (266112000.0 of 315360000.0) |#### | Elapsed Time: 17:52:45 ETA:   2:05:26"
     ]
    },
    {
     "name": "stderr",
     "output_type": "stream",
     "text": [
      "\r",
      " 84% (266284800.0 of 315360000.0) |#### | Elapsed Time: 17:53:33 ETA:   3:50:46"
     ]
    },
    {
     "name": "stderr",
     "output_type": "stream",
     "text": [
      "\r",
      " 84% (266544000.0 of 315360000.0) |#### | Elapsed Time: 17:54:13 ETA:   2:04:27"
     ]
    },
    {
     "name": "stderr",
     "output_type": "stream",
     "text": [
      "\r",
      " 84% (266716800.0 of 315360000.0) |#### | Elapsed Time: 17:55:02 ETA:   3:48:58"
     ]
    },
    {
     "name": "stderr",
     "output_type": "stream",
     "text": [
      "\r",
      " 84% (266976000.0 of 315360000.0) |#### | Elapsed Time: 17:55:41 ETA:   2:03:26"
     ]
    },
    {
     "name": "stderr",
     "output_type": "stream",
     "text": [
      "\r",
      " 84% (267148800.0 of 315360000.0) |#### | Elapsed Time: 17:56:30 ETA:   3:47:39"
     ]
    },
    {
     "name": "stderr",
     "output_type": "stream",
     "text": [
      "\r",
      " 84% (267408000.0 of 315360000.0) |#### | Elapsed Time: 17:57:10 ETA:   2:01:37"
     ]
    },
    {
     "name": "stderr",
     "output_type": "stream",
     "text": [
      "\r",
      " 84% (267580800.0 of 315360000.0) |#### | Elapsed Time: 17:57:59 ETA:   3:45:34"
     ]
    },
    {
     "name": "stderr",
     "output_type": "stream",
     "text": [
      "\r",
      " 84% (267840000.0 of 315360000.0) |#### | Elapsed Time: 17:58:38 ETA:   2:01:04"
     ]
    },
    {
     "name": "stderr",
     "output_type": "stream",
     "text": [
      "\r",
      " 84% (268012800.0 of 315360000.0) |#### | Elapsed Time: 17:59:28 ETA:   3:45:05"
     ]
    },
    {
     "name": "stderr",
     "output_type": "stream",
     "text": [
      "\r",
      " 85% (268272000.0 of 315360000.0) |#### | Elapsed Time: 18:00:07 ETA:   2:00:05"
     ]
    },
    {
     "name": "stderr",
     "output_type": "stream",
     "text": [
      "\r",
      " 85% (268444800.0 of 315360000.0) |#### | Elapsed Time: 18:00:57 ETA:   3:43:13"
     ]
    },
    {
     "name": "stderr",
     "output_type": "stream",
     "text": [
      "\r",
      " 85% (268704000.0 of 315360000.0) |#### | Elapsed Time: 18:01:36 ETA:   1:58:56"
     ]
    },
    {
     "name": "stderr",
     "output_type": "stream",
     "text": [
      "\r",
      " 85% (268876800.0 of 315360000.0) |#### | Elapsed Time: 18:02:26 ETA:   3:40:26"
     ]
    },
    {
     "name": "stderr",
     "output_type": "stream",
     "text": [
      "\r",
      " 85% (269136000.0 of 315360000.0) |#### | Elapsed Time: 18:03:05 ETA:   1:57:41"
     ]
    },
    {
     "name": "stderr",
     "output_type": "stream",
     "text": [
      "\r",
      " 85% (269308800.0 of 315360000.0) |#### | Elapsed Time: 18:03:54 ETA:   3:38:22"
     ]
    },
    {
     "name": "stderr",
     "output_type": "stream",
     "text": [
      "\r",
      " 85% (269568000.0 of 315360000.0) |#### | Elapsed Time: 18:04:34 ETA:   1:56:19"
     ]
    },
    {
     "name": "stderr",
     "output_type": "stream",
     "text": [
      "\r",
      " 85% (269740800.0 of 315360000.0) |#### | Elapsed Time: 18:05:23 ETA:   3:35:52"
     ]
    },
    {
     "name": "stderr",
     "output_type": "stream",
     "text": [
      "\r",
      " 85% (270000000.0 of 315360000.0) |#### | Elapsed Time: 18:06:02 ETA:   1:55:21"
     ]
    },
    {
     "name": "stderr",
     "output_type": "stream",
     "text": [
      "\r",
      " 85% (270172800.0 of 315360000.0) |#### | Elapsed Time: 18:06:51 ETA:   3:32:26"
     ]
    },
    {
     "name": "stderr",
     "output_type": "stream",
     "text": [
      "\r",
      " 85% (270432000.0 of 315360000.0) |#### | Elapsed Time: 18:07:31 ETA:   1:54:21"
     ]
    },
    {
     "name": "stderr",
     "output_type": "stream",
     "text": [
      "\r",
      " 85% (270604800.0 of 315360000.0) |#### | Elapsed Time: 18:08:20 ETA:   3:31:17"
     ]
    },
    {
     "name": "stderr",
     "output_type": "stream",
     "text": [
      "\r",
      " 85% (270864000.0 of 315360000.0) |#### | Elapsed Time: 18:08:59 ETA:   1:53:31"
     ]
    },
    {
     "name": "stderr",
     "output_type": "stream",
     "text": [
      "\r",
      " 85% (271036800.0 of 315360000.0) |#### | Elapsed Time: 18:09:48 ETA:   3:29:48"
     ]
    },
    {
     "name": "stderr",
     "output_type": "stream",
     "text": [
      "\r",
      " 86% (271296000.0 of 315360000.0) |#### | Elapsed Time: 18:10:28 ETA:   1:51:45"
     ]
    },
    {
     "name": "stderr",
     "output_type": "stream",
     "text": [
      "\r",
      " 86% (271468800.0 of 315360000.0) |#### | Elapsed Time: 18:11:16 ETA:   3:25:01"
     ]
    },
    {
     "name": "stderr",
     "output_type": "stream",
     "text": [
      "\r",
      " 86% (271728000.0 of 315360000.0) |#### | Elapsed Time: 18:11:55 ETA:   1:49:50"
     ]
    },
    {
     "name": "stderr",
     "output_type": "stream",
     "text": [
      "\r",
      " 86% (271900800.0 of 315360000.0) |#### | Elapsed Time: 18:12:44 ETA:   3:24:18"
     ]
    },
    {
     "name": "stderr",
     "output_type": "stream",
     "text": [
      "\r",
      " 86% (272160000.0 of 315360000.0) |#### | Elapsed Time: 18:13:24 ETA:   1:50:23"
     ]
    },
    {
     "name": "stderr",
     "output_type": "stream",
     "text": [
      "\r",
      " 86% (272332800.0 of 315360000.0) |#### | Elapsed Time: 18:14:13 ETA:   3:23:03"
     ]
    },
    {
     "name": "stderr",
     "output_type": "stream",
     "text": [
      "\r",
      " 86% (272592000.0 of 315360000.0) |#### | Elapsed Time: 18:14:52 ETA:   1:48:10"
     ]
    },
    {
     "name": "stderr",
     "output_type": "stream",
     "text": [
      "\r",
      " 86% (272764800.0 of 315360000.0) |#### | Elapsed Time: 18:15:41 ETA:   3:20:19"
     ]
    },
    {
     "name": "stderr",
     "output_type": "stream",
     "text": [
      "\r",
      " 86% (273024000.0 of 315360000.0) |#### | Elapsed Time: 18:16:20 ETA:   1:47:14"
     ]
    },
    {
     "name": "stderr",
     "output_type": "stream",
     "text": [
      "\r",
      " 86% (273196800.0 of 315360000.0) |#### | Elapsed Time: 18:17:09 ETA:   3:18:16"
     ]
    },
    {
     "name": "stderr",
     "output_type": "stream",
     "text": [
      "\r",
      " 86% (273456000.0 of 315360000.0) |#### | Elapsed Time: 18:17:48 ETA:   1:45:55"
     ]
    },
    {
     "name": "stderr",
     "output_type": "stream",
     "text": [
      "\r",
      " 86% (273628800.0 of 315360000.0) |#### | Elapsed Time: 18:18:37 ETA:   3:16:14"
     ]
    },
    {
     "name": "stderr",
     "output_type": "stream",
     "text": [
      "\r",
      " 86% (273888000.0 of 315360000.0) |#### | Elapsed Time: 18:19:16 ETA:   1:44:46"
     ]
    },
    {
     "name": "stderr",
     "output_type": "stream",
     "text": [
      "\r",
      " 86% (274060800.0 of 315360000.0) |#### | Elapsed Time: 18:20:05 ETA:   3:13:47"
     ]
    },
    {
     "name": "stderr",
     "output_type": "stream",
     "text": [
      "\r",
      " 86% (274320000.0 of 315360000.0) |#### | Elapsed Time: 18:20:44 ETA:   1:43:49"
     ]
    },
    {
     "name": "stderr",
     "output_type": "stream",
     "text": [
      "\r",
      " 87% (274492800.0 of 315360000.0) |#### | Elapsed Time: 18:21:33 ETA:   3:09:53"
     ]
    },
    {
     "name": "stderr",
     "output_type": "stream",
     "text": [
      "\r",
      " 87% (274752000.0 of 315360000.0) |#### | Elapsed Time: 18:22:12 ETA:   1:42:16"
     ]
    },
    {
     "name": "stderr",
     "output_type": "stream",
     "text": [
      "\r",
      " 87% (274924800.0 of 315360000.0) |#### | Elapsed Time: 18:23:00 ETA:   3:09:05"
     ]
    },
    {
     "name": "stderr",
     "output_type": "stream",
     "text": [
      "\r",
      " 87% (275184000.0 of 315360000.0) |#### | Elapsed Time: 18:23:39 ETA:   1:41:02"
     ]
    },
    {
     "name": "stderr",
     "output_type": "stream",
     "text": [
      "\r",
      " 87% (275356800.0 of 315360000.0) |#### | Elapsed Time: 18:24:28 ETA:   3:07:30"
     ]
    },
    {
     "name": "stderr",
     "output_type": "stream",
     "text": [
      "\r",
      " 87% (275616000.0 of 315360000.0) |#### | Elapsed Time: 18:25:07 ETA:   1:39:57"
     ]
    },
    {
     "name": "stderr",
     "output_type": "stream",
     "text": [
      "\r",
      " 87% (275788800.0 of 315360000.0) |#### | Elapsed Time: 18:25:55 ETA:   3:04:34"
     ]
    },
    {
     "name": "stderr",
     "output_type": "stream",
     "text": [
      "\r",
      " 87% (276048000.0 of 315360000.0) |#### | Elapsed Time: 18:26:35 ETA:   1:39:12"
     ]
    },
    {
     "name": "stderr",
     "output_type": "stream",
     "text": [
      "\r",
      " 87% (276220800.0 of 315360000.0) |#### | Elapsed Time: 18:27:23 ETA:   3:03:38"
     ]
    },
    {
     "name": "stderr",
     "output_type": "stream",
     "text": [
      "\r",
      " 87% (276480000.0 of 315360000.0) |#### | Elapsed Time: 18:28:02 ETA:   1:37:37"
     ]
    },
    {
     "name": "stderr",
     "output_type": "stream",
     "text": [
      "\r",
      " 87% (276652800.0 of 315360000.0) |#### | Elapsed Time: 18:28:51 ETA:   3:01:56"
     ]
    },
    {
     "name": "stderr",
     "output_type": "stream",
     "text": [
      "\r",
      " 87% (276912000.0 of 315360000.0) |#### | Elapsed Time: 18:29:30 ETA:   1:36:24"
     ]
    },
    {
     "name": "stderr",
     "output_type": "stream",
     "text": [
      "\r",
      " 87% (277084800.0 of 315360000.0) |#### | Elapsed Time: 18:30:19 ETA:   3:01:15"
     ]
    },
    {
     "name": "stderr",
     "output_type": "stream",
     "text": [
      "\r",
      " 87% (277344000.0 of 315360000.0) |#### | Elapsed Time: 18:30:58 ETA:   1:34:38"
     ]
    },
    {
     "name": "stderr",
     "output_type": "stream",
     "text": [
      "\r",
      " 88% (277516800.0 of 315360000.0) |#### | Elapsed Time: 18:31:47 ETA:   2:58:36"
     ]
    },
    {
     "name": "stderr",
     "output_type": "stream",
     "text": [
      "\r",
      " 88% (277776000.0 of 315360000.0) |#### | Elapsed Time: 18:32:26 ETA:   1:34:00"
     ]
    },
    {
     "name": "stderr",
     "output_type": "stream",
     "text": [
      "\r",
      " 88% (277948800.0 of 315360000.0) |#### | Elapsed Time: 18:33:15 ETA:   2:56:52"
     ]
    },
    {
     "name": "stderr",
     "output_type": "stream",
     "text": [
      "\r",
      " 88% (278208000.0 of 315360000.0) |#### | Elapsed Time: 18:33:54 ETA:   1:32:32"
     ]
    },
    {
     "name": "stderr",
     "output_type": "stream",
     "text": [
      "\r",
      " 88% (278380800.0 of 315360000.0) |#### | Elapsed Time: 18:34:42 ETA:   2:53:59"
     ]
    },
    {
     "name": "stderr",
     "output_type": "stream",
     "text": [
      "\r",
      " 88% (278640000.0 of 315360000.0) |#### | Elapsed Time: 18:35:21 ETA:   1:31:49"
     ]
    },
    {
     "name": "stderr",
     "output_type": "stream",
     "text": [
      "\r",
      " 88% (278812800.0 of 315360000.0) |#### | Elapsed Time: 18:36:10 ETA:   2:52:28"
     ]
    },
    {
     "name": "stderr",
     "output_type": "stream",
     "text": [
      "\r",
      " 88% (279072000.0 of 315360000.0) |#### | Elapsed Time: 18:36:49 ETA:   1:30:31"
     ]
    },
    {
     "name": "stderr",
     "output_type": "stream",
     "text": [
      "\r",
      " 88% (279244800.0 of 315360000.0) |#### | Elapsed Time: 18:37:38 ETA:   2:49:52"
     ]
    },
    {
     "name": "stderr",
     "output_type": "stream",
     "text": [
      "\r",
      " 88% (279504000.0 of 315360000.0) |#### | Elapsed Time: 18:38:17 ETA:   1:29:41"
     ]
    },
    {
     "name": "stderr",
     "output_type": "stream",
     "text": [
      "\r",
      " 88% (279676800.0 of 315360000.0) |#### | Elapsed Time: 18:39:06 ETA:   2:48:56"
     ]
    },
    {
     "name": "stderr",
     "output_type": "stream",
     "text": [
      "\r",
      " 88% (279936000.0 of 315360000.0) |#### | Elapsed Time: 18:39:45 ETA:   1:28:40"
     ]
    },
    {
     "name": "stderr",
     "output_type": "stream",
     "text": [
      "\r",
      " 88% (280108800.0 of 315360000.0) |#### | Elapsed Time: 18:40:34 ETA:   2:46:50"
     ]
    },
    {
     "name": "stderr",
     "output_type": "stream",
     "text": [
      "\r",
      " 88% (280368000.0 of 315360000.0) |#### | Elapsed Time: 18:41:13 ETA:   1:27:14"
     ]
    },
    {
     "name": "stderr",
     "output_type": "stream",
     "text": [
      "\r",
      " 88% (280540800.0 of 315360000.0) |#### | Elapsed Time: 18:42:01 ETA:   2:42:47"
     ]
    },
    {
     "name": "stderr",
     "output_type": "stream",
     "text": [
      "\r",
      " 89% (280800000.0 of 315360000.0) |#### | Elapsed Time: 18:42:40 ETA:   1:26:27"
     ]
    },
    {
     "name": "stderr",
     "output_type": "stream",
     "text": [
      "\r",
      " 89% (280972800.0 of 315360000.0) |#### | Elapsed Time: 18:43:28 ETA:   2:41:02"
     ]
    },
    {
     "name": "stderr",
     "output_type": "stream",
     "text": [
      "\r",
      " 89% (281232000.0 of 315360000.0) |#### | Elapsed Time: 18:44:07 ETA:   1:24:49"
     ]
    },
    {
     "name": "stderr",
     "output_type": "stream",
     "text": [
      "\r",
      " 89% (281404800.0 of 315360000.0) |#### | Elapsed Time: 18:44:56 ETA:   2:39:17"
     ]
    },
    {
     "name": "stderr",
     "output_type": "stream",
     "text": [
      "\r",
      " 89% (281664000.0 of 315360000.0) |#### | Elapsed Time: 18:45:34 ETA:   1:23:29"
     ]
    },
    {
     "name": "stderr",
     "output_type": "stream",
     "text": [
      "\r",
      " 89% (281836800.0 of 315360000.0) |#### | Elapsed Time: 18:46:23 ETA:   2:37:47"
     ]
    },
    {
     "name": "stderr",
     "output_type": "stream",
     "text": [
      "\r",
      " 89% (282096000.0 of 315360000.0) |#### | Elapsed Time: 18:47:02 ETA:   1:22:17"
     ]
    },
    {
     "name": "stderr",
     "output_type": "stream",
     "text": [
      "\r",
      " 89% (282268800.0 of 315360000.0) |#### | Elapsed Time: 18:47:51 ETA:   2:36:41"
     ]
    },
    {
     "name": "stderr",
     "output_type": "stream",
     "text": [
      "\r",
      " 89% (282528000.0 of 315360000.0) |#### | Elapsed Time: 18:48:29 ETA:   1:21:17"
     ]
    },
    {
     "name": "stderr",
     "output_type": "stream",
     "text": [
      "\r",
      " 89% (282700800.0 of 315360000.0) |#### | Elapsed Time: 18:49:18 ETA:   2:33:50"
     ]
    },
    {
     "name": "stderr",
     "output_type": "stream",
     "text": [
      "\r",
      " 89% (282960000.0 of 315360000.0) |#### | Elapsed Time: 18:49:57 ETA:   1:20:27"
     ]
    },
    {
     "name": "stderr",
     "output_type": "stream",
     "text": [
      "\r",
      " 89% (283132800.0 of 315360000.0) |#### | Elapsed Time: 18:50:46 ETA:   2:32:33"
     ]
    },
    {
     "name": "stderr",
     "output_type": "stream",
     "text": [
      "\r",
      " 89% (283392000.0 of 315360000.0) |#### | Elapsed Time: 18:51:24 ETA:   1:19:09"
     ]
    },
    {
     "name": "stderr",
     "output_type": "stream",
     "text": [
      "\r",
      " 89% (283564800.0 of 315360000.0) |#### | Elapsed Time: 18:52:13 ETA:   2:28:39"
     ]
    },
    {
     "name": "stderr",
     "output_type": "stream",
     "text": [
      "\r",
      " 90% (283824000.0 of 315360000.0) |#### | Elapsed Time: 18:52:51 ETA:   1:18:20"
     ]
    },
    {
     "name": "stderr",
     "output_type": "stream",
     "text": [
      "\r",
      " 90% (283996800.0 of 315360000.0) |#### | Elapsed Time: 18:53:40 ETA:   2:26:55"
     ]
    },
    {
     "name": "stderr",
     "output_type": "stream",
     "text": [
      "\r",
      " 90% (284256000.0 of 315360000.0) |#### | Elapsed Time: 18:54:18 ETA:   1:17:09"
     ]
    },
    {
     "name": "stderr",
     "output_type": "stream",
     "text": [
      "\r",
      " 90% (284428800.0 of 315360000.0) |#### | Elapsed Time: 18:55:07 ETA:   2:24:20"
     ]
    },
    {
     "name": "stderr",
     "output_type": "stream",
     "text": [
      "\r",
      " 90% (284688000.0 of 315360000.0) |#### | Elapsed Time: 18:55:45 ETA:   1:15:48"
     ]
    },
    {
     "name": "stderr",
     "output_type": "stream",
     "text": [
      "\r",
      " 90% (284860800.0 of 315360000.0) |#### | Elapsed Time: 18:56:34 ETA:   2:22:53"
     ]
    },
    {
     "name": "stderr",
     "output_type": "stream",
     "text": [
      "\r",
      " 90% (285120000.0 of 315360000.0) |#### | Elapsed Time: 18:57:12 ETA:   1:14:53"
     ]
    },
    {
     "name": "stderr",
     "output_type": "stream",
     "text": [
      "\r",
      " 90% (285292800.0 of 315360000.0) |#### | Elapsed Time: 18:58:01 ETA:   2:22:02"
     ]
    },
    {
     "name": "stderr",
     "output_type": "stream",
     "text": [
      "\r",
      " 90% (285552000.0 of 315360000.0) |#### | Elapsed Time: 18:58:40 ETA:   1:14:03"
     ]
    },
    {
     "name": "stderr",
     "output_type": "stream",
     "text": [
      "\r",
      " 90% (285724800.0 of 315360000.0) |#### | Elapsed Time: 18:59:29 ETA:   2:19:32"
     ]
    },
    {
     "name": "stderr",
     "output_type": "stream",
     "text": [
      "\r",
      " 90% (285984000.0 of 315360000.0) |#### | Elapsed Time: 19:00:07 ETA:   1:12:27"
     ]
    },
    {
     "name": "stderr",
     "output_type": "stream",
     "text": [
      "\r",
      " 90% (286156800.0 of 315360000.0) |#### | Elapsed Time: 19:00:56 ETA:   2:17:29"
     ]
    },
    {
     "name": "stderr",
     "output_type": "stream",
     "text": [
      "\r",
      " 90% (286416000.0 of 315360000.0) |#### | Elapsed Time: 19:01:34 ETA:   1:11:19"
     ]
    },
    {
     "name": "stderr",
     "output_type": "stream",
     "text": [
      "\r",
      " 90% (286588800.0 of 315360000.0) |#### | Elapsed Time: 19:02:23 ETA:   2:14:47"
     ]
    },
    {
     "name": "stderr",
     "output_type": "stream",
     "text": [
      "\r",
      " 90% (286848000.0 of 315360000.0) |#### | Elapsed Time: 19:03:02 ETA:   1:10:51"
     ]
    },
    {
     "name": "stderr",
     "output_type": "stream",
     "text": [
      "\r",
      " 91% (287020800.0 of 315360000.0) |#### | Elapsed Time: 19:03:50 ETA:   2:13:01"
     ]
    },
    {
     "name": "stderr",
     "output_type": "stream",
     "text": [
      "\r",
      " 91% (287280000.0 of 315360000.0) |#### | Elapsed Time: 19:04:29 ETA:   1:09:19"
     ]
    },
    {
     "name": "stderr",
     "output_type": "stream",
     "text": [
      "\r",
      " 91% (287452800.0 of 315360000.0) |#### | Elapsed Time: 19:05:17 ETA:   2:11:23"
     ]
    },
    {
     "name": "stderr",
     "output_type": "stream",
     "text": [
      "\r",
      " 91% (287712000.0 of 315360000.0) |#### | Elapsed Time: 19:05:56 ETA:   1:08:11"
     ]
    },
    {
     "name": "stderr",
     "output_type": "stream",
     "text": [
      "\r",
      " 91% (287884800.0 of 315360000.0) |#### | Elapsed Time: 19:06:45 ETA:   2:09:46"
     ]
    },
    {
     "name": "stderr",
     "output_type": "stream",
     "text": [
      "\r",
      " 91% (288144000.0 of 315360000.0) |#### | Elapsed Time: 19:07:23 ETA:   1:07:28"
     ]
    },
    {
     "name": "stderr",
     "output_type": "stream",
     "text": [
      "\r",
      " 91% (288316800.0 of 315360000.0) |#### | Elapsed Time: 19:08:12 ETA:   2:06:30"
     ]
    },
    {
     "name": "stderr",
     "output_type": "stream",
     "text": [
      "\r",
      " 91% (288576000.0 of 315360000.0) |#### | Elapsed Time: 19:08:50 ETA:   1:06:12"
     ]
    },
    {
     "name": "stderr",
     "output_type": "stream",
     "text": [
      "\r",
      " 91% (288748800.0 of 315360000.0) |#### | Elapsed Time: 19:09:39 ETA:   2:05:23"
     ]
    },
    {
     "name": "stderr",
     "output_type": "stream",
     "text": [
      "\r",
      " 91% (289008000.0 of 315360000.0) |#### | Elapsed Time: 19:10:18 ETA:   1:05:38"
     ]
    },
    {
     "name": "stderr",
     "output_type": "stream",
     "text": [
      "\r",
      " 91% (289180800.0 of 315360000.0) |#### | Elapsed Time: 19:11:07 ETA:   2:04:19"
     ]
    },
    {
     "name": "stderr",
     "output_type": "stream",
     "text": [
      "\r",
      " 91% (289440000.0 of 315360000.0) |#### | Elapsed Time: 19:11:46 ETA:   1:04:09"
     ]
    },
    {
     "name": "stderr",
     "output_type": "stream",
     "text": [
      "\r",
      " 91% (289612800.0 of 315360000.0) |#### | Elapsed Time: 19:12:34 ETA:   2:01:09"
     ]
    },
    {
     "name": "stderr",
     "output_type": "stream",
     "text": [
      "\r",
      " 91% (289872000.0 of 315360000.0) |#### | Elapsed Time: 19:13:13 ETA:   1:03:16"
     ]
    },
    {
     "name": "stderr",
     "output_type": "stream",
     "text": [
      "\r",
      " 91% (290044800.0 of 315360000.0) |#### | Elapsed Time: 19:14:02 ETA:   1:59:30"
     ]
    },
    {
     "name": "stderr",
     "output_type": "stream",
     "text": [
      "\r",
      " 92% (290304000.0 of 315360000.0) |#### | Elapsed Time: 19:14:40 ETA:   1:02:04"
     ]
    },
    {
     "name": "stderr",
     "output_type": "stream",
     "text": [
      "\r",
      " 92% (290476800.0 of 315360000.0) |#### | Elapsed Time: 19:15:29 ETA:   1:55:42"
     ]
    },
    {
     "name": "stderr",
     "output_type": "stream",
     "text": [
      "\r",
      " 92% (290736000.0 of 315360000.0) |#### | Elapsed Time: 19:16:07 ETA:   1:00:57"
     ]
    },
    {
     "name": "stderr",
     "output_type": "stream",
     "text": [
      "\r",
      " 92% (290908800.0 of 315360000.0) |#### | Elapsed Time: 19:16:56 ETA:   1:54:04"
     ]
    },
    {
     "name": "stderr",
     "output_type": "stream",
     "text": [
      "\r",
      " 92% (291168000.0 of 315360000.0) |#### | Elapsed Time: 19:17:34 ETA:   1:00:06"
     ]
    },
    {
     "name": "stderr",
     "output_type": "stream",
     "text": [
      "\r",
      " 92% (291340800.0 of 315360000.0) |#### | Elapsed Time: 19:18:22 ETA:   1:51:38"
     ]
    },
    {
     "name": "stderr",
     "output_type": "stream",
     "text": [
      "\r",
      " 92% (291600000.0 of 315360000.0) |#### | Elapsed Time: 19:19:01 ETA:   0:58:19"
     ]
    },
    {
     "name": "stderr",
     "output_type": "stream",
     "text": [
      "\r",
      " 92% (291772800.0 of 315360000.0) |#### | Elapsed Time: 19:19:49 ETA:   1:49:26"
     ]
    },
    {
     "name": "stderr",
     "output_type": "stream",
     "text": [
      "\r",
      " 92% (292032000.0 of 315360000.0) |#### | Elapsed Time: 19:20:27 ETA:   0:57:37"
     ]
    },
    {
     "name": "stderr",
     "output_type": "stream",
     "text": [
      "\r",
      " 92% (292204800.0 of 315360000.0) |#### | Elapsed Time: 19:21:16 ETA:   1:48:20"
     ]
    },
    {
     "name": "stderr",
     "output_type": "stream",
     "text": [
      "\r",
      " 92% (292464000.0 of 315360000.0) |#### | Elapsed Time: 19:21:54 ETA:   0:56:54"
     ]
    },
    {
     "name": "stderr",
     "output_type": "stream",
     "text": [
      "\r",
      " 92% (292636800.0 of 315360000.0) |#### | Elapsed Time: 19:22:43 ETA:   1:46:00"
     ]
    },
    {
     "name": "stderr",
     "output_type": "stream",
     "text": [
      "\r",
      " 92% (292896000.0 of 315360000.0) |#### | Elapsed Time: 19:23:21 ETA:   0:55:42"
     ]
    },
    {
     "name": "stderr",
     "output_type": "stream",
     "text": [
      "\r",
      " 92% (293068800.0 of 315360000.0) |#### | Elapsed Time: 19:24:09 ETA:   1:43:49"
     ]
    },
    {
     "name": "stderr",
     "output_type": "stream",
     "text": [
      "\r",
      " 93% (293328000.0 of 315360000.0) |#### | Elapsed Time: 19:24:48 ETA:   0:53:54"
     ]
    },
    {
     "name": "stderr",
     "output_type": "stream",
     "text": [
      "\r",
      " 93% (293500800.0 of 315360000.0) |#### | Elapsed Time: 19:25:36 ETA:   1:41:19"
     ]
    },
    {
     "name": "stderr",
     "output_type": "stream",
     "text": [
      "\r",
      " 93% (293760000.0 of 315360000.0) |#### | Elapsed Time: 19:26:14 ETA:   0:53:16"
     ]
    },
    {
     "name": "stderr",
     "output_type": "stream",
     "text": [
      "\r",
      " 93% (293932800.0 of 315360000.0) |#### | Elapsed Time: 19:27:02 ETA:   1:39:42"
     ]
    },
    {
     "name": "stderr",
     "output_type": "stream",
     "text": [
      "\r",
      " 93% (294192000.0 of 315360000.0) |#### | Elapsed Time: 19:27:41 ETA:   0:52:28"
     ]
    },
    {
     "name": "stderr",
     "output_type": "stream",
     "text": [
      "\r",
      " 93% (294364800.0 of 315360000.0) |#### | Elapsed Time: 19:28:29 ETA:   1:37:25"
     ]
    },
    {
     "name": "stderr",
     "output_type": "stream",
     "text": [
      "\r",
      " 93% (294624000.0 of 315360000.0) |#### | Elapsed Time: 19:29:07 ETA:   0:50:55"
     ]
    },
    {
     "name": "stderr",
     "output_type": "stream",
     "text": [
      "\r",
      " 93% (294796800.0 of 315360000.0) |#### | Elapsed Time: 19:29:55 ETA:   1:34:24"
     ]
    },
    {
     "name": "stderr",
     "output_type": "stream",
     "text": [
      "\r",
      " 93% (295056000.0 of 315360000.0) |#### | Elapsed Time: 19:30:33 ETA:   0:50:13"
     ]
    },
    {
     "name": "stderr",
     "output_type": "stream",
     "text": [
      "\r",
      " 93% (295228800.0 of 315360000.0) |#### | Elapsed Time: 19:31:21 ETA:   1:33:11"
     ]
    },
    {
     "name": "stderr",
     "output_type": "stream",
     "text": [
      "\r",
      " 93% (295488000.0 of 315360000.0) |#### | Elapsed Time: 19:31:59 ETA:   0:48:23"
     ]
    },
    {
     "name": "stderr",
     "output_type": "stream",
     "text": [
      "\r",
      " 93% (295660800.0 of 315360000.0) |#### | Elapsed Time: 19:32:47 ETA:   1:30:18"
     ]
    },
    {
     "name": "stderr",
     "output_type": "stream",
     "text": [
      "\r",
      " 93% (295920000.0 of 315360000.0) |#### | Elapsed Time: 19:33:25 ETA:   0:47:49"
     ]
    },
    {
     "name": "stderr",
     "output_type": "stream",
     "text": [
      "\r",
      " 93% (296092800.0 of 315360000.0) |#### | Elapsed Time: 19:34:13 ETA:   1:29:17"
     ]
    },
    {
     "name": "stderr",
     "output_type": "stream",
     "text": [
      "\r",
      " 93% (296352000.0 of 315360000.0) |#### | Elapsed Time: 19:34:51 ETA:   0:46:41"
     ]
    },
    {
     "name": "stderr",
     "output_type": "stream",
     "text": [
      "\r",
      " 94% (296524800.0 of 315360000.0) |#### | Elapsed Time: 19:35:39 ETA:   1:27:04"
     ]
    },
    {
     "name": "stderr",
     "output_type": "stream",
     "text": [
      "\r",
      " 94% (296784000.0 of 315360000.0) |#### | Elapsed Time: 19:36:17 ETA:   0:45:41"
     ]
    },
    {
     "name": "stderr",
     "output_type": "stream",
     "text": [
      "\r",
      " 94% (296956800.0 of 315360000.0) |#### | Elapsed Time: 19:37:05 ETA:   1:25:43"
     ]
    },
    {
     "name": "stderr",
     "output_type": "stream",
     "text": [
      "\r",
      " 94% (297216000.0 of 315360000.0) |#### | Elapsed Time: 19:37:44 ETA:   0:44:26"
     ]
    },
    {
     "name": "stderr",
     "output_type": "stream",
     "text": [
      "\r",
      " 94% (297388800.0 of 315360000.0) |#### | Elapsed Time: 19:38:31 ETA:   1:22:56"
     ]
    },
    {
     "name": "stderr",
     "output_type": "stream",
     "text": [
      "\r",
      " 94% (297648000.0 of 315360000.0) |#### | Elapsed Time: 19:39:10 ETA:   0:43:38"
     ]
    },
    {
     "name": "stderr",
     "output_type": "stream",
     "text": [
      "\r",
      " 94% (297820800.0 of 315360000.0) |#### | Elapsed Time: 19:39:58 ETA:   1:20:50"
     ]
    },
    {
     "name": "stderr",
     "output_type": "stream",
     "text": [
      "\r",
      " 94% (298080000.0 of 315360000.0) |#### | Elapsed Time: 19:40:36 ETA:   0:42:47"
     ]
    },
    {
     "name": "stderr",
     "output_type": "stream",
     "text": [
      "\r",
      " 94% (298252800.0 of 315360000.0) |#### | Elapsed Time: 19:41:24 ETA:   1:19:02"
     ]
    },
    {
     "name": "stderr",
     "output_type": "stream",
     "text": [
      "\r",
      " 94% (298512000.0 of 315360000.0) |#### | Elapsed Time: 19:42:02 ETA:   0:40:57"
     ]
    },
    {
     "name": "stderr",
     "output_type": "stream",
     "text": [
      "\r",
      " 94% (298684800.0 of 315360000.0) |#### | Elapsed Time: 19:42:50 ETA:   1:17:28"
     ]
    },
    {
     "name": "stderr",
     "output_type": "stream",
     "text": [
      "\r",
      " 94% (298944000.0 of 315360000.0) |#### | Elapsed Time: 19:43:28 ETA:   0:40:21"
     ]
    },
    {
     "name": "stderr",
     "output_type": "stream",
     "text": [
      "\r",
      " 94% (299116800.0 of 315360000.0) |#### | Elapsed Time: 19:44:16 ETA:   1:15:16"
     ]
    },
    {
     "name": "stderr",
     "output_type": "stream",
     "text": [
      "\r",
      " 94% (299376000.0 of 315360000.0) |#### | Elapsed Time: 19:44:54 ETA:   0:38:58"
     ]
    },
    {
     "name": "stderr",
     "output_type": "stream",
     "text": [
      "\r",
      " 94% (299548800.0 of 315360000.0) |#### | Elapsed Time: 19:45:42 ETA:   1:12:34"
     ]
    },
    {
     "name": "stderr",
     "output_type": "stream",
     "text": [
      "\r",
      " 95% (299808000.0 of 315360000.0) |#### | Elapsed Time: 19:46:20 ETA:   0:38:02"
     ]
    },
    {
     "name": "stderr",
     "output_type": "stream",
     "text": [
      "\r",
      " 95% (299980800.0 of 315360000.0) |#### | Elapsed Time: 19:47:08 ETA:   1:10:45"
     ]
    },
    {
     "name": "stderr",
     "output_type": "stream",
     "text": [
      "\r",
      " 95% (300240000.0 of 315360000.0) |#### | Elapsed Time: 19:47:45 ETA:   0:36:49"
     ]
    },
    {
     "name": "stderr",
     "output_type": "stream",
     "text": [
      "\r",
      " 95% (300412800.0 of 315360000.0) |#### | Elapsed Time: 19:48:33 ETA:   1:08:39"
     ]
    },
    {
     "name": "stderr",
     "output_type": "stream",
     "text": [
      "\r",
      " 95% (300672000.0 of 315360000.0) |#### | Elapsed Time: 19:49:11 ETA:   0:35:36"
     ]
    },
    {
     "name": "stderr",
     "output_type": "stream",
     "text": [
      "\r",
      " 95% (300844800.0 of 315360000.0) |#### | Elapsed Time: 19:49:58 ETA:   1:06:21"
     ]
    },
    {
     "name": "stderr",
     "output_type": "stream",
     "text": [
      "\r",
      " 95% (301104000.0 of 315360000.0) |#### | Elapsed Time: 19:50:36 ETA:   0:34:52"
     ]
    },
    {
     "name": "stderr",
     "output_type": "stream",
     "text": [
      "\r",
      " 95% (301276800.0 of 315360000.0) |#### | Elapsed Time: 19:51:24 ETA:   1:04:52"
     ]
    },
    {
     "name": "stderr",
     "output_type": "stream",
     "text": [
      "\r",
      " 95% (301536000.0 of 315360000.0) |#### | Elapsed Time: 19:52:02 ETA:   0:33:32"
     ]
    },
    {
     "name": "stderr",
     "output_type": "stream",
     "text": [
      "\r",
      " 95% (301708800.0 of 315360000.0) |#### | Elapsed Time: 19:52:49 ETA:   1:02:31"
     ]
    },
    {
     "name": "stderr",
     "output_type": "stream",
     "text": [
      "\r",
      " 95% (301968000.0 of 315360000.0) |#### | Elapsed Time: 19:53:27 ETA:   0:32:39"
     ]
    },
    {
     "name": "stderr",
     "output_type": "stream",
     "text": [
      "\r",
      " 95% (302140800.0 of 315360000.0) |#### | Elapsed Time: 19:54:14 ETA:   1:00:16"
     ]
    },
    {
     "name": "stderr",
     "output_type": "stream",
     "text": [
      "\r",
      " 95% (302400000.0 of 315360000.0) |#### | Elapsed Time: 19:54:52 ETA:   0:31:32"
     ]
    },
    {
     "name": "stderr",
     "output_type": "stream",
     "text": [
      "\r",
      " 95% (302572800.0 of 315360000.0) |#### | Elapsed Time: 19:55:39 ETA:   0:58:12"
     ]
    },
    {
     "name": "stderr",
     "output_type": "stream",
     "text": [
      "\r",
      " 96% (302832000.0 of 315360000.0) |#### | Elapsed Time: 19:56:17 ETA:   0:30:11"
     ]
    },
    {
     "name": "stderr",
     "output_type": "stream",
     "text": [
      "\r",
      " 96% (303004800.0 of 315360000.0) |#### | Elapsed Time: 19:57:04 ETA:   0:56:27"
     ]
    },
    {
     "name": "stderr",
     "output_type": "stream",
     "text": [
      "\r",
      " 96% (303264000.0 of 315360000.0) |#### | Elapsed Time: 19:57:42 ETA:   0:29:30"
     ]
    },
    {
     "name": "stderr",
     "output_type": "stream",
     "text": [
      "\r",
      " 96% (303436800.0 of 315360000.0) |#### | Elapsed Time: 19:58:30 ETA:   0:54:55"
     ]
    },
    {
     "name": "stderr",
     "output_type": "stream",
     "text": [
      "\r",
      " 96% (303696000.0 of 315360000.0) |#### | Elapsed Time: 19:59:08 ETA:   0:28:25"
     ]
    },
    {
     "name": "stderr",
     "output_type": "stream",
     "text": [
      "\r",
      " 96% (303868800.0 of 315360000.0) |#### | Elapsed Time: 19:59:56 ETA:   0:53:07"
     ]
    },
    {
     "name": "stderr",
     "output_type": "stream",
     "text": [
      "\r",
      " 96% (304128000.0 of 315360000.0) |#### | Elapsed Time: 20:00:33 ETA:   0:27:08"
     ]
    },
    {
     "name": "stderr",
     "output_type": "stream",
     "text": [
      "\r",
      " 96% (304300800.0 of 315360000.0) |#### | Elapsed Time: 20:01:21 ETA:   0:50:57"
     ]
    },
    {
     "name": "stderr",
     "output_type": "stream",
     "text": [
      "\r",
      " 96% (304560000.0 of 315360000.0) |#### | Elapsed Time: 20:01:59 ETA:   0:26:13"
     ]
    },
    {
     "name": "stderr",
     "output_type": "stream",
     "text": [
      "\r",
      " 96% (304732800.0 of 315360000.0) |#### | Elapsed Time: 20:02:47 ETA:   0:49:06"
     ]
    },
    {
     "name": "stderr",
     "output_type": "stream",
     "text": [
      "\r",
      " 96% (304992000.0 of 315360000.0) |#### | Elapsed Time: 20:03:24 ETA:   0:25:04"
     ]
    },
    {
     "name": "stderr",
     "output_type": "stream",
     "text": [
      "\r",
      " 96% (305164800.0 of 315360000.0) |#### | Elapsed Time: 20:04:12 ETA:   0:46:43"
     ]
    },
    {
     "name": "stderr",
     "output_type": "stream",
     "text": [
      "\r",
      " 96% (305424000.0 of 315360000.0) |#### | Elapsed Time: 20:04:50 ETA:   0:24:05"
     ]
    },
    {
     "name": "stderr",
     "output_type": "stream",
     "text": [
      "\r",
      " 96% (305596800.0 of 315360000.0) |#### | Elapsed Time: 20:05:37 ETA:   0:44:50"
     ]
    },
    {
     "name": "stderr",
     "output_type": "stream",
     "text": [
      "\r",
      " 96% (305856000.0 of 315360000.0) |#### | Elapsed Time: 20:06:15 ETA:   0:22:47"
     ]
    },
    {
     "name": "stderr",
     "output_type": "stream",
     "text": [
      "\r",
      " 97% (306028800.0 of 315360000.0) |#### | Elapsed Time: 20:07:02 ETA:   0:42:20"
     ]
    },
    {
     "name": "stderr",
     "output_type": "stream",
     "text": [
      "\r",
      " 97% (306288000.0 of 315360000.0) |#### | Elapsed Time: 20:07:39 ETA:   0:21:53"
     ]
    },
    {
     "name": "stderr",
     "output_type": "stream",
     "text": [
      "\r",
      " 97% (306460800.0 of 315360000.0) |#### | Elapsed Time: 20:08:27 ETA:   0:40:44"
     ]
    },
    {
     "name": "stderr",
     "output_type": "stream",
     "text": [
      "\r",
      " 97% (306720000.0 of 315360000.0) |#### | Elapsed Time: 20:09:04 ETA:   0:20:56"
     ]
    },
    {
     "name": "stderr",
     "output_type": "stream",
     "text": [
      "\r",
      " 97% (306892800.0 of 315360000.0) |#### | Elapsed Time: 20:09:52 ETA:   0:39:15"
     ]
    },
    {
     "name": "stderr",
     "output_type": "stream",
     "text": [
      "\r",
      " 97% (307152000.0 of 315360000.0) |#### | Elapsed Time: 20:10:30 ETA:   0:19:38"
     ]
    },
    {
     "name": "stderr",
     "output_type": "stream",
     "text": [
      "\r",
      " 97% (307324800.0 of 315360000.0) |#### | Elapsed Time: 20:11:17 ETA:   0:36:55"
     ]
    },
    {
     "name": "stderr",
     "output_type": "stream",
     "text": [
      "\r",
      " 97% (307584000.0 of 315360000.0) |#### | Elapsed Time: 20:11:55 ETA:   0:18:42"
     ]
    },
    {
     "name": "stderr",
     "output_type": "stream",
     "text": [
      "\r",
      " 97% (307756800.0 of 315360000.0) |#### | Elapsed Time: 20:12:43 ETA:   0:35:10"
     ]
    },
    {
     "name": "stderr",
     "output_type": "stream",
     "text": [
      "\r",
      " 97% (308016000.0 of 315360000.0) |#### | Elapsed Time: 20:13:20 ETA:   0:17:38"
     ]
    },
    {
     "name": "stderr",
     "output_type": "stream",
     "text": [
      "\r",
      " 97% (308188800.0 of 315360000.0) |#### | Elapsed Time: 20:14:08 ETA:   0:33:14"
     ]
    },
    {
     "name": "stderr",
     "output_type": "stream",
     "text": [
      "\r",
      " 97% (308448000.0 of 315360000.0) |#### | Elapsed Time: 20:14:46 ETA:   0:16:39"
     ]
    },
    {
     "name": "stderr",
     "output_type": "stream",
     "text": [
      "\r",
      " 97% (308620800.0 of 315360000.0) |#### | Elapsed Time: 20:15:34 ETA:   0:31:11"
     ]
    },
    {
     "name": "stderr",
     "output_type": "stream",
     "text": [
      "\r",
      " 97% (308880000.0 of 315360000.0) |#### | Elapsed Time: 20:16:12 ETA:   0:15:56"
     ]
    },
    {
     "name": "stderr",
     "output_type": "stream",
     "text": [
      "\r",
      " 98% (309052800.0 of 315360000.0) |#### | Elapsed Time: 20:17:01 ETA:   0:29:55"
     ]
    },
    {
     "name": "stderr",
     "output_type": "stream",
     "text": [
      "\r",
      " 98% (309312000.0 of 315360000.0) |#### | Elapsed Time: 20:17:39 ETA:   0:14:54"
     ]
    },
    {
     "name": "stderr",
     "output_type": "stream",
     "text": [
      "\r",
      " 98% (309484800.0 of 315360000.0) |#### | Elapsed Time: 20:18:28 ETA:   0:27:28"
     ]
    },
    {
     "name": "stderr",
     "output_type": "stream",
     "text": [
      "\r",
      " 98% (309744000.0 of 315360000.0) |#### | Elapsed Time: 20:19:06 ETA:   0:13:49"
     ]
    },
    {
     "name": "stderr",
     "output_type": "stream",
     "text": [
      "\r",
      " 98% (309916800.0 of 315360000.0) |#### | Elapsed Time: 20:19:55 ETA:   0:25:31"
     ]
    },
    {
     "name": "stderr",
     "output_type": "stream",
     "text": [
      "\r",
      " 98% (310176000.0 of 315360000.0) |#### | Elapsed Time: 20:20:33 ETA:   0:12:42"
     ]
    },
    {
     "name": "stderr",
     "output_type": "stream",
     "text": [
      "\r",
      " 98% (310348800.0 of 315360000.0) |#### | Elapsed Time: 20:21:22 ETA:   0:23:37"
     ]
    },
    {
     "name": "stderr",
     "output_type": "stream",
     "text": [
      "\r",
      " 98% (310608000.0 of 315360000.0) |#### | Elapsed Time: 20:22:00 ETA:   0:11:42"
     ]
    },
    {
     "name": "stderr",
     "output_type": "stream",
     "text": [
      "\r",
      " 98% (310780800.0 of 315360000.0) |#### | Elapsed Time: 20:22:49 ETA:   0:21:31"
     ]
    },
    {
     "name": "stderr",
     "output_type": "stream",
     "text": [
      "\r",
      " 98% (311040000.0 of 315360000.0) |#### | Elapsed Time: 20:23:27 ETA:   0:10:35"
     ]
    },
    {
     "name": "stderr",
     "output_type": "stream",
     "text": [
      "\r",
      " 98% (311212800.0 of 315360000.0) |#### | Elapsed Time: 20:24:16 ETA:   0:19:50"
     ]
    },
    {
     "name": "stderr",
     "output_type": "stream",
     "text": [
      "\r",
      " 98% (311472000.0 of 315360000.0) |#### | Elapsed Time: 20:24:54 ETA:   0:09:22"
     ]
    },
    {
     "name": "stderr",
     "output_type": "stream",
     "text": [
      "\r",
      " 98% (311644800.0 of 315360000.0) |#### | Elapsed Time: 20:25:42 ETA:   0:17:06"
     ]
    },
    {
     "name": "stderr",
     "output_type": "stream",
     "text": [
      "\r",
      " 98% (311904000.0 of 315360000.0) |#### | Elapsed Time: 20:26:18 ETA:   0:08:09"
     ]
    },
    {
     "name": "stderr",
     "output_type": "stream",
     "text": [
      "\r",
      " 98% (312076800.0 of 315360000.0) |#### | Elapsed Time: 20:27:05 ETA:   0:14:48"
     ]
    },
    {
     "name": "stderr",
     "output_type": "stream",
     "text": [
      "\r",
      " 99% (312336000.0 of 315360000.0) |#### | Elapsed Time: 20:27:42 ETA:   0:07:08"
     ]
    },
    {
     "name": "stderr",
     "output_type": "stream",
     "text": [
      "\r",
      " 99% (312508800.0 of 315360000.0) |#### | Elapsed Time: 20:28:29 ETA:   0:12:54"
     ]
    },
    {
     "name": "stderr",
     "output_type": "stream",
     "text": [
      "\r",
      " 99% (312768000.0 of 315360000.0) |#### | Elapsed Time: 20:29:06 ETA:   0:06:11"
     ]
    },
    {
     "name": "stderr",
     "output_type": "stream",
     "text": [
      "\r",
      " 99% (312940800.0 of 315360000.0) |#### | Elapsed Time: 20:29:53 ETA:   0:10:58"
     ]
    },
    {
     "name": "stderr",
     "output_type": "stream",
     "text": [
      "\r",
      " 99% (313200000.0 of 315360000.0) |#### | Elapsed Time: 20:30:30 ETA:   0:05:07"
     ]
    },
    {
     "name": "stderr",
     "output_type": "stream",
     "text": [
      "\r",
      " 99% (313372800.0 of 315360000.0) |#### | Elapsed Time: 20:31:18 ETA:   0:09:06"
     ]
    },
    {
     "name": "stderr",
     "output_type": "stream",
     "text": [
      "\r",
      " 99% (313632000.0 of 315360000.0) |#### | Elapsed Time: 20:31:54 ETA:   0:04:06"
     ]
    },
    {
     "name": "stderr",
     "output_type": "stream",
     "text": [
      "\r",
      " 99% (313804800.0 of 315360000.0) |#### | Elapsed Time: 20:32:42 ETA:   0:07:06"
     ]
    },
    {
     "name": "stderr",
     "output_type": "stream",
     "text": [
      "\r",
      " 99% (314064000.0 of 315360000.0) |#### | Elapsed Time: 20:33:19 ETA:   0:03:07"
     ]
    },
    {
     "name": "stderr",
     "output_type": "stream",
     "text": [
      "\r",
      " 99% (314236800.0 of 315360000.0) |#### | Elapsed Time: 20:34:06 ETA:   0:05:03"
     ]
    },
    {
     "name": "stderr",
     "output_type": "stream",
     "text": [
      "\r",
      " 99% (314496000.0 of 315360000.0) |#### | Elapsed Time: 20:34:43 ETA:   0:02:03"
     ]
    },
    {
     "name": "stderr",
     "output_type": "stream",
     "text": [
      "\r",
      " 99% (314668800.0 of 315360000.0) |#### | Elapsed Time: 20:35:31 ETA:   0:03:11"
     ]
    },
    {
     "name": "stderr",
     "output_type": "stream",
     "text": [
      "\r",
      " 99% (314928000.0 of 315360000.0) |#### | Elapsed Time: 20:36:08 ETA:   0:01:02"
     ]
    },
    {
     "name": "stderr",
     "output_type": "stream",
     "text": [
      "\r",
      " 99% (315100800.0 of 315360000.0) |#### | Elapsed Time: 20:36:56 ETA:   0:01:11"
     ]
    },
    {
     "name": "stderr",
     "output_type": "stream",
     "text": [
      "\r",
      "100% (315360000.0 of 315360000.0) |#####| Elapsed Time: 20:37:33 ETA:  00:00:00"
     ]
    },
    {
     "name": "stderr",
     "output_type": "stream",
     "text": [
      "\r",
      "100% (315360000.0 of 315360000.0) |#####| Elapsed Time: 20:37:33 Time: 20:37:33"
     ]
    },
    {
     "name": "stderr",
     "output_type": "stream",
     "text": [
      "\n"
     ]
    },
    {
     "name": "stdout",
     "output_type": "stream",
     "text": [
      "CPU times: user 18h 39min 1s, sys: 1h 29min 13s, total: 20h 8min 15s\n",
      "Wall time: 20h 39min 50s\n"
     ]
    }
   ],
   "source": [
    "%%time\n",
    "\n",
    "# with dask.config.set(**{'array.slicing.split_large_chunks': False}):\n",
    "pset.execute(\n",
    "    custom_kernel,\n",
    "    runtime=timedelta(days=runtime_in_days),    \n",
    "    dt=timedelta(minutes=dt_in_minutes),      \n",
    "    output_file=outputfile,\n",
    "    recovery=recovery_cases\n",
    ")"
   ]
  },
  {
   "cell_type": "code",
   "execution_count": 38,
   "id": "stopped-transportation",
   "metadata": {
    "execution": {
     "iopub.execute_input": "2021-04-24T08:38:53.407896Z",
     "iopub.status.busy": "2021-04-24T08:38:53.407458Z",
     "iopub.status.idle": "2021-04-24T08:38:53.408464Z",
     "shell.execute_reply": "2021-04-24T08:38:53.408191Z"
    },
    "papermill": {
     "duration": 0.213942,
     "end_time": "2021-04-24T08:38:53.408549",
     "exception": false,
     "start_time": "2021-04-24T08:38:53.194607",
     "status": "completed"
    },
    "tags": []
   },
   "outputs": [],
   "source": [
    "# outputfile.export()"
   ]
  },
  {
   "cell_type": "code",
   "execution_count": 39,
   "id": "closing-bleeding",
   "metadata": {
    "execution": {
     "iopub.execute_input": "2021-04-24T08:38:53.828609Z",
     "iopub.status.busy": "2021-04-24T08:38:53.828279Z",
     "iopub.status.idle": "2021-04-24T08:41:56.754532Z",
     "shell.execute_reply": "2021-04-24T08:41:56.737694Z"
    },
    "papermill": {
     "duration": 183.143768,
     "end_time": "2021-04-24T08:41:56.760771",
     "exception": false,
     "start_time": "2021-04-24T08:38:53.617003",
     "status": "completed"
    },
    "tags": []
   },
   "outputs": [],
   "source": [
    "outputfile.close()"
   ]
  },
  {
   "cell_type": "code",
   "execution_count": 40,
   "id": "rural-adrian",
   "metadata": {
    "execution": {
     "iopub.execute_input": "2021-04-24T08:41:57.838451Z",
     "iopub.status.busy": "2021-04-24T08:41:57.837868Z",
     "iopub.status.idle": "2021-04-24T08:42:00.556222Z",
     "shell.execute_reply": "2021-04-24T08:42:00.555734Z"
    },
    "papermill": {
     "duration": 2.945409,
     "end_time": "2021-04-24T08:42:00.556314",
     "exception": false,
     "start_time": "2021-04-24T08:41:57.610905",
     "status": "completed"
    },
    "tags": []
   },
   "outputs": [
    {
     "name": "stdout",
     "output_type": "stream",
     "text": [
      "# packages in environment at /opt/conda:\r\n",
      "#\r\n",
      "# Name                    Version                   Build  Channel\r\n",
      "_libgcc_mutex             0.1                 conda_forge    conda-forge\r\n",
      "_openmp_mutex             4.5                       1_gnu    conda-forge\r\n",
      "alembic                   1.5.5              pyhd8ed1ab_0    conda-forge\r\n",
      "ansiwrap                  0.8.4                      py_0    conda-forge\r\n",
      "anyio                     2.2.0            py38h578d9bd_0    conda-forge\r\n",
      "appdirs                   1.4.4              pyh9f0ad1d_0    conda-forge\r\n",
      "argon2-cffi               20.1.0           py38h497a2fe_2    conda-forge\r\n",
      "asciitree                 0.3.3                      py_2    conda-forge\r\n",
      "async_generator           1.10                       py_0    conda-forge\r\n",
      "attrs                     20.3.0             pyhd3deb0d_0    conda-forge\r\n",
      "babel                     2.9.0              pyhd3deb0d_0    conda-forge\r\n",
      "backcall                  0.2.0              pyh9f0ad1d_0    conda-forge\r\n",
      "backports                 1.0                        py_2    conda-forge\r\n",
      "backports.functools_lru_cache 1.6.1                      py_0    conda-forge\r\n",
      "basemap                   1.2.2            py38h85717e3_3    conda-forge\r\n",
      "binutils_impl_linux-64    2.35.1               h193b22a_2    conda-forge\r\n",
      "binutils_linux-64         2.35                h67ddf6f_30    conda-forge\r\n",
      "black                     20.8b1                     py_1    conda-forge\r\n",
      "bleach                    3.3.0              pyh44b312d_0    conda-forge\r\n",
      "blinker                   1.4                        py_1    conda-forge\r\n",
      "blosc                     1.21.0               h9c3ff4c_0    conda-forge\r\n",
      "bokeh                     2.3.0            py38h578d9bd_0    conda-forge\r\n",
      "boost-cpp                 1.74.0               hc6e9bd1_2    conda-forge\r\n",
      "bottleneck                1.3.2            py38h5c078b8_3    conda-forge\r\n",
      "brotlipy                  0.7.0           py38h497a2fe_1001    conda-forge\r\n",
      "bzip2                     1.0.8                h7f98852_4    conda-forge\r\n",
      "c-ares                    1.17.1               h36c2ea0_0    conda-forge\r\n",
      "ca-certificates           2020.12.5            ha878542_0    conda-forge\r\n",
      "cached-property           1.5.2                hd8ed1ab_1    conda-forge\r\n",
      "cached_property           1.5.2              pyha770c72_1    conda-forge\r\n",
      "cachetools                4.2.1              pyhd8ed1ab_0    conda-forge\r\n",
      "cairo                     1.16.0            h7979940_1007    conda-forge\r\n",
      "cartopy                   0.18.0           py38h9b98833_8    conda-forge\r\n",
      "certifi                   2020.12.5        py38h578d9bd_1    conda-forge\r\n",
      "certipy                   0.1.3                      py_0    conda-forge\r\n",
      "cffi                      1.14.5           py38ha65f79e_0    conda-forge\r\n",
      "cfitsio                   3.470                hb418390_7    conda-forge\r\n",
      "cftime                    1.4.1            py38h5c078b8_0    conda-forge\r\n",
      "cgen                      2020.1                     py_0    conda-forge\r\n",
      "chardet                   4.0.0            py38h578d9bd_1    conda-forge\r\n",
      "click                     7.1.2              pyh9f0ad1d_0    conda-forge\r\n",
      "click-plugins             1.1.1                      py_0    conda-forge\r\n",
      "cligj                     0.7.1              pyhd8ed1ab_0    conda-forge\r\n",
      "cloudpickle               1.6.0                      py_0    conda-forge\r\n",
      "cmocean                   2.0                        py_3    conda-forge\r\n",
      "colorcet                  2.0.6              pyhd8ed1ab_0    conda-forge\r\n",
      "colorspacious             1.1.2              pyh24bf2e0_0    conda-forge\r\n",
      "conda                     4.9.2            py38h578d9bd_0    conda-forge\r\n",
      "conda-package-handling    1.7.2            py38h8df0ef7_0    conda-forge\r\n",
      "configurable-http-proxy   4.2.3           node15_he6ea98c_0    conda-forge\r\n",
      "cryptography              3.4.4            py38h3e25421_0    conda-forge\r\n",
      "curl                      7.71.1               he644dc0_8    conda-forge\r\n",
      "cycler                    0.10.0                     py_2    conda-forge\r\n",
      "cytoolz                   0.11.0           py38h497a2fe_3    conda-forge\r\n",
      "dask                      2021.2.0           pyhd8ed1ab_0    conda-forge\r\n",
      "dask-core                 2021.2.0           pyhd8ed1ab_0    conda-forge\r\n",
      "dataclasses               0.8                pyhc8e2a94_1    conda-forge\r\n",
      "datashader                0.12.0             pyhd3deb0d_0    conda-forge\r\n",
      "datashape                 0.5.4                      py_1    conda-forge\r\n",
      "dbus                      1.13.6               hfdff14a_1    conda-forge\r\n",
      "decorator                 4.4.2                      py_0    conda-forge\r\n",
      "defusedxml                0.6.0                      py_0    conda-forge\r\n",
      "distributed               2021.2.0         py38h578d9bd_0    conda-forge\r\n",
      "entrypoints               0.3             pyhd8ed1ab_1003    conda-forge\r\n",
      "expat                     2.2.10               h9c3ff4c_0    conda-forge\r\n",
      "fasteners                 0.14.1                     py_3    conda-forge\r\n",
      "ffmpeg                    4.3.1                hca11adc_2    conda-forge\r\n",
      "fiona                     1.8.18           py38h58f84aa_1    conda-forge\r\n",
      "fontconfig                2.13.1            hba837de_1004    conda-forge\r\n",
      "freetype                  2.10.4               h0708190_1    conda-forge\r\n",
      "freexl                    1.0.6                h7f98852_0    conda-forge\r\n",
      "fsspec                    0.8.7              pyhd8ed1ab_0    conda-forge\r\n",
      "gcc_impl_linux-64         9.3.0               h70c0ae5_18    conda-forge\r\n",
      "gcc_linux-64              9.3.0               hf25ea35_30    conda-forge\r\n",
      "gdal                      3.2.1            py38hc0b2d6b_3    conda-forge\r\n",
      "geopandas                 0.9.0              pyhd8ed1ab_0    conda-forge\r\n",
      "geos                      3.8.1                he1b5a44_0    conda-forge\r\n",
      "geotiff                   1.6.0                h2b14fbe_4    conda-forge\r\n",
      "geoviews                  1.9.1              pyhd8ed1ab_0    conda-forge\r\n",
      "geoviews-core             1.9.1              pyha770c72_0    conda-forge\r\n",
      "gettext                   0.19.8.1          h0b5b191_1005    conda-forge\r\n",
      "giflib                    5.2.1                h36c2ea0_2    conda-forge\r\n",
      "glib                      2.66.7               h9c3ff4c_1    conda-forge\r\n",
      "glib-tools                2.66.7               h9c3ff4c_1    conda-forge\r\n",
      "gmp                       6.2.1                h58526e2_0    conda-forge\r\n",
      "gnutls                    3.6.13               h85f3911_1    conda-forge\r\n",
      "gst-plugins-base          1.14.5               h0935bb2_2    conda-forge\r\n",
      "gstreamer                 1.18.4               h76c114f_0    conda-forge\r\n",
      "gsw                       3.4.0            py38h5c078b8_1    conda-forge\r\n",
      "h5netcdf                  0.10.0             pyhd8ed1ab_0    conda-forge\r\n",
      "h5py                      3.1.0           nompi_py38hafa665b_100    conda-forge\r\n",
      "hdf4                      4.2.13            h10796ff_1004    conda-forge\r\n",
      "hdf5                      1.10.6          nompi_h6a2412b_1114    conda-forge\r\n",
      "heapdict                  1.0.1                      py_0    conda-forge\r\n",
      "holoviews                 1.14.2             pyhd8ed1ab_0    conda-forge\r\n",
      "hvplot                    0.7.1              pyh44b312d_0    conda-forge\r\n",
      "icu                       68.1                 h58526e2_0    conda-forge\r\n",
      "idna                      2.10               pyh9f0ad1d_0    conda-forge\r\n",
      "importlib-metadata        3.7.0            py38h578d9bd_0    conda-forge\r\n",
      "ipykernel                 5.5.0            py38h81c977d_1    conda-forge\r\n",
      "ipython                   7.21.0           py38h81c977d_0    conda-forge\r\n",
      "ipython_genutils          0.2.0                      py_1    conda-forge\r\n",
      "jedi                      0.18.0           py38h578d9bd_2    conda-forge\r\n",
      "jinja2                    2.11.3             pyh44b312d_0    conda-forge\r\n",
      "joblib                    1.0.1              pyhd8ed1ab_0    conda-forge\r\n",
      "jpeg                      9d                   h36c2ea0_0    conda-forge\r\n",
      "json-c                    0.13.1            hbfbb72e_1002    conda-forge\r\n",
      "json5                     0.9.5              pyh9f0ad1d_0    conda-forge\r\n",
      "jsonschema                3.2.0              pyhd8ed1ab_3    conda-forge\r\n",
      "jupyter-packaging         0.7.12             pyhd8ed1ab_0    conda-forge\r\n",
      "jupyter_client            6.1.11             pyhd8ed1ab_1    conda-forge\r\n",
      "jupyter_core              4.7.1            py38h578d9bd_0    conda-forge\r\n",
      "jupyter_server            1.4.1            py38h578d9bd_0    conda-forge\r\n",
      "jupyter_telemetry         0.1.0              pyhd8ed1ab_1    conda-forge\r\n",
      "jupyterhub                1.3.0            py38h578d9bd_1    conda-forge\r\n",
      "jupyterhub-base           1.3.0            py38h578d9bd_1    conda-forge\r\n",
      "jupyterlab                3.0.9              pyhd8ed1ab_0    conda-forge\r\n",
      "jupyterlab_pygments       0.1.2              pyh9f0ad1d_0    conda-forge\r\n",
      "jupyterlab_server         2.3.0              pyhd8ed1ab_0    conda-forge\r\n",
      "kealib                    1.4.14               hcc255d8_2    conda-forge\r\n",
      "kernel-headers_linux-64   2.6.32              h77966d4_13    conda-forge\r\n",
      "kiwisolver                1.3.1            py38h1fd1430_1    conda-forge\r\n",
      "krb5                      1.17.2               h926e7f8_0    conda-forge\r\n",
      "lame                      3.100             h7f98852_1001    conda-forge\r\n",
      "lcms2                     2.12                 hddcbb42_0    conda-forge\r\n",
      "ld_impl_linux-64          2.35.1               hea4e1c9_2    conda-forge\r\n",
      "libarchive                3.5.1                h3f442fb_1    conda-forge\r\n",
      "libblas                   3.9.0           3_h92ddd45_netlib    conda-forge\r\n",
      "libcblas                  3.9.0           3_h92ddd45_netlib    conda-forge\r\n",
      "libclang                  11.1.0          default_ha53f305_0    conda-forge\r\n",
      "libcurl                   7.71.1               hcdd3856_8    conda-forge\r\n",
      "libdap4                   3.20.6               hd7c4107_1    conda-forge\r\n",
      "libedit                   3.1.20191231         he28a2e2_2    conda-forge\r\n",
      "libev                     4.33                 h516909a_1    conda-forge\r\n",
      "libevent                  2.1.10               hcdb4288_3    conda-forge\r\n",
      "libffi                    3.3                  h58526e2_2    conda-forge\r\n",
      "libgcc-devel_linux-64     9.3.0               h7864c58_18    conda-forge\r\n",
      "libgcc-ng                 9.3.0               h2828fa1_18    conda-forge\r\n",
      "libgdal                   3.2.1                h744752d_3    conda-forge\r\n",
      "libgfortran-ng            9.3.0               hff62375_18    conda-forge\r\n",
      "libgfortran5              9.3.0               hff62375_18    conda-forge\r\n",
      "libglib                   2.66.7               h3e27bee_1    conda-forge\r\n",
      "libgomp                   9.3.0               h2828fa1_18    conda-forge\r\n",
      "libiconv                  1.16                 h516909a_0    conda-forge\r\n",
      "libkml                    1.3.0             h02e6976_1012    conda-forge\r\n",
      "liblapack                 3.9.0           3_h92ddd45_netlib    conda-forge\r\n",
      "libllvm10                 10.0.1               he513fc3_3    conda-forge\r\n",
      "libllvm11                 11.1.0               hf817b99_0    conda-forge\r\n",
      "libnetcdf                 4.7.4           nompi_h56d31a8_107    conda-forge\r\n",
      "libnghttp2                1.43.0               h812cca2_0    conda-forge\r\n",
      "libopenblas               0.3.13          pthreads_h8fe5266_0    conda-forge\r\n",
      "libpng                    1.6.37               h21135ba_2    conda-forge\r\n",
      "libpq                     12.3                 h255efa7_3    conda-forge\r\n",
      "librttopo                 1.1.0                hb271727_4    conda-forge\r\n",
      "libsodium                 1.0.18               h36c2ea0_1    conda-forge\r\n",
      "libsolv                   0.7.17               h780b84a_0    conda-forge\r\n",
      "libspatialindex           1.9.3                h9c3ff4c_3    conda-forge\r\n",
      "libspatialite             5.0.1                h4e7eb2b_1    conda-forge\r\n",
      "libssh2                   1.9.0                hab1572f_5    conda-forge\r\n",
      "libstdcxx-ng              9.3.0               h6de172a_18    conda-forge\r\n",
      "libtiff                   4.2.0                hdc55705_0    conda-forge\r\n",
      "libuuid                   2.32.1            h7f98852_1000    conda-forge\r\n",
      "libuv                     1.41.0               h7f98852_0    conda-forge\r\n",
      "libwebp-base              1.2.0                h7f98852_2    conda-forge\r\n",
      "libxcb                    1.13              h7f98852_1003    conda-forge\r\n",
      "libxkbcommon              1.0.3                he3ba5ed_0    conda-forge\r\n",
      "libxml2                   2.9.10               h72842e0_3    conda-forge\r\n",
      "llvmlite                  0.36.0           py38h4630a5e_0    conda-forge\r\n",
      "locket                    0.2.0                      py_2    conda-forge\r\n",
      "lz4-c                     1.9.3                h9c3ff4c_0    conda-forge\r\n",
      "lzo                       2.10              h516909a_1000    conda-forge\r\n",
      "mako                      1.1.4              pyh44b312d_0    conda-forge\r\n",
      "mamba                     0.7.14           py38h2aa5da1_0    conda-forge\r\n",
      "markdown                  3.3.4              pyhd8ed1ab_0    conda-forge\r\n",
      "markupsafe                1.1.1            py38h497a2fe_3    conda-forge\r\n",
      "matplotlib                3.3.4            py38h578d9bd_0    conda-forge\r\n",
      "matplotlib-base           3.3.4            py38h0efea84_0    conda-forge\r\n",
      "mistune                   0.8.4           py38h497a2fe_1003    conda-forge\r\n",
      "monotonic                 1.5                        py_0    conda-forge\r\n",
      "msgpack-python            1.0.2            py38h1fd1430_1    conda-forge\r\n",
      "multipledispatch          0.6.0                      py_0    conda-forge\r\n",
      "munch                     2.5.0                      py_0    conda-forge\r\n",
      "mypy_extensions           0.4.3            py38h578d9bd_3    conda-forge\r\n",
      "mysql-common              8.0.22               ha770c72_3    conda-forge\r\n",
      "mysql-libs                8.0.22               h935591d_3    conda-forge\r\n",
      "nbclassic                 0.2.6              pyhd8ed1ab_0    conda-forge\r\n",
      "nbclient                  0.5.3              pyhd8ed1ab_0    conda-forge\r\n",
      "nbconvert                 6.0.7            py38h578d9bd_3    conda-forge\r\n",
      "nbformat                  5.1.2              pyhd8ed1ab_1    conda-forge\r\n",
      "ncurses                   6.2                  h58526e2_4    conda-forge\r\n",
      "nest-asyncio              1.4.3              pyhd8ed1ab_0    conda-forge\r\n",
      "netcdf4                   1.5.6           nompi_py38h1cdf482_100    conda-forge\r\n",
      "nettle                    3.6                  he412f7d_0    conda-forge\r\n",
      "nodejs                    15.11.0              h92b4a50_0    conda-forge\r\n",
      "notebook                  6.2.0            py38h578d9bd_0    conda-forge\r\n",
      "nspr                      4.30                 h9c3ff4c_0    conda-forge\r\n",
      "nss                       3.62                 hb5efdd6_0    conda-forge\r\n",
      "numba                     0.53.0           py38h5e62926_0    conda-forge\r\n",
      "numcodecs                 0.7.3            py38h709712a_0    conda-forge\r\n",
      "numpy                     1.20.1           py38h18fd61f_0    conda-forge\r\n",
      "oauthlib                  3.0.1                      py_0    conda-forge\r\n",
      "olefile                   0.46               pyh9f0ad1d_1    conda-forge\r\n",
      "openblas                  0.3.13          pthreads_h4748800_0    conda-forge\r\n",
      "openh264                  2.1.1                h780b84a_0    conda-forge\r\n",
      "openjpeg                  2.4.0                hf7af979_0    conda-forge\r\n",
      "openssl                   1.1.1j               h7f98852_0    conda-forge\r\n",
      "packaging                 20.9               pyh44b312d_0    conda-forge\r\n",
      "pamela                    1.0.0                      py_0    conda-forge\r\n",
      "pandas                    1.2.3            py38h51da96c_0    conda-forge\r\n",
      "pandoc                    2.11.4               h7f98852_0    conda-forge\r\n",
      "pandocfilters             1.4.2                      py_1    conda-forge\r\n",
      "panel                     0.11.0             pyhd8ed1ab_0    conda-forge\r\n",
      "papermill                 2.3.3              pyhd8ed1ab_0    conda-forge\r\n",
      "param                     1.10.1             pyhd3deb0d_0    conda-forge\r\n",
      "parcels                   2.2.2            py38h578d9bd_0    conda-forge\r\n",
      "parso                     0.8.1              pyhd8ed1ab_0    conda-forge\r\n",
      "partd                     1.1.0                      py_0    conda-forge\r\n",
      "pathspec                  0.8.1              pyhd3deb0d_0    conda-forge\r\n",
      "patsy                     0.5.1                      py_0    conda-forge\r\n",
      "pcre                      8.44                 he1b5a44_0    conda-forge\r\n",
      "pexpect                   4.8.0              pyh9f0ad1d_2    conda-forge\r\n",
      "pickleshare               0.7.5                   py_1003    conda-forge\r\n",
      "pillow                    8.1.2            py38ha0e1e83_0    conda-forge\r\n",
      "pip                       21.0.1             pyhd8ed1ab_0    conda-forge\r\n",
      "pixman                    0.40.0               h36c2ea0_0    conda-forge\r\n",
      "poppler                   0.89.0               h2de54a5_5    conda-forge\r\n",
      "poppler-data              0.4.10                        0    conda-forge\r\n",
      "postgresql                12.3                 hc2f5b80_3    conda-forge\r\n",
      "progressbar2              3.53.1             pyh9f0ad1d_0    conda-forge\r\n",
      "proj                      7.2.0                h277dcde_2    conda-forge\r\n",
      "prometheus_client         0.9.0              pyhd3deb0d_0    conda-forge\r\n",
      "prompt-toolkit            3.0.16             pyha770c72_0    conda-forge\r\n",
      "psutil                    5.8.0            py38h497a2fe_1    conda-forge\r\n",
      "pthread-stubs             0.4               h36c2ea0_1001    conda-forge\r\n",
      "ptyprocess                0.7.0              pyhd3deb0d_0    conda-forge\r\n",
      "pycosat                   0.6.3           py38h497a2fe_1006    conda-forge\r\n",
      "pycparser                 2.20               pyh9f0ad1d_2    conda-forge\r\n",
      "pyct                      0.4.6                      py_0    conda-forge\r\n",
      "pyct-core                 0.4.6                      py_0    conda-forge\r\n",
      "pycurl                    7.43.0.6         py38h996a351_1    conda-forge\r\n",
      "pygments                  2.8.0              pyhd8ed1ab_0    conda-forge\r\n",
      "pyjwt                     2.0.1              pyhd8ed1ab_0    conda-forge\r\n",
      "pymbolic                  2020.1             pyh9f0ad1d_0    conda-forge\r\n",
      "pyopenssl                 20.0.1             pyhd8ed1ab_0    conda-forge\r\n",
      "pyparsing                 2.4.7              pyh9f0ad1d_0    conda-forge\r\n",
      "pyproj                    3.0.1            py38h16ecdd7_0    conda-forge\r\n",
      "pyqt                      5.12.3           py38h578d9bd_7    conda-forge\r\n",
      "pyqt-impl                 5.12.3           py38h7400c14_7    conda-forge\r\n",
      "pyqt5-sip                 4.19.18          py38h709712a_7    conda-forge\r\n",
      "pyqtchart                 5.12             py38h7400c14_7    conda-forge\r\n",
      "pyqtwebengine             5.12.1           py38h7400c14_7    conda-forge\r\n",
      "pyrsistent                0.17.3           py38h497a2fe_2    conda-forge\r\n",
      "pyshp                     2.1.3              pyh44b312d_0    conda-forge\r\n",
      "pysocks                   1.7.1            py38h578d9bd_3    conda-forge\r\n",
      "python                    3.8.8           hffdb5ce_0_cpython    conda-forge\r\n",
      "python-blosc              1.10.2           py38h51da96c_0    conda-forge\r\n",
      "python-dateutil           2.8.1                      py_0    conda-forge\r\n",
      "python-editor             1.0.4                      py_0    conda-forge\r\n",
      "python-json-logger        2.0.1              pyh9f0ad1d_0    conda-forge\r\n",
      "python-utils              2.5.5              pyh44b312d_0    conda-forge\r\n",
      "python_abi                3.8                      1_cp38    conda-forge\r\n",
      "pytools                   2021.2             pyhd8ed1ab_0    conda-forge\r\n",
      "pytz                      2021.1             pyhd8ed1ab_0    conda-forge\r\n",
      "pyviz_comms               2.0.1              pyhd3deb0d_0    conda-forge\r\n",
      "pyyaml                    5.4.1            py38h497a2fe_0    conda-forge\r\n",
      "pyzmq                     22.0.3           py38h2035c66_1    conda-forge\r\n",
      "qt                        5.12.9               h9d6b050_2    conda-forge\r\n",
      "readline                  8.0                  he28a2e2_2    conda-forge\r\n",
      "regex                     2020.11.13       py38h497a2fe_1    conda-forge\r\n",
      "reproc                    14.2.1               h36c2ea0_0    conda-forge\r\n",
      "reproc-cpp                14.2.1               h58526e2_0    conda-forge\r\n",
      "requests                  2.25.1             pyhd3deb0d_0    conda-forge\r\n",
      "rtree                     0.9.7            py38h02d302b_1    conda-forge\r\n",
      "ruamel.yaml               0.16.12          py38h497a2fe_2    conda-forge\r\n",
      "ruamel.yaml.clib          0.2.2            py38h497a2fe_2    conda-forge\r\n",
      "ruamel_yaml               0.15.80         py38h497a2fe_1004    conda-forge\r\n",
      "scikit-learn              0.24.1           py38h658cfdd_0    conda-forge\r\n",
      "scipy                     1.6.1            py38hb2138dd_0    conda-forge\r\n",
      "seaborn                   0.11.1               hd8ed1ab_1    conda-forge\r\n",
      "seaborn-base              0.11.1             pyhd8ed1ab_1    conda-forge\r\n",
      "seawater                  3.3.4                      py_1    conda-forge\r\n",
      "send2trash                1.5.0                      py_0    conda-forge\r\n",
      "setuptools                49.6.0           py38h578d9bd_3    conda-forge\r\n",
      "shapely                   1.7.1            py38ha11d057_1    conda-forge\r\n",
      "six                       1.15.0             pyh9f0ad1d_0    conda-forge\r\n",
      "sniffio                   1.2.0            py38h578d9bd_1    conda-forge\r\n",
      "sortedcontainers          2.3.0              pyhd8ed1ab_0    conda-forge\r\n",
      "sparse                    0.11.2                     py_0    conda-forge\r\n",
      "sqlalchemy                1.3.23           py38h497a2fe_0    conda-forge\r\n",
      "sqlite                    3.34.0               h74cdb3f_0    conda-forge\r\n",
      "statsmodels               0.12.2           py38h5c078b8_0    conda-forge\r\n",
      "sysroot_linux-64          2.12                h77966d4_13    conda-forge\r\n",
      "tblib                     1.6.0                      py_0    conda-forge\r\n",
      "tenacity                  7.0.0              pyhd8ed1ab_0    conda-forge\r\n",
      "terminado                 0.9.2            py38h578d9bd_0    conda-forge\r\n",
      "testpath                  0.4.4                      py_0    conda-forge\r\n",
      "textwrap3                 0.9.2                      py_0    conda-forge\r\n",
      "threadpoolctl             2.1.0              pyh5ca1d4c_0    conda-forge\r\n",
      "tiledb                    2.2.5                h91fcb0e_0    conda-forge\r\n",
      "tini                      0.18.0            h14c3975_1001    conda-forge\r\n",
      "tk                        8.6.10               h21135ba_1    conda-forge\r\n",
      "toml                      0.10.2             pyhd8ed1ab_0    conda-forge\r\n",
      "toolz                     0.11.1                     py_0    conda-forge\r\n",
      "tornado                   6.1              py38h497a2fe_1    conda-forge\r\n",
      "tqdm                      4.58.0             pyhd8ed1ab_0    conda-forge\r\n",
      "traitlets                 5.0.5                      py_0    conda-forge\r\n",
      "typed-ast                 1.4.2            py38h497a2fe_0    conda-forge\r\n",
      "typing_extensions         3.7.4.3                    py_0    conda-forge\r\n",
      "tzcode                    2021a                h7f98852_1    conda-forge\r\n",
      "urllib3                   1.26.3             pyhd8ed1ab_0    conda-forge\r\n",
      "wcwidth                   0.2.5              pyh9f0ad1d_2    conda-forge\r\n",
      "webencodings              0.5.1                      py_1    conda-forge\r\n",
      "wheel                     0.36.2             pyhd3deb0d_0    conda-forge\r\n",
      "x264                      1!161.3030           h7f98852_0    conda-forge\r\n",
      "xarray                    0.17.0             pyhd8ed1ab_0    conda-forge\r\n",
      "xerces-c                  3.2.3                h9d8b166_2    conda-forge\r\n",
      "xhistogram                0.1.2              pyhd8ed1ab_0    conda-forge\r\n",
      "xorg-kbproto              1.0.7             h7f98852_1002    conda-forge\r\n",
      "xorg-libice               1.0.10               h7f98852_0    conda-forge\r\n",
      "xorg-libsm                1.2.3             hd9c2040_1000    conda-forge\r\n",
      "xorg-libx11               1.7.0                h7f98852_0    conda-forge\r\n",
      "xorg-libxau               1.0.9                h7f98852_0    conda-forge\r\n",
      "xorg-libxdmcp             1.1.3                h7f98852_0    conda-forge\r\n",
      "xorg-libxext              1.3.4                h7f98852_1    conda-forge\r\n",
      "xorg-libxrender           0.9.10            h7f98852_1003    conda-forge\r\n",
      "xorg-renderproto          0.11.1            h7f98852_1002    conda-forge\r\n",
      "xorg-xextproto            7.3.0             h7f98852_1002    conda-forge\r\n",
      "xorg-xproto               7.0.31            h7f98852_1007    conda-forge\r\n",
      "xz                        5.2.5                h516909a_1    conda-forge\r\n",
      "yaml                      0.2.5                h516909a_0    conda-forge\r\n",
      "zarr                      2.6.1              pyhd8ed1ab_0    conda-forge\r\n",
      "zeromq                    4.3.4                h9c3ff4c_0    conda-forge\r\n",
      "zict                      2.0.0                      py_0    conda-forge\r\n",
      "zipp                      3.4.0                      py_0    conda-forge\r\n",
      "zlib                      1.2.11            h516909a_1010    conda-forge\r\n",
      "zstd                      1.4.9                ha95c52a_0    conda-forge\r\n"
     ]
    },
    {
     "name": "stdout",
     "output_type": "stream",
     "text": [
      "\n",
      "Note: you may need to restart the kernel to use updated packages.\n"
     ]
    }
   ],
   "source": [
    "conda list\n"
   ]
  },
  {
   "cell_type": "code",
   "execution_count": 41,
   "id": "sharing-bangkok",
   "metadata": {
    "execution": {
     "iopub.execute_input": "2021-04-24T08:42:00.993781Z",
     "iopub.status.busy": "2021-04-24T08:42:00.993445Z",
     "iopub.status.idle": "2021-04-24T08:42:01.815301Z",
     "shell.execute_reply": "2021-04-24T08:42:01.815938Z"
    },
    "papermill": {
     "duration": 1.063125,
     "end_time": "2021-04-24T08:42:01.816050",
     "exception": false,
     "start_time": "2021-04-24T08:42:00.752925",
     "status": "completed"
    },
    "tags": []
   },
   "outputs": [
    {
     "name": "stdout",
     "output_type": "stream",
     "text": [
      "Package                       Version\r\n",
      "----------------------------- --------------------------\r\n",
      "alembic                       1.5.5\r\n",
      "ansiwrap                      0.8.4\r\n",
      "anyio                         2.2.0\r\n",
      "appdirs                       1.4.4\r\n",
      "argon2-cffi                   20.1.0\r\n",
      "asciitree                     0.3.3\r\n",
      "async-generator               1.10\r\n",
      "attrs                         20.3.0\r\n",
      "Babel                         2.9.0\r\n",
      "backcall                      0.2.0\r\n",
      "backports.functools-lru-cache 1.6.1\r\n",
      "basemap                       1.2.1\r\n",
      "black                         20.8b1\r\n",
      "bleach                        3.3.0\r\n",
      "blinker                       1.4\r\n",
      "blosc                         1.10.2\r\n",
      "bokeh                         2.3.0\r\n",
      "Bottleneck                    1.3.2\r\n",
      "brotlipy                      0.7.0\r\n",
      "cached-property               1.5.2\r\n",
      "cachetools                    4.2.1\r\n",
      "Cartopy                       0.18.0\r\n",
      "certifi                       2020.12.5\r\n",
      "certipy                       0.1.3\r\n",
      "cffi                          1.14.5\r\n",
      "cftime                        1.4.1\r\n",
      "cgen                          2020.1\r\n",
      "chardet                       4.0.0\r\n",
      "click                         7.1.2\r\n",
      "click-plugins                 1.1.1\r\n",
      "cligj                         0.7.1\r\n",
      "cloudpickle                   1.6.0\r\n",
      "cmocean                       2.0\r\n",
      "colorcet                      2.0.6\r\n",
      "colorspacious                 1.1.2\r\n",
      "conda                         4.9.2\r\n",
      "conda-package-handling        1.7.2\r\n",
      "cryptography                  3.4.4\r\n",
      "cycler                        0.10.0\r\n",
      "cytoolz                       0.11.0\r\n",
      "dask                          2021.2.0\r\n",
      "datashader                    0.12.0\r\n",
      "datashape                     0.5.4\r\n",
      "decorator                     4.4.2\r\n",
      "defusedxml                    0.6.0\r\n",
      "distributed                   2021.2.0\r\n",
      "entrypoints                   0.3\r\n",
      "fasteners                     0.14.1\r\n",
      "Fiona                         1.8.18\r\n",
      "fsspec                        0.8.7\r\n",
      "GDAL                          3.2.1\r\n",
      "geopandas                     0.9.0\r\n",
      "geoviews                      0.0.0+g33876c88.gitarchive\r\n",
      "gsw                           3.4.0\r\n",
      "h5netcdf                      0.10.0\r\n",
      "h5py                          3.1.0\r\n",
      "HeapDict                      1.0.1\r\n",
      "holoviews                     1.14.2\r\n",
      "hvplot                        0.7.1\r\n",
      "idna                          2.10\r\n",
      "importlib-metadata            3.7.0\r\n",
      "ipykernel                     5.5.0\r\n",
      "ipython                       7.21.0\r\n",
      "ipython-genutils              0.2.0\r\n",
      "jedi                          0.18.0\r\n",
      "Jinja2                        2.11.3\r\n",
      "joblib                        1.0.1\r\n",
      "json5                         0.9.5\r\n",
      "jsonschema                    3.2.0\r\n",
      "jupyter-client                6.1.11\r\n",
      "jupyter-core                  4.7.1\r\n",
      "jupyter-packaging             0.7.12\r\n",
      "jupyter-server                1.4.1\r\n",
      "jupyter-telemetry             0.1.0\r\n",
      "jupyterhub                    1.3.0\r\n",
      "jupyterlab                    3.0.9\r\n",
      "jupyterlab-pygments           0.1.2\r\n",
      "jupyterlab-server             2.3.0\r\n",
      "kiwisolver                    1.3.1\r\n",
      "llvmlite                      0.36.0\r\n",
      "locket                        0.2.0\r\n",
      "Mako                          1.1.4\r\n",
      "mamba                         0.7.14\r\n",
      "Markdown                      3.3.4\r\n",
      "MarkupSafe                    1.1.1\r\n",
      "matplotlib                    3.3.4\r\n",
      "mistune                       0.8.4\r\n",
      "monotonic                     1.5\r\n",
      "msgpack                       1.0.2\r\n",
      "multipledispatch              0.6.0\r\n",
      "munch                         2.5.0\r\n",
      "mypy-extensions               0.4.3\r\n",
      "nbclassic                     0.2.6\r\n",
      "nbclient                      0.5.3\r\n",
      "nbconvert                     6.0.7\r\n",
      "nbformat                      5.1.2\r\n",
      "nest-asyncio                  1.4.3\r\n",
      "netCDF4                       1.5.6\r\n",
      "notebook                      6.2.0\r\n",
      "numba                         0.53.0\r\n",
      "numcodecs                     0.7.3\r\n",
      "numpy                         1.20.1\r\n",
      "oauthlib                      3.0.1\r\n",
      "olefile                       0.46\r\n",
      "packaging                     20.9\r\n",
      "pamela                        1.0.0\r\n",
      "pandas                        1.2.3\r\n",
      "pandocfilters                 1.4.2\r\n",
      "panel                         0.11.0\r\n",
      "papermill                     2.3.3\r\n",
      "param                         1.10.1\r\n",
      "parcels                       2.2.2\r\n",
      "parso                         0.8.1\r\n",
      "partd                         1.1.0\r\n",
      "pathspec                      0.8.1\r\n",
      "patsy                         0.5.1\r\n",
      "pexpect                       4.8.0\r\n",
      "pickleshare                   0.7.5\r\n",
      "Pillow                        8.1.2\r\n",
      "pip                           21.0.1\r\n",
      "progressbar2                  3.53.1\r\n",
      "prometheus-client             0.9.0\r\n",
      "prompt-toolkit                3.0.16\r\n",
      "psutil                        5.8.0\r\n",
      "ptyprocess                    0.7.0\r\n",
      "pycosat                       0.6.3\r\n",
      "pycparser                     2.20\r\n",
      "pyct                          0.4.6\r\n",
      "pycurl                        7.43.0.6\r\n",
      "Pygments                      2.8.0\r\n",
      "PyJWT                         2.0.1\r\n",
      "pymbolic                      2020.1\r\n",
      "pyOpenSSL                     20.0.1\r\n",
      "pyparsing                     2.4.7\r\n",
      "pyproj                        3.0.1\r\n",
      "PyQt5                         5.12.3\r\n",
      "PyQt5-sip                     4.19.18\r\n",
      "PyQtChart                     5.12\r\n",
      "PyQtWebEngine                 5.12.1\r\n",
      "pyrsistent                    0.17.3\r\n",
      "pyshp                         2.1.3\r\n",
      "PySocks                       1.7.1\r\n",
      "python-dateutil               2.8.1\r\n",
      "python-editor                 1.0.4\r\n",
      "python-json-logger            2.0.1\r\n",
      "python-utils                  2.5.5\r\n",
      "pytools                       2021.2\r\n",
      "pytz                          2021.1\r\n",
      "pyviz-comms                   2.0.1\r\n",
      "PyYAML                        5.4.1\r\n",
      "pyzmq                         22.0.3\r\n",
      "regex                         2020.11.13\r\n",
      "requests                      2.25.1\r\n",
      "Rtree                         0.9.7\r\n",
      "ruamel-yaml-conda             0.15.80\r\n",
      "ruamel.yaml                   0.16.12\r\n",
      "ruamel.yaml.clib              0.2.2\r\n",
      "scikit-learn                  0.24.1\r\n",
      "scipy                         1.6.1\r\n",
      "seaborn                       0.11.1\r\n",
      "seawater                      3.3.4\r\n",
      "Send2Trash                    1.5.0\r\n",
      "setuptools                    49.6.0.post20210108\r\n",
      "Shapely                       1.7.1\r\n",
      "six                           1.15.0\r\n",
      "sniffio                       1.2.0\r\n",
      "sortedcontainers              2.3.0\r\n",
      "sparse                        0.11.2\r\n",
      "SQLAlchemy                    1.3.23\r\n",
      "statsmodels                   0.12.2\r\n",
      "tblib                         1.6.0\r\n",
      "tenacity                      7.0.0\r\n",
      "terminado                     0.9.2\r\n",
      "testpath                      0.4.4\r\n",
      "textwrap3                     0.9.2\r\n",
      "threadpoolctl                 2.1.0\r\n",
      "toml                          0.10.2\r\n",
      "toolz                         0.11.1\r\n",
      "tornado                       6.1\r\n",
      "tqdm                          4.58.0\r\n",
      "traitlets                     5.0.5\r\n",
      "typed-ast                     1.4.2\r\n",
      "typing-extensions             3.7.4.3\r\n",
      "urllib3                       1.26.3\r\n",
      "wcwidth                       0.2.5\r\n",
      "webencodings                  0.5.1\r\n",
      "wheel                         0.36.2\r\n",
      "xarray                        0.17.0\r\n",
      "xhistogram                    0.1.2\r\n",
      "zarr                          2.6.1\r\n",
      "zict                          2.0.0\r\n",
      "zipp                          3.4.0\r\n"
     ]
    },
    {
     "name": "stdout",
     "output_type": "stream",
     "text": [
      "Note: you may need to restart the kernel to use updated packages.\n"
     ]
    }
   ],
   "source": [
    "pip list\n"
   ]
  }
 ],
 "metadata": {
  "kernelspec": {
   "display_name": "Python 3",
   "language": "python",
   "name": "python3"
  },
  "language_info": {
   "codemirror_mode": {
    "name": "ipython",
    "version": 3
   },
   "file_extension": ".py",
   "mimetype": "text/x-python",
   "name": "python",
   "nbconvert_exporter": "python",
   "pygments_lexer": "ipython3",
   "version": "3.8.8"
  },
  "papermill": {
   "default_parameters": {},
   "duration": 75183.468329,
   "end_time": "2021-04-24T08:42:06.283146",
   "environment_variables": {},
   "exception": null,
   "input_path": "037_afox_RunParcels_TS_MXL_Multiline_Randomvel_Papermill.ipynb",
   "output_path": "executed/037_afox_RunParcels_TS_MXL_Multiline_Randomvel_Papermill_executed_2019-09-10.ipynb",
   "parameters": {
    "create_number_particles": 4000000,
    "data_resolution": "5d",
    "mask_path_name": "/gxfs_work1/geomar/smomw355/model_data/ocean-only/VIKING20X.L46-KKG36107B/nemo/suppl/",
    "max_current": 2.0,
    "max_release_depth": 1000,
    "mesh_mask_filename": "1_mesh_mask.nc",
    "path_name": "/gxfs_work1/geomar/smomw355/model_data/ocean-only/VIKING20X.L46-KKG36107B/nemo/output/",
    "runtime_in_days": 3650,
    "t_0_str": "1980-01-03T12:00:00",
    "t_start_str": "2019-09-10T12:00:00",
    "use_dask_chunks": false,
    "use_number_particles": 4000000,
    "w_name_extension": "",
    "year_prefix": ""
   },
   "start_time": "2021-04-23T11:49:02.814817",
   "version": "2.3.3"
  }
 },
 "nbformat": 4,
 "nbformat_minor": 5
}