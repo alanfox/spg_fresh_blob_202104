{
 "cells": [
  {
   "cell_type": "markdown",
   "id": "ahead-detection",
   "metadata": {
    "papermill": {
     "duration": 0.020923,
     "end_time": "2021-05-02T07:28:50.499890",
     "exception": false,
     "start_time": "2021-05-02T07:28:50.478967",
     "status": "completed"
    },
    "tags": []
   },
   "source": [
    "# Parcels Experiment:<br><br>Expanding the polyline code to release particles at density based on local velocity normal to section.\n",
    "\n",
    "_(Based on an experiment originally designed by Christina Schmidt.)_\n",
    "\n",
    "_(Runs on GEOMAR Jupyter Server at https://schulung3.geomar.de/user/workshop007/lab)_"
   ]
  },
  {
   "cell_type": "markdown",
   "id": "colored-prayer",
   "metadata": {
    "papermill": {
     "duration": 0.018219,
     "end_time": "2021-05-02T07:28:50.536779",
     "exception": false,
     "start_time": "2021-05-02T07:28:50.518560",
     "status": "completed"
    },
    "tags": []
   },
   "source": [
    "## To do\n",
    "\n",
    "- Check/ask how OceanParcels deals with partial cells, if it does.\n",
    "    - It doesn't. Does it matter?"
   ]
  },
  {
   "cell_type": "markdown",
   "id": "collaborative-junction",
   "metadata": {
    "papermill": {
     "duration": 0.018622,
     "end_time": "2021-05-02T07:28:50.575467",
     "exception": false,
     "start_time": "2021-05-02T07:28:50.556845",
     "status": "completed"
    },
    "tags": []
   },
   "source": [
    "## Technical preamble"
   ]
  },
  {
   "cell_type": "code",
   "execution_count": 1,
   "id": "atlantic-zoning",
   "metadata": {
    "execution": {
     "iopub.execute_input": "2021-05-02T07:28:50.625085Z",
     "iopub.status.busy": "2021-05-02T07:28:50.624733Z",
     "iopub.status.idle": "2021-05-02T07:28:54.025179Z",
     "shell.execute_reply": "2021-05-02T07:28:54.025740Z"
    },
    "papermill": {
     "duration": 3.432057,
     "end_time": "2021-05-02T07:28:54.025945",
     "exception": false,
     "start_time": "2021-05-02T07:28:50.593888",
     "status": "completed"
    },
    "tags": []
   },
   "outputs": [
    {
     "name": "stderr",
     "output_type": "stream",
     "text": [
      "INFO: Compiled ParcelsRandom ==> /tmp/parcels-62665/libparcels_random_c3145e84-1830-45bb-842a-2d02841a17ba.so\n"
     ]
    }
   ],
   "source": [
    "%matplotlib inline\n",
    "\n",
    "from parcels import (\n",
    "    AdvectionRK4_3D,\n",
    "    ErrorCode,\n",
    "    FieldSet,\n",
    "    JITParticle,\n",
    "    ParticleSet,\n",
    "    Variable\n",
    ")\n",
    "\n",
    "# from operator import attrgetter\n",
    "from datetime import datetime, timedelta\n",
    "import numpy as np\n",
    "from pathlib import Path\n",
    "import matplotlib.pyplot as plt\n",
    "import cmocean as co\n",
    "import pandas as pd\n",
    "import xarray as xr\n",
    "# import dask as dask\n"
   ]
  },
  {
   "cell_type": "markdown",
   "id": "addressed-fleece",
   "metadata": {
    "papermill": {
     "duration": 0.018532,
     "end_time": "2021-05-02T07:28:54.064281",
     "exception": false,
     "start_time": "2021-05-02T07:28:54.045749",
     "status": "completed"
    },
    "tags": []
   },
   "source": [
    "## Experiment settings (user input)"
   ]
  },
  {
   "cell_type": "markdown",
   "id": "genetic-indianapolis",
   "metadata": {
    "papermill": {
     "duration": 0.018413,
     "end_time": "2021-05-02T07:28:54.101265",
     "exception": false,
     "start_time": "2021-05-02T07:28:54.082852",
     "status": "completed"
    },
    "tags": []
   },
   "source": [
    "### Parameters\n",
    "These can be set in papermill"
   ]
  },
  {
   "cell_type": "code",
   "execution_count": 2,
   "id": "colored-invitation",
   "metadata": {
    "execution": {
     "iopub.execute_input": "2021-05-02T07:28:54.143378Z",
     "iopub.status.busy": "2021-05-02T07:28:54.142127Z",
     "iopub.status.idle": "2021-05-02T07:28:54.143961Z",
     "shell.execute_reply": "2021-05-02T07:28:54.143684Z"
    },
    "papermill": {
     "duration": 0.02446,
     "end_time": "2021-05-02T07:28:54.144035",
     "exception": false,
     "start_time": "2021-05-02T07:28:54.119575",
     "status": "completed"
    },
    "tags": [
     "parameters"
    ]
   },
   "outputs": [],
   "source": [
    "# OSNAP multiline details\n",
    "sectionPathname = '../data/external/'\n",
    "sectionFilename = 'osnap_pos_wp.txt'\n",
    "sectionname = 'osnap'\n",
    "# location of input data\n",
    "path_name = '/data/iAtlantic/ocean-only/VIKING20X.L46-KKG36107B/nemo/output/'\n",
    "experiment_name = 'VIKING20X.L46-KKG36107B' \n",
    "data_resolution = '1m'\n",
    "w_name_extension = '_repaire_depthw_time'\n",
    "\n",
    "# location of mask data\n",
    "mask_path_name = '/data/iAtlantic/ocean-only/VIKING20X.L46-KKG36107B/nemo/suppl/'\n",
    "mesh_mask_filename = '1_mesh_mask.nc_notime_depthw'\n",
    "# location of output data\n",
    "outpath_name = '../data/raw/'\n",
    "\n",
    "year_prefix = 201  # this does from 2000 onwards\n",
    "\n",
    "# set line segment to use\n",
    "start_vertex = 4\n",
    "end_vertex = 12\n",
    "\n",
    "# experiment duration etc\n",
    "runtime_in_days = 10\n",
    "dt_in_minutes = -10\n",
    "# repeatdt = timedelta(days=3)\n",
    "\n",
    "# number of particles to track\n",
    "create_number_particles = 200000  # many will not be ocean points\n",
    "use_number_particles = 200000\n",
    "\n",
    "min_release_depth = 0\n",
    "max_release_depth = 1_000  \n",
    "\n",
    "# max current speed for particle selection\n",
    "max_current = 1.0\n",
    "\n",
    "# set base release date and time\n",
    "t_0_str = '2010-01-16T12:00:00'\n",
    "t_start_str = '2016-01-16T12:00:00'\n",
    "\n",
    "# particle positions are stored every x hours \n",
    "outputdt_in_hours = 120\n",
    "\n",
    "# select subdomain (to decrease needed resources) comment out to use whole domain\n",
    "# sd_i1, sd_i2 = 0, 2404  # western/eastern limit (indices not coordinates)\n",
    "# sd_j1, sd_j2 = 1200, 2499  # southern/northern limit (indices not coordinates)\n",
    "# sd_z1, sd_z2 = 0, 46\n",
    "\n",
    "# how to initialize the random number generator\n",
    "# --> is set in next cell\n",
    "# RNG_seed = 123\n",
    "\n",
    "use_dask_chunks = True"
   ]
  },
  {
   "cell_type": "code",
   "execution_count": 3,
   "id": "supported-jewelry",
   "metadata": {
    "execution": {
     "iopub.execute_input": "2021-05-02T07:28:54.184929Z",
     "iopub.status.busy": "2021-05-02T07:28:54.183769Z",
     "iopub.status.idle": "2021-05-02T07:28:54.185529Z",
     "shell.execute_reply": "2021-05-02T07:28:54.185253Z"
    },
    "papermill": {
     "duration": 0.023042,
     "end_time": "2021-05-02T07:28:54.185603",
     "exception": false,
     "start_time": "2021-05-02T07:28:54.162561",
     "status": "completed"
    },
    "tags": [
     "injected-parameters"
    ]
   },
   "outputs": [],
   "source": [
    "# Parameters\n",
    "path_name = \"/gxfs_work1/geomar/smomw355/model_data/ocean-only/VIKING20X.L46-KKG36107B/nemo/output/\"\n",
    "data_resolution = \"5d\"\n",
    "w_name_extension = \"\"\n",
    "mask_path_name = \"/gxfs_work1/geomar/smomw355/model_data/ocean-only/VIKING20X.L46-KKG36107B/nemo/suppl/\"\n",
    "mesh_mask_filename = \"1_mesh_mask.nc\"\n",
    "year_prefix = \"\"\n",
    "runtime_in_days = 3650\n",
    "create_number_particles = 4000000\n",
    "use_number_particles = 4000000\n",
    "max_release_depth = 1000\n",
    "max_current = 2.0\n",
    "t_0_str = \"1980-01-03T12:00:00\"\n",
    "t_start_str = \"2019-02-17T12:00:00\"\n",
    "use_dask_chunks = False\n"
   ]
  },
  {
   "cell_type": "markdown",
   "id": "hourly-immigration",
   "metadata": {
    "papermill": {
     "duration": 0.018459,
     "end_time": "2021-05-02T07:28:54.222493",
     "exception": false,
     "start_time": "2021-05-02T07:28:54.204034",
     "status": "completed"
    },
    "tags": []
   },
   "source": [
    "### Derived variables"
   ]
  },
  {
   "cell_type": "code",
   "execution_count": 4,
   "id": "missing-portable",
   "metadata": {
    "execution": {
     "iopub.execute_input": "2021-05-02T07:28:54.266866Z",
     "iopub.status.busy": "2021-05-02T07:28:54.266422Z",
     "iopub.status.idle": "2021-05-02T07:28:54.268485Z",
     "shell.execute_reply": "2021-05-02T07:28:54.267166Z"
    },
    "papermill": {
     "duration": 0.027506,
     "end_time": "2021-05-02T07:28:54.268563",
     "exception": false,
     "start_time": "2021-05-02T07:28:54.241057",
     "status": "completed"
    },
    "tags": []
   },
   "outputs": [
    {
     "data": {
      "text/plain": [
       "datetime.datetime(1980, 1, 3, 12, 0)"
      ]
     },
     "metadata": {},
     "output_type": "display_data"
    },
    {
     "data": {
      "text/plain": [
       "datetime.datetime(2019, 2, 17, 12, 0)"
      ]
     },
     "metadata": {},
     "output_type": "display_data"
    }
   ],
   "source": [
    "# times\n",
    "t_0 = datetime.fromisoformat(t_0_str)  # using monthly mean fields. Check dates.\n",
    "t_start = datetime.fromisoformat(t_start_str)\n",
    "# RNG seed based on release day (days since 1980-01-03)\n",
    "RNG_seed = int((t_start - t_0).total_seconds() / (60*60*24))\n",
    "\n",
    "# names of files to load \n",
    "fname_U = f'1_{experiment_name}_{data_resolution}_{year_prefix}*_grid_U.nc'  \n",
    "fname_V = f'1_{experiment_name}_{data_resolution}_{year_prefix}*_grid_V.nc'\n",
    "fname_T = f'1_{experiment_name}_{data_resolution}_{year_prefix}*_grid_T.nc'\n",
    "fname_W = f'1_{experiment_name}_{data_resolution}_{year_prefix}*_grid_W.nc{w_name_extension}'\n",
    "\n",
    "sectionPath = Path(sectionPathname)\n",
    "\n",
    "data_path = Path(path_name)\n",
    "\n",
    "mask_path = Path(mask_path_name)\n",
    "\n",
    "outpath = Path(outpath_name)\n",
    "\n",
    "display(t_0)\n",
    "display(t_start)"
   ]
  },
  {
   "cell_type": "code",
   "execution_count": 5,
   "id": "nonprofit-place",
   "metadata": {
    "execution": {
     "iopub.execute_input": "2021-05-02T07:28:54.310835Z",
     "iopub.status.busy": "2021-05-02T07:28:54.309697Z",
     "iopub.status.idle": "2021-05-02T07:28:54.311428Z",
     "shell.execute_reply": "2021-05-02T07:28:54.311137Z"
    },
    "papermill": {
     "duration": 0.023792,
     "end_time": "2021-05-02T07:28:54.311501",
     "exception": false,
     "start_time": "2021-05-02T07:28:54.287709",
     "status": "completed"
    },
    "tags": []
   },
   "outputs": [],
   "source": [
    "if dt_in_minutes > 0:\n",
    "    direction = '_forwards_'\n",
    "else:\n",
    "    direction = '_backward_'\n",
    "\n",
    "year_str = str(t_start.year)\n",
    "month_str = str(t_start.month).zfill(2)\n",
    "day_str = str(t_start.day).zfill(2)\n",
    "days = str(runtime_in_days)\n",
    "seed = str(RNG_seed)\n",
    "npart= str(use_number_particles)\n",
    "\n"
   ]
  },
  {
   "cell_type": "code",
   "execution_count": 6,
   "id": "criminal-wisdom",
   "metadata": {
    "execution": {
     "iopub.execute_input": "2021-05-02T07:28:54.352934Z",
     "iopub.status.busy": "2021-05-02T07:28:54.351786Z",
     "iopub.status.idle": "2021-05-02T07:28:54.353517Z",
     "shell.execute_reply": "2021-05-02T07:28:54.353232Z"
    },
    "papermill": {
     "duration": 0.023095,
     "end_time": "2021-05-02T07:28:54.353587",
     "exception": false,
     "start_time": "2021-05-02T07:28:54.330492",
     "status": "completed"
    },
    "tags": []
   },
   "outputs": [],
   "source": [
    "degree2km = 1.852*60.0\n"
   ]
  },
  {
   "cell_type": "markdown",
   "id": "relevant-tobago",
   "metadata": {
    "papermill": {
     "duration": 0.019046,
     "end_time": "2021-05-02T07:28:54.391585",
     "exception": false,
     "start_time": "2021-05-02T07:28:54.372539",
     "status": "completed"
    },
    "tags": []
   },
   "source": [
    "## Construct input / output paths etc."
   ]
  },
  {
   "cell_type": "code",
   "execution_count": 7,
   "id": "colored-boost",
   "metadata": {
    "execution": {
     "iopub.execute_input": "2021-05-02T07:28:54.433267Z",
     "iopub.status.busy": "2021-05-02T07:28:54.432115Z",
     "iopub.status.idle": "2021-05-02T07:28:54.433846Z",
     "shell.execute_reply": "2021-05-02T07:28:54.433572Z"
    },
    "papermill": {
     "duration": 0.023132,
     "end_time": "2021-05-02T07:28:54.433918",
     "exception": false,
     "start_time": "2021-05-02T07:28:54.410786",
     "status": "completed"
    },
    "tags": []
   },
   "outputs": [],
   "source": [
    "mesh_mask = mask_path / mesh_mask_filename\n"
   ]
  },
  {
   "cell_type": "markdown",
   "id": "israeli-nylon",
   "metadata": {
    "papermill": {
     "duration": 0.018922,
     "end_time": "2021-05-02T07:28:54.471993",
     "exception": false,
     "start_time": "2021-05-02T07:28:54.453071",
     "status": "completed"
    },
    "tags": []
   },
   "source": [
    "## Load input datasets"
   ]
  },
  {
   "cell_type": "code",
   "execution_count": 8,
   "id": "adequate-favor",
   "metadata": {
    "execution": {
     "iopub.execute_input": "2021-05-02T07:28:54.520088Z",
     "iopub.status.busy": "2021-05-02T07:28:54.519618Z",
     "iopub.status.idle": "2021-05-02T07:28:54.520678Z",
     "shell.execute_reply": "2021-05-02T07:28:54.520396Z"
    },
    "papermill": {
     "duration": 0.029654,
     "end_time": "2021-05-02T07:28:54.520750",
     "exception": false,
     "start_time": "2021-05-02T07:28:54.491096",
     "status": "completed"
    },
    "tags": []
   },
   "outputs": [],
   "source": [
    "def fieldset_defintions(\n",
    "    list_of_filenames_U, list_of_filenames_V,\n",
    "    list_of_filenames_W, list_of_filenames_T,\n",
    "    mesh_mask\n",
    "):\n",
    "    ds_mask = xr.open_dataset(mesh_mask)\n",
    "    \n",
    "    filenames = {'U': {'lon': (mesh_mask),\n",
    "                       'lat': (mesh_mask),\n",
    "                       'depth': list_of_filenames_W[0],\n",
    "                       'data': list_of_filenames_U},\n",
    "                 'V': {'lon': (mesh_mask),\n",
    "                       'lat': (mesh_mask),\n",
    "                       'depth': list_of_filenames_W[0],\n",
    "                       'data': list_of_filenames_V},\n",
    "                 'W': {'lon': (mesh_mask),\n",
    "                       'lat': (mesh_mask),\n",
    "                       'depth': list_of_filenames_W[0],\n",
    "                       'data': list_of_filenames_W},\n",
    "                 'T': {'lon': (mesh_mask),\n",
    "                       'lat': (mesh_mask),\n",
    "                       'depth': list_of_filenames_W[0],\n",
    "                       'data': list_of_filenames_T},\n",
    "                 'S': {'lon': (mesh_mask),\n",
    "                       'lat': (mesh_mask),\n",
    "                       'depth': list_of_filenames_W[0],\n",
    "                       'data': list_of_filenames_T},\n",
    "                 'MXL': {'lon': (mesh_mask),\n",
    "                       'lat': (mesh_mask),\n",
    "                       'data': list_of_filenames_T}\n",
    "                }\n",
    "    \n",
    "    variables = {'U': 'vozocrtx',\n",
    "                 'V': 'vomecrty',\n",
    "                 'W': 'vovecrtz',\n",
    "                 'T': 'votemper',\n",
    "                 'S': 'vosaline',\n",
    "                 'MXL':'somxl010'\n",
    "                }\n",
    "        \n",
    "    dimensions = {'U': {'lon': 'glamf', 'lat': 'gphif', 'depth': 'depthw',\n",
    "                        'time': 'time_counter'},  # needs to be on f-nodes\n",
    "                  'V': {'lon': 'glamf', 'lat': 'gphif', 'depth': 'depthw',\n",
    "                        'time': 'time_counter'},  # needs to be on f-nodes\n",
    "                  'W': {'lon': 'glamf', 'lat': 'gphif', 'depth': 'depthw',\n",
    "                        'time': 'time_counter'},  # needs to be on f-nodes\n",
    "                  'T': {'lon': 'glamf', 'lat': 'gphif', 'depth': 'depthw',\n",
    "                        'time': 'time_counter'},  # needs to be on t-nodes\n",
    "                  'S': {'lon': 'glamf', 'lat': 'gphif', 'depth': 'depthw',\n",
    "                        'time': 'time_counter'},  # needs to be on t-nodes\n",
    "                  'MXL': {'lon': 'glamf', 'lat': 'gphif',\n",
    "                        'time': 'time_counter'},  # needs to be on t-nodes\n",
    "                 }\n",
    "    \n",
    "    # exclude the two grid cells at the edges of the nest as they contain 0\n",
    "    # and everything south of 20N\n",
    "    indices = {'lon': range(2, ds_mask.x.size-2), 'lat': range(1132, ds_mask.y.size-2)}\n",
    "    \n",
    "#     indices = {\n",
    "#         'U': {'depth': range(sd_z1, sd_z2), 'lon': range(sd_i1, sd_i2), 'lat': range(sd_j1, sd_j2)},\n",
    "#         'V': {'depth': range(sd_z1, sd_z2), 'lon': range(sd_i1, sd_i2), 'lat': range(sd_j1, sd_j2)},\n",
    "#         'W': {'depth': range(sd_z1, sd_z2), 'lon': range(sd_i1, sd_i2), 'lat':range(sd_j1, sd_j2)},\n",
    "#         'T': {'depth': range(sd_z1, sd_z2), 'lon': range(sd_i1, sd_i2), 'lat':range(sd_j1, sd_j2)},\n",
    "#         'S': {'depth': range(sd_z1, sd_z2), 'lon': range(sd_i1, sd_i2), 'lat':range(sd_j1, sd_j2)}\n",
    "#     }    \n",
    "    \n",
    "    if use_dask_chunks:\n",
    "        field_chunksizes = {'U': {'lon':('x', 1024), 'lat':('y',128), 'depth': ('depthw', 64),\n",
    "                            'time': ('time_counter',3)},  # needs to be on f-nodes\n",
    "                      'V': {'lon':('x', 1024), 'lat':('y',128), 'depth': ('depthw', 64),\n",
    "                            'time': ('time_counter',3)},  # needs to be on f-nodes\n",
    "                      'W': {'lon':('x', 1024), 'lat':('y',128), 'depth': ('depthw', 64),\n",
    "                            'time': ('time_counter',3)},  # needs to be on f-nodes\n",
    "                      'T': {'lon':('x', 1024), 'lat':('y',128), 'depth': ('depthw', 64),\n",
    "                            'time': ('time_counter',3)},  # needs to be on t-nodes\n",
    "                      'S': {'lon':('x', 1024), 'lat':('y',128), 'depth': ('depthw', 64),\n",
    "                            'time': ('time_counter',3)},  # needs to be on t-nodes\n",
    "                      'MXL': {'lon':('x', 1024), 'lat':('y',128),\n",
    "                            'time': ('time_counter',3)},  # needs to be on t-nodes\n",
    "                     }\n",
    "    else:\n",
    "        field_chunksizes = None\n",
    "\n",
    "    return FieldSet.from_nemo(\n",
    "        filenames, variables, dimensions, \n",
    "        indices=indices,\n",
    "        chunksize=field_chunksizes,  # = None for no chunking\n",
    "        mesh='spherical',\n",
    "        tracer_interp_method='cgrid_tracer'\n",
    "#         ,time_periodic=time_loop_period\n",
    "#         ,allow_time_extrapolation=True\n",
    "    )"
   ]
  },
  {
   "cell_type": "code",
   "execution_count": 9,
   "id": "offensive-broadcasting",
   "metadata": {
    "execution": {
     "iopub.execute_input": "2021-05-02T07:28:54.563705Z",
     "iopub.status.busy": "2021-05-02T07:28:54.562555Z",
     "iopub.status.idle": "2021-05-02T07:28:54.564285Z",
     "shell.execute_reply": "2021-05-02T07:28:54.564005Z"
    },
    "papermill": {
     "duration": 0.024323,
     "end_time": "2021-05-02T07:28:54.564357",
     "exception": false,
     "start_time": "2021-05-02T07:28:54.540034",
     "status": "completed"
    },
    "tags": []
   },
   "outputs": [],
   "source": [
    "def create_fieldset(\n",
    "    data_path=data_path, experiment_name=experiment_name,\n",
    "    fname_U=fname_U, fname_V=fname_V, fname_W=fname_W, fname_T=fname_T,\n",
    "    mesh_mask = mesh_mask\n",
    "):\n",
    "    \n",
    "    files_U = list(sorted((data_path).glob(fname_U)))\n",
    "    files_V = list(sorted((data_path).glob(fname_V)))\n",
    "    files_W = list(sorted((data_path).glob(fname_W)))\n",
    "    files_T = list(sorted((data_path).glob(fname_T)))\n",
    "    \n",
    "    print(files_U)\n",
    "    \n",
    "    fieldset = fieldset_defintions(\n",
    "        files_U, files_V,\n",
    "        files_W, files_T, mesh_mask)\n",
    "\n",
    "    return fieldset"
   ]
  },
  {
   "cell_type": "code",
   "execution_count": 10,
   "id": "objective-opinion",
   "metadata": {
    "execution": {
     "iopub.execute_input": "2021-05-02T07:28:54.605075Z",
     "iopub.status.busy": "2021-05-02T07:28:54.604745Z",
     "iopub.status.idle": "2021-05-02T07:35:13.915835Z",
     "shell.execute_reply": "2021-05-02T07:35:13.916391Z"
    },
    "papermill": {
     "duration": 379.333043,
     "end_time": "2021-05-02T07:35:13.916506",
     "exception": false,
     "start_time": "2021-05-02T07:28:54.583463",
     "status": "completed"
    },
    "tags": []
   },
   "outputs": [
    {
     "name": "stdout",
     "output_type": "stream",
     "text": [
      "[PosixPath('/gxfs_work1/geomar/smomw355/model_data/ocean-only/VIKING20X.L46-KKG36107B/nemo/output/1_VIKING20X.L46-KKG36107B_5d_19800101_19801231_grid_U.nc'), PosixPath('/gxfs_work1/geomar/smomw355/model_data/ocean-only/VIKING20X.L46-KKG36107B/nemo/output/1_VIKING20X.L46-KKG36107B_5d_19810101_19811231_grid_U.nc'), PosixPath('/gxfs_work1/geomar/smomw355/model_data/ocean-only/VIKING20X.L46-KKG36107B/nemo/output/1_VIKING20X.L46-KKG36107B_5d_19820101_19821231_grid_U.nc'), PosixPath('/gxfs_work1/geomar/smomw355/model_data/ocean-only/VIKING20X.L46-KKG36107B/nemo/output/1_VIKING20X.L46-KKG36107B_5d_19830101_19831231_grid_U.nc'), PosixPath('/gxfs_work1/geomar/smomw355/model_data/ocean-only/VIKING20X.L46-KKG36107B/nemo/output/1_VIKING20X.L46-KKG36107B_5d_19840101_19841231_grid_U.nc'), PosixPath('/gxfs_work1/geomar/smomw355/model_data/ocean-only/VIKING20X.L46-KKG36107B/nemo/output/1_VIKING20X.L46-KKG36107B_5d_19850101_19851231_grid_U.nc'), PosixPath('/gxfs_work1/geomar/smomw355/model_data/ocean-only/VIKING20X.L46-KKG36107B/nemo/output/1_VIKING20X.L46-KKG36107B_5d_19860101_19861231_grid_U.nc'), PosixPath('/gxfs_work1/geomar/smomw355/model_data/ocean-only/VIKING20X.L46-KKG36107B/nemo/output/1_VIKING20X.L46-KKG36107B_5d_19870101_19871231_grid_U.nc'), PosixPath('/gxfs_work1/geomar/smomw355/model_data/ocean-only/VIKING20X.L46-KKG36107B/nemo/output/1_VIKING20X.L46-KKG36107B_5d_19880101_19881231_grid_U.nc'), PosixPath('/gxfs_work1/geomar/smomw355/model_data/ocean-only/VIKING20X.L46-KKG36107B/nemo/output/1_VIKING20X.L46-KKG36107B_5d_19890101_19891231_grid_U.nc'), PosixPath('/gxfs_work1/geomar/smomw355/model_data/ocean-only/VIKING20X.L46-KKG36107B/nemo/output/1_VIKING20X.L46-KKG36107B_5d_19900101_19901231_grid_U.nc'), PosixPath('/gxfs_work1/geomar/smomw355/model_data/ocean-only/VIKING20X.L46-KKG36107B/nemo/output/1_VIKING20X.L46-KKG36107B_5d_19910101_19911231_grid_U.nc'), PosixPath('/gxfs_work1/geomar/smomw355/model_data/ocean-only/VIKING20X.L46-KKG36107B/nemo/output/1_VIKING20X.L46-KKG36107B_5d_19920101_19921231_grid_U.nc'), PosixPath('/gxfs_work1/geomar/smomw355/model_data/ocean-only/VIKING20X.L46-KKG36107B/nemo/output/1_VIKING20X.L46-KKG36107B_5d_19930101_19931231_grid_U.nc'), PosixPath('/gxfs_work1/geomar/smomw355/model_data/ocean-only/VIKING20X.L46-KKG36107B/nemo/output/1_VIKING20X.L46-KKG36107B_5d_19940101_19941231_grid_U.nc'), PosixPath('/gxfs_work1/geomar/smomw355/model_data/ocean-only/VIKING20X.L46-KKG36107B/nemo/output/1_VIKING20X.L46-KKG36107B_5d_19950101_19951231_grid_U.nc'), PosixPath('/gxfs_work1/geomar/smomw355/model_data/ocean-only/VIKING20X.L46-KKG36107B/nemo/output/1_VIKING20X.L46-KKG36107B_5d_19960101_19961231_grid_U.nc'), PosixPath('/gxfs_work1/geomar/smomw355/model_data/ocean-only/VIKING20X.L46-KKG36107B/nemo/output/1_VIKING20X.L46-KKG36107B_5d_19970101_19971231_grid_U.nc'), PosixPath('/gxfs_work1/geomar/smomw355/model_data/ocean-only/VIKING20X.L46-KKG36107B/nemo/output/1_VIKING20X.L46-KKG36107B_5d_19980101_19981231_grid_U.nc'), PosixPath('/gxfs_work1/geomar/smomw355/model_data/ocean-only/VIKING20X.L46-KKG36107B/nemo/output/1_VIKING20X.L46-KKG36107B_5d_19990101_19991231_grid_U.nc'), PosixPath('/gxfs_work1/geomar/smomw355/model_data/ocean-only/VIKING20X.L46-KKG36107B/nemo/output/1_VIKING20X.L46-KKG36107B_5d_20000101_20001231_grid_U.nc'), PosixPath('/gxfs_work1/geomar/smomw355/model_data/ocean-only/VIKING20X.L46-KKG36107B/nemo/output/1_VIKING20X.L46-KKG36107B_5d_20010101_20011231_grid_U.nc'), PosixPath('/gxfs_work1/geomar/smomw355/model_data/ocean-only/VIKING20X.L46-KKG36107B/nemo/output/1_VIKING20X.L46-KKG36107B_5d_20020101_20021231_grid_U.nc'), PosixPath('/gxfs_work1/geomar/smomw355/model_data/ocean-only/VIKING20X.L46-KKG36107B/nemo/output/1_VIKING20X.L46-KKG36107B_5d_20030101_20031231_grid_U.nc'), PosixPath('/gxfs_work1/geomar/smomw355/model_data/ocean-only/VIKING20X.L46-KKG36107B/nemo/output/1_VIKING20X.L46-KKG36107B_5d_20040101_20041231_grid_U.nc'), PosixPath('/gxfs_work1/geomar/smomw355/model_data/ocean-only/VIKING20X.L46-KKG36107B/nemo/output/1_VIKING20X.L46-KKG36107B_5d_20050101_20051231_grid_U.nc'), PosixPath('/gxfs_work1/geomar/smomw355/model_data/ocean-only/VIKING20X.L46-KKG36107B/nemo/output/1_VIKING20X.L46-KKG36107B_5d_20060101_20061231_grid_U.nc'), PosixPath('/gxfs_work1/geomar/smomw355/model_data/ocean-only/VIKING20X.L46-KKG36107B/nemo/output/1_VIKING20X.L46-KKG36107B_5d_20070101_20071231_grid_U.nc'), PosixPath('/gxfs_work1/geomar/smomw355/model_data/ocean-only/VIKING20X.L46-KKG36107B/nemo/output/1_VIKING20X.L46-KKG36107B_5d_20080101_20081231_grid_U.nc'), PosixPath('/gxfs_work1/geomar/smomw355/model_data/ocean-only/VIKING20X.L46-KKG36107B/nemo/output/1_VIKING20X.L46-KKG36107B_5d_20090101_20091231_grid_U.nc'), PosixPath('/gxfs_work1/geomar/smomw355/model_data/ocean-only/VIKING20X.L46-KKG36107B/nemo/output/1_VIKING20X.L46-KKG36107B_5d_20100101_20101231_grid_U.nc'), PosixPath('/gxfs_work1/geomar/smomw355/model_data/ocean-only/VIKING20X.L46-KKG36107B/nemo/output/1_VIKING20X.L46-KKG36107B_5d_20110101_20111231_grid_U.nc'), PosixPath('/gxfs_work1/geomar/smomw355/model_data/ocean-only/VIKING20X.L46-KKG36107B/nemo/output/1_VIKING20X.L46-KKG36107B_5d_20120101_20121231_grid_U.nc'), PosixPath('/gxfs_work1/geomar/smomw355/model_data/ocean-only/VIKING20X.L46-KKG36107B/nemo/output/1_VIKING20X.L46-KKG36107B_5d_20130101_20131231_grid_U.nc'), PosixPath('/gxfs_work1/geomar/smomw355/model_data/ocean-only/VIKING20X.L46-KKG36107B/nemo/output/1_VIKING20X.L46-KKG36107B_5d_20140101_20141231_grid_U.nc'), PosixPath('/gxfs_work1/geomar/smomw355/model_data/ocean-only/VIKING20X.L46-KKG36107B/nemo/output/1_VIKING20X.L46-KKG36107B_5d_20150101_20151231_grid_U.nc'), PosixPath('/gxfs_work1/geomar/smomw355/model_data/ocean-only/VIKING20X.L46-KKG36107B/nemo/output/1_VIKING20X.L46-KKG36107B_5d_20160101_20161231_grid_U.nc'), PosixPath('/gxfs_work1/geomar/smomw355/model_data/ocean-only/VIKING20X.L46-KKG36107B/nemo/output/1_VIKING20X.L46-KKG36107B_5d_20170101_20171231_grid_U.nc'), PosixPath('/gxfs_work1/geomar/smomw355/model_data/ocean-only/VIKING20X.L46-KKG36107B/nemo/output/1_VIKING20X.L46-KKG36107B_5d_20180101_20181231_grid_U.nc'), PosixPath('/gxfs_work1/geomar/smomw355/model_data/ocean-only/VIKING20X.L46-KKG36107B/nemo/output/1_VIKING20X.L46-KKG36107B_5d_20190101_20191231_grid_U.nc')]\n"
     ]
    },
    {
     "name": "stderr",
     "output_type": "stream",
     "text": [
      "WARNING: Casting depth data to np.float32\n"
     ]
    }
   ],
   "source": [
    "fieldset = create_fieldset()"
   ]
  },
  {
   "cell_type": "markdown",
   "id": "unlike-opportunity",
   "metadata": {
    "papermill": {
     "duration": 0.01963,
     "end_time": "2021-05-02T07:35:13.956508",
     "exception": false,
     "start_time": "2021-05-02T07:35:13.936878",
     "status": "completed"
    },
    "tags": []
   },
   "source": [
    "## Create Virtual Particles"
   ]
  },
  {
   "cell_type": "markdown",
   "id": "centered-distance",
   "metadata": {
    "papermill": {
     "duration": 0.019616,
     "end_time": "2021-05-02T07:35:13.995889",
     "exception": false,
     "start_time": "2021-05-02T07:35:13.976273",
     "status": "completed"
    },
    "tags": []
   },
   "source": [
    "#### add a couple of simple plotting routines"
   ]
  },
  {
   "cell_type": "code",
   "execution_count": 11,
   "id": "bizarre-niger",
   "metadata": {
    "execution": {
     "iopub.execute_input": "2021-05-02T07:35:14.042013Z",
     "iopub.status.busy": "2021-05-02T07:35:14.041578Z",
     "iopub.status.idle": "2021-05-02T07:35:14.042609Z",
     "shell.execute_reply": "2021-05-02T07:35:14.042323Z"
    },
    "papermill": {
     "duration": 0.027105,
     "end_time": "2021-05-02T07:35:14.042686",
     "exception": false,
     "start_time": "2021-05-02T07:35:14.015581",
     "status": "completed"
    },
    "tags": []
   },
   "outputs": [],
   "source": [
    "def plot_section_sdist():\n",
    "    plt.figure(figsize=(10,5))\n",
    "\n",
    "    u = np.array([p.uvel for p in pset]) * degree2km * 1000.0 * np.cos(np.radians(pset.lat))\n",
    "    v = np.array([p.vvel for p in pset]) * degree2km * 1000.0\n",
    "    section_index = np.searchsorted(lonlat.lon,pset.lon)-1\n",
    "    u_normal = v * lonlatdiff.costheta[section_index].data - u * lonlatdiff.sintheta[section_index].data\n",
    "    y = (pset.lat - lonlat.lat[section_index]) * degree2km\n",
    "    x = (pset.lon - lonlat.lon[section_index]) * degree2km*np.cos(np.radians(lonlat2mean.lat[section_index+1].data))\n",
    "    dist = np.sqrt(x**2 + y**2) + lonlatdiff.length_west[section_index].data\n",
    "    \n",
    "    \n",
    "    plt.scatter(\n",
    "        dist,\n",
    "        [p.depth for p in pset],\n",
    "        1,\n",
    "        u_normal,\n",
    "        cmap=co.cm.balance,vmin=-0.3,vmax=0.3\n",
    "    )\n",
    "    plt.ylim(1200,0)\n",
    "    plt.colorbar(label = r'normal velocity [$\\mathrm{m\\ s}^{-1}$]')\n",
    "    plt.xlabel('distance [km]')\n",
    "    plt.ylabel('depth [m]')\n",
    "    return\n"
   ]
  },
  {
   "cell_type": "code",
   "execution_count": 12,
   "id": "hybrid-lease",
   "metadata": {
    "execution": {
     "iopub.execute_input": "2021-05-02T07:35:14.087745Z",
     "iopub.status.busy": "2021-05-02T07:35:14.086540Z",
     "iopub.status.idle": "2021-05-02T07:35:14.088343Z",
     "shell.execute_reply": "2021-05-02T07:35:14.088049Z"
    },
    "papermill": {
     "duration": 0.025818,
     "end_time": "2021-05-02T07:35:14.088421",
     "exception": false,
     "start_time": "2021-05-02T07:35:14.062603",
     "status": "completed"
    },
    "tags": []
   },
   "outputs": [],
   "source": [
    "def plot_section_lon():\n",
    "    plt.figure(figsize=(10,5))\n",
    "\n",
    "    u = np.array([p.uvel for p in pset]) * degree2km * 1000.0 * np.cos(np.radians(pset.lat))\n",
    "    v = np.array([p.vvel for p in pset]) * degree2km * 1000.0\n",
    "    section_index = np.searchsorted(lonlat.lon,pset.lon)-1\n",
    "    u_normal = v * lonlatdiff.costheta[section_index].data - u * lonlatdiff.sintheta[section_index].data\n",
    "    \n",
    "    plt.scatter(\n",
    "        [p.lon for p in pset],\n",
    "        [p.depth for p in pset],\n",
    "        1,\n",
    "        u_normal,\n",
    "        cmap=co.cm.balance,vmin=-0.3,vmax=0.3\n",
    "    )\n",
    "    plt.ylim(1200,0)\n",
    "    plt.colorbar(label = r'normal velocity [$\\mathrm{m\\ s}^{-1}$]');\n",
    "    plt.xlabel('longitude [$\\degree$E]')\n",
    "    plt.ylabel('depth [m]')\n",
    "    return\n"
   ]
  },
  {
   "cell_type": "code",
   "execution_count": 13,
   "id": "center-transcript",
   "metadata": {
    "execution": {
     "iopub.execute_input": "2021-05-02T07:35:14.132802Z",
     "iopub.status.busy": "2021-05-02T07:35:14.131617Z",
     "iopub.status.idle": "2021-05-02T07:35:14.133387Z",
     "shell.execute_reply": "2021-05-02T07:35:14.133105Z"
    },
    "papermill": {
     "duration": 0.025126,
     "end_time": "2021-05-02T07:35:14.133464",
     "exception": false,
     "start_time": "2021-05-02T07:35:14.108338",
     "status": "completed"
    },
    "tags": []
   },
   "outputs": [],
   "source": [
    "class SampleParticle(JITParticle):\n",
    "    \"\"\"Add variables to the standard particle class.\n",
    "    \n",
    "    Particles will sample temperature and track the age of the particle.\n",
    "    Particles also have a flag `alive` that is 1 if the particle is alive and 0 otherwise.\n",
    "    Furthermore, we have a `speed_param` that scales the velocity with which particles can\n",
    "    swim towards the surface.\n",
    "\n",
    "    Note that we don't initialize temp from the actual data.\n",
    "    This speeds up particle creation, but might render initial data point less useful.\n",
    "    \"\"\"\n",
    "    mxl = Variable('mxl', dtype=np.float32, initial=-100)\n",
    "    temp = Variable('temp', dtype=np.float32, initial=-100)\n",
    "    salt = Variable('salt', dtype=np.float32, initial=-100)\n",
    "    uvel = Variable('uvel', dtype=np.float32, initial=0)\n",
    "    vvel = Variable('vvel', dtype=np.float32, initial=0)\n",
    "#    wvel = Variable('wvel', dtype=np.float32, initial=0)\n",
    "#     alive = Variable('alive', dtype=np.int32, initial=1)\n",
    "#     speed_param = Variable('speed_param', dtype=np.float32, initial=1)\n",
    "#     age = Variable('age', dtype=np.int32, initial=0, to_write=True)"
   ]
  },
  {
   "cell_type": "markdown",
   "id": "realistic-fleet",
   "metadata": {
    "papermill": {
     "duration": 0.019943,
     "end_time": "2021-05-02T07:35:14.173351",
     "exception": false,
     "start_time": "2021-05-02T07:35:14.153408",
     "status": "completed"
    },
    "tags": []
   },
   "source": [
    "## Create a set of particles with random initial positions\n",
    "\n",
    "We seed the RNG to be reproducible (and to be able to quickly create a second equivalent experiment with differently chosen compatible initial positions), and create arrays of random starting times, lats, lons, depths, and speed parameters (see kernel definitions below for details).\n",
    "\n",
    "Initially create points on 'rectangle'. Land points are removed later in a OceanParcels 'run' with runtime and timedelta zero."
   ]
  },
  {
   "cell_type": "markdown",
   "id": "specialized-garbage",
   "metadata": {
    "papermill": {
     "duration": 0.019728,
     "end_time": "2021-05-02T07:35:14.213110",
     "exception": false,
     "start_time": "2021-05-02T07:35:14.193382",
     "status": "completed"
    },
    "tags": []
   },
   "source": [
    "### First set up the piecewise section"
   ]
  },
  {
   "cell_type": "code",
   "execution_count": 14,
   "id": "liquid-merit",
   "metadata": {
    "execution": {
     "iopub.execute_input": "2021-05-02T07:35:14.255773Z",
     "iopub.status.busy": "2021-05-02T07:35:14.255442Z",
     "iopub.status.idle": "2021-05-02T07:35:14.287475Z",
     "shell.execute_reply": "2021-05-02T07:35:14.287961Z"
    },
    "papermill": {
     "duration": 0.05523,
     "end_time": "2021-05-02T07:35:14.288070",
     "exception": false,
     "start_time": "2021-05-02T07:35:14.232840",
     "status": "completed"
    },
    "tags": []
   },
   "outputs": [],
   "source": [
    "lonlat = xr.Dataset(pd.read_csv(sectionPath / sectionFilename,delim_whitespace=True))"
   ]
  },
  {
   "cell_type": "code",
   "execution_count": 15,
   "id": "molecular-basketball",
   "metadata": {
    "execution": {
     "iopub.execute_input": "2021-05-02T07:35:14.351276Z",
     "iopub.status.busy": "2021-05-02T07:35:14.350921Z",
     "iopub.status.idle": "2021-05-02T07:35:14.697949Z",
     "shell.execute_reply": "2021-05-02T07:35:14.698417Z"
    },
    "papermill": {
     "duration": 0.390138,
     "end_time": "2021-05-02T07:35:14.698526",
     "exception": false,
     "start_time": "2021-05-02T07:35:14.308388",
     "status": "completed"
    },
    "tags": []
   },
   "outputs": [
    {
     "name": "stdout",
     "output_type": "stream",
     "text": [
      "3594.572878394652\n"
     ]
    },
    {
     "data": {
      "image/png": "[encoded data removed]",
      "text/plain": [
       "<Figure size 432x288 with 1 Axes>"
      ]
     },
     "metadata": {
      "needs_background": "light"
     },
     "output_type": "display_data"
    }
   ],
   "source": [
    "lonlat.lon.attrs['long_name']='Longitude'\n",
    "lonlat.lat.attrs['long_name']='Latitude'\n",
    "lonlat.lon.attrs['standard_name']='longitude'\n",
    "lonlat.lat.attrs['standard_name']='latitude'\n",
    "lonlat.lon.attrs['units']='degrees_east'\n",
    "lonlat.lat.attrs['units']='degrees_north'\n",
    "\n",
    "lonlatdiff = lonlat.diff('dim_0')\n",
    "lonlat2mean= lonlat.rolling({'dim_0':2}).mean()\n",
    "\n",
    "lonlat.plot.scatter(x='lon',y='lat')\n",
    "lonlat2mean.plot.scatter(x='lon',y='lat')\n",
    "\n",
    "lonlatdiff = lonlatdiff.assign({'y':lonlatdiff['lat']*degree2km})\n",
    "lonlatdiff = lonlatdiff.assign({'x':lonlatdiff['lon']*degree2km*np.cos(np.radians(lonlat2mean.lat.data[1:]))})\n",
    "lonlatdiff=lonlatdiff.assign({'length':np.sqrt(lonlatdiff['x']**2+lonlatdiff['y']**2)})\n",
    "lonlatdiff=lonlatdiff.assign({'length_west':lonlatdiff.length.sum() - np.cumsum(lonlatdiff.length[::-1])[::-1]})\n",
    "lonlatdiff=lonlatdiff.assign({'costheta':lonlatdiff['x']/lonlatdiff['length']})\n",
    "lonlatdiff=lonlatdiff.assign({'sintheta':lonlatdiff['y']/lonlatdiff['length']})\n",
    "\n",
    "total_length = lonlatdiff.length.sum().data\n",
    "print(total_length)"
   ]
  },
  {
   "cell_type": "code",
   "execution_count": 16,
   "id": "swiss-spring",
   "metadata": {
    "execution": {
     "iopub.execute_input": "2021-05-02T07:35:14.745038Z",
     "iopub.status.busy": "2021-05-02T07:35:14.743859Z",
     "iopub.status.idle": "2021-05-02T07:35:14.746142Z",
     "shell.execute_reply": "2021-05-02T07:35:14.745350Z"
    },
    "papermill": {
     "duration": 0.026429,
     "end_time": "2021-05-02T07:35:14.746219",
     "exception": false,
     "start_time": "2021-05-02T07:35:14.719790",
     "status": "completed"
    },
    "tags": []
   },
   "outputs": [
    {
     "data": {
      "text/plain": [
       "12"
      ]
     },
     "execution_count": 16,
     "metadata": {},
     "output_type": "execute_result"
    }
   ],
   "source": [
    "lonlatdiff.length.shape[0]"
   ]
  },
  {
   "cell_type": "markdown",
   "id": "turned-negative",
   "metadata": {
    "papermill": {
     "duration": 0.02066,
     "end_time": "2021-05-02T07:35:14.787667",
     "exception": false,
     "start_time": "2021-05-02T07:35:14.767007",
     "status": "completed"
    },
    "tags": []
   },
   "source": [
    "### Seed particles uniform random along OSNAP section"
   ]
  },
  {
   "cell_type": "code",
   "execution_count": 17,
   "id": "structural-eating",
   "metadata": {
    "execution": {
     "iopub.execute_input": "2021-05-02T07:35:14.852350Z",
     "iopub.status.busy": "2021-05-02T07:35:14.851981Z",
     "iopub.status.idle": "2021-05-02T07:35:14.939986Z",
     "shell.execute_reply": "2021-05-02T07:35:14.940526Z"
    },
    "papermill": {
     "duration": 0.131946,
     "end_time": "2021-05-02T07:35:14.940641",
     "exception": false,
     "start_time": "2021-05-02T07:35:14.808695",
     "status": "completed"
    },
    "tags": []
   },
   "outputs": [],
   "source": [
    "np.random.seed(RNG_seed)\n",
    "\n",
    "# define time of release for each particle relative to t0\n",
    "# can start each particle at a different time if required\n",
    "# here all start at time t_start.\n",
    "times = []\n",
    "lons = []\n",
    "lats = []\n",
    "depths = []\n",
    "\n",
    "# for subsect in range(lonlatdiff.length.shape[0]):\n",
    "for subsect in range(start_vertex,end_vertex):\n",
    "    \n",
    "    number_particles = int(create_number_particles*lonlatdiff.length[subsect]/total_length)\n",
    "    time = np.zeros(number_particles)\n",
    "    time += (t_start - t_0).total_seconds()\n",
    "\n",
    "    # start along a line from west to east\n",
    "\n",
    "    west_lat = lonlat.lat[subsect].data\n",
    "    west_lon = lonlat.lon[subsect].data\n",
    "    east_lat = lonlat.lat[subsect+1].data\n",
    "    east_lon = lonlat.lon[subsect+1].data\n",
    "    \n",
    "    lon = np.random.uniform(\n",
    "        low=west_lon, high = east_lon,\n",
    "        size=time.shape\n",
    "    )\n",
    "    lat = west_lat + ((lon - west_lon) * (east_lat - west_lat)/ (east_lon - west_lon))\n",
    "\n",
    "    # at depths from surface to max_release_depth\n",
    "\n",
    "    depth = np.random.uniform(\n",
    "        low=min_release_depth, high=max_release_depth,\n",
    "        size=time.shape\n",
    "    )\n",
    "    times.append(time)\n",
    "    lons.append(lon)\n",
    "    lats.append(lat)\n",
    "    depths.append(depth)\n",
    "\n",
    "    \n",
    "    \n",
    "time = np.concatenate(times)\n",
    "lon = np.concatenate(lons)\n",
    "lat = np.concatenate(lats)\n",
    "depth = np.concatenate(depths)\n"
   ]
  },
  {
   "cell_type": "markdown",
   "id": "blind-kingston",
   "metadata": {
    "papermill": {
     "duration": 0.020854,
     "end_time": "2021-05-02T07:35:14.982990",
     "exception": false,
     "start_time": "2021-05-02T07:35:14.962136",
     "status": "completed"
    },
    "tags": []
   },
   "source": [
    "###  Build particle set"
   ]
  },
  {
   "cell_type": "code",
   "execution_count": 18,
   "id": "entire-butter",
   "metadata": {
    "execution": {
     "iopub.execute_input": "2021-05-02T07:35:15.047347Z",
     "iopub.status.busy": "2021-05-02T07:35:15.046985Z",
     "iopub.status.idle": "2021-05-02T07:35:15.933461Z",
     "shell.execute_reply": "2021-05-02T07:35:15.934027Z"
    },
    "papermill": {
     "duration": 0.930261,
     "end_time": "2021-05-02T07:35:15.934145",
     "exception": false,
     "start_time": "2021-05-02T07:35:15.003884",
     "status": "completed"
    },
    "tags": []
   },
   "outputs": [
    {
     "name": "stdout",
     "output_type": "stream",
     "text": [
      "CPU times: user 739 ms, sys: 160 ms, total: 899 ms\n",
      "Wall time: 903 ms\n"
     ]
    }
   ],
   "source": [
    "%%time\n",
    "\n",
    "pset = ParticleSet(\n",
    "    fieldset=fieldset,\n",
    "    pclass=SampleParticle,\n",
    "    lat=lat,\n",
    "    lon=lon,\n",
    "#     speed_param=speed_param,\n",
    "    depth=depth,\n",
    "    time=time\n",
    "#    repeatdt = repeatdt\n",
    ")\n"
   ]
  },
  {
   "cell_type": "code",
   "execution_count": 19,
   "id": "knowing-employee",
   "metadata": {
    "execution": {
     "iopub.execute_input": "2021-05-02T07:35:15.981786Z",
     "iopub.status.busy": "2021-05-02T07:35:15.981376Z",
     "iopub.status.idle": "2021-05-02T07:35:15.982809Z",
     "shell.execute_reply": "2021-05-02T07:35:15.982081Z"
    },
    "papermill": {
     "duration": 0.026582,
     "end_time": "2021-05-02T07:35:15.982884",
     "exception": false,
     "start_time": "2021-05-02T07:35:15.956302",
     "status": "completed"
    },
    "tags": []
   },
   "outputs": [
    {
     "name": "stdout",
     "output_type": "stream",
     "text": [
      "Created 2643886 particles.\n"
     ]
    }
   ],
   "source": [
    "print(f\"Created {len(pset)} particles.\")\n",
    "# display(pset[:5])\n",
    "# display(pset[-5:])"
   ]
  },
  {
   "cell_type": "markdown",
   "id": "electric-milton",
   "metadata": {
    "papermill": {
     "duration": 0.021252,
     "end_time": "2021-05-02T07:35:16.025476",
     "exception": false,
     "start_time": "2021-05-02T07:35:16.004224",
     "status": "completed"
    },
    "tags": []
   },
   "source": [
    "## Compose custom kernel\n",
    "\n",
    "We'll create three additional kernels:\n",
    "- One Kernel adds velocity sampling\n",
    "- One Kernel adds temperature sampling\n",
    "- One kernel adds salinity sampling\n",
    "\n",
    "Then, we combine the builtin `AdvectionRK4_3D` kernel with these additional kernels."
   ]
  },
  {
   "cell_type": "code",
   "execution_count": 20,
   "id": "applicable-knight",
   "metadata": {
    "execution": {
     "iopub.execute_input": "2021-05-02T07:35:16.072184Z",
     "iopub.status.busy": "2021-05-02T07:35:16.071015Z",
     "iopub.status.idle": "2021-05-02T07:35:16.072770Z",
     "shell.execute_reply": "2021-05-02T07:35:16.072494Z"
    },
    "papermill": {
     "duration": 0.026044,
     "end_time": "2021-05-02T07:35:16.072840",
     "exception": false,
     "start_time": "2021-05-02T07:35:16.046796",
     "status": "completed"
    },
    "tags": []
   },
   "outputs": [],
   "source": [
    "def velocity_sampling(particle, fieldset, time):\n",
    "    '''Sample velocity.'''\n",
    "    \n",
    "    (particle.uvel,particle.vvel) = fieldset.UV[time, particle.depth, particle.lat, particle.lon]\n",
    "    "
   ]
  },
  {
   "cell_type": "code",
   "execution_count": 21,
   "id": "elder-shock",
   "metadata": {
    "execution": {
     "iopub.execute_input": "2021-05-02T07:35:16.119844Z",
     "iopub.status.busy": "2021-05-02T07:35:16.118682Z",
     "iopub.status.idle": "2021-05-02T07:35:16.120430Z",
     "shell.execute_reply": "2021-05-02T07:35:16.120145Z"
    },
    "papermill": {
     "duration": 0.025996,
     "end_time": "2021-05-02T07:35:16.120502",
     "exception": false,
     "start_time": "2021-05-02T07:35:16.094506",
     "status": "completed"
    },
    "tags": []
   },
   "outputs": [],
   "source": [
    "def temperature_sampling(particle, fieldset, time):\n",
    "    '''Sample temperature.'''\n",
    "    \n",
    "    particle.temp = fieldset.T[time, particle.depth, particle.lat, particle.lon]"
   ]
  },
  {
   "cell_type": "code",
   "execution_count": 22,
   "id": "unusual-publicity",
   "metadata": {
    "execution": {
     "iopub.execute_input": "2021-05-02T07:35:16.167176Z",
     "iopub.status.busy": "2021-05-02T07:35:16.166022Z",
     "iopub.status.idle": "2021-05-02T07:35:16.167764Z",
     "shell.execute_reply": "2021-05-02T07:35:16.167487Z"
    },
    "papermill": {
     "duration": 0.025948,
     "end_time": "2021-05-02T07:35:16.167837",
     "exception": false,
     "start_time": "2021-05-02T07:35:16.141889",
     "status": "completed"
    },
    "tags": []
   },
   "outputs": [],
   "source": [
    "def salinity_sampling(particle, fieldset, time):\n",
    "    '''Sample salinity.'''\n",
    "    \n",
    "    particle.salt = fieldset.S[time, particle.depth, particle.lat, particle.lon]"
   ]
  },
  {
   "cell_type": "code",
   "execution_count": 23,
   "id": "negative-victim",
   "metadata": {
    "execution": {
     "iopub.execute_input": "2021-05-02T07:35:16.241894Z",
     "iopub.status.busy": "2021-05-02T07:35:16.241462Z",
     "iopub.status.idle": "2021-05-02T07:35:16.242474Z",
     "shell.execute_reply": "2021-05-02T07:35:16.242189Z"
    },
    "papermill": {
     "duration": 0.053134,
     "end_time": "2021-05-02T07:35:16.242549",
     "exception": false,
     "start_time": "2021-05-02T07:35:16.189415",
     "status": "completed"
    },
    "tags": []
   },
   "outputs": [],
   "source": [
    "def mxl_sampling(particle, fieldset, time):\n",
    "    '''Sample mixed layer depth.'''\n",
    "    \n",
    "    particle.mxl = fieldset.MXL[time, particle.depth, particle.lat, particle.lon]"
   ]
  },
  {
   "cell_type": "code",
   "execution_count": 24,
   "id": "mental-degree",
   "metadata": {
    "execution": {
     "iopub.execute_input": "2021-05-02T07:35:16.309198Z",
     "iopub.status.busy": "2021-05-02T07:35:16.308867Z",
     "iopub.status.idle": "2021-05-02T07:35:16.623855Z",
     "shell.execute_reply": "2021-05-02T07:35:16.624371Z"
    },
    "papermill": {
     "duration": 0.359936,
     "end_time": "2021-05-02T07:35:16.624488",
     "exception": false,
     "start_time": "2021-05-02T07:35:16.264552",
     "status": "completed"
    },
    "tags": []
   },
   "outputs": [],
   "source": [
    "custom_kernel = (\n",
    "    pset.Kernel(AdvectionRK4_3D)\n",
    "#     + pset.Kernel(temperature_sensitivity)\n",
    "     + pset.Kernel(temperature_sampling)\n",
    "     + pset.Kernel(salinity_sampling)\n",
    "     + pset.Kernel(velocity_sampling)\n",
    "     + pset.Kernel(mxl_sampling)\n",
    ")"
   ]
  },
  {
   "cell_type": "markdown",
   "id": "comparable-removal",
   "metadata": {
    "papermill": {
     "duration": 0.021685,
     "end_time": "2021-05-02T07:35:16.668499",
     "exception": false,
     "start_time": "2021-05-02T07:35:16.646814",
     "status": "completed"
    },
    "tags": []
   },
   "source": [
    "## Be able to handle errors during integration\n",
    "\n",
    "We have restricted our domain so in principle, particles could reach undefined positions.\n",
    "In that case, we want to just delete the particle (without forgetting its history)."
   ]
  },
  {
   "cell_type": "code",
   "execution_count": 25,
   "id": "facial-editing",
   "metadata": {
    "execution": {
     "iopub.execute_input": "2021-05-02T07:35:16.716197Z",
     "iopub.status.busy": "2021-05-02T07:35:16.715761Z",
     "iopub.status.idle": "2021-05-02T07:35:16.716789Z",
     "shell.execute_reply": "2021-05-02T07:35:16.716509Z"
    },
    "papermill": {
     "duration": 0.026524,
     "end_time": "2021-05-02T07:35:16.716863",
     "exception": false,
     "start_time": "2021-05-02T07:35:16.690339",
     "status": "completed"
    },
    "tags": []
   },
   "outputs": [],
   "source": [
    "def DeleteParticle(particle, fieldset, time):\n",
    "    particle.delete()\n",
    "\n",
    "\n",
    "recovery_cases = {\n",
    "    ErrorCode.ErrorOutOfBounds: DeleteParticle,\n",
    "    ErrorCode.Error: DeleteParticle,\n",
    "    ErrorCode.ErrorInterpolation: DeleteParticle\n",
    "}"
   ]
  },
  {
   "cell_type": "markdown",
   "id": "great-cooler",
   "metadata": {
    "papermill": {
     "duration": 0.021699,
     "end_time": "2021-05-02T07:35:16.760473",
     "exception": false,
     "start_time": "2021-05-02T07:35:16.738774",
     "status": "completed"
    },
    "tags": []
   },
   "source": [
    "## Run with runtime=0 to initialise fields"
   ]
  },
  {
   "cell_type": "code",
   "execution_count": 26,
   "id": "documentary-storm",
   "metadata": {
    "execution": {
     "iopub.execute_input": "2021-05-02T07:35:16.813335Z",
     "iopub.status.busy": "2021-05-02T07:35:16.812982Z",
     "iopub.status.idle": "2021-05-02T07:39:16.499100Z",
     "shell.execute_reply": "2021-05-02T07:39:16.499373Z"
    },
    "papermill": {
     "duration": 239.717247,
     "end_time": "2021-05-02T07:39:16.499478",
     "exception": false,
     "start_time": "2021-05-02T07:35:16.782231",
     "status": "completed"
    },
    "tags": []
   },
   "outputs": [
    {
     "name": "stderr",
     "output_type": "stream",
     "text": [
      "INFO: Compiled SampleParticleAdvectionRK4_3Dtemperature_samplingsalinity_samplingvelocity_samplingmxl_sampling ==> /tmp/parcels-62665/56e000653b88b90f29577d7b4f9435f7_0.so\n"
     ]
    },
    {
     "name": "stderr",
     "output_type": "stream",
     "text": [
      "WARNING: dt or runtime are zero, or endtime is equal to Particle.time. The kernels will be executed once, without incrementing time\n"
     ]
    },
    {
     "name": "stdout",
     "output_type": "stream",
     "text": [
      "CPU times: user 3min 41s, sys: 8.35 s, total: 3min 49s\n",
      "Wall time: 3min 59s\n"
     ]
    }
   ],
   "source": [
    "%%time\n",
    "\n",
    "# with dask.config.set(**{'array.slicing.split_large_chunks': False}):\n",
    "pset.execute(\n",
    "    custom_kernel,\n",
    "     runtime=0,    \n",
    "#      dt=timedelta(minutes=0),      \n",
    "#      output_file=outputfile,\n",
    "     recovery=recovery_cases\n",
    ")"
   ]
  },
  {
   "cell_type": "code",
   "execution_count": 27,
   "id": "accompanied-purple",
   "metadata": {
    "execution": {
     "iopub.execute_input": "2021-05-02T07:39:16.558318Z",
     "iopub.status.busy": "2021-05-02T07:39:16.557994Z",
     "iopub.status.idle": "2021-05-02T07:39:59.741975Z",
     "shell.execute_reply": "2021-05-02T07:39:59.742238Z"
    },
    "papermill": {
     "duration": 43.220419,
     "end_time": "2021-05-02T07:39:59.742347",
     "exception": false,
     "start_time": "2021-05-02T07:39:16.521928",
     "status": "completed"
    },
    "tags": []
   },
   "outputs": [
    {
     "data": {
      "image/png": "[encoded data removed]",
      "text/plain": [
       "<Figure size 720x360 with 2 Axes>"
      ]
     },
     "metadata": {
      "needs_background": "light"
     },
     "output_type": "display_data"
    }
   ],
   "source": [
    "plot_section_sdist()"
   ]
  },
  {
   "cell_type": "markdown",
   "id": "cardiovascular-inflation",
   "metadata": {
    "papermill": {
     "duration": 0.025116,
     "end_time": "2021-05-02T07:39:59.793060",
     "exception": false,
     "start_time": "2021-05-02T07:39:59.767944",
     "status": "completed"
    },
    "tags": []
   },
   "source": [
    "## Trim unwanted points from ParticleSet\n",
    "\n",
    "Use initialised fields to remove land points. We test `temp == 0.0` (the mask value over land).\n"
   ]
  },
  {
   "cell_type": "code",
   "execution_count": 28,
   "id": "assigned-sessions",
   "metadata": {
    "execution": {
     "iopub.execute_input": "2021-05-02T07:39:59.860519Z",
     "iopub.status.busy": "2021-05-02T07:39:59.860183Z",
     "iopub.status.idle": "2021-05-02T07:40:05.372172Z",
     "shell.execute_reply": "2021-05-02T07:40:05.372640Z"
    },
    "papermill": {
     "duration": 5.552684,
     "end_time": "2021-05-02T07:40:05.372774",
     "exception": false,
     "start_time": "2021-05-02T07:39:59.820090",
     "status": "completed"
    },
    "tags": []
   },
   "outputs": [
    {
     "name": "stdout",
     "output_type": "stream",
     "text": [
      "2100637\n"
     ]
    }
   ],
   "source": [
    "t = np.array([p.temp for p in pset])\n",
    "# u = np.array([p.uvel for p in pset])\n",
    "# v = np.array([p.vvel for p in pset])\n",
    "pset.remove_indices(np.argwhere(t == 0).flatten())\n",
    "# pset.remove(np.argwhere(x * y * z == 0).flatten())\n",
    "print(len(pset))"
   ]
  },
  {
   "cell_type": "code",
   "execution_count": 29,
   "id": "likely-matter",
   "metadata": {
    "execution": {
     "iopub.execute_input": "2021-05-02T07:40:05.440322Z",
     "iopub.status.busy": "2021-05-02T07:40:05.439995Z",
     "iopub.status.idle": "2021-05-02T07:40:39.803615Z",
     "shell.execute_reply": "2021-05-02T07:40:39.803882Z"
    },
    "papermill": {
     "duration": 34.403754,
     "end_time": "2021-05-02T07:40:39.803981",
     "exception": false,
     "start_time": "2021-05-02T07:40:05.400227",
     "status": "completed"
    },
    "tags": []
   },
   "outputs": [
    {
     "data": {
      "image/png": "[encoded data removed]",
      "text/plain": [
       "<Figure size 720x360 with 2 Axes>"
      ]
     },
     "metadata": {
      "needs_background": "light"
     },
     "output_type": "display_data"
    }
   ],
   "source": [
    "plot_section_sdist()"
   ]
  },
  {
   "cell_type": "markdown",
   "id": "clean-passport",
   "metadata": {
    "papermill": {
     "duration": 0.029095,
     "end_time": "2021-05-02T07:40:39.862229",
     "exception": false,
     "start_time": "2021-05-02T07:40:39.833134",
     "status": "completed"
    },
    "tags": []
   },
   "source": [
    "### Test velocity normal to section"
   ]
  },
  {
   "cell_type": "markdown",
   "id": "vertical-yacht",
   "metadata": {
    "papermill": {
     "duration": 0.028731,
     "end_time": "2021-05-02T07:40:39.919890",
     "exception": false,
     "start_time": "2021-05-02T07:40:39.891159",
     "status": "completed"
    },
    "tags": []
   },
   "source": [
    "#### Velocity conversions from degrees lat/lon per second to m/s"
   ]
  },
  {
   "cell_type": "code",
   "execution_count": 30,
   "id": "prospective-holly",
   "metadata": {
    "execution": {
     "iopub.execute_input": "2021-05-02T07:40:39.992319Z",
     "iopub.status.busy": "2021-05-02T07:40:39.991993Z",
     "iopub.status.idle": "2021-05-02T07:40:48.419242Z",
     "shell.execute_reply": "2021-05-02T07:40:48.419809Z"
    },
    "papermill": {
     "duration": 8.471115,
     "end_time": "2021-05-02T07:40:48.419923",
     "exception": false,
     "start_time": "2021-05-02T07:40:39.948808",
     "status": "completed"
    },
    "tags": []
   },
   "outputs": [],
   "source": [
    "u = np.array([p.uvel for p in pset])\n",
    "v = np.array([p.vvel for p in pset])\n"
   ]
  },
  {
   "cell_type": "code",
   "execution_count": 31,
   "id": "backed-rocket",
   "metadata": {
    "execution": {
     "iopub.execute_input": "2021-05-02T07:40:48.503128Z",
     "iopub.status.busy": "2021-05-02T07:40:48.502805Z",
     "iopub.status.idle": "2021-05-02T07:40:48.516685Z",
     "shell.execute_reply": "2021-05-02T07:40:48.517142Z"
    },
    "papermill": {
     "duration": 0.065241,
     "end_time": "2021-05-02T07:40:48.517247",
     "exception": false,
     "start_time": "2021-05-02T07:40:48.452006",
     "status": "completed"
    },
    "tags": []
   },
   "outputs": [],
   "source": [
    "u=u * degree2km * 1000.0 * np.cos(np.radians(pset.lat))\n",
    "v=v * degree2km * 1000.0"
   ]
  },
  {
   "cell_type": "markdown",
   "id": "honey-grass",
   "metadata": {
    "papermill": {
     "duration": 0.029035,
     "end_time": "2021-05-02T07:40:48.576035",
     "exception": false,
     "start_time": "2021-05-02T07:40:48.547000",
     "status": "completed"
    },
    "tags": []
   },
   "source": [
    "#### normal velocities"
   ]
  },
  {
   "cell_type": "code",
   "execution_count": 32,
   "id": "invalid-desperate",
   "metadata": {
    "execution": {
     "iopub.execute_input": "2021-05-02T07:40:48.656142Z",
     "iopub.status.busy": "2021-05-02T07:40:48.655815Z",
     "iopub.status.idle": "2021-05-02T07:40:48.685044Z",
     "shell.execute_reply": "2021-05-02T07:40:48.685565Z"
    },
    "papermill": {
     "duration": 0.080683,
     "end_time": "2021-05-02T07:40:48.685679",
     "exception": false,
     "start_time": "2021-05-02T07:40:48.604996",
     "status": "completed"
    },
    "tags": []
   },
   "outputs": [],
   "source": [
    "section_index = np.searchsorted(lonlat.lon,pset.lon)-1\n",
    "u_normal = v * lonlatdiff.costheta[section_index].data - u * lonlatdiff.sintheta[section_index].data"
   ]
  },
  {
   "cell_type": "code",
   "execution_count": 33,
   "id": "committed-shanghai",
   "metadata": {
    "execution": {
     "iopub.execute_input": "2021-05-02T07:40:48.753435Z",
     "iopub.status.busy": "2021-05-02T07:40:48.753018Z",
     "iopub.status.idle": "2021-05-02T07:40:48.754513Z",
     "shell.execute_reply": "2021-05-02T07:40:48.753737Z"
    },
    "papermill": {
     "duration": 0.039087,
     "end_time": "2021-05-02T07:40:48.754590",
     "exception": false,
     "start_time": "2021-05-02T07:40:48.715503",
     "status": "completed"
    },
    "tags": []
   },
   "outputs": [
    {
     "data": {
      "text/plain": [
       "0.7181421260928219"
      ]
     },
     "execution_count": 33,
     "metadata": {},
     "output_type": "execute_result"
    }
   ],
   "source": [
    "abs(u_normal).max()"
   ]
  },
  {
   "cell_type": "markdown",
   "id": "respected-roller",
   "metadata": {
    "papermill": {
     "duration": 0.029167,
     "end_time": "2021-05-02T07:40:48.813043",
     "exception": false,
     "start_time": "2021-05-02T07:40:48.783876",
     "status": "completed"
    },
    "tags": []
   },
   "source": [
    "#### remove particles randomly with probability proportional to normal speed"
   ]
  },
  {
   "cell_type": "code",
   "execution_count": 34,
   "id": "intermediate-edinburgh",
   "metadata": {
    "execution": {
     "iopub.execute_input": "2021-05-02T07:40:48.894146Z",
     "iopub.status.busy": "2021-05-02T07:40:48.893820Z",
     "iopub.status.idle": "2021-05-02T07:40:49.049801Z",
     "shell.execute_reply": "2021-05-02T07:40:49.050265Z"
    },
    "papermill": {
     "duration": 0.208081,
     "end_time": "2021-05-02T07:40:49.050378",
     "exception": false,
     "start_time": "2021-05-02T07:40:48.842297",
     "status": "completed"
    },
    "tags": []
   },
   "outputs": [
    {
     "name": "stdout",
     "output_type": "stream",
     "text": [
      "56619\n"
     ]
    }
   ],
   "source": [
    "u_random = np.random.rand(len(u_normal))*max_current\n",
    "pset.remove_indices(np.argwhere(abs(u_normal) < u_random).flatten())\n",
    "\n",
    "print(len(pset))"
   ]
  },
  {
   "cell_type": "code",
   "execution_count": 35,
   "id": "correct-fellow",
   "metadata": {
    "execution": {
     "iopub.execute_input": "2021-05-02T07:40:49.124347Z",
     "iopub.status.busy": "2021-05-02T07:40:49.124019Z",
     "iopub.status.idle": "2021-05-02T07:40:50.290208Z",
     "shell.execute_reply": "2021-05-02T07:40:50.290676Z"
    },
    "papermill": {
     "duration": 1.210311,
     "end_time": "2021-05-02T07:40:50.290787",
     "exception": false,
     "start_time": "2021-05-02T07:40:49.080476",
     "status": "completed"
    },
    "tags": []
   },
   "outputs": [
    {
     "data": {
      "image/png": "[encoded data removed]",
      "text/plain": [
       "<Figure size 720x360 with 2 Axes>"
      ]
     },
     "metadata": {
      "needs_background": "light"
     },
     "output_type": "display_data"
    }
   ],
   "source": [
    "plot_section_sdist()"
   ]
  },
  {
   "cell_type": "markdown",
   "id": "sustainable-showcase",
   "metadata": {
    "papermill": {
     "duration": 0.033561,
     "end_time": "2021-05-02T07:40:50.361297",
     "exception": false,
     "start_time": "2021-05-02T07:40:50.327736",
     "status": "completed"
    },
    "tags": []
   },
   "source": [
    "## Prepare output\n",
    "\n",
    "We define an output file and specify the desired output frequency."
   ]
  },
  {
   "cell_type": "code",
   "execution_count": 36,
   "id": "periodic-history",
   "metadata": {
    "execution": {
     "iopub.execute_input": "2021-05-02T07:40:50.431274Z",
     "iopub.status.busy": "2021-05-02T07:40:50.430905Z",
     "iopub.status.idle": "2021-05-02T07:40:50.450654Z",
     "shell.execute_reply": "2021-05-02T07:40:50.450384Z"
    },
    "papermill": {
     "duration": 0.056087,
     "end_time": "2021-05-02T07:40:50.450731",
     "exception": false,
     "start_time": "2021-05-02T07:40:50.394644",
     "status": "completed"
    },
    "tags": []
   },
   "outputs": [
    {
     "name": "stdout",
     "output_type": "stream",
     "text": [
      "../data/raw/tracks_randomvel_mxl_osnap_backward_20190217_N56619_D3650_Rnd14290.nc\n"
     ]
    }
   ],
   "source": [
    "# output_filename = 'Parcels_IFFForwards_1m_June2016_2000.nc'\n",
    "npart = str(len(pset))\n",
    "output_filename = 'tracks_randomvel_mxl_'+sectionname+direction+year_str+month_str+day_str+'_N'+npart+'_D'+days+'_Rnd'+ seed+'.nc'\n",
    "outfile = outpath / output_filename\n",
    "\n",
    "print(outfile)\n",
    "outputfile = pset.ParticleFile(\n",
    "    name=outfile,\n",
    "    outputdt=timedelta(hours=outputdt_in_hours)\n",
    ")"
   ]
  },
  {
   "cell_type": "markdown",
   "id": "molecular-deficit",
   "metadata": {
    "papermill": {
     "duration": 0.03389,
     "end_time": "2021-05-02T07:40:50.518570",
     "exception": false,
     "start_time": "2021-05-02T07:40:50.484680",
     "status": "completed"
    },
    "tags": []
   },
   "source": [
    "## Execute the experiment\n",
    "\n",
    "We'll evolve particles, log their positions and variables to the output buffer and finally export the output to a  the file."
   ]
  },
  {
   "cell_type": "markdown",
   "id": "ethical-hampshire",
   "metadata": {
    "papermill": {
     "duration": 0.033519,
     "end_time": "2021-05-02T07:40:50.585965",
     "exception": false,
     "start_time": "2021-05-02T07:40:50.552446",
     "status": "completed"
    },
    "tags": []
   },
   "source": [
    "### Run the experiment"
   ]
  },
  {
   "cell_type": "code",
   "execution_count": 37,
   "id": "black-workstation",
   "metadata": {
    "execution": {
     "iopub.execute_input": "2021-05-02T07:40:50.660357Z",
     "iopub.status.busy": "2021-05-02T07:40:50.659974Z",
     "iopub.status.idle": "2021-05-03T04:52:28.780216Z",
     "shell.execute_reply": "2021-05-03T04:52:28.779119Z"
    },
    "papermill": {
     "duration": 76298.16057,
     "end_time": "2021-05-03T04:52:28.780308",
     "exception": false,
     "start_time": "2021-05-02T07:40:50.619738",
     "status": "completed"
    },
    "tags": []
   },
   "outputs": [
    {
     "name": "stderr",
     "output_type": "stream",
     "text": [
      "INFO: Temporary output files are stored in ../data/raw/out-YMSFFRCF.\n"
     ]
    },
    {
     "name": "stderr",
     "output_type": "stream",
     "text": [
      "INFO: You can use \"parcels_convert_npydir_to_netcdf ../data/raw/out-YMSFFRCF\" to convert these to a NetCDF file during the run.\n"
     ]
    },
    {
     "name": "stderr",
     "output_type": "stream",
     "text": [
      "\r",
      "N/A% (0 of 315360000.0) |                | Elapsed Time: 0:00:00 ETA:  --:--:--"
     ]
    },
    {
     "name": "stderr",
     "output_type": "stream",
     "text": [
      "\r",
      "  0% (864000.0 of 315360000.0) |         | Elapsed Time: 0:01:57 ETA:  11:54:48"
     ]
    },
    {
     "name": "stderr",
     "output_type": "stream",
     "text": [
      "\r",
      "  0% (1296000.0 of 315360000.0) |        | Elapsed Time: 0:03:55 ETA:  23:46:59"
     ]
    },
    {
     "name": "stderr",
     "output_type": "stream",
     "text": [
      "\r",
      "  0% (1728000.0 of 315360000.0) |        | Elapsed Time: 0:05:49 ETA:  23:01:28"
     ]
    },
    {
     "name": "stderr",
     "output_type": "stream",
     "text": [
      "\r",
      "  0% (2160000.0 of 315360000.0) |        | Elapsed Time: 0:07:47 ETA:  23:37:19"
     ]
    },
    {
     "name": "stderr",
     "output_type": "stream",
     "text": [
      "\r",
      "  0% (2592000.0 of 315360000.0) |        | Elapsed Time: 0:09:42 ETA:  23:16:26"
     ]
    },
    {
     "name": "stderr",
     "output_type": "stream",
     "text": [
      "\r",
      "  0% (3024000.0 of 315360000.0) |        | Elapsed Time: 0:11:39 ETA:  23:30:41"
     ]
    },
    {
     "name": "stderr",
     "output_type": "stream",
     "text": [
      "\r",
      "  1% (3456000.0 of 315360000.0) |        | Elapsed Time: 0:13:38 ETA:  23:44:10"
     ]
    },
    {
     "name": "stderr",
     "output_type": "stream",
     "text": [
      "\r",
      "  1% (3888000.0 of 315360000.0) |  | Elapsed Time: 0:15:38 ETA:  1 day, 0:02:03"
     ]
    },
    {
     "name": "stderr",
     "output_type": "stream",
     "text": [
      "\r",
      "  1% (4320000.0 of 315360000.0) |  | Elapsed Time: 0:17:38 ETA:  1 day, 0:08:19"
     ]
    },
    {
     "name": "stderr",
     "output_type": "stream",
     "text": [
      "\r",
      "  1% (4752000.0 of 315360000.0) |        | Elapsed Time: 0:19:36 ETA:  23:33:16"
     ]
    },
    {
     "name": "stderr",
     "output_type": "stream",
     "text": [
      "\r",
      "  1% (5184000.0 of 315360000.0) |        | Elapsed Time: 0:21:34 ETA:  23:28:16"
     ]
    },
    {
     "name": "stderr",
     "output_type": "stream",
     "text": [
      "\r",
      "  1% (5616000.0 of 315360000.0) |  | Elapsed Time: 0:23:35 ETA:  1 day, 0:00:05"
     ]
    },
    {
     "name": "stderr",
     "output_type": "stream",
     "text": [
      "\r",
      "  1% (6048000.0 of 315360000.0) |  | Elapsed Time: 0:25:35 ETA:  1 day, 0:02:14"
     ]
    },
    {
     "name": "stderr",
     "output_type": "stream",
     "text": [
      "\r",
      "  2% (6480000.0 of 315360000.0) |        | Elapsed Time: 0:27:36 ETA:  23:51:57"
     ]
    },
    {
     "name": "stderr",
     "output_type": "stream",
     "text": [
      "\r",
      "  2% (6912000.0 of 315360000.0) |        | Elapsed Time: 0:29:37 ETA:  23:59:59"
     ]
    },
    {
     "name": "stderr",
     "output_type": "stream",
     "text": [
      "\r",
      "  2% (7344000.0 of 315360000.0) |  | Elapsed Time: 0:31:38 ETA:  1 day, 0:06:05"
     ]
    },
    {
     "name": "stderr",
     "output_type": "stream",
     "text": [
      "\r",
      "  2% (7776000.0 of 315360000.0) |        | Elapsed Time: 0:33:39 ETA:  23:55:54"
     ]
    },
    {
     "name": "stderr",
     "output_type": "stream",
     "text": [
      "\r",
      "  2% (8208000.0 of 315360000.0) |        | Elapsed Time: 0:35:40 ETA:  23:54:21"
     ]
    },
    {
     "name": "stderr",
     "output_type": "stream",
     "text": [
      "\r",
      "  2% (8640000.0 of 315360000.0) |        | Elapsed Time: 0:37:41 ETA:  23:53:15"
     ]
    },
    {
     "name": "stderr",
     "output_type": "stream",
     "text": [
      "\r",
      "  2% (9072000.0 of 315360000.0) |        | Elapsed Time: 0:39:43 ETA:  23:51:30"
     ]
    },
    {
     "name": "stderr",
     "output_type": "stream",
     "text": [
      "\r",
      "  3% (9504000.0 of 315360000.0) |        | Elapsed Time: 0:41:44 ETA:  23:56:46"
     ]
    },
    {
     "name": "stderr",
     "output_type": "stream",
     "text": [
      "\r",
      "  3% (9936000.0 of 315360000.0) |  | Elapsed Time: 0:43:47 ETA:  1 day, 0:02:16"
     ]
    },
    {
     "name": "stderr",
     "output_type": "stream",
     "text": [
      "\r",
      "  3% (10368000.0 of 315360000.0) |       | Elapsed Time: 0:45:48 ETA:  23:49:04"
     ]
    },
    {
     "name": "stderr",
     "output_type": "stream",
     "text": [
      "\r",
      "  3% (10800000.0 of 315360000.0) |       | Elapsed Time: 0:47:50 ETA:  23:52:32"
     ]
    },
    {
     "name": "stderr",
     "output_type": "stream",
     "text": [
      "\r",
      "  3% (11232000.0 of 315360000.0) |       | Elapsed Time: 0:49:53 ETA:  23:57:10"
     ]
    },
    {
     "name": "stderr",
     "output_type": "stream",
     "text": [
      "\r",
      "  3% (11664000.0 of 315360000.0) |       | Elapsed Time: 0:51:54 ETA:  23:39:30"
     ]
    },
    {
     "name": "stderr",
     "output_type": "stream",
     "text": [
      "\r",
      "  3% (12096000.0 of 315360000.0) |       | Elapsed Time: 0:53:56 ETA:  23:46:39"
     ]
    },
    {
     "name": "stderr",
     "output_type": "stream",
     "text": [
      "\r",
      "  3% (12528000.0 of 315360000.0) |       | Elapsed Time: 0:55:56 ETA:  23:22:28"
     ]
    },
    {
     "name": "stderr",
     "output_type": "stream",
     "text": [
      "\r",
      "  4% (12960000.0 of 315360000.0) |       | Elapsed Time: 0:57:58 ETA:  23:44:48"
     ]
    },
    {
     "name": "stderr",
     "output_type": "stream",
     "text": [
      "\r",
      "  4% (13392000.0 of 315360000.0) |       | Elapsed Time: 0:59:58 ETA:  23:23:22"
     ]
    },
    {
     "name": "stderr",
     "output_type": "stream",
     "text": [
      "\r",
      "  4% (13824000.0 of 315360000.0) |       | Elapsed Time: 1:01:57 ETA:  23:03:36"
     ]
    },
    {
     "name": "stderr",
     "output_type": "stream",
     "text": [
      "\r",
      "  4% (14256000.0 of 315360000.0) |       | Elapsed Time: 1:03:56 ETA:  23:04:32"
     ]
    },
    {
     "name": "stderr",
     "output_type": "stream",
     "text": [
      "\r",
      "  4% (14688000.0 of 315360000.0) |       | Elapsed Time: 1:05:58 ETA:  23:29:53"
     ]
    },
    {
     "name": "stderr",
     "output_type": "stream",
     "text": [
      "\r",
      "  4% (15120000.0 of 315360000.0) |       | Elapsed Time: 1:07:58 ETA:  23:12:40"
     ]
    },
    {
     "name": "stderr",
     "output_type": "stream",
     "text": [
      "\r",
      "  4% (15552000.0 of 315360000.0) |       | Elapsed Time: 1:09:57 ETA:  22:58:12"
     ]
    },
    {
     "name": "stderr",
     "output_type": "stream",
     "text": [
      "\r",
      "  5% (15984000.0 of 315360000.0) |       | Elapsed Time: 1:11:57 ETA:  23:03:18"
     ]
    },
    {
     "name": "stderr",
     "output_type": "stream",
     "text": [
      "\r",
      "  5% (16416000.0 of 315360000.0) |       | Elapsed Time: 1:13:57 ETA:  23:00:47"
     ]
    },
    {
     "name": "stderr",
     "output_type": "stream",
     "text": [
      "\r",
      "  5% (16848000.0 of 315360000.0) |       | Elapsed Time: 1:15:56 ETA:  22:52:18"
     ]
    },
    {
     "name": "stderr",
     "output_type": "stream",
     "text": [
      "\r",
      "  5% (17280000.0 of 315360000.0) |       | Elapsed Time: 1:17:55 ETA:  22:49:49"
     ]
    },
    {
     "name": "stderr",
     "output_type": "stream",
     "text": [
      "\r",
      "  5% (17712000.0 of 315360000.0) |       | Elapsed Time: 1:19:55 ETA:  23:00:12"
     ]
    },
    {
     "name": "stderr",
     "output_type": "stream",
     "text": [
      "\r",
      "  5% (18144000.0 of 315360000.0) |       | Elapsed Time: 1:21:54 ETA:  22:38:25"
     ]
    },
    {
     "name": "stderr",
     "output_type": "stream",
     "text": [
      "\r",
      "  5% (18576000.0 of 315360000.0) |       | Elapsed Time: 1:23:52 ETA:  22:36:21"
     ]
    },
    {
     "name": "stderr",
     "output_type": "stream",
     "text": [
      "\r",
      "  6% (19008000.0 of 315360000.0) |       | Elapsed Time: 1:25:50 ETA:  22:29:00"
     ]
    },
    {
     "name": "stderr",
     "output_type": "stream",
     "text": [
      "\r",
      "  6% (19440000.0 of 315360000.0) |       | Elapsed Time: 1:27:47 ETA:  22:16:44"
     ]
    },
    {
     "name": "stderr",
     "output_type": "stream",
     "text": [
      "\r",
      "  6% (19872000.0 of 315360000.0) |       | Elapsed Time: 1:29:45 ETA:  22:19:18"
     ]
    },
    {
     "name": "stderr",
     "output_type": "stream",
     "text": [
      "\r",
      "  6% (20304000.0 of 315360000.0) |       | Elapsed Time: 1:31:43 ETA:  22:20:13"
     ]
    },
    {
     "name": "stderr",
     "output_type": "stream",
     "text": [
      "\r",
      "  6% (20736000.0 of 315360000.0) |       | Elapsed Time: 1:33:40 ETA:  22:20:29"
     ]
    },
    {
     "name": "stderr",
     "output_type": "stream",
     "text": [
      "\r",
      "  6% (21168000.0 of 315360000.0) |       | Elapsed Time: 1:35:40 ETA:  22:31:48"
     ]
    },
    {
     "name": "stderr",
     "output_type": "stream",
     "text": [
      "\r",
      "  6% (21600000.0 of 315360000.0) |       | Elapsed Time: 1:37:38 ETA:  22:19:06"
     ]
    },
    {
     "name": "stderr",
     "output_type": "stream",
     "text": [
      "\r",
      "  6% (22032000.0 of 315360000.0) |       | Elapsed Time: 1:39:36 ETA:  22:14:25"
     ]
    },
    {
     "name": "stderr",
     "output_type": "stream",
     "text": [
      "\r",
      "  7% (22464000.0 of 315360000.0) |       | Elapsed Time: 1:41:33 ETA:  22:09:05"
     ]
    },
    {
     "name": "stderr",
     "output_type": "stream",
     "text": [
      "\r",
      "  7% (22896000.0 of 315360000.0) |       | Elapsed Time: 1:43:31 ETA:  22:07:21"
     ]
    },
    {
     "name": "stderr",
     "output_type": "stream",
     "text": [
      "\r",
      "  7% (23328000.0 of 315360000.0) |       | Elapsed Time: 1:45:28 ETA:  22:02:46"
     ]
    },
    {
     "name": "stderr",
     "output_type": "stream",
     "text": [
      "\r",
      "  7% (23760000.0 of 315360000.0) |       | Elapsed Time: 1:47:26 ETA:  22:04:51"
     ]
    },
    {
     "name": "stderr",
     "output_type": "stream",
     "text": [
      "\r",
      "  7% (24192000.0 of 315360000.0) |       | Elapsed Time: 1:49:24 ETA:  22:04:24"
     ]
    },
    {
     "name": "stderr",
     "output_type": "stream",
     "text": [
      "\r",
      "  7% (24624000.0 of 315360000.0) |       | Elapsed Time: 1:51:21 ETA:  21:51:15"
     ]
    },
    {
     "name": "stderr",
     "output_type": "stream",
     "text": [
      "\r",
      "  7% (25056000.0 of 315360000.0) |       | Elapsed Time: 1:53:19 ETA:  22:01:42"
     ]
    },
    {
     "name": "stderr",
     "output_type": "stream",
     "text": [
      "\r",
      "  8% (25488000.0 of 315360000.0) |       | Elapsed Time: 1:55:16 ETA:  21:50:49"
     ]
    },
    {
     "name": "stderr",
     "output_type": "stream",
     "text": [
      "\r",
      "  8% (25920000.0 of 315360000.0) |       | Elapsed Time: 1:57:14 ETA:  21:53:49"
     ]
    },
    {
     "name": "stderr",
     "output_type": "stream",
     "text": [
      "\r",
      "  8% (26352000.0 of 315360000.0) |       | Elapsed Time: 1:59:11 ETA:  21:45:51"
     ]
    },
    {
     "name": "stderr",
     "output_type": "stream",
     "text": [
      "\r",
      "  8% (26784000.0 of 315360000.0) |       | Elapsed Time: 2:01:09 ETA:  21:52:13"
     ]
    },
    {
     "name": "stderr",
     "output_type": "stream",
     "text": [
      "\r",
      "  8% (27216000.0 of 315360000.0) |       | Elapsed Time: 2:03:07 ETA:  21:51:06"
     ]
    },
    {
     "name": "stderr",
     "output_type": "stream",
     "text": [
      "\r",
      "  8% (27648000.0 of 315360000.0) |       | Elapsed Time: 2:05:03 ETA:  21:33:26"
     ]
    },
    {
     "name": "stderr",
     "output_type": "stream",
     "text": [
      "\r",
      "  8% (28080000.0 of 315360000.0) |       | Elapsed Time: 2:07:00 ETA:  21:36:39"
     ]
    },
    {
     "name": "stderr",
     "output_type": "stream",
     "text": [
      "\r",
      "  9% (28512000.0 of 315360000.0) |       | Elapsed Time: 2:08:56 ETA:  21:26:39"
     ]
    },
    {
     "name": "stderr",
     "output_type": "stream",
     "text": [
      "\r",
      "  9% (28944000.0 of 315360000.0) |       | Elapsed Time: 2:10:53 ETA:  21:22:18"
     ]
    },
    {
     "name": "stderr",
     "output_type": "stream",
     "text": [
      "\r",
      "  9% (29376000.0 of 315360000.0) |       | Elapsed Time: 2:12:48 ETA:  21:18:15"
     ]
    },
    {
     "name": "stderr",
     "output_type": "stream",
     "text": [
      "\r",
      "  9% (29808000.0 of 315360000.0) |       | Elapsed Time: 2:14:46 ETA:  21:31:38"
     ]
    },
    {
     "name": "stderr",
     "output_type": "stream",
     "text": [
      "\r",
      "  9% (30240000.0 of 315360000.0) |       | Elapsed Time: 2:16:42 ETA:  21:21:06"
     ]
    },
    {
     "name": "stderr",
     "output_type": "stream",
     "text": [
      "\r",
      "  9% (30672000.0 of 315360000.0) |       | Elapsed Time: 2:18:39 ETA:  21:22:13"
     ]
    },
    {
     "name": "stderr",
     "output_type": "stream",
     "text": [
      "\r",
      "  9% (31104000.0 of 315360000.0) |       | Elapsed Time: 2:20:36 ETA:  21:25:23"
     ]
    },
    {
     "name": "stderr",
     "output_type": "stream",
     "text": [
      "\r",
      " 10% (31536000.0 of 315360000.0) |       | Elapsed Time: 2:22:33 ETA:  21:22:31"
     ]
    },
    {
     "name": "stderr",
     "output_type": "stream",
     "text": [
      "\r",
      " 10% (31968000.0 of 315360000.0) |       | Elapsed Time: 2:24:30 ETA:  21:21:52"
     ]
    },
    {
     "name": "stderr",
     "output_type": "stream",
     "text": [
      "\r",
      " 10% (32400000.0 of 315360000.0) |       | Elapsed Time: 2:26:26 ETA:  21:05:52"
     ]
    },
    {
     "name": "stderr",
     "output_type": "stream",
     "text": [
      "\r",
      " 10% (32832000.0 of 315360000.0) |       | Elapsed Time: 2:28:23 ETA:  21:06:18"
     ]
    },
    {
     "name": "stderr",
     "output_type": "stream",
     "text": [
      "\r",
      " 10% (33264000.0 of 315360000.0) |       | Elapsed Time: 2:30:19 ETA:  21:08:43"
     ]
    },
    {
     "name": "stderr",
     "output_type": "stream",
     "text": [
      "\r",
      " 10% (33696000.0 of 315360000.0) |       | Elapsed Time: 2:32:17 ETA:  21:19:55"
     ]
    },
    {
     "name": "stderr",
     "output_type": "stream",
     "text": [
      "\r",
      " 10% (34128000.0 of 315360000.0) |       | Elapsed Time: 2:34:13 ETA:  20:55:05"
     ]
    },
    {
     "name": "stderr",
     "output_type": "stream",
     "text": [
      "\r",
      " 10% (34560000.0 of 315360000.0) |       | Elapsed Time: 2:36:09 ETA:  20:57:49"
     ]
    },
    {
     "name": "stderr",
     "output_type": "stream",
     "text": [
      "\r",
      " 11% (34992000.0 of 315360000.0) |       | Elapsed Time: 2:38:06 ETA:  21:12:28"
     ]
    },
    {
     "name": "stderr",
     "output_type": "stream",
     "text": [
      "\r",
      " 11% (35424000.0 of 315360000.0) |       | Elapsed Time: 2:40:05 ETA:  21:26:45"
     ]
    },
    {
     "name": "stderr",
     "output_type": "stream",
     "text": [
      "\r",
      " 11% (35856000.0 of 315360000.0) |       | Elapsed Time: 2:42:01 ETA:  20:43:25"
     ]
    },
    {
     "name": "stderr",
     "output_type": "stream",
     "text": [
      "\r",
      " 11% (36288000.0 of 315360000.0) |       | Elapsed Time: 2:43:57 ETA:  20:48:02"
     ]
    },
    {
     "name": "stderr",
     "output_type": "stream",
     "text": [
      "\r",
      " 11% (36720000.0 of 315360000.0) |       | Elapsed Time: 2:45:53 ETA:  20:47:17"
     ]
    },
    {
     "name": "stderr",
     "output_type": "stream",
     "text": [
      "\r",
      " 11% (37152000.0 of 315360000.0) |       | Elapsed Time: 2:47:50 ETA:  20:56:32"
     ]
    },
    {
     "name": "stderr",
     "output_type": "stream",
     "text": [
      "\r",
      " 11% (37584000.0 of 315360000.0) |       | Elapsed Time: 2:49:46 ETA:  20:40:31"
     ]
    },
    {
     "name": "stderr",
     "output_type": "stream",
     "text": [
      "\r",
      " 12% (38016000.0 of 315360000.0) |       | Elapsed Time: 2:51:42 ETA:  20:42:37"
     ]
    },
    {
     "name": "stderr",
     "output_type": "stream",
     "text": [
      "\r",
      " 12% (38448000.0 of 315360000.0) |       | Elapsed Time: 2:53:37 ETA:  20:31:48"
     ]
    },
    {
     "name": "stderr",
     "output_type": "stream",
     "text": [
      "\r",
      " 12% (38880000.0 of 315360000.0) |       | Elapsed Time: 2:55:33 ETA:  20:40:42"
     ]
    },
    {
     "name": "stderr",
     "output_type": "stream",
     "text": [
      "\r",
      " 12% (39312000.0 of 315360000.0) |       | Elapsed Time: 2:57:29 ETA:  20:33:56"
     ]
    },
    {
     "name": "stderr",
     "output_type": "stream",
     "text": [
      "\r",
      " 12% (39744000.0 of 315360000.0) |       | Elapsed Time: 2:59:25 ETA:  20:32:10"
     ]
    },
    {
     "name": "stderr",
     "output_type": "stream",
     "text": [
      "\r",
      " 12% (40176000.0 of 315360000.0) |       | Elapsed Time: 3:01:20 ETA:  20:22:43"
     ]
    },
    {
     "name": "stderr",
     "output_type": "stream",
     "text": [
      "\r",
      " 12% (40608000.0 of 315360000.0) |       | Elapsed Time: 3:03:16 ETA:  20:28:57"
     ]
    },
    {
     "name": "stderr",
     "output_type": "stream",
     "text": [
      "\r",
      " 13% (41040000.0 of 315360000.0) |       | Elapsed Time: 3:05:11 ETA:  20:13:54"
     ]
    },
    {
     "name": "stderr",
     "output_type": "stream",
     "text": [
      "\r",
      " 13% (41472000.0 of 315360000.0) |       | Elapsed Time: 3:07:06 ETA:  20:18:04"
     ]
    },
    {
     "name": "stderr",
     "output_type": "stream",
     "text": [
      "\r",
      " 13% (41904000.0 of 315360000.0) |       | Elapsed Time: 3:09:02 ETA:  20:17:46"
     ]
    },
    {
     "name": "stderr",
     "output_type": "stream",
     "text": [
      "\r",
      " 13% (42336000.0 of 315360000.0) |       | Elapsed Time: 3:10:57 ETA:  20:12:45"
     ]
    },
    {
     "name": "stderr",
     "output_type": "stream",
     "text": [
      "\r",
      " 13% (42768000.0 of 315360000.0) |       | Elapsed Time: 3:12:51 ETA:  19:58:49"
     ]
    },
    {
     "name": "stderr",
     "output_type": "stream",
     "text": [
      "\r",
      " 13% (43200000.0 of 315360000.0) |       | Elapsed Time: 3:14:47 ETA:  20:18:23"
     ]
    },
    {
     "name": "stderr",
     "output_type": "stream",
     "text": [
      "\r",
      " 13% (43632000.0 of 315360000.0) |       | Elapsed Time: 3:16:42 ETA:  20:05:59"
     ]
    },
    {
     "name": "stderr",
     "output_type": "stream",
     "text": [
      "\r",
      " 13% (44064000.0 of 315360000.0) |       | Elapsed Time: 3:18:37 ETA:  20:06:49"
     ]
    },
    {
     "name": "stderr",
     "output_type": "stream",
     "text": [
      "\r",
      " 14% (44496000.0 of 315360000.0) |       | Elapsed Time: 3:20:32 ETA:  19:58:26"
     ]
    },
    {
     "name": "stderr",
     "output_type": "stream",
     "text": [
      "\r",
      " 14% (44928000.0 of 315360000.0) |       | Elapsed Time: 3:22:27 ETA:  20:00:53"
     ]
    },
    {
     "name": "stderr",
     "output_type": "stream",
     "text": [
      "\r",
      " 14% (45360000.0 of 315360000.0) |#      | Elapsed Time: 3:24:22 ETA:  19:56:54"
     ]
    },
    {
     "name": "stderr",
     "output_type": "stream",
     "text": [
      "\r",
      " 14% (45792000.0 of 315360000.0) |#      | Elapsed Time: 3:26:16 ETA:  19:45:48"
     ]
    },
    {
     "name": "stderr",
     "output_type": "stream",
     "text": [
      "\r",
      " 14% (46224000.0 of 315360000.0) |#      | Elapsed Time: 3:28:10 ETA:  19:48:00"
     ]
    },
    {
     "name": "stderr",
     "output_type": "stream",
     "text": [
      "\r",
      " 14% (46656000.0 of 315360000.0) |#      | Elapsed Time: 3:30:04 ETA:  19:43:23"
     ]
    },
    {
     "name": "stderr",
     "output_type": "stream",
     "text": [
      "\r",
      " 14% (47088000.0 of 315360000.0) |#      | Elapsed Time: 3:32:00 ETA:  19:57:24"
     ]
    },
    {
     "name": "stderr",
     "output_type": "stream",
     "text": [
      "\r",
      " 15% (47520000.0 of 315360000.0) |#      | Elapsed Time: 3:33:55 ETA:  19:43:12"
     ]
    },
    {
     "name": "stderr",
     "output_type": "stream",
     "text": [
      "\r",
      " 15% (47952000.0 of 315360000.0) |#      | Elapsed Time: 3:35:50 ETA:  19:50:18"
     ]
    },
    {
     "name": "stderr",
     "output_type": "stream",
     "text": [
      "\r",
      " 15% (48384000.0 of 315360000.0) |#      | Elapsed Time: 3:37:45 ETA:  19:40:48"
     ]
    },
    {
     "name": "stderr",
     "output_type": "stream",
     "text": [
      "\r",
      " 15% (48816000.0 of 315360000.0) |#      | Elapsed Time: 3:39:39 ETA:  19:37:51"
     ]
    },
    {
     "name": "stderr",
     "output_type": "stream",
     "text": [
      "\r",
      " 15% (49248000.0 of 315360000.0) |#      | Elapsed Time: 3:41:34 ETA:  19:36:29"
     ]
    },
    {
     "name": "stderr",
     "output_type": "stream",
     "text": [
      "\r",
      " 15% (49680000.0 of 315360000.0) |#      | Elapsed Time: 3:43:28 ETA:  19:26:50"
     ]
    },
    {
     "name": "stderr",
     "output_type": "stream",
     "text": [
      "\r",
      " 15% (50112000.0 of 315360000.0) |#      | Elapsed Time: 3:45:22 ETA:  19:26:44"
     ]
    },
    {
     "name": "stderr",
     "output_type": "stream",
     "text": [
      "\r",
      " 16% (50544000.0 of 315360000.0) |#      | Elapsed Time: 3:47:15 ETA:  19:21:55"
     ]
    },
    {
     "name": "stderr",
     "output_type": "stream",
     "text": [
      "\r",
      " 16% (50976000.0 of 315360000.0) |#      | Elapsed Time: 3:49:09 ETA:  19:21:14"
     ]
    },
    {
     "name": "stderr",
     "output_type": "stream",
     "text": [
      "\r",
      " 16% (51408000.0 of 315360000.0) |#      | Elapsed Time: 3:51:03 ETA:  19:16:51"
     ]
    },
    {
     "name": "stderr",
     "output_type": "stream",
     "text": [
      "\r",
      " 16% (51840000.0 of 315360000.0) |#      | Elapsed Time: 3:52:57 ETA:  19:20:33"
     ]
    },
    {
     "name": "stderr",
     "output_type": "stream",
     "text": [
      "\r",
      " 16% (52272000.0 of 315360000.0) |#      | Elapsed Time: 3:54:52 ETA:  19:27:32"
     ]
    },
    {
     "name": "stderr",
     "output_type": "stream",
     "text": [
      "\r",
      " 16% (52704000.0 of 315360000.0) |#      | Elapsed Time: 3:56:47 ETA:  19:25:28"
     ]
    },
    {
     "name": "stderr",
     "output_type": "stream",
     "text": [
      "\r",
      " 16% (53136000.0 of 315360000.0) |#      | Elapsed Time: 3:58:41 ETA:  19:09:52"
     ]
    },
    {
     "name": "stderr",
     "output_type": "stream",
     "text": [
      "\r",
      " 16% (53568000.0 of 315360000.0) |#      | Elapsed Time: 4:00:35 ETA:  19:14:36"
     ]
    },
    {
     "name": "stderr",
     "output_type": "stream",
     "text": [
      "\r",
      " 17% (54000000.0 of 315360000.0) |#      | Elapsed Time: 4:02:29 ETA:  19:10:26"
     ]
    },
    {
     "name": "stderr",
     "output_type": "stream",
     "text": [
      "\r",
      " 17% (54432000.0 of 315360000.0) |#      | Elapsed Time: 4:04:24 ETA:  19:13:16"
     ]
    },
    {
     "name": "stderr",
     "output_type": "stream",
     "text": [
      "\r",
      " 17% (54864000.0 of 315360000.0) |#      | Elapsed Time: 4:06:18 ETA:  19:06:14"
     ]
    },
    {
     "name": "stderr",
     "output_type": "stream",
     "text": [
      "\r",
      " 17% (55296000.0 of 315360000.0) |#      | Elapsed Time: 4:08:11 ETA:  19:01:24"
     ]
    },
    {
     "name": "stderr",
     "output_type": "stream",
     "text": [
      "\r",
      " 17% (55728000.0 of 315360000.0) |#      | Elapsed Time: 4:10:05 ETA:  18:59:27"
     ]
    },
    {
     "name": "stderr",
     "output_type": "stream",
     "text": [
      "\r",
      " 17% (56160000.0 of 315360000.0) |#      | Elapsed Time: 4:11:59 ETA:  18:56:50"
     ]
    },
    {
     "name": "stderr",
     "output_type": "stream",
     "text": [
      "\r",
      " 17% (56592000.0 of 315360000.0) |#      | Elapsed Time: 4:13:52 ETA:  18:53:48"
     ]
    },
    {
     "name": "stderr",
     "output_type": "stream",
     "text": [
      "\r",
      " 18% (57024000.0 of 315360000.0) |#      | Elapsed Time: 4:15:46 ETA:  18:51:01"
     ]
    },
    {
     "name": "stderr",
     "output_type": "stream",
     "text": [
      "\r",
      " 18% (57456000.0 of 315360000.0) |#      | Elapsed Time: 4:17:40 ETA:  18:51:12"
     ]
    },
    {
     "name": "stderr",
     "output_type": "stream",
     "text": [
      "\r",
      " 18% (57888000.0 of 315360000.0) |#      | Elapsed Time: 4:19:33 ETA:  18:52:06"
     ]
    },
    {
     "name": "stderr",
     "output_type": "stream",
     "text": [
      "\r",
      " 18% (58320000.0 of 315360000.0) |#      | Elapsed Time: 4:21:28 ETA:  18:53:42"
     ]
    },
    {
     "name": "stderr",
     "output_type": "stream",
     "text": [
      "\r",
      " 18% (58752000.0 of 315360000.0) |#      | Elapsed Time: 4:23:22 ETA:  18:48:51"
     ]
    },
    {
     "name": "stderr",
     "output_type": "stream",
     "text": [
      "\r",
      " 18% (59184000.0 of 315360000.0) |#      | Elapsed Time: 4:25:15 ETA:  18:42:27"
     ]
    },
    {
     "name": "stderr",
     "output_type": "stream",
     "text": [
      "\r",
      " 18% (59616000.0 of 315360000.0) |#      | Elapsed Time: 4:27:09 ETA:  18:36:25"
     ]
    },
    {
     "name": "stderr",
     "output_type": "stream",
     "text": [
      "\r",
      " 19% (60048000.0 of 315360000.0) |#      | Elapsed Time: 4:29:03 ETA:  18:47:38"
     ]
    },
    {
     "name": "stderr",
     "output_type": "stream",
     "text": [
      "\r",
      " 19% (60480000.0 of 315360000.0) |#      | Elapsed Time: 4:30:58 ETA:  18:48:52"
     ]
    },
    {
     "name": "stderr",
     "output_type": "stream",
     "text": [
      "\r",
      " 19% (60912000.0 of 315360000.0) |#      | Elapsed Time: 4:32:51 ETA:  18:28:54"
     ]
    },
    {
     "name": "stderr",
     "output_type": "stream",
     "text": [
      "\r",
      " 19% (61344000.0 of 315360000.0) |#      | Elapsed Time: 4:34:43 ETA:  18:21:49"
     ]
    },
    {
     "name": "stderr",
     "output_type": "stream",
     "text": [
      "\r",
      " 19% (61776000.0 of 315360000.0) |#      | Elapsed Time: 4:36:36 ETA:  18:23:43"
     ]
    },
    {
     "name": "stderr",
     "output_type": "stream",
     "text": [
      "\r",
      " 19% (62208000.0 of 315360000.0) |#      | Elapsed Time: 4:38:29 ETA:  18:22:07"
     ]
    },
    {
     "name": "stderr",
     "output_type": "stream",
     "text": [
      "\r",
      " 19% (62640000.0 of 315360000.0) |#      | Elapsed Time: 4:40:22 ETA:  18:26:34"
     ]
    },
    {
     "name": "stderr",
     "output_type": "stream",
     "text": [
      "\r",
      " 20% (63072000.0 of 315360000.0) |#      | Elapsed Time: 4:42:16 ETA:  18:27:11"
     ]
    },
    {
     "name": "stderr",
     "output_type": "stream",
     "text": [
      "\r",
      " 20% (63504000.0 of 315360000.0) |#      | Elapsed Time: 4:44:10 ETA:  18:28:20"
     ]
    },
    {
     "name": "stderr",
     "output_type": "stream",
     "text": [
      "\r",
      " 20% (63936000.0 of 315360000.0) |#      | Elapsed Time: 4:46:03 ETA:  18:11:38"
     ]
    },
    {
     "name": "stderr",
     "output_type": "stream",
     "text": [
      "\r",
      " 20% (64368000.0 of 315360000.0) |#      | Elapsed Time: 4:47:55 ETA:  18:06:14"
     ]
    },
    {
     "name": "stderr",
     "output_type": "stream",
     "text": [
      "\r",
      " 20% (64800000.0 of 315360000.0) |#      | Elapsed Time: 4:49:50 ETA:  18:28:26"
     ]
    },
    {
     "name": "stderr",
     "output_type": "stream",
     "text": [
      "\r",
      " 20% (65232000.0 of 315360000.0) |#      | Elapsed Time: 4:51:44 ETA:  18:28:39"
     ]
    },
    {
     "name": "stderr",
     "output_type": "stream",
     "text": [
      "\r",
      " 20% (65664000.0 of 315360000.0) |#      | Elapsed Time: 4:53:38 ETA:  18:10:42"
     ]
    },
    {
     "name": "stderr",
     "output_type": "stream",
     "text": [
      "\r",
      " 20% (66096000.0 of 315360000.0) |#      | Elapsed Time: 4:55:30 ETA:  18:00:16"
     ]
    },
    {
     "name": "stderr",
     "output_type": "stream",
     "text": [
      "\r",
      " 21% (66528000.0 of 315360000.0) |#      | Elapsed Time: 4:57:23 ETA:  18:03:50"
     ]
    },
    {
     "name": "stderr",
     "output_type": "stream",
     "text": [
      "\r",
      " 21% (66960000.0 of 315360000.0) |#      | Elapsed Time: 4:59:17 ETA:  18:14:57"
     ]
    },
    {
     "name": "stderr",
     "output_type": "stream",
     "text": [
      "\r",
      " 21% (67392000.0 of 315360000.0) |#      | Elapsed Time: 5:01:11 ETA:  18:07:19"
     ]
    },
    {
     "name": "stderr",
     "output_type": "stream",
     "text": [
      "\r",
      " 21% (67824000.0 of 315360000.0) |#      | Elapsed Time: 5:03:06 ETA:  18:14:57"
     ]
    },
    {
     "name": "stderr",
     "output_type": "stream",
     "text": [
      "\r",
      " 21% (68256000.0 of 315360000.0) |#      | Elapsed Time: 5:04:59 ETA:  18:01:04"
     ]
    },
    {
     "name": "stderr",
     "output_type": "stream",
     "text": [
      "\r",
      " 21% (68688000.0 of 315360000.0) |#      | Elapsed Time: 5:06:51 ETA:  17:47:29"
     ]
    },
    {
     "name": "stderr",
     "output_type": "stream",
     "text": [
      "\r",
      " 21% (69120000.0 of 315360000.0) |#      | Elapsed Time: 5:08:44 ETA:  17:49:43"
     ]
    },
    {
     "name": "stderr",
     "output_type": "stream",
     "text": [
      "\r",
      " 22% (69552000.0 of 315360000.0) |#      | Elapsed Time: 5:10:38 ETA:  18:02:30"
     ]
    },
    {
     "name": "stderr",
     "output_type": "stream",
     "text": [
      "\r",
      " 22% (69984000.0 of 315360000.0) |#      | Elapsed Time: 5:12:31 ETA:  17:54:20"
     ]
    },
    {
     "name": "stderr",
     "output_type": "stream",
     "text": [
      "\r",
      " 22% (70416000.0 of 315360000.0) |#      | Elapsed Time: 5:14:24 ETA:  17:45:52"
     ]
    },
    {
     "name": "stderr",
     "output_type": "stream",
     "text": [
      "\r",
      " 22% (70848000.0 of 315360000.0) |#      | Elapsed Time: 5:16:16 ETA:  17:36:58"
     ]
    },
    {
     "name": "stderr",
     "output_type": "stream",
     "text": [
      "\r",
      " 22% (71280000.0 of 315360000.0) |#      | Elapsed Time: 5:18:08 ETA:  17:30:51"
     ]
    },
    {
     "name": "stderr",
     "output_type": "stream",
     "text": [
      "\r",
      " 22% (71712000.0 of 315360000.0) |#      | Elapsed Time: 5:19:59 ETA:  17:27:38"
     ]
    },
    {
     "name": "stderr",
     "output_type": "stream",
     "text": [
      "\r",
      " 22% (72144000.0 of 315360000.0) |#      | Elapsed Time: 5:21:53 ETA:  17:43:29"
     ]
    },
    {
     "name": "stderr",
     "output_type": "stream",
     "text": [
      "\r",
      " 23% (72576000.0 of 315360000.0) |#      | Elapsed Time: 5:23:46 ETA:  17:44:27"
     ]
    },
    {
     "name": "stderr",
     "output_type": "stream",
     "text": [
      "\r",
      " 23% (73008000.0 of 315360000.0) |#      | Elapsed Time: 5:25:39 ETA:  17:35:59"
     ]
    },
    {
     "name": "stderr",
     "output_type": "stream",
     "text": [
      "\r",
      " 23% (73440000.0 of 315360000.0) |#      | Elapsed Time: 5:27:32 ETA:  17:31:14"
     ]
    },
    {
     "name": "stderr",
     "output_type": "stream",
     "text": [
      "\r",
      " 23% (73872000.0 of 315360000.0) |#      | Elapsed Time: 5:29:25 ETA:  17:34:10"
     ]
    },
    {
     "name": "stderr",
     "output_type": "stream",
     "text": [
      "\r",
      " 23% (74304000.0 of 315360000.0) |#      | Elapsed Time: 5:31:17 ETA:  17:26:07"
     ]
    },
    {
     "name": "stderr",
     "output_type": "stream",
     "text": [
      "\r",
      " 23% (74736000.0 of 315360000.0) |#      | Elapsed Time: 5:33:09 ETA:  17:13:07"
     ]
    },
    {
     "name": "stderr",
     "output_type": "stream",
     "text": [
      "\r",
      " 23% (75168000.0 of 315360000.0) |#      | Elapsed Time: 5:35:02 ETA:  17:28:19"
     ]
    },
    {
     "name": "stderr",
     "output_type": "stream",
     "text": [
      "\r",
      " 23% (75600000.0 of 315360000.0) |#      | Elapsed Time: 5:36:54 ETA:  17:18:20"
     ]
    },
    {
     "name": "stderr",
     "output_type": "stream",
     "text": [
      "\r",
      " 24% (76032000.0 of 315360000.0) |#      | Elapsed Time: 5:38:46 ETA:  17:16:16"
     ]
    },
    {
     "name": "stderr",
     "output_type": "stream",
     "text": [
      "\r",
      " 24% (76464000.0 of 315360000.0) |#      | Elapsed Time: 5:40:38 ETA:  17:09:11"
     ]
    },
    {
     "name": "stderr",
     "output_type": "stream",
     "text": [
      "\r",
      " 24% (76896000.0 of 315360000.0) |#      | Elapsed Time: 5:42:31 ETA:  17:21:28"
     ]
    },
    {
     "name": "stderr",
     "output_type": "stream",
     "text": [
      "\r",
      " 24% (77328000.0 of 315360000.0) |#      | Elapsed Time: 5:44:23 ETA:  17:04:16"
     ]
    },
    {
     "name": "stderr",
     "output_type": "stream",
     "text": [
      "\r",
      " 24% (77760000.0 of 315360000.0) |#      | Elapsed Time: 5:46:14 ETA:  16:59:27"
     ]
    },
    {
     "name": "stderr",
     "output_type": "stream",
     "text": [
      "\r",
      " 24% (78192000.0 of 315360000.0) |#      | Elapsed Time: 5:48:05 ETA:  16:58:00"
     ]
    },
    {
     "name": "stderr",
     "output_type": "stream",
     "text": [
      "\r",
      " 24% (78624000.0 of 315360000.0) |#      | Elapsed Time: 5:49:57 ETA:  16:59:39"
     ]
    },
    {
     "name": "stderr",
     "output_type": "stream",
     "text": [
      "\r",
      " 25% (79056000.0 of 315360000.0) |#      | Elapsed Time: 5:51:49 ETA:  17:00:59"
     ]
    },
    {
     "name": "stderr",
     "output_type": "stream",
     "text": [
      "\r",
      " 25% (79488000.0 of 315360000.0) |#      | Elapsed Time: 5:53:40 ETA:  16:48:24"
     ]
    },
    {
     "name": "stderr",
     "output_type": "stream",
     "text": [
      "\r",
      " 25% (79920000.0 of 315360000.0) |#      | Elapsed Time: 5:55:32 ETA:  17:02:40"
     ]
    },
    {
     "name": "stderr",
     "output_type": "stream",
     "text": [
      "\r",
      " 25% (80352000.0 of 315360000.0) |#      | Elapsed Time: 5:57:23 ETA:  16:42:42"
     ]
    },
    {
     "name": "stderr",
     "output_type": "stream",
     "text": [
      "\r",
      " 25% (80784000.0 of 315360000.0) |#      | Elapsed Time: 5:59:14 ETA:  16:47:45"
     ]
    },
    {
     "name": "stderr",
     "output_type": "stream",
     "text": [
      "\r",
      " 25% (81216000.0 of 315360000.0) |#      | Elapsed Time: 6:01:06 ETA:  16:48:22"
     ]
    },
    {
     "name": "stderr",
     "output_type": "stream",
     "text": [
      "\r",
      " 25% (81648000.0 of 315360000.0) |#      | Elapsed Time: 6:02:57 ETA:  16:42:41"
     ]
    },
    {
     "name": "stderr",
     "output_type": "stream",
     "text": [
      "\r",
      " 26% (82080000.0 of 315360000.0) |#      | Elapsed Time: 6:04:47 ETA:  16:32:41"
     ]
    },
    {
     "name": "stderr",
     "output_type": "stream",
     "text": [
      "\r",
      " 26% (82512000.0 of 315360000.0) |#      | Elapsed Time: 6:06:37 ETA:  16:29:05"
     ]
    },
    {
     "name": "stderr",
     "output_type": "stream",
     "text": [
      "\r",
      " 26% (82944000.0 of 315360000.0) |#      | Elapsed Time: 6:08:29 ETA:  16:44:20"
     ]
    },
    {
     "name": "stderr",
     "output_type": "stream",
     "text": [
      "\r",
      " 26% (83376000.0 of 315360000.0) |#      | Elapsed Time: 6:10:20 ETA:  16:31:27"
     ]
    },
    {
     "name": "stderr",
     "output_type": "stream",
     "text": [
      "\r",
      " 26% (83808000.0 of 315360000.0) |#      | Elapsed Time: 6:12:11 ETA:  16:28:51"
     ]
    },
    {
     "name": "stderr",
     "output_type": "stream",
     "text": [
      "\r",
      " 26% (84240000.0 of 315360000.0) |#      | Elapsed Time: 6:14:02 ETA:  16:30:58"
     ]
    },
    {
     "name": "stderr",
     "output_type": "stream",
     "text": [
      "\r",
      " 26% (84672000.0 of 315360000.0) |#      | Elapsed Time: 6:15:52 ETA:  16:19:09"
     ]
    },
    {
     "name": "stderr",
     "output_type": "stream",
     "text": [
      "\r",
      " 26% (85104000.0 of 315360000.0) |#      | Elapsed Time: 6:17:44 ETA:  16:33:44"
     ]
    },
    {
     "name": "stderr",
     "output_type": "stream",
     "text": [
      "\r",
      " 27% (85536000.0 of 315360000.0) |#      | Elapsed Time: 6:19:34 ETA:  16:17:20"
     ]
    },
    {
     "name": "stderr",
     "output_type": "stream",
     "text": [
      "\r",
      " 27% (85968000.0 of 315360000.0) |#      | Elapsed Time: 6:21:23 ETA:  16:03:01"
     ]
    },
    {
     "name": "stderr",
     "output_type": "stream",
     "text": [
      "\r",
      " 27% (86400000.0 of 315360000.0) |#      | Elapsed Time: 6:23:15 ETA:  16:27:00"
     ]
    },
    {
     "name": "stderr",
     "output_type": "stream",
     "text": [
      "\r",
      " 27% (86832000.0 of 315360000.0) |#      | Elapsed Time: 6:25:05 ETA:  16:14:03"
     ]
    },
    {
     "name": "stderr",
     "output_type": "stream",
     "text": [
      "\r",
      " 27% (87264000.0 of 315360000.0) |#      | Elapsed Time: 6:26:56 ETA:  16:11:12"
     ]
    },
    {
     "name": "stderr",
     "output_type": "stream",
     "text": [
      "\r",
      " 27% (87696000.0 of 315360000.0) |#      | Elapsed Time: 6:28:46 ETA:  16:06:56"
     ]
    },
    {
     "name": "stderr",
     "output_type": "stream",
     "text": [
      "\r",
      " 27% (88128000.0 of 315360000.0) |#      | Elapsed Time: 6:30:36 ETA:  16:07:36"
     ]
    },
    {
     "name": "stderr",
     "output_type": "stream",
     "text": [
      "\r",
      " 28% (88560000.0 of 315360000.0) |#      | Elapsed Time: 6:32:25 ETA:  15:54:27"
     ]
    },
    {
     "name": "stderr",
     "output_type": "stream",
     "text": [
      "\r",
      " 28% (88992000.0 of 315360000.0) |#      | Elapsed Time: 6:34:15 ETA:  16:03:05"
     ]
    },
    {
     "name": "stderr",
     "output_type": "stream",
     "text": [
      "\r",
      " 28% (89424000.0 of 315360000.0) |#      | Elapsed Time: 6:36:06 ETA:  16:02:46"
     ]
    },
    {
     "name": "stderr",
     "output_type": "stream",
     "text": [
      "\r",
      " 28% (89856000.0 of 315360000.0) |#      | Elapsed Time: 6:37:57 ETA:  16:04:49"
     ]
    },
    {
     "name": "stderr",
     "output_type": "stream",
     "text": [
      "\r",
      " 28% (90288000.0 of 315360000.0) |##     | Elapsed Time: 6:39:46 ETA:  15:47:44"
     ]
    },
    {
     "name": "stderr",
     "output_type": "stream",
     "text": [
      "\r",
      " 28% (90720000.0 of 315360000.0) |##     | Elapsed Time: 6:41:36 ETA:  15:56:41"
     ]
    },
    {
     "name": "stderr",
     "output_type": "stream",
     "text": [
      "\r",
      " 28% (91152000.0 of 315360000.0) |##     | Elapsed Time: 6:43:25 ETA:  15:43:56"
     ]
    },
    {
     "name": "stderr",
     "output_type": "stream",
     "text": [
      "\r",
      " 29% (91584000.0 of 315360000.0) |##     | Elapsed Time: 6:45:15 ETA:  15:43:20"
     ]
    },
    {
     "name": "stderr",
     "output_type": "stream",
     "text": [
      "\r",
      " 29% (92016000.0 of 315360000.0) |##     | Elapsed Time: 6:47:04 ETA:  15:43:14"
     ]
    },
    {
     "name": "stderr",
     "output_type": "stream",
     "text": [
      "\r",
      " 29% (92448000.0 of 315360000.0) |##     | Elapsed Time: 6:48:53 ETA:  15:35:02"
     ]
    },
    {
     "name": "stderr",
     "output_type": "stream",
     "text": [
      "\r",
      " 29% (92880000.0 of 315360000.0) |##     | Elapsed Time: 6:50:42 ETA:  15:38:06"
     ]
    },
    {
     "name": "stderr",
     "output_type": "stream",
     "text": [
      "\r",
      " 29% (93312000.0 of 315360000.0) |##     | Elapsed Time: 6:52:31 ETA:  15:31:09"
     ]
    },
    {
     "name": "stderr",
     "output_type": "stream",
     "text": [
      "\r",
      " 29% (93744000.0 of 315360000.0) |##     | Elapsed Time: 6:53:55 ETA:  12:00:20"
     ]
    },
    {
     "name": "stderr",
     "output_type": "stream",
     "text": [
      "\r",
      " 29% (93787200.0 of 315360000.0) || Elapsed Time: 6:54:32 ETA:  2 days, 4:39:39"
     ]
    },
    {
     "name": "stderr",
     "output_type": "stream",
     "text": [
      "\r",
      " 29% (94176000.0 of 315360000.0) |##     | Elapsed Time: 6:55:48 ETA:  12:04:43"
     ]
    },
    {
     "name": "stderr",
     "output_type": "stream",
     "text": [
      "\r",
      " 29% (94262400.0 of 315360000.0) | | Elapsed Time: 6:56:33 ETA:  1 day, 7:52:00"
     ]
    },
    {
     "name": "stderr",
     "output_type": "stream",
     "text": [
      "\r",
      " 30% (94608000.0 of 315360000.0) |##     | Elapsed Time: 6:57:42 ETA:  12:08:13"
     ]
    },
    {
     "name": "stderr",
     "output_type": "stream",
     "text": [
      "\r",
      " 30% (94694400.0 of 315360000.0) | | Elapsed Time: 6:58:28 ETA:  1 day, 8:40:51"
     ]
    },
    {
     "name": "stderr",
     "output_type": "stream",
     "text": [
      "\r",
      " 30% (95040000.0 of 315360000.0) |##     | Elapsed Time: 6:59:36 ETA:  12:03:35"
     ]
    },
    {
     "name": "stderr",
     "output_type": "stream",
     "text": [
      "\r",
      " 30% (95126400.0 of 315360000.0) | | Elapsed Time: 7:00:21 ETA:  1 day, 7:55:16"
     ]
    },
    {
     "name": "stderr",
     "output_type": "stream",
     "text": [
      "\r",
      " 30% (95472000.0 of 315360000.0) |##     | Elapsed Time: 7:01:29 ETA:  12:03:29"
     ]
    },
    {
     "name": "stderr",
     "output_type": "stream",
     "text": [
      "\r",
      " 30% (95558400.0 of 315360000.0) | | Elapsed Time: 7:02:16 ETA:  1 day, 8:54:45"
     ]
    },
    {
     "name": "stderr",
     "output_type": "stream",
     "text": [
      "\r",
      " 30% (95904000.0 of 315360000.0) |##     | Elapsed Time: 7:03:24 ETA:  12:00:57"
     ]
    },
    {
     "name": "stderr",
     "output_type": "stream",
     "text": [
      "\r",
      " 30% (95990400.0 of 315360000.0) | | Elapsed Time: 7:04:09 ETA:  1 day, 7:55:42"
     ]
    },
    {
     "name": "stderr",
     "output_type": "stream",
     "text": [
      "\r",
      " 30% (96336000.0 of 315360000.0) |##     | Elapsed Time: 7:05:17 ETA:  11:59:34"
     ]
    },
    {
     "name": "stderr",
     "output_type": "stream",
     "text": [
      "\r",
      " 30% (96422400.0 of 315360000.0) | | Elapsed Time: 7:06:02 ETA:  1 day, 7:43:04"
     ]
    },
    {
     "name": "stderr",
     "output_type": "stream",
     "text": [
      "\r",
      " 30% (96768000.0 of 315360000.0) |##     | Elapsed Time: 7:07:10 ETA:  11:55:34"
     ]
    },
    {
     "name": "stderr",
     "output_type": "stream",
     "text": [
      "\r",
      " 30% (96854400.0 of 315360000.0) | | Elapsed Time: 7:07:56 ETA:  1 day, 8:22:26"
     ]
    },
    {
     "name": "stderr",
     "output_type": "stream",
     "text": [
      "\r",
      " 30% (97200000.0 of 315360000.0) |##     | Elapsed Time: 7:09:04 ETA:  11:55:07"
     ]
    },
    {
     "name": "stderr",
     "output_type": "stream",
     "text": [
      "\r",
      " 30% (97286400.0 of 315360000.0) | | Elapsed Time: 7:09:51 ETA:  1 day, 8:41:01"
     ]
    },
    {
     "name": "stderr",
     "output_type": "stream",
     "text": [
      "\r",
      " 30% (97632000.0 of 315360000.0) |##     | Elapsed Time: 7:10:59 ETA:  11:54:11"
     ]
    },
    {
     "name": "stderr",
     "output_type": "stream",
     "text": [
      "\r",
      " 30% (97718400.0 of 315360000.0) | | Elapsed Time: 7:11:45 ETA:  1 day, 8:35:24"
     ]
    },
    {
     "name": "stderr",
     "output_type": "stream",
     "text": [
      "\r",
      " 31% (98064000.0 of 315360000.0) |##     | Elapsed Time: 7:12:54 ETA:  11:53:08"
     ]
    },
    {
     "name": "stderr",
     "output_type": "stream",
     "text": [
      "\r",
      " 31% (98150400.0 of 315360000.0) | | Elapsed Time: 7:13:40 ETA:  1 day, 8:20:28"
     ]
    },
    {
     "name": "stderr",
     "output_type": "stream",
     "text": [
      "\r",
      " 31% (98496000.0 of 315360000.0) |##     | Elapsed Time: 7:14:48 ETA:  11:56:04"
     ]
    },
    {
     "name": "stderr",
     "output_type": "stream",
     "text": [
      "\r",
      " 31% (98582400.0 of 315360000.0) | | Elapsed Time: 7:15:35 ETA:  1 day, 8:18:42"
     ]
    },
    {
     "name": "stderr",
     "output_type": "stream",
     "text": [
      "\r",
      " 31% (98928000.0 of 315360000.0) |##     | Elapsed Time: 7:16:42 ETA:  11:47:11"
     ]
    },
    {
     "name": "stderr",
     "output_type": "stream",
     "text": [
      "\r",
      " 31% (99014400.0 of 315360000.0) | | Elapsed Time: 7:17:27 ETA:  1 day, 7:13:34"
     ]
    },
    {
     "name": "stderr",
     "output_type": "stream",
     "text": [
      "\r",
      " 31% (99360000.0 of 315360000.0) |##     | Elapsed Time: 7:18:35 ETA:  11:50:00"
     ]
    },
    {
     "name": "stderr",
     "output_type": "stream",
     "text": [
      "\r",
      " 31% (99446400.0 of 315360000.0) | | Elapsed Time: 7:19:21 ETA:  1 day, 7:55:52"
     ]
    },
    {
     "name": "stderr",
     "output_type": "stream",
     "text": [
      "\r",
      " 31% (99792000.0 of 315360000.0) |##     | Elapsed Time: 7:20:29 ETA:  11:43:44"
     ]
    },
    {
     "name": "stderr",
     "output_type": "stream",
     "text": [
      "\r",
      " 31% (99878400.0 of 315360000.0) | | Elapsed Time: 7:21:15 ETA:  1 day, 7:39:35"
     ]
    },
    {
     "name": "stderr",
     "output_type": "stream",
     "text": [
      "\r",
      " 31% (100224000.0 of 315360000.0) |#     | Elapsed Time: 7:22:23 ETA:  11:44:34"
     ]
    },
    {
     "name": "stderr",
     "output_type": "stream",
     "text": [
      "\r",
      " 31% (100310400.0 of 315360000.0) || Elapsed Time: 7:23:08 ETA:  1 day, 7:01:42"
     ]
    },
    {
     "name": "stderr",
     "output_type": "stream",
     "text": [
      "\r",
      " 31% (100656000.0 of 315360000.0) |#     | Elapsed Time: 7:24:15 ETA:  11:42:20"
     ]
    },
    {
     "name": "stderr",
     "output_type": "stream",
     "text": [
      "\r",
      " 31% (100742400.0 of 315360000.0) || Elapsed Time: 7:25:01 ETA:  1 day, 7:17:20"
     ]
    },
    {
     "name": "stderr",
     "output_type": "stream",
     "text": [
      "\r",
      " 32% (101088000.0 of 315360000.0) |#     | Elapsed Time: 7:26:08 ETA:  11:35:53"
     ]
    },
    {
     "name": "stderr",
     "output_type": "stream",
     "text": [
      "\r",
      " 32% (101174400.0 of 315360000.0) || Elapsed Time: 7:26:53 ETA:  1 day, 7:03:46"
     ]
    },
    {
     "name": "stderr",
     "output_type": "stream",
     "text": [
      "\r",
      " 32% (101520000.0 of 315360000.0) |#     | Elapsed Time: 7:28:01 ETA:  11:37:18"
     ]
    },
    {
     "name": "stderr",
     "output_type": "stream",
     "text": [
      "\r",
      " 32% (101606400.0 of 315360000.0) || Elapsed Time: 7:28:46 ETA:  1 day, 7:15:24"
     ]
    },
    {
     "name": "stderr",
     "output_type": "stream",
     "text": [
      "\r",
      " 32% (101952000.0 of 315360000.0) |#     | Elapsed Time: 7:29:54 ETA:  11:33:53"
     ]
    },
    {
     "name": "stderr",
     "output_type": "stream",
     "text": [
      "\r",
      " 32% (102038400.0 of 315360000.0) || Elapsed Time: 7:30:40 ETA:  1 day, 7:59:17"
     ]
    },
    {
     "name": "stderr",
     "output_type": "stream",
     "text": [
      "\r",
      " 32% (102384000.0 of 315360000.0) |#     | Elapsed Time: 7:31:48 ETA:  11:36:19"
     ]
    },
    {
     "name": "stderr",
     "output_type": "stream",
     "text": [
      "\r",
      " 32% (102470400.0 of 315360000.0) || Elapsed Time: 7:32:33 ETA:  1 day, 6:54:43"
     ]
    },
    {
     "name": "stderr",
     "output_type": "stream",
     "text": [
      "\r",
      " 32% (102816000.0 of 315360000.0) |#     | Elapsed Time: 7:33:41 ETA:  11:35:15"
     ]
    },
    {
     "name": "stderr",
     "output_type": "stream",
     "text": [
      "\r",
      " 32% (102902400.0 of 315360000.0) || Elapsed Time: 7:34:28 ETA:  1 day, 7:37:48"
     ]
    },
    {
     "name": "stderr",
     "output_type": "stream",
     "text": [
      "\r",
      " 32% (103248000.0 of 315360000.0) |#     | Elapsed Time: 7:35:35 ETA:  11:28:15"
     ]
    },
    {
     "name": "stderr",
     "output_type": "stream",
     "text": [
      "\r",
      " 32% (103334400.0 of 315360000.0) || Elapsed Time: 7:36:20 ETA:  1 day, 7:04:03"
     ]
    },
    {
     "name": "stderr",
     "output_type": "stream",
     "text": [
      "\r",
      " 32% (103680000.0 of 315360000.0) |#     | Elapsed Time: 7:37:28 ETA:  11:25:10"
     ]
    },
    {
     "name": "stderr",
     "output_type": "stream",
     "text": [
      "\r",
      " 32% (103766400.0 of 315360000.0) || Elapsed Time: 7:38:14 ETA:  1 day, 7:27:34"
     ]
    },
    {
     "name": "stderr",
     "output_type": "stream",
     "text": [
      "\r",
      " 33% (104112000.0 of 315360000.0) |#     | Elapsed Time: 7:39:21 ETA:  11:29:02"
     ]
    },
    {
     "name": "stderr",
     "output_type": "stream",
     "text": [
      "\r",
      " 33% (104198400.0 of 315360000.0) || Elapsed Time: 7:40:07 ETA:  1 day, 7:02:23"
     ]
    },
    {
     "name": "stderr",
     "output_type": "stream",
     "text": [
      "\r",
      " 33% (104544000.0 of 315360000.0) |#     | Elapsed Time: 7:41:14 ETA:  11:19:58"
     ]
    },
    {
     "name": "stderr",
     "output_type": "stream",
     "text": [
      "\r",
      " 33% (104630400.0 of 315360000.0) || Elapsed Time: 7:42:00 ETA:  1 day, 6:54:40"
     ]
    },
    {
     "name": "stderr",
     "output_type": "stream",
     "text": [
      "\r",
      " 33% (104976000.0 of 315360000.0) |#     | Elapsed Time: 7:43:07 ETA:  11:28:16"
     ]
    },
    {
     "name": "stderr",
     "output_type": "stream",
     "text": [
      "\r",
      " 33% (105062400.0 of 315360000.0) || Elapsed Time: 7:43:53 ETA:  1 day, 7:06:44"
     ]
    },
    {
     "name": "stderr",
     "output_type": "stream",
     "text": [
      "\r",
      " 33% (105408000.0 of 315360000.0) |##    | Elapsed Time: 7:45:00 ETA:  11:15:09"
     ]
    },
    {
     "name": "stderr",
     "output_type": "stream",
     "text": [
      "\r",
      " 33% (105494400.0 of 315360000.0) || Elapsed Time: 7:45:47 ETA:  1 day, 7:23:25"
     ]
    },
    {
     "name": "stderr",
     "output_type": "stream",
     "text": [
      "\r",
      " 33% (105840000.0 of 315360000.0) |##    | Elapsed Time: 7:46:54 ETA:  11:15:27"
     ]
    },
    {
     "name": "stderr",
     "output_type": "stream",
     "text": [
      "\r",
      " 33% (105926400.0 of 315360000.0) || Elapsed Time: 7:47:40 ETA:  1 day, 7:24:11"
     ]
    },
    {
     "name": "stderr",
     "output_type": "stream",
     "text": [
      "\r",
      " 33% (106272000.0 of 315360000.0) |##    | Elapsed Time: 7:48:48 ETA:  11:23:26"
     ]
    },
    {
     "name": "stderr",
     "output_type": "stream",
     "text": [
      "\r",
      " 33% (106358400.0 of 315360000.0) || Elapsed Time: 7:49:33 ETA:  1 day, 6:10:40"
     ]
    },
    {
     "name": "stderr",
     "output_type": "stream",
     "text": [
      "\r",
      " 33% (106704000.0 of 315360000.0) |##    | Elapsed Time: 7:50:40 ETA:  11:11:19"
     ]
    },
    {
     "name": "stderr",
     "output_type": "stream",
     "text": [
      "\r",
      " 33% (106790400.0 of 315360000.0) || Elapsed Time: 7:51:25 ETA:  1 day, 6:23:01"
     ]
    },
    {
     "name": "stderr",
     "output_type": "stream",
     "text": [
      "\r",
      " 33% (107136000.0 of 315360000.0) |##    | Elapsed Time: 7:52:32 ETA:  11:10:42"
     ]
    },
    {
     "name": "stderr",
     "output_type": "stream",
     "text": [
      "\r",
      " 34% (107222400.0 of 315360000.0) || Elapsed Time: 7:53:17 ETA:  1 day, 6:08:36"
     ]
    },
    {
     "name": "stderr",
     "output_type": "stream",
     "text": [
      "\r",
      " 34% (107568000.0 of 315360000.0) |##    | Elapsed Time: 7:54:23 ETA:  11:07:54"
     ]
    },
    {
     "name": "stderr",
     "output_type": "stream",
     "text": [
      "\r",
      " 34% (107654400.0 of 315360000.0) || Elapsed Time: 7:55:08 ETA:  1 day, 5:51:16"
     ]
    },
    {
     "name": "stderr",
     "output_type": "stream",
     "text": [
      "\r",
      " 34% (108000000.0 of 315360000.0) |##    | Elapsed Time: 7:56:15 ETA:  11:05:56"
     ]
    },
    {
     "name": "stderr",
     "output_type": "stream",
     "text": [
      "\r",
      " 34% (108086400.0 of 315360000.0) || Elapsed Time: 7:57:00 ETA:  1 day, 6:09:50"
     ]
    },
    {
     "name": "stderr",
     "output_type": "stream",
     "text": [
      "\r",
      " 34% (108432000.0 of 315360000.0) |##    | Elapsed Time: 7:58:07 ETA:  11:10:55"
     ]
    },
    {
     "name": "stderr",
     "output_type": "stream",
     "text": [
      "\r",
      " 34% (108518400.0 of 315360000.0) || Elapsed Time: 7:58:53 ETA:  1 day, 6:19:45"
     ]
    },
    {
     "name": "stderr",
     "output_type": "stream",
     "text": [
      "\r",
      " 34% (108864000.0 of 315360000.0) |##    | Elapsed Time: 7:59:59 ETA:  11:01:59"
     ]
    },
    {
     "name": "stderr",
     "output_type": "stream",
     "text": [
      "\r",
      " 34% (108950400.0 of 315360000.0) || Elapsed Time: 8:00:45 ETA:  1 day, 6:38:21"
     ]
    },
    {
     "name": "stderr",
     "output_type": "stream",
     "text": [
      "\r",
      " 34% (109296000.0 of 315360000.0) |##    | Elapsed Time: 8:01:52 ETA:  11:03:42"
     ]
    },
    {
     "name": "stderr",
     "output_type": "stream",
     "text": [
      "\r",
      " 34% (109382400.0 of 315360000.0) || Elapsed Time: 8:02:38 ETA:  1 day, 6:16:12"
     ]
    },
    {
     "name": "stderr",
     "output_type": "stream",
     "text": [
      "\r",
      " 34% (109728000.0 of 315360000.0) |##    | Elapsed Time: 8:03:44 ETA:  10:58:53"
     ]
    },
    {
     "name": "stderr",
     "output_type": "stream",
     "text": [
      "\r",
      " 34% (109814400.0 of 315360000.0) || Elapsed Time: 8:04:30 ETA:  1 day, 6:15:42"
     ]
    },
    {
     "name": "stderr",
     "output_type": "stream",
     "text": [
      "\r",
      " 34% (110160000.0 of 315360000.0) |##    | Elapsed Time: 8:05:37 ETA:  10:56:41"
     ]
    },
    {
     "name": "stderr",
     "output_type": "stream",
     "text": [
      "\r",
      " 34% (110246400.0 of 315360000.0) || Elapsed Time: 8:06:21 ETA:  1 day, 5:12:21"
     ]
    },
    {
     "name": "stderr",
     "output_type": "stream",
     "text": [
      "\r",
      " 35% (110592000.0 of 315360000.0) |##    | Elapsed Time: 8:07:27 ETA:  10:56:34"
     ]
    },
    {
     "name": "stderr",
     "output_type": "stream",
     "text": [
      "\r",
      " 35% (110678400.0 of 315360000.0) || Elapsed Time: 8:08:13 ETA:  1 day, 6:12:27"
     ]
    },
    {
     "name": "stderr",
     "output_type": "stream",
     "text": [
      "\r",
      " 35% (111024000.0 of 315360000.0) |##    | Elapsed Time: 8:09:20 ETA:  10:56:41"
     ]
    },
    {
     "name": "stderr",
     "output_type": "stream",
     "text": [
      "\r",
      " 35% (111110400.0 of 315360000.0) || Elapsed Time: 8:10:05 ETA:  1 day, 5:45:36"
     ]
    },
    {
     "name": "stderr",
     "output_type": "stream",
     "text": [
      "\r",
      " 35% (111456000.0 of 315360000.0) |##    | Elapsed Time: 8:11:11 ETA:  10:47:56"
     ]
    },
    {
     "name": "stderr",
     "output_type": "stream",
     "text": [
      "\r",
      " 35% (111542400.0 of 315360000.0) || Elapsed Time: 8:11:57 ETA:  1 day, 6:03:46"
     ]
    },
    {
     "name": "stderr",
     "output_type": "stream",
     "text": [
      "\r",
      " 35% (111888000.0 of 315360000.0) |##    | Elapsed Time: 8:13:03 ETA:  10:47:06"
     ]
    },
    {
     "name": "stderr",
     "output_type": "stream",
     "text": [
      "\r",
      " 35% (111974400.0 of 315360000.0) || Elapsed Time: 8:13:49 ETA:  1 day, 6:10:33"
     ]
    },
    {
     "name": "stderr",
     "output_type": "stream",
     "text": [
      "\r",
      " 35% (112320000.0 of 315360000.0) |##    | Elapsed Time: 8:14:55 ETA:  10:44:18"
     ]
    },
    {
     "name": "stderr",
     "output_type": "stream",
     "text": [
      "\r",
      " 35% (112406400.0 of 315360000.0) || Elapsed Time: 8:15:41 ETA:  1 day, 6:14:14"
     ]
    },
    {
     "name": "stderr",
     "output_type": "stream",
     "text": [
      "\r",
      " 35% (112752000.0 of 315360000.0) |##    | Elapsed Time: 8:16:47 ETA:  10:41:39"
     ]
    },
    {
     "name": "stderr",
     "output_type": "stream",
     "text": [
      "\r",
      " 35% (112838400.0 of 315360000.0) || Elapsed Time: 8:17:31 ETA:  1 day, 4:49:45"
     ]
    },
    {
     "name": "stderr",
     "output_type": "stream",
     "text": [
      "\r",
      " 35% (113184000.0 of 315360000.0) |##    | Elapsed Time: 8:18:38 ETA:  10:50:05"
     ]
    },
    {
     "name": "stderr",
     "output_type": "stream",
     "text": [
      "\r",
      " 35% (113270400.0 of 315360000.0) || Elapsed Time: 8:19:25 ETA:  1 day, 6:39:01"
     ]
    },
    {
     "name": "stderr",
     "output_type": "stream",
     "text": [
      "\r",
      " 36% (113616000.0 of 315360000.0) |##    | Elapsed Time: 8:20:31 ETA:  10:40:52"
     ]
    },
    {
     "name": "stderr",
     "output_type": "stream",
     "text": [
      "\r",
      " 36% (113702400.0 of 315360000.0) || Elapsed Time: 8:21:16 ETA:  1 day, 5:16:55"
     ]
    },
    {
     "name": "stderr",
     "output_type": "stream",
     "text": [
      "\r",
      " 36% (114048000.0 of 315360000.0) |##    | Elapsed Time: 8:22:22 ETA:  10:38:07"
     ]
    },
    {
     "name": "stderr",
     "output_type": "stream",
     "text": [
      "\r",
      " 36% (114134400.0 of 315360000.0) || Elapsed Time: 8:23:06 ETA:  1 day, 4:47:40"
     ]
    },
    {
     "name": "stderr",
     "output_type": "stream",
     "text": [
      "\r",
      " 36% (114480000.0 of 315360000.0) |##    | Elapsed Time: 8:24:12 ETA:  10:38:08"
     ]
    },
    {
     "name": "stderr",
     "output_type": "stream",
     "text": [
      "\r",
      " 36% (114566400.0 of 315360000.0) || Elapsed Time: 8:24:56 ETA:  1 day, 4:21:13"
     ]
    },
    {
     "name": "stderr",
     "output_type": "stream",
     "text": [
      "\r",
      " 36% (114912000.0 of 315360000.0) |##    | Elapsed Time: 8:26:01 ETA:  10:32:01"
     ]
    },
    {
     "name": "stderr",
     "output_type": "stream",
     "text": [
      "\r",
      " 36% (114998400.0 of 315360000.0) || Elapsed Time: 8:26:47 ETA:  1 day, 5:13:21"
     ]
    },
    {
     "name": "stderr",
     "output_type": "stream",
     "text": [
      "\r",
      " 36% (115344000.0 of 315360000.0) |##    | Elapsed Time: 8:27:53 ETA:  10:39:25"
     ]
    },
    {
     "name": "stderr",
     "output_type": "stream",
     "text": [
      "\r",
      " 36% (115430400.0 of 315360000.0) || Elapsed Time: 8:28:38 ETA:  1 day, 4:33:57"
     ]
    },
    {
     "name": "stderr",
     "output_type": "stream",
     "text": [
      "\r",
      " 36% (115776000.0 of 315360000.0) |##    | Elapsed Time: 8:29:43 ETA:  10:30:31"
     ]
    },
    {
     "name": "stderr",
     "output_type": "stream",
     "text": [
      "\r",
      " 36% (115862400.0 of 315360000.0) || Elapsed Time: 8:30:29 ETA:  1 day, 5:13:16"
     ]
    },
    {
     "name": "stderr",
     "output_type": "stream",
     "text": [
      "\r",
      " 36% (116208000.0 of 315360000.0) |##    | Elapsed Time: 8:31:34 ETA:  10:28:55"
     ]
    },
    {
     "name": "stderr",
     "output_type": "stream",
     "text": [
      "\r",
      " 36% (116294400.0 of 315360000.0) || Elapsed Time: 8:32:19 ETA:  1 day, 4:41:28"
     ]
    },
    {
     "name": "stderr",
     "output_type": "stream",
     "text": [
      "\r",
      " 36% (116640000.0 of 315360000.0) |##    | Elapsed Time: 8:33:24 ETA:  10:27:38"
     ]
    },
    {
     "name": "stderr",
     "output_type": "stream",
     "text": [
      "\r",
      " 37% (116726400.0 of 315360000.0) || Elapsed Time: 8:34:10 ETA:  1 day, 5:09:14"
     ]
    },
    {
     "name": "stderr",
     "output_type": "stream",
     "text": [
      "\r",
      " 37% (117072000.0 of 315360000.0) |##    | Elapsed Time: 8:35:15 ETA:  10:25:24"
     ]
    },
    {
     "name": "stderr",
     "output_type": "stream",
     "text": [
      "\r",
      " 37% (117158400.0 of 315360000.0) || Elapsed Time: 8:36:01 ETA:  1 day, 5:13:31"
     ]
    },
    {
     "name": "stderr",
     "output_type": "stream",
     "text": [
      "\r",
      " 37% (117504000.0 of 315360000.0) |##    | Elapsed Time: 8:37:07 ETA:  10:23:58"
     ]
    },
    {
     "name": "stderr",
     "output_type": "stream",
     "text": [
      "\r",
      " 37% (117590400.0 of 315360000.0) || Elapsed Time: 8:37:50 ETA:  1 day, 3:46:20"
     ]
    },
    {
     "name": "stderr",
     "output_type": "stream",
     "text": [
      "\r",
      " 37% (117936000.0 of 315360000.0) |##    | Elapsed Time: 8:38:56 ETA:  10:24:19"
     ]
    },
    {
     "name": "stderr",
     "output_type": "stream",
     "text": [
      "\r",
      " 37% (118022400.0 of 315360000.0) || Elapsed Time: 8:39:41 ETA:  1 day, 4:48:14"
     ]
    },
    {
     "name": "stderr",
     "output_type": "stream",
     "text": [
      "\r",
      " 37% (118368000.0 of 315360000.0) |##    | Elapsed Time: 8:40:47 ETA:  10:24:53"
     ]
    },
    {
     "name": "stderr",
     "output_type": "stream",
     "text": [
      "\r",
      " 37% (118454400.0 of 315360000.0) || Elapsed Time: 8:41:32 ETA:  1 day, 4:29:09"
     ]
    },
    {
     "name": "stderr",
     "output_type": "stream",
     "text": [
      "\r",
      " 37% (118800000.0 of 315360000.0) |##    | Elapsed Time: 8:42:38 ETA:  10:20:55"
     ]
    },
    {
     "name": "stderr",
     "output_type": "stream",
     "text": [
      "\r",
      " 37% (118886400.0 of 315360000.0) || Elapsed Time: 8:43:22 ETA:  1 day, 4:01:47"
     ]
    },
    {
     "name": "stderr",
     "output_type": "stream",
     "text": [
      "\r",
      " 37% (119232000.0 of 315360000.0) |##    | Elapsed Time: 8:44:27 ETA:  10:17:21"
     ]
    },
    {
     "name": "stderr",
     "output_type": "stream",
     "text": [
      "\r",
      " 37% (119318400.0 of 315360000.0) || Elapsed Time: 8:45:13 ETA:  1 day, 4:40:18"
     ]
    },
    {
     "name": "stderr",
     "output_type": "stream",
     "text": [
      "\r",
      " 37% (119664000.0 of 315360000.0) |##    | Elapsed Time: 8:46:18 ETA:  10:17:21"
     ]
    },
    {
     "name": "stderr",
     "output_type": "stream",
     "text": [
      "\r",
      " 37% (119750400.0 of 315360000.0) || Elapsed Time: 8:47:05 ETA:  1 day, 5:21:05"
     ]
    },
    {
     "name": "stderr",
     "output_type": "stream",
     "text": [
      "\r",
      " 38% (120096000.0 of 315360000.0) |##    | Elapsed Time: 8:48:10 ETA:  10:11:08"
     ]
    },
    {
     "name": "stderr",
     "output_type": "stream",
     "text": [
      "\r",
      " 38% (120182400.0 of 315360000.0) || Elapsed Time: 8:48:55 ETA:  1 day, 4:11:42"
     ]
    },
    {
     "name": "stderr",
     "output_type": "stream",
     "text": [
      "\r",
      " 38% (120528000.0 of 315360000.0) |##    | Elapsed Time: 8:50:00 ETA:  10:12:17"
     ]
    },
    {
     "name": "stderr",
     "output_type": "stream",
     "text": [
      "\r",
      " 38% (120614400.0 of 315360000.0) || Elapsed Time: 8:50:47 ETA:  1 day, 5:21:50"
     ]
    },
    {
     "name": "stderr",
     "output_type": "stream",
     "text": [
      "\r",
      " 38% (120960000.0 of 315360000.0) |##    | Elapsed Time: 8:51:52 ETA:  10:10:11"
     ]
    },
    {
     "name": "stderr",
     "output_type": "stream",
     "text": [
      "\r",
      " 38% (121046400.0 of 315360000.0) || Elapsed Time: 8:52:39 ETA:  1 day, 5:21:39"
     ]
    },
    {
     "name": "stderr",
     "output_type": "stream",
     "text": [
      "\r",
      " 38% (121392000.0 of 315360000.0) |##    | Elapsed Time: 8:53:44 ETA:  10:10:06"
     ]
    },
    {
     "name": "stderr",
     "output_type": "stream",
     "text": [
      "\r",
      " 38% (121478400.0 of 315360000.0) || Elapsed Time: 8:54:29 ETA:  1 day, 3:45:56"
     ]
    },
    {
     "name": "stderr",
     "output_type": "stream",
     "text": [
      "\r",
      " 38% (121824000.0 of 315360000.0) |##    | Elapsed Time: 8:55:34 ETA:  10:11:50"
     ]
    },
    {
     "name": "stderr",
     "output_type": "stream",
     "text": [
      "\r",
      " 38% (121910400.0 of 315360000.0) || Elapsed Time: 8:56:20 ETA:  1 day, 4:41:50"
     ]
    },
    {
     "name": "stderr",
     "output_type": "stream",
     "text": [
      "\r",
      " 38% (122256000.0 of 315360000.0) |##    | Elapsed Time: 8:57:25 ETA:  10:06:46"
     ]
    },
    {
     "name": "stderr",
     "output_type": "stream",
     "text": [
      "\r",
      " 38% (122342400.0 of 315360000.0) || Elapsed Time: 8:58:11 ETA:  1 day, 4:20:27"
     ]
    },
    {
     "name": "stderr",
     "output_type": "stream",
     "text": [
      "\r",
      " 38% (122688000.0 of 315360000.0) |##    | Elapsed Time: 8:59:17 ETA:  10:09:38"
     ]
    },
    {
     "name": "stderr",
     "output_type": "stream",
     "text": [
      "\r",
      " 38% (122774400.0 of 315360000.0) || Elapsed Time: 9:00:02 ETA:  1 day, 4:12:56"
     ]
    },
    {
     "name": "stderr",
     "output_type": "stream",
     "text": [
      "\r",
      " 39% (123120000.0 of 315360000.0) |##    | Elapsed Time: 9:01:08 ETA:  10:04:46"
     ]
    },
    {
     "name": "stderr",
     "output_type": "stream",
     "text": [
      "\r",
      " 39% (123206400.0 of 315360000.0) || Elapsed Time: 9:01:52 ETA:  1 day, 3:14:56"
     ]
    },
    {
     "name": "stderr",
     "output_type": "stream",
     "text": [
      "\r",
      " 39% (123552000.0 of 315360000.0) |##    | Elapsed Time: 9:02:56 ETA:   9:57:11"
     ]
    },
    {
     "name": "stderr",
     "output_type": "stream",
     "text": [
      "\r",
      " 39% (123638400.0 of 315360000.0) || Elapsed Time: 9:03:40 ETA:  1 day, 3:03:36"
     ]
    },
    {
     "name": "stderr",
     "output_type": "stream",
     "text": [
      "\r",
      " 39% (123984000.0 of 315360000.0) |##    | Elapsed Time: 9:04:45 ETA:   9:55:09"
     ]
    },
    {
     "name": "stderr",
     "output_type": "stream",
     "text": [
      "\r",
      " 39% (124070400.0 of 315360000.0) || Elapsed Time: 9:05:29 ETA:  1 day, 3:33:20"
     ]
    },
    {
     "name": "stderr",
     "output_type": "stream",
     "text": [
      "\r",
      " 39% (124416000.0 of 315360000.0) |##    | Elapsed Time: 9:06:34 ETA:   9:54:23"
     ]
    },
    {
     "name": "stderr",
     "output_type": "stream",
     "text": [
      "\r",
      " 39% (124502400.0 of 315360000.0) || Elapsed Time: 9:07:19 ETA:  1 day, 3:33:47"
     ]
    },
    {
     "name": "stderr",
     "output_type": "stream",
     "text": [
      "\r",
      " 39% (124848000.0 of 315360000.0) |##    | Elapsed Time: 9:08:24 ETA:   9:57:40"
     ]
    },
    {
     "name": "stderr",
     "output_type": "stream",
     "text": [
      "\r",
      " 39% (124934400.0 of 315360000.0) || Elapsed Time: 9:09:08 ETA:  1 day, 3:06:56"
     ]
    },
    {
     "name": "stderr",
     "output_type": "stream",
     "text": [
      "\r",
      " 39% (125280000.0 of 315360000.0) |##    | Elapsed Time: 9:10:13 ETA:   9:52:52"
     ]
    },
    {
     "name": "stderr",
     "output_type": "stream",
     "text": [
      "\r",
      " 39% (125366400.0 of 315360000.0) || Elapsed Time: 9:10:57 ETA:  1 day, 2:49:28"
     ]
    },
    {
     "name": "stderr",
     "output_type": "stream",
     "text": [
      "\r",
      " 39% (125712000.0 of 315360000.0) |##    | Elapsed Time: 9:12:01 ETA:   9:51:10"
     ]
    },
    {
     "name": "stderr",
     "output_type": "stream",
     "text": [
      "\r",
      " 39% (125798400.0 of 315360000.0) || Elapsed Time: 9:12:46 ETA:  1 day, 3:08:21"
     ]
    },
    {
     "name": "stderr",
     "output_type": "stream",
     "text": [
      "\r",
      " 40% (126144000.0 of 315360000.0) |##    | Elapsed Time: 9:13:50 ETA:   9:45:51"
     ]
    },
    {
     "name": "stderr",
     "output_type": "stream",
     "text": [
      "\r",
      " 40% (126230400.0 of 315360000.0) || Elapsed Time: 9:14:35 ETA:  1 day, 3:28:26"
     ]
    },
    {
     "name": "stderr",
     "output_type": "stream",
     "text": [
      "\r",
      " 40% (126576000.0 of 315360000.0) |##    | Elapsed Time: 9:15:40 ETA:   9:43:59"
     ]
    },
    {
     "name": "stderr",
     "output_type": "stream",
     "text": [
      "\r",
      " 40% (126662400.0 of 315360000.0) || Elapsed Time: 9:16:24 ETA:  1 day, 2:44:13"
     ]
    },
    {
     "name": "stderr",
     "output_type": "stream",
     "text": [
      "\r",
      " 40% (127008000.0 of 315360000.0) |##    | Elapsed Time: 9:17:28 ETA:   9:42:57"
     ]
    },
    {
     "name": "stderr",
     "output_type": "stream",
     "text": [
      "\r",
      " 40% (127094400.0 of 315360000.0) || Elapsed Time: 9:18:14 ETA:  1 day, 3:50:04"
     ]
    },
    {
     "name": "stderr",
     "output_type": "stream",
     "text": [
      "\r",
      " 40% (127440000.0 of 315360000.0) |##    | Elapsed Time: 9:19:19 ETA:   9:50:31"
     ]
    },
    {
     "name": "stderr",
     "output_type": "stream",
     "text": [
      "\r",
      " 40% (127526400.0 of 315360000.0) || Elapsed Time: 9:20:03 ETA:  1 day, 2:48:11"
     ]
    },
    {
     "name": "stderr",
     "output_type": "stream",
     "text": [
      "\r",
      " 40% (127872000.0 of 315360000.0) |##    | Elapsed Time: 9:21:08 ETA:   9:41:21"
     ]
    },
    {
     "name": "stderr",
     "output_type": "stream",
     "text": [
      "\r",
      " 40% (127958400.0 of 315360000.0) || Elapsed Time: 9:21:53 ETA:  1 day, 3:28:23"
     ]
    },
    {
     "name": "stderr",
     "output_type": "stream",
     "text": [
      "\r",
      " 40% (128304000.0 of 315360000.0) |##    | Elapsed Time: 9:22:57 ETA:   9:37:36"
     ]
    },
    {
     "name": "stderr",
     "output_type": "stream",
     "text": [
      "\r",
      " 40% (128390400.0 of 315360000.0) || Elapsed Time: 9:23:43 ETA:  1 day, 3:17:55"
     ]
    },
    {
     "name": "stderr",
     "output_type": "stream",
     "text": [
      "\r",
      " 40% (128736000.0 of 315360000.0) |##    | Elapsed Time: 9:24:47 ETA:   9:38:24"
     ]
    },
    {
     "name": "stderr",
     "output_type": "stream",
     "text": [
      "\r",
      " 40% (128822400.0 of 315360000.0) || Elapsed Time: 9:25:31 ETA:  1 day, 2:40:34"
     ]
    },
    {
     "name": "stderr",
     "output_type": "stream",
     "text": [
      "\r",
      " 40% (129168000.0 of 315360000.0) |##    | Elapsed Time: 9:26:36 ETA:   9:36:11"
     ]
    },
    {
     "name": "stderr",
     "output_type": "stream",
     "text": [
      "\r",
      " 40% (129254400.0 of 315360000.0) || Elapsed Time: 9:27:19 ETA:  1 day, 2:10:57"
     ]
    },
    {
     "name": "stderr",
     "output_type": "stream",
     "text": [
      "\r",
      " 41% (129600000.0 of 315360000.0) |##    | Elapsed Time: 9:28:23 ETA:   9:33:17"
     ]
    },
    {
     "name": "stderr",
     "output_type": "stream",
     "text": [
      "\r",
      " 41% (129686400.0 of 315360000.0) || Elapsed Time: 9:29:08 ETA:  1 day, 2:40:01"
     ]
    },
    {
     "name": "stderr",
     "output_type": "stream",
     "text": [
      "\r",
      " 41% (130032000.0 of 315360000.0) |##    | Elapsed Time: 9:30:12 ETA:   9:31:20"
     ]
    },
    {
     "name": "stderr",
     "output_type": "stream",
     "text": [
      "\r",
      " 41% (130118400.0 of 315360000.0) || Elapsed Time: 9:30:58 ETA:  1 day, 3:34:17"
     ]
    },
    {
     "name": "stderr",
     "output_type": "stream",
     "text": [
      "\r",
      " 41% (130464000.0 of 315360000.0) |##    | Elapsed Time: 9:32:03 ETA:   9:34:43"
     ]
    },
    {
     "name": "stderr",
     "output_type": "stream",
     "text": [
      "\r",
      " 41% (130550400.0 of 315360000.0) || Elapsed Time: 9:32:46 ETA:  1 day, 2:00:19"
     ]
    },
    {
     "name": "stderr",
     "output_type": "stream",
     "text": [
      "\r",
      " 41% (130896000.0 of 315360000.0) |##    | Elapsed Time: 9:33:50 ETA:   9:25:48"
     ]
    },
    {
     "name": "stderr",
     "output_type": "stream",
     "text": [
      "\r",
      " 41% (130982400.0 of 315360000.0) || Elapsed Time: 9:34:34 ETA:  1 day, 2:18:17"
     ]
    },
    {
     "name": "stderr",
     "output_type": "stream",
     "text": [
      "\r",
      " 41% (131328000.0 of 315360000.0) |##    | Elapsed Time: 9:35:38 ETA:   9:27:54"
     ]
    },
    {
     "name": "stderr",
     "output_type": "stream",
     "text": [
      "\r",
      " 41% (131414400.0 of 315360000.0) || Elapsed Time: 9:36:23 ETA:  1 day, 2:05:52"
     ]
    },
    {
     "name": "stderr",
     "output_type": "stream",
     "text": [
      "\r",
      " 41% (131760000.0 of 315360000.0) |##    | Elapsed Time: 9:37:27 ETA:   9:28:45"
     ]
    },
    {
     "name": "stderr",
     "output_type": "stream",
     "text": [
      "\r",
      " 41% (131846400.0 of 315360000.0) || Elapsed Time: 9:38:11 ETA:  1 day, 1:51:30"
     ]
    },
    {
     "name": "stderr",
     "output_type": "stream",
     "text": [
      "\r",
      " 41% (132192000.0 of 315360000.0) |##    | Elapsed Time: 9:39:14 ETA:   9:19:31"
     ]
    },
    {
     "name": "stderr",
     "output_type": "stream",
     "text": [
      "\r",
      " 41% (132278400.0 of 315360000.0) || Elapsed Time: 9:39:59 ETA:  1 day, 2:23:59"
     ]
    },
    {
     "name": "stderr",
     "output_type": "stream",
     "text": [
      "\r",
      " 42% (132624000.0 of 315360000.0) |##    | Elapsed Time: 9:41:02 ETA:   9:18:18"
     ]
    },
    {
     "name": "stderr",
     "output_type": "stream",
     "text": [
      "\r",
      " 42% (132710400.0 of 315360000.0) || Elapsed Time: 9:41:46 ETA:  1 day, 1:59:04"
     ]
    },
    {
     "name": "stderr",
     "output_type": "stream",
     "text": [
      "\r",
      " 42% (133056000.0 of 315360000.0) |##    | Elapsed Time: 9:42:50 ETA:   9:17:50"
     ]
    },
    {
     "name": "stderr",
     "output_type": "stream",
     "text": [
      "\r",
      " 42% (133142400.0 of 315360000.0) || Elapsed Time: 9:43:34 ETA:  1 day, 1:36:02"
     ]
    },
    {
     "name": "stderr",
     "output_type": "stream",
     "text": [
      "\r",
      " 42% (133488000.0 of 315360000.0) |##    | Elapsed Time: 9:44:37 ETA:   9:15:51"
     ]
    },
    {
     "name": "stderr",
     "output_type": "stream",
     "text": [
      "\r",
      " 42% (133574400.0 of 315360000.0) || Elapsed Time: 9:45:22 ETA:  1 day, 2:30:20"
     ]
    },
    {
     "name": "stderr",
     "output_type": "stream",
     "text": [
      "\r",
      " 42% (133920000.0 of 315360000.0) |##    | Elapsed Time: 9:46:25 ETA:   9:12:56"
     ]
    },
    {
     "name": "stderr",
     "output_type": "stream",
     "text": [
      "\r",
      " 42% (134006400.0 of 315360000.0) || Elapsed Time: 9:47:09 ETA:  1 day, 1:23:21"
     ]
    },
    {
     "name": "stderr",
     "output_type": "stream",
     "text": [
      "\r",
      " 42% (134352000.0 of 315360000.0) |##    | Elapsed Time: 9:48:12 ETA:   9:09:33"
     ]
    },
    {
     "name": "stderr",
     "output_type": "stream",
     "text": [
      "\r",
      " 42% (134438400.0 of 315360000.0) || Elapsed Time: 9:48:57 ETA:  1 day, 2:15:00"
     ]
    },
    {
     "name": "stderr",
     "output_type": "stream",
     "text": [
      "\r",
      " 42% (134784000.0 of 315360000.0) |##    | Elapsed Time: 9:50:00 ETA:   9:09:36"
     ]
    },
    {
     "name": "stderr",
     "output_type": "stream",
     "text": [
      "\r",
      " 42% (134870400.0 of 315360000.0) || Elapsed Time: 9:50:45 ETA:  1 day, 2:08:09"
     ]
    },
    {
     "name": "stderr",
     "output_type": "stream",
     "text": [
      "\r",
      " 42% (135216000.0 of 315360000.0) |##    | Elapsed Time: 9:51:48 ETA:   9:08:12"
     ]
    },
    {
     "name": "stderr",
     "output_type": "stream",
     "text": [
      "\r",
      " 42% (135302400.0 of 315360000.0) || Elapsed Time: 9:52:34 ETA:  1 day, 2:20:01"
     ]
    },
    {
     "name": "stderr",
     "output_type": "stream",
     "text": [
      "\r",
      " 43% (135648000.0 of 315360000.0) |##    | Elapsed Time: 9:53:37 ETA:   9:05:14"
     ]
    },
    {
     "name": "stderr",
     "output_type": "stream",
     "text": [
      "\r",
      " 43% (135734400.0 of 315360000.0) || Elapsed Time: 9:54:22 ETA:  1 day, 1:50:41"
     ]
    },
    {
     "name": "stderr",
     "output_type": "stream",
     "text": [
      "\r",
      " 43% (136080000.0 of 315360000.0) |##    | Elapsed Time: 9:55:25 ETA:   9:08:20"
     ]
    },
    {
     "name": "stderr",
     "output_type": "stream",
     "text": [
      "\r",
      " 43% (136166400.0 of 315360000.0) || Elapsed Time: 9:56:10 ETA:  1 day, 1:43:21"
     ]
    },
    {
     "name": "stderr",
     "output_type": "stream",
     "text": [
      "\r",
      " 43% (136512000.0 of 315360000.0) |##    | Elapsed Time: 9:57:13 ETA:   9:06:55"
     ]
    },
    {
     "name": "stderr",
     "output_type": "stream",
     "text": [
      "\r",
      " 43% (136598400.0 of 315360000.0) || Elapsed Time: 9:57:58 ETA:  1 day, 1:59:59"
     ]
    },
    {
     "name": "stderr",
     "output_type": "stream",
     "text": [
      "\r",
      " 43% (136944000.0 of 315360000.0) |##    | Elapsed Time: 9:59:01 ETA:   9:03:32"
     ]
    },
    {
     "name": "stderr",
     "output_type": "stream",
     "text": [
      "\r",
      " 43% (137030400.0 of 315360000.0) || Elapsed Time: 9:59:45 ETA:  1 day, 1:06:22"
     ]
    },
    {
     "name": "stderr",
     "output_type": "stream",
     "text": [
      "\r",
      " 43% (137376000.0 of 315360000.0) |##   | Elapsed Time: 10:00:48 ETA:   9:00:09"
     ]
    },
    {
     "name": "stderr",
     "output_type": "stream",
     "text": [
      "\r",
      " 43% (137462400.0 of 315360000.0) || Elapsed Time: 10:01:32 ETA:  1 day, 0:50:37"
     ]
    },
    {
     "name": "stderr",
     "output_type": "stream",
     "text": [
      "\r",
      " 43% (137808000.0 of 315360000.0) |##   | Elapsed Time: 10:02:34 ETA:   8:57:51"
     ]
    },
    {
     "name": "stderr",
     "output_type": "stream",
     "text": [
      "\r",
      " 43% (137894400.0 of 315360000.0) || Elapsed Time: 10:03:19 ETA:  1 day, 1:24:34"
     ]
    },
    {
     "name": "stderr",
     "output_type": "stream",
     "text": [
      "\r",
      " 43% (138240000.0 of 315360000.0) |##   | Elapsed Time: 10:04:22 ETA:   8:56:52"
     ]
    },
    {
     "name": "stderr",
     "output_type": "stream",
     "text": [
      "\r",
      " 43% (138326400.0 of 315360000.0) || Elapsed Time: 10:05:06 ETA:  1 day, 1:14:31"
     ]
    },
    {
     "name": "stderr",
     "output_type": "stream",
     "text": [
      "\r",
      " 43% (138672000.0 of 315360000.0) |##   | Elapsed Time: 10:06:09 ETA:   8:52:51"
     ]
    },
    {
     "name": "stderr",
     "output_type": "stream",
     "text": [
      "\r",
      " 44% (138758400.0 of 315360000.0) || Elapsed Time: 10:06:53 ETA:  1 day, 1:26:01"
     ]
    },
    {
     "name": "stderr",
     "output_type": "stream",
     "text": [
      "\r",
      " 44% (139104000.0 of 315360000.0) |##   | Elapsed Time: 10:07:57 ETA:   8:57:14"
     ]
    },
    {
     "name": "stderr",
     "output_type": "stream",
     "text": [
      "\r",
      " 44% (139190400.0 of 315360000.0) || Elapsed Time: 10:08:41 ETA:  1 day, 1:11:45"
     ]
    },
    {
     "name": "stderr",
     "output_type": "stream",
     "text": [
      "\r",
      " 44% (139536000.0 of 315360000.0) |##   | Elapsed Time: 10:09:44 ETA:   8:50:18"
     ]
    },
    {
     "name": "stderr",
     "output_type": "stream",
     "text": [
      "\r",
      " 44% (139622400.0 of 315360000.0) || Elapsed Time: 10:10:28 ETA:  1 day, 0:53:40"
     ]
    },
    {
     "name": "stderr",
     "output_type": "stream",
     "text": [
      "\r",
      " 44% (139968000.0 of 315360000.0) |##   | Elapsed Time: 10:11:30 ETA:   8:48:02"
     ]
    },
    {
     "name": "stderr",
     "output_type": "stream",
     "text": [
      "\r",
      " 44% (140054400.0 of 315360000.0) || Elapsed Time: 10:12:14 ETA:  1 day, 0:55:58"
     ]
    },
    {
     "name": "stderr",
     "output_type": "stream",
     "text": [
      "\r",
      " 44% (140400000.0 of 315360000.0) |##   | Elapsed Time: 10:13:17 ETA:   8:49:12"
     ]
    },
    {
     "name": "stderr",
     "output_type": "stream",
     "text": [
      "\r",
      " 44% (140486400.0 of 315360000.0) || Elapsed Time: 10:14:01 ETA:  1 day, 0:42:32"
     ]
    },
    {
     "name": "stderr",
     "output_type": "stream",
     "text": [
      "\r",
      " 44% (140832000.0 of 315360000.0) |##   | Elapsed Time: 10:15:04 ETA:   8:50:17"
     ]
    },
    {
     "name": "stderr",
     "output_type": "stream",
     "text": [
      "\r",
      " 44% (140918400.0 of 315360000.0) || Elapsed Time: 10:15:47 ETA:  1 day, 0:05:54"
     ]
    },
    {
     "name": "stderr",
     "output_type": "stream",
     "text": [
      "\r",
      " 44% (141264000.0 of 315360000.0) |##   | Elapsed Time: 10:16:50 ETA:   8:48:44"
     ]
    },
    {
     "name": "stderr",
     "output_type": "stream",
     "text": [
      "\r",
      " 44% (141350400.0 of 315360000.0) || Elapsed Time: 10:17:34 ETA:  1 day, 0:48:50"
     ]
    },
    {
     "name": "stderr",
     "output_type": "stream",
     "text": [
      "\r",
      " 44% (141696000.0 of 315360000.0) |##   | Elapsed Time: 10:18:37 ETA:   8:43:53"
     ]
    },
    {
     "name": "stderr",
     "output_type": "stream",
     "text": [
      "\r",
      " 44% (141782400.0 of 315360000.0) || Elapsed Time: 10:19:20 ETA:  1 day, 0:06:27"
     ]
    },
    {
     "name": "stderr",
     "output_type": "stream",
     "text": [
      "\r",
      " 45% (142128000.0 of 315360000.0) |##   | Elapsed Time: 10:20:22 ETA:   8:39:07"
     ]
    },
    {
     "name": "stderr",
     "output_type": "stream",
     "text": [
      "\r",
      " 45% (142214400.0 of 315360000.0) || Elapsed Time: 10:21:06 ETA:  1 day, 0:35:27"
     ]
    },
    {
     "name": "stderr",
     "output_type": "stream",
     "text": [
      "\r",
      " 45% (142560000.0 of 315360000.0) |##   | Elapsed Time: 10:22:09 ETA:   8:41:01"
     ]
    },
    {
     "name": "stderr",
     "output_type": "stream",
     "text": [
      "\r",
      " 45% (142646400.0 of 315360000.0) || Elapsed Time: 10:22:53 ETA:  1 day, 0:30:30"
     ]
    },
    {
     "name": "stderr",
     "output_type": "stream",
     "text": [
      "\r",
      " 45% (142992000.0 of 315360000.0) |##   | Elapsed Time: 10:23:55 ETA:   8:36:59"
     ]
    },
    {
     "name": "stderr",
     "output_type": "stream",
     "text": [
      "\r",
      " 45% (143078400.0 of 315360000.0) || Elapsed Time: 10:24:40 ETA:  1 day, 0:40:05"
     ]
    },
    {
     "name": "stderr",
     "output_type": "stream",
     "text": [
      "\r",
      " 45% (143424000.0 of 315360000.0) |##   | Elapsed Time: 10:25:42 ETA:   8:35:50"
     ]
    },
    {
     "name": "stderr",
     "output_type": "stream",
     "text": [
      "\r",
      " 45% (143510400.0 of 315360000.0) || Elapsed Time: 10:26:28 ETA:  1 day, 1:10:30"
     ]
    },
    {
     "name": "stderr",
     "output_type": "stream",
     "text": [
      "\r",
      " 45% (143856000.0 of 315360000.0) |##   | Elapsed Time: 10:27:30 ETA:   8:32:41"
     ]
    },
    {
     "name": "stderr",
     "output_type": "stream",
     "text": [
      "\r",
      " 45% (143942400.0 of 315360000.0) || Elapsed Time: 10:28:14 ETA:  1 day, 0:15:37"
     ]
    },
    {
     "name": "stderr",
     "output_type": "stream",
     "text": [
      "\r",
      " 45% (144288000.0 of 315360000.0) |##   | Elapsed Time: 10:29:16 ETA:   8:36:23"
     ]
    },
    {
     "name": "stderr",
     "output_type": "stream",
     "text": [
      "\r",
      " 45% (144374400.0 of 315360000.0) || Elapsed Time: 10:30:01 ETA:  1 day, 0:21:19"
     ]
    },
    {
     "name": "stderr",
     "output_type": "stream",
     "text": [
      "\r",
      " 45% (144720000.0 of 315360000.0) |##   | Elapsed Time: 10:31:03 ETA:   8:32:20"
     ]
    },
    {
     "name": "stderr",
     "output_type": "stream",
     "text": [
      "\r",
      " 45% (144806400.0 of 315360000.0) |##   | Elapsed Time: 10:31:46 ETA:  23:50:16"
     ]
    },
    {
     "name": "stderr",
     "output_type": "stream",
     "text": [
      "\r",
      " 46% (145152000.0 of 315360000.0) |##   | Elapsed Time: 10:32:48 ETA:   8:29:24"
     ]
    },
    {
     "name": "stderr",
     "output_type": "stream",
     "text": [
      "\r",
      " 46% (145238400.0 of 315360000.0) |##   | Elapsed Time: 10:33:32 ETA:  23:59:21"
     ]
    },
    {
     "name": "stderr",
     "output_type": "stream",
     "text": [
      "\r",
      " 46% (145584000.0 of 315360000.0) |##   | Elapsed Time: 10:34:34 ETA:   8:25:03"
     ]
    },
    {
     "name": "stderr",
     "output_type": "stream",
     "text": [
      "\r",
      " 46% (145670400.0 of 315360000.0) || Elapsed Time: 10:35:19 ETA:  1 day, 0:32:36"
     ]
    },
    {
     "name": "stderr",
     "output_type": "stream",
     "text": [
      "\r",
      " 46% (146016000.0 of 315360000.0) |##   | Elapsed Time: 10:36:20 ETA:   8:21:42"
     ]
    },
    {
     "name": "stderr",
     "output_type": "stream",
     "text": [
      "\r",
      " 46% (146102400.0 of 315360000.0) || Elapsed Time: 10:37:06 ETA:  1 day, 0:38:16"
     ]
    },
    {
     "name": "stderr",
     "output_type": "stream",
     "text": [
      "\r",
      " 46% (146448000.0 of 315360000.0) |##   | Elapsed Time: 10:38:07 ETA:   8:23:14"
     ]
    },
    {
     "name": "stderr",
     "output_type": "stream",
     "text": [
      "\r",
      " 46% (146534400.0 of 315360000.0) || Elapsed Time: 10:38:52 ETA:  1 day, 0:06:40"
     ]
    },
    {
     "name": "stderr",
     "output_type": "stream",
     "text": [
      "\r",
      " 46% (146880000.0 of 315360000.0) |##   | Elapsed Time: 10:39:53 ETA:   8:20:56"
     ]
    },
    {
     "name": "stderr",
     "output_type": "stream",
     "text": [
      "\r",
      " 46% (146966400.0 of 315360000.0) || Elapsed Time: 10:40:38 ETA:  1 day, 0:05:24"
     ]
    },
    {
     "name": "stderr",
     "output_type": "stream",
     "text": [
      "\r",
      " 46% (147312000.0 of 315360000.0) |##   | Elapsed Time: 10:41:39 ETA:   8:18:01"
     ]
    },
    {
     "name": "stderr",
     "output_type": "stream",
     "text": [
      "\r",
      " 46% (147398400.0 of 315360000.0) || Elapsed Time: 10:42:24 ETA:  1 day, 0:09:26"
     ]
    },
    {
     "name": "stderr",
     "output_type": "stream",
     "text": [
      "\r",
      " 46% (147744000.0 of 315360000.0) |##   | Elapsed Time: 10:43:25 ETA:   8:15:42"
     ]
    },
    {
     "name": "stderr",
     "output_type": "stream",
     "text": [
      "\r",
      " 46% (147830400.0 of 315360000.0) |##   | Elapsed Time: 10:44:09 ETA:  23:21:22"
     ]
    },
    {
     "name": "stderr",
     "output_type": "stream",
     "text": [
      "\r",
      " 46% (148176000.0 of 315360000.0) |##   | Elapsed Time: 10:45:11 ETA:   8:19:38"
     ]
    },
    {
     "name": "stderr",
     "output_type": "stream",
     "text": [
      "\r",
      " 47% (148262400.0 of 315360000.0) |##   | Elapsed Time: 10:45:55 ETA:  23:32:30"
     ]
    },
    {
     "name": "stderr",
     "output_type": "stream",
     "text": [
      "\r",
      " 47% (148608000.0 of 315360000.0) |##   | Elapsed Time: 10:46:56 ETA:   8:15:37"
     ]
    },
    {
     "name": "stderr",
     "output_type": "stream",
     "text": [
      "\r",
      " 47% (148694400.0 of 315360000.0) |##   | Elapsed Time: 10:47:40 ETA:  23:39:23"
     ]
    },
    {
     "name": "stderr",
     "output_type": "stream",
     "text": [
      "\r",
      " 47% (149040000.0 of 315360000.0) |##   | Elapsed Time: 10:48:42 ETA:   8:12:48"
     ]
    },
    {
     "name": "stderr",
     "output_type": "stream",
     "text": [
      "\r",
      " 47% (149126400.0 of 315360000.0) |##   | Elapsed Time: 10:49:26 ETA:  23:30:45"
     ]
    },
    {
     "name": "stderr",
     "output_type": "stream",
     "text": [
      "\r",
      " 47% (149472000.0 of 315360000.0) |##   | Elapsed Time: 10:50:28 ETA:   8:16:11"
     ]
    },
    {
     "name": "stderr",
     "output_type": "stream",
     "text": [
      "\r",
      " 47% (149558400.0 of 315360000.0) |##   | Elapsed Time: 10:51:11 ETA:  23:01:35"
     ]
    },
    {
     "name": "stderr",
     "output_type": "stream",
     "text": [
      "\r",
      " 47% (149904000.0 of 315360000.0) |##   | Elapsed Time: 10:52:13 ETA:   8:14:30"
     ]
    },
    {
     "name": "stderr",
     "output_type": "stream",
     "text": [
      "\r",
      " 47% (149990400.0 of 315360000.0) |##   | Elapsed Time: 10:52:57 ETA:  23:20:57"
     ]
    },
    {
     "name": "stderr",
     "output_type": "stream",
     "text": [
      "\r",
      " 47% (150336000.0 of 315360000.0) |##   | Elapsed Time: 10:53:58 ETA:   8:08:34"
     ]
    },
    {
     "name": "stderr",
     "output_type": "stream",
     "text": [
      "\r",
      " 47% (150422400.0 of 315360000.0) |##   | Elapsed Time: 10:54:42 ETA:  23:08:01"
     ]
    },
    {
     "name": "stderr",
     "output_type": "stream",
     "text": [
      "\r",
      " 47% (150768000.0 of 315360000.0) |##   | Elapsed Time: 10:55:43 ETA:   8:07:05"
     ]
    },
    {
     "name": "stderr",
     "output_type": "stream",
     "text": [
      "\r",
      " 47% (150854400.0 of 315360000.0) |##   | Elapsed Time: 10:56:28 ETA:  23:24:02"
     ]
    },
    {
     "name": "stderr",
     "output_type": "stream",
     "text": [
      "\r",
      " 47% (151200000.0 of 315360000.0) |##   | Elapsed Time: 10:57:29 ETA:   8:05:30"
     ]
    },
    {
     "name": "stderr",
     "output_type": "stream",
     "text": [
      "\r",
      " 47% (151286400.0 of 315360000.0) |##   | Elapsed Time: 10:58:13 ETA:  23:07:22"
     ]
    },
    {
     "name": "stderr",
     "output_type": "stream",
     "text": [
      "\r",
      " 48% (151632000.0 of 315360000.0) |##   | Elapsed Time: 10:59:14 ETA:   8:03:06"
     ]
    },
    {
     "name": "stderr",
     "output_type": "stream",
     "text": [
      "\r",
      " 48% (151718400.0 of 315360000.0) |##   | Elapsed Time: 10:59:59 ETA:  23:29:46"
     ]
    },
    {
     "name": "stderr",
     "output_type": "stream",
     "text": [
      "\r",
      " 48% (152064000.0 of 315360000.0) |##   | Elapsed Time: 11:01:00 ETA:   8:03:50"
     ]
    },
    {
     "name": "stderr",
     "output_type": "stream",
     "text": [
      "\r",
      " 48% (152150400.0 of 315360000.0) |##   | Elapsed Time: 11:01:45 ETA:  23:35:07"
     ]
    },
    {
     "name": "stderr",
     "output_type": "stream",
     "text": [
      "\r",
      " 48% (152496000.0 of 315360000.0) |##   | Elapsed Time: 11:02:46 ETA:   8:02:35"
     ]
    },
    {
     "name": "stderr",
     "output_type": "stream",
     "text": [
      "\r",
      " 48% (152582400.0 of 315360000.0) |##   | Elapsed Time: 11:03:30 ETA:  22:54:19"
     ]
    },
    {
     "name": "stderr",
     "output_type": "stream",
     "text": [
      "\r",
      " 48% (152928000.0 of 315360000.0) |##   | Elapsed Time: 11:04:31 ETA:   8:00:06"
     ]
    },
    {
     "name": "stderr",
     "output_type": "stream",
     "text": [
      "\r",
      " 48% (153014400.0 of 315360000.0) |##   | Elapsed Time: 11:05:15 ETA:  22:48:55"
     ]
    },
    {
     "name": "stderr",
     "output_type": "stream",
     "text": [
      "\r",
      " 48% (153360000.0 of 315360000.0) |##   | Elapsed Time: 11:06:16 ETA:   7:56:56"
     ]
    },
    {
     "name": "stderr",
     "output_type": "stream",
     "text": [
      "\r",
      " 48% (153446400.0 of 315360000.0) |##   | Elapsed Time: 11:07:01 ETA:  23:14:51"
     ]
    },
    {
     "name": "stderr",
     "output_type": "stream",
     "text": [
      "\r",
      " 48% (153792000.0 of 315360000.0) |##   | Elapsed Time: 11:08:02 ETA:   7:58:41"
     ]
    },
    {
     "name": "stderr",
     "output_type": "stream",
     "text": [
      "\r",
      " 48% (153878400.0 of 315360000.0) |##   | Elapsed Time: 11:08:48 ETA:  23:40:12"
     ]
    },
    {
     "name": "stderr",
     "output_type": "stream",
     "text": [
      "\r",
      " 48% (154224000.0 of 315360000.0) |##   | Elapsed Time: 11:09:49 ETA:   7:55:13"
     ]
    },
    {
     "name": "stderr",
     "output_type": "stream",
     "text": [
      "\r",
      " 48% (154310400.0 of 315360000.0) |##   | Elapsed Time: 11:10:34 ETA:  23:30:22"
     ]
    },
    {
     "name": "stderr",
     "output_type": "stream",
     "text": [
      "\r",
      " 49% (154656000.0 of 315360000.0) |##   | Elapsed Time: 11:11:35 ETA:   7:52:01"
     ]
    },
    {
     "name": "stderr",
     "output_type": "stream",
     "text": [
      "\r",
      " 49% (154742400.0 of 315360000.0) |##   | Elapsed Time: 11:12:19 ETA:  22:34:59"
     ]
    },
    {
     "name": "stderr",
     "output_type": "stream",
     "text": [
      "\r",
      " 49% (155088000.0 of 315360000.0) |##   | Elapsed Time: 11:13:20 ETA:   7:52:20"
     ]
    },
    {
     "name": "stderr",
     "output_type": "stream",
     "text": [
      "\r",
      " 49% (155174400.0 of 315360000.0) |##   | Elapsed Time: 11:14:04 ETA:  22:29:37"
     ]
    },
    {
     "name": "stderr",
     "output_type": "stream",
     "text": [
      "\r",
      " 49% (155520000.0 of 315360000.0) |##   | Elapsed Time: 11:15:05 ETA:   7:49:19"
     ]
    },
    {
     "name": "stderr",
     "output_type": "stream",
     "text": [
      "\r",
      " 49% (155606400.0 of 315360000.0) |##   | Elapsed Time: 11:15:49 ETA:  22:30:48"
     ]
    },
    {
     "name": "stderr",
     "output_type": "stream",
     "text": [
      "\r",
      " 49% (155952000.0 of 315360000.0) |##   | Elapsed Time: 11:16:50 ETA:   7:48:42"
     ]
    },
    {
     "name": "stderr",
     "output_type": "stream",
     "text": [
      "\r",
      " 49% (156038400.0 of 315360000.0) |##   | Elapsed Time: 11:17:35 ETA:  23:03:03"
     ]
    },
    {
     "name": "stderr",
     "output_type": "stream",
     "text": [
      "\r",
      " 49% (156384000.0 of 315360000.0) |##   | Elapsed Time: 11:18:36 ETA:   7:50:34"
     ]
    },
    {
     "name": "stderr",
     "output_type": "stream",
     "text": [
      "\r",
      " 49% (156470400.0 of 315360000.0) |##   | Elapsed Time: 11:19:20 ETA:  22:24:27"
     ]
    },
    {
     "name": "stderr",
     "output_type": "stream",
     "text": [
      "\r",
      " 49% (156816000.0 of 315360000.0) |##   | Elapsed Time: 11:20:20 ETA:   7:43:17"
     ]
    },
    {
     "name": "stderr",
     "output_type": "stream",
     "text": [
      "\r",
      " 49% (156902400.0 of 315360000.0) |##   | Elapsed Time: 11:21:04 ETA:  22:05:39"
     ]
    },
    {
     "name": "stderr",
     "output_type": "stream",
     "text": [
      "\r",
      " 49% (157248000.0 of 315360000.0) |##   | Elapsed Time: 11:22:04 ETA:   7:39:22"
     ]
    },
    {
     "name": "stderr",
     "output_type": "stream",
     "text": [
      "\r",
      " 49% (157334400.0 of 315360000.0) |##   | Elapsed Time: 11:22:48 ETA:  22:05:12"
     ]
    },
    {
     "name": "stderr",
     "output_type": "stream",
     "text": [
      "\r",
      " 50% (157680000.0 of 315360000.0) |##   | Elapsed Time: 11:23:48 ETA:   7:40:39"
     ]
    },
    {
     "name": "stderr",
     "output_type": "stream",
     "text": [
      "\r",
      " 50% (157766400.0 of 315360000.0) |##   | Elapsed Time: 11:24:32 ETA:  22:08:18"
     ]
    },
    {
     "name": "stderr",
     "output_type": "stream",
     "text": [
      "\r",
      " 50% (158112000.0 of 315360000.0) |##   | Elapsed Time: 11:25:32 ETA:   7:39:28"
     ]
    },
    {
     "name": "stderr",
     "output_type": "stream",
     "text": [
      "\r",
      " 50% (158198400.0 of 315360000.0) |##   | Elapsed Time: 11:26:16 ETA:  22:11:56"
     ]
    },
    {
     "name": "stderr",
     "output_type": "stream",
     "text": [
      "\r",
      " 50% (158544000.0 of 315360000.0) |##   | Elapsed Time: 11:27:17 ETA:   7:42:37"
     ]
    },
    {
     "name": "stderr",
     "output_type": "stream",
     "text": [
      "\r",
      " 50% (158630400.0 of 315360000.0) |##   | Elapsed Time: 11:28:02 ETA:  22:34:05"
     ]
    },
    {
     "name": "stderr",
     "output_type": "stream",
     "text": [
      "\r",
      " 50% (158976000.0 of 315360000.0) |##   | Elapsed Time: 11:29:03 ETA:   7:36:26"
     ]
    },
    {
     "name": "stderr",
     "output_type": "stream",
     "text": [
      "\r",
      " 50% (159062400.0 of 315360000.0) |##   | Elapsed Time: 11:29:47 ETA:  22:15:52"
     ]
    },
    {
     "name": "stderr",
     "output_type": "stream",
     "text": [
      "\r",
      " 50% (159408000.0 of 315360000.0) |##   | Elapsed Time: 11:30:48 ETA:   7:36:08"
     ]
    },
    {
     "name": "stderr",
     "output_type": "stream",
     "text": [
      "\r",
      " 50% (159494400.0 of 315360000.0) |##   | Elapsed Time: 11:31:32 ETA:  21:56:04"
     ]
    },
    {
     "name": "stderr",
     "output_type": "stream",
     "text": [
      "\r",
      " 50% (159840000.0 of 315360000.0) |##   | Elapsed Time: 11:32:32 ETA:   7:36:10"
     ]
    },
    {
     "name": "stderr",
     "output_type": "stream",
     "text": [
      "\r",
      " 50% (159926400.0 of 315360000.0) |##   | Elapsed Time: 11:33:15 ETA:  21:33:01"
     ]
    },
    {
     "name": "stderr",
     "output_type": "stream",
     "text": [
      "\r",
      " 50% (160272000.0 of 315360000.0) |##   | Elapsed Time: 11:34:16 ETA:   7:35:21"
     ]
    },
    {
     "name": "stderr",
     "output_type": "stream",
     "text": [
      "\r",
      " 50% (160358400.0 of 315360000.0) |##   | Elapsed Time: 11:34:59 ETA:  21:13:11"
     ]
    },
    {
     "name": "stderr",
     "output_type": "stream",
     "text": [
      "\r",
      " 50% (160704000.0 of 315360000.0) |##   | Elapsed Time: 11:35:59 ETA:   7:30:25"
     ]
    },
    {
     "name": "stderr",
     "output_type": "stream",
     "text": [
      "\r",
      " 50% (160790400.0 of 315360000.0) |##   | Elapsed Time: 11:36:43 ETA:  21:29:49"
     ]
    },
    {
     "name": "stderr",
     "output_type": "stream",
     "text": [
      "\r",
      " 51% (161136000.0 of 315360000.0) |##   | Elapsed Time: 11:37:43 ETA:   7:27:21"
     ]
    },
    {
     "name": "stderr",
     "output_type": "stream",
     "text": [
      "\r",
      " 51% (161222400.0 of 315360000.0) |##   | Elapsed Time: 11:38:26 ETA:  21:23:47"
     ]
    },
    {
     "name": "stderr",
     "output_type": "stream",
     "text": [
      "\r",
      " 51% (161568000.0 of 315360000.0) |##   | Elapsed Time: 11:39:26 ETA:   7:28:27"
     ]
    },
    {
     "name": "stderr",
     "output_type": "stream",
     "text": [
      "\r",
      " 51% (161654400.0 of 315360000.0) |##   | Elapsed Time: 11:40:14 ETA:  23:29:24"
     ]
    },
    {
     "name": "stderr",
     "output_type": "stream",
     "text": [
      "\r",
      " 51% (162000000.0 of 315360000.0) |##   | Elapsed Time: 11:41:14 ETA:   7:26:22"
     ]
    },
    {
     "name": "stderr",
     "output_type": "stream",
     "text": [
      "\r",
      " 51% (162086400.0 of 315360000.0) |##   | Elapsed Time: 11:41:57 ETA:  21:10:26"
     ]
    },
    {
     "name": "stderr",
     "output_type": "stream",
     "text": [
      "\r",
      " 51% (162432000.0 of 315360000.0) |##   | Elapsed Time: 11:42:57 ETA:   7:24:22"
     ]
    },
    {
     "name": "stderr",
     "output_type": "stream",
     "text": [
      "\r",
      " 51% (162518400.0 of 315360000.0) |##   | Elapsed Time: 11:43:41 ETA:  21:19:01"
     ]
    },
    {
     "name": "stderr",
     "output_type": "stream",
     "text": [
      "\r",
      " 51% (162864000.0 of 315360000.0) |##   | Elapsed Time: 11:44:41 ETA:   7:21:57"
     ]
    },
    {
     "name": "stderr",
     "output_type": "stream",
     "text": [
      "\r",
      " 51% (162950400.0 of 315360000.0) |##   | Elapsed Time: 11:45:24 ETA:  20:59:52"
     ]
    },
    {
     "name": "stderr",
     "output_type": "stream",
     "text": [
      "\r",
      " 51% (163296000.0 of 315360000.0) |##   | Elapsed Time: 11:46:24 ETA:   7:23:53"
     ]
    },
    {
     "name": "stderr",
     "output_type": "stream",
     "text": [
      "\r",
      " 51% (163382400.0 of 315360000.0) |##   | Elapsed Time: 11:47:08 ETA:  21:32:14"
     ]
    },
    {
     "name": "stderr",
     "output_type": "stream",
     "text": [
      "\r",
      " 51% (163728000.0 of 315360000.0) |##   | Elapsed Time: 11:48:08 ETA:   7:17:33"
     ]
    },
    {
     "name": "stderr",
     "output_type": "stream",
     "text": [
      "\r",
      " 51% (163814400.0 of 315360000.0) |##   | Elapsed Time: 11:48:52 ETA:  21:32:05"
     ]
    },
    {
     "name": "stderr",
     "output_type": "stream",
     "text": [
      "\r",
      " 52% (164160000.0 of 315360000.0) |##   | Elapsed Time: 11:49:52 ETA:   7:15:47"
     ]
    },
    {
     "name": "stderr",
     "output_type": "stream",
     "text": [
      "\r",
      " 52% (164246400.0 of 315360000.0) |##   | Elapsed Time: 11:50:35 ETA:  20:57:29"
     ]
    },
    {
     "name": "stderr",
     "output_type": "stream",
     "text": [
      "\r",
      " 52% (164592000.0 of 315360000.0) |##   | Elapsed Time: 11:51:36 ETA:   7:17:47"
     ]
    },
    {
     "name": "stderr",
     "output_type": "stream",
     "text": [
      "\r",
      " 52% (164678400.0 of 315360000.0) |##   | Elapsed Time: 11:52:19 ETA:  21:06:25"
     ]
    },
    {
     "name": "stderr",
     "output_type": "stream",
     "text": [
      "\r",
      " 52% (165024000.0 of 315360000.0) |##   | Elapsed Time: 11:53:19 ETA:   7:13:08"
     ]
    },
    {
     "name": "stderr",
     "output_type": "stream",
     "text": [
      "\r",
      " 52% (165110400.0 of 315360000.0) |##   | Elapsed Time: 11:54:02 ETA:  20:58:55"
     ]
    },
    {
     "name": "stderr",
     "output_type": "stream",
     "text": [
      "\r",
      " 52% (165456000.0 of 315360000.0) |##   | Elapsed Time: 11:55:02 ETA:   7:13:46"
     ]
    },
    {
     "name": "stderr",
     "output_type": "stream",
     "text": [
      "\r",
      " 52% (165542400.0 of 315360000.0) |##   | Elapsed Time: 11:55:46 ETA:  20:56:08"
     ]
    },
    {
     "name": "stderr",
     "output_type": "stream",
     "text": [
      "\r",
      " 52% (165888000.0 of 315360000.0) |##   | Elapsed Time: 11:56:46 ETA:   7:12:17"
     ]
    },
    {
     "name": "stderr",
     "output_type": "stream",
     "text": [
      "\r",
      " 52% (165974400.0 of 315360000.0) |##   | Elapsed Time: 11:57:29 ETA:  20:43:48"
     ]
    },
    {
     "name": "stderr",
     "output_type": "stream",
     "text": [
      "\r",
      " 52% (166320000.0 of 315360000.0) |##   | Elapsed Time: 11:58:29 ETA:   7:12:42"
     ]
    },
    {
     "name": "stderr",
     "output_type": "stream",
     "text": [
      "\r",
      " 52% (166406400.0 of 315360000.0) |##   | Elapsed Time: 11:59:12 ETA:  20:45:17"
     ]
    },
    {
     "name": "stderr",
     "output_type": "stream",
     "text": [
      "\r",
      " 52% (166752000.0 of 315360000.0) |##   | Elapsed Time: 12:00:12 ETA:   7:08:22"
     ]
    },
    {
     "name": "stderr",
     "output_type": "stream",
     "text": [
      "\r",
      " 52% (166838400.0 of 315360000.0) |##   | Elapsed Time: 12:00:56 ETA:  20:57:30"
     ]
    },
    {
     "name": "stderr",
     "output_type": "stream",
     "text": [
      "\r",
      " 53% (167184000.0 of 315360000.0) |##   | Elapsed Time: 12:01:56 ETA:   7:08:18"
     ]
    },
    {
     "name": "stderr",
     "output_type": "stream",
     "text": [
      "\r",
      " 53% (167270400.0 of 315360000.0) |##   | Elapsed Time: 12:02:40 ETA:  20:42:52"
     ]
    },
    {
     "name": "stderr",
     "output_type": "stream",
     "text": [
      "\r",
      " 53% (167616000.0 of 315360000.0) |##   | Elapsed Time: 12:03:40 ETA:   7:07:22"
     ]
    },
    {
     "name": "stderr",
     "output_type": "stream",
     "text": [
      "\r",
      " 53% (167702400.0 of 315360000.0) |##   | Elapsed Time: 12:04:23 ETA:  20:31:46"
     ]
    },
    {
     "name": "stderr",
     "output_type": "stream",
     "text": [
      "\r",
      " 53% (168048000.0 of 315360000.0) |##   | Elapsed Time: 12:05:23 ETA:   7:04:58"
     ]
    },
    {
     "name": "stderr",
     "output_type": "stream",
     "text": [
      "\r",
      " 53% (168134400.0 of 315360000.0) |##   | Elapsed Time: 12:06:05 ETA:  20:05:10"
     ]
    },
    {
     "name": "stderr",
     "output_type": "stream",
     "text": [
      "\r",
      " 53% (168480000.0 of 315360000.0) |##   | Elapsed Time: 12:07:05 ETA:   7:02:38"
     ]
    },
    {
     "name": "stderr",
     "output_type": "stream",
     "text": [
      "\r",
      " 53% (168566400.0 of 315360000.0) |##   | Elapsed Time: 12:07:48 ETA:  20:11:44"
     ]
    },
    {
     "name": "stderr",
     "output_type": "stream",
     "text": [
      "\r",
      " 53% (168912000.0 of 315360000.0) |##   | Elapsed Time: 12:08:47 ETA:   7:00:23"
     ]
    },
    {
     "name": "stderr",
     "output_type": "stream",
     "text": [
      "\r",
      " 53% (168998400.0 of 315360000.0) |##   | Elapsed Time: 12:09:30 ETA:  20:20:58"
     ]
    },
    {
     "name": "stderr",
     "output_type": "stream",
     "text": [
      "\r",
      " 53% (169344000.0 of 315360000.0) |##   | Elapsed Time: 12:10:30 ETA:   7:00:04"
     ]
    },
    {
     "name": "stderr",
     "output_type": "stream",
     "text": [
      "\r",
      " 53% (169430400.0 of 315360000.0) |##   | Elapsed Time: 12:11:15 ETA:  21:06:38"
     ]
    },
    {
     "name": "stderr",
     "output_type": "stream",
     "text": [
      "\r",
      " 53% (169776000.0 of 315360000.0) |##   | Elapsed Time: 12:12:15 ETA:   7:02:43"
     ]
    },
    {
     "name": "stderr",
     "output_type": "stream",
     "text": [
      "\r",
      " 53% (169862400.0 of 315360000.0) |##   | Elapsed Time: 12:13:00 ETA:  20:44:50"
     ]
    },
    {
     "name": "stderr",
     "output_type": "stream",
     "text": [
      "\r",
      " 53% (170208000.0 of 315360000.0) |##   | Elapsed Time: 12:13:59 ETA:   6:54:00"
     ]
    },
    {
     "name": "stderr",
     "output_type": "stream",
     "text": [
      "\r",
      " 54% (170294400.0 of 315360000.0) |##   | Elapsed Time: 12:14:42 ETA:  19:59:52"
     ]
    },
    {
     "name": "stderr",
     "output_type": "stream",
     "text": [
      "\r",
      " 54% (170640000.0 of 315360000.0) |##   | Elapsed Time: 12:15:41 ETA:   6:55:24"
     ]
    },
    {
     "name": "stderr",
     "output_type": "stream",
     "text": [
      "\r",
      " 54% (170726400.0 of 315360000.0) |##   | Elapsed Time: 12:16:25 ETA:  20:27:01"
     ]
    },
    {
     "name": "stderr",
     "output_type": "stream",
     "text": [
      "\r",
      " 54% (171072000.0 of 315360000.0) |##   | Elapsed Time: 12:17:24 ETA:   6:52:42"
     ]
    },
    {
     "name": "stderr",
     "output_type": "stream",
     "text": [
      "\r",
      " 54% (171158400.0 of 315360000.0) |##   | Elapsed Time: 12:18:07 ETA:  19:34:36"
     ]
    },
    {
     "name": "stderr",
     "output_type": "stream",
     "text": [
      "\r",
      " 54% (171504000.0 of 315360000.0) |##   | Elapsed Time: 12:19:06 ETA:   6:51:36"
     ]
    },
    {
     "name": "stderr",
     "output_type": "stream",
     "text": [
      "\r",
      " 54% (171590400.0 of 315360000.0) |##   | Elapsed Time: 12:19:50 ETA:  20:29:45"
     ]
    },
    {
     "name": "stderr",
     "output_type": "stream",
     "text": [
      "\r",
      " 54% (171936000.0 of 315360000.0) |##   | Elapsed Time: 12:20:50 ETA:   6:51:17"
     ]
    },
    {
     "name": "stderr",
     "output_type": "stream",
     "text": [
      "\r",
      " 54% (172022400.0 of 315360000.0) |##   | Elapsed Time: 12:21:34 ETA:  20:21:48"
     ]
    },
    {
     "name": "stderr",
     "output_type": "stream",
     "text": [
      "\r",
      " 54% (172368000.0 of 315360000.0) |##   | Elapsed Time: 12:22:33 ETA:   6:48:12"
     ]
    },
    {
     "name": "stderr",
     "output_type": "stream",
     "text": [
      "\r",
      " 54% (172454400.0 of 315360000.0) |##   | Elapsed Time: 12:23:16 ETA:  19:30:35"
     ]
    },
    {
     "name": "stderr",
     "output_type": "stream",
     "text": [
      "\r",
      " 54% (172800000.0 of 315360000.0) |##   | Elapsed Time: 12:24:15 ETA:   6:47:27"
     ]
    },
    {
     "name": "stderr",
     "output_type": "stream",
     "text": [
      "\r",
      " 54% (172886400.0 of 315360000.0) |##   | Elapsed Time: 12:24:59 ETA:  20:03:41"
     ]
    },
    {
     "name": "stderr",
     "output_type": "stream",
     "text": [
      "\r",
      " 54% (173232000.0 of 315360000.0) |##   | Elapsed Time: 12:25:58 ETA:   6:45:03"
     ]
    },
    {
     "name": "stderr",
     "output_type": "stream",
     "text": [
      "\r",
      " 54% (173318400.0 of 315360000.0) |##   | Elapsed Time: 12:26:41 ETA:  19:45:00"
     ]
    },
    {
     "name": "stderr",
     "output_type": "stream",
     "text": [
      "\r",
      " 55% (173664000.0 of 315360000.0) |##   | Elapsed Time: 12:27:40 ETA:   6:43:49"
     ]
    },
    {
     "name": "stderr",
     "output_type": "stream",
     "text": [
      "\r",
      " 55% (173750400.0 of 315360000.0) |##   | Elapsed Time: 12:28:24 ETA:  20:02:17"
     ]
    },
    {
     "name": "stderr",
     "output_type": "stream",
     "text": [
      "\r",
      " 55% (174096000.0 of 315360000.0) |##   | Elapsed Time: 12:29:24 ETA:   6:44:54"
     ]
    },
    {
     "name": "stderr",
     "output_type": "stream",
     "text": [
      "\r",
      " 55% (174182400.0 of 315360000.0) |##   | Elapsed Time: 12:30:07 ETA:  19:38:35"
     ]
    },
    {
     "name": "stderr",
     "output_type": "stream",
     "text": [
      "\r",
      " 55% (174528000.0 of 315360000.0) |##   | Elapsed Time: 12:31:06 ETA:   6:39:30"
     ]
    },
    {
     "name": "stderr",
     "output_type": "stream",
     "text": [
      "\r",
      " 55% (174614400.0 of 315360000.0) |##   | Elapsed Time: 12:31:48 ETA:  19:21:43"
     ]
    },
    {
     "name": "stderr",
     "output_type": "stream",
     "text": [
      "\r",
      " 55% (174960000.0 of 315360000.0) |##   | Elapsed Time: 12:32:47 ETA:   6:39:21"
     ]
    },
    {
     "name": "stderr",
     "output_type": "stream",
     "text": [
      "\r",
      " 55% (175046400.0 of 315360000.0) |##   | Elapsed Time: 12:33:31 ETA:  19:45:25"
     ]
    },
    {
     "name": "stderr",
     "output_type": "stream",
     "text": [
      "\r",
      " 55% (175392000.0 of 315360000.0) |##   | Elapsed Time: 12:34:30 ETA:   6:40:06"
     ]
    },
    {
     "name": "stderr",
     "output_type": "stream",
     "text": [
      "\r",
      " 55% (175478400.0 of 315360000.0) |##   | Elapsed Time: 12:35:13 ETA:  19:13:50"
     ]
    },
    {
     "name": "stderr",
     "output_type": "stream",
     "text": [
      "\r",
      " 55% (175824000.0 of 315360000.0) |##   | Elapsed Time: 12:36:12 ETA:   6:35:20"
     ]
    },
    {
     "name": "stderr",
     "output_type": "stream",
     "text": [
      "\r",
      " 55% (175910400.0 of 315360000.0) |##   | Elapsed Time: 12:36:56 ETA:  19:43:41"
     ]
    },
    {
     "name": "stderr",
     "output_type": "stream",
     "text": [
      "\r",
      " 55% (176256000.0 of 315360000.0) |##   | Elapsed Time: 12:37:55 ETA:   6:36:30"
     ]
    },
    {
     "name": "stderr",
     "output_type": "stream",
     "text": [
      "\r",
      " 55% (176342400.0 of 315360000.0) |##   | Elapsed Time: 12:38:39 ETA:  19:49:04"
     ]
    },
    {
     "name": "stderr",
     "output_type": "stream",
     "text": [
      "\r",
      " 56% (176688000.0 of 315360000.0) |##   | Elapsed Time: 12:39:38 ETA:   6:31:13"
     ]
    },
    {
     "name": "stderr",
     "output_type": "stream",
     "text": [
      "\r",
      " 56% (176774400.0 of 315360000.0) |##   | Elapsed Time: 12:40:21 ETA:  19:20:11"
     ]
    },
    {
     "name": "stderr",
     "output_type": "stream",
     "text": [
      "\r",
      " 56% (177120000.0 of 315360000.0) |##   | Elapsed Time: 12:41:20 ETA:   6:31:58"
     ]
    },
    {
     "name": "stderr",
     "output_type": "stream",
     "text": [
      "\r",
      " 56% (177206400.0 of 315360000.0) |##   | Elapsed Time: 12:42:03 ETA:  18:54:01"
     ]
    },
    {
     "name": "stderr",
     "output_type": "stream",
     "text": [
      "\r",
      " 56% (177552000.0 of 315360000.0) |##   | Elapsed Time: 12:43:02 ETA:   6:32:29"
     ]
    },
    {
     "name": "stderr",
     "output_type": "stream",
     "text": [
      "\r",
      " 56% (177638400.0 of 315360000.0) |##   | Elapsed Time: 12:43:45 ETA:  19:07:49"
     ]
    },
    {
     "name": "stderr",
     "output_type": "stream",
     "text": [
      "\r",
      " 56% (177984000.0 of 315360000.0) |##   | Elapsed Time: 12:44:43 ETA:   6:27:13"
     ]
    },
    {
     "name": "stderr",
     "output_type": "stream",
     "text": [
      "\r",
      " 56% (178070400.0 of 315360000.0) |##   | Elapsed Time: 12:45:27 ETA:  19:13:38"
     ]
    },
    {
     "name": "stderr",
     "output_type": "stream",
     "text": [
      "\r",
      " 56% (178416000.0 of 315360000.0) |##   | Elapsed Time: 12:46:25 ETA:   6:25:29"
     ]
    },
    {
     "name": "stderr",
     "output_type": "stream",
     "text": [
      "\r",
      " 56% (178502400.0 of 315360000.0) |##   | Elapsed Time: 12:47:08 ETA:  18:46:15"
     ]
    },
    {
     "name": "stderr",
     "output_type": "stream",
     "text": [
      "\r",
      " 56% (178848000.0 of 315360000.0) |##   | Elapsed Time: 12:48:06 ETA:   6:24:40"
     ]
    },
    {
     "name": "stderr",
     "output_type": "stream",
     "text": [
      "\r",
      " 56% (178934400.0 of 315360000.0) |##   | Elapsed Time: 12:48:50 ETA:  19:10:48"
     ]
    },
    {
     "name": "stderr",
     "output_type": "stream",
     "text": [
      "\r",
      " 56% (179280000.0 of 315360000.0) |##   | Elapsed Time: 12:49:49 ETA:   6:23:04"
     ]
    },
    {
     "name": "stderr",
     "output_type": "stream",
     "text": [
      "\r",
      " 56% (179366400.0 of 315360000.0) |##   | Elapsed Time: 12:50:32 ETA:  18:58:50"
     ]
    },
    {
     "name": "stderr",
     "output_type": "stream",
     "text": [
      "\r",
      " 56% (179712000.0 of 315360000.0) |##   | Elapsed Time: 12:51:30 ETA:   6:21:29"
     ]
    },
    {
     "name": "stderr",
     "output_type": "stream",
     "text": [
      "\r",
      " 57% (179798400.0 of 315360000.0) |##   | Elapsed Time: 12:52:14 ETA:  19:04:37"
     ]
    },
    {
     "name": "stderr",
     "output_type": "stream",
     "text": [
      "\r",
      " 57% (180144000.0 of 315360000.0) |##   | Elapsed Time: 12:53:13 ETA:   6:21:38"
     ]
    },
    {
     "name": "stderr",
     "output_type": "stream",
     "text": [
      "\r",
      " 57% (180230400.0 of 315360000.0) |##   | Elapsed Time: 12:53:56 ETA:  18:57:21"
     ]
    },
    {
     "name": "stderr",
     "output_type": "stream",
     "text": [
      "\r",
      " 57% (180576000.0 of 315360000.0) |##   | Elapsed Time: 12:54:54 ETA:   6:17:39"
     ]
    },
    {
     "name": "stderr",
     "output_type": "stream",
     "text": [
      "\r",
      " 57% (180662400.0 of 315360000.0) |##   | Elapsed Time: 12:55:36 ETA:  18:07:05"
     ]
    },
    {
     "name": "stderr",
     "output_type": "stream",
     "text": [
      "\r",
      " 57% (181008000.0 of 315360000.0) |##   | Elapsed Time: 12:56:34 ETA:   6:17:53"
     ]
    },
    {
     "name": "stderr",
     "output_type": "stream",
     "text": [
      "\r",
      " 57% (181094400.0 of 315360000.0) |##   | Elapsed Time: 12:57:17 ETA:  18:33:03"
     ]
    },
    {
     "name": "stderr",
     "output_type": "stream",
     "text": [
      "\r",
      " 57% (181440000.0 of 315360000.0) |##   | Elapsed Time: 12:58:15 ETA:   6:14:24"
     ]
    },
    {
     "name": "stderr",
     "output_type": "stream",
     "text": [
      "\r",
      " 57% (181526400.0 of 315360000.0) |##   | Elapsed Time: 12:58:59 ETA:  18:45:32"
     ]
    },
    {
     "name": "stderr",
     "output_type": "stream",
     "text": [
      "\r",
      " 57% (181872000.0 of 315360000.0) |##   | Elapsed Time: 12:59:57 ETA:   6:15:10"
     ]
    },
    {
     "name": "stderr",
     "output_type": "stream",
     "text": [
      "\r",
      " 57% (181958400.0 of 315360000.0) |##   | Elapsed Time: 13:00:42 ETA:  19:06:41"
     ]
    },
    {
     "name": "stderr",
     "output_type": "stream",
     "text": [
      "\r",
      " 57% (182304000.0 of 315360000.0) |##   | Elapsed Time: 13:01:40 ETA:   6:14:22"
     ]
    },
    {
     "name": "stderr",
     "output_type": "stream",
     "text": [
      "\r",
      " 57% (182390400.0 of 315360000.0) |##   | Elapsed Time: 13:02:23 ETA:  18:13:58"
     ]
    },
    {
     "name": "stderr",
     "output_type": "stream",
     "text": [
      "\r",
      " 57% (182736000.0 of 315360000.0) |##   | Elapsed Time: 13:03:21 ETA:   6:12:02"
     ]
    },
    {
     "name": "stderr",
     "output_type": "stream",
     "text": [
      "\r",
      " 57% (182822400.0 of 315360000.0) |##   | Elapsed Time: 13:04:03 ETA:  17:52:45"
     ]
    },
    {
     "name": "stderr",
     "output_type": "stream",
     "text": [
      "\r",
      " 58% (183168000.0 of 315360000.0) |##   | Elapsed Time: 13:05:01 ETA:   6:10:43"
     ]
    },
    {
     "name": "stderr",
     "output_type": "stream",
     "text": [
      "\r",
      " 58% (183254400.0 of 315360000.0) |##   | Elapsed Time: 13:05:44 ETA:  18:20:06"
     ]
    },
    {
     "name": "stderr",
     "output_type": "stream",
     "text": [
      "\r",
      " 58% (183600000.0 of 315360000.0) |##   | Elapsed Time: 13:06:42 ETA:   6:07:35"
     ]
    },
    {
     "name": "stderr",
     "output_type": "stream",
     "text": [
      "\r",
      " 58% (183686400.0 of 315360000.0) |##   | Elapsed Time: 13:07:25 ETA:  18:11:01"
     ]
    },
    {
     "name": "stderr",
     "output_type": "stream",
     "text": [
      "\r",
      " 58% (184032000.0 of 315360000.0) |##   | Elapsed Time: 13:08:23 ETA:   6:08:20"
     ]
    },
    {
     "name": "stderr",
     "output_type": "stream",
     "text": [
      "\r",
      " 58% (184118400.0 of 315360000.0) |##   | Elapsed Time: 13:09:07 ETA:  18:29:47"
     ]
    },
    {
     "name": "stderr",
     "output_type": "stream",
     "text": [
      "\r",
      " 58% (184464000.0 of 315360000.0) |##   | Elapsed Time: 13:10:06 ETA:   6:09:30"
     ]
    },
    {
     "name": "stderr",
     "output_type": "stream",
     "text": [
      "\r",
      " 58% (184550400.0 of 315360000.0) |##   | Elapsed Time: 13:10:48 ETA:  17:48:46"
     ]
    },
    {
     "name": "stderr",
     "output_type": "stream",
     "text": [
      "\r",
      " 58% (184896000.0 of 315360000.0) |##   | Elapsed Time: 13:11:46 ETA:   6:06:03"
     ]
    },
    {
     "name": "stderr",
     "output_type": "stream",
     "text": [
      "\r",
      " 58% (184982400.0 of 315360000.0) |##   | Elapsed Time: 13:12:28 ETA:  17:31:13"
     ]
    },
    {
     "name": "stderr",
     "output_type": "stream",
     "text": [
      "\r",
      " 58% (185328000.0 of 315360000.0) |##   | Elapsed Time: 13:13:26 ETA:   6:04:23"
     ]
    },
    {
     "name": "stderr",
     "output_type": "stream",
     "text": [
      "\r",
      " 58% (185414400.0 of 315360000.0) |##   | Elapsed Time: 13:14:08 ETA:  17:41:21"
     ]
    },
    {
     "name": "stderr",
     "output_type": "stream",
     "text": [
      "\r",
      " 58% (185760000.0 of 315360000.0) |##   | Elapsed Time: 13:15:07 ETA:   6:03:20"
     ]
    },
    {
     "name": "stderr",
     "output_type": "stream",
     "text": [
      "\r",
      " 58% (185846400.0 of 315360000.0) |##   | Elapsed Time: 13:15:48 ETA:  17:20:31"
     ]
    },
    {
     "name": "stderr",
     "output_type": "stream",
     "text": [
      "\r",
      " 59% (186192000.0 of 315360000.0) |##   | Elapsed Time: 13:16:46 ETA:   5:59:08"
     ]
    },
    {
     "name": "stderr",
     "output_type": "stream",
     "text": [
      "\r",
      " 59% (186278400.0 of 315360000.0) |##   | Elapsed Time: 13:17:29 ETA:  17:56:39"
     ]
    },
    {
     "name": "stderr",
     "output_type": "stream",
     "text": [
      "\r",
      " 59% (186624000.0 of 315360000.0) |##   | Elapsed Time: 13:18:27 ETA:   5:59:00"
     ]
    },
    {
     "name": "stderr",
     "output_type": "stream",
     "text": [
      "\r",
      " 59% (186710400.0 of 315360000.0) |##   | Elapsed Time: 13:19:09 ETA:  17:13:23"
     ]
    },
    {
     "name": "stderr",
     "output_type": "stream",
     "text": [
      "\r",
      " 59% (187056000.0 of 315360000.0) |##   | Elapsed Time: 13:20:06 ETA:   5:56:12"
     ]
    },
    {
     "name": "stderr",
     "output_type": "stream",
     "text": [
      "\r",
      " 59% (187142400.0 of 315360000.0) |##   | Elapsed Time: 13:20:49 ETA:  17:44:08"
     ]
    },
    {
     "name": "stderr",
     "output_type": "stream",
     "text": [
      "\r",
      " 59% (187488000.0 of 315360000.0) |##   | Elapsed Time: 13:21:47 ETA:   5:54:37"
     ]
    },
    {
     "name": "stderr",
     "output_type": "stream",
     "text": [
      "\r",
      " 59% (187574400.0 of 315360000.0) |##   | Elapsed Time: 13:22:30 ETA:  17:40:55"
     ]
    },
    {
     "name": "stderr",
     "output_type": "stream",
     "text": [
      "\r",
      " 59% (187920000.0 of 315360000.0) |##   | Elapsed Time: 13:23:28 ETA:   5:56:10"
     ]
    },
    {
     "name": "stderr",
     "output_type": "stream",
     "text": [
      "\r",
      " 59% (188006400.0 of 315360000.0) |##   | Elapsed Time: 13:24:12 ETA:  18:01:24"
     ]
    },
    {
     "name": "stderr",
     "output_type": "stream",
     "text": [
      "\r",
      " 59% (188352000.0 of 315360000.0) |##   | Elapsed Time: 13:25:10 ETA:   5:54:53"
     ]
    },
    {
     "name": "stderr",
     "output_type": "stream",
     "text": [
      "\r",
      " 59% (188438400.0 of 315360000.0) |##   | Elapsed Time: 13:25:54 ETA:  18:12:32"
     ]
    },
    {
     "name": "stderr",
     "output_type": "stream",
     "text": [
      "\r",
      " 59% (188784000.0 of 315360000.0) |##   | Elapsed Time: 13:26:52 ETA:   5:55:01"
     ]
    },
    {
     "name": "stderr",
     "output_type": "stream",
     "text": [
      "\r",
      " 59% (188870400.0 of 315360000.0) |##   | Elapsed Time: 13:27:35 ETA:  17:21:36"
     ]
    },
    {
     "name": "stderr",
     "output_type": "stream",
     "text": [
      "\r",
      " 60% (189216000.0 of 315360000.0) |###  | Elapsed Time: 13:28:33 ETA:   5:52:36"
     ]
    },
    {
     "name": "stderr",
     "output_type": "stream",
     "text": [
      "\r",
      " 60% (189302400.0 of 315360000.0) |###  | Elapsed Time: 13:29:16 ETA:  17:31:22"
     ]
    },
    {
     "name": "stderr",
     "output_type": "stream",
     "text": [
      "\r",
      " 60% (189648000.0 of 315360000.0) |###  | Elapsed Time: 13:30:14 ETA:   5:49:35"
     ]
    },
    {
     "name": "stderr",
     "output_type": "stream",
     "text": [
      "\r",
      " 60% (189734400.0 of 315360000.0) |###  | Elapsed Time: 13:30:57 ETA:  17:29:20"
     ]
    },
    {
     "name": "stderr",
     "output_type": "stream",
     "text": [
      "\r",
      " 60% (190080000.0 of 315360000.0) |###  | Elapsed Time: 13:31:55 ETA:   5:47:23"
     ]
    },
    {
     "name": "stderr",
     "output_type": "stream",
     "text": [
      "\r",
      " 60% (190166400.0 of 315360000.0) |###  | Elapsed Time: 13:32:38 ETA:  17:15:21"
     ]
    },
    {
     "name": "stderr",
     "output_type": "stream",
     "text": [
      "\r",
      " 60% (190512000.0 of 315360000.0) |###  | Elapsed Time: 13:33:35 ETA:   5:46:27"
     ]
    },
    {
     "name": "stderr",
     "output_type": "stream",
     "text": [
      "\r",
      " 60% (190598400.0 of 315360000.0) |###  | Elapsed Time: 13:34:19 ETA:  17:37:22"
     ]
    },
    {
     "name": "stderr",
     "output_type": "stream",
     "text": [
      "\r",
      " 60% (190944000.0 of 315360000.0) |###  | Elapsed Time: 13:35:17 ETA:   5:47:48"
     ]
    },
    {
     "name": "stderr",
     "output_type": "stream",
     "text": [
      "\r",
      " 60% (191030400.0 of 315360000.0) |###  | Elapsed Time: 13:36:00 ETA:  17:20:26"
     ]
    },
    {
     "name": "stderr",
     "output_type": "stream",
     "text": [
      "\r",
      " 60% (191376000.0 of 315360000.0) |###  | Elapsed Time: 13:36:58 ETA:   5:41:30"
     ]
    },
    {
     "name": "stderr",
     "output_type": "stream",
     "text": [
      "\r",
      " 60% (191462400.0 of 315360000.0) |###  | Elapsed Time: 13:37:40 ETA:  16:53:25"
     ]
    },
    {
     "name": "stderr",
     "output_type": "stream",
     "text": [
      "\r",
      " 60% (191808000.0 of 315360000.0) |###  | Elapsed Time: 13:38:37 ETA:   5:41:49"
     ]
    },
    {
     "name": "stderr",
     "output_type": "stream",
     "text": [
      "\r",
      " 60% (191894400.0 of 315360000.0) |###  | Elapsed Time: 13:39:21 ETA:  17:17:38"
     ]
    },
    {
     "name": "stderr",
     "output_type": "stream",
     "text": [
      "\r",
      " 60% (192240000.0 of 315360000.0) |###  | Elapsed Time: 13:40:18 ETA:   5:41:34"
     ]
    },
    {
     "name": "stderr",
     "output_type": "stream",
     "text": [
      "\r",
      " 60% (192326400.0 of 315360000.0) |###  | Elapsed Time: 13:41:02 ETA:  17:15:35"
     ]
    },
    {
     "name": "stderr",
     "output_type": "stream",
     "text": [
      "\r",
      " 61% (192672000.0 of 315360000.0) |###  | Elapsed Time: 13:41:59 ETA:   5:39:02"
     ]
    },
    {
     "name": "stderr",
     "output_type": "stream",
     "text": [
      "\r",
      " 61% (192758400.0 of 315360000.0) |###  | Elapsed Time: 13:42:42 ETA:  16:47:11"
     ]
    },
    {
     "name": "stderr",
     "output_type": "stream",
     "text": [
      "\r",
      " 61% (193104000.0 of 315360000.0) |###  | Elapsed Time: 13:43:39 ETA:   5:36:28"
     ]
    },
    {
     "name": "stderr",
     "output_type": "stream",
     "text": [
      "\r",
      " 61% (193190400.0 of 315360000.0) |###  | Elapsed Time: 13:44:25 ETA:  17:59:47"
     ]
    },
    {
     "name": "stderr",
     "output_type": "stream",
     "text": [
      "\r",
      " 61% (193536000.0 of 315360000.0) |###  | Elapsed Time: 13:45:22 ETA:   5:36:20"
     ]
    },
    {
     "name": "stderr",
     "output_type": "stream",
     "text": [
      "\r",
      " 61% (193622400.0 of 315360000.0) |###  | Elapsed Time: 13:46:04 ETA:  16:26:07"
     ]
    },
    {
     "name": "stderr",
     "output_type": "stream",
     "text": [
      "\r",
      " 61% (193968000.0 of 315360000.0) |###  | Elapsed Time: 13:47:01 ETA:   5:35:25"
     ]
    },
    {
     "name": "stderr",
     "output_type": "stream",
     "text": [
      "\r",
      " 61% (194054400.0 of 315360000.0) |###  | Elapsed Time: 13:47:45 ETA:  17:05:27"
     ]
    },
    {
     "name": "stderr",
     "output_type": "stream",
     "text": [
      "\r",
      " 61% (194400000.0 of 315360000.0) |###  | Elapsed Time: 13:48:42 ETA:   5:33:31"
     ]
    },
    {
     "name": "stderr",
     "output_type": "stream",
     "text": [
      "\r",
      " 61% (194486400.0 of 315360000.0) |###  | Elapsed Time: 13:49:26 ETA:  16:58:41"
     ]
    },
    {
     "name": "stderr",
     "output_type": "stream",
     "text": [
      "\r",
      " 61% (194832000.0 of 315360000.0) |###  | Elapsed Time: 13:50:24 ETA:   5:35:44"
     ]
    },
    {
     "name": "stderr",
     "output_type": "stream",
     "text": [
      "\r",
      " 61% (194918400.0 of 315360000.0) |###  | Elapsed Time: 13:51:07 ETA:  16:41:58"
     ]
    },
    {
     "name": "stderr",
     "output_type": "stream",
     "text": [
      "\r",
      " 61% (195264000.0 of 315360000.0) |###  | Elapsed Time: 13:52:04 ETA:   5:31:23"
     ]
    },
    {
     "name": "stderr",
     "output_type": "stream",
     "text": [
      "\r",
      " 61% (195350400.0 of 315360000.0) |###  | Elapsed Time: 13:52:47 ETA:  16:21:54"
     ]
    },
    {
     "name": "stderr",
     "output_type": "stream",
     "text": [
      "\r",
      " 62% (195696000.0 of 315360000.0) |###  | Elapsed Time: 13:53:44 ETA:   5:30:41"
     ]
    },
    {
     "name": "stderr",
     "output_type": "stream",
     "text": [
      "\r",
      " 62% (195782400.0 of 315360000.0) |###  | Elapsed Time: 13:54:28 ETA:  16:50:23"
     ]
    },
    {
     "name": "stderr",
     "output_type": "stream",
     "text": [
      "\r",
      " 62% (196128000.0 of 315360000.0) |###  | Elapsed Time: 13:55:25 ETA:   5:27:54"
     ]
    },
    {
     "name": "stderr",
     "output_type": "stream",
     "text": [
      "\r",
      " 62% (196214400.0 of 315360000.0) |###  | Elapsed Time: 13:56:08 ETA:  16:42:25"
     ]
    },
    {
     "name": "stderr",
     "output_type": "stream",
     "text": [
      "\r",
      " 62% (196560000.0 of 315360000.0) |###  | Elapsed Time: 13:57:06 ETA:   5:29:01"
     ]
    },
    {
     "name": "stderr",
     "output_type": "stream",
     "text": [
      "\r",
      " 62% (196646400.0 of 315360000.0) |###  | Elapsed Time: 13:57:49 ETA:  16:38:44"
     ]
    },
    {
     "name": "stderr",
     "output_type": "stream",
     "text": [
      "\r",
      " 62% (196992000.0 of 315360000.0) |###  | Elapsed Time: 13:58:46 ETA:   5:25:37"
     ]
    },
    {
     "name": "stderr",
     "output_type": "stream",
     "text": [
      "\r",
      " 62% (197078400.0 of 315360000.0) |###  | Elapsed Time: 13:59:29 ETA:  16:19:32"
     ]
    },
    {
     "name": "stderr",
     "output_type": "stream",
     "text": [
      "\r",
      " 62% (197424000.0 of 315360000.0) |###  | Elapsed Time: 14:00:27 ETA:   5:25:30"
     ]
    },
    {
     "name": "stderr",
     "output_type": "stream",
     "text": [
      "\r",
      " 62% (197510400.0 of 315360000.0) |###  | Elapsed Time: 14:01:09 ETA:  16:15:03"
     ]
    },
    {
     "name": "stderr",
     "output_type": "stream",
     "text": [
      "\r",
      " 62% (197856000.0 of 315360000.0) |###  | Elapsed Time: 14:02:07 ETA:   5:23:14"
     ]
    },
    {
     "name": "stderr",
     "output_type": "stream",
     "text": [
      "\r",
      " 62% (197942400.0 of 315360000.0) |###  | Elapsed Time: 14:02:49 ETA:  16:05:42"
     ]
    },
    {
     "name": "stderr",
     "output_type": "stream",
     "text": [
      "\r",
      " 62% (198288000.0 of 315360000.0) |###  | Elapsed Time: 14:03:46 ETA:   5:20:46"
     ]
    },
    {
     "name": "stderr",
     "output_type": "stream",
     "text": [
      "\r",
      " 62% (198374400.0 of 315360000.0) |###  | Elapsed Time: 14:04:29 ETA:  16:02:43"
     ]
    },
    {
     "name": "stderr",
     "output_type": "stream",
     "text": [
      "\r",
      " 63% (198720000.0 of 315360000.0) |###  | Elapsed Time: 14:05:25 ETA:   5:18:57"
     ]
    },
    {
     "name": "stderr",
     "output_type": "stream",
     "text": [
      "\r",
      " 63% (198806400.0 of 315360000.0) |###  | Elapsed Time: 14:06:09 ETA:  16:27:28"
     ]
    },
    {
     "name": "stderr",
     "output_type": "stream",
     "text": [
      "\r",
      " 63% (199152000.0 of 315360000.0) |###  | Elapsed Time: 14:07:07 ETA:   5:21:08"
     ]
    },
    {
     "name": "stderr",
     "output_type": "stream",
     "text": [
      "\r",
      " 63% (199238400.0 of 315360000.0) |###  | Elapsed Time: 14:07:50 ETA:  16:03:28"
     ]
    },
    {
     "name": "stderr",
     "output_type": "stream",
     "text": [
      "\r",
      " 63% (199584000.0 of 315360000.0) |###  | Elapsed Time: 14:08:47 ETA:   5:18:21"
     ]
    },
    {
     "name": "stderr",
     "output_type": "stream",
     "text": [
      "\r",
      " 63% (199670400.0 of 315360000.0) |###  | Elapsed Time: 14:09:30 ETA:  16:07:35"
     ]
    },
    {
     "name": "stderr",
     "output_type": "stream",
     "text": [
      "\r",
      " 63% (200016000.0 of 315360000.0) |###  | Elapsed Time: 14:10:27 ETA:   5:15:18"
     ]
    },
    {
     "name": "stderr",
     "output_type": "stream",
     "text": [
      "\r",
      " 63% (200102400.0 of 315360000.0) |###  | Elapsed Time: 14:11:11 ETA:  16:20:15"
     ]
    },
    {
     "name": "stderr",
     "output_type": "stream",
     "text": [
      "\r",
      " 63% (200448000.0 of 315360000.0) |###  | Elapsed Time: 14:12:07 ETA:   5:13:36"
     ]
    },
    {
     "name": "stderr",
     "output_type": "stream",
     "text": [
      "\r",
      " 63% (200534400.0 of 315360000.0) |###  | Elapsed Time: 14:12:51 ETA:  15:57:46"
     ]
    },
    {
     "name": "stderr",
     "output_type": "stream",
     "text": [
      "\r",
      " 63% (200880000.0 of 315360000.0) |###  | Elapsed Time: 14:13:48 ETA:   5:15:45"
     ]
    },
    {
     "name": "stderr",
     "output_type": "stream",
     "text": [
      "\r",
      " 63% (200966400.0 of 315360000.0) |###  | Elapsed Time: 14:14:32 ETA:  16:07:40"
     ]
    },
    {
     "name": "stderr",
     "output_type": "stream",
     "text": [
      "\r",
      " 63% (201312000.0 of 315360000.0) |###  | Elapsed Time: 14:15:29 ETA:   5:16:20"
     ]
    },
    {
     "name": "stderr",
     "output_type": "stream",
     "text": [
      "\r",
      " 63% (201398400.0 of 315360000.0) |###  | Elapsed Time: 14:16:14 ETA:  16:32:31"
     ]
    },
    {
     "name": "stderr",
     "output_type": "stream",
     "text": [
      "\r",
      " 63% (201744000.0 of 315360000.0) |###  | Elapsed Time: 14:17:11 ETA:   5:11:37"
     ]
    },
    {
     "name": "stderr",
     "output_type": "stream",
     "text": [
      "\r",
      " 64% (201830400.0 of 315360000.0) |###  | Elapsed Time: 14:17:54 ETA:  15:45:55"
     ]
    },
    {
     "name": "stderr",
     "output_type": "stream",
     "text": [
      "\r",
      " 64% (202176000.0 of 315360000.0) |###  | Elapsed Time: 14:18:51 ETA:   5:08:12"
     ]
    },
    {
     "name": "stderr",
     "output_type": "stream",
     "text": [
      "\r",
      " 64% (202262400.0 of 315360000.0) |###  | Elapsed Time: 14:19:34 ETA:  15:37:06"
     ]
    },
    {
     "name": "stderr",
     "output_type": "stream",
     "text": [
      "\r",
      " 64% (202608000.0 of 315360000.0) |###  | Elapsed Time: 14:20:30 ETA:   5:07:35"
     ]
    },
    {
     "name": "stderr",
     "output_type": "stream",
     "text": [
      "\r",
      " 64% (202694400.0 of 315360000.0) |###  | Elapsed Time: 14:21:13 ETA:  15:27:40"
     ]
    },
    {
     "name": "stderr",
     "output_type": "stream",
     "text": [
      "\r",
      " 64% (203040000.0 of 315360000.0) |###  | Elapsed Time: 14:22:09 ETA:   5:05:12"
     ]
    },
    {
     "name": "stderr",
     "output_type": "stream",
     "text": [
      "\r",
      " 64% (203126400.0 of 315360000.0) |###  | Elapsed Time: 14:22:52 ETA:  15:20:37"
     ]
    },
    {
     "name": "stderr",
     "output_type": "stream",
     "text": [
      "\r",
      " 64% (203472000.0 of 315360000.0) |###  | Elapsed Time: 14:23:48 ETA:   5:03:43"
     ]
    },
    {
     "name": "stderr",
     "output_type": "stream",
     "text": [
      "\r",
      " 64% (203558400.0 of 315360000.0) |###  | Elapsed Time: 14:24:31 ETA:  15:34:12"
     ]
    },
    {
     "name": "stderr",
     "output_type": "stream",
     "text": [
      "\r",
      " 64% (203904000.0 of 315360000.0) |###  | Elapsed Time: 14:25:28 ETA:   5:04:47"
     ]
    },
    {
     "name": "stderr",
     "output_type": "stream",
     "text": [
      "\r",
      " 64% (203990400.0 of 315360000.0) |###  | Elapsed Time: 14:26:11 ETA:  15:21:57"
     ]
    },
    {
     "name": "stderr",
     "output_type": "stream",
     "text": [
      "\r",
      " 64% (204336000.0 of 315360000.0) |###  | Elapsed Time: 14:27:07 ETA:   4:59:39"
     ]
    },
    {
     "name": "stderr",
     "output_type": "stream",
     "text": [
      "\r",
      " 64% (204422400.0 of 315360000.0) |###  | Elapsed Time: 14:27:50 ETA:  15:14:42"
     ]
    },
    {
     "name": "stderr",
     "output_type": "stream",
     "text": [
      "\r",
      " 64% (204768000.0 of 315360000.0) |###  | Elapsed Time: 14:28:46 ETA:   4:58:40"
     ]
    },
    {
     "name": "stderr",
     "output_type": "stream",
     "text": [
      "\r",
      " 64% (204854400.0 of 315360000.0) |###  | Elapsed Time: 14:29:29 ETA:  15:11:42"
     ]
    },
    {
     "name": "stderr",
     "output_type": "stream",
     "text": [
      "\r",
      " 65% (205200000.0 of 315360000.0) |###  | Elapsed Time: 14:30:25 ETA:   4:58:01"
     ]
    },
    {
     "name": "stderr",
     "output_type": "stream",
     "text": [
      "\r",
      " 65% (205286400.0 of 315360000.0) |###  | Elapsed Time: 14:31:08 ETA:  15:18:21"
     ]
    },
    {
     "name": "stderr",
     "output_type": "stream",
     "text": [
      "\r",
      " 65% (205632000.0 of 315360000.0) |###  | Elapsed Time: 14:32:05 ETA:   5:01:35"
     ]
    },
    {
     "name": "stderr",
     "output_type": "stream",
     "text": [
      "\r",
      " 65% (205718400.0 of 315360000.0) |###  | Elapsed Time: 14:32:49 ETA:  15:35:55"
     ]
    },
    {
     "name": "stderr",
     "output_type": "stream",
     "text": [
      "\r",
      " 65% (206064000.0 of 315360000.0) |###  | Elapsed Time: 14:33:46 ETA:   4:57:11"
     ]
    },
    {
     "name": "stderr",
     "output_type": "stream",
     "text": [
      "\r",
      " 65% (206150400.0 of 315360000.0) |###  | Elapsed Time: 14:34:30 ETA:  15:34:51"
     ]
    },
    {
     "name": "stderr",
     "output_type": "stream",
     "text": [
      "\r",
      " 65% (206496000.0 of 315360000.0) |###  | Elapsed Time: 14:35:26 ETA:   4:53:19"
     ]
    },
    {
     "name": "stderr",
     "output_type": "stream",
     "text": [
      "\r",
      " 65% (206582400.0 of 315360000.0) |###  | Elapsed Time: 14:36:09 ETA:  15:09:24"
     ]
    },
    {
     "name": "stderr",
     "output_type": "stream",
     "text": [
      "\r",
      " 65% (206928000.0 of 315360000.0) |###  | Elapsed Time: 14:37:05 ETA:   4:53:36"
     ]
    },
    {
     "name": "stderr",
     "output_type": "stream",
     "text": [
      "\r",
      " 65% (207014400.0 of 315360000.0) |###  | Elapsed Time: 14:37:48 ETA:  14:45:08"
     ]
    },
    {
     "name": "stderr",
     "output_type": "stream",
     "text": [
      "\r",
      " 65% (207360000.0 of 315360000.0) |###  | Elapsed Time: 14:38:44 ETA:   4:53:18"
     ]
    },
    {
     "name": "stderr",
     "output_type": "stream",
     "text": [
      "\r",
      " 65% (207446400.0 of 315360000.0) |###  | Elapsed Time: 14:39:28 ETA:  15:11:46"
     ]
    },
    {
     "name": "stderr",
     "output_type": "stream",
     "text": [
      "\r",
      " 65% (207792000.0 of 315360000.0) |###  | Elapsed Time: 14:40:24 ETA:   4:51:49"
     ]
    },
    {
     "name": "stderr",
     "output_type": "stream",
     "text": [
      "\r",
      " 65% (207878400.0 of 315360000.0) |###  | Elapsed Time: 14:41:07 ETA:  14:44:21"
     ]
    },
    {
     "name": "stderr",
     "output_type": "stream",
     "text": [
      "\r",
      " 66% (208224000.0 of 315360000.0) |###  | Elapsed Time: 14:42:03 ETA:   4:51:36"
     ]
    },
    {
     "name": "stderr",
     "output_type": "stream",
     "text": [
      "\r",
      " 66% (208310400.0 of 315360000.0) |###  | Elapsed Time: 14:42:45 ETA:  14:28:53"
     ]
    },
    {
     "name": "stderr",
     "output_type": "stream",
     "text": [
      "\r",
      " 66% (208656000.0 of 315360000.0) |###  | Elapsed Time: 14:43:41 ETA:   4:46:34"
     ]
    },
    {
     "name": "stderr",
     "output_type": "stream",
     "text": [
      "\r",
      " 66% (208742400.0 of 315360000.0) |###  | Elapsed Time: 14:44:23 ETA:  14:32:28"
     ]
    },
    {
     "name": "stderr",
     "output_type": "stream",
     "text": [
      "\r",
      " 66% (209088000.0 of 315360000.0) |###  | Elapsed Time: 14:45:19 ETA:   4:46:38"
     ]
    },
    {
     "name": "stderr",
     "output_type": "stream",
     "text": [
      "\r",
      " 66% (209174400.0 of 315360000.0) |###  | Elapsed Time: 14:46:02 ETA:  14:39:43"
     ]
    },
    {
     "name": "stderr",
     "output_type": "stream",
     "text": [
      "\r",
      " 66% (209520000.0 of 315360000.0) |###  | Elapsed Time: 14:46:59 ETA:   4:49:27"
     ]
    },
    {
     "name": "stderr",
     "output_type": "stream",
     "text": [
      "\r",
      " 66% (209606400.0 of 315360000.0) |###  | Elapsed Time: 14:47:42 ETA:  14:35:14"
     ]
    },
    {
     "name": "stderr",
     "output_type": "stream",
     "text": [
      "\r",
      " 66% (209952000.0 of 315360000.0) |###  | Elapsed Time: 14:48:38 ETA:   4:43:23"
     ]
    },
    {
     "name": "stderr",
     "output_type": "stream",
     "text": [
      "\r",
      " 66% (210038400.0 of 315360000.0) |###  | Elapsed Time: 14:49:21 ETA:  14:45:38"
     ]
    },
    {
     "name": "stderr",
     "output_type": "stream",
     "text": [
      "\r",
      " 66% (210384000.0 of 315360000.0) |###  | Elapsed Time: 14:50:17 ETA:   4:42:59"
     ]
    },
    {
     "name": "stderr",
     "output_type": "stream",
     "text": [
      "\r",
      " 66% (210470400.0 of 315360000.0) |###  | Elapsed Time: 14:50:59 ETA:  14:10:27"
     ]
    },
    {
     "name": "stderr",
     "output_type": "stream",
     "text": [
      "\r",
      " 66% (210816000.0 of 315360000.0) |###  | Elapsed Time: 14:51:55 ETA:   4:40:19"
     ]
    },
    {
     "name": "stderr",
     "output_type": "stream",
     "text": [
      "\r",
      " 66% (210902400.0 of 315360000.0) |###  | Elapsed Time: 14:52:37 ETA:  14:10:27"
     ]
    },
    {
     "name": "stderr",
     "output_type": "stream",
     "text": [
      "\r",
      " 66% (211248000.0 of 315360000.0) |###  | Elapsed Time: 14:53:33 ETA:   4:40:32"
     ]
    },
    {
     "name": "stderr",
     "output_type": "stream",
     "text": [
      "\r",
      " 67% (211334400.0 of 315360000.0) |###  | Elapsed Time: 14:54:16 ETA:  14:22:03"
     ]
    },
    {
     "name": "stderr",
     "output_type": "stream",
     "text": [
      "\r",
      " 67% (211680000.0 of 315360000.0) |###  | Elapsed Time: 14:55:12 ETA:   4:39:30"
     ]
    },
    {
     "name": "stderr",
     "output_type": "stream",
     "text": [
      "\r",
      " 67% (211766400.0 of 315360000.0) |###  | Elapsed Time: 14:55:55 ETA:  14:18:16"
     ]
    },
    {
     "name": "stderr",
     "output_type": "stream",
     "text": [
      "\r",
      " 67% (212112000.0 of 315360000.0) |###  | Elapsed Time: 14:56:51 ETA:   4:38:44"
     ]
    },
    {
     "name": "stderr",
     "output_type": "stream",
     "text": [
      "\r",
      " 67% (212198400.0 of 315360000.0) |###  | Elapsed Time: 14:57:35 ETA:  14:51:16"
     ]
    },
    {
     "name": "stderr",
     "output_type": "stream",
     "text": [
      "\r",
      " 67% (212544000.0 of 315360000.0) |###  | Elapsed Time: 14:58:31 ETA:   4:37:21"
     ]
    },
    {
     "name": "stderr",
     "output_type": "stream",
     "text": [
      "\r",
      " 67% (212630400.0 of 315360000.0) |###  | Elapsed Time: 14:59:14 ETA:  14:07:01"
     ]
    },
    {
     "name": "stderr",
     "output_type": "stream",
     "text": [
      "\r",
      " 67% (212976000.0 of 315360000.0) |###  | Elapsed Time: 15:00:09 ETA:   4:33:03"
     ]
    },
    {
     "name": "stderr",
     "output_type": "stream",
     "text": [
      "\r",
      " 67% (213062400.0 of 315360000.0) |###  | Elapsed Time: 15:00:51 ETA:  13:43:12"
     ]
    },
    {
     "name": "stderr",
     "output_type": "stream",
     "text": [
      "\r",
      " 67% (213408000.0 of 315360000.0) |###  | Elapsed Time: 15:01:46 ETA:   4:32:23"
     ]
    },
    {
     "name": "stderr",
     "output_type": "stream",
     "text": [
      "\r",
      " 67% (213494400.0 of 315360000.0) |###  | Elapsed Time: 15:02:31 ETA:  14:33:04"
     ]
    },
    {
     "name": "stderr",
     "output_type": "stream",
     "text": [
      "\r",
      " 67% (213840000.0 of 315360000.0) |###  | Elapsed Time: 15:03:27 ETA:   4:32:53"
     ]
    },
    {
     "name": "stderr",
     "output_type": "stream",
     "text": [
      "\r",
      " 67% (213926400.0 of 315360000.0) |###  | Elapsed Time: 15:04:10 ETA:  14:16:33"
     ]
    },
    {
     "name": "stderr",
     "output_type": "stream",
     "text": [
      "\r",
      " 67% (214272000.0 of 315360000.0) |###  | Elapsed Time: 15:05:07 ETA:   4:33:43"
     ]
    },
    {
     "name": "stderr",
     "output_type": "stream",
     "text": [
      "\r",
      " 67% (214358400.0 of 315360000.0) |###  | Elapsed Time: 15:05:51 ETA:  14:18:21"
     ]
    },
    {
     "name": "stderr",
     "output_type": "stream",
     "text": [
      "\r",
      " 68% (214704000.0 of 315360000.0) |###  | Elapsed Time: 15:06:46 ETA:   4:28:44"
     ]
    },
    {
     "name": "stderr",
     "output_type": "stream",
     "text": [
      "\r",
      " 68% (214790400.0 of 315360000.0) |###  | Elapsed Time: 15:07:29 ETA:  14:00:44"
     ]
    },
    {
     "name": "stderr",
     "output_type": "stream",
     "text": [
      "\r",
      " 68% (215136000.0 of 315360000.0) |###  | Elapsed Time: 15:08:24 ETA:   4:26:45"
     ]
    },
    {
     "name": "stderr",
     "output_type": "stream",
     "text": [
      "\r",
      " 68% (215222400.0 of 315360000.0) |###  | Elapsed Time: 15:09:07 ETA:  13:36:23"
     ]
    },
    {
     "name": "stderr",
     "output_type": "stream",
     "text": [
      "\r",
      " 68% (215568000.0 of 315360000.0) |###  | Elapsed Time: 15:10:02 ETA:   4:25:48"
     ]
    },
    {
     "name": "stderr",
     "output_type": "stream",
     "text": [
      "\r",
      " 68% (215654400.0 of 315360000.0) |###  | Elapsed Time: 15:10:44 ETA:  13:30:54"
     ]
    },
    {
     "name": "stderr",
     "output_type": "stream",
     "text": [
      "\r",
      " 68% (216000000.0 of 315360000.0) |###  | Elapsed Time: 15:11:39 ETA:   4:23:31"
     ]
    },
    {
     "name": "stderr",
     "output_type": "stream",
     "text": [
      "\r",
      " 68% (216086400.0 of 315360000.0) |###  | Elapsed Time: 15:12:22 ETA:  13:44:55"
     ]
    },
    {
     "name": "stderr",
     "output_type": "stream",
     "text": [
      "\r",
      " 68% (216432000.0 of 315360000.0) |###  | Elapsed Time: 15:13:18 ETA:   4:26:15"
     ]
    },
    {
     "name": "stderr",
     "output_type": "stream",
     "text": [
      "\r",
      " 68% (216518400.0 of 315360000.0) |###  | Elapsed Time: 15:14:01 ETA:  13:32:07"
     ]
    },
    {
     "name": "stderr",
     "output_type": "stream",
     "text": [
      "\r",
      " 68% (216864000.0 of 315360000.0) |###  | Elapsed Time: 15:14:56 ETA:   4:22:01"
     ]
    },
    {
     "name": "stderr",
     "output_type": "stream",
     "text": [
      "\r",
      " 68% (216950400.0 of 315360000.0) |###  | Elapsed Time: 15:15:37 ETA:  13:09:21"
     ]
    },
    {
     "name": "stderr",
     "output_type": "stream",
     "text": [
      "\r",
      " 68% (217296000.0 of 315360000.0) |###  | Elapsed Time: 15:16:32 ETA:   4:20:38"
     ]
    },
    {
     "name": "stderr",
     "output_type": "stream",
     "text": [
      "\r",
      " 68% (217382400.0 of 315360000.0) |###  | Elapsed Time: 15:17:14 ETA:  13:12:22"
     ]
    },
    {
     "name": "stderr",
     "output_type": "stream",
     "text": [
      "\r",
      " 69% (217728000.0 of 315360000.0) |###  | Elapsed Time: 15:18:10 ETA:   4:20:14"
     ]
    },
    {
     "name": "stderr",
     "output_type": "stream",
     "text": [
      "\r",
      " 69% (217814400.0 of 315360000.0) |###  | Elapsed Time: 15:18:51 ETA:  13:07:07"
     ]
    },
    {
     "name": "stderr",
     "output_type": "stream",
     "text": [
      "\r",
      " 69% (218160000.0 of 315360000.0) |###  | Elapsed Time: 15:19:47 ETA:   4:19:10"
     ]
    },
    {
     "name": "stderr",
     "output_type": "stream",
     "text": [
      "\r",
      " 69% (218246400.0 of 315360000.0) |###  | Elapsed Time: 15:20:29 ETA:  13:13:53"
     ]
    },
    {
     "name": "stderr",
     "output_type": "stream",
     "text": [
      "\r",
      " 69% (218592000.0 of 315360000.0) |###  | Elapsed Time: 15:21:25 ETA:   4:18:22"
     ]
    },
    {
     "name": "stderr",
     "output_type": "stream",
     "text": [
      "\r",
      " 69% (218678400.0 of 315360000.0) |###  | Elapsed Time: 15:22:07 ETA:  13:03:59"
     ]
    },
    {
     "name": "stderr",
     "output_type": "stream",
     "text": [
      "\r",
      " 69% (219024000.0 of 315360000.0) |###  | Elapsed Time: 15:23:02 ETA:   4:15:59"
     ]
    },
    {
     "name": "stderr",
     "output_type": "stream",
     "text": [
      "\r",
      " 69% (219110400.0 of 315360000.0) |###  | Elapsed Time: 15:23:45 ETA:  13:19:18"
     ]
    },
    {
     "name": "stderr",
     "output_type": "stream",
     "text": [
      "\r",
      " 69% (219456000.0 of 315360000.0) |###  | Elapsed Time: 15:24:40 ETA:   4:14:13"
     ]
    },
    {
     "name": "stderr",
     "output_type": "stream",
     "text": [
      "\r",
      " 69% (219542400.0 of 315360000.0) |###  | Elapsed Time: 15:25:21 ETA:  12:49:15"
     ]
    },
    {
     "name": "stderr",
     "output_type": "stream",
     "text": [
      "\r",
      " 69% (219888000.0 of 315360000.0) |###  | Elapsed Time: 15:26:17 ETA:   4:15:05"
     ]
    },
    {
     "name": "stderr",
     "output_type": "stream",
     "text": [
      "\r",
      " 69% (220017600.0 of 315360000.0) |###  | Elapsed Time: 15:27:05 ETA:   9:55:23"
     ]
    },
    {
     "name": "stderr",
     "output_type": "stream",
     "text": [
      "\r",
      " 69% (220320000.0 of 315360000.0) |###  | Elapsed Time: 15:27:54 ETA:   4:16:24"
     ]
    },
    {
     "name": "stderr",
     "output_type": "stream",
     "text": [
      "\r",
      " 69% (220492800.0 of 315360000.0) |###  | Elapsed Time: 15:28:50 ETA:   8:32:40"
     ]
    },
    {
     "name": "stderr",
     "output_type": "stream",
     "text": [
      "\r",
      " 70% (220752000.0 of 315360000.0) |###  | Elapsed Time: 15:29:33 ETA:   4:19:42"
     ]
    },
    {
     "name": "stderr",
     "output_type": "stream",
     "text": [
      "\r",
      " 70% (220924800.0 of 315360000.0) |###  | Elapsed Time: 15:30:28 ETA:   8:20:53"
     ]
    },
    {
     "name": "stderr",
     "output_type": "stream",
     "text": [
      "\r",
      " 70% (221184000.0 of 315360000.0) |###  | Elapsed Time: 15:31:11 ETA:   4:18:12"
     ]
    },
    {
     "name": "stderr",
     "output_type": "stream",
     "text": [
      "\r",
      " 70% (221356800.0 of 315360000.0) |###  | Elapsed Time: 15:32:06 ETA:   8:24:49"
     ]
    },
    {
     "name": "stderr",
     "output_type": "stream",
     "text": [
      "\r",
      " 70% (221616000.0 of 315360000.0) |###  | Elapsed Time: 15:32:49 ETA:   4:15:18"
     ]
    },
    {
     "name": "stderr",
     "output_type": "stream",
     "text": [
      "\r",
      " 70% (221788800.0 of 315360000.0) |###  | Elapsed Time: 15:33:45 ETA:   8:24:29"
     ]
    },
    {
     "name": "stderr",
     "output_type": "stream",
     "text": [
      "\r",
      " 70% (222048000.0 of 315360000.0) |###  | Elapsed Time: 15:34:27 ETA:   4:17:24"
     ]
    },
    {
     "name": "stderr",
     "output_type": "stream",
     "text": [
      "\r",
      " 70% (222220800.0 of 315360000.0) |###  | Elapsed Time: 15:35:21 ETA:   8:05:02"
     ]
    },
    {
     "name": "stderr",
     "output_type": "stream",
     "text": [
      "\r",
      " 70% (222480000.0 of 315360000.0) |###  | Elapsed Time: 15:36:03 ETA:   4:11:10"
     ]
    },
    {
     "name": "stderr",
     "output_type": "stream",
     "text": [
      "\r",
      " 70% (222652800.0 of 315360000.0) |###  | Elapsed Time: 15:36:57 ETA:   8:00:19"
     ]
    },
    {
     "name": "stderr",
     "output_type": "stream",
     "text": [
      "\r",
      " 70% (222912000.0 of 315360000.0) |###  | Elapsed Time: 15:37:39 ETA:   4:09:44"
     ]
    },
    {
     "name": "stderr",
     "output_type": "stream",
     "text": [
      "\r",
      " 70% (223084800.0 of 315360000.0) |###  | Elapsed Time: 15:38:34 ETA:   8:08:34"
     ]
    },
    {
     "name": "stderr",
     "output_type": "stream",
     "text": [
      "\r",
      " 70% (223344000.0 of 315360000.0) |###  | Elapsed Time: 15:39:16 ETA:   4:10:27"
     ]
    },
    {
     "name": "stderr",
     "output_type": "stream",
     "text": [
      "\r",
      " 70% (223516800.0 of 315360000.0) |###  | Elapsed Time: 15:40:11 ETA:   8:02:39"
     ]
    },
    {
     "name": "stderr",
     "output_type": "stream",
     "text": [
      "\r",
      " 70% (223776000.0 of 315360000.0) |###  | Elapsed Time: 15:40:53 ETA:   4:06:57"
     ]
    },
    {
     "name": "stderr",
     "output_type": "stream",
     "text": [
      "\r",
      " 71% (223948800.0 of 315360000.0) |###  | Elapsed Time: 15:41:47 ETA:   7:58:54"
     ]
    },
    {
     "name": "stderr",
     "output_type": "stream",
     "text": [
      "\r",
      " 71% (224208000.0 of 315360000.0) |###  | Elapsed Time: 15:42:29 ETA:   4:07:07"
     ]
    },
    {
     "name": "stderr",
     "output_type": "stream",
     "text": [
      "\r",
      " 71% (224380800.0 of 315360000.0) |###  | Elapsed Time: 15:43:24 ETA:   8:00:04"
     ]
    },
    {
     "name": "stderr",
     "output_type": "stream",
     "text": [
      "\r",
      " 71% (224640000.0 of 315360000.0) |###  | Elapsed Time: 15:44:06 ETA:   4:06:51"
     ]
    },
    {
     "name": "stderr",
     "output_type": "stream",
     "text": [
      "\r",
      " 71% (224812800.0 of 315360000.0) |###  | Elapsed Time: 15:45:01 ETA:   8:01:09"
     ]
    },
    {
     "name": "stderr",
     "output_type": "stream",
     "text": [
      "\r",
      " 71% (225072000.0 of 315360000.0) |###  | Elapsed Time: 15:45:44 ETA:   4:05:41"
     ]
    },
    {
     "name": "stderr",
     "output_type": "stream",
     "text": [
      "\r",
      " 71% (225244800.0 of 315360000.0) |###  | Elapsed Time: 15:46:38 ETA:   7:50:06"
     ]
    },
    {
     "name": "stderr",
     "output_type": "stream",
     "text": [
      "\r",
      " 71% (225504000.0 of 315360000.0) |###  | Elapsed Time: 15:47:20 ETA:   4:04:10"
     ]
    },
    {
     "name": "stderr",
     "output_type": "stream",
     "text": [
      "\r",
      " 71% (225676800.0 of 315360000.0) |###  | Elapsed Time: 15:48:16 ETA:   8:00:55"
     ]
    },
    {
     "name": "stderr",
     "output_type": "stream",
     "text": [
      "\r",
      " 71% (225936000.0 of 315360000.0) |###  | Elapsed Time: 15:48:58 ETA:   4:02:30"
     ]
    },
    {
     "name": "stderr",
     "output_type": "stream",
     "text": [
      "\r",
      " 71% (226108800.0 of 315360000.0) |###  | Elapsed Time: 15:49:54 ETA:   8:01:35"
     ]
    },
    {
     "name": "stderr",
     "output_type": "stream",
     "text": [
      "\r",
      " 71% (226368000.0 of 315360000.0) |###  | Elapsed Time: 15:50:36 ETA:   4:01:42"
     ]
    },
    {
     "name": "stderr",
     "output_type": "stream",
     "text": [
      "\r",
      " 71% (226540800.0 of 315360000.0) |###  | Elapsed Time: 15:51:30 ETA:   7:43:19"
     ]
    },
    {
     "name": "stderr",
     "output_type": "stream",
     "text": [
      "\r",
      " 71% (226800000.0 of 315360000.0) |###  | Elapsed Time: 15:52:12 ETA:   3:57:40"
     ]
    },
    {
     "name": "stderr",
     "output_type": "stream",
     "text": [
      "\r",
      " 71% (226972800.0 of 315360000.0) |###  | Elapsed Time: 15:53:08 ETA:   7:56:21"
     ]
    },
    {
     "name": "stderr",
     "output_type": "stream",
     "text": [
      "\r",
      " 72% (227232000.0 of 315360000.0) |###  | Elapsed Time: 15:53:50 ETA:   3:58:58"
     ]
    },
    {
     "name": "stderr",
     "output_type": "stream",
     "text": [
      "\r",
      " 72% (227404800.0 of 315360000.0) |###  | Elapsed Time: 15:54:44 ETA:   7:39:55"
     ]
    },
    {
     "name": "stderr",
     "output_type": "stream",
     "text": [
      "\r",
      " 72% (227664000.0 of 315360000.0) |###  | Elapsed Time: 15:55:26 ETA:   3:58:05"
     ]
    },
    {
     "name": "stderr",
     "output_type": "stream",
     "text": [
      "\r",
      " 72% (227836800.0 of 315360000.0) |###  | Elapsed Time: 15:56:21 ETA:   7:42:49"
     ]
    },
    {
     "name": "stderr",
     "output_type": "stream",
     "text": [
      "\r",
      " 72% (228096000.0 of 315360000.0) |###  | Elapsed Time: 15:57:03 ETA:   3:53:49"
     ]
    },
    {
     "name": "stderr",
     "output_type": "stream",
     "text": [
      "\r",
      " 72% (228268800.0 of 315360000.0) |###  | Elapsed Time: 15:57:58 ETA:   7:40:41"
     ]
    },
    {
     "name": "stderr",
     "output_type": "stream",
     "text": [
      "\r",
      " 72% (228528000.0 of 315360000.0) |###  | Elapsed Time: 15:58:39 ETA:   3:52:10"
     ]
    },
    {
     "name": "stderr",
     "output_type": "stream",
     "text": [
      "\r",
      " 72% (228700800.0 of 315360000.0) |###  | Elapsed Time: 15:59:33 ETA:   7:29:10"
     ]
    },
    {
     "name": "stderr",
     "output_type": "stream",
     "text": [
      "\r",
      " 72% (228960000.0 of 315360000.0) |###  | Elapsed Time: 16:00:15 ETA:   3:53:20"
     ]
    },
    {
     "name": "stderr",
     "output_type": "stream",
     "text": [
      "\r",
      " 72% (229132800.0 of 315360000.0) |###  | Elapsed Time: 16:01:11 ETA:   7:44:38"
     ]
    },
    {
     "name": "stderr",
     "output_type": "stream",
     "text": [
      "\r",
      " 72% (229392000.0 of 315360000.0) |###  | Elapsed Time: 16:01:53 ETA:   3:50:11"
     ]
    },
    {
     "name": "stderr",
     "output_type": "stream",
     "text": [
      "\r",
      " 72% (229564800.0 of 315360000.0) |###  | Elapsed Time: 16:02:49 ETA:   7:44:48"
     ]
    },
    {
     "name": "stderr",
     "output_type": "stream",
     "text": [
      "\r",
      " 72% (229824000.0 of 315360000.0) |###  | Elapsed Time: 16:03:30 ETA:   3:49:46"
     ]
    },
    {
     "name": "stderr",
     "output_type": "stream",
     "text": [
      "\r",
      " 72% (229996800.0 of 315360000.0) |###  | Elapsed Time: 16:04:27 ETA:   7:43:07"
     ]
    },
    {
     "name": "stderr",
     "output_type": "stream",
     "text": [
      "\r",
      " 73% (230256000.0 of 315360000.0) |###  | Elapsed Time: 16:05:08 ETA:   3:47:24"
     ]
    },
    {
     "name": "stderr",
     "output_type": "stream",
     "text": [
      "\r",
      " 73% (230428800.0 of 315360000.0) |###  | Elapsed Time: 16:06:04 ETA:   7:32:43"
     ]
    },
    {
     "name": "stderr",
     "output_type": "stream",
     "text": [
      "\r",
      " 73% (230688000.0 of 315360000.0) |###  | Elapsed Time: 16:06:45 ETA:   3:47:43"
     ]
    },
    {
     "name": "stderr",
     "output_type": "stream",
     "text": [
      "\r",
      " 73% (230860800.0 of 315360000.0) |###  | Elapsed Time: 16:07:40 ETA:   7:22:43"
     ]
    },
    {
     "name": "stderr",
     "output_type": "stream",
     "text": [
      "\r",
      " 73% (231120000.0 of 315360000.0) |###  | Elapsed Time: 16:08:21 ETA:   3:44:38"
     ]
    },
    {
     "name": "stderr",
     "output_type": "stream",
     "text": [
      "\r",
      " 73% (231292800.0 of 315360000.0) |###  | Elapsed Time: 16:09:15 ETA:   7:14:01"
     ]
    },
    {
     "name": "stderr",
     "output_type": "stream",
     "text": [
      "\r",
      " 73% (231552000.0 of 315360000.0) |###  | Elapsed Time: 16:09:56 ETA:   3:43:46"
     ]
    },
    {
     "name": "stderr",
     "output_type": "stream",
     "text": [
      "\r",
      " 73% (231724800.0 of 315360000.0) |###  | Elapsed Time: 16:10:51 ETA:   7:24:05"
     ]
    },
    {
     "name": "stderr",
     "output_type": "stream",
     "text": [
      "\r",
      " 73% (231984000.0 of 315360000.0) |###  | Elapsed Time: 16:11:33 ETA:   3:43:53"
     ]
    },
    {
     "name": "stderr",
     "output_type": "stream",
     "text": [
      "\r",
      " 73% (232156800.0 of 315360000.0) |###  | Elapsed Time: 16:12:27 ETA:   7:15:57"
     ]
    },
    {
     "name": "stderr",
     "output_type": "stream",
     "text": [
      "\r",
      " 73% (232416000.0 of 315360000.0) |###  | Elapsed Time: 16:13:09 ETA:   3:40:44"
     ]
    },
    {
     "name": "stderr",
     "output_type": "stream",
     "text": [
      "\r",
      " 73% (232588800.0 of 315360000.0) |###  | Elapsed Time: 16:14:03 ETA:   7:16:14"
     ]
    },
    {
     "name": "stderr",
     "output_type": "stream",
     "text": [
      "\r",
      " 73% (232848000.0 of 315360000.0) |###  | Elapsed Time: 16:14:45 ETA:   3:38:48"
     ]
    },
    {
     "name": "stderr",
     "output_type": "stream",
     "text": [
      "\r",
      " 73% (233020800.0 of 315360000.0) |###  | Elapsed Time: 16:15:39 ETA:   7:07:52"
     ]
    },
    {
     "name": "stderr",
     "output_type": "stream",
     "text": [
      "\r",
      " 73% (233280000.0 of 315360000.0) |###  | Elapsed Time: 16:16:20 ETA:   3:36:49"
     ]
    },
    {
     "name": "stderr",
     "output_type": "stream",
     "text": [
      "\r",
      " 74% (233452800.0 of 315360000.0) |###  | Elapsed Time: 16:17:14 ETA:   7:11:59"
     ]
    },
    {
     "name": "stderr",
     "output_type": "stream",
     "text": [
      "\r",
      " 74% (233712000.0 of 315360000.0) |###  | Elapsed Time: 16:17:56 ETA:   3:37:23"
     ]
    },
    {
     "name": "stderr",
     "output_type": "stream",
     "text": [
      "\r",
      " 74% (233884800.0 of 315360000.0) |###  | Elapsed Time: 16:18:52 ETA:   7:21:04"
     ]
    },
    {
     "name": "stderr",
     "output_type": "stream",
     "text": [
      "\r",
      " 74% (234144000.0 of 315360000.0) |###  | Elapsed Time: 16:19:33 ETA:   3:37:06"
     ]
    },
    {
     "name": "stderr",
     "output_type": "stream",
     "text": [
      "\r",
      " 74% (234316800.0 of 315360000.0) |###  | Elapsed Time: 16:20:28 ETA:   7:05:44"
     ]
    },
    {
     "name": "stderr",
     "output_type": "stream",
     "text": [
      "\r",
      " 74% (234576000.0 of 315360000.0) |###  | Elapsed Time: 16:21:09 ETA:   3:35:38"
     ]
    },
    {
     "name": "stderr",
     "output_type": "stream",
     "text": [
      "\r",
      " 74% (234748800.0 of 315360000.0) |###  | Elapsed Time: 16:22:05 ETA:   7:09:43"
     ]
    },
    {
     "name": "stderr",
     "output_type": "stream",
     "text": [
      "\r",
      " 74% (235008000.0 of 315360000.0) |###  | Elapsed Time: 16:22:47 ETA:   3:36:17"
     ]
    },
    {
     "name": "stderr",
     "output_type": "stream",
     "text": [
      "\r",
      " 74% (235180800.0 of 315360000.0) |###  | Elapsed Time: 16:23:41 ETA:   7:02:15"
     ]
    },
    {
     "name": "stderr",
     "output_type": "stream",
     "text": [
      "\r",
      " 74% (235440000.0 of 315360000.0) |###  | Elapsed Time: 16:24:23 ETA:   3:34:02"
     ]
    },
    {
     "name": "stderr",
     "output_type": "stream",
     "text": [
      "\r",
      " 74% (235612800.0 of 315360000.0) |###  | Elapsed Time: 16:25:17 ETA:   6:56:55"
     ]
    },
    {
     "name": "stderr",
     "output_type": "stream",
     "text": [
      "\r",
      " 74% (235872000.0 of 315360000.0) |###  | Elapsed Time: 16:25:58 ETA:   3:30:33"
     ]
    },
    {
     "name": "stderr",
     "output_type": "stream",
     "text": [
      "\r",
      " 74% (236044800.0 of 315360000.0) |###  | Elapsed Time: 16:26:53 ETA:   6:56:39"
     ]
    },
    {
     "name": "stderr",
     "output_type": "stream",
     "text": [
      "\r",
      " 74% (236304000.0 of 315360000.0) |###  | Elapsed Time: 16:27:34 ETA:   3:29:16"
     ]
    },
    {
     "name": "stderr",
     "output_type": "stream",
     "text": [
      "\r",
      " 74% (236476800.0 of 315360000.0) |###  | Elapsed Time: 16:28:28 ETA:   6:52:25"
     ]
    },
    {
     "name": "stderr",
     "output_type": "stream",
     "text": [
      "\r",
      " 75% (236736000.0 of 315360000.0) |###  | Elapsed Time: 16:29:09 ETA:   3:29:22"
     ]
    },
    {
     "name": "stderr",
     "output_type": "stream",
     "text": [
      "\r",
      " 75% (236908800.0 of 315360000.0) |###  | Elapsed Time: 16:30:03 ETA:   6:44:35"
     ]
    },
    {
     "name": "stderr",
     "output_type": "stream",
     "text": [
      "\r",
      " 75% (237168000.0 of 315360000.0) |###  | Elapsed Time: 16:30:44 ETA:   3:27:10"
     ]
    },
    {
     "name": "stderr",
     "output_type": "stream",
     "text": [
      "\r",
      " 75% (237340800.0 of 315360000.0) |###  | Elapsed Time: 16:31:39 ETA:   6:53:22"
     ]
    },
    {
     "name": "stderr",
     "output_type": "stream",
     "text": [
      "\r",
      " 75% (237600000.0 of 315360000.0) |###  | Elapsed Time: 16:32:20 ETA:   3:25:07"
     ]
    },
    {
     "name": "stderr",
     "output_type": "stream",
     "text": [
      "\r",
      " 75% (237772800.0 of 315360000.0) |###  | Elapsed Time: 16:33:14 ETA:   6:43:51"
     ]
    },
    {
     "name": "stderr",
     "output_type": "stream",
     "text": [
      "\r",
      " 75% (238032000.0 of 315360000.0) |###  | Elapsed Time: 16:33:55 ETA:   3:24:33"
     ]
    },
    {
     "name": "stderr",
     "output_type": "stream",
     "text": [
      "\r",
      " 75% (238204800.0 of 315360000.0) |###  | Elapsed Time: 16:34:49 ETA:   6:40:48"
     ]
    },
    {
     "name": "stderr",
     "output_type": "stream",
     "text": [
      "\r",
      " 75% (238464000.0 of 315360000.0) |###  | Elapsed Time: 16:35:30 ETA:   3:22:17"
     ]
    },
    {
     "name": "stderr",
     "output_type": "stream",
     "text": [
      "\r",
      " 75% (238636800.0 of 315360000.0) |###  | Elapsed Time: 16:36:24 ETA:   6:39:34"
     ]
    },
    {
     "name": "stderr",
     "output_type": "stream",
     "text": [
      "\r",
      " 75% (238896000.0 of 315360000.0) |###  | Elapsed Time: 16:37:05 ETA:   3:21:49"
     ]
    },
    {
     "name": "stderr",
     "output_type": "stream",
     "text": [
      "\r",
      " 75% (239068800.0 of 315360000.0) |###  | Elapsed Time: 16:37:59 ETA:   6:38:04"
     ]
    },
    {
     "name": "stderr",
     "output_type": "stream",
     "text": [
      "\r",
      " 75% (239328000.0 of 315360000.0) |###  | Elapsed Time: 16:38:40 ETA:   3:20:39"
     ]
    },
    {
     "name": "stderr",
     "output_type": "stream",
     "text": [
      "\r",
      " 75% (239500800.0 of 315360000.0) |###  | Elapsed Time: 16:39:33 ETA:   6:29:03"
     ]
    },
    {
     "name": "stderr",
     "output_type": "stream",
     "text": [
      "\r",
      " 76% (239760000.0 of 315360000.0) |###  | Elapsed Time: 16:40:14 ETA:   3:18:29"
     ]
    },
    {
     "name": "stderr",
     "output_type": "stream",
     "text": [
      "\r",
      " 76% (239932800.0 of 315360000.0) |###  | Elapsed Time: 16:41:09 ETA:   6:36:06"
     ]
    },
    {
     "name": "stderr",
     "output_type": "stream",
     "text": [
      "\r",
      " 76% (240192000.0 of 315360000.0) |###  | Elapsed Time: 16:41:49 ETA:   3:17:32"
     ]
    },
    {
     "name": "stderr",
     "output_type": "stream",
     "text": [
      "\r",
      " 76% (240364800.0 of 315360000.0) |###  | Elapsed Time: 16:42:43 ETA:   6:27:36"
     ]
    },
    {
     "name": "stderr",
     "output_type": "stream",
     "text": [
      "\r",
      " 76% (240624000.0 of 315360000.0) |###  | Elapsed Time: 16:43:24 ETA:   3:16:38"
     ]
    },
    {
     "name": "stderr",
     "output_type": "stream",
     "text": [
      "\r",
      " 76% (240796800.0 of 315360000.0) |###  | Elapsed Time: 16:44:20 ETA:   6:41:05"
     ]
    },
    {
     "name": "stderr",
     "output_type": "stream",
     "text": [
      "\r",
      " 76% (241056000.0 of 315360000.0) |###  | Elapsed Time: 16:45:01 ETA:   3:15:45"
     ]
    },
    {
     "name": "stderr",
     "output_type": "stream",
     "text": [
      "\r",
      " 76% (241228800.0 of 315360000.0) |###  | Elapsed Time: 16:45:55 ETA:   6:31:41"
     ]
    },
    {
     "name": "stderr",
     "output_type": "stream",
     "text": [
      "\r",
      " 76% (241488000.0 of 315360000.0) |###  | Elapsed Time: 16:46:36 ETA:   3:14:19"
     ]
    },
    {
     "name": "stderr",
     "output_type": "stream",
     "text": [
      "\r",
      " 76% (241660800.0 of 315360000.0) |###  | Elapsed Time: 16:47:32 ETA:   6:33:18"
     ]
    },
    {
     "name": "stderr",
     "output_type": "stream",
     "text": [
      "\r",
      " 76% (241920000.0 of 315360000.0) |###  | Elapsed Time: 16:48:13 ETA:   3:12:41"
     ]
    },
    {
     "name": "stderr",
     "output_type": "stream",
     "text": [
      "\r",
      " 76% (242092800.0 of 315360000.0) |###  | Elapsed Time: 16:49:07 ETA:   6:27:24"
     ]
    },
    {
     "name": "stderr",
     "output_type": "stream",
     "text": [
      "\r",
      " 76% (242352000.0 of 315360000.0) |###  | Elapsed Time: 16:49:49 ETA:   3:13:29"
     ]
    },
    {
     "name": "stderr",
     "output_type": "stream",
     "text": [
      "\r",
      " 76% (242524800.0 of 315360000.0) |###  | Elapsed Time: 16:50:43 ETA:   6:22:01"
     ]
    },
    {
     "name": "stderr",
     "output_type": "stream",
     "text": [
      "\r",
      " 76% (242784000.0 of 315360000.0) |###  | Elapsed Time: 16:51:24 ETA:   3:09:58"
     ]
    },
    {
     "name": "stderr",
     "output_type": "stream",
     "text": [
      "\r",
      " 77% (242956800.0 of 315360000.0) |###  | Elapsed Time: 16:52:18 ETA:   6:17:18"
     ]
    },
    {
     "name": "stderr",
     "output_type": "stream",
     "text": [
      "\r",
      " 77% (243216000.0 of 315360000.0) |###  | Elapsed Time: 16:52:59 ETA:   3:09:20"
     ]
    },
    {
     "name": "stderr",
     "output_type": "stream",
     "text": [
      "\r",
      " 77% (243388800.0 of 315360000.0) |###  | Elapsed Time: 16:53:53 ETA:   6:15:23"
     ]
    },
    {
     "name": "stderr",
     "output_type": "stream",
     "text": [
      "\r",
      " 77% (243648000.0 of 315360000.0) |###  | Elapsed Time: 16:54:34 ETA:   3:10:03"
     ]
    },
    {
     "name": "stderr",
     "output_type": "stream",
     "text": [
      "\r",
      " 77% (243820800.0 of 315360000.0) |###  | Elapsed Time: 16:55:29 ETA:   6:17:52"
     ]
    },
    {
     "name": "stderr",
     "output_type": "stream",
     "text": [
      "\r",
      " 77% (244080000.0 of 315360000.0) |###  | Elapsed Time: 16:56:09 ETA:   3:06:08"
     ]
    },
    {
     "name": "stderr",
     "output_type": "stream",
     "text": [
      "\r",
      " 77% (244252800.0 of 315360000.0) |###  | Elapsed Time: 16:57:02 ETA:   5:59:27"
     ]
    },
    {
     "name": "stderr",
     "output_type": "stream",
     "text": [
      "\r",
      " 77% (244512000.0 of 315360000.0) |###  | Elapsed Time: 16:57:42 ETA:   3:04:52"
     ]
    },
    {
     "name": "stderr",
     "output_type": "stream",
     "text": [
      "\r",
      " 77% (244684800.0 of 315360000.0) |###  | Elapsed Time: 16:58:36 ETA:   6:07:40"
     ]
    },
    {
     "name": "stderr",
     "output_type": "stream",
     "text": [
      "\r",
      " 77% (244944000.0 of 315360000.0) |###  | Elapsed Time: 16:59:17 ETA:   3:04:31"
     ]
    },
    {
     "name": "stderr",
     "output_type": "stream",
     "text": [
      "\r",
      " 77% (245116800.0 of 315360000.0) |###  | Elapsed Time: 17:00:10 ETA:   6:01:22"
     ]
    },
    {
     "name": "stderr",
     "output_type": "stream",
     "text": [
      "\r",
      " 77% (245376000.0 of 315360000.0) |###  | Elapsed Time: 17:00:51 ETA:   3:04:21"
     ]
    },
    {
     "name": "stderr",
     "output_type": "stream",
     "text": [
      "\r",
      " 77% (245548800.0 of 315360000.0) |###  | Elapsed Time: 17:01:46 ETA:   6:06:29"
     ]
    },
    {
     "name": "stderr",
     "output_type": "stream",
     "text": [
      "\r",
      " 77% (245808000.0 of 315360000.0) |###  | Elapsed Time: 17:02:27 ETA:   3:05:16"
     ]
    },
    {
     "name": "stderr",
     "output_type": "stream",
     "text": [
      "\r",
      " 78% (245980800.0 of 315360000.0) |###  | Elapsed Time: 17:03:21 ETA:   6:00:59"
     ]
    },
    {
     "name": "stderr",
     "output_type": "stream",
     "text": [
      "\r",
      " 78% (246240000.0 of 315360000.0) |###  | Elapsed Time: 17:04:02 ETA:   3:01:13"
     ]
    },
    {
     "name": "stderr",
     "output_type": "stream",
     "text": [
      "\r",
      " 78% (246412800.0 of 315360000.0) |###  | Elapsed Time: 17:04:55 ETA:   5:56:46"
     ]
    },
    {
     "name": "stderr",
     "output_type": "stream",
     "text": [
      "\r",
      " 78% (246672000.0 of 315360000.0) |###  | Elapsed Time: 17:05:36 ETA:   2:59:03"
     ]
    },
    {
     "name": "stderr",
     "output_type": "stream",
     "text": [
      "\r",
      " 78% (246844800.0 of 315360000.0) |###  | Elapsed Time: 17:06:30 ETA:   5:55:49"
     ]
    },
    {
     "name": "stderr",
     "output_type": "stream",
     "text": [
      "\r",
      " 78% (247104000.0 of 315360000.0) |###  | Elapsed Time: 17:07:10 ETA:   2:57:38"
     ]
    },
    {
     "name": "stderr",
     "output_type": "stream",
     "text": [
      "\r",
      " 78% (247276800.0 of 315360000.0) |###  | Elapsed Time: 17:08:05 ETA:   5:58:38"
     ]
    },
    {
     "name": "stderr",
     "output_type": "stream",
     "text": [
      "\r",
      " 78% (247536000.0 of 315360000.0) |###  | Elapsed Time: 17:08:46 ETA:   2:57:18"
     ]
    },
    {
     "name": "stderr",
     "output_type": "stream",
     "text": [
      "\r",
      " 78% (247708800.0 of 315360000.0) |###  | Elapsed Time: 17:09:39 ETA:   5:48:20"
     ]
    },
    {
     "name": "stderr",
     "output_type": "stream",
     "text": [
      "\r",
      " 78% (247968000.0 of 315360000.0) |###  | Elapsed Time: 17:10:20 ETA:   2:57:06"
     ]
    },
    {
     "name": "stderr",
     "output_type": "stream",
     "text": [
      "\r",
      " 78% (248140800.0 of 315360000.0) |###  | Elapsed Time: 17:11:13 ETA:   5:44:39"
     ]
    },
    {
     "name": "stderr",
     "output_type": "stream",
     "text": [
      "\r",
      " 78% (248400000.0 of 315360000.0) |###  | Elapsed Time: 17:11:53 ETA:   2:54:27"
     ]
    },
    {
     "name": "stderr",
     "output_type": "stream",
     "text": [
      "\r",
      " 78% (248572800.0 of 315360000.0) |###  | Elapsed Time: 17:12:46 ETA:   5:40:44"
     ]
    },
    {
     "name": "stderr",
     "output_type": "stream",
     "text": [
      "\r",
      " 78% (248832000.0 of 315360000.0) |###  | Elapsed Time: 17:13:27 ETA:   2:52:26"
     ]
    },
    {
     "name": "stderr",
     "output_type": "stream",
     "text": [
      "\r",
      " 78% (249004800.0 of 315360000.0) |###  | Elapsed Time: 17:14:22 ETA:   5:50:48"
     ]
    },
    {
     "name": "stderr",
     "output_type": "stream",
     "text": [
      "\r",
      " 79% (249264000.0 of 315360000.0) |###  | Elapsed Time: 17:15:02 ETA:   2:52:01"
     ]
    },
    {
     "name": "stderr",
     "output_type": "stream",
     "text": [
      "\r",
      " 79% (249436800.0 of 315360000.0) |###  | Elapsed Time: 17:15:57 ETA:   5:47:30"
     ]
    },
    {
     "name": "stderr",
     "output_type": "stream",
     "text": [
      "\r",
      " 79% (249696000.0 of 315360000.0) |###  | Elapsed Time: 17:16:37 ETA:   2:51:05"
     ]
    },
    {
     "name": "stderr",
     "output_type": "stream",
     "text": [
      "\r",
      " 79% (249868800.0 of 315360000.0) |###  | Elapsed Time: 17:17:31 ETA:   5:42:11"
     ]
    },
    {
     "name": "stderr",
     "output_type": "stream",
     "text": [
      "\r",
      " 79% (250128000.0 of 315360000.0) |###  | Elapsed Time: 17:18:12 ETA:   2:50:20"
     ]
    },
    {
     "name": "stderr",
     "output_type": "stream",
     "text": [
      "\r",
      " 79% (250300800.0 of 315360000.0) |###  | Elapsed Time: 17:19:06 ETA:   5:40:48"
     ]
    },
    {
     "name": "stderr",
     "output_type": "stream",
     "text": [
      "\r",
      " 79% (250560000.0 of 315360000.0) |###  | Elapsed Time: 17:19:47 ETA:   2:48:31"
     ]
    },
    {
     "name": "stderr",
     "output_type": "stream",
     "text": [
      "\r",
      " 79% (250732800.0 of 315360000.0) |###  | Elapsed Time: 17:20:42 ETA:   5:47:05"
     ]
    },
    {
     "name": "stderr",
     "output_type": "stream",
     "text": [
      "\r",
      " 79% (250992000.0 of 315360000.0) |###  | Elapsed Time: 17:21:23 ETA:   2:47:48"
     ]
    },
    {
     "name": "stderr",
     "output_type": "stream",
     "text": [
      "\r",
      " 79% (251164800.0 of 315360000.0) |###  | Elapsed Time: 17:22:18 ETA:   5:40:34"
     ]
    },
    {
     "name": "stderr",
     "output_type": "stream",
     "text": [
      "\r",
      " 79% (251424000.0 of 315360000.0) |###  | Elapsed Time: 17:22:59 ETA:   2:46:59"
     ]
    },
    {
     "name": "stderr",
     "output_type": "stream",
     "text": [
      "\r",
      " 79% (251596800.0 of 315360000.0) |###  | Elapsed Time: 17:23:52 ETA:   5:30:35"
     ]
    },
    {
     "name": "stderr",
     "output_type": "stream",
     "text": [
      "\r",
      " 79% (251856000.0 of 315360000.0) |###  | Elapsed Time: 17:24:33 ETA:   2:44:30"
     ]
    },
    {
     "name": "stderr",
     "output_type": "stream",
     "text": [
      "\r",
      " 79% (252028800.0 of 315360000.0) |###  | Elapsed Time: 17:25:26 ETA:   5:26:28"
     ]
    },
    {
     "name": "stderr",
     "output_type": "stream",
     "text": [
      "\r",
      " 80% (252288000.0 of 315360000.0) |#### | Elapsed Time: 17:26:06 ETA:   2:42:48"
     ]
    },
    {
     "name": "stderr",
     "output_type": "stream",
     "text": [
      "\r",
      " 80% (252460800.0 of 315360000.0) |#### | Elapsed Time: 17:26:59 ETA:   5:21:08"
     ]
    },
    {
     "name": "stderr",
     "output_type": "stream",
     "text": [
      "\r",
      " 80% (252720000.0 of 315360000.0) |#### | Elapsed Time: 17:27:39 ETA:   2:41:26"
     ]
    },
    {
     "name": "stderr",
     "output_type": "stream",
     "text": [
      "\r",
      " 80% (252892800.0 of 315360000.0) |#### | Elapsed Time: 17:28:34 ETA:   5:28:53"
     ]
    },
    {
     "name": "stderr",
     "output_type": "stream",
     "text": [
      "\r",
      " 80% (253152000.0 of 315360000.0) |#### | Elapsed Time: 17:29:14 ETA:   2:41:16"
     ]
    },
    {
     "name": "stderr",
     "output_type": "stream",
     "text": [
      "\r",
      " 80% (253324800.0 of 315360000.0) |#### | Elapsed Time: 17:30:08 ETA:   5:22:05"
     ]
    },
    {
     "name": "stderr",
     "output_type": "stream",
     "text": [
      "\r",
      " 80% (253584000.0 of 315360000.0) |#### | Elapsed Time: 17:30:48 ETA:   2:40:39"
     ]
    },
    {
     "name": "stderr",
     "output_type": "stream",
     "text": [
      "\r",
      " 80% (253756800.0 of 315360000.0) |#### | Elapsed Time: 17:31:42 ETA:   5:16:14"
     ]
    },
    {
     "name": "stderr",
     "output_type": "stream",
     "text": [
      "\r",
      " 80% (254016000.0 of 315360000.0) |#### | Elapsed Time: 17:32:22 ETA:   2:37:53"
     ]
    },
    {
     "name": "stderr",
     "output_type": "stream",
     "text": [
      "\r",
      " 80% (254188800.0 of 315360000.0) |#### | Elapsed Time: 17:33:15 ETA:   5:12:29"
     ]
    },
    {
     "name": "stderr",
     "output_type": "stream",
     "text": [
      "\r",
      " 80% (254448000.0 of 315360000.0) |#### | Elapsed Time: 17:33:55 ETA:   2:37:41"
     ]
    },
    {
     "name": "stderr",
     "output_type": "stream",
     "text": [
      "\r",
      " 80% (254620800.0 of 315360000.0) |#### | Elapsed Time: 17:34:49 ETA:   5:17:11"
     ]
    },
    {
     "name": "stderr",
     "output_type": "stream",
     "text": [
      "\r",
      " 80% (254880000.0 of 315360000.0) |#### | Elapsed Time: 17:35:30 ETA:   2:37:30"
     ]
    },
    {
     "name": "stderr",
     "output_type": "stream",
     "text": [
      "\r",
      " 80% (255052800.0 of 315360000.0) |#### | Elapsed Time: 17:36:23 ETA:   5:13:38"
     ]
    },
    {
     "name": "stderr",
     "output_type": "stream",
     "text": [
      "\r",
      " 80% (255312000.0 of 315360000.0) |#### | Elapsed Time: 17:37:04 ETA:   2:36:11"
     ]
    },
    {
     "name": "stderr",
     "output_type": "stream",
     "text": [
      "\r",
      " 81% (255484800.0 of 315360000.0) |#### | Elapsed Time: 17:37:57 ETA:   5:08:30"
     ]
    },
    {
     "name": "stderr",
     "output_type": "stream",
     "text": [
      "\r",
      " 81% (255744000.0 of 315360000.0) |#### | Elapsed Time: 17:38:38 ETA:   2:35:46"
     ]
    },
    {
     "name": "stderr",
     "output_type": "stream",
     "text": [
      "\r",
      " 81% (255916800.0 of 315360000.0) |#### | Elapsed Time: 17:39:32 ETA:   5:10:33"
     ]
    },
    {
     "name": "stderr",
     "output_type": "stream",
     "text": [
      "\r",
      " 81% (256176000.0 of 315360000.0) |#### | Elapsed Time: 17:40:12 ETA:   2:32:23"
     ]
    },
    {
     "name": "stderr",
     "output_type": "stream",
     "text": [
      "\r",
      " 81% (256348800.0 of 315360000.0) |#### | Elapsed Time: 17:41:06 ETA:   5:09:12"
     ]
    },
    {
     "name": "stderr",
     "output_type": "stream",
     "text": [
      "\r",
      " 81% (256608000.0 of 315360000.0) |#### | Elapsed Time: 17:41:47 ETA:   2:34:21"
     ]
    },
    {
     "name": "stderr",
     "output_type": "stream",
     "text": [
      "\r",
      " 81% (256780800.0 of 315360000.0) |#### | Elapsed Time: 17:42:40 ETA:   4:59:09"
     ]
    },
    {
     "name": "stderr",
     "output_type": "stream",
     "text": [
      "\r",
      " 81% (257040000.0 of 315360000.0) |#### | Elapsed Time: 17:43:20 ETA:   2:30:29"
     ]
    },
    {
     "name": "stderr",
     "output_type": "stream",
     "text": [
      "\r",
      " 81% (257212800.0 of 315360000.0) |#### | Elapsed Time: 17:44:14 ETA:   5:03:06"
     ]
    },
    {
     "name": "stderr",
     "output_type": "stream",
     "text": [
      "\r",
      " 81% (257472000.0 of 315360000.0) |#### | Elapsed Time: 17:44:55 ETA:   2:29:49"
     ]
    },
    {
     "name": "stderr",
     "output_type": "stream",
     "text": [
      "\r",
      " 81% (257644800.0 of 315360000.0) |#### | Elapsed Time: 17:45:49 ETA:   5:02:40"
     ]
    },
    {
     "name": "stderr",
     "output_type": "stream",
     "text": [
      "\r",
      " 81% (257904000.0 of 315360000.0) |#### | Elapsed Time: 17:46:29 ETA:   2:28:42"
     ]
    },
    {
     "name": "stderr",
     "output_type": "stream",
     "text": [
      "\r",
      " 81% (258076800.0 of 315360000.0) |#### | Elapsed Time: 17:47:24 ETA:   5:03:05"
     ]
    },
    {
     "name": "stderr",
     "output_type": "stream",
     "text": [
      "\r",
      " 81% (258336000.0 of 315360000.0) |#### | Elapsed Time: 17:48:04 ETA:   2:27:09"
     ]
    },
    {
     "name": "stderr",
     "output_type": "stream",
     "text": [
      "\r",
      " 81% (258508800.0 of 315360000.0) |#### | Elapsed Time: 17:49:00 ETA:   5:06:45"
     ]
    },
    {
     "name": "stderr",
     "output_type": "stream",
     "text": [
      "\r",
      " 82% (258768000.0 of 315360000.0) |#### | Elapsed Time: 17:49:41 ETA:   2:26:39"
     ]
    },
    {
     "name": "stderr",
     "output_type": "stream",
     "text": [
      "\r",
      " 82% (258940800.0 of 315360000.0) |#### | Elapsed Time: 17:50:35 ETA:   4:56:41"
     ]
    },
    {
     "name": "stderr",
     "output_type": "stream",
     "text": [
      "\r",
      " 82% (259200000.0 of 315360000.0) |#### | Elapsed Time: 17:51:15 ETA:   2:23:42"
     ]
    },
    {
     "name": "stderr",
     "output_type": "stream",
     "text": [
      "\r",
      " 82% (259372800.0 of 315360000.0) |#### | Elapsed Time: 17:52:12 ETA:   5:05:35"
     ]
    },
    {
     "name": "stderr",
     "output_type": "stream",
     "text": [
      "\r",
      " 82% (259632000.0 of 315360000.0) |#### | Elapsed Time: 17:52:51 ETA:   2:22:39"
     ]
    },
    {
     "name": "stderr",
     "output_type": "stream",
     "text": [
      "\r",
      " 82% (259804800.0 of 315360000.0) |#### | Elapsed Time: 17:53:43 ETA:   4:39:36"
     ]
    },
    {
     "name": "stderr",
     "output_type": "stream",
     "text": [
      "\r",
      " 82% (260064000.0 of 315360000.0) |#### | Elapsed Time: 17:54:23 ETA:   2:21:27"
     ]
    },
    {
     "name": "stderr",
     "output_type": "stream",
     "text": [
      "\r",
      " 82% (260236800.0 of 315360000.0) |#### | Elapsed Time: 17:55:16 ETA:   4:38:38"
     ]
    },
    {
     "name": "stderr",
     "output_type": "stream",
     "text": [
      "\r",
      " 82% (260496000.0 of 315360000.0) |#### | Elapsed Time: 17:55:56 ETA:   2:20:40"
     ]
    },
    {
     "name": "stderr",
     "output_type": "stream",
     "text": [
      "\r",
      " 82% (260668800.0 of 315360000.0) |#### | Elapsed Time: 17:56:48 ETA:   4:39:10"
     ]
    },
    {
     "name": "stderr",
     "output_type": "stream",
     "text": [
      "\r",
      " 82% (260928000.0 of 315360000.0) |#### | Elapsed Time: 17:57:28 ETA:   2:19:10"
     ]
    },
    {
     "name": "stderr",
     "output_type": "stream",
     "text": [
      "\r",
      " 82% (261100800.0 of 315360000.0) |#### | Elapsed Time: 17:58:22 ETA:   4:40:56"
     ]
    },
    {
     "name": "stderr",
     "output_type": "stream",
     "text": [
      "\r",
      " 82% (261360000.0 of 315360000.0) |#### | Elapsed Time: 17:59:02 ETA:   2:19:09"
     ]
    },
    {
     "name": "stderr",
     "output_type": "stream",
     "text": [
      "\r",
      " 82% (261532800.0 of 315360000.0) |#### | Elapsed Time: 17:59:55 ETA:   4:33:06"
     ]
    },
    {
     "name": "stderr",
     "output_type": "stream",
     "text": [
      "\r",
      " 83% (261792000.0 of 315360000.0) |#### | Elapsed Time: 18:00:34 ETA:   2:17:11"
     ]
    },
    {
     "name": "stderr",
     "output_type": "stream",
     "text": [
      "\r",
      " 83% (261964800.0 of 315360000.0) |#### | Elapsed Time: 18:01:27 ETA:   4:32:24"
     ]
    },
    {
     "name": "stderr",
     "output_type": "stream",
     "text": [
      "\r",
      " 83% (262224000.0 of 315360000.0) |#### | Elapsed Time: 18:02:07 ETA:   2:16:34"
     ]
    },
    {
     "name": "stderr",
     "output_type": "stream",
     "text": [
      "\r",
      " 83% (262396800.0 of 315360000.0) |#### | Elapsed Time: 18:03:02 ETA:   4:38:13"
     ]
    },
    {
     "name": "stderr",
     "output_type": "stream",
     "text": [
      "\r",
      " 83% (262656000.0 of 315360000.0) |#### | Elapsed Time: 18:03:42 ETA:   2:16:04"
     ]
    },
    {
     "name": "stderr",
     "output_type": "stream",
     "text": [
      "\r",
      " 83% (262828800.0 of 315360000.0) |#### | Elapsed Time: 18:04:36 ETA:   4:33:59"
     ]
    },
    {
     "name": "stderr",
     "output_type": "stream",
     "text": [
      "\r",
      " 83% (263088000.0 of 315360000.0) |#### | Elapsed Time: 18:05:16 ETA:   2:14:19"
     ]
    },
    {
     "name": "stderr",
     "output_type": "stream",
     "text": [
      "\r",
      " 83% (263260800.0 of 315360000.0) |#### | Elapsed Time: 18:06:10 ETA:   4:33:49"
     ]
    },
    {
     "name": "stderr",
     "output_type": "stream",
     "text": [
      "\r",
      " 83% (263520000.0 of 315360000.0) |#### | Elapsed Time: 18:06:51 ETA:   2:13:38"
     ]
    },
    {
     "name": "stderr",
     "output_type": "stream",
     "text": [
      "\r",
      " 83% (263692800.0 of 315360000.0) |#### | Elapsed Time: 18:07:45 ETA:   4:30:14"
     ]
    },
    {
     "name": "stderr",
     "output_type": "stream",
     "text": [
      "\r",
      " 83% (263952000.0 of 315360000.0) |#### | Elapsed Time: 18:08:25 ETA:   2:12:18"
     ]
    },
    {
     "name": "stderr",
     "output_type": "stream",
     "text": [
      "\r",
      " 83% (264124800.0 of 315360000.0) |#### | Elapsed Time: 18:09:18 ETA:   4:24:01"
     ]
    },
    {
     "name": "stderr",
     "output_type": "stream",
     "text": [
      "\r",
      " 83% (264384000.0 of 315360000.0) |#### | Elapsed Time: 18:09:58 ETA:   2:11:04"
     ]
    },
    {
     "name": "stderr",
     "output_type": "stream",
     "text": [
      "\r",
      " 83% (264556800.0 of 315360000.0) |#### | Elapsed Time: 18:10:50 ETA:   4:15:36"
     ]
    },
    {
     "name": "stderr",
     "output_type": "stream",
     "text": [
      "\r",
      " 83% (264816000.0 of 315360000.0) |#### | Elapsed Time: 18:11:30 ETA:   2:09:21"
     ]
    },
    {
     "name": "stderr",
     "output_type": "stream",
     "text": [
      "\r",
      " 84% (264988800.0 of 315360000.0) |#### | Elapsed Time: 18:12:23 ETA:   4:18:52"
     ]
    },
    {
     "name": "stderr",
     "output_type": "stream",
     "text": [
      "\r",
      " 84% (265248000.0 of 315360000.0) |#### | Elapsed Time: 18:13:03 ETA:   2:07:56"
     ]
    },
    {
     "name": "stderr",
     "output_type": "stream",
     "text": [
      "\r",
      " 84% (265420800.0 of 315360000.0) |#### | Elapsed Time: 18:13:57 ETA:   4:16:51"
     ]
    },
    {
     "name": "stderr",
     "output_type": "stream",
     "text": [
      "\r",
      " 84% (265680000.0 of 315360000.0) |#### | Elapsed Time: 18:14:36 ETA:   2:06:18"
     ]
    },
    {
     "name": "stderr",
     "output_type": "stream",
     "text": [
      "\r",
      " 84% (265852800.0 of 315360000.0) |#### | Elapsed Time: 18:15:30 ETA:   4:17:12"
     ]
    },
    {
     "name": "stderr",
     "output_type": "stream",
     "text": [
      "\r",
      " 84% (266112000.0 of 315360000.0) |#### | Elapsed Time: 18:16:09 ETA:   2:05:02"
     ]
    },
    {
     "name": "stderr",
     "output_type": "stream",
     "text": [
      "\r",
      " 84% (266284800.0 of 315360000.0) |#### | Elapsed Time: 18:17:03 ETA:   4:13:58"
     ]
    },
    {
     "name": "stderr",
     "output_type": "stream",
     "text": [
      "\r",
      " 84% (266544000.0 of 315360000.0) |#### | Elapsed Time: 18:17:43 ETA:   2:04:10"
     ]
    },
    {
     "name": "stderr",
     "output_type": "stream",
     "text": [
      "\r",
      " 84% (266716800.0 of 315360000.0) |#### | Elapsed Time: 18:18:38 ETA:   4:17:30"
     ]
    },
    {
     "name": "stderr",
     "output_type": "stream",
     "text": [
      "\r",
      " 84% (266976000.0 of 315360000.0) |#### | Elapsed Time: 18:19:17 ETA:   2:03:06"
     ]
    },
    {
     "name": "stderr",
     "output_type": "stream",
     "text": [
      "\r",
      " 84% (267148800.0 of 315360000.0) |#### | Elapsed Time: 18:20:09 ETA:   4:02:44"
     ]
    },
    {
     "name": "stderr",
     "output_type": "stream",
     "text": [
      "\r",
      " 84% (267408000.0 of 315360000.0) |#### | Elapsed Time: 18:20:49 ETA:   2:02:53"
     ]
    },
    {
     "name": "stderr",
     "output_type": "stream",
     "text": [
      "\r",
      " 84% (267580800.0 of 315360000.0) |#### | Elapsed Time: 18:21:42 ETA:   4:05:21"
     ]
    },
    {
     "name": "stderr",
     "output_type": "stream",
     "text": [
      "\r",
      " 84% (267840000.0 of 315360000.0) |#### | Elapsed Time: 18:22:22 ETA:   2:01:38"
     ]
    },
    {
     "name": "stderr",
     "output_type": "stream",
     "text": [
      "\r",
      " 84% (268012800.0 of 315360000.0) |#### | Elapsed Time: 18:23:15 ETA:   4:03:15"
     ]
    },
    {
     "name": "stderr",
     "output_type": "stream",
     "text": [
      "\r",
      " 85% (268272000.0 of 315360000.0) |#### | Elapsed Time: 18:23:55 ETA:   2:00:30"
     ]
    },
    {
     "name": "stderr",
     "output_type": "stream",
     "text": [
      "\r",
      " 85% (268444800.0 of 315360000.0) |#### | Elapsed Time: 18:24:48 ETA:   3:58:44"
     ]
    },
    {
     "name": "stderr",
     "output_type": "stream",
     "text": [
      "\r",
      " 85% (268704000.0 of 315360000.0) |#### | Elapsed Time: 18:25:27 ETA:   1:57:40"
     ]
    },
    {
     "name": "stderr",
     "output_type": "stream",
     "text": [
      "\r",
      " 85% (268876800.0 of 315360000.0) |#### | Elapsed Time: 18:26:23 ETA:   4:10:30"
     ]
    },
    {
     "name": "stderr",
     "output_type": "stream",
     "text": [
      "\r",
      " 85% (269136000.0 of 315360000.0) |#### | Elapsed Time: 18:27:02 ETA:   1:56:50"
     ]
    },
    {
     "name": "stderr",
     "output_type": "stream",
     "text": [
      "\r",
      " 85% (269308800.0 of 315360000.0) |#### | Elapsed Time: 18:27:55 ETA:   3:51:29"
     ]
    },
    {
     "name": "stderr",
     "output_type": "stream",
     "text": [
      "\r",
      " 85% (269568000.0 of 315360000.0) |#### | Elapsed Time: 18:28:34 ETA:   1:56:08"
     ]
    },
    {
     "name": "stderr",
     "output_type": "stream",
     "text": [
      "\r",
      " 85% (269740800.0 of 315360000.0) |#### | Elapsed Time: 18:29:27 ETA:   3:54:31"
     ]
    },
    {
     "name": "stderr",
     "output_type": "stream",
     "text": [
      "\r",
      " 85% (270000000.0 of 315360000.0) |#### | Elapsed Time: 18:30:07 ETA:   1:55:05"
     ]
    },
    {
     "name": "stderr",
     "output_type": "stream",
     "text": [
      "\r",
      " 85% (270172800.0 of 315360000.0) |#### | Elapsed Time: 18:31:00 ETA:   3:53:56"
     ]
    },
    {
     "name": "stderr",
     "output_type": "stream",
     "text": [
      "\r",
      " 85% (270432000.0 of 315360000.0) |#### | Elapsed Time: 18:31:40 ETA:   1:54:28"
     ]
    },
    {
     "name": "stderr",
     "output_type": "stream",
     "text": [
      "\r",
      " 85% (270604800.0 of 315360000.0) |#### | Elapsed Time: 18:32:35 ETA:   3:55:31"
     ]
    },
    {
     "name": "stderr",
     "output_type": "stream",
     "text": [
      "\r",
      " 85% (270864000.0 of 315360000.0) |#### | Elapsed Time: 18:33:14 ETA:   1:53:19"
     ]
    },
    {
     "name": "stderr",
     "output_type": "stream",
     "text": [
      "\r",
      " 85% (271036800.0 of 315360000.0) |#### | Elapsed Time: 18:34:07 ETA:   3:46:19"
     ]
    },
    {
     "name": "stderr",
     "output_type": "stream",
     "text": [
      "\r",
      " 86% (271296000.0 of 315360000.0) |#### | Elapsed Time: 18:34:47 ETA:   1:52:21"
     ]
    },
    {
     "name": "stderr",
     "output_type": "stream",
     "text": [
      "\r",
      " 86% (271468800.0 of 315360000.0) |#### | Elapsed Time: 18:35:40 ETA:   3:45:26"
     ]
    },
    {
     "name": "stderr",
     "output_type": "stream",
     "text": [
      "\r",
      " 86% (271728000.0 of 315360000.0) |#### | Elapsed Time: 18:36:19 ETA:   1:50:16"
     ]
    },
    {
     "name": "stderr",
     "output_type": "stream",
     "text": [
      "\r",
      " 86% (271900800.0 of 315360000.0) |#### | Elapsed Time: 18:37:12 ETA:   3:39:44"
     ]
    },
    {
     "name": "stderr",
     "output_type": "stream",
     "text": [
      "\r",
      " 86% (272160000.0 of 315360000.0) |#### | Elapsed Time: 18:37:51 ETA:   1:48:47"
     ]
    },
    {
     "name": "stderr",
     "output_type": "stream",
     "text": [
      "\r",
      " 86% (272332800.0 of 315360000.0) |#### | Elapsed Time: 18:38:44 ETA:   3:41:06"
     ]
    },
    {
     "name": "stderr",
     "output_type": "stream",
     "text": [
      "\r",
      " 86% (272592000.0 of 315360000.0) |#### | Elapsed Time: 18:39:24 ETA:   1:48:36"
     ]
    },
    {
     "name": "stderr",
     "output_type": "stream",
     "text": [
      "\r",
      " 86% (272764800.0 of 315360000.0) |#### | Elapsed Time: 18:40:19 ETA:   3:46:07"
     ]
    },
    {
     "name": "stderr",
     "output_type": "stream",
     "text": [
      "\r",
      " 86% (273024000.0 of 315360000.0) |#### | Elapsed Time: 18:40:58 ETA:   1:46:36"
     ]
    },
    {
     "name": "stderr",
     "output_type": "stream",
     "text": [
      "\r",
      " 86% (273196800.0 of 315360000.0) |#### | Elapsed Time: 18:41:53 ETA:   3:42:16"
     ]
    },
    {
     "name": "stderr",
     "output_type": "stream",
     "text": [
      "\r",
      " 86% (273456000.0 of 315360000.0) |#### | Elapsed Time: 18:42:32 ETA:   1:46:03"
     ]
    },
    {
     "name": "stderr",
     "output_type": "stream",
     "text": [
      "\r",
      " 86% (273628800.0 of 315360000.0) |#### | Elapsed Time: 18:43:27 ETA:   3:42:06"
     ]
    },
    {
     "name": "stderr",
     "output_type": "stream",
     "text": [
      "\r",
      " 86% (273888000.0 of 315360000.0) |#### | Elapsed Time: 18:44:07 ETA:   1:45:02"
     ]
    },
    {
     "name": "stderr",
     "output_type": "stream",
     "text": [
      "\r",
      " 86% (274060800.0 of 315360000.0) |#### | Elapsed Time: 18:44:59 ETA:   3:30:17"
     ]
    },
    {
     "name": "stderr",
     "output_type": "stream",
     "text": [
      "\r",
      " 86% (274320000.0 of 315360000.0) |#### | Elapsed Time: 18:45:39 ETA:   1:43:41"
     ]
    },
    {
     "name": "stderr",
     "output_type": "stream",
     "text": [
      "\r",
      " 87% (274492800.0 of 315360000.0) |#### | Elapsed Time: 18:46:31 ETA:   3:25:34"
     ]
    },
    {
     "name": "stderr",
     "output_type": "stream",
     "text": [
      "\r",
      " 87% (274752000.0 of 315360000.0) |#### | Elapsed Time: 18:47:10 ETA:   1:42:17"
     ]
    },
    {
     "name": "stderr",
     "output_type": "stream",
     "text": [
      "\r",
      " 87% (274924800.0 of 315360000.0) |#### | Elapsed Time: 18:48:03 ETA:   3:27:26"
     ]
    },
    {
     "name": "stderr",
     "output_type": "stream",
     "text": [
      "\r",
      " 87% (275184000.0 of 315360000.0) |#### | Elapsed Time: 18:48:42 ETA:   1:40:58"
     ]
    },
    {
     "name": "stderr",
     "output_type": "stream",
     "text": [
      "\r",
      " 87% (275356800.0 of 315360000.0) |#### | Elapsed Time: 18:49:35 ETA:   3:21:42"
     ]
    },
    {
     "name": "stderr",
     "output_type": "stream",
     "text": [
      "\r",
      " 87% (275616000.0 of 315360000.0) |#### | Elapsed Time: 18:50:14 ETA:   1:40:27"
     ]
    },
    {
     "name": "stderr",
     "output_type": "stream",
     "text": [
      "\r",
      " 87% (275788800.0 of 315360000.0) |#### | Elapsed Time: 18:51:08 ETA:   3:26:43"
     ]
    },
    {
     "name": "stderr",
     "output_type": "stream",
     "text": [
      "\r",
      " 87% (276048000.0 of 315360000.0) |#### | Elapsed Time: 18:51:47 ETA:   1:38:53"
     ]
    },
    {
     "name": "stderr",
     "output_type": "stream",
     "text": [
      "\r",
      " 87% (276220800.0 of 315360000.0) |#### | Elapsed Time: 18:52:40 ETA:   3:18:53"
     ]
    },
    {
     "name": "stderr",
     "output_type": "stream",
     "text": [
      "\r",
      " 87% (276480000.0 of 315360000.0) |#### | Elapsed Time: 18:53:19 ETA:   1:37:10"
     ]
    },
    {
     "name": "stderr",
     "output_type": "stream",
     "text": [
      "\r",
      " 87% (276652800.0 of 315360000.0) |#### | Elapsed Time: 18:54:13 ETA:   3:22:08"
     ]
    },
    {
     "name": "stderr",
     "output_type": "stream",
     "text": [
      "\r",
      " 87% (276912000.0 of 315360000.0) |#### | Elapsed Time: 18:54:52 ETA:   1:36:45"
     ]
    },
    {
     "name": "stderr",
     "output_type": "stream",
     "text": [
      "\r",
      " 87% (277084800.0 of 315360000.0) |#### | Elapsed Time: 18:55:44 ETA:   3:10:21"
     ]
    },
    {
     "name": "stderr",
     "output_type": "stream",
     "text": [
      "\r",
      " 87% (277344000.0 of 315360000.0) |#### | Elapsed Time: 18:56:23 ETA:   1:35:28"
     ]
    },
    {
     "name": "stderr",
     "output_type": "stream",
     "text": [
      "\r",
      " 88% (277516800.0 of 315360000.0) |#### | Elapsed Time: 18:57:16 ETA:   3:15:18"
     ]
    },
    {
     "name": "stderr",
     "output_type": "stream",
     "text": [
      "\r",
      " 88% (277776000.0 of 315360000.0) |#### | Elapsed Time: 18:57:56 ETA:   1:35:42"
     ]
    },
    {
     "name": "stderr",
     "output_type": "stream",
     "text": [
      "\r",
      " 88% (277948800.0 of 315360000.0) |#### | Elapsed Time: 18:58:49 ETA:   3:10:55"
     ]
    },
    {
     "name": "stderr",
     "output_type": "stream",
     "text": [
      "\r",
      " 88% (278208000.0 of 315360000.0) |#### | Elapsed Time: 18:59:28 ETA:   1:34:17"
     ]
    },
    {
     "name": "stderr",
     "output_type": "stream",
     "text": [
      "\r",
      " 88% (278380800.0 of 315360000.0) |#### | Elapsed Time: 19:00:22 ETA:   3:12:20"
     ]
    },
    {
     "name": "stderr",
     "output_type": "stream",
     "text": [
      "\r",
      " 88% (278640000.0 of 315360000.0) |#### | Elapsed Time: 19:01:01 ETA:   1:32:12"
     ]
    },
    {
     "name": "stderr",
     "output_type": "stream",
     "text": [
      "\r",
      " 88% (278812800.0 of 315360000.0) |#### | Elapsed Time: 19:01:54 ETA:   3:08:23"
     ]
    },
    {
     "name": "stderr",
     "output_type": "stream",
     "text": [
      "\r",
      " 88% (279072000.0 of 315360000.0) |#### | Elapsed Time: 19:02:34 ETA:   1:31:32"
     ]
    },
    {
     "name": "stderr",
     "output_type": "stream",
     "text": [
      "\r",
      " 88% (279244800.0 of 315360000.0) |#### | Elapsed Time: 19:03:27 ETA:   3:06:31"
     ]
    },
    {
     "name": "stderr",
     "output_type": "stream",
     "text": [
      "\r",
      " 88% (279504000.0 of 315360000.0) |#### | Elapsed Time: 19:04:06 ETA:   1:29:30"
     ]
    },
    {
     "name": "stderr",
     "output_type": "stream",
     "text": [
      "\r",
      " 88% (279676800.0 of 315360000.0) |#### | Elapsed Time: 19:04:59 ETA:   3:02:10"
     ]
    },
    {
     "name": "stderr",
     "output_type": "stream",
     "text": [
      "\r",
      " 88% (279936000.0 of 315360000.0) |#### | Elapsed Time: 19:05:38 ETA:   1:29:01"
     ]
    },
    {
     "name": "stderr",
     "output_type": "stream",
     "text": [
      "\r",
      " 88% (280108800.0 of 315360000.0) |#### | Elapsed Time: 19:06:32 ETA:   3:02:24"
     ]
    },
    {
     "name": "stderr",
     "output_type": "stream",
     "text": [
      "\r",
      " 88% (280368000.0 of 315360000.0) |#### | Elapsed Time: 19:07:11 ETA:   1:27:36"
     ]
    },
    {
     "name": "stderr",
     "output_type": "stream",
     "text": [
      "\r",
      " 88% (280540800.0 of 315360000.0) |#### | Elapsed Time: 19:08:04 ETA:   3:00:09"
     ]
    },
    {
     "name": "stderr",
     "output_type": "stream",
     "text": [
      "\r",
      " 89% (280800000.0 of 315360000.0) |#### | Elapsed Time: 19:08:43 ETA:   1:26:49"
     ]
    },
    {
     "name": "stderr",
     "output_type": "stream",
     "text": [
      "\r",
      " 89% (280972800.0 of 315360000.0) |#### | Elapsed Time: 19:09:37 ETA:   2:58:31"
     ]
    },
    {
     "name": "stderr",
     "output_type": "stream",
     "text": [
      "\r",
      " 89% (281232000.0 of 315360000.0) |#### | Elapsed Time: 19:10:16 ETA:   1:25:45"
     ]
    },
    {
     "name": "stderr",
     "output_type": "stream",
     "text": [
      "\r",
      " 89% (281404800.0 of 315360000.0) |#### | Elapsed Time: 19:11:10 ETA:   2:57:01"
     ]
    },
    {
     "name": "stderr",
     "output_type": "stream",
     "text": [
      "\r",
      " 89% (281664000.0 of 315360000.0) |#### | Elapsed Time: 19:11:50 ETA:   1:25:26"
     ]
    },
    {
     "name": "stderr",
     "output_type": "stream",
     "text": [
      "\r",
      " 89% (281836800.0 of 315360000.0) |#### | Elapsed Time: 19:12:44 ETA:   2:55:18"
     ]
    },
    {
     "name": "stderr",
     "output_type": "stream",
     "text": [
      "\r",
      " 89% (282096000.0 of 315360000.0) |#### | Elapsed Time: 19:13:23 ETA:   1:24:06"
     ]
    },
    {
     "name": "stderr",
     "output_type": "stream",
     "text": [
      "\r",
      " 89% (282268800.0 of 315360000.0) |#### | Elapsed Time: 19:14:17 ETA:   2:49:46"
     ]
    },
    {
     "name": "stderr",
     "output_type": "stream",
     "text": [
      "\r",
      " 89% (282528000.0 of 315360000.0) |#### | Elapsed Time: 19:14:55 ETA:   1:22:01"
     ]
    },
    {
     "name": "stderr",
     "output_type": "stream",
     "text": [
      "\r",
      " 89% (282700800.0 of 315360000.0) |#### | Elapsed Time: 19:15:49 ETA:   2:49:12"
     ]
    },
    {
     "name": "stderr",
     "output_type": "stream",
     "text": [
      "\r",
      " 89% (282960000.0 of 315360000.0) |#### | Elapsed Time: 19:16:28 ETA:   1:21:33"
     ]
    },
    {
     "name": "stderr",
     "output_type": "stream",
     "text": [
      "\r",
      " 89% (283132800.0 of 315360000.0) |#### | Elapsed Time: 19:17:21 ETA:   2:43:23"
     ]
    },
    {
     "name": "stderr",
     "output_type": "stream",
     "text": [
      "\r",
      " 89% (283392000.0 of 315360000.0) |#### | Elapsed Time: 19:18:00 ETA:   1:20:03"
     ]
    },
    {
     "name": "stderr",
     "output_type": "stream",
     "text": [
      "\r",
      " 89% (283564800.0 of 315360000.0) |#### | Elapsed Time: 19:18:53 ETA:   2:42:54"
     ]
    },
    {
     "name": "stderr",
     "output_type": "stream",
     "text": [
      "\r",
      " 90% (283824000.0 of 315360000.0) |#### | Elapsed Time: 19:19:32 ETA:   1:18:37"
     ]
    },
    {
     "name": "stderr",
     "output_type": "stream",
     "text": [
      "\r",
      " 90% (283996800.0 of 315360000.0) |#### | Elapsed Time: 19:20:24 ETA:   2:38:33"
     ]
    },
    {
     "name": "stderr",
     "output_type": "stream",
     "text": [
      "\r",
      " 90% (284256000.0 of 315360000.0) |#### | Elapsed Time: 19:21:03 ETA:   1:17:53"
     ]
    },
    {
     "name": "stderr",
     "output_type": "stream",
     "text": [
      "\r",
      " 90% (284428800.0 of 315360000.0) |#### | Elapsed Time: 19:21:54 ETA:   2:32:33"
     ]
    },
    {
     "name": "stderr",
     "output_type": "stream",
     "text": [
      "\r",
      " 90% (284688000.0 of 315360000.0) |#### | Elapsed Time: 19:22:33 ETA:   1:16:22"
     ]
    },
    {
     "name": "stderr",
     "output_type": "stream",
     "text": [
      "\r",
      " 90% (284860800.0 of 315360000.0) |#### | Elapsed Time: 19:23:25 ETA:   2:34:25"
     ]
    },
    {
     "name": "stderr",
     "output_type": "stream",
     "text": [
      "\r",
      " 90% (285120000.0 of 315360000.0) |#### | Elapsed Time: 19:24:04 ETA:   1:15:23"
     ]
    },
    {
     "name": "stderr",
     "output_type": "stream",
     "text": [
      "\r",
      " 90% (285292800.0 of 315360000.0) |#### | Elapsed Time: 19:24:56 ETA:   2:31:19"
     ]
    },
    {
     "name": "stderr",
     "output_type": "stream",
     "text": [
      "\r",
      " 90% (285552000.0 of 315360000.0) |#### | Elapsed Time: 19:25:35 ETA:   1:14:28"
     ]
    },
    {
     "name": "stderr",
     "output_type": "stream",
     "text": [
      "\r",
      " 90% (285724800.0 of 315360000.0) |#### | Elapsed Time: 19:26:29 ETA:   2:32:45"
     ]
    },
    {
     "name": "stderr",
     "output_type": "stream",
     "text": [
      "\r",
      " 90% (285984000.0 of 315360000.0) |#### | Elapsed Time: 19:27:08 ETA:   1:14:33"
     ]
    },
    {
     "name": "stderr",
     "output_type": "stream",
     "text": [
      "\r",
      " 90% (286156800.0 of 315360000.0) |#### | Elapsed Time: 19:28:01 ETA:   2:29:04"
     ]
    },
    {
     "name": "stderr",
     "output_type": "stream",
     "text": [
      "\r",
      " 90% (286416000.0 of 315360000.0) |#### | Elapsed Time: 19:28:40 ETA:   1:11:50"
     ]
    },
    {
     "name": "stderr",
     "output_type": "stream",
     "text": [
      "\r",
      " 90% (286588800.0 of 315360000.0) |#### | Elapsed Time: 19:29:33 ETA:   2:29:04"
     ]
    },
    {
     "name": "stderr",
     "output_type": "stream",
     "text": [
      "\r",
      " 90% (286848000.0 of 315360000.0) |#### | Elapsed Time: 19:30:12 ETA:   1:11:28"
     ]
    },
    {
     "name": "stderr",
     "output_type": "stream",
     "text": [
      "\r",
      " 91% (287020800.0 of 315360000.0) |#### | Elapsed Time: 19:31:04 ETA:   2:22:08"
     ]
    },
    {
     "name": "stderr",
     "output_type": "stream",
     "text": [
      "\r",
      " 91% (287280000.0 of 315360000.0) |#### | Elapsed Time: 19:31:43 ETA:   1:09:36"
     ]
    },
    {
     "name": "stderr",
     "output_type": "stream",
     "text": [
      "\r",
      " 91% (287452800.0 of 315360000.0) |#### | Elapsed Time: 19:32:37 ETA:   2:25:28"
     ]
    },
    {
     "name": "stderr",
     "output_type": "stream",
     "text": [
      "\r",
      " 91% (287712000.0 of 315360000.0) |#### | Elapsed Time: 19:33:16 ETA:   1:08:33"
     ]
    },
    {
     "name": "stderr",
     "output_type": "stream",
     "text": [
      "\r",
      " 91% (287884800.0 of 315360000.0) |#### | Elapsed Time: 19:34:10 ETA:   2:23:27"
     ]
    },
    {
     "name": "stderr",
     "output_type": "stream",
     "text": [
      "\r",
      " 91% (288144000.0 of 315360000.0) |#### | Elapsed Time: 19:34:48 ETA:   1:07:21"
     ]
    },
    {
     "name": "stderr",
     "output_type": "stream",
     "text": [
      "\r",
      " 91% (288316800.0 of 315360000.0) |#### | Elapsed Time: 19:35:40 ETA:   2:16:11"
     ]
    },
    {
     "name": "stderr",
     "output_type": "stream",
     "text": [
      "\r",
      " 91% (288576000.0 of 315360000.0) |#### | Elapsed Time: 19:36:19 ETA:   1:06:05"
     ]
    },
    {
     "name": "stderr",
     "output_type": "stream",
     "text": [
      "\r",
      " 91% (288748800.0 of 315360000.0) |#### | Elapsed Time: 19:37:11 ETA:   2:13:29"
     ]
    },
    {
     "name": "stderr",
     "output_type": "stream",
     "text": [
      "\r",
      " 91% (289008000.0 of 315360000.0) |#### | Elapsed Time: 19:37:49 ETA:   1:05:06"
     ]
    },
    {
     "name": "stderr",
     "output_type": "stream",
     "text": [
      "\r",
      " 91% (289180800.0 of 315360000.0) |#### | Elapsed Time: 19:38:41 ETA:   2:11:41"
     ]
    },
    {
     "name": "stderr",
     "output_type": "stream",
     "text": [
      "\r",
      " 91% (289440000.0 of 315360000.0) |#### | Elapsed Time: 19:39:20 ETA:   1:04:09"
     ]
    },
    {
     "name": "stderr",
     "output_type": "stream",
     "text": [
      "\r",
      " 91% (289612800.0 of 315360000.0) |#### | Elapsed Time: 19:40:11 ETA:   2:07:54"
     ]
    },
    {
     "name": "stderr",
     "output_type": "stream",
     "text": [
      "\r",
      " 91% (289872000.0 of 315360000.0) |#### | Elapsed Time: 19:40:50 ETA:   1:02:40"
     ]
    },
    {
     "name": "stderr",
     "output_type": "stream",
     "text": [
      "\r",
      " 91% (290044800.0 of 315360000.0) |#### | Elapsed Time: 19:41:43 ETA:   2:10:04"
     ]
    },
    {
     "name": "stderr",
     "output_type": "stream",
     "text": [
      "\r",
      " 92% (290304000.0 of 315360000.0) |#### | Elapsed Time: 19:42:21 ETA:   1:02:11"
     ]
    },
    {
     "name": "stderr",
     "output_type": "stream",
     "text": [
      "\r",
      " 92% (290476800.0 of 315360000.0) |#### | Elapsed Time: 19:43:16 ETA:   2:10:00"
     ]
    },
    {
     "name": "stderr",
     "output_type": "stream",
     "text": [
      "\r",
      " 92% (290736000.0 of 315360000.0) |#### | Elapsed Time: 19:43:54 ETA:   1:01:08"
     ]
    },
    {
     "name": "stderr",
     "output_type": "stream",
     "text": [
      "\r",
      " 92% (290908800.0 of 315360000.0) |#### | Elapsed Time: 19:44:47 ETA:   2:03:40"
     ]
    },
    {
     "name": "stderr",
     "output_type": "stream",
     "text": [
      "\r",
      " 92% (291168000.0 of 315360000.0) |#### | Elapsed Time: 19:45:25 ETA:   0:59:53"
     ]
    },
    {
     "name": "stderr",
     "output_type": "stream",
     "text": [
      "\r",
      " 92% (291340800.0 of 315360000.0) |#### | Elapsed Time: 19:46:17 ETA:   2:00:59"
     ]
    },
    {
     "name": "stderr",
     "output_type": "stream",
     "text": [
      "\r",
      " 92% (291600000.0 of 315360000.0) |#### | Elapsed Time: 19:46:56 ETA:   0:58:33"
     ]
    },
    {
     "name": "stderr",
     "output_type": "stream",
     "text": [
      "\r",
      " 92% (291772800.0 of 315360000.0) |#### | Elapsed Time: 19:47:48 ETA:   1:58:07"
     ]
    },
    {
     "name": "stderr",
     "output_type": "stream",
     "text": [
      "\r",
      " 92% (292032000.0 of 315360000.0) |#### | Elapsed Time: 19:48:26 ETA:   0:57:12"
     ]
    },
    {
     "name": "stderr",
     "output_type": "stream",
     "text": [
      "\r",
      " 92% (292204800.0 of 315360000.0) |#### | Elapsed Time: 19:49:19 ETA:   1:57:58"
     ]
    },
    {
     "name": "stderr",
     "output_type": "stream",
     "text": [
      "\r",
      " 92% (292464000.0 of 315360000.0) |#### | Elapsed Time: 19:49:57 ETA:   0:56:09"
     ]
    },
    {
     "name": "stderr",
     "output_type": "stream",
     "text": [
      "\r",
      " 92% (292636800.0 of 315360000.0) |#### | Elapsed Time: 19:50:49 ETA:   1:54:02"
     ]
    },
    {
     "name": "stderr",
     "output_type": "stream",
     "text": [
      "\r",
      " 92% (292896000.0 of 315360000.0) |#### | Elapsed Time: 19:51:27 ETA:   0:55:21"
     ]
    },
    {
     "name": "stderr",
     "output_type": "stream",
     "text": [
      "\r",
      " 92% (293068800.0 of 315360000.0) |#### | Elapsed Time: 19:52:20 ETA:   1:53:53"
     ]
    },
    {
     "name": "stderr",
     "output_type": "stream",
     "text": [
      "\r",
      " 93% (293328000.0 of 315360000.0) |#### | Elapsed Time: 19:52:58 ETA:   0:54:20"
     ]
    },
    {
     "name": "stderr",
     "output_type": "stream",
     "text": [
      "\r",
      " 93% (293500800.0 of 315360000.0) |#### | Elapsed Time: 19:53:52 ETA:   1:52:34"
     ]
    },
    {
     "name": "stderr",
     "output_type": "stream",
     "text": [
      "\r",
      " 93% (293760000.0 of 315360000.0) |#### | Elapsed Time: 19:54:30 ETA:   0:53:16"
     ]
    },
    {
     "name": "stderr",
     "output_type": "stream",
     "text": [
      "\r",
      " 93% (293932800.0 of 315360000.0) |#### | Elapsed Time: 19:55:22 ETA:   1:46:33"
     ]
    },
    {
     "name": "stderr",
     "output_type": "stream",
     "text": [
      "\r",
      " 93% (294192000.0 of 315360000.0) |#### | Elapsed Time: 19:56:00 ETA:   0:52:00"
     ]
    },
    {
     "name": "stderr",
     "output_type": "stream",
     "text": [
      "\r",
      " 93% (294364800.0 of 315360000.0) |#### | Elapsed Time: 19:56:51 ETA:   1:44:18"
     ]
    },
    {
     "name": "stderr",
     "output_type": "stream",
     "text": [
      "\r",
      " 93% (294624000.0 of 315360000.0) |#### | Elapsed Time: 19:57:30 ETA:   0:50:43"
     ]
    },
    {
     "name": "stderr",
     "output_type": "stream",
     "text": [
      "\r",
      " 93% (294796800.0 of 315360000.0) |#### | Elapsed Time: 19:58:22 ETA:   1:43:30"
     ]
    },
    {
     "name": "stderr",
     "output_type": "stream",
     "text": [
      "\r",
      " 93% (295056000.0 of 315360000.0) |#### | Elapsed Time: 19:59:00 ETA:   0:50:19"
     ]
    },
    {
     "name": "stderr",
     "output_type": "stream",
     "text": [
      "\r",
      " 93% (295228800.0 of 315360000.0) |#### | Elapsed Time: 19:59:52 ETA:   1:40:40"
     ]
    },
    {
     "name": "stderr",
     "output_type": "stream",
     "text": [
      "\r",
      " 93% (295488000.0 of 315360000.0) |#### | Elapsed Time: 20:00:30 ETA:   0:48:37"
     ]
    },
    {
     "name": "stderr",
     "output_type": "stream",
     "text": [
      "\r",
      " 93% (295660800.0 of 315360000.0) |#### | Elapsed Time: 20:01:22 ETA:   1:38:42"
     ]
    },
    {
     "name": "stderr",
     "output_type": "stream",
     "text": [
      "\r",
      " 93% (295920000.0 of 315360000.0) |#### | Elapsed Time: 20:02:01 ETA:   0:48:02"
     ]
    },
    {
     "name": "stderr",
     "output_type": "stream",
     "text": [
      "\r",
      " 93% (296092800.0 of 315360000.0) |#### | Elapsed Time: 20:02:52 ETA:   1:35:18"
     ]
    },
    {
     "name": "stderr",
     "output_type": "stream",
     "text": [
      "\r",
      " 93% (296352000.0 of 315360000.0) |#### | Elapsed Time: 20:03:30 ETA:   0:46:33"
     ]
    },
    {
     "name": "stderr",
     "output_type": "stream",
     "text": [
      "\r",
      " 94% (296524800.0 of 315360000.0) |#### | Elapsed Time: 20:04:23 ETA:   1:37:02"
     ]
    },
    {
     "name": "stderr",
     "output_type": "stream",
     "text": [
      "\r",
      " 94% (296784000.0 of 315360000.0) |#### | Elapsed Time: 20:05:01 ETA:   0:45:31"
     ]
    },
    {
     "name": "stderr",
     "output_type": "stream",
     "text": [
      "\r",
      " 94% (296956800.0 of 315360000.0) |#### | Elapsed Time: 20:05:54 ETA:   1:33:36"
     ]
    },
    {
     "name": "stderr",
     "output_type": "stream",
     "text": [
      "\r",
      " 94% (297216000.0 of 315360000.0) |#### | Elapsed Time: 20:06:33 ETA:   0:44:44"
     ]
    },
    {
     "name": "stderr",
     "output_type": "stream",
     "text": [
      "\r",
      " 94% (297388800.0 of 315360000.0) |#### | Elapsed Time: 20:07:24 ETA:   1:28:58"
     ]
    },
    {
     "name": "stderr",
     "output_type": "stream",
     "text": [
      "\r",
      " 94% (297648000.0 of 315360000.0) |#### | Elapsed Time: 20:08:02 ETA:   0:43:24"
     ]
    },
    {
     "name": "stderr",
     "output_type": "stream",
     "text": [
      "\r",
      " 94% (297820800.0 of 315360000.0) |#### | Elapsed Time: 20:08:53 ETA:   1:26:30"
     ]
    },
    {
     "name": "stderr",
     "output_type": "stream",
     "text": [
      "\r",
      " 94% (298080000.0 of 315360000.0) |#### | Elapsed Time: 20:09:31 ETA:   0:42:33"
     ]
    },
    {
     "name": "stderr",
     "output_type": "stream",
     "text": [
      "\r",
      " 94% (298252800.0 of 315360000.0) |#### | Elapsed Time: 20:10:23 ETA:   1:25:54"
     ]
    },
    {
     "name": "stderr",
     "output_type": "stream",
     "text": [
      "\r",
      " 94% (298512000.0 of 315360000.0) |#### | Elapsed Time: 20:11:02 ETA:   0:41:17"
     ]
    },
    {
     "name": "stderr",
     "output_type": "stream",
     "text": [
      "\r",
      " 94% (298684800.0 of 315360000.0) |#### | Elapsed Time: 20:11:53 ETA:   1:23:22"
     ]
    },
    {
     "name": "stderr",
     "output_type": "stream",
     "text": [
      "\r",
      " 94% (298944000.0 of 315360000.0) |#### | Elapsed Time: 20:12:32 ETA:   0:40:19"
     ]
    },
    {
     "name": "stderr",
     "output_type": "stream",
     "text": [
      "\r",
      " 94% (299116800.0 of 315360000.0) |#### | Elapsed Time: 20:13:23 ETA:   1:20:25"
     ]
    },
    {
     "name": "stderr",
     "output_type": "stream",
     "text": [
      "\r",
      " 94% (299376000.0 of 315360000.0) |#### | Elapsed Time: 20:14:01 ETA:   0:39:19"
     ]
    },
    {
     "name": "stderr",
     "output_type": "stream",
     "text": [
      "\r",
      " 94% (299548800.0 of 315360000.0) |#### | Elapsed Time: 20:14:53 ETA:   1:19:10"
     ]
    },
    {
     "name": "stderr",
     "output_type": "stream",
     "text": [
      "\r",
      " 95% (299808000.0 of 315360000.0) |#### | Elapsed Time: 20:15:31 ETA:   0:37:50"
     ]
    },
    {
     "name": "stderr",
     "output_type": "stream",
     "text": [
      "\r",
      " 95% (299980800.0 of 315360000.0) |#### | Elapsed Time: 20:16:23 ETA:   1:17:45"
     ]
    },
    {
     "name": "stderr",
     "output_type": "stream",
     "text": [
      "\r",
      " 95% (300240000.0 of 315360000.0) |#### | Elapsed Time: 20:17:02 ETA:   0:37:09"
     ]
    },
    {
     "name": "stderr",
     "output_type": "stream",
     "text": [
      "\r",
      " 95% (300412800.0 of 315360000.0) |#### | Elapsed Time: 20:17:54 ETA:   1:15:45"
     ]
    },
    {
     "name": "stderr",
     "output_type": "stream",
     "text": [
      "\r",
      " 95% (300672000.0 of 315360000.0) |#### | Elapsed Time: 20:18:32 ETA:   0:35:37"
     ]
    },
    {
     "name": "stderr",
     "output_type": "stream",
     "text": [
      "\r",
      " 95% (300844800.0 of 315360000.0) |#### | Elapsed Time: 20:19:23 ETA:   1:11:25"
     ]
    },
    {
     "name": "stderr",
     "output_type": "stream",
     "text": [
      "\r",
      " 95% (301104000.0 of 315360000.0) |#### | Elapsed Time: 20:20:01 ETA:   0:34:48"
     ]
    },
    {
     "name": "stderr",
     "output_type": "stream",
     "text": [
      "\r",
      " 95% (301276800.0 of 315360000.0) |#### | Elapsed Time: 20:20:53 ETA:   1:10:49"
     ]
    },
    {
     "name": "stderr",
     "output_type": "stream",
     "text": [
      "\r",
      " 95% (301536000.0 of 315360000.0) |#### | Elapsed Time: 20:21:31 ETA:   0:33:32"
     ]
    },
    {
     "name": "stderr",
     "output_type": "stream",
     "text": [
      "\r",
      " 95% (301708800.0 of 315360000.0) |#### | Elapsed Time: 20:22:22 ETA:   1:06:57"
     ]
    },
    {
     "name": "stderr",
     "output_type": "stream",
     "text": [
      "\r",
      " 95% (301968000.0 of 315360000.0) |#### | Elapsed Time: 20:22:59 ETA:   0:32:29"
     ]
    },
    {
     "name": "stderr",
     "output_type": "stream",
     "text": [
      "\r",
      " 95% (302140800.0 of 315360000.0) |#### | Elapsed Time: 20:23:51 ETA:   1:06:00"
     ]
    },
    {
     "name": "stderr",
     "output_type": "stream",
     "text": [
      "\r",
      " 95% (302400000.0 of 315360000.0) |#### | Elapsed Time: 20:24:29 ETA:   0:31:29"
     ]
    },
    {
     "name": "stderr",
     "output_type": "stream",
     "text": [
      "\r",
      " 95% (302572800.0 of 315360000.0) |#### | Elapsed Time: 20:25:22 ETA:   1:05:07"
     ]
    },
    {
     "name": "stderr",
     "output_type": "stream",
     "text": [
      "\r",
      " 96% (302832000.0 of 315360000.0) |#### | Elapsed Time: 20:25:59 ETA:   0:30:20"
     ]
    },
    {
     "name": "stderr",
     "output_type": "stream",
     "text": [
      "\r",
      " 96% (303004800.0 of 315360000.0) |#### | Elapsed Time: 20:26:52 ETA:   1:02:11"
     ]
    },
    {
     "name": "stderr",
     "output_type": "stream",
     "text": [
      "\r",
      " 96% (303264000.0 of 315360000.0) |#### | Elapsed Time: 20:27:29 ETA:   0:29:18"
     ]
    },
    {
     "name": "stderr",
     "output_type": "stream",
     "text": [
      "\r",
      " 96% (303436800.0 of 315360000.0) |#### | Elapsed Time: 20:28:21 ETA:   0:59:45"
     ]
    },
    {
     "name": "stderr",
     "output_type": "stream",
     "text": [
      "\r",
      " 96% (303696000.0 of 315360000.0) |#### | Elapsed Time: 20:28:59 ETA:   0:28:09"
     ]
    },
    {
     "name": "stderr",
     "output_type": "stream",
     "text": [
      "\r",
      " 96% (303868800.0 of 315360000.0) |#### | Elapsed Time: 20:29:50 ETA:   0:56:47"
     ]
    },
    {
     "name": "stderr",
     "output_type": "stream",
     "text": [
      "\r",
      " 96% (304128000.0 of 315360000.0) |#### | Elapsed Time: 20:30:28 ETA:   0:27:16"
     ]
    },
    {
     "name": "stderr",
     "output_type": "stream",
     "text": [
      "\r",
      " 96% (304300800.0 of 315360000.0) |#### | Elapsed Time: 20:31:20 ETA:   0:55:34"
     ]
    },
    {
     "name": "stderr",
     "output_type": "stream",
     "text": [
      "\r",
      " 96% (304560000.0 of 315360000.0) |#### | Elapsed Time: 20:31:58 ETA:   0:26:09"
     ]
    },
    {
     "name": "stderr",
     "output_type": "stream",
     "text": [
      "\r",
      " 96% (304732800.0 of 315360000.0) |#### | Elapsed Time: 20:32:51 ETA:   0:54:19"
     ]
    },
    {
     "name": "stderr",
     "output_type": "stream",
     "text": [
      "\r",
      " 96% (304992000.0 of 315360000.0) |#### | Elapsed Time: 20:33:28 ETA:   0:25:02"
     ]
    },
    {
     "name": "stderr",
     "output_type": "stream",
     "text": [
      "\r",
      " 96% (305164800.0 of 315360000.0) |#### | Elapsed Time: 20:34:20 ETA:   0:51:19"
     ]
    },
    {
     "name": "stderr",
     "output_type": "stream",
     "text": [
      "\r",
      " 96% (305424000.0 of 315360000.0) |#### | Elapsed Time: 20:34:58 ETA:   0:24:13"
     ]
    },
    {
     "name": "stderr",
     "output_type": "stream",
     "text": [
      "\r",
      " 96% (305596800.0 of 315360000.0) |#### | Elapsed Time: 20:35:49 ETA:   0:48:06"
     ]
    },
    {
     "name": "stderr",
     "output_type": "stream",
     "text": [
      "\r",
      " 96% (305856000.0 of 315360000.0) |#### | Elapsed Time: 20:36:27 ETA:   0:23:05"
     ]
    },
    {
     "name": "stderr",
     "output_type": "stream",
     "text": [
      "\r",
      " 97% (306028800.0 of 315360000.0) |#### | Elapsed Time: 20:37:21 ETA:   0:48:56"
     ]
    },
    {
     "name": "stderr",
     "output_type": "stream",
     "text": [
      "\r",
      " 97% (306288000.0 of 315360000.0) |#### | Elapsed Time: 20:37:59 ETA:   0:21:53"
     ]
    },
    {
     "name": "stderr",
     "output_type": "stream",
     "text": [
      "\r",
      " 97% (306460800.0 of 315360000.0) |#### | Elapsed Time: 20:38:51 ETA:   0:44:44"
     ]
    },
    {
     "name": "stderr",
     "output_type": "stream",
     "text": [
      "\r",
      " 97% (306720000.0 of 315360000.0) |#### | Elapsed Time: 20:39:29 ETA:   0:20:51"
     ]
    },
    {
     "name": "stderr",
     "output_type": "stream",
     "text": [
      "\r",
      " 97% (306892800.0 of 315360000.0) |#### | Elapsed Time: 20:40:20 ETA:   0:41:54"
     ]
    },
    {
     "name": "stderr",
     "output_type": "stream",
     "text": [
      "\r",
      " 97% (307152000.0 of 315360000.0) |#### | Elapsed Time: 20:40:57 ETA:   0:19:46"
     ]
    },
    {
     "name": "stderr",
     "output_type": "stream",
     "text": [
      "\r",
      " 97% (307324800.0 of 315360000.0) |#### | Elapsed Time: 20:41:48 ETA:   0:39:33"
     ]
    },
    {
     "name": "stderr",
     "output_type": "stream",
     "text": [
      "\r",
      " 97% (307584000.0 of 315360000.0) |#### | Elapsed Time: 20:42:26 ETA:   0:18:51"
     ]
    },
    {
     "name": "stderr",
     "output_type": "stream",
     "text": [
      "\r",
      " 97% (307756800.0 of 315360000.0) |#### | Elapsed Time: 20:43:19 ETA:   0:38:31"
     ]
    },
    {
     "name": "stderr",
     "output_type": "stream",
     "text": [
      "\r",
      " 97% (308016000.0 of 315360000.0) |#### | Elapsed Time: 20:43:56 ETA:   0:17:47"
     ]
    },
    {
     "name": "stderr",
     "output_type": "stream",
     "text": [
      "\r",
      " 97% (308188800.0 of 315360000.0) |#### | Elapsed Time: 20:44:48 ETA:   0:35:58"
     ]
    },
    {
     "name": "stderr",
     "output_type": "stream",
     "text": [
      "\r",
      " 97% (308448000.0 of 315360000.0) |#### | Elapsed Time: 20:45:27 ETA:   0:16:55"
     ]
    },
    {
     "name": "stderr",
     "output_type": "stream",
     "text": [
      "\r",
      " 97% (308620800.0 of 315360000.0) |#### | Elapsed Time: 20:46:17 ETA:   0:33:07"
     ]
    },
    {
     "name": "stderr",
     "output_type": "stream",
     "text": [
      "\r",
      " 97% (308880000.0 of 315360000.0) |#### | Elapsed Time: 20:46:55 ETA:   0:15:42"
     ]
    },
    {
     "name": "stderr",
     "output_type": "stream",
     "text": [
      "\r",
      " 98% (309052800.0 of 315360000.0) |#### | Elapsed Time: 20:47:48 ETA:   0:31:51"
     ]
    },
    {
     "name": "stderr",
     "output_type": "stream",
     "text": [
      "\r",
      " 98% (309312000.0 of 315360000.0) |#### | Elapsed Time: 20:48:25 ETA:   0:14:39"
     ]
    },
    {
     "name": "stderr",
     "output_type": "stream",
     "text": [
      "\r",
      " 98% (309484800.0 of 315360000.0) |#### | Elapsed Time: 20:49:17 ETA:   0:29:10"
     ]
    },
    {
     "name": "stderr",
     "output_type": "stream",
     "text": [
      "\r",
      " 98% (309744000.0 of 315360000.0) |#### | Elapsed Time: 20:49:54 ETA:   0:13:38"
     ]
    },
    {
     "name": "stderr",
     "output_type": "stream",
     "text": [
      "\r",
      " 98% (309916800.0 of 315360000.0) |#### | Elapsed Time: 20:50:47 ETA:   0:27:23"
     ]
    },
    {
     "name": "stderr",
     "output_type": "stream",
     "text": [
      "\r",
      " 98% (310176000.0 of 315360000.0) |#### | Elapsed Time: 20:51:24 ETA:   0:12:26"
     ]
    },
    {
     "name": "stderr",
     "output_type": "stream",
     "text": [
      "\r",
      " 98% (310348800.0 of 315360000.0) |#### | Elapsed Time: 20:52:16 ETA:   0:25:21"
     ]
    },
    {
     "name": "stderr",
     "output_type": "stream",
     "text": [
      "\r",
      " 98% (310608000.0 of 315360000.0) |#### | Elapsed Time: 20:52:55 ETA:   0:11:39"
     ]
    },
    {
     "name": "stderr",
     "output_type": "stream",
     "text": [
      "\r",
      " 98% (310780800.0 of 315360000.0) |#### | Elapsed Time: 20:53:48 ETA:   0:23:44"
     ]
    },
    {
     "name": "stderr",
     "output_type": "stream",
     "text": [
      "\r",
      " 98% (311040000.0 of 315360000.0) |#### | Elapsed Time: 20:54:26 ETA:   0:10:23"
     ]
    },
    {
     "name": "stderr",
     "output_type": "stream",
     "text": [
      "\r",
      " 98% (311212800.0 of 315360000.0) |#### | Elapsed Time: 20:55:19 ETA:   0:21:18"
     ]
    },
    {
     "name": "stderr",
     "output_type": "stream",
     "text": [
      "\r",
      " 98% (311472000.0 of 315360000.0) |#### | Elapsed Time: 20:55:56 ETA:   0:09:19"
     ]
    },
    {
     "name": "stderr",
     "output_type": "stream",
     "text": [
      "\r",
      " 98% (311644800.0 of 315360000.0) |#### | Elapsed Time: 20:56:49 ETA:   0:18:47"
     ]
    },
    {
     "name": "stderr",
     "output_type": "stream",
     "text": [
      "\r",
      " 98% (311904000.0 of 315360000.0) |#### | Elapsed Time: 20:57:26 ETA:   0:08:19"
     ]
    },
    {
     "name": "stderr",
     "output_type": "stream",
     "text": [
      "\r",
      " 98% (312076800.0 of 315360000.0) |#### | Elapsed Time: 20:58:18 ETA:   0:16:19"
     ]
    },
    {
     "name": "stderr",
     "output_type": "stream",
     "text": [
      "\r",
      " 99% (312336000.0 of 315360000.0) |#### | Elapsed Time: 20:58:55 ETA:   0:07:15"
     ]
    },
    {
     "name": "stderr",
     "output_type": "stream",
     "text": [
      "\r",
      " 99% (312508800.0 of 315360000.0) |#### | Elapsed Time: 20:59:47 ETA:   0:14:11"
     ]
    },
    {
     "name": "stderr",
     "output_type": "stream",
     "text": [
      "\r",
      " 99% (312768000.0 of 315360000.0) |#### | Elapsed Time: 21:00:24 ETA:   0:06:14"
     ]
    },
    {
     "name": "stderr",
     "output_type": "stream",
     "text": [
      "\r",
      " 99% (312940800.0 of 315360000.0) |#### | Elapsed Time: 21:01:15 ETA:   0:11:56"
     ]
    },
    {
     "name": "stderr",
     "output_type": "stream",
     "text": [
      "\r",
      " 99% (313200000.0 of 315360000.0) |#### | Elapsed Time: 21:01:53 ETA:   0:05:13"
     ]
    },
    {
     "name": "stderr",
     "output_type": "stream",
     "text": [
      "\r",
      " 99% (313372800.0 of 315360000.0) |#### | Elapsed Time: 21:02:45 ETA:   0:09:53"
     ]
    },
    {
     "name": "stderr",
     "output_type": "stream",
     "text": [
      "\r",
      " 99% (313632000.0 of 315360000.0) |#### | Elapsed Time: 21:03:22 ETA:   0:04:11"
     ]
    },
    {
     "name": "stderr",
     "output_type": "stream",
     "text": [
      "\r",
      " 99% (313804800.0 of 315360000.0) |#### | Elapsed Time: 21:04:15 ETA:   0:07:49"
     ]
    },
    {
     "name": "stderr",
     "output_type": "stream",
     "text": [
      "\r",
      " 99% (314064000.0 of 315360000.0) |#### | Elapsed Time: 21:04:52 ETA:   0:03:07"
     ]
    },
    {
     "name": "stderr",
     "output_type": "stream",
     "text": [
      "\r",
      " 99% (314236800.0 of 315360000.0) |#### | Elapsed Time: 21:05:43 ETA:   0:05:29"
     ]
    },
    {
     "name": "stderr",
     "output_type": "stream",
     "text": [
      "\r",
      " 99% (314496000.0 of 315360000.0) |#### | Elapsed Time: 21:06:20 ETA:   0:02:03"
     ]
    },
    {
     "name": "stderr",
     "output_type": "stream",
     "text": [
      "\r",
      " 99% (314668800.0 of 315360000.0) |#### | Elapsed Time: 21:07:11 ETA:   0:03:23"
     ]
    },
    {
     "name": "stderr",
     "output_type": "stream",
     "text": [
      "\r",
      " 99% (314928000.0 of 315360000.0) |#### | Elapsed Time: 21:07:48 ETA:   0:01:01"
     ]
    },
    {
     "name": "stderr",
     "output_type": "stream",
     "text": [
      "\r",
      " 99% (315100800.0 of 315360000.0) |#### | Elapsed Time: 21:08:40 ETA:   0:01:17"
     ]
    },
    {
     "name": "stderr",
     "output_type": "stream",
     "text": [
      "\r",
      "100% (315360000.0 of 315360000.0) |#####| Elapsed Time: 21:09:17 ETA:  00:00:00"
     ]
    },
    {
     "name": "stderr",
     "output_type": "stream",
     "text": [
      "\r",
      "100% (315360000.0 of 315360000.0) |#####| Elapsed Time: 21:09:17 Time: 21:09:17"
     ]
    },
    {
     "name": "stderr",
     "output_type": "stream",
     "text": [
      "\n"
     ]
    },
    {
     "name": "stdout",
     "output_type": "stream",
     "text": [
      "CPU times: user 18h 38min 20s, sys: 1h 45min 42s, total: 20h 24min 2s\n",
      "Wall time: 21h 11min 37s\n"
     ]
    }
   ],
   "source": [
    "%%time\n",
    "\n",
    "# with dask.config.set(**{'array.slicing.split_large_chunks': False}):\n",
    "pset.execute(\n",
    "    custom_kernel,\n",
    "    runtime=timedelta(days=runtime_in_days),    \n",
    "    dt=timedelta(minutes=dt_in_minutes),      \n",
    "    output_file=outputfile,\n",
    "    recovery=recovery_cases\n",
    ")"
   ]
  },
  {
   "cell_type": "code",
   "execution_count": 38,
   "id": "interim-french",
   "metadata": {
    "execution": {
     "iopub.execute_input": "2021-05-03T04:52:29.212910Z",
     "iopub.status.busy": "2021-05-03T04:52:29.212510Z",
     "iopub.status.idle": "2021-05-03T04:52:29.213472Z",
     "shell.execute_reply": "2021-05-03T04:52:29.213195Z"
    },
    "papermill": {
     "duration": 0.219661,
     "end_time": "2021-05-03T04:52:29.213549",
     "exception": false,
     "start_time": "2021-05-03T04:52:28.993888",
     "status": "completed"
    },
    "tags": []
   },
   "outputs": [],
   "source": [
    "# outputfile.export()"
   ]
  },
  {
   "cell_type": "code",
   "execution_count": 39,
   "id": "daily-tourist",
   "metadata": {
    "execution": {
     "iopub.execute_input": "2021-05-03T04:52:29.656216Z",
     "iopub.status.busy": "2021-05-03T04:52:29.655873Z",
     "iopub.status.idle": "2021-05-03T04:57:07.322830Z",
     "shell.execute_reply": "2021-05-03T04:57:07.308816Z"
    },
    "papermill": {
     "duration": 277.901266,
     "end_time": "2021-05-03T04:57:07.328124",
     "exception": false,
     "start_time": "2021-05-03T04:52:29.426858",
     "status": "completed"
    },
    "tags": []
   },
   "outputs": [],
   "source": [
    "outputfile.close()"
   ]
  },
  {
   "cell_type": "code",
   "execution_count": 40,
   "id": "thousand-mystery",
   "metadata": {
    "execution": {
     "iopub.execute_input": "2021-05-03T04:57:07.984251Z",
     "iopub.status.busy": "2021-05-03T04:57:07.983593Z",
     "iopub.status.idle": "2021-05-03T04:57:11.060885Z",
     "shell.execute_reply": "2021-05-03T04:57:11.060610Z"
    },
    "papermill": {
     "duration": 3.320486,
     "end_time": "2021-05-03T04:57:11.060968",
     "exception": false,
     "start_time": "2021-05-03T04:57:07.740482",
     "status": "completed"
    },
    "tags": []
   },
   "outputs": [
    {
     "name": "stdout",
     "output_type": "stream",
     "text": [
      "# packages in environment at /opt/conda:\r\n",
      "#\r\n",
      "# Name                    Version                   Build  Channel\r\n",
      "_libgcc_mutex             0.1                 conda_forge    conda-forge\r\n",
      "_openmp_mutex             4.5                       1_gnu    conda-forge\r\n",
      "alembic                   1.5.5              pyhd8ed1ab_0    conda-forge\r\n",
      "ansiwrap                  0.8.4                      py_0    conda-forge\r\n",
      "anyio                     2.2.0            py38h578d9bd_0    conda-forge\r\n",
      "appdirs                   1.4.4              pyh9f0ad1d_0    conda-forge\r\n",
      "argon2-cffi               20.1.0           py38h497a2fe_2    conda-forge\r\n",
      "asciitree                 0.3.3                      py_2    conda-forge\r\n",
      "async_generator           1.10                       py_0    conda-forge\r\n",
      "attrs                     20.3.0             pyhd3deb0d_0    conda-forge\r\n",
      "babel                     2.9.0              pyhd3deb0d_0    conda-forge\r\n",
      "backcall                  0.2.0              pyh9f0ad1d_0    conda-forge\r\n",
      "backports                 1.0                        py_2    conda-forge\r\n",
      "backports.functools_lru_cache 1.6.1                      py_0    conda-forge\r\n",
      "basemap                   1.2.2            py38h85717e3_3    conda-forge\r\n",
      "binutils_impl_linux-64    2.35.1               h193b22a_2    conda-forge\r\n",
      "binutils_linux-64         2.35                h67ddf6f_30    conda-forge\r\n",
      "black                     20.8b1                     py_1    conda-forge\r\n",
      "bleach                    3.3.0              pyh44b312d_0    conda-forge\r\n",
      "blinker                   1.4                        py_1    conda-forge\r\n",
      "blosc                     1.21.0               h9c3ff4c_0    conda-forge\r\n",
      "bokeh                     2.3.0            py38h578d9bd_0    conda-forge\r\n",
      "boost-cpp                 1.74.0               hc6e9bd1_2    conda-forge\r\n",
      "bottleneck                1.3.2            py38h5c078b8_3    conda-forge\r\n",
      "brotlipy                  0.7.0           py38h497a2fe_1001    conda-forge\r\n",
      "bzip2                     1.0.8                h7f98852_4    conda-forge\r\n",
      "c-ares                    1.17.1               h36c2ea0_0    conda-forge\r\n",
      "ca-certificates           2020.12.5            ha878542_0    conda-forge\r\n",
      "cached-property           1.5.2                hd8ed1ab_1    conda-forge\r\n",
      "cached_property           1.5.2              pyha770c72_1    conda-forge\r\n",
      "cachetools                4.2.1              pyhd8ed1ab_0    conda-forge\r\n",
      "cairo                     1.16.0            h7979940_1007    conda-forge\r\n",
      "cartopy                   0.18.0           py38h9b98833_8    conda-forge\r\n",
      "certifi                   2020.12.5        py38h578d9bd_1    conda-forge\r\n",
      "certipy                   0.1.3                      py_0    conda-forge\r\n",
      "cffi                      1.14.5           py38ha65f79e_0    conda-forge\r\n",
      "cfitsio                   3.470                hb418390_7    conda-forge\r\n",
      "cftime                    1.4.1            py38h5c078b8_0    conda-forge\r\n",
      "cgen                      2020.1                     py_0    conda-forge\r\n",
      "chardet                   4.0.0            py38h578d9bd_1    conda-forge\r\n",
      "click                     7.1.2              pyh9f0ad1d_0    conda-forge\r\n",
      "click-plugins             1.1.1                      py_0    conda-forge\r\n",
      "cligj                     0.7.1              pyhd8ed1ab_0    conda-forge\r\n",
      "cloudpickle               1.6.0                      py_0    conda-forge\r\n",
      "cmocean                   2.0                        py_3    conda-forge\r\n",
      "colorcet                  2.0.6              pyhd8ed1ab_0    conda-forge\r\n",
      "colorspacious             1.1.2              pyh24bf2e0_0    conda-forge\r\n",
      "conda                     4.9.2            py38h578d9bd_0    conda-forge\r\n",
      "conda-package-handling    1.7.2            py38h8df0ef7_0    conda-forge\r\n",
      "configurable-http-proxy   4.2.3           node15_he6ea98c_0    conda-forge\r\n",
      "cryptography              3.4.4            py38h3e25421_0    conda-forge\r\n",
      "curl                      7.71.1               he644dc0_8    conda-forge\r\n",
      "cycler                    0.10.0                     py_2    conda-forge\r\n",
      "cytoolz                   0.11.0           py38h497a2fe_3    conda-forge\r\n",
      "dask                      2021.2.0           pyhd8ed1ab_0    conda-forge\r\n",
      "dask-core                 2021.2.0           pyhd8ed1ab_0    conda-forge\r\n",
      "dataclasses               0.8                pyhc8e2a94_1    conda-forge\r\n",
      "datashader                0.12.0             pyhd3deb0d_0    conda-forge\r\n",
      "datashape                 0.5.4                      py_1    conda-forge\r\n",
      "dbus                      1.13.6               hfdff14a_1    conda-forge\r\n",
      "decorator                 4.4.2                      py_0    conda-forge\r\n",
      "defusedxml                0.6.0                      py_0    conda-forge\r\n",
      "distributed               2021.2.0         py38h578d9bd_0    conda-forge\r\n",
      "entrypoints               0.3             pyhd8ed1ab_1003    conda-forge\r\n",
      "expat                     2.2.10               h9c3ff4c_0    conda-forge\r\n",
      "fasteners                 0.14.1                     py_3    conda-forge\r\n",
      "ffmpeg                    4.3.1                hca11adc_2    conda-forge\r\n",
      "fiona                     1.8.18           py38h58f84aa_1    conda-forge\r\n",
      "fontconfig                2.13.1            hba837de_1004    conda-forge\r\n",
      "freetype                  2.10.4               h0708190_1    conda-forge\r\n",
      "freexl                    1.0.6                h7f98852_0    conda-forge\r\n",
      "fsspec                    0.8.7              pyhd8ed1ab_0    conda-forge\r\n",
      "gcc_impl_linux-64         9.3.0               h70c0ae5_18    conda-forge\r\n",
      "gcc_linux-64              9.3.0               hf25ea35_30    conda-forge\r\n",
      "gdal                      3.2.1            py38hc0b2d6b_3    conda-forge\r\n",
      "geopandas                 0.9.0              pyhd8ed1ab_0    conda-forge\r\n",
      "geos                      3.8.1                he1b5a44_0    conda-forge\r\n",
      "geotiff                   1.6.0                h2b14fbe_4    conda-forge\r\n",
      "geoviews                  1.9.1              pyhd8ed1ab_0    conda-forge\r\n",
      "geoviews-core             1.9.1              pyha770c72_0    conda-forge\r\n",
      "gettext                   0.19.8.1          h0b5b191_1005    conda-forge\r\n",
      "giflib                    5.2.1                h36c2ea0_2    conda-forge\r\n",
      "glib                      2.66.7               h9c3ff4c_1    conda-forge\r\n",
      "glib-tools                2.66.7               h9c3ff4c_1    conda-forge\r\n",
      "gmp                       6.2.1                h58526e2_0    conda-forge\r\n",
      "gnutls                    3.6.13               h85f3911_1    conda-forge\r\n",
      "gst-plugins-base          1.14.5               h0935bb2_2    conda-forge\r\n",
      "gstreamer                 1.18.4               h76c114f_0    conda-forge\r\n",
      "gsw                       3.4.0            py38h5c078b8_1    conda-forge\r\n",
      "h5netcdf                  0.10.0             pyhd8ed1ab_0    conda-forge\r\n",
      "h5py                      3.1.0           nompi_py38hafa665b_100    conda-forge\r\n",
      "hdf4                      4.2.13            h10796ff_1004    conda-forge\r\n",
      "hdf5                      1.10.6          nompi_h6a2412b_1114    conda-forge\r\n",
      "heapdict                  1.0.1                      py_0    conda-forge\r\n",
      "holoviews                 1.14.2             pyhd8ed1ab_0    conda-forge\r\n",
      "hvplot                    0.7.1              pyh44b312d_0    conda-forge\r\n",
      "icu                       68.1                 h58526e2_0    conda-forge\r\n",
      "idna                      2.10               pyh9f0ad1d_0    conda-forge\r\n",
      "importlib-metadata        3.7.0            py38h578d9bd_0    conda-forge\r\n",
      "ipykernel                 5.5.0            py38h81c977d_1    conda-forge\r\n",
      "ipython                   7.21.0           py38h81c977d_0    conda-forge\r\n",
      "ipython_genutils          0.2.0                      py_1    conda-forge\r\n",
      "jedi                      0.18.0           py38h578d9bd_2    conda-forge\r\n",
      "jinja2                    2.11.3             pyh44b312d_0    conda-forge\r\n",
      "joblib                    1.0.1              pyhd8ed1ab_0    conda-forge\r\n",
      "jpeg                      9d                   h36c2ea0_0    conda-forge\r\n",
      "json-c                    0.13.1            hbfbb72e_1002    conda-forge\r\n",
      "json5                     0.9.5              pyh9f0ad1d_0    conda-forge\r\n",
      "jsonschema                3.2.0              pyhd8ed1ab_3    conda-forge\r\n",
      "jupyter-packaging         0.7.12             pyhd8ed1ab_0    conda-forge\r\n",
      "jupyter_client            6.1.11             pyhd8ed1ab_1    conda-forge\r\n",
      "jupyter_core              4.7.1            py38h578d9bd_0    conda-forge\r\n",
      "jupyter_server            1.4.1            py38h578d9bd_0    conda-forge\r\n",
      "jupyter_telemetry         0.1.0              pyhd8ed1ab_1    conda-forge\r\n",
      "jupyterhub                1.3.0            py38h578d9bd_1    conda-forge\r\n",
      "jupyterhub-base           1.3.0            py38h578d9bd_1    conda-forge\r\n",
      "jupyterlab                3.0.9              pyhd8ed1ab_0    conda-forge\r\n",
      "jupyterlab_pygments       0.1.2              pyh9f0ad1d_0    conda-forge\r\n",
      "jupyterlab_server         2.3.0              pyhd8ed1ab_0    conda-forge\r\n",
      "kealib                    1.4.14               hcc255d8_2    conda-forge\r\n",
      "kernel-headers_linux-64   2.6.32              h77966d4_13    conda-forge\r\n",
      "kiwisolver                1.3.1            py38h1fd1430_1    conda-forge\r\n",
      "krb5                      1.17.2               h926e7f8_0    conda-forge\r\n",
      "lame                      3.100             h7f98852_1001    conda-forge\r\n",
      "lcms2                     2.12                 hddcbb42_0    conda-forge\r\n",
      "ld_impl_linux-64          2.35.1               hea4e1c9_2    conda-forge\r\n",
      "libarchive                3.5.1                h3f442fb_1    conda-forge\r\n",
      "libblas                   3.9.0           3_h92ddd45_netlib    conda-forge\r\n",
      "libcblas                  3.9.0           3_h92ddd45_netlib    conda-forge\r\n",
      "libclang                  11.1.0          default_ha53f305_0    conda-forge\r\n",
      "libcurl                   7.71.1               hcdd3856_8    conda-forge\r\n",
      "libdap4                   3.20.6               hd7c4107_1    conda-forge\r\n",
      "libedit                   3.1.20191231         he28a2e2_2    conda-forge\r\n",
      "libev                     4.33                 h516909a_1    conda-forge\r\n",
      "libevent                  2.1.10               hcdb4288_3    conda-forge\r\n",
      "libffi                    3.3                  h58526e2_2    conda-forge\r\n",
      "libgcc-devel_linux-64     9.3.0               h7864c58_18    conda-forge\r\n",
      "libgcc-ng                 9.3.0               h2828fa1_18    conda-forge\r\n",
      "libgdal                   3.2.1                h744752d_3    conda-forge\r\n",
      "libgfortran-ng            9.3.0               hff62375_18    conda-forge\r\n",
      "libgfortran5              9.3.0               hff62375_18    conda-forge\r\n",
      "libglib                   2.66.7               h3e27bee_1    conda-forge\r\n",
      "libgomp                   9.3.0               h2828fa1_18    conda-forge\r\n",
      "libiconv                  1.16                 h516909a_0    conda-forge\r\n",
      "libkml                    1.3.0             h02e6976_1012    conda-forge\r\n",
      "liblapack                 3.9.0           3_h92ddd45_netlib    conda-forge\r\n",
      "libllvm10                 10.0.1               he513fc3_3    conda-forge\r\n",
      "libllvm11                 11.1.0               hf817b99_0    conda-forge\r\n",
      "libnetcdf                 4.7.4           nompi_h56d31a8_107    conda-forge\r\n",
      "libnghttp2                1.43.0               h812cca2_0    conda-forge\r\n",
      "libopenblas               0.3.13          pthreads_h8fe5266_0    conda-forge\r\n",
      "libpng                    1.6.37               h21135ba_2    conda-forge\r\n",
      "libpq                     12.3                 h255efa7_3    conda-forge\r\n",
      "librttopo                 1.1.0                hb271727_4    conda-forge\r\n",
      "libsodium                 1.0.18               h36c2ea0_1    conda-forge\r\n",
      "libsolv                   0.7.17               h780b84a_0    conda-forge\r\n",
      "libspatialindex           1.9.3                h9c3ff4c_3    conda-forge\r\n",
      "libspatialite             5.0.1                h4e7eb2b_1    conda-forge\r\n",
      "libssh2                   1.9.0                hab1572f_5    conda-forge\r\n",
      "libstdcxx-ng              9.3.0               h6de172a_18    conda-forge\r\n",
      "libtiff                   4.2.0                hdc55705_0    conda-forge\r\n",
      "libuuid                   2.32.1            h7f98852_1000    conda-forge\r\n",
      "libuv                     1.41.0               h7f98852_0    conda-forge\r\n",
      "libwebp-base              1.2.0                h7f98852_2    conda-forge\r\n",
      "libxcb                    1.13              h7f98852_1003    conda-forge\r\n",
      "libxkbcommon              1.0.3                he3ba5ed_0    conda-forge\r\n",
      "libxml2                   2.9.10               h72842e0_3    conda-forge\r\n",
      "llvmlite                  0.36.0           py38h4630a5e_0    conda-forge\r\n",
      "locket                    0.2.0                      py_2    conda-forge\r\n",
      "lz4-c                     1.9.3                h9c3ff4c_0    conda-forge\r\n",
      "lzo                       2.10              h516909a_1000    conda-forge\r\n",
      "mako                      1.1.4              pyh44b312d_0    conda-forge\r\n",
      "mamba                     0.7.14           py38h2aa5da1_0    conda-forge\r\n",
      "markdown                  3.3.4              pyhd8ed1ab_0    conda-forge\r\n",
      "markupsafe                1.1.1            py38h497a2fe_3    conda-forge\r\n",
      "matplotlib                3.3.4            py38h578d9bd_0    conda-forge\r\n",
      "matplotlib-base           3.3.4            py38h0efea84_0    conda-forge\r\n",
      "mistune                   0.8.4           py38h497a2fe_1003    conda-forge\r\n",
      "monotonic                 1.5                        py_0    conda-forge\r\n",
      "msgpack-python            1.0.2            py38h1fd1430_1    conda-forge\r\n",
      "multipledispatch          0.6.0                      py_0    conda-forge\r\n",
      "munch                     2.5.0                      py_0    conda-forge\r\n",
      "mypy_extensions           0.4.3            py38h578d9bd_3    conda-forge\r\n",
      "mysql-common              8.0.22               ha770c72_3    conda-forge\r\n",
      "mysql-libs                8.0.22               h935591d_3    conda-forge\r\n",
      "nbclassic                 0.2.6              pyhd8ed1ab_0    conda-forge\r\n",
      "nbclient                  0.5.3              pyhd8ed1ab_0    conda-forge\r\n",
      "nbconvert                 6.0.7            py38h578d9bd_3    conda-forge\r\n",
      "nbformat                  5.1.2              pyhd8ed1ab_1    conda-forge\r\n",
      "ncurses                   6.2                  h58526e2_4    conda-forge\r\n",
      "nest-asyncio              1.4.3              pyhd8ed1ab_0    conda-forge\r\n",
      "netcdf4                   1.5.6           nompi_py38h1cdf482_100    conda-forge\r\n",
      "nettle                    3.6                  he412f7d_0    conda-forge\r\n",
      "nodejs                    15.11.0              h92b4a50_0    conda-forge\r\n",
      "notebook                  6.2.0            py38h578d9bd_0    conda-forge\r\n",
      "nspr                      4.30                 h9c3ff4c_0    conda-forge\r\n",
      "nss                       3.62                 hb5efdd6_0    conda-forge\r\n",
      "numba                     0.53.0           py38h5e62926_0    conda-forge\r\n",
      "numcodecs                 0.7.3            py38h709712a_0    conda-forge\r\n",
      "numpy                     1.20.1           py38h18fd61f_0    conda-forge\r\n",
      "oauthlib                  3.0.1                      py_0    conda-forge\r\n",
      "olefile                   0.46               pyh9f0ad1d_1    conda-forge\r\n",
      "openblas                  0.3.13          pthreads_h4748800_0    conda-forge\r\n",
      "openh264                  2.1.1                h780b84a_0    conda-forge\r\n",
      "openjpeg                  2.4.0                hf7af979_0    conda-forge\r\n",
      "openssl                   1.1.1j               h7f98852_0    conda-forge\r\n",
      "packaging                 20.9               pyh44b312d_0    conda-forge\r\n",
      "pamela                    1.0.0                      py_0    conda-forge\r\n",
      "pandas                    1.2.3            py38h51da96c_0    conda-forge\r\n",
      "pandoc                    2.11.4               h7f98852_0    conda-forge\r\n",
      "pandocfilters             1.4.2                      py_1    conda-forge\r\n",
      "panel                     0.11.0             pyhd8ed1ab_0    conda-forge\r\n",
      "papermill                 2.3.3              pyhd8ed1ab_0    conda-forge\r\n",
      "param                     1.10.1             pyhd3deb0d_0    conda-forge\r\n",
      "parcels                   2.2.2            py38h578d9bd_0    conda-forge\r\n",
      "parso                     0.8.1              pyhd8ed1ab_0    conda-forge\r\n",
      "partd                     1.1.0                      py_0    conda-forge\r\n",
      "pathspec                  0.8.1              pyhd3deb0d_0    conda-forge\r\n",
      "patsy                     0.5.1                      py_0    conda-forge\r\n",
      "pcre                      8.44                 he1b5a44_0    conda-forge\r\n",
      "pexpect                   4.8.0              pyh9f0ad1d_2    conda-forge\r\n",
      "pickleshare               0.7.5                   py_1003    conda-forge\r\n",
      "pillow                    8.1.2            py38ha0e1e83_0    conda-forge\r\n",
      "pip                       21.0.1             pyhd8ed1ab_0    conda-forge\r\n",
      "pixman                    0.40.0               h36c2ea0_0    conda-forge\r\n",
      "poppler                   0.89.0               h2de54a5_5    conda-forge\r\n",
      "poppler-data              0.4.10                        0    conda-forge\r\n",
      "postgresql                12.3                 hc2f5b80_3    conda-forge\r\n",
      "progressbar2              3.53.1             pyh9f0ad1d_0    conda-forge\r\n",
      "proj                      7.2.0                h277dcde_2    conda-forge\r\n",
      "prometheus_client         0.9.0              pyhd3deb0d_0    conda-forge\r\n",
      "prompt-toolkit            3.0.16             pyha770c72_0    conda-forge\r\n",
      "psutil                    5.8.0            py38h497a2fe_1    conda-forge\r\n",
      "pthread-stubs             0.4               h36c2ea0_1001    conda-forge\r\n",
      "ptyprocess                0.7.0              pyhd3deb0d_0    conda-forge\r\n",
      "pycosat                   0.6.3           py38h497a2fe_1006    conda-forge\r\n",
      "pycparser                 2.20               pyh9f0ad1d_2    conda-forge\r\n",
      "pyct                      0.4.6                      py_0    conda-forge\r\n",
      "pyct-core                 0.4.6                      py_0    conda-forge\r\n",
      "pycurl                    7.43.0.6         py38h996a351_1    conda-forge\r\n",
      "pygments                  2.8.0              pyhd8ed1ab_0    conda-forge\r\n",
      "pyjwt                     2.0.1              pyhd8ed1ab_0    conda-forge\r\n",
      "pymbolic                  2020.1             pyh9f0ad1d_0    conda-forge\r\n",
      "pyopenssl                 20.0.1             pyhd8ed1ab_0    conda-forge\r\n",
      "pyparsing                 2.4.7              pyh9f0ad1d_0    conda-forge\r\n",
      "pyproj                    3.0.1            py38h16ecdd7_0    conda-forge\r\n",
      "pyqt                      5.12.3           py38h578d9bd_7    conda-forge\r\n",
      "pyqt-impl                 5.12.3           py38h7400c14_7    conda-forge\r\n",
      "pyqt5-sip                 4.19.18          py38h709712a_7    conda-forge\r\n",
      "pyqtchart                 5.12             py38h7400c14_7    conda-forge\r\n",
      "pyqtwebengine             5.12.1           py38h7400c14_7    conda-forge\r\n",
      "pyrsistent                0.17.3           py38h497a2fe_2    conda-forge\r\n",
      "pyshp                     2.1.3              pyh44b312d_0    conda-forge\r\n",
      "pysocks                   1.7.1            py38h578d9bd_3    conda-forge\r\n",
      "python                    3.8.8           hffdb5ce_0_cpython    conda-forge\r\n",
      "python-blosc              1.10.2           py38h51da96c_0    conda-forge\r\n",
      "python-dateutil           2.8.1                      py_0    conda-forge\r\n",
      "python-editor             1.0.4                      py_0    conda-forge\r\n",
      "python-json-logger        2.0.1              pyh9f0ad1d_0    conda-forge\r\n",
      "python-utils              2.5.5              pyh44b312d_0    conda-forge\r\n",
      "python_abi                3.8                      1_cp38    conda-forge\r\n",
      "pytools                   2021.2             pyhd8ed1ab_0    conda-forge\r\n",
      "pytz                      2021.1             pyhd8ed1ab_0    conda-forge\r\n",
      "pyviz_comms               2.0.1              pyhd3deb0d_0    conda-forge\r\n",
      "pyyaml                    5.4.1            py38h497a2fe_0    conda-forge\r\n",
      "pyzmq                     22.0.3           py38h2035c66_1    conda-forge\r\n",
      "qt                        5.12.9               h9d6b050_2    conda-forge\r\n",
      "readline                  8.0                  he28a2e2_2    conda-forge\r\n",
      "regex                     2020.11.13       py38h497a2fe_1    conda-forge\r\n",
      "reproc                    14.2.1               h36c2ea0_0    conda-forge\r\n",
      "reproc-cpp                14.2.1               h58526e2_0    conda-forge\r\n",
      "requests                  2.25.1             pyhd3deb0d_0    conda-forge\r\n",
      "rtree                     0.9.7            py38h02d302b_1    conda-forge\r\n",
      "ruamel.yaml               0.16.12          py38h497a2fe_2    conda-forge\r\n",
      "ruamel.yaml.clib          0.2.2            py38h497a2fe_2    conda-forge\r\n",
      "ruamel_yaml               0.15.80         py38h497a2fe_1004    conda-forge\r\n",
      "scikit-learn              0.24.1           py38h658cfdd_0    conda-forge\r\n",
      "scipy                     1.6.1            py38hb2138dd_0    conda-forge\r\n",
      "seaborn                   0.11.1               hd8ed1ab_1    conda-forge\r\n",
      "seaborn-base              0.11.1             pyhd8ed1ab_1    conda-forge\r\n",
      "seawater                  3.3.4                      py_1    conda-forge\r\n",
      "send2trash                1.5.0                      py_0    conda-forge\r\n",
      "setuptools                49.6.0           py38h578d9bd_3    conda-forge\r\n",
      "shapely                   1.7.1            py38ha11d057_1    conda-forge\r\n",
      "six                       1.15.0             pyh9f0ad1d_0    conda-forge\r\n",
      "sniffio                   1.2.0            py38h578d9bd_1    conda-forge\r\n",
      "sortedcontainers          2.3.0              pyhd8ed1ab_0    conda-forge\r\n",
      "sparse                    0.11.2                     py_0    conda-forge\r\n",
      "sqlalchemy                1.3.23           py38h497a2fe_0    conda-forge\r\n",
      "sqlite                    3.34.0               h74cdb3f_0    conda-forge\r\n",
      "statsmodels               0.12.2           py38h5c078b8_0    conda-forge\r\n",
      "sysroot_linux-64          2.12                h77966d4_13    conda-forge\r\n",
      "tblib                     1.6.0                      py_0    conda-forge\r\n",
      "tenacity                  7.0.0              pyhd8ed1ab_0    conda-forge\r\n",
      "terminado                 0.9.2            py38h578d9bd_0    conda-forge\r\n",
      "testpath                  0.4.4                      py_0    conda-forge\r\n",
      "textwrap3                 0.9.2                      py_0    conda-forge\r\n",
      "threadpoolctl             2.1.0              pyh5ca1d4c_0    conda-forge\r\n",
      "tiledb                    2.2.5                h91fcb0e_0    conda-forge\r\n",
      "tini                      0.18.0            h14c3975_1001    conda-forge\r\n",
      "tk                        8.6.10               h21135ba_1    conda-forge\r\n",
      "toml                      0.10.2             pyhd8ed1ab_0    conda-forge\r\n",
      "toolz                     0.11.1                     py_0    conda-forge\r\n",
      "tornado                   6.1              py38h497a2fe_1    conda-forge\r\n",
      "tqdm                      4.58.0             pyhd8ed1ab_0    conda-forge\r\n",
      "traitlets                 5.0.5                      py_0    conda-forge\r\n",
      "typed-ast                 1.4.2            py38h497a2fe_0    conda-forge\r\n",
      "typing_extensions         3.7.4.3                    py_0    conda-forge\r\n",
      "tzcode                    2021a                h7f98852_1    conda-forge\r\n",
      "urllib3                   1.26.3             pyhd8ed1ab_0    conda-forge\r\n",
      "wcwidth                   0.2.5              pyh9f0ad1d_2    conda-forge\r\n",
      "webencodings              0.5.1                      py_1    conda-forge\r\n",
      "wheel                     0.36.2             pyhd3deb0d_0    conda-forge\r\n",
      "x264                      1!161.3030           h7f98852_0    conda-forge\r\n",
      "xarray                    0.17.0             pyhd8ed1ab_0    conda-forge\r\n",
      "xerces-c                  3.2.3                h9d8b166_2    conda-forge\r\n",
      "xhistogram                0.1.2              pyhd8ed1ab_0    conda-forge\r\n",
      "xorg-kbproto              1.0.7             h7f98852_1002    conda-forge\r\n",
      "xorg-libice               1.0.10               h7f98852_0    conda-forge\r\n",
      "xorg-libsm                1.2.3             hd9c2040_1000    conda-forge\r\n",
      "xorg-libx11               1.7.0                h7f98852_0    conda-forge\r\n",
      "xorg-libxau               1.0.9                h7f98852_0    conda-forge\r\n",
      "xorg-libxdmcp             1.1.3                h7f98852_0    conda-forge\r\n",
      "xorg-libxext              1.3.4                h7f98852_1    conda-forge\r\n",
      "xorg-libxrender           0.9.10            h7f98852_1003    conda-forge\r\n",
      "xorg-renderproto          0.11.1            h7f98852_1002    conda-forge\r\n",
      "xorg-xextproto            7.3.0             h7f98852_1002    conda-forge\r\n",
      "xorg-xproto               7.0.31            h7f98852_1007    conda-forge\r\n",
      "xz                        5.2.5                h516909a_1    conda-forge\r\n",
      "yaml                      0.2.5                h516909a_0    conda-forge\r\n",
      "zarr                      2.6.1              pyhd8ed1ab_0    conda-forge\r\n",
      "zeromq                    4.3.4                h9c3ff4c_0    conda-forge\r\n",
      "zict                      2.0.0                      py_0    conda-forge\r\n",
      "zipp                      3.4.0                      py_0    conda-forge\r\n",
      "zlib                      1.2.11            h516909a_1010    conda-forge\r\n",
      "zstd                      1.4.9                ha95c52a_0    conda-forge\r\n"
     ]
    },
    {
     "name": "stdout",
     "output_type": "stream",
     "text": [
      "\n",
      "Note: you may need to restart the kernel to use updated packages.\n"
     ]
    }
   ],
   "source": [
    "conda list\n"
   ]
  },
  {
   "cell_type": "code",
   "execution_count": 41,
   "id": "warming-cooper",
   "metadata": {
    "execution": {
     "iopub.execute_input": "2021-05-03T04:57:11.521660Z",
     "iopub.status.busy": "2021-05-03T04:57:11.521302Z",
     "iopub.status.idle": "2021-05-03T04:57:12.435156Z",
     "shell.execute_reply": "2021-05-03T04:57:12.434624Z"
    },
    "papermill": {
     "duration": 1.160353,
     "end_time": "2021-05-03T04:57:12.435246",
     "exception": false,
     "start_time": "2021-05-03T04:57:11.274893",
     "status": "completed"
    },
    "tags": []
   },
   "outputs": [
    {
     "name": "stdout",
     "output_type": "stream",
     "text": [
      "Package                       Version\r\n",
      "----------------------------- --------------------------\r\n",
      "alembic                       1.5.5\r\n",
      "ansiwrap                      0.8.4\r\n",
      "anyio                         2.2.0\r\n",
      "appdirs                       1.4.4\r\n",
      "argon2-cffi                   20.1.0\r\n",
      "asciitree                     0.3.3\r\n",
      "async-generator               1.10\r\n",
      "attrs                         20.3.0\r\n",
      "Babel                         2.9.0\r\n",
      "backcall                      0.2.0\r\n",
      "backports.functools-lru-cache 1.6.1\r\n",
      "basemap                       1.2.1\r\n",
      "black                         20.8b1\r\n",
      "bleach                        3.3.0\r\n",
      "blinker                       1.4\r\n",
      "blosc                         1.10.2\r\n",
      "bokeh                         2.3.0\r\n",
      "Bottleneck                    1.3.2\r\n",
      "brotlipy                      0.7.0\r\n",
      "cached-property               1.5.2\r\n",
      "cachetools                    4.2.1\r\n",
      "Cartopy                       0.18.0\r\n",
      "certifi                       2020.12.5\r\n",
      "certipy                       0.1.3\r\n",
      "cffi                          1.14.5\r\n",
      "cftime                        1.4.1\r\n",
      "cgen                          2020.1\r\n",
      "chardet                       4.0.0\r\n",
      "click                         7.1.2\r\n",
      "click-plugins                 1.1.1\r\n",
      "cligj                         0.7.1\r\n",
      "cloudpickle                   1.6.0\r\n",
      "cmocean                       2.0\r\n",
      "colorcet                      2.0.6\r\n",
      "colorspacious                 1.1.2\r\n",
      "conda                         4.9.2\r\n",
      "conda-package-handling        1.7.2\r\n",
      "cryptography                  3.4.4\r\n",
      "cycler                        0.10.0\r\n",
      "cytoolz                       0.11.0\r\n",
      "dask                          2021.2.0\r\n",
      "datashader                    0.12.0\r\n",
      "datashape                     0.5.4\r\n",
      "decorator                     4.4.2\r\n",
      "defusedxml                    0.6.0\r\n",
      "distributed                   2021.2.0\r\n",
      "entrypoints                   0.3\r\n",
      "fasteners                     0.14.1\r\n",
      "Fiona                         1.8.18\r\n",
      "fsspec                        0.8.7\r\n",
      "GDAL                          3.2.1\r\n",
      "geopandas                     0.9.0\r\n",
      "geoviews                      0.0.0+g33876c88.gitarchive\r\n",
      "gsw                           3.4.0\r\n",
      "h5netcdf                      0.10.0\r\n",
      "h5py                          3.1.0\r\n",
      "HeapDict                      1.0.1\r\n",
      "holoviews                     1.14.2\r\n",
      "hvplot                        0.7.1\r\n",
      "idna                          2.10\r\n",
      "importlib-metadata            3.7.0\r\n",
      "ipykernel                     5.5.0\r\n",
      "ipython                       7.21.0\r\n",
      "ipython-genutils              0.2.0\r\n",
      "jedi                          0.18.0\r\n",
      "Jinja2                        2.11.3\r\n",
      "joblib                        1.0.1\r\n",
      "json5                         0.9.5\r\n",
      "jsonschema                    3.2.0\r\n",
      "jupyter-client                6.1.11\r\n",
      "jupyter-core                  4.7.1\r\n",
      "jupyter-packaging             0.7.12\r\n",
      "jupyter-server                1.4.1\r\n",
      "jupyter-telemetry             0.1.0\r\n",
      "jupyterhub                    1.3.0\r\n",
      "jupyterlab                    3.0.9\r\n",
      "jupyterlab-pygments           0.1.2\r\n",
      "jupyterlab-server             2.3.0\r\n",
      "kiwisolver                    1.3.1\r\n",
      "llvmlite                      0.36.0\r\n",
      "locket                        0.2.0\r\n",
      "Mako                          1.1.4\r\n",
      "mamba                         0.7.14\r\n",
      "Markdown                      3.3.4\r\n",
      "MarkupSafe                    1.1.1\r\n",
      "matplotlib                    3.3.4\r\n",
      "mistune                       0.8.4\r\n",
      "monotonic                     1.5\r\n",
      "msgpack                       1.0.2\r\n",
      "multipledispatch              0.6.0\r\n",
      "munch                         2.5.0\r\n",
      "mypy-extensions               0.4.3\r\n",
      "nbclassic                     0.2.6\r\n",
      "nbclient                      0.5.3\r\n",
      "nbconvert                     6.0.7\r\n",
      "nbformat                      5.1.2\r\n",
      "nest-asyncio                  1.4.3\r\n",
      "netCDF4                       1.5.6\r\n",
      "notebook                      6.2.0\r\n",
      "numba                         0.53.0\r\n",
      "numcodecs                     0.7.3\r\n",
      "numpy                         1.20.1\r\n",
      "oauthlib                      3.0.1\r\n",
      "olefile                       0.46\r\n",
      "packaging                     20.9\r\n",
      "pamela                        1.0.0\r\n",
      "pandas                        1.2.3\r\n",
      "pandocfilters                 1.4.2\r\n",
      "panel                         0.11.0\r\n",
      "papermill                     2.3.3\r\n",
      "param                         1.10.1\r\n",
      "parcels                       2.2.2\r\n",
      "parso                         0.8.1\r\n",
      "partd                         1.1.0\r\n",
      "pathspec                      0.8.1\r\n",
      "patsy                         0.5.1\r\n",
      "pexpect                       4.8.0\r\n",
      "pickleshare                   0.7.5\r\n",
      "Pillow                        8.1.2\r\n",
      "pip                           21.0.1\r\n",
      "progressbar2                  3.53.1\r\n",
      "prometheus-client             0.9.0\r\n",
      "prompt-toolkit                3.0.16\r\n",
      "psutil                        5.8.0\r\n",
      "ptyprocess                    0.7.0\r\n",
      "pycosat                       0.6.3\r\n",
      "pycparser                     2.20\r\n",
      "pyct                          0.4.6\r\n",
      "pycurl                        7.43.0.6\r\n",
      "Pygments                      2.8.0\r\n",
      "PyJWT                         2.0.1\r\n",
      "pymbolic                      2020.1\r\n",
      "pyOpenSSL                     20.0.1\r\n",
      "pyparsing                     2.4.7\r\n",
      "pyproj                        3.0.1\r\n",
      "PyQt5                         5.12.3\r\n",
      "PyQt5-sip                     4.19.18\r\n",
      "PyQtChart                     5.12\r\n",
      "PyQtWebEngine                 5.12.1\r\n",
      "pyrsistent                    0.17.3\r\n",
      "pyshp                         2.1.3\r\n",
      "PySocks                       1.7.1\r\n",
      "python-dateutil               2.8.1\r\n",
      "python-editor                 1.0.4\r\n",
      "python-json-logger            2.0.1\r\n",
      "python-utils                  2.5.5\r\n",
      "pytools                       2021.2\r\n",
      "pytz                          2021.1\r\n",
      "pyviz-comms                   2.0.1\r\n",
      "PyYAML                        5.4.1\r\n",
      "pyzmq                         22.0.3\r\n",
      "regex                         2020.11.13\r\n",
      "requests                      2.25.1\r\n",
      "Rtree                         0.9.7\r\n",
      "ruamel-yaml-conda             0.15.80\r\n",
      "ruamel.yaml                   0.16.12\r\n",
      "ruamel.yaml.clib              0.2.2\r\n",
      "scikit-learn                  0.24.1\r\n",
      "scipy                         1.6.1\r\n",
      "seaborn                       0.11.1\r\n",
      "seawater                      3.3.4\r\n",
      "Send2Trash                    1.5.0\r\n",
      "setuptools                    49.6.0.post20210108\r\n",
      "Shapely                       1.7.1\r\n",
      "six                           1.15.0\r\n",
      "sniffio                       1.2.0\r\n",
      "sortedcontainers              2.3.0\r\n",
      "sparse                        0.11.2\r\n",
      "SQLAlchemy                    1.3.23\r\n",
      "statsmodels                   0.12.2\r\n",
      "tblib                         1.6.0\r\n",
      "tenacity                      7.0.0\r\n",
      "terminado                     0.9.2\r\n",
      "testpath                      0.4.4\r\n",
      "textwrap3                     0.9.2\r\n",
      "threadpoolctl                 2.1.0\r\n",
      "toml                          0.10.2\r\n",
      "toolz                         0.11.1\r\n",
      "tornado                       6.1\r\n",
      "tqdm                          4.58.0\r\n",
      "traitlets                     5.0.5\r\n",
      "typed-ast                     1.4.2\r\n",
      "typing-extensions             3.7.4.3\r\n",
      "urllib3                       1.26.3\r\n",
      "wcwidth                       0.2.5\r\n",
      "webencodings                  0.5.1\r\n",
      "wheel                         0.36.2\r\n",
      "xarray                        0.17.0\r\n",
      "xhistogram                    0.1.2\r\n",
      "zarr                          2.6.1\r\n",
      "zict                          2.0.0\r\n",
      "zipp                          3.4.0\r\n"
     ]
    },
    {
     "name": "stdout",
     "output_type": "stream",
     "text": [
      "Note: you may need to restart the kernel to use updated packages.\n"
     ]
    }
   ],
   "source": [
    "pip list\n"
   ]
  }
 ],
 "metadata": {
  "kernelspec": {
   "display_name": "Python 3",
   "language": "python",
   "name": "python3"
  },
  "language_info": {
   "codemirror_mode": {
    "name": "ipython",
    "version": 3
   },
   "file_extension": ".py",
   "mimetype": "text/x-python",
   "name": "python",
   "nbconvert_exporter": "python",
   "pygments_lexer": "ipython3",
   "version": "3.8.8"
  },
  "papermill": {
   "default_parameters": {},
   "duration": 77307.128666,
   "end_time": "2021-05-03T04:57:16.417252",
   "environment_variables": {},
   "exception": null,
   "input_path": "037_afox_RunParcels_TS_MXL_Multiline_Randomvel_Papermill.ipynb",
   "output_path": "executed/037_afox_RunParcels_TS_MXL_Multiline_Randomvel_Papermill_executed_2019-02-17.ipynb",
   "parameters": {
    "create_number_particles": 4000000,
    "data_resolution": "5d",
    "mask_path_name": "/gxfs_work1/geomar/smomw355/model_data/ocean-only/VIKING20X.L46-KKG36107B/nemo/suppl/",
    "max_current": 2.0,
    "max_release_depth": 1000,
    "mesh_mask_filename": "1_mesh_mask.nc",
    "path_name": "/gxfs_work1/geomar/smomw355/model_data/ocean-only/VIKING20X.L46-KKG36107B/nemo/output/",
    "runtime_in_days": 3650,
    "t_0_str": "1980-01-03T12:00:00",
    "t_start_str": "2019-02-17T12:00:00",
    "use_dask_chunks": false,
    "use_number_particles": 4000000,
    "w_name_extension": "",
    "year_prefix": ""
   },
   "start_time": "2021-05-02T07:28:49.288586",
   "version": "2.3.3"
  }
 },
 "nbformat": 4,
 "nbformat_minor": 5
}