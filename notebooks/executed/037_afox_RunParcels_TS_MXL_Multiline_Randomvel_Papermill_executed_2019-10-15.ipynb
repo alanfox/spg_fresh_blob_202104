{
 "cells": [
  {
   "cell_type": "markdown",
   "id": "spectacular-bhutan",
   "metadata": {
    "papermill": {
     "duration": 0.020468,
     "end_time": "2021-04-26T13:53:54.378481",
     "exception": false,
     "start_time": "2021-04-26T13:53:54.358013",
     "status": "completed"
    },
    "tags": []
   },
   "source": [
    "# Parcels Experiment:<br><br>Expanding the polyline code to release particles at density based on local velocity normal to section.\n",
    "\n",
    "_(Based on an experiment originally designed by Christina Schmidt.)_\n",
    "\n",
    "_(Runs on GEOMAR Jupyter Server at https://schulung3.geomar.de/user/workshop007/lab)_"
   ]
  },
  {
   "cell_type": "markdown",
   "id": "compressed-ready",
   "metadata": {
    "papermill": {
     "duration": 0.019252,
     "end_time": "2021-04-26T13:53:54.417203",
     "exception": false,
     "start_time": "2021-04-26T13:53:54.397951",
     "status": "completed"
    },
    "tags": []
   },
   "source": [
    "## To do\n",
    "\n",
    "- Check/ask how OceanParcels deals with partial cells, if it does.\n",
    "    - It doesn't. Does it matter?"
   ]
  },
  {
   "cell_type": "markdown",
   "id": "informative-flavor",
   "metadata": {
    "papermill": {
     "duration": 0.019193,
     "end_time": "2021-04-26T13:53:54.455822",
     "exception": false,
     "start_time": "2021-04-26T13:53:54.436629",
     "status": "completed"
    },
    "tags": []
   },
   "source": [
    "## Technical preamble"
   ]
  },
  {
   "cell_type": "code",
   "execution_count": 1,
   "id": "wireless-alloy",
   "metadata": {
    "execution": {
     "iopub.execute_input": "2021-04-26T13:53:54.504609Z",
     "iopub.status.busy": "2021-04-26T13:53:54.504207Z",
     "iopub.status.idle": "2021-04-26T13:53:57.717270Z",
     "shell.execute_reply": "2021-04-26T13:53:57.717912Z"
    },
    "papermill": {
     "duration": 3.242956,
     "end_time": "2021-04-26T13:53:57.718118",
     "exception": false,
     "start_time": "2021-04-26T13:53:54.475162",
     "status": "completed"
    },
    "tags": []
   },
   "outputs": [
    {
     "name": "stderr",
     "output_type": "stream",
     "text": [
      "INFO: Compiled ParcelsRandom ==> /tmp/parcels-62665/libparcels_random_afa1045e-3c23-4ab9-a9d8-785a4324455c.so\n"
     ]
    }
   ],
   "source": [
    "%matplotlib inline\n",
    "\n",
    "from parcels import (\n",
    "    AdvectionRK4_3D,\n",
    "    ErrorCode,\n",
    "    FieldSet,\n",
    "    JITParticle,\n",
    "    ParticleSet,\n",
    "    Variable\n",
    ")\n",
    "\n",
    "# from operator import attrgetter\n",
    "from datetime import datetime, timedelta\n",
    "import numpy as np\n",
    "from pathlib import Path\n",
    "import matplotlib.pyplot as plt\n",
    "import cmocean as co\n",
    "import pandas as pd\n",
    "import xarray as xr\n",
    "# import dask as dask\n"
   ]
  },
  {
   "cell_type": "markdown",
   "id": "graduate-killing",
   "metadata": {
    "papermill": {
     "duration": 0.019196,
     "end_time": "2021-04-26T13:53:57.757827",
     "exception": false,
     "start_time": "2021-04-26T13:53:57.738631",
     "status": "completed"
    },
    "tags": []
   },
   "source": [
    "## Experiment settings (user input)"
   ]
  },
  {
   "cell_type": "markdown",
   "id": "dangerous-software",
   "metadata": {
    "papermill": {
     "duration": 0.019238,
     "end_time": "2021-04-26T13:53:57.796463",
     "exception": false,
     "start_time": "2021-04-26T13:53:57.777225",
     "status": "completed"
    },
    "tags": []
   },
   "source": [
    "### Parameters\n",
    "These can be set in papermill"
   ]
  },
  {
   "cell_type": "code",
   "execution_count": 2,
   "id": "protecting-alignment",
   "metadata": {
    "execution": {
     "iopub.execute_input": "2021-04-26T13:53:57.841247Z",
     "iopub.status.busy": "2021-04-26T13:53:57.840732Z",
     "iopub.status.idle": "2021-04-26T13:53:57.841870Z",
     "shell.execute_reply": "2021-04-26T13:53:57.841575Z"
    },
    "papermill": {
     "duration": 0.026252,
     "end_time": "2021-04-26T13:53:57.841962",
     "exception": false,
     "start_time": "2021-04-26T13:53:57.815710",
     "status": "completed"
    },
    "tags": [
     "parameters"
    ]
   },
   "outputs": [],
   "source": [
    "# OSNAP multiline details\n",
    "sectionPathname = '../data/external/'\n",
    "sectionFilename = 'osnap_pos_wp.txt'\n",
    "sectionname = 'osnap'\n",
    "# location of input data\n",
    "path_name = '/data/iAtlantic/ocean-only/VIKING20X.L46-KKG36107B/nemo/output/'\n",
    "experiment_name = 'VIKING20X.L46-KKG36107B' \n",
    "data_resolution = '1m'\n",
    "w_name_extension = '_repaire_depthw_time'\n",
    "\n",
    "# location of mask data\n",
    "mask_path_name = '/data/iAtlantic/ocean-only/VIKING20X.L46-KKG36107B/nemo/suppl/'\n",
    "mesh_mask_filename = '1_mesh_mask.nc_notime_depthw'\n",
    "# location of output data\n",
    "outpath_name = '../data/raw/'\n",
    "\n",
    "year_prefix = 201  # this does from 2000 onwards\n",
    "\n",
    "# set line segment to use\n",
    "start_vertex = 4\n",
    "end_vertex = 12\n",
    "\n",
    "# experiment duration etc\n",
    "runtime_in_days = 10\n",
    "dt_in_minutes = -10\n",
    "# repeatdt = timedelta(days=3)\n",
    "\n",
    "# number of particles to track\n",
    "create_number_particles = 200000  # many will not be ocean points\n",
    "use_number_particles = 200000\n",
    "\n",
    "min_release_depth = 0\n",
    "max_release_depth = 1_000  \n",
    "\n",
    "# max current speed for particle selection\n",
    "max_current = 1.0\n",
    "\n",
    "# set base release date and time\n",
    "t_0_str = '2010-01-16T12:00:00'\n",
    "t_start_str = '2016-01-16T12:00:00'\n",
    "\n",
    "# particle positions are stored every x hours \n",
    "outputdt_in_hours = 120\n",
    "\n",
    "# select subdomain (to decrease needed resources) comment out to use whole domain\n",
    "# sd_i1, sd_i2 = 0, 2404  # western/eastern limit (indices not coordinates)\n",
    "# sd_j1, sd_j2 = 1200, 2499  # southern/northern limit (indices not coordinates)\n",
    "# sd_z1, sd_z2 = 0, 46\n",
    "\n",
    "# how to initialize the random number generator\n",
    "# --> is set in next cell\n",
    "# RNG_seed = 123\n",
    "\n",
    "use_dask_chunks = True"
   ]
  },
  {
   "cell_type": "code",
   "execution_count": 3,
   "id": "worst-interface",
   "metadata": {
    "execution": {
     "iopub.execute_input": "2021-04-26T13:53:57.885787Z",
     "iopub.status.busy": "2021-04-26T13:53:57.885268Z",
     "iopub.status.idle": "2021-04-26T13:53:57.886398Z",
     "shell.execute_reply": "2021-04-26T13:53:57.886102Z"
    },
    "papermill": {
     "duration": 0.025239,
     "end_time": "2021-04-26T13:53:57.886489",
     "exception": false,
     "start_time": "2021-04-26T13:53:57.861250",
     "status": "completed"
    },
    "tags": [
     "injected-parameters"
    ]
   },
   "outputs": [],
   "source": [
    "# Parameters\n",
    "path_name = \"/gxfs_work1/geomar/smomw355/model_data/ocean-only/VIKING20X.L46-KKG36107B/nemo/output/\"\n",
    "data_resolution = \"5d\"\n",
    "w_name_extension = \"\"\n",
    "mask_path_name = \"/gxfs_work1/geomar/smomw355/model_data/ocean-only/VIKING20X.L46-KKG36107B/nemo/suppl/\"\n",
    "mesh_mask_filename = \"1_mesh_mask.nc\"\n",
    "year_prefix = \"\"\n",
    "runtime_in_days = 3650\n",
    "create_number_particles = 4000000\n",
    "use_number_particles = 4000000\n",
    "max_release_depth = 1000\n",
    "max_current = 2.0\n",
    "t_0_str = \"1980-01-03T12:00:00\"\n",
    "t_start_str = \"2019-10-15T12:00:00\"\n",
    "use_dask_chunks = False\n"
   ]
  },
  {
   "cell_type": "markdown",
   "id": "uniform-family",
   "metadata": {
    "papermill": {
     "duration": 0.019125,
     "end_time": "2021-04-26T13:53:57.924819",
     "exception": false,
     "start_time": "2021-04-26T13:53:57.905694",
     "status": "completed"
    },
    "tags": []
   },
   "source": [
    "### Derived variables"
   ]
  },
  {
   "cell_type": "code",
   "execution_count": 4,
   "id": "sufficient-behalf",
   "metadata": {
    "execution": {
     "iopub.execute_input": "2021-04-26T13:53:57.972575Z",
     "iopub.status.busy": "2021-04-26T13:53:57.972033Z",
     "iopub.status.idle": "2021-04-26T13:53:57.974375Z",
     "shell.execute_reply": "2021-04-26T13:53:57.972897Z"
    },
    "papermill": {
     "duration": 0.030268,
     "end_time": "2021-04-26T13:53:57.974472",
     "exception": false,
     "start_time": "2021-04-26T13:53:57.944204",
     "status": "completed"
    },
    "tags": []
   },
   "outputs": [
    {
     "data": {
      "text/plain": [
       "datetime.datetime(1980, 1, 3, 12, 0)"
      ]
     },
     "metadata": {},
     "output_type": "display_data"
    },
    {
     "data": {
      "text/plain": [
       "datetime.datetime(2019, 10, 15, 12, 0)"
      ]
     },
     "metadata": {},
     "output_type": "display_data"
    }
   ],
   "source": [
    "# times\n",
    "t_0 = datetime.fromisoformat(t_0_str)  # using monthly mean fields. Check dates.\n",
    "t_start = datetime.fromisoformat(t_start_str)\n",
    "# RNG seed based on release day (days since 1980-01-03)\n",
    "RNG_seed = int((t_start - t_0).total_seconds() / (60*60*24))\n",
    "\n",
    "# names of files to load \n",
    "fname_U = f'1_{experiment_name}_{data_resolution}_{year_prefix}*_grid_U.nc'  \n",
    "fname_V = f'1_{experiment_name}_{data_resolution}_{year_prefix}*_grid_V.nc'\n",
    "fname_T = f'1_{experiment_name}_{data_resolution}_{year_prefix}*_grid_T.nc'\n",
    "fname_W = f'1_{experiment_name}_{data_resolution}_{year_prefix}*_grid_W.nc{w_name_extension}'\n",
    "\n",
    "sectionPath = Path(sectionPathname)\n",
    "\n",
    "data_path = Path(path_name)\n",
    "\n",
    "mask_path = Path(mask_path_name)\n",
    "\n",
    "outpath = Path(outpath_name)\n",
    "\n",
    "display(t_0)\n",
    "display(t_start)"
   ]
  },
  {
   "cell_type": "code",
   "execution_count": 5,
   "id": "aboriginal-climate",
   "metadata": {
    "execution": {
     "iopub.execute_input": "2021-04-26T13:53:58.019759Z",
     "iopub.status.busy": "2021-04-26T13:53:58.019256Z",
     "iopub.status.idle": "2021-04-26T13:53:58.020365Z",
     "shell.execute_reply": "2021-04-26T13:53:58.020066Z"
    },
    "papermill": {
     "duration": 0.026024,
     "end_time": "2021-04-26T13:53:58.020455",
     "exception": false,
     "start_time": "2021-04-26T13:53:57.994431",
     "status": "completed"
    },
    "tags": []
   },
   "outputs": [],
   "source": [
    "if dt_in_minutes > 0:\n",
    "    direction = '_forwards_'\n",
    "else:\n",
    "    direction = '_backward_'\n",
    "\n",
    "year_str = str(t_start.year)\n",
    "month_str = str(t_start.month).zfill(2)\n",
    "day_str = str(t_start.day).zfill(2)\n",
    "days = str(runtime_in_days)\n",
    "seed = str(RNG_seed)\n",
    "npart= str(use_number_particles)\n",
    "\n"
   ]
  },
  {
   "cell_type": "code",
   "execution_count": 6,
   "id": "italic-chinese",
   "metadata": {
    "execution": {
     "iopub.execute_input": "2021-04-26T13:53:58.064805Z",
     "iopub.status.busy": "2021-04-26T13:53:58.064312Z",
     "iopub.status.idle": "2021-04-26T13:53:58.065415Z",
     "shell.execute_reply": "2021-04-26T13:53:58.065115Z"
    },
    "papermill": {
     "duration": 0.025174,
     "end_time": "2021-04-26T13:53:58.065504",
     "exception": false,
     "start_time": "2021-04-26T13:53:58.040330",
     "status": "completed"
    },
    "tags": []
   },
   "outputs": [],
   "source": [
    "degree2km = 1.852*60.0\n"
   ]
  },
  {
   "cell_type": "markdown",
   "id": "attractive-spring",
   "metadata": {
    "papermill": {
     "duration": 0.019814,
     "end_time": "2021-04-26T13:53:58.105155",
     "exception": false,
     "start_time": "2021-04-26T13:53:58.085341",
     "status": "completed"
    },
    "tags": []
   },
   "source": [
    "## Construct input / output paths etc."
   ]
  },
  {
   "cell_type": "code",
   "execution_count": 7,
   "id": "military-neighbor",
   "metadata": {
    "execution": {
     "iopub.execute_input": "2021-04-26T13:53:58.149645Z",
     "iopub.status.busy": "2021-04-26T13:53:58.149126Z",
     "iopub.status.idle": "2021-04-26T13:53:58.150252Z",
     "shell.execute_reply": "2021-04-26T13:53:58.149959Z"
    },
    "papermill": {
     "duration": 0.025176,
     "end_time": "2021-04-26T13:53:58.150345",
     "exception": false,
     "start_time": "2021-04-26T13:53:58.125169",
     "status": "completed"
    },
    "tags": []
   },
   "outputs": [],
   "source": [
    "mesh_mask = mask_path / mesh_mask_filename\n"
   ]
  },
  {
   "cell_type": "markdown",
   "id": "permanent-usage",
   "metadata": {
    "papermill": {
     "duration": 0.020028,
     "end_time": "2021-04-26T13:53:58.190422",
     "exception": false,
     "start_time": "2021-04-26T13:53:58.170394",
     "status": "completed"
    },
    "tags": []
   },
   "source": [
    "## Load input datasets"
   ]
  },
  {
   "cell_type": "code",
   "execution_count": 8,
   "id": "devoted-zambia",
   "metadata": {
    "execution": {
     "iopub.execute_input": "2021-04-26T13:53:58.242053Z",
     "iopub.status.busy": "2021-04-26T13:53:58.241518Z",
     "iopub.status.idle": "2021-04-26T13:53:58.242681Z",
     "shell.execute_reply": "2021-04-26T13:53:58.242382Z"
    },
    "papermill": {
     "duration": 0.032191,
     "end_time": "2021-04-26T13:53:58.242772",
     "exception": false,
     "start_time": "2021-04-26T13:53:58.210581",
     "status": "completed"
    },
    "tags": []
   },
   "outputs": [],
   "source": [
    "def fieldset_defintions(\n",
    "    list_of_filenames_U, list_of_filenames_V,\n",
    "    list_of_filenames_W, list_of_filenames_T,\n",
    "    mesh_mask\n",
    "):\n",
    "    ds_mask = xr.open_dataset(mesh_mask)\n",
    "    \n",
    "    filenames = {'U': {'lon': (mesh_mask),\n",
    "                       'lat': (mesh_mask),\n",
    "                       'depth': list_of_filenames_W[0],\n",
    "                       'data': list_of_filenames_U},\n",
    "                 'V': {'lon': (mesh_mask),\n",
    "                       'lat': (mesh_mask),\n",
    "                       'depth': list_of_filenames_W[0],\n",
    "                       'data': list_of_filenames_V},\n",
    "                 'W': {'lon': (mesh_mask),\n",
    "                       'lat': (mesh_mask),\n",
    "                       'depth': list_of_filenames_W[0],\n",
    "                       'data': list_of_filenames_W},\n",
    "                 'T': {'lon': (mesh_mask),\n",
    "                       'lat': (mesh_mask),\n",
    "                       'depth': list_of_filenames_W[0],\n",
    "                       'data': list_of_filenames_T},\n",
    "                 'S': {'lon': (mesh_mask),\n",
    "                       'lat': (mesh_mask),\n",
    "                       'depth': list_of_filenames_W[0],\n",
    "                       'data': list_of_filenames_T},\n",
    "                 'MXL': {'lon': (mesh_mask),\n",
    "                       'lat': (mesh_mask),\n",
    "                       'data': list_of_filenames_T}\n",
    "                }\n",
    "    \n",
    "    variables = {'U': 'vozocrtx',\n",
    "                 'V': 'vomecrty',\n",
    "                 'W': 'vovecrtz',\n",
    "                 'T': 'votemper',\n",
    "                 'S': 'vosaline',\n",
    "                 'MXL':'somxl010'\n",
    "                }\n",
    "        \n",
    "    dimensions = {'U': {'lon': 'glamf', 'lat': 'gphif', 'depth': 'depthw',\n",
    "                        'time': 'time_counter'},  # needs to be on f-nodes\n",
    "                  'V': {'lon': 'glamf', 'lat': 'gphif', 'depth': 'depthw',\n",
    "                        'time': 'time_counter'},  # needs to be on f-nodes\n",
    "                  'W': {'lon': 'glamf', 'lat': 'gphif', 'depth': 'depthw',\n",
    "                        'time': 'time_counter'},  # needs to be on f-nodes\n",
    "                  'T': {'lon': 'glamf', 'lat': 'gphif', 'depth': 'depthw',\n",
    "                        'time': 'time_counter'},  # needs to be on t-nodes\n",
    "                  'S': {'lon': 'glamf', 'lat': 'gphif', 'depth': 'depthw',\n",
    "                        'time': 'time_counter'},  # needs to be on t-nodes\n",
    "                  'MXL': {'lon': 'glamf', 'lat': 'gphif',\n",
    "                        'time': 'time_counter'},  # needs to be on t-nodes\n",
    "                 }\n",
    "    \n",
    "    # exclude the two grid cells at the edges of the nest as they contain 0\n",
    "    # and everything south of 20N\n",
    "    indices = {'lon': range(2, ds_mask.x.size-2), 'lat': range(1132, ds_mask.y.size-2)}\n",
    "    \n",
    "#     indices = {\n",
    "#         'U': {'depth': range(sd_z1, sd_z2), 'lon': range(sd_i1, sd_i2), 'lat': range(sd_j1, sd_j2)},\n",
    "#         'V': {'depth': range(sd_z1, sd_z2), 'lon': range(sd_i1, sd_i2), 'lat': range(sd_j1, sd_j2)},\n",
    "#         'W': {'depth': range(sd_z1, sd_z2), 'lon': range(sd_i1, sd_i2), 'lat':range(sd_j1, sd_j2)},\n",
    "#         'T': {'depth': range(sd_z1, sd_z2), 'lon': range(sd_i1, sd_i2), 'lat':range(sd_j1, sd_j2)},\n",
    "#         'S': {'depth': range(sd_z1, sd_z2), 'lon': range(sd_i1, sd_i2), 'lat':range(sd_j1, sd_j2)}\n",
    "#     }    \n",
    "    \n",
    "    if use_dask_chunks:\n",
    "        field_chunksizes = {'U': {'lon':('x', 1024), 'lat':('y',128), 'depth': ('depthw', 64),\n",
    "                            'time': ('time_counter',3)},  # needs to be on f-nodes\n",
    "                      'V': {'lon':('x', 1024), 'lat':('y',128), 'depth': ('depthw', 64),\n",
    "                            'time': ('time_counter',3)},  # needs to be on f-nodes\n",
    "                      'W': {'lon':('x', 1024), 'lat':('y',128), 'depth': ('depthw', 64),\n",
    "                            'time': ('time_counter',3)},  # needs to be on f-nodes\n",
    "                      'T': {'lon':('x', 1024), 'lat':('y',128), 'depth': ('depthw', 64),\n",
    "                            'time': ('time_counter',3)},  # needs to be on t-nodes\n",
    "                      'S': {'lon':('x', 1024), 'lat':('y',128), 'depth': ('depthw', 64),\n",
    "                            'time': ('time_counter',3)},  # needs to be on t-nodes\n",
    "                      'MXL': {'lon':('x', 1024), 'lat':('y',128),\n",
    "                            'time': ('time_counter',3)},  # needs to be on t-nodes\n",
    "                     }\n",
    "    else:\n",
    "        field_chunksizes = None\n",
    "\n",
    "    return FieldSet.from_nemo(\n",
    "        filenames, variables, dimensions, \n",
    "        indices=indices,\n",
    "        chunksize=field_chunksizes,  # = None for no chunking\n",
    "        mesh='spherical',\n",
    "        tracer_interp_method='cgrid_tracer'\n",
    "#         ,time_periodic=time_loop_period\n",
    "#         ,allow_time_extrapolation=True\n",
    "    )"
   ]
  },
  {
   "cell_type": "code",
   "execution_count": 9,
   "id": "measured-jacob",
   "metadata": {
    "execution": {
     "iopub.execute_input": "2021-04-26T13:53:58.289263Z",
     "iopub.status.busy": "2021-04-26T13:53:58.288739Z",
     "iopub.status.idle": "2021-04-26T13:53:58.289881Z",
     "shell.execute_reply": "2021-04-26T13:53:58.289587Z"
    },
    "papermill": {
     "duration": 0.026893,
     "end_time": "2021-04-26T13:53:58.289972",
     "exception": false,
     "start_time": "2021-04-26T13:53:58.263079",
     "status": "completed"
    },
    "tags": []
   },
   "outputs": [],
   "source": [
    "def create_fieldset(\n",
    "    data_path=data_path, experiment_name=experiment_name,\n",
    "    fname_U=fname_U, fname_V=fname_V, fname_W=fname_W, fname_T=fname_T,\n",
    "    mesh_mask = mesh_mask\n",
    "):\n",
    "    \n",
    "    files_U = list(sorted((data_path).glob(fname_U)))\n",
    "    files_V = list(sorted((data_path).glob(fname_V)))\n",
    "    files_W = list(sorted((data_path).glob(fname_W)))\n",
    "    files_T = list(sorted((data_path).glob(fname_T)))\n",
    "    \n",
    "    print(files_U)\n",
    "    \n",
    "    fieldset = fieldset_defintions(\n",
    "        files_U, files_V,\n",
    "        files_W, files_T, mesh_mask)\n",
    "\n",
    "    return fieldset"
   ]
  },
  {
   "cell_type": "code",
   "execution_count": 10,
   "id": "agreed-arrival",
   "metadata": {
    "execution": {
     "iopub.execute_input": "2021-04-26T13:53:58.333788Z",
     "iopub.status.busy": "2021-04-26T13:53:58.333311Z",
     "iopub.status.idle": "2021-04-26T13:54:21.226577Z",
     "shell.execute_reply": "2021-04-26T13:54:21.227201Z"
    },
    "papermill": {
     "duration": 22.917289,
     "end_time": "2021-04-26T13:54:21.227330",
     "exception": false,
     "start_time": "2021-04-26T13:53:58.310041",
     "status": "completed"
    },
    "tags": []
   },
   "outputs": [
    {
     "name": "stdout",
     "output_type": "stream",
     "text": [
      "[PosixPath('/gxfs_work1/geomar/smomw355/model_data/ocean-only/VIKING20X.L46-KKG36107B/nemo/output/1_VIKING20X.L46-KKG36107B_5d_19800101_19801231_grid_U.nc'), PosixPath('/gxfs_work1/geomar/smomw355/model_data/ocean-only/VIKING20X.L46-KKG36107B/nemo/output/1_VIKING20X.L46-KKG36107B_5d_19810101_19811231_grid_U.nc'), PosixPath('/gxfs_work1/geomar/smomw355/model_data/ocean-only/VIKING20X.L46-KKG36107B/nemo/output/1_VIKING20X.L46-KKG36107B_5d_19820101_19821231_grid_U.nc'), PosixPath('/gxfs_work1/geomar/smomw355/model_data/ocean-only/VIKING20X.L46-KKG36107B/nemo/output/1_VIKING20X.L46-KKG36107B_5d_19830101_19831231_grid_U.nc'), PosixPath('/gxfs_work1/geomar/smomw355/model_data/ocean-only/VIKING20X.L46-KKG36107B/nemo/output/1_VIKING20X.L46-KKG36107B_5d_19840101_19841231_grid_U.nc'), PosixPath('/gxfs_work1/geomar/smomw355/model_data/ocean-only/VIKING20X.L46-KKG36107B/nemo/output/1_VIKING20X.L46-KKG36107B_5d_19850101_19851231_grid_U.nc'), PosixPath('/gxfs_work1/geomar/smomw355/model_data/ocean-only/VIKING20X.L46-KKG36107B/nemo/output/1_VIKING20X.L46-KKG36107B_5d_19860101_19861231_grid_U.nc'), PosixPath('/gxfs_work1/geomar/smomw355/model_data/ocean-only/VIKING20X.L46-KKG36107B/nemo/output/1_VIKING20X.L46-KKG36107B_5d_19870101_19871231_grid_U.nc'), PosixPath('/gxfs_work1/geomar/smomw355/model_data/ocean-only/VIKING20X.L46-KKG36107B/nemo/output/1_VIKING20X.L46-KKG36107B_5d_19880101_19881231_grid_U.nc'), PosixPath('/gxfs_work1/geomar/smomw355/model_data/ocean-only/VIKING20X.L46-KKG36107B/nemo/output/1_VIKING20X.L46-KKG36107B_5d_19890101_19891231_grid_U.nc'), PosixPath('/gxfs_work1/geomar/smomw355/model_data/ocean-only/VIKING20X.L46-KKG36107B/nemo/output/1_VIKING20X.L46-KKG36107B_5d_19900101_19901231_grid_U.nc'), PosixPath('/gxfs_work1/geomar/smomw355/model_data/ocean-only/VIKING20X.L46-KKG36107B/nemo/output/1_VIKING20X.L46-KKG36107B_5d_19910101_19911231_grid_U.nc'), PosixPath('/gxfs_work1/geomar/smomw355/model_data/ocean-only/VIKING20X.L46-KKG36107B/nemo/output/1_VIKING20X.L46-KKG36107B_5d_19920101_19921231_grid_U.nc'), PosixPath('/gxfs_work1/geomar/smomw355/model_data/ocean-only/VIKING20X.L46-KKG36107B/nemo/output/1_VIKING20X.L46-KKG36107B_5d_19930101_19931231_grid_U.nc'), PosixPath('/gxfs_work1/geomar/smomw355/model_data/ocean-only/VIKING20X.L46-KKG36107B/nemo/output/1_VIKING20X.L46-KKG36107B_5d_19940101_19941231_grid_U.nc'), PosixPath('/gxfs_work1/geomar/smomw355/model_data/ocean-only/VIKING20X.L46-KKG36107B/nemo/output/1_VIKING20X.L46-KKG36107B_5d_19950101_19951231_grid_U.nc'), PosixPath('/gxfs_work1/geomar/smomw355/model_data/ocean-only/VIKING20X.L46-KKG36107B/nemo/output/1_VIKING20X.L46-KKG36107B_5d_19960101_19961231_grid_U.nc'), PosixPath('/gxfs_work1/geomar/smomw355/model_data/ocean-only/VIKING20X.L46-KKG36107B/nemo/output/1_VIKING20X.L46-KKG36107B_5d_19970101_19971231_grid_U.nc'), PosixPath('/gxfs_work1/geomar/smomw355/model_data/ocean-only/VIKING20X.L46-KKG36107B/nemo/output/1_VIKING20X.L46-KKG36107B_5d_19980101_19981231_grid_U.nc'), PosixPath('/gxfs_work1/geomar/smomw355/model_data/ocean-only/VIKING20X.L46-KKG36107B/nemo/output/1_VIKING20X.L46-KKG36107B_5d_19990101_19991231_grid_U.nc'), PosixPath('/gxfs_work1/geomar/smomw355/model_data/ocean-only/VIKING20X.L46-KKG36107B/nemo/output/1_VIKING20X.L46-KKG36107B_5d_20000101_20001231_grid_U.nc'), PosixPath('/gxfs_work1/geomar/smomw355/model_data/ocean-only/VIKING20X.L46-KKG36107B/nemo/output/1_VIKING20X.L46-KKG36107B_5d_20010101_20011231_grid_U.nc'), PosixPath('/gxfs_work1/geomar/smomw355/model_data/ocean-only/VIKING20X.L46-KKG36107B/nemo/output/1_VIKING20X.L46-KKG36107B_5d_20020101_20021231_grid_U.nc'), PosixPath('/gxfs_work1/geomar/smomw355/model_data/ocean-only/VIKING20X.L46-KKG36107B/nemo/output/1_VIKING20X.L46-KKG36107B_5d_20030101_20031231_grid_U.nc'), PosixPath('/gxfs_work1/geomar/smomw355/model_data/ocean-only/VIKING20X.L46-KKG36107B/nemo/output/1_VIKING20X.L46-KKG36107B_5d_20040101_20041231_grid_U.nc'), PosixPath('/gxfs_work1/geomar/smomw355/model_data/ocean-only/VIKING20X.L46-KKG36107B/nemo/output/1_VIKING20X.L46-KKG36107B_5d_20050101_20051231_grid_U.nc'), PosixPath('/gxfs_work1/geomar/smomw355/model_data/ocean-only/VIKING20X.L46-KKG36107B/nemo/output/1_VIKING20X.L46-KKG36107B_5d_20060101_20061231_grid_U.nc'), PosixPath('/gxfs_work1/geomar/smomw355/model_data/ocean-only/VIKING20X.L46-KKG36107B/nemo/output/1_VIKING20X.L46-KKG36107B_5d_20070101_20071231_grid_U.nc'), PosixPath('/gxfs_work1/geomar/smomw355/model_data/ocean-only/VIKING20X.L46-KKG36107B/nemo/output/1_VIKING20X.L46-KKG36107B_5d_20080101_20081231_grid_U.nc'), PosixPath('/gxfs_work1/geomar/smomw355/model_data/ocean-only/VIKING20X.L46-KKG36107B/nemo/output/1_VIKING20X.L46-KKG36107B_5d_20090101_20091231_grid_U.nc'), PosixPath('/gxfs_work1/geomar/smomw355/model_data/ocean-only/VIKING20X.L46-KKG36107B/nemo/output/1_VIKING20X.L46-KKG36107B_5d_20100101_20101231_grid_U.nc'), PosixPath('/gxfs_work1/geomar/smomw355/model_data/ocean-only/VIKING20X.L46-KKG36107B/nemo/output/1_VIKING20X.L46-KKG36107B_5d_20110101_20111231_grid_U.nc'), PosixPath('/gxfs_work1/geomar/smomw355/model_data/ocean-only/VIKING20X.L46-KKG36107B/nemo/output/1_VIKING20X.L46-KKG36107B_5d_20120101_20121231_grid_U.nc'), PosixPath('/gxfs_work1/geomar/smomw355/model_data/ocean-only/VIKING20X.L46-KKG36107B/nemo/output/1_VIKING20X.L46-KKG36107B_5d_20130101_20131231_grid_U.nc'), PosixPath('/gxfs_work1/geomar/smomw355/model_data/ocean-only/VIKING20X.L46-KKG36107B/nemo/output/1_VIKING20X.L46-KKG36107B_5d_20140101_20141231_grid_U.nc'), PosixPath('/gxfs_work1/geomar/smomw355/model_data/ocean-only/VIKING20X.L46-KKG36107B/nemo/output/1_VIKING20X.L46-KKG36107B_5d_20150101_20151231_grid_U.nc'), PosixPath('/gxfs_work1/geomar/smomw355/model_data/ocean-only/VIKING20X.L46-KKG36107B/nemo/output/1_VIKING20X.L46-KKG36107B_5d_20160101_20161231_grid_U.nc'), PosixPath('/gxfs_work1/geomar/smomw355/model_data/ocean-only/VIKING20X.L46-KKG36107B/nemo/output/1_VIKING20X.L46-KKG36107B_5d_20170101_20171231_grid_U.nc'), PosixPath('/gxfs_work1/geomar/smomw355/model_data/ocean-only/VIKING20X.L46-KKG36107B/nemo/output/1_VIKING20X.L46-KKG36107B_5d_20180101_20181231_grid_U.nc'), PosixPath('/gxfs_work1/geomar/smomw355/model_data/ocean-only/VIKING20X.L46-KKG36107B/nemo/output/1_VIKING20X.L46-KKG36107B_5d_20190101_20191231_grid_U.nc')]\n"
     ]
    },
    {
     "name": "stderr",
     "output_type": "stream",
     "text": [
      "WARNING: Casting depth data to np.float32\n"
     ]
    }
   ],
   "source": [
    "fieldset = create_fieldset()"
   ]
  },
  {
   "cell_type": "markdown",
   "id": "optimum-currency",
   "metadata": {
    "papermill": {
     "duration": 0.020714,
     "end_time": "2021-04-26T13:54:21.270411",
     "exception": false,
     "start_time": "2021-04-26T13:54:21.249697",
     "status": "completed"
    },
    "tags": []
   },
   "source": [
    "## Create Virtual Particles"
   ]
  },
  {
   "cell_type": "markdown",
   "id": "fabulous-baker",
   "metadata": {
    "papermill": {
     "duration": 0.02077,
     "end_time": "2021-04-26T13:54:21.311825",
     "exception": false,
     "start_time": "2021-04-26T13:54:21.291055",
     "status": "completed"
    },
    "tags": []
   },
   "source": [
    "#### add a couple of simple plotting routines"
   ]
  },
  {
   "cell_type": "code",
   "execution_count": 11,
   "id": "streaming-orange",
   "metadata": {
    "execution": {
     "iopub.execute_input": "2021-04-26T13:54:21.361262Z",
     "iopub.status.busy": "2021-04-26T13:54:21.360752Z",
     "iopub.status.idle": "2021-04-26T13:54:21.361886Z",
     "shell.execute_reply": "2021-04-26T13:54:21.361589Z"
    },
    "papermill": {
     "duration": 0.029373,
     "end_time": "2021-04-26T13:54:21.361975",
     "exception": false,
     "start_time": "2021-04-26T13:54:21.332602",
     "status": "completed"
    },
    "tags": []
   },
   "outputs": [],
   "source": [
    "def plot_section_sdist():\n",
    "    plt.figure(figsize=(10,5))\n",
    "\n",
    "    u = np.array([p.uvel for p in pset]) * degree2km * 1000.0 * np.cos(np.radians(pset.lat))\n",
    "    v = np.array([p.vvel for p in pset]) * degree2km * 1000.0\n",
    "    section_index = np.searchsorted(lonlat.lon,pset.lon)-1\n",
    "    u_normal = v * lonlatdiff.costheta[section_index].data - u * lonlatdiff.sintheta[section_index].data\n",
    "    y = (pset.lat - lonlat.lat[section_index]) * degree2km\n",
    "    x = (pset.lon - lonlat.lon[section_index]) * degree2km*np.cos(np.radians(lonlat2mean.lat[section_index+1].data))\n",
    "    dist = np.sqrt(x**2 + y**2) + lonlatdiff.length_west[section_index].data\n",
    "    \n",
    "    \n",
    "    plt.scatter(\n",
    "        dist,\n",
    "        [p.depth for p in pset],\n",
    "        1,\n",
    "        u_normal,\n",
    "        cmap=co.cm.balance,vmin=-0.3,vmax=0.3\n",
    "    )\n",
    "    plt.ylim(1200,0)\n",
    "    plt.colorbar(label = r'normal velocity [$\\mathrm{m\\ s}^{-1}$]')\n",
    "    plt.xlabel('distance [km]')\n",
    "    plt.ylabel('depth [m]')\n",
    "    return\n"
   ]
  },
  {
   "cell_type": "code",
   "execution_count": 12,
   "id": "organizational-implement",
   "metadata": {
    "execution": {
     "iopub.execute_input": "2021-04-26T13:54:21.410352Z",
     "iopub.status.busy": "2021-04-26T13:54:21.409792Z",
     "iopub.status.idle": "2021-04-26T13:54:21.410983Z",
     "shell.execute_reply": "2021-04-26T13:54:21.410684Z"
    },
    "papermill": {
     "duration": 0.028164,
     "end_time": "2021-04-26T13:54:21.411074",
     "exception": false,
     "start_time": "2021-04-26T13:54:21.382910",
     "status": "completed"
    },
    "tags": []
   },
   "outputs": [],
   "source": [
    "def plot_section_lon():\n",
    "    plt.figure(figsize=(10,5))\n",
    "\n",
    "    u = np.array([p.uvel for p in pset]) * degree2km * 1000.0 * np.cos(np.radians(pset.lat))\n",
    "    v = np.array([p.vvel for p in pset]) * degree2km * 1000.0\n",
    "    section_index = np.searchsorted(lonlat.lon,pset.lon)-1\n",
    "    u_normal = v * lonlatdiff.costheta[section_index].data - u * lonlatdiff.sintheta[section_index].data\n",
    "    \n",
    "    plt.scatter(\n",
    "        [p.lon for p in pset],\n",
    "        [p.depth for p in pset],\n",
    "        1,\n",
    "        u_normal,\n",
    "        cmap=co.cm.balance,vmin=-0.3,vmax=0.3\n",
    "    )\n",
    "    plt.ylim(1200,0)\n",
    "    plt.colorbar(label = r'normal velocity [$\\mathrm{m\\ s}^{-1}$]');\n",
    "    plt.xlabel('longitude [$\\degree$E]')\n",
    "    plt.ylabel('depth [m]')\n",
    "    return\n"
   ]
  },
  {
   "cell_type": "code",
   "execution_count": 13,
   "id": "multiple-custody",
   "metadata": {
    "execution": {
     "iopub.execute_input": "2021-04-26T13:54:21.458308Z",
     "iopub.status.busy": "2021-04-26T13:54:21.457782Z",
     "iopub.status.idle": "2021-04-26T13:54:21.458976Z",
     "shell.execute_reply": "2021-04-26T13:54:21.458673Z"
    },
    "papermill": {
     "duration": 0.027498,
     "end_time": "2021-04-26T13:54:21.459072",
     "exception": false,
     "start_time": "2021-04-26T13:54:21.431574",
     "status": "completed"
    },
    "tags": []
   },
   "outputs": [],
   "source": [
    "class SampleParticle(JITParticle):\n",
    "    \"\"\"Add variables to the standard particle class.\n",
    "    \n",
    "    Particles will sample temperature and track the age of the particle.\n",
    "    Particles also have a flag `alive` that is 1 if the particle is alive and 0 otherwise.\n",
    "    Furthermore, we have a `speed_param` that scales the velocity with which particles can\n",
    "    swim towards the surface.\n",
    "\n",
    "    Note that we don't initialize temp from the actual data.\n",
    "    This speeds up particle creation, but might render initial data point less useful.\n",
    "    \"\"\"\n",
    "    mxl = Variable('mxl', dtype=np.float32, initial=-100)\n",
    "    temp = Variable('temp', dtype=np.float32, initial=-100)\n",
    "    salt = Variable('salt', dtype=np.float32, initial=-100)\n",
    "    uvel = Variable('uvel', dtype=np.float32, initial=0)\n",
    "    vvel = Variable('vvel', dtype=np.float32, initial=0)\n",
    "#    wvel = Variable('wvel', dtype=np.float32, initial=0)\n",
    "#     alive = Variable('alive', dtype=np.int32, initial=1)\n",
    "#     speed_param = Variable('speed_param', dtype=np.float32, initial=1)\n",
    "#     age = Variable('age', dtype=np.int32, initial=0, to_write=True)"
   ]
  },
  {
   "cell_type": "markdown",
   "id": "raising-comment",
   "metadata": {
    "papermill": {
     "duration": 0.023077,
     "end_time": "2021-04-26T13:54:21.502829",
     "exception": false,
     "start_time": "2021-04-26T13:54:21.479752",
     "status": "completed"
    },
    "tags": []
   },
   "source": [
    "## Create a set of particles with random initial positions\n",
    "\n",
    "We seed the RNG to be reproducible (and to be able to quickly create a second equivalent experiment with differently chosen compatible initial positions), and create arrays of random starting times, lats, lons, depths, and speed parameters (see kernel definitions below for details).\n",
    "\n",
    "Initially create points on 'rectangle'. Land points are removed later in a OceanParcels 'run' with runtime and timedelta zero."
   ]
  },
  {
   "cell_type": "markdown",
   "id": "shared-nursery",
   "metadata": {
    "papermill": {
     "duration": 0.02078,
     "end_time": "2021-04-26T13:54:21.544832",
     "exception": false,
     "start_time": "2021-04-26T13:54:21.524052",
     "status": "completed"
    },
    "tags": []
   },
   "source": [
    "### First set up the piecewise section"
   ]
  },
  {
   "cell_type": "code",
   "execution_count": 14,
   "id": "protective-terry",
   "metadata": {
    "execution": {
     "iopub.execute_input": "2021-04-26T13:54:21.599120Z",
     "iopub.status.busy": "2021-04-26T13:54:21.593105Z",
     "iopub.status.idle": "2021-04-26T13:54:21.606451Z",
     "shell.execute_reply": "2021-04-26T13:54:21.607064Z"
    },
    "papermill": {
     "duration": 0.041627,
     "end_time": "2021-04-26T13:54:21.607216",
     "exception": false,
     "start_time": "2021-04-26T13:54:21.565589",
     "status": "completed"
    },
    "tags": []
   },
   "outputs": [],
   "source": [
    "lonlat = xr.Dataset(pd.read_csv(sectionPath / sectionFilename,delim_whitespace=True))"
   ]
  },
  {
   "cell_type": "code",
   "execution_count": 15,
   "id": "correct-russia",
   "metadata": {
    "execution": {
     "iopub.execute_input": "2021-04-26T13:54:21.666492Z",
     "iopub.status.busy": "2021-04-26T13:54:21.666117Z",
     "iopub.status.idle": "2021-04-26T13:54:21.865164Z",
     "shell.execute_reply": "2021-04-26T13:54:21.865706Z"
    },
    "papermill": {
     "duration": 0.237337,
     "end_time": "2021-04-26T13:54:21.865829",
     "exception": false,
     "start_time": "2021-04-26T13:54:21.628492",
     "status": "completed"
    },
    "tags": []
   },
   "outputs": [
    {
     "name": "stdout",
     "output_type": "stream",
     "text": [
      "3594.572878394652\n"
     ]
    },
    {
     "data": {
      "image/png": "[encoded data removed]",
      "text/plain": [
       "<Figure size 432x288 with 1 Axes>"
      ]
     },
     "metadata": {
      "needs_background": "light"
     },
     "output_type": "display_data"
    }
   ],
   "source": [
    "lonlat.lon.attrs['long_name']='Longitude'\n",
    "lonlat.lat.attrs['long_name']='Latitude'\n",
    "lonlat.lon.attrs['standard_name']='longitude'\n",
    "lonlat.lat.attrs['standard_name']='latitude'\n",
    "lonlat.lon.attrs['units']='degrees_east'\n",
    "lonlat.lat.attrs['units']='degrees_north'\n",
    "\n",
    "lonlatdiff = lonlat.diff('dim_0')\n",
    "lonlat2mean= lonlat.rolling({'dim_0':2}).mean()\n",
    "\n",
    "lonlat.plot.scatter(x='lon',y='lat')\n",
    "lonlat2mean.plot.scatter(x='lon',y='lat')\n",
    "\n",
    "lonlatdiff = lonlatdiff.assign({'y':lonlatdiff['lat']*degree2km})\n",
    "lonlatdiff = lonlatdiff.assign({'x':lonlatdiff['lon']*degree2km*np.cos(np.radians(lonlat2mean.lat.data[1:]))})\n",
    "lonlatdiff=lonlatdiff.assign({'length':np.sqrt(lonlatdiff['x']**2+lonlatdiff['y']**2)})\n",
    "lonlatdiff=lonlatdiff.assign({'length_west':lonlatdiff.length.sum() - np.cumsum(lonlatdiff.length[::-1])[::-1]})\n",
    "lonlatdiff=lonlatdiff.assign({'costheta':lonlatdiff['x']/lonlatdiff['length']})\n",
    "lonlatdiff=lonlatdiff.assign({'sintheta':lonlatdiff['y']/lonlatdiff['length']})\n",
    "\n",
    "total_length = lonlatdiff.length.sum().data\n",
    "print(total_length)"
   ]
  },
  {
   "cell_type": "code",
   "execution_count": 16,
   "id": "relative-renewal",
   "metadata": {
    "execution": {
     "iopub.execute_input": "2021-04-26T13:54:21.914950Z",
     "iopub.status.busy": "2021-04-26T13:54:21.914471Z",
     "iopub.status.idle": "2021-04-26T13:54:21.916161Z",
     "shell.execute_reply": "2021-04-26T13:54:21.915262Z"
    },
    "papermill": {
     "duration": 0.028154,
     "end_time": "2021-04-26T13:54:21.916252",
     "exception": false,
     "start_time": "2021-04-26T13:54:21.888098",
     "status": "completed"
    },
    "tags": []
   },
   "outputs": [
    {
     "data": {
      "text/plain": [
       "12"
      ]
     },
     "execution_count": 16,
     "metadata": {},
     "output_type": "execute_result"
    }
   ],
   "source": [
    "lonlatdiff.length.shape[0]"
   ]
  },
  {
   "cell_type": "markdown",
   "id": "third-doubt",
   "metadata": {
    "papermill": {
     "duration": 0.021696,
     "end_time": "2021-04-26T13:54:21.959738",
     "exception": false,
     "start_time": "2021-04-26T13:54:21.938042",
     "status": "completed"
    },
    "tags": []
   },
   "source": [
    "### Seed particles uniform random along OSNAP section"
   ]
  },
  {
   "cell_type": "code",
   "execution_count": 17,
   "id": "studied-property",
   "metadata": {
    "execution": {
     "iopub.execute_input": "2021-04-26T13:54:22.026511Z",
     "iopub.status.busy": "2021-04-26T13:54:22.026127Z",
     "iopub.status.idle": "2021-04-26T13:54:22.117402Z",
     "shell.execute_reply": "2021-04-26T13:54:22.118004Z"
    },
    "papermill": {
     "duration": 0.136591,
     "end_time": "2021-04-26T13:54:22.118136",
     "exception": false,
     "start_time": "2021-04-26T13:54:21.981545",
     "status": "completed"
    },
    "tags": []
   },
   "outputs": [],
   "source": [
    "np.random.seed(RNG_seed)\n",
    "\n",
    "# define time of release for each particle relative to t0\n",
    "# can start each particle at a different time if required\n",
    "# here all start at time t_start.\n",
    "times = []\n",
    "lons = []\n",
    "lats = []\n",
    "depths = []\n",
    "\n",
    "# for subsect in range(lonlatdiff.length.shape[0]):\n",
    "for subsect in range(start_vertex,end_vertex):\n",
    "    \n",
    "    number_particles = int(create_number_particles*lonlatdiff.length[subsect]/total_length)\n",
    "    time = np.zeros(number_particles)\n",
    "    time += (t_start - t_0).total_seconds()\n",
    "\n",
    "    # start along a line from west to east\n",
    "\n",
    "    west_lat = lonlat.lat[subsect].data\n",
    "    west_lon = lonlat.lon[subsect].data\n",
    "    east_lat = lonlat.lat[subsect+1].data\n",
    "    east_lon = lonlat.lon[subsect+1].data\n",
    "    \n",
    "    lon = np.random.uniform(\n",
    "        low=west_lon, high = east_lon,\n",
    "        size=time.shape\n",
    "    )\n",
    "    lat = west_lat + ((lon - west_lon) * (east_lat - west_lat)/ (east_lon - west_lon))\n",
    "\n",
    "    # at depths from surface to max_release_depth\n",
    "\n",
    "    depth = np.random.uniform(\n",
    "        low=min_release_depth, high=max_release_depth,\n",
    "        size=time.shape\n",
    "    )\n",
    "    times.append(time)\n",
    "    lons.append(lon)\n",
    "    lats.append(lat)\n",
    "    depths.append(depth)\n",
    "\n",
    "    \n",
    "    \n",
    "time = np.concatenate(times)\n",
    "lon = np.concatenate(lons)\n",
    "lat = np.concatenate(lats)\n",
    "depth = np.concatenate(depths)\n"
   ]
  },
  {
   "cell_type": "markdown",
   "id": "noted-wrestling",
   "metadata": {
    "papermill": {
     "duration": 0.021715,
     "end_time": "2021-04-26T13:54:22.162156",
     "exception": false,
     "start_time": "2021-04-26T13:54:22.140441",
     "status": "completed"
    },
    "tags": []
   },
   "source": [
    "###  Build particle set"
   ]
  },
  {
   "cell_type": "code",
   "execution_count": 18,
   "id": "tough-stylus",
   "metadata": {
    "execution": {
     "iopub.execute_input": "2021-04-26T13:54:22.230495Z",
     "iopub.status.busy": "2021-04-26T13:54:22.230121Z",
     "iopub.status.idle": "2021-04-26T13:54:23.159165Z",
     "shell.execute_reply": "2021-04-26T13:54:23.159807Z"
    },
    "papermill": {
     "duration": 0.974722,
     "end_time": "2021-04-26T13:54:23.159950",
     "exception": false,
     "start_time": "2021-04-26T13:54:22.185228",
     "status": "completed"
    },
    "tags": []
   },
   "outputs": [
    {
     "name": "stdout",
     "output_type": "stream",
     "text": [
      "CPU times: user 766 ms, sys: 173 ms, total: 939 ms\n",
      "Wall time: 945 ms\n"
     ]
    }
   ],
   "source": [
    "%%time\n",
    "\n",
    "pset = ParticleSet(\n",
    "    fieldset=fieldset,\n",
    "    pclass=SampleParticle,\n",
    "    lat=lat,\n",
    "    lon=lon,\n",
    "#     speed_param=speed_param,\n",
    "    depth=depth,\n",
    "    time=time\n",
    "#    repeatdt = repeatdt\n",
    ")\n"
   ]
  },
  {
   "cell_type": "code",
   "execution_count": 19,
   "id": "increased-journal",
   "metadata": {
    "execution": {
     "iopub.execute_input": "2021-04-26T13:54:23.209530Z",
     "iopub.status.busy": "2021-04-26T13:54:23.209016Z",
     "iopub.status.idle": "2021-04-26T13:54:23.210671Z",
     "shell.execute_reply": "2021-04-26T13:54:23.209849Z"
    },
    "papermill": {
     "duration": 0.028098,
     "end_time": "2021-04-26T13:54:23.210763",
     "exception": false,
     "start_time": "2021-04-26T13:54:23.182665",
     "status": "completed"
    },
    "tags": []
   },
   "outputs": [
    {
     "name": "stdout",
     "output_type": "stream",
     "text": [
      "Created 2643886 particles.\n"
     ]
    }
   ],
   "source": [
    "print(f\"Created {len(pset)} particles.\")\n",
    "# display(pset[:5])\n",
    "# display(pset[-5:])"
   ]
  },
  {
   "cell_type": "markdown",
   "id": "incorporate-sheriff",
   "metadata": {
    "papermill": {
     "duration": 0.022077,
     "end_time": "2021-04-26T13:54:23.254995",
     "exception": false,
     "start_time": "2021-04-26T13:54:23.232918",
     "status": "completed"
    },
    "tags": []
   },
   "source": [
    "## Compose custom kernel\n",
    "\n",
    "We'll create three additional kernels:\n",
    "- One Kernel adds velocity sampling\n",
    "- One Kernel adds temperature sampling\n",
    "- One kernel adds salinity sampling\n",
    "\n",
    "Then, we combine the builtin `AdvectionRK4_3D` kernel with these additional kernels."
   ]
  },
  {
   "cell_type": "code",
   "execution_count": 20,
   "id": "sought-paste",
   "metadata": {
    "execution": {
     "iopub.execute_input": "2021-04-26T13:54:23.305156Z",
     "iopub.status.busy": "2021-04-26T13:54:23.304617Z",
     "iopub.status.idle": "2021-04-26T13:54:23.305810Z",
     "shell.execute_reply": "2021-04-26T13:54:23.305503Z"
    },
    "papermill": {
     "duration": 0.028527,
     "end_time": "2021-04-26T13:54:23.305902",
     "exception": false,
     "start_time": "2021-04-26T13:54:23.277375",
     "status": "completed"
    },
    "tags": []
   },
   "outputs": [],
   "source": [
    "def velocity_sampling(particle, fieldset, time):\n",
    "    '''Sample velocity.'''\n",
    "    \n",
    "    (particle.uvel,particle.vvel) = fieldset.UV[time, particle.depth, particle.lat, particle.lon]\n",
    "    "
   ]
  },
  {
   "cell_type": "code",
   "execution_count": 21,
   "id": "faced-regard",
   "metadata": {
    "execution": {
     "iopub.execute_input": "2021-04-26T13:54:23.355620Z",
     "iopub.status.busy": "2021-04-26T13:54:23.355099Z",
     "iopub.status.idle": "2021-04-26T13:54:23.356318Z",
     "shell.execute_reply": "2021-04-26T13:54:23.356002Z"
    },
    "papermill": {
     "duration": 0.028084,
     "end_time": "2021-04-26T13:54:23.356415",
     "exception": false,
     "start_time": "2021-04-26T13:54:23.328331",
     "status": "completed"
    },
    "tags": []
   },
   "outputs": [],
   "source": [
    "def temperature_sampling(particle, fieldset, time):\n",
    "    '''Sample temperature.'''\n",
    "    \n",
    "    particle.temp = fieldset.T[time, particle.depth, particle.lat, particle.lon]"
   ]
  },
  {
   "cell_type": "code",
   "execution_count": 22,
   "id": "scientific-redhead",
   "metadata": {
    "execution": {
     "iopub.execute_input": "2021-04-26T13:54:23.406277Z",
     "iopub.status.busy": "2021-04-26T13:54:23.405752Z",
     "iopub.status.idle": "2021-04-26T13:54:23.406892Z",
     "shell.execute_reply": "2021-04-26T13:54:23.406600Z"
    },
    "papermill": {
     "duration": 0.028372,
     "end_time": "2021-04-26T13:54:23.406983",
     "exception": false,
     "start_time": "2021-04-26T13:54:23.378611",
     "status": "completed"
    },
    "tags": []
   },
   "outputs": [],
   "source": [
    "def salinity_sampling(particle, fieldset, time):\n",
    "    '''Sample salinity.'''\n",
    "    \n",
    "    particle.salt = fieldset.S[time, particle.depth, particle.lat, particle.lon]"
   ]
  },
  {
   "cell_type": "code",
   "execution_count": 23,
   "id": "willing-smith",
   "metadata": {
    "execution": {
     "iopub.execute_input": "2021-04-26T13:54:23.457132Z",
     "iopub.status.busy": "2021-04-26T13:54:23.456614Z",
     "iopub.status.idle": "2021-04-26T13:54:23.457748Z",
     "shell.execute_reply": "2021-04-26T13:54:23.457454Z"
    },
    "papermill": {
     "duration": 0.028156,
     "end_time": "2021-04-26T13:54:23.457838",
     "exception": false,
     "start_time": "2021-04-26T13:54:23.429682",
     "status": "completed"
    },
    "tags": []
   },
   "outputs": [],
   "source": [
    "def mxl_sampling(particle, fieldset, time):\n",
    "    '''Sample mixed layer depth.'''\n",
    "    \n",
    "    particle.mxl = fieldset.MXL[time, particle.depth, particle.lat, particle.lon]"
   ]
  },
  {
   "cell_type": "code",
   "execution_count": 24,
   "id": "illegal-black",
   "metadata": {
    "execution": {
     "iopub.execute_input": "2021-04-26T13:54:23.525462Z",
     "iopub.status.busy": "2021-04-26T13:54:23.525097Z",
     "iopub.status.idle": "2021-04-26T13:54:23.710711Z",
     "shell.execute_reply": "2021-04-26T13:54:23.711292Z"
    },
    "papermill": {
     "duration": 0.231148,
     "end_time": "2021-04-26T13:54:23.711422",
     "exception": false,
     "start_time": "2021-04-26T13:54:23.480274",
     "status": "completed"
    },
    "tags": []
   },
   "outputs": [],
   "source": [
    "custom_kernel = (\n",
    "    pset.Kernel(AdvectionRK4_3D)\n",
    "#     + pset.Kernel(temperature_sensitivity)\n",
    "     + pset.Kernel(temperature_sampling)\n",
    "     + pset.Kernel(salinity_sampling)\n",
    "     + pset.Kernel(velocity_sampling)\n",
    "     + pset.Kernel(mxl_sampling)\n",
    ")"
   ]
  },
  {
   "cell_type": "markdown",
   "id": "wicked-nothing",
   "metadata": {
    "papermill": {
     "duration": 0.022392,
     "end_time": "2021-04-26T13:54:23.757000",
     "exception": false,
     "start_time": "2021-04-26T13:54:23.734608",
     "status": "completed"
    },
    "tags": []
   },
   "source": [
    "## Be able to handle errors during integration\n",
    "\n",
    "We have restricted our domain so in principle, particles could reach undefined positions.\n",
    "In that case, we want to just delete the particle (without forgetting its history)."
   ]
  },
  {
   "cell_type": "code",
   "execution_count": 25,
   "id": "higher-seventh",
   "metadata": {
    "execution": {
     "iopub.execute_input": "2021-04-26T13:54:23.844430Z",
     "iopub.status.busy": "2021-04-26T13:54:23.843946Z",
     "iopub.status.idle": "2021-04-26T13:54:23.845032Z",
     "shell.execute_reply": "2021-04-26T13:54:23.844740Z"
    },
    "papermill": {
     "duration": 0.065442,
     "end_time": "2021-04-26T13:54:23.845121",
     "exception": false,
     "start_time": "2021-04-26T13:54:23.779679",
     "status": "completed"
    },
    "tags": []
   },
   "outputs": [],
   "source": [
    "def DeleteParticle(particle, fieldset, time):\n",
    "    particle.delete()\n",
    "\n",
    "\n",
    "recovery_cases = {\n",
    "    ErrorCode.ErrorOutOfBounds: DeleteParticle,\n",
    "    ErrorCode.Error: DeleteParticle,\n",
    "    ErrorCode.ErrorInterpolation: DeleteParticle\n",
    "}"
   ]
  },
  {
   "cell_type": "markdown",
   "id": "israeli-electric",
   "metadata": {
    "papermill": {
     "duration": 0.022652,
     "end_time": "2021-04-26T13:54:23.890437",
     "exception": false,
     "start_time": "2021-04-26T13:54:23.867785",
     "status": "completed"
    },
    "tags": []
   },
   "source": [
    "## Run with runtime=0 to initialise fields"
   ]
  },
  {
   "cell_type": "code",
   "execution_count": 26,
   "id": "alien-technician",
   "metadata": {
    "execution": {
     "iopub.execute_input": "2021-04-26T13:54:23.945468Z",
     "iopub.status.busy": "2021-04-26T13:54:23.945099Z",
     "iopub.status.idle": "2021-04-26T13:58:27.062071Z",
     "shell.execute_reply": "2021-04-26T13:58:27.062381Z"
    },
    "papermill": {
     "duration": 243.149346,
     "end_time": "2021-04-26T13:58:27.062510",
     "exception": false,
     "start_time": "2021-04-26T13:54:23.913164",
     "status": "completed"
    },
    "tags": []
   },
   "outputs": [
    {
     "name": "stderr",
     "output_type": "stream",
     "text": [
      "INFO: Compiled SampleParticleAdvectionRK4_3Dtemperature_samplingsalinity_samplingvelocity_samplingmxl_sampling ==> /tmp/parcels-62665/144e99467c71b4175712961091a08de5_0.so\n"
     ]
    },
    {
     "name": "stderr",
     "output_type": "stream",
     "text": [
      "WARNING: dt or runtime are zero, or endtime is equal to Particle.time. The kernels will be executed once, without incrementing time\n"
     ]
    },
    {
     "name": "stdout",
     "output_type": "stream",
     "text": [
      "CPU times: user 3min 44s, sys: 8.91 s, total: 3min 53s\n",
      "Wall time: 4min 3s\n"
     ]
    }
   ],
   "source": [
    "%%time\n",
    "\n",
    "# with dask.config.set(**{'array.slicing.split_large_chunks': False}):\n",
    "pset.execute(\n",
    "    custom_kernel,\n",
    "     runtime=0,    \n",
    "#      dt=timedelta(minutes=0),      \n",
    "#      output_file=outputfile,\n",
    "     recovery=recovery_cases\n",
    ")"
   ]
  },
  {
   "cell_type": "code",
   "execution_count": 27,
   "id": "thirty-entertainment",
   "metadata": {
    "execution": {
     "iopub.execute_input": "2021-04-26T13:58:27.125005Z",
     "iopub.status.busy": "2021-04-26T13:58:27.124625Z",
     "iopub.status.idle": "2021-04-26T13:59:10.448895Z",
     "shell.execute_reply": "2021-04-26T13:59:10.449195Z"
    },
    "papermill": {
     "duration": 43.363221,
     "end_time": "2021-04-26T13:59:10.449319",
     "exception": false,
     "start_time": "2021-04-26T13:58:27.086098",
     "status": "completed"
    },
    "tags": []
   },
   "outputs": [
    {
     "data": {
      "image/png": "[encoded data removed]",
      "text/plain": [
       "<Figure size 720x360 with 2 Axes>"
      ]
     },
     "metadata": {
      "needs_background": "light"
     },
     "output_type": "display_data"
    }
   ],
   "source": [
    "plot_section_sdist()"
   ]
  },
  {
   "cell_type": "markdown",
   "id": "guided-helena",
   "metadata": {
    "papermill": {
     "duration": 0.027082,
     "end_time": "2021-04-26T13:59:10.503392",
     "exception": false,
     "start_time": "2021-04-26T13:59:10.476310",
     "status": "completed"
    },
    "tags": []
   },
   "source": [
    "## Trim unwanted points from ParticleSet\n",
    "\n",
    "Use initialised fields to remove land points. We test `temp == 0.0` (the mask value over land).\n"
   ]
  },
  {
   "cell_type": "code",
   "execution_count": 28,
   "id": "preceding-discretion",
   "metadata": {
    "execution": {
     "iopub.execute_input": "2021-04-26T13:59:10.578555Z",
     "iopub.status.busy": "2021-04-26T13:59:10.578161Z",
     "iopub.status.idle": "2021-04-26T13:59:16.110326Z",
     "shell.execute_reply": "2021-04-26T13:59:16.110991Z"
    },
    "papermill": {
     "duration": 5.580836,
     "end_time": "2021-04-26T13:59:16.111133",
     "exception": false,
     "start_time": "2021-04-26T13:59:10.530297",
     "status": "completed"
    },
    "tags": []
   },
   "outputs": [
    {
     "name": "stdout",
     "output_type": "stream",
     "text": [
      "2099599\n"
     ]
    }
   ],
   "source": [
    "t = np.array([p.temp for p in pset])\n",
    "# u = np.array([p.uvel for p in pset])\n",
    "# v = np.array([p.vvel for p in pset])\n",
    "pset.remove_indices(np.argwhere(t == 0).flatten())\n",
    "# pset.remove(np.argwhere(x * y * z == 0).flatten())\n",
    "print(len(pset))"
   ]
  },
  {
   "cell_type": "code",
   "execution_count": 29,
   "id": "upset-tobago",
   "metadata": {
    "execution": {
     "iopub.execute_input": "2021-04-26T13:59:16.183004Z",
     "iopub.status.busy": "2021-04-26T13:59:16.182619Z",
     "iopub.status.idle": "2021-04-26T13:59:50.633703Z",
     "shell.execute_reply": "2021-04-26T13:59:50.634002Z"
    },
    "papermill": {
     "duration": 34.493965,
     "end_time": "2021-04-26T13:59:50.634120",
     "exception": false,
     "start_time": "2021-04-26T13:59:16.140155",
     "status": "completed"
    },
    "tags": []
   },
   "outputs": [
    {
     "data": {
      "image/png": "[encoded data removed]",
      "text/plain": [
       "<Figure size 720x360 with 2 Axes>"
      ]
     },
     "metadata": {
      "needs_background": "light"
     },
     "output_type": "display_data"
    }
   ],
   "source": [
    "plot_section_sdist()"
   ]
  },
  {
   "cell_type": "markdown",
   "id": "naval-drilling",
   "metadata": {
    "papermill": {
     "duration": 0.030713,
     "end_time": "2021-04-26T13:59:50.696684",
     "exception": false,
     "start_time": "2021-04-26T13:59:50.665971",
     "status": "completed"
    },
    "tags": []
   },
   "source": [
    "### Test velocity normal to section"
   ]
  },
  {
   "cell_type": "markdown",
   "id": "square-conservative",
   "metadata": {
    "papermill": {
     "duration": 0.03049,
     "end_time": "2021-04-26T13:59:50.757924",
     "exception": false,
     "start_time": "2021-04-26T13:59:50.727434",
     "status": "completed"
    },
    "tags": []
   },
   "source": [
    "#### Velocity conversions from degrees lat/lon per second to m/s"
   ]
  },
  {
   "cell_type": "code",
   "execution_count": 30,
   "id": "certain-parish",
   "metadata": {
    "execution": {
     "iopub.execute_input": "2021-04-26T13:59:50.835030Z",
     "iopub.status.busy": "2021-04-26T13:59:50.834628Z",
     "iopub.status.idle": "2021-04-26T13:59:59.203006Z",
     "shell.execute_reply": "2021-04-26T13:59:59.203655Z"
    },
    "papermill": {
     "duration": 8.415177,
     "end_time": "2021-04-26T13:59:59.203786",
     "exception": false,
     "start_time": "2021-04-26T13:59:50.788609",
     "status": "completed"
    },
    "tags": []
   },
   "outputs": [],
   "source": [
    "u = np.array([p.uvel for p in pset])\n",
    "v = np.array([p.vvel for p in pset])\n"
   ]
  },
  {
   "cell_type": "code",
   "execution_count": 31,
   "id": "dangerous-interaction",
   "metadata": {
    "execution": {
     "iopub.execute_input": "2021-04-26T13:59:59.292567Z",
     "iopub.status.busy": "2021-04-26T13:59:59.292147Z",
     "iopub.status.idle": "2021-04-26T13:59:59.306801Z",
     "shell.execute_reply": "2021-04-26T13:59:59.307430Z"
    },
    "papermill": {
     "duration": 0.071222,
     "end_time": "2021-04-26T13:59:59.307569",
     "exception": false,
     "start_time": "2021-04-26T13:59:59.236347",
     "status": "completed"
    },
    "tags": []
   },
   "outputs": [],
   "source": [
    "u=u * degree2km * 1000.0 * np.cos(np.radians(pset.lat))\n",
    "v=v * degree2km * 1000.0"
   ]
  },
  {
   "cell_type": "markdown",
   "id": "destroyed-asset",
   "metadata": {
    "papermill": {
     "duration": 0.0309,
     "end_time": "2021-04-26T13:59:59.369798",
     "exception": false,
     "start_time": "2021-04-26T13:59:59.338898",
     "status": "completed"
    },
    "tags": []
   },
   "source": [
    "#### normal velocities"
   ]
  },
  {
   "cell_type": "code",
   "execution_count": 32,
   "id": "stuffed-penny",
   "metadata": {
    "execution": {
     "iopub.execute_input": "2021-04-26T13:59:59.454508Z",
     "iopub.status.busy": "2021-04-26T13:59:59.454133Z",
     "iopub.status.idle": "2021-04-26T13:59:59.485124Z",
     "shell.execute_reply": "2021-04-26T13:59:59.485743Z"
    },
    "papermill": {
     "duration": 0.085193,
     "end_time": "2021-04-26T13:59:59.485878",
     "exception": false,
     "start_time": "2021-04-26T13:59:59.400685",
     "status": "completed"
    },
    "tags": []
   },
   "outputs": [],
   "source": [
    "section_index = np.searchsorted(lonlat.lon,pset.lon)-1\n",
    "u_normal = v * lonlatdiff.costheta[section_index].data - u * lonlatdiff.sintheta[section_index].data"
   ]
  },
  {
   "cell_type": "code",
   "execution_count": 33,
   "id": "spanish-marriage",
   "metadata": {
    "execution": {
     "iopub.execute_input": "2021-04-26T13:59:59.557963Z",
     "iopub.status.busy": "2021-04-26T13:59:59.557452Z",
     "iopub.status.idle": "2021-04-26T13:59:59.559181Z",
     "shell.execute_reply": "2021-04-26T13:59:59.558280Z"
    },
    "papermill": {
     "duration": 0.042246,
     "end_time": "2021-04-26T13:59:59.559277",
     "exception": false,
     "start_time": "2021-04-26T13:59:59.517031",
     "status": "completed"
    },
    "tags": []
   },
   "outputs": [
    {
     "data": {
      "text/plain": [
       "0.7152208914120952"
      ]
     },
     "execution_count": 33,
     "metadata": {},
     "output_type": "execute_result"
    }
   ],
   "source": [
    "abs(u_normal).max()"
   ]
  },
  {
   "cell_type": "markdown",
   "id": "preceding-arnold",
   "metadata": {
    "papermill": {
     "duration": 0.030955,
     "end_time": "2021-04-26T13:59:59.621054",
     "exception": false,
     "start_time": "2021-04-26T13:59:59.590099",
     "status": "completed"
    },
    "tags": []
   },
   "source": [
    "#### remove particles randomly with probability proportional to normal speed"
   ]
  },
  {
   "cell_type": "code",
   "execution_count": 34,
   "id": "urban-cyprus",
   "metadata": {
    "execution": {
     "iopub.execute_input": "2021-04-26T13:59:59.706542Z",
     "iopub.status.busy": "2021-04-26T13:59:59.706133Z",
     "iopub.status.idle": "2021-04-26T13:59:59.900576Z",
     "shell.execute_reply": "2021-04-26T13:59:59.901209Z"
    },
    "papermill": {
     "duration": 0.248929,
     "end_time": "2021-04-26T13:59:59.901353",
     "exception": false,
     "start_time": "2021-04-26T13:59:59.652424",
     "status": "completed"
    },
    "tags": []
   },
   "outputs": [
    {
     "name": "stdout",
     "output_type": "stream",
     "text": [
      "60809\n"
     ]
    }
   ],
   "source": [
    "u_random = np.random.rand(len(u_normal))*max_current\n",
    "pset.remove_indices(np.argwhere(abs(u_normal) < u_random).flatten())\n",
    "\n",
    "print(len(pset))"
   ]
  },
  {
   "cell_type": "code",
   "execution_count": 35,
   "id": "sustainable-reaction",
   "metadata": {
    "execution": {
     "iopub.execute_input": "2021-04-26T13:59:59.988480Z",
     "iopub.status.busy": "2021-04-26T13:59:59.988119Z",
     "iopub.status.idle": "2021-04-26T14:00:01.266266Z",
     "shell.execute_reply": "2021-04-26T14:00:01.266833Z"
    },
    "papermill": {
     "duration": 1.334165,
     "end_time": "2021-04-26T14:00:01.266961",
     "exception": false,
     "start_time": "2021-04-26T13:59:59.932796",
     "status": "completed"
    },
    "tags": []
   },
   "outputs": [
    {
     "data": {
      "image/png": "[encoded data removed]",
      "text/plain": [
       "<Figure size 720x360 with 2 Axes>"
      ]
     },
     "metadata": {
      "needs_background": "light"
     },
     "output_type": "display_data"
    }
   ],
   "source": [
    "plot_section_sdist()"
   ]
  },
  {
   "cell_type": "markdown",
   "id": "worst-bundle",
   "metadata": {
    "papermill": {
     "duration": 0.035491,
     "end_time": "2021-04-26T14:00:01.338558",
     "exception": false,
     "start_time": "2021-04-26T14:00:01.303067",
     "status": "completed"
    },
    "tags": []
   },
   "source": [
    "## Prepare output\n",
    "\n",
    "We define an output file and specify the desired output frequency."
   ]
  },
  {
   "cell_type": "code",
   "execution_count": 36,
   "id": "prepared-calgary",
   "metadata": {
    "execution": {
     "iopub.execute_input": "2021-04-26T14:00:01.417221Z",
     "iopub.status.busy": "2021-04-26T14:00:01.416710Z",
     "iopub.status.idle": "2021-04-26T14:00:01.426535Z",
     "shell.execute_reply": "2021-04-26T14:00:01.426852Z"
    },
    "papermill": {
     "duration": 0.051366,
     "end_time": "2021-04-26T14:00:01.427013",
     "exception": false,
     "start_time": "2021-04-26T14:00:01.375647",
     "status": "completed"
    },
    "tags": []
   },
   "outputs": [
    {
     "name": "stdout",
     "output_type": "stream",
     "text": [
      "../data/raw/tracks_randomvel_mxl_osnap_backward_20191015_N60809_D3650_Rnd14530.nc\n"
     ]
    }
   ],
   "source": [
    "# output_filename = 'Parcels_IFFForwards_1m_June2016_2000.nc'\n",
    "npart = str(len(pset))\n",
    "output_filename = 'tracks_randomvel_mxl_'+sectionname+direction+year_str+month_str+day_str+'_N'+npart+'_D'+days+'_Rnd'+ seed+'.nc'\n",
    "outfile = outpath / output_filename\n",
    "\n",
    "print(outfile)\n",
    "outputfile = pset.ParticleFile(\n",
    "    name=outfile,\n",
    "    outputdt=timedelta(hours=outputdt_in_hours)\n",
    ")"
   ]
  },
  {
   "cell_type": "markdown",
   "id": "respiratory-trade",
   "metadata": {
    "papermill": {
     "duration": 0.035812,
     "end_time": "2021-04-26T14:00:01.498814",
     "exception": false,
     "start_time": "2021-04-26T14:00:01.463002",
     "status": "completed"
    },
    "tags": []
   },
   "source": [
    "## Execute the experiment\n",
    "\n",
    "We'll evolve particles, log their positions and variables to the output buffer and finally export the output to a  the file."
   ]
  },
  {
   "cell_type": "markdown",
   "id": "unusual-county",
   "metadata": {
    "papermill": {
     "duration": 0.035499,
     "end_time": "2021-04-26T14:00:01.569836",
     "exception": false,
     "start_time": "2021-04-26T14:00:01.534337",
     "status": "completed"
    },
    "tags": []
   },
   "source": [
    "### Run the experiment"
   ]
  },
  {
   "cell_type": "code",
   "execution_count": 37,
   "id": "offshore-formation",
   "metadata": {
    "execution": {
     "iopub.execute_input": "2021-04-26T14:00:01.648220Z",
     "iopub.status.busy": "2021-04-26T14:00:01.647860Z",
     "iopub.status.idle": "2021-04-27T12:03:56.198072Z",
     "shell.execute_reply": "2021-04-27T12:03:56.196868Z"
    },
    "papermill": {
     "duration": 79434.592475,
     "end_time": "2021-04-27T12:03:56.198190",
     "exception": false,
     "start_time": "2021-04-26T14:00:01.605715",
     "status": "completed"
    },
    "tags": []
   },
   "outputs": [
    {
     "name": "stderr",
     "output_type": "stream",
     "text": [
      "INFO: Temporary output files are stored in ../data/raw/out-XCAGVWME.\n"
     ]
    },
    {
     "name": "stderr",
     "output_type": "stream",
     "text": [
      "INFO: You can use \"parcels_convert_npydir_to_netcdf ../data/raw/out-XCAGVWME\" to convert these to a NetCDF file during the run.\n"
     ]
    },
    {
     "name": "stderr",
     "output_type": "stream",
     "text": [
      "\r",
      "N/A% (0 of 315360000.0) |                | Elapsed Time: 0:00:00 ETA:  --:--:--"
     ]
    },
    {
     "name": "stderr",
     "output_type": "stream",
     "text": [
      "\r",
      "  0% (864000.0 of 315360000.0) |         | Elapsed Time: 0:02:05 ETA:  12:40:22"
     ]
    },
    {
     "name": "stderr",
     "output_type": "stream",
     "text": [
      "\r",
      "  0% (1296000.0 of 315360000.0) |  | Elapsed Time: 0:04:10 ETA:  1 day, 1:17:18"
     ]
    },
    {
     "name": "stderr",
     "output_type": "stream",
     "text": [
      "\r",
      "  0% (1728000.0 of 315360000.0) |  | Elapsed Time: 0:06:15 ETA:  1 day, 1:12:11"
     ]
    },
    {
     "name": "stderr",
     "output_type": "stream",
     "text": [
      "\r",
      "  0% (2160000.0 of 315360000.0) |  | Elapsed Time: 0:08:21 ETA:  1 day, 1:21:58"
     ]
    },
    {
     "name": "stderr",
     "output_type": "stream",
     "text": [
      "\r",
      "  0% (2592000.0 of 315360000.0) |  | Elapsed Time: 0:10:26 ETA:  1 day, 1:12:04"
     ]
    },
    {
     "name": "stderr",
     "output_type": "stream",
     "text": [
      "\r",
      "  0% (3024000.0 of 315360000.0) |  | Elapsed Time: 0:12:31 ETA:  1 day, 1:03:26"
     ]
    },
    {
     "name": "stderr",
     "output_type": "stream",
     "text": [
      "\r",
      "  1% (3456000.0 of 315360000.0) |  | Elapsed Time: 0:14:36 ETA:  1 day, 1:01:15"
     ]
    },
    {
     "name": "stderr",
     "output_type": "stream",
     "text": [
      "\r",
      "  1% (3888000.0 of 315360000.0) |  | Elapsed Time: 0:16:39 ETA:  1 day, 0:44:24"
     ]
    },
    {
     "name": "stderr",
     "output_type": "stream",
     "text": [
      "\r",
      "  1% (4320000.0 of 315360000.0) |  | Elapsed Time: 0:18:45 ETA:  1 day, 1:02:25"
     ]
    },
    {
     "name": "stderr",
     "output_type": "stream",
     "text": [
      "\r",
      "  1% (4752000.0 of 315360000.0) |  | Elapsed Time: 0:20:49 ETA:  1 day, 0:56:51"
     ]
    },
    {
     "name": "stderr",
     "output_type": "stream",
     "text": [
      "\r",
      "  1% (5184000.0 of 315360000.0) |  | Elapsed Time: 0:22:55 ETA:  1 day, 1:02:51"
     ]
    },
    {
     "name": "stderr",
     "output_type": "stream",
     "text": [
      "\r",
      "  1% (5616000.0 of 315360000.0) |  | Elapsed Time: 0:25:01 ETA:  1 day, 0:59:20"
     ]
    },
    {
     "name": "stderr",
     "output_type": "stream",
     "text": [
      "\r",
      "  1% (6048000.0 of 315360000.0) |  | Elapsed Time: 0:27:06 ETA:  1 day, 1:01:33"
     ]
    },
    {
     "name": "stderr",
     "output_type": "stream",
     "text": [
      "\r",
      "  2% (6480000.0 of 315360000.0) |  | Elapsed Time: 0:29:12 ETA:  1 day, 0:59:34"
     ]
    },
    {
     "name": "stderr",
     "output_type": "stream",
     "text": [
      "\r",
      "  2% (6912000.0 of 315360000.0) |  | Elapsed Time: 0:31:18 ETA:  1 day, 0:54:36"
     ]
    },
    {
     "name": "stderr",
     "output_type": "stream",
     "text": [
      "\r",
      "  2% (7344000.0 of 315360000.0) |  | Elapsed Time: 0:33:24 ETA:  1 day, 0:54:59"
     ]
    },
    {
     "name": "stderr",
     "output_type": "stream",
     "text": [
      "\r",
      "  2% (7776000.0 of 315360000.0) |  | Elapsed Time: 0:35:30 ETA:  1 day, 0:57:09"
     ]
    },
    {
     "name": "stderr",
     "output_type": "stream",
     "text": [
      "\r",
      "  2% (8208000.0 of 315360000.0) |  | Elapsed Time: 0:37:36 ETA:  1 day, 0:57:58"
     ]
    },
    {
     "name": "stderr",
     "output_type": "stream",
     "text": [
      "\r",
      "  2% (8640000.0 of 315360000.0) |  | Elapsed Time: 0:39:42 ETA:  1 day, 0:50:02"
     ]
    },
    {
     "name": "stderr",
     "output_type": "stream",
     "text": [
      "\r",
      "  2% (9072000.0 of 315360000.0) |  | Elapsed Time: 0:41:48 ETA:  1 day, 0:50:55"
     ]
    },
    {
     "name": "stderr",
     "output_type": "stream",
     "text": [
      "\r",
      "  3% (9504000.0 of 315360000.0) |  | Elapsed Time: 0:43:54 ETA:  1 day, 0:42:05"
     ]
    },
    {
     "name": "stderr",
     "output_type": "stream",
     "text": [
      "\r",
      "  3% (9936000.0 of 315360000.0) |  | Elapsed Time: 0:46:00 ETA:  1 day, 0:40:31"
     ]
    },
    {
     "name": "stderr",
     "output_type": "stream",
     "text": [
      "\r",
      "  3% (10368000.0 of 315360000.0) | | Elapsed Time: 0:48:05 ETA:  1 day, 0:38:00"
     ]
    },
    {
     "name": "stderr",
     "output_type": "stream",
     "text": [
      "\r",
      "  3% (10800000.0 of 315360000.0) | | Elapsed Time: 0:50:11 ETA:  1 day, 0:43:28"
     ]
    },
    {
     "name": "stderr",
     "output_type": "stream",
     "text": [
      "\r",
      "  3% (11232000.0 of 315360000.0) | | Elapsed Time: 0:52:17 ETA:  1 day, 0:31:04"
     ]
    },
    {
     "name": "stderr",
     "output_type": "stream",
     "text": [
      "\r",
      "  3% (11664000.0 of 315360000.0) | | Elapsed Time: 0:54:23 ETA:  1 day, 0:36:01"
     ]
    },
    {
     "name": "stderr",
     "output_type": "stream",
     "text": [
      "\r",
      "  3% (12096000.0 of 315360000.0) | | Elapsed Time: 0:56:28 ETA:  1 day, 0:31:13"
     ]
    },
    {
     "name": "stderr",
     "output_type": "stream",
     "text": [
      "\r",
      "  3% (12528000.0 of 315360000.0) | | Elapsed Time: 0:58:34 ETA:  1 day, 0:29:24"
     ]
    },
    {
     "name": "stderr",
     "output_type": "stream",
     "text": [
      "\r",
      "  4% (12960000.0 of 315360000.0) | | Elapsed Time: 1:00:40 ETA:  1 day, 0:24:19"
     ]
    },
    {
     "name": "stderr",
     "output_type": "stream",
     "text": [
      "\r",
      "  4% (13392000.0 of 315360000.0) | | Elapsed Time: 1:02:46 ETA:  1 day, 0:28:17"
     ]
    },
    {
     "name": "stderr",
     "output_type": "stream",
     "text": [
      "\r",
      "  4% (13824000.0 of 315360000.0) | | Elapsed Time: 1:04:52 ETA:  1 day, 0:24:25"
     ]
    },
    {
     "name": "stderr",
     "output_type": "stream",
     "text": [
      "\r",
      "  4% (14256000.0 of 315360000.0) | | Elapsed Time: 1:06:57 ETA:  1 day, 0:15:22"
     ]
    },
    {
     "name": "stderr",
     "output_type": "stream",
     "text": [
      "\r",
      "  4% (14688000.0 of 315360000.0) | | Elapsed Time: 1:09:03 ETA:  1 day, 0:18:33"
     ]
    },
    {
     "name": "stderr",
     "output_type": "stream",
     "text": [
      "\r",
      "  4% (15120000.0 of 315360000.0) | | Elapsed Time: 1:11:08 ETA:  1 day, 0:16:15"
     ]
    },
    {
     "name": "stderr",
     "output_type": "stream",
     "text": [
      "\r",
      "  4% (15552000.0 of 315360000.0) | | Elapsed Time: 1:13:14 ETA:  1 day, 0:13:45"
     ]
    },
    {
     "name": "stderr",
     "output_type": "stream",
     "text": [
      "\r",
      "  5% (15984000.0 of 315360000.0) | | Elapsed Time: 1:15:20 ETA:  1 day, 0:10:00"
     ]
    },
    {
     "name": "stderr",
     "output_type": "stream",
     "text": [
      "\r",
      "  5% (16416000.0 of 315360000.0) | | Elapsed Time: 1:17:25 ETA:  1 day, 0:05:16"
     ]
    },
    {
     "name": "stderr",
     "output_type": "stream",
     "text": [
      "\r",
      "  5% (16848000.0 of 315360000.0) | | Elapsed Time: 1:19:30 ETA:  1 day, 0:05:34"
     ]
    },
    {
     "name": "stderr",
     "output_type": "stream",
     "text": [
      "\r",
      "  5% (17280000.0 of 315360000.0) |       | Elapsed Time: 1:21:35 ETA:  23:54:42"
     ]
    },
    {
     "name": "stderr",
     "output_type": "stream",
     "text": [
      "\r",
      "  5% (17712000.0 of 315360000.0) | | Elapsed Time: 1:23:41 ETA:  1 day, 0:02:27"
     ]
    },
    {
     "name": "stderr",
     "output_type": "stream",
     "text": [
      "\r",
      "  5% (18144000.0 of 315360000.0) |       | Elapsed Time: 1:25:46 ETA:  23:59:32"
     ]
    },
    {
     "name": "stderr",
     "output_type": "stream",
     "text": [
      "\r",
      "  5% (18576000.0 of 315360000.0) | | Elapsed Time: 1:27:52 ETA:  1 day, 0:02:51"
     ]
    },
    {
     "name": "stderr",
     "output_type": "stream",
     "text": [
      "\r",
      "  6% (19008000.0 of 315360000.0) |       | Elapsed Time: 1:29:57 ETA:  23:49:58"
     ]
    },
    {
     "name": "stderr",
     "output_type": "stream",
     "text": [
      "\r",
      "  6% (19440000.0 of 315360000.0) |       | Elapsed Time: 1:32:03 ETA:  23:52:28"
     ]
    },
    {
     "name": "stderr",
     "output_type": "stream",
     "text": [
      "\r",
      "  6% (19872000.0 of 315360000.0) |       | Elapsed Time: 1:34:09 ETA:  23:54:26"
     ]
    },
    {
     "name": "stderr",
     "output_type": "stream",
     "text": [
      "\r",
      "  6% (20304000.0 of 315360000.0) |       | Elapsed Time: 1:36:14 ETA:  23:44:28"
     ]
    },
    {
     "name": "stderr",
     "output_type": "stream",
     "text": [
      "\r",
      "  6% (20736000.0 of 315360000.0) |       | Elapsed Time: 1:38:19 ETA:  23:40:18"
     ]
    },
    {
     "name": "stderr",
     "output_type": "stream",
     "text": [
      "\r",
      "  6% (21168000.0 of 315360000.0) |       | Elapsed Time: 1:40:24 ETA:  23:35:56"
     ]
    },
    {
     "name": "stderr",
     "output_type": "stream",
     "text": [
      "\r",
      "  6% (21600000.0 of 315360000.0) |       | Elapsed Time: 1:42:28 ETA:  23:29:39"
     ]
    },
    {
     "name": "stderr",
     "output_type": "stream",
     "text": [
      "\r",
      "  6% (22032000.0 of 315360000.0) |       | Elapsed Time: 1:44:33 ETA:  23:30:10"
     ]
    },
    {
     "name": "stderr",
     "output_type": "stream",
     "text": [
      "\r",
      "  7% (22464000.0 of 315360000.0) |       | Elapsed Time: 1:46:37 ETA:  23:26:57"
     ]
    },
    {
     "name": "stderr",
     "output_type": "stream",
     "text": [
      "\r",
      "  7% (22896000.0 of 315360000.0) |       | Elapsed Time: 1:48:41 ETA:  23:17:53"
     ]
    },
    {
     "name": "stderr",
     "output_type": "stream",
     "text": [
      "\r",
      "  7% (23328000.0 of 315360000.0) |       | Elapsed Time: 1:50:44 ETA:  23:08:34"
     ]
    },
    {
     "name": "stderr",
     "output_type": "stream",
     "text": [
      "\r",
      "  7% (23760000.0 of 315360000.0) |       | Elapsed Time: 1:52:48 ETA:  23:07:24"
     ]
    },
    {
     "name": "stderr",
     "output_type": "stream",
     "text": [
      "\r",
      "  7% (24192000.0 of 315360000.0) |       | Elapsed Time: 1:54:52 ETA:  23:14:44"
     ]
    },
    {
     "name": "stderr",
     "output_type": "stream",
     "text": [
      "\r",
      "  7% (24624000.0 of 315360000.0) |       | Elapsed Time: 1:56:57 ETA:  23:27:31"
     ]
    },
    {
     "name": "stderr",
     "output_type": "stream",
     "text": [
      "\r",
      "  7% (25056000.0 of 315360000.0) |       | Elapsed Time: 1:59:03 ETA:  23:29:08"
     ]
    },
    {
     "name": "stderr",
     "output_type": "stream",
     "text": [
      "\r",
      "  8% (25488000.0 of 315360000.0) |       | Elapsed Time: 2:01:08 ETA:  23:17:19"
     ]
    },
    {
     "name": "stderr",
     "output_type": "stream",
     "text": [
      "\r",
      "  8% (25920000.0 of 315360000.0) |       | Elapsed Time: 2:03:13 ETA:  23:11:40"
     ]
    },
    {
     "name": "stderr",
     "output_type": "stream",
     "text": [
      "\r",
      "  8% (26352000.0 of 315360000.0) |       | Elapsed Time: 2:05:17 ETA:  23:09:12"
     ]
    },
    {
     "name": "stderr",
     "output_type": "stream",
     "text": [
      "\r",
      "  8% (26784000.0 of 315360000.0) |       | Elapsed Time: 2:07:22 ETA:  23:04:11"
     ]
    },
    {
     "name": "stderr",
     "output_type": "stream",
     "text": [
      "\r",
      "  8% (27216000.0 of 315360000.0) |       | Elapsed Time: 2:09:28 ETA:  23:20:38"
     ]
    },
    {
     "name": "stderr",
     "output_type": "stream",
     "text": [
      "\r",
      "  8% (27648000.0 of 315360000.0) |       | Elapsed Time: 2:11:33 ETA:  23:10:52"
     ]
    },
    {
     "name": "stderr",
     "output_type": "stream",
     "text": [
      "\r",
      "  8% (28080000.0 of 315360000.0) |       | Elapsed Time: 2:13:38 ETA:  23:02:43"
     ]
    },
    {
     "name": "stderr",
     "output_type": "stream",
     "text": [
      "\r",
      "  9% (28512000.0 of 315360000.0) |       | Elapsed Time: 2:15:42 ETA:  22:55:28"
     ]
    },
    {
     "name": "stderr",
     "output_type": "stream",
     "text": [
      "\r",
      "  9% (28944000.0 of 315360000.0) |       | Elapsed Time: 2:17:47 ETA:  22:58:25"
     ]
    },
    {
     "name": "stderr",
     "output_type": "stream",
     "text": [
      "\r",
      "  9% (29376000.0 of 315360000.0) |       | Elapsed Time: 2:19:52 ETA:  22:59:30"
     ]
    },
    {
     "name": "stderr",
     "output_type": "stream",
     "text": [
      "\r",
      "  9% (29808000.0 of 315360000.0) |       | Elapsed Time: 2:21:55 ETA:  22:42:56"
     ]
    },
    {
     "name": "stderr",
     "output_type": "stream",
     "text": [
      "\r",
      "  9% (30240000.0 of 315360000.0) |       | Elapsed Time: 2:24:00 ETA:  22:47:22"
     ]
    },
    {
     "name": "stderr",
     "output_type": "stream",
     "text": [
      "\r",
      "  9% (30672000.0 of 315360000.0) |       | Elapsed Time: 2:26:03 ETA:  22:37:41"
     ]
    },
    {
     "name": "stderr",
     "output_type": "stream",
     "text": [
      "\r",
      "  9% (31104000.0 of 315360000.0) |       | Elapsed Time: 2:28:07 ETA:  22:34:28"
     ]
    },
    {
     "name": "stderr",
     "output_type": "stream",
     "text": [
      "\r",
      " 10% (31536000.0 of 315360000.0) |       | Elapsed Time: 2:30:10 ETA:  22:30:11"
     ]
    },
    {
     "name": "stderr",
     "output_type": "stream",
     "text": [
      "\r",
      " 10% (31968000.0 of 315360000.0) |       | Elapsed Time: 2:32:13 ETA:  22:26:35"
     ]
    },
    {
     "name": "stderr",
     "output_type": "stream",
     "text": [
      "\r",
      " 10% (32400000.0 of 315360000.0) |       | Elapsed Time: 2:34:17 ETA:  22:30:28"
     ]
    },
    {
     "name": "stderr",
     "output_type": "stream",
     "text": [
      "\r",
      " 10% (32832000.0 of 315360000.0) |       | Elapsed Time: 2:36:21 ETA:  22:29:06"
     ]
    },
    {
     "name": "stderr",
     "output_type": "stream",
     "text": [
      "\r",
      " 10% (33264000.0 of 315360000.0) |       | Elapsed Time: 2:38:24 ETA:  22:20:29"
     ]
    },
    {
     "name": "stderr",
     "output_type": "stream",
     "text": [
      "\r",
      " 10% (33696000.0 of 315360000.0) |       | Elapsed Time: 2:40:27 ETA:  22:20:54"
     ]
    },
    {
     "name": "stderr",
     "output_type": "stream",
     "text": [
      "\r",
      " 10% (34128000.0 of 315360000.0) |       | Elapsed Time: 2:42:31 ETA:  22:17:44"
     ]
    },
    {
     "name": "stderr",
     "output_type": "stream",
     "text": [
      "\r",
      " 10% (34560000.0 of 315360000.0) |       | Elapsed Time: 2:44:33 ETA:  22:07:11"
     ]
    },
    {
     "name": "stderr",
     "output_type": "stream",
     "text": [
      "\r",
      " 11% (34992000.0 of 315360000.0) |       | Elapsed Time: 2:46:37 ETA:  22:18:27"
     ]
    },
    {
     "name": "stderr",
     "output_type": "stream",
     "text": [
      "\r",
      " 11% (35424000.0 of 315360000.0) |       | Elapsed Time: 2:48:39 ETA:  22:01:06"
     ]
    },
    {
     "name": "stderr",
     "output_type": "stream",
     "text": [
      "\r",
      " 11% (35856000.0 of 315360000.0) |       | Elapsed Time: 2:50:42 ETA:  22:04:31"
     ]
    },
    {
     "name": "stderr",
     "output_type": "stream",
     "text": [
      "\r",
      " 11% (36288000.0 of 315360000.0) |       | Elapsed Time: 2:52:45 ETA:  22:01:28"
     ]
    },
    {
     "name": "stderr",
     "output_type": "stream",
     "text": [
      "\r",
      " 11% (36720000.0 of 315360000.0) |       | Elapsed Time: 2:54:48 ETA:  22:00:52"
     ]
    },
    {
     "name": "stderr",
     "output_type": "stream",
     "text": [
      "\r",
      " 11% (37152000.0 of 315360000.0) |       | Elapsed Time: 2:56:51 ETA:  21:59:44"
     ]
    },
    {
     "name": "stderr",
     "output_type": "stream",
     "text": [
      "\r",
      " 11% (37584000.0 of 315360000.0) |       | Elapsed Time: 2:58:53 ETA:  21:57:15"
     ]
    },
    {
     "name": "stderr",
     "output_type": "stream",
     "text": [
      "\r",
      " 12% (38016000.0 of 315360000.0) |       | Elapsed Time: 3:00:57 ETA:  21:58:45"
     ]
    },
    {
     "name": "stderr",
     "output_type": "stream",
     "text": [
      "\r",
      " 12% (38448000.0 of 315360000.0) |       | Elapsed Time: 3:02:59 ETA:  21:49:28"
     ]
    },
    {
     "name": "stderr",
     "output_type": "stream",
     "text": [
      "\r",
      " 12% (38880000.0 of 315360000.0) |       | Elapsed Time: 3:05:02 ETA:  21:50:38"
     ]
    },
    {
     "name": "stderr",
     "output_type": "stream",
     "text": [
      "\r",
      " 12% (39312000.0 of 315360000.0) |       | Elapsed Time: 3:07:06 ETA:  21:54:08"
     ]
    },
    {
     "name": "stderr",
     "output_type": "stream",
     "text": [
      "\r",
      " 12% (39744000.0 of 315360000.0) |       | Elapsed Time: 3:09:08 ETA:  21:40:45"
     ]
    },
    {
     "name": "stderr",
     "output_type": "stream",
     "text": [
      "\r",
      " 12% (40176000.0 of 315360000.0) |       | Elapsed Time: 3:11:11 ETA:  21:41:47"
     ]
    },
    {
     "name": "stderr",
     "output_type": "stream",
     "text": [
      "\r",
      " 12% (40608000.0 of 315360000.0) |       | Elapsed Time: 3:13:12 ETA:  21:32:39"
     ]
    },
    {
     "name": "stderr",
     "output_type": "stream",
     "text": [
      "\r",
      " 13% (41040000.0 of 315360000.0) |       | Elapsed Time: 3:15:16 ETA:  21:42:03"
     ]
    },
    {
     "name": "stderr",
     "output_type": "stream",
     "text": [
      "\r",
      " 13% (41472000.0 of 315360000.0) |       | Elapsed Time: 3:17:18 ETA:  21:32:33"
     ]
    },
    {
     "name": "stderr",
     "output_type": "stream",
     "text": [
      "\r",
      " 13% (41904000.0 of 315360000.0) |       | Elapsed Time: 3:19:20 ETA:  21:34:08"
     ]
    },
    {
     "name": "stderr",
     "output_type": "stream",
     "text": [
      "\r",
      " 13% (42336000.0 of 315360000.0) |       | Elapsed Time: 3:21:23 ETA:  21:25:49"
     ]
    },
    {
     "name": "stderr",
     "output_type": "stream",
     "text": [
      "\r",
      " 13% (42768000.0 of 315360000.0) |       | Elapsed Time: 3:23:25 ETA:  21:30:17"
     ]
    },
    {
     "name": "stderr",
     "output_type": "stream",
     "text": [
      "\r",
      " 13% (43200000.0 of 315360000.0) |       | Elapsed Time: 3:25:28 ETA:  21:25:34"
     ]
    },
    {
     "name": "stderr",
     "output_type": "stream",
     "text": [
      "\r",
      " 13% (43632000.0 of 315360000.0) |       | Elapsed Time: 3:27:30 ETA:  21:25:13"
     ]
    },
    {
     "name": "stderr",
     "output_type": "stream",
     "text": [
      "\r",
      " 13% (44064000.0 of 315360000.0) |       | Elapsed Time: 3:29:33 ETA:  21:21:09"
     ]
    },
    {
     "name": "stderr",
     "output_type": "stream",
     "text": [
      "\r",
      " 14% (44496000.0 of 315360000.0) |       | Elapsed Time: 3:31:35 ETA:  21:16:03"
     ]
    },
    {
     "name": "stderr",
     "output_type": "stream",
     "text": [
      "\r",
      " 14% (44928000.0 of 315360000.0) |       | Elapsed Time: 3:33:37 ETA:  21:12:14"
     ]
    },
    {
     "name": "stderr",
     "output_type": "stream",
     "text": [
      "\r",
      " 14% (45360000.0 of 315360000.0) |#      | Elapsed Time: 3:35:39 ETA:  21:16:51"
     ]
    },
    {
     "name": "stderr",
     "output_type": "stream",
     "text": [
      "\r",
      " 14% (45792000.0 of 315360000.0) |#      | Elapsed Time: 3:37:41 ETA:  21:08:50"
     ]
    },
    {
     "name": "stderr",
     "output_type": "stream",
     "text": [
      "\r",
      " 14% (46224000.0 of 315360000.0) |#      | Elapsed Time: 3:39:43 ETA:  21:07:10"
     ]
    },
    {
     "name": "stderr",
     "output_type": "stream",
     "text": [
      "\r",
      " 14% (46656000.0 of 315360000.0) |#      | Elapsed Time: 3:41:46 ETA:  21:14:45"
     ]
    },
    {
     "name": "stderr",
     "output_type": "stream",
     "text": [
      "\r",
      " 14% (47088000.0 of 315360000.0) |#      | Elapsed Time: 3:43:48 ETA:  21:01:15"
     ]
    },
    {
     "name": "stderr",
     "output_type": "stream",
     "text": [
      "\r",
      " 15% (47520000.0 of 315360000.0) |#      | Elapsed Time: 3:45:50 ETA:  21:02:13"
     ]
    },
    {
     "name": "stderr",
     "output_type": "stream",
     "text": [
      "\r",
      " 15% (47952000.0 of 315360000.0) |#      | Elapsed Time: 3:47:53 ETA:  21:00:17"
     ]
    },
    {
     "name": "stderr",
     "output_type": "stream",
     "text": [
      "\r",
      " 15% (48384000.0 of 315360000.0) |#      | Elapsed Time: 3:49:54 ETA:  20:54:41"
     ]
    },
    {
     "name": "stderr",
     "output_type": "stream",
     "text": [
      "\r",
      " 15% (48816000.0 of 315360000.0) |#      | Elapsed Time: 3:51:56 ETA:  20:52:11"
     ]
    },
    {
     "name": "stderr",
     "output_type": "stream",
     "text": [
      "\r",
      " 15% (49248000.0 of 315360000.0) |#      | Elapsed Time: 3:53:58 ETA:  20:47:15"
     ]
    },
    {
     "name": "stderr",
     "output_type": "stream",
     "text": [
      "\r",
      " 15% (49680000.0 of 315360000.0) |#      | Elapsed Time: 3:55:59 ETA:  20:43:58"
     ]
    },
    {
     "name": "stderr",
     "output_type": "stream",
     "text": [
      "\r",
      " 15% (50112000.0 of 315360000.0) |#      | Elapsed Time: 3:58:01 ETA:  20:53:52"
     ]
    },
    {
     "name": "stderr",
     "output_type": "stream",
     "text": [
      "\r",
      " 16% (50544000.0 of 315360000.0) |#      | Elapsed Time: 4:00:03 ETA:  20:41:08"
     ]
    },
    {
     "name": "stderr",
     "output_type": "stream",
     "text": [
      "\r",
      " 16% (50976000.0 of 315360000.0) |#      | Elapsed Time: 4:02:04 ETA:  20:36:53"
     ]
    },
    {
     "name": "stderr",
     "output_type": "stream",
     "text": [
      "\r",
      " 16% (51408000.0 of 315360000.0) |#      | Elapsed Time: 4:04:07 ETA:  20:45:50"
     ]
    },
    {
     "name": "stderr",
     "output_type": "stream",
     "text": [
      "\r",
      " 16% (51840000.0 of 315360000.0) |#      | Elapsed Time: 4:06:08 ETA:  20:38:02"
     ]
    },
    {
     "name": "stderr",
     "output_type": "stream",
     "text": [
      "\r",
      " 16% (52272000.0 of 315360000.0) |#      | Elapsed Time: 4:08:10 ETA:  20:32:58"
     ]
    },
    {
     "name": "stderr",
     "output_type": "stream",
     "text": [
      "\r",
      " 16% (52704000.0 of 315360000.0) |#      | Elapsed Time: 4:10:12 ETA:  20:33:10"
     ]
    },
    {
     "name": "stderr",
     "output_type": "stream",
     "text": [
      "\r",
      " 16% (53136000.0 of 315360000.0) |#      | Elapsed Time: 4:12:14 ETA:  20:39:24"
     ]
    },
    {
     "name": "stderr",
     "output_type": "stream",
     "text": [
      "\r",
      " 16% (53568000.0 of 315360000.0) |#      | Elapsed Time: 4:14:16 ETA:  20:33:04"
     ]
    },
    {
     "name": "stderr",
     "output_type": "stream",
     "text": [
      "\r",
      " 17% (54000000.0 of 315360000.0) |#      | Elapsed Time: 4:16:18 ETA:  20:24:23"
     ]
    },
    {
     "name": "stderr",
     "output_type": "stream",
     "text": [
      "\r",
      " 17% (54432000.0 of 315360000.0) |#      | Elapsed Time: 4:18:20 ETA:  20:29:16"
     ]
    },
    {
     "name": "stderr",
     "output_type": "stream",
     "text": [
      "\r",
      " 17% (54864000.0 of 315360000.0) |#      | Elapsed Time: 4:20:22 ETA:  20:29:31"
     ]
    },
    {
     "name": "stderr",
     "output_type": "stream",
     "text": [
      "\r",
      " 17% (55296000.0 of 315360000.0) |#      | Elapsed Time: 4:22:24 ETA:  20:22:23"
     ]
    },
    {
     "name": "stderr",
     "output_type": "stream",
     "text": [
      "\r",
      " 17% (55728000.0 of 315360000.0) |#      | Elapsed Time: 4:24:25 ETA:  20:17:15"
     ]
    },
    {
     "name": "stderr",
     "output_type": "stream",
     "text": [
      "\r",
      " 17% (56160000.0 of 315360000.0) |#      | Elapsed Time: 4:26:27 ETA:  20:17:35"
     ]
    },
    {
     "name": "stderr",
     "output_type": "stream",
     "text": [
      "\r",
      " 17% (56592000.0 of 315360000.0) |#      | Elapsed Time: 4:28:28 ETA:  20:06:00"
     ]
    },
    {
     "name": "stderr",
     "output_type": "stream",
     "text": [
      "\r",
      " 18% (57024000.0 of 315360000.0) |#      | Elapsed Time: 4:30:29 ETA:  20:11:03"
     ]
    },
    {
     "name": "stderr",
     "output_type": "stream",
     "text": [
      "\r",
      " 18% (57456000.0 of 315360000.0) |#      | Elapsed Time: 4:32:30 ETA:  19:59:50"
     ]
    },
    {
     "name": "stderr",
     "output_type": "stream",
     "text": [
      "\r",
      " 18% (57888000.0 of 315360000.0) |#      | Elapsed Time: 4:34:31 ETA:  19:59:30"
     ]
    },
    {
     "name": "stderr",
     "output_type": "stream",
     "text": [
      "\r",
      " 18% (58320000.0 of 315360000.0) |#      | Elapsed Time: 4:36:31 ETA:  19:55:32"
     ]
    },
    {
     "name": "stderr",
     "output_type": "stream",
     "text": [
      "\r",
      " 18% (58752000.0 of 315360000.0) |#      | Elapsed Time: 4:38:33 ETA:  20:02:33"
     ]
    },
    {
     "name": "stderr",
     "output_type": "stream",
     "text": [
      "\r",
      " 18% (59184000.0 of 315360000.0) |#      | Elapsed Time: 4:40:34 ETA:  20:01:02"
     ]
    },
    {
     "name": "stderr",
     "output_type": "stream",
     "text": [
      "\r",
      " 18% (59616000.0 of 315360000.0) |#      | Elapsed Time: 4:42:35 ETA:  19:53:28"
     ]
    },
    {
     "name": "stderr",
     "output_type": "stream",
     "text": [
      "\r",
      " 19% (60048000.0 of 315360000.0) |#      | Elapsed Time: 4:44:36 ETA:  19:53:58"
     ]
    },
    {
     "name": "stderr",
     "output_type": "stream",
     "text": [
      "\r",
      " 19% (60480000.0 of 315360000.0) |#      | Elapsed Time: 4:46:37 ETA:  19:44:29"
     ]
    },
    {
     "name": "stderr",
     "output_type": "stream",
     "text": [
      "\r",
      " 19% (60912000.0 of 315360000.0) |#      | Elapsed Time: 4:48:38 ETA:  19:48:57"
     ]
    },
    {
     "name": "stderr",
     "output_type": "stream",
     "text": [
      "\r",
      " 19% (61344000.0 of 315360000.0) |#      | Elapsed Time: 4:50:38 ETA:  19:39:25"
     ]
    },
    {
     "name": "stderr",
     "output_type": "stream",
     "text": [
      "\r",
      " 19% (61776000.0 of 315360000.0) |#      | Elapsed Time: 4:52:39 ETA:  19:37:51"
     ]
    },
    {
     "name": "stderr",
     "output_type": "stream",
     "text": [
      "\r",
      " 19% (62208000.0 of 315360000.0) |#      | Elapsed Time: 4:54:40 ETA:  19:39:40"
     ]
    },
    {
     "name": "stderr",
     "output_type": "stream",
     "text": [
      "\r",
      " 19% (62640000.0 of 315360000.0) |#      | Elapsed Time: 4:56:40 ETA:  19:35:09"
     ]
    },
    {
     "name": "stderr",
     "output_type": "stream",
     "text": [
      "\r",
      " 20% (63072000.0 of 315360000.0) |#      | Elapsed Time: 4:58:40 ETA:  19:28:26"
     ]
    },
    {
     "name": "stderr",
     "output_type": "stream",
     "text": [
      "\r",
      " 20% (63504000.0 of 315360000.0) |#      | Elapsed Time: 5:00:40 ETA:  19:27:37"
     ]
    },
    {
     "name": "stderr",
     "output_type": "stream",
     "text": [
      "\r",
      " 20% (63936000.0 of 315360000.0) |#      | Elapsed Time: 5:02:41 ETA:  19:26:21"
     ]
    },
    {
     "name": "stderr",
     "output_type": "stream",
     "text": [
      "\r",
      " 20% (64368000.0 of 315360000.0) |#      | Elapsed Time: 5:04:41 ETA:  19:24:11"
     ]
    },
    {
     "name": "stderr",
     "output_type": "stream",
     "text": [
      "\r",
      " 20% (64800000.0 of 315360000.0) |#      | Elapsed Time: 5:06:41 ETA:  19:18:16"
     ]
    },
    {
     "name": "stderr",
     "output_type": "stream",
     "text": [
      "\r",
      " 20% (65232000.0 of 315360000.0) |#      | Elapsed Time: 5:08:41 ETA:  19:21:07"
     ]
    },
    {
     "name": "stderr",
     "output_type": "stream",
     "text": [
      "\r",
      " 20% (65664000.0 of 315360000.0) |#      | Elapsed Time: 5:10:41 ETA:  19:19:17"
     ]
    },
    {
     "name": "stderr",
     "output_type": "stream",
     "text": [
      "\r",
      " 20% (66096000.0 of 315360000.0) |#      | Elapsed Time: 5:12:41 ETA:  19:10:12"
     ]
    },
    {
     "name": "stderr",
     "output_type": "stream",
     "text": [
      "\r",
      " 21% (66528000.0 of 315360000.0) |#      | Elapsed Time: 5:14:40 ETA:  19:04:37"
     ]
    },
    {
     "name": "stderr",
     "output_type": "stream",
     "text": [
      "\r",
      " 21% (66960000.0 of 315360000.0) |#      | Elapsed Time: 5:16:40 ETA:  19:04:32"
     ]
    },
    {
     "name": "stderr",
     "output_type": "stream",
     "text": [
      "\r",
      " 21% (67392000.0 of 315360000.0) |#      | Elapsed Time: 5:18:40 ETA:  19:11:28"
     ]
    },
    {
     "name": "stderr",
     "output_type": "stream",
     "text": [
      "\r",
      " 21% (67824000.0 of 315360000.0) |#      | Elapsed Time: 5:20:40 ETA:  19:02:02"
     ]
    },
    {
     "name": "stderr",
     "output_type": "stream",
     "text": [
      "\r",
      " 21% (68256000.0 of 315360000.0) |#      | Elapsed Time: 5:22:39 ETA:  19:02:40"
     ]
    },
    {
     "name": "stderr",
     "output_type": "stream",
     "text": [
      "\r",
      " 21% (68688000.0 of 315360000.0) |#      | Elapsed Time: 5:24:39 ETA:  18:54:11"
     ]
    },
    {
     "name": "stderr",
     "output_type": "stream",
     "text": [
      "\r",
      " 21% (69120000.0 of 315360000.0) |#      | Elapsed Time: 5:26:38 ETA:  18:54:30"
     ]
    },
    {
     "name": "stderr",
     "output_type": "stream",
     "text": [
      "\r",
      " 22% (69552000.0 of 315360000.0) |#      | Elapsed Time: 5:28:37 ETA:  18:52:55"
     ]
    },
    {
     "name": "stderr",
     "output_type": "stream",
     "text": [
      "\r",
      " 22% (69984000.0 of 315360000.0) |#      | Elapsed Time: 5:30:37 ETA:  18:54:55"
     ]
    },
    {
     "name": "stderr",
     "output_type": "stream",
     "text": [
      "\r",
      " 22% (70416000.0 of 315360000.0) |#      | Elapsed Time: 5:32:37 ETA:  18:46:59"
     ]
    },
    {
     "name": "stderr",
     "output_type": "stream",
     "text": [
      "\r",
      " 22% (70848000.0 of 315360000.0) |#      | Elapsed Time: 5:34:36 ETA:  18:42:20"
     ]
    },
    {
     "name": "stderr",
     "output_type": "stream",
     "text": [
      "\r",
      " 22% (71280000.0 of 315360000.0) |#      | Elapsed Time: 5:36:35 ETA:  18:41:11"
     ]
    },
    {
     "name": "stderr",
     "output_type": "stream",
     "text": [
      "\r",
      " 22% (71712000.0 of 315360000.0) |#      | Elapsed Time: 5:38:33 ETA:  18:34:47"
     ]
    },
    {
     "name": "stderr",
     "output_type": "stream",
     "text": [
      "\r",
      " 22% (72144000.0 of 315360000.0) |#      | Elapsed Time: 5:40:33 ETA:  18:42:36"
     ]
    },
    {
     "name": "stderr",
     "output_type": "stream",
     "text": [
      "\r",
      " 23% (72576000.0 of 315360000.0) |#      | Elapsed Time: 5:42:33 ETA:  18:41:07"
     ]
    },
    {
     "name": "stderr",
     "output_type": "stream",
     "text": [
      "\r",
      " 23% (73008000.0 of 315360000.0) |#      | Elapsed Time: 5:44:32 ETA:  18:33:35"
     ]
    },
    {
     "name": "stderr",
     "output_type": "stream",
     "text": [
      "\r",
      " 23% (73440000.0 of 315360000.0) |#      | Elapsed Time: 5:46:30 ETA:  18:28:11"
     ]
    },
    {
     "name": "stderr",
     "output_type": "stream",
     "text": [
      "\r",
      " 23% (73872000.0 of 315360000.0) |#      | Elapsed Time: 5:48:29 ETA:  18:23:39"
     ]
    },
    {
     "name": "stderr",
     "output_type": "stream",
     "text": [
      "\r",
      " 23% (74304000.0 of 315360000.0) |#      | Elapsed Time: 5:50:27 ETA:  18:19:09"
     ]
    },
    {
     "name": "stderr",
     "output_type": "stream",
     "text": [
      "\r",
      " 23% (74736000.0 of 315360000.0) |#      | Elapsed Time: 5:52:25 ETA:  18:18:08"
     ]
    },
    {
     "name": "stderr",
     "output_type": "stream",
     "text": [
      "\r",
      " 23% (75168000.0 of 315360000.0) |#      | Elapsed Time: 5:54:24 ETA:  18:23:06"
     ]
    },
    {
     "name": "stderr",
     "output_type": "stream",
     "text": [
      "\r",
      " 23% (75600000.0 of 315360000.0) |#      | Elapsed Time: 5:56:23 ETA:  18:16:00"
     ]
    },
    {
     "name": "stderr",
     "output_type": "stream",
     "text": [
      "\r",
      " 24% (76032000.0 of 315360000.0) |#      | Elapsed Time: 5:58:21 ETA:  18:08:28"
     ]
    },
    {
     "name": "stderr",
     "output_type": "stream",
     "text": [
      "\r",
      " 24% (76464000.0 of 315360000.0) |#      | Elapsed Time: 6:00:20 ETA:  18:17:07"
     ]
    },
    {
     "name": "stderr",
     "output_type": "stream",
     "text": [
      "\r",
      " 24% (76896000.0 of 315360000.0) |#      | Elapsed Time: 6:02:18 ETA:  18:11:31"
     ]
    },
    {
     "name": "stderr",
     "output_type": "stream",
     "text": [
      "\r",
      " 24% (77328000.0 of 315360000.0) |#      | Elapsed Time: 6:04:16 ETA:  18:01:30"
     ]
    },
    {
     "name": "stderr",
     "output_type": "stream",
     "text": [
      "\r",
      " 24% (77760000.0 of 315360000.0) |#      | Elapsed Time: 6:06:14 ETA:  18:00:27"
     ]
    },
    {
     "name": "stderr",
     "output_type": "stream",
     "text": [
      "\r",
      " 24% (78192000.0 of 315360000.0) |#      | Elapsed Time: 6:08:13 ETA:  18:06:28"
     ]
    },
    {
     "name": "stderr",
     "output_type": "stream",
     "text": [
      "\r",
      " 24% (78624000.0 of 315360000.0) |#      | Elapsed Time: 6:10:10 ETA:  17:53:52"
     ]
    },
    {
     "name": "stderr",
     "output_type": "stream",
     "text": [
      "\r",
      " 25% (79056000.0 of 315360000.0) |#      | Elapsed Time: 6:12:09 ETA:  18:00:04"
     ]
    },
    {
     "name": "stderr",
     "output_type": "stream",
     "text": [
      "\r",
      " 25% (79488000.0 of 315360000.0) |#      | Elapsed Time: 6:14:06 ETA:  17:48:40"
     ]
    },
    {
     "name": "stderr",
     "output_type": "stream",
     "text": [
      "\r",
      " 25% (79920000.0 of 315360000.0) |#      | Elapsed Time: 6:16:05 ETA:  17:54:06"
     ]
    },
    {
     "name": "stderr",
     "output_type": "stream",
     "text": [
      "\r",
      " 25% (80352000.0 of 315360000.0) |#      | Elapsed Time: 6:18:03 ETA:  17:54:52"
     ]
    },
    {
     "name": "stderr",
     "output_type": "stream",
     "text": [
      "\r",
      " 25% (80784000.0 of 315360000.0) |#      | Elapsed Time: 6:20:01 ETA:  17:45:57"
     ]
    },
    {
     "name": "stderr",
     "output_type": "stream",
     "text": [
      "\r",
      " 25% (81216000.0 of 315360000.0) |#      | Elapsed Time: 6:21:59 ETA:  17:43:38"
     ]
    },
    {
     "name": "stderr",
     "output_type": "stream",
     "text": [
      "\r",
      " 25% (81648000.0 of 315360000.0) |#      | Elapsed Time: 6:23:56 ETA:  17:42:44"
     ]
    },
    {
     "name": "stderr",
     "output_type": "stream",
     "text": [
      "\r",
      " 26% (82080000.0 of 315360000.0) |#      | Elapsed Time: 6:25:54 ETA:  17:40:53"
     ]
    },
    {
     "name": "stderr",
     "output_type": "stream",
     "text": [
      "\r",
      " 26% (82512000.0 of 315360000.0) |#      | Elapsed Time: 6:27:52 ETA:  17:33:55"
     ]
    },
    {
     "name": "stderr",
     "output_type": "stream",
     "text": [
      "\r",
      " 26% (82944000.0 of 315360000.0) |#      | Elapsed Time: 6:29:48 ETA:  17:24:10"
     ]
    },
    {
     "name": "stderr",
     "output_type": "stream",
     "text": [
      "\r",
      " 26% (83376000.0 of 315360000.0) |#      | Elapsed Time: 6:31:45 ETA:  17:26:56"
     ]
    },
    {
     "name": "stderr",
     "output_type": "stream",
     "text": [
      "\r",
      " 26% (83808000.0 of 315360000.0) |#      | Elapsed Time: 6:33:42 ETA:  17:25:07"
     ]
    },
    {
     "name": "stderr",
     "output_type": "stream",
     "text": [
      "\r",
      " 26% (84240000.0 of 315360000.0) |#      | Elapsed Time: 6:35:40 ETA:  17:27:13"
     ]
    },
    {
     "name": "stderr",
     "output_type": "stream",
     "text": [
      "\r",
      " 26% (84672000.0 of 315360000.0) |#      | Elapsed Time: 6:37:37 ETA:  17:24:05"
     ]
    },
    {
     "name": "stderr",
     "output_type": "stream",
     "text": [
      "\r",
      " 26% (85104000.0 of 315360000.0) |#      | Elapsed Time: 6:39:34 ETA:  17:17:50"
     ]
    },
    {
     "name": "stderr",
     "output_type": "stream",
     "text": [
      "\r",
      " 27% (85536000.0 of 315360000.0) |#      | Elapsed Time: 6:41:30 ETA:  17:15:45"
     ]
    },
    {
     "name": "stderr",
     "output_type": "stream",
     "text": [
      "\r",
      " 27% (85968000.0 of 315360000.0) |#      | Elapsed Time: 6:43:28 ETA:  17:15:36"
     ]
    },
    {
     "name": "stderr",
     "output_type": "stream",
     "text": [
      "\r",
      " 27% (86400000.0 of 315360000.0) |#      | Elapsed Time: 6:45:24 ETA:  17:13:07"
     ]
    },
    {
     "name": "stderr",
     "output_type": "stream",
     "text": [
      "\r",
      " 27% (86832000.0 of 315360000.0) |#      | Elapsed Time: 6:47:21 ETA:  17:08:56"
     ]
    },
    {
     "name": "stderr",
     "output_type": "stream",
     "text": [
      "\r",
      " 27% (87264000.0 of 315360000.0) |#      | Elapsed Time: 6:49:17 ETA:  17:02:47"
     ]
    },
    {
     "name": "stderr",
     "output_type": "stream",
     "text": [
      "\r",
      " 27% (87696000.0 of 315360000.0) |#      | Elapsed Time: 6:51:14 ETA:  17:07:42"
     ]
    },
    {
     "name": "stderr",
     "output_type": "stream",
     "text": [
      "\r",
      " 27% (88128000.0 of 315360000.0) |#      | Elapsed Time: 6:53:11 ETA:  16:59:51"
     ]
    },
    {
     "name": "stderr",
     "output_type": "stream",
     "text": [
      "\r",
      " 28% (88560000.0 of 315360000.0) |#      | Elapsed Time: 6:55:08 ETA:  17:03:17"
     ]
    },
    {
     "name": "stderr",
     "output_type": "stream",
     "text": [
      "\r",
      " 28% (88992000.0 of 315360000.0) |#      | Elapsed Time: 6:57:04 ETA:  16:56:42"
     ]
    },
    {
     "name": "stderr",
     "output_type": "stream",
     "text": [
      "\r",
      " 28% (89424000.0 of 315360000.0) |#      | Elapsed Time: 6:59:01 ETA:  16:56:18"
     ]
    },
    {
     "name": "stderr",
     "output_type": "stream",
     "text": [
      "\r",
      " 28% (89856000.0 of 315360000.0) |#      | Elapsed Time: 7:00:57 ETA:  16:54:10"
     ]
    },
    {
     "name": "stderr",
     "output_type": "stream",
     "text": [
      "\r",
      " 28% (90288000.0 of 315360000.0) |##     | Elapsed Time: 7:02:54 ETA:  16:49:49"
     ]
    },
    {
     "name": "stderr",
     "output_type": "stream",
     "text": [
      "\r",
      " 28% (90720000.0 of 315360000.0) |##     | Elapsed Time: 7:04:50 ETA:  16:46:04"
     ]
    },
    {
     "name": "stderr",
     "output_type": "stream",
     "text": [
      "\r",
      " 28% (91152000.0 of 315360000.0) |##     | Elapsed Time: 7:06:46 ETA:  16:50:08"
     ]
    },
    {
     "name": "stderr",
     "output_type": "stream",
     "text": [
      "\r",
      " 29% (91584000.0 of 315360000.0) |##     | Elapsed Time: 7:08:42 ETA:  16:39:53"
     ]
    },
    {
     "name": "stderr",
     "output_type": "stream",
     "text": [
      "\r",
      " 29% (92016000.0 of 315360000.0) |##     | Elapsed Time: 7:10:38 ETA:  16:38:17"
     ]
    },
    {
     "name": "stderr",
     "output_type": "stream",
     "text": [
      "\r",
      " 29% (92448000.0 of 315360000.0) |##     | Elapsed Time: 7:12:34 ETA:  16:38:23"
     ]
    },
    {
     "name": "stderr",
     "output_type": "stream",
     "text": [
      "\r",
      " 29% (92880000.0 of 315360000.0) |##     | Elapsed Time: 7:14:30 ETA:  16:34:51"
     ]
    },
    {
     "name": "stderr",
     "output_type": "stream",
     "text": [
      "\r",
      " 29% (93312000.0 of 315360000.0) |##     | Elapsed Time: 7:16:26 ETA:  16:34:46"
     ]
    },
    {
     "name": "stderr",
     "output_type": "stream",
     "text": [
      "\r",
      " 29% (93744000.0 of 315360000.0) |##     | Elapsed Time: 7:18:22 ETA:  16:29:03"
     ]
    },
    {
     "name": "stderr",
     "output_type": "stream",
     "text": [
      "\r",
      " 29% (94176000.0 of 315360000.0) |##     | Elapsed Time: 7:20:17 ETA:  16:24:06"
     ]
    },
    {
     "name": "stderr",
     "output_type": "stream",
     "text": [
      "\r",
      " 30% (94608000.0 of 315360000.0) |##     | Elapsed Time: 7:22:12 ETA:  16:20:08"
     ]
    },
    {
     "name": "stderr",
     "output_type": "stream",
     "text": [
      "\r",
      " 30% (95040000.0 of 315360000.0) |##     | Elapsed Time: 7:24:08 ETA:  16:20:17"
     ]
    },
    {
     "name": "stderr",
     "output_type": "stream",
     "text": [
      "\r",
      " 30% (95472000.0 of 315360000.0) |##     | Elapsed Time: 7:26:02 ETA:  16:13:15"
     ]
    },
    {
     "name": "stderr",
     "output_type": "stream",
     "text": [
      "\r",
      " 30% (95904000.0 of 315360000.0) |##     | Elapsed Time: 7:27:58 ETA:  16:21:27"
     ]
    },
    {
     "name": "stderr",
     "output_type": "stream",
     "text": [
      "\r",
      " 30% (96336000.0 of 315360000.0) |##     | Elapsed Time: 7:29:54 ETA:  16:14:46"
     ]
    },
    {
     "name": "stderr",
     "output_type": "stream",
     "text": [
      "\r",
      " 30% (96768000.0 of 315360000.0) |##     | Elapsed Time: 7:31:49 ETA:  16:10:07"
     ]
    },
    {
     "name": "stderr",
     "output_type": "stream",
     "text": [
      "\r",
      " 30% (97200000.0 of 315360000.0) |##     | Elapsed Time: 7:33:43 ETA:  16:05:35"
     ]
    },
    {
     "name": "stderr",
     "output_type": "stream",
     "text": [
      "\r",
      " 30% (97632000.0 of 315360000.0) |##     | Elapsed Time: 7:35:38 ETA:  16:03:07"
     ]
    },
    {
     "name": "stderr",
     "output_type": "stream",
     "text": [
      "\r",
      " 31% (98064000.0 of 315360000.0) |##     | Elapsed Time: 7:37:33 ETA:  16:01:38"
     ]
    },
    {
     "name": "stderr",
     "output_type": "stream",
     "text": [
      "\r",
      " 31% (98496000.0 of 315360000.0) |##     | Elapsed Time: 7:39:27 ETA:  15:57:49"
     ]
    },
    {
     "name": "stderr",
     "output_type": "stream",
     "text": [
      "\r",
      " 31% (98928000.0 of 315360000.0) |##     | Elapsed Time: 7:41:23 ETA:  16:02:48"
     ]
    },
    {
     "name": "stderr",
     "output_type": "stream",
     "text": [
      "\r",
      " 31% (99360000.0 of 315360000.0) |##     | Elapsed Time: 7:43:17 ETA:  15:53:26"
     ]
    },
    {
     "name": "stderr",
     "output_type": "stream",
     "text": [
      "\r",
      " 31% (99792000.0 of 315360000.0) |##     | Elapsed Time: 7:45:11 ETA:  15:48:08"
     ]
    },
    {
     "name": "stderr",
     "output_type": "stream",
     "text": [
      "\r",
      " 31% (100224000.0 of 315360000.0) |#     | Elapsed Time: 7:47:05 ETA:  15:47:43"
     ]
    },
    {
     "name": "stderr",
     "output_type": "stream",
     "text": [
      "\r",
      " 31% (100656000.0 of 315360000.0) |#     | Elapsed Time: 7:48:59 ETA:  15:40:31"
     ]
    },
    {
     "name": "stderr",
     "output_type": "stream",
     "text": [
      "\r",
      " 32% (101088000.0 of 315360000.0) |#     | Elapsed Time: 7:50:53 ETA:  15:42:56"
     ]
    },
    {
     "name": "stderr",
     "output_type": "stream",
     "text": [
      "\r",
      " 32% (101520000.0 of 315360000.0) |#     | Elapsed Time: 7:52:47 ETA:  15:43:00"
     ]
    },
    {
     "name": "stderr",
     "output_type": "stream",
     "text": [
      "\r",
      " 32% (101952000.0 of 315360000.0) |#     | Elapsed Time: 7:54:41 ETA:  15:37:32"
     ]
    },
    {
     "name": "stderr",
     "output_type": "stream",
     "text": [
      "\r",
      " 32% (102384000.0 of 315360000.0) |#     | Elapsed Time: 7:56:35 ETA:  15:40:01"
     ]
    },
    {
     "name": "stderr",
     "output_type": "stream",
     "text": [
      "\r",
      " 32% (102816000.0 of 315360000.0) |#     | Elapsed Time: 7:58:29 ETA:  15:29:31"
     ]
    },
    {
     "name": "stderr",
     "output_type": "stream",
     "text": [
      "\r",
      " 32% (103248000.0 of 315360000.0) |#     | Elapsed Time: 8:00:22 ETA:  15:25:16"
     ]
    },
    {
     "name": "stderr",
     "output_type": "stream",
     "text": [
      "\r",
      " 32% (103680000.0 of 315360000.0) |#     | Elapsed Time: 8:02:15 ETA:  15:25:35"
     ]
    },
    {
     "name": "stderr",
     "output_type": "stream",
     "text": [
      "\r",
      " 33% (104112000.0 of 315360000.0) |#     | Elapsed Time: 8:04:09 ETA:  15:27:20"
     ]
    },
    {
     "name": "stderr",
     "output_type": "stream",
     "text": [
      "\r",
      " 33% (104544000.0 of 315360000.0) |#     | Elapsed Time: 8:06:02 ETA:  15:20:24"
     ]
    },
    {
     "name": "stderr",
     "output_type": "stream",
     "text": [
      "\r",
      " 33% (104976000.0 of 315360000.0) |#     | Elapsed Time: 8:07:55 ETA:  15:20:07"
     ]
    },
    {
     "name": "stderr",
     "output_type": "stream",
     "text": [
      "\r",
      " 33% (105408000.0 of 315360000.0) |##    | Elapsed Time: 8:09:49 ETA:  15:16:54"
     ]
    },
    {
     "name": "stderr",
     "output_type": "stream",
     "text": [
      "\r",
      " 33% (105840000.0 of 315360000.0) |##    | Elapsed Time: 8:11:42 ETA:  15:13:30"
     ]
    },
    {
     "name": "stderr",
     "output_type": "stream",
     "text": [
      "\r",
      " 33% (106272000.0 of 315360000.0) |##    | Elapsed Time: 8:13:35 ETA:  15:16:22"
     ]
    },
    {
     "name": "stderr",
     "output_type": "stream",
     "text": [
      "\r",
      " 33% (106704000.0 of 315360000.0) |##    | Elapsed Time: 8:15:28 ETA:  15:08:27"
     ]
    },
    {
     "name": "stderr",
     "output_type": "stream",
     "text": [
      "\r",
      " 33% (107136000.0 of 315360000.0) |##    | Elapsed Time: 8:17:21 ETA:  15:06:15"
     ]
    },
    {
     "name": "stderr",
     "output_type": "stream",
     "text": [
      "\r",
      " 34% (107568000.0 of 315360000.0) |##    | Elapsed Time: 8:19:14 ETA:  15:08:41"
     ]
    },
    {
     "name": "stderr",
     "output_type": "stream",
     "text": [
      "\r",
      " 34% (108000000.0 of 315360000.0) |##    | Elapsed Time: 8:21:07 ETA:  15:04:47"
     ]
    },
    {
     "name": "stderr",
     "output_type": "stream",
     "text": [
      "\r",
      " 34% (108432000.0 of 315360000.0) |##    | Elapsed Time: 8:23:00 ETA:  14:55:30"
     ]
    },
    {
     "name": "stderr",
     "output_type": "stream",
     "text": [
      "\r",
      " 34% (108864000.0 of 315360000.0) |##    | Elapsed Time: 8:24:52 ETA:  14:57:17"
     ]
    },
    {
     "name": "stderr",
     "output_type": "stream",
     "text": [
      "\r",
      " 34% (109296000.0 of 315360000.0) |##    | Elapsed Time: 8:26:45 ETA:  14:58:29"
     ]
    },
    {
     "name": "stderr",
     "output_type": "stream",
     "text": [
      "\r",
      " 34% (109728000.0 of 315360000.0) |##    | Elapsed Time: 8:28:39 ETA:  15:00:03"
     ]
    },
    {
     "name": "stderr",
     "output_type": "stream",
     "text": [
      "\r",
      " 34% (110160000.0 of 315360000.0) |##    | Elapsed Time: 8:30:31 ETA:  14:48:14"
     ]
    },
    {
     "name": "stderr",
     "output_type": "stream",
     "text": [
      "\r",
      " 35% (110592000.0 of 315360000.0) |##    | Elapsed Time: 8:32:24 ETA:  14:50:51"
     ]
    },
    {
     "name": "stderr",
     "output_type": "stream",
     "text": [
      "\r",
      " 35% (111024000.0 of 315360000.0) |##    | Elapsed Time: 8:34:16 ETA:  14:43:50"
     ]
    },
    {
     "name": "stderr",
     "output_type": "stream",
     "text": [
      "\r",
      " 35% (111456000.0 of 315360000.0) |##    | Elapsed Time: 8:36:08 ETA:  14:41:56"
     ]
    },
    {
     "name": "stderr",
     "output_type": "stream",
     "text": [
      "\r",
      " 35% (111888000.0 of 315360000.0) |##    | Elapsed Time: 8:38:00 ETA:  14:44:33"
     ]
    },
    {
     "name": "stderr",
     "output_type": "stream",
     "text": [
      "\r",
      " 35% (112320000.0 of 315360000.0) |##    | Elapsed Time: 8:39:52 ETA:  14:36:30"
     ]
    },
    {
     "name": "stderr",
     "output_type": "stream",
     "text": [
      "\r",
      " 35% (112752000.0 of 315360000.0) |##    | Elapsed Time: 8:41:44 ETA:  14:34:45"
     ]
    },
    {
     "name": "stderr",
     "output_type": "stream",
     "text": [
      "\r",
      " 35% (113184000.0 of 315360000.0) |##    | Elapsed Time: 8:43:37 ETA:  14:36:23"
     ]
    },
    {
     "name": "stderr",
     "output_type": "stream",
     "text": [
      "\r",
      " 36% (113616000.0 of 315360000.0) |##    | Elapsed Time: 8:45:28 ETA:  14:28:10"
     ]
    },
    {
     "name": "stderr",
     "output_type": "stream",
     "text": [
      "\r",
      " 36% (114048000.0 of 315360000.0) |##    | Elapsed Time: 8:47:20 ETA:  14:27:00"
     ]
    },
    {
     "name": "stderr",
     "output_type": "stream",
     "text": [
      "\r",
      " 36% (114480000.0 of 315360000.0) |##    | Elapsed Time: 8:48:48 ETA:  11:24:06"
     ]
    },
    {
     "name": "stderr",
     "output_type": "stream",
     "text": [
      "\r",
      " 36% (114523200.0 of 315360000.0) || Elapsed Time: 8:49:24 ETA:  1 day, 22:15:10"
     ]
    },
    {
     "name": "stderr",
     "output_type": "stream",
     "text": [
      "\r",
      " 36% (114912000.0 of 315360000.0) |##    | Elapsed Time: 8:50:44 ETA:  11:25:49"
     ]
    },
    {
     "name": "stderr",
     "output_type": "stream",
     "text": [
      "\r",
      " 36% (114998400.0 of 315360000.0) || Elapsed Time: 8:51:28 ETA:  1 day, 4:39:51"
     ]
    },
    {
     "name": "stderr",
     "output_type": "stream",
     "text": [
      "\r",
      " 36% (115344000.0 of 315360000.0) |##    | Elapsed Time: 8:52:39 ETA:  11:26:37"
     ]
    },
    {
     "name": "stderr",
     "output_type": "stream",
     "text": [
      "\r",
      " 36% (115430400.0 of 315360000.0) || Elapsed Time: 8:53:24 ETA:  1 day, 4:54:11"
     ]
    },
    {
     "name": "stderr",
     "output_type": "stream",
     "text": [
      "\r",
      " 36% (115776000.0 of 315360000.0) |##    | Elapsed Time: 8:54:36 ETA:  11:25:33"
     ]
    },
    {
     "name": "stderr",
     "output_type": "stream",
     "text": [
      "\r",
      " 36% (115862400.0 of 315360000.0) || Elapsed Time: 8:55:20 ETA:  1 day, 4:24:41"
     ]
    },
    {
     "name": "stderr",
     "output_type": "stream",
     "text": [
      "\r",
      " 36% (116208000.0 of 315360000.0) |##    | Elapsed Time: 8:56:32 ETA:  11:30:46"
     ]
    },
    {
     "name": "stderr",
     "output_type": "stream",
     "text": [
      "\r",
      " 36% (116294400.0 of 315360000.0) || Elapsed Time: 8:57:16 ETA:  1 day, 4:17:39"
     ]
    },
    {
     "name": "stderr",
     "output_type": "stream",
     "text": [
      "\r",
      " 36% (116640000.0 of 315360000.0) |##    | Elapsed Time: 8:58:28 ETA:  11:25:20"
     ]
    },
    {
     "name": "stderr",
     "output_type": "stream",
     "text": [
      "\r",
      " 37% (116726400.0 of 315360000.0) || Elapsed Time: 8:59:12 ETA:  1 day, 4:18:30"
     ]
    },
    {
     "name": "stderr",
     "output_type": "stream",
     "text": [
      "\r",
      " 37% (117072000.0 of 315360000.0) |##    | Elapsed Time: 9:00:23 ETA:  11:20:58"
     ]
    },
    {
     "name": "stderr",
     "output_type": "stream",
     "text": [
      "\r",
      " 37% (117158400.0 of 315360000.0) || Elapsed Time: 9:01:08 ETA:  1 day, 4:25:08"
     ]
    },
    {
     "name": "stderr",
     "output_type": "stream",
     "text": [
      "\r",
      " 37% (117504000.0 of 315360000.0) |##    | Elapsed Time: 9:02:19 ETA:  11:19:33"
     ]
    },
    {
     "name": "stderr",
     "output_type": "stream",
     "text": [
      "\r",
      " 37% (117590400.0 of 315360000.0) || Elapsed Time: 9:03:03 ETA:  1 day, 4:18:51"
     ]
    },
    {
     "name": "stderr",
     "output_type": "stream",
     "text": [
      "\r",
      " 37% (117936000.0 of 315360000.0) |##    | Elapsed Time: 9:04:15 ETA:  11:16:26"
     ]
    },
    {
     "name": "stderr",
     "output_type": "stream",
     "text": [
      "\r",
      " 37% (118022400.0 of 315360000.0) || Elapsed Time: 9:04:59 ETA:  1 day, 4:21:31"
     ]
    },
    {
     "name": "stderr",
     "output_type": "stream",
     "text": [
      "\r",
      " 37% (118368000.0 of 315360000.0) |##    | Elapsed Time: 9:06:10 ETA:  11:13:48"
     ]
    },
    {
     "name": "stderr",
     "output_type": "stream",
     "text": [
      "\r",
      " 37% (118454400.0 of 315360000.0) || Elapsed Time: 9:06:55 ETA:  1 day, 4:06:46"
     ]
    },
    {
     "name": "stderr",
     "output_type": "stream",
     "text": [
      "\r",
      " 37% (118800000.0 of 315360000.0) |##    | Elapsed Time: 9:08:05 ETA:  11:11:53"
     ]
    },
    {
     "name": "stderr",
     "output_type": "stream",
     "text": [
      "\r",
      " 37% (118886400.0 of 315360000.0) || Elapsed Time: 9:08:50 ETA:  1 day, 3:56:38"
     ]
    },
    {
     "name": "stderr",
     "output_type": "stream",
     "text": [
      "\r",
      " 37% (119232000.0 of 315360000.0) |##    | Elapsed Time: 9:10:01 ETA:  11:11:21"
     ]
    },
    {
     "name": "stderr",
     "output_type": "stream",
     "text": [
      "\r",
      " 37% (119318400.0 of 315360000.0) || Elapsed Time: 9:10:46 ETA:  1 day, 4:21:49"
     ]
    },
    {
     "name": "stderr",
     "output_type": "stream",
     "text": [
      "\r",
      " 37% (119664000.0 of 315360000.0) |##    | Elapsed Time: 9:11:58 ETA:  11:24:28"
     ]
    },
    {
     "name": "stderr",
     "output_type": "stream",
     "text": [
      "\r",
      " 37% (119750400.0 of 315360000.0) || Elapsed Time: 9:12:42 ETA:  1 day, 3:37:29"
     ]
    },
    {
     "name": "stderr",
     "output_type": "stream",
     "text": [
      "\r",
      " 38% (120096000.0 of 315360000.0) |##    | Elapsed Time: 9:13:53 ETA:  11:04:41"
     ]
    },
    {
     "name": "stderr",
     "output_type": "stream",
     "text": [
      "\r",
      " 38% (120182400.0 of 315360000.0) || Elapsed Time: 9:14:38 ETA:  1 day, 4:12:17"
     ]
    },
    {
     "name": "stderr",
     "output_type": "stream",
     "text": [
      "\r",
      " 38% (120528000.0 of 315360000.0) |##    | Elapsed Time: 9:15:48 ETA:  11:03:16"
     ]
    },
    {
     "name": "stderr",
     "output_type": "stream",
     "text": [
      "\r",
      " 38% (120614400.0 of 315360000.0) || Elapsed Time: 9:16:33 ETA:  1 day, 4:12:08"
     ]
    },
    {
     "name": "stderr",
     "output_type": "stream",
     "text": [
      "\r",
      " 38% (120960000.0 of 315360000.0) |##    | Elapsed Time: 9:17:44 ETA:  11:03:13"
     ]
    },
    {
     "name": "stderr",
     "output_type": "stream",
     "text": [
      "\r",
      " 38% (121046400.0 of 315360000.0) || Elapsed Time: 9:18:28 ETA:  1 day, 3:45:00"
     ]
    },
    {
     "name": "stderr",
     "output_type": "stream",
     "text": [
      "\r",
      " 38% (121392000.0 of 315360000.0) |##    | Elapsed Time: 9:19:39 ETA:  10:59:23"
     ]
    },
    {
     "name": "stderr",
     "output_type": "stream",
     "text": [
      "\r",
      " 38% (121478400.0 of 315360000.0) || Elapsed Time: 9:20:24 ETA:  1 day, 3:58:10"
     ]
    },
    {
     "name": "stderr",
     "output_type": "stream",
     "text": [
      "\r",
      " 38% (121824000.0 of 315360000.0) |##    | Elapsed Time: 9:21:34 ETA:  10:58:04"
     ]
    },
    {
     "name": "stderr",
     "output_type": "stream",
     "text": [
      "\r",
      " 38% (121910400.0 of 315360000.0) || Elapsed Time: 9:22:19 ETA:  1 day, 3:44:33"
     ]
    },
    {
     "name": "stderr",
     "output_type": "stream",
     "text": [
      "\r",
      " 38% (122256000.0 of 315360000.0) |##    | Elapsed Time: 9:23:30 ETA:  11:00:57"
     ]
    },
    {
     "name": "stderr",
     "output_type": "stream",
     "text": [
      "\r",
      " 38% (122342400.0 of 315360000.0) || Elapsed Time: 9:24:14 ETA:  1 day, 3:21:21"
     ]
    },
    {
     "name": "stderr",
     "output_type": "stream",
     "text": [
      "\r",
      " 38% (122688000.0 of 315360000.0) |##    | Elapsed Time: 9:25:25 ETA:  11:00:32"
     ]
    },
    {
     "name": "stderr",
     "output_type": "stream",
     "text": [
      "\r",
      " 38% (122774400.0 of 315360000.0) || Elapsed Time: 9:26:09 ETA:  1 day, 3:24:22"
     ]
    },
    {
     "name": "stderr",
     "output_type": "stream",
     "text": [
      "\r",
      " 39% (123120000.0 of 315360000.0) |##    | Elapsed Time: 9:27:20 ETA:  10:56:03"
     ]
    },
    {
     "name": "stderr",
     "output_type": "stream",
     "text": [
      "\r",
      " 39% (123206400.0 of 315360000.0) || Elapsed Time: 9:28:04 ETA:  1 day, 3:25:14"
     ]
    },
    {
     "name": "stderr",
     "output_type": "stream",
     "text": [
      "\r",
      " 39% (123552000.0 of 315360000.0) |##    | Elapsed Time: 9:29:15 ETA:  10:48:26"
     ]
    },
    {
     "name": "stderr",
     "output_type": "stream",
     "text": [
      "\r",
      " 39% (123638400.0 of 315360000.0) || Elapsed Time: 9:29:59 ETA:  1 day, 3:07:40"
     ]
    },
    {
     "name": "stderr",
     "output_type": "stream",
     "text": [
      "\r",
      " 39% (123984000.0 of 315360000.0) |##    | Elapsed Time: 9:31:09 ETA:  10:46:48"
     ]
    },
    {
     "name": "stderr",
     "output_type": "stream",
     "text": [
      "\r",
      " 39% (124070400.0 of 315360000.0) || Elapsed Time: 9:31:53 ETA:  1 day, 3:12:23"
     ]
    },
    {
     "name": "stderr",
     "output_type": "stream",
     "text": [
      "\r",
      " 39% (124416000.0 of 315360000.0) |##    | Elapsed Time: 9:33:03 ETA:  10:47:35"
     ]
    },
    {
     "name": "stderr",
     "output_type": "stream",
     "text": [
      "\r",
      " 39% (124502400.0 of 315360000.0) || Elapsed Time: 9:33:48 ETA:  1 day, 3:28:23"
     ]
    },
    {
     "name": "stderr",
     "output_type": "stream",
     "text": [
      "\r",
      " 39% (124848000.0 of 315360000.0) |##    | Elapsed Time: 9:34:58 ETA:  10:44:32"
     ]
    },
    {
     "name": "stderr",
     "output_type": "stream",
     "text": [
      "\r",
      " 39% (124934400.0 of 315360000.0) || Elapsed Time: 9:35:42 ETA:  1 day, 2:53:15"
     ]
    },
    {
     "name": "stderr",
     "output_type": "stream",
     "text": [
      "\r",
      " 39% (125280000.0 of 315360000.0) |##    | Elapsed Time: 9:36:52 ETA:  10:42:13"
     ]
    },
    {
     "name": "stderr",
     "output_type": "stream",
     "text": [
      "\r",
      " 39% (125366400.0 of 315360000.0) || Elapsed Time: 9:37:36 ETA:  1 day, 3:03:00"
     ]
    },
    {
     "name": "stderr",
     "output_type": "stream",
     "text": [
      "\r",
      " 39% (125712000.0 of 315360000.0) |##    | Elapsed Time: 9:38:47 ETA:  10:41:49"
     ]
    },
    {
     "name": "stderr",
     "output_type": "stream",
     "text": [
      "\r",
      " 39% (125798400.0 of 315360000.0) || Elapsed Time: 9:39:30 ETA:  1 day, 2:31:29"
     ]
    },
    {
     "name": "stderr",
     "output_type": "stream",
     "text": [
      "\r",
      " 40% (126144000.0 of 315360000.0) |##    | Elapsed Time: 9:40:40 ETA:  10:41:45"
     ]
    },
    {
     "name": "stderr",
     "output_type": "stream",
     "text": [
      "\r",
      " 40% (126230400.0 of 315360000.0) || Elapsed Time: 9:41:24 ETA:  1 day, 2:34:43"
     ]
    },
    {
     "name": "stderr",
     "output_type": "stream",
     "text": [
      "\r",
      " 40% (126576000.0 of 315360000.0) |##    | Elapsed Time: 9:42:34 ETA:  10:34:38"
     ]
    },
    {
     "name": "stderr",
     "output_type": "stream",
     "text": [
      "\r",
      " 40% (126662400.0 of 315360000.0) || Elapsed Time: 9:43:17 ETA:  1 day, 2:27:16"
     ]
    },
    {
     "name": "stderr",
     "output_type": "stream",
     "text": [
      "\r",
      " 40% (127008000.0 of 315360000.0) |##    | Elapsed Time: 9:44:27 ETA:  10:34:27"
     ]
    },
    {
     "name": "stderr",
     "output_type": "stream",
     "text": [
      "\r",
      " 40% (127094400.0 of 315360000.0) || Elapsed Time: 9:45:11 ETA:  1 day, 2:17:04"
     ]
    },
    {
     "name": "stderr",
     "output_type": "stream",
     "text": [
      "\r",
      " 40% (127440000.0 of 315360000.0) |##    | Elapsed Time: 9:46:21 ETA:  10:33:32"
     ]
    },
    {
     "name": "stderr",
     "output_type": "stream",
     "text": [
      "\r",
      " 40% (127526400.0 of 315360000.0) || Elapsed Time: 9:47:05 ETA:  1 day, 2:41:11"
     ]
    },
    {
     "name": "stderr",
     "output_type": "stream",
     "text": [
      "\r",
      " 40% (127872000.0 of 315360000.0) |##    | Elapsed Time: 9:48:14 ETA:  10:29:43"
     ]
    },
    {
     "name": "stderr",
     "output_type": "stream",
     "text": [
      "\r",
      " 40% (127958400.0 of 315360000.0) || Elapsed Time: 9:48:58 ETA:  1 day, 2:27:12"
     ]
    },
    {
     "name": "stderr",
     "output_type": "stream",
     "text": [
      "\r",
      " 40% (128304000.0 of 315360000.0) |##    | Elapsed Time: 9:50:08 ETA:  10:28:31"
     ]
    },
    {
     "name": "stderr",
     "output_type": "stream",
     "text": [
      "\r",
      " 40% (128390400.0 of 315360000.0) || Elapsed Time: 9:50:52 ETA:  1 day, 2:35:46"
     ]
    },
    {
     "name": "stderr",
     "output_type": "stream",
     "text": [
      "\r",
      " 40% (128736000.0 of 315360000.0) |##    | Elapsed Time: 9:52:02 ETA:  10:27:46"
     ]
    },
    {
     "name": "stderr",
     "output_type": "stream",
     "text": [
      "\r",
      " 40% (128822400.0 of 315360000.0) || Elapsed Time: 9:52:46 ETA:  1 day, 2:20:26"
     ]
    },
    {
     "name": "stderr",
     "output_type": "stream",
     "text": [
      "\r",
      " 40% (129168000.0 of 315360000.0) |##    | Elapsed Time: 9:53:55 ETA:  10:21:00"
     ]
    },
    {
     "name": "stderr",
     "output_type": "stream",
     "text": [
      "\r",
      " 40% (129254400.0 of 315360000.0) || Elapsed Time: 9:54:39 ETA:  1 day, 2:13:05"
     ]
    },
    {
     "name": "stderr",
     "output_type": "stream",
     "text": [
      "\r",
      " 41% (129600000.0 of 315360000.0) |##    | Elapsed Time: 9:55:48 ETA:  10:21:14"
     ]
    },
    {
     "name": "stderr",
     "output_type": "stream",
     "text": [
      "\r",
      " 41% (129686400.0 of 315360000.0) || Elapsed Time: 9:56:32 ETA:  1 day, 2:00:33"
     ]
    },
    {
     "name": "stderr",
     "output_type": "stream",
     "text": [
      "\r",
      " 41% (130032000.0 of 315360000.0) |##    | Elapsed Time: 9:57:41 ETA:  10:20:45"
     ]
    },
    {
     "name": "stderr",
     "output_type": "stream",
     "text": [
      "\r",
      " 41% (130118400.0 of 315360000.0) || Elapsed Time: 9:58:25 ETA:  1 day, 2:02:55"
     ]
    },
    {
     "name": "stderr",
     "output_type": "stream",
     "text": [
      "\r",
      " 41% (130464000.0 of 315360000.0) |##    | Elapsed Time: 9:59:34 ETA:  10:16:34"
     ]
    },
    {
     "name": "stderr",
     "output_type": "stream",
     "text": [
      "\r",
      " 41% (130550400.0 of 315360000.0) || Elapsed Time: 10:00:18 ETA:  1 day, 1:44:54"
     ]
    },
    {
     "name": "stderr",
     "output_type": "stream",
     "text": [
      "\r",
      " 41% (130896000.0 of 315360000.0) |##   | Elapsed Time: 10:01:27 ETA:  10:14:18"
     ]
    },
    {
     "name": "stderr",
     "output_type": "stream",
     "text": [
      "\r",
      " 41% (130982400.0 of 315360000.0) || Elapsed Time: 10:02:10 ETA:  1 day, 1:58:37"
     ]
    },
    {
     "name": "stderr",
     "output_type": "stream",
     "text": [
      "\r",
      " 41% (131328000.0 of 315360000.0) |##   | Elapsed Time: 10:03:20 ETA:  10:13:06"
     ]
    },
    {
     "name": "stderr",
     "output_type": "stream",
     "text": [
      "\r",
      " 41% (131414400.0 of 315360000.0) || Elapsed Time: 10:04:03 ETA:  1 day, 1:57:58"
     ]
    },
    {
     "name": "stderr",
     "output_type": "stream",
     "text": [
      "\r",
      " 41% (131760000.0 of 315360000.0) |##   | Elapsed Time: 10:05:13 ETA:  10:11:42"
     ]
    },
    {
     "name": "stderr",
     "output_type": "stream",
     "text": [
      "\r",
      " 41% (131846400.0 of 315360000.0) || Elapsed Time: 10:05:56 ETA:  1 day, 1:49:49"
     ]
    },
    {
     "name": "stderr",
     "output_type": "stream",
     "text": [
      "\r",
      " 41% (132192000.0 of 315360000.0) |##   | Elapsed Time: 10:07:05 ETA:  10:06:35"
     ]
    },
    {
     "name": "stderr",
     "output_type": "stream",
     "text": [
      "\r",
      " 41% (132278400.0 of 315360000.0) || Elapsed Time: 10:07:48 ETA:  1 day, 1:29:14"
     ]
    },
    {
     "name": "stderr",
     "output_type": "stream",
     "text": [
      "\r",
      " 42% (132624000.0 of 315360000.0) |##   | Elapsed Time: 10:08:57 ETA:  10:06:07"
     ]
    },
    {
     "name": "stderr",
     "output_type": "stream",
     "text": [
      "\r",
      " 42% (132710400.0 of 315360000.0) || Elapsed Time: 10:09:41 ETA:  1 day, 1:46:33"
     ]
    },
    {
     "name": "stderr",
     "output_type": "stream",
     "text": [
      "\r",
      " 42% (133056000.0 of 315360000.0) |##   | Elapsed Time: 10:10:50 ETA:  10:07:00"
     ]
    },
    {
     "name": "stderr",
     "output_type": "stream",
     "text": [
      "\r",
      " 42% (133142400.0 of 315360000.0) || Elapsed Time: 10:11:34 ETA:  1 day, 1:53:24"
     ]
    },
    {
     "name": "stderr",
     "output_type": "stream",
     "text": [
      "\r",
      " 42% (133488000.0 of 315360000.0) |##   | Elapsed Time: 10:12:43 ETA:  10:03:05"
     ]
    },
    {
     "name": "stderr",
     "output_type": "stream",
     "text": [
      "\r",
      " 42% (133574400.0 of 315360000.0) || Elapsed Time: 10:13:27 ETA:  1 day, 1:32:32"
     ]
    },
    {
     "name": "stderr",
     "output_type": "stream",
     "text": [
      "\r",
      " 42% (133920000.0 of 315360000.0) |##   | Elapsed Time: 10:14:35 ETA:   9:58:54"
     ]
    },
    {
     "name": "stderr",
     "output_type": "stream",
     "text": [
      "\r",
      " 42% (134006400.0 of 315360000.0) || Elapsed Time: 10:15:18 ETA:  1 day, 1:10:39"
     ]
    },
    {
     "name": "stderr",
     "output_type": "stream",
     "text": [
      "\r",
      " 42% (134352000.0 of 315360000.0) |##   | Elapsed Time: 10:16:27 ETA:   9:57:28"
     ]
    },
    {
     "name": "stderr",
     "output_type": "stream",
     "text": [
      "\r",
      " 42% (134438400.0 of 315360000.0) || Elapsed Time: 10:17:10 ETA:  1 day, 1:17:04"
     ]
    },
    {
     "name": "stderr",
     "output_type": "stream",
     "text": [
      "\r",
      " 42% (134784000.0 of 315360000.0) |##   | Elapsed Time: 10:18:19 ETA:   9:56:10"
     ]
    },
    {
     "name": "stderr",
     "output_type": "stream",
     "text": [
      "\r",
      " 42% (134870400.0 of 315360000.0) || Elapsed Time: 10:19:03 ETA:  1 day, 1:32:56"
     ]
    },
    {
     "name": "stderr",
     "output_type": "stream",
     "text": [
      "\r",
      " 42% (135216000.0 of 315360000.0) |##   | Elapsed Time: 10:20:11 ETA:   9:53:21"
     ]
    },
    {
     "name": "stderr",
     "output_type": "stream",
     "text": [
      "\r",
      " 42% (135302400.0 of 315360000.0) || Elapsed Time: 10:20:55 ETA:  1 day, 1:21:21"
     ]
    },
    {
     "name": "stderr",
     "output_type": "stream",
     "text": [
      "\r",
      " 43% (135648000.0 of 315360000.0) |##   | Elapsed Time: 10:22:03 ETA:   9:52:30"
     ]
    },
    {
     "name": "stderr",
     "output_type": "stream",
     "text": [
      "\r",
      " 43% (135734400.0 of 315360000.0) || Elapsed Time: 10:22:47 ETA:  1 day, 1:29:27"
     ]
    },
    {
     "name": "stderr",
     "output_type": "stream",
     "text": [
      "\r",
      " 43% (136080000.0 of 315360000.0) |##   | Elapsed Time: 10:23:56 ETA:   9:50:18"
     ]
    },
    {
     "name": "stderr",
     "output_type": "stream",
     "text": [
      "\r",
      " 43% (136166400.0 of 315360000.0) || Elapsed Time: 10:24:39 ETA:  1 day, 1:11:20"
     ]
    },
    {
     "name": "stderr",
     "output_type": "stream",
     "text": [
      "\r",
      " 43% (136512000.0 of 315360000.0) |##   | Elapsed Time: 10:25:48 ETA:   9:48:21"
     ]
    },
    {
     "name": "stderr",
     "output_type": "stream",
     "text": [
      "\r",
      " 43% (136598400.0 of 315360000.0) || Elapsed Time: 10:26:31 ETA:  1 day, 1:01:33"
     ]
    },
    {
     "name": "stderr",
     "output_type": "stream",
     "text": [
      "\r",
      " 43% (136944000.0 of 315360000.0) |##   | Elapsed Time: 10:27:39 ETA:   9:48:03"
     ]
    },
    {
     "name": "stderr",
     "output_type": "stream",
     "text": [
      "\r",
      " 43% (137030400.0 of 315360000.0) || Elapsed Time: 10:28:24 ETA:  1 day, 1:17:46"
     ]
    },
    {
     "name": "stderr",
     "output_type": "stream",
     "text": [
      "\r",
      " 43% (137376000.0 of 315360000.0) |##   | Elapsed Time: 10:29:31 ETA:   9:42:46"
     ]
    },
    {
     "name": "stderr",
     "output_type": "stream",
     "text": [
      "\r",
      " 43% (137462400.0 of 315360000.0) || Elapsed Time: 10:30:15 ETA:  1 day, 0:53:46"
     ]
    },
    {
     "name": "stderr",
     "output_type": "stream",
     "text": [
      "\r",
      " 43% (137808000.0 of 315360000.0) |##   | Elapsed Time: 10:31:23 ETA:   9:42:58"
     ]
    },
    {
     "name": "stderr",
     "output_type": "stream",
     "text": [
      "\r",
      " 43% (137894400.0 of 315360000.0) || Elapsed Time: 10:32:07 ETA:  1 day, 0:59:22"
     ]
    },
    {
     "name": "stderr",
     "output_type": "stream",
     "text": [
      "\r",
      " 43% (138240000.0 of 315360000.0) |##   | Elapsed Time: 10:33:15 ETA:   9:44:22"
     ]
    },
    {
     "name": "stderr",
     "output_type": "stream",
     "text": [
      "\r",
      " 43% (138326400.0 of 315360000.0) || Elapsed Time: 10:34:00 ETA:  1 day, 1:12:43"
     ]
    },
    {
     "name": "stderr",
     "output_type": "stream",
     "text": [
      "\r",
      " 43% (138672000.0 of 315360000.0) |##   | Elapsed Time: 10:35:08 ETA:   9:40:41"
     ]
    },
    {
     "name": "stderr",
     "output_type": "stream",
     "text": [
      "\r",
      " 44% (138758400.0 of 315360000.0) || Elapsed Time: 10:35:51 ETA:  1 day, 0:52:08"
     ]
    },
    {
     "name": "stderr",
     "output_type": "stream",
     "text": [
      "\r",
      " 44% (139104000.0 of 315360000.0) |##   | Elapsed Time: 10:37:00 ETA:   9:39:00"
     ]
    },
    {
     "name": "stderr",
     "output_type": "stream",
     "text": [
      "\r",
      " 44% (139190400.0 of 315360000.0) || Elapsed Time: 10:37:43 ETA:  1 day, 0:45:34"
     ]
    },
    {
     "name": "stderr",
     "output_type": "stream",
     "text": [
      "\r",
      " 44% (139536000.0 of 315360000.0) |##   | Elapsed Time: 10:38:51 ETA:   9:35:54"
     ]
    },
    {
     "name": "stderr",
     "output_type": "stream",
     "text": [
      "\r",
      " 44% (139622400.0 of 315360000.0) || Elapsed Time: 10:39:35 ETA:  1 day, 0:44:45"
     ]
    },
    {
     "name": "stderr",
     "output_type": "stream",
     "text": [
      "\r",
      " 44% (139968000.0 of 315360000.0) |##   | Elapsed Time: 10:40:43 ETA:   9:33:33"
     ]
    },
    {
     "name": "stderr",
     "output_type": "stream",
     "text": [
      "\r",
      " 44% (140054400.0 of 315360000.0) || Elapsed Time: 10:41:26 ETA:  1 day, 0:22:58"
     ]
    },
    {
     "name": "stderr",
     "output_type": "stream",
     "text": [
      "\r",
      " 44% (140400000.0 of 315360000.0) |##   | Elapsed Time: 10:42:34 ETA:   9:30:44"
     ]
    },
    {
     "name": "stderr",
     "output_type": "stream",
     "text": [
      "\r",
      " 44% (140486400.0 of 315360000.0) || Elapsed Time: 10:43:17 ETA:  1 day, 0:20:38"
     ]
    },
    {
     "name": "stderr",
     "output_type": "stream",
     "text": [
      "\r",
      " 44% (140832000.0 of 315360000.0) |##   | Elapsed Time: 10:44:25 ETA:   9:29:07"
     ]
    },
    {
     "name": "stderr",
     "output_type": "stream",
     "text": [
      "\r",
      " 44% (140918400.0 of 315360000.0) || Elapsed Time: 10:45:08 ETA:  1 day, 0:18:58"
     ]
    },
    {
     "name": "stderr",
     "output_type": "stream",
     "text": [
      "\r",
      " 44% (141264000.0 of 315360000.0) |##   | Elapsed Time: 10:46:16 ETA:   9:27:53"
     ]
    },
    {
     "name": "stderr",
     "output_type": "stream",
     "text": [
      "\r",
      " 44% (141350400.0 of 315360000.0) || Elapsed Time: 10:46:59 ETA:  1 day, 0:19:48"
     ]
    },
    {
     "name": "stderr",
     "output_type": "stream",
     "text": [
      "\r",
      " 44% (141696000.0 of 315360000.0) |##   | Elapsed Time: 10:48:07 ETA:   9:25:23"
     ]
    },
    {
     "name": "stderr",
     "output_type": "stream",
     "text": [
      "\r",
      " 44% (141782400.0 of 315360000.0) || Elapsed Time: 10:48:50 ETA:  1 day, 0:27:02"
     ]
    },
    {
     "name": "stderr",
     "output_type": "stream",
     "text": [
      "\r",
      " 45% (142128000.0 of 315360000.0) |##   | Elapsed Time: 10:49:58 ETA:   9:27:21"
     ]
    },
    {
     "name": "stderr",
     "output_type": "stream",
     "text": [
      "\r",
      " 45% (142214400.0 of 315360000.0) || Elapsed Time: 10:50:42 ETA:  1 day, 0:10:18"
     ]
    },
    {
     "name": "stderr",
     "output_type": "stream",
     "text": [
      "\r",
      " 45% (142560000.0 of 315360000.0) |##   | Elapsed Time: 10:51:49 ETA:   9:22:29"
     ]
    },
    {
     "name": "stderr",
     "output_type": "stream",
     "text": [
      "\r",
      " 45% (142646400.0 of 315360000.0) || Elapsed Time: 10:52:33 ETA:  1 day, 0:01:08"
     ]
    },
    {
     "name": "stderr",
     "output_type": "stream",
     "text": [
      "\r",
      " 45% (142992000.0 of 315360000.0) |##   | Elapsed Time: 10:53:41 ETA:   9:25:54"
     ]
    },
    {
     "name": "stderr",
     "output_type": "stream",
     "text": [
      "\r",
      " 45% (143078400.0 of 315360000.0) || Elapsed Time: 10:54:24 ETA:  1 day, 0:17:11"
     ]
    },
    {
     "name": "stderr",
     "output_type": "stream",
     "text": [
      "\r",
      " 45% (143424000.0 of 315360000.0) |##   | Elapsed Time: 10:55:32 ETA:   9:18:50"
     ]
    },
    {
     "name": "stderr",
     "output_type": "stream",
     "text": [
      "\r",
      " 45% (143510400.0 of 315360000.0) || Elapsed Time: 10:56:16 ETA:  1 day, 0:05:56"
     ]
    },
    {
     "name": "stderr",
     "output_type": "stream",
     "text": [
      "\r",
      " 45% (143856000.0 of 315360000.0) |##   | Elapsed Time: 10:57:23 ETA:   9:19:37"
     ]
    },
    {
     "name": "stderr",
     "output_type": "stream",
     "text": [
      "\r",
      " 45% (143942400.0 of 315360000.0) |##   | Elapsed Time: 10:58:06 ETA:  23:47:53"
     ]
    },
    {
     "name": "stderr",
     "output_type": "stream",
     "text": [
      "\r",
      " 45% (144288000.0 of 315360000.0) |##   | Elapsed Time: 10:59:14 ETA:   9:17:36"
     ]
    },
    {
     "name": "stderr",
     "output_type": "stream",
     "text": [
      "\r",
      " 45% (144374400.0 of 315360000.0) || Elapsed Time: 10:59:58 ETA:  1 day, 0:13:16"
     ]
    },
    {
     "name": "stderr",
     "output_type": "stream",
     "text": [
      "\r",
      " 45% (144720000.0 of 315360000.0) |##   | Elapsed Time: 11:01:06 ETA:   9:16:21"
     ]
    },
    {
     "name": "stderr",
     "output_type": "stream",
     "text": [
      "\r",
      " 45% (144806400.0 of 315360000.0) |##   | Elapsed Time: 11:01:49 ETA:  23:31:47"
     ]
    },
    {
     "name": "stderr",
     "output_type": "stream",
     "text": [
      "\r",
      " 46% (145152000.0 of 315360000.0) |##   | Elapsed Time: 11:02:56 ETA:   9:10:53"
     ]
    },
    {
     "name": "stderr",
     "output_type": "stream",
     "text": [
      "\r",
      " 46% (145238400.0 of 315360000.0) |##   | Elapsed Time: 11:03:39 ETA:  23:56:26"
     ]
    },
    {
     "name": "stderr",
     "output_type": "stream",
     "text": [
      "\r",
      " 46% (145584000.0 of 315360000.0) |##   | Elapsed Time: 11:04:47 ETA:   9:11:38"
     ]
    },
    {
     "name": "stderr",
     "output_type": "stream",
     "text": [
      "\r",
      " 46% (145670400.0 of 315360000.0) |##   | Elapsed Time: 11:05:30 ETA:  23:41:13"
     ]
    },
    {
     "name": "stderr",
     "output_type": "stream",
     "text": [
      "\r",
      " 46% (146016000.0 of 315360000.0) |##   | Elapsed Time: 11:06:37 ETA:   9:07:28"
     ]
    },
    {
     "name": "stderr",
     "output_type": "stream",
     "text": [
      "\r",
      " 46% (146102400.0 of 315360000.0) |##   | Elapsed Time: 11:07:21 ETA:  23:38:35"
     ]
    },
    {
     "name": "stderr",
     "output_type": "stream",
     "text": [
      "\r",
      " 46% (146448000.0 of 315360000.0) |##   | Elapsed Time: 11:08:28 ETA:   9:05:00"
     ]
    },
    {
     "name": "stderr",
     "output_type": "stream",
     "text": [
      "\r",
      " 46% (146534400.0 of 315360000.0) |##   | Elapsed Time: 11:09:11 ETA:  23:48:14"
     ]
    },
    {
     "name": "stderr",
     "output_type": "stream",
     "text": [
      "\r",
      " 46% (146880000.0 of 315360000.0) |##   | Elapsed Time: 11:10:18 ETA:   9:04:42"
     ]
    },
    {
     "name": "stderr",
     "output_type": "stream",
     "text": [
      "\r",
      " 46% (146966400.0 of 315360000.0) |##   | Elapsed Time: 11:11:02 ETA:  23:24:56"
     ]
    },
    {
     "name": "stderr",
     "output_type": "stream",
     "text": [
      "\r",
      " 46% (147312000.0 of 315360000.0) |##   | Elapsed Time: 11:12:09 ETA:   9:02:37"
     ]
    },
    {
     "name": "stderr",
     "output_type": "stream",
     "text": [
      "\r",
      " 46% (147398400.0 of 315360000.0) |##   | Elapsed Time: 11:12:52 ETA:  23:17:59"
     ]
    },
    {
     "name": "stderr",
     "output_type": "stream",
     "text": [
      "\r",
      " 46% (147744000.0 of 315360000.0) |##   | Elapsed Time: 11:13:59 ETA:   9:00:32"
     ]
    },
    {
     "name": "stderr",
     "output_type": "stream",
     "text": [
      "\r",
      " 46% (147830400.0 of 315360000.0) |##   | Elapsed Time: 11:14:42 ETA:  23:11:10"
     ]
    },
    {
     "name": "stderr",
     "output_type": "stream",
     "text": [
      "\r",
      " 46% (148176000.0 of 315360000.0) |##   | Elapsed Time: 11:15:49 ETA:   9:02:14"
     ]
    },
    {
     "name": "stderr",
     "output_type": "stream",
     "text": [
      "\r",
      " 47% (148262400.0 of 315360000.0) |##   | Elapsed Time: 11:16:32 ETA:  23:11:59"
     ]
    },
    {
     "name": "stderr",
     "output_type": "stream",
     "text": [
      "\r",
      " 47% (148608000.0 of 315360000.0) |##   | Elapsed Time: 11:17:39 ETA:   8:55:40"
     ]
    },
    {
     "name": "stderr",
     "output_type": "stream",
     "text": [
      "\r",
      " 47% (148694400.0 of 315360000.0) |##   | Elapsed Time: 11:18:23 ETA:  23:25:39"
     ]
    },
    {
     "name": "stderr",
     "output_type": "stream",
     "text": [
      "\r",
      " 47% (149040000.0 of 315360000.0) |##   | Elapsed Time: 11:19:30 ETA:   8:57:48"
     ]
    },
    {
     "name": "stderr",
     "output_type": "stream",
     "text": [
      "\r",
      " 47% (149126400.0 of 315360000.0) |##   | Elapsed Time: 11:20:13 ETA:  23:10:47"
     ]
    },
    {
     "name": "stderr",
     "output_type": "stream",
     "text": [
      "\r",
      " 47% (149472000.0 of 315360000.0) |##   | Elapsed Time: 11:21:20 ETA:   8:55:33"
     ]
    },
    {
     "name": "stderr",
     "output_type": "stream",
     "text": [
      "\r",
      " 47% (149558400.0 of 315360000.0) |##   | Elapsed Time: 11:22:03 ETA:  22:56:06"
     ]
    },
    {
     "name": "stderr",
     "output_type": "stream",
     "text": [
      "\r",
      " 47% (149904000.0 of 315360000.0) |##   | Elapsed Time: 11:23:10 ETA:   8:52:20"
     ]
    },
    {
     "name": "stderr",
     "output_type": "stream",
     "text": [
      "\r",
      " 47% (149990400.0 of 315360000.0) |##   | Elapsed Time: 11:23:53 ETA:  22:54:25"
     ]
    },
    {
     "name": "stderr",
     "output_type": "stream",
     "text": [
      "\r",
      " 47% (150336000.0 of 315360000.0) |##   | Elapsed Time: 11:24:59 ETA:   8:47:36"
     ]
    },
    {
     "name": "stderr",
     "output_type": "stream",
     "text": [
      "\r",
      " 47% (150422400.0 of 315360000.0) |##   | Elapsed Time: 11:25:43 ETA:  23:02:48"
     ]
    },
    {
     "name": "stderr",
     "output_type": "stream",
     "text": [
      "\r",
      " 47% (150768000.0 of 315360000.0) |##   | Elapsed Time: 11:26:49 ETA:   8:48:10"
     ]
    },
    {
     "name": "stderr",
     "output_type": "stream",
     "text": [
      "\r",
      " 47% (150854400.0 of 315360000.0) |##   | Elapsed Time: 11:27:33 ETA:  23:13:45"
     ]
    },
    {
     "name": "stderr",
     "output_type": "stream",
     "text": [
      "\r",
      " 47% (151200000.0 of 315360000.0) |##   | Elapsed Time: 11:28:40 ETA:   8:49:23"
     ]
    },
    {
     "name": "stderr",
     "output_type": "stream",
     "text": [
      "\r",
      " 47% (151286400.0 of 315360000.0) |##   | Elapsed Time: 11:29:23 ETA:  22:57:42"
     ]
    },
    {
     "name": "stderr",
     "output_type": "stream",
     "text": [
      "\r",
      " 48% (151632000.0 of 315360000.0) |##   | Elapsed Time: 11:30:30 ETA:   8:45:07"
     ]
    },
    {
     "name": "stderr",
     "output_type": "stream",
     "text": [
      "\r",
      " 48% (151718400.0 of 315360000.0) |##   | Elapsed Time: 11:31:13 ETA:  22:50:16"
     ]
    },
    {
     "name": "stderr",
     "output_type": "stream",
     "text": [
      "\r",
      " 48% (152064000.0 of 315360000.0) |##   | Elapsed Time: 11:32:20 ETA:   8:43:32"
     ]
    },
    {
     "name": "stderr",
     "output_type": "stream",
     "text": [
      "\r",
      " 48% (152150400.0 of 315360000.0) |##   | Elapsed Time: 11:33:03 ETA:  22:30:39"
     ]
    },
    {
     "name": "stderr",
     "output_type": "stream",
     "text": [
      "\r",
      " 48% (152496000.0 of 315360000.0) |##   | Elapsed Time: 11:34:09 ETA:   8:40:24"
     ]
    },
    {
     "name": "stderr",
     "output_type": "stream",
     "text": [
      "\r",
      " 48% (152582400.0 of 315360000.0) |##   | Elapsed Time: 11:34:52 ETA:  22:20:28"
     ]
    },
    {
     "name": "stderr",
     "output_type": "stream",
     "text": [
      "\r",
      " 48% (152928000.0 of 315360000.0) |##   | Elapsed Time: 11:35:58 ETA:   8:38:55"
     ]
    },
    {
     "name": "stderr",
     "output_type": "stream",
     "text": [
      "\r",
      " 48% (153014400.0 of 315360000.0) |##   | Elapsed Time: 11:36:41 ETA:  22:34:32"
     ]
    },
    {
     "name": "stderr",
     "output_type": "stream",
     "text": [
      "\r",
      " 48% (153360000.0 of 315360000.0) |##   | Elapsed Time: 11:37:48 ETA:   8:38:59"
     ]
    },
    {
     "name": "stderr",
     "output_type": "stream",
     "text": [
      "\r",
      " 48% (153446400.0 of 315360000.0) |##   | Elapsed Time: 11:38:31 ETA:  22:33:15"
     ]
    },
    {
     "name": "stderr",
     "output_type": "stream",
     "text": [
      "\r",
      " 48% (153792000.0 of 315360000.0) |##   | Elapsed Time: 11:39:38 ETA:   8:40:18"
     ]
    },
    {
     "name": "stderr",
     "output_type": "stream",
     "text": [
      "\r",
      " 48% (153878400.0 of 315360000.0) |##   | Elapsed Time: 11:40:20 ETA:  22:13:24"
     ]
    },
    {
     "name": "stderr",
     "output_type": "stream",
     "text": [
      "\r",
      " 48% (154224000.0 of 315360000.0) |##   | Elapsed Time: 11:41:27 ETA:   8:33:51"
     ]
    },
    {
     "name": "stderr",
     "output_type": "stream",
     "text": [
      "\r",
      " 48% (154310400.0 of 315360000.0) |##   | Elapsed Time: 11:42:10 ETA:  22:23:08"
     ]
    },
    {
     "name": "stderr",
     "output_type": "stream",
     "text": [
      "\r",
      " 49% (154656000.0 of 315360000.0) |##   | Elapsed Time: 11:43:16 ETA:   8:31:09"
     ]
    },
    {
     "name": "stderr",
     "output_type": "stream",
     "text": [
      "\r",
      " 49% (154742400.0 of 315360000.0) |##   | Elapsed Time: 11:43:59 ETA:  22:06:46"
     ]
    },
    {
     "name": "stderr",
     "output_type": "stream",
     "text": [
      "\r",
      " 49% (155088000.0 of 315360000.0) |##   | Elapsed Time: 11:45:05 ETA:   8:30:20"
     ]
    },
    {
     "name": "stderr",
     "output_type": "stream",
     "text": [
      "\r",
      " 49% (155174400.0 of 315360000.0) |##   | Elapsed Time: 11:45:48 ETA:  22:06:39"
     ]
    },
    {
     "name": "stderr",
     "output_type": "stream",
     "text": [
      "\r",
      " 49% (155520000.0 of 315360000.0) |##   | Elapsed Time: 11:46:53 ETA:   8:27:00"
     ]
    },
    {
     "name": "stderr",
     "output_type": "stream",
     "text": [
      "\r",
      " 49% (155606400.0 of 315360000.0) |##   | Elapsed Time: 11:47:36 ETA:  22:04:50"
     ]
    },
    {
     "name": "stderr",
     "output_type": "stream",
     "text": [
      "\r",
      " 49% (155952000.0 of 315360000.0) |##   | Elapsed Time: 11:48:43 ETA:   8:28:53"
     ]
    },
    {
     "name": "stderr",
     "output_type": "stream",
     "text": [
      "\r",
      " 49% (156038400.0 of 315360000.0) |##   | Elapsed Time: 11:49:26 ETA:  22:14:09"
     ]
    },
    {
     "name": "stderr",
     "output_type": "stream",
     "text": [
      "\r",
      " 49% (156384000.0 of 315360000.0) |##   | Elapsed Time: 11:50:32 ETA:   8:27:13"
     ]
    },
    {
     "name": "stderr",
     "output_type": "stream",
     "text": [
      "\r",
      " 49% (156470400.0 of 315360000.0) |##   | Elapsed Time: 11:51:15 ETA:  22:05:58"
     ]
    },
    {
     "name": "stderr",
     "output_type": "stream",
     "text": [
      "\r",
      " 49% (156816000.0 of 315360000.0) |##   | Elapsed Time: 11:52:22 ETA:   8:26:21"
     ]
    },
    {
     "name": "stderr",
     "output_type": "stream",
     "text": [
      "\r",
      " 49% (156902400.0 of 315360000.0) |##   | Elapsed Time: 11:53:04 ETA:  21:47:44"
     ]
    },
    {
     "name": "stderr",
     "output_type": "stream",
     "text": [
      "\r",
      " 49% (157248000.0 of 315360000.0) |##   | Elapsed Time: 11:54:10 ETA:   8:21:54"
     ]
    },
    {
     "name": "stderr",
     "output_type": "stream",
     "text": [
      "\r",
      " 49% (157334400.0 of 315360000.0) |##   | Elapsed Time: 11:54:53 ETA:  21:45:38"
     ]
    },
    {
     "name": "stderr",
     "output_type": "stream",
     "text": [
      "\r",
      " 50% (157680000.0 of 315360000.0) |##   | Elapsed Time: 11:55:59 ETA:   8:20:45"
     ]
    },
    {
     "name": "stderr",
     "output_type": "stream",
     "text": [
      "\r",
      " 50% (157766400.0 of 315360000.0) |##   | Elapsed Time: 11:56:42 ETA:  21:49:52"
     ]
    },
    {
     "name": "stderr",
     "output_type": "stream",
     "text": [
      "\r",
      " 50% (158112000.0 of 315360000.0) |##   | Elapsed Time: 11:57:48 ETA:   8:17:26"
     ]
    },
    {
     "name": "stderr",
     "output_type": "stream",
     "text": [
      "\r",
      " 50% (158198400.0 of 315360000.0) |##   | Elapsed Time: 11:58:30 ETA:  21:30:08"
     ]
    },
    {
     "name": "stderr",
     "output_type": "stream",
     "text": [
      "\r",
      " 50% (158544000.0 of 315360000.0) |##   | Elapsed Time: 11:59:37 ETA:   8:24:28"
     ]
    },
    {
     "name": "stderr",
     "output_type": "stream",
     "text": [
      "\r",
      " 50% (158630400.0 of 315360000.0) |##   | Elapsed Time: 12:00:19 ETA:  21:23:19"
     ]
    },
    {
     "name": "stderr",
     "output_type": "stream",
     "text": [
      "\r",
      " 50% (158976000.0 of 315360000.0) |##   | Elapsed Time: 12:01:25 ETA:   8:13:51"
     ]
    },
    {
     "name": "stderr",
     "output_type": "stream",
     "text": [
      "\r",
      " 50% (159062400.0 of 315360000.0) |##   | Elapsed Time: 12:02:08 ETA:  21:35:19"
     ]
    },
    {
     "name": "stderr",
     "output_type": "stream",
     "text": [
      "\r",
      " 50% (159408000.0 of 315360000.0) |##   | Elapsed Time: 12:03:13 ETA:   8:11:57"
     ]
    },
    {
     "name": "stderr",
     "output_type": "stream",
     "text": [
      "\r",
      " 50% (159494400.0 of 315360000.0) |##   | Elapsed Time: 12:03:57 ETA:  22:04:19"
     ]
    },
    {
     "name": "stderr",
     "output_type": "stream",
     "text": [
      "\r",
      " 50% (159840000.0 of 315360000.0) |##   | Elapsed Time: 12:05:03 ETA:   8:10:32"
     ]
    },
    {
     "name": "stderr",
     "output_type": "stream",
     "text": [
      "\r",
      " 50% (159926400.0 of 315360000.0) |##   | Elapsed Time: 12:05:45 ETA:  21:26:41"
     ]
    },
    {
     "name": "stderr",
     "output_type": "stream",
     "text": [
      "\r",
      " 50% (160272000.0 of 315360000.0) |##   | Elapsed Time: 12:06:50 ETA:   8:06:07"
     ]
    },
    {
     "name": "stderr",
     "output_type": "stream",
     "text": [
      "\r",
      " 50% (160358400.0 of 315360000.0) |##   | Elapsed Time: 12:07:34 ETA:  21:32:13"
     ]
    },
    {
     "name": "stderr",
     "output_type": "stream",
     "text": [
      "\r",
      " 50% (160704000.0 of 315360000.0) |##   | Elapsed Time: 12:08:39 ETA:   8:08:06"
     ]
    },
    {
     "name": "stderr",
     "output_type": "stream",
     "text": [
      "\r",
      " 50% (160790400.0 of 315360000.0) |##   | Elapsed Time: 12:09:22 ETA:  21:26:11"
     ]
    },
    {
     "name": "stderr",
     "output_type": "stream",
     "text": [
      "\r",
      " 51% (161136000.0 of 315360000.0) |##   | Elapsed Time: 12:10:28 ETA:   8:05:00"
     ]
    },
    {
     "name": "stderr",
     "output_type": "stream",
     "text": [
      "\r",
      " 51% (161222400.0 of 315360000.0) |##   | Elapsed Time: 12:11:11 ETA:  21:20:53"
     ]
    },
    {
     "name": "stderr",
     "output_type": "stream",
     "text": [
      "\r",
      " 51% (161568000.0 of 315360000.0) |##   | Elapsed Time: 12:12:16 ETA:   8:03:51"
     ]
    },
    {
     "name": "stderr",
     "output_type": "stream",
     "text": [
      "\r",
      " 51% (161654400.0 of 315360000.0) |##   | Elapsed Time: 12:12:59 ETA:  21:14:28"
     ]
    },
    {
     "name": "stderr",
     "output_type": "stream",
     "text": [
      "\r",
      " 51% (162000000.0 of 315360000.0) |##   | Elapsed Time: 12:14:04 ETA:   8:01:00"
     ]
    },
    {
     "name": "stderr",
     "output_type": "stream",
     "text": [
      "\r",
      " 51% (162086400.0 of 315360000.0) |##   | Elapsed Time: 12:14:47 ETA:  21:04:57"
     ]
    },
    {
     "name": "stderr",
     "output_type": "stream",
     "text": [
      "\r",
      " 51% (162432000.0 of 315360000.0) |##   | Elapsed Time: 12:15:52 ETA:   8:02:53"
     ]
    },
    {
     "name": "stderr",
     "output_type": "stream",
     "text": [
      "\r",
      " 51% (162518400.0 of 315360000.0) |##   | Elapsed Time: 12:16:35 ETA:  21:06:31"
     ]
    },
    {
     "name": "stderr",
     "output_type": "stream",
     "text": [
      "\r",
      " 51% (162864000.0 of 315360000.0) |##   | Elapsed Time: 12:17:40 ETA:   7:58:59"
     ]
    },
    {
     "name": "stderr",
     "output_type": "stream",
     "text": [
      "\r",
      " 51% (162950400.0 of 315360000.0) |##   | Elapsed Time: 12:18:23 ETA:  21:01:14"
     ]
    },
    {
     "name": "stderr",
     "output_type": "stream",
     "text": [
      "\r",
      " 51% (163296000.0 of 315360000.0) |##   | Elapsed Time: 12:19:28 ETA:   7:57:45"
     ]
    },
    {
     "name": "stderr",
     "output_type": "stream",
     "text": [
      "\r",
      " 51% (163382400.0 of 315360000.0) |##   | Elapsed Time: 12:20:11 ETA:  20:54:33"
     ]
    },
    {
     "name": "stderr",
     "output_type": "stream",
     "text": [
      "\r",
      " 51% (163728000.0 of 315360000.0) |##   | Elapsed Time: 12:21:16 ETA:   7:55:19"
     ]
    },
    {
     "name": "stderr",
     "output_type": "stream",
     "text": [
      "\r",
      " 51% (163814400.0 of 315360000.0) |##   | Elapsed Time: 12:21:59 ETA:  20:47:41"
     ]
    },
    {
     "name": "stderr",
     "output_type": "stream",
     "text": [
      "\r",
      " 52% (164160000.0 of 315360000.0) |##   | Elapsed Time: 12:23:04 ETA:   7:53:21"
     ]
    },
    {
     "name": "stderr",
     "output_type": "stream",
     "text": [
      "\r",
      " 52% (164246400.0 of 315360000.0) |##   | Elapsed Time: 12:23:47 ETA:  20:53:04"
     ]
    },
    {
     "name": "stderr",
     "output_type": "stream",
     "text": [
      "\r",
      " 52% (164592000.0 of 315360000.0) |##   | Elapsed Time: 12:24:52 ETA:   7:54:22"
     ]
    },
    {
     "name": "stderr",
     "output_type": "stream",
     "text": [
      "\r",
      " 52% (164678400.0 of 315360000.0) |##   | Elapsed Time: 12:25:35 ETA:  20:42:58"
     ]
    },
    {
     "name": "stderr",
     "output_type": "stream",
     "text": [
      "\r",
      " 52% (165024000.0 of 315360000.0) |##   | Elapsed Time: 12:26:39 ETA:   7:48:11"
     ]
    },
    {
     "name": "stderr",
     "output_type": "stream",
     "text": [
      "\r",
      " 52% (165110400.0 of 315360000.0) |##   | Elapsed Time: 12:27:22 ETA:  20:51:54"
     ]
    },
    {
     "name": "stderr",
     "output_type": "stream",
     "text": [
      "\r",
      " 52% (165456000.0 of 315360000.0) |##   | Elapsed Time: 12:28:27 ETA:   7:47:24"
     ]
    },
    {
     "name": "stderr",
     "output_type": "stream",
     "text": [
      "\r",
      " 52% (165542400.0 of 315360000.0) |##   | Elapsed Time: 12:29:09 ETA:  20:26:14"
     ]
    },
    {
     "name": "stderr",
     "output_type": "stream",
     "text": [
      "\r",
      " 52% (165888000.0 of 315360000.0) |##   | Elapsed Time: 12:30:14 ETA:   7:45:45"
     ]
    },
    {
     "name": "stderr",
     "output_type": "stream",
     "text": [
      "\r",
      " 52% (165974400.0 of 315360000.0) |##   | Elapsed Time: 12:30:57 ETA:  20:25:32"
     ]
    },
    {
     "name": "stderr",
     "output_type": "stream",
     "text": [
      "\r",
      " 52% (166320000.0 of 315360000.0) |##   | Elapsed Time: 12:32:01 ETA:   7:44:45"
     ]
    },
    {
     "name": "stderr",
     "output_type": "stream",
     "text": [
      "\r",
      " 52% (166406400.0 of 315360000.0) |##   | Elapsed Time: 12:32:44 ETA:  20:34:02"
     ]
    },
    {
     "name": "stderr",
     "output_type": "stream",
     "text": [
      "\r",
      " 52% (166752000.0 of 315360000.0) |##   | Elapsed Time: 12:33:49 ETA:   7:42:53"
     ]
    },
    {
     "name": "stderr",
     "output_type": "stream",
     "text": [
      "\r",
      " 52% (166838400.0 of 315360000.0) |##   | Elapsed Time: 12:34:32 ETA:  20:42:58"
     ]
    },
    {
     "name": "stderr",
     "output_type": "stream",
     "text": [
      "\r",
      " 53% (167184000.0 of 315360000.0) |##   | Elapsed Time: 12:35:37 ETA:   7:43:32"
     ]
    },
    {
     "name": "stderr",
     "output_type": "stream",
     "text": [
      "\r",
      " 53% (167270400.0 of 315360000.0) |##   | Elapsed Time: 12:36:20 ETA:  20:15:17"
     ]
    },
    {
     "name": "stderr",
     "output_type": "stream",
     "text": [
      "\r",
      " 53% (167616000.0 of 315360000.0) |##   | Elapsed Time: 12:37:24 ETA:   7:41:29"
     ]
    },
    {
     "name": "stderr",
     "output_type": "stream",
     "text": [
      "\r",
      " 53% (167702400.0 of 315360000.0) |##   | Elapsed Time: 12:38:07 ETA:  20:26:01"
     ]
    },
    {
     "name": "stderr",
     "output_type": "stream",
     "text": [
      "\r",
      " 53% (168048000.0 of 315360000.0) |##   | Elapsed Time: 12:39:12 ETA:   7:37:59"
     ]
    },
    {
     "name": "stderr",
     "output_type": "stream",
     "text": [
      "\r",
      " 53% (168134400.0 of 315360000.0) |##   | Elapsed Time: 12:39:55 ETA:  20:14:02"
     ]
    },
    {
     "name": "stderr",
     "output_type": "stream",
     "text": [
      "\r",
      " 53% (168480000.0 of 315360000.0) |##   | Elapsed Time: 12:40:59 ETA:   7:35:26"
     ]
    },
    {
     "name": "stderr",
     "output_type": "stream",
     "text": [
      "\r",
      " 53% (168566400.0 of 315360000.0) |##   | Elapsed Time: 12:41:42 ETA:  20:09:54"
     ]
    },
    {
     "name": "stderr",
     "output_type": "stream",
     "text": [
      "\r",
      " 53% (168912000.0 of 315360000.0) |##   | Elapsed Time: 12:42:46 ETA:   7:35:00"
     ]
    },
    {
     "name": "stderr",
     "output_type": "stream",
     "text": [
      "\r",
      " 53% (168998400.0 of 315360000.0) |##   | Elapsed Time: 12:43:29 ETA:  20:10:24"
     ]
    },
    {
     "name": "stderr",
     "output_type": "stream",
     "text": [
      "\r",
      " 53% (169344000.0 of 315360000.0) |##   | Elapsed Time: 12:44:33 ETA:   7:32:57"
     ]
    },
    {
     "name": "stderr",
     "output_type": "stream",
     "text": [
      "\r",
      " 53% (169430400.0 of 315360000.0) |##   | Elapsed Time: 12:45:16 ETA:  19:50:31"
     ]
    },
    {
     "name": "stderr",
     "output_type": "stream",
     "text": [
      "\r",
      " 53% (169776000.0 of 315360000.0) |##   | Elapsed Time: 12:46:20 ETA:   7:33:37"
     ]
    },
    {
     "name": "stderr",
     "output_type": "stream",
     "text": [
      "\r",
      " 53% (169862400.0 of 315360000.0) |##   | Elapsed Time: 12:47:03 ETA:  19:58:40"
     ]
    },
    {
     "name": "stderr",
     "output_type": "stream",
     "text": [
      "\r",
      " 53% (170208000.0 of 315360000.0) |##   | Elapsed Time: 12:48:07 ETA:   7:31:01"
     ]
    },
    {
     "name": "stderr",
     "output_type": "stream",
     "text": [
      "\r",
      " 54% (170294400.0 of 315360000.0) |##   | Elapsed Time: 12:48:50 ETA:  19:56:38"
     ]
    },
    {
     "name": "stderr",
     "output_type": "stream",
     "text": [
      "\r",
      " 54% (170640000.0 of 315360000.0) |##   | Elapsed Time: 12:49:54 ETA:   7:28:20"
     ]
    },
    {
     "name": "stderr",
     "output_type": "stream",
     "text": [
      "\r",
      " 54% (170726400.0 of 315360000.0) |##   | Elapsed Time: 12:50:37 ETA:  19:41:41"
     ]
    },
    {
     "name": "stderr",
     "output_type": "stream",
     "text": [
      "\r",
      " 54% (171072000.0 of 315360000.0) |##   | Elapsed Time: 12:51:41 ETA:   7:25:24"
     ]
    },
    {
     "name": "stderr",
     "output_type": "stream",
     "text": [
      "\r",
      " 54% (171158400.0 of 315360000.0) |##   | Elapsed Time: 12:52:23 ETA:  19:45:59"
     ]
    },
    {
     "name": "stderr",
     "output_type": "stream",
     "text": [
      "\r",
      " 54% (171504000.0 of 315360000.0) |##   | Elapsed Time: 12:53:28 ETA:   7:25:07"
     ]
    },
    {
     "name": "stderr",
     "output_type": "stream",
     "text": [
      "\r",
      " 54% (171590400.0 of 315360000.0) |##   | Elapsed Time: 12:54:10 ETA:  19:40:41"
     ]
    },
    {
     "name": "stderr",
     "output_type": "stream",
     "text": [
      "\r",
      " 54% (171936000.0 of 315360000.0) |##   | Elapsed Time: 12:55:14 ETA:   7:23:25"
     ]
    },
    {
     "name": "stderr",
     "output_type": "stream",
     "text": [
      "\r",
      " 54% (172022400.0 of 315360000.0) |##   | Elapsed Time: 12:55:57 ETA:  19:45:22"
     ]
    },
    {
     "name": "stderr",
     "output_type": "stream",
     "text": [
      "\r",
      " 54% (172368000.0 of 315360000.0) |##   | Elapsed Time: 12:57:01 ETA:   7:22:32"
     ]
    },
    {
     "name": "stderr",
     "output_type": "stream",
     "text": [
      "\r",
      " 54% (172454400.0 of 315360000.0) |##   | Elapsed Time: 12:57:43 ETA:  19:18:02"
     ]
    },
    {
     "name": "stderr",
     "output_type": "stream",
     "text": [
      "\r",
      " 54% (172800000.0 of 315360000.0) |##   | Elapsed Time: 12:58:47 ETA:   7:19:17"
     ]
    },
    {
     "name": "stderr",
     "output_type": "stream",
     "text": [
      "\r",
      " 54% (172886400.0 of 315360000.0) |##   | Elapsed Time: 12:59:30 ETA:  19:36:09"
     ]
    },
    {
     "name": "stderr",
     "output_type": "stream",
     "text": [
      "\r",
      " 54% (173232000.0 of 315360000.0) |##   | Elapsed Time: 13:00:34 ETA:   7:17:59"
     ]
    },
    {
     "name": "stderr",
     "output_type": "stream",
     "text": [
      "\r",
      " 54% (173318400.0 of 315360000.0) |##   | Elapsed Time: 13:01:16 ETA:  19:16:59"
     ]
    },
    {
     "name": "stderr",
     "output_type": "stream",
     "text": [
      "\r",
      " 55% (173664000.0 of 315360000.0) |##   | Elapsed Time: 13:02:20 ETA:   7:16:46"
     ]
    },
    {
     "name": "stderr",
     "output_type": "stream",
     "text": [
      "\r",
      " 55% (173750400.0 of 315360000.0) |##   | Elapsed Time: 13:03:03 ETA:  19:30:57"
     ]
    },
    {
     "name": "stderr",
     "output_type": "stream",
     "text": [
      "\r",
      " 55% (174096000.0 of 315360000.0) |##   | Elapsed Time: 13:04:07 ETA:   7:14:07"
     ]
    },
    {
     "name": "stderr",
     "output_type": "stream",
     "text": [
      "\r",
      " 55% (174182400.0 of 315360000.0) |##   | Elapsed Time: 13:04:49 ETA:  19:14:55"
     ]
    },
    {
     "name": "stderr",
     "output_type": "stream",
     "text": [
      "\r",
      " 55% (174528000.0 of 315360000.0) |##   | Elapsed Time: 13:05:53 ETA:   7:14:17"
     ]
    },
    {
     "name": "stderr",
     "output_type": "stream",
     "text": [
      "\r",
      " 55% (174614400.0 of 315360000.0) |##   | Elapsed Time: 13:06:35 ETA:  19:13:43"
     ]
    },
    {
     "name": "stderr",
     "output_type": "stream",
     "text": [
      "\r",
      " 55% (174960000.0 of 315360000.0) |##   | Elapsed Time: 13:07:39 ETA:   7:11:54"
     ]
    },
    {
     "name": "stderr",
     "output_type": "stream",
     "text": [
      "\r",
      " 55% (175046400.0 of 315360000.0) |##   | Elapsed Time: 13:08:22 ETA:  19:18:19"
     ]
    },
    {
     "name": "stderr",
     "output_type": "stream",
     "text": [
      "\r",
      " 55% (175392000.0 of 315360000.0) |##   | Elapsed Time: 13:09:26 ETA:   7:09:40"
     ]
    },
    {
     "name": "stderr",
     "output_type": "stream",
     "text": [
      "\r",
      " 55% (175478400.0 of 315360000.0) |##   | Elapsed Time: 13:10:08 ETA:  18:58:42"
     ]
    },
    {
     "name": "stderr",
     "output_type": "stream",
     "text": [
      "\r",
      " 55% (175824000.0 of 315360000.0) |##   | Elapsed Time: 13:11:12 ETA:   7:08:13"
     ]
    },
    {
     "name": "stderr",
     "output_type": "stream",
     "text": [
      "\r",
      " 55% (175910400.0 of 315360000.0) |##   | Elapsed Time: 13:11:54 ETA:  18:55:03"
     ]
    },
    {
     "name": "stderr",
     "output_type": "stream",
     "text": [
      "\r",
      " 55% (176256000.0 of 315360000.0) |##   | Elapsed Time: 13:12:57 ETA:   7:05:56"
     ]
    },
    {
     "name": "stderr",
     "output_type": "stream",
     "text": [
      "\r",
      " 55% (176342400.0 of 315360000.0) |##   | Elapsed Time: 13:13:40 ETA:  19:04:58"
     ]
    },
    {
     "name": "stderr",
     "output_type": "stream",
     "text": [
      "\r",
      " 56% (176688000.0 of 315360000.0) |##   | Elapsed Time: 13:14:43 ETA:   7:04:23"
     ]
    },
    {
     "name": "stderr",
     "output_type": "stream",
     "text": [
      "\r",
      " 56% (176774400.0 of 315360000.0) |##   | Elapsed Time: 13:15:26 ETA:  18:52:39"
     ]
    },
    {
     "name": "stderr",
     "output_type": "stream",
     "text": [
      "\r",
      " 56% (177120000.0 of 315360000.0) |##   | Elapsed Time: 13:16:29 ETA:   7:02:48"
     ]
    },
    {
     "name": "stderr",
     "output_type": "stream",
     "text": [
      "\r",
      " 56% (177206400.0 of 315360000.0) |##   | Elapsed Time: 13:17:12 ETA:  18:52:51"
     ]
    },
    {
     "name": "stderr",
     "output_type": "stream",
     "text": [
      "\r",
      " 56% (177552000.0 of 315360000.0) |##   | Elapsed Time: 13:18:15 ETA:   7:01:32"
     ]
    },
    {
     "name": "stderr",
     "output_type": "stream",
     "text": [
      "\r",
      " 56% (177638400.0 of 315360000.0) |##   | Elapsed Time: 13:18:58 ETA:  18:54:56"
     ]
    },
    {
     "name": "stderr",
     "output_type": "stream",
     "text": [
      "\r",
      " 56% (177984000.0 of 315360000.0) |##   | Elapsed Time: 13:20:01 ETA:   6:59:37"
     ]
    },
    {
     "name": "stderr",
     "output_type": "stream",
     "text": [
      "\r",
      " 56% (178070400.0 of 315360000.0) |##   | Elapsed Time: 13:20:44 ETA:  18:56:44"
     ]
    },
    {
     "name": "stderr",
     "output_type": "stream",
     "text": [
      "\r",
      " 56% (178416000.0 of 315360000.0) |##   | Elapsed Time: 13:21:47 ETA:   6:58:48"
     ]
    },
    {
     "name": "stderr",
     "output_type": "stream",
     "text": [
      "\r",
      " 56% (178502400.0 of 315360000.0) |##   | Elapsed Time: 13:22:30 ETA:  18:43:20"
     ]
    },
    {
     "name": "stderr",
     "output_type": "stream",
     "text": [
      "\r",
      " 56% (178848000.0 of 315360000.0) |##   | Elapsed Time: 13:23:34 ETA:   6:57:52"
     ]
    },
    {
     "name": "stderr",
     "output_type": "stream",
     "text": [
      "\r",
      " 56% (178934400.0 of 315360000.0) |##   | Elapsed Time: 13:24:16 ETA:  18:42:24"
     ]
    },
    {
     "name": "stderr",
     "output_type": "stream",
     "text": [
      "\r",
      " 56% (179280000.0 of 315360000.0) |##   | Elapsed Time: 13:25:19 ETA:   6:54:49"
     ]
    },
    {
     "name": "stderr",
     "output_type": "stream",
     "text": [
      "\r",
      " 56% (179366400.0 of 315360000.0) |##   | Elapsed Time: 13:26:02 ETA:  18:44:31"
     ]
    },
    {
     "name": "stderr",
     "output_type": "stream",
     "text": [
      "\r",
      " 56% (179712000.0 of 315360000.0) |##   | Elapsed Time: 13:27:06 ETA:   6:54:55"
     ]
    },
    {
     "name": "stderr",
     "output_type": "stream",
     "text": [
      "\r",
      " 57% (179798400.0 of 315360000.0) |##   | Elapsed Time: 13:27:48 ETA:  18:24:42"
     ]
    },
    {
     "name": "stderr",
     "output_type": "stream",
     "text": [
      "\r",
      " 57% (180144000.0 of 315360000.0) |##   | Elapsed Time: 13:28:51 ETA:   6:53:07"
     ]
    },
    {
     "name": "stderr",
     "output_type": "stream",
     "text": [
      "\r",
      " 57% (180230400.0 of 315360000.0) |##   | Elapsed Time: 13:29:34 ETA:  18:28:57"
     ]
    },
    {
     "name": "stderr",
     "output_type": "stream",
     "text": [
      "\r",
      " 57% (180576000.0 of 315360000.0) |##   | Elapsed Time: 13:30:38 ETA:   6:56:36"
     ]
    },
    {
     "name": "stderr",
     "output_type": "stream",
     "text": [
      "\r",
      " 57% (180662400.0 of 315360000.0) |##   | Elapsed Time: 13:31:21 ETA:  18:30:27"
     ]
    },
    {
     "name": "stderr",
     "output_type": "stream",
     "text": [
      "\r",
      " 57% (181008000.0 of 315360000.0) |##   | Elapsed Time: 13:32:24 ETA:   6:48:26"
     ]
    },
    {
     "name": "stderr",
     "output_type": "stream",
     "text": [
      "\r",
      " 57% (181094400.0 of 315360000.0) |##   | Elapsed Time: 13:33:06 ETA:  18:19:38"
     ]
    },
    {
     "name": "stderr",
     "output_type": "stream",
     "text": [
      "\r",
      " 57% (181440000.0 of 315360000.0) |##   | Elapsed Time: 13:34:10 ETA:   6:50:16"
     ]
    },
    {
     "name": "stderr",
     "output_type": "stream",
     "text": [
      "\r",
      " 57% (181526400.0 of 315360000.0) |##   | Elapsed Time: 13:34:52 ETA:  18:09:01"
     ]
    },
    {
     "name": "stderr",
     "output_type": "stream",
     "text": [
      "\r",
      " 57% (181872000.0 of 315360000.0) |##   | Elapsed Time: 13:35:55 ETA:   6:46:21"
     ]
    },
    {
     "name": "stderr",
     "output_type": "stream",
     "text": [
      "\r",
      " 57% (181958400.0 of 315360000.0) |##   | Elapsed Time: 13:36:38 ETA:  18:19:42"
     ]
    },
    {
     "name": "stderr",
     "output_type": "stream",
     "text": [
      "\r",
      " 57% (182304000.0 of 315360000.0) |##   | Elapsed Time: 13:37:41 ETA:   6:46:10"
     ]
    },
    {
     "name": "stderr",
     "output_type": "stream",
     "text": [
      "\r",
      " 57% (182390400.0 of 315360000.0) |##   | Elapsed Time: 13:38:24 ETA:  18:15:31"
     ]
    },
    {
     "name": "stderr",
     "output_type": "stream",
     "text": [
      "\r",
      " 57% (182736000.0 of 315360000.0) |##   | Elapsed Time: 13:39:27 ETA:   6:42:38"
     ]
    },
    {
     "name": "stderr",
     "output_type": "stream",
     "text": [
      "\r",
      " 57% (182822400.0 of 315360000.0) |##   | Elapsed Time: 13:40:09 ETA:  18:05:12"
     ]
    },
    {
     "name": "stderr",
     "output_type": "stream",
     "text": [
      "\r",
      " 58% (183168000.0 of 315360000.0) |##   | Elapsed Time: 13:41:12 ETA:   6:40:25"
     ]
    },
    {
     "name": "stderr",
     "output_type": "stream",
     "text": [
      "\r",
      " 58% (183254400.0 of 315360000.0) |##   | Elapsed Time: 13:41:55 ETA:  18:06:41"
     ]
    },
    {
     "name": "stderr",
     "output_type": "stream",
     "text": [
      "\r",
      " 58% (183600000.0 of 315360000.0) |##   | Elapsed Time: 13:42:57 ETA:   6:38:36"
     ]
    },
    {
     "name": "stderr",
     "output_type": "stream",
     "text": [
      "\r",
      " 58% (183686400.0 of 315360000.0) |##   | Elapsed Time: 13:43:40 ETA:  17:53:24"
     ]
    },
    {
     "name": "stderr",
     "output_type": "stream",
     "text": [
      "\r",
      " 58% (184032000.0 of 315360000.0) |##   | Elapsed Time: 13:44:43 ETA:   6:40:00"
     ]
    },
    {
     "name": "stderr",
     "output_type": "stream",
     "text": [
      "\r",
      " 58% (184118400.0 of 315360000.0) |##   | Elapsed Time: 13:45:25 ETA:  17:44:32"
     ]
    },
    {
     "name": "stderr",
     "output_type": "stream",
     "text": [
      "\r",
      " 58% (184464000.0 of 315360000.0) |##   | Elapsed Time: 13:46:27 ETA:   6:35:34"
     ]
    },
    {
     "name": "stderr",
     "output_type": "stream",
     "text": [
      "\r",
      " 58% (184550400.0 of 315360000.0) |##   | Elapsed Time: 13:47:10 ETA:  17:45:29"
     ]
    },
    {
     "name": "stderr",
     "output_type": "stream",
     "text": [
      "\r",
      " 58% (184896000.0 of 315360000.0) |##   | Elapsed Time: 13:48:12 ETA:   6:34:23"
     ]
    },
    {
     "name": "stderr",
     "output_type": "stream",
     "text": [
      "\r",
      " 58% (184982400.0 of 315360000.0) |##   | Elapsed Time: 13:48:55 ETA:  17:45:42"
     ]
    },
    {
     "name": "stderr",
     "output_type": "stream",
     "text": [
      "\r",
      " 58% (185328000.0 of 315360000.0) |##   | Elapsed Time: 13:49:57 ETA:   6:32:53"
     ]
    },
    {
     "name": "stderr",
     "output_type": "stream",
     "text": [
      "\r",
      " 58% (185414400.0 of 315360000.0) |##   | Elapsed Time: 13:50:40 ETA:  17:39:02"
     ]
    },
    {
     "name": "stderr",
     "output_type": "stream",
     "text": [
      "\r",
      " 58% (185760000.0 of 315360000.0) |##   | Elapsed Time: 13:51:42 ETA:   6:31:23"
     ]
    },
    {
     "name": "stderr",
     "output_type": "stream",
     "text": [
      "\r",
      " 58% (185846400.0 of 315360000.0) |##   | Elapsed Time: 13:52:25 ETA:  17:43:00"
     ]
    },
    {
     "name": "stderr",
     "output_type": "stream",
     "text": [
      "\r",
      " 59% (186192000.0 of 315360000.0) |##   | Elapsed Time: 13:53:27 ETA:   6:30:15"
     ]
    },
    {
     "name": "stderr",
     "output_type": "stream",
     "text": [
      "\r",
      " 59% (186278400.0 of 315360000.0) |##   | Elapsed Time: 13:54:09 ETA:  17:23:54"
     ]
    },
    {
     "name": "stderr",
     "output_type": "stream",
     "text": [
      "\r",
      " 59% (186624000.0 of 315360000.0) |##   | Elapsed Time: 13:55:12 ETA:   6:28:04"
     ]
    },
    {
     "name": "stderr",
     "output_type": "stream",
     "text": [
      "\r",
      " 59% (186710400.0 of 315360000.0) |##   | Elapsed Time: 13:55:54 ETA:  17:18:31"
     ]
    },
    {
     "name": "stderr",
     "output_type": "stream",
     "text": [
      "\r",
      " 59% (187056000.0 of 315360000.0) |##   | Elapsed Time: 13:56:56 ETA:   6:26:57"
     ]
    },
    {
     "name": "stderr",
     "output_type": "stream",
     "text": [
      "\r",
      " 59% (187142400.0 of 315360000.0) |##   | Elapsed Time: 13:57:39 ETA:  17:32:52"
     ]
    },
    {
     "name": "stderr",
     "output_type": "stream",
     "text": [
      "\r",
      " 59% (187488000.0 of 315360000.0) |##   | Elapsed Time: 13:58:41 ETA:   6:26:08"
     ]
    },
    {
     "name": "stderr",
     "output_type": "stream",
     "text": [
      "\r",
      " 59% (187574400.0 of 315360000.0) |##   | Elapsed Time: 13:59:23 ETA:  17:12:18"
     ]
    },
    {
     "name": "stderr",
     "output_type": "stream",
     "text": [
      "\r",
      " 59% (187920000.0 of 315360000.0) |##   | Elapsed Time: 14:00:26 ETA:   6:24:34"
     ]
    },
    {
     "name": "stderr",
     "output_type": "stream",
     "text": [
      "\r",
      " 59% (188006400.0 of 315360000.0) |##   | Elapsed Time: 14:01:08 ETA:  17:18:09"
     ]
    },
    {
     "name": "stderr",
     "output_type": "stream",
     "text": [
      "\r",
      " 59% (188352000.0 of 315360000.0) |##   | Elapsed Time: 14:02:11 ETA:   6:22:39"
     ]
    },
    {
     "name": "stderr",
     "output_type": "stream",
     "text": [
      "\r",
      " 59% (188438400.0 of 315360000.0) |##   | Elapsed Time: 14:02:53 ETA:  17:11:39"
     ]
    },
    {
     "name": "stderr",
     "output_type": "stream",
     "text": [
      "\r",
      " 59% (188784000.0 of 315360000.0) |##   | Elapsed Time: 14:03:55 ETA:   6:20:33"
     ]
    },
    {
     "name": "stderr",
     "output_type": "stream",
     "text": [
      "\r",
      " 59% (188870400.0 of 315360000.0) |##   | Elapsed Time: 14:04:37 ETA:  16:59:35"
     ]
    },
    {
     "name": "stderr",
     "output_type": "stream",
     "text": [
      "\r",
      " 60% (189216000.0 of 315360000.0) |###  | Elapsed Time: 14:05:39 ETA:   6:19:10"
     ]
    },
    {
     "name": "stderr",
     "output_type": "stream",
     "text": [
      "\r",
      " 60% (189302400.0 of 315360000.0) |###  | Elapsed Time: 14:06:21 ETA:  16:52:08"
     ]
    },
    {
     "name": "stderr",
     "output_type": "stream",
     "text": [
      "\r",
      " 60% (189648000.0 of 315360000.0) |###  | Elapsed Time: 14:07:23 ETA:   6:16:44"
     ]
    },
    {
     "name": "stderr",
     "output_type": "stream",
     "text": [
      "\r",
      " 60% (189734400.0 of 315360000.0) |###  | Elapsed Time: 14:08:05 ETA:  16:56:50"
     ]
    },
    {
     "name": "stderr",
     "output_type": "stream",
     "text": [
      "\r",
      " 60% (190080000.0 of 315360000.0) |###  | Elapsed Time: 14:09:07 ETA:   6:15:57"
     ]
    },
    {
     "name": "stderr",
     "output_type": "stream",
     "text": [
      "\r",
      " 60% (190166400.0 of 315360000.0) |###  | Elapsed Time: 14:09:50 ETA:  17:03:44"
     ]
    },
    {
     "name": "stderr",
     "output_type": "stream",
     "text": [
      "\r",
      " 60% (190512000.0 of 315360000.0) |###  | Elapsed Time: 14:10:52 ETA:   6:14:04"
     ]
    },
    {
     "name": "stderr",
     "output_type": "stream",
     "text": [
      "\r",
      " 60% (190598400.0 of 315360000.0) |###  | Elapsed Time: 14:11:34 ETA:  16:59:24"
     ]
    },
    {
     "name": "stderr",
     "output_type": "stream",
     "text": [
      "\r",
      " 60% (190944000.0 of 315360000.0) |###  | Elapsed Time: 14:12:36 ETA:   6:14:10"
     ]
    },
    {
     "name": "stderr",
     "output_type": "stream",
     "text": [
      "\r",
      " 60% (191030400.0 of 315360000.0) |###  | Elapsed Time: 14:13:19 ETA:  16:53:03"
     ]
    },
    {
     "name": "stderr",
     "output_type": "stream",
     "text": [
      "\r",
      " 60% (191376000.0 of 315360000.0) |###  | Elapsed Time: 14:14:21 ETA:   6:11:31"
     ]
    },
    {
     "name": "stderr",
     "output_type": "stream",
     "text": [
      "\r",
      " 60% (191462400.0 of 315360000.0) |###  | Elapsed Time: 14:15:03 ETA:  16:54:59"
     ]
    },
    {
     "name": "stderr",
     "output_type": "stream",
     "text": [
      "\r",
      " 60% (191808000.0 of 315360000.0) |###  | Elapsed Time: 14:16:05 ETA:   6:08:26"
     ]
    },
    {
     "name": "stderr",
     "output_type": "stream",
     "text": [
      "\r",
      " 60% (191894400.0 of 315360000.0) |###  | Elapsed Time: 14:16:47 ETA:  16:42:51"
     ]
    },
    {
     "name": "stderr",
     "output_type": "stream",
     "text": [
      "\r",
      " 60% (192240000.0 of 315360000.0) |###  | Elapsed Time: 14:17:50 ETA:   6:11:06"
     ]
    },
    {
     "name": "stderr",
     "output_type": "stream",
     "text": [
      "\r",
      " 60% (192326400.0 of 315360000.0) |###  | Elapsed Time: 14:18:32 ETA:  16:40:44"
     ]
    },
    {
     "name": "stderr",
     "output_type": "stream",
     "text": [
      "\r",
      " 61% (192672000.0 of 315360000.0) |###  | Elapsed Time: 14:19:34 ETA:   6:07:19"
     ]
    },
    {
     "name": "stderr",
     "output_type": "stream",
     "text": [
      "\r",
      " 61% (192758400.0 of 315360000.0) |###  | Elapsed Time: 14:20:16 ETA:  16:25:47"
     ]
    },
    {
     "name": "stderr",
     "output_type": "stream",
     "text": [
      "\r",
      " 61% (193104000.0 of 315360000.0) |###  | Elapsed Time: 14:21:18 ETA:   6:07:51"
     ]
    },
    {
     "name": "stderr",
     "output_type": "stream",
     "text": [
      "\r",
      " 61% (193190400.0 of 315360000.0) |###  | Elapsed Time: 14:22:00 ETA:  16:25:49"
     ]
    },
    {
     "name": "stderr",
     "output_type": "stream",
     "text": [
      "\r",
      " 61% (193536000.0 of 315360000.0) |###  | Elapsed Time: 14:23:02 ETA:   6:02:39"
     ]
    },
    {
     "name": "stderr",
     "output_type": "stream",
     "text": [
      "\r",
      " 61% (193622400.0 of 315360000.0) |###  | Elapsed Time: 14:23:44 ETA:  16:32:04"
     ]
    },
    {
     "name": "stderr",
     "output_type": "stream",
     "text": [
      "\r",
      " 61% (193968000.0 of 315360000.0) |###  | Elapsed Time: 14:24:46 ETA:   6:01:44"
     ]
    },
    {
     "name": "stderr",
     "output_type": "stream",
     "text": [
      "\r",
      " 61% (194054400.0 of 315360000.0) |###  | Elapsed Time: 14:25:28 ETA:  16:24:16"
     ]
    },
    {
     "name": "stderr",
     "output_type": "stream",
     "text": [
      "\r",
      " 61% (194400000.0 of 315360000.0) |###  | Elapsed Time: 14:26:30 ETA:   6:03:46"
     ]
    },
    {
     "name": "stderr",
     "output_type": "stream",
     "text": [
      "\r",
      " 61% (194486400.0 of 315360000.0) |###  | Elapsed Time: 14:27:12 ETA:  16:18:50"
     ]
    },
    {
     "name": "stderr",
     "output_type": "stream",
     "text": [
      "\r",
      " 61% (194832000.0 of 315360000.0) |###  | Elapsed Time: 14:28:14 ETA:   6:00:27"
     ]
    },
    {
     "name": "stderr",
     "output_type": "stream",
     "text": [
      "\r",
      " 61% (194918400.0 of 315360000.0) |###  | Elapsed Time: 14:28:56 ETA:  16:11:59"
     ]
    },
    {
     "name": "stderr",
     "output_type": "stream",
     "text": [
      "\r",
      " 61% (195264000.0 of 315360000.0) |###  | Elapsed Time: 14:29:57 ETA:   5:56:22"
     ]
    },
    {
     "name": "stderr",
     "output_type": "stream",
     "text": [
      "\r",
      " 61% (195350400.0 of 315360000.0) |###  | Elapsed Time: 14:30:40 ETA:  16:16:50"
     ]
    },
    {
     "name": "stderr",
     "output_type": "stream",
     "text": [
      "\r",
      " 62% (195696000.0 of 315360000.0) |###  | Elapsed Time: 14:31:41 ETA:   5:55:52"
     ]
    },
    {
     "name": "stderr",
     "output_type": "stream",
     "text": [
      "\r",
      " 62% (195782400.0 of 315360000.0) |###  | Elapsed Time: 14:32:23 ETA:  16:04:35"
     ]
    },
    {
     "name": "stderr",
     "output_type": "stream",
     "text": [
      "\r",
      " 62% (196128000.0 of 315360000.0) |###  | Elapsed Time: 14:33:25 ETA:   5:53:08"
     ]
    },
    {
     "name": "stderr",
     "output_type": "stream",
     "text": [
      "\r",
      " 62% (196214400.0 of 315360000.0) |###  | Elapsed Time: 14:34:07 ETA:  16:09:57"
     ]
    },
    {
     "name": "stderr",
     "output_type": "stream",
     "text": [
      "\r",
      " 62% (196560000.0 of 315360000.0) |###  | Elapsed Time: 14:35:08 ETA:   5:51:54"
     ]
    },
    {
     "name": "stderr",
     "output_type": "stream",
     "text": [
      "\r",
      " 62% (196646400.0 of 315360000.0) |###  | Elapsed Time: 14:35:50 ETA:  15:47:15"
     ]
    },
    {
     "name": "stderr",
     "output_type": "stream",
     "text": [
      "\r",
      " 62% (196992000.0 of 315360000.0) |###  | Elapsed Time: 14:36:51 ETA:   5:50:20"
     ]
    },
    {
     "name": "stderr",
     "output_type": "stream",
     "text": [
      "\r",
      " 62% (197078400.0 of 315360000.0) |###  | Elapsed Time: 14:37:33 ETA:  15:53:23"
     ]
    },
    {
     "name": "stderr",
     "output_type": "stream",
     "text": [
      "\r",
      " 62% (197424000.0 of 315360000.0) |###  | Elapsed Time: 14:38:34 ETA:   5:49:10"
     ]
    },
    {
     "name": "stderr",
     "output_type": "stream",
     "text": [
      "\r",
      " 62% (197510400.0 of 315360000.0) |###  | Elapsed Time: 14:39:16 ETA:  15:45:12"
     ]
    },
    {
     "name": "stderr",
     "output_type": "stream",
     "text": [
      "\r",
      " 62% (197856000.0 of 315360000.0) |###  | Elapsed Time: 14:40:17 ETA:   5:47:03"
     ]
    },
    {
     "name": "stderr",
     "output_type": "stream",
     "text": [
      "\r",
      " 62% (197942400.0 of 315360000.0) |###  | Elapsed Time: 14:40:59 ETA:  15:50:14"
     ]
    },
    {
     "name": "stderr",
     "output_type": "stream",
     "text": [
      "\r",
      " 62% (198288000.0 of 315360000.0) |###  | Elapsed Time: 14:42:00 ETA:   5:47:09"
     ]
    },
    {
     "name": "stderr",
     "output_type": "stream",
     "text": [
      "\r",
      " 62% (198374400.0 of 315360000.0) |###  | Elapsed Time: 14:42:42 ETA:  15:45:02"
     ]
    },
    {
     "name": "stderr",
     "output_type": "stream",
     "text": [
      "\r",
      " 63% (198720000.0 of 315360000.0) |###  | Elapsed Time: 14:43:43 ETA:   5:44:23"
     ]
    },
    {
     "name": "stderr",
     "output_type": "stream",
     "text": [
      "\r",
      " 63% (198806400.0 of 315360000.0) |###  | Elapsed Time: 14:44:25 ETA:  15:40:03"
     ]
    },
    {
     "name": "stderr",
     "output_type": "stream",
     "text": [
      "\r",
      " 63% (199152000.0 of 315360000.0) |###  | Elapsed Time: 14:45:26 ETA:   5:41:12"
     ]
    },
    {
     "name": "stderr",
     "output_type": "stream",
     "text": [
      "\r",
      " 63% (199238400.0 of 315360000.0) |###  | Elapsed Time: 14:46:08 ETA:  15:38:05"
     ]
    },
    {
     "name": "stderr",
     "output_type": "stream",
     "text": [
      "\r",
      " 63% (199584000.0 of 315360000.0) |###  | Elapsed Time: 14:47:09 ETA:   5:40:47"
     ]
    },
    {
     "name": "stderr",
     "output_type": "stream",
     "text": [
      "\r",
      " 63% (199670400.0 of 315360000.0) |###  | Elapsed Time: 14:47:51 ETA:  15:32:40"
     ]
    },
    {
     "name": "stderr",
     "output_type": "stream",
     "text": [
      "\r",
      " 63% (200016000.0 of 315360000.0) |###  | Elapsed Time: 14:48:52 ETA:   5:39:28"
     ]
    },
    {
     "name": "stderr",
     "output_type": "stream",
     "text": [
      "\r",
      " 63% (200102400.0 of 315360000.0) |###  | Elapsed Time: 14:49:33 ETA:  15:23:41"
     ]
    },
    {
     "name": "stderr",
     "output_type": "stream",
     "text": [
      "\r",
      " 63% (200448000.0 of 315360000.0) |###  | Elapsed Time: 14:50:34 ETA:   5:37:23"
     ]
    },
    {
     "name": "stderr",
     "output_type": "stream",
     "text": [
      "\r",
      " 63% (200534400.0 of 315360000.0) |###  | Elapsed Time: 14:51:16 ETA:  15:23:01"
     ]
    },
    {
     "name": "stderr",
     "output_type": "stream",
     "text": [
      "\r",
      " 63% (200880000.0 of 315360000.0) |###  | Elapsed Time: 14:52:17 ETA:   5:36:57"
     ]
    },
    {
     "name": "stderr",
     "output_type": "stream",
     "text": [
      "\r",
      " 63% (200966400.0 of 315360000.0) |###  | Elapsed Time: 14:52:59 ETA:  15:22:19"
     ]
    },
    {
     "name": "stderr",
     "output_type": "stream",
     "text": [
      "\r",
      " 63% (201312000.0 of 315360000.0) |###  | Elapsed Time: 14:54:00 ETA:   5:35:24"
     ]
    },
    {
     "name": "stderr",
     "output_type": "stream",
     "text": [
      "\r",
      " 63% (201398400.0 of 315360000.0) |###  | Elapsed Time: 14:54:42 ETA:  15:19:55"
     ]
    },
    {
     "name": "stderr",
     "output_type": "stream",
     "text": [
      "\r",
      " 63% (201744000.0 of 315360000.0) |###  | Elapsed Time: 14:55:43 ETA:   5:36:23"
     ]
    },
    {
     "name": "stderr",
     "output_type": "stream",
     "text": [
      "\r",
      " 64% (201830400.0 of 315360000.0) |###  | Elapsed Time: 14:56:25 ETA:  15:23:10"
     ]
    },
    {
     "name": "stderr",
     "output_type": "stream",
     "text": [
      "\r",
      " 64% (202176000.0 of 315360000.0) |###  | Elapsed Time: 14:57:26 ETA:   5:32:41"
     ]
    },
    {
     "name": "stderr",
     "output_type": "stream",
     "text": [
      "\r",
      " 64% (202262400.0 of 315360000.0) |###  | Elapsed Time: 14:58:08 ETA:  15:12:34"
     ]
    },
    {
     "name": "stderr",
     "output_type": "stream",
     "text": [
      "\r",
      " 64% (202608000.0 of 315360000.0) |###  | Elapsed Time: 14:59:09 ETA:   5:31:13"
     ]
    },
    {
     "name": "stderr",
     "output_type": "stream",
     "text": [
      "\r",
      " 64% (202694400.0 of 315360000.0) |###  | Elapsed Time: 14:59:51 ETA:  15:06:39"
     ]
    },
    {
     "name": "stderr",
     "output_type": "stream",
     "text": [
      "\r",
      " 64% (203040000.0 of 315360000.0) |###  | Elapsed Time: 15:00:52 ETA:   5:31:04"
     ]
    },
    {
     "name": "stderr",
     "output_type": "stream",
     "text": [
      "\r",
      " 64% (203126400.0 of 315360000.0) |###  | Elapsed Time: 15:01:33 ETA:  15:00:00"
     ]
    },
    {
     "name": "stderr",
     "output_type": "stream",
     "text": [
      "\r",
      " 64% (203472000.0 of 315360000.0) |###  | Elapsed Time: 15:02:35 ETA:   5:31:14"
     ]
    },
    {
     "name": "stderr",
     "output_type": "stream",
     "text": [
      "\r",
      " 64% (203558400.0 of 315360000.0) |###  | Elapsed Time: 15:03:16 ETA:  14:51:52"
     ]
    },
    {
     "name": "stderr",
     "output_type": "stream",
     "text": [
      "\r",
      " 64% (203904000.0 of 315360000.0) |###  | Elapsed Time: 15:04:17 ETA:   5:27:37"
     ]
    },
    {
     "name": "stderr",
     "output_type": "stream",
     "text": [
      "\r",
      " 64% (203990400.0 of 315360000.0) |###  | Elapsed Time: 15:04:59 ETA:  14:58:33"
     ]
    },
    {
     "name": "stderr",
     "output_type": "stream",
     "text": [
      "\r",
      " 64% (204336000.0 of 315360000.0) |###  | Elapsed Time: 15:06:00 ETA:   5:25:44"
     ]
    },
    {
     "name": "stderr",
     "output_type": "stream",
     "text": [
      "\r",
      " 64% (204422400.0 of 315360000.0) |###  | Elapsed Time: 15:06:41 ETA:  14:51:21"
     ]
    },
    {
     "name": "stderr",
     "output_type": "stream",
     "text": [
      "\r",
      " 64% (204768000.0 of 315360000.0) |###  | Elapsed Time: 15:07:42 ETA:   5:25:31"
     ]
    },
    {
     "name": "stderr",
     "output_type": "stream",
     "text": [
      "\r",
      " 64% (204854400.0 of 315360000.0) |###  | Elapsed Time: 15:08:24 ETA:  14:51:26"
     ]
    },
    {
     "name": "stderr",
     "output_type": "stream",
     "text": [
      "\r",
      " 65% (205200000.0 of 315360000.0) |###  | Elapsed Time: 15:09:25 ETA:   5:22:48"
     ]
    },
    {
     "name": "stderr",
     "output_type": "stream",
     "text": [
      "\r",
      " 65% (205286400.0 of 315360000.0) |###  | Elapsed Time: 15:10:08 ETA:  15:03:55"
     ]
    },
    {
     "name": "stderr",
     "output_type": "stream",
     "text": [
      "\r",
      " 65% (205632000.0 of 315360000.0) |###  | Elapsed Time: 15:11:08 ETA:   5:20:41"
     ]
    },
    {
     "name": "stderr",
     "output_type": "stream",
     "text": [
      "\r",
      " 65% (205718400.0 of 315360000.0) |###  | Elapsed Time: 15:11:50 ETA:  14:47:41"
     ]
    },
    {
     "name": "stderr",
     "output_type": "stream",
     "text": [
      "\r",
      " 65% (206064000.0 of 315360000.0) |###  | Elapsed Time: 15:12:51 ETA:   5:20:48"
     ]
    },
    {
     "name": "stderr",
     "output_type": "stream",
     "text": [
      "\r",
      " 65% (206150400.0 of 315360000.0) |###  | Elapsed Time: 15:13:33 ETA:  14:44:39"
     ]
    },
    {
     "name": "stderr",
     "output_type": "stream",
     "text": [
      "\r",
      " 65% (206496000.0 of 315360000.0) |###  | Elapsed Time: 15:14:33 ETA:   5:17:03"
     ]
    },
    {
     "name": "stderr",
     "output_type": "stream",
     "text": [
      "\r",
      " 65% (206582400.0 of 315360000.0) |###  | Elapsed Time: 15:15:15 ETA:  14:35:55"
     ]
    },
    {
     "name": "stderr",
     "output_type": "stream",
     "text": [
      "\r",
      " 65% (206928000.0 of 315360000.0) |###  | Elapsed Time: 15:16:16 ETA:   5:16:40"
     ]
    },
    {
     "name": "stderr",
     "output_type": "stream",
     "text": [
      "\r",
      " 65% (207014400.0 of 315360000.0) |###  | Elapsed Time: 15:16:57 ETA:  14:30:41"
     ]
    },
    {
     "name": "stderr",
     "output_type": "stream",
     "text": [
      "\r",
      " 65% (207360000.0 of 315360000.0) |###  | Elapsed Time: 15:17:58 ETA:   5:14:18"
     ]
    },
    {
     "name": "stderr",
     "output_type": "stream",
     "text": [
      "\r",
      " 65% (207446400.0 of 315360000.0) |###  | Elapsed Time: 15:18:40 ETA:  14:36:27"
     ]
    },
    {
     "name": "stderr",
     "output_type": "stream",
     "text": [
      "\r",
      " 65% (207792000.0 of 315360000.0) |###  | Elapsed Time: 15:19:40 ETA:   5:13:16"
     ]
    },
    {
     "name": "stderr",
     "output_type": "stream",
     "text": [
      "\r",
      " 65% (207878400.0 of 315360000.0) |###  | Elapsed Time: 15:20:22 ETA:  14:26:21"
     ]
    },
    {
     "name": "stderr",
     "output_type": "stream",
     "text": [
      "\r",
      " 66% (208224000.0 of 315360000.0) |###  | Elapsed Time: 15:21:22 ETA:   5:11:49"
     ]
    },
    {
     "name": "stderr",
     "output_type": "stream",
     "text": [
      "\r",
      " 66% (208310400.0 of 315360000.0) |###  | Elapsed Time: 15:22:04 ETA:  14:15:20"
     ]
    },
    {
     "name": "stderr",
     "output_type": "stream",
     "text": [
      "\r",
      " 66% (208656000.0 of 315360000.0) |###  | Elapsed Time: 15:23:04 ETA:   5:11:42"
     ]
    },
    {
     "name": "stderr",
     "output_type": "stream",
     "text": [
      "\r",
      " 66% (208742400.0 of 315360000.0) |###  | Elapsed Time: 15:23:46 ETA:  14:16:45"
     ]
    },
    {
     "name": "stderr",
     "output_type": "stream",
     "text": [
      "\r",
      " 66% (209088000.0 of 315360000.0) |###  | Elapsed Time: 15:24:46 ETA:   5:10:01"
     ]
    },
    {
     "name": "stderr",
     "output_type": "stream",
     "text": [
      "\r",
      " 66% (209174400.0 of 315360000.0) |###  | Elapsed Time: 15:25:28 ETA:  14:16:04"
     ]
    },
    {
     "name": "stderr",
     "output_type": "stream",
     "text": [
      "\r",
      " 66% (209520000.0 of 315360000.0) |###  | Elapsed Time: 15:26:29 ETA:   5:07:58"
     ]
    },
    {
     "name": "stderr",
     "output_type": "stream",
     "text": [
      "\r",
      " 66% (209606400.0 of 315360000.0) |###  | Elapsed Time: 15:27:11 ETA:  14:21:55"
     ]
    },
    {
     "name": "stderr",
     "output_type": "stream",
     "text": [
      "\r",
      " 66% (209952000.0 of 315360000.0) |###  | Elapsed Time: 15:28:11 ETA:   5:04:56"
     ]
    },
    {
     "name": "stderr",
     "output_type": "stream",
     "text": [
      "\r",
      " 66% (210038400.0 of 315360000.0) |###  | Elapsed Time: 15:28:52 ETA:  14:01:32"
     ]
    },
    {
     "name": "stderr",
     "output_type": "stream",
     "text": [
      "\r",
      " 66% (210384000.0 of 315360000.0) |###  | Elapsed Time: 15:29:52 ETA:   5:04:08"
     ]
    },
    {
     "name": "stderr",
     "output_type": "stream",
     "text": [
      "\r",
      " 66% (210470400.0 of 315360000.0) |###  | Elapsed Time: 15:30:34 ETA:  13:59:00"
     ]
    },
    {
     "name": "stderr",
     "output_type": "stream",
     "text": [
      "\r",
      " 66% (210816000.0 of 315360000.0) |###  | Elapsed Time: 15:31:34 ETA:   5:05:10"
     ]
    },
    {
     "name": "stderr",
     "output_type": "stream",
     "text": [
      "\r",
      " 66% (210902400.0 of 315360000.0) |###  | Elapsed Time: 15:32:16 ETA:  13:57:26"
     ]
    },
    {
     "name": "stderr",
     "output_type": "stream",
     "text": [
      "\r",
      " 66% (211248000.0 of 315360000.0) |###  | Elapsed Time: 15:33:16 ETA:   5:01:51"
     ]
    },
    {
     "name": "stderr",
     "output_type": "stream",
     "text": [
      "\r",
      " 67% (211334400.0 of 315360000.0) |###  | Elapsed Time: 15:33:58 ETA:  13:57:56"
     ]
    },
    {
     "name": "stderr",
     "output_type": "stream",
     "text": [
      "\r",
      " 67% (211680000.0 of 315360000.0) |###  | Elapsed Time: 15:34:58 ETA:   5:01:30"
     ]
    },
    {
     "name": "stderr",
     "output_type": "stream",
     "text": [
      "\r",
      " 67% (211766400.0 of 315360000.0) |###  | Elapsed Time: 15:35:40 ETA:  14:07:45"
     ]
    },
    {
     "name": "stderr",
     "output_type": "stream",
     "text": [
      "\r",
      " 67% (212112000.0 of 315360000.0) |###  | Elapsed Time: 15:36:41 ETA:   5:01:49"
     ]
    },
    {
     "name": "stderr",
     "output_type": "stream",
     "text": [
      "\r",
      " 67% (212198400.0 of 315360000.0) |###  | Elapsed Time: 15:37:23 ETA:  13:54:33"
     ]
    },
    {
     "name": "stderr",
     "output_type": "stream",
     "text": [
      "\r",
      " 67% (212544000.0 of 315360000.0) |###  | Elapsed Time: 15:38:23 ETA:   4:58:05"
     ]
    },
    {
     "name": "stderr",
     "output_type": "stream",
     "text": [
      "\r",
      " 67% (212630400.0 of 315360000.0) |###  | Elapsed Time: 15:39:05 ETA:  13:50:47"
     ]
    },
    {
     "name": "stderr",
     "output_type": "stream",
     "text": [
      "\r",
      " 67% (212976000.0 of 315360000.0) |###  | Elapsed Time: 15:40:05 ETA:   4:56:13"
     ]
    },
    {
     "name": "stderr",
     "output_type": "stream",
     "text": [
      "\r",
      " 67% (213062400.0 of 315360000.0) |###  | Elapsed Time: 15:40:47 ETA:  13:41:25"
     ]
    },
    {
     "name": "stderr",
     "output_type": "stream",
     "text": [
      "\r",
      " 67% (213408000.0 of 315360000.0) |###  | Elapsed Time: 15:41:47 ETA:   4:57:14"
     ]
    },
    {
     "name": "stderr",
     "output_type": "stream",
     "text": [
      "\r",
      " 67% (213494400.0 of 315360000.0) |###  | Elapsed Time: 15:42:28 ETA:  13:30:52"
     ]
    },
    {
     "name": "stderr",
     "output_type": "stream",
     "text": [
      "\r",
      " 67% (213840000.0 of 315360000.0) |###  | Elapsed Time: 15:43:28 ETA:   4:53:53"
     ]
    },
    {
     "name": "stderr",
     "output_type": "stream",
     "text": [
      "\r",
      " 67% (213926400.0 of 315360000.0) |###  | Elapsed Time: 15:44:10 ETA:  13:42:40"
     ]
    },
    {
     "name": "stderr",
     "output_type": "stream",
     "text": [
      "\r",
      " 67% (214272000.0 of 315360000.0) |###  | Elapsed Time: 15:45:11 ETA:   4:55:01"
     ]
    },
    {
     "name": "stderr",
     "output_type": "stream",
     "text": [
      "\r",
      " 67% (214358400.0 of 315360000.0) |###  | Elapsed Time: 15:45:52 ETA:  13:26:38"
     ]
    },
    {
     "name": "stderr",
     "output_type": "stream",
     "text": [
      "\r",
      " 68% (214704000.0 of 315360000.0) |###  | Elapsed Time: 15:46:52 ETA:   4:50:19"
     ]
    },
    {
     "name": "stderr",
     "output_type": "stream",
     "text": [
      "\r",
      " 68% (214790400.0 of 315360000.0) |###  | Elapsed Time: 15:47:34 ETA:  13:24:13"
     ]
    },
    {
     "name": "stderr",
     "output_type": "stream",
     "text": [
      "\r",
      " 68% (215136000.0 of 315360000.0) |###  | Elapsed Time: 15:48:33 ETA:   4:49:02"
     ]
    },
    {
     "name": "stderr",
     "output_type": "stream",
     "text": [
      "\r",
      " 68% (215222400.0 of 315360000.0) |###  | Elapsed Time: 15:49:15 ETA:  13:23:28"
     ]
    },
    {
     "name": "stderr",
     "output_type": "stream",
     "text": [
      "\r",
      " 68% (215568000.0 of 315360000.0) |###  | Elapsed Time: 15:50:15 ETA:   4:47:13"
     ]
    },
    {
     "name": "stderr",
     "output_type": "stream",
     "text": [
      "\r",
      " 68% (215654400.0 of 315360000.0) |###  | Elapsed Time: 15:50:56 ETA:  13:15:42"
     ]
    },
    {
     "name": "stderr",
     "output_type": "stream",
     "text": [
      "\r",
      " 68% (216000000.0 of 315360000.0) |###  | Elapsed Time: 15:51:56 ETA:   4:45:58"
     ]
    },
    {
     "name": "stderr",
     "output_type": "stream",
     "text": [
      "\r",
      " 68% (216086400.0 of 315360000.0) |###  | Elapsed Time: 15:52:37 ETA:  13:18:29"
     ]
    },
    {
     "name": "stderr",
     "output_type": "stream",
     "text": [
      "\r",
      " 68% (216432000.0 of 315360000.0) |###  | Elapsed Time: 15:53:37 ETA:   4:44:35"
     ]
    },
    {
     "name": "stderr",
     "output_type": "stream",
     "text": [
      "\r",
      " 68% (216518400.0 of 315360000.0) |###  | Elapsed Time: 15:54:19 ETA:  13:14:16"
     ]
    },
    {
     "name": "stderr",
     "output_type": "stream",
     "text": [
      "\r",
      " 68% (216864000.0 of 315360000.0) |###  | Elapsed Time: 15:55:19 ETA:   4:43:37"
     ]
    },
    {
     "name": "stderr",
     "output_type": "stream",
     "text": [
      "\r",
      " 68% (216950400.0 of 315360000.0) |###  | Elapsed Time: 15:56:01 ETA:  13:18:32"
     ]
    },
    {
     "name": "stderr",
     "output_type": "stream",
     "text": [
      "\r",
      " 68% (217296000.0 of 315360000.0) |###  | Elapsed Time: 15:57:01 ETA:   4:45:02"
     ]
    },
    {
     "name": "stderr",
     "output_type": "stream",
     "text": [
      "\r",
      " 68% (217382400.0 of 315360000.0) |###  | Elapsed Time: 15:57:43 ETA:  13:10:51"
     ]
    },
    {
     "name": "stderr",
     "output_type": "stream",
     "text": [
      "\r",
      " 69% (217728000.0 of 315360000.0) |###  | Elapsed Time: 15:58:43 ETA:   4:43:02"
     ]
    },
    {
     "name": "stderr",
     "output_type": "stream",
     "text": [
      "\r",
      " 69% (217814400.0 of 315360000.0) |###  | Elapsed Time: 15:59:24 ETA:  13:02:36"
     ]
    },
    {
     "name": "stderr",
     "output_type": "stream",
     "text": [
      "\r",
      " 69% (218160000.0 of 315360000.0) |###  | Elapsed Time: 16:00:24 ETA:   4:39:27"
     ]
    },
    {
     "name": "stderr",
     "output_type": "stream",
     "text": [
      "\r",
      " 69% (218246400.0 of 315360000.0) |###  | Elapsed Time: 16:01:06 ETA:  13:08:56"
     ]
    },
    {
     "name": "stderr",
     "output_type": "stream",
     "text": [
      "\r",
      " 69% (218592000.0 of 315360000.0) |###  | Elapsed Time: 16:02:06 ETA:   4:38:38"
     ]
    },
    {
     "name": "stderr",
     "output_type": "stream",
     "text": [
      "\r",
      " 69% (218678400.0 of 315360000.0) |###  | Elapsed Time: 16:02:47 ETA:  12:52:15"
     ]
    },
    {
     "name": "stderr",
     "output_type": "stream",
     "text": [
      "\r",
      " 69% (219024000.0 of 315360000.0) |###  | Elapsed Time: 16:03:47 ETA:   4:37:31"
     ]
    },
    {
     "name": "stderr",
     "output_type": "stream",
     "text": [
      "\r",
      " 69% (219110400.0 of 315360000.0) |###  | Elapsed Time: 16:04:29 ETA:  12:56:57"
     ]
    },
    {
     "name": "stderr",
     "output_type": "stream",
     "text": [
      "\r",
      " 69% (219456000.0 of 315360000.0) |###  | Elapsed Time: 16:05:28 ETA:   4:34:36"
     ]
    },
    {
     "name": "stderr",
     "output_type": "stream",
     "text": [
      "\r",
      " 69% (219542400.0 of 315360000.0) |###  | Elapsed Time: 16:06:10 ETA:  12:46:17"
     ]
    },
    {
     "name": "stderr",
     "output_type": "stream",
     "text": [
      "\r",
      " 69% (219888000.0 of 315360000.0) |###  | Elapsed Time: 16:07:09 ETA:   4:34:11"
     ]
    },
    {
     "name": "stderr",
     "output_type": "stream",
     "text": [
      "\r",
      " 69% (219974400.0 of 315360000.0) |###  | Elapsed Time: 16:07:51 ETA:  12:40:41"
     ]
    },
    {
     "name": "stderr",
     "output_type": "stream",
     "text": [
      "\r",
      " 69% (220320000.0 of 315360000.0) |###  | Elapsed Time: 16:08:50 ETA:   4:32:48"
     ]
    },
    {
     "name": "stderr",
     "output_type": "stream",
     "text": [
      "\r",
      " 69% (220406400.0 of 315360000.0) |###  | Elapsed Time: 16:09:32 ETA:  12:41:47"
     ]
    },
    {
     "name": "stderr",
     "output_type": "stream",
     "text": [
      "\r",
      " 70% (220752000.0 of 315360000.0) |###  | Elapsed Time: 16:10:31 ETA:   4:32:50"
     ]
    },
    {
     "name": "stderr",
     "output_type": "stream",
     "text": [
      "\r",
      " 70% (220838400.0 of 315360000.0) |###  | Elapsed Time: 16:11:14 ETA:  12:53:23"
     ]
    },
    {
     "name": "stderr",
     "output_type": "stream",
     "text": [
      "\r",
      " 70% (221184000.0 of 315360000.0) |###  | Elapsed Time: 16:12:13 ETA:   4:29:35"
     ]
    },
    {
     "name": "stderr",
     "output_type": "stream",
     "text": [
      "\r",
      " 70% (221270400.0 of 315360000.0) |###  | Elapsed Time: 16:12:56 ETA:  12:53:49"
     ]
    },
    {
     "name": "stderr",
     "output_type": "stream",
     "text": [
      "\r",
      " 70% (221616000.0 of 315360000.0) |###  | Elapsed Time: 16:13:55 ETA:   4:27:50"
     ]
    },
    {
     "name": "stderr",
     "output_type": "stream",
     "text": [
      "\r",
      " 70% (221702400.0 of 315360000.0) |###  | Elapsed Time: 16:14:37 ETA:  12:34:44"
     ]
    },
    {
     "name": "stderr",
     "output_type": "stream",
     "text": [
      "\r",
      " 70% (222048000.0 of 315360000.0) |###  | Elapsed Time: 16:15:36 ETA:   4:25:52"
     ]
    },
    {
     "name": "stderr",
     "output_type": "stream",
     "text": [
      "\r",
      " 70% (222134400.0 of 315360000.0) |###  | Elapsed Time: 16:16:18 ETA:  12:30:26"
     ]
    },
    {
     "name": "stderr",
     "output_type": "stream",
     "text": [
      "\r",
      " 70% (222480000.0 of 315360000.0) |###  | Elapsed Time: 16:17:17 ETA:   4:25:08"
     ]
    },
    {
     "name": "stderr",
     "output_type": "stream",
     "text": [
      "\r",
      " 70% (222566400.0 of 315360000.0) |###  | Elapsed Time: 16:17:58 ETA:  12:11:59"
     ]
    },
    {
     "name": "stderr",
     "output_type": "stream",
     "text": [
      "\r",
      " 70% (222912000.0 of 315360000.0) |###  | Elapsed Time: 16:18:57 ETA:   4:23:30"
     ]
    },
    {
     "name": "stderr",
     "output_type": "stream",
     "text": [
      "\r",
      " 70% (222998400.0 of 315360000.0) |###  | Elapsed Time: 16:19:39 ETA:  12:23:24"
     ]
    },
    {
     "name": "stderr",
     "output_type": "stream",
     "text": [
      "\r",
      " 70% (223344000.0 of 315360000.0) |###  | Elapsed Time: 16:20:38 ETA:   4:24:47"
     ]
    },
    {
     "name": "stderr",
     "output_type": "stream",
     "text": [
      "\r",
      " 70% (223430400.0 of 315360000.0) |###  | Elapsed Time: 16:21:20 ETA:  12:13:31"
     ]
    },
    {
     "name": "stderr",
     "output_type": "stream",
     "text": [
      "\r",
      " 70% (223776000.0 of 315360000.0) |###  | Elapsed Time: 16:22:18 ETA:   4:19:47"
     ]
    },
    {
     "name": "stderr",
     "output_type": "stream",
     "text": [
      "\r",
      " 70% (223862400.0 of 315360000.0) |###  | Elapsed Time: 16:23:00 ETA:  12:04:05"
     ]
    },
    {
     "name": "stderr",
     "output_type": "stream",
     "text": [
      "\r",
      " 71% (224208000.0 of 315360000.0) |###  | Elapsed Time: 16:23:59 ETA:   4:19:45"
     ]
    },
    {
     "name": "stderr",
     "output_type": "stream",
     "text": [
      "\r",
      " 71% (224294400.0 of 315360000.0) |###  | Elapsed Time: 16:24:40 ETA:  12:00:53"
     ]
    },
    {
     "name": "stderr",
     "output_type": "stream",
     "text": [
      "\r",
      " 71% (224640000.0 of 315360000.0) |###  | Elapsed Time: 16:25:39 ETA:   4:20:03"
     ]
    },
    {
     "name": "stderr",
     "output_type": "stream",
     "text": [
      "\r",
      " 71% (224726400.0 of 315360000.0) |###  | Elapsed Time: 16:26:21 ETA:  12:06:47"
     ]
    },
    {
     "name": "stderr",
     "output_type": "stream",
     "text": [
      "\r",
      " 71% (225072000.0 of 315360000.0) |###  | Elapsed Time: 16:27:19 ETA:   4:15:33"
     ]
    },
    {
     "name": "stderr",
     "output_type": "stream",
     "text": [
      "\r",
      " 71% (225158400.0 of 315360000.0) |###  | Elapsed Time: 16:28:01 ETA:  12:01:45"
     ]
    },
    {
     "name": "stderr",
     "output_type": "stream",
     "text": [
      "\r",
      " 71% (225504000.0 of 315360000.0) |###  | Elapsed Time: 16:29:00 ETA:   4:14:28"
     ]
    },
    {
     "name": "stderr",
     "output_type": "stream",
     "text": [
      "\r",
      " 71% (225590400.0 of 315360000.0) |###  | Elapsed Time: 16:29:41 ETA:  12:01:27"
     ]
    },
    {
     "name": "stderr",
     "output_type": "stream",
     "text": [
      "\r",
      " 71% (225936000.0 of 315360000.0) |###  | Elapsed Time: 16:30:40 ETA:   4:12:53"
     ]
    },
    {
     "name": "stderr",
     "output_type": "stream",
     "text": [
      "\r",
      " 71% (226022400.0 of 315360000.0) |###  | Elapsed Time: 16:31:21 ETA:  11:51:39"
     ]
    },
    {
     "name": "stderr",
     "output_type": "stream",
     "text": [
      "\r",
      " 71% (226368000.0 of 315360000.0) |###  | Elapsed Time: 16:32:20 ETA:   4:12:32"
     ]
    },
    {
     "name": "stderr",
     "output_type": "stream",
     "text": [
      "\r",
      " 71% (226454400.0 of 315360000.0) |###  | Elapsed Time: 16:33:01 ETA:  11:48:18"
     ]
    },
    {
     "name": "stderr",
     "output_type": "stream",
     "text": [
      "\r",
      " 71% (226800000.0 of 315360000.0) |###  | Elapsed Time: 16:34:01 ETA:   4:13:38"
     ]
    },
    {
     "name": "stderr",
     "output_type": "stream",
     "text": [
      "\r",
      " 71% (226886400.0 of 315360000.0) |###  | Elapsed Time: 16:34:42 ETA:  11:45:33"
     ]
    },
    {
     "name": "stderr",
     "output_type": "stream",
     "text": [
      "\r",
      " 72% (227232000.0 of 315360000.0) |###  | Elapsed Time: 16:35:41 ETA:   4:08:46"
     ]
    },
    {
     "name": "stderr",
     "output_type": "stream",
     "text": [
      "\r",
      " 72% (227318400.0 of 315360000.0) |###  | Elapsed Time: 16:36:22 ETA:  11:39:04"
     ]
    },
    {
     "name": "stderr",
     "output_type": "stream",
     "text": [
      "\r",
      " 72% (227664000.0 of 315360000.0) |###  | Elapsed Time: 16:37:21 ETA:   4:10:02"
     ]
    },
    {
     "name": "stderr",
     "output_type": "stream",
     "text": [
      "\r",
      " 72% (227750400.0 of 315360000.0) |###  | Elapsed Time: 16:38:02 ETA:  11:28:49"
     ]
    },
    {
     "name": "stderr",
     "output_type": "stream",
     "text": [
      "\r",
      " 72% (228096000.0 of 315360000.0) |###  | Elapsed Time: 16:39:01 ETA:   4:07:56"
     ]
    },
    {
     "name": "stderr",
     "output_type": "stream",
     "text": [
      "\r",
      " 72% (228182400.0 of 315360000.0) |###  | Elapsed Time: 16:39:42 ETA:  11:33:45"
     ]
    },
    {
     "name": "stderr",
     "output_type": "stream",
     "text": [
      "\r",
      " 72% (228528000.0 of 315360000.0) |###  | Elapsed Time: 16:40:40 ETA:   4:05:17"
     ]
    },
    {
     "name": "stderr",
     "output_type": "stream",
     "text": [
      "\r",
      " 72% (228614400.0 of 315360000.0) |###  | Elapsed Time: 16:41:23 ETA:  11:51:00"
     ]
    },
    {
     "name": "stderr",
     "output_type": "stream",
     "text": [
      "\r",
      " 72% (228960000.0 of 315360000.0) |###  | Elapsed Time: 16:42:22 ETA:   4:04:25"
     ]
    },
    {
     "name": "stderr",
     "output_type": "stream",
     "text": [
      "\r",
      " 72% (229046400.0 of 315360000.0) |###  | Elapsed Time: 16:43:03 ETA:  11:29:51"
     ]
    },
    {
     "name": "stderr",
     "output_type": "stream",
     "text": [
      "\r",
      " 72% (229392000.0 of 315360000.0) |###  | Elapsed Time: 16:44:02 ETA:   4:02:53"
     ]
    },
    {
     "name": "stderr",
     "output_type": "stream",
     "text": [
      "\r",
      " 72% (229478400.0 of 315360000.0) |###  | Elapsed Time: 16:44:43 ETA:  11:27:02"
     ]
    },
    {
     "name": "stderr",
     "output_type": "stream",
     "text": [
      "\r",
      " 72% (229824000.0 of 315360000.0) |###  | Elapsed Time: 16:45:42 ETA:   4:02:27"
     ]
    },
    {
     "name": "stderr",
     "output_type": "stream",
     "text": [
      "\r",
      " 72% (229910400.0 of 315360000.0) |###  | Elapsed Time: 16:46:23 ETA:  11:20:15"
     ]
    },
    {
     "name": "stderr",
     "output_type": "stream",
     "text": [
      "\r",
      " 73% (230256000.0 of 315360000.0) |###  | Elapsed Time: 16:47:21 ETA:   3:59:28"
     ]
    },
    {
     "name": "stderr",
     "output_type": "stream",
     "text": [
      "\r",
      " 73% (230342400.0 of 315360000.0) |###  | Elapsed Time: 16:48:03 ETA:  11:14:24"
     ]
    },
    {
     "name": "stderr",
     "output_type": "stream",
     "text": [
      "\r",
      " 73% (230688000.0 of 315360000.0) |###  | Elapsed Time: 16:49:01 ETA:   3:58:42"
     ]
    },
    {
     "name": "stderr",
     "output_type": "stream",
     "text": [
      "\r",
      " 73% (230774400.0 of 315360000.0) |###  | Elapsed Time: 16:49:42 ETA:  11:17:01"
     ]
    },
    {
     "name": "stderr",
     "output_type": "stream",
     "text": [
      "\r",
      " 73% (231120000.0 of 315360000.0) |###  | Elapsed Time: 16:50:41 ETA:   3:56:23"
     ]
    },
    {
     "name": "stderr",
     "output_type": "stream",
     "text": [
      "\r",
      " 73% (231206400.0 of 315360000.0) |###  | Elapsed Time: 16:51:22 ETA:  11:03:12"
     ]
    },
    {
     "name": "stderr",
     "output_type": "stream",
     "text": [
      "\r",
      " 73% (231552000.0 of 315360000.0) |###  | Elapsed Time: 16:52:20 ETA:   3:55:54"
     ]
    },
    {
     "name": "stderr",
     "output_type": "stream",
     "text": [
      "\r",
      " 73% (231638400.0 of 315360000.0) |###  | Elapsed Time: 16:53:01 ETA:  11:03:27"
     ]
    },
    {
     "name": "stderr",
     "output_type": "stream",
     "text": [
      "\r",
      " 73% (231984000.0 of 315360000.0) |###  | Elapsed Time: 16:53:59 ETA:   3:53:48"
     ]
    },
    {
     "name": "stderr",
     "output_type": "stream",
     "text": [
      "\r",
      " 73% (232070400.0 of 315360000.0) |###  | Elapsed Time: 16:54:40 ETA:  10:58:17"
     ]
    },
    {
     "name": "stderr",
     "output_type": "stream",
     "text": [
      "\r",
      " 73% (232416000.0 of 315360000.0) |###  | Elapsed Time: 16:55:38 ETA:   3:53:15"
     ]
    },
    {
     "name": "stderr",
     "output_type": "stream",
     "text": [
      "\r",
      " 73% (232502400.0 of 315360000.0) |###  | Elapsed Time: 16:56:20 ETA:  10:57:06"
     ]
    },
    {
     "name": "stderr",
     "output_type": "stream",
     "text": [
      "\r",
      " 73% (232848000.0 of 315360000.0) |###  | Elapsed Time: 16:57:18 ETA:   3:51:31"
     ]
    },
    {
     "name": "stderr",
     "output_type": "stream",
     "text": [
      "\r",
      " 73% (232934400.0 of 315360000.0) |###  | Elapsed Time: 16:57:59 ETA:  11:01:33"
     ]
    },
    {
     "name": "stderr",
     "output_type": "stream",
     "text": [
      "\r",
      " 73% (233280000.0 of 315360000.0) |###  | Elapsed Time: 16:58:57 ETA:   3:50:19"
     ]
    },
    {
     "name": "stderr",
     "output_type": "stream",
     "text": [
      "\r",
      " 74% (233366400.0 of 315360000.0) |###  | Elapsed Time: 16:59:39 ETA:  11:02:02"
     ]
    },
    {
     "name": "stderr",
     "output_type": "stream",
     "text": [
      "\r",
      " 74% (233712000.0 of 315360000.0) |###  | Elapsed Time: 17:00:37 ETA:   3:48:19"
     ]
    },
    {
     "name": "stderr",
     "output_type": "stream",
     "text": [
      "\r",
      " 74% (233798400.0 of 315360000.0) |###  | Elapsed Time: 17:01:20 ETA:  11:05:50"
     ]
    },
    {
     "name": "stderr",
     "output_type": "stream",
     "text": [
      "\r",
      " 74% (234144000.0 of 315360000.0) |###  | Elapsed Time: 17:02:18 ETA:   3:49:03"
     ]
    },
    {
     "name": "stderr",
     "output_type": "stream",
     "text": [
      "\r",
      " 74% (234230400.0 of 315360000.0) |###  | Elapsed Time: 17:03:00 ETA:  10:48:26"
     ]
    },
    {
     "name": "stderr",
     "output_type": "stream",
     "text": [
      "\r",
      " 74% (234576000.0 of 315360000.0) |###  | Elapsed Time: 17:03:58 ETA:   3:47:10"
     ]
    },
    {
     "name": "stderr",
     "output_type": "stream",
     "text": [
      "\r",
      " 74% (234662400.0 of 315360000.0) |###  | Elapsed Time: 17:04:39 ETA:  10:39:22"
     ]
    },
    {
     "name": "stderr",
     "output_type": "stream",
     "text": [
      "\r",
      " 74% (235008000.0 of 315360000.0) |###  | Elapsed Time: 17:05:38 ETA:   3:46:53"
     ]
    },
    {
     "name": "stderr",
     "output_type": "stream",
     "text": [
      "\r",
      " 74% (235094400.0 of 315360000.0) |###  | Elapsed Time: 17:06:18 ETA:  10:26:41"
     ]
    },
    {
     "name": "stderr",
     "output_type": "stream",
     "text": [
      "\r",
      " 74% (235440000.0 of 315360000.0) |###  | Elapsed Time: 17:07:16 ETA:   3:43:06"
     ]
    },
    {
     "name": "stderr",
     "output_type": "stream",
     "text": [
      "\r",
      " 74% (235526400.0 of 315360000.0) |###  | Elapsed Time: 17:07:57 ETA:  10:34:03"
     ]
    },
    {
     "name": "stderr",
     "output_type": "stream",
     "text": [
      "\r",
      " 74% (235872000.0 of 315360000.0) |###  | Elapsed Time: 17:08:55 ETA:   3:41:53"
     ]
    },
    {
     "name": "stderr",
     "output_type": "stream",
     "text": [
      "\r",
      " 74% (235958400.0 of 315360000.0) |###  | Elapsed Time: 17:09:36 ETA:  10:29:26"
     ]
    },
    {
     "name": "stderr",
     "output_type": "stream",
     "text": [
      "\r",
      " 74% (236304000.0 of 315360000.0) |###  | Elapsed Time: 17:10:34 ETA:   3:40:55"
     ]
    },
    {
     "name": "stderr",
     "output_type": "stream",
     "text": [
      "\r",
      " 74% (236390400.0 of 315360000.0) |###  | Elapsed Time: 17:11:17 ETA:  10:52:03"
     ]
    },
    {
     "name": "stderr",
     "output_type": "stream",
     "text": [
      "\r",
      " 75% (236736000.0 of 315360000.0) |###  | Elapsed Time: 17:12:15 ETA:   3:39:42"
     ]
    },
    {
     "name": "stderr",
     "output_type": "stream",
     "text": [
      "\r",
      " 75% (236822400.0 of 315360000.0) |###  | Elapsed Time: 17:12:56 ETA:  10:27:16"
     ]
    },
    {
     "name": "stderr",
     "output_type": "stream",
     "text": [
      "\r",
      " 75% (237168000.0 of 315360000.0) |###  | Elapsed Time: 17:13:54 ETA:   3:37:28"
     ]
    },
    {
     "name": "stderr",
     "output_type": "stream",
     "text": [
      "\r",
      " 75% (237254400.0 of 315360000.0) |###  | Elapsed Time: 17:14:35 ETA:  10:16:39"
     ]
    },
    {
     "name": "stderr",
     "output_type": "stream",
     "text": [
      "\r",
      " 75% (237600000.0 of 315360000.0) |###  | Elapsed Time: 17:15:32 ETA:   3:36:13"
     ]
    },
    {
     "name": "stderr",
     "output_type": "stream",
     "text": [
      "\r",
      " 75% (237686400.0 of 315360000.0) |###  | Elapsed Time: 17:16:13 ETA:  10:15:52"
     ]
    },
    {
     "name": "stderr",
     "output_type": "stream",
     "text": [
      "\r",
      " 75% (238032000.0 of 315360000.0) |###  | Elapsed Time: 17:17:12 ETA:   3:36:25"
     ]
    },
    {
     "name": "stderr",
     "output_type": "stream",
     "text": [
      "\r",
      " 75% (238118400.0 of 315360000.0) |###  | Elapsed Time: 17:17:50 ETA:   9:39:44"
     ]
    },
    {
     "name": "stderr",
     "output_type": "stream",
     "text": [
      "\r",
      " 75% (238464000.0 of 315360000.0) |###  | Elapsed Time: 17:18:48 ETA:   3:35:00"
     ]
    },
    {
     "name": "stderr",
     "output_type": "stream",
     "text": [
      "\r",
      " 75% (238550400.0 of 315360000.0) |###  | Elapsed Time: 17:19:29 ETA:  10:07:01"
     ]
    },
    {
     "name": "stderr",
     "output_type": "stream",
     "text": [
      "\r",
      " 75% (238896000.0 of 315360000.0) |###  | Elapsed Time: 17:20:27 ETA:   3:33:22"
     ]
    },
    {
     "name": "stderr",
     "output_type": "stream",
     "text": [
      "\r",
      " 75% (238982400.0 of 315360000.0) |###  | Elapsed Time: 17:21:08 ETA:  10:00:30"
     ]
    },
    {
     "name": "stderr",
     "output_type": "stream",
     "text": [
      "\r",
      " 75% (239328000.0 of 315360000.0) |###  | Elapsed Time: 17:22:06 ETA:   3:34:02"
     ]
    },
    {
     "name": "stderr",
     "output_type": "stream",
     "text": [
      "\r",
      " 75% (239414400.0 of 315360000.0) |###  | Elapsed Time: 17:22:48 ETA:  10:04:48"
     ]
    },
    {
     "name": "stderr",
     "output_type": "stream",
     "text": [
      "\r",
      " 76% (239760000.0 of 315360000.0) |###  | Elapsed Time: 17:23:45 ETA:   3:29:17"
     ]
    },
    {
     "name": "stderr",
     "output_type": "stream",
     "text": [
      "\r",
      " 76% (239846400.0 of 315360000.0) |###  | Elapsed Time: 17:24:26 ETA:   9:56:18"
     ]
    },
    {
     "name": "stderr",
     "output_type": "stream",
     "text": [
      "\r",
      " 76% (240192000.0 of 315360000.0) |###  | Elapsed Time: 17:25:24 ETA:   3:28:33"
     ]
    },
    {
     "name": "stderr",
     "output_type": "stream",
     "text": [
      "\r",
      " 76% (240278400.0 of 315360000.0) |###  | Elapsed Time: 17:26:04 ETA:   9:50:43"
     ]
    },
    {
     "name": "stderr",
     "output_type": "stream",
     "text": [
      "\r",
      " 76% (240624000.0 of 315360000.0) |###  | Elapsed Time: 17:27:03 ETA:   3:30:20"
     ]
    },
    {
     "name": "stderr",
     "output_type": "stream",
     "text": [
      "\r",
      " 76% (240753600.0 of 315360000.0) |###  | Elapsed Time: 17:27:50 ETA:   7:33:29"
     ]
    },
    {
     "name": "stderr",
     "output_type": "stream",
     "text": [
      "\r",
      " 76% (241056000.0 of 315360000.0) |###  | Elapsed Time: 17:28:41 ETA:   3:28:26"
     ]
    },
    {
     "name": "stderr",
     "output_type": "stream",
     "text": [
      "\r",
      " 76% (241228800.0 of 315360000.0) |###  | Elapsed Time: 17:29:35 ETA:   6:27:55"
     ]
    },
    {
     "name": "stderr",
     "output_type": "stream",
     "text": [
      "\r",
      " 76% (241488000.0 of 315360000.0) |###  | Elapsed Time: 17:30:19 ETA:   3:30:13"
     ]
    },
    {
     "name": "stderr",
     "output_type": "stream",
     "text": [
      "\r",
      " 76% (241660800.0 of 315360000.0) |###  | Elapsed Time: 17:31:14 ETA:   6:24:58"
     ]
    },
    {
     "name": "stderr",
     "output_type": "stream",
     "text": [
      "\r",
      " 76% (241920000.0 of 315360000.0) |###  | Elapsed Time: 17:31:58 ETA:   3:29:04"
     ]
    },
    {
     "name": "stderr",
     "output_type": "stream",
     "text": [
      "\r",
      " 76% (242092800.0 of 315360000.0) |###  | Elapsed Time: 17:32:52 ETA:   6:24:12"
     ]
    },
    {
     "name": "stderr",
     "output_type": "stream",
     "text": [
      "\r",
      " 76% (242352000.0 of 315360000.0) |###  | Elapsed Time: 17:33:36 ETA:   3:27:33"
     ]
    },
    {
     "name": "stderr",
     "output_type": "stream",
     "text": [
      "\r",
      " 76% (242524800.0 of 315360000.0) |###  | Elapsed Time: 17:34:31 ETA:   6:20:31"
     ]
    },
    {
     "name": "stderr",
     "output_type": "stream",
     "text": [
      "\r",
      " 76% (242784000.0 of 315360000.0) |###  | Elapsed Time: 17:35:15 ETA:   3:27:27"
     ]
    },
    {
     "name": "stderr",
     "output_type": "stream",
     "text": [
      "\r",
      " 77% (242956800.0 of 315360000.0) |###  | Elapsed Time: 17:36:09 ETA:   6:17:26"
     ]
    },
    {
     "name": "stderr",
     "output_type": "stream",
     "text": [
      "\r",
      " 77% (243216000.0 of 315360000.0) |###  | Elapsed Time: 17:36:54 ETA:   3:27:06"
     ]
    },
    {
     "name": "stderr",
     "output_type": "stream",
     "text": [
      "\r",
      " 77% (243388800.0 of 315360000.0) |###  | Elapsed Time: 17:37:48 ETA:   6:15:00"
     ]
    },
    {
     "name": "stderr",
     "output_type": "stream",
     "text": [
      "\r",
      " 77% (243648000.0 of 315360000.0) |###  | Elapsed Time: 17:38:32 ETA:   3:24:03"
     ]
    },
    {
     "name": "stderr",
     "output_type": "stream",
     "text": [
      "\r",
      " 77% (243820800.0 of 315360000.0) |###  | Elapsed Time: 17:39:27 ETA:   6:16:19"
     ]
    },
    {
     "name": "stderr",
     "output_type": "stream",
     "text": [
      "\r",
      " 77% (244080000.0 of 315360000.0) |###  | Elapsed Time: 17:40:11 ETA:   3:22:17"
     ]
    },
    {
     "name": "stderr",
     "output_type": "stream",
     "text": [
      "\r",
      " 77% (244252800.0 of 315360000.0) |###  | Elapsed Time: 17:41:05 ETA:   6:12:21"
     ]
    },
    {
     "name": "stderr",
     "output_type": "stream",
     "text": [
      "\r",
      " 77% (244512000.0 of 315360000.0) |###  | Elapsed Time: 17:41:49 ETA:   3:20:53"
     ]
    },
    {
     "name": "stderr",
     "output_type": "stream",
     "text": [
      "\r",
      " 77% (244684800.0 of 315360000.0) |###  | Elapsed Time: 17:42:43 ETA:   6:08:56"
     ]
    },
    {
     "name": "stderr",
     "output_type": "stream",
     "text": [
      "\r",
      " 77% (244944000.0 of 315360000.0) |###  | Elapsed Time: 17:43:27 ETA:   3:19:37"
     ]
    },
    {
     "name": "stderr",
     "output_type": "stream",
     "text": [
      "\r",
      " 77% (245116800.0 of 315360000.0) |###  | Elapsed Time: 17:44:22 ETA:   6:08:15"
     ]
    },
    {
     "name": "stderr",
     "output_type": "stream",
     "text": [
      "\r",
      " 77% (245376000.0 of 315360000.0) |###  | Elapsed Time: 17:45:06 ETA:   3:18:38"
     ]
    },
    {
     "name": "stderr",
     "output_type": "stream",
     "text": [
      "\r",
      " 77% (245548800.0 of 315360000.0) |###  | Elapsed Time: 17:46:04 ETA:   6:32:10"
     ]
    },
    {
     "name": "stderr",
     "output_type": "stream",
     "text": [
      "\r",
      " 77% (245808000.0 of 315360000.0) |###  | Elapsed Time: 17:46:48 ETA:   3:16:08"
     ]
    },
    {
     "name": "stderr",
     "output_type": "stream",
     "text": [
      "\r",
      " 78% (245980800.0 of 315360000.0) |###  | Elapsed Time: 17:47:42 ETA:   6:03:21"
     ]
    },
    {
     "name": "stderr",
     "output_type": "stream",
     "text": [
      "\r",
      " 78% (246240000.0 of 315360000.0) |###  | Elapsed Time: 17:48:26 ETA:   3:15:49"
     ]
    },
    {
     "name": "stderr",
     "output_type": "stream",
     "text": [
      "\r",
      " 78% (246412800.0 of 315360000.0) |###  | Elapsed Time: 17:49:21 ETA:   6:02:13"
     ]
    },
    {
     "name": "stderr",
     "output_type": "stream",
     "text": [
      "\r",
      " 78% (246672000.0 of 315360000.0) |###  | Elapsed Time: 17:50:05 ETA:   3:14:31"
     ]
    },
    {
     "name": "stderr",
     "output_type": "stream",
     "text": [
      "\r",
      " 78% (246844800.0 of 315360000.0) |###  | Elapsed Time: 17:50:59 ETA:   6:01:47"
     ]
    },
    {
     "name": "stderr",
     "output_type": "stream",
     "text": [
      "\r",
      " 78% (247104000.0 of 315360000.0) |###  | Elapsed Time: 17:51:44 ETA:   3:13:21"
     ]
    },
    {
     "name": "stderr",
     "output_type": "stream",
     "text": [
      "\r",
      " 78% (247276800.0 of 315360000.0) |###  | Elapsed Time: 17:52:37 ETA:   5:53:40"
     ]
    },
    {
     "name": "stderr",
     "output_type": "stream",
     "text": [
      "\r",
      " 78% (247536000.0 of 315360000.0) |###  | Elapsed Time: 17:53:21 ETA:   3:12:10"
     ]
    },
    {
     "name": "stderr",
     "output_type": "stream",
     "text": [
      "\r",
      " 78% (247708800.0 of 315360000.0) |###  | Elapsed Time: 17:54:16 ETA:   5:53:52"
     ]
    },
    {
     "name": "stderr",
     "output_type": "stream",
     "text": [
      "\r",
      " 78% (247968000.0 of 315360000.0) |###  | Elapsed Time: 17:55:00 ETA:   3:10:15"
     ]
    },
    {
     "name": "stderr",
     "output_type": "stream",
     "text": [
      "\r",
      " 78% (248140800.0 of 315360000.0) |###  | Elapsed Time: 17:55:54 ETA:   5:49:54"
     ]
    },
    {
     "name": "stderr",
     "output_type": "stream",
     "text": [
      "\r",
      " 78% (248400000.0 of 315360000.0) |###  | Elapsed Time: 17:56:37 ETA:   3:08:46"
     ]
    },
    {
     "name": "stderr",
     "output_type": "stream",
     "text": [
      "\r",
      " 78% (248572800.0 of 315360000.0) |###  | Elapsed Time: 17:57:31 ETA:   5:46:02"
     ]
    },
    {
     "name": "stderr",
     "output_type": "stream",
     "text": [
      "\r",
      " 78% (248832000.0 of 315360000.0) |###  | Elapsed Time: 17:58:15 ETA:   3:08:17"
     ]
    },
    {
     "name": "stderr",
     "output_type": "stream",
     "text": [
      "\r",
      " 78% (249004800.0 of 315360000.0) |###  | Elapsed Time: 17:59:09 ETA:   5:47:25"
     ]
    },
    {
     "name": "stderr",
     "output_type": "stream",
     "text": [
      "\r",
      " 79% (249264000.0 of 315360000.0) |###  | Elapsed Time: 17:59:53 ETA:   3:05:54"
     ]
    },
    {
     "name": "stderr",
     "output_type": "stream",
     "text": [
      "\r",
      " 79% (249436800.0 of 315360000.0) |###  | Elapsed Time: 18:00:47 ETA:   5:43:01"
     ]
    },
    {
     "name": "stderr",
     "output_type": "stream",
     "text": [
      "\r",
      " 79% (249696000.0 of 315360000.0) |###  | Elapsed Time: 18:01:31 ETA:   3:04:36"
     ]
    },
    {
     "name": "stderr",
     "output_type": "stream",
     "text": [
      "\r",
      " 79% (249868800.0 of 315360000.0) |###  | Elapsed Time: 18:02:25 ETA:   5:39:01"
     ]
    },
    {
     "name": "stderr",
     "output_type": "stream",
     "text": [
      "\r",
      " 79% (250128000.0 of 315360000.0) |###  | Elapsed Time: 18:03:08 ETA:   3:04:14"
     ]
    },
    {
     "name": "stderr",
     "output_type": "stream",
     "text": [
      "\r",
      " 79% (250300800.0 of 315360000.0) |###  | Elapsed Time: 18:04:03 ETA:   5:42:00"
     ]
    },
    {
     "name": "stderr",
     "output_type": "stream",
     "text": [
      "\r",
      " 79% (250560000.0 of 315360000.0) |###  | Elapsed Time: 18:04:47 ETA:   3:02:31"
     ]
    },
    {
     "name": "stderr",
     "output_type": "stream",
     "text": [
      "\r",
      " 79% (250732800.0 of 315360000.0) |###  | Elapsed Time: 18:05:41 ETA:   5:35:58"
     ]
    },
    {
     "name": "stderr",
     "output_type": "stream",
     "text": [
      "\r",
      " 79% (250992000.0 of 315360000.0) |###  | Elapsed Time: 18:06:24 ETA:   3:01:21"
     ]
    },
    {
     "name": "stderr",
     "output_type": "stream",
     "text": [
      "\r",
      " 79% (251164800.0 of 315360000.0) |###  | Elapsed Time: 18:07:18 ETA:   5:33:27"
     ]
    },
    {
     "name": "stderr",
     "output_type": "stream",
     "text": [
      "\r",
      " 79% (251424000.0 of 315360000.0) |###  | Elapsed Time: 18:08:02 ETA:   2:59:30"
     ]
    },
    {
     "name": "stderr",
     "output_type": "stream",
     "text": [
      "\r",
      " 79% (251596800.0 of 315360000.0) |###  | Elapsed Time: 18:08:56 ETA:   5:33:08"
     ]
    },
    {
     "name": "stderr",
     "output_type": "stream",
     "text": [
      "\r",
      " 79% (251856000.0 of 315360000.0) |###  | Elapsed Time: 18:09:40 ETA:   2:58:04"
     ]
    },
    {
     "name": "stderr",
     "output_type": "stream",
     "text": [
      "\r",
      " 79% (252028800.0 of 315360000.0) |###  | Elapsed Time: 18:10:34 ETA:   5:29:09"
     ]
    },
    {
     "name": "stderr",
     "output_type": "stream",
     "text": [
      "\r",
      " 80% (252288000.0 of 315360000.0) |#### | Elapsed Time: 18:11:18 ETA:   2:59:13"
     ]
    },
    {
     "name": "stderr",
     "output_type": "stream",
     "text": [
      "\r",
      " 80% (252460800.0 of 315360000.0) |#### | Elapsed Time: 18:12:11 ETA:   5:25:18"
     ]
    },
    {
     "name": "stderr",
     "output_type": "stream",
     "text": [
      "\r",
      " 80% (252720000.0 of 315360000.0) |#### | Elapsed Time: 18:12:55 ETA:   2:55:22"
     ]
    },
    {
     "name": "stderr",
     "output_type": "stream",
     "text": [
      "\r",
      " 80% (252892800.0 of 315360000.0) |#### | Elapsed Time: 18:13:48 ETA:   5:21:44"
     ]
    },
    {
     "name": "stderr",
     "output_type": "stream",
     "text": [
      "\r",
      " 80% (253152000.0 of 315360000.0) |#### | Elapsed Time: 18:14:32 ETA:   2:54:12"
     ]
    },
    {
     "name": "stderr",
     "output_type": "stream",
     "text": [
      "\r",
      " 80% (253324800.0 of 315360000.0) |#### | Elapsed Time: 18:15:26 ETA:   5:21:34"
     ]
    },
    {
     "name": "stderr",
     "output_type": "stream",
     "text": [
      "\r",
      " 80% (253584000.0 of 315360000.0) |#### | Elapsed Time: 18:16:09 ETA:   2:53:08"
     ]
    },
    {
     "name": "stderr",
     "output_type": "stream",
     "text": [
      "\r",
      " 80% (253756800.0 of 315360000.0) |#### | Elapsed Time: 18:17:04 ETA:   5:23:06"
     ]
    },
    {
     "name": "stderr",
     "output_type": "stream",
     "text": [
      "\r",
      " 80% (254016000.0 of 315360000.0) |#### | Elapsed Time: 18:17:48 ETA:   2:52:54"
     ]
    },
    {
     "name": "stderr",
     "output_type": "stream",
     "text": [
      "\r",
      " 80% (254188800.0 of 315360000.0) |#### | Elapsed Time: 18:18:41 ETA:   5:16:43"
     ]
    },
    {
     "name": "stderr",
     "output_type": "stream",
     "text": [
      "\r",
      " 80% (254448000.0 of 315360000.0) |#### | Elapsed Time: 18:19:25 ETA:   2:50:42"
     ]
    },
    {
     "name": "stderr",
     "output_type": "stream",
     "text": [
      "\r",
      " 80% (254620800.0 of 315360000.0) |#### | Elapsed Time: 18:20:19 ETA:   5:16:53"
     ]
    },
    {
     "name": "stderr",
     "output_type": "stream",
     "text": [
      "\r",
      " 80% (254880000.0 of 315360000.0) |#### | Elapsed Time: 18:21:02 ETA:   2:49:30"
     ]
    },
    {
     "name": "stderr",
     "output_type": "stream",
     "text": [
      "\r",
      " 80% (255052800.0 of 315360000.0) |#### | Elapsed Time: 18:21:56 ETA:   5:11:32"
     ]
    },
    {
     "name": "stderr",
     "output_type": "stream",
     "text": [
      "\r",
      " 80% (255312000.0 of 315360000.0) |#### | Elapsed Time: 18:22:39 ETA:   2:46:35"
     ]
    },
    {
     "name": "stderr",
     "output_type": "stream",
     "text": [
      "\r",
      " 81% (255484800.0 of 315360000.0) |#### | Elapsed Time: 18:23:33 ETA:   5:10:10"
     ]
    },
    {
     "name": "stderr",
     "output_type": "stream",
     "text": [
      "\r",
      " 81% (255744000.0 of 315360000.0) |#### | Elapsed Time: 18:24:16 ETA:   2:46:54"
     ]
    },
    {
     "name": "stderr",
     "output_type": "stream",
     "text": [
      "\r",
      " 81% (255916800.0 of 315360000.0) |#### | Elapsed Time: 18:25:10 ETA:   5:05:11"
     ]
    },
    {
     "name": "stderr",
     "output_type": "stream",
     "text": [
      "\r",
      " 81% (256176000.0 of 315360000.0) |#### | Elapsed Time: 18:25:53 ETA:   2:45:02"
     ]
    },
    {
     "name": "stderr",
     "output_type": "stream",
     "text": [
      "\r",
      " 81% (256348800.0 of 315360000.0) |#### | Elapsed Time: 18:26:47 ETA:   5:04:32"
     ]
    },
    {
     "name": "stderr",
     "output_type": "stream",
     "text": [
      "\r",
      " 81% (256608000.0 of 315360000.0) |#### | Elapsed Time: 18:27:30 ETA:   2:43:21"
     ]
    },
    {
     "name": "stderr",
     "output_type": "stream",
     "text": [
      "\r",
      " 81% (256780800.0 of 315360000.0) |#### | Elapsed Time: 18:28:23 ETA:   5:02:22"
     ]
    },
    {
     "name": "stderr",
     "output_type": "stream",
     "text": [
      "\r",
      " 81% (257040000.0 of 315360000.0) |#### | Elapsed Time: 18:29:07 ETA:   2:42:13"
     ]
    },
    {
     "name": "stderr",
     "output_type": "stream",
     "text": [
      "\r",
      " 81% (257212800.0 of 315360000.0) |#### | Elapsed Time: 18:30:00 ETA:   4:59:21"
     ]
    },
    {
     "name": "stderr",
     "output_type": "stream",
     "text": [
      "\r",
      " 81% (257472000.0 of 315360000.0) |#### | Elapsed Time: 18:30:43 ETA:   2:40:27"
     ]
    },
    {
     "name": "stderr",
     "output_type": "stream",
     "text": [
      "\r",
      " 81% (257644800.0 of 315360000.0) |#### | Elapsed Time: 18:31:37 ETA:   4:58:29"
     ]
    },
    {
     "name": "stderr",
     "output_type": "stream",
     "text": [
      "\r",
      " 81% (257904000.0 of 315360000.0) |#### | Elapsed Time: 18:32:20 ETA:   2:38:42"
     ]
    },
    {
     "name": "stderr",
     "output_type": "stream",
     "text": [
      "\r",
      " 81% (258076800.0 of 315360000.0) |#### | Elapsed Time: 18:33:13 ETA:   4:53:41"
     ]
    },
    {
     "name": "stderr",
     "output_type": "stream",
     "text": [
      "\r",
      " 81% (258336000.0 of 315360000.0) |#### | Elapsed Time: 18:33:56 ETA:   2:38:04"
     ]
    },
    {
     "name": "stderr",
     "output_type": "stream",
     "text": [
      "\r",
      " 81% (258508800.0 of 315360000.0) |#### | Elapsed Time: 18:34:49 ETA:   4:52:08"
     ]
    },
    {
     "name": "stderr",
     "output_type": "stream",
     "text": [
      "\r",
      " 82% (258768000.0 of 315360000.0) |#### | Elapsed Time: 18:35:32 ETA:   2:36:37"
     ]
    },
    {
     "name": "stderr",
     "output_type": "stream",
     "text": [
      "\r",
      " 82% (258940800.0 of 315360000.0) |#### | Elapsed Time: 18:36:26 ETA:   4:50:38"
     ]
    },
    {
     "name": "stderr",
     "output_type": "stream",
     "text": [
      "\r",
      " 82% (259200000.0 of 315360000.0) |#### | Elapsed Time: 18:37:09 ETA:   2:35:39"
     ]
    },
    {
     "name": "stderr",
     "output_type": "stream",
     "text": [
      "\r",
      " 82% (259372800.0 of 315360000.0) |#### | Elapsed Time: 18:38:02 ETA:   4:49:03"
     ]
    },
    {
     "name": "stderr",
     "output_type": "stream",
     "text": [
      "\r",
      " 82% (259632000.0 of 315360000.0) |#### | Elapsed Time: 18:38:45 ETA:   2:34:15"
     ]
    },
    {
     "name": "stderr",
     "output_type": "stream",
     "text": [
      "\r",
      " 82% (259804800.0 of 315360000.0) |#### | Elapsed Time: 18:39:39 ETA:   4:45:09"
     ]
    },
    {
     "name": "stderr",
     "output_type": "stream",
     "text": [
      "\r",
      " 82% (260064000.0 of 315360000.0) |#### | Elapsed Time: 18:40:21 ETA:   2:32:28"
     ]
    },
    {
     "name": "stderr",
     "output_type": "stream",
     "text": [
      "\r",
      " 82% (260236800.0 of 315360000.0) |#### | Elapsed Time: 18:41:15 ETA:   4:43:45"
     ]
    },
    {
     "name": "stderr",
     "output_type": "stream",
     "text": [
      "\r",
      " 82% (260496000.0 of 315360000.0) |#### | Elapsed Time: 18:41:58 ETA:   2:33:11"
     ]
    },
    {
     "name": "stderr",
     "output_type": "stream",
     "text": [
      "\r",
      " 82% (260668800.0 of 315360000.0) |#### | Elapsed Time: 18:42:51 ETA:   4:40:52"
     ]
    },
    {
     "name": "stderr",
     "output_type": "stream",
     "text": [
      "\r",
      " 82% (260928000.0 of 315360000.0) |#### | Elapsed Time: 18:43:34 ETA:   2:29:55"
     ]
    },
    {
     "name": "stderr",
     "output_type": "stream",
     "text": [
      "\r",
      " 82% (261100800.0 of 315360000.0) |#### | Elapsed Time: 18:44:27 ETA:   4:37:16"
     ]
    },
    {
     "name": "stderr",
     "output_type": "stream",
     "text": [
      "\r",
      " 82% (261360000.0 of 315360000.0) |#### | Elapsed Time: 18:45:10 ETA:   2:28:46"
     ]
    },
    {
     "name": "stderr",
     "output_type": "stream",
     "text": [
      "\r",
      " 82% (261532800.0 of 315360000.0) |#### | Elapsed Time: 18:46:04 ETA:   4:38:24"
     ]
    },
    {
     "name": "stderr",
     "output_type": "stream",
     "text": [
      "\r",
      " 83% (261792000.0 of 315360000.0) |#### | Elapsed Time: 18:46:47 ETA:   2:28:13"
     ]
    },
    {
     "name": "stderr",
     "output_type": "stream",
     "text": [
      "\r",
      " 83% (261964800.0 of 315360000.0) |#### | Elapsed Time: 18:47:40 ETA:   4:36:08"
     ]
    },
    {
     "name": "stderr",
     "output_type": "stream",
     "text": [
      "\r",
      " 83% (262224000.0 of 315360000.0) |#### | Elapsed Time: 18:48:23 ETA:   2:26:24"
     ]
    },
    {
     "name": "stderr",
     "output_type": "stream",
     "text": [
      "\r",
      " 83% (262396800.0 of 315360000.0) |#### | Elapsed Time: 18:49:17 ETA:   4:34:00"
     ]
    },
    {
     "name": "stderr",
     "output_type": "stream",
     "text": [
      "\r",
      " 83% (262656000.0 of 315360000.0) |#### | Elapsed Time: 18:50:00 ETA:   2:25:04"
     ]
    },
    {
     "name": "stderr",
     "output_type": "stream",
     "text": [
      "\r",
      " 83% (262828800.0 of 315360000.0) |#### | Elapsed Time: 18:50:53 ETA:   4:31:05"
     ]
    },
    {
     "name": "stderr",
     "output_type": "stream",
     "text": [
      "\r",
      " 83% (263088000.0 of 315360000.0) |#### | Elapsed Time: 18:51:36 ETA:   2:23:59"
     ]
    },
    {
     "name": "stderr",
     "output_type": "stream",
     "text": [
      "\r",
      " 83% (263260800.0 of 315360000.0) |#### | Elapsed Time: 18:52:30 ETA:   4:29:18"
     ]
    },
    {
     "name": "stderr",
     "output_type": "stream",
     "text": [
      "\r",
      " 83% (263520000.0 of 315360000.0) |#### | Elapsed Time: 18:53:12 ETA:   2:22:47"
     ]
    },
    {
     "name": "stderr",
     "output_type": "stream",
     "text": [
      "\r",
      " 83% (263692800.0 of 315360000.0) |#### | Elapsed Time: 18:54:06 ETA:   4:24:28"
     ]
    },
    {
     "name": "stderr",
     "output_type": "stream",
     "text": [
      "\r",
      " 83% (263952000.0 of 315360000.0) |#### | Elapsed Time: 18:54:48 ETA:   2:20:57"
     ]
    },
    {
     "name": "stderr",
     "output_type": "stream",
     "text": [
      "\r",
      " 83% (264124800.0 of 315360000.0) |#### | Elapsed Time: 18:55:41 ETA:   4:21:31"
     ]
    },
    {
     "name": "stderr",
     "output_type": "stream",
     "text": [
      "\r",
      " 83% (264384000.0 of 315360000.0) |#### | Elapsed Time: 18:56:24 ETA:   2:20:16"
     ]
    },
    {
     "name": "stderr",
     "output_type": "stream",
     "text": [
      "\r",
      " 83% (264556800.0 of 315360000.0) |#### | Elapsed Time: 18:57:17 ETA:   4:20:54"
     ]
    },
    {
     "name": "stderr",
     "output_type": "stream",
     "text": [
      "\r",
      " 83% (264816000.0 of 315360000.0) |#### | Elapsed Time: 18:58:00 ETA:   2:18:31"
     ]
    },
    {
     "name": "stderr",
     "output_type": "stream",
     "text": [
      "\r",
      " 84% (264988800.0 of 315360000.0) |#### | Elapsed Time: 18:58:53 ETA:   4:18:26"
     ]
    },
    {
     "name": "stderr",
     "output_type": "stream",
     "text": [
      "\r",
      " 84% (265248000.0 of 315360000.0) |#### | Elapsed Time: 18:59:36 ETA:   2:17:40"
     ]
    },
    {
     "name": "stderr",
     "output_type": "stream",
     "text": [
      "\r",
      " 84% (265420800.0 of 315360000.0) |#### | Elapsed Time: 19:00:29 ETA:   4:14:35"
     ]
    },
    {
     "name": "stderr",
     "output_type": "stream",
     "text": [
      "\r",
      " 84% (265680000.0 of 315360000.0) |#### | Elapsed Time: 19:01:11 ETA:   2:16:03"
     ]
    },
    {
     "name": "stderr",
     "output_type": "stream",
     "text": [
      "\r",
      " 84% (265852800.0 of 315360000.0) |#### | Elapsed Time: 19:02:04 ETA:   4:14:24"
     ]
    },
    {
     "name": "stderr",
     "output_type": "stream",
     "text": [
      "\r",
      " 84% (266112000.0 of 315360000.0) |#### | Elapsed Time: 19:02:47 ETA:   2:15:19"
     ]
    },
    {
     "name": "stderr",
     "output_type": "stream",
     "text": [
      "\r",
      " 84% (266284800.0 of 315360000.0) |#### | Elapsed Time: 19:03:42 ETA:   4:20:38"
     ]
    },
    {
     "name": "stderr",
     "output_type": "stream",
     "text": [
      "\r",
      " 84% (266544000.0 of 315360000.0) |#### | Elapsed Time: 19:04:25 ETA:   2:14:20"
     ]
    },
    {
     "name": "stderr",
     "output_type": "stream",
     "text": [
      "\r",
      " 84% (266716800.0 of 315360000.0) |#### | Elapsed Time: 19:05:19 ETA:   4:11:51"
     ]
    },
    {
     "name": "stderr",
     "output_type": "stream",
     "text": [
      "\r",
      " 84% (266976000.0 of 315360000.0) |#### | Elapsed Time: 19:06:01 ETA:   2:12:47"
     ]
    },
    {
     "name": "stderr",
     "output_type": "stream",
     "text": [
      "\r",
      " 84% (267148800.0 of 315360000.0) |#### | Elapsed Time: 19:06:54 ETA:   4:06:01"
     ]
    },
    {
     "name": "stderr",
     "output_type": "stream",
     "text": [
      "\r",
      " 84% (267408000.0 of 315360000.0) |#### | Elapsed Time: 19:07:37 ETA:   2:11:07"
     ]
    },
    {
     "name": "stderr",
     "output_type": "stream",
     "text": [
      "\r",
      " 84% (267580800.0 of 315360000.0) |#### | Elapsed Time: 19:08:30 ETA:   4:03:25"
     ]
    },
    {
     "name": "stderr",
     "output_type": "stream",
     "text": [
      "\r",
      " 84% (267840000.0 of 315360000.0) |#### | Elapsed Time: 19:09:12 ETA:   2:10:48"
     ]
    },
    {
     "name": "stderr",
     "output_type": "stream",
     "text": [
      "\r",
      " 84% (268012800.0 of 315360000.0) |#### | Elapsed Time: 19:10:06 ETA:   4:02:25"
     ]
    },
    {
     "name": "stderr",
     "output_type": "stream",
     "text": [
      "\r",
      " 85% (268272000.0 of 315360000.0) |#### | Elapsed Time: 19:10:48 ETA:   2:08:55"
     ]
    },
    {
     "name": "stderr",
     "output_type": "stream",
     "text": [
      "\r",
      " 85% (268444800.0 of 315360000.0) |#### | Elapsed Time: 19:11:42 ETA:   4:01:38"
     ]
    },
    {
     "name": "stderr",
     "output_type": "stream",
     "text": [
      "\r",
      " 85% (268704000.0 of 315360000.0) |#### | Elapsed Time: 19:12:24 ETA:   2:07:06"
     ]
    },
    {
     "name": "stderr",
     "output_type": "stream",
     "text": [
      "\r",
      " 85% (268876800.0 of 315360000.0) |#### | Elapsed Time: 19:13:17 ETA:   3:59:20"
     ]
    },
    {
     "name": "stderr",
     "output_type": "stream",
     "text": [
      "\r",
      " 85% (269136000.0 of 315360000.0) |#### | Elapsed Time: 19:14:00 ETA:   2:06:23"
     ]
    },
    {
     "name": "stderr",
     "output_type": "stream",
     "text": [
      "\r",
      " 85% (269308800.0 of 315360000.0) |#### | Elapsed Time: 19:14:53 ETA:   3:56:02"
     ]
    },
    {
     "name": "stderr",
     "output_type": "stream",
     "text": [
      "\r",
      " 85% (269568000.0 of 315360000.0) |#### | Elapsed Time: 19:15:35 ETA:   2:05:06"
     ]
    },
    {
     "name": "stderr",
     "output_type": "stream",
     "text": [
      "\r",
      " 85% (269740800.0 of 315360000.0) |#### | Elapsed Time: 19:16:29 ETA:   3:53:38"
     ]
    },
    {
     "name": "stderr",
     "output_type": "stream",
     "text": [
      "\r",
      " 85% (270000000.0 of 315360000.0) |#### | Elapsed Time: 19:17:11 ETA:   2:04:03"
     ]
    },
    {
     "name": "stderr",
     "output_type": "stream",
     "text": [
      "\r",
      " 85% (270172800.0 of 315360000.0) |#### | Elapsed Time: 19:18:05 ETA:   3:53:24"
     ]
    },
    {
     "name": "stderr",
     "output_type": "stream",
     "text": [
      "\r",
      " 85% (270432000.0 of 315360000.0) |#### | Elapsed Time: 19:18:47 ETA:   2:02:38"
     ]
    },
    {
     "name": "stderr",
     "output_type": "stream",
     "text": [
      "\r",
      " 85% (270604800.0 of 315360000.0) |#### | Elapsed Time: 19:19:40 ETA:   3:48:18"
     ]
    },
    {
     "name": "stderr",
     "output_type": "stream",
     "text": [
      "\r",
      " 85% (270864000.0 of 315360000.0) |#### | Elapsed Time: 19:20:22 ETA:   2:01:05"
     ]
    },
    {
     "name": "stderr",
     "output_type": "stream",
     "text": [
      "\r",
      " 85% (271036800.0 of 315360000.0) |#### | Elapsed Time: 19:21:15 ETA:   3:46:27"
     ]
    },
    {
     "name": "stderr",
     "output_type": "stream",
     "text": [
      "\r",
      " 86% (271296000.0 of 315360000.0) |#### | Elapsed Time: 19:21:58 ETA:   2:00:12"
     ]
    },
    {
     "name": "stderr",
     "output_type": "stream",
     "text": [
      "\r",
      " 86% (271468800.0 of 315360000.0) |#### | Elapsed Time: 19:22:51 ETA:   3:43:47"
     ]
    },
    {
     "name": "stderr",
     "output_type": "stream",
     "text": [
      "\r",
      " 86% (271728000.0 of 315360000.0) |#### | Elapsed Time: 19:23:33 ETA:   1:58:51"
     ]
    },
    {
     "name": "stderr",
     "output_type": "stream",
     "text": [
      "\r",
      " 86% (271900800.0 of 315360000.0) |#### | Elapsed Time: 19:24:26 ETA:   3:42:18"
     ]
    },
    {
     "name": "stderr",
     "output_type": "stream",
     "text": [
      "\r",
      " 86% (272160000.0 of 315360000.0) |#### | Elapsed Time: 19:25:08 ETA:   1:57:47"
     ]
    },
    {
     "name": "stderr",
     "output_type": "stream",
     "text": [
      "\r",
      " 86% (272332800.0 of 315360000.0) |#### | Elapsed Time: 19:26:01 ETA:   3:39:58"
     ]
    },
    {
     "name": "stderr",
     "output_type": "stream",
     "text": [
      "\r",
      " 86% (272592000.0 of 315360000.0) |#### | Elapsed Time: 19:26:44 ETA:   1:57:24"
     ]
    },
    {
     "name": "stderr",
     "output_type": "stream",
     "text": [
      "\r",
      " 86% (272764800.0 of 315360000.0) |#### | Elapsed Time: 19:27:37 ETA:   3:37:58"
     ]
    },
    {
     "name": "stderr",
     "output_type": "stream",
     "text": [
      "\r",
      " 86% (273024000.0 of 315360000.0) |#### | Elapsed Time: 19:28:19 ETA:   1:54:58"
     ]
    },
    {
     "name": "stderr",
     "output_type": "stream",
     "text": [
      "\r",
      " 86% (273196800.0 of 315360000.0) |#### | Elapsed Time: 19:29:12 ETA:   3:35:55"
     ]
    },
    {
     "name": "stderr",
     "output_type": "stream",
     "text": [
      "\r",
      " 86% (273456000.0 of 315360000.0) |#### | Elapsed Time: 19:29:55 ETA:   1:53:38"
     ]
    },
    {
     "name": "stderr",
     "output_type": "stream",
     "text": [
      "\r",
      " 86% (273628800.0 of 315360000.0) |#### | Elapsed Time: 19:30:48 ETA:   3:35:57"
     ]
    },
    {
     "name": "stderr",
     "output_type": "stream",
     "text": [
      "\r",
      " 86% (273888000.0 of 315360000.0) |#### | Elapsed Time: 19:31:30 ETA:   1:52:35"
     ]
    },
    {
     "name": "stderr",
     "output_type": "stream",
     "text": [
      "\r",
      " 86% (274060800.0 of 315360000.0) |#### | Elapsed Time: 19:32:25 ETA:   3:36:47"
     ]
    },
    {
     "name": "stderr",
     "output_type": "stream",
     "text": [
      "\r",
      " 86% (274320000.0 of 315360000.0) |#### | Elapsed Time: 19:33:07 ETA:   1:51:32"
     ]
    },
    {
     "name": "stderr",
     "output_type": "stream",
     "text": [
      "\r",
      " 87% (274492800.0 of 315360000.0) |#### | Elapsed Time: 19:34:01 ETA:   3:30:52"
     ]
    },
    {
     "name": "stderr",
     "output_type": "stream",
     "text": [
      "\r",
      " 87% (274752000.0 of 315360000.0) |#### | Elapsed Time: 19:34:43 ETA:   1:50:05"
     ]
    },
    {
     "name": "stderr",
     "output_type": "stream",
     "text": [
      "\r",
      " 87% (274924800.0 of 315360000.0) |#### | Elapsed Time: 19:35:37 ETA:   3:30:04"
     ]
    },
    {
     "name": "stderr",
     "output_type": "stream",
     "text": [
      "\r",
      " 87% (275184000.0 of 315360000.0) |#### | Elapsed Time: 19:36:19 ETA:   1:48:42"
     ]
    },
    {
     "name": "stderr",
     "output_type": "stream",
     "text": [
      "\r",
      " 87% (275356800.0 of 315360000.0) |#### | Elapsed Time: 19:37:11 ETA:   3:22:46"
     ]
    },
    {
     "name": "stderr",
     "output_type": "stream",
     "text": [
      "\r",
      " 87% (275616000.0 of 315360000.0) |#### | Elapsed Time: 19:37:54 ETA:   1:48:13"
     ]
    },
    {
     "name": "stderr",
     "output_type": "stream",
     "text": [
      "\r",
      " 87% (275788800.0 of 315360000.0) |#### | Elapsed Time: 19:38:47 ETA:   3:24:45"
     ]
    },
    {
     "name": "stderr",
     "output_type": "stream",
     "text": [
      "\r",
      " 87% (276048000.0 of 315360000.0) |#### | Elapsed Time: 19:39:29 ETA:   1:46:28"
     ]
    },
    {
     "name": "stderr",
     "output_type": "stream",
     "text": [
      "\r",
      " 87% (276220800.0 of 315360000.0) |#### | Elapsed Time: 19:40:22 ETA:   3:18:45"
     ]
    },
    {
     "name": "stderr",
     "output_type": "stream",
     "text": [
      "\r",
      " 87% (276480000.0 of 315360000.0) |#### | Elapsed Time: 19:41:04 ETA:   1:45:05"
     ]
    },
    {
     "name": "stderr",
     "output_type": "stream",
     "text": [
      "\r",
      " 87% (276652800.0 of 315360000.0) |#### | Elapsed Time: 19:41:57 ETA:   3:18:00"
     ]
    },
    {
     "name": "stderr",
     "output_type": "stream",
     "text": [
      "\r",
      " 87% (276912000.0 of 315360000.0) |#### | Elapsed Time: 19:42:39 ETA:   1:44:15"
     ]
    },
    {
     "name": "stderr",
     "output_type": "stream",
     "text": [
      "\r",
      " 87% (277084800.0 of 315360000.0) |#### | Elapsed Time: 19:43:36 ETA:   3:28:50"
     ]
    },
    {
     "name": "stderr",
     "output_type": "stream",
     "text": [
      "\r",
      " 87% (277344000.0 of 315360000.0) |#### | Elapsed Time: 19:44:18 ETA:   1:42:56"
     ]
    },
    {
     "name": "stderr",
     "output_type": "stream",
     "text": [
      "\r",
      " 88% (277516800.0 of 315360000.0) |#### | Elapsed Time: 19:45:11 ETA:   3:11:37"
     ]
    },
    {
     "name": "stderr",
     "output_type": "stream",
     "text": [
      "\r",
      " 88% (277776000.0 of 315360000.0) |#### | Elapsed Time: 19:45:53 ETA:   1:41:39"
     ]
    },
    {
     "name": "stderr",
     "output_type": "stream",
     "text": [
      "\r",
      " 88% (277948800.0 of 315360000.0) |#### | Elapsed Time: 19:46:46 ETA:   3:12:10"
     ]
    },
    {
     "name": "stderr",
     "output_type": "stream",
     "text": [
      "\r",
      " 88% (278208000.0 of 315360000.0) |#### | Elapsed Time: 19:47:28 ETA:   1:41:07"
     ]
    },
    {
     "name": "stderr",
     "output_type": "stream",
     "text": [
      "\r",
      " 88% (278380800.0 of 315360000.0) |#### | Elapsed Time: 19:48:21 ETA:   3:09:28"
     ]
    },
    {
     "name": "stderr",
     "output_type": "stream",
     "text": [
      "\r",
      " 88% (278640000.0 of 315360000.0) |#### | Elapsed Time: 19:49:03 ETA:   1:39:07"
     ]
    },
    {
     "name": "stderr",
     "output_type": "stream",
     "text": [
      "\r",
      " 88% (278812800.0 of 315360000.0) |#### | Elapsed Time: 19:49:56 ETA:   3:05:25"
     ]
    },
    {
     "name": "stderr",
     "output_type": "stream",
     "text": [
      "\r",
      " 88% (279072000.0 of 315360000.0) |#### | Elapsed Time: 19:50:38 ETA:   1:38:09"
     ]
    },
    {
     "name": "stderr",
     "output_type": "stream",
     "text": [
      "\r",
      " 88% (279244800.0 of 315360000.0) |#### | Elapsed Time: 19:51:31 ETA:   3:04:23"
     ]
    },
    {
     "name": "stderr",
     "output_type": "stream",
     "text": [
      "\r",
      " 88% (279504000.0 of 315360000.0) |#### | Elapsed Time: 19:52:13 ETA:   1:36:20"
     ]
    },
    {
     "name": "stderr",
     "output_type": "stream",
     "text": [
      "\r",
      " 88% (279676800.0 of 315360000.0) |#### | Elapsed Time: 19:53:06 ETA:   3:02:03"
     ]
    },
    {
     "name": "stderr",
     "output_type": "stream",
     "text": [
      "\r",
      " 88% (279936000.0 of 315360000.0) |#### | Elapsed Time: 19:53:48 ETA:   1:35:50"
     ]
    },
    {
     "name": "stderr",
     "output_type": "stream",
     "text": [
      "\r",
      " 88% (280108800.0 of 315360000.0) |#### | Elapsed Time: 19:54:40 ETA:   2:59:03"
     ]
    },
    {
     "name": "stderr",
     "output_type": "stream",
     "text": [
      "\r",
      " 88% (280368000.0 of 315360000.0) |#### | Elapsed Time: 19:55:22 ETA:   1:33:59"
     ]
    },
    {
     "name": "stderr",
     "output_type": "stream",
     "text": [
      "\r",
      " 88% (280540800.0 of 315360000.0) |#### | Elapsed Time: 19:56:15 ETA:   2:58:21"
     ]
    },
    {
     "name": "stderr",
     "output_type": "stream",
     "text": [
      "\r",
      " 89% (280800000.0 of 315360000.0) |#### | Elapsed Time: 19:56:57 ETA:   1:33:00"
     ]
    },
    {
     "name": "stderr",
     "output_type": "stream",
     "text": [
      "\r",
      " 89% (280972800.0 of 315360000.0) |#### | Elapsed Time: 19:57:50 ETA:   2:55:22"
     ]
    },
    {
     "name": "stderr",
     "output_type": "stream",
     "text": [
      "\r",
      " 89% (281232000.0 of 315360000.0) |#### | Elapsed Time: 19:58:32 ETA:   1:31:28"
     ]
    },
    {
     "name": "stderr",
     "output_type": "stream",
     "text": [
      "\r",
      " 89% (281404800.0 of 315360000.0) |#### | Elapsed Time: 19:59:24 ETA:   2:52:16"
     ]
    },
    {
     "name": "stderr",
     "output_type": "stream",
     "text": [
      "\r",
      " 89% (281664000.0 of 315360000.0) |#### | Elapsed Time: 20:00:06 ETA:   1:31:18"
     ]
    },
    {
     "name": "stderr",
     "output_type": "stream",
     "text": [
      "\r",
      " 89% (281836800.0 of 315360000.0) |#### | Elapsed Time: 20:00:59 ETA:   2:49:06"
     ]
    },
    {
     "name": "stderr",
     "output_type": "stream",
     "text": [
      "\r",
      " 89% (282096000.0 of 315360000.0) |#### | Elapsed Time: 20:01:41 ETA:   1:29:34"
     ]
    },
    {
     "name": "stderr",
     "output_type": "stream",
     "text": [
      "\r",
      " 89% (282268800.0 of 315360000.0) |#### | Elapsed Time: 20:02:34 ETA:   2:51:25"
     ]
    },
    {
     "name": "stderr",
     "output_type": "stream",
     "text": [
      "\r",
      " 89% (282528000.0 of 315360000.0) |#### | Elapsed Time: 20:03:16 ETA:   1:27:48"
     ]
    },
    {
     "name": "stderr",
     "output_type": "stream",
     "text": [
      "\r",
      " 89% (282700800.0 of 315360000.0) |#### | Elapsed Time: 20:04:09 ETA:   2:46:29"
     ]
    },
    {
     "name": "stderr",
     "output_type": "stream",
     "text": [
      "\r",
      " 89% (282960000.0 of 315360000.0) |#### | Elapsed Time: 20:04:51 ETA:   1:27:42"
     ]
    },
    {
     "name": "stderr",
     "output_type": "stream",
     "text": [
      "\r",
      " 89% (283132800.0 of 315360000.0) |#### | Elapsed Time: 20:05:43 ETA:   2:43:39"
     ]
    },
    {
     "name": "stderr",
     "output_type": "stream",
     "text": [
      "\r",
      " 89% (283392000.0 of 315360000.0) |#### | Elapsed Time: 20:06:25 ETA:   1:25:54"
     ]
    },
    {
     "name": "stderr",
     "output_type": "stream",
     "text": [
      "\r",
      " 89% (283564800.0 of 315360000.0) |#### | Elapsed Time: 20:07:18 ETA:   2:41:16"
     ]
    },
    {
     "name": "stderr",
     "output_type": "stream",
     "text": [
      "\r",
      " 90% (283824000.0 of 315360000.0) |#### | Elapsed Time: 20:08:00 ETA:   1:24:34"
     ]
    },
    {
     "name": "stderr",
     "output_type": "stream",
     "text": [
      "\r",
      " 90% (283996800.0 of 315360000.0) |#### | Elapsed Time: 20:08:52 ETA:   2:38:33"
     ]
    },
    {
     "name": "stderr",
     "output_type": "stream",
     "text": [
      "\r",
      " 90% (284256000.0 of 315360000.0) |#### | Elapsed Time: 20:09:34 ETA:   1:23:43"
     ]
    },
    {
     "name": "stderr",
     "output_type": "stream",
     "text": [
      "\r",
      " 90% (284428800.0 of 315360000.0) |#### | Elapsed Time: 20:10:26 ETA:   2:36:38"
     ]
    },
    {
     "name": "stderr",
     "output_type": "stream",
     "text": [
      "\r",
      " 90% (284688000.0 of 315360000.0) |#### | Elapsed Time: 20:11:08 ETA:   1:21:59"
     ]
    },
    {
     "name": "stderr",
     "output_type": "stream",
     "text": [
      "\r",
      " 90% (284860800.0 of 315360000.0) |#### | Elapsed Time: 20:12:00 ETA:   2:34:16"
     ]
    },
    {
     "name": "stderr",
     "output_type": "stream",
     "text": [
      "\r",
      " 90% (285120000.0 of 315360000.0) |#### | Elapsed Time: 20:12:42 ETA:   1:21:17"
     ]
    },
    {
     "name": "stderr",
     "output_type": "stream",
     "text": [
      "\r",
      " 90% (285292800.0 of 315360000.0) |#### | Elapsed Time: 20:13:35 ETA:   2:32:27"
     ]
    },
    {
     "name": "stderr",
     "output_type": "stream",
     "text": [
      "\r",
      " 90% (285552000.0 of 315360000.0) |#### | Elapsed Time: 20:14:17 ETA:   1:20:25"
     ]
    },
    {
     "name": "stderr",
     "output_type": "stream",
     "text": [
      "\r",
      " 90% (285724800.0 of 315360000.0) |#### | Elapsed Time: 20:15:09 ETA:   2:30:17"
     ]
    },
    {
     "name": "stderr",
     "output_type": "stream",
     "text": [
      "\r",
      " 90% (285984000.0 of 315360000.0) |#### | Elapsed Time: 20:15:51 ETA:   1:18:34"
     ]
    },
    {
     "name": "stderr",
     "output_type": "stream",
     "text": [
      "\r",
      " 90% (286156800.0 of 315360000.0) |#### | Elapsed Time: 20:16:44 ETA:   2:29:55"
     ]
    },
    {
     "name": "stderr",
     "output_type": "stream",
     "text": [
      "\r",
      " 90% (286416000.0 of 315360000.0) |#### | Elapsed Time: 20:17:26 ETA:   1:17:29"
     ]
    },
    {
     "name": "stderr",
     "output_type": "stream",
     "text": [
      "\r",
      " 90% (286588800.0 of 315360000.0) |#### | Elapsed Time: 20:18:18 ETA:   2:24:18"
     ]
    },
    {
     "name": "stderr",
     "output_type": "stream",
     "text": [
      "\r",
      " 90% (286848000.0 of 315360000.0) |#### | Elapsed Time: 20:19:00 ETA:   1:17:08"
     ]
    },
    {
     "name": "stderr",
     "output_type": "stream",
     "text": [
      "\r",
      " 91% (287020800.0 of 315360000.0) |#### | Elapsed Time: 20:19:53 ETA:   2:24:41"
     ]
    },
    {
     "name": "stderr",
     "output_type": "stream",
     "text": [
      "\r",
      " 91% (287280000.0 of 315360000.0) |#### | Elapsed Time: 20:20:34 ETA:   1:14:43"
     ]
    },
    {
     "name": "stderr",
     "output_type": "stream",
     "text": [
      "\r",
      " 91% (287452800.0 of 315360000.0) |#### | Elapsed Time: 20:21:27 ETA:   2:21:20"
     ]
    },
    {
     "name": "stderr",
     "output_type": "stream",
     "text": [
      "\r",
      " 91% (287712000.0 of 315360000.0) |#### | Elapsed Time: 20:22:08 ETA:   1:14:05"
     ]
    },
    {
     "name": "stderr",
     "output_type": "stream",
     "text": [
      "\r",
      " 91% (287884800.0 of 315360000.0) |#### | Elapsed Time: 20:23:01 ETA:   2:18:23"
     ]
    },
    {
     "name": "stderr",
     "output_type": "stream",
     "text": [
      "\r",
      " 91% (288144000.0 of 315360000.0) |#### | Elapsed Time: 20:23:42 ETA:   1:13:10"
     ]
    },
    {
     "name": "stderr",
     "output_type": "stream",
     "text": [
      "\r",
      " 91% (288316800.0 of 315360000.0) |#### | Elapsed Time: 20:24:35 ETA:   2:16:45"
     ]
    },
    {
     "name": "stderr",
     "output_type": "stream",
     "text": [
      "\r",
      " 91% (288576000.0 of 315360000.0) |#### | Elapsed Time: 20:25:16 ETA:   1:11:23"
     ]
    },
    {
     "name": "stderr",
     "output_type": "stream",
     "text": [
      "\r",
      " 91% (288748800.0 of 315360000.0) |#### | Elapsed Time: 20:26:09 ETA:   2:14:33"
     ]
    },
    {
     "name": "stderr",
     "output_type": "stream",
     "text": [
      "\r",
      " 91% (289008000.0 of 315360000.0) |#### | Elapsed Time: 20:26:50 ETA:   1:10:13"
     ]
    },
    {
     "name": "stderr",
     "output_type": "stream",
     "text": [
      "\r",
      " 91% (289180800.0 of 315360000.0) |#### | Elapsed Time: 20:27:42 ETA:   2:11:57"
     ]
    },
    {
     "name": "stderr",
     "output_type": "stream",
     "text": [
      "\r",
      " 91% (289440000.0 of 315360000.0) |#### | Elapsed Time: 20:28:24 ETA:   1:09:20"
     ]
    },
    {
     "name": "stderr",
     "output_type": "stream",
     "text": [
      "\r",
      " 91% (289612800.0 of 315360000.0) |#### | Elapsed Time: 20:29:16 ETA:   2:09:19"
     ]
    },
    {
     "name": "stderr",
     "output_type": "stream",
     "text": [
      "\r",
      " 91% (289872000.0 of 315360000.0) |#### | Elapsed Time: 20:29:58 ETA:   1:08:17"
     ]
    },
    {
     "name": "stderr",
     "output_type": "stream",
     "text": [
      "\r",
      " 91% (290044800.0 of 315360000.0) |#### | Elapsed Time: 20:30:50 ETA:   2:07:15"
     ]
    },
    {
     "name": "stderr",
     "output_type": "stream",
     "text": [
      "\r",
      " 92% (290304000.0 of 315360000.0) |#### | Elapsed Time: 20:31:31 ETA:   1:06:31"
     ]
    },
    {
     "name": "stderr",
     "output_type": "stream",
     "text": [
      "\r",
      " 92% (290476800.0 of 315360000.0) |#### | Elapsed Time: 20:32:24 ETA:   2:06:33"
     ]
    },
    {
     "name": "stderr",
     "output_type": "stream",
     "text": [
      "\r",
      " 92% (290736000.0 of 315360000.0) |#### | Elapsed Time: 20:33:05 ETA:   1:05:44"
     ]
    },
    {
     "name": "stderr",
     "output_type": "stream",
     "text": [
      "\r",
      " 92% (290908800.0 of 315360000.0) |#### | Elapsed Time: 20:33:58 ETA:   2:03:31"
     ]
    },
    {
     "name": "stderr",
     "output_type": "stream",
     "text": [
      "\r",
      " 92% (291168000.0 of 315360000.0) |#### | Elapsed Time: 20:34:39 ETA:   1:04:36"
     ]
    },
    {
     "name": "stderr",
     "output_type": "stream",
     "text": [
      "\r",
      " 92% (291340800.0 of 315360000.0) |#### | Elapsed Time: 20:35:31 ETA:   2:00:24"
     ]
    },
    {
     "name": "stderr",
     "output_type": "stream",
     "text": [
      "\r",
      " 92% (291600000.0 of 315360000.0) |#### | Elapsed Time: 20:36:13 ETA:   1:02:57"
     ]
    },
    {
     "name": "stderr",
     "output_type": "stream",
     "text": [
      "\r",
      " 92% (291772800.0 of 315360000.0) |#### | Elapsed Time: 20:37:05 ETA:   1:58:42"
     ]
    },
    {
     "name": "stderr",
     "output_type": "stream",
     "text": [
      "\r",
      " 92% (292032000.0 of 315360000.0) |#### | Elapsed Time: 20:37:46 ETA:   1:01:57"
     ]
    },
    {
     "name": "stderr",
     "output_type": "stream",
     "text": [
      "\r",
      " 92% (292204800.0 of 315360000.0) |#### | Elapsed Time: 20:38:38 ETA:   1:57:01"
     ]
    },
    {
     "name": "stderr",
     "output_type": "stream",
     "text": [
      "\r",
      " 92% (292464000.0 of 315360000.0) |#### | Elapsed Time: 20:39:20 ETA:   1:00:38"
     ]
    },
    {
     "name": "stderr",
     "output_type": "stream",
     "text": [
      "\r",
      " 92% (292636800.0 of 315360000.0) |#### | Elapsed Time: 20:40:12 ETA:   1:55:23"
     ]
    },
    {
     "name": "stderr",
     "output_type": "stream",
     "text": [
      "\r",
      " 92% (292896000.0 of 315360000.0) |#### | Elapsed Time: 20:40:54 ETA:   0:59:47"
     ]
    },
    {
     "name": "stderr",
     "output_type": "stream",
     "text": [
      "\r",
      " 92% (293068800.0 of 315360000.0) |#### | Elapsed Time: 20:41:46 ETA:   1:52:44"
     ]
    },
    {
     "name": "stderr",
     "output_type": "stream",
     "text": [
      "\r",
      " 93% (293328000.0 of 315360000.0) |#### | Elapsed Time: 20:42:27 ETA:   0:58:29"
     ]
    },
    {
     "name": "stderr",
     "output_type": "stream",
     "text": [
      "\r",
      " 93% (293500800.0 of 315360000.0) |#### | Elapsed Time: 20:43:20 ETA:   1:50:53"
     ]
    },
    {
     "name": "stderr",
     "output_type": "stream",
     "text": [
      "\r",
      " 93% (293760000.0 of 315360000.0) |#### | Elapsed Time: 20:44:01 ETA:   0:57:34"
     ]
    },
    {
     "name": "stderr",
     "output_type": "stream",
     "text": [
      "\r",
      " 93% (293932800.0 of 315360000.0) |#### | Elapsed Time: 20:44:54 ETA:   1:48:43"
     ]
    },
    {
     "name": "stderr",
     "output_type": "stream",
     "text": [
      "\r",
      " 93% (294192000.0 of 315360000.0) |#### | Elapsed Time: 20:45:35 ETA:   0:56:19"
     ]
    },
    {
     "name": "stderr",
     "output_type": "stream",
     "text": [
      "\r",
      " 93% (294364800.0 of 315360000.0) |#### | Elapsed Time: 20:46:28 ETA:   1:45:39"
     ]
    },
    {
     "name": "stderr",
     "output_type": "stream",
     "text": [
      "\r",
      " 93% (294624000.0 of 315360000.0) |#### | Elapsed Time: 20:47:09 ETA:   0:54:49"
     ]
    },
    {
     "name": "stderr",
     "output_type": "stream",
     "text": [
      "\r",
      " 93% (294796800.0 of 315360000.0) |#### | Elapsed Time: 20:48:01 ETA:   1:43:07"
     ]
    },
    {
     "name": "stderr",
     "output_type": "stream",
     "text": [
      "\r",
      " 93% (295056000.0 of 315360000.0) |#### | Elapsed Time: 20:48:42 ETA:   0:53:59"
     ]
    },
    {
     "name": "stderr",
     "output_type": "stream",
     "text": [
      "\r",
      " 93% (295228800.0 of 315360000.0) |#### | Elapsed Time: 20:49:34 ETA:   1:40:47"
     ]
    },
    {
     "name": "stderr",
     "output_type": "stream",
     "text": [
      "\r",
      " 93% (295488000.0 of 315360000.0) |#### | Elapsed Time: 20:50:15 ETA:   0:53:00"
     ]
    },
    {
     "name": "stderr",
     "output_type": "stream",
     "text": [
      "\r",
      " 93% (295660800.0 of 315360000.0) |#### | Elapsed Time: 20:51:07 ETA:   1:38:17"
     ]
    },
    {
     "name": "stderr",
     "output_type": "stream",
     "text": [
      "\r",
      " 93% (295920000.0 of 315360000.0) |#### | Elapsed Time: 20:51:48 ETA:   0:51:24"
     ]
    },
    {
     "name": "stderr",
     "output_type": "stream",
     "text": [
      "\r",
      " 93% (296092800.0 of 315360000.0) |#### | Elapsed Time: 20:52:41 ETA:   1:37:07"
     ]
    },
    {
     "name": "stderr",
     "output_type": "stream",
     "text": [
      "\r",
      " 93% (296352000.0 of 315360000.0) |#### | Elapsed Time: 20:53:22 ETA:   0:50:48"
     ]
    },
    {
     "name": "stderr",
     "output_type": "stream",
     "text": [
      "\r",
      " 94% (296524800.0 of 315360000.0) |#### | Elapsed Time: 20:54:14 ETA:   1:34:35"
     ]
    },
    {
     "name": "stderr",
     "output_type": "stream",
     "text": [
      "\r",
      " 94% (296784000.0 of 315360000.0) |#### | Elapsed Time: 20:54:56 ETA:   0:49:26"
     ]
    },
    {
     "name": "stderr",
     "output_type": "stream",
     "text": [
      "\r",
      " 94% (296956800.0 of 315360000.0) |#### | Elapsed Time: 20:55:48 ETA:   1:32:56"
     ]
    },
    {
     "name": "stderr",
     "output_type": "stream",
     "text": [
      "\r",
      " 94% (297216000.0 of 315360000.0) |#### | Elapsed Time: 20:56:29 ETA:   0:48:03"
     ]
    },
    {
     "name": "stderr",
     "output_type": "stream",
     "text": [
      "\r",
      " 94% (297388800.0 of 315360000.0) |#### | Elapsed Time: 20:57:21 ETA:   1:29:54"
     ]
    },
    {
     "name": "stderr",
     "output_type": "stream",
     "text": [
      "\r",
      " 94% (297648000.0 of 315360000.0) |#### | Elapsed Time: 20:58:02 ETA:   0:47:00"
     ]
    },
    {
     "name": "stderr",
     "output_type": "stream",
     "text": [
      "\r",
      " 94% (297820800.0 of 315360000.0) |#### | Elapsed Time: 20:58:55 ETA:   1:28:27"
     ]
    },
    {
     "name": "stderr",
     "output_type": "stream",
     "text": [
      "\r",
      " 94% (298080000.0 of 315360000.0) |#### | Elapsed Time: 20:59:36 ETA:   0:45:32"
     ]
    },
    {
     "name": "stderr",
     "output_type": "stream",
     "text": [
      "\r",
      " 94% (298252800.0 of 315360000.0) |#### | Elapsed Time: 21:00:28 ETA:   1:26:39"
     ]
    },
    {
     "name": "stderr",
     "output_type": "stream",
     "text": [
      "\r",
      " 94% (298512000.0 of 315360000.0) |#### | Elapsed Time: 21:01:09 ETA:   0:44:25"
     ]
    },
    {
     "name": "stderr",
     "output_type": "stream",
     "text": [
      "\r",
      " 94% (298684800.0 of 315360000.0) |#### | Elapsed Time: 21:02:01 ETA:   1:23:33"
     ]
    },
    {
     "name": "stderr",
     "output_type": "stream",
     "text": [
      "\r",
      " 94% (298944000.0 of 315360000.0) |#### | Elapsed Time: 21:02:42 ETA:   0:43:12"
     ]
    },
    {
     "name": "stderr",
     "output_type": "stream",
     "text": [
      "\r",
      " 94% (299116800.0 of 315360000.0) |#### | Elapsed Time: 21:03:34 ETA:   1:21:49"
     ]
    },
    {
     "name": "stderr",
     "output_type": "stream",
     "text": [
      "\r",
      " 94% (299376000.0 of 315360000.0) |#### | Elapsed Time: 21:04:15 ETA:   0:42:22"
     ]
    },
    {
     "name": "stderr",
     "output_type": "stream",
     "text": [
      "\r",
      " 94% (299548800.0 of 315360000.0) |#### | Elapsed Time: 21:05:07 ETA:   1:18:58"
     ]
    },
    {
     "name": "stderr",
     "output_type": "stream",
     "text": [
      "\r",
      " 95% (299808000.0 of 315360000.0) |#### | Elapsed Time: 21:05:49 ETA:   0:41:18"
     ]
    },
    {
     "name": "stderr",
     "output_type": "stream",
     "text": [
      "\r",
      " 95% (299980800.0 of 315360000.0) |#### | Elapsed Time: 21:06:41 ETA:   1:18:07"
     ]
    },
    {
     "name": "stderr",
     "output_type": "stream",
     "text": [
      "\r",
      " 95% (300240000.0 of 315360000.0) |#### | Elapsed Time: 21:07:22 ETA:   0:39:41"
     ]
    },
    {
     "name": "stderr",
     "output_type": "stream",
     "text": [
      "\r",
      " 95% (300412800.0 of 315360000.0) |#### | Elapsed Time: 21:08:14 ETA:   1:15:11"
     ]
    },
    {
     "name": "stderr",
     "output_type": "stream",
     "text": [
      "\r",
      " 95% (300672000.0 of 315360000.0) |#### | Elapsed Time: 21:08:55 ETA:   0:38:48"
     ]
    },
    {
     "name": "stderr",
     "output_type": "stream",
     "text": [
      "\r",
      " 95% (300844800.0 of 315360000.0) |#### | Elapsed Time: 21:09:48 ETA:   1:13:49"
     ]
    },
    {
     "name": "stderr",
     "output_type": "stream",
     "text": [
      "\r",
      " 95% (301104000.0 of 315360000.0) |#### | Elapsed Time: 21:10:29 ETA:   0:37:29"
     ]
    },
    {
     "name": "stderr",
     "output_type": "stream",
     "text": [
      "\r",
      " 95% (301276800.0 of 315360000.0) |#### | Elapsed Time: 21:11:21 ETA:   1:10:58"
     ]
    },
    {
     "name": "stderr",
     "output_type": "stream",
     "text": [
      "\r",
      " 95% (301536000.0 of 315360000.0) |#### | Elapsed Time: 21:12:02 ETA:   0:36:24"
     ]
    },
    {
     "name": "stderr",
     "output_type": "stream",
     "text": [
      "\r",
      " 95% (301708800.0 of 315360000.0) |#### | Elapsed Time: 21:12:54 ETA:   1:08:28"
     ]
    },
    {
     "name": "stderr",
     "output_type": "stream",
     "text": [
      "\r",
      " 95% (301968000.0 of 315360000.0) |#### | Elapsed Time: 21:13:35 ETA:   0:35:11"
     ]
    },
    {
     "name": "stderr",
     "output_type": "stream",
     "text": [
      "\r",
      " 95% (302140800.0 of 315360000.0) |#### | Elapsed Time: 21:14:27 ETA:   1:06:41"
     ]
    },
    {
     "name": "stderr",
     "output_type": "stream",
     "text": [
      "\r",
      " 95% (302400000.0 of 315360000.0) |#### | Elapsed Time: 21:15:08 ETA:   0:34:00"
     ]
    },
    {
     "name": "stderr",
     "output_type": "stream",
     "text": [
      "\r",
      " 95% (302572800.0 of 315360000.0) |#### | Elapsed Time: 21:16:00 ETA:   1:04:20"
     ]
    },
    {
     "name": "stderr",
     "output_type": "stream",
     "text": [
      "\r",
      " 96% (302832000.0 of 315360000.0) |#### | Elapsed Time: 21:16:41 ETA:   0:33:02"
     ]
    },
    {
     "name": "stderr",
     "output_type": "stream",
     "text": [
      "\r",
      " 96% (303004800.0 of 315360000.0) |#### | Elapsed Time: 21:17:33 ETA:   1:01:39"
     ]
    },
    {
     "name": "stderr",
     "output_type": "stream",
     "text": [
      "\r",
      " 96% (303264000.0 of 315360000.0) |#### | Elapsed Time: 21:18:14 ETA:   0:31:42"
     ]
    },
    {
     "name": "stderr",
     "output_type": "stream",
     "text": [
      "\r",
      " 96% (303436800.0 of 315360000.0) |#### | Elapsed Time: 21:19:06 ETA:   0:59:27"
     ]
    },
    {
     "name": "stderr",
     "output_type": "stream",
     "text": [
      "\r",
      " 96% (303696000.0 of 315360000.0) |#### | Elapsed Time: 21:19:46 ETA:   0:30:38"
     ]
    },
    {
     "name": "stderr",
     "output_type": "stream",
     "text": [
      "\r",
      " 96% (303868800.0 of 315360000.0) |#### | Elapsed Time: 21:20:39 ETA:   0:58:08"
     ]
    },
    {
     "name": "stderr",
     "output_type": "stream",
     "text": [
      "\r",
      " 96% (304128000.0 of 315360000.0) |#### | Elapsed Time: 21:21:20 ETA:   0:29:21"
     ]
    },
    {
     "name": "stderr",
     "output_type": "stream",
     "text": [
      "\r",
      " 96% (304300800.0 of 315360000.0) |#### | Elapsed Time: 21:22:12 ETA:   0:55:56"
     ]
    },
    {
     "name": "stderr",
     "output_type": "stream",
     "text": [
      "\r",
      " 96% (304560000.0 of 315360000.0) |#### | Elapsed Time: 21:22:53 ETA:   0:28:16"
     ]
    },
    {
     "name": "stderr",
     "output_type": "stream",
     "text": [
      "\r",
      " 96% (304732800.0 of 315360000.0) |#### | Elapsed Time: 21:23:45 ETA:   0:53:21"
     ]
    },
    {
     "name": "stderr",
     "output_type": "stream",
     "text": [
      "\r",
      " 96% (304992000.0 of 315360000.0) |#### | Elapsed Time: 21:24:26 ETA:   0:27:11"
     ]
    },
    {
     "name": "stderr",
     "output_type": "stream",
     "text": [
      "\r",
      " 96% (305164800.0 of 315360000.0) |#### | Elapsed Time: 21:25:17 ETA:   0:50:53"
     ]
    },
    {
     "name": "stderr",
     "output_type": "stream",
     "text": [
      "\r",
      " 96% (305424000.0 of 315360000.0) |#### | Elapsed Time: 21:25:58 ETA:   0:25:57"
     ]
    },
    {
     "name": "stderr",
     "output_type": "stream",
     "text": [
      "\r",
      " 96% (305596800.0 of 315360000.0) |#### | Elapsed Time: 21:26:50 ETA:   0:48:40"
     ]
    },
    {
     "name": "stderr",
     "output_type": "stream",
     "text": [
      "\r",
      " 96% (305856000.0 of 315360000.0) |#### | Elapsed Time: 21:27:30 ETA:   0:24:53"
     ]
    },
    {
     "name": "stderr",
     "output_type": "stream",
     "text": [
      "\r",
      " 97% (306028800.0 of 315360000.0) |#### | Elapsed Time: 21:28:22 ETA:   0:46:30"
     ]
    },
    {
     "name": "stderr",
     "output_type": "stream",
     "text": [
      "\r",
      " 97% (306288000.0 of 315360000.0) |#### | Elapsed Time: 21:29:03 ETA:   0:23:46"
     ]
    },
    {
     "name": "stderr",
     "output_type": "stream",
     "text": [
      "\r",
      " 97% (306460800.0 of 315360000.0) |#### | Elapsed Time: 21:29:55 ETA:   0:44:47"
     ]
    },
    {
     "name": "stderr",
     "output_type": "stream",
     "text": [
      "\r",
      " 97% (306720000.0 of 315360000.0) |#### | Elapsed Time: 21:30:36 ETA:   0:22:42"
     ]
    },
    {
     "name": "stderr",
     "output_type": "stream",
     "text": [
      "\r",
      " 97% (306892800.0 of 315360000.0) |#### | Elapsed Time: 21:31:28 ETA:   0:42:42"
     ]
    },
    {
     "name": "stderr",
     "output_type": "stream",
     "text": [
      "\r",
      " 97% (307152000.0 of 315360000.0) |#### | Elapsed Time: 21:32:09 ETA:   0:21:46"
     ]
    },
    {
     "name": "stderr",
     "output_type": "stream",
     "text": [
      "\r",
      " 97% (307324800.0 of 315360000.0) |#### | Elapsed Time: 21:33:02 ETA:   0:40:35"
     ]
    },
    {
     "name": "stderr",
     "output_type": "stream",
     "text": [
      "\r",
      " 97% (307584000.0 of 315360000.0) |#### | Elapsed Time: 21:33:42 ETA:   0:20:21"
     ]
    },
    {
     "name": "stderr",
     "output_type": "stream",
     "text": [
      "\r",
      " 97% (307756800.0 of 315360000.0) |#### | Elapsed Time: 21:34:34 ETA:   0:38:03"
     ]
    },
    {
     "name": "stderr",
     "output_type": "stream",
     "text": [
      "\r",
      " 97% (308016000.0 of 315360000.0) |#### | Elapsed Time: 21:35:15 ETA:   0:19:08"
     ]
    },
    {
     "name": "stderr",
     "output_type": "stream",
     "text": [
      "\r",
      " 97% (308188800.0 of 315360000.0) |#### | Elapsed Time: 21:36:07 ETA:   0:35:49"
     ]
    },
    {
     "name": "stderr",
     "output_type": "stream",
     "text": [
      "\r",
      " 97% (308448000.0 of 315360000.0) |#### | Elapsed Time: 21:36:47 ETA:   0:17:56"
     ]
    },
    {
     "name": "stderr",
     "output_type": "stream",
     "text": [
      "\r",
      " 97% (308620800.0 of 315360000.0) |#### | Elapsed Time: 21:37:43 ETA:   0:36:11"
     ]
    },
    {
     "name": "stderr",
     "output_type": "stream",
     "text": [
      "\r",
      " 97% (308880000.0 of 315360000.0) |#### | Elapsed Time: 21:38:23 ETA:   0:16:50"
     ]
    },
    {
     "name": "stderr",
     "output_type": "stream",
     "text": [
      "\r",
      " 98% (309052800.0 of 315360000.0) |#### | Elapsed Time: 21:39:15 ETA:   0:31:20"
     ]
    },
    {
     "name": "stderr",
     "output_type": "stream",
     "text": [
      "\r",
      " 98% (309312000.0 of 315360000.0) |#### | Elapsed Time: 21:39:56 ETA:   0:15:53"
     ]
    },
    {
     "name": "stderr",
     "output_type": "stream",
     "text": [
      "\r",
      " 98% (309484800.0 of 315360000.0) |#### | Elapsed Time: 21:40:48 ETA:   0:29:33"
     ]
    },
    {
     "name": "stderr",
     "output_type": "stream",
     "text": [
      "\r",
      " 98% (309744000.0 of 315360000.0) |#### | Elapsed Time: 21:41:28 ETA:   0:14:40"
     ]
    },
    {
     "name": "stderr",
     "output_type": "stream",
     "text": [
      "\r",
      " 98% (309916800.0 of 315360000.0) |#### | Elapsed Time: 21:42:21 ETA:   0:27:25"
     ]
    },
    {
     "name": "stderr",
     "output_type": "stream",
     "text": [
      "\r",
      " 98% (310176000.0 of 315360000.0) |#### | Elapsed Time: 21:43:01 ETA:   0:13:29"
     ]
    },
    {
     "name": "stderr",
     "output_type": "stream",
     "text": [
      "\r",
      " 98% (310348800.0 of 315360000.0) |#### | Elapsed Time: 21:43:53 ETA:   0:25:02"
     ]
    },
    {
     "name": "stderr",
     "output_type": "stream",
     "text": [
      "\r",
      " 98% (310608000.0 of 315360000.0) |#### | Elapsed Time: 21:44:33 ETA:   0:12:19"
     ]
    },
    {
     "name": "stderr",
     "output_type": "stream",
     "text": [
      "\r",
      " 98% (310780800.0 of 315360000.0) |#### | Elapsed Time: 21:45:25 ETA:   0:22:52"
     ]
    },
    {
     "name": "stderr",
     "output_type": "stream",
     "text": [
      "\r",
      " 98% (311040000.0 of 315360000.0) |#### | Elapsed Time: 21:46:05 ETA:   0:11:11"
     ]
    },
    {
     "name": "stderr",
     "output_type": "stream",
     "text": [
      "\r",
      " 98% (311212800.0 of 315360000.0) |#### | Elapsed Time: 21:46:57 ETA:   0:20:44"
     ]
    },
    {
     "name": "stderr",
     "output_type": "stream",
     "text": [
      "\r",
      " 98% (311472000.0 of 315360000.0) |#### | Elapsed Time: 21:47:38 ETA:   0:10:08"
     ]
    },
    {
     "name": "stderr",
     "output_type": "stream",
     "text": [
      "\r",
      " 98% (311644800.0 of 315360000.0) |#### | Elapsed Time: 21:48:29 ETA:   0:18:28"
     ]
    },
    {
     "name": "stderr",
     "output_type": "stream",
     "text": [
      "\r",
      " 98% (311904000.0 of 315360000.0) |#### | Elapsed Time: 21:49:10 ETA:   0:09:01"
     ]
    },
    {
     "name": "stderr",
     "output_type": "stream",
     "text": [
      "\r",
      " 98% (312076800.0 of 315360000.0) |#### | Elapsed Time: 21:50:02 ETA:   0:16:28"
     ]
    },
    {
     "name": "stderr",
     "output_type": "stream",
     "text": [
      "\r",
      " 99% (312336000.0 of 315360000.0) |#### | Elapsed Time: 21:50:42 ETA:   0:07:51"
     ]
    },
    {
     "name": "stderr",
     "output_type": "stream",
     "text": [
      "\r",
      " 99% (312508800.0 of 315360000.0) |#### | Elapsed Time: 21:51:34 ETA:   0:14:10"
     ]
    },
    {
     "name": "stderr",
     "output_type": "stream",
     "text": [
      "\r",
      " 99% (312768000.0 of 315360000.0) |#### | Elapsed Time: 21:52:14 ETA:   0:06:42"
     ]
    },
    {
     "name": "stderr",
     "output_type": "stream",
     "text": [
      "\r",
      " 99% (312940800.0 of 315360000.0) |#### | Elapsed Time: 21:53:06 ETA:   0:12:04"
     ]
    },
    {
     "name": "stderr",
     "output_type": "stream",
     "text": [
      "\r",
      " 99% (313200000.0 of 315360000.0) |#### | Elapsed Time: 21:53:46 ETA:   0:05:36"
     ]
    },
    {
     "name": "stderr",
     "output_type": "stream",
     "text": [
      "\r",
      " 99% (313372800.0 of 315360000.0) |#### | Elapsed Time: 21:54:38 ETA:   0:09:52"
     ]
    },
    {
     "name": "stderr",
     "output_type": "stream",
     "text": [
      "\r",
      " 99% (313632000.0 of 315360000.0) |#### | Elapsed Time: 21:55:18 ETA:   0:04:29"
     ]
    },
    {
     "name": "stderr",
     "output_type": "stream",
     "text": [
      "\r",
      " 99% (313804800.0 of 315360000.0) |#### | Elapsed Time: 21:56:10 ETA:   0:07:44"
     ]
    },
    {
     "name": "stderr",
     "output_type": "stream",
     "text": [
      "\r",
      " 99% (314064000.0 of 315360000.0) |#### | Elapsed Time: 21:56:50 ETA:   0:03:21"
     ]
    },
    {
     "name": "stderr",
     "output_type": "stream",
     "text": [
      "\r",
      " 99% (314236800.0 of 315360000.0) |#### | Elapsed Time: 21:57:42 ETA:   0:05:36"
     ]
    },
    {
     "name": "stderr",
     "output_type": "stream",
     "text": [
      "\r",
      " 99% (314496000.0 of 315360000.0) |#### | Elapsed Time: 21:58:22 ETA:   0:02:14"
     ]
    },
    {
     "name": "stderr",
     "output_type": "stream",
     "text": [
      "\r",
      " 99% (314668800.0 of 315360000.0) |#### | Elapsed Time: 21:59:14 ETA:   0:03:26"
     ]
    },
    {
     "name": "stderr",
     "output_type": "stream",
     "text": [
      "\r",
      " 99% (314928000.0 of 315360000.0) |#### | Elapsed Time: 21:59:54 ETA:   0:01:07"
     ]
    },
    {
     "name": "stderr",
     "output_type": "stream",
     "text": [
      "\r",
      " 99% (315100800.0 of 315360000.0) |#### | Elapsed Time: 22:00:46 ETA:   0:01:18"
     ]
    },
    {
     "name": "stderr",
     "output_type": "stream",
     "text": [
      "\r",
      "100% (315360000.0 of 315360000.0) |#####| Elapsed Time: 22:01:27 ETA:  00:00:00"
     ]
    },
    {
     "name": "stderr",
     "output_type": "stream",
     "text": [
      "\r",
      "100% (315360000.0 of 315360000.0) |#####| Elapsed Time: 22:01:27 Time: 22:01:27"
     ]
    },
    {
     "name": "stderr",
     "output_type": "stream",
     "text": [
      "\n"
     ]
    },
    {
     "name": "stdout",
     "output_type": "stream",
     "text": [
      "CPU times: user 19h 52min 7s, sys: 1h 32min 58s, total: 21h 25min 6s\n",
      "Wall time: 22h 3min 54s\n"
     ]
    }
   ],
   "source": [
    "%%time\n",
    "\n",
    "# with dask.config.set(**{'array.slicing.split_large_chunks': False}):\n",
    "pset.execute(\n",
    "    custom_kernel,\n",
    "    runtime=timedelta(days=runtime_in_days),    \n",
    "    dt=timedelta(minutes=dt_in_minutes),      \n",
    "    output_file=outputfile,\n",
    "    recovery=recovery_cases\n",
    ")"
   ]
  },
  {
   "cell_type": "code",
   "execution_count": 38,
   "id": "spoken-novel",
   "metadata": {
    "execution": {
     "iopub.execute_input": "2021-04-27T12:03:56.748746Z",
     "iopub.status.busy": "2021-04-27T12:03:56.748273Z",
     "iopub.status.idle": "2021-04-27T12:03:56.749334Z",
     "shell.execute_reply": "2021-04-27T12:03:56.749044Z"
    },
    "papermill": {
     "duration": 0.218167,
     "end_time": "2021-04-27T12:03:56.749430",
     "exception": false,
     "start_time": "2021-04-27T12:03:56.531263",
     "status": "completed"
    },
    "tags": []
   },
   "outputs": [],
   "source": [
    "# outputfile.export()"
   ]
  },
  {
   "cell_type": "code",
   "execution_count": 39,
   "id": "directed-colorado",
   "metadata": {
    "execution": {
     "iopub.execute_input": "2021-04-27T12:03:57.191314Z",
     "iopub.status.busy": "2021-04-27T12:03:57.190877Z",
     "iopub.status.idle": "2021-04-27T12:07:25.479392Z",
     "shell.execute_reply": "2021-04-27T12:07:25.463791Z"
    },
    "papermill": {
     "duration": 208.524073,
     "end_time": "2021-04-27T12:07:25.486764",
     "exception": false,
     "start_time": "2021-04-27T12:03:56.962691",
     "status": "completed"
    },
    "tags": []
   },
   "outputs": [],
   "source": [
    "outputfile.close()"
   ]
  },
  {
   "cell_type": "code",
   "execution_count": 40,
   "id": "imperial-flight",
   "metadata": {
    "execution": {
     "iopub.execute_input": "2021-04-27T12:07:26.500607Z",
     "iopub.status.busy": "2021-04-27T12:07:26.499102Z",
     "iopub.status.idle": "2021-04-27T12:07:29.500089Z",
     "shell.execute_reply": "2021-04-27T12:07:29.499105Z"
    },
    "papermill": {
     "duration": 3.245816,
     "end_time": "2021-04-27T12:07:29.500190",
     "exception": false,
     "start_time": "2021-04-27T12:07:26.254374",
     "status": "completed"
    },
    "tags": []
   },
   "outputs": [
    {
     "name": "stdout",
     "output_type": "stream",
     "text": [
      "# packages in environment at /opt/conda:\r\n",
      "#\r\n",
      "# Name                    Version                   Build  Channel\r\n",
      "_libgcc_mutex             0.1                 conda_forge    conda-forge\r\n",
      "_openmp_mutex             4.5                       1_gnu    conda-forge\r\n",
      "alembic                   1.5.5              pyhd8ed1ab_0    conda-forge\r\n",
      "ansiwrap                  0.8.4                      py_0    conda-forge\r\n",
      "anyio                     2.2.0            py38h578d9bd_0    conda-forge\r\n",
      "appdirs                   1.4.4              pyh9f0ad1d_0    conda-forge\r\n",
      "argon2-cffi               20.1.0           py38h497a2fe_2    conda-forge\r\n",
      "asciitree                 0.3.3                      py_2    conda-forge\r\n",
      "async_generator           1.10                       py_0    conda-forge\r\n",
      "attrs                     20.3.0             pyhd3deb0d_0    conda-forge\r\n",
      "babel                     2.9.0              pyhd3deb0d_0    conda-forge\r\n",
      "backcall                  0.2.0              pyh9f0ad1d_0    conda-forge\r\n",
      "backports                 1.0                        py_2    conda-forge\r\n",
      "backports.functools_lru_cache 1.6.1                      py_0    conda-forge\r\n",
      "basemap                   1.2.2            py38h85717e3_3    conda-forge\r\n",
      "binutils_impl_linux-64    2.35.1               h193b22a_2    conda-forge\r\n",
      "binutils_linux-64         2.35                h67ddf6f_30    conda-forge\r\n",
      "black                     20.8b1                     py_1    conda-forge\r\n",
      "bleach                    3.3.0              pyh44b312d_0    conda-forge\r\n",
      "blinker                   1.4                        py_1    conda-forge\r\n",
      "blosc                     1.21.0               h9c3ff4c_0    conda-forge\r\n",
      "bokeh                     2.3.0            py38h578d9bd_0    conda-forge\r\n",
      "boost-cpp                 1.74.0               hc6e9bd1_2    conda-forge\r\n",
      "bottleneck                1.3.2            py38h5c078b8_3    conda-forge\r\n",
      "brotlipy                  0.7.0           py38h497a2fe_1001    conda-forge\r\n",
      "bzip2                     1.0.8                h7f98852_4    conda-forge\r\n",
      "c-ares                    1.17.1               h36c2ea0_0    conda-forge\r\n",
      "ca-certificates           2020.12.5            ha878542_0    conda-forge\r\n",
      "cached-property           1.5.2                hd8ed1ab_1    conda-forge\r\n",
      "cached_property           1.5.2              pyha770c72_1    conda-forge\r\n",
      "cachetools                4.2.1              pyhd8ed1ab_0    conda-forge\r\n",
      "cairo                     1.16.0            h7979940_1007    conda-forge\r\n",
      "cartopy                   0.18.0           py38h9b98833_8    conda-forge\r\n",
      "certifi                   2020.12.5        py38h578d9bd_1    conda-forge\r\n",
      "certipy                   0.1.3                      py_0    conda-forge\r\n",
      "cffi                      1.14.5           py38ha65f79e_0    conda-forge\r\n",
      "cfitsio                   3.470                hb418390_7    conda-forge\r\n",
      "cftime                    1.4.1            py38h5c078b8_0    conda-forge\r\n",
      "cgen                      2020.1                     py_0    conda-forge\r\n",
      "chardet                   4.0.0            py38h578d9bd_1    conda-forge\r\n",
      "click                     7.1.2              pyh9f0ad1d_0    conda-forge\r\n",
      "click-plugins             1.1.1                      py_0    conda-forge\r\n",
      "cligj                     0.7.1              pyhd8ed1ab_0    conda-forge\r\n",
      "cloudpickle               1.6.0                      py_0    conda-forge\r\n",
      "cmocean                   2.0                        py_3    conda-forge\r\n",
      "colorcet                  2.0.6              pyhd8ed1ab_0    conda-forge\r\n",
      "colorspacious             1.1.2              pyh24bf2e0_0    conda-forge\r\n",
      "conda                     4.9.2            py38h578d9bd_0    conda-forge\r\n",
      "conda-package-handling    1.7.2            py38h8df0ef7_0    conda-forge\r\n",
      "configurable-http-proxy   4.2.3           node15_he6ea98c_0    conda-forge\r\n",
      "cryptography              3.4.4            py38h3e25421_0    conda-forge\r\n",
      "curl                      7.71.1               he644dc0_8    conda-forge\r\n",
      "cycler                    0.10.0                     py_2    conda-forge\r\n",
      "cytoolz                   0.11.0           py38h497a2fe_3    conda-forge\r\n",
      "dask                      2021.2.0           pyhd8ed1ab_0    conda-forge\r\n",
      "dask-core                 2021.2.0           pyhd8ed1ab_0    conda-forge\r\n",
      "dataclasses               0.8                pyhc8e2a94_1    conda-forge\r\n",
      "datashader                0.12.0             pyhd3deb0d_0    conda-forge\r\n",
      "datashape                 0.5.4                      py_1    conda-forge\r\n",
      "dbus                      1.13.6               hfdff14a_1    conda-forge\r\n",
      "decorator                 4.4.2                      py_0    conda-forge\r\n",
      "defusedxml                0.6.0                      py_0    conda-forge\r\n",
      "distributed               2021.2.0         py38h578d9bd_0    conda-forge\r\n",
      "entrypoints               0.3             pyhd8ed1ab_1003    conda-forge\r\n",
      "expat                     2.2.10               h9c3ff4c_0    conda-forge\r\n",
      "fasteners                 0.14.1                     py_3    conda-forge\r\n",
      "ffmpeg                    4.3.1                hca11adc_2    conda-forge\r\n",
      "fiona                     1.8.18           py38h58f84aa_1    conda-forge\r\n",
      "fontconfig                2.13.1            hba837de_1004    conda-forge\r\n",
      "freetype                  2.10.4               h0708190_1    conda-forge\r\n",
      "freexl                    1.0.6                h7f98852_0    conda-forge\r\n",
      "fsspec                    0.8.7              pyhd8ed1ab_0    conda-forge\r\n",
      "gcc_impl_linux-64         9.3.0               h70c0ae5_18    conda-forge\r\n",
      "gcc_linux-64              9.3.0               hf25ea35_30    conda-forge\r\n",
      "gdal                      3.2.1            py38hc0b2d6b_3    conda-forge\r\n",
      "geopandas                 0.9.0              pyhd8ed1ab_0    conda-forge\r\n",
      "geos                      3.8.1                he1b5a44_0    conda-forge\r\n",
      "geotiff                   1.6.0                h2b14fbe_4    conda-forge\r\n",
      "geoviews                  1.9.1              pyhd8ed1ab_0    conda-forge\r\n",
      "geoviews-core             1.9.1              pyha770c72_0    conda-forge\r\n",
      "gettext                   0.19.8.1          h0b5b191_1005    conda-forge\r\n",
      "giflib                    5.2.1                h36c2ea0_2    conda-forge\r\n",
      "glib                      2.66.7               h9c3ff4c_1    conda-forge\r\n",
      "glib-tools                2.66.7               h9c3ff4c_1    conda-forge\r\n",
      "gmp                       6.2.1                h58526e2_0    conda-forge\r\n",
      "gnutls                    3.6.13               h85f3911_1    conda-forge\r\n",
      "gst-plugins-base          1.14.5               h0935bb2_2    conda-forge\r\n",
      "gstreamer                 1.18.4               h76c114f_0    conda-forge\r\n",
      "gsw                       3.4.0            py38h5c078b8_1    conda-forge\r\n",
      "h5netcdf                  0.10.0             pyhd8ed1ab_0    conda-forge\r\n",
      "h5py                      3.1.0           nompi_py38hafa665b_100    conda-forge\r\n",
      "hdf4                      4.2.13            h10796ff_1004    conda-forge\r\n",
      "hdf5                      1.10.6          nompi_h6a2412b_1114    conda-forge\r\n",
      "heapdict                  1.0.1                      py_0    conda-forge\r\n",
      "holoviews                 1.14.2             pyhd8ed1ab_0    conda-forge\r\n",
      "hvplot                    0.7.1              pyh44b312d_0    conda-forge\r\n",
      "icu                       68.1                 h58526e2_0    conda-forge\r\n",
      "idna                      2.10               pyh9f0ad1d_0    conda-forge\r\n",
      "importlib-metadata        3.7.0            py38h578d9bd_0    conda-forge\r\n",
      "ipykernel                 5.5.0            py38h81c977d_1    conda-forge\r\n",
      "ipython                   7.21.0           py38h81c977d_0    conda-forge\r\n",
      "ipython_genutils          0.2.0                      py_1    conda-forge\r\n",
      "jedi                      0.18.0           py38h578d9bd_2    conda-forge\r\n",
      "jinja2                    2.11.3             pyh44b312d_0    conda-forge\r\n",
      "joblib                    1.0.1              pyhd8ed1ab_0    conda-forge\r\n",
      "jpeg                      9d                   h36c2ea0_0    conda-forge\r\n",
      "json-c                    0.13.1            hbfbb72e_1002    conda-forge\r\n",
      "json5                     0.9.5              pyh9f0ad1d_0    conda-forge\r\n",
      "jsonschema                3.2.0              pyhd8ed1ab_3    conda-forge\r\n",
      "jupyter-packaging         0.7.12             pyhd8ed1ab_0    conda-forge\r\n",
      "jupyter_client            6.1.11             pyhd8ed1ab_1    conda-forge\r\n",
      "jupyter_core              4.7.1            py38h578d9bd_0    conda-forge\r\n",
      "jupyter_server            1.4.1            py38h578d9bd_0    conda-forge\r\n",
      "jupyter_telemetry         0.1.0              pyhd8ed1ab_1    conda-forge\r\n",
      "jupyterhub                1.3.0            py38h578d9bd_1    conda-forge\r\n",
      "jupyterhub-base           1.3.0            py38h578d9bd_1    conda-forge\r\n",
      "jupyterlab                3.0.9              pyhd8ed1ab_0    conda-forge\r\n",
      "jupyterlab_pygments       0.1.2              pyh9f0ad1d_0    conda-forge\r\n",
      "jupyterlab_server         2.3.0              pyhd8ed1ab_0    conda-forge\r\n",
      "kealib                    1.4.14               hcc255d8_2    conda-forge\r\n",
      "kernel-headers_linux-64   2.6.32              h77966d4_13    conda-forge\r\n",
      "kiwisolver                1.3.1            py38h1fd1430_1    conda-forge\r\n",
      "krb5                      1.17.2               h926e7f8_0    conda-forge\r\n",
      "lame                      3.100             h7f98852_1001    conda-forge\r\n",
      "lcms2                     2.12                 hddcbb42_0    conda-forge\r\n",
      "ld_impl_linux-64          2.35.1               hea4e1c9_2    conda-forge\r\n",
      "libarchive                3.5.1                h3f442fb_1    conda-forge\r\n",
      "libblas                   3.9.0           3_h92ddd45_netlib    conda-forge\r\n",
      "libcblas                  3.9.0           3_h92ddd45_netlib    conda-forge\r\n",
      "libclang                  11.1.0          default_ha53f305_0    conda-forge\r\n",
      "libcurl                   7.71.1               hcdd3856_8    conda-forge\r\n",
      "libdap4                   3.20.6               hd7c4107_1    conda-forge\r\n",
      "libedit                   3.1.20191231         he28a2e2_2    conda-forge\r\n",
      "libev                     4.33                 h516909a_1    conda-forge\r\n",
      "libevent                  2.1.10               hcdb4288_3    conda-forge\r\n",
      "libffi                    3.3                  h58526e2_2    conda-forge\r\n",
      "libgcc-devel_linux-64     9.3.0               h7864c58_18    conda-forge\r\n",
      "libgcc-ng                 9.3.0               h2828fa1_18    conda-forge\r\n",
      "libgdal                   3.2.1                h744752d_3    conda-forge\r\n",
      "libgfortran-ng            9.3.0               hff62375_18    conda-forge\r\n",
      "libgfortran5              9.3.0               hff62375_18    conda-forge\r\n",
      "libglib                   2.66.7               h3e27bee_1    conda-forge\r\n",
      "libgomp                   9.3.0               h2828fa1_18    conda-forge\r\n",
      "libiconv                  1.16                 h516909a_0    conda-forge\r\n",
      "libkml                    1.3.0             h02e6976_1012    conda-forge\r\n",
      "liblapack                 3.9.0           3_h92ddd45_netlib    conda-forge\r\n",
      "libllvm10                 10.0.1               he513fc3_3    conda-forge\r\n",
      "libllvm11                 11.1.0               hf817b99_0    conda-forge\r\n",
      "libnetcdf                 4.7.4           nompi_h56d31a8_107    conda-forge\r\n",
      "libnghttp2                1.43.0               h812cca2_0    conda-forge\r\n",
      "libopenblas               0.3.13          pthreads_h8fe5266_0    conda-forge\r\n",
      "libpng                    1.6.37               h21135ba_2    conda-forge\r\n",
      "libpq                     12.3                 h255efa7_3    conda-forge\r\n",
      "librttopo                 1.1.0                hb271727_4    conda-forge\r\n",
      "libsodium                 1.0.18               h36c2ea0_1    conda-forge\r\n",
      "libsolv                   0.7.17               h780b84a_0    conda-forge\r\n",
      "libspatialindex           1.9.3                h9c3ff4c_3    conda-forge\r\n",
      "libspatialite             5.0.1                h4e7eb2b_1    conda-forge\r\n",
      "libssh2                   1.9.0                hab1572f_5    conda-forge\r\n",
      "libstdcxx-ng              9.3.0               h6de172a_18    conda-forge\r\n",
      "libtiff                   4.2.0                hdc55705_0    conda-forge\r\n",
      "libuuid                   2.32.1            h7f98852_1000    conda-forge\r\n",
      "libuv                     1.41.0               h7f98852_0    conda-forge\r\n",
      "libwebp-base              1.2.0                h7f98852_2    conda-forge\r\n",
      "libxcb                    1.13              h7f98852_1003    conda-forge\r\n",
      "libxkbcommon              1.0.3                he3ba5ed_0    conda-forge\r\n",
      "libxml2                   2.9.10               h72842e0_3    conda-forge\r\n",
      "llvmlite                  0.36.0           py38h4630a5e_0    conda-forge\r\n",
      "locket                    0.2.0                      py_2    conda-forge\r\n",
      "lz4-c                     1.9.3                h9c3ff4c_0    conda-forge\r\n",
      "lzo                       2.10              h516909a_1000    conda-forge\r\n",
      "mako                      1.1.4              pyh44b312d_0    conda-forge\r\n",
      "mamba                     0.7.14           py38h2aa5da1_0    conda-forge\r\n",
      "markdown                  3.3.4              pyhd8ed1ab_0    conda-forge\r\n",
      "markupsafe                1.1.1            py38h497a2fe_3    conda-forge\r\n",
      "matplotlib                3.3.4            py38h578d9bd_0    conda-forge\r\n",
      "matplotlib-base           3.3.4            py38h0efea84_0    conda-forge\r\n",
      "mistune                   0.8.4           py38h497a2fe_1003    conda-forge\r\n",
      "monotonic                 1.5                        py_0    conda-forge\r\n",
      "msgpack-python            1.0.2            py38h1fd1430_1    conda-forge\r\n",
      "multipledispatch          0.6.0                      py_0    conda-forge\r\n",
      "munch                     2.5.0                      py_0    conda-forge\r\n",
      "mypy_extensions           0.4.3            py38h578d9bd_3    conda-forge\r\n",
      "mysql-common              8.0.22               ha770c72_3    conda-forge\r\n",
      "mysql-libs                8.0.22               h935591d_3    conda-forge\r\n",
      "nbclassic                 0.2.6              pyhd8ed1ab_0    conda-forge\r\n",
      "nbclient                  0.5.3              pyhd8ed1ab_0    conda-forge\r\n",
      "nbconvert                 6.0.7            py38h578d9bd_3    conda-forge\r\n",
      "nbformat                  5.1.2              pyhd8ed1ab_1    conda-forge\r\n",
      "ncurses                   6.2                  h58526e2_4    conda-forge\r\n",
      "nest-asyncio              1.4.3              pyhd8ed1ab_0    conda-forge\r\n",
      "netcdf4                   1.5.6           nompi_py38h1cdf482_100    conda-forge\r\n",
      "nettle                    3.6                  he412f7d_0    conda-forge\r\n",
      "nodejs                    15.11.0              h92b4a50_0    conda-forge\r\n",
      "notebook                  6.2.0            py38h578d9bd_0    conda-forge\r\n",
      "nspr                      4.30                 h9c3ff4c_0    conda-forge\r\n",
      "nss                       3.62                 hb5efdd6_0    conda-forge\r\n",
      "numba                     0.53.0           py38h5e62926_0    conda-forge\r\n",
      "numcodecs                 0.7.3            py38h709712a_0    conda-forge\r\n",
      "numpy                     1.20.1           py38h18fd61f_0    conda-forge\r\n",
      "oauthlib                  3.0.1                      py_0    conda-forge\r\n",
      "olefile                   0.46               pyh9f0ad1d_1    conda-forge\r\n",
      "openblas                  0.3.13          pthreads_h4748800_0    conda-forge\r\n",
      "openh264                  2.1.1                h780b84a_0    conda-forge\r\n",
      "openjpeg                  2.4.0                hf7af979_0    conda-forge\r\n",
      "openssl                   1.1.1j               h7f98852_0    conda-forge\r\n",
      "packaging                 20.9               pyh44b312d_0    conda-forge\r\n",
      "pamela                    1.0.0                      py_0    conda-forge\r\n",
      "pandas                    1.2.3            py38h51da96c_0    conda-forge\r\n",
      "pandoc                    2.11.4               h7f98852_0    conda-forge\r\n",
      "pandocfilters             1.4.2                      py_1    conda-forge\r\n",
      "panel                     0.11.0             pyhd8ed1ab_0    conda-forge\r\n",
      "papermill                 2.3.3              pyhd8ed1ab_0    conda-forge\r\n",
      "param                     1.10.1             pyhd3deb0d_0    conda-forge\r\n",
      "parcels                   2.2.2            py38h578d9bd_0    conda-forge\r\n",
      "parso                     0.8.1              pyhd8ed1ab_0    conda-forge\r\n",
      "partd                     1.1.0                      py_0    conda-forge\r\n",
      "pathspec                  0.8.1              pyhd3deb0d_0    conda-forge\r\n",
      "patsy                     0.5.1                      py_0    conda-forge\r\n",
      "pcre                      8.44                 he1b5a44_0    conda-forge\r\n",
      "pexpect                   4.8.0              pyh9f0ad1d_2    conda-forge\r\n",
      "pickleshare               0.7.5                   py_1003    conda-forge\r\n",
      "pillow                    8.1.2            py38ha0e1e83_0    conda-forge\r\n",
      "pip                       21.0.1             pyhd8ed1ab_0    conda-forge\r\n",
      "pixman                    0.40.0               h36c2ea0_0    conda-forge\r\n",
      "poppler                   0.89.0               h2de54a5_5    conda-forge\r\n",
      "poppler-data              0.4.10                        0    conda-forge\r\n",
      "postgresql                12.3                 hc2f5b80_3    conda-forge\r\n",
      "progressbar2              3.53.1             pyh9f0ad1d_0    conda-forge\r\n",
      "proj                      7.2.0                h277dcde_2    conda-forge\r\n",
      "prometheus_client         0.9.0              pyhd3deb0d_0    conda-forge\r\n",
      "prompt-toolkit            3.0.16             pyha770c72_0    conda-forge\r\n",
      "psutil                    5.8.0            py38h497a2fe_1    conda-forge\r\n",
      "pthread-stubs             0.4               h36c2ea0_1001    conda-forge\r\n",
      "ptyprocess                0.7.0              pyhd3deb0d_0    conda-forge\r\n",
      "pycosat                   0.6.3           py38h497a2fe_1006    conda-forge\r\n",
      "pycparser                 2.20               pyh9f0ad1d_2    conda-forge\r\n",
      "pyct                      0.4.6                      py_0    conda-forge\r\n",
      "pyct-core                 0.4.6                      py_0    conda-forge\r\n",
      "pycurl                    7.43.0.6         py38h996a351_1    conda-forge\r\n",
      "pygments                  2.8.0              pyhd8ed1ab_0    conda-forge\r\n",
      "pyjwt                     2.0.1              pyhd8ed1ab_0    conda-forge\r\n",
      "pymbolic                  2020.1             pyh9f0ad1d_0    conda-forge\r\n",
      "pyopenssl                 20.0.1             pyhd8ed1ab_0    conda-forge\r\n",
      "pyparsing                 2.4.7              pyh9f0ad1d_0    conda-forge\r\n",
      "pyproj                    3.0.1            py38h16ecdd7_0    conda-forge\r\n",
      "pyqt                      5.12.3           py38h578d9bd_7    conda-forge\r\n",
      "pyqt-impl                 5.12.3           py38h7400c14_7    conda-forge\r\n",
      "pyqt5-sip                 4.19.18          py38h709712a_7    conda-forge\r\n",
      "pyqtchart                 5.12             py38h7400c14_7    conda-forge\r\n",
      "pyqtwebengine             5.12.1           py38h7400c14_7    conda-forge\r\n",
      "pyrsistent                0.17.3           py38h497a2fe_2    conda-forge\r\n",
      "pyshp                     2.1.3              pyh44b312d_0    conda-forge\r\n",
      "pysocks                   1.7.1            py38h578d9bd_3    conda-forge\r\n",
      "python                    3.8.8           hffdb5ce_0_cpython    conda-forge\r\n",
      "python-blosc              1.10.2           py38h51da96c_0    conda-forge\r\n",
      "python-dateutil           2.8.1                      py_0    conda-forge\r\n",
      "python-editor             1.0.4                      py_0    conda-forge\r\n",
      "python-json-logger        2.0.1              pyh9f0ad1d_0    conda-forge\r\n",
      "python-utils              2.5.5              pyh44b312d_0    conda-forge\r\n",
      "python_abi                3.8                      1_cp38    conda-forge\r\n",
      "pytools                   2021.2             pyhd8ed1ab_0    conda-forge\r\n",
      "pytz                      2021.1             pyhd8ed1ab_0    conda-forge\r\n",
      "pyviz_comms               2.0.1              pyhd3deb0d_0    conda-forge\r\n",
      "pyyaml                    5.4.1            py38h497a2fe_0    conda-forge\r\n",
      "pyzmq                     22.0.3           py38h2035c66_1    conda-forge\r\n",
      "qt                        5.12.9               h9d6b050_2    conda-forge\r\n",
      "readline                  8.0                  he28a2e2_2    conda-forge\r\n",
      "regex                     2020.11.13       py38h497a2fe_1    conda-forge\r\n",
      "reproc                    14.2.1               h36c2ea0_0    conda-forge\r\n",
      "reproc-cpp                14.2.1               h58526e2_0    conda-forge\r\n",
      "requests                  2.25.1             pyhd3deb0d_0    conda-forge\r\n",
      "rtree                     0.9.7            py38h02d302b_1    conda-forge\r\n",
      "ruamel.yaml               0.16.12          py38h497a2fe_2    conda-forge\r\n",
      "ruamel.yaml.clib          0.2.2            py38h497a2fe_2    conda-forge\r\n",
      "ruamel_yaml               0.15.80         py38h497a2fe_1004    conda-forge\r\n",
      "scikit-learn              0.24.1           py38h658cfdd_0    conda-forge\r\n",
      "scipy                     1.6.1            py38hb2138dd_0    conda-forge\r\n",
      "seaborn                   0.11.1               hd8ed1ab_1    conda-forge\r\n",
      "seaborn-base              0.11.1             pyhd8ed1ab_1    conda-forge\r\n",
      "seawater                  3.3.4                      py_1    conda-forge\r\n",
      "send2trash                1.5.0                      py_0    conda-forge\r\n",
      "setuptools                49.6.0           py38h578d9bd_3    conda-forge\r\n",
      "shapely                   1.7.1            py38ha11d057_1    conda-forge\r\n",
      "six                       1.15.0             pyh9f0ad1d_0    conda-forge\r\n",
      "sniffio                   1.2.0            py38h578d9bd_1    conda-forge\r\n",
      "sortedcontainers          2.3.0              pyhd8ed1ab_0    conda-forge\r\n",
      "sparse                    0.11.2                     py_0    conda-forge\r\n",
      "sqlalchemy                1.3.23           py38h497a2fe_0    conda-forge\r\n",
      "sqlite                    3.34.0               h74cdb3f_0    conda-forge\r\n",
      "statsmodels               0.12.2           py38h5c078b8_0    conda-forge\r\n",
      "sysroot_linux-64          2.12                h77966d4_13    conda-forge\r\n",
      "tblib                     1.6.0                      py_0    conda-forge\r\n",
      "tenacity                  7.0.0              pyhd8ed1ab_0    conda-forge\r\n",
      "terminado                 0.9.2            py38h578d9bd_0    conda-forge\r\n",
      "testpath                  0.4.4                      py_0    conda-forge\r\n",
      "textwrap3                 0.9.2                      py_0    conda-forge\r\n",
      "threadpoolctl             2.1.0              pyh5ca1d4c_0    conda-forge\r\n",
      "tiledb                    2.2.5                h91fcb0e_0    conda-forge\r\n",
      "tini                      0.18.0            h14c3975_1001    conda-forge\r\n",
      "tk                        8.6.10               h21135ba_1    conda-forge\r\n",
      "toml                      0.10.2             pyhd8ed1ab_0    conda-forge\r\n",
      "toolz                     0.11.1                     py_0    conda-forge\r\n",
      "tornado                   6.1              py38h497a2fe_1    conda-forge\r\n",
      "tqdm                      4.58.0             pyhd8ed1ab_0    conda-forge\r\n",
      "traitlets                 5.0.5                      py_0    conda-forge\r\n",
      "typed-ast                 1.4.2            py38h497a2fe_0    conda-forge\r\n",
      "typing_extensions         3.7.4.3                    py_0    conda-forge\r\n",
      "tzcode                    2021a                h7f98852_1    conda-forge\r\n",
      "urllib3                   1.26.3             pyhd8ed1ab_0    conda-forge\r\n",
      "wcwidth                   0.2.5              pyh9f0ad1d_2    conda-forge\r\n",
      "webencodings              0.5.1                      py_1    conda-forge\r\n",
      "wheel                     0.36.2             pyhd3deb0d_0    conda-forge\r\n",
      "x264                      1!161.3030           h7f98852_0    conda-forge\r\n",
      "xarray                    0.17.0             pyhd8ed1ab_0    conda-forge\r\n",
      "xerces-c                  3.2.3                h9d8b166_2    conda-forge\r\n",
      "xhistogram                0.1.2              pyhd8ed1ab_0    conda-forge\r\n",
      "xorg-kbproto              1.0.7             h7f98852_1002    conda-forge\r\n",
      "xorg-libice               1.0.10               h7f98852_0    conda-forge\r\n",
      "xorg-libsm                1.2.3             hd9c2040_1000    conda-forge\r\n",
      "xorg-libx11               1.7.0                h7f98852_0    conda-forge\r\n",
      "xorg-libxau               1.0.9                h7f98852_0    conda-forge\r\n",
      "xorg-libxdmcp             1.1.3                h7f98852_0    conda-forge\r\n",
      "xorg-libxext              1.3.4                h7f98852_1    conda-forge\r\n",
      "xorg-libxrender           0.9.10            h7f98852_1003    conda-forge\r\n",
      "xorg-renderproto          0.11.1            h7f98852_1002    conda-forge\r\n",
      "xorg-xextproto            7.3.0             h7f98852_1002    conda-forge\r\n",
      "xorg-xproto               7.0.31            h7f98852_1007    conda-forge\r\n",
      "xz                        5.2.5                h516909a_1    conda-forge\r\n",
      "yaml                      0.2.5                h516909a_0    conda-forge\r\n",
      "zarr                      2.6.1              pyhd8ed1ab_0    conda-forge\r\n",
      "zeromq                    4.3.4                h9c3ff4c_0    conda-forge\r\n",
      "zict                      2.0.0                      py_0    conda-forge\r\n",
      "zipp                      3.4.0                      py_0    conda-forge\r\n",
      "zlib                      1.2.11            h516909a_1010    conda-forge\r\n",
      "zstd                      1.4.9                ha95c52a_0    conda-forge\r\n"
     ]
    },
    {
     "name": "stdout",
     "output_type": "stream",
     "text": [
      "\n",
      "Note: you may need to restart the kernel to use updated packages.\n"
     ]
    }
   ],
   "source": [
    "conda list\n"
   ]
  },
  {
   "cell_type": "code",
   "execution_count": 41,
   "id": "enormous-hospital",
   "metadata": {
    "execution": {
     "iopub.execute_input": "2021-04-27T12:07:29.989144Z",
     "iopub.status.busy": "2021-04-27T12:07:29.987788Z",
     "iopub.status.idle": "2021-04-27T12:07:30.932145Z",
     "shell.execute_reply": "2021-04-27T12:07:30.931177Z"
    },
    "papermill": {
     "duration": 1.211241,
     "end_time": "2021-04-27T12:07:30.932258",
     "exception": false,
     "start_time": "2021-04-27T12:07:29.721017",
     "status": "completed"
    },
    "tags": []
   },
   "outputs": [
    {
     "name": "stdout",
     "output_type": "stream",
     "text": [
      "Package                       Version\r\n",
      "----------------------------- --------------------------\r\n",
      "alembic                       1.5.5\r\n",
      "ansiwrap                      0.8.4\r\n",
      "anyio                         2.2.0\r\n",
      "appdirs                       1.4.4\r\n",
      "argon2-cffi                   20.1.0\r\n",
      "asciitree                     0.3.3\r\n",
      "async-generator               1.10\r\n",
      "attrs                         20.3.0\r\n",
      "Babel                         2.9.0\r\n",
      "backcall                      0.2.0\r\n",
      "backports.functools-lru-cache 1.6.1\r\n",
      "basemap                       1.2.1\r\n",
      "black                         20.8b1\r\n",
      "bleach                        3.3.0\r\n",
      "blinker                       1.4\r\n",
      "blosc                         1.10.2\r\n",
      "bokeh                         2.3.0\r\n",
      "Bottleneck                    1.3.2\r\n",
      "brotlipy                      0.7.0\r\n",
      "cached-property               1.5.2\r\n",
      "cachetools                    4.2.1\r\n",
      "Cartopy                       0.18.0\r\n",
      "certifi                       2020.12.5\r\n",
      "certipy                       0.1.3\r\n",
      "cffi                          1.14.5\r\n",
      "cftime                        1.4.1\r\n",
      "cgen                          2020.1\r\n",
      "chardet                       4.0.0\r\n",
      "click                         7.1.2\r\n",
      "click-plugins                 1.1.1\r\n",
      "cligj                         0.7.1\r\n",
      "cloudpickle                   1.6.0\r\n",
      "cmocean                       2.0\r\n",
      "colorcet                      2.0.6\r\n",
      "colorspacious                 1.1.2\r\n",
      "conda                         4.9.2\r\n",
      "conda-package-handling        1.7.2\r\n",
      "cryptography                  3.4.4\r\n",
      "cycler                        0.10.0\r\n",
      "cytoolz                       0.11.0\r\n",
      "dask                          2021.2.0\r\n",
      "datashader                    0.12.0\r\n",
      "datashape                     0.5.4\r\n",
      "decorator                     4.4.2\r\n",
      "defusedxml                    0.6.0\r\n",
      "distributed                   2021.2.0\r\n",
      "entrypoints                   0.3\r\n",
      "fasteners                     0.14.1\r\n",
      "Fiona                         1.8.18\r\n",
      "fsspec                        0.8.7\r\n",
      "GDAL                          3.2.1\r\n",
      "geopandas                     0.9.0\r\n",
      "geoviews                      0.0.0+g33876c88.gitarchive\r\n",
      "gsw                           3.4.0\r\n",
      "h5netcdf                      0.10.0\r\n",
      "h5py                          3.1.0\r\n",
      "HeapDict                      1.0.1\r\n",
      "holoviews                     1.14.2\r\n",
      "hvplot                        0.7.1\r\n",
      "idna                          2.10\r\n",
      "importlib-metadata            3.7.0\r\n",
      "ipykernel                     5.5.0\r\n",
      "ipython                       7.21.0\r\n",
      "ipython-genutils              0.2.0\r\n",
      "jedi                          0.18.0\r\n",
      "Jinja2                        2.11.3\r\n",
      "joblib                        1.0.1\r\n",
      "json5                         0.9.5\r\n",
      "jsonschema                    3.2.0\r\n",
      "jupyter-client                6.1.11\r\n",
      "jupyter-core                  4.7.1\r\n",
      "jupyter-packaging             0.7.12\r\n",
      "jupyter-server                1.4.1\r\n",
      "jupyter-telemetry             0.1.0\r\n",
      "jupyterhub                    1.3.0\r\n",
      "jupyterlab                    3.0.9\r\n",
      "jupyterlab-pygments           0.1.2\r\n",
      "jupyterlab-server             2.3.0\r\n",
      "kiwisolver                    1.3.1\r\n",
      "llvmlite                      0.36.0\r\n",
      "locket                        0.2.0\r\n",
      "Mako                          1.1.4\r\n",
      "mamba                         0.7.14\r\n",
      "Markdown                      3.3.4\r\n",
      "MarkupSafe                    1.1.1\r\n",
      "matplotlib                    3.3.4\r\n",
      "mistune                       0.8.4\r\n",
      "monotonic                     1.5\r\n",
      "msgpack                       1.0.2\r\n",
      "multipledispatch              0.6.0\r\n",
      "munch                         2.5.0\r\n",
      "mypy-extensions               0.4.3\r\n",
      "nbclassic                     0.2.6\r\n",
      "nbclient                      0.5.3\r\n",
      "nbconvert                     6.0.7\r\n",
      "nbformat                      5.1.2\r\n",
      "nest-asyncio                  1.4.3\r\n",
      "netCDF4                       1.5.6\r\n",
      "notebook                      6.2.0\r\n",
      "numba                         0.53.0\r\n",
      "numcodecs                     0.7.3\r\n",
      "numpy                         1.20.1\r\n",
      "oauthlib                      3.0.1\r\n",
      "olefile                       0.46\r\n",
      "packaging                     20.9\r\n",
      "pamela                        1.0.0\r\n",
      "pandas                        1.2.3\r\n",
      "pandocfilters                 1.4.2\r\n",
      "panel                         0.11.0\r\n",
      "papermill                     2.3.3\r\n",
      "param                         1.10.1\r\n",
      "parcels                       2.2.2\r\n",
      "parso                         0.8.1\r\n",
      "partd                         1.1.0\r\n",
      "pathspec                      0.8.1\r\n",
      "patsy                         0.5.1\r\n",
      "pexpect                       4.8.0\r\n",
      "pickleshare                   0.7.5\r\n",
      "Pillow                        8.1.2\r\n",
      "pip                           21.0.1\r\n",
      "progressbar2                  3.53.1\r\n",
      "prometheus-client             0.9.0\r\n",
      "prompt-toolkit                3.0.16\r\n",
      "psutil                        5.8.0\r\n",
      "ptyprocess                    0.7.0\r\n",
      "pycosat                       0.6.3\r\n",
      "pycparser                     2.20\r\n",
      "pyct                          0.4.6\r\n",
      "pycurl                        7.43.0.6\r\n",
      "Pygments                      2.8.0\r\n",
      "PyJWT                         2.0.1\r\n",
      "pymbolic                      2020.1\r\n",
      "pyOpenSSL                     20.0.1\r\n",
      "pyparsing                     2.4.7\r\n",
      "pyproj                        3.0.1\r\n",
      "PyQt5                         5.12.3\r\n",
      "PyQt5-sip                     4.19.18\r\n",
      "PyQtChart                     5.12\r\n",
      "PyQtWebEngine                 5.12.1\r\n",
      "pyrsistent                    0.17.3\r\n",
      "pyshp                         2.1.3\r\n",
      "PySocks                       1.7.1\r\n",
      "python-dateutil               2.8.1\r\n",
      "python-editor                 1.0.4\r\n",
      "python-json-logger            2.0.1\r\n",
      "python-utils                  2.5.5\r\n",
      "pytools                       2021.2\r\n",
      "pytz                          2021.1\r\n",
      "pyviz-comms                   2.0.1\r\n",
      "PyYAML                        5.4.1\r\n",
      "pyzmq                         22.0.3\r\n",
      "regex                         2020.11.13\r\n",
      "requests                      2.25.1\r\n",
      "Rtree                         0.9.7\r\n",
      "ruamel-yaml-conda             0.15.80\r\n",
      "ruamel.yaml                   0.16.12\r\n",
      "ruamel.yaml.clib              0.2.2\r\n",
      "scikit-learn                  0.24.1\r\n",
      "scipy                         1.6.1\r\n",
      "seaborn                       0.11.1\r\n",
      "seawater                      3.3.4\r\n",
      "Send2Trash                    1.5.0\r\n",
      "setuptools                    49.6.0.post20210108\r\n",
      "Shapely                       1.7.1\r\n",
      "six                           1.15.0\r\n",
      "sniffio                       1.2.0\r\n",
      "sortedcontainers              2.3.0\r\n",
      "sparse                        0.11.2\r\n",
      "SQLAlchemy                    1.3.23\r\n",
      "statsmodels                   0.12.2\r\n",
      "tblib                         1.6.0\r\n",
      "tenacity                      7.0.0\r\n",
      "terminado                     0.9.2\r\n",
      "testpath                      0.4.4\r\n",
      "textwrap3                     0.9.2\r\n",
      "threadpoolctl                 2.1.0\r\n",
      "toml                          0.10.2\r\n",
      "toolz                         0.11.1\r\n",
      "tornado                       6.1\r\n",
      "tqdm                          4.58.0\r\n",
      "traitlets                     5.0.5\r\n",
      "typed-ast                     1.4.2\r\n",
      "typing-extensions             3.7.4.3\r\n",
      "urllib3                       1.26.3\r\n",
      "wcwidth                       0.2.5\r\n",
      "webencodings                  0.5.1\r\n",
      "wheel                         0.36.2\r\n",
      "xarray                        0.17.0\r\n",
      "xhistogram                    0.1.2\r\n",
      "zarr                          2.6.1\r\n",
      "zict                          2.0.0\r\n",
      "zipp                          3.4.0\r\n"
     ]
    },
    {
     "name": "stdout",
     "output_type": "stream",
     "text": [
      "Note: you may need to restart the kernel to use updated packages.\n"
     ]
    }
   ],
   "source": [
    "pip list\n"
   ]
  }
 ],
 "metadata": {
  "kernelspec": {
   "display_name": "Python 3",
   "language": "python",
   "name": "python3"
  },
  "language_info": {
   "codemirror_mode": {
    "name": "ipython",
    "version": 3
   },
   "file_extension": ".py",
   "mimetype": "text/x-python",
   "name": "python",
   "nbconvert_exporter": "python",
   "pygments_lexer": "ipython3",
   "version": "3.8.8"
  },
  "papermill": {
   "default_parameters": {},
   "duration": 80023.046636,
   "end_time": "2021-04-27T12:07:36.190041",
   "environment_variables": {},
   "exception": null,
   "input_path": "037_afox_RunParcels_TS_MXL_Multiline_Randomvel_Papermill.ipynb",
   "output_path": "executed/037_afox_RunParcels_TS_MXL_Multiline_Randomvel_Papermill_executed_2019-10-15.ipynb",
   "parameters": {
    "create_number_particles": 4000000,
    "data_resolution": "5d",
    "mask_path_name": "/gxfs_work1/geomar/smomw355/model_data/ocean-only/VIKING20X.L46-KKG36107B/nemo/suppl/",
    "max_current": 2.0,
    "max_release_depth": 1000,
    "mesh_mask_filename": "1_mesh_mask.nc",
    "path_name": "/gxfs_work1/geomar/smomw355/model_data/ocean-only/VIKING20X.L46-KKG36107B/nemo/output/",
    "runtime_in_days": 3650,
    "t_0_str": "1980-01-03T12:00:00",
    "t_start_str": "2019-10-15T12:00:00",
    "use_dask_chunks": false,
    "use_number_particles": 4000000,
    "w_name_extension": "",
    "year_prefix": ""
   },
   "start_time": "2021-04-26T13:53:53.143405",
   "version": "2.3.3"
  }
 },
 "nbformat": 4,
 "nbformat_minor": 5
}