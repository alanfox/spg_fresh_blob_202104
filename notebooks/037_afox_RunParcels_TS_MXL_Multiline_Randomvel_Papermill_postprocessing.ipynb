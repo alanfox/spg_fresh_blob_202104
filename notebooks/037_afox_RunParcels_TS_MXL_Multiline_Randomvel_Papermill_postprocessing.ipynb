{
 "cells": [
  {
   "cell_type": "markdown",
   "id": "ordinary-occurrence",
   "metadata": {},
   "source": [
    "# Parcels Experiment: Postprocessing<br><br>Expanding the polyline code to release particles at density based on local velocity normal to section.\n",
    "\n",
    "_(Based on an experiment originally designed by Christina Schmidt.)_\n",
    "\n",
    "_(Runs on GEOMAR Jupyter Server at https://schulung3.geomar.de/user/workshop007/lab)_"
   ]
  },
  {
   "cell_type": "code",
   "execution_count": 1,
   "id": "fourth-space",
   "metadata": {},
   "outputs": [],
   "source": [
    "import xarray as xr\n",
    "import numpy as np\n",
    "from glob import glob"
   ]
  },
  {
   "cell_type": "code",
   "execution_count": 2,
   "id": "statutory-shakespeare",
   "metadata": {},
   "outputs": [],
   "source": [
    "list_output = sorted(glob('/gxfs_work1/geomar/smomw360/spg_fresh_blob_202104/data/raw/*backward*.nc'))\n",
    "list_output_dates = [w[95:103] for w in list_output]"
   ]
  },
  {
   "cell_type": "code",
   "execution_count": 3,
   "id": "banner-malaysia",
   "metadata": {},
   "outputs": [],
   "source": [
    "list_all_dates = []\n",
    "for year in range(1990, 2020):\n",
    "    for month_day in ['01-03','01-08','01-13','01-18','01-23','01-28','02-02','02-07','02-12','02-17',\n",
    "                      '02-22','02-28','03-04','03-09','03-14','03-19','03-24','03-29','04-03','04-08',\n",
    "                      '04-13','04-18','04-23','04-28','05-03','05-08','05-13','05-18','05-23','05-28',\n",
    "                      '06-02','06-07','06-12','06-17','06-22','06-27','07-02','07-07','07-12','07-17',\n",
    "                      '07-22','07-27','08-01','08-06','08-11','08-16','08-21','08-26','08-31','09-05',\n",
    "                      '09-10','09-15','09-20','09-25','09-30','10-05','10-10','10-15','10-20','10-25',\n",
    "                      '10-30','11-04','11-09','11-14','11-19','11-24','11-29','12-04','12-09','12-14',\n",
    "                      '12-19','12-24','12-29']:\n",
    "        if list_all_dates == []:\n",
    "            list_all_dates = [str(year) + month_day[:2] + month_day[-2:]]\n",
    "        else:\n",
    "            list_all_dates.append(str(year) + month_day[:2] + month_day[-2:])"
   ]
  },
  {
   "cell_type": "code",
   "execution_count": 4,
   "id": "considered-reply",
   "metadata": {},
   "outputs": [
    {
     "data": {
      "text/plain": [
       "['19900103',\n",
       " '19900108',\n",
       " '19900113',\n",
       " '19900118',\n",
       " '19900123',\n",
       " '19900128',\n",
       " '19900202',\n",
       " '19900207',\n",
       " '19900212',\n",
       " '19900217',\n",
       " '19900222',\n",
       " '19900228',\n",
       " '19900304']"
      ]
     },
     "execution_count": 4,
     "metadata": {},
     "output_type": "execute_result"
    }
   ],
   "source": [
    "list_output_dates[:13]"
   ]
  },
  {
   "cell_type": "code",
   "execution_count": 5,
   "id": "controlled-herald",
   "metadata": {},
   "outputs": [
    {
     "data": {
      "text/plain": [
       "['20191030',\n",
       " '20191104',\n",
       " '20191109',\n",
       " '20191114',\n",
       " '20191119',\n",
       " '20191124',\n",
       " '20191129',\n",
       " '20191204',\n",
       " '20191209',\n",
       " '20191214',\n",
       " '20191219',\n",
       " '20191224',\n",
       " '20191229']"
      ]
     },
     "execution_count": 5,
     "metadata": {},
     "output_type": "execute_result"
    }
   ],
   "source": [
    "list_output_dates[-13:]"
   ]
  },
  {
   "cell_type": "code",
   "execution_count": 6,
   "id": "periodic-hunter",
   "metadata": {},
   "outputs": [
    {
     "data": {
      "text/plain": [
       "['19900103',\n",
       " '19900108',\n",
       " '19900113',\n",
       " '19900118',\n",
       " '19900123',\n",
       " '19900128',\n",
       " '19900202',\n",
       " '19900207',\n",
       " '19900212',\n",
       " '19900217',\n",
       " '19900222',\n",
       " '19900228',\n",
       " '19900304']"
      ]
     },
     "execution_count": 6,
     "metadata": {},
     "output_type": "execute_result"
    }
   ],
   "source": [
    "list_all_dates[:13]"
   ]
  },
  {
   "cell_type": "code",
   "execution_count": 7,
   "id": "virgin-album",
   "metadata": {},
   "outputs": [
    {
     "data": {
      "text/plain": [
       "['20191030',\n",
       " '20191104',\n",
       " '20191109',\n",
       " '20191114',\n",
       " '20191119',\n",
       " '20191124',\n",
       " '20191129',\n",
       " '20191204',\n",
       " '20191209',\n",
       " '20191214',\n",
       " '20191219',\n",
       " '20191224',\n",
       " '20191229']"
      ]
     },
     "execution_count": 7,
     "metadata": {},
     "output_type": "execute_result"
    }
   ],
   "source": [
    "list_all_dates[-13:]"
   ]
  },
  {
   "cell_type": "code",
   "execution_count": 8,
   "id": "unavailable-spare",
   "metadata": {},
   "outputs": [],
   "source": [
    "list_missing = set(list_all_dates).difference(list_output_dates)"
   ]
  },
  {
   "cell_type": "code",
   "execution_count": 9,
   "id": "collectible-software",
   "metadata": {},
   "outputs": [
    {
     "data": {
      "text/plain": [
       "{'20000309', '20030821'}"
      ]
     },
     "execution_count": 9,
     "metadata": {},
     "output_type": "execute_result"
    }
   ],
   "source": [
    "list_missing"
   ]
  },
  {
   "cell_type": "code",
   "execution_count": 10,
   "id": "duplicate-mattress",
   "metadata": {},
   "outputs": [],
   "source": [
    "list_missing_formatted = [(w[:4] + str('-') + w[4:6]+ str('-') + w[6:8])\n",
    "                          for w in list_missing]"
   ]
  },
  {
   "cell_type": "code",
   "execution_count": 11,
   "id": "regular-eugene",
   "metadata": {},
   "outputs": [
    {
     "data": {
      "text/plain": [
       "['2003-08-21', '2000-03-09']"
      ]
     },
     "execution_count": 11,
     "metadata": {},
     "output_type": "execute_result"
    }
   ],
   "source": [
    "list_missing_formatted"
   ]
  },
  {
   "cell_type": "code",
   "execution_count": 12,
   "id": "essential-break",
   "metadata": {},
   "outputs": [
    {
     "data": {
      "text/plain": [
       "2"
      ]
     },
     "execution_count": 12,
     "metadata": {},
     "output_type": "execute_result"
    }
   ],
   "source": [
    "len(list_missing_formatted)"
   ]
  },
  {
   "cell_type": "markdown",
   "id": "democratic-manhattan",
   "metadata": {},
   "source": [
    "## Convert to zarr"
   ]
  },
  {
   "cell_type": "code",
   "execution_count": 3,
   "id": "nominated-forth",
   "metadata": {},
   "outputs": [
    {
     "name": "stdout",
     "output_type": "stream",
     "text": [
      "2000\n",
      "2001\n",
      "2002\n",
      "2003\n",
      "2004\n",
      "2005\n",
      "2006\n",
      "2007\n",
      "2008\n",
      "2009\n",
      "CPU times: user 22min 50s, sys: 26min 29s, total: 49min 20s\n",
      "Wall time: 23min 46s\n"
     ]
    }
   ],
   "source": [
    "%%time\n",
    "for release_year in range(2000, 2010):\n",
    "    print(release_year)\n",
    "    path_zarr = ('/gxfs_work1/geomar/smomw360/spg_fresh_blob_202104/data/raw/' +\n",
    "                 'tracks_randomvel_mxl_osnap_backwards_' + str(release_year) + '.zarr')\n",
    "    path_zarr_subset = ('/gxfs_work1/geomar/smomw360/spg_fresh_blob_202104/data/raw/' +\n",
    "                        'tracks_randomvel_mxl_osnap_backwards_' + str(release_year) + '_subset.zarr')\n",
    "\n",
    "    files_output = sorted(glob('/gxfs_work1/geomar/smomw360/spg_fresh_blob_202104/data/raw/*backward_' +\n",
    "                               str(release_year) + '*.nc'))\n",
    "\n",
    "    ds = xr.open_mfdataset(files_output, concat_dim='traj', combine='nested').chunk({'traj': 60000})\n",
    "\n",
    "    # cast to lower precision data types    \n",
    "    ds[\"z\"] = ds[\"z\"].astype(\"float32\")\n",
    "    ds[\"lat\"] = ds[\"lat\"].astype(\"float32\")\n",
    "    ds[\"lon\"] = ds[\"lon\"].astype(\"float32\")\n",
    "    ds = ds.drop([\"trajectory\", ])\n",
    "\n",
    "    if release_year == 2016:\n",
    "        ds.to_zarr(path_zarr, mode='w')\n",
    "\n",
    "    np.random.seed(1234)\n",
    "    index_traj = np.random.choice(np.arange(ds.traj.size), 400_000, replace=False)\n",
    "    ds_subset = ds.isel(traj=np.sort(index_traj)).chunk({'traj': 6000})\n",
    "\n",
    "    ds_subset.to_zarr(path_zarr_subset, mode='w')"
   ]
  },
  {
   "cell_type": "code",
   "execution_count": 4,
   "id": "determined-cooper",
   "metadata": {},
   "outputs": [],
   "source": [
    "ds_reread = xr.open_zarr(path_zarr_subset)"
   ]
  },
  {
   "cell_type": "code",
   "execution_count": 5,
   "id": "ethical-resolution",
   "metadata": {},
   "outputs": [
    {
     "data": {
      "text/plain": [
       "[<matplotlib.lines.Line2D at 0x7f414079ed60>]"
      ]
     },
     "execution_count": 5,
     "metadata": {},
     "output_type": "execute_result"
    },
    {
     "data": {
      "image/png": "[encoded data removed]",
      "text/plain": [
       "<Figure size 432x288 with 1 Axes>"
      ]
     },
     "metadata": {
      "needs_background": "light"
     },
     "output_type": "display_data"
    }
   ],
   "source": [
    "ds_reread.time[:, 0].plot()"
   ]
  },
  {
   "cell_type": "code",
   "execution_count": 6,
   "id": "deluxe-piece",
   "metadata": {},
   "outputs": [
    {
     "data": {
      "text/plain": [
       "[<matplotlib.lines.Line2D at 0x7f41403ee460>]"
      ]
     },
     "execution_count": 6,
     "metadata": {},
     "output_type": "execute_result"
    },
    {
     "data": {
      "image/png": "[encoded data removed]",
      "text/plain": [
       "<Figure size 432x288 with 1 Axes>"
      ]
     },
     "metadata": {
      "needs_background": "light"
     },
     "output_type": "display_data"
    }
   ],
   "source": [
    "ds_reread.lon[:, 0].plot()"
   ]
  },
  {
   "cell_type": "code",
   "execution_count": null,
   "id": "arabic-anatomy",
   "metadata": {},
   "outputs": [],
   "source": []
  }
 ],
 "metadata": {
  "kernelspec": {
   "display_name": "Python 3",
   "language": "python",
   "name": "python3"
  },
  "language_info": {
   "codemirror_mode": {
    "name": "ipython",
    "version": 3
   },
   "file_extension": ".py",
   "mimetype": "text/x-python",
   "name": "python",
   "nbconvert_exporter": "python",
   "pygments_lexer": "ipython3",
   "version": "3.6.7"
  }
 },
 "nbformat": 4,
 "nbformat_minor": 5
}
