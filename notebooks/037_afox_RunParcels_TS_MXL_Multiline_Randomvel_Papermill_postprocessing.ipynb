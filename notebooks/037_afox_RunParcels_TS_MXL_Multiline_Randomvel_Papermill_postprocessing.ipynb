{
 "cells": [
  {
   "cell_type": "markdown",
   "id": "parliamentary-penetration",
   "metadata": {},
   "source": [
    "# Parcels Experiment: Postprocessing<br><br>Expanding the polyline code to release particles at density based on local velocity normal to section.\n",
    "\n",
    "_(Based on an experiment originally designed by Christina Schmidt.)_\n",
    "\n",
    "_(Runs on GEOMAR Jupyter Server at https://schulung3.geomar.de/user/workshop007/lab)_"
   ]
  },
  {
   "cell_type": "code",
   "execution_count": 1,
   "id": "nonprofit-drunk",
   "metadata": {},
   "outputs": [],
   "source": [
    "import xarray as xr\n",
    "import numpy as np\n",
    "from glob import glob"
   ]
  },
  {
   "cell_type": "code",
   "execution_count": 2,
   "id": "conscious-danger",
   "metadata": {},
   "outputs": [],
   "source": [
    "list_output = sorted(glob('/gxfs_work1/geomar/smomw360/spg_fresh_blob_202104/data/raw/*backward*.nc'))\n",
    "list_output_dates = [w[95:103] for w in list_output]"
   ]
  },
  {
   "cell_type": "code",
   "execution_count": 3,
   "id": "internal-sierra",
   "metadata": {},
   "outputs": [],
   "source": [
    "list_all_dates = []\n",
    "for year in range(1990, 2020):\n",
    "    for month_day in ['01-03','01-08','01-13','01-18','01-23','01-28','02-02','02-07','02-12','02-17',\n",
    "                      '02-22','02-28','03-04','03-09','03-14','03-19','03-24','03-29','04-03','04-08',\n",
    "                      '04-13','04-18','04-23','04-28','05-03','05-08','05-13','05-18','05-23','05-28',\n",
    "                      '06-02','06-07','06-12','06-17','06-22','06-27','07-02','07-07','07-12','07-17',\n",
    "                      '07-22','07-27','08-01','08-06','08-11','08-16','08-21','08-26','08-31','09-05',\n",
    "                      '09-10','09-15','09-20','09-25','09-30','10-05','10-10','10-15','10-20','10-25',\n",
    "                      '10-30','11-04','11-09','11-14','11-19','11-24','11-29','12-04','12-09','12-14',\n",
    "                      '12-19','12-24','12-29']:\n",
    "        if list_all_dates == []:\n",
    "            list_all_dates = [str(year) + month_day[:2] + month_day[-2:]]\n",
    "        else:\n",
    "            list_all_dates.append(str(year) + month_day[:2] + month_day[-2:])"
   ]
  },
  {
   "cell_type": "code",
   "execution_count": 4,
   "id": "theoretical-polls",
   "metadata": {},
   "outputs": [
    {
     "data": {
      "text/plain": [
       "['19900103',\n",
       " '19900108',\n",
       " '19900113',\n",
       " '19900118',\n",
       " '19900123',\n",
       " '19900128',\n",
       " '19900202',\n",
       " '19900207',\n",
       " '19900212',\n",
       " '19900217',\n",
       " '19900222',\n",
       " '19900228',\n",
       " '19900304']"
      ]
     },
     "execution_count": 4,
     "metadata": {},
     "output_type": "execute_result"
    }
   ],
   "source": [
    "list_output_dates[:13]"
   ]
  },
  {
   "cell_type": "code",
   "execution_count": 5,
   "id": "upset-review",
   "metadata": {},
   "outputs": [
    {
     "data": {
      "text/plain": [
       "['20191030',\n",
       " '20191104',\n",
       " '20191109',\n",
       " '20191114',\n",
       " '20191119',\n",
       " '20191124',\n",
       " '20191129',\n",
       " '20191204',\n",
       " '20191209',\n",
       " '20191214',\n",
       " '20191219',\n",
       " '20191224',\n",
       " '20191229']"
      ]
     },
     "execution_count": 5,
     "metadata": {},
     "output_type": "execute_result"
    }
   ],
   "source": [
    "list_output_dates[-13:]"
   ]
  },
  {
   "cell_type": "code",
   "execution_count": 6,
   "id": "textile-stationery",
   "metadata": {},
   "outputs": [
    {
     "data": {
      "text/plain": [
       "['19900103',\n",
       " '19900108',\n",
       " '19900113',\n",
       " '19900118',\n",
       " '19900123',\n",
       " '19900128',\n",
       " '19900202',\n",
       " '19900207',\n",
       " '19900212',\n",
       " '19900217',\n",
       " '19900222',\n",
       " '19900228',\n",
       " '19900304']"
      ]
     },
     "execution_count": 6,
     "metadata": {},
     "output_type": "execute_result"
    }
   ],
   "source": [
    "list_all_dates[:13]"
   ]
  },
  {
   "cell_type": "code",
   "execution_count": 7,
   "id": "requested-hampton",
   "metadata": {},
   "outputs": [
    {
     "data": {
      "text/plain": [
       "['20191030',\n",
       " '20191104',\n",
       " '20191109',\n",
       " '20191114',\n",
       " '20191119',\n",
       " '20191124',\n",
       " '20191129',\n",
       " '20191204',\n",
       " '20191209',\n",
       " '20191214',\n",
       " '20191219',\n",
       " '20191224',\n",
       " '20191229']"
      ]
     },
     "execution_count": 7,
     "metadata": {},
     "output_type": "execute_result"
    }
   ],
   "source": [
    "list_all_dates[-13:]"
   ]
  },
  {
   "cell_type": "code",
   "execution_count": 8,
   "id": "confident-allergy",
   "metadata": {},
   "outputs": [],
   "source": [
    "list_missing = set(list_all_dates).difference(list_output_dates)"
   ]
  },
  {
   "cell_type": "code",
   "execution_count": 9,
   "id": "funky-basket",
   "metadata": {},
   "outputs": [
    {
     "data": {
      "text/plain": [
       "set()"
      ]
     },
     "execution_count": 9,
     "metadata": {},
     "output_type": "execute_result"
    }
   ],
   "source": [
    "list_missing"
   ]
  },
  {
   "cell_type": "code",
   "execution_count": 10,
   "id": "aggregate-distance",
   "metadata": {},
   "outputs": [],
   "source": [
    "list_missing_formatted = [(w[:4] + str('-') + w[4:6]+ str('-') + w[6:8])\n",
    "                          for w in list_missing]"
   ]
  },
  {
   "cell_type": "code",
   "execution_count": 11,
   "id": "abstract-international",
   "metadata": {},
   "outputs": [
    {
     "data": {
      "text/plain": [
       "[]"
      ]
     },
     "execution_count": 11,
     "metadata": {},
     "output_type": "execute_result"
    }
   ],
   "source": [
    "list_missing_formatted"
   ]
  },
  {
   "cell_type": "code",
   "execution_count": 12,
   "id": "close-sending",
   "metadata": {},
   "outputs": [
    {
     "data": {
      "text/plain": [
       "0"
      ]
     },
     "execution_count": 12,
     "metadata": {},
     "output_type": "execute_result"
    }
   ],
   "source": [
    "len(list_missing_formatted)"
   ]
  },
  {
   "cell_type": "markdown",
   "id": "micro-letter",
   "metadata": {},
   "source": [
    "## Convert to zarr"
   ]
  },
  {
   "cell_type": "code",
   "execution_count": 13,
   "id": "0360f119-bbf0-42b8-b12c-f2edf6c74fde",
   "metadata": {},
   "outputs": [],
   "source": [
    "from dask.distributed import Client"
   ]
  },
  {
   "cell_type": "code",
   "execution_count": 14,
   "id": "012d3787-aab9-482c-be8d-93c4fe241ba3",
   "metadata": {},
   "outputs": [
    {
     "name": "stderr",
     "output_type": "stream",
     "text": [
      "/opt/conda/lib/python3.8/site-packages/distributed/node.py:151: UserWarning: Port 8787 is already in use.\n",
      "Perhaps you already have a cluster running?\n",
      "Hosting the HTTP server on port 34475 instead\n",
      "  warnings.warn(\n"
     ]
    },
    {
     "data": {
      "text/html": [
       "<table style=\"border: 2px solid white;\">\n",
       "<tr>\n",
       "<td style=\"vertical-align: top; border: 0px solid white\">\n",
       "<h3 style=\"text-align: left;\">Client</h3>\n",
       "<ul style=\"text-align: left; list-style: none; margin: 0; padding: 0;\">\n",
       "  <li><b>Scheduler: </b>tcp://134.245.3.14:45403</li>\n",
       "  <li><b>Dashboard: </b><a href='http://134.245.3.14:34475/status' target='_blank'>http://134.245.3.14:34475/status</a></li>\n",
       "</ul>\n",
       "</td>\n",
       "<td style=\"vertical-align: top; border: 0px solid white\">\n",
       "<h3 style=\"text-align: left;\">Cluster</h3>\n",
       "<ul style=\"text-align: left; list-style:none; margin: 0; padding: 0;\">\n",
       "  <li><b>Workers: </b>2</li>\n",
       "  <li><b>Cores: </b>8</li>\n",
       "  <li><b>Memory: </b>40.00 GB</li>\n",
       "</ul>\n",
       "</td>\n",
       "</tr>\n",
       "</table>"
      ],
      "text/plain": [
       "<Client: 'tcp://134.245.3.14:45403' processes=2 threads=8, memory=40.00 GB>"
      ]
     },
     "execution_count": 14,
     "metadata": {},
     "output_type": "execute_result"
    }
   ],
   "source": [
    "client = Client(n_workers=2, threads_per_worker=4, memory_limit=20e9, ip=\"0.0.0.0\")\n",
    "client"
   ]
  },
  {
   "cell_type": "code",
   "execution_count": 15,
   "id": "6058e0dd-6365-4511-9a7f-49c96bc691fc",
   "metadata": {},
   "outputs": [],
   "source": [
    "import tqdm"
   ]
  },
  {
   "cell_type": "code",
   "execution_count": 16,
   "id": "killing-surface",
   "metadata": {},
   "outputs": [
    {
     "name": "stderr",
     "output_type": "stream",
     "text": [
      "  0%|                                                                                              | 0/30 [00:00<?, ?it/s]"
     ]
    },
    {
     "name": "stdout",
     "output_type": "stream",
     "text": [
      "1990\n"
     ]
    },
    {
     "name": "stderr",
     "output_type": "stream",
     "text": [
      "  3%|██▊                                                                                   | 1/30 [01:33<44:57, 93.00s/it]"
     ]
    },
    {
     "name": "stdout",
     "output_type": "stream",
     "text": [
      "1991\n"
     ]
    },
    {
     "name": "stderr",
     "output_type": "stream",
     "text": [
      "  7%|█████▋                                                                                | 2/30 [03:07<43:49, 93.91s/it]"
     ]
    },
    {
     "name": "stdout",
     "output_type": "stream",
     "text": [
      "1992\n"
     ]
    },
    {
     "name": "stderr",
     "output_type": "stream",
     "text": [
      " 10%|████████▌                                                                             | 3/30 [04:42<42:29, 94.42s/it]"
     ]
    },
    {
     "name": "stdout",
     "output_type": "stream",
     "text": [
      "1993\n"
     ]
    },
    {
     "name": "stderr",
     "output_type": "stream",
     "text": [
      " 13%|███████████▍                                                                          | 4/30 [06:17<40:56, 94.48s/it]"
     ]
    },
    {
     "name": "stdout",
     "output_type": "stream",
     "text": [
      "1994\n"
     ]
    },
    {
     "name": "stderr",
     "output_type": "stream",
     "text": [
      " 17%|██████████████▎                                                                       | 5/30 [07:58<40:25, 97.01s/it]"
     ]
    },
    {
     "name": "stdout",
     "output_type": "stream",
     "text": [
      "1995\n"
     ]
    },
    {
     "name": "stderr",
     "output_type": "stream",
     "text": [
      " 20%|█████████████████▏                                                                    | 6/30 [09:33<38:34, 96.42s/it]"
     ]
    },
    {
     "name": "stdout",
     "output_type": "stream",
     "text": [
      "1996\n"
     ]
    },
    {
     "name": "stderr",
     "output_type": "stream",
     "text": [
      " 23%|████████████████████                                                                  | 7/30 [11:09<36:48, 96.02s/it]"
     ]
    },
    {
     "name": "stdout",
     "output_type": "stream",
     "text": [
      "1997\n"
     ]
    },
    {
     "name": "stderr",
     "output_type": "stream",
     "text": [
      " 27%|██████████████████████▉                                                               | 8/30 [12:48<35:34, 97.01s/it]"
     ]
    },
    {
     "name": "stdout",
     "output_type": "stream",
     "text": [
      "1998\n"
     ]
    },
    {
     "name": "stderr",
     "output_type": "stream",
     "text": [
      " 30%|█████████████████████████▊                                                            | 9/30 [14:24<33:51, 96.74s/it]"
     ]
    },
    {
     "name": "stdout",
     "output_type": "stream",
     "text": [
      "1999\n"
     ]
    },
    {
     "name": "stderr",
     "output_type": "stream",
     "text": [
      " 33%|████████████████████████████▎                                                        | 10/30 [15:57<31:52, 95.63s/it]"
     ]
    },
    {
     "name": "stdout",
     "output_type": "stream",
     "text": [
      "2000\n"
     ]
    },
    {
     "name": "stderr",
     "output_type": "stream",
     "text": [
      " 37%|███████████████████████████████▏                                                     | 11/30 [17:29<29:56, 94.58s/it]"
     ]
    },
    {
     "name": "stdout",
     "output_type": "stream",
     "text": [
      "2001\n"
     ]
    },
    {
     "name": "stderr",
     "output_type": "stream",
     "text": [
      " 40%|██████████████████████████████████                                                   | 12/30 [19:02<28:14, 94.12s/it]"
     ]
    },
    {
     "name": "stdout",
     "output_type": "stream",
     "text": [
      "2002\n"
     ]
    },
    {
     "name": "stderr",
     "output_type": "stream",
     "text": [
      " 43%|████████████████████████████████████▊                                                | 13/30 [20:40<26:56, 95.07s/it]"
     ]
    },
    {
     "name": "stdout",
     "output_type": "stream",
     "text": [
      "2003\n"
     ]
    },
    {
     "name": "stderr",
     "output_type": "stream",
     "text": [
      " 47%|███████████████████████████████████████▏                                            | 14/30 [23:36<31:54, 119.66s/it]"
     ]
    },
    {
     "name": "stdout",
     "output_type": "stream",
     "text": [
      "2004\n"
     ]
    },
    {
     "name": "stderr",
     "output_type": "stream",
     "text": [
      " 50%|██████████████████████████████████████████                                          | 15/30 [25:14<28:16, 113.11s/it]"
     ]
    },
    {
     "name": "stdout",
     "output_type": "stream",
     "text": [
      "2005\n"
     ]
    },
    {
     "name": "stderr",
     "output_type": "stream",
     "text": [
      " 53%|████████████████████████████████████████████▊                                       | 16/30 [26:40<24:31, 105.08s/it]"
     ]
    },
    {
     "name": "stdout",
     "output_type": "stream",
     "text": [
      "2006\n"
     ]
    },
    {
     "name": "stderr",
     "output_type": "stream",
     "text": [
      " 57%|███████████████████████████████████████████████▌                                    | 17/30 [28:21<22:28, 103.76s/it]"
     ]
    },
    {
     "name": "stdout",
     "output_type": "stream",
     "text": [
      "2007\n"
     ]
    },
    {
     "name": "stderr",
     "output_type": "stream",
     "text": [
      " 60%|██████████████████████████████████████████████████▍                                 | 18/30 [31:11<24:44, 123.73s/it]"
     ]
    },
    {
     "name": "stdout",
     "output_type": "stream",
     "text": [
      "2008\n"
     ]
    },
    {
     "name": "stderr",
     "output_type": "stream",
     "text": [
      " 63%|█████████████████████████████████████████████████████▏                              | 19/30 [32:56<21:39, 118.13s/it]"
     ]
    },
    {
     "name": "stdout",
     "output_type": "stream",
     "text": [
      "2009\n"
     ]
    },
    {
     "name": "stderr",
     "output_type": "stream",
     "text": [
      " 67%|████████████████████████████████████████████████████████                            | 20/30 [34:32<18:34, 111.45s/it]"
     ]
    },
    {
     "name": "stdout",
     "output_type": "stream",
     "text": [
      "2010\n"
     ]
    },
    {
     "name": "stderr",
     "output_type": "stream",
     "text": [
      " 70%|██████████████████████████████████████████████████████████▊                         | 21/30 [35:56<15:28, 103.13s/it]"
     ]
    },
    {
     "name": "stdout",
     "output_type": "stream",
     "text": [
      "2011\n"
     ]
    },
    {
     "name": "stderr",
     "output_type": "stream",
     "text": [
      " 73%|██████████████████████████████████████████████████████████████▎                      | 22/30 [37:23<13:07, 98.43s/it]"
     ]
    },
    {
     "name": "stdout",
     "output_type": "stream",
     "text": [
      "2012\n"
     ]
    },
    {
     "name": "stderr",
     "output_type": "stream",
     "text": [
      " 77%|████████████████████████████████████████████████████████████████▍                   | 23/30 [40:18<14:08, 121.16s/it]"
     ]
    },
    {
     "name": "stdout",
     "output_type": "stream",
     "text": [
      "2013\n"
     ]
    },
    {
     "name": "stderr",
     "output_type": "stream",
     "text": [
      " 80%|███████████████████████████████████████████████████████████████████▏                | 24/30 [41:56<11:25, 114.20s/it]"
     ]
    },
    {
     "name": "stdout",
     "output_type": "stream",
     "text": [
      "2014\n"
     ]
    },
    {
     "name": "stderr",
     "output_type": "stream",
     "text": [
      " 83%|██████████████████████████████████████████████████████████████████████              | 25/30 [45:12<11:34, 138.92s/it]"
     ]
    },
    {
     "name": "stdout",
     "output_type": "stream",
     "text": [
      "2015\n"
     ]
    },
    {
     "name": "stderr",
     "output_type": "stream",
     "text": [
      " 87%|████████████████████████████████████████████████████████████████████████▊           | 26/30 [46:46<08:20, 125.23s/it]"
     ]
    },
    {
     "name": "stdout",
     "output_type": "stream",
     "text": [
      "2016\n"
     ]
    },
    {
     "name": "stderr",
     "output_type": "stream",
     "text": [
      " 90%|███████████████████████████████████████████████████████████████████████████▌        | 27/30 [48:13<05:42, 114.03s/it]"
     ]
    },
    {
     "name": "stdout",
     "output_type": "stream",
     "text": [
      "2017\n"
     ]
    },
    {
     "name": "stderr",
     "output_type": "stream",
     "text": [
      " 93%|██████████████████████████████████████████████████████████████████████████████▍     | 28/30 [49:47<03:35, 107.98s/it]"
     ]
    },
    {
     "name": "stdout",
     "output_type": "stream",
     "text": [
      "2018\n"
     ]
    },
    {
     "name": "stderr",
     "output_type": "stream",
     "text": [
      " 97%|█████████████████████████████████████████████████████████████████████████████████▏  | 29/30 [51:13<01:41, 101.20s/it]"
     ]
    },
    {
     "name": "stdout",
     "output_type": "stream",
     "text": [
      "2019\n"
     ]
    },
    {
     "name": "stderr",
     "output_type": "stream",
     "text": [
      "100%|████████████████████████████████████████████████████████████████████████████████████| 30/30 [54:11<00:00, 108.39s/it]\n"
     ]
    }
   ],
   "source": [
    "for release_year in tqdm.tqdm(range(1990, 2020)):\n",
    "    print(release_year)\n",
    "    path_zarr = ('/gxfs_work1/geomar/smomw122/2022-02-09_spg_fresh_blob_202104_raw_data/' +\n",
    "                 'tracks_randomvel_mxl_osnap_backwards_' + str(release_year) + '.zarr')\n",
    "    path_zarr_subset = ('/gxfs_work1/geomar/smomw122/2022-02-09_spg_fresh_blob_202104_raw_data/' +\n",
    "                        'tracks_randomvel_mxl_osnap_backwards_' + str(release_year) + '_subset.zarr')\n",
    "\n",
    "    files_output = sorted(glob('/gxfs_work1/geomar/smomw360/spg_fresh_blob_202104/data/raw/*backward_' +\n",
    "                               str(release_year) + '*.nc'))\n",
    "\n",
    "    ds = xr.open_mfdataset(files_output, concat_dim='traj', combine='nested', decode_cf=False).chunk({'traj': 60000})\n",
    "\n",
    "    # cast to lower precision data types    \n",
    "    ds[\"z\"] = ds[\"z\"].astype(\"float32\")\n",
    "    ds[\"lat\"] = ds[\"lat\"].astype(\"float32\")\n",
    "    ds[\"lon\"] = ds[\"lon\"].astype(\"float32\")\n",
    "    ds = ds.drop([\"trajectory\", ])\n",
    "\n",
    "    # if release_year == 2016:\n",
    "    ds.to_zarr(path_zarr, mode='w')\n",
    "\n",
    "    #     np.random.seed(1234)\n",
    "    #     index_traj = np.random.choice(np.arange(ds.traj.size), 400_000, replace=False)\n",
    "    #     ds_subset = ds.isel(traj=np.sort(index_traj)).chunk({'traj': 6000})\n",
    "\n",
    "    #     ds_subset.to_zarr(path_zarr_subset, mode='w')"
   ]
  },
  {
   "cell_type": "code",
   "execution_count": null,
   "id": "0f644cbf-0bb9-4ed3-b010-1ca8ca61d605",
   "metadata": {},
   "outputs": [],
   "source": []
  }
 ],
 "metadata": {
  "kernelspec": {
   "display_name": "Python 3 (ipykernel)",
   "language": "python",
   "name": "python3"
  },
  "language_info": {
   "codemirror_mode": {
    "name": "ipython",
    "version": 3
   },
   "file_extension": ".py",
   "mimetype": "text/x-python",
   "name": "python",
   "nbconvert_exporter": "python",
   "pygments_lexer": "ipython3",
   "version": "3.8.10"
  }
 },
 "nbformat": 4,
 "nbformat_minor": 5
}
