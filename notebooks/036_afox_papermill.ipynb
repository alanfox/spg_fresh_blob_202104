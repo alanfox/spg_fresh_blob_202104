{
 "cells": [
  {
   "cell_type": "markdown",
   "id": "center-joseph",
   "metadata": {},
   "source": [
    "## Prepare papermill for schulung3.geomar.de\n",
    "\n",
    "    Make sure you have activated the correct kernel\n",
    "    Install kernel manually"
   ]
  },
  {
   "cell_type": "code",
   "execution_count": 1,
   "id": "brown-reality",
   "metadata": {},
   "outputs": [
    {
     "name": "stdout",
     "output_type": "stream",
     "text": [
      "Installed kernelspec parcels-container_2021.03.17-6c459b7 in /home/jupyter-workshop007/.local/share/jupyter/kernels/parcels-container_2021.03.17-6c459b7\n"
     ]
    }
   ],
   "source": [
    "!python -m ipykernel install --user --name parcels-container_2021.03.17-6c459b7"
   ]
  },
  {
   "cell_type": "code",
   "execution_count": 2,
   "id": "fresh-engineering",
   "metadata": {},
   "outputs": [
    {
     "name": "stdout",
     "output_type": "stream",
     "text": [
      "Available kernels:\n",
      "  parcels-container_2021.03.17-6c459b7    /home/jupyter-workshop007/.local/share/jupyter/kernels/parcels-container_2021.03.17-6c459b7\n",
      "  py3_lagrange_v2.2.2                     /home/jupyter-workshop007/.local/share/jupyter/kernels/py3_lagrange_v2.2.2\n",
      "  python3                                 /opt/tljh/user/envs/parcels-container_2021.03.17-6c459b7/share/jupyter/kernels/python3\n"
     ]
    }
   ],
   "source": [
    "!jupyter kernelspec list"
   ]
  },
  {
   "cell_type": "markdown",
   "id": "above-memphis",
   "metadata": {},
   "source": [
    "### Run papermill on schulung3.geomar.de"
   ]
  },
  {
   "cell_type": "code",
   "execution_count": 3,
   "id": "falling-weapon",
   "metadata": {},
   "outputs": [
    {
     "name": "stderr",
     "output_type": "stream",
     "text": [
      "Input Notebook:  035_afox_RunParcels_TS_Multiline_Randomvel_Papermill.ipynb\n",
      "Output Notebook: ../reports/evaluated_notebooks/035_out_2013-01-16T12:00:00_1m_10_1000m_Rnd123.ipynb\n",
      "Generating grammar tables from /opt/tljh/user/envs/parcels-container_2021.03.17-6c459b7/lib/python3.8/site-packages/blib2to3/Grammar.txt\n",
      "Writing grammar tables to /home/jupyter-workshop007/.cache/black/20.8b1/Grammar3.8.8.final.0.pickle\n",
      "Writing failed: [Errno 2] No such file or directory: '/home/jupyter-workshop007/.cache/black/20.8b1/tmp9w4pwipf'\n",
      "Generating grammar tables from /opt/tljh/user/envs/parcels-container_2021.03.17-6c459b7/lib/python3.8/site-packages/blib2to3/PatternGrammar.txt\n",
      "Writing grammar tables to /home/jupyter-workshop007/.cache/black/20.8b1/PatternGrammar3.8.8.final.0.pickle\n",
      "Writing failed: [Errno 2] No such file or directory: '/home/jupyter-workshop007/.cache/black/20.8b1/tmptx7dyt1k'\n",
      "Executing:   0%|          | 0/67 [00:00<?, ?cell/s]Executing notebook with kernel: parcels-container_2021.03.17-6c459b7\n",
      "Executing: 100%|██████████| 67/67 [03:42<00:00,  3.32s/cell]\n",
      "Input Notebook:  035_afox_RunParcels_TS_Multiline_Randomvel_Papermill.ipynb\n",
      "Output Notebook: ../reports/evaluated_notebooks/035_out_2013-02-15T00:00:00_1m_10_1000m_Rnd123.ipynb\n",
      "Generating grammar tables from /opt/tljh/user/envs/parcels-container_2021.03.17-6c459b7/lib/python3.8/site-packages/blib2to3/Grammar.txt\n",
      "Writing grammar tables to /home/jupyter-workshop007/.cache/black/20.8b1/Grammar3.8.8.final.0.pickle\n",
      "Writing failed: [Errno 2] No such file or directory: '/home/jupyter-workshop007/.cache/black/20.8b1/tmp0qn9is5d'\n",
      "Generating grammar tables from /opt/tljh/user/envs/parcels-container_2021.03.17-6c459b7/lib/python3.8/site-packages/blib2to3/PatternGrammar.txt\n",
      "Writing grammar tables to /home/jupyter-workshop007/.cache/black/20.8b1/PatternGrammar3.8.8.final.0.pickle\n",
      "Writing failed: [Errno 2] No such file or directory: '/home/jupyter-workshop007/.cache/black/20.8b1/tmpv0g4p_ak'\n",
      "Executing:   0%|          | 0/67 [00:00<?, ?cell/s]Executing notebook with kernel: parcels-container_2021.03.17-6c459b7\n",
      "Executing: 100%|██████████| 67/67 [03:33<00:00,  3.18s/cell]\n"
     ]
    }
   ],
   "source": [
    "%%bash\n",
    "\n",
    "for t_start_str in 2013-01-16T12:00:00 2013-02-15T00:00:00;\n",
    "do\n",
    "papermill 035_afox_RunParcels_TS_Multiline_Randomvel_Papermill.ipynb \\\n",
    "        ../reports/evaluated_notebooks/035_out_${t_start_str}_1m_10_1000m_Rnd123.ipynb \\\n",
    "        -p data_resolution '1m' \\\n",
    "        -p runtime_in_days 10 \\\n",
    "        -p dt_in_minutes  -10 \\\n",
    "        -p year_prefix 20 \\\n",
    "        -p t_0_str '2000-01-16T12:00:00' \\\n",
    "        -p t_start_str $t_start_str \\\n",
    "        -p path_name '/data/iAtlantic/data/' \\\n",
    "        -p mask_path_name '/data/iAtlantic/mask/' \\\n",
    "        -p sectionPathname '../data/external/' \\\n",
    "        -p outpath_name '../data/raw/' \\\n",
    "        -p create_number_particles 800000 \\\n",
    "        -p max_release_depth 1000 \\\n",
    "        -p max_current 1.0 \\\n",
    "        -p outputdt_in_hours 120 \\\n",
    "        -k parcels-container_2021.03.17-6c459b7\n",
    "done\n",
    "\n"
   ]
  },
  {
   "cell_type": "code",
   "execution_count": null,
   "id": "focal-return",
   "metadata": {},
   "outputs": [],
   "source": []
  }
 ],
 "metadata": {
  "kernelspec": {
   "display_name": "Python [conda env:parcels-container_2021.03.17-6c459b7]",
   "language": "python",
   "name": "conda-env-parcels-container_2021.03.17-6c459b7-py"
  },
  "language_info": {
   "codemirror_mode": {
    "name": "ipython",
    "version": 3
   },
   "file_extension": ".py",
   "mimetype": "text/x-python",
   "name": "python",
   "nbconvert_exporter": "python",
   "pygments_lexer": "ipython3",
   "version": "3.8.8"
  }
 },
 "nbformat": 4,
 "nbformat_minor": 5
}
