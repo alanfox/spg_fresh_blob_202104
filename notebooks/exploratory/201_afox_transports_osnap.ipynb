{
 "cells": [
  {
   "cell_type": "markdown",
   "metadata": {
    "slideshow": {
     "slide_type": "slide"
    }
   },
   "source": [
    "# Extract osnap section data from the VIKING20X model.\n",
    "\n",
    "Run one year at a time\n"
   ]
  },
  {
   "cell_type": "markdown",
   "metadata": {
    "slideshow": {
     "slide_type": "skip"
    }
   },
   "source": [
    "## Technical preample"
   ]
  },
  {
   "cell_type": "code",
   "execution_count": 1,
   "metadata": {
    "slideshow": {
     "slide_type": "skip"
    }
   },
   "outputs": [],
   "source": [
    "%matplotlib inline\n",
    "from pathlib import Path\n",
    "import pandas as pd\n",
    "import xarray as xr\n",
    "import numpy as np\n",
    "import matplotlib.pyplot as plt\n",
    "\n",
    "import importlib\n",
    "import sys"
   ]
  },
  {
   "cell_type": "markdown",
   "metadata": {},
   "source": [
    "###  xorca_brokenline and xorca_lonlatij imported from local folder ../../src\n",
    "\n",
    "If these are in the python environment then can import direct from there.\n",
    "\n",
    "Note: This needs the latest (early 2022) xorca_brokenline from the repo with the fixed interpolation. **Not the latest labelled version v1.1.1**"
   ]
  },
  {
   "cell_type": "code",
   "execution_count": 2,
   "metadata": {},
   "outputs": [],
   "source": [
    "# path to some plotting routines\n",
    "sys.path.append(r'../../src/')"
   ]
  },
  {
   "cell_type": "code",
   "execution_count": 3,
   "metadata": {},
   "outputs": [],
   "source": [
    "import xorca_brokenline as bl\n",
    "from xorca_lonlat2ij import get_ij"
   ]
  },
  {
   "cell_type": "code",
   "execution_count": 4,
   "metadata": {},
   "outputs": [],
   "source": [
    "from dask.distributed import Client"
   ]
  },
  {
   "cell_type": "code",
   "execution_count": 5,
   "metadata": {},
   "outputs": [
    {
     "data": {
      "text/html": [
       "<table style=\"border: 2px solid white;\">\n",
       "<tr>\n",
       "<td style=\"vertical-align: top; border: 0px solid white\">\n",
       "<h3 style=\"text-align: left;\">Client</h3>\n",
       "<ul style=\"text-align: left; list-style: none; margin: 0; padding: 0;\">\n",
       "  <li><b>Scheduler: </b>tcp://10.0.4.71:34927</li>\n",
       "  <li><b>Dashboard: </b><a href='http://10.0.4.71:8787/status' target='_blank'>http://10.0.4.71:8787/status</a></li>\n",
       "</ul>\n",
       "</td>\n",
       "<td style=\"vertical-align: top; border: 0px solid white\">\n",
       "<h3 style=\"text-align: left;\">Cluster</h3>\n",
       "<ul style=\"text-align: left; list-style:none; margin: 0; padding: 0;\">\n",
       "  <li><b>Workers: </b>8</li>\n",
       "  <li><b>Cores: </b>16</li>\n",
       "  <li><b>Memory: </b>240.00 GB</li>\n",
       "</ul>\n",
       "</td>\n",
       "</tr>\n",
       "</table>"
      ],
      "text/plain": [
       "<Client: 'tcp://10.0.4.71:34927' processes=8 threads=16, memory=240.00 GB>"
      ]
     },
     "execution_count": 5,
     "metadata": {},
     "output_type": "execute_result"
    }
   ],
   "source": [
    "client = Client(n_workers=8, threads_per_worker=2, memory_limit=30e9, ip=\"0.0.0.0\")\n",
    "client"
   ]
  },
  {
   "cell_type": "markdown",
   "metadata": {
    "slideshow": {
     "slide_type": "skip"
    }
   },
   "source": [
    "_(Click on the link above if you want to see the Dask cluster in action.)_"
   ]
  },
  {
   "cell_type": "markdown",
   "metadata": {
    "slideshow": {
     "slide_type": "skip"
    }
   },
   "source": [
    "## Parameters\n",
    "\n",
    "Let's make it a habit to collect everyting we might want to change at a later point (the parameters of the analysis) in a central place."
   ]
  },
  {
   "cell_type": "code",
   "execution_count": 6,
   "metadata": {
    "tags": [
     "parameters"
    ]
   },
   "outputs": [],
   "source": [
    "# paramters\n",
    "\n",
    "# Project path\n",
    "path_project = Path.cwd() / '..' / '..' \n",
    "path_project = path_project.resolve()\n",
    "\n",
    "# path to osnap section definition\n",
    "sectionPath = path_project / 'data' / 'external'\n",
    "sectionFilename = 'osnap_pos_wp.txt'\n",
    "sectionname = 'osnap'\n",
    "\n",
    "# Section data file\n",
    "path_data_output = path_project / 'data/interim/sections'\n",
    "\n",
    "# path to viking20 data\n",
    "global_data_path = Path(\"/gxfs_work1/geomar/smomw355/model_data/ocean-only/\")\n",
    "experiment_id = \"VIKING20X.L46-KKG36107B\"\n",
    "nest_prefix = \"1\"\n",
    "\n",
    "\n",
    "mean_period = \"1m\"\n",
    "year = 1990"
   ]
  },
  {
   "cell_type": "code",
   "execution_count": 7,
   "metadata": {
    "slideshow": {
     "slide_type": "skip"
    }
   },
   "outputs": [],
   "source": [
    "yearstr = str(year)"
   ]
  },
  {
   "cell_type": "markdown",
   "metadata": {
    "slideshow": {
     "slide_type": "skip"
    }
   },
   "source": [
    "## Load VIKING20X data\n",
    "\n",
    "We'll first find all the relevant files and then open them as a virtual contiguous dataset."
   ]
  },
  {
   "cell_type": "code",
   "execution_count": 8,
   "metadata": {
    "slideshow": {
     "slide_type": "skip"
    }
   },
   "outputs": [
    {
     "name": "stdout",
     "output_type": "stream",
     "text": [
      "found 1 grid-U files\n",
      "found 1 grid-V files\n",
      "found 1 grid-T files\n",
      "found 0 mesh_hgr files\n",
      "found 0 mesh_zgr files\n",
      "found 0 mask files\n",
      "found 1 mesh mask files\n"
     ]
    }
   ],
   "source": [
    "U_files = (global_data_path / experiment_id / \"nemo/output/\").glob(f\"{nest_prefix}_{experiment_id}_{mean_period}_{yearstr}????_{yearstr}????_grid_U.nc\")\n",
    "U_files = list(sorted(U_files))\n",
    "print(f\"found {len(U_files)} grid-U files\")\n",
    "\n",
    "V_files = (global_data_path / experiment_id / \"nemo/output/\").glob(f\"{nest_prefix}_{experiment_id}_{mean_period}_{yearstr}????_{yearstr}????_grid_V.nc\")\n",
    "V_files = list(sorted(V_files))\n",
    "print(f\"found {len(V_files)} grid-V files\")\n",
    "\n",
    "T_files = (global_data_path / experiment_id / \"nemo/output/\").glob(f\"{nest_prefix}_{experiment_id}_{mean_period}_{yearstr}????_{yearstr}????_grid_T.nc\")\n",
    "T_files = list(sorted(T_files))\n",
    "print(f\"found {len(T_files)} grid-T files\")\n",
    "\n",
    "mesh_hgr_files = (global_data_path / experiment_id / \"nemo/suppl/\").glob(f\"{nest_prefix}_mesh_hgr*.nc\")\n",
    "mesh_hgr_files = list(sorted(mesh_hgr_files))\n",
    "print(f\"found {len(mesh_hgr_files)} mesh_hgr files\")\n",
    "\n",
    "mesh_zgr_files = (global_data_path / experiment_id / \"nemo/suppl/\").glob(f\"{nest_prefix}_mesh_zgr*.nc\")\n",
    "mesh_zgr_files = list(sorted(mesh_zgr_files))\n",
    "print(f\"found {len(mesh_zgr_files)} mesh_zgr files\")\n",
    "\n",
    "mask_files = (global_data_path / experiment_id / \"nemo/suppl/\").glob(f\"{nest_prefix}_mask*.nc\")\n",
    "mask_files = list(sorted(mask_files))\n",
    "print(f\"found {len(mask_files)} mask files\")\n",
    "\n",
    "mesh_mask_files = (global_data_path / experiment_id / \"nemo/suppl/\").glob(f\"{nest_prefix}_mesh_mask*.nc\")\n",
    "mesh_mask_files = list(sorted(mesh_mask_files))\n",
    "print(f\"found {len(mesh_mask_files)} mesh mask files\")\n"
   ]
  },
  {
   "cell_type": "code",
   "execution_count": 9,
   "metadata": {
    "slideshow": {
     "slide_type": "skip"
    }
   },
   "outputs": [],
   "source": [
    "gridU = xr.open_mfdataset(\n",
    "    U_files,\n",
    "    chunks={\n",
    "        \"time_counter\": 1, \"depthu\": 64,\n",
    "        \"y\": 256, \"x\": 1024\n",
    "    },\n",
    "    combine='by_coords'\n",
    ")\n",
    "gridV = xr.open_mfdataset(\n",
    "    V_files,\n",
    "    chunks={\n",
    "        \"time_counter\": 1, \"depthv\": 64,\n",
    "        \"y\": 256, \"x\": 1024\n",
    "    },\n",
    "    combine='by_coords'\n",
    ")\n",
    "gridT = xr.open_mfdataset(\n",
    "    T_files,\n",
    "    chunks={\n",
    "        \"time_counter\": 1, \"deptht\": 64,\n",
    "        \"y\": 256, \"x\": 1024\n",
    "    },\n",
    "    combine='by_coords'\n",
    ")\n",
    "# gridU = xr.open_dataset(gridU_files[0])\n",
    "# gridV = xr.open_dataset(gridV_files[0])\n",
    "mesh_mask = xr.open_dataset(mesh_mask_files[0],\n",
    "    chunks={\n",
    "        \"z\": 64,\n",
    "        \"y\": 256, \"x\": 1024\n",
    "    },\n",
    ")\n",
    "mesh_mask[\"e3t\"] = mesh_mask[\"e3t_0\"]\n",
    "mesh_mask[\"e3u\"] = mesh_mask[\"e3u_0\"]\n",
    "mesh_mask[\"e3v\"] = mesh_mask[\"e3v_0\"]\n",
    "mesh_mask[\"e3w\"] = mesh_mask[\"e3w_0\"]\n",
    "\n",
    "mesh_hgr = mesh_mask\n",
    "# mesh_hgr = xr.open_dataset(mesh_hgr_files[0],    \n",
    "#     chunks={\n",
    "#         \"t\": 1, \"z\": 64,\n",
    "#         \"y\": 256, \"x\": 1024\n",
    "#     },\n",
    "# )\n",
    "mesh_zgr = mesh_mask\n",
    "# mesh_zgr = xr.open_dataset(mesh_zgr_files[0],\n",
    "#     chunks={\n",
    "#         \"t\": 1, \"z\": 64,\n",
    "#         \"y\": 256, \"x\": 1024\n",
    "#     },\n",
    "# )\n",
    "mask = mesh_mask\n",
    "# mask = xr.open_dataset(mask_files[0],\n",
    "#     chunks={\n",
    "#         \"t\": 1, \"z\": 64,\n",
    "#         \"y\": 256, \"x\": 1024\n",
    "#     },\n",
    "# )\n",
    "\n",
    "\n",
    "fmask = mask['fmask'].isel(t=0,z=0)\n"
   ]
  },
  {
   "cell_type": "markdown",
   "metadata": {
    "slideshow": {
     "slide_type": "slide"
    }
   },
   "source": [
    "## Define a section and find grid points along the section"
   ]
  },
  {
   "cell_type": "code",
   "execution_count": 10,
   "metadata": {
    "slideshow": {
     "slide_type": "fragment"
    }
   },
   "outputs": [
    {
     "data": {
      "text/plain": [
       "array([[52.0885, 56.1645],\n",
       "       [52.6653, 52.0996],\n",
       "       [53.593 , 49.7806],\n",
       "       [59.1054, 47.335 ],\n",
       "       [59.7931, 45.7209],\n",
       "       [60.0699, 42.8257],\n",
       "       [58.8853, 31.303 ],\n",
       "       [58.0377, 28.0215],\n",
       "       [58.0097, 26.9678],\n",
       "       [57.9927, 21.1435],\n",
       "       [57.4707, 12.705 ],\n",
       "       [57.0997,  9.2753],\n",
       "       [56.73  ,  5.77  ]])"
      ]
     },
     "execution_count": 10,
     "metadata": {},
     "output_type": "execute_result"
    },
    {
     "data": {
      "image/png": "[encoded data removed]",
      "text/plain": [
       "<Figure size 432x288 with 1 Axes>"
      ]
     },
     "metadata": {
      "needs_background": "light"
     },
     "output_type": "display_data"
    }
   ],
   "source": [
    "\n",
    "lonlat = xr.Dataset(pd.read_csv(sectionPath / sectionFilename,delim_whitespace=True))\n",
    "lonlat['lon'] *= -1.0\n",
    "\n",
    "lonlat\n",
    "\n",
    "lonlat.lon.attrs['long_name']='Longitude'\n",
    "lonlat.lat.attrs['long_name']='Latitude'\n",
    "lonlat.lon.attrs['standard_name']='longitude'\n",
    "lonlat.lat.attrs['standard_name']='latitude'\n",
    "lonlat.lon.attrs['units']='degrees_east'\n",
    "lonlat.lat.attrs['units']='degrees_north'\n",
    "\n",
    "lonlat.plot.scatter(x='lon',y='lat')\n",
    "\n",
    "ll_points = np.vstack((lonlat.lat.data, lonlat.lon.data)).T\n",
    "ll_points"
   ]
  },
  {
   "cell_type": "markdown",
   "metadata": {
    "slideshow": {
     "slide_type": "skip"
    }
   },
   "source": [
    "## Find related indices\n",
    "\n",
    "This takes an inordinate amount of time, because `get_ij` will transform grid points on the (spherical) earth to 3D, and do the nearest-neighbor-lookup there. There are faster ways. Probably more efficient for many points."
   ]
  },
  {
   "cell_type": "code",
   "execution_count": 11,
   "metadata": {
    "slideshow": {
     "slide_type": "skip"
    }
   },
   "outputs": [],
   "source": [
    "# no need to run this every time, just save the coordinates for later.\n",
    "\n",
    "# vertices_ji = get_ij(\n",
    "#     mesh_mask,\n",
    "#     ll_points,\n",
    "#     grid=\"f\",\n",
    "#     xgcm=False,\n",
    "#     xarray_out=False\n",
    "# )"
   ]
  },
  {
   "cell_type": "code",
   "execution_count": 12,
   "metadata": {},
   "outputs": [],
   "source": [
    "vertices_ji = np.array([[1959,870],\n",
    " [1969,  950],\n",
    " [1995, 998],\n",
    " [2172, 1067],\n",
    " [2192, 1099],\n",
    " [2194, 1152],\n",
    " [2139, 1352],\n",
    " [2111, 1410],\n",
    " [2109, 1429],\n",
    " [2110, 1533],\n",
    " [2103, 1685],\n",
    " [2097, 1747],\n",
    " [2093, 1812]])\n",
    "\n"
   ]
  },
  {
   "cell_type": "markdown",
   "metadata": {},
   "source": [
    "### slice for speed"
   ]
  },
  {
   "cell_type": "code",
   "execution_count": 13,
   "metadata": {},
   "outputs": [],
   "source": [
    "gridT= gridT.isel(x=slice(850,1820,1),y=slice(1950,2200,1))"
   ]
  },
  {
   "cell_type": "code",
   "execution_count": 14,
   "metadata": {},
   "outputs": [],
   "source": [
    "gridU = gridU.isel(x=slice(850,1820,1),y=slice(1950,2200,1))\n",
    "gridV = gridV.isel(x=slice(850,1820,1),y=slice(1950,2200,1))\n",
    "mesh_hgr = mesh_hgr.isel(x=slice(850,1820,1),y=slice(1950,2200,1))\n",
    "mesh_zgr= mesh_zgr.isel(x=slice(850,1820,1),y=slice(1950,2200,1))\n",
    "mask = mask.isel(x=slice(850,1820,1),y=slice(1950,2200,1))\n",
    "mesh_mask = mesh_mask .isel(x=slice(850,1820,1),y=slice(1950,2200,1))\n"
   ]
  },
  {
   "cell_type": "code",
   "execution_count": 15,
   "metadata": {},
   "outputs": [],
   "source": [
    "fmask = mask['fmask'].isel(t=0,z=0)"
   ]
  },
  {
   "cell_type": "code",
   "execution_count": 16,
   "metadata": {
    "slideshow": {
     "slide_type": "fragment"
    }
   },
   "outputs": [
    {
     "name": "stdout",
     "output_type": "stream",
     "text": [
      "[[  9  20]\n",
      " [ 19 100]\n",
      " [ 45 148]\n",
      " [222 217]\n",
      " [242 249]\n",
      " [244 302]\n",
      " [189 502]\n",
      " [161 560]\n",
      " [159 579]\n",
      " [160 683]\n",
      " [153 835]\n",
      " [147 897]\n",
      " [143 962]]\n"
     ]
    }
   ],
   "source": [
    "vertices_ji = vertices_ji - np.array([1950,850])\n",
    "print(vertices_ji)"
   ]
  },
  {
   "cell_type": "code",
   "execution_count": 17,
   "metadata": {
    "slideshow": {
     "slide_type": "skip"
    }
   },
   "outputs": [],
   "source": [
    "ji_pairs = vertices_ji"
   ]
  },
  {
   "cell_type": "markdown",
   "metadata": {
    "slideshow": {
     "slide_type": "skip"
    }
   },
   "source": [
    "## Extract Section\n",
    "bl.shift_grids() interpolates all variables onto the u- and v-points, drops unnecessary coordinate labels and variables and renames depth dimension. <br>\n",
    "select_section() selects the section defined by ji from gridU_processed and gridV_processed and returns a section.\n"
   ]
  },
  {
   "cell_type": "code",
   "execution_count": 18,
   "metadata": {
    "slideshow": {
     "slide_type": "skip"
    }
   },
   "outputs": [],
   "source": [
    "ji = bl.section_indices(ji_pairs=ji_pairs)"
   ]
  },
  {
   "cell_type": "code",
   "execution_count": 19,
   "metadata": {
    "slideshow": {
     "slide_type": "skip"
    }
   },
   "outputs": [],
   "source": [
    "# gridU_processed, gridV_processed = bl.shift_grids(gridU=gridU, gridV=gridV)\n",
    "gridU_processed, gridV_processed = bl.shift_grids(gridU=gridU, gridV=gridV, mesh_hgr=mesh_hgr,mesh_zgr=mesh_zgr,mask=mask,gridT=gridT)"
   ]
  },
  {
   "cell_type": "code",
   "execution_count": 20,
   "metadata": {
    "slideshow": {
     "slide_type": "skip"
    }
   },
   "outputs": [
    {
     "name": "stdout",
     "output_type": "stream",
     "text": [
      "CPU times: user 5.86 s, sys: 302 ms, total: 6.16 s\n",
      "Wall time: 12.9 s\n"
     ]
    }
   ],
   "source": [
    "%%time\n",
    "\n",
    "section = bl.select_section(ji,gridU_processed,gridV_processed,mesh_hgr,mesh_zgr,mask).compute()\n",
    "# reverse direction of normal velocities\n",
    "section['u_normal']=-section['u_normal']"
   ]
  },
  {
   "cell_type": "markdown",
   "metadata": {
    "slideshow": {
     "slide_type": "skip"
    }
   },
   "source": [
    "Section includes the velocity normal to the section (either U or V, depending on the orientation of each segment), the length and depth of each segment and a land-sea mask variable. "
   ]
  },
  {
   "cell_type": "code",
   "execution_count": 21,
   "metadata": {},
   "outputs": [],
   "source": [
    "!mkdir -p {str(path_data_output)}"
   ]
  },
  {
   "cell_type": "code",
   "execution_count": 22,
   "metadata": {},
   "outputs": [],
   "source": [
    "filename_output = 'sectionOSNAP_' + mean_period + '_' + yearstr + '.nc'\n",
    "\n",
    "section.to_netcdf(path_data_output / filename_output)"
   ]
  },
  {
   "cell_type": "code",
   "execution_count": 23,
   "metadata": {},
   "outputs": [
    {
     "data": {
      "text/plain": [
       "<matplotlib.collections.QuadMesh at 0x7f1f57d2efa0>"
      ]
     },
     "execution_count": 23,
     "metadata": {},
     "output_type": "execute_result"
    },
    {
     "data": {
      "image/png": "[encoded data removed]",
      "text/plain": [
       "<Figure size 432x288 with 2 Axes>"
      ]
     },
     "metadata": {
      "needs_background": "light"
     },
     "output_type": "display_data"
    }
   ],
   "source": [
    "section.u_normal.isel(time_counter=0).plot()"
   ]
  },
  {
   "cell_type": "code",
   "execution_count": null,
   "metadata": {},
   "outputs": [],
   "source": []
  }
 ],
 "metadata": {
  "kernelspec": {
   "display_name": "Python 3 (ipykernel)",
   "language": "python",
   "name": "python3"
  },
  "language_info": {
   "codemirror_mode": {
    "name": "ipython",
    "version": 3
   },
   "file_extension": ".py",
   "mimetype": "text/x-python",
   "name": "python",
   "nbconvert_exporter": "python",
   "pygments_lexer": "ipython3",
   "version": "3.8.10"
  }
 },
 "nbformat": 4,
 "nbformat_minor": 4
}
