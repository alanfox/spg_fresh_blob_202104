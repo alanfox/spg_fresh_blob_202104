{
 "cells": [
  {
   "cell_type": "markdown",
   "metadata": {
    "slideshow": {
     "slide_type": "slide"
    }
   },
   "source": [
    "# Figures for Fox et al. \"Exceptional freshening and cooling in theeastern subpolar North Atlantic caused by reduced Labrador Sea surface heat loss.\"\n",
    "\n",
    "### Figures 8\n"
   ]
  },
  {
   "cell_type": "markdown",
   "metadata": {
    "slideshow": {
     "slide_type": "skip"
    }
   },
   "source": [
    "## Technical preamble"
   ]
  },
  {
   "cell_type": "code",
   "execution_count": 1,
   "metadata": {
    "slideshow": {
     "slide_type": "skip"
    }
   },
   "outputs": [],
   "source": [
    "# import matplotlib.colors as colors\n",
    "import numpy as np\n",
    "from pathlib import Path\n",
    "import matplotlib.pyplot as plt\n",
    "import xarray as xr\n",
    "from datetime import datetime, timedelta\n",
    "import seaborn as sns\n",
    "# from matplotlib.colors import ListedColormap\n",
    "import cmocean as co\n",
    "import pandas as pd\n",
    "import matplotlib.dates as mdates\n",
    "import matplotlib.lines as mlines\n",
    "import cartopy.crs as ccrs\n",
    "import cartopy\n",
    "import seawater as sw\n",
    "from xhistogram.xarray import histogram\n",
    "\n",
    "\n",
    "from matplotlib import colors as c\n",
    "from matplotlib import ticker\n",
    "# from xhistogram.xarray import histogram"
   ]
  },
  {
   "cell_type": "code",
   "execution_count": 2,
   "metadata": {
    "slideshow": {
     "slide_type": "skip"
    }
   },
   "outputs": [],
   "source": [
    "sns.set(style=\"whitegrid\")\n",
    "\n",
    "xr.set_options(keep_attrs=True)\n",
    "np.warnings.filterwarnings('ignore')\n",
    "\n",
    "sns.set_palette(\"colorblind\")\n",
    "xr.set_options(keep_attrs=True);\n",
    "\n",
    "plt.rc('font', size=14) #controls default text size\n",
    "plt.rc('axes', titlesize=14) #fontsize of the title\n",
    "plt.rc('axes', labelsize=14) #fontsize of the x and y labels\n",
    "plt.rc('xtick', labelsize=14) #fontsize of the x tick labels\n",
    "plt.rc('ytick', labelsize=14) #fontsize of the y tick labels\n",
    "plt.rc('legend', fontsize=14) #fontsize of the legend\n",
    "plt.rc('savefig', dpi=300)       # higher res outputs"
   ]
  },
  {
   "cell_type": "markdown",
   "metadata": {
    "slideshow": {
     "slide_type": "skip"
    }
   },
   "source": [
    "## Set up paths and read in trajectory data"
   ]
  },
  {
   "cell_type": "code",
   "execution_count": 3,
   "metadata": {
    "slideshow": {
     "slide_type": "skip"
    }
   },
   "outputs": [],
   "source": [
    "# parameters\n",
    "project_path = Path.cwd() / '..' / '..' \n",
    "project_path = project_path.resolve()\n",
    "\n",
    "inputPath = Path('data/processed/sumsAndMeans/noNorth/')\n",
    "input_data_path = project_path / inputPath\n",
    "\n",
    "# output figures path\n",
    "figure_path = Path(\"reports/figures/coldBlob/final/\")\n"
   ]
  },
  {
   "cell_type": "code",
   "execution_count": 4,
   "metadata": {
    "slideshow": {
     "slide_type": "skip"
    }
   },
   "outputs": [],
   "source": [
    "\n",
    "# model mask file\n",
    "data_path = Path(\"data/external/iAtlantic/\")\n",
    "experiment_name = \"VIKING20X.L46-KKG36107B\"\n",
    "mesh_mask_file =  project_path / data_path / \"mask\" / experiment_name / \"1_mesh_mask.nc\"\n",
    "\n",
    "#section lonlat file\n",
    "sectionPath = Path('data/external/')\n",
    "sectionFilename = 'osnap_pos_wp.txt'\n",
    "sectionname = 'osnap'\n",
    "gsrsectionFilename = 'gsr_pos_wp.txt'\n",
    "\n",
    "degree2km = 1.852*60.0\n",
    "\n",
    "# some transport values specific to osnap runs\n",
    "# randomly seeded 39995 particles, 19886 were in ocean points (the rest were land)\n",
    "\n",
    "osnap_section_length = 3594572.87839    # m\n",
    "osnap_subsection_length = 2375914.29783   # m\n",
    "osnap_section_depth = 4000 # m over which particles launched\n",
    "osnap_subsection_depth = 1000 # m over which particles launched\n",
    "\n",
    "osnap_subsection_ocean_area = osnap_subsection_length * osnap_subsection_depth * 2100000 / 2643886\n",
    "\n",
    "\n",
    "max_current = 2.0\n",
    "\n",
    "particle_section_area = max_current * osnap_subsection_length * osnap_subsection_depth / (2643886)"
   ]
  },
  {
   "cell_type": "markdown",
   "metadata": {
    "slideshow": {
     "slide_type": "skip"
    }
   },
   "source": [
    "## Load data"
   ]
  },
  {
   "cell_type": "markdown",
   "metadata": {
    "slideshow": {
     "slide_type": "skip"
    }
   },
   "source": [
    "## Load track sums and means data\n",
    "\n",
    "We'll first find all the relevant files and then open them as a virtual contiguous dataset."
   ]
  },
  {
   "cell_type": "markdown",
   "metadata": {},
   "source": [
    "#### eastern section"
   ]
  },
  {
   "cell_type": "code",
   "execution_count": 5,
   "metadata": {
    "slideshow": {
     "slide_type": "skip"
    }
   },
   "outputs": [],
   "source": [
    "# data_stores_subsets = list(sorted(Path(data_path).glob(\"*_????_subset.zarr/\")))[:use_number_subset_years]\n",
    "files_gulfs_e_sum_0 = list(sorted(Path(input_data_path).glob(f\"gulfs_sum_0_OsnapE_21_0_????.nc/\")))\n",
    "files_lc60w_e_sum_0 = list(sorted(Path(input_data_path).glob(f\"lc60w_sum_0_OsnapE_21_0_????.nc/\")))\n",
    "files_lcdir_e_sum_0 = list(sorted(Path(input_data_path).glob(f\"lcdir_sum_0_OsnapE_21_0_????.nc/\")))\n"
   ]
  },
  {
   "cell_type": "code",
   "execution_count": 6,
   "metadata": {},
   "outputs": [],
   "source": [
    "gulfs_e_sum_0 = xr.concat(\n",
    "    [xr.open_dataset(store) for store in files_gulfs_e_sum_0],\n",
    "    dim=\"time\",\n",
    ")\n",
    "lc60w_e_sum_0 = xr.concat(\n",
    "    [xr.open_dataset(store) for store in files_lc60w_e_sum_0],\n",
    "    dim=\"time\",\n",
    ")\n",
    "lcdir_e_sum_0 = xr.concat(\n",
    "    [xr.open_dataset(store) for store in files_lcdir_e_sum_0],\n",
    "    dim=\"time\",\n",
    ")\n"
   ]
  },
  {
   "cell_type": "code",
   "execution_count": 7,
   "metadata": {
    "slideshow": {
     "slide_type": "skip"
    }
   },
   "outputs": [],
   "source": [
    "# data_stores_subsets = list(sorted(Path(data_path).glob(\"*_????_subset.zarr/\")))[:use_number_subset_years]\n",
    "files_gulfs_e_sum_1 = list(sorted(Path(input_data_path).glob(f\"gulfs_sum_1_OsnapE_21_0_????.nc/\")))\n",
    "files_lc60w_e_sum_1 = list(sorted(Path(input_data_path).glob(f\"lc60w_sum_1_OsnapE_21_0_????.nc/\")))\n",
    "files_lcdir_e_sum_1 = list(sorted(Path(input_data_path).glob(f\"lcdir_sum_1_OsnapE_21_0_????.nc/\")))\n"
   ]
  },
  {
   "cell_type": "code",
   "execution_count": 8,
   "metadata": {},
   "outputs": [],
   "source": [
    "gulfs_e_sum_1 = xr.concat(\n",
    "    [xr.open_dataset(store) for store in files_gulfs_e_sum_1],\n",
    "    dim=\"time\",\n",
    ")\n",
    "lc60w_e_sum_1 = xr.concat(\n",
    "    [xr.open_dataset(store) for store in files_lc60w_e_sum_1],\n",
    "    dim=\"time\",\n",
    ")\n",
    "lcdir_e_sum_1 = xr.concat(\n",
    "    [xr.open_dataset(store) for store in files_lcdir_e_sum_1],\n",
    "    dim=\"time\",\n",
    ")\n"
   ]
  },
  {
   "cell_type": "code",
   "execution_count": 9,
   "metadata": {
    "slideshow": {
     "slide_type": "skip"
    }
   },
   "outputs": [],
   "source": [
    "# data_stores_subsets = list(sorted(Path(data_path).glob(\"*_????_subset.zarr/\")))[:use_number_subset_years]\n",
    "files_gulfs_e_mean_0 = list(sorted(Path(input_data_path).glob(f\"gulfs_mean_0_OsnapE_21_0_????.nc/\")))\n",
    "files_lc60w_e_mean_0 = list(sorted(Path(input_data_path).glob(f\"lc60w_mean_0_OsnapE_21_0_????.nc/\")))\n",
    "files_lcdir_e_mean_0 = list(sorted(Path(input_data_path).glob(f\"lcdir_mean_0_OsnapE_21_0_????.nc/\")))\n"
   ]
  },
  {
   "cell_type": "code",
   "execution_count": 10,
   "metadata": {},
   "outputs": [],
   "source": [
    "gulfs_e_mean_0 = xr.concat(\n",
    "    [xr.open_dataset(store) for store in files_gulfs_e_mean_0],\n",
    "    dim=\"time\",\n",
    ")\n",
    "lc60w_e_mean_0 = xr.concat(\n",
    "    [xr.open_dataset(store) for store in files_lc60w_e_mean_0],\n",
    "    dim=\"time\",\n",
    ")\n",
    "lcdir_e_mean_0 = xr.concat(\n",
    "    [xr.open_dataset(store) for store in files_lcdir_e_mean_0],\n",
    "    dim=\"time\",\n",
    ")\n"
   ]
  },
  {
   "cell_type": "code",
   "execution_count": 11,
   "metadata": {
    "slideshow": {
     "slide_type": "skip"
    }
   },
   "outputs": [],
   "source": [
    "# data_stores_subsets = list(sorted(Path(data_path).glob(\"*_????_subset.zarr/\")))[:use_number_subset_years]\n",
    "files_gulfs_e_mean_1 = list(sorted(Path(input_data_path).glob(f\"gulfs_mean_1_OsnapE_21_0_????.nc/\")))\n",
    "files_lc60w_e_mean_1 = list(sorted(Path(input_data_path).glob(f\"lc60w_mean_1_OsnapE_21_0_????.nc/\")))\n",
    "files_lcdir_e_mean_1 = list(sorted(Path(input_data_path).glob(f\"lcdir_mean_1_OsnapE_21_0_????.nc/\")))\n"
   ]
  },
  {
   "cell_type": "code",
   "execution_count": 12,
   "metadata": {},
   "outputs": [],
   "source": [
    "gulfs_e_mean_1 = xr.concat(\n",
    "    [xr.open_dataset(store) for store in files_gulfs_e_mean_1],\n",
    "    dim=\"time\",\n",
    ")\n",
    "lc60w_e_mean_1 = xr.concat(\n",
    "    [xr.open_dataset(store) for store in files_lc60w_e_mean_1],\n",
    "    dim=\"time\",\n",
    ")\n",
    "lcdir_e_mean_1 = xr.concat(\n",
    "    [xr.open_dataset(store) for store in files_lcdir_e_mean_1],\n",
    "    dim=\"time\",\n",
    ")\n"
   ]
  },
  {
   "cell_type": "markdown",
   "metadata": {},
   "source": [
    "#### western section"
   ]
  },
  {
   "cell_type": "code",
   "execution_count": 13,
   "metadata": {
    "slideshow": {
     "slide_type": "skip"
    }
   },
   "outputs": [],
   "source": [
    "# data_stores_subsets = list(sorted(Path(data_path).glob(\"*_????_subset.zarr/\")))[:use_number_subset_years]\n",
    "files_gulfs_w_sum_0 = list(sorted(Path(input_data_path).glob(f\"gulfs_sum_0_OsnapE_37_21_????.nc/\")))\n",
    "files_lc60w_w_sum_0 = list(sorted(Path(input_data_path).glob(f\"lc60w_sum_0_OsnapE_37_21_????.nc/\")))\n",
    "files_lcdir_w_sum_0 = list(sorted(Path(input_data_path).glob(f\"lcdir_sum_0_OsnapE_37_21_????.nc/\")))\n"
   ]
  },
  {
   "cell_type": "code",
   "execution_count": 14,
   "metadata": {},
   "outputs": [],
   "source": [
    "gulfs_w_sum_0 = xr.concat(\n",
    "    [xr.open_dataset(store) for store in files_gulfs_w_sum_0],\n",
    "    dim=\"time\",\n",
    ")\n",
    "lc60w_w_sum_0 = xr.concat(\n",
    "    [xr.open_dataset(store) for store in files_lc60w_w_sum_0],\n",
    "    dim=\"time\",\n",
    ")\n",
    "lcdir_w_sum_0 = xr.concat(\n",
    "    [xr.open_dataset(store) for store in files_lcdir_w_sum_0],\n",
    "    dim=\"time\",\n",
    ")\n"
   ]
  },
  {
   "cell_type": "code",
   "execution_count": 15,
   "metadata": {
    "slideshow": {
     "slide_type": "skip"
    }
   },
   "outputs": [],
   "source": [
    "# data_stores_subsets = list(sorted(Path(data_path).glob(\"*_????_subset.zarr/\")))[:use_number_subset_years]\n",
    "files_gulfs_w_sum_1 = list(sorted(Path(input_data_path).glob(f\"gulfs_sum_1_OsnapE_37_21_????.nc/\")))\n",
    "files_lc60w_w_sum_1 = list(sorted(Path(input_data_path).glob(f\"lc60w_sum_1_OsnapE_37_21_????.nc/\")))\n",
    "files_lcdir_w_sum_1 = list(sorted(Path(input_data_path).glob(f\"lcdir_sum_1_OsnapE_37_21_????.nc/\")))\n"
   ]
  },
  {
   "cell_type": "code",
   "execution_count": 16,
   "metadata": {},
   "outputs": [],
   "source": [
    "gulfs_w_sum_1 = xr.concat(\n",
    "    [xr.open_dataset(store) for store in files_gulfs_w_sum_1],\n",
    "    dim=\"time\",\n",
    ")\n",
    "lc60w_w_sum_1 = xr.concat(\n",
    "    [xr.open_dataset(store) for store in files_lc60w_w_sum_1],\n",
    "    dim=\"time\",\n",
    ")\n",
    "lcdir_w_sum_1 = xr.concat(\n",
    "    [xr.open_dataset(store) for store in files_lcdir_w_sum_1],\n",
    "    dim=\"time\",\n",
    ")\n"
   ]
  },
  {
   "cell_type": "code",
   "execution_count": 17,
   "metadata": {
    "slideshow": {
     "slide_type": "skip"
    }
   },
   "outputs": [],
   "source": [
    "# data_stores_subsets = list(sorted(Path(data_path).glob(\"*_????_subset.zarr/\")))[:use_number_subset_years]\n",
    "files_gulfs_w_mean_0 = list(sorted(Path(input_data_path).glob(f\"gulfs_mean_0_OsnapE_37_21_????.nc/\")))\n",
    "files_lc60w_w_mean_0 = list(sorted(Path(input_data_path).glob(f\"lc60w_mean_0_OsnapE_37_21_????.nc/\")))\n",
    "files_lcdir_w_mean_0 = list(sorted(Path(input_data_path).glob(f\"lcdir_mean_0_OsnapE_37_21_????.nc/\")))\n"
   ]
  },
  {
   "cell_type": "code",
   "execution_count": 18,
   "metadata": {},
   "outputs": [],
   "source": [
    "gulfs_w_mean_0 = xr.concat(\n",
    "    [xr.open_dataset(store) for store in files_gulfs_w_mean_0],\n",
    "    dim=\"time\",\n",
    ")\n",
    "lc60w_w_mean_0 = xr.concat(\n",
    "    [xr.open_dataset(store) for store in files_lc60w_w_mean_0],\n",
    "    dim=\"time\",\n",
    ")\n",
    "lcdir_w_mean_0 = xr.concat(\n",
    "    [xr.open_dataset(store) for store in files_lcdir_w_mean_0],\n",
    "    dim=\"time\",\n",
    ")\n"
   ]
  },
  {
   "cell_type": "code",
   "execution_count": 19,
   "metadata": {
    "slideshow": {
     "slide_type": "skip"
    }
   },
   "outputs": [],
   "source": [
    "# data_stores_subsets = list(sorted(Path(data_path).glob(\"*_????_subset.zarr/\")))[:use_number_subset_years]\n",
    "files_gulfs_w_mean_1 = list(sorted(Path(input_data_path).glob(f\"gulfs_mean_1_OsnapE_37_21_????.nc/\")))\n",
    "files_lc60w_w_mean_1 = list(sorted(Path(input_data_path).glob(f\"lc60w_mean_1_OsnapE_37_21_????.nc/\")))\n",
    "files_lcdir_w_mean_1 = list(sorted(Path(input_data_path).glob(f\"lcdir_mean_1_OsnapE_37_21_????.nc/\")))\n"
   ]
  },
  {
   "cell_type": "code",
   "execution_count": 20,
   "metadata": {},
   "outputs": [],
   "source": [
    "gulfs_w_mean_1 = xr.concat(\n",
    "    [xr.open_dataset(store) for store in files_gulfs_w_mean_1],\n",
    "    dim=\"time\",\n",
    ")\n",
    "lc60w_w_mean_1 = xr.concat(\n",
    "    [xr.open_dataset(store) for store in files_lc60w_w_mean_1],\n",
    "    dim=\"time\",\n",
    ")\n",
    "lcdir_w_mean_1 = xr.concat(\n",
    "    [xr.open_dataset(store) for store in files_lcdir_w_mean_1],\n",
    "    dim=\"time\",\n",
    ")\n"
   ]
  },
  {
   "cell_type": "code",
   "execution_count": null,
   "metadata": {},
   "outputs": [],
   "source": [
    "def plot_ts_with_errorbars(ds,roll,ax,colour,label='',dashes=[]):\n",
    "\n",
    "    rolling = (ds.mean(dim='subsetno').rolling(time=roll,center=True).mean())\n",
    "    std = (ds.rolling(time=roll,center=True).mean()).std(dim='subsetno')\n",
    "    rolling.plot(ax=ax,color=colour,zorder=10,label=label,dashes=dashes)\n",
    "    ax.fill_between(ds.time.data,rolling+1.96*std,rolling-1.96*std,color=colour,zorder=1,alpha=0.4,linewidth=0)\n",
    "    return\n",
    "\n",
    "fig, axes = plt.subplots(nrows=5, ncols=2, figsize=(12, 12),sharex='col',sharey='row',gridspec_kw={'hspace':0.05,'wspace':0.05})\n",
    "\n",
    "\n",
    "ax = axes[0,0]\n",
    "plot_ts_with_errorbars(gulfs_w_sum_0.vol_trans_normal,73,ax,'C2')\n",
    "plot_ts_with_errorbars(lcdir_w_sum_0.vol_trans_normal,73,ax,'C0')\n",
    "plot_ts_with_errorbars(lc60w_w_sum_0.vol_trans_normal,73,ax,'C3')\n",
    "ax.set_ylabel('transport crossing\\nOSNAP [Sv]')\n",
    "ax.set_xlabel('')\n",
    "ax.set_ylim(bottom=0)\n",
    "ax.text(0.02,0.85,'(a)',transform=ax.transAxes, color='k')\n",
    "ax.text(0.6,0.7,'Gulf Str',transform=ax.transAxes, color='C2')\n",
    "ax.text(0.7,0.12,'Lab Sea loop',transform=ax.transAxes, color='C3')\n",
    "ax.text(0.3,0.4,'Lab Sea direct',transform=ax.transAxes, color='C0')\n",
    "ax.set_title('Crossing OSNAP $37\\degree$ W to $21\\degree$ W')\n",
    "\n",
    "ax = axes[1,0]\n",
    "plot_ts_with_errorbars(gulfs_w_mean_1.deltat/(1.0e9*24*3600),73,ax,'C2')\n",
    "plot_ts_with_errorbars(lcdir_w_mean_1.deltat/(1.0e9*24*3600),73,ax,'C0')\n",
    "plot_ts_with_errorbars(lc60w_w_mean_1.deltat/(1.0e9*24*3600),73,ax,'C3')\n",
    "ax.set_ylabel('mean transit\\ntime [days]')\n",
    "ax.set_xlabel('')\n",
    "ax.text(0.02,0.85,'(c)',transform=ax.transAxes, color='k')\n",
    "ax.text(0.6,0.52,'Gulf Str',transform=ax.transAxes, color='C2')\n",
    "ax.text(0.1,0.72,'Lab Sea loop',transform=ax.transAxes, color='C3')\n",
    "ax.text(0.65,0.05,'Lab Sea direct',transform=ax.transAxes, color='C0')\n",
    "\n",
    "ax = axes[2,0]\n",
    "plot_ts_with_errorbars((gulfs_w_mean_1.dist)/(gulfs_w_mean_1.deltat/(1.0e9)),73,ax,'C2')\n",
    "plot_ts_with_errorbars((lcdir_w_mean_1.dist)/(lcdir_w_mean_1.deltat/(1.0e9)),73,ax,'C0')\n",
    "plot_ts_with_errorbars((lc60w_w_mean_1.dist)/(lc60w_w_mean_1.deltat/(1.0e9)),73,ax,'C3')\n",
    "ax.set_ylabel('mean speed\\n[$\\mathrm{m\\, s^{-1}}$]')\n",
    "ax.set_xlabel('')\n",
    "ax.text(0.02,0.85,'(e)',transform=ax.transAxes, color='k')\n",
    "ax.text(0.6,0.85,'Gulf Str',transform=ax.transAxes, color='C2')\n",
    "ax.text(0.7,0.48,'Lab Sea loop',transform=ax.transAxes, color='C3')\n",
    "ax.text(0.3,0.25,'Lab Sea direct',transform=ax.transAxes, color='C0')\n",
    "\n",
    "ax = axes[3,0]\n",
    "plot_ts_with_errorbars(gulfs_w_mean_1.dist/1000.0,73,ax,'C2')\n",
    "plot_ts_with_errorbars(lcdir_w_mean_1.dist/1000.0,73,ax,'C0')\n",
    "plot_ts_with_errorbars(lc60w_w_mean_1.dist/1000.0,73,ax,'C3')\n",
    "ax.set_ylabel('mean track\\nlength [km]')\n",
    "ax.set_xlabel('')\n",
    "ax.text(0.02,0.85,'(g)',transform=ax.transAxes, color='k')\n",
    "ax.text(0.6,0.5,'Gulf Str',transform=ax.transAxes, color='C2')\n",
    "ax.text(0.1,0.75,'Lab Sea loop',transform=ax.transAxes, color='C3')\n",
    "ax.text(0.3,0.2,'Lab Sea direct',transform=ax.transAxes, color='C0')\n",
    "\n",
    "ax = axes[4,0]\n",
    "plot_ts_with_errorbars(gulfs_w_mean_0.lon,73,ax,'C2')\n",
    "plot_ts_with_errorbars(lcdir_w_mean_0.lon,73,ax,'C0')\n",
    "plot_ts_with_errorbars(lc60w_w_mean_0.lon,73,ax,'C3')\n",
    "ax.set_ylabel('mean OSNAP\\ncrossing longitude')\n",
    "ax.set_xlabel('')\n",
    "ax.text(0.02,0.85,'(i)',transform=ax.transAxes, color='k')\n",
    "ax.text(0.1,0.3,'Gulf Str',transform=ax.transAxes, color='C2')\n",
    "ax.text(0.65,0.05,'Lab Sea direct',transform=ax.transAxes, color='C0')\n",
    "\n",
    "\n",
    "ax = axes[0,1]\n",
    "plot_ts_with_errorbars(gulfs_e_sum_0.vol_trans_normal,73,ax,'C2')\n",
    "plot_ts_with_errorbars(lcdir_e_sum_0.vol_trans_normal,73,ax,'C0')\n",
    "plot_ts_with_errorbars(lc60w_e_sum_0.vol_trans_normal,73,ax,'C3')\n",
    "ax.set_ylabel('')\n",
    "ax.set_xlabel('')\n",
    "ax.set_ylim(bottom=0)\n",
    "ax.text(0.02,0.85,'(b)',transform=ax.transAxes, color='k')\n",
    "ax.text(0.5,0.4,'Gulf Str',transform=ax.transAxes, color='C2')\n",
    "ax.text(0.6,0.12,'Lab Sea direct',transform=ax.transAxes, color='C0')\n",
    "ax.text(0.1,0.10,'Lab Sea loop',transform=ax.transAxes, color='C3')\n",
    "ax.set_title('Crossing OSNAP $21\\degree$ W to $0\\degree$')\n",
    "\n",
    "ax = axes[1,1]\n",
    "plot_ts_with_errorbars(gulfs_e_mean_1.deltat/(1.0e9*24*3600),73,ax,'C2')\n",
    "plot_ts_with_errorbars(lcdir_e_mean_1.deltat/(1.0e9*24*3600),73,ax,'C0')\n",
    "plot_ts_with_errorbars(lc60w_e_mean_1.deltat/(1.0e9*24*3600),73,ax,'C3')\n",
    "ax.set_ylabel('')\n",
    "ax.set_xlabel('')\n",
    "ax.text(0.02,0.85,'(d)',transform=ax.transAxes, color='k')\n",
    "ax.text(0.6,0.65,'Gulf Str',transform=ax.transAxes, color='C2')\n",
    "ax.text(0.3,0.1,'Lab Sea direct',transform=ax.transAxes, color='C0')\n",
    "\n",
    "ax = axes[2,1]\n",
    "plot_ts_with_errorbars((gulfs_e_mean_1.dist)/(gulfs_e_mean_1.deltat/(1.0e9)),73,ax,'C2')\n",
    "plot_ts_with_errorbars((lcdir_e_mean_1.dist)/(lcdir_e_mean_1.deltat/(1.0e9)),73,ax,'C0')\n",
    "plot_ts_with_errorbars((lc60w_e_mean_1.dist)/(lc60w_e_mean_1.deltat/(1.0e9)),73,ax,'C3')\n",
    "ax.set_ylabel('')\n",
    "ax.set_xlabel('')\n",
    "ax.text(0.02,0.85,'(f)',transform=ax.transAxes, color='k')\n",
    "ax.text(0.6,0.7,'Gulf Str',transform=ax.transAxes, color='C2')\n",
    "ax.text(0.7,0.22,'Lab Sea loop',transform=ax.transAxes, color='C3')\n",
    "\n",
    "ax = axes[3,1]\n",
    "plot_ts_with_errorbars(gulfs_e_mean_1.dist/1000.0,73,ax,'C2')\n",
    "plot_ts_with_errorbars(lcdir_e_mean_1.dist/1000.0,73,ax,'C0')\n",
    "plot_ts_with_errorbars(lc60w_e_mean_1.dist/1000.0,73,ax,'C3')\n",
    "ax.set_ylabel('')\n",
    "ax.set_xlabel('')\n",
    "ax.text(0.02,0.85,'(h)',transform=ax.transAxes, color='k')\n",
    "ax.text(0.6,0.6,'Gulf Str',transform=ax.transAxes, color='C2')\n",
    "ax.text(0.3,0.2,'Lab Sea direct',transform=ax.transAxes, color='C0')\n",
    "\n",
    "ax = axes[4,1]\n",
    "plot_ts_with_errorbars(gulfs_e_mean_0.lon,73,ax,'C2')\n",
    "plot_ts_with_errorbars(lcdir_e_mean_0.lon,73,ax,'C0')\n",
    "plot_ts_with_errorbars(lc60w_e_mean_0.lon,73,ax,'C3')\n",
    "ax.set_ylabel('')\n",
    "ax.set_xlabel('')\n",
    "ax.text(0.02,0.85,'(j)',transform=ax.transAxes, color='k')\n",
    "\n",
    "\n",
    "plt.savefig(project_path / figure_path / 'f08.png',dpi=300, bbox_inches='tight')\n",
    "plt.savefig(project_path / figure_path / 'f08.pdf',dpi=300, bbox_inches='tight')\n",
    "\n"
   ]
  },
  {
   "cell_type": "code",
   "execution_count": null,
   "metadata": {},
   "outputs": [],
   "source": []
  },
  {
   "cell_type": "code",
   "execution_count": null,
   "metadata": {},
   "outputs": [],
   "source": []
  }
 ],
 "metadata": {
  "celltoolbar": "Slideshow",
  "kernelspec": {
   "display_name": "Python [conda env:parcels-container_2021.09.29-09ab0ce]",
   "language": "python",
   "name": "conda-env-parcels-container_2021.09.29-09ab0ce-py"
  },
  "language_info": {
   "codemirror_mode": {
    "name": "ipython",
    "version": 3
   },
   "file_extension": ".py",
   "mimetype": "text/x-python",
   "name": "python",
   "nbconvert_exporter": "python",
   "pygments_lexer": "ipython3",
   "version": "3.9.7"
  }
 },
 "nbformat": 4,
 "nbformat_minor": 4
}
