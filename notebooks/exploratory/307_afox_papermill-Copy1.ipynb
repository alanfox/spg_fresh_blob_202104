{
 "cells": [
  {
   "cell_type": "markdown",
   "id": "deluxe-guinea",
   "metadata": {},
   "source": [
    "## Prepare papermill for schulung3.geomar.de\n",
    "\n",
    "    Make sure you have activated the correct kernel\n",
    "    Install kernel manually"
   ]
  },
  {
   "cell_type": "code",
   "execution_count": 1,
   "id": "still-bunny",
   "metadata": {},
   "outputs": [
    {
     "name": "stdout",
     "output_type": "stream",
     "text": [
      "Installed kernelspec parcels-container_2021.09.29-09ab0ce in /home/jupyter-workshop007/.local/share/jupyter/kernels/parcels-container_2021.09.29-09ab0ce\n"
     ]
    }
   ],
   "source": [
    "!python -m ipykernel install --user --name parcels-container_2021.09.29-09ab0ce"
   ]
  },
  {
   "cell_type": "code",
   "execution_count": 2,
   "id": "super-savings",
   "metadata": {},
   "outputs": [
    {
     "name": "stdout",
     "output_type": "stream",
     "text": [
      "Available kernels:\n",
      "  parcels-container_2021.03.17-6c459b7    /home/jupyter-workshop007/.local/share/jupyter/kernels/parcels-container_2021.03.17-6c459b7\n",
      "  parcels-container_2021.09.29-09ab0ce    /home/jupyter-workshop007/.local/share/jupyter/kernels/parcels-container_2021.09.29-09ab0ce\n",
      "  py3_lagrange_v2.2.2                     /home/jupyter-workshop007/.local/share/jupyter/kernels/py3_lagrange_v2.2.2\n",
      "  python3                                 /opt/tljh/user/envs/parcels-container_2021.09.29-09ab0ce/share/jupyter/kernels/python3\n"
     ]
    }
   ],
   "source": [
    "!jupyter kernelspec list"
   ]
  },
  {
   "cell_type": "markdown",
   "id": "motivated-petite",
   "metadata": {},
   "source": [
    "### Run papermill on schulung3.geomar.de"
   ]
  },
  {
   "cell_type": "code",
   "execution_count": 3,
   "id": "armed-style",
   "metadata": {},
   "outputs": [
    {
     "name": "stderr",
     "output_type": "stream",
     "text": [
      "Input Notebook:  307_afox_trackendsandpaths_sumsandmeans_nonorth_final-Copy1.ipynb\n",
      "Output Notebook: ../executed/307_afox_fullstats/307_afox_trackendsandpaths_sumsandmeans_nonorth_final_2000.ipynb\n",
      "Generating grammar tables from /opt/tljh/user/envs/parcels-container_2021.09.29-09ab0ce/lib/python3.9/site-packages/blib2to3/Grammar.txt\n",
      "Writing grammar tables to /home/jupyter-workshop007/.cache/black/21.9b0/Grammar3.9.7.final.0.pickle\n",
      "Writing failed: [Errno 2] No such file or directory: '/home/jupyter-workshop007/.cache/black/21.9b0/tmpydaxmjvq'\n",
      "Generating grammar tables from /opt/tljh/user/envs/parcels-container_2021.09.29-09ab0ce/lib/python3.9/site-packages/blib2to3/PatternGrammar.txt\n",
      "Writing grammar tables to /home/jupyter-workshop007/.cache/black/21.9b0/PatternGrammar3.9.7.final.0.pickle\n",
      "Writing failed: [Errno 2] No such file or directory: '/home/jupyter-workshop007/.cache/black/21.9b0/tmpoq6cet0e'\n",
      "Executing:   0%|          | 0/86 [00:00<?, ?cell/s]Executing notebook with kernel: parcels-container_2021.09.29-09ab0ce\n",
      "Executing: 100%|██████████| 86/86 [49:59<00:00, 34.88s/cell]   \n",
      "Input Notebook:  307_afox_trackendsandpaths_sumsandmeans_nonorth_final-Copy1.ipynb\n",
      "Output Notebook: ../executed/307_afox_fullstats/307_afox_trackendsandpaths_sumsandmeans_nonorth_final_2001.ipynb\n",
      "Generating grammar tables from /opt/tljh/user/envs/parcels-container_2021.09.29-09ab0ce/lib/python3.9/site-packages/blib2to3/Grammar.txt\n",
      "Writing grammar tables to /home/jupyter-workshop007/.cache/black/21.9b0/Grammar3.9.7.final.0.pickle\n",
      "Writing failed: [Errno 2] No such file or directory: '/home/jupyter-workshop007/.cache/black/21.9b0/tmpx4zcjrv4'\n",
      "Generating grammar tables from /opt/tljh/user/envs/parcels-container_2021.09.29-09ab0ce/lib/python3.9/site-packages/blib2to3/PatternGrammar.txt\n",
      "Writing grammar tables to /home/jupyter-workshop007/.cache/black/21.9b0/PatternGrammar3.9.7.final.0.pickle\n",
      "Writing failed: [Errno 2] No such file or directory: '/home/jupyter-workshop007/.cache/black/21.9b0/tmpfcnn7542'\n",
      "Executing:   0%|          | 0/86 [00:00<?, ?cell/s]Executing notebook with kernel: parcels-container_2021.09.29-09ab0ce\n",
      "Executing: 100%|██████████| 86/86 [48:33<00:00, 33.87s/cell]   \n",
      "Input Notebook:  307_afox_trackendsandpaths_sumsandmeans_nonorth_final-Copy1.ipynb\n",
      "Output Notebook: ../executed/307_afox_fullstats/307_afox_trackendsandpaths_sumsandmeans_nonorth_final_2002.ipynb\n",
      "Generating grammar tables from /opt/tljh/user/envs/parcels-container_2021.09.29-09ab0ce/lib/python3.9/site-packages/blib2to3/Grammar.txt\n",
      "Writing grammar tables to /home/jupyter-workshop007/.cache/black/21.9b0/Grammar3.9.7.final.0.pickle\n",
      "Writing failed: [Errno 2] No such file or directory: '/home/jupyter-workshop007/.cache/black/21.9b0/tmpq_pv3ddg'\n",
      "Generating grammar tables from /opt/tljh/user/envs/parcels-container_2021.09.29-09ab0ce/lib/python3.9/site-packages/blib2to3/PatternGrammar.txt\n",
      "Writing grammar tables to /home/jupyter-workshop007/.cache/black/21.9b0/PatternGrammar3.9.7.final.0.pickle\n",
      "Writing failed: [Errno 2] No such file or directory: '/home/jupyter-workshop007/.cache/black/21.9b0/tmp81_2ba38'\n",
      "Executing:   0%|          | 0/86 [00:00<?, ?cell/s]Executing notebook with kernel: parcels-container_2021.09.29-09ab0ce\n",
      "Executing: 100%|██████████| 86/86 [49:27<00:00, 34.51s/cell]   \n",
      "Input Notebook:  307_afox_trackendsandpaths_sumsandmeans_nonorth_final-Copy1.ipynb\n",
      "Output Notebook: ../executed/307_afox_fullstats/307_afox_trackendsandpaths_sumsandmeans_nonorth_final_2003.ipynb\n",
      "Generating grammar tables from /opt/tljh/user/envs/parcels-container_2021.09.29-09ab0ce/lib/python3.9/site-packages/blib2to3/Grammar.txt\n",
      "Writing grammar tables to /home/jupyter-workshop007/.cache/black/21.9b0/Grammar3.9.7.final.0.pickle\n",
      "Writing failed: [Errno 2] No such file or directory: '/home/jupyter-workshop007/.cache/black/21.9b0/tmpaim6znqf'\n",
      "Generating grammar tables from /opt/tljh/user/envs/parcels-container_2021.09.29-09ab0ce/lib/python3.9/site-packages/blib2to3/PatternGrammar.txt\n",
      "Writing grammar tables to /home/jupyter-workshop007/.cache/black/21.9b0/PatternGrammar3.9.7.final.0.pickle\n",
      "Writing failed: [Errno 2] No such file or directory: '/home/jupyter-workshop007/.cache/black/21.9b0/tmpf6fzcf0n'\n",
      "Executing:   0%|          | 0/86 [00:00<?, ?cell/s]Executing notebook with kernel: parcels-container_2021.09.29-09ab0ce\n",
      "Executing: 100%|██████████| 86/86 [50:11<00:00, 35.02s/cell]   \n",
      "Input Notebook:  307_afox_trackendsandpaths_sumsandmeans_nonorth_final-Copy1.ipynb\n",
      "Output Notebook: ../executed/307_afox_fullstats/307_afox_trackendsandpaths_sumsandmeans_nonorth_final_2004.ipynb\n",
      "Generating grammar tables from /opt/tljh/user/envs/parcels-container_2021.09.29-09ab0ce/lib/python3.9/site-packages/blib2to3/Grammar.txt\n",
      "Writing grammar tables to /home/jupyter-workshop007/.cache/black/21.9b0/Grammar3.9.7.final.0.pickle\n",
      "Writing failed: [Errno 2] No such file or directory: '/home/jupyter-workshop007/.cache/black/21.9b0/tmp3_mnzndt'\n",
      "Generating grammar tables from /opt/tljh/user/envs/parcels-container_2021.09.29-09ab0ce/lib/python3.9/site-packages/blib2to3/PatternGrammar.txt\n",
      "Writing grammar tables to /home/jupyter-workshop007/.cache/black/21.9b0/PatternGrammar3.9.7.final.0.pickle\n",
      "Writing failed: [Errno 2] No such file or directory: '/home/jupyter-workshop007/.cache/black/21.9b0/tmp7fnki83k'\n",
      "Executing:   0%|          | 0/86 [00:00<?, ?cell/s]Executing notebook with kernel: parcels-container_2021.09.29-09ab0ce\n",
      "Executing: 100%|██████████| 86/86 [49:22<00:00, 34.45s/cell]   \n",
      "Input Notebook:  307_afox_trackendsandpaths_sumsandmeans_nonorth_final-Copy1.ipynb\n",
      "Output Notebook: ../executed/307_afox_fullstats/307_afox_trackendsandpaths_sumsandmeans_nonorth_final_2005.ipynb\n",
      "Generating grammar tables from /opt/tljh/user/envs/parcels-container_2021.09.29-09ab0ce/lib/python3.9/site-packages/blib2to3/Grammar.txt\n",
      "Writing grammar tables to /home/jupyter-workshop007/.cache/black/21.9b0/Grammar3.9.7.final.0.pickle\n",
      "Writing failed: [Errno 2] No such file or directory: '/home/jupyter-workshop007/.cache/black/21.9b0/tmp55m5h3cz'\n",
      "Generating grammar tables from /opt/tljh/user/envs/parcels-container_2021.09.29-09ab0ce/lib/python3.9/site-packages/blib2to3/PatternGrammar.txt\n",
      "Writing grammar tables to /home/jupyter-workshop007/.cache/black/21.9b0/PatternGrammar3.9.7.final.0.pickle\n",
      "Writing failed: [Errno 2] No such file or directory: '/home/jupyter-workshop007/.cache/black/21.9b0/tmpj1tak7f1'\n",
      "Executing:   0%|          | 0/86 [00:00<?, ?cell/s]Executing notebook with kernel: parcels-container_2021.09.29-09ab0ce\n",
      "Executing: 100%|██████████| 86/86 [50:19<00:00, 35.11s/cell]   \n",
      "Input Notebook:  307_afox_trackendsandpaths_sumsandmeans_nonorth_final-Copy1.ipynb\n",
      "Output Notebook: ../executed/307_afox_fullstats/307_afox_trackendsandpaths_sumsandmeans_nonorth_final_2006.ipynb\n",
      "Generating grammar tables from /opt/tljh/user/envs/parcels-container_2021.09.29-09ab0ce/lib/python3.9/site-packages/blib2to3/Grammar.txt\n",
      "Writing grammar tables to /home/jupyter-workshop007/.cache/black/21.9b0/Grammar3.9.7.final.0.pickle\n",
      "Writing failed: [Errno 2] No such file or directory: '/home/jupyter-workshop007/.cache/black/21.9b0/tmpvmxfxdyj'\n",
      "Generating grammar tables from /opt/tljh/user/envs/parcels-container_2021.09.29-09ab0ce/lib/python3.9/site-packages/blib2to3/PatternGrammar.txt\n",
      "Writing grammar tables to /home/jupyter-workshop007/.cache/black/21.9b0/PatternGrammar3.9.7.final.0.pickle\n",
      "Writing failed: [Errno 2] No such file or directory: '/home/jupyter-workshop007/.cache/black/21.9b0/tmptsf9xa97'\n",
      "Executing:   0%|          | 0/86 [00:00<?, ?cell/s]Executing notebook with kernel: parcels-container_2021.09.29-09ab0ce\n",
      "Executing: 100%|██████████| 86/86 [49:54<00:00, 34.82s/cell]   \n",
      "Input Notebook:  307_afox_trackendsandpaths_sumsandmeans_nonorth_final-Copy1.ipynb\n",
      "Output Notebook: ../executed/307_afox_fullstats/307_afox_trackendsandpaths_sumsandmeans_nonorth_final_2007.ipynb\n",
      "Generating grammar tables from /opt/tljh/user/envs/parcels-container_2021.09.29-09ab0ce/lib/python3.9/site-packages/blib2to3/Grammar.txt\n",
      "Writing grammar tables to /home/jupyter-workshop007/.cache/black/21.9b0/Grammar3.9.7.final.0.pickle\n",
      "Writing failed: [Errno 2] No such file or directory: '/home/jupyter-workshop007/.cache/black/21.9b0/tmpfxocehju'\n",
      "Generating grammar tables from /opt/tljh/user/envs/parcels-container_2021.09.29-09ab0ce/lib/python3.9/site-packages/blib2to3/PatternGrammar.txt\n",
      "Writing grammar tables to /home/jupyter-workshop007/.cache/black/21.9b0/PatternGrammar3.9.7.final.0.pickle\n",
      "Writing failed: [Errno 2] No such file or directory: '/home/jupyter-workshop007/.cache/black/21.9b0/tmp4v2fw1up'\n",
      "Executing:   0%|          | 0/86 [00:00<?, ?cell/s]Executing notebook with kernel: parcels-container_2021.09.29-09ab0ce\n",
      "Executing: 100%|██████████| 86/86 [49:40<00:00, 34.66s/cell]   \n",
      "Input Notebook:  307_afox_trackendsandpaths_sumsandmeans_nonorth_final-Copy1.ipynb\n",
      "Output Notebook: ../executed/307_afox_fullstats/307_afox_trackendsandpaths_sumsandmeans_nonorth_final_2008.ipynb\n",
      "Generating grammar tables from /opt/tljh/user/envs/parcels-container_2021.09.29-09ab0ce/lib/python3.9/site-packages/blib2to3/Grammar.txt\n",
      "Writing grammar tables to /home/jupyter-workshop007/.cache/black/21.9b0/Grammar3.9.7.final.0.pickle\n",
      "Writing failed: [Errno 2] No such file or directory: '/home/jupyter-workshop007/.cache/black/21.9b0/tmpbu79qn1_'\n",
      "Generating grammar tables from /opt/tljh/user/envs/parcels-container_2021.09.29-09ab0ce/lib/python3.9/site-packages/blib2to3/PatternGrammar.txt\n",
      "Writing grammar tables to /home/jupyter-workshop007/.cache/black/21.9b0/PatternGrammar3.9.7.final.0.pickle\n",
      "Writing failed: [Errno 2] No such file or directory: '/home/jupyter-workshop007/.cache/black/21.9b0/tmptllpvi11'\n",
      "Executing:   0%|          | 0/86 [00:00<?, ?cell/s]Executing notebook with kernel: parcels-container_2021.09.29-09ab0ce\n",
      "Executing: 100%|██████████| 86/86 [49:05<00:00, 34.25s/cell]   \n",
      "Input Notebook:  307_afox_trackendsandpaths_sumsandmeans_nonorth_final-Copy1.ipynb\n",
      "Output Notebook: ../executed/307_afox_fullstats/307_afox_trackendsandpaths_sumsandmeans_nonorth_final_2009.ipynb\n",
      "Generating grammar tables from /opt/tljh/user/envs/parcels-container_2021.09.29-09ab0ce/lib/python3.9/site-packages/blib2to3/Grammar.txt\n",
      "Writing grammar tables to /home/jupyter-workshop007/.cache/black/21.9b0/Grammar3.9.7.final.0.pickle\n",
      "Writing failed: [Errno 2] No such file or directory: '/home/jupyter-workshop007/.cache/black/21.9b0/tmpx2w95_0a'\n",
      "Generating grammar tables from /opt/tljh/user/envs/parcels-container_2021.09.29-09ab0ce/lib/python3.9/site-packages/blib2to3/PatternGrammar.txt\n",
      "Writing grammar tables to /home/jupyter-workshop007/.cache/black/21.9b0/PatternGrammar3.9.7.final.0.pickle\n",
      "Writing failed: [Errno 2] No such file or directory: '/home/jupyter-workshop007/.cache/black/21.9b0/tmp1gs76ccw'\n",
      "Executing:   0%|          | 0/86 [00:00<?, ?cell/s]Executing notebook with kernel: parcels-container_2021.09.29-09ab0ce\n",
      "Executing: 100%|██████████| 86/86 [49:25<00:00, 34.48s/cell]   \n"
     ]
    }
   ],
   "source": [
    "%%bash\n",
    "\n",
    "for year in {2000..2009};\n",
    "do\n",
    "papermill 307_afox_trackendsandpaths_sumsandmeans_nonorth_final-Copy1.ipynb \\\n",
    "        ../executed/307_afox_fullstats/307_afox_trackendsandpaths_sumsandmeans_nonorth_final_${year}.ipynb \\\n",
    "        -p year $year \\\n",
    "        -p nsubsets 32 \\\n",
    "        -k parcels-container_2021.09.29-09ab0ce\n",
    "done\n",
    "\n"
   ]
  },
  {
   "cell_type": "code",
   "execution_count": null,
   "id": "raising-loading",
   "metadata": {},
   "outputs": [],
   "source": []
  }
 ],
 "metadata": {
  "kernelspec": {
   "display_name": "Python [conda env:parcels-container_2021.09.29-09ab0ce]",
   "language": "python",
   "name": "conda-env-parcels-container_2021.09.29-09ab0ce-py"
  },
  "language_info": {
   "codemirror_mode": {
    "name": "ipython",
    "version": 3
   },
   "file_extension": ".py",
   "mimetype": "text/x-python",
   "name": "python",
   "nbconvert_exporter": "python",
   "pygments_lexer": "ipython3",
   "version": "3.9.7"
  }
 },
 "nbformat": 4,
 "nbformat_minor": 5
}
