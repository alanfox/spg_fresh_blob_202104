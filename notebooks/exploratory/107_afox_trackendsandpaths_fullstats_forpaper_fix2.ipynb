{
 "cells": [
  {
   "cell_type": "markdown",
   "metadata": {
    "slideshow": {
     "slide_type": "slide"
    }
   },
   "source": [
    "# OSNAP line Lagrangian particle tracking investigation of the cold/fresh blob\n"
   ]
  },
  {
   "cell_type": "markdown",
   "metadata": {},
   "source": [
    "redo other sourcetime calculation because it was wrong first time round"
   ]
  },
  {
   "cell_type": "markdown",
   "metadata": {
    "slideshow": {
     "slide_type": "skip"
    }
   },
   "source": [
    "## Technical preamble"
   ]
  },
  {
   "cell_type": "code",
   "execution_count": 1,
   "metadata": {
    "slideshow": {
     "slide_type": "skip"
    }
   },
   "outputs": [],
   "source": [
    "# import matplotlib.colors as colors\n",
    "import numpy as np\n",
    "from pathlib import Path\n",
    "import matplotlib.pyplot as plt\n",
    "import xarray as xr\n",
    "from datetime import datetime, timedelta\n",
    "import seaborn as sns\n",
    "# from matplotlib.colors import ListedColormap\n",
    "import cmocean as co\n",
    "import pandas as pd\n",
    "import matplotlib.dates as mdates\n",
    "import cartopy.crs as ccrs\n",
    "import cartopy\n",
    "import seawater as sw\n",
    "\n",
    "from matplotlib import colors as c\n",
    "from matplotlib import ticker\n",
    "# from xhistogram.xarray import histogram"
   ]
  },
  {
   "cell_type": "code",
   "execution_count": 2,
   "metadata": {
    "slideshow": {
     "slide_type": "skip"
    }
   },
   "outputs": [],
   "source": [
    "sns.set(style=\"darkgrid\")\n",
    "\n",
    "xr.set_options(keep_attrs=True)\n",
    "np.warnings.filterwarnings('ignore')\n",
    "\n",
    "sns.set_palette(\"colorblind\")\n",
    "xr.set_options(keep_attrs=True);\n",
    "\n",
    "plt.rc('font', size=14) #controls default text size\n",
    "plt.rc('axes', titlesize=14) #fontsize of the title\n",
    "plt.rc('axes', labelsize=14) #fontsize of the x and y labels\n",
    "plt.rc('xtick', labelsize=14) #fontsize of the x tick labels\n",
    "plt.rc('ytick', labelsize=14) #fontsize of the y tick labels\n",
    "plt.rc('legend', fontsize=14) #fontsize of the legend\n",
    "plt.rc('savefig', dpi=300)       # higher res outputs"
   ]
  },
  {
   "cell_type": "code",
   "execution_count": 3,
   "metadata": {},
   "outputs": [],
   "source": [
    "# from dask.distributed import Client"
   ]
  },
  {
   "cell_type": "code",
   "execution_count": 4,
   "metadata": {},
   "outputs": [],
   "source": [
    "# client = Client(n_workers=1, threads_per_worker=8, memory_limit=48e9)\n",
    "# client"
   ]
  },
  {
   "cell_type": "markdown",
   "metadata": {
    "slideshow": {
     "slide_type": "skip"
    }
   },
   "source": [
    "_(Click on the link above if you want to see the Dask cluster in action.)_"
   ]
  },
  {
   "cell_type": "markdown",
   "metadata": {
    "slideshow": {
     "slide_type": "skip"
    }
   },
   "source": [
    "## Set up paths and read in trajectory data"
   ]
  },
  {
   "cell_type": "code",
   "execution_count": 66,
   "metadata": {
    "tags": [
     "parameters"
    ]
   },
   "outputs": [],
   "source": [
    "# parameters\n",
    "project_path = Path.cwd() / '..' / '..' \n",
    "project_path = project_path.resolve()\n",
    "\n",
    "interim_data_path = Path('/data/spg_fresh_blob_202104_data/2022-02-27_wr-final-runs/data/interim/endtracks/plusDist/')\n",
    "\n",
    "outputPath = Path('data/interim/sumsAndMeans/')\n",
    "output_data_path = project_path / outputPath\n",
    "\n",
    "sectionPath = Path('data/external/')\n",
    "sectionFilename = 'osnap_pos_wp.txt'\n",
    "sectionname = 'osnap'\n",
    "\n",
    "figure_path = Path('reports/figures/subsets/')\n",
    "\n",
    "# output figures path\n",
    "figures_path = Path(\"reports/figures/ColdBlob/final/\")\n",
    "\n",
    "# do this year-by-year because of filesizes\n",
    "year = 2019\n",
    "\n",
    "nsubsets = 32\n",
    "\n",
    "# proportion of data in subset\n",
    "subset = 1.0"
   ]
  },
  {
   "cell_type": "markdown",
   "metadata": {
    "slideshow": {
     "slide_type": "skip"
    }
   },
   "source": [
    "## Load VIKING20X data\n",
    "\n",
    "We'll first find all the relevant files and then open them as a virtual contiguous dataset."
   ]
  },
  {
   "cell_type": "code",
   "execution_count": 67,
   "metadata": {},
   "outputs": [
    {
     "data": {
      "image/png": "[encoded data removed]",
      "text/plain": [
       "<Figure size 360x720 with 1 Axes>"
      ]
     },
     "metadata": {},
     "output_type": "display_data"
    }
   ],
   "source": [
    "plt.figure(figsize=(5,10))\n",
    "for year in range(year,year+1):\n",
    "    yearstr=str(year)\n",
    "    data_trackends_subsets = list(sorted(Path(interim_data_path).glob(f\"*{yearstr}*.nc/\")))\n",
    "    ds = xr.concat(\n",
    "        [xr.open_dataset(store) for store in data_trackends_subsets],\n",
    "        dim=\"traj\",\n",
    "    )\n",
    "    \n",
    "    ds.time.isel(ends=1).plot()"
   ]
  },
  {
   "cell_type": "code",
   "execution_count": 7,
   "metadata": {
    "scrolled": true,
    "slideshow": {
     "slide_type": "skip"
    }
   },
   "outputs": [
    {
     "name": "stdout",
     "output_type": "stream",
     "text": [
      "# packages in environment at /opt/tljh/user/envs/parcels-container_2021.09.29-09ab0ce:\n",
      "#\n",
      "# Name                    Version                   Build  Channel\n",
      "_libgcc_mutex             0.1                 conda_forge    conda-forge\n",
      "_openmp_mutex             4.5                       1_gnu    conda-forge\n",
      "ansiwrap                  0.8.4                      py_0    conda-forge\n",
      "appdirs                   1.4.4              pyh9f0ad1d_0    conda-forge\n",
      "asciitree                 0.3.3                      py_2    conda-forge\n",
      "async_generator           1.10                       py_0    conda-forge\n",
      "attrs                     21.2.0             pyhd8ed1ab_0    conda-forge\n",
      "backcall                  0.2.0              pyh9f0ad1d_0    conda-forge\n",
      "backports                 1.0                        py_2    conda-forge\n",
      "backports.functools_lru_cache 1.6.4              pyhd8ed1ab_0    conda-forge\n",
      "basemap                   1.2.2            py39h523bb60_3    conda-forge\n",
      "binutils_impl_linux-64    2.36.1               h193b22a_2    conda-forge\n",
      "binutils_linux-64         2.36                 hf3e587d_1    conda-forge\n",
      "black                     21.9b0             pyhd8ed1ab_0    conda-forge\n",
      "bleach                    4.1.0              pyhd8ed1ab_0    conda-forge\n",
      "blosc                     1.21.0               h9c3ff4c_0    conda-forge\n",
      "bokeh                     2.4.0            py39hf3d152e_0    conda-forge\n",
      "boost-cpp                 1.74.0               hc6e9bd1_3    conda-forge\n",
      "bottleneck                1.3.2            py39hce5d2b2_4    conda-forge\n",
      "brotlipy                  0.7.0           py39h3811e60_1001    conda-forge\n",
      "bzip2                     1.0.8                h7f98852_4    conda-forge\n",
      "c-ares                    1.17.2               h7f98852_0    conda-forge\n",
      "ca-certificates           2021.5.30            ha878542_0    conda-forge\n",
      "cached-property           1.5.2                hd8ed1ab_1    conda-forge\n",
      "cached_property           1.5.2              pyha770c72_1    conda-forge\n",
      "cachetools                4.2.4              pyhd8ed1ab_0    conda-forge\n",
      "cairo                     1.16.0            h6cf1ce9_1008    conda-forge\n",
      "cartopy                   0.18.0           py39hda0f492_8    conda-forge\n",
      "certifi                   2021.5.30        py39hf3d152e_0    conda-forge\n",
      "cffi                      1.14.6           py39h4bc2ebd_1    conda-forge\n",
      "cfitsio                   3.470                hb418390_7    conda-forge\n",
      "cftime                    1.5.1            py39hce5d2b2_0    conda-forge\n",
      "cgen                      2020.1                     py_0    conda-forge\n",
      "chardet                   4.0.0            py39hf3d152e_1    conda-forge\n",
      "click                     7.1.2              pyh9f0ad1d_0    conda-forge\n",
      "click-plugins             1.1.1                      py_0    conda-forge\n",
      "cligj                     0.7.2              pyhd8ed1ab_0    conda-forge\n",
      "cloudpickle               2.0.0              pyhd8ed1ab_0    conda-forge\n",
      "cmocean                   2.0                        py_3    conda-forge\n",
      "colorama                  0.4.4              pyh9f0ad1d_0    conda-forge\n",
      "colorcet                  2.0.6              pyhd8ed1ab_0    conda-forge\n",
      "colorspacious             1.1.2              pyh24bf2e0_0    conda-forge\n",
      "cryptography              3.4.7            py39hbca0aa6_0    conda-forge\n",
      "curl                      7.76.1               h979ede3_1    conda-forge\n",
      "cycler                    0.10.0                     py_2    conda-forge\n",
      "cytoolz                   0.11.0           py39h3811e60_3    conda-forge\n",
      "dask                      2021.9.1           pyhd8ed1ab_0    conda-forge\n",
      "dask-core                 2021.9.1           pyhd8ed1ab_0    conda-forge\n",
      "dataclasses               0.8                pyhc8e2a94_3    conda-forge\n",
      "datashader                0.13.0             pyh6c4a22f_0    conda-forge\n",
      "datashape                 0.5.4                      py_1    conda-forge\n",
      "dbus                      1.13.6               h48d8840_2    conda-forge\n",
      "debugpy                   1.4.1            py39he80948d_0    conda-forge\n",
      "decorator                 5.1.0              pyhd8ed1ab_0    conda-forge\n",
      "distributed               2021.9.1         py39hf3d152e_0    conda-forge\n",
      "entrypoints               0.3             pyhd8ed1ab_1003    conda-forge\n",
      "expat                     2.4.1                h9c3ff4c_0    conda-forge\n",
      "fasteners                 0.16               pyhd8ed1ab_0    conda-forge\n",
      "ffmpeg                    4.3.2                hca11adc_0    conda-forge\n",
      "fiona                     1.8.18           py39h494ca2c_1    conda-forge\n",
      "fontconfig                2.13.1            hba837de_1005    conda-forge\n",
      "freetype                  2.10.4               h0708190_1    conda-forge\n",
      "freexl                    1.0.6                h7f98852_0    conda-forge\n",
      "fsspec                    2021.9.0           pyhd8ed1ab_0    conda-forge\n",
      "gcc_impl_linux-64         11.2.0               h82a94d6_9    conda-forge\n",
      "gcc_linux-64              11.2.0               h39a9532_1    conda-forge\n",
      "gdal                      3.2.1            py39h409cc32_3    conda-forge\n",
      "geopandas                 0.9.0              pyhd8ed1ab_1    conda-forge\n",
      "geopandas-base            0.9.0              pyhd8ed1ab_1    conda-forge\n",
      "geos                      3.8.1                he1b5a44_0    conda-forge\n",
      "geotiff                   1.6.0                h2b14fbe_4    conda-forge\n",
      "geoviews                  1.9.2              pyhd8ed1ab_0    conda-forge\n",
      "geoviews-core             1.9.2              pyha770c72_0    conda-forge\n",
      "gettext                   0.19.8.1          h73d1719_1008    conda-forge\n",
      "giflib                    5.2.1                h36c2ea0_2    conda-forge\n",
      "glib                      2.68.4               h9c3ff4c_1    conda-forge\n",
      "glib-tools                2.68.4               h9c3ff4c_1    conda-forge\n",
      "gmp                       6.2.1                h58526e2_0    conda-forge\n",
      "gnutls                    3.6.13               h85f3911_1    conda-forge\n",
      "gst-plugins-base          1.14.5               h0935bb2_2    conda-forge\n",
      "gstreamer                 1.18.5               h76c114f_0    conda-forge\n",
      "gsw                       3.4.0            py39hce5d2b2_1    conda-forge\n",
      "h5netcdf                  0.11.0             pyhd8ed1ab_0    conda-forge\n",
      "h5py                      3.3.0           nompi_py39h98ba4bc_100    conda-forge\n",
      "hdf4                      4.2.15               h10796ff_3    conda-forge\n",
      "hdf5                      1.10.6          nompi_h6a2412b_1114    conda-forge\n",
      "heapdict                  1.0.1                      py_0    conda-forge\n",
      "holoviews                 1.14.6             pyhd8ed1ab_0    conda-forge\n",
      "hvplot                    0.7.3              pyh6c4a22f_0    conda-forge\n",
      "icu                       68.1                 h58526e2_0    conda-forge\n",
      "idna                      2.10               pyh9f0ad1d_0    conda-forge\n",
      "importlib-metadata        4.8.1            py39hf3d152e_0    conda-forge\n",
      "ipykernel                 6.4.1            py39hef51801_0    conda-forge\n",
      "ipython                   7.28.0           py39hef51801_0    conda-forge\n",
      "ipython_genutils          0.2.0                      py_1    conda-forge\n",
      "jedi                      0.18.0           py39hf3d152e_2    conda-forge\n",
      "jinja2                    3.0.1              pyhd8ed1ab_0    conda-forge\n",
      "joblib                    1.0.1              pyhd8ed1ab_0    conda-forge\n",
      "jpeg                      9d                   h36c2ea0_0    conda-forge\n",
      "json-c                    0.13.1            hbfbb72e_1002    conda-forge\n",
      "jsonschema                3.2.0              pyhd8ed1ab_3    conda-forge\n",
      "jupyter_client            7.0.5              pyhd8ed1ab_0    conda-forge\n",
      "jupyter_core              4.8.1            py39hf3d152e_0    conda-forge\n",
      "kealib                    1.4.14               hcc255d8_2    conda-forge\n",
      "kernel-headers_linux-64   2.6.32              he073ed8_14    conda-forge\n",
      "kiwisolver                1.3.2            py39h1a9c180_0    conda-forge\n",
      "krb5                      1.17.2               h926e7f8_0    conda-forge\n",
      "lame                      3.100             h7f98852_1001    conda-forge\n",
      "lcms2                     2.12                 hddcbb42_0    conda-forge\n",
      "ld_impl_linux-64          2.36.1               hea4e1c9_2    conda-forge\n",
      "libblas                   3.9.0           11_linux64_openblas    conda-forge\n",
      "libcblas                  3.9.0           11_linux64_openblas    conda-forge\n",
      "libclang                  11.1.0          default_ha53f305_1    conda-forge\n",
      "libcurl                   7.76.1               hc4aaa36_1    conda-forge\n",
      "libdap4                   3.20.6               hd7c4107_2    conda-forge\n",
      "libedit                   3.1.20191231         he28a2e2_2    conda-forge\n",
      "libev                     4.33                 h516909a_1    conda-forge\n",
      "libevent                  2.1.10               hcdb4288_3    conda-forge\n",
      "libffi                    3.4.2                h9c3ff4c_4    conda-forge\n",
      "libgcc-devel_linux-64     11.2.0               h0952999_9    conda-forge\n",
      "libgcc-ng                 11.2.0               h1d223b6_9    conda-forge\n",
      "libgdal                   3.2.1                h744752d_3    conda-forge\n",
      "libgfortran-ng            11.2.0               h69a702a_9    conda-forge\n",
      "libgfortran5              11.2.0               h5c6108e_9    conda-forge\n",
      "libglib                   2.68.4               h174f98d_1    conda-forge\n",
      "libgomp                   11.2.0               h1d223b6_9    conda-forge\n",
      "libiconv                  1.16                 h516909a_0    conda-forge\n",
      "libkml                    1.3.0             h238a007_1014    conda-forge\n",
      "liblapack                 3.9.0           11_linux64_openblas    conda-forge\n",
      "libllvm10                 10.0.1               he513fc3_3    conda-forge\n",
      "libllvm11                 11.1.0               hf817b99_2    conda-forge\n",
      "libnetcdf                 4.7.4           nompi_h56d31a8_107    conda-forge\n",
      "libnghttp2                1.43.0               h812cca2_1    conda-forge\n",
      "libopenblas               0.3.17          pthreads_h8fe5266_1    conda-forge\n",
      "libpng                    1.6.37               h21135ba_2    conda-forge\n",
      "libpq                     12.3                 h255efa7_3    conda-forge\n",
      "librttopo                 1.1.0                hb271727_4    conda-forge\n",
      "libsanitizer              11.2.0               he4da1e4_9    conda-forge\n",
      "libsodium                 1.0.18               h36c2ea0_1    conda-forge\n",
      "libspatialindex           1.9.3                h9c3ff4c_4    conda-forge\n",
      "libspatialite             5.0.1                h4e7eb2b_1    conda-forge\n",
      "libssh2                   1.10.0               ha56f1ee_2    conda-forge\n",
      "libstdcxx-ng              11.2.0               he4da1e4_9    conda-forge\n",
      "libtiff                   4.2.0                hbd63e13_2    conda-forge\n",
      "libuuid                   2.32.1            h7f98852_1000    conda-forge\n",
      "libwebp-base              1.2.1                h7f98852_0    conda-forge\n",
      "libxcb                    1.13              h7f98852_1003    conda-forge\n",
      "libxkbcommon              1.0.3                he3ba5ed_0    conda-forge\n",
      "libxml2                   2.9.12               h72842e0_0    conda-forge\n",
      "llvmlite                  0.36.0           py39h1bbdace_0    conda-forge\n",
      "locket                    0.2.0                      py_2    conda-forge\n",
      "lz4-c                     1.9.3                h9c3ff4c_1    conda-forge\n",
      "mapclassify               2.4.3              pyhd8ed1ab_0    conda-forge\n",
      "markdown                  3.3.4              pyhd8ed1ab_0    conda-forge\n",
      "markupsafe                2.0.1            py39h3811e60_0    conda-forge\n",
      "matplotlib                3.4.3            py39hf3d152e_1    conda-forge\n",
      "matplotlib-base           3.4.3            py39h2fa2bec_1    conda-forge\n",
      "matplotlib-inline         0.1.3              pyhd8ed1ab_0    conda-forge\n",
      "monotonic                 1.5                        py_0    conda-forge\n",
      "msgpack-python            1.0.2            py39h1a9c180_1    conda-forge\n",
      "multipledispatch          0.6.0                      py_0    conda-forge\n",
      "munch                     2.5.0                      py_0    conda-forge\n",
      "mypy_extensions           0.4.3            py39hf3d152e_3    conda-forge\n",
      "mysql-common              8.0.25               ha770c72_0    conda-forge\n",
      "mysql-libs                8.0.25               h935591d_0    conda-forge\n",
      "nbclient                  0.5.4              pyhd8ed1ab_0    conda-forge\n",
      "nbformat                  5.1.3              pyhd8ed1ab_0    conda-forge\n",
      "ncurses                   6.2                  h58526e2_4    conda-forge\n",
      "nest-asyncio              1.5.1              pyhd8ed1ab_0    conda-forge\n",
      "netcdf4                   1.5.6           nompi_py39h36800e2_102    conda-forge\n",
      "nettle                    3.6                  he412f7d_0    conda-forge\n",
      "networkx                  2.5                        py_0    conda-forge\n",
      "nspr                      4.30                 h9c3ff4c_0    conda-forge\n",
      "nss                       3.69                 hb5efdd6_1    conda-forge\n",
      "numba                     0.53.1           py39h56b8d98_1    conda-forge\n",
      "numcodecs                 0.9.1            py39he80948d_0    conda-forge\n",
      "numpy                     1.21.2           py39hdbf815f_0    conda-forge\n",
      "olefile                   0.46               pyh9f0ad1d_1    conda-forge\n",
      "openblas                  0.3.17          pthreads_h4748800_1    conda-forge\n",
      "openh264                  2.1.1                h780b84a_0    conda-forge\n",
      "openjpeg                  2.4.0                hb52868f_1    conda-forge\n",
      "openssl                   1.1.1l               h7f98852_0    conda-forge\n",
      "packaging                 21.0               pyhd8ed1ab_0    conda-forge\n",
      "pandas                    1.3.3            py39hde0f152_0    conda-forge\n",
      "panel                     0.12.4             pyhd8ed1ab_0    conda-forge\n",
      "papermill                 2.3.3              pyhd8ed1ab_0    conda-forge\n",
      "param                     1.11.1             pyh6c4a22f_0    conda-forge\n",
      "parcels                   2.3.0            py39hf3d152e_0    conda-forge\n",
      "parso                     0.8.2              pyhd8ed1ab_0    conda-forge\n",
      "partd                     1.2.0              pyhd8ed1ab_0    conda-forge\n",
      "pathspec                  0.9.0              pyhd8ed1ab_0    conda-forge\n",
      "patsy                     0.5.2              pyhd8ed1ab_0    conda-forge\n",
      "pcre                      8.45                 h9c3ff4c_0    conda-forge\n",
      "pexpect                   4.8.0              pyh9f0ad1d_2    conda-forge\n",
      "pickleshare               0.7.5                   py_1003    conda-forge\n",
      "pillow                    8.2.0            py39hf95b381_1    conda-forge\n",
      "pip                       21.2.4             pyhd8ed1ab_0    conda-forge\n",
      "pixman                    0.40.0               h36c2ea0_0    conda-forge\n",
      "platformdirs              2.3.0              pyhd8ed1ab_0    conda-forge\n",
      "poppler                   0.89.0               h2de54a5_5    conda-forge\n",
      "poppler-data              0.4.11               hd8ed1ab_0    conda-forge\n",
      "postgresql                12.3                 hc2f5b80_3    conda-forge\n",
      "progressbar2              3.53.1             pyh9f0ad1d_0    conda-forge\n",
      "proj                      7.2.0                h277dcde_2    conda-forge\n",
      "prompt-toolkit            3.0.20             pyha770c72_0    conda-forge\n",
      "psutil                    5.8.0            py39h3811e60_1    conda-forge\n",
      "pthread-stubs             0.4               h36c2ea0_1001    conda-forge\n",
      "ptyprocess                0.7.0              pyhd3deb0d_0    conda-forge\n",
      "pycparser                 2.20               pyh9f0ad1d_2    conda-forge\n",
      "pyct                      0.4.6                      py_0    conda-forge\n",
      "pyct-core                 0.4.6                      py_0    conda-forge\n",
      "pygments                  2.10.0             pyhd8ed1ab_0    conda-forge\n",
      "pymbolic                  2021.1             pyhd8ed1ab_0    conda-forge\n",
      "pyopenssl                 20.0.1             pyhd8ed1ab_0    conda-forge\n",
      "pyparsing                 2.4.7              pyh9f0ad1d_0    conda-forge\n",
      "pyproj                    3.1.0            py39h50a64a9_3    conda-forge\n",
      "pyqt                      5.12.3           py39hf3d152e_7    conda-forge\n",
      "pyqt-impl                 5.12.3           py39h0fcd23e_7    conda-forge\n",
      "pyqt5-sip                 4.19.18          py39he80948d_7    conda-forge\n",
      "pyqtchart                 5.12             py39h0fcd23e_7    conda-forge\n",
      "pyqtwebengine             5.12.1           py39h0fcd23e_7    conda-forge\n",
      "pyrsistent                0.17.3           py39h3811e60_2    conda-forge\n",
      "pyshp                     2.1.3              pyh44b312d_0    conda-forge\n",
      "pysocks                   1.7.1            py39hf3d152e_3    conda-forge\n",
      "python                    3.9.7           hb7a2778_3_cpython    conda-forge\n",
      "python-blosc              1.10.2           py39hde0f152_1    conda-forge\n",
      "python-dateutil           2.8.2              pyhd8ed1ab_0    conda-forge\n",
      "python-utils              2.5.6              pyh44b312d_0    conda-forge\n",
      "python_abi                3.9                      2_cp39    conda-forge\n",
      "pytools                   2021.2.8           pyhd8ed1ab_0    conda-forge\n",
      "pytz                      2021.1             pyhd8ed1ab_0    conda-forge\n",
      "pyviz_comms               2.1.0              pyhd8ed1ab_0    conda-forge\n",
      "pyyaml                    5.4.1            py39h3811e60_1    conda-forge\n",
      "pyzmq                     22.3.0           py39h37b5a0c_0    conda-forge\n",
      "qt                        5.12.9               h9d6b050_2    conda-forge\n",
      "readline                  8.1                  h46c0cb4_0    conda-forge\n",
      "regex                     2021.9.30        py39h3811e60_0    conda-forge\n",
      "requests                  2.25.1             pyhd3deb0d_0    conda-forge\n",
      "rtree                     0.9.7            py39hb102c33_2    conda-forge\n",
      "scikit-learn              1.0              py39h7c5d8c9_1    conda-forge\n",
      "scipy                     1.7.1            py39hee8e79c_0    conda-forge\n",
      "seaborn                   0.11.2               hd8ed1ab_0    conda-forge\n",
      "seaborn-base              0.11.2             pyhd8ed1ab_0    conda-forge\n",
      "seawater                  3.3.4                      py_1    conda-forge\n",
      "setuptools                58.0.4           py39hf3d152e_2    conda-forge\n",
      "shapely                   1.7.1            py39hcbe974e_1    conda-forge\n",
      "six                       1.16.0             pyh6c4a22f_0    conda-forge\n",
      "sortedcontainers          2.4.0              pyhd8ed1ab_0    conda-forge\n",
      "sparse                    0.13.0             pyhd8ed1ab_0    conda-forge\n",
      "sqlite                    3.36.0               h9cd32fc_2    conda-forge\n",
      "statsmodels               0.12.2           py39hce5d2b2_0    conda-forge\n",
      "sysroot_linux-64          2.12                he073ed8_14    conda-forge\n",
      "tblib                     1.7.0              pyhd8ed1ab_0    conda-forge\n",
      "tenacity                  8.0.1              pyhd8ed1ab_0    conda-forge\n",
      "textwrap3                 0.9.2                      py_0    conda-forge\n",
      "threadpoolctl             2.2.0              pyh8a188c0_0    conda-forge\n",
      "tiledb                    2.2.9                h91fcb0e_0    conda-forge\n",
      "tk                        8.6.11               h27826a3_1    conda-forge\n",
      "tomli                     1.2.1              pyhd8ed1ab_0    conda-forge\n",
      "toolz                     0.11.1                     py_0    conda-forge\n",
      "tornado                   6.1              py39h3811e60_1    conda-forge\n",
      "tqdm                      4.62.3             pyhd8ed1ab_0    conda-forge\n",
      "traitlets                 5.1.0              pyhd8ed1ab_0    conda-forge\n",
      "typed-ast                 1.4.3            py39h3811e60_0    conda-forge\n",
      "typing_extensions         3.10.0.2           pyha770c72_0    conda-forge\n",
      "tzcode                    2021a                h7f98852_2    conda-forge\n",
      "tzdata                    2021a                he74cb21_1    conda-forge\n",
      "urllib3                   1.26.7             pyhd8ed1ab_0    conda-forge\n",
      "wcwidth                   0.2.5              pyh9f0ad1d_2    conda-forge\n",
      "webencodings              0.5.1                      py_1    conda-forge\n",
      "wheel                     0.37.0             pyhd8ed1ab_1    conda-forge\n",
      "x264                      1!161.3030           h7f98852_1    conda-forge\n",
      "xarray                    0.19.0             pyhd8ed1ab_1    conda-forge\n",
      "xerces-c                  3.2.3                h9d8b166_2    conda-forge\n",
      "xhistogram                0.3.0              pyhd8ed1ab_0    conda-forge\n",
      "xorg-kbproto              1.0.7             h7f98852_1002    conda-forge\n",
      "xorg-libice               1.0.10               h7f98852_0    conda-forge\n",
      "xorg-libsm                1.2.3             hd9c2040_1000    conda-forge\n",
      "xorg-libx11               1.7.2                h7f98852_0    conda-forge\n",
      "xorg-libxau               1.0.9                h7f98852_0    conda-forge\n",
      "xorg-libxdmcp             1.1.3                h7f98852_0    conda-forge\n",
      "xorg-libxext              1.3.4                h7f98852_1    conda-forge\n",
      "xorg-libxrender           0.9.10            h7f98852_1003    conda-forge\n",
      "xorg-renderproto          0.11.1            h7f98852_1002    conda-forge\n",
      "xorg-xextproto            7.3.0             h7f98852_1002    conda-forge\n",
      "xorg-xproto               7.0.31            h7f98852_1007    conda-forge\n",
      "xz                        5.2.5                h516909a_1    conda-forge\n",
      "yaml                      0.2.5                h516909a_0    conda-forge\n",
      "zarr                      2.10.1             pyhd8ed1ab_0    conda-forge\n",
      "zeromq                    4.3.4                h9c3ff4c_1    conda-forge\n",
      "zict                      2.0.0                      py_0    conda-forge\n",
      "zipp                      3.5.0              pyhd8ed1ab_0    conda-forge\n",
      "zlib                      1.2.11            h36c2ea0_1011    conda-forge\n",
      "zstd                      1.4.9                ha95c52a_0    conda-forge\n",
      "\n",
      "Note: you may need to restart the kernel to use updated packages.\n"
     ]
    }
   ],
   "source": [
    "conda list"
   ]
  },
  {
   "cell_type": "code",
   "execution_count": null,
   "metadata": {},
   "outputs": [],
   "source": [
    "\n"
   ]
  },
  {
   "cell_type": "code",
   "execution_count": null,
   "metadata": {},
   "outputs": [],
   "source": []
  }
 ],
 "metadata": {
  "celltoolbar": "Slideshow",
  "kernelspec": {
   "display_name": "parcels-container_2021.03.17-6c459b7",
   "language": "python",
   "name": "parcels-container_2021.03.17-6c459b7"
  },
  "language_info": {
   "codemirror_mode": {
    "name": "ipython",
    "version": 3
   },
   "file_extension": ".py",
   "mimetype": "text/x-python",
   "name": "python",
   "nbconvert_exporter": "python",
   "pygments_lexer": "ipython3",
   "version": "3.9.7"
  }
 },
 "nbformat": 4,
 "nbformat_minor": 4
}
