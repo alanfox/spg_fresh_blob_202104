{
 "cells": [
  {
   "cell_type": "markdown",
   "id": "cheap-timeline",
   "metadata": {},
   "source": [
    "## Prepare papermill for schulung3.geomar.de\n",
    "\n",
    "    Make sure you have activated the correct kernel\n",
    "    Install kernel manually"
   ]
  },
  {
   "cell_type": "code",
   "execution_count": 1,
   "id": "configured-harvest",
   "metadata": {},
   "outputs": [
    {
     "name": "stdout",
     "output_type": "stream",
     "text": [
      "Installed kernelspec parcels-container_2021.03.17-6c459b7 in /home/jupyter-workshop007/.local/share/jupyter/kernels/parcels-container_2021.03.17-6c459b7\n"
     ]
    }
   ],
   "source": [
    "!python -m ipykernel install --user --name parcels-container_2021.03.17-6c459b7"
   ]
  },
  {
   "cell_type": "code",
   "execution_count": 2,
   "id": "considerable-behalf",
   "metadata": {},
   "outputs": [
    {
     "name": "stdout",
     "output_type": "stream",
     "text": [
      "Available kernels:\n",
      "  parcels-container_2021.03.17-6c459b7    /home/jupyter-workshop007/.local/share/jupyter/kernels/parcels-container_2021.03.17-6c459b7\n",
      "  py3_lagrange_v2.2.2                     /home/jupyter-workshop007/.local/share/jupyter/kernels/py3_lagrange_v2.2.2\n",
      "  python3                                 /opt/tljh/user/envs/parcels-container_2021.03.17-6c459b7/share/jupyter/kernels/python3\n"
     ]
    }
   ],
   "source": [
    "!jupyter kernelspec list"
   ]
  },
  {
   "cell_type": "markdown",
   "id": "downtown-minimum",
   "metadata": {},
   "source": [
    "### Run papermill on schulung3.geomar.de"
   ]
  },
  {
   "cell_type": "code",
   "execution_count": 3,
   "id": "agreed-kingston",
   "metadata": {},
   "outputs": [
    {
     "name": "stderr",
     "output_type": "stream",
     "text": [
      "Input Notebook:  107_afox_trackendsandpaths_fullstats_forpaper.ipynb\n",
      "Output Notebook: ../executed/107_afox_fullstats/107_afox_trackendsandpaths_fullstats_forpaper_2012.ipynb\n",
      "Generating grammar tables from /opt/tljh/user/envs/parcels-container_2021.03.17-6c459b7/lib/python3.8/site-packages/blib2to3/Grammar.txt\n",
      "Writing grammar tables to /home/jupyter-workshop007/.cache/black/20.8b1/Grammar3.8.8.final.0.pickle\n",
      "Writing failed: [Errno 2] No such file or directory: '/home/jupyter-workshop007/.cache/black/20.8b1/tmpgsavpl0n'\n",
      "Generating grammar tables from /opt/tljh/user/envs/parcels-container_2021.03.17-6c459b7/lib/python3.8/site-packages/blib2to3/PatternGrammar.txt\n",
      "Writing grammar tables to /home/jupyter-workshop007/.cache/black/20.8b1/PatternGrammar3.8.8.final.0.pickle\n",
      "Writing failed: [Errno 2] No such file or directory: '/home/jupyter-workshop007/.cache/black/20.8b1/tmpq0xti853'\n",
      "Executing:   0%|          | 0/79 [00:00<?, ?cell/s]Executing notebook with kernel: parcels-container_2021.03.17-6c459b7\n",
      "Executing: 100%|██████████| 79/79 [46:17<00:00, 35.16s/cell]   \n"
     ]
    }
   ],
   "source": [
    "%%bash\n",
    "\n",
    "for year in {2012..2012};\n",
    "do\n",
    "papermill 107_afox_trackendsandpaths_fullstats_forpaper.ipynb \\\n",
    "        ../executed/107_afox_fullstats/107_afox_trackendsandpaths_fullstats_forpaper_${year}.ipynb \\\n",
    "        -p year $year \\\n",
    "        -p nsubsets 32\n",
    "        -k parcels-container_2021.03.17-6c459b7\n",
    "done\n",
    "\n"
   ]
  },
  {
   "cell_type": "code",
   "execution_count": null,
   "id": "balanced-brush",
   "metadata": {},
   "outputs": [],
   "source": []
  }
 ],
 "metadata": {
  "kernelspec": {
   "display_name": "Python [conda env:parcels-container_2021.03.17-6c459b7]",
   "language": "python",
   "name": "conda-env-parcels-container_2021.03.17-6c459b7-py"
  },
  "language_info": {
   "codemirror_mode": {
    "name": "ipython",
    "version": 3
   },
   "file_extension": ".py",
   "mimetype": "text/x-python",
   "name": "python",
   "nbconvert_exporter": "python",
   "pygments_lexer": "ipython3",
   "version": "3.8.8"
  }
 },
 "nbformat": 4,
 "nbformat_minor": 5
}
