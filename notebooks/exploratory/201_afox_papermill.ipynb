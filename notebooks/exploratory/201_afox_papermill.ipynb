{
 "cells": [
  {
   "cell_type": "markdown",
   "id": "referenced-sharing",
   "metadata": {},
   "source": [
    "## Prepare papermill for schulung3.geomar.de\n",
    "\n",
    "    Make sure you have activated the correct kernel\n",
    "    Install kernel manually"
   ]
  },
  {
   "cell_type": "code",
   "execution_count": 1,
   "id": "premium-breathing",
   "metadata": {},
   "outputs": [],
   "source": [
    "# !python -m ipykernel install --user --name parcels-container_2021.09.29-09ab0ce"
   ]
  },
  {
   "cell_type": "code",
   "execution_count": 2,
   "id": "worth-harvey",
   "metadata": {},
   "outputs": [],
   "source": [
    "# !jupyter kernelspec list"
   ]
  },
  {
   "cell_type": "markdown",
   "id": "tough-tomorrow",
   "metadata": {},
   "source": [
    "### Run papermill on schulung3.geomar.de"
   ]
  },
  {
   "cell_type": "code",
   "execution_count": 3,
   "id": "7449597a-f734-42fe-bacc-dcc0688e10fc",
   "metadata": {},
   "outputs": [],
   "source": [
    "!mkdir -p ../executed/201_afox_transports_osnap\n",
    "!mkdir -p ../executed/202_afox_transports_davis\n",
    "!mkdir -p ../executed/203_afox_transports_hudson"
   ]
  },
  {
   "cell_type": "code",
   "execution_count": null,
   "id": "olympic-eclipse",
   "metadata": {},
   "outputs": [],
   "source": [
    "%%bash\n",
    "\n",
    "for year in {1990..2019};\n",
    "do\n",
    "papermill 201_afox_transports_osnap.ipynb \\\n",
    "        ../executed/201_afox_transports_osnap/201_afox_transports_osnap_${year}.ipynb \\\n",
    "        -p year $year \\\n",
    "        -p mean_period \"5d\" \\\n",
    "        -k parcels-container_2021.09.29-09ab0ce\n",
    "papermill 202_afox_transports_davis.ipynb \\\n",
    "        ../executed/202_afox_transports_davis/202_afox_transports_davis_${year}.ipynb \\\n",
    "        -p year $year \\\n",
    "        -p mean_period \"5d\" \\\n",
    "        -k parcels-container_2021.09.29-09ab0ce\n",
    "papermill 203_afox_transports_hudson.ipynb \\\n",
    "        ../executed/203_afox_transports_hudson/203_afox_transports_hudson_${year}.ipynb \\\n",
    "        -p year $year \\\n",
    "        -p mean_period \"5d\" \\\n",
    "        -k python\n",
    "done\n",
    "\n"
   ]
  }
 ],
 "metadata": {
  "kernelspec": {
   "display_name": "Python 3 (ipykernel)",
   "language": "python",
   "name": "python3"
  },
  "language_info": {
   "codemirror_mode": {
    "name": "ipython",
    "version": 3
   },
   "file_extension": ".py",
   "mimetype": "text/x-python",
   "name": "python",
   "nbconvert_exporter": "python",
   "pygments_lexer": "ipython3",
   "version": "3.8.10"
  }
 },
 "nbformat": 4,
 "nbformat_minor": 5
}
