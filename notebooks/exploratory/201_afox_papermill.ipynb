{
 "cells": [
  {
   "cell_type": "markdown",
   "id": "referenced-sharing",
   "metadata": {},
   "source": [
    "## Prepare papermill for schulung3.geomar.de\n",
    "\n",
    "    Make sure you have activated the correct kernel\n",
    "    Install kernel manually"
   ]
  },
  {
   "cell_type": "code",
   "execution_count": 1,
   "id": "premium-breathing",
   "metadata": {},
   "outputs": [
    {
     "name": "stdout",
     "output_type": "stream",
     "text": [
      "Installed kernelspec parcels-container_2021.09.29-09ab0ce in /home/jupyter-workshop007/.local/share/jupyter/kernels/parcels-container_2021.09.29-09ab0ce\n"
     ]
    }
   ],
   "source": [
    "!python -m ipykernel install --user --name parcels-container_2021.09.29-09ab0ce"
   ]
  },
  {
   "cell_type": "code",
   "execution_count": 2,
   "id": "worth-harvey",
   "metadata": {},
   "outputs": [
    {
     "name": "stdout",
     "output_type": "stream",
     "text": [
      "Available kernels:\n",
      "  parcels-container_2021.03.17-6c459b7    /home/jupyter-workshop007/.local/share/jupyter/kernels/parcels-container_2021.03.17-6c459b7\n",
      "  parcels-container_2021.09.29-09ab0ce    /home/jupyter-workshop007/.local/share/jupyter/kernels/parcels-container_2021.09.29-09ab0ce\n",
      "  py3_lagrange_v2.2.2                     /home/jupyter-workshop007/.local/share/jupyter/kernels/py3_lagrange_v2.2.2\n",
      "  python3                                 /opt/tljh/user/envs/parcels-container_2021.09.29-09ab0ce/share/jupyter/kernels/python3\n"
     ]
    }
   ],
   "source": [
    "!jupyter kernelspec list"
   ]
  },
  {
   "cell_type": "markdown",
   "id": "tough-tomorrow",
   "metadata": {},
   "source": [
    "### Run papermill on schulung3.geomar.de"
   ]
  },
  {
   "cell_type": "code",
   "execution_count": null,
   "id": "olympic-eclipse",
   "metadata": {},
   "outputs": [],
   "source": [
    "%%bash\n",
    "\n",
    "for year in {1990..2019};\n",
    "do\n",
    "papermill 201_afox_transports_osnap.ipynb \\\n",
    "        ../executed/201_afox_transports_osnap/201_afox_transports_osnap_${year}.ipynb \\\n",
    "        -p year $year \\\n",
    "        -p mean_period \"1m\" \\\n",
    "        -k parcels-container_2021.09.29-09ab0ce\n",
    "papermill 202_afox_transports_davis.ipynb \\\n",
    "        ../executed/202_afox_transports_davis/202_afox_transports_davis_${year}.ipynb \\\n",
    "        -p year $year \\\n",
    "        -p mean_period \"1m\" \\\n",
    "        -k parcels-container_2021.09.29-09ab0ce\n",
    "papermill 203_afox_transports_hudson.ipynb \\\n",
    "        ../executed/203_afox_transports_hudson/203_afox_transports_hudson_${year}.ipynb \\\n",
    "        -p year $year \\\n",
    "        -p mean_period \"1m\" \\\n",
    "        -k parcels-container_2021.09.29-09ab0ce\n",
    "done\n",
    "\n"
   ]
  },
  {
   "cell_type": "code",
   "execution_count": null,
   "id": "aerial-occasion",
   "metadata": {},
   "outputs": [],
   "source": []
  }
 ],
 "metadata": {
  "kernelspec": {
   "display_name": "Python [conda env:parcels-container_2021.09.29-09ab0ce]",
   "language": "python",
   "name": "conda-env-parcels-container_2021.09.29-09ab0ce-py"
  },
  "language_info": {
   "codemirror_mode": {
    "name": "ipython",
    "version": 3
   },
   "file_extension": ".py",
   "mimetype": "text/x-python",
   "name": "python",
   "nbconvert_exporter": "python",
   "pygments_lexer": "ipython3",
   "version": "3.9.7"
  }
 },
 "nbformat": 4,
 "nbformat_minor": 5
}
