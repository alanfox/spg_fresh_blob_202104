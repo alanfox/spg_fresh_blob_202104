{
 "cells": [
  {
   "cell_type": "markdown",
   "id": "oriental-january",
   "metadata": {},
   "source": [
    "## Prepare papermill for schulung3.geomar.de\n",
    "\n",
    "    Make sure you have activated the correct kernel\n",
    "    Install kernel manually"
   ]
  },
  {
   "cell_type": "code",
   "execution_count": null,
   "id": "urban-virginia",
   "metadata": {},
   "outputs": [],
   "source": [
    "# !python -m ipykernel install --user --name parcels-container_2021.03.17-6c459b7"
   ]
  },
  {
   "cell_type": "code",
   "execution_count": null,
   "id": "reverse-columbia",
   "metadata": {},
   "outputs": [],
   "source": [
    "!jupyter kernelspec list"
   ]
  },
  {
   "cell_type": "markdown",
   "id": "professional-audio",
   "metadata": {},
   "source": [
    "### Run papermill on schulung3.geomar.de"
   ]
  },
  {
   "cell_type": "code",
   "execution_count": null,
   "id": "successful-composition",
   "metadata": {},
   "outputs": [],
   "source": [
    "%%bash\n",
    "\n",
    "mkdir -p ../executed/115_afox_endtracks_plus_pathlength/\n",
    "\n",
    "for year in {1990..2019};\n",
    "do\n",
    "papermill 115_afox_extracttrackendsandpaths_plus_pathlength.ipynb \\\n",
    "        ../executed/115_afox_endtracks_plus_pathlength/115_afox_extracttrackendsandpaths_plus_pathlength_${year}.ipynb \\\n",
    "        -p year $year \\\n",
    "        -k python3\n",
    "done\n",
    "\n"
   ]
  },
  {
   "cell_type": "code",
   "execution_count": null,
   "id": "a0a91c43-06b9-4d10-86ea-bcd992c7f013",
   "metadata": {},
   "outputs": [],
   "source": []
  }
 ],
 "metadata": {
  "kernelspec": {
   "display_name": "Python 3 (ipykernel)",
   "language": "python",
   "name": "python3"
  },
  "language_info": {
   "codemirror_mode": {
    "name": "ipython",
    "version": 3
   },
   "file_extension": ".py",
   "mimetype": "text/x-python",
   "name": "python",
   "nbconvert_exporter": "python",
   "pygments_lexer": "ipython3",
   "version": "3.8.10"
  }
 },
 "nbformat": 4,
 "nbformat_minor": 5
}
