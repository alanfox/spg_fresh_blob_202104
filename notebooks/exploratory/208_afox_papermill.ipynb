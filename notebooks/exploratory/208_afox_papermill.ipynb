{
 "cells": [
  {
   "cell_type": "markdown",
   "id": "raised-detail",
   "metadata": {},
   "source": [
    "## Prepare papermill for schulung3.geomar.de\n",
    "\n",
    "    Make sure you have activated the correct kernel\n",
    "    Install kernel manually"
   ]
  },
  {
   "cell_type": "code",
   "execution_count": 1,
   "id": "based-blowing",
   "metadata": {},
   "outputs": [],
   "source": [
    "# !python -m ipykernel install --user --name parcels-container_2021.09.29-09ab0ce"
   ]
  },
  {
   "cell_type": "code",
   "execution_count": 2,
   "id": "prescription-choice",
   "metadata": {},
   "outputs": [],
   "source": [
    "# !jupyter kernelspec list"
   ]
  },
  {
   "cell_type": "markdown",
   "id": "similar-reporter",
   "metadata": {},
   "source": [
    "### Run papermill on schulung3.geomar.de"
   ]
  },
  {
   "cell_type": "code",
   "execution_count": null,
   "id": "after-steps",
   "metadata": {},
   "outputs": [],
   "source": [
    "%%bash\n",
    "\n",
    "mkdir -p ../executed/208_afox_volume_budget_sigma_lab_sea/\n",
    "\n",
    "for year in {1990..2019};\n",
    "do\n",
    "papermill 208_afox_volume_budget_sigma_lab_sea.ipynb \\\n",
    "        ../executed/208_afox_volume_budget_sigma_lab_sea/208_afox_volume_budget_sigma_lab_sea_${year}.ipynb \\\n",
    "        -p year $year \\\n",
    "        -p mean_period \"5d\" \\\n",
    "        -k python\n",
    "done\n",
    "\n"
   ]
  },
  {
   "cell_type": "code",
   "execution_count": null,
   "id": "royal-resolution",
   "metadata": {},
   "outputs": [],
   "source": []
  }
 ],
 "metadata": {
  "kernelspec": {
   "display_name": "Python 3 (ipykernel)",
   "language": "python",
   "name": "python3"
  },
  "language_info": {
   "codemirror_mode": {
    "name": "ipython",
    "version": 3
   },
   "file_extension": ".py",
   "mimetype": "text/x-python",
   "name": "python",
   "nbconvert_exporter": "python",
   "pygments_lexer": "ipython3",
   "version": "3.8.10"
  }
 },
 "nbformat": 4,
 "nbformat_minor": 5
}
