{
 "cells": [
  {
   "cell_type": "markdown",
   "metadata": {
    "slideshow": {
     "slide_type": "slide"
    }
   },
   "source": [
    "# Extract Hudson Bay section data from the VIKING20X model.\n",
    "\n",
    "Run one year at a time\n"
   ]
  },
  {
   "cell_type": "markdown",
   "metadata": {
    "slideshow": {
     "slide_type": "skip"
    }
   },
   "source": [
    "## Technical preample"
   ]
  },
  {
   "cell_type": "code",
   "execution_count": 1,
   "metadata": {
    "slideshow": {
     "slide_type": "skip"
    }
   },
   "outputs": [],
   "source": [
    "%matplotlib inline\n",
    "from pathlib import Path\n",
    "import pandas as pd\n",
    "import xarray as xr\n",
    "import numpy as np\n",
    "import matplotlib.pyplot as plt\n",
    "\n",
    "import importlib\n",
    "import sys"
   ]
  },
  {
   "cell_type": "markdown",
   "metadata": {},
   "source": [
    "###  xorca_brokenline and xorca_lonlatij imported from local folder ../../src\n",
    "\n",
    "If these are in the python environment then can import direct from there.\n",
    "\n",
    "Note: This needs the latest (early 2022) xorca_brokenline from the repo with the fixed interpolation. **Not the latest labelled version v1.1.1**"
   ]
  },
  {
   "cell_type": "code",
   "execution_count": 2,
   "metadata": {},
   "outputs": [],
   "source": [
    "# path to some plotting routines\n",
    "sys.path.append(r'../../src/')"
   ]
  },
  {
   "cell_type": "code",
   "execution_count": 3,
   "metadata": {},
   "outputs": [],
   "source": [
    "import xorca_brokenline as bl\n",
    "from xorca_lonlat2ij import get_ij"
   ]
  },
  {
   "cell_type": "code",
   "execution_count": 4,
   "metadata": {},
   "outputs": [],
   "source": [
    "from dask.distributed import Client"
   ]
  },
  {
   "cell_type": "code",
   "execution_count": 5,
   "metadata": {},
   "outputs": [
    {
     "data": {
      "text/html": [
       "<table style=\"border: 2px solid white;\">\n",
       "<tr>\n",
       "<td style=\"vertical-align: top; border: 0px solid white\">\n",
       "<h3 style=\"text-align: left;\">Client</h3>\n",
       "<ul style=\"text-align: left; list-style: none; margin: 0; padding: 0;\">\n",
       "  <li><b>Scheduler: </b>tcp://10.0.4.71:44745</li>\n",
       "  <li><b>Dashboard: </b><a href='http://10.0.4.71:8787/status' target='_blank'>http://10.0.4.71:8787/status</a></li>\n",
       "</ul>\n",
       "</td>\n",
       "<td style=\"vertical-align: top; border: 0px solid white\">\n",
       "<h3 style=\"text-align: left;\">Cluster</h3>\n",
       "<ul style=\"text-align: left; list-style:none; margin: 0; padding: 0;\">\n",
       "  <li><b>Workers: </b>8</li>\n",
       "  <li><b>Cores: </b>16</li>\n",
       "  <li><b>Memory: </b>240.00 GB</li>\n",
       "</ul>\n",
       "</td>\n",
       "</tr>\n",
       "</table>"
      ],
      "text/plain": [
       "<Client: 'tcp://10.0.4.71:44745' processes=8 threads=16, memory=240.00 GB>"
      ]
     },
     "execution_count": 5,
     "metadata": {},
     "output_type": "execute_result"
    }
   ],
   "source": [
    "client = Client(n_workers=8, threads_per_worker=2, memory_limit=30e9, ip=\"0.0.0.0\")\n",
    "client"
   ]
  },
  {
   "cell_type": "markdown",
   "metadata": {
    "slideshow": {
     "slide_type": "skip"
    }
   },
   "source": [
    "_(Click on the link above if you want to see the Dask cluster in action.)_"
   ]
  },
  {
   "cell_type": "markdown",
   "metadata": {
    "slideshow": {
     "slide_type": "skip"
    }
   },
   "source": [
    "## Parameters\n",
    "\n",
    "Let's make it a habit to collect everyting we might want to change at a later point (the parameters of the analysis) in a central place."
   ]
  },
  {
   "cell_type": "code",
   "execution_count": 6,
   "metadata": {
    "tags": [
     "parameters"
    ]
   },
   "outputs": [],
   "source": [
    "# paramters\n",
    "\n",
    "# Project path\n",
    "path_project = Path.cwd() / '..' / '..' \n",
    "path_project = path_project.resolve()\n",
    "\n",
    "# Section data file\n",
    "path_data_output = path_project / 'data/interim/sections'\n",
    "\n",
    "# path to viking20 data\n",
    "global_data_path = Path(\"/gxfs_work1/geomar/smomw355/model_data/ocean-only/\")\n",
    "experiment_id = \"VIKING20X.L46-KKG36107B\"\n",
    "nest_prefix = \"1\"\n",
    "\n",
    "\n",
    "mean_period = \"1m\"\n",
    "year = 1990"
   ]
  },
  {
   "cell_type": "code",
   "execution_count": 7,
   "metadata": {
    "slideshow": {
     "slide_type": "skip"
    }
   },
   "outputs": [],
   "source": [
    "yearstr = str(year)"
   ]
  },
  {
   "cell_type": "markdown",
   "metadata": {
    "slideshow": {
     "slide_type": "skip"
    }
   },
   "source": [
    "## Load VIKING20X data\n",
    "\n",
    "We'll first find all the relevant files and then open them as a virtual contiguous dataset."
   ]
  },
  {
   "cell_type": "code",
   "execution_count": 8,
   "metadata": {
    "slideshow": {
     "slide_type": "skip"
    }
   },
   "outputs": [
    {
     "name": "stdout",
     "output_type": "stream",
     "text": [
      "found 1 grid-U files\n",
      "found 1 grid-V files\n",
      "found 1 grid-T files\n",
      "found 0 mesh_hgr files\n",
      "found 0 mesh_zgr files\n",
      "found 0 mask files\n",
      "found 1 mesh mask files\n"
     ]
    }
   ],
   "source": [
    "U_files = (global_data_path / experiment_id / \"nemo/output/\").glob(f\"{nest_prefix}_{experiment_id}_{mean_period}_{yearstr}????_{yearstr}????_grid_U.nc\")\n",
    "U_files = list(sorted(U_files))\n",
    "print(f\"found {len(U_files)} grid-U files\")\n",
    "\n",
    "V_files = (global_data_path / experiment_id / \"nemo/output/\").glob(f\"{nest_prefix}_{experiment_id}_{mean_period}_{yearstr}????_{yearstr}????_grid_V.nc\")\n",
    "V_files = list(sorted(V_files))\n",
    "print(f\"found {len(V_files)} grid-V files\")\n",
    "\n",
    "T_files = (global_data_path / experiment_id / \"nemo/output/\").glob(f\"{nest_prefix}_{experiment_id}_{mean_period}_{yearstr}????_{yearstr}????_grid_T.nc\")\n",
    "T_files = list(sorted(T_files))\n",
    "print(f\"found {len(T_files)} grid-T files\")\n",
    "\n",
    "mesh_hgr_files = (global_data_path / experiment_id / \"nemo/suppl/\").glob(f\"{nest_prefix}_mesh_hgr*.nc\")\n",
    "mesh_hgr_files = list(sorted(mesh_hgr_files))\n",
    "print(f\"found {len(mesh_hgr_files)} mesh_hgr files\")\n",
    "\n",
    "mesh_zgr_files = (global_data_path / experiment_id / \"nemo/suppl/\").glob(f\"{nest_prefix}_mesh_zgr*.nc\")\n",
    "mesh_zgr_files = list(sorted(mesh_zgr_files))\n",
    "print(f\"found {len(mesh_zgr_files)} mesh_zgr files\")\n",
    "\n",
    "mask_files = (global_data_path / experiment_id / \"nemo/suppl/\").glob(f\"{nest_prefix}_mask*.nc\")\n",
    "mask_files = list(sorted(mask_files))\n",
    "print(f\"found {len(mask_files)} mask files\")\n",
    "\n",
    "mesh_mask_files = (global_data_path / experiment_id / \"nemo/suppl/\").glob(f\"{nest_prefix}_mesh_mask*.nc\")\n",
    "mesh_mask_files = list(sorted(mesh_mask_files))\n",
    "print(f\"found {len(mesh_mask_files)} mesh mask files\")\n"
   ]
  },
  {
   "cell_type": "code",
   "execution_count": 9,
   "metadata": {
    "slideshow": {
     "slide_type": "skip"
    }
   },
   "outputs": [],
   "source": [
    "gridU = xr.open_mfdataset(\n",
    "    U_files,\n",
    "    chunks={\n",
    "        \"time_counter\": 1, \"depthu\": 64,\n",
    "        \"y\": 256, \"x\": 1024\n",
    "    },\n",
    "    combine='by_coords'\n",
    ")\n",
    "gridV = xr.open_mfdataset(\n",
    "    V_files,\n",
    "    chunks={\n",
    "        \"time_counter\": 1, \"depthv\": 64,\n",
    "        \"y\": 256, \"x\": 1024\n",
    "    },\n",
    "    combine='by_coords'\n",
    ")\n",
    "gridT = xr.open_mfdataset(\n",
    "    T_files,\n",
    "    chunks={\n",
    "        \"time_counter\": 1, \"deptht\": 64,\n",
    "        \"y\": 256, \"x\": 1024\n",
    "    },\n",
    "    combine='by_coords'\n",
    ")\n",
    "# gridU = xr.open_dataset(gridU_files[0])\n",
    "# gridV = xr.open_dataset(gridV_files[0])\n",
    "mesh_mask = xr.open_dataset(mesh_mask_files[0],\n",
    "    chunks={\n",
    "        \"z\": 64,\n",
    "        \"y\": 256, \"x\": 1024\n",
    "    },\n",
    ")\n",
    "mesh_mask[\"e3t\"] = mesh_mask[\"e3t_0\"]\n",
    "mesh_mask[\"e3u\"] = mesh_mask[\"e3u_0\"]\n",
    "mesh_mask[\"e3v\"] = mesh_mask[\"e3v_0\"]\n",
    "mesh_mask[\"e3w\"] = mesh_mask[\"e3w_0\"]\n",
    "\n",
    "mesh_hgr = mesh_mask\n",
    "# mesh_hgr = xr.open_dataset(mesh_hgr_files[0],    \n",
    "#     chunks={\n",
    "#         \"t\": 1, \"z\": 64,\n",
    "#         \"y\": 256, \"x\": 1024\n",
    "#     },\n",
    "# )\n",
    "mesh_zgr = mesh_mask\n",
    "# mesh_zgr = xr.open_dataset(mesh_zgr_files[0],\n",
    "#     chunks={\n",
    "#         \"t\": 1, \"z\": 64,\n",
    "#         \"y\": 256, \"x\": 1024\n",
    "#     },\n",
    "# )\n",
    "mask = mesh_mask\n",
    "# mask = xr.open_dataset(mask_files[0],\n",
    "#     chunks={\n",
    "#         \"t\": 1, \"z\": 64,\n",
    "#         \"y\": 256, \"x\": 1024\n",
    "#     },\n",
    "# )\n",
    "\n",
    "\n",
    "fmask = mask['fmask'].isel(t=0,z=0)\n"
   ]
  },
  {
   "cell_type": "markdown",
   "metadata": {
    "slideshow": {
     "slide_type": "slide"
    }
   },
   "source": [
    "## Define a section and find grid points along the section\n",
    "\n",
    "This is a simple section along x=700."
   ]
  },
  {
   "cell_type": "code",
   "execution_count": 10,
   "metadata": {},
   "outputs": [],
   "source": [
    "vertices_ji = np.array([[2000,700],\n",
    " [2498,  700]])\n",
    "\n"
   ]
  },
  {
   "cell_type": "markdown",
   "metadata": {},
   "source": [
    "### slice viking20x datafiles for speed"
   ]
  },
  {
   "cell_type": "code",
   "execution_count": 11,
   "metadata": {},
   "outputs": [],
   "source": [
    "gridT= gridT.isel(x=slice(650,750,1),y=slice(1900,None,1))"
   ]
  },
  {
   "cell_type": "code",
   "execution_count": 12,
   "metadata": {},
   "outputs": [],
   "source": [
    "gridU = gridU.isel(x=slice(650,750,1),y=slice(1900,None,1))\n",
    "gridV = gridV.isel(x=slice(650,750,1),y=slice(1900,None,1))\n",
    "mesh_hgr = mesh_hgr.isel(x=slice(650,750,1),y=slice(1900,None,1))\n",
    "mesh_zgr= mesh_zgr.isel(x=slice(650,750,1),y=slice(1900,None,1))\n",
    "mask = mask.isel(x=slice(650,750,1),y=slice(1900,None,1))\n",
    "mesh_mask = mesh_mask.isel(x=slice(650,750,1),y=slice(1900,None,1))\n"
   ]
  },
  {
   "cell_type": "code",
   "execution_count": 13,
   "metadata": {},
   "outputs": [],
   "source": [
    "fmask = mask['fmask'].isel(t=0,z=0)"
   ]
  },
  {
   "cell_type": "code",
   "execution_count": 14,
   "metadata": {
    "slideshow": {
     "slide_type": "fragment"
    }
   },
   "outputs": [
    {
     "name": "stdout",
     "output_type": "stream",
     "text": [
      "[[100  50]\n",
      " [598  50]]\n"
     ]
    }
   ],
   "source": [
    "vertices_ji = vertices_ji - np.array([1900,650])\n",
    "print(vertices_ji)"
   ]
  },
  {
   "cell_type": "code",
   "execution_count": 15,
   "metadata": {
    "slideshow": {
     "slide_type": "skip"
    }
   },
   "outputs": [],
   "source": [
    "ji_pairs = vertices_ji"
   ]
  },
  {
   "cell_type": "markdown",
   "metadata": {
    "slideshow": {
     "slide_type": "skip"
    }
   },
   "source": [
    "## Extract Section\n",
    "bl.shift_grids() interpolates all variables onto the u- and v-points, drops unnecessary coordinate labels and variables and renames depth dimension. <br>\n",
    "select_section() selects the section defined by ji from gridU_processed and gridV_processed and returns a section.\n"
   ]
  },
  {
   "cell_type": "code",
   "execution_count": 16,
   "metadata": {
    "slideshow": {
     "slide_type": "skip"
    }
   },
   "outputs": [],
   "source": [
    "ji = bl.section_indices(ji_pairs=ji_pairs)"
   ]
  },
  {
   "cell_type": "code",
   "execution_count": 17,
   "metadata": {
    "slideshow": {
     "slide_type": "skip"
    }
   },
   "outputs": [],
   "source": [
    "# gridU_processed, gridV_processed = bl.shift_grids(gridU=gridU, gridV=gridV)\n",
    "gridU_processed, gridV_processed = bl.shift_grids(gridU=gridU, gridV=gridV, mesh_hgr=mesh_hgr,mesh_zgr=mesh_zgr,mask=mask,gridT=gridT)"
   ]
  },
  {
   "cell_type": "code",
   "execution_count": 19,
   "metadata": {
    "slideshow": {
     "slide_type": "skip"
    }
   },
   "outputs": [
    {
     "name": "stdout",
     "output_type": "stream",
     "text": [
      "CPU times: user 5.14 s, sys: 256 ms, total: 5.4 s\n",
      "Wall time: 9.45 s\n"
     ]
    }
   ],
   "source": [
    "%%time\n",
    "\n",
    "section = bl.select_section(ji,gridU_processed,gridV_processed,mesh_hgr,mesh_zgr,mask).compute()\n",
    "# reverse direction of normal velocities\n",
    "section['u_normal']=-section['u_normal']"
   ]
  },
  {
   "cell_type": "markdown",
   "metadata": {
    "slideshow": {
     "slide_type": "skip"
    }
   },
   "source": [
    "Section includes the velocity normal to the section (either U or V, depending on the orientation of each segment), the length and depth of each segment and a land-sea mask variable. "
   ]
  },
  {
   "cell_type": "code",
   "execution_count": 20,
   "metadata": {},
   "outputs": [],
   "source": [
    "!mkdir -p {str(path_data_output)}"
   ]
  },
  {
   "cell_type": "code",
   "execution_count": 21,
   "metadata": {},
   "outputs": [],
   "source": [
    "filename_output = 'sectionHUDSN_' + mean_period + '_' + yearstr + '.nc'\n",
    "\n",
    "section.to_netcdf(path_data_output / filename_output)"
   ]
  },
  {
   "cell_type": "code",
   "execution_count": 22,
   "metadata": {},
   "outputs": [
    {
     "data": {
      "text/plain": [
       "<matplotlib.collections.QuadMesh at 0x7fba6dd32370>"
      ]
     },
     "execution_count": 22,
     "metadata": {},
     "output_type": "execute_result"
    },
    {
     "data": {
      "image/png": "[encoded data removed]",
      "text/plain": [
       "<Figure size 432x288 with 2 Axes>"
      ]
     },
     "metadata": {
      "needs_background": "light"
     },
     "output_type": "display_data"
    }
   ],
   "source": [
    "section.u_normal.isel(time_counter=0).plot()"
   ]
  }
 ],
 "metadata": {
  "kernelspec": {
   "display_name": "Python 3 (ipykernel)",
   "language": "python",
   "name": "python3"
  },
  "language_info": {
   "codemirror_mode": {
    "name": "ipython",
    "version": 3
   },
   "file_extension": ".py",
   "mimetype": "text/x-python",
   "name": "python",
   "nbconvert_exporter": "python",
   "pygments_lexer": "ipython3",
   "version": "3.8.10"
  }
 },
 "nbformat": 4,
 "nbformat_minor": 4
}
