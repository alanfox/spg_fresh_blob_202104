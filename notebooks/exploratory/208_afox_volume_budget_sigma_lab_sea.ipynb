{
 "cells": [
  {
   "cell_type": "markdown",
   "metadata": {
    "slideshow": {
     "slide_type": "slide"
    }
   },
   "source": [
    "# Quantifying watermass conversion in the Labrador Sea in the VIKING20X model.\n",
    "\n",
    "Change in volume with time by density level\n",
    "\n",
    "[This notebook takes a while to run]\n"
   ]
  },
  {
   "cell_type": "markdown",
   "metadata": {
    "slideshow": {
     "slide_type": "skip"
    }
   },
   "source": [
    "## Technical preample"
   ]
  },
  {
   "cell_type": "code",
   "execution_count": 1,
   "metadata": {
    "slideshow": {
     "slide_type": "skip"
    }
   },
   "outputs": [],
   "source": [
    "%matplotlib inline\n",
    "from pathlib import Path\n",
    "import pandas as pd\n",
    "import xarray as xr\n",
    "import numpy as np\n",
    "import matplotlib.pyplot as plt\n",
    "from matplotlib import colors as c\n",
    "import matplotlib.dates as mdates\n",
    "import seawater as sw\n",
    "from xhistogram.xarray import histogram\n",
    "\n",
    "\n",
    "import seaborn as sns\n",
    "import cmocean as co     # for details on this colormap module see https://matplotlib.org/cmocean/"
   ]
  },
  {
   "cell_type": "code",
   "execution_count": 2,
   "metadata": {},
   "outputs": [],
   "source": [
    "sns.set(style=\"darkgrid\")\n",
    "\n",
    "xr.set_options(keep_attrs=True)\n",
    "np.warnings.filterwarnings('ignore')\n",
    "\n",
    "sns.set_palette(\"colorblind\")\n",
    "xr.set_options(keep_attrs=True);\n",
    "\n",
    "plt.rc('font', size=14) #controls default text size\n",
    "plt.rc('axes', titlesize=14) #fontsize of the title\n",
    "plt.rc('axes', labelsize=14) #fontsize of the x and y labels\n",
    "plt.rc('xtick', labelsize=14) #fontsize of the x tick labels\n",
    "plt.rc('ytick', labelsize=14) #fontsize of the y tick labels\n",
    "plt.rc('legend', fontsize=14) #fontsize of the legend\n",
    "plt.rc('savefig', dpi=300)       # higher res outputs"
   ]
  },
  {
   "cell_type": "code",
   "execution_count": 3,
   "metadata": {
    "slideshow": {
     "slide_type": "skip"
    }
   },
   "outputs": [],
   "source": [
    "plt.rcParams['figure.figsize'] = [9, 7]\n",
    "plt.rcParams.update({'font.size': 17})\n",
    "years_fmt = mdates.DateFormatter('%Y-%m-%d')\n",
    "sns.set_palette(\"colorblind\")"
   ]
  },
  {
   "cell_type": "code",
   "execution_count": 4,
   "metadata": {},
   "outputs": [],
   "source": [
    "from dask.distributed import Client"
   ]
  },
  {
   "cell_type": "code",
   "execution_count": 5,
   "metadata": {},
   "outputs": [
    {
     "data": {
      "text/html": [
       "<table style=\"border: 2px solid white;\">\n",
       "<tr>\n",
       "<td style=\"vertical-align: top; border: 0px solid white\">\n",
       "<h3 style=\"text-align: left;\">Client</h3>\n",
       "<ul style=\"text-align: left; list-style: none; margin: 0; padding: 0;\">\n",
       "  <li><b>Scheduler: </b>tcp://127.0.0.1:32929</li>\n",
       "  <li><b>Dashboard: </b><a href='/user/workshop007/proxy/8787/status' target='_blank'>/user/workshop007/proxy/8787/status</a>\n",
       "</ul>\n",
       "</td>\n",
       "<td style=\"vertical-align: top; border: 0px solid white\">\n",
       "<h3 style=\"text-align: left;\">Cluster</h3>\n",
       "<ul style=\"text-align: left; list-style:none; margin: 0; padding: 0;\">\n",
       "  <li><b>Workers: </b>1</li>\n",
       "  <li><b>Cores: </b>8</li>\n",
       "  <li><b>Memory: </b>48.00 GB</li>\n",
       "</ul>\n",
       "</td>\n",
       "</tr>\n",
       "</table>"
      ],
      "text/plain": [
       "<Client: 'tcp://127.0.0.1:32929' processes=1 threads=8, memory=48.00 GB>"
      ]
     },
     "execution_count": 5,
     "metadata": {},
     "output_type": "execute_result"
    }
   ],
   "source": [
    "client = Client(n_workers=1, threads_per_worker=8, memory_limit=48e9)\n",
    "client"
   ]
  },
  {
   "cell_type": "markdown",
   "metadata": {
    "slideshow": {
     "slide_type": "skip"
    }
   },
   "source": [
    "_(Click on the link above if you want to see the Dask cluster in action.)_"
   ]
  },
  {
   "cell_type": "markdown",
   "metadata": {
    "slideshow": {
     "slide_type": "skip"
    }
   },
   "source": [
    "## Parameters\n",
    "\n",
    "Let's make it a habit to collect everyting we might want to change at a later point (the parameters of the analysis) in a central place."
   ]
  },
  {
   "cell_type": "code",
   "execution_count": 6,
   "metadata": {
    "tags": [
     "parameters"
    ]
   },
   "outputs": [],
   "source": [
    "# paramters\n",
    "# Project path\n",
    "path_project = Path.cwd() / '..' / '..' \n",
    "path_project = path_project.resolve()\n",
    "\n",
    "\n",
    "# path to osnap section definition\n",
    "sectionPath = path_project / 'data' / 'external'\n",
    "sectionFilename = 'osnap_pos_wp.txt'\n",
    "sectionname = 'osnap'\n",
    "\n",
    "# output data path\n",
    "path_data_output = path_project / 'data/interim/watermassBudget/volumeBudget'\n",
    "\n",
    "\n",
    "global_data_path = Path(\"/data/iAtlantic/\")\n",
    "experiment_id = \"VIKING20X.L46-KKG36107B\"\n",
    "nest_prefix = \"1\"\n",
    "\n",
    "mean_period = \"1m\"\n",
    "year = 1990"
   ]
  },
  {
   "cell_type": "code",
   "execution_count": 7,
   "metadata": {
    "slideshow": {
     "slide_type": "skip"
    }
   },
   "outputs": [],
   "source": [
    "yearstr = str(year)"
   ]
  },
  {
   "cell_type": "markdown",
   "metadata": {
    "slideshow": {
     "slide_type": "skip"
    }
   },
   "source": [
    "## Load VIKING20X data\n",
    "\n",
    "We'll first find all the relevant files and then open them as a virtual contiguous dataset."
   ]
  },
  {
   "cell_type": "code",
   "execution_count": 8,
   "metadata": {
    "slideshow": {
     "slide_type": "skip"
    }
   },
   "outputs": [
    {
     "name": "stdout",
     "output_type": "stream",
     "text": [
      "found 1 grid-T files\n",
      "found 1 mask files\n",
      "found 1 mesh mask files\n"
     ]
    }
   ],
   "source": [
    "T_files = (global_data_path / \"data\" / experiment_id).glob(f\"{nest_prefix}_{experiment_id}_{mean_period}_{yearstr}????_{yearstr}????_grid_T.nc\")\n",
    "T_files = list(sorted(T_files))\n",
    "print(f\"found {len(T_files)} grid-T files\")\n",
    "\n",
    "mask_files = (global_data_path / \"mask\" / experiment_id).glob(f\"{nest_prefix}_mask*.nc\")\n",
    "mask_files = list(sorted(mask_files))\n",
    "print(f\"found {len(mask_files)} mask files\")\n",
    "\n",
    "mesh_mask_files = (global_data_path / \"mask\" / experiment_id).glob(f\"{nest_prefix}_mesh_mask*.nc\")\n",
    "mesh_mask_files = list(sorted(mesh_mask_files))\n",
    "print(f\"found {len(mesh_mask_files)} mesh mask files\")\n"
   ]
  },
  {
   "cell_type": "code",
   "execution_count": 9,
   "metadata": {
    "slideshow": {
     "slide_type": "skip"
    }
   },
   "outputs": [],
   "source": [
    "gridT = xr.open_mfdataset(\n",
    "    T_files,\n",
    "    chunks={\n",
    "        \"time_counter\": 1, \"deptht\": 1,\n",
    "        \"y\": 256, \"x\": 1024\n",
    "    },\n",
    "    combine='by_coords'\n",
    ")\n",
    "mask = xr.open_dataset(mask_files[0],\n",
    "    chunks={\n",
    "        \"t\": 1, \"z\": 1,\n",
    "        \"y\": 256, \"x\": 1024\n",
    "    },\n",
    ")\n",
    "mesh_mask = xr.open_dataset(mesh_mask_files[0],\n",
    "    chunks={\n",
    "        \"z\": 1,\n",
    "        \"y\": 256, \"x\": 1024\n",
    "    },\n",
    ")"
   ]
  },
  {
   "cell_type": "markdown",
   "metadata": {
    "slideshow": {
     "slide_type": "slide"
    }
   },
   "source": [
    "## Define a section and find grid points along the section"
   ]
  },
  {
   "cell_type": "code",
   "execution_count": 10,
   "metadata": {
    "slideshow": {
     "slide_type": "fragment"
    }
   },
   "outputs": [
    {
     "data": {
      "image/png": "[encoded data removed]",
      "text/plain": [
       "<Figure size 648x504 with 1 Axes>"
      ]
     },
     "metadata": {},
     "output_type": "display_data"
    }
   ],
   "source": [
    "\n",
    "lonlat = xr.Dataset(pd.read_csv(sectionPath / sectionFilename,delim_whitespace=True))\n",
    "\n",
    "lonlat\n",
    "\n",
    "lonlat.lon.attrs['long_name']='Longitude'\n",
    "lonlat.lat.attrs['long_name']='Latitude'\n",
    "lonlat.lon.attrs['standard_name']='longitude'\n",
    "lonlat.lat.attrs['standard_name']='latitude'\n",
    "lonlat.lon.attrs['units']='degrees_east'\n",
    "lonlat.lat.attrs['units']='degrees_north'\n",
    "\n",
    "lonlat.plot.scatter(x='lon',y='lat')\n",
    "\n",
    "ll_points = np.vstack((lonlat.lat.data, lonlat.lon.data)).T\n",
    "ll_points = ll_points[0:6]"
   ]
  },
  {
   "cell_type": "markdown",
   "metadata": {
    "slideshow": {
     "slide_type": "skip"
    }
   },
   "source": [
    "## Find related indices\n",
    "\n",
    "This takes an inordinate amount of time, because `get_ij` will transform grid points on the (spherical) earth to 3D, and do the nearest-neighbor-lookup there. There are faster ways. Probably more efficient for many points."
   ]
  },
  {
   "cell_type": "code",
   "execution_count": 11,
   "metadata": {
    "slideshow": {
     "slide_type": "skip"
    }
   },
   "outputs": [],
   "source": [
    "# # no need to run this every time, just save the coordinates for later. (WARNING: not working on reduce array)\n",
    "\n",
    "# vertices_ji = get_ij(\n",
    "#     mesh_mask,\n",
    "#     ll_points,\n",
    "#     grid=\"f\",\n",
    "#     xgcm=False,\n",
    "#     xarray_out=False\n",
    "# )"
   ]
  },
  {
   "cell_type": "code",
   "execution_count": 12,
   "metadata": {},
   "outputs": [],
   "source": [
    "vertices_ji = np.array([[1959,870],\n",
    " [1969,  950],\n",
    " [1995, 998],\n",
    " [2172, 1067],\n",
    " [2192, 1099],\n",
    " [2194, 1152],\n",
    " [2139, 1352],\n",
    " [2111, 1410],\n",
    " [2109, 1429],\n",
    " [2110, 1533],\n",
    " [2103, 1685],\n",
    " [2097, 1747],\n",
    " [2093, 1812]])\n",
    "\n"
   ]
  },
  {
   "cell_type": "markdown",
   "metadata": {},
   "source": [
    "### Cut out small area\n",
    "To speed calculations"
   ]
  },
  {
   "cell_type": "code",
   "execution_count": 13,
   "metadata": {},
   "outputs": [],
   "source": [
    "xmin=600\n",
    "xmax=1200\n",
    "ymin=1900\n",
    "ymax=None"
   ]
  },
  {
   "cell_type": "code",
   "execution_count": 14,
   "metadata": {},
   "outputs": [],
   "source": [
    "gridT = gridT.isel(x=slice(xmin,xmax,1),y=slice(ymin,ymax,1))\n",
    "mask = mask.isel(x=slice(xmin,xmax,1),y=slice(ymin,ymax,1))\n",
    "mesh_mask = mesh_mask.isel(x=slice(xmin,xmax,1),y=slice(ymin,ymax,1))"
   ]
  },
  {
   "cell_type": "code",
   "execution_count": 37,
   "metadata": {},
   "outputs": [
    {
     "data": {
      "text/html": [
       "<pre>&lt;xarray.DataArray &#x27;e3t_0&#x27; (z: 46)&gt;\n",
       "array([  6.19056967,   6.64035315,   7.1997574 ,   7.89479515,\n",
       "         8.75726687,   9.82583868,  11.14720478,  12.77726958,\n",
       "        14.78223443,  17.2394034 ,  20.23743024,  23.8756176 ,\n",
       "        28.2617659 ,  33.50798459,  39.72388261,  47.00672916,\n",
       "        55.4286164 ,  65.02142117,  75.76140926,  87.55641851,\n",
       "       100.23924628, 113.57060072, 127.25338967, 140.95739188,\n",
       "       154.3503458 , 167.12944409, 179.0470886 , 189.92660434,\n",
       "       199.66656925, 208.23524107, 215.6583166 , 222.00367886,\n",
       "       227.36618869, 231.8545067 , 135.78115802, 135.78115802,\n",
       "       241.17408162, 243.23153247, 244.90496619, 246.26194712,\n",
       "       247.35962091, 248.2457778 , 248.96003021, 249.53498218,\n",
       "       249.99732017, 250.36879056])\n",
       "Dimensions without coordinates: z\n",
       "Attributes:\n",
       "    cell_methods:  t: mean</pre>"
      ],
      "text/plain": [
       "<xarray.DataArray 'e3t_0' (z: 46)>\n",
       "array([  6.19056967,   6.64035315,   7.1997574 ,   7.89479515,\n",
       "         8.75726687,   9.82583868,  11.14720478,  12.77726958,\n",
       "        14.78223443,  17.2394034 ,  20.23743024,  23.8756176 ,\n",
       "        28.2617659 ,  33.50798459,  39.72388261,  47.00672916,\n",
       "        55.4286164 ,  65.02142117,  75.76140926,  87.55641851,\n",
       "       100.23924628, 113.57060072, 127.25338967, 140.95739188,\n",
       "       154.3503458 , 167.12944409, 179.0470886 , 189.92660434,\n",
       "       199.66656925, 208.23524107, 215.6583166 , 222.00367886,\n",
       "       227.36618869, 231.8545067 , 135.78115802, 135.78115802,\n",
       "       241.17408162, 243.23153247, 244.90496619, 246.26194712,\n",
       "       247.35962091, 248.2457778 , 248.96003021, 249.53498218,\n",
       "       249.99732017, 250.36879056])\n",
       "Dimensions without coordinates: z\n",
       "Attributes:\n",
       "    cell_methods:  t: mean"
      ]
     },
     "execution_count": 37,
     "metadata": {},
     "output_type": "execute_result"
    }
   ],
   "source": [
    "mesh_mask.e3t_0.isel(x=300,y=300).compute()"
   ]
  },
  {
   "cell_type": "code",
   "execution_count": 15,
   "metadata": {
    "slideshow": {
     "slide_type": "skip"
    }
   },
   "outputs": [],
   "source": [
    "tmask = mesh_mask['tmask']"
   ]
  },
  {
   "cell_type": "code",
   "execution_count": 16,
   "metadata": {},
   "outputs": [
    {
     "data": {
      "text/plain": [
       "<matplotlib.collections.QuadMesh at 0x7f45dc03d550>"
      ]
     },
     "execution_count": 16,
     "metadata": {},
     "output_type": "execute_result"
    },
    {
     "data": {
      "image/png": "[encoded data removed]",
      "text/plain": [
       "<Figure size 648x504 with 2 Axes>"
      ]
     },
     "metadata": {},
     "output_type": "display_data"
    }
   ],
   "source": [
    "tmask.isel(z=10).plot()"
   ]
  },
  {
   "cell_type": "markdown",
   "metadata": {},
   "source": [
    "#### Adjust section coordinates for the reduced area"
   ]
  },
  {
   "cell_type": "code",
   "execution_count": 17,
   "metadata": {
    "slideshow": {
     "slide_type": "fragment"
    }
   },
   "outputs": [
    {
     "name": "stdout",
     "output_type": "stream",
     "text": [
      "[[ 59 270]\n",
      " [ 69 350]\n",
      " [ 95 398]\n",
      " [272 467]\n",
      " [292 499]\n",
      " [294 552]]\n"
     ]
    }
   ],
   "source": [
    "vertices_ji = vertices_ji - np.array([ymin,xmin])\n",
    "vertices_ji = vertices_ji[0:6]\n",
    "print(vertices_ji)"
   ]
  },
  {
   "cell_type": "markdown",
   "metadata": {},
   "source": [
    "### Mask the calculation area\n",
    "\n",
    "This may not exactly match the brokenline calculation along OSNAP, but it will be very close as the same OSNAP array coordinates are used."
   ]
  },
  {
   "cell_type": "code",
   "execution_count": 18,
   "metadata": {
    "slideshow": {
     "slide_type": "skip"
    }
   },
   "outputs": [],
   "source": [
    "def apply_left_of_line(ds, lon_1, lon_2, lat_1, lat_2):\n",
    "    '''Apply an area crossing criterion.\n",
    "    \n",
    "    Larvae in ds selected while they are in a selected area.\n",
    "    '''\n",
    "    # particles are selected if they pass through given area.\n",
    "    position =  ((lon_2 -lon_1) * (ds.nav_lat - lat_1) - \n",
    "                     (ds.nav_lon - lon_1) * (lat_2 - lat_1))\n",
    "                        \n",
    "    return position > 0.0, position < 0"
   ]
  },
  {
   "cell_type": "code",
   "execution_count": 19,
   "metadata": {},
   "outputs": [],
   "source": [
    "# do north and south separately because of missing values\n",
    "\n",
    "south = xr.Dataset()\n",
    "north = xr.Dataset()\n",
    "epsilon = 0.05\n",
    "for i in range(len(lonlat.lon)-1):\n",
    "    south['subsect'+str(i)],north['subsect'+str(i)] = apply_left_of_line(gridT,lonlat.lon[i+1],lonlat.lon[i],lonlat.lat[i+1]+epsilon,lonlat.lat[i]+epsilon)\n",
    "\n",
    "# check in osnap west \n",
    "south_ow,north_ow = apply_left_of_line(gridT,-44,-44,60,30)\n",
    "\n",
    "north_a = north.subsect0 * north.subsect1 * north.subsect2 \n",
    "north_b = north.subsect3 + north.subsect4 + north.subsect5\n",
    "north_all = north_ow * (north_a  + north_b)\n"
   ]
  },
  {
   "cell_type": "code",
   "execution_count": 20,
   "metadata": {},
   "outputs": [
    {
     "data": {
      "text/html": [
       "<pre>&lt;xarray.DataArray (y: 599, x: 600)&gt;\n",
       "array([[False, False, False, ..., False, False, False],\n",
       "       [False, False, False, ..., False, False, False],\n",
       "       [False, False, False, ..., False, False, False],\n",
       "       ...,\n",
       "       [ True,  True,  True, ..., False, False, False],\n",
       "       [ True,  True,  True, ..., False, False, False],\n",
       "       [ True,  True,  True, ..., False, False, False]])\n",
       "Coordinates:\n",
       "    nav_lat  (y, x) float32 49.362778 49.366142 49.369507 ... 68.5788 68.58419\n",
       "    nav_lon  (y, x) float32 -69.43258 -69.38294 ... -43.43564 -43.370003\n",
       "    dim_0    int64 1\n",
       "Dimensions without coordinates: y, x\n",
       "Attributes:\n",
       "    standard_name:  latitude\n",
       "    long_name:      Latitude\n",
       "    units:          degrees_north</pre>"
      ],
      "text/plain": [
       "<xarray.DataArray (y: 599, x: 600)>\n",
       "array([[False, False, False, ..., False, False, False],\n",
       "       [False, False, False, ..., False, False, False],\n",
       "       [False, False, False, ..., False, False, False],\n",
       "       ...,\n",
       "       [ True,  True,  True, ..., False, False, False],\n",
       "       [ True,  True,  True, ..., False, False, False],\n",
       "       [ True,  True,  True, ..., False, False, False]])\n",
       "Coordinates:\n",
       "    nav_lat  (y, x) float32 49.362778 49.366142 49.369507 ... 68.5788 68.58419\n",
       "    nav_lon  (y, x) float32 -69.43258 -69.38294 ... -43.43564 -43.370003\n",
       "    dim_0    int64 1\n",
       "Dimensions without coordinates: y, x\n",
       "Attributes:\n",
       "    standard_name:  latitude\n",
       "    long_name:      Latitude\n",
       "    units:          degrees_north"
      ]
     },
     "execution_count": 20,
     "metadata": {},
     "output_type": "execute_result"
    }
   ],
   "source": [
    "north_all.compute()"
   ]
  },
  {
   "cell_type": "markdown",
   "metadata": {},
   "source": [
    "### mask hudson bay at x = 100"
   ]
  },
  {
   "cell_type": "code",
   "execution_count": 21,
   "metadata": {},
   "outputs": [],
   "source": [
    "not_hudson = (gridT.x > 100).compute()"
   ]
  },
  {
   "cell_type": "code",
   "execution_count": 22,
   "metadata": {},
   "outputs": [],
   "source": [
    "gridT = gridT.rename_dims({'deptht':'z'})"
   ]
  },
  {
   "cell_type": "code",
   "execution_count": 23,
   "metadata": {},
   "outputs": [],
   "source": [
    "gridT_ls = gridT.where(north_all & not_hudson & (tmask > 0.5))"
   ]
  },
  {
   "cell_type": "code",
   "execution_count": 24,
   "metadata": {},
   "outputs": [
    {
     "data": {
      "text/html": [
       "<pre>&lt;xarray.Dataset&gt;\n",
       "Dimensions:               (axis_nbounds: 2, time_counter: 12, x: 600, y: 599, z: 46)\n",
       "Coordinates:\n",
       "    nav_lat               (y, x) float32 dask.array&lt;chunksize=(148, 424), meta=np.ndarray&gt;\n",
       "    nav_lon               (y, x) float32 dask.array&lt;chunksize=(148, 424), meta=np.ndarray&gt;\n",
       "    deptht                (z) float32 3.0467727 9.454049 ... 5624.9517 5875.141\n",
       "    time_centered         (time_counter) datetime64[ns] dask.array&lt;chunksize=(1,), meta=np.ndarray&gt;\n",
       "  * time_counter          (time_counter) datetime64[ns] 1990-01-16T12:00:00 ... 1990-12-16T12:00:00\n",
       "    dim_0                 int64 1\n",
       "Dimensions without coordinates: axis_nbounds, x, y, z\n",
       "Data variables:\n",
       "    deptht_bounds         (z, axis_nbounds, y, x) float32 dask.array&lt;chunksize=(1, 2, 148, 424), meta=np.ndarray&gt;\n",
       "    time_centered_bounds  (time_counter, axis_nbounds, y, x, z) datetime64[ns] dask.array&lt;chunksize=(1, 2, 148, 424, 1), meta=np.ndarray&gt;\n",
       "    time_counter_bounds   (time_counter, axis_nbounds, y, x, z) datetime64[ns] dask.array&lt;chunksize=(1, 2, 148, 424, 1), meta=np.ndarray&gt;\n",
       "    votemper              (time_counter, z, y, x) float32 dask.array&lt;chunksize=(1, 1, 148, 424), meta=np.ndarray&gt;\n",
       "    vosaline              (time_counter, z, y, x) float32 dask.array&lt;chunksize=(1, 1, 148, 424), meta=np.ndarray&gt;\n",
       "    sosstsst              (time_counter, y, x, z) float32 dask.array&lt;chunksize=(1, 148, 424, 1), meta=np.ndarray&gt;\n",
       "    sosaline              (time_counter, y, x, z) float32 dask.array&lt;chunksize=(1, 148, 424, 1), meta=np.ndarray&gt;\n",
       "    sossheig              (time_counter, y, x, z) float32 dask.array&lt;chunksize=(1, 148, 424, 1), meta=np.ndarray&gt;\n",
       "    somxl010              (time_counter, y, x, z) float32 dask.array&lt;chunksize=(1, 148, 424, 1), meta=np.ndarray&gt;\n",
       "    sowaflup              (time_counter, y, x, z) float32 dask.array&lt;chunksize=(1, 148, 424, 1), meta=np.ndarray&gt;\n",
       "    soshfldo              (time_counter, y, x, z) float32 dask.array&lt;chunksize=(1, 148, 424, 1), meta=np.ndarray&gt;\n",
       "    sohefldo              (time_counter, y, x, z) float32 dask.array&lt;chunksize=(1, 148, 424, 1), meta=np.ndarray&gt;\n",
       "    somixhgt              (time_counter, y, x, z) float32 dask.array&lt;chunksize=(1, 148, 424, 1), meta=np.ndarray&gt;\n",
       "    sowindsp              (time_counter, y, x, z) float32 dask.array&lt;chunksize=(1, 148, 424, 1), meta=np.ndarray&gt;\n",
       "    sohefldp              (time_counter, y, x, z) float32 dask.array&lt;chunksize=(1, 148, 424, 1), meta=np.ndarray&gt;\n",
       "    sowafldp              (time_counter, y, x, z) float32 dask.array&lt;chunksize=(1, 148, 424, 1), meta=np.ndarray&gt;\n",
       "    sobowlin              (time_counter, y, x, z) float32 dask.array&lt;chunksize=(1, 148, 424, 1), meta=np.ndarray&gt;\n",
       "Attributes:\n",
       "    name:                      1_VIKING20X.L46-KKG36107B_1d_19900101_19900704...\n",
       "    description:               ocean T grid variables\n",
       "    title:                     ocean T grid variables\n",
       "    Conventions:               CF-1.6\n",
       "    timeStamp:                 2019-Sep-09 21:00:09 GMT\n",
       "    uuid:                      6d2ef8ce-e19a-4cd5-9c73-ce86996a49da\n",
       "    history:                   Tue Sep 10 18:50:03 2019: ncrcat -O -F /gfs1/w...\n",
       "    NCO:                       4.4.8\n",
       "    nco_openmp_thread_number:  1</pre>"
      ],
      "text/plain": [
       "<xarray.Dataset>\n",
       "Dimensions:               (axis_nbounds: 2, time_counter: 12, x: 600, y: 599, z: 46)\n",
       "Coordinates:\n",
       "    nav_lat               (y, x) float32 dask.array<chunksize=(148, 424), meta=np.ndarray>\n",
       "    nav_lon               (y, x) float32 dask.array<chunksize=(148, 424), meta=np.ndarray>\n",
       "    deptht                (z) float32 3.0467727 9.454049 ... 5624.9517 5875.141\n",
       "    time_centered         (time_counter) datetime64[ns] dask.array<chunksize=(1,), meta=np.ndarray>\n",
       "  * time_counter          (time_counter) datetime64[ns] 1990-01-16T12:00:00 ... 1990-12-16T12:00:00\n",
       "    dim_0                 int64 1\n",
       "Dimensions without coordinates: axis_nbounds, x, y, z\n",
       "Data variables:\n",
       "    deptht_bounds         (z, axis_nbounds, y, x) float32 dask.array<chunksize=(1, 2, 148, 424), meta=np.ndarray>\n",
       "    time_centered_bounds  (time_counter, axis_nbounds, y, x, z) datetime64[ns] dask.array<chunksize=(1, 2, 148, 424, 1), meta=np.ndarray>\n",
       "    time_counter_bounds   (time_counter, axis_nbounds, y, x, z) datetime64[ns] dask.array<chunksize=(1, 2, 148, 424, 1), meta=np.ndarray>\n",
       "    votemper              (time_counter, z, y, x) float32 dask.array<chunksize=(1, 1, 148, 424), meta=np.ndarray>\n",
       "    vosaline              (time_counter, z, y, x) float32 dask.array<chunksize=(1, 1, 148, 424), meta=np.ndarray>\n",
       "    sosstsst              (time_counter, y, x, z) float32 dask.array<chunksize=(1, 148, 424, 1), meta=np.ndarray>\n",
       "    sosaline              (time_counter, y, x, z) float32 dask.array<chunksize=(1, 148, 424, 1), meta=np.ndarray>\n",
       "    sossheig              (time_counter, y, x, z) float32 dask.array<chunksize=(1, 148, 424, 1), meta=np.ndarray>\n",
       "    somxl010              (time_counter, y, x, z) float32 dask.array<chunksize=(1, 148, 424, 1), meta=np.ndarray>\n",
       "    sowaflup              (time_counter, y, x, z) float32 dask.array<chunksize=(1, 148, 424, 1), meta=np.ndarray>\n",
       "    soshfldo              (time_counter, y, x, z) float32 dask.array<chunksize=(1, 148, 424, 1), meta=np.ndarray>\n",
       "    sohefldo              (time_counter, y, x, z) float32 dask.array<chunksize=(1, 148, 424, 1), meta=np.ndarray>\n",
       "    somixhgt              (time_counter, y, x, z) float32 dask.array<chunksize=(1, 148, 424, 1), meta=np.ndarray>\n",
       "    sowindsp              (time_counter, y, x, z) float32 dask.array<chunksize=(1, 148, 424, 1), meta=np.ndarray>\n",
       "    sohefldp              (time_counter, y, x, z) float32 dask.array<chunksize=(1, 148, 424, 1), meta=np.ndarray>\n",
       "    sowafldp              (time_counter, y, x, z) float32 dask.array<chunksize=(1, 148, 424, 1), meta=np.ndarray>\n",
       "    sobowlin              (time_counter, y, x, z) float32 dask.array<chunksize=(1, 148, 424, 1), meta=np.ndarray>\n",
       "Attributes:\n",
       "    name:                      1_VIKING20X.L46-KKG36107B_1d_19900101_19900704...\n",
       "    description:               ocean T grid variables\n",
       "    title:                     ocean T grid variables\n",
       "    Conventions:               CF-1.6\n",
       "    timeStamp:                 2019-Sep-09 21:00:09 GMT\n",
       "    uuid:                      6d2ef8ce-e19a-4cd5-9c73-ce86996a49da\n",
       "    history:                   Tue Sep 10 18:50:03 2019: ncrcat -O -F /gfs1/w...\n",
       "    NCO:                       4.4.8\n",
       "    nco_openmp_thread_number:  1"
      ]
     },
     "execution_count": 24,
     "metadata": {},
     "output_type": "execute_result"
    }
   ],
   "source": [
    "gridT_ls"
   ]
  },
  {
   "cell_type": "code",
   "execution_count": 27,
   "metadata": {},
   "outputs": [
    {
     "data": {
      "text/plain": [
       "<matplotlib.collections.QuadMesh at 0x7f45c42d2e50>"
      ]
     },
     "execution_count": 27,
     "metadata": {},
     "output_type": "execute_result"
    },
    {
     "data": {
      "image/png": "[encoded data removed]",
      "text/plain": [
       "<Figure size 648x504 with 2 Axes>"
      ]
     },
     "metadata": {},
     "output_type": "display_data"
    }
   ],
   "source": [
    "gridT_ls.votemper.isel(z=0,time_counter=0).plot()"
   ]
  },
  {
   "cell_type": "markdown",
   "metadata": {},
   "source": [
    "### Use this apply_ufunc structure to find densities. Vectorizes the calculation and only calculates as required"
   ]
  },
  {
   "cell_type": "code",
   "execution_count": 48,
   "metadata": {},
   "outputs": [],
   "source": [
    "vosigma0 = xr.apply_ufunc(\n",
    "    sw.dens,\n",
    "    gridT_ls.vosaline,gridT_ls.votemper,0,\n",
    "    dask=\"parallelized\",\n",
    "    output_dtypes=[float, ]\n",
    ")\n",
    "vosigma0 = (vosigma0 - 1000.0).rename('vosigma0')\n"
   ]
  },
  {
   "cell_type": "code",
   "execution_count": 49,
   "metadata": {},
   "outputs": [
    {
     "data": {
      "text/html": [
       "<pre>&lt;xarray.DataArray &#x27;vosigma0&#x27; (time_counter: 12, z: 46, y: 599, x: 600)&gt;\n",
       "dask.array&lt;sub, shape=(12, 46, 599, 600), dtype=float64, chunksize=(1, 1, 256, 424), chunktype=numpy.ndarray&gt;\n",
       "Coordinates:\n",
       "    nav_lat        (y, x) float32 dask.array&lt;chunksize=(148, 424), meta=np.ndarray&gt;\n",
       "    nav_lon        (y, x) float32 dask.array&lt;chunksize=(148, 424), meta=np.ndarray&gt;\n",
       "    deptht         (z) float32 3.0467727 9.454049 ... 5624.9517 5875.141\n",
       "    time_centered  (time_counter) datetime64[ns] dask.array&lt;chunksize=(1,), meta=np.ndarray&gt;\n",
       "  * time_counter   (time_counter) datetime64[ns] 1990-01-16T12:00:00 ... 1990-12-16T12:00:00\n",
       "    dim_0          int64 1\n",
       "Dimensions without coordinates: z, y, x</pre>"
      ],
      "text/plain": [
       "<xarray.DataArray 'vosigma0' (time_counter: 12, z: 46, y: 599, x: 600)>\n",
       "dask.array<sub, shape=(12, 46, 599, 600), dtype=float64, chunksize=(1, 1, 256, 424), chunktype=numpy.ndarray>\n",
       "Coordinates:\n",
       "    nav_lat        (y, x) float32 dask.array<chunksize=(148, 424), meta=np.ndarray>\n",
       "    nav_lon        (y, x) float32 dask.array<chunksize=(148, 424), meta=np.ndarray>\n",
       "    deptht         (z) float32 3.0467727 9.454049 ... 5624.9517 5875.141\n",
       "    time_centered  (time_counter) datetime64[ns] dask.array<chunksize=(1,), meta=np.ndarray>\n",
       "  * time_counter   (time_counter) datetime64[ns] 1990-01-16T12:00:00 ... 1990-12-16T12:00:00\n",
       "    dim_0          int64 1\n",
       "Dimensions without coordinates: z, y, x"
      ]
     },
     "execution_count": 49,
     "metadata": {},
     "output_type": "execute_result"
    }
   ],
   "source": [
    "vosigma0"
   ]
  },
  {
   "cell_type": "code",
   "execution_count": 50,
   "metadata": {},
   "outputs": [],
   "source": [
    "surface_area = mesh_mask.e1t*mesh_mask.e2t"
   ]
  },
  {
   "cell_type": "markdown",
   "metadata": {},
   "source": [
    "## Modified this to account for surface height changes. I doubt it is significant."
   ]
  },
  {
   "cell_type": "code",
   "execution_count": 53,
   "metadata": {},
   "outputs": [],
   "source": [
    "def calculate_volumes_by_sigma0(surface_area,layer_depth,ssh,vosigma0):\n",
    "    \"\"\" Calculate surface heat fluxes binned on sigma layers\n",
    "\n",
    "    Parameters\n",
    "    ----------\n",
    "    heat_flux: xarray.DataArray\n",
    "        DataArray containing heat fluxes [Wm^{-2}]\n",
    "    surface_area: xarray.DataArray\n",
    "        DataArray containing gridbox surface areas [m^2]\n",
    "    sosigma0: xarray.DataArray\n",
    "        DataArray containing surface sigma0\n",
    "        \n",
    "    Returns\n",
    "    -------\n",
    "    heat_flux_sigma : xarray.Dataset\n",
    "        Dataset of shape (t,sigma)\n",
    "        \"t\" - time\n",
    "        \"sigma\" - density bins\n",
    "    surface_area_sigma : xarray.Dataset\n",
    "        Dataset of shape (t,sigma)\n",
    "        \"t\" - time\n",
    "        \"sigma\" - density bins\n",
    "\n",
    "    \"\"\"    \n",
    "    deltarho = 0.01\n",
    "    \n",
    "    sigbins = np.arange(10,28.0001, deltarho)\n",
    "\n",
    "    volume_by_sigma_base = histogram(vosigma0, bins=[sigbins], dim=[\"x\",\"y\",\"z\"], weights=surface_area * layer_depth)\n",
    "    volume_by_sigma_ssh = histogram(vosigma0.isel(z=0), bins=[sigbins], dim=[\"x\",\"y\"], weights=surface_area * ssh)\n",
    "    volume_by_sigma = volume_by_sigma_base + volume_by_sigma_ssh\n",
    "    volume_by_sigma.attrs[\"long_name\"]='volume'\n",
    "    volume_by_sigma.vosigma0_bin.attrs[\"long_name\"]= r\"$ \\sigma _\\theta $\"\n",
    "    volume_by_sigma.time_counter.attrs[\"long_name\"]= \"Date\"\n",
    "    volume_by_sigma.vosigma0_bin.attrs[\"units\"]= \"kg m$^{-3}$\"\n",
    "    volume_by_sigma.attrs[\"units\"]='m$^3$'\n",
    "    \n",
    "    return volume_by_sigma"
   ]
  },
  {
   "cell_type": "code",
   "execution_count": 54,
   "metadata": {},
   "outputs": [],
   "source": [
    "volume_by_sigma = calculate_volumes_by_sigma0(surface_area,mesh_mask.e3t_0,gridT.sossheig,vosigma0).compute()"
   ]
  },
  {
   "cell_type": "code",
   "execution_count": 55,
   "metadata": {},
   "outputs": [],
   "source": [
    "filename_output = 'volume_by_sigma_' + mean_period + '_' + yearstr + '.nc'\n",
    "volume_by_sigma.to_netcdf(path_data_output / filename_output)\n"
   ]
  },
  {
   "cell_type": "code",
   "execution_count": 59,
   "metadata": {},
   "outputs": [
    {
     "data": {
      "text/plain": [
       "[<matplotlib.lines.Line2D at 0x7f45ae5b5b90>]"
      ]
     },
     "execution_count": 59,
     "metadata": {},
     "output_type": "execute_result"
    },
    {
     "data": {
      "image/png": "[encoded data removed]",
      "text/plain": [
       "<Figure size 648x504 with 1 Axes>"
      ]
     },
     "metadata": {},
     "output_type": "display_data"
    }
   ],
   "source": [
    "(volume_by_sigma.isel(time_counter=11)-volume_by_sigma.isel(time_counter=0)).plot()"
   ]
  },
  {
   "cell_type": "code",
   "execution_count": 60,
   "metadata": {},
   "outputs": [
    {
     "name": "stdout",
     "output_type": "stream",
     "text": [
      "# packages in environment at /opt/tljh/user/envs/py3_euler_brokenline_2020.08.20.1:\n",
      "#\n",
      "# Name                    Version                   Build  Channel\n",
      "_libgcc_mutex             0.1                 conda_forge    conda-forge\n",
      "_openmp_mutex             4.5                       0_gnu    conda-forge\n",
      "asciitree                 0.3.3                      py_2    conda-forge\n",
      "attrs                     19.3.0                     py_0    conda-forge\n",
      "backcall                  0.1.0                      py_0    conda-forge\n",
      "basemap                   1.2.1            py37hd759880_1    conda-forge\n",
      "bleach                    3.1.0                      py_0    conda-forge\n",
      "blosc                     1.17.0               he1b5a44_1    conda-forge\n",
      "bokeh                     1.4.0                    py37_0    conda-forge\n",
      "boost-cpp                 1.70.0               h8e57a91_2    conda-forge\n",
      "bzip2                     1.0.8                h516909a_2    conda-forge\n",
      "ca-certificates           2019.11.28           hecc5488_0    conda-forge\n",
      "cairo                     1.16.0            hfb77d84_1002    conda-forge\n",
      "cartopy                   0.17.0          py37hd759880_1006    conda-forge\n",
      "certifi                   2019.11.28               py37_0    conda-forge\n",
      "cffi                      1.13.2           py37h8022711_0    conda-forge\n",
      "cfitsio                   3.470                hb60a0a2_2    conda-forge\n",
      "cftime                    1.0.4.2          py37hc1659b7_0    conda-forge\n",
      "chardet                   3.0.4                 py37_1003    conda-forge\n",
      "click                     7.0                        py_0    conda-forge\n",
      "click-plugins             1.1.1                      py_0    conda-forge\n",
      "cligj                     0.5.0                      py_0    conda-forge\n",
      "cloudpickle               1.2.2                      py_1    conda-forge\n",
      "cmocean                   2.0                        py_1    conda-forge\n",
      "colorcet                  2.0.1                      py_0    conda-forge\n",
      "colorspacious             1.1.2              pyh24bf2e0_0    conda-forge\n",
      "cryptography              2.8              py37h72c5cf5_1    conda-forge\n",
      "curl                      7.65.3               hf8cf82a_0    conda-forge\n",
      "cycler                    0.10.0                     py_2    conda-forge\n",
      "cytoolz                   0.10.1           py37h516909a_0    conda-forge\n",
      "dask                      2.9.2                      py_0    conda-forge\n",
      "dask-core                 2.9.2                      py_0    conda-forge\n",
      "datashader                0.9.0                      py_0    conda-forge\n",
      "datashape                 0.5.4                      py_1    conda-forge\n",
      "dbus                      1.13.6               he372182_0    conda-forge\n",
      "decorator                 4.4.1                      py_0    conda-forge\n",
      "defusedxml                0.6.0                      py_0    conda-forge\n",
      "distributed               2.9.3                      py_0    conda-forge\n",
      "docrep                    0.2.7                      py_0    conda-forge\n",
      "entrypoints               0.3                   py37_1000    conda-forge\n",
      "eofs                      1.4.0                      py_0    conda-forge\n",
      "expat                     2.2.5             he1b5a44_1004    conda-forge\n",
      "fasteners                 0.14.1                     py_3    conda-forge\n",
      "fiona                     1.8.6            py37hf242f0b_3    conda-forge\n",
      "fontconfig                2.13.1            h86ecdb6_1001    conda-forge\n",
      "freetype                  2.10.0               he983fc9_1    conda-forge\n",
      "freexl                    1.0.5             h14c3975_1002    conda-forge\n",
      "fsspec                    0.6.2                      py_0    conda-forge\n",
      "future                    0.18.2                   py37_0    conda-forge\n",
      "gdal                      2.4.1            py37h5f563d9_8    conda-forge\n",
      "geopandas                 0.6.2                      py_0    conda-forge\n",
      "geos                      3.7.2                he1b5a44_2    conda-forge\n",
      "geotiff                   1.4.3             hb6868eb_1001    conda-forge\n",
      "geoviews                  1.6.6                      py_0    conda-forge\n",
      "geoviews-core             1.6.6                      py_0    conda-forge\n",
      "gettext                   0.19.8.1          hc5be6a0_1002    conda-forge\n",
      "giflib                    5.1.7                h516909a_1    conda-forge\n",
      "glib                      2.58.3          py37h6f030ca_1002    conda-forge\n",
      "gst-plugins-base          1.14.5               h0935bb2_0    conda-forge\n",
      "gstreamer                 1.14.5               h36ae1b5_0    conda-forge\n",
      "gsw                       3.3.1            py37hc1659b7_1    conda-forge\n",
      "h5netcdf                  0.7.4                      py_0    conda-forge\n",
      "h5py                      2.10.0          nompi_py37h513d04c_101    conda-forge\n",
      "hdf4                      4.2.13            hf30be14_1003    conda-forge\n",
      "hdf5                      1.10.5          nompi_h3c11f04_1104    conda-forge\n",
      "heapdict                  1.0.1                      py_0    conda-forge\n",
      "holoviews                 1.12.7                     py_0    conda-forge\n",
      "hvplot                    0.5.2                      py_0    conda-forge\n",
      "icu                       64.2                 he1b5a44_1    conda-forge\n",
      "idna                      2.8                   py37_1000    conda-forge\n",
      "imageio                   2.6.1                    py37_0    conda-forge\n",
      "importlib_metadata        1.4.0                    py37_0    conda-forge\n",
      "ipykernel                 5.1.3            py37h5ca1d4c_0    conda-forge\n",
      "ipython                   7.11.1           py37h5ca1d4c_0    conda-forge\n",
      "ipython_genutils          0.2.0                      py_1    conda-forge\n",
      "ipywidgets                7.5.1                      py_0    conda-forge\n",
      "jedi                      0.15.2                   py37_0    conda-forge\n",
      "jinja2                    2.10.3                     py_0    conda-forge\n",
      "jpeg                      9c                h14c3975_1001    conda-forge\n",
      "json-c                    0.13.1            h14c3975_1001    conda-forge\n",
      "jsonschema                3.2.0                    py37_0    conda-forge\n",
      "jupyter                   1.0.0                      py_2    conda-forge\n",
      "jupyter_client            5.3.4                    py37_1    conda-forge\n",
      "jupyter_console           6.0.0                      py_0    conda-forge\n",
      "jupyter_core              4.6.1                    py37_0    conda-forge\n",
      "kealib                    1.4.10            h58c409b_1005    conda-forge\n",
      "kiwisolver                1.1.0            py37hc9558a2_0    conda-forge\n",
      "krb5                      1.16.4               h2fd8d38_0    conda-forge\n",
      "ld_impl_linux-64          2.33.1               h53a641e_7    conda-forge\n",
      "libblas                   3.8.0               14_openblas    conda-forge\n",
      "libcblas                  3.8.0               14_openblas    conda-forge\n",
      "libclang                  9.0.1           default_hde54327_0    conda-forge\n",
      "libcurl                   7.65.3               hda55be3_0    conda-forge\n",
      "libdap4                   3.20.4               hd3bb157_0    conda-forge\n",
      "libedit                   3.1.20170329      hf8c457e_1001    conda-forge\n",
      "libffi                    3.2.1             he1b5a44_1006    conda-forge\n",
      "libgcc-ng                 9.2.0                h24d8f2e_2    conda-forge\n",
      "libgdal                   2.4.1                heae24aa_8    conda-forge\n",
      "libgfortran-ng            7.3.0                hdf63c60_4    conda-forge\n",
      "libgomp                   9.2.0                h24d8f2e_2    conda-forge\n",
      "libiconv                  1.15              h516909a_1005    conda-forge\n",
      "libkml                    1.3.0             h4fcabce_1010    conda-forge\n",
      "liblapack                 3.8.0               14_openblas    conda-forge\n",
      "libllvm8                  8.0.1                hc9558a2_0    conda-forge\n",
      "libllvm9                  9.0.1                hc9558a2_0    conda-forge\n",
      "libnetcdf                 4.6.2             h303dfb8_1003    conda-forge\n",
      "libopenblas               0.3.7                h5ec1e0e_6    conda-forge\n",
      "libpng                    1.6.37               hed695b0_0    conda-forge\n",
      "libpq                     11.5                 hd9ab2ff_2    conda-forge\n",
      "libsodium                 1.0.17               h516909a_0    conda-forge\n",
      "libspatialindex           1.9.3                he1b5a44_1    conda-forge\n",
      "libspatialite             4.3.0a            h79dc798_1030    conda-forge\n",
      "libssh2                   1.8.2                h22169c7_2    conda-forge\n",
      "libstdcxx-ng              9.2.0                hdf63c60_2    conda-forge\n",
      "libtiff                   4.1.0                hc3755c2_3    conda-forge\n",
      "libuuid                   2.32.1            h14c3975_1000    conda-forge\n",
      "libxcb                    1.13              h14c3975_1002    conda-forge\n",
      "libxkbcommon              0.9.1                hebb1f50_0    conda-forge\n",
      "libxml2                   2.9.10               hee79883_0    conda-forge\n",
      "llvmlite                  0.31.0           py37h8b12597_0    conda-forge\n",
      "locket                    0.2.0                      py_2    conda-forge\n",
      "lz4                       3.0.2            py37hd79334b_0    conda-forge\n",
      "lz4-c                     1.8.3             he1b5a44_1001    conda-forge\n",
      "markupsafe                1.1.1            py37h516909a_0    conda-forge\n",
      "matplotlib                3.1.2                    py37_1    conda-forge\n",
      "matplotlib-base           3.1.2            py37h250f245_1    conda-forge\n",
      "mistune                   0.8.4           py37h516909a_1000    conda-forge\n",
      "monotonic                 1.5                        py_0    conda-forge\n",
      "more-itertools            8.1.0                      py_0    conda-forge\n",
      "msgpack-python            0.6.2            py37hc9558a2_0    conda-forge\n",
      "multipledispatch          0.6.0                      py_0    conda-forge\n",
      "munch                     2.5.0                      py_0    conda-forge\n",
      "nbconvert                 5.6.1                    py37_0    conda-forge\n",
      "nbformat                  5.0.3                      py_0    conda-forge\n",
      "ncurses                   6.1               hf484d3e_1002    conda-forge\n",
      "netcdf4                   1.5.1.2          py37h73a1b54_1    conda-forge\n",
      "networkx                  2.4                        py_0    conda-forge\n",
      "notebook                  6.0.2                    py37_0    conda-forge\n",
      "nspr                      4.24                 he1b5a44_0    conda-forge\n",
      "nss                       3.47                 he751ad9_0    conda-forge\n",
      "numba                     0.47.0           py37hb3f55d8_0    conda-forge\n",
      "numcodecs                 0.6.4            py37he1b5a44_0    conda-forge\n",
      "numpy                     1.17.5           py37h95a1406_0    conda-forge\n",
      "olefile                   0.46                       py_0    conda-forge\n",
      "openblas                  0.3.7                he1df0ab_6    conda-forge\n",
      "openjpeg                  2.3.1                h981e76c_3    conda-forge\n",
      "openssl                   1.1.1d               h516909a_0    conda-forge\n",
      "owslib                    0.19.0                     py_2    conda-forge\n",
      "packaging                 20.0                       py_0    conda-forge\n",
      "pandas                    0.25.3           py37hb3f55d8_0    conda-forge\n",
      "pandoc                    2.9.1.1                       0    conda-forge\n",
      "pandocfilters             1.4.2                      py_1    conda-forge\n",
      "param                     1.9.2                      py_0    conda-forge\n",
      "parso                     0.5.2                      py_0    conda-forge\n",
      "partd                     1.1.0                      py_0    conda-forge\n",
      "patsy                     0.5.1                      py_0    conda-forge\n",
      "pcre                      8.43                 he1b5a44_0    conda-forge\n",
      "pexpect                   4.7.0                    py37_0    conda-forge\n",
      "pickleshare               0.7.5                 py37_1000    conda-forge\n",
      "pillow                    7.0.0            py37hefe7db6_0    conda-forge\n",
      "pip                       19.3.1                   py37_0    conda-forge\n",
      "pixman                    0.38.0            h516909a_1003    conda-forge\n",
      "poppler                   0.67.0               h14e79db_8    conda-forge\n",
      "poppler-data              0.4.9                         1    conda-forge\n",
      "postgresql                11.5                 hc63931a_2    conda-forge\n",
      "proj4                     5.2.0             he1b5a44_1006    conda-forge\n",
      "prometheus_client         0.7.1                      py_0    conda-forge\n",
      "prompt_toolkit            2.0.10                     py_0    conda-forge\n",
      "psutil                    5.6.7            py37h516909a_0    conda-forge\n",
      "pthread-stubs             0.4               h14c3975_1001    conda-forge\n",
      "ptyprocess                0.6.0                   py_1001    conda-forge\n",
      "pycparser                 2.19                     py37_1    conda-forge\n",
      "pyct                      0.4.6                      py_0    conda-forge\n",
      "pyct-core                 0.4.6                      py_0    conda-forge\n",
      "pyepsg                    0.4.0                      py_0    conda-forge\n",
      "pygments                  2.5.2                      py_0    conda-forge\n",
      "pykdtree                  1.3.1           py37hc1659b7_1002    conda-forge\n",
      "pyopenssl                 19.1.0                   py37_0    conda-forge\n",
      "pyparsing                 2.4.6                      py_0    conda-forge\n",
      "pyproj                    1.9.6           py37h516909a_1002    conda-forge\n",
      "pyqt                      5.12.3           py37hcca6a23_1    conda-forge\n",
      "pyqt5-sip                 4.19.18                  pypi_0    pypi\n",
      "pyqtwebengine             5.12.1                   pypi_0    pypi\n",
      "pyrsistent                0.15.7           py37h516909a_0    conda-forge\n",
      "pyshp                     2.1.0                      py_0    conda-forge\n",
      "pysocks                   1.7.1                    py37_0    conda-forge\n",
      "pyspharm                  1.0.9           py37h7eb8c7e_1004    conda-forge\n",
      "python                    3.7.6                h357f687_2    conda-forge\n",
      "python-blosc              1.8.1            py37hf484d3e_0    conda-forge\n",
      "python-dateutil           2.8.1                      py_0    conda-forge\n",
      "python-wget               3.2                        py_0    conda-forge\n",
      "pytz                      2019.3                     py_0    conda-forge\n",
      "pyviz_comms               0.7.2                      py_0    conda-forge\n",
      "pywavelets                1.1.1            py37hc1659b7_0    conda-forge\n",
      "pyyaml                    5.3              py37h516909a_0    conda-forge\n",
      "pyzmq                     18.1.1           py37h1768529_0    conda-forge\n",
      "qt                        5.12.5               hd8c4c69_1    conda-forge\n",
      "qtconsole                 4.6.0                      py_0    conda-forge\n",
      "readline                  8.0                  hf8c457e_0    conda-forge\n",
      "requests                  2.22.0                   py37_1    conda-forge\n",
      "rtree                     0.9.3            py37h7b0cdae_0    conda-forge\n",
      "scikit-image              0.16.2           py37hb3f55d8_0    conda-forge\n",
      "scipy                     1.4.1            py37h921218d_0    conda-forge\n",
      "seaborn                   0.9.0                      py_2    conda-forge\n",
      "seawater                  3.3.4                      py_1    conda-forge\n",
      "send2trash                1.5.0                      py_0    conda-forge\n",
      "setuptools                45.1.0                   py37_0    conda-forge\n",
      "shapely                   1.6.4           py37hec07ddf_1006    conda-forge\n",
      "six                       1.14.0                   py37_0    conda-forge\n",
      "sortedcontainers          2.1.0                      py_0    conda-forge\n",
      "sparse                    0.8.0                      py_0    conda-forge\n",
      "sqlite                    3.30.1               hcee41ef_0    conda-forge\n",
      "statsmodels               0.10.2           py37hc1659b7_0    conda-forge\n",
      "tbb                       2018.0.5             h2d50403_0    conda-forge\n",
      "tblib                     1.6.0                      py_0    conda-forge\n",
      "terminado                 0.8.3                    py37_0    conda-forge\n",
      "testpath                  0.4.4                      py_0    conda-forge\n",
      "tiledb                    1.7.3                hcde45ca_0    conda-forge\n",
      "tiledb-py                 0.5.4            py37h1f275fc_0    conda-forge\n",
      "tk                        8.6.10               hed695b0_0    conda-forge\n",
      "toolz                     0.10.0                     py_0    conda-forge\n",
      "tornado                   6.0.3            py37h516909a_0    conda-forge\n",
      "traitlets                 4.3.3                    py37_0    conda-forge\n",
      "tzcode                    2019a             h516909a_1002    conda-forge\n",
      "urllib3                   1.25.7                   py37_0    conda-forge\n",
      "viscm                     0.7                pyh24bf2e0_0    conda-forge\n",
      "wcwidth                   0.1.8                      py_0    conda-forge\n",
      "webencodings              0.5.1                      py_1    conda-forge\n",
      "wheel                     0.33.6                   py37_0    conda-forge\n",
      "widgetsnbextension        3.5.1                    py37_0    conda-forge\n",
      "windspharm                1.7.0                 py37_1001    conda-forge\n",
      "xarray                    0.14.1                     py_1    conda-forge\n",
      "xerces-c                  3.2.2             h8412b87_1004    conda-forge\n",
      "xgcm                      0.2.0                      py_0    conda-forge\n",
      "xhistogram                0.1.1                      py_0    conda-forge\n",
      "xorca                     0.0.0                    pypi_0    pypi\n",
      "xorca-brokenline          1.1.0                    pypi_0    pypi\n",
      "xorca-lonlat2ij           0.0.0                    pypi_0    pypi\n",
      "xorg-kbproto              1.0.7             h14c3975_1002    conda-forge\n",
      "xorg-libice               1.0.10               h516909a_0    conda-forge\n",
      "xorg-libsm                1.2.3             h84519dc_1000    conda-forge\n",
      "xorg-libx11               1.6.9                h516909a_0    conda-forge\n",
      "xorg-libxau               1.0.9                h14c3975_0    conda-forge\n",
      "xorg-libxdmcp             1.1.3                h516909a_0    conda-forge\n",
      "xorg-libxext              1.3.4                h516909a_0    conda-forge\n",
      "xorg-libxrender           0.9.10            h516909a_1002    conda-forge\n",
      "xorg-renderproto          0.11.1            h14c3975_1002    conda-forge\n",
      "xorg-xextproto            7.3.0             h14c3975_1002    conda-forge\n",
      "xorg-xproto               7.0.31            h14c3975_1007    conda-forge\n",
      "xz                        5.2.4             h14c3975_1001    conda-forge\n",
      "yaml                      0.2.2                h516909a_1    conda-forge\n",
      "zarr                      2.4.0                      py_0    conda-forge\n",
      "zeromq                    4.3.2                he1b5a44_2    conda-forge\n",
      "zict                      1.0.0                      py_0    conda-forge\n",
      "zipp                      1.0.0                      py_0    conda-forge\n",
      "zlib                      1.2.11            h516909a_1006    conda-forge\n",
      "zstd                      1.4.4                h3b9ef0a_1    conda-forge\n",
      "\n",
      "Note: you may need to restart the kernel to use updated packages.\n"
     ]
    }
   ],
   "source": [
    "conda list"
   ]
  },
  {
   "cell_type": "code",
   "execution_count": null,
   "metadata": {},
   "outputs": [],
   "source": []
  }
 ],
 "metadata": {
  "kernelspec": {
   "display_name": "Python [conda env:py3_euler_brokenline_2020.08.20.1]",
   "language": "python",
   "name": "conda-env-py3_euler_brokenline_2020.08.20.1-py"
  },
  "language_info": {
   "codemirror_mode": {
    "name": "ipython",
    "version": 3
   },
   "file_extension": ".py",
   "mimetype": "text/x-python",
   "name": "python",
   "nbconvert_exporter": "python",
   "pygments_lexer": "ipython3",
   "version": "3.7.6"
  }
 },
 "nbformat": 4,
 "nbformat_minor": 4
}
