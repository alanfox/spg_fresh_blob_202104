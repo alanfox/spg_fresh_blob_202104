{
 "cells": [
  {
   "cell_type": "markdown",
   "id": "similar-potter",
   "metadata": {},
   "source": [
    "## Prepare papermill for schulung3.geomar.de\n",
    "\n",
    "    Make sure you have activated the correct kernel\n",
    "    Install kernel manually"
   ]
  },
  {
   "cell_type": "code",
   "execution_count": 1,
   "id": "manufactured-bidding",
   "metadata": {},
   "outputs": [
    {
     "name": "stdout",
     "output_type": "stream",
     "text": [
      "Installed kernelspec parcels-container_2021.09.29-09ab0ce in /home/jupyter-workshop007/.local/share/jupyter/kernels/parcels-container_2021.09.29-09ab0ce\n"
     ]
    }
   ],
   "source": [
    "!python -m ipykernel install --user --name parcels-container_2021.09.29-09ab0ce"
   ]
  },
  {
   "cell_type": "code",
   "execution_count": 2,
   "id": "spanish-spiritual",
   "metadata": {},
   "outputs": [
    {
     "name": "stdout",
     "output_type": "stream",
     "text": [
      "Available kernels:\n",
      "  parcels-container_2021.03.17-6c459b7    /home/jupyter-workshop007/.local/share/jupyter/kernels/parcels-container_2021.03.17-6c459b7\n",
      "  parcels-container_2021.09.29-09ab0ce    /home/jupyter-workshop007/.local/share/jupyter/kernels/parcels-container_2021.09.29-09ab0ce\n",
      "  py3_lagrange_v2.2.2                     /home/jupyter-workshop007/.local/share/jupyter/kernels/py3_lagrange_v2.2.2\n",
      "  python3                                 /opt/tljh/user/envs/parcels-container_2021.09.29-09ab0ce/share/jupyter/kernels/python3\n"
     ]
    }
   ],
   "source": [
    "!jupyter kernelspec list"
   ]
  },
  {
   "cell_type": "markdown",
   "id": "sonic-session",
   "metadata": {},
   "source": [
    "### Run papermill on schulung3.geomar.de"
   ]
  },
  {
   "cell_type": "code",
   "execution_count": 3,
   "id": "incomplete-knight",
   "metadata": {},
   "outputs": [
    {
     "name": "stderr",
     "output_type": "stream",
     "text": [
      "Input Notebook:  307_afox_trackendsandpaths_sumsandmeans_nonorth_final-Copy2.ipynb\n",
      "Output Notebook: ../executed/307_afox_fullstats/307_afox_trackendsandpaths_sumsandmeans_nonorth_final_2010.ipynb\n",
      "Generating grammar tables from /opt/tljh/user/envs/parcels-container_2021.09.29-09ab0ce/lib/python3.9/site-packages/blib2to3/Grammar.txt\n",
      "Writing grammar tables to /home/jupyter-workshop007/.cache/black/21.9b0/Grammar3.9.7.final.0.pickle\n",
      "Writing failed: [Errno 2] No such file or directory: '/home/jupyter-workshop007/.cache/black/21.9b0/tmpi5hmfro0'\n",
      "Generating grammar tables from /opt/tljh/user/envs/parcels-container_2021.09.29-09ab0ce/lib/python3.9/site-packages/blib2to3/PatternGrammar.txt\n",
      "Writing grammar tables to /home/jupyter-workshop007/.cache/black/21.9b0/PatternGrammar3.9.7.final.0.pickle\n",
      "Writing failed: [Errno 2] No such file or directory: '/home/jupyter-workshop007/.cache/black/21.9b0/tmpv5yzpzyc'\n",
      "Executing:   0%|          | 0/86 [00:00<?, ?cell/s]Executing notebook with kernel: parcels-container_2021.09.29-09ab0ce\n",
      "Executing: 100%|██████████| 86/86 [49:56<00:00, 34.85s/cell]   \n",
      "Input Notebook:  307_afox_trackendsandpaths_sumsandmeans_nonorth_final-Copy2.ipynb\n",
      "Output Notebook: ../executed/307_afox_fullstats/307_afox_trackendsandpaths_sumsandmeans_nonorth_final_2011.ipynb\n",
      "Generating grammar tables from /opt/tljh/user/envs/parcels-container_2021.09.29-09ab0ce/lib/python3.9/site-packages/blib2to3/Grammar.txt\n",
      "Writing grammar tables to /home/jupyter-workshop007/.cache/black/21.9b0/Grammar3.9.7.final.0.pickle\n",
      "Writing failed: [Errno 2] No such file or directory: '/home/jupyter-workshop007/.cache/black/21.9b0/tmp7qbvzwwi'\n",
      "Generating grammar tables from /opt/tljh/user/envs/parcels-container_2021.09.29-09ab0ce/lib/python3.9/site-packages/blib2to3/PatternGrammar.txt\n",
      "Writing grammar tables to /home/jupyter-workshop007/.cache/black/21.9b0/PatternGrammar3.9.7.final.0.pickle\n",
      "Writing failed: [Errno 2] No such file or directory: '/home/jupyter-workshop007/.cache/black/21.9b0/tmpcxynvdyc'\n",
      "Executing:   0%|          | 0/86 [00:00<?, ?cell/s]Executing notebook with kernel: parcels-container_2021.09.29-09ab0ce\n",
      "Executing: 100%|██████████| 86/86 [49:39<00:00, 34.64s/cell]   \n",
      "Input Notebook:  307_afox_trackendsandpaths_sumsandmeans_nonorth_final-Copy2.ipynb\n",
      "Output Notebook: ../executed/307_afox_fullstats/307_afox_trackendsandpaths_sumsandmeans_nonorth_final_2012.ipynb\n",
      "Generating grammar tables from /opt/tljh/user/envs/parcels-container_2021.09.29-09ab0ce/lib/python3.9/site-packages/blib2to3/Grammar.txt\n",
      "Writing grammar tables to /home/jupyter-workshop007/.cache/black/21.9b0/Grammar3.9.7.final.0.pickle\n",
      "Writing failed: [Errno 2] No such file or directory: '/home/jupyter-workshop007/.cache/black/21.9b0/tmpccqrh2z7'\n",
      "Generating grammar tables from /opt/tljh/user/envs/parcels-container_2021.09.29-09ab0ce/lib/python3.9/site-packages/blib2to3/PatternGrammar.txt\n",
      "Writing grammar tables to /home/jupyter-workshop007/.cache/black/21.9b0/PatternGrammar3.9.7.final.0.pickle\n",
      "Writing failed: [Errno 2] No such file or directory: '/home/jupyter-workshop007/.cache/black/21.9b0/tmp_2x94mte'\n",
      "Executing:   0%|          | 0/86 [00:00<?, ?cell/s]Executing notebook with kernel: parcels-container_2021.09.29-09ab0ce\n",
      "Executing: 100%|██████████| 86/86 [50:39<00:00, 35.34s/cell]   \n",
      "Input Notebook:  307_afox_trackendsandpaths_sumsandmeans_nonorth_final-Copy2.ipynb\n",
      "Output Notebook: ../executed/307_afox_fullstats/307_afox_trackendsandpaths_sumsandmeans_nonorth_final_2013.ipynb\n",
      "Generating grammar tables from /opt/tljh/user/envs/parcels-container_2021.09.29-09ab0ce/lib/python3.9/site-packages/blib2to3/Grammar.txt\n",
      "Writing grammar tables to /home/jupyter-workshop007/.cache/black/21.9b0/Grammar3.9.7.final.0.pickle\n",
      "Writing failed: [Errno 2] No such file or directory: '/home/jupyter-workshop007/.cache/black/21.9b0/tmpor5fjvoe'\n",
      "Generating grammar tables from /opt/tljh/user/envs/parcels-container_2021.09.29-09ab0ce/lib/python3.9/site-packages/blib2to3/PatternGrammar.txt\n",
      "Writing grammar tables to /home/jupyter-workshop007/.cache/black/21.9b0/PatternGrammar3.9.7.final.0.pickle\n",
      "Writing failed: [Errno 2] No such file or directory: '/home/jupyter-workshop007/.cache/black/21.9b0/tmp9t7ik2u4'\n",
      "Executing:   0%|          | 0/86 [00:00<?, ?cell/s]Executing notebook with kernel: parcels-container_2021.09.29-09ab0ce\n",
      "Executing: 100%|██████████| 86/86 [50:14<00:00, 35.05s/cell]   \n",
      "Input Notebook:  307_afox_trackendsandpaths_sumsandmeans_nonorth_final-Copy2.ipynb\n",
      "Output Notebook: ../executed/307_afox_fullstats/307_afox_trackendsandpaths_sumsandmeans_nonorth_final_2014.ipynb\n",
      "Generating grammar tables from /opt/tljh/user/envs/parcels-container_2021.09.29-09ab0ce/lib/python3.9/site-packages/blib2to3/Grammar.txt\n",
      "Writing grammar tables to /home/jupyter-workshop007/.cache/black/21.9b0/Grammar3.9.7.final.0.pickle\n",
      "Writing failed: [Errno 2] No such file or directory: '/home/jupyter-workshop007/.cache/black/21.9b0/tmp5scuotos'\n",
      "Generating grammar tables from /opt/tljh/user/envs/parcels-container_2021.09.29-09ab0ce/lib/python3.9/site-packages/blib2to3/PatternGrammar.txt\n",
      "Writing grammar tables to /home/jupyter-workshop007/.cache/black/21.9b0/PatternGrammar3.9.7.final.0.pickle\n",
      "Writing failed: [Errno 2] No such file or directory: '/home/jupyter-workshop007/.cache/black/21.9b0/tmp0qgoisdn'\n",
      "Executing:   0%|          | 0/86 [00:00<?, ?cell/s]Executing notebook with kernel: parcels-container_2021.09.29-09ab0ce\n",
      "Executing: 100%|██████████| 86/86 [49:34<00:00, 34.59s/cell]   \n",
      "Input Notebook:  307_afox_trackendsandpaths_sumsandmeans_nonorth_final-Copy2.ipynb\n",
      "Output Notebook: ../executed/307_afox_fullstats/307_afox_trackendsandpaths_sumsandmeans_nonorth_final_2015.ipynb\n",
      "Generating grammar tables from /opt/tljh/user/envs/parcels-container_2021.09.29-09ab0ce/lib/python3.9/site-packages/blib2to3/Grammar.txt\n",
      "Writing grammar tables to /home/jupyter-workshop007/.cache/black/21.9b0/Grammar3.9.7.final.0.pickle\n",
      "Writing failed: [Errno 2] No such file or directory: '/home/jupyter-workshop007/.cache/black/21.9b0/tmp77p14nso'\n",
      "Generating grammar tables from /opt/tljh/user/envs/parcels-container_2021.09.29-09ab0ce/lib/python3.9/site-packages/blib2to3/PatternGrammar.txt\n",
      "Writing grammar tables to /home/jupyter-workshop007/.cache/black/21.9b0/PatternGrammar3.9.7.final.0.pickle\n",
      "Writing failed: [Errno 2] No such file or directory: '/home/jupyter-workshop007/.cache/black/21.9b0/tmp2kob_46n'\n",
      "Executing:   0%|          | 0/86 [00:00<?, ?cell/s]Executing notebook with kernel: parcels-container_2021.09.29-09ab0ce\n",
      "Executing: 100%|██████████| 86/86 [50:11<00:00, 35.01s/cell]   \n",
      "Input Notebook:  307_afox_trackendsandpaths_sumsandmeans_nonorth_final-Copy2.ipynb\n",
      "Output Notebook: ../executed/307_afox_fullstats/307_afox_trackendsandpaths_sumsandmeans_nonorth_final_2016.ipynb\n",
      "Generating grammar tables from /opt/tljh/user/envs/parcels-container_2021.09.29-09ab0ce/lib/python3.9/site-packages/blib2to3/Grammar.txt\n",
      "Writing grammar tables to /home/jupyter-workshop007/.cache/black/21.9b0/Grammar3.9.7.final.0.pickle\n",
      "Writing failed: [Errno 2] No such file or directory: '/home/jupyter-workshop007/.cache/black/21.9b0/tmpo80rul62'\n",
      "Generating grammar tables from /opt/tljh/user/envs/parcels-container_2021.09.29-09ab0ce/lib/python3.9/site-packages/blib2to3/PatternGrammar.txt\n",
      "Writing grammar tables to /home/jupyter-workshop007/.cache/black/21.9b0/PatternGrammar3.9.7.final.0.pickle\n",
      "Writing failed: [Errno 2] No such file or directory: '/home/jupyter-workshop007/.cache/black/21.9b0/tmpcv4i2j5f'\n",
      "Executing:   0%|          | 0/86 [00:00<?, ?cell/s]Executing notebook with kernel: parcels-container_2021.09.29-09ab0ce\n",
      "Executing: 100%|██████████| 86/86 [51:13<00:00, 35.74s/cell]   \n",
      "Input Notebook:  307_afox_trackendsandpaths_sumsandmeans_nonorth_final-Copy2.ipynb\n",
      "Output Notebook: ../executed/307_afox_fullstats/307_afox_trackendsandpaths_sumsandmeans_nonorth_final_2017.ipynb\n",
      "Generating grammar tables from /opt/tljh/user/envs/parcels-container_2021.09.29-09ab0ce/lib/python3.9/site-packages/blib2to3/Grammar.txt\n",
      "Writing grammar tables to /home/jupyter-workshop007/.cache/black/21.9b0/Grammar3.9.7.final.0.pickle\n",
      "Writing failed: [Errno 2] No such file or directory: '/home/jupyter-workshop007/.cache/black/21.9b0/tmp1rwdaueq'\n",
      "Generating grammar tables from /opt/tljh/user/envs/parcels-container_2021.09.29-09ab0ce/lib/python3.9/site-packages/blib2to3/PatternGrammar.txt\n",
      "Writing grammar tables to /home/jupyter-workshop007/.cache/black/21.9b0/PatternGrammar3.9.7.final.0.pickle\n",
      "Writing failed: [Errno 2] No such file or directory: '/home/jupyter-workshop007/.cache/black/21.9b0/tmpwx6sbe94'\n",
      "Executing:   0%|          | 0/86 [00:00<?, ?cell/s]Executing notebook with kernel: parcels-container_2021.09.29-09ab0ce\n",
      "Executing: 100%|██████████| 86/86 [50:47<00:00, 35.44s/cell]   \n",
      "Input Notebook:  307_afox_trackendsandpaths_sumsandmeans_nonorth_final-Copy2.ipynb\n",
      "Output Notebook: ../executed/307_afox_fullstats/307_afox_trackendsandpaths_sumsandmeans_nonorth_final_2018.ipynb\n",
      "Generating grammar tables from /opt/tljh/user/envs/parcels-container_2021.09.29-09ab0ce/lib/python3.9/site-packages/blib2to3/Grammar.txt\n",
      "Writing grammar tables to /home/jupyter-workshop007/.cache/black/21.9b0/Grammar3.9.7.final.0.pickle\n",
      "Writing failed: [Errno 2] No such file or directory: '/home/jupyter-workshop007/.cache/black/21.9b0/tmpnu49s2gw'\n",
      "Generating grammar tables from /opt/tljh/user/envs/parcels-container_2021.09.29-09ab0ce/lib/python3.9/site-packages/blib2to3/PatternGrammar.txt\n",
      "Writing grammar tables to /home/jupyter-workshop007/.cache/black/21.9b0/PatternGrammar3.9.7.final.0.pickle\n",
      "Writing failed: [Errno 2] No such file or directory: '/home/jupyter-workshop007/.cache/black/21.9b0/tmpu43ho675'\n",
      "Executing:   0%|          | 0/86 [00:00<?, ?cell/s]Executing notebook with kernel: parcels-container_2021.09.29-09ab0ce\n",
      "Executing: 100%|██████████| 86/86 [50:57<00:00, 35.55s/cell]   \n",
      "Input Notebook:  307_afox_trackendsandpaths_sumsandmeans_nonorth_final-Copy2.ipynb\n",
      "Output Notebook: ../executed/307_afox_fullstats/307_afox_trackendsandpaths_sumsandmeans_nonorth_final_2019.ipynb\n",
      "Generating grammar tables from /opt/tljh/user/envs/parcels-container_2021.09.29-09ab0ce/lib/python3.9/site-packages/blib2to3/Grammar.txt\n",
      "Writing grammar tables to /home/jupyter-workshop007/.cache/black/21.9b0/Grammar3.9.7.final.0.pickle\n",
      "Writing failed: [Errno 2] No such file or directory: '/home/jupyter-workshop007/.cache/black/21.9b0/tmp93pl14s8'\n",
      "Generating grammar tables from /opt/tljh/user/envs/parcels-container_2021.09.29-09ab0ce/lib/python3.9/site-packages/blib2to3/PatternGrammar.txt\n",
      "Writing grammar tables to /home/jupyter-workshop007/.cache/black/21.9b0/PatternGrammar3.9.7.final.0.pickle\n",
      "Writing failed: [Errno 2] No such file or directory: '/home/jupyter-workshop007/.cache/black/21.9b0/tmpzwa5ktpk'\n",
      "Executing:   0%|          | 0/86 [00:00<?, ?cell/s]Executing notebook with kernel: parcels-container_2021.09.29-09ab0ce\n",
      "Executing: 100%|██████████| 86/86 [51:05<00:00, 35.64s/cell]   \n"
     ]
    }
   ],
   "source": [
    "%%bash\n",
    "\n",
    "for year in {2010..2019};\n",
    "do\n",
    "papermill 307_afox_trackendsandpaths_sumsandmeans_nonorth_final-Copy2.ipynb \\\n",
    "        ../executed/307_afox_fullstats/307_afox_trackendsandpaths_sumsandmeans_nonorth_final_${year}.ipynb \\\n",
    "        -p year $year \\\n",
    "        -p nsubsets 32 \\\n",
    "        -k parcels-container_2021.09.29-09ab0ce\n",
    "done\n",
    "\n"
   ]
  },
  {
   "cell_type": "code",
   "execution_count": null,
   "id": "posted-cheese",
   "metadata": {},
   "outputs": [],
   "source": []
  }
 ],
 "metadata": {
  "kernelspec": {
   "display_name": "Python [conda env:parcels-container_2021.09.29-09ab0ce]",
   "language": "python",
   "name": "conda-env-parcels-container_2021.09.29-09ab0ce-py"
  },
  "language_info": {
   "codemirror_mode": {
    "name": "ipython",
    "version": 3
   },
   "file_extension": ".py",
   "mimetype": "text/x-python",
   "name": "python",
   "nbconvert_exporter": "python",
   "pygments_lexer": "ipython3",
   "version": "3.9.7"
  }
 },
 "nbformat": 4,
 "nbformat_minor": 5
}
